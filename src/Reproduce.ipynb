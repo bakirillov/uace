{
 "cells": [
  {
   "cell_type": "code",
   "execution_count": 1,
   "id": "tight-plain",
   "metadata": {},
   "outputs": [],
   "source": [
    "import os\n",
    "import os.path as op\n",
    "from tqdm import tqdm"
   ]
  },
  {
   "cell_type": "markdown",
   "id": "rolled-peace",
   "metadata": {},
   "source": [
    "# Preparation"
   ]
  },
  {
   "cell_type": "markdown",
   "id": "contained-upper",
   "metadata": {},
   "source": [
    "1. Download the data and write the paths into Config.ipynb;\n",
    "2. Download the cas-offinder from http://www.rgenome.net/cas-offinder/portable and write the path into Config.ipynb, CASOFFINDERPATH field;\n",
    "3. Run Config.ipynb."
   ]
  },
  {
   "cell_type": "markdown",
   "id": "permanent-ability",
   "metadata": {},
   "source": [
    "### Data"
   ]
  },
  {
   "cell_type": "markdown",
   "id": "assumed-coach",
   "metadata": {},
   "source": [
    "The path names here correspond to variables in Config.ipynb:"
   ]
  },
  {
   "cell_type": "markdown",
   "id": "saving-james",
   "metadata": {},
   "source": [
    "JostEtAlDatasetPath - https://static-content.springer.com/esm/art%3A10.1038%2Fs41587-019-0387-5/MediaObjects/41587_2019_387_MOESM3_ESM.zip - Table_S8_machine_learning_input.txt     \n",
    "\n",
    "DEEPHFPATH - https://static-content.springer.com/esm/art%3A10.1038%2Fs41467-019-12281-8/MediaObjects/41467_2019_12281_MOESM3_ESM.xlsx\n",
    "\n",
    "T3619PATH - https://bioinfo.imtech.res.in/manojk/gecrispr/data/Training-Testing_dataset-T3619\n",
    "\n",
    "V520PATH - https://bioinfo.imtech.res.in/manojk/gecrispr/data/Validation_dataset-V520\n",
    "\n",
    "DeepCRISPRPath - https://static-content.springer.com/esm/art%3A10.1186%2Fs13059-018-1459-4/MediaObjects/13059_2018_1459_MOESM5_ESM.xlsx\n",
    "\n",
    "DeepCpf1KimPath - https://static-content.springer.com/esm/art%3A10.1038%2Fnbt.4061/MediaObjects/41587_2018_BFnbt4061_MOESM39_ESM.xlsx\n",
    "\n",
    "Cpf1OfftargetPath - https://static-content.springer.com/esm/art%3A10.1038%2Fnmeth.4104/MediaObjects/41592_2017_BFnmeth4104_MOESM88_ESM.xlsx\n",
    "\n",
    "PENGPATH - https://oup.silverchair-cdn.com/oup/backfile/Content_public/Journal/bioinformatics/34/17/10.1093_bioinformatics_bty558/2/bty558_supp.zip?Expires=1624603680&Signature=rbls4osUhp~BKbfZbVdUugvUHJfI2vbRRxCFbP89iN46X7vnE~GFD1LwMweuMafG8MHBVOyB4pCr-y2LDY0Xjb9fbeH31S7SorV93TRU8bEr-jKEcur-Cl1ZMH9bYOjX8d~SMwQAA7qEbP4zbK8WjwtDUayzUN7XmSRlknhm8dJUZKPsXWQ9F9iU2twVk6Pk2wo51~YUkkUJ-PtCzlmbyUeFvg43B44eSuTfhGlXF17nXcRzmn6UdTNqpOl4kSlIeT5ipPlZGxmwSHbEe64e-OC1Y0VXszrhbbG6BxlD9JKMYtLfTYG87MKS9EF1H6GTvNGkh1m2vI1su4pu1kcsaA__&Key-Pair-Id=APKAIE5G5CRDK6RD3PGA - Supplementary file 1"
   ]
  },
  {
   "cell_type": "markdown",
   "id": "nutritional-branch",
   "metadata": {},
   "source": [
    "Chr22_annotation and Chr22_genome - download the genomes as described in \"Description of genome analysis pipeline\"."
   ]
  },
  {
   "cell_type": "markdown",
   "id": "tired-pound",
   "metadata": {},
   "source": [
    "THISREPO - path to the current repository."
   ]
  },
  {
   "cell_type": "markdown",
   "id": "characteristic-corner",
   "metadata": {},
   "source": [
    "# Model training"
   ]
  },
  {
   "cell_type": "markdown",
   "id": "ordered-amendment",
   "metadata": {},
   "source": [
    "## DeepHF"
   ]
  },
  {
   "cell_type": "code",
   "execution_count": 5,
   "id": "outside-shirt",
   "metadata": {},
   "outputs": [],
   "source": [
    "s = \"python reproduce_DeepHF.py -d EFFECTOR -o OUTPUT -s SEED -m MODEL USE_MSE\""
   ]
  },
  {
   "cell_type": "code",
   "execution_count": 6,
   "id": "insured-output",
   "metadata": {},
   "outputs": [],
   "source": [
    "with open(\"reproduce_DeepHF.sh\", \"w\") as oh:\n",
    "    oh.write(\"#!/bin/sh\\n\")\n",
    "    for a in [\"WT\", \"eSpCas9\", \"SpCas9HF1\"]:\n",
    "        for b in [\"-u\", \"\"]:\n",
    "            for c in [\"CNN\", \"RNN\"]:\n",
    "                u = \"../models/DeepHF/\"+a+\"/\"+c+b\n",
    "                oh.write(\n",
    "                    s.replace(\"EFFECTOR\", a).replace(\n",
    "                        \"USE_MSE\", b\n",
    "                    ).replace(\"MODEL\", c).replace(\"SEED\", \"192\").replace(\"OUTPUT\", u)+\"\\n\"\n",
    "                )"
   ]
  },
  {
   "cell_type": "markdown",
   "id": "wireless-handy",
   "metadata": {},
   "source": [
    "## DeepCRISPR"
   ]
  },
  {
   "cell_type": "code",
   "execution_count": 12,
   "id": "settled-worthy",
   "metadata": {},
   "outputs": [],
   "source": [
    "s = \"python reproduce_DeepCRISPR.py -l LINE -o OUTPUT -m MODEL USE_MSE USE_LOCLO\""
   ]
  },
  {
   "cell_type": "code",
   "execution_count": 13,
   "id": "persistent-assistant",
   "metadata": {},
   "outputs": [],
   "source": [
    "with open(\"reproduce_DeepCRISPR.sh\", \"w\") as oh:\n",
    "    oh.write(\"#!/bin/sh\\n\")\n",
    "    for a in [\"hela\", \"hek293t\", \"hl60\", \"hct116\"]:\n",
    "        for b in [\"-u\", \"\"]:\n",
    "            for c in [\"CNN\", \"RNN\"]:\n",
    "                for d in [\"-v\", \"\"]:\n",
    "                    u = \"../models/DeepCRISPR/\"+a+\"/\"+c+b+d\n",
    "                    oh.write(\n",
    "                        s.replace(\"LINE\", a).replace(\n",
    "                            \"USE_MSE\", b\n",
    "                        ).replace(\"MODEL\", c).replace(\"USE_LOCLO\", d).replace(\"OUTPUT\", u)+\"\\n\"\n",
    "                    )"
   ]
  },
  {
   "cell_type": "markdown",
   "id": "subsequent-paint",
   "metadata": {},
   "source": [
    "## DeepCpf1 Kim et al Dataset"
   ]
  },
  {
   "cell_type": "code",
   "execution_count": 8,
   "id": "august-division",
   "metadata": {},
   "outputs": [],
   "source": [
    "s = \"python reproduce_DeepCpf1_Kim.py -o OUTPUT -m MODEL USE_MSE\""
   ]
  },
  {
   "cell_type": "code",
   "execution_count": 9,
   "id": "narrow-campbell",
   "metadata": {},
   "outputs": [],
   "source": [
    "with open(\"reproduce_DeepCpf1_Kim.sh\", \"w\") as oh:\n",
    "    oh.write(\"#!/bin/sh\\n\")\n",
    "    for b in [\"-u\", \"\"]:\n",
    "        for c in [\"CNN\", \"RNN\"]:\n",
    "            u = \"../models/DeepCpf1/\"+c+b\n",
    "            oh.write(\n",
    "                s.replace(\n",
    "                    \"USE_MSE\", b\n",
    "                ).replace(\"MODEL\", c).replace(\"OUTPUT\", u)+\"\\n\"\n",
    "            )"
   ]
  },
  {
   "cell_type": "markdown",
   "id": "earned-graphics",
   "metadata": {},
   "source": [
    "## geCRISPR"
   ]
  },
  {
   "cell_type": "code",
   "execution_count": 24,
   "id": "lightweight-checkout",
   "metadata": {},
   "outputs": [],
   "source": [
    "s = \"python reproduce_geCRISPR.py -o OUTPUT -m MODEL USE_MSE\""
   ]
  },
  {
   "cell_type": "code",
   "execution_count": 25,
   "id": "great-savannah",
   "metadata": {},
   "outputs": [],
   "source": [
    "with open(\"reproduce_geCRISPR.sh\", \"w\") as oh:\n",
    "    oh.write(\"#!/bin/sh\\n\")\n",
    "    for b in [\"-u\", \"\"]:\n",
    "        for c in [\"CNN\", \"RNN\"]:\n",
    "            u = \"../models/geCRISPR/\"+c+b\n",
    "            oh.write(\n",
    "                s.replace(\n",
    "                    \"USE_MSE\", b\n",
    "                ).replace(\"MODEL\", c).replace(\"OUTPUT\", u)+\"\\n\"\n",
    "            )"
   ]
  },
  {
   "cell_type": "markdown",
   "id": "retained-editor",
   "metadata": {},
   "source": [
    "## Jost Et Al"
   ]
  },
  {
   "cell_type": "code",
   "execution_count": 14,
   "id": "concrete-supply",
   "metadata": {},
   "outputs": [],
   "source": [
    "s = \"python reproduce_2d_models.py -d Cas9 -o OUTPUT USE_MSE\""
   ]
  },
  {
   "cell_type": "code",
   "execution_count": 15,
   "id": "practical-personality",
   "metadata": {},
   "outputs": [],
   "source": [
    "with open(\"reproduce_JostEtAl.sh\", \"w\") as oh:\n",
    "    oh.write(\"#!/bin/sh\\n\")\n",
    "    for b in [\"-u\", \"\"]:\n",
    "        u = \"../models/JostEtAl/model\"+c+b\n",
    "        oh.write(\n",
    "            s.replace(\n",
    "                \"USE_MSE\", b\n",
    "            ).replace(\"OUTPUT\", u)+\"\\n\"\n",
    "        )"
   ]
  },
  {
   "cell_type": "markdown",
   "id": "valuable-sender",
   "metadata": {},
   "source": [
    "## Cpf1 offtargets"
   ]
  },
  {
   "cell_type": "code",
   "execution_count": 17,
   "id": "twelve-stanley",
   "metadata": {},
   "outputs": [],
   "source": [
    "s = \"python reproduce_2d_models.py -d Cpf1 -o OUTPUT USE_MSE\""
   ]
  },
  {
   "cell_type": "code",
   "execution_count": 18,
   "id": "cross-chapel",
   "metadata": {},
   "outputs": [],
   "source": [
    "with open(\"reproduce_Cpf1_offtargets.sh\", \"w\") as oh:\n",
    "    oh.write(\"#!/bin/sh\\n\")\n",
    "    for b in [\"-u\", \"\"]:\n",
    "        u = \"../models/Cpf1_offtargets/model\"+b\n",
    "        oh.write(\n",
    "            s.replace(\n",
    "                \"USE_MSE\", b\n",
    "            ).replace(\"OUTPUT\", u)+\"\\n\"\n",
    "        )"
   ]
  },
  {
   "cell_type": "markdown",
   "id": "instant-seeking",
   "metadata": {},
   "source": [
    "## Chromosome 22 on-target"
   ]
  },
  {
   "cell_type": "code",
   "execution_count": 2,
   "id": "communist-colony",
   "metadata": {},
   "outputs": [],
   "source": [
    "models = [\n",
    "    (\"../models/DeepHF/WT/CNN59.ptch\", \"CNN\", \"Cas9\", \"../results/Chr22/DeepHF/WT\"),\n",
    "    (\"../models/DeepHF/WT/CNN-u59.ptch\", \"CNN\", \"Cas9\", \"../results/Chr22/DeepHF/WT\"),\n",
    "    (\"../models/DeepHF/WT/RNN59.ptch\", \"RNN\", \"Cas9\", \"../results/Chr22/DeepHF/WT\"),\n",
    "    (\"../models/DeepHF/WT/RNN-u59.ptch\", \"RNN\", \"Cas9\", \"../results/Chr22/DeepHF/WT\"),\n",
    "    (\"../models/DeepHF/eSpCas9/CNN59.ptch\", \"CNN\", \"Cas9\", \"../results/Chr22/DeepHF/eSpCas9\"),\n",
    "    (\"../models/DeepHF/eSpCas9/CNN-u59.ptch\", \"CNN\", \"Cas9\", \"../results/Chr22/DeepHF/eSpCas9\"),\n",
    "    (\"../models/DeepHF/eSpCas9/RNN59.ptch\", \"RNN\", \"Cas9\", \"../results/Chr22/DeepHF/eSpCas9\"),\n",
    "    (\"../models/DeepHF/eSpCas9/RNN-u59.ptch\", \"RNN\", \"Cas9\", \"../results/Chr22/DeepHF/eSpCas9\"),\n",
    "    (\"../models/DeepHF/SpCas9HF1/CNN59.ptch\", \"CNN\", \"Cas9\", \"../results/Chr22/DeepHF/SpCas9HF1\"),\n",
    "    (\"../models/DeepHF/SpCas9HF1/CNN-u59.ptch\", \"CNN\", \"Cas9\", \"../results/Chr22/DeepHF/SpCas9HF1\"),\n",
    "    (\"../models/DeepHF/SpCas9HF1/RNN59.ptch\", \"RNN\", \"Cas9\", \"../results/Chr22/DeepHF/SpCas9HF1\"),\n",
    "    (\"../models/DeepHF/SpCas9HF1/RNN-u59.ptch\", \"RNN\", \"Cas9\", \"../results/Chr22/DeepHF/SpCas9HF1\"),\n",
    "    (\"../models/geCRISPR/RNN-u59.ptch\", \"RNN\", \"Cas9\", \"../results/Chr22/geCRISPR\"),\n",
    "    (\"../models/geCRISPR/RNN59.ptch\", \"RNN\", \"Cas9\", \"../results/Chr22/geCRISPR\"),\n",
    "    (\"../models/geCRISPR/CNN-u59.ptch\", \"CNN\", \"Cas9\", \"../results/Chr22/geCRISPR\"),\n",
    "    (\"../models/geCRISPR/CNN59.ptch\", \"CNN\", \"Cas9\", \"../results/Chr22/geCRISPR\"),\n",
    "    (\"../models/JostEtAl/modelRNN59.ptch\", \"2D-CNN\", \"Cas9\", \"../results/Chr22/JostEtAl\"),\n",
    "    (\"../models/JostEtAl/modelRNN-u59.ptch\", \"2D-CNN\", \"Cas9\", \"../results/Chr22/JostEtAl\"),\n",
    "    (\"../models/Cpf1_offtargets/model59.ptch\", \"2D-CNN\", \"Cpf1\", \"../results/Chr22/Cas12OT\"),\n",
    "    (\"../models/Cpf1_offtargets/model-u59.ptch\", \"2D-CNN\", \"Cpf1\", \"../results/Chr22/Cas12OT\"),\n",
    "    (\"../models/DeepCpf1/CNN59.ptch\", \"CNN\", \"Cpf1\", \"../results/Chr22/DeepCpf1\"),\n",
    "    (\"../models/DeepCpf1/CNN-u59.ptch\", \"CNN\", \"Cpf1\", \"../results/Chr22/DeepCpf1\"),\n",
    "    (\"../models/DeepCpf1/RNN59.ptch\", \"RNN\", \"Cpf1\", \"../results/Chr22/DeepCpf1\"),\n",
    "    (\"../models/DeepCpf1/RNN-u59.ptch\", \"RNN\", \"Cpf1\", \"../results/Chr22/DeepCpf1\"),\n",
    "]"
   ]
  },
  {
   "cell_type": "code",
   "execution_count": 3,
   "id": "hollow-bulgarian",
   "metadata": {},
   "outputs": [],
   "source": [
    "s = \"python reproduce_Chr22.py -m MODEL -o OUTPUT -n 100 -e EFFECTOR -a ARCHITECTURE\"\n",
    "with open(\"reproduce_Chr22.sh\", \"w\") as oh:\n",
    "    oh.write(\"#!/bin/sh\\n\")\n",
    "    for m,a,e,o in models:\n",
    "        oh.write(\n",
    "            s.replace(\"MODEL\", m).replace(\"EFFECTOR\", e).replace(\"ARCHITECTURE\", a).replace(\"OUTPUT\", o)+\"\\n\"\n",
    "        )"
   ]
  },
  {
   "cell_type": "markdown",
   "id": "driven-agriculture",
   "metadata": {},
   "source": [
    "# Cleaning unnecessary files"
   ]
  },
  {
   "cell_type": "code",
   "execution_count": 7,
   "id": "advance-bolivia",
   "metadata": {},
   "outputs": [],
   "source": [
    "experiments = [a for a in os.walk(\"../models/\")][0][1]"
   ]
  },
  {
   "cell_type": "code",
   "execution_count": 8,
   "id": "contemporary-worst",
   "metadata": {},
   "outputs": [],
   "source": [
    "files = sum(\n",
    "    [[op.join(\"../models\", a, c) for c in [b for b in os.walk(op.join(\"../models\", a))][0][2]] for a in experiments],\n",
    "    []\n",
    ")"
   ]
  },
  {
   "cell_type": "code",
   "execution_count": 9,
   "id": "productive-runner",
   "metadata": {},
   "outputs": [],
   "source": [
    "model_checkpoints = list(filter(lambda x: \".json\" not in x, files))"
   ]
  },
  {
   "cell_type": "code",
   "execution_count": 10,
   "id": "reverse-lying",
   "metadata": {},
   "outputs": [
    {
     "name": "stderr",
     "output_type": "stream",
     "text": [
      "100%|██████████| 5572/5572 [00:15<00:00, 370.53it/s] \n"
     ]
    }
   ],
   "source": [
    "for a in tqdm(model_checkpoints):\n",
    "    if \"59\" not in a:\n",
    "        os.system(\"rm \"+a)"
   ]
  },
  {
   "cell_type": "code",
   "execution_count": 10,
   "id": "featured-aquatic",
   "metadata": {},
   "outputs": [],
   "source": [
    "experiments = [a for a in os.walk(\"../models/DeepCRISPR\")][0][1]"
   ]
  },
  {
   "cell_type": "code",
   "execution_count": 11,
   "id": "assisted-tooth",
   "metadata": {},
   "outputs": [],
   "source": [
    "files = sum(\n",
    "    [[op.join(\"../models/DeepCRISPR\", a, c) for c in [b for b in os.walk(op.join(\"../models/DeepCRISPR\", a))][0][2]] for a in experiments],\n",
    "    []\n",
    ")"
   ]
  },
  {
   "cell_type": "code",
   "execution_count": 12,
   "id": "ready-pasta",
   "metadata": {},
   "outputs": [],
   "source": [
    "model_checkpoints = list(filter(lambda x: \".json\" not in x, files))"
   ]
  },
  {
   "cell_type": "code",
   "execution_count": 13,
   "id": "mental-nursery",
   "metadata": {},
   "outputs": [
    {
     "name": "stderr",
     "output_type": "stream",
     "text": [
      "100%|██████████| 32/32 [00:00<00:00, 426088.03it/s]\n"
     ]
    }
   ],
   "source": [
    "for a in tqdm(model_checkpoints):\n",
    "    if \"59\" not in a:\n",
    "        os.system(\"rm \"+a)"
   ]
  },
  {
   "cell_type": "code",
   "execution_count": 18,
   "id": "eight-usage",
   "metadata": {},
   "outputs": [],
   "source": [
    "experiments = [a for a in os.walk(\"../models/DeepCRISPR_LC/\")][0][1]"
   ]
  },
  {
   "cell_type": "code",
   "execution_count": 19,
   "id": "functioning-metro",
   "metadata": {},
   "outputs": [],
   "source": [
    "files = sum(\n",
    "    [[op.join(\"../models/DeepCRISPR_LC\", a, c) for c in [b for b in os.walk(op.join(\"../models/DeepCRISPR_LC\", a))][0][2]] for a in experiments],\n",
    "    []\n",
    ")"
   ]
  },
  {
   "cell_type": "code",
   "execution_count": 20,
   "id": "cleared-connection",
   "metadata": {},
   "outputs": [],
   "source": [
    "model_checkpoints = list(filter(lambda x: \".json\" not in x, files))"
   ]
  },
  {
   "cell_type": "code",
   "execution_count": 21,
   "id": "earlier-trademark",
   "metadata": {},
   "outputs": [
    {
     "name": "stderr",
     "output_type": "stream",
     "text": [
      "100%|██████████| 10860/10860 [00:11<00:00, 905.73it/s] \n"
     ]
    }
   ],
   "source": [
    "for a in tqdm(model_checkpoints):\n",
    "    if \"59\" not in a:\n",
    "        os.system(\"rm \"+a)"
   ]
  },
  {
   "cell_type": "code",
   "execution_count": 3,
   "id": "collective-election",
   "metadata": {},
   "outputs": [],
   "source": [
    "experiments = [a for a in os.walk(\"../models/DeepHF\")][0][1]"
   ]
  },
  {
   "cell_type": "code",
   "execution_count": 4,
   "id": "restricted-partner",
   "metadata": {},
   "outputs": [],
   "source": [
    "files = sum(\n",
    "    [[op.join(\"../models/DeepHF\", a, c) for c in [b for b in os.walk(op.join(\"../models/DeepHF\", a))][0][2]] for a in experiments],\n",
    "    []\n",
    ")"
   ]
  },
  {
   "cell_type": "code",
   "execution_count": 5,
   "id": "respective-heater",
   "metadata": {},
   "outputs": [],
   "source": [
    "model_checkpoints = list(filter(lambda x: \".json\" not in x, files))"
   ]
  },
  {
   "cell_type": "code",
   "execution_count": 6,
   "id": "otherwise-mailman",
   "metadata": {},
   "outputs": [
    {
     "name": "stderr",
     "output_type": "stream",
     "text": [
      "100%|██████████| 74/74 [00:00<00:00, 285.73it/s]\n"
     ]
    }
   ],
   "source": [
    "for a in tqdm(model_checkpoints):\n",
    "    if \"59\" not in a:\n",
    "        os.system(\"rm \"+a)"
   ]
  },
  {
   "cell_type": "code",
   "execution_count": 14,
   "id": "allied-welcome",
   "metadata": {},
   "outputs": [],
   "source": [
    "experiments = [a for a in os.walk(\"../models/DeepHF_LC/\")][0][1]"
   ]
  },
  {
   "cell_type": "code",
   "execution_count": 15,
   "id": "cardiovascular-shore",
   "metadata": {},
   "outputs": [],
   "source": [
    "files = sum(\n",
    "    [[op.join(\"../models/DeepHF_LC\", a, c) for c in [b for b in os.walk(op.join(\"../models/DeepHF_LC\", a))][0][2]] for a in experiments],\n",
    "    []\n",
    ")"
   ]
  },
  {
   "cell_type": "code",
   "execution_count": 16,
   "id": "trained-rings",
   "metadata": {},
   "outputs": [],
   "source": [
    "model_checkpoints = list(filter(lambda x: \".json\" not in x, files))"
   ]
  },
  {
   "cell_type": "code",
   "execution_count": 17,
   "id": "unexpected-column",
   "metadata": {
    "scrolled": true
   },
   "outputs": [
    {
     "name": "stderr",
     "output_type": "stream",
     "text": [
      "100%|██████████| 41/41 [00:00<00:00, 634562.60it/s]\n"
     ]
    }
   ],
   "source": [
    "for a in tqdm(model_checkpoints):\n",
    "    if \"59\" not in a:\n",
    "        os.system(\"rm \"+a)"
   ]
  },
  {
   "cell_type": "markdown",
   "id": "severe-austria",
   "metadata": {},
   "source": [
    "# Learning curves"
   ]
  },
  {
   "cell_type": "markdown",
   "id": "varying-champion",
   "metadata": {},
   "source": [
    "Set the directory for learning curves beforehand:"
   ]
  },
  {
   "cell_type": "code",
   "execution_count": 4,
   "id": "fifteen-reference",
   "metadata": {},
   "outputs": [],
   "source": [
    "LCDIR = \"./results/LC/\""
   ]
  },
  {
   "cell_type": "code",
   "execution_count": 5,
   "id": "liked-christianity",
   "metadata": {},
   "outputs": [],
   "source": [
    "proportions = [0.05, 0.1, 0.2, 0.3, 0.4, 0.5, 0.6, 0.8, 0.9, 0.95, 0.99]\n",
    "models = [\n",
    "    \"DeepCpf1Kim\", \"DeepHFWt\", \"DeepHFeSpCas9\", \"DeepHFSpCas9HF1\", \n",
    "    \"Cas9_Offtarget\", \"Cpf1_Offtarget\"\n",
    "]\n",
    "command = \"python LC.py -d MODEL -p PROPORTIONS -f MODEL.sh -o OUTDIR\\n\""
   ]
  },
  {
   "cell_type": "code",
   "execution_count": 6,
   "id": "quantitative-thompson",
   "metadata": {},
   "outputs": [],
   "source": [
    "with open(\"reproduce_LC.sh\", \"w\") as oh:\n",
    "    oh.write(\"#!/bin/bash\\n\\n\\n\")\n",
    "    for a in models:\n",
    "        oh.write(\n",
    "            command.replace(\"MODEL\", a).replace(\n",
    "                \"PROPORTIONS\", \",\".join([str(b) for b in proportions])\n",
    "            ).replace(\"OUTDIR\", LCDIR)\n",
    "        )"
   ]
  },
  {
   "cell_type": "markdown",
   "id": "incoming-deposit",
   "metadata": {},
   "source": [
    "# The tables and figures"
   ]
  },
  {
   "cell_type": "markdown",
   "id": "brilliant-undergraduate",
   "metadata": {},
   "source": [
    "Now you can run the other .ipynb files to reproduce all figures and tables for the paper."
   ]
  }
 ],
 "metadata": {
  "kernelspec": {
   "display_name": "Python 3",
   "language": "python",
   "name": "python3"
  },
  "language_info": {
   "codemirror_mode": {
    "name": "ipython",
    "version": 3
   },
   "file_extension": ".py",
   "mimetype": "text/x-python",
   "name": "python",
   "nbconvert_exporter": "python",
   "pygments_lexer": "ipython3",
   "version": "3.8.8"
  }
 },
 "nbformat": 4,
 "nbformat_minor": 5
}
