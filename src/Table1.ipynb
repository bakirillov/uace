{
 "cells": [
  {
   "cell_type": "code",
   "execution_count": 65,
   "id": "innocent-geneva",
   "metadata": {},
   "outputs": [],
   "source": [
    "import os\n",
    "import json\n",
    "import argparse\n",
    "import numpy as np\n",
    "import pandas as pd\n",
    "import os.path as op\n",
    "from core import in_CI, rsquared\n",
    "from scipy.stats import spearmanr, pearsonr"
   ]
  },
  {
   "cell_type": "code",
   "execution_count": 66,
   "id": "governmental-bishop",
   "metadata": {},
   "outputs": [],
   "source": [
    "def Cas9_results(path):\n",
    "    with open(path, \"r\") as ih:\n",
    "        data = json.load(ih)\n",
    "    CI = in_CI(data[\"y\"], data[\"y_hat\"], data[\"y_hat_std\"]).mean()\n",
    "    pearson = pearsonr(data[\"y\"], data[\"y_hat\"])\n",
    "    spearman = spearmanr(data[\"y\"], data[\"y_hat\"])\n",
    "    rsq = rsquared(data[\"y\"], data[\"y_hat\"])\n",
    "    results = pd.DataFrame(CI).T\n",
    "    results[\"PCC\"] = [pearson[0]]\n",
    "    results[\"PCC-pval\"] = [pearson[1]]\n",
    "    results[\"SCC\"] = [spearman[0]]\n",
    "    results[\"SCC-pval\"] = [spearman[1]]\n",
    "    results[\"rsquared\"] = [rsq]\n",
    "    results.index = [path]\n",
    "    return(results)"
   ]
  },
  {
   "cell_type": "code",
   "execution_count": 67,
   "id": "handled-joining",
   "metadata": {},
   "outputs": [],
   "source": [
    "def DeepCpf1_results(path):\n",
    "    with open(path, \"r\") as ih:\n",
    "        data = json.load(ih)\n",
    "    r = []\n",
    "    for a in [\"H1\", \"H2\", \"H3\"]:\n",
    "        CI = in_CI(\n",
    "            data[\"y_\"+a], data[\"y_hat_\"+a], data[\"y_hat_std_\"+a]\n",
    "        ).mean()\n",
    "        pearson = pearsonr(data[\"y_\"+a], data[\"y_hat_\"+a])\n",
    "        spearman = spearmanr(data[\"y_\"+a], data[\"y_hat_\"+a])\n",
    "        rsq = rsquared(data[\"y_\"+a], data[\"y_hat_\"+a])\n",
    "        results = pd.DataFrame(CI).T\n",
    "        results[\"PCC\"] = [pearson[0]]\n",
    "        results[\"PCC-pval\"] = [pearson[1]]\n",
    "        results[\"SCC\"] = [spearman[0]]\n",
    "        results[\"SCC-pval\"] = [spearman[1]]\n",
    "        results[\"rsquared\"] = [rsq]\n",
    "        results.index = [path+\":\"+a]\n",
    "        r.append(results)\n",
    "    r = pd.concat(r)\n",
    "    return(r)"
   ]
  },
  {
   "cell_type": "code",
   "execution_count": 68,
   "id": "incomplete-profile",
   "metadata": {},
   "outputs": [],
   "source": [
    "model_folders = [op.join(\"../models/\", b) for b in [a for a in os.walk(\"../models\")][0][1]]\n",
    "model_folders = list(filter(lambda x: \"LC\" not in x, model_folders))\n",
    "deeper = sum(\n",
    "    list(\n",
    "        filter(\n",
    "            lambda x: len(x) != 0, \n",
    "            [[(op.join(a,c), a) for c in [b for b in os.walk(a)][0][1]] for a in model_folders]\n",
    "        )\n",
    "    ), []\n",
    ")\n",
    "model_folders = list(set(model_folders) - set([a[1] for a in deeper]))+[a[0] for a in deeper]"
   ]
  },
  {
   "cell_type": "code",
   "execution_count": 69,
   "id": "spatial-orbit",
   "metadata": {},
   "outputs": [],
   "source": [
    "model_files = sum([[op.join(a, c) for c in [b for b in os.walk(a)][0][2]] for a in model_folders], [])\n",
    "model_files = list(filter(lambda x: \".json\" in x, model_files))"
   ]
  },
  {
   "cell_type": "code",
   "execution_count": 70,
   "id": "necessary-grenada",
   "metadata": {},
   "outputs": [
    {
     "name": "stderr",
     "output_type": "stream",
     "text": [
      "/home/bakirillov/anaconda3/envs/lapki/lib/python3.8/site-packages/scipy/stats/stats.py:3913: PearsonRConstantInputWarning: An input array is constant; the correlation coefficent is not defined.\n",
      "  warnings.warn(PearsonRConstantInputWarning())\n",
      "/home/bakirillov/anaconda3/envs/lapki/lib/python3.8/site-packages/scipy/stats/stats.py:4264: SpearmanRConstantInputWarning: An input array is constant; the correlation coefficent is not defined.\n",
      "  warnings.warn(SpearmanRConstantInputWarning())\n"
     ]
    }
   ],
   "source": [
    "Cas9 = pd.concat([Cas9_results(a) for a in list(filter(lambda x: \"Cpf1\" not in x, model_files))])"
   ]
  },
  {
   "cell_type": "code",
   "execution_count": 71,
   "id": "funny-roman",
   "metadata": {},
   "outputs": [],
   "source": [
    "Cas12a = pd.concat([DeepCpf1_results(a) for a in list(filter(lambda x: \"DeepCpf1\" in x, model_files))])"
   ]
  },
  {
   "cell_type": "code",
   "execution_count": 72,
   "id": "compact-vitamin",
   "metadata": {},
   "outputs": [],
   "source": [
    "Cas12a_pair = pd.concat([Cas9_results(a) for a in list(filter(lambda x: \"offtargets\" in x, model_files))])"
   ]
  },
  {
   "cell_type": "code",
   "execution_count": 73,
   "id": "accessible-phrase",
   "metadata": {},
   "outputs": [],
   "source": [
    "Table1 = pd.concat([Cas9, Cas12a, Cas12a_pair])"
   ]
  },
  {
   "cell_type": "code",
   "execution_count": 74,
   "id": "comfortable-adaptation",
   "metadata": {},
   "outputs": [],
   "source": [
    "def readable_name(x):\n",
    "    x = x.replace(\"../\", \"\").replace(\"/\", \" \").replace(\"-u\", \" MSE\").replace(\".json\", \" ELBO\")\n",
    "    x = x.replace(\"models \", \"\")\n",
    "    x = x.replace(\"JostEtAl model\", \"Cas9 gRNA-target pair\")\n",
    "    x = x.replace(\"Cpf1_offtargets model\", \"Cas12a gRNA-target pair\")\n",
    "    return(x)"
   ]
  },
  {
   "cell_type": "code",
   "execution_count": 75,
   "id": "unlimited-pontiac",
   "metadata": {},
   "outputs": [],
   "source": [
    "Table1.index = [readable_name(a) for a in Table1.index]"
   ]
  },
  {
   "cell_type": "code",
   "execution_count": 76,
   "id": "pending-teens",
   "metadata": {},
   "outputs": [],
   "source": [
    "Table1 = Table1.sort_values(\"SCC\", ascending=False)"
   ]
  },
  {
   "cell_type": "code",
   "execution_count": 77,
   "id": "broke-entity",
   "metadata": {},
   "outputs": [],
   "source": [
    "Table1.index = list(\n",
    "    map(\n",
    "        lambda x: x.replace(\"CNN\", \"C\").replace(\"RNN\", \"R\").replace(\n",
    "            \"ELBO\", \"E\"\n",
    "        ).replace(\"MSE E\", \"E+M\"), \n",
    "        Table1.index.values\n",
    "    )\n",
    ")"
   ]
  },
  {
   "cell_type": "code",
   "execution_count": 78,
   "id": "fifth-sheffield",
   "metadata": {},
   "outputs": [],
   "source": [
    "Table1.to_excel(\"ST3.xlsx\")"
   ]
  },
  {
   "cell_type": "code",
   "execution_count": 79,
   "id": "moving-comparative",
   "metadata": {},
   "outputs": [],
   "source": [
    "Table1.to_csv(\"Table1.csv\")"
   ]
  }
 ],
 "metadata": {
  "kernelspec": {
   "display_name": "Python 3",
   "language": "python",
   "name": "python3"
  },
  "language_info": {
   "codemirror_mode": {
    "name": "ipython",
    "version": 3
   },
   "file_extension": ".py",
   "mimetype": "text/x-python",
   "name": "python",
   "nbconvert_exporter": "python",
   "pygments_lexer": "ipython3",
   "version": "3.8.8"
  }
 },
 "nbformat": 4,
 "nbformat_minor": 5
}
