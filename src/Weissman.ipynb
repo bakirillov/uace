{
 "cells": [
  {
   "cell_type": "code",
   "execution_count": 1,
   "metadata": {
    "scrolled": true
   },
   "outputs": [
    {
     "name": "stderr",
     "output_type": "stream",
     "text": [
      "/home/bakirillov/.local/lib/python3.7/site-packages/sklearn/externals/joblib/__init__.py:15: FutureWarning: sklearn.externals.joblib is deprecated in 0.21 and will be removed in 0.23. Please import this functionality directly from joblib, which can be installed with: pip install joblib. If this warning is raised when loading pickled models, you may need to re-serialize those models with scikit-learn 0.21+.\n",
      "  warnings.warn(msg, category=FutureWarning)\n",
      "/home/bakirillov/.local/lib/python3.7/site-packages/sklearn/utils/deprecation.py:144: FutureWarning: The sklearn.metrics.scorer module is  deprecated in version 0.22 and will be removed in version 0.24. The corresponding classes / functions should instead be imported from sklearn.metrics. Anything that cannot be imported from sklearn.metrics is now part of the private API.\n",
      "  warnings.warn(message, FutureWarning)\n",
      "/home/bakirillov/.local/lib/python3.7/site-packages/sklearn/utils/deprecation.py:144: FutureWarning: The sklearn.feature_selection.base module is  deprecated in version 0.22 and will be removed in version 0.24. The corresponding classes / functions should instead be imported from sklearn.feature_selection. Anything that cannot be imported from sklearn.feature_selection is now part of the private API.\n",
      "  warnings.warn(message, FutureWarning)\n"
     ]
    }
   ],
   "source": [
    "import os\n",
    "import umap\n",
    "import torch\n",
    "import itertools\n",
    "from core import *\n",
    "import numpy as np\n",
    "import pandas as pd\n",
    "import pickle as pkl\n",
    "from torch import nn\n",
    "import os.path as op\n",
    "from tqdm import tqdm\n",
    "from time import time\n",
    "from copy import deepcopy\n",
    "from torch.optim import Adam\n",
    "from tpot import TPOTRegressor\n",
    "import torch.nn.functional as F\n",
    "import matplotlib.pyplot as plt\n",
    "from capsules.capsules import *\n",
    "from IPython.display import Image\n",
    "from qhoptim.pyt import QHM, QHAdam\n",
    "from matplotlib.lines import Line2D\n",
    "from torch.autograd import Variable\n",
    "from matplotlib.patches import Patch\n",
    "from torch.optim.lr_scheduler import StepLR\n",
    "from scipy.stats import spearmanr, pearsonr\n",
    "from catboost import CatBoostRegressor, Pool, cv\n",
    "from sklearn.model_selection import train_test_split, StratifiedKFold\n",
    "from sklearn.metrics import mean_absolute_error, mean_squared_error, median_absolute_error\n",
    "from sklearn.metrics import accuracy_score, matthews_corrcoef, precision_score, recall_score"
   ]
  },
  {
   "cell_type": "code",
   "execution_count": 2,
   "metadata": {},
   "outputs": [],
   "source": [
    "from torchvision import models, transforms\n",
    "from torch.utils.data import DataLoader, Dataset"
   ]
  },
  {
   "cell_type": "code",
   "execution_count": 3,
   "metadata": {},
   "outputs": [],
   "source": [
    "import gpytorch\n",
    "from gpytorch.means import ConstantMean, LinearMean\n",
    "from gpytorch.models import ApproximateGP, ExactGP \n",
    "from sklearn.metrics import accuracy_score\n",
    "from gpytorch.priors import SmoothedBoxPrior\n",
    "from gpytorch.likelihoods import GaussianLikelihood\n",
    "from gpytorch.kernels import ScaleKernel, RBFKernel, GridInterpolationKernel\n",
    "from gpytorch.mlls import VariationalELBO, VariationalELBOEmpirical, DeepApproximateMLL\n",
    "from gpytorch.distributions import MultivariateNormal\n",
    "from gpytorch.variational import CholeskyVariationalDistribution\n",
    "from gpytorch.variational import VariationalStrategy\n",
    "from gpytorch.models.deep_gps import DeepGPLayer, DeepGP"
   ]
  },
  {
   "cell_type": "code",
   "execution_count": 4,
   "metadata": {},
   "outputs": [],
   "source": [
    "np.random.seed(99)\n",
    "torch.manual_seed(99)\n",
    "torch.cuda.manual_seed(99)"
   ]
  },
  {
   "cell_type": "markdown",
   "metadata": {},
   "source": [
    "### Load data"
   ]
  },
  {
   "cell_type": "code",
   "execution_count": 5,
   "metadata": {},
   "outputs": [],
   "source": [
    "data = pd.read_table(\n",
    "    \"/home/bakirillov/HDD/data/Svetlana_data/Table_S8_machine_learning_input.txt\", index_col=0\n",
    ")"
   ]
  },
  {
   "cell_type": "code",
   "execution_count": 6,
   "metadata": {},
   "outputs": [],
   "source": [
    "series = data['perfect match sgRNA']"
   ]
  },
  {
   "cell_type": "code",
   "execution_count": 7,
   "metadata": {},
   "outputs": [
    {
     "name": "stdout",
     "output_type": "stream",
     "text": [
      "series: (26248,)\n"
     ]
    }
   ],
   "source": [
    "print('series:', series.shape)"
   ]
  },
  {
   "cell_type": "code",
   "execution_count": 8,
   "metadata": {},
   "outputs": [],
   "source": [
    "val_series = np.random.choice(np.unique(series), size=int(len(np.unique(series))*.20), replace=False)\n",
    "val_indices = np.where(np.isin(series, val_series))\n",
    "train_indices = np.where(~np.isin(series, val_series))"
   ]
  },
  {
   "cell_type": "code",
   "execution_count": 9,
   "metadata": {},
   "outputs": [
    {
     "data": {
      "text/plain": [
       "'GTGAGGCGAGGCGGTGAGTGTGGC'"
      ]
     },
     "execution_count": 9,
     "metadata": {},
     "output_type": "execute_result"
    }
   ],
   "source": [
    "\"GTGAGGCGAGGCGGTGAGTG\"\n",
    "\"GTGAGGCGAGGCGGTGAGTGTGGC\""
   ]
  },
  {
   "cell_type": "code",
   "execution_count": 10,
   "metadata": {},
   "outputs": [
    {
     "data": {
      "text/plain": [
       "AAR2_-_34824434.23-P1P2_01    GTGAGGCGAGGCGGTGAGTG\n",
       "AAR2_-_34824434.23-P1P2_02    GTGGGACGAGGCGGTGAGTG\n",
       "AAR2_-_34824434.23-P1P2_03    GTGGGGGGAGGCGGTGAGTG\n",
       "AAR2_-_34824434.23-P1P2_04    GTGGGGCGAAGCGGTGAGTG\n",
       "AAR2_-_34824434.23-P1P2_05    GTGGGGCGACGCGGTGAGTG\n",
       "Name: sgRNA sequence, dtype: object"
      ]
     },
     "execution_count": 10,
     "metadata": {},
     "output_type": "execute_result"
    }
   ],
   "source": [
    "data[\"sgRNA sequence\"].head()"
   ]
  },
  {
   "cell_type": "code",
   "execution_count": 11,
   "metadata": {},
   "outputs": [
    {
     "data": {
      "text/plain": [
       "AAR2_-_34824434.23-P1P2_01    ACGTGAGGCGAGGCGGTGAGTGTGGC\n",
       "AAR2_-_34824434.23-P1P2_02    ACGTGGGACGAGGCGGTGAGTGTGGC\n",
       "AAR2_-_34824434.23-P1P2_03    ACGTGGGGGGAGGCGGTGAGTGTGGC\n",
       "AAR2_-_34824434.23-P1P2_04    ACGTGGGGCGAAGCGGTGAGTGTGGC\n",
       "AAR2_-_34824434.23-P1P2_05    ACGTGGGGCGACGCGGTGAGTGTGGC\n",
       "Name: sgRNA input, dtype: object"
      ]
     },
     "execution_count": 11,
     "metadata": {},
     "output_type": "execute_result"
    }
   ],
   "source": [
    "data[\"sgRNA input\"].head()"
   ]
  },
  {
   "cell_type": "code",
   "execution_count": 12,
   "metadata": {},
   "outputs": [
    {
     "data": {
      "text/plain": [
       "'ACGTGAGGCGAGGCGGTGAGTGTGGC'"
      ]
     },
     "execution_count": 12,
     "metadata": {},
     "output_type": "execute_result"
    }
   ],
   "source": [
    "data[\"sgRNA input\"][0]"
   ]
  },
  {
   "cell_type": "code",
   "execution_count": 13,
   "metadata": {},
   "outputs": [
    {
     "data": {
      "text/plain": [
       "'ACGTGGGGCGAGGCGGTGAGTGTGGC'"
      ]
     },
     "execution_count": 13,
     "metadata": {},
     "output_type": "execute_result"
    }
   ],
   "source": [
    "data[\"genome input\"][0]"
   ]
  },
  {
   "cell_type": "code",
   "execution_count": 14,
   "metadata": {},
   "outputs": [
    {
     "data": {
      "image/png": "[encoded data removed]",
      "text/plain": [
       "<Figure size 432x288 with 1 Axes>"
      ]
     },
     "metadata": {
      "needs_background": "light"
     },
     "output_type": "display_data"
    }
   ],
   "source": [
    "plt.imshow(correct_order(onehot('GTGAGGCGAGGCGGTGAGTGT')).reshape(4,21))\n",
    "plt.xticks(np.arange(21), \"GTGAGGCGAGGCGGTGAGTGT\")\n",
    "plt.yticks(np.arange(4), \"AGCT\")\n",
    "plt.ylim((-0.5,3.5))\n",
    "plt.show()"
   ]
  },
  {
   "cell_type": "code",
   "execution_count": 15,
   "metadata": {},
   "outputs": [
    {
     "data": {
      "image/png": "[encoded data removed]",
      "text/plain": [
       "<Figure size 432x288 with 1 Axes>"
      ]
     },
     "metadata": {
      "needs_background": "light"
     },
     "output_type": "display_data"
    }
   ],
   "source": [
    "plt.imshow(correct_order(onehot(\"GTGAGGCGAGGCGGTGAGTAT\")).reshape(4,21))\n",
    "plt.xticks(np.arange(21), \"GTGAGGCGAGGCGGTGAGTAT\")\n",
    "plt.yticks(np.arange(4), \"AGCT\")\n",
    "plt.ylim((-0.5,3.5))\n",
    "plt.show()"
   ]
  },
  {
   "cell_type": "code",
   "execution_count": 16,
   "metadata": {},
   "outputs": [],
   "source": [
    "u = ImperfectMatchTransform(\"NGG\", False, False, fold=False, cut_at_start=2, cut_at_end=1)"
   ]
  },
  {
   "cell_type": "code",
   "execution_count": 17,
   "metadata": {},
   "outputs": [],
   "source": [
    "transformer = transforms.Compose(\n",
    "    [\n",
    "        u, ToTensor(cudap=True)\n",
    "    ]\n",
    ")"
   ]
  },
  {
   "cell_type": "code",
   "execution_count": 18,
   "metadata": {},
   "outputs": [
    {
     "data": {
      "text/plain": [
       "26"
      ]
     },
     "execution_count": 18,
     "metadata": {},
     "output_type": "execute_result"
    }
   ],
   "source": [
    "len(data[\"sgRNA input\"][0])"
   ]
  },
  {
   "cell_type": "code",
   "execution_count": 19,
   "metadata": {},
   "outputs": [
    {
     "name": "stderr",
     "output_type": "stream",
     "text": [
      "/home/bakirillov/HDD/works/Skoltech/CRISPR_CAD/uace/core.py:883: SettingWithCopyWarning: \n",
      "A value is trying to be set on a copy of a slice from a DataFrame.\n",
      "Try using .loc[row_indexer,col_indexer] = value instead\n",
      "\n",
      "See the caveats in the documentation: https://pandas.pydata.org/pandas-docs/stable/user_guide/indexing.html#returning-a-view-versus-a-copy\n",
      "  self.S[self.label_column] = self.S[self.label_column] + np.abs(np.min(self.S[self.label_column]))\n",
      "/home/bakirillov/HDD/works/Skoltech/CRISPR_CAD/uace/core.py:884: SettingWithCopyWarning: \n",
      "A value is trying to be set on a copy of a slice from a DataFrame.\n",
      "Try using .loc[row_indexer,col_indexer] = value instead\n",
      "\n",
      "See the caveats in the documentation: https://pandas.pydata.org/pandas-docs/stable/user_guide/indexing.html#returning-a-view-versus-a-copy\n",
      "  self.S[self.label_column] = self.S[self.label_column].values/np.max(self.S[self.label_column])\n"
     ]
    }
   ],
   "source": [
    "train_set = WeissmanDataset(data, train_indices, transformer)\n",
    "val_set = WeissmanDataset(data, val_indices, transformer, n_bins=0)"
   ]
  },
  {
   "cell_type": "code",
   "execution_count": 20,
   "metadata": {},
   "outputs": [],
   "source": [
    "train_set_loader = DataLoader(train_set, shuffle=True, batch_size=256)\n",
    "val_set_loader = DataLoader(val_set, shuffle=True, batch_size=256)"
   ]
  },
  {
   "cell_type": "code",
   "execution_count": 21,
   "metadata": {},
   "outputs": [],
   "source": [
    "EPOCHS = 30"
   ]
  },
  {
   "cell_type": "code",
   "execution_count": 22,
   "metadata": {},
   "outputs": [
    {
     "name": "stdout",
     "output_type": "stream",
     "text": [
      "X train: 21007\n",
      "X validation: 5241\n"
     ]
    }
   ],
   "source": [
    "print('X train:', len(train_set))\n",
    "print('X validation:', len(val_set))"
   ]
  },
  {
   "cell_type": "markdown",
   "metadata": {},
   "source": [
    "### Model definition"
   ]
  },
  {
   "cell_type": "code",
   "execution_count": 23,
   "metadata": {},
   "outputs": [],
   "source": [
    "encoder = GuideHN2d(\n",
    "    23, capsule_dimension=32, n_routes=1600, n_classes=5, n_channels=2,\n",
    ").cuda()\n",
    "model = DKL(encoder, [1,5*32]).cuda().eval()"
   ]
  },
  {
   "cell_type": "code",
   "execution_count": 24,
   "metadata": {},
   "outputs": [],
   "source": [
    "optimizer = Adam([\n",
    "    {'params': model.parameters()}\n",
    "], lr=0.01)\n",
    "mll = DeepApproximateMLL(VariationalELBOEmpirical(model.likelihood, model, 256))"
   ]
  },
  {
   "cell_type": "code",
   "execution_count": 25,
   "metadata": {},
   "outputs": [],
   "source": [
    "scheduler = StepLR(optimizer, step_size=10, gamma=0.1)"
   ]
  },
  {
   "cell_type": "code",
   "execution_count": 26,
   "metadata": {
    "scrolled": true
   },
   "outputs": [
    {
     "name": "stderr",
     "output_type": "stream",
     "text": [
      "1it [00:00,  5.78it/s]"
     ]
    },
    {
     "name": "stdout",
     "output_type": "stream",
     "text": [
      "Training, epoch #0, 83\n"
     ]
    },
    {
     "name": "stderr",
     "output_type": "stream",
     "text": [
      "83it [00:12,  6.53it/s]\n",
      "/home/bakirillov/.local/lib/python3.7/site-packages/numpy/core/fromnumeric.py:3335: RuntimeWarning: Mean of empty slice.\n",
      "  out=out, **kwargs)\n",
      "/home/bakirillov/.local/lib/python3.7/site-packages/numpy/core/_methods.py:161: RuntimeWarning: invalid value encountered in double_scalars\n",
      "  ret = ret.dtype.type(ret / rcount)\n",
      "1it [00:00,  7.18it/s]"
     ]
    },
    {
     "name": "stdout",
     "output_type": "stream",
     "text": [
      "Training statistics: 0.956025881859229; 0.028222037132367785 (11321,)\n",
      "Validation, epoch #0, 21\n"
     ]
    },
    {
     "name": "stderr",
     "output_type": "stream",
     "text": [
      "21it [00:02,  7.40it/s]\n",
      "1it [00:00,  6.08it/s]"
     ]
    },
    {
     "name": "stdout",
     "output_type": "stream",
     "text": [
      "Validation statistics: 0.48260185; 0.027501898 (5199,) 0.00016011934789505325\n",
      "Training, epoch #1, 83\n"
     ]
    },
    {
     "name": "stderr",
     "output_type": "stream",
     "text": [
      "83it [00:12,  6.39it/s]\n",
      "/home/bakirillov/.local/lib/python3.7/site-packages/numpy/core/fromnumeric.py:3335: RuntimeWarning: Mean of empty slice.\n",
      "  out=out, **kwargs)\n",
      "/home/bakirillov/.local/lib/python3.7/site-packages/numpy/core/_methods.py:161: RuntimeWarning: invalid value encountered in double_scalars\n",
      "  ret = ret.dtype.type(ret / rcount)\n",
      "1it [00:00,  7.17it/s]"
     ]
    },
    {
     "name": "stdout",
     "output_type": "stream",
     "text": [
      "Training statistics: 0.2156603136978744; 0.022544732222656055 (20872,)\n",
      "Validation, epoch #1, 21\n"
     ]
    },
    {
     "name": "stderr",
     "output_type": "stream",
     "text": [
      "21it [00:02,  7.51it/s]\n",
      "1it [00:00,  6.29it/s]"
     ]
    },
    {
     "name": "stdout",
     "output_type": "stream",
     "text": [
      "Validation statistics: 0.010701778; 0.027311573 (5185,) 0.0014908479853007102\n",
      "Training, epoch #2, 83\n"
     ]
    },
    {
     "name": "stderr",
     "output_type": "stream",
     "text": [
      "83it [00:12,  6.47it/s]\n",
      "/home/bakirillov/.local/lib/python3.7/site-packages/numpy/core/fromnumeric.py:3335: RuntimeWarning: Mean of empty slice.\n",
      "  out=out, **kwargs)\n",
      "/home/bakirillov/.local/lib/python3.7/site-packages/numpy/core/_methods.py:161: RuntimeWarning: invalid value encountered in double_scalars\n",
      "  ret = ret.dtype.type(ret / rcount)\n",
      "1it [00:00,  7.14it/s]"
     ]
    },
    {
     "name": "stdout",
     "output_type": "stream",
     "text": [
      "Training statistics: -0.17284273466958056; 0.021739691587490756 (20926,)\n",
      "Validation, epoch #2, 21\n"
     ]
    },
    {
     "name": "stderr",
     "output_type": "stream",
     "text": [
      "21it [00:02,  7.35it/s]\n",
      "1it [00:00,  6.10it/s]"
     ]
    },
    {
     "name": "stdout",
     "output_type": "stream",
     "text": [
      "Validation statistics: -0.27507827; 0.024291595 (5239,) 0.12420078515635045\n",
      "Training, epoch #3, 83\n"
     ]
    },
    {
     "name": "stderr",
     "output_type": "stream",
     "text": [
      "83it [00:12,  6.45it/s]\n",
      "/home/bakirillov/.local/lib/python3.7/site-packages/numpy/core/fromnumeric.py:3335: RuntimeWarning: Mean of empty slice.\n",
      "  out=out, **kwargs)\n",
      "/home/bakirillov/.local/lib/python3.7/site-packages/numpy/core/_methods.py:161: RuntimeWarning: invalid value encountered in double_scalars\n",
      "  ret = ret.dtype.type(ret / rcount)\n",
      "1it [00:00,  7.17it/s]"
     ]
    },
    {
     "name": "stdout",
     "output_type": "stream",
     "text": [
      "Training statistics: -0.40937459700593953; 0.01959736912403163 (20973,)\n",
      "Validation, epoch #3, 21\n"
     ]
    },
    {
     "name": "stderr",
     "output_type": "stream",
     "text": [
      "21it [00:02,  7.54it/s]\n",
      "1it [00:00,  5.30it/s]"
     ]
    },
    {
     "name": "stdout",
     "output_type": "stream",
     "text": [
      "Validation statistics: -0.38301545; 0.02414729 (5239,) 0.13663582531966775\n",
      "Training, epoch #4, 83\n"
     ]
    },
    {
     "name": "stderr",
     "output_type": "stream",
     "text": [
      "83it [00:12,  6.43it/s]\n",
      "/home/bakirillov/.local/lib/python3.7/site-packages/numpy/core/fromnumeric.py:3335: RuntimeWarning: Mean of empty slice.\n",
      "  out=out, **kwargs)\n",
      "/home/bakirillov/.local/lib/python3.7/site-packages/numpy/core/_methods.py:161: RuntimeWarning: invalid value encountered in double_scalars\n",
      "  ret = ret.dtype.type(ret / rcount)\n",
      "1it [00:00,  7.15it/s]"
     ]
    },
    {
     "name": "stdout",
     "output_type": "stream",
     "text": [
      "Training statistics: -0.578588839185256; 0.015494253630295522 (20983,)\n",
      "Validation, epoch #4, 21\n"
     ]
    },
    {
     "name": "stderr",
     "output_type": "stream",
     "text": [
      "21it [00:02,  7.54it/s]\n",
      "1it [00:00,  6.38it/s]"
     ]
    },
    {
     "name": "stdout",
     "output_type": "stream",
     "text": [
      "Validation statistics: -0.49364844; 0.018952945 (5237,) 0.37609425450448525\n",
      "Training, epoch #5, 83\n"
     ]
    },
    {
     "name": "stderr",
     "output_type": "stream",
     "text": [
      "83it [00:13,  6.38it/s]\n",
      "/home/bakirillov/.local/lib/python3.7/site-packages/numpy/core/fromnumeric.py:3335: RuntimeWarning: Mean of empty slice.\n",
      "  out=out, **kwargs)\n",
      "/home/bakirillov/.local/lib/python3.7/site-packages/numpy/core/_methods.py:161: RuntimeWarning: invalid value encountered in double_scalars\n",
      "  ret = ret.dtype.type(ret / rcount)\n",
      "1it [00:00,  7.17it/s]"
     ]
    },
    {
     "name": "stdout",
     "output_type": "stream",
     "text": [
      "Training statistics: -0.7451514945750074; 0.011314543591285111 (20997,)\n",
      "Validation, epoch #5, 21\n"
     ]
    },
    {
     "name": "stderr",
     "output_type": "stream",
     "text": [
      "21it [00:02,  7.47it/s]\n",
      "1it [00:00,  5.30it/s]"
     ]
    },
    {
     "name": "stdout",
     "output_type": "stream",
     "text": [
      "Validation statistics: -0.21339682; 0.024932442 (5239,) 0.4223951968864599\n",
      "Training, epoch #6, 83\n"
     ]
    },
    {
     "name": "stderr",
     "output_type": "stream",
     "text": [
      "83it [00:13,  6.38it/s]\n",
      "/home/bakirillov/.local/lib/python3.7/site-packages/numpy/core/fromnumeric.py:3335: RuntimeWarning: Mean of empty slice.\n",
      "  out=out, **kwargs)\n",
      "/home/bakirillov/.local/lib/python3.7/site-packages/numpy/core/_methods.py:161: RuntimeWarning: invalid value encountered in double_scalars\n",
      "  ret = ret.dtype.type(ret / rcount)\n",
      "1it [00:00,  7.03it/s]"
     ]
    },
    {
     "name": "stdout",
     "output_type": "stream",
     "text": [
      "Training statistics: -0.810007437435718; 0.0102276147665531 (20986,)\n",
      "Validation, epoch #6, 21\n"
     ]
    },
    {
     "name": "stderr",
     "output_type": "stream",
     "text": [
      "21it [00:02,  7.36it/s]\n",
      "1it [00:00,  6.22it/s]"
     ]
    },
    {
     "name": "stdout",
     "output_type": "stream",
     "text": [
      "Validation statistics: -0.6418439; 0.013851312 (5240,) 0.5081364032114085\n",
      "Training, epoch #7, 83\n"
     ]
    },
    {
     "name": "stderr",
     "output_type": "stream",
     "text": [
      "83it [00:12,  6.47it/s]\n",
      "/home/bakirillov/.local/lib/python3.7/site-packages/numpy/core/fromnumeric.py:3335: RuntimeWarning: Mean of empty slice.\n",
      "  out=out, **kwargs)\n",
      "/home/bakirillov/.local/lib/python3.7/site-packages/numpy/core/_methods.py:161: RuntimeWarning: invalid value encountered in double_scalars\n",
      "  ret = ret.dtype.type(ret / rcount)\n",
      "1it [00:00,  7.18it/s]"
     ]
    },
    {
     "name": "stdout",
     "output_type": "stream",
     "text": [
      "Training statistics: -0.8251223930566511; 0.009943513350008319 (20991,)\n",
      "Validation, epoch #7, 21\n"
     ]
    },
    {
     "name": "stderr",
     "output_type": "stream",
     "text": [
      "21it [00:02,  7.64it/s]\n",
      "1it [00:00,  5.48it/s]"
     ]
    },
    {
     "name": "stdout",
     "output_type": "stream",
     "text": [
      "Validation statistics: -0.64309645; 0.013620742 (5240,) 0.5485520735646019\n",
      "Training, epoch #8, 83\n"
     ]
    },
    {
     "name": "stderr",
     "output_type": "stream",
     "text": [
      "83it [00:12,  6.50it/s]\n",
      "/home/bakirillov/.local/lib/python3.7/site-packages/numpy/core/fromnumeric.py:3335: RuntimeWarning: Mean of empty slice.\n",
      "  out=out, **kwargs)\n",
      "/home/bakirillov/.local/lib/python3.7/site-packages/numpy/core/_methods.py:161: RuntimeWarning: invalid value encountered in double_scalars\n",
      "  ret = ret.dtype.type(ret / rcount)\n",
      "1it [00:00,  7.24it/s]"
     ]
    },
    {
     "name": "stdout",
     "output_type": "stream",
     "text": [
      "Training statistics: -0.8541611918295495; 0.009388476663129497 (20984,)\n",
      "Validation, epoch #8, 21\n"
     ]
    },
    {
     "name": "stderr",
     "output_type": "stream",
     "text": [
      "21it [00:02,  7.12it/s]\n",
      "1it [00:00,  6.12it/s]"
     ]
    },
    {
     "name": "stdout",
     "output_type": "stream",
     "text": [
      "Validation statistics: -0.663223; 0.012932067 (5233,) 0.572814044330475\n",
      "Training, epoch #9, 83\n"
     ]
    },
    {
     "name": "stderr",
     "output_type": "stream",
     "text": [
      "83it [00:12,  6.42it/s]\n",
      "/home/bakirillov/.local/lib/python3.7/site-packages/numpy/core/fromnumeric.py:3335: RuntimeWarning: Mean of empty slice.\n",
      "  out=out, **kwargs)\n",
      "/home/bakirillov/.local/lib/python3.7/site-packages/numpy/core/_methods.py:161: RuntimeWarning: invalid value encountered in double_scalars\n",
      "  ret = ret.dtype.type(ret / rcount)\n",
      "1it [00:00,  6.85it/s]"
     ]
    },
    {
     "name": "stdout",
     "output_type": "stream",
     "text": [
      "Training statistics: -0.8605877106842743; 0.009342809391258568 (20992,)\n",
      "Validation, epoch #9, 21\n"
     ]
    },
    {
     "name": "stderr",
     "output_type": "stream",
     "text": [
      "21it [00:02,  7.30it/s]\n",
      "1it [00:00,  5.51it/s]"
     ]
    },
    {
     "name": "stdout",
     "output_type": "stream",
     "text": [
      "Validation statistics: -0.64340854; 0.013579979 (5236,) 0.5509997571230235\n",
      "Training, epoch #10, 83\n"
     ]
    },
    {
     "name": "stderr",
     "output_type": "stream",
     "text": [
      "83it [00:13,  6.32it/s]\n",
      "/home/bakirillov/.local/lib/python3.7/site-packages/numpy/core/fromnumeric.py:3335: RuntimeWarning: Mean of empty slice.\n",
      "  out=out, **kwargs)\n",
      "/home/bakirillov/.local/lib/python3.7/site-packages/numpy/core/_methods.py:161: RuntimeWarning: invalid value encountered in double_scalars\n",
      "  ret = ret.dtype.type(ret / rcount)\n",
      "1it [00:00,  6.86it/s]"
     ]
    },
    {
     "name": "stdout",
     "output_type": "stream",
     "text": [
      "Training statistics: -0.9015297812729598; 0.00856640803619646 (20972,)\n",
      "Validation, epoch #10, 21\n"
     ]
    },
    {
     "name": "stderr",
     "output_type": "stream",
     "text": [
      "21it [00:02,  7.10it/s]\n",
      "1it [00:00,  5.11it/s]"
     ]
    },
    {
     "name": "stdout",
     "output_type": "stream",
     "text": [
      "Validation statistics: -0.78897095; 0.010651327 (5238,) 0.616150179562434\n",
      "Training, epoch #11, 83\n"
     ]
    },
    {
     "name": "stderr",
     "output_type": "stream",
     "text": [
      "83it [00:12,  6.51it/s]\n",
      "/home/bakirillov/.local/lib/python3.7/site-packages/numpy/core/fromnumeric.py:3335: RuntimeWarning: Mean of empty slice.\n",
      "  out=out, **kwargs)\n",
      "/home/bakirillov/.local/lib/python3.7/site-packages/numpy/core/_methods.py:161: RuntimeWarning: invalid value encountered in double_scalars\n",
      "  ret = ret.dtype.type(ret / rcount)\n",
      "1it [00:00,  7.38it/s]"
     ]
    },
    {
     "name": "stdout",
     "output_type": "stream",
     "text": [
      "Training statistics: -0.9159926530747144; 0.00826601260094037 (20971,)\n",
      "Validation, epoch #11, 21\n"
     ]
    },
    {
     "name": "stderr",
     "output_type": "stream",
     "text": [
      "21it [00:02,  7.68it/s]\n",
      "1it [00:00,  6.38it/s]"
     ]
    },
    {
     "name": "stdout",
     "output_type": "stream",
     "text": [
      "Validation statistics: -0.79886216; 0.010493822 (5240,) 0.6219074715843453\n",
      "Training, epoch #12, 83\n"
     ]
    },
    {
     "name": "stderr",
     "output_type": "stream",
     "text": [
      "83it [00:12,  6.44it/s]\n",
      "/home/bakirillov/.local/lib/python3.7/site-packages/numpy/core/fromnumeric.py:3335: RuntimeWarning: Mean of empty slice.\n",
      "  out=out, **kwargs)\n",
      "/home/bakirillov/.local/lib/python3.7/site-packages/numpy/core/_methods.py:161: RuntimeWarning: invalid value encountered in double_scalars\n",
      "  ret = ret.dtype.type(ret / rcount)\n",
      "1it [00:00,  7.08it/s]"
     ]
    },
    {
     "name": "stdout",
     "output_type": "stream",
     "text": [
      "Training statistics: -0.9209641130918774; 0.008202011176368264 (20975,)\n",
      "Validation, epoch #12, 21\n"
     ]
    },
    {
     "name": "stderr",
     "output_type": "stream",
     "text": [
      "21it [00:02,  7.66it/s]\n",
      "1it [00:00,  5.83it/s]"
     ]
    },
    {
     "name": "stdout",
     "output_type": "stream",
     "text": [
      "Validation statistics: -0.78497225; 0.010670464 (5240,) 0.6204996132729238\n",
      "Training, epoch #13, 83\n"
     ]
    },
    {
     "name": "stderr",
     "output_type": "stream",
     "text": [
      "83it [00:12,  6.45it/s]\n",
      "/home/bakirillov/.local/lib/python3.7/site-packages/numpy/core/fromnumeric.py:3335: RuntimeWarning: Mean of empty slice.\n",
      "  out=out, **kwargs)\n",
      "/home/bakirillov/.local/lib/python3.7/site-packages/numpy/core/_methods.py:161: RuntimeWarning: invalid value encountered in double_scalars\n",
      "  ret = ret.dtype.type(ret / rcount)\n",
      "1it [00:00,  7.19it/s]"
     ]
    },
    {
     "name": "stdout",
     "output_type": "stream",
     "text": [
      "Training statistics: -0.9221195504674757; 0.00816908290542329 (20975,)\n",
      "Validation, epoch #13, 21\n"
     ]
    },
    {
     "name": "stderr",
     "output_type": "stream",
     "text": [
      "21it [00:02,  7.21it/s]\n",
      "1it [00:00,  6.08it/s]"
     ]
    },
    {
     "name": "stdout",
     "output_type": "stream",
     "text": [
      "Validation statistics: -0.7859161; 0.0106656505 (5238,) 0.6207542341482404\n",
      "Training, epoch #14, 83\n"
     ]
    },
    {
     "name": "stderr",
     "output_type": "stream",
     "text": [
      "83it [00:12,  6.40it/s]\n",
      "/home/bakirillov/.local/lib/python3.7/site-packages/numpy/core/fromnumeric.py:3335: RuntimeWarning: Mean of empty slice.\n",
      "  out=out, **kwargs)\n",
      "/home/bakirillov/.local/lib/python3.7/site-packages/numpy/core/_methods.py:161: RuntimeWarning: invalid value encountered in double_scalars\n",
      "  ret = ret.dtype.type(ret / rcount)\n",
      "1it [00:00,  7.08it/s]"
     ]
    },
    {
     "name": "stdout",
     "output_type": "stream",
     "text": [
      "Training statistics: -0.91728509656893; 0.008149290872140552 (20972,)\n",
      "Validation, epoch #14, 21\n"
     ]
    },
    {
     "name": "stderr",
     "output_type": "stream",
     "text": [
      "21it [00:02,  7.42it/s]\n",
      "1it [00:00,  6.45it/s]"
     ]
    },
    {
     "name": "stdout",
     "output_type": "stream",
     "text": [
      "Validation statistics: -0.77879155; 0.0107312985 (5240,) 0.6201662874885625\n",
      "Training, epoch #15, 83\n"
     ]
    },
    {
     "name": "stderr",
     "output_type": "stream",
     "text": [
      "83it [00:13,  6.38it/s]\n",
      "/home/bakirillov/.local/lib/python3.7/site-packages/numpy/core/fromnumeric.py:3335: RuntimeWarning: Mean of empty slice.\n",
      "  out=out, **kwargs)\n",
      "/home/bakirillov/.local/lib/python3.7/site-packages/numpy/core/_methods.py:161: RuntimeWarning: invalid value encountered in double_scalars\n",
      "  ret = ret.dtype.type(ret / rcount)\n",
      "1it [00:00,  7.06it/s]"
     ]
    },
    {
     "name": "stdout",
     "output_type": "stream",
     "text": [
      "Training statistics: -0.9295971911007286; 0.0081066128977533 (20968,)\n",
      "Validation, epoch #15, 21\n"
     ]
    },
    {
     "name": "stderr",
     "output_type": "stream",
     "text": [
      "21it [00:02,  7.42it/s]\n",
      "1it [00:00,  6.33it/s]"
     ]
    },
    {
     "name": "stdout",
     "output_type": "stream",
     "text": [
      "Validation statistics: -0.77529716; 0.010788048 (5239,) 0.6192778126637172\n",
      "Training, epoch #16, 83\n"
     ]
    },
    {
     "name": "stderr",
     "output_type": "stream",
     "text": [
      "83it [00:12,  6.40it/s]\n",
      "/home/bakirillov/.local/lib/python3.7/site-packages/numpy/core/fromnumeric.py:3335: RuntimeWarning: Mean of empty slice.\n",
      "  out=out, **kwargs)\n",
      "/home/bakirillov/.local/lib/python3.7/site-packages/numpy/core/_methods.py:161: RuntimeWarning: invalid value encountered in double_scalars\n",
      "  ret = ret.dtype.type(ret / rcount)\n",
      "1it [00:00,  6.78it/s]"
     ]
    },
    {
     "name": "stdout",
     "output_type": "stream",
     "text": [
      "Training statistics: -0.9280938578784148; 0.008052488289038392 (20968,)\n",
      "Validation, epoch #16, 21\n"
     ]
    },
    {
     "name": "stderr",
     "output_type": "stream",
     "text": [
      "21it [00:02,  7.36it/s]\n",
      "1it [00:00,  6.30it/s]"
     ]
    },
    {
     "name": "stdout",
     "output_type": "stream",
     "text": [
      "Validation statistics: -0.7840746; 0.010548206 (5240,) 0.6195677525323849\n",
      "Training, epoch #17, 83\n"
     ]
    },
    {
     "name": "stderr",
     "output_type": "stream",
     "text": [
      "83it [00:12,  6.39it/s]\n",
      "/home/bakirillov/.local/lib/python3.7/site-packages/numpy/core/fromnumeric.py:3335: RuntimeWarning: Mean of empty slice.\n",
      "  out=out, **kwargs)\n",
      "/home/bakirillov/.local/lib/python3.7/site-packages/numpy/core/_methods.py:161: RuntimeWarning: invalid value encountered in double_scalars\n",
      "  ret = ret.dtype.type(ret / rcount)\n",
      "1it [00:00,  7.25it/s]"
     ]
    },
    {
     "name": "stdout",
     "output_type": "stream",
     "text": [
      "Training statistics: -0.93077628452588; 0.00804616643993955 (20978,)\n",
      "Validation, epoch #17, 21\n"
     ]
    },
    {
     "name": "stderr",
     "output_type": "stream",
     "text": [
      "21it [00:02,  7.59it/s]\n",
      "1it [00:00,  6.40it/s]"
     ]
    },
    {
     "name": "stdout",
     "output_type": "stream",
     "text": [
      "Validation statistics: -0.7987744; 0.010417797 (5238,) 0.6245445894603928\n",
      "Training, epoch #18, 83\n"
     ]
    },
    {
     "name": "stderr",
     "output_type": "stream",
     "text": [
      "83it [00:12,  6.44it/s]\n",
      "/home/bakirillov/.local/lib/python3.7/site-packages/numpy/core/fromnumeric.py:3335: RuntimeWarning: Mean of empty slice.\n",
      "  out=out, **kwargs)\n",
      "/home/bakirillov/.local/lib/python3.7/site-packages/numpy/core/_methods.py:161: RuntimeWarning: invalid value encountered in double_scalars\n",
      "  ret = ret.dtype.type(ret / rcount)\n",
      "1it [00:00,  7.15it/s]"
     ]
    },
    {
     "name": "stdout",
     "output_type": "stream",
     "text": [
      "Training statistics: -0.9367670497907098; 0.00798080438748638 (20969,)\n",
      "Validation, epoch #18, 21\n"
     ]
    },
    {
     "name": "stderr",
     "output_type": "stream",
     "text": [
      "21it [00:02,  7.51it/s]\n",
      "1it [00:00,  5.64it/s]"
     ]
    },
    {
     "name": "stdout",
     "output_type": "stream",
     "text": [
      "Validation statistics: -0.78893906; 0.010512538 (5236,) 0.6251298624914002\n",
      "Training, epoch #19, 83\n"
     ]
    },
    {
     "name": "stderr",
     "output_type": "stream",
     "text": [
      "83it [00:12,  6.43it/s]\n",
      "/home/bakirillov/.local/lib/python3.7/site-packages/numpy/core/fromnumeric.py:3335: RuntimeWarning: Mean of empty slice.\n",
      "  out=out, **kwargs)\n",
      "/home/bakirillov/.local/lib/python3.7/site-packages/numpy/core/_methods.py:161: RuntimeWarning: invalid value encountered in double_scalars\n",
      "  ret = ret.dtype.type(ret / rcount)\n",
      "1it [00:00,  7.20it/s]"
     ]
    },
    {
     "name": "stdout",
     "output_type": "stream",
     "text": [
      "Training statistics: -0.926659148151407; 0.008010129948728325 (20986,)\n",
      "Validation, epoch #19, 21\n"
     ]
    },
    {
     "name": "stderr",
     "output_type": "stream",
     "text": [
      "21it [00:02,  7.49it/s]\n",
      "1it [00:00,  6.35it/s]"
     ]
    },
    {
     "name": "stdout",
     "output_type": "stream",
     "text": [
      "Validation statistics: -0.7783618; 0.010549394 (5238,) 0.6215791162886711\n",
      "Training, epoch #20, 83\n"
     ]
    },
    {
     "name": "stderr",
     "output_type": "stream",
     "text": [
      "83it [00:12,  6.43it/s]\n",
      "/home/bakirillov/.local/lib/python3.7/site-packages/numpy/core/fromnumeric.py:3335: RuntimeWarning: Mean of empty slice.\n",
      "  out=out, **kwargs)\n",
      "/home/bakirillov/.local/lib/python3.7/site-packages/numpy/core/_methods.py:161: RuntimeWarning: invalid value encountered in double_scalars\n",
      "  ret = ret.dtype.type(ret / rcount)\n",
      "1it [00:00,  7.07it/s]"
     ]
    },
    {
     "name": "stdout",
     "output_type": "stream",
     "text": [
      "Training statistics: -0.9435537962548789; 0.007875173492913702 (20964,)\n",
      "Validation, epoch #20, 21\n"
     ]
    },
    {
     "name": "stderr",
     "output_type": "stream",
     "text": [
      "21it [00:02,  7.48it/s]\n",
      "1it [00:00,  5.32it/s]"
     ]
    },
    {
     "name": "stdout",
     "output_type": "stream",
     "text": [
      "Validation statistics: -0.7934275; 0.010423912 (5238,) 0.6250511490046026\n",
      "Training, epoch #21, 83\n"
     ]
    },
    {
     "name": "stderr",
     "output_type": "stream",
     "text": [
      "83it [00:12,  6.39it/s]\n",
      "/home/bakirillov/.local/lib/python3.7/site-packages/numpy/core/fromnumeric.py:3335: RuntimeWarning: Mean of empty slice.\n",
      "  out=out, **kwargs)\n",
      "/home/bakirillov/.local/lib/python3.7/site-packages/numpy/core/_methods.py:161: RuntimeWarning: invalid value encountered in double_scalars\n",
      "  ret = ret.dtype.type(ret / rcount)\n",
      "1it [00:00,  7.31it/s]"
     ]
    },
    {
     "name": "stdout",
     "output_type": "stream",
     "text": [
      "Training statistics: -0.9459855565137003; 0.007851077114970559 (20959,)\n",
      "Validation, epoch #21, 21\n"
     ]
    },
    {
     "name": "stderr",
     "output_type": "stream",
     "text": [
      "21it [00:02,  7.40it/s]\n",
      "1it [00:00,  6.47it/s]"
     ]
    },
    {
     "name": "stdout",
     "output_type": "stream",
     "text": [
      "Validation statistics: -0.7965018; 0.010373073 (5236,) 0.6250280939175904\n",
      "Training, epoch #22, 83\n"
     ]
    },
    {
     "name": "stderr",
     "output_type": "stream",
     "text": [
      "83it [00:12,  6.44it/s]\n",
      "/home/bakirillov/.local/lib/python3.7/site-packages/numpy/core/fromnumeric.py:3335: RuntimeWarning: Mean of empty slice.\n",
      "  out=out, **kwargs)\n",
      "/home/bakirillov/.local/lib/python3.7/site-packages/numpy/core/_methods.py:161: RuntimeWarning: invalid value encountered in double_scalars\n",
      "  ret = ret.dtype.type(ret / rcount)\n",
      "1it [00:00,  7.20it/s]"
     ]
    },
    {
     "name": "stdout",
     "output_type": "stream",
     "text": [
      "Training statistics: -0.9444000339871688; 0.007803120342931343 (20958,)\n",
      "Validation, epoch #22, 21\n"
     ]
    },
    {
     "name": "stderr",
     "output_type": "stream",
     "text": [
      "21it [00:02,  7.35it/s]\n",
      "1it [00:00,  5.22it/s]"
     ]
    },
    {
     "name": "stdout",
     "output_type": "stream",
     "text": [
      "Validation statistics: -0.79283875; 0.010399212 (5237,) 0.6247779295007608\n",
      "Training, epoch #23, 83\n"
     ]
    },
    {
     "name": "stderr",
     "output_type": "stream",
     "text": [
      "83it [00:13,  6.04it/s]\n",
      "/home/bakirillov/.local/lib/python3.7/site-packages/numpy/core/fromnumeric.py:3335: RuntimeWarning: Mean of empty slice.\n",
      "  out=out, **kwargs)\n",
      "/home/bakirillov/.local/lib/python3.7/site-packages/numpy/core/_methods.py:161: RuntimeWarning: invalid value encountered in double_scalars\n",
      "  ret = ret.dtype.type(ret / rcount)\n",
      "1it [00:00,  6.93it/s]"
     ]
    },
    {
     "name": "stdout",
     "output_type": "stream",
     "text": [
      "Training statistics: -0.9470760306723721; 0.007833674762499564 (20962,)\n",
      "Validation, epoch #23, 21\n"
     ]
    },
    {
     "name": "stderr",
     "output_type": "stream",
     "text": [
      "21it [00:02,  7.11it/s]\n",
      "1it [00:00,  5.09it/s]"
     ]
    },
    {
     "name": "stdout",
     "output_type": "stream",
     "text": [
      "Validation statistics: -0.79659986; 0.010350049 (5239,) 0.6251596665023057\n",
      "Training, epoch #24, 83\n"
     ]
    },
    {
     "name": "stderr",
     "output_type": "stream",
     "text": [
      "83it [00:13,  6.10it/s]\n",
      "/home/bakirillov/.local/lib/python3.7/site-packages/numpy/core/fromnumeric.py:3335: RuntimeWarning: Mean of empty slice.\n",
      "  out=out, **kwargs)\n",
      "/home/bakirillov/.local/lib/python3.7/site-packages/numpy/core/_methods.py:161: RuntimeWarning: invalid value encountered in double_scalars\n",
      "  ret = ret.dtype.type(ret / rcount)\n",
      "1it [00:00,  7.29it/s]"
     ]
    },
    {
     "name": "stdout",
     "output_type": "stream",
     "text": [
      "Training statistics: -0.9460781020324964; 0.007795953634624517 (20970,)\n",
      "Validation, epoch #24, 21\n"
     ]
    },
    {
     "name": "stderr",
     "output_type": "stream",
     "text": [
      "21it [00:02,  7.53it/s]\n",
      "1it [00:00,  5.30it/s]"
     ]
    },
    {
     "name": "stdout",
     "output_type": "stream",
     "text": [
      "Validation statistics: -0.7902832; 0.010439255 (5239,) 0.6255564952276578\n",
      "Training, epoch #25, 83\n"
     ]
    },
    {
     "name": "stderr",
     "output_type": "stream",
     "text": [
      "83it [00:12,  6.46it/s]\n",
      "/home/bakirillov/.local/lib/python3.7/site-packages/numpy/core/fromnumeric.py:3335: RuntimeWarning: Mean of empty slice.\n",
      "  out=out, **kwargs)\n",
      "/home/bakirillov/.local/lib/python3.7/site-packages/numpy/core/_methods.py:161: RuntimeWarning: invalid value encountered in double_scalars\n",
      "  ret = ret.dtype.type(ret / rcount)\n",
      "1it [00:00,  7.25it/s]"
     ]
    },
    {
     "name": "stdout",
     "output_type": "stream",
     "text": [
      "Training statistics: -0.9419030846007379; 0.007841771200898745 (20951,)\n",
      "Validation, epoch #25, 21\n"
     ]
    },
    {
     "name": "stderr",
     "output_type": "stream",
     "text": [
      "21it [00:02,  7.84it/s]\n",
      "1it [00:00,  5.38it/s]"
     ]
    },
    {
     "name": "stdout",
     "output_type": "stream",
     "text": [
      "Validation statistics: -0.78626204; 0.010403837 (5238,) 0.6255156201683899\n",
      "Training, epoch #26, 83\n"
     ]
    },
    {
     "name": "stderr",
     "output_type": "stream",
     "text": [
      "83it [00:13,  6.31it/s]\n",
      "/home/bakirillov/.local/lib/python3.7/site-packages/numpy/core/fromnumeric.py:3335: RuntimeWarning: Mean of empty slice.\n",
      "  out=out, **kwargs)\n",
      "/home/bakirillov/.local/lib/python3.7/site-packages/numpy/core/_methods.py:161: RuntimeWarning: invalid value encountered in double_scalars\n",
      "  ret = ret.dtype.type(ret / rcount)\n",
      "1it [00:00,  7.06it/s]"
     ]
    },
    {
     "name": "stdout",
     "output_type": "stream",
     "text": [
      "Training statistics: -0.9501289113934146; 0.007774915457582369 (20966,)\n",
      "Validation, epoch #26, 21\n"
     ]
    },
    {
     "name": "stderr",
     "output_type": "stream",
     "text": [
      "21it [00:02,  7.64it/s]\n",
      "1it [00:00,  6.50it/s]"
     ]
    },
    {
     "name": "stdout",
     "output_type": "stream",
     "text": [
      "Validation statistics: -0.79572856; 0.010375125 (5239,) 0.6250769207658725\n",
      "Training, epoch #27, 83\n"
     ]
    },
    {
     "name": "stderr",
     "output_type": "stream",
     "text": [
      "83it [00:12,  6.52it/s]\n",
      "/home/bakirillov/.local/lib/python3.7/site-packages/numpy/core/fromnumeric.py:3335: RuntimeWarning: Mean of empty slice.\n",
      "  out=out, **kwargs)\n",
      "/home/bakirillov/.local/lib/python3.7/site-packages/numpy/core/_methods.py:161: RuntimeWarning: invalid value encountered in double_scalars\n",
      "  ret = ret.dtype.type(ret / rcount)\n",
      "1it [00:00,  7.42it/s]"
     ]
    },
    {
     "name": "stdout",
     "output_type": "stream",
     "text": [
      "Training statistics: -0.9441333620157253; 0.00778754146005223 (20961,)\n",
      "Validation, epoch #27, 21\n"
     ]
    },
    {
     "name": "stderr",
     "output_type": "stream",
     "text": [
      "21it [00:02,  7.13it/s]\n",
      "1it [00:00,  5.59it/s]"
     ]
    },
    {
     "name": "stdout",
     "output_type": "stream",
     "text": [
      "Validation statistics: -0.78997976; 0.010377421 (5240,) 0.6255711014755555\n",
      "Training, epoch #28, 83\n"
     ]
    },
    {
     "name": "stderr",
     "output_type": "stream",
     "text": [
      "83it [00:13,  6.16it/s]\n",
      "/home/bakirillov/.local/lib/python3.7/site-packages/numpy/core/fromnumeric.py:3335: RuntimeWarning: Mean of empty slice.\n",
      "  out=out, **kwargs)\n",
      "/home/bakirillov/.local/lib/python3.7/site-packages/numpy/core/_methods.py:161: RuntimeWarning: invalid value encountered in double_scalars\n",
      "  ret = ret.dtype.type(ret / rcount)\n",
      "1it [00:00,  6.71it/s]"
     ]
    },
    {
     "name": "stdout",
     "output_type": "stream",
     "text": [
      "Training statistics: -0.9505655265699091; 0.0077786717870842225 (20967,)\n",
      "Validation, epoch #28, 21\n"
     ]
    },
    {
     "name": "stderr",
     "output_type": "stream",
     "text": [
      "21it [00:03,  6.85it/s]\n",
      "1it [00:00,  5.93it/s]"
     ]
    },
    {
     "name": "stdout",
     "output_type": "stream",
     "text": [
      "Validation statistics: -0.7879254; 0.010401054 (5240,) 0.6254523756546938\n",
      "Training, epoch #29, 83\n"
     ]
    },
    {
     "name": "stderr",
     "output_type": "stream",
     "text": [
      "83it [00:13,  6.30it/s]\n",
      "/home/bakirillov/.local/lib/python3.7/site-packages/numpy/core/fromnumeric.py:3335: RuntimeWarning: Mean of empty slice.\n",
      "  out=out, **kwargs)\n",
      "/home/bakirillov/.local/lib/python3.7/site-packages/numpy/core/_methods.py:161: RuntimeWarning: invalid value encountered in double_scalars\n",
      "  ret = ret.dtype.type(ret / rcount)\n",
      "1it [00:00,  7.45it/s]"
     ]
    },
    {
     "name": "stdout",
     "output_type": "stream",
     "text": [
      "Training statistics: -0.94723308404651; 0.007794289501517262 (20966,)\n",
      "Validation, epoch #29, 21\n"
     ]
    },
    {
     "name": "stderr",
     "output_type": "stream",
     "text": [
      "21it [00:02,  7.53it/s]"
     ]
    },
    {
     "name": "stdout",
     "output_type": "stream",
     "text": [
      "Validation statistics: -0.7897434; 0.010396927 (5239,) 0.6258054705886135\n"
     ]
    },
    {
     "name": "stderr",
     "output_type": "stream",
     "text": [
      "\n"
     ]
    }
   ],
   "source": [
    "training, validation = model.fit(\n",
    "    train_set_loader, val_set_loader, EPOCHS, scheduler, optimizer, mll, \"Weissman.ptch\"\n",
    ")"
   ]
  },
  {
   "cell_type": "code",
   "execution_count": 63,
   "metadata": {
    "scrolled": true
   },
   "outputs": [
    {
     "name": "stderr",
     "output_type": "stream",
     "text": [
      "5241it [00:56, 92.16it/s]\n"
     ]
    }
   ],
   "source": [
    "y_hat = []\n",
    "y = []\n",
    "y_hat_std = []\n",
    "for i,b in tqdm(enumerate(val_set)):\n",
    "    sequence, target = b\n",
    "    y.append(target)\n",
    "    ss = sequence.shape\n",
    "    output, _ = model.forward(sequence.reshape(1, *ss))\n",
    "    predictions = model.likelihood(output).mean.mean(0).cpu().data.numpy()\n",
    "    y_hat_std.append(model.likelihood(output).variance.mean(0).cpu().data.numpy()[0]**0.5)\n",
    "    y_hat.append(predictions[0])"
   ]
  },
  {
   "cell_type": "code",
   "execution_count": 64,
   "metadata": {},
   "outputs": [
    {
     "data": {
      "text/plain": [
       "[0.09300936264643218,\n",
       " 0.09268834076202342,\n",
       " 0.0928575385517228,\n",
       " 0.09267185070196389,\n",
       " 0.09276491427169385,\n",
       " 0.09255758572746144,\n",
       " 0.0925821641451308,\n",
       " 0.09261720452213976,\n",
       " 0.09257465448594471,\n",
       " 0.09270902204347031,\n",
       " 0.09257775298579031,\n",
       " 0.0925021723140991,\n",
       " 0.09308949891519909,\n",
       " 0.09312535847524478,\n",
       " 0.09284835099735476,\n",
       " 0.09305950531486847,\n",
       " 0.09262516822362082,\n",
       " 0.09260913454278474,\n",
       " 0.09257081139724896,\n",
       " 0.0925321100456544,\n",
       " 0.09258383902287316,\n",
       " 0.09256007102983571,\n",
       " 0.09264774340552852,\n",
       " 0.09259794602492588,\n",
       " 0.09259690001797882,\n",
       " 0.09252268382574536,\n",
       " 0.09304547830105117,\n",
       " 0.0927003974500436,\n",
       " 0.09282850839490427,\n",
       " 0.09259262534754668,\n",
       " 0.09258198810516996,\n",
       " 0.09259235880273647,\n",
       " 0.09253015744254488,\n",
       " 0.09255414946061527,\n",
       " 0.09273097421698054,\n",
       " 0.09274501867201013,\n",
       " 0.09264617020779002,\n",
       " 0.09352425874804077,\n",
       " 0.09272092035477177,\n",
       " 0.09985416850503821,\n",
       " 0.10990415872282241,\n",
       " 0.11226940015287003,\n",
       " 0.09378412241637804,\n",
       " 0.0927945113088981,\n",
       " 0.09256969968869969,\n",
       " 0.09279601675626815,\n",
       " 0.09914251857028401,\n",
       " 0.09256618841293492,\n",
       " 0.09273354525946105,\n",
       " 0.09262066358770704,\n",
       " 0.09253565280795086,\n",
       " 0.09267848325434322,\n",
       " 0.09296205821116331,\n",
       " 0.09399454191047914,\n",
       " 0.09270756541248414,\n",
       " 0.09254360340002715,\n",
       " 0.09274541029955244,\n",
       " 0.09255538713511638,\n",
       " 0.09263235206132456,\n",
       " 0.09259626134446569,\n",
       " 0.09254619977454513,\n",
       " 0.09259315843486522,\n",
       " 0.09251335731443366,\n",
       " 0.09261929103790598,\n",
       " 0.09249675550924473,\n",
       " 0.09295970387886165,\n",
       " 0.09268551223685104,\n",
       " 0.09287665297338787,\n",
       " 0.09265568940506093,\n",
       " 0.09254387511705216,\n",
       " 0.09256831632231423,\n",
       " 0.09249941360925697,\n",
       " 0.09298278878906596,\n",
       " 0.09254921369159337,\n",
       " 0.09260350273871955,\n",
       " 0.09264818067938865,\n",
       " 0.09255176462649183,\n",
       " 0.09256423149801137,\n",
       " 0.09312514345906876,\n",
       " 0.09323524678594498,\n",
       " 0.09278172405779651,\n",
       " 0.09255886360381876,\n",
       " 0.09255753038596078,\n",
       " 0.09271206582606646,\n",
       " 0.09254835330124439,\n",
       " 0.09258448281166148,\n",
       " 0.09252606590085294,\n",
       " 0.09259048793832406,\n",
       " 0.09254319079116734,\n",
       " 0.09255365639868367,\n",
       " 0.09269486663910466,\n",
       " 0.09286550170075632,\n",
       " 0.0926594937948406,\n",
       " 0.09289326708944731,\n",
       " 0.09256797425034727,\n",
       " 0.0927003974500436,\n",
       " 0.09252828028782234,\n",
       " 0.09264283272861022,\n",
       " 0.09251144961750571,\n",
       " 0.09263230179147787,\n",
       " 0.0926232728845371,\n",
       " 0.09419235533519042,\n",
       " 0.09276009513882076,\n",
       " 0.09310932090637357,\n",
       " 0.09287063626598872,\n",
       " 0.0929846167047635,\n",
       " 0.09261172908013385,\n",
       " 0.09260576555829887,\n",
       " 0.09255353564842246,\n",
       " 0.09250634042009803,\n",
       " 0.09295054145219744,\n",
       " 0.09250789586081082,\n",
       " 0.09257620877886283,\n",
       " 0.09252721839522988,\n",
       " 0.09286434839022462,\n",
       " 0.09253085696231293,\n",
       " 0.09307081846523774,\n",
       " 0.09277931495921535,\n",
       " 0.09289981867127846,\n",
       " 0.09253496338898558,\n",
       " 0.09253825443763622,\n",
       " 0.09256131868683991,\n",
       " 0.09269542927981808,\n",
       " 0.09267212706779039,\n",
       " 0.0925896631366304,\n",
       " 0.09252081658547798,\n",
       " 0.09382482364065202,\n",
       " 0.09260915465575693,\n",
       " 0.09256294363425538,\n",
       " 0.10267626801640804,\n",
       " 0.10225495534130548,\n",
       " 0.09901844309263433,\n",
       " 0.0936089636978769,\n",
       " 0.09270138703354577,\n",
       " 0.09275534604003961,\n",
       " 0.0926122268609658,\n",
       " 0.09330092599596819,\n",
       " 0.09252014718828129,\n",
       " 0.09269830773646846,\n",
       " 0.09264617523402342,\n",
       " 0.09270032210061317,\n",
       " 0.09264315441858632,\n",
       " 0.09336509268102967,\n",
       " 0.09305792907021426,\n",
       " 0.09375067054985566,\n",
       " 0.09274626384103034,\n",
       " 0.09261886871079814,\n",
       " 0.09267782504498205,\n",
       " 0.09285058778918025,\n",
       " 0.09295606206016853,\n",
       " 0.09266666492126541,\n",
       " 0.09247644973610077,\n",
       " 0.09263955042172879,\n",
       " 0.09252852185410396,\n",
       " 0.09264967342632842,\n",
       " 0.09398448448618714,\n",
       " 0.09369139031367736,\n",
       " 0.09640202482878622,\n",
       " 0.09281037749647478,\n",
       " 0.09460680558852422,\n",
       " 0.09259599983907896,\n",
       " 0.09258672094878696,\n",
       " 0.09263676062077689,\n",
       " 0.09256308449522643,\n",
       " 0.09257838172716043,\n",
       " 0.09263407127366097,\n",
       " 0.09253413306005569,\n",
       " 0.09252100784093034,\n",
       " 0.09270121624323875,\n",
       " 0.09273504667512883,\n",
       " 0.09403716254606678,\n",
       " 0.09265744336374526,\n",
       " 0.09274220693853324,\n",
       " 0.0926907170583698,\n",
       " 0.0934417544707243,\n",
       " 0.09283391085824011,\n",
       " 0.09249649875690263,\n",
       " 0.09251252175808793,\n",
       " 0.09260850098192501,\n",
       " 0.09249456050543979,\n",
       " 0.09250068725511054,\n",
       " 0.09269238997464739,\n",
       " 0.0927178818852021,\n",
       " 0.09277151507343366,\n",
       " 0.09263799719156537,\n",
       " 0.09260339211056685,\n",
       " 0.0927537345041214,\n",
       " 0.09249858799546161,\n",
       " 0.0926343226178204,\n",
       " 0.09285001605827951,\n",
       " 0.09251755511585522,\n",
       " 0.09252682081145538,\n",
       " 0.0925196640113553,\n",
       " 0.09248805070389085,\n",
       " 0.09406208208536225,\n",
       " 0.09280077380943726,\n",
       " 0.09273023603340952,\n",
       " 0.09265248294203732,\n",
       " 0.09253291523081413,\n",
       " 0.09268133711566724,\n",
       " 0.09330075630313826,\n",
       " 0.09364458952973422,\n",
       " 0.09251711219136026,\n",
       " 0.0926078422751655,\n",
       " 0.0925650162812014,\n",
       " 0.09260047047379157,\n",
       " 0.09255183003415444,\n",
       " 0.0928139598086216,\n",
       " 0.09272305977939206,\n",
       " 0.0925949688971864,\n",
       " 0.09251702159290688,\n",
       " 0.09254829292267393,\n",
       " 0.09263591612392347,\n",
       " 0.09263044681505861,\n",
       " 0.09265670962002573,\n",
       " 0.09259657816731022,\n",
       " 0.09250613906663752,\n",
       " 0.09258995483563011,\n",
       " 0.09260790764322127,\n",
       " 0.0929111763250821,\n",
       " 0.09453632482983339,\n",
       " 0.09266066975690693,\n",
       " 0.09258980395695189,\n",
       " 0.09296409190553635,\n",
       " 0.09262056806292154,\n",
       " 0.09264794445123777,\n",
       " 0.0925499784762998,\n",
       " 0.09262730985984016,\n",
       " 0.09297765540899097,\n",
       " 0.09314503785385742,\n",
       " 0.09264272717384343,\n",
       " 0.09294033598052132,\n",
       " 0.09290059059463997,\n",
       " 0.09271006678539383,\n",
       " 0.09283745213529586,\n",
       " 0.09253902937702119,\n",
       " 0.09249274807771472,\n",
       " 0.09254324110941946,\n",
       " 0.09251344791647548,\n",
       " 0.09257294926078162,\n",
       " 0.09335028851554666,\n",
       " 0.09273606601706247,\n",
       " 0.09261034131338419,\n",
       " 0.0929413881428121,\n",
       " 0.09300846145288129,\n",
       " 0.09310303914745391,\n",
       " 0.09298051511227057,\n",
       " 0.09269821229169467,\n",
       " 0.09254102708044315,\n",
       " 0.09254422734163795,\n",
       " 0.09257702364045134,\n",
       " 0.09253555719540844,\n",
       " 0.09252728885293578,\n",
       " 0.09262964247769427,\n",
       " 0.092762454537238,\n",
       " 0.09263009994542677,\n",
       " 0.09300676918806439,\n",
       " 0.09273725607204017,\n",
       " 0.09550579806116605,\n",
       " 0.09311033114969641,\n",
       " 0.09600496377256561,\n",
       " 0.09265258848568983,\n",
       " 0.09255116086126954,\n",
       " 0.09260529791345189,\n",
       " 0.09254271779825998,\n",
       " 0.0930232799714833,\n",
       " 0.09257873885035717,\n",
       " 0.09253490803395538,\n",
       " 0.09253086199481009,\n",
       " 0.09263023567717653,\n",
       " 0.09265352832148399,\n",
       " 0.09282794656079846,\n",
       " 0.09275882505482538,\n",
       " 0.09316909644484139,\n",
       " 0.09261623917845908,\n",
       " 0.09313604365381213,\n",
       " 0.09263997768112249,\n",
       " 0.09261933125943486,\n",
       " 0.09251196303848984,\n",
       " 0.09266889102352868,\n",
       " 0.09280331281184466,\n",
       " 0.09315533087256823,\n",
       " 0.09362776556087667,\n",
       " 0.09266737346074454,\n",
       " 0.09295509522601222,\n",
       " 0.09302919670692723,\n",
       " 0.09327593290647931,\n",
       " 0.09286804896196042,\n",
       " 0.09254956589586164,\n",
       " 0.09256677698850811,\n",
       " 0.09253502880852403,\n",
       " 0.09259307796905156,\n",
       " 0.0927039388041908,\n",
       " 0.09294880304405907,\n",
       " 0.09266545385897378,\n",
       " 0.09261945192391671,\n",
       " 0.09273708534779178,\n",
       " 0.09304431721192905,\n",
       " 0.09443341445511343,\n",
       " 0.0952092927146018,\n",
       " 0.09274308059342058,\n",
       " 0.09261515315479116,\n",
       " 0.09255606130857268,\n",
       " 0.09279443101768566,\n",
       " 0.09263437791344395,\n",
       " 0.09253940678021601,\n",
       " 0.0925306707597257,\n",
       " 0.09259680446867835,\n",
       " 0.0925068438018319,\n",
       " 0.09253401228431792,\n",
       " 0.093008321266433,\n",
       " 0.10044150028173175,\n",
       " 0.09602880046853583,\n",
       " 0.09258051438608164,\n",
       " 0.09262771706675808,\n",
       " 0.0927417299395754,\n",
       " 0.09303752555125443,\n",
       " 0.0925943251813056,\n",
       " 0.0926545083540034,\n",
       " 0.09256982041787613,\n",
       " 0.09253414312469338,\n",
       " 0.09266322264882908,\n",
       " 0.09259712631856037,\n",
       " 0.09280133079022153,\n",
       " 0.09260982843780083,\n",
       " 0.09252926164691828,\n",
       " 0.09259637701007425,\n",
       " 0.0926169229646056,\n",
       " 0.09260607229180852,\n",
       " 0.09255534688579947,\n",
       " 0.09265359868313848,\n",
       " 0.09273707028387242,\n",
       " 0.0926633382308542,\n",
       " 0.0925001083273511,\n",
       " 0.09277720694664149,\n",
       " 0.09253911492188024,\n",
       " 0.09334777935591597,\n",
       " 0.092557278833268,\n",
       " 0.09250518263171476,\n",
       " 0.09254245110970387,\n",
       " 0.09258806380509298,\n",
       " 0.09364862225788706,\n",
       " 0.09274766965692942,\n",
       " 0.09257605787778156,\n",
       " 0.09256912119254436,\n",
       " 0.09372834611203407,\n",
       " 0.09256804970750747,\n",
       " 0.09250527324176307,\n",
       " 0.0925524589516283,\n",
       " 0.09257743106855597,\n",
       " 0.09254905268348144,\n",
       " 0.09255460730148554,\n",
       " 0.09248377100236053,\n",
       " 0.09249190226595551,\n",
       " 0.09263670532657559,\n",
       " 0.09252212013454125,\n",
       " 0.09279612715478078,\n",
       " 0.09269915668828989,\n",
       " 0.09270315519705634,\n",
       " 0.092482804265889,\n",
       " 0.0927502954631274,\n",
       " 0.09256731525520052,\n",
       " 0.09250917945723627,\n",
       " 0.09266583074727543,\n",
       " 0.09289044480430636,\n",
       " 0.09253422364175556,\n",
       " 0.09250427149240675,\n",
       " 0.09258152034021905,\n",
       " 0.09312164312591303,\n",
       " 0.09279998098417665,\n",
       " 0.09512411342995959,\n",
       " 0.09263371939069205,\n",
       " 0.09316706222727154,\n",
       " 0.09260614268951985,\n",
       " 0.09258632362052806,\n",
       " 0.09254764385055371,\n",
       " 0.09569306223379687,\n",
       " 0.09380452239561415,\n",
       " 0.09539397579809464,\n",
       " 0.09670563070373467,\n",
       " 0.09258070048842108,\n",
       " 0.09389057646686826,\n",
       " 0.10017433486016265,\n",
       " 0.09267389578956392,\n",
       " 0.09354597481153827,\n",
       " 0.10067692594899076,\n",
       " 0.0925847644678487,\n",
       " 0.09259378707162744,\n",
       " 0.09262762154924668,\n",
       " 0.0925992786608911,\n",
       " 0.09268925511581994,\n",
       " 0.09251674979701442,\n",
       " 0.092628637046167,\n",
       " 0.09258277776752027,\n",
       " 0.09308150490193322,\n",
       " 0.09451267339701615,\n",
       " 0.09555639969644791,\n",
       " 0.09266538853151228,\n",
       " 0.0929071516842653,\n",
       " 0.09254720610166976,\n",
       " 0.09285405320552963,\n",
       " 0.0925791412410409,\n",
       " 0.09257497138273521,\n",
       " 0.09263861044412625,\n",
       " 0.09250338048009484,\n",
       " 0.09263142709177836,\n",
       " 0.09262518330573916,\n",
       " 0.09256551934384931,\n",
       " 0.0925713093981063,\n",
       " 0.0925621185871202,\n",
       " 0.09259829301500506,\n",
       " 0.09253047952424606,\n",
       " 0.09637622215681052,\n",
       " 0.09315202663257437,\n",
       " 0.09770242553038397,\n",
       " 0.09253262838440439,\n",
       " 0.09259077460548479,\n",
       " 0.09260433244565207,\n",
       " 0.09280372928189247,\n",
       " 0.09347523220054585,\n",
       " 0.09257701358047546,\n",
       " 0.09257973476410701,\n",
       " 0.09253322220581149,\n",
       " 0.09251695616063538,\n",
       " 0.0926075204625259,\n",
       " 0.09318991588253529,\n",
       " 0.093502547601363,\n",
       " 0.09516516147345687,\n",
       " 0.09300170722991566,\n",
       " 0.09296175265225298,\n",
       " 0.09361272437258113,\n",
       " 0.0927669773864217,\n",
       " 0.09307466592391894,\n",
       " 0.09247851928621986,\n",
       " 0.09274790061036065,\n",
       " 0.09246715884920119,\n",
       " 0.09259039741166786,\n",
       " 0.09248853908077057,\n",
       " 0.0925490778410174,\n",
       " 0.09257354785372346,\n",
       " 0.09254920362859458,\n",
       " 0.0924954465682911,\n",
       " 0.09275119414454072,\n",
       " 0.09257267762909431,\n",
       " 0.09264979405129348,\n",
       " 0.09256744604850357,\n",
       " 0.0933929688174081,\n",
       " 0.0931344687045231,\n",
       " 0.09537187489649232,\n",
       " 0.09262080938850548,\n",
       " 0.09359905886997143,\n",
       " 0.09331249432649998,\n",
       " 0.09263095454942391,\n",
       " 0.09256517726154619,\n",
       " 0.09251765074700191,\n",
       " 0.09250815258152076,\n",
       " 0.09252722342792495,\n",
       " 0.09267628250549272,\n",
       " 0.09248102685423587,\n",
       " 0.09249304511691409,\n",
       " 0.09257958889862139,\n",
       " 0.0925557896273228,\n",
       " 0.09257098745846427,\n",
       " 0.09250261531012974,\n",
       " 0.09258296889497486,\n",
       " 0.0926352777194067,\n",
       " 0.09312075802083121,\n",
       " 0.09384423725041059,\n",
       " 0.09253812863517576,\n",
       " 0.09304369161911111,\n",
       " 0.09445403409414692,\n",
       " 0.09325814365105428,\n",
       " 0.0955883086705088,\n",
       " 0.09825343642097636,\n",
       " 0.09715482249059387,\n",
       " 0.09256570547633612,\n",
       " 0.09302560766611612,\n",
       " 0.09328712496795213,\n",
       " 0.09393006655094562,\n",
       " 0.0929560219843411,\n",
       " 0.09261583694895581,\n",
       " 0.09252303613100396,\n",
       " 0.09249945388291214,\n",
       " 0.09331969511259808,\n",
       " 0.09251440426594984,\n",
       " 0.09253633718958068,\n",
       " 0.09255290170696652,\n",
       " 0.09253770090553089,\n",
       " 0.09254810172360761,\n",
       " 0.09261511293144778,\n",
       " 0.09251834029497583,\n",
       " 0.09251485727014506,\n",
       " 0.09282296515075276,\n",
       " 0.09356403781936858,\n",
       " 0.09262835552338367,\n",
       " 0.09450794831283761,\n",
       " 0.09257921165923073,\n",
       " 0.09799180555022086,\n",
       " 0.09408293654133187,\n",
       " 0.0947737772753663,\n",
       " 0.09481815452317037,\n",
       " 0.09701680161070901,\n",
       " 0.09306244256304114,\n",
       " 0.0929383017663164,\n",
       " 0.09323728451025645,\n",
       " 0.09255496954760221,\n",
       " 0.0930738654254629,\n",
       " 0.09258028301508393,\n",
       " 0.09253176783983985,\n",
       " 0.09450107459341613,\n",
       " 0.09253738388110662,\n",
       " 0.09256409566947611,\n",
       " 0.0925055853423612,\n",
       " 0.09251520960520782,\n",
       " 0.09259936917886484,\n",
       " 0.09279711571742649,\n",
       " 0.09418530037259953,\n",
       " 0.09298186229752417,\n",
       " 0.09250962745336448,\n",
       " 0.09255824479188036,\n",
       " 0.09251753498296962,\n",
       " 0.09261716429968728,\n",
       " 0.0926091144298082,\n",
       " 0.09258933623148698,\n",
       " 0.09255976414388263,\n",
       " 0.09266044863697392,\n",
       " 0.09251131371147414,\n",
       " 0.09277158534560231,\n",
       " 0.09323918235068807,\n",
       " 0.09466732276773233,\n",
       " 0.09260091299957096,\n",
       " 0.09261336822711629,\n",
       " 0.09272787079340923,\n",
       " 0.09279531421720148,\n",
       " 0.09258181206487438,\n",
       " 0.09260583595624337,\n",
       " 0.09252000122885089,\n",
       " 0.0924934478804065,\n",
       " 0.09262388120714309,\n",
       " 0.09250138699773988,\n",
       " 0.0926211613205216,\n",
       " 0.09258779221774834,\n",
       " 0.09256610792367675,\n",
       " 0.09253872242128773,\n",
       " 0.09264017874368474,\n",
       " 0.09838062565845762,\n",
       " 0.0947279585902578,\n",
       " 0.09312182814681619,\n",
       " 0.09629047443058836,\n",
       " 0.09573912916430959,\n",
       " 0.09353915485781197,\n",
       " 0.10040116236263671,\n",
       " 0.0939916635162128,\n",
       " 0.09256404033186756,\n",
       " 0.09275201248931447,\n",
       " 0.09254259703372601,\n",
       " 0.09326161888876157,\n",
       " 0.09256577087414804,\n",
       " 0.0926012448925177,\n",
       " 0.09323045196481906,\n",
       " 0.09266986586863127,\n",
       " 0.09257364845719931,\n",
       " 0.09266721265793373,\n",
       " 0.09248899221165154,\n",
       " 0.09257183254763666,\n",
       " 0.09261229725399883,\n",
       " 0.0925017997930676,\n",
       " 0.09257028824194768,\n",
       " 0.09259046279203954,\n",
       " 0.09283278725202081,\n",
       " 0.09258747536483937,\n",
       " 0.09251322644466108,\n",
       " 0.09262130209295363,\n",
       " 0.0925214608127931,\n",
       " 0.09266875534839734,\n",
       " 0.09281800354107798,\n",
       " 0.09263239227718227,\n",
       " 0.09272965351705562,\n",
       " 0.09288078422009906,\n",
       " 0.09274017842073401,\n",
       " 0.09265328708112008,\n",
       " 0.09253814373148005,\n",
       " 0.09276931653155933,\n",
       " 0.09285640520170282,\n",
       " 0.09266121250359625,\n",
       " 0.0925815605781572,\n",
       " 0.09276084312481585,\n",
       " 0.09259426986176328,\n",
       " 0.09290703640555899,\n",
       " 0.09260626337118619,\n",
       " 0.09255860702376101,\n",
       " 0.09515385753148296,\n",
       " 0.09316128920579946,\n",
       " 0.09497546402243495,\n",
       " 0.09258930102624884,\n",
       " 0.09252797329642945,\n",
       " 0.09255179481464955,\n",
       " 0.09256499615863861,\n",
       " 0.09249471153948047,\n",
       " 0.09254121829412637,\n",
       " 0.09253163699610573,\n",
       " 0.09252736937596252,\n",
       " 0.09278355091585068,\n",
       " 0.09256113254553164,\n",
       " 0.09270022665791337,\n",
       " 0.09262008540986734,\n",
       " 0.09265819217839985,\n",
       " 0.09257114842842523,\n",
       " 0.09261874301783467,\n",
       " 0.0926412896064754,\n",
       " 0.09270563659692636,\n",
       " 0.09257903561365571,\n",
       " 0.09270172861321585,\n",
       " 0.09365745287852396,\n",
       " 0.09267503639621293,\n",
       " 0.09266540360708442,\n",
       " 0.09307698232753985,\n",
       " 0.09289389369529745,\n",
       " 0.09253790219031592,\n",
       " 0.09259903727919518,\n",
       " 0.09247419885893966,\n",
       " 0.09275388511614098,\n",
       " 0.09262015076928233,\n",
       " 0.09256938277386237,\n",
       " 0.0926072137338129,\n",
       " 0.09281928786588846,\n",
       " 0.09267195622355855,\n",
       " 0.09265654879870813,\n",
       " 0.09267301645767442,\n",
       " 0.09261510790352863,\n",
       " 0.09263824852507309,\n",
       " 0.09276791606333695,\n",
       " 0.09251139928196174,\n",
       " 0.09256721967536219,\n",
       " 0.09262169424360038,\n",
       " 0.09308957394961839,\n",
       " 0.09257017254374143,\n",
       " 0.09295324168163471,\n",
       " 0.09258825492163573,\n",
       " 0.09262590724453135,\n",
       " 0.09248092615000351,\n",
       " 0.0925665053387086,\n",
       " 0.09355785627314554,\n",
       " 0.09285714238227069,\n",
       " 0.0928466257220063,\n",
       " 0.0925571832430655,\n",
       " 0.09263353339486849,\n",
       " 0.09257827609890869,\n",
       " 0.09265015089922894,\n",
       " 0.09263069314197944,\n",
       " 0.09251791750704659,\n",
       " 0.09251187746852368,\n",
       " 0.09262315725251548,\n",
       " 0.09252687617132384,\n",
       " 0.09254968665130221,\n",
       " 0.09330130031729583,\n",
       " 0.09300657893151457,\n",
       " 0.09281747174513351,\n",
       " 0.092570479395189,\n",
       " 0.092650824383137,\n",
       " 0.0926213825342473,\n",
       " 0.09249359388173939,\n",
       " 0.09255034074053389,\n",
       " 0.09287515384692135,\n",
       " 0.09293818652624805,\n",
       " 0.09254381976735251,\n",
       " 0.09273855657879293,\n",
       " 0.0927435123968201,\n",
       " 0.09253009201956233,\n",
       " 0.09263463428363096,\n",
       " 0.0926289235952642,\n",
       " 0.09260954685784142,\n",
       " 0.0927502402366113,\n",
       " 0.09257283859611634,\n",
       " 0.09260695728771569,\n",
       " 0.09268491436701598,\n",
       " 0.09390592026771633,\n",
       " 0.09451639318760993,\n",
       " 0.09305788903825635,\n",
       " 0.09257081642757405,\n",
       " 0.09677230367614542,\n",
       " 0.09274354754351995,\n",
       " 0.09416568015100153,\n",
       " 0.09309124470035511,\n",
       " 0.09262603795509913,\n",
       " 0.09260187850302194,\n",
       " 0.09253981940594765,\n",
       " 0.09253848088163409,\n",
       " 0.09391156817846874,\n",
       " 0.0925949990712585,\n",
       " 0.09257802963251924,\n",
       " 0.09258710821646171,\n",
       " 0.09270227614270836,\n",
       " 0.09268948119091729,\n",
       " 0.09263519226335011,\n",
       " 0.09262620888402484,\n",
       " 0.09484056121769727,\n",
       " 0.09262303156537172,\n",
       " 0.09270426028212474,\n",
       " 0.09269919185180711,\n",
       " 0.09258382896363783,\n",
       " 0.09278712422651854,\n",
       " 0.09252234661802705,\n",
       " 0.09255612168207547,\n",
       " 0.09254435816757124,\n",
       " 0.09270966496297037,\n",
       " 0.0924976667225882,\n",
       " 0.09268642661855102,\n",
       " 0.09256731022468517,\n",
       " 0.09294872789600009,\n",
       " 0.0924985124816369,\n",
       " 0.0925868165084936,\n",
       " 0.09256134384104203,\n",
       " 0.09260734949910628,\n",
       " 0.09260402067785839,\n",
       " 0.09257060012334857,\n",
       " 0.09264330521037809,\n",
       " 0.09271164894425721,\n",
       " 0.09256180164632655,\n",
       " 0.09252584949201101,\n",
       " 0.09340140980546378,\n",
       " 0.09307702735425287,\n",
       " 0.0961108136339942,\n",
       " 0.09277259926668244,\n",
       " 0.09250806700802994,\n",
       " 0.09252763610798809,\n",
       " 0.09254737717619273,\n",
       " 0.09308115971318238,\n",
       " 0.09296691696379468,\n",
       " 0.09252227112359337,\n",
       " 0.09282095846492867,\n",
       " 0.09261771232909989,\n",
       " 0.09258269729268452,\n",
       " 0.09310263902106303,\n",
       " 0.09291998682305476,\n",
       " 0.09295587169983437,\n",
       " 0.09249786306019946,\n",
       " 0.09259494375211878,\n",
       " 0.09253601512826774,\n",
       " 0.09259333445358886,\n",
       " 0.09257682747072443,\n",
       " 0.09253861674776684,\n",
       " 0.09258749045309772,\n",
       " 0.09268215607724942,\n",
       " 0.0926019740470869,\n",
       " 0.09302947701669799,\n",
       " 0.09357108985767165,\n",
       " 0.09713572537455793,\n",
       " 0.09403000679886749,\n",
       " 0.09274695168932905,\n",
       " 0.09253851107412528,\n",
       " 0.0925349533244371,\n",
       " 0.09268123160475314,\n",
       " 0.09288104993720225,\n",
       " 0.09249337236238526,\n",
       " 0.09253190874826969,\n",
       " 0.09263009994542677,\n",
       " 0.09262968269472838,\n",
       " 0.09264730110343251,\n",
       " 0.09858036535307868,\n",
       " 0.0938809493569569,\n",
       " 0.09394033303814235,\n",
       " 0.09251462070156428,\n",
       " 0.09267198134773004,\n",
       " 0.09248885627262035,\n",
       " 0.09251044793503028,\n",
       " 0.09268375880934547,\n",
       " 0.09252061526352207,\n",
       " 0.09261907987459278,\n",
       " 0.09297326301391778,\n",
       " 0.09253905956933342,\n",
       " 0.09266758953908216,\n",
       " 0.09264801984326626,\n",
       " 0.09284879735697782,\n",
       " 0.09289792893571841,\n",
       " 0.09254167116706324,\n",
       " 0.0925457771138897,\n",
       " 0.09279529414457856,\n",
       " 0.09253928601136112,\n",
       " 0.09285253866899813,\n",
       " 0.09284558753214596,\n",
       " 0.09255607137082587,\n",
       " 0.09326059530490256,\n",
       " 0.09295852168100587,\n",
       " 0.09259491357802865,\n",
       " 0.0926356497036758,\n",
       " 0.09260009331946943,\n",
       " 0.09264732120811905,\n",
       " 0.09257683753072053,\n",
       " 0.09259265049324389,\n",
       " 0.09322383370765798,\n",
       " 0.09288075413886968,\n",
       " 0.09265459881802106,\n",
       " 0.09275173134100392,\n",
       " 0.09282393336114755,\n",
       " 0.09263551900667039,\n",
       " 0.09272824240623628,\n",
       " 0.09258831527414622,\n",
       " 0.09475583184690134,\n",
       " 0.09895326001145889,\n",
       " 0.09369392009143558,\n",
       " 0.09276395046514774,\n",
       " 0.09252100784093034,\n",
       " 0.09284494053839042,\n",
       " 0.09278815303342976,\n",
       " 0.09254791052414629,\n",
       " 0.09264728099874162,\n",
       " 0.09256840184010846,\n",
       " 0.09257889980684053,\n",
       " 0.09251867248413626,\n",
       " 0.09253504390533403,\n",
       " 0.09277020498968597,\n",
       " 0.09269969920964241,\n",
       " 0.09251011068271106,\n",
       " 0.092570358666872,\n",
       " 0.09272667559611117,\n",
       " 0.09256284804990295,\n",
       " 0.09271239732110699,\n",
       " 0.09258028301508393,\n",
       " 0.09400917527479025,\n",
       " 0.09429437815750966,\n",
       " 0.0952649644835356,\n",
       " 0.09252077632112185,\n",
       " 0.09467923073178805,\n",
       " 0.09343646689229776,\n",
       " 0.09738508724489205,\n",
       " 0.09272734852421607,\n",
       " 0.09257564038350838,\n",
       " 0.0925435128275082,\n",
       " 0.09256219907984736,\n",
       " 0.09295755487243162,\n",
       " 0.0925171675570381,\n",
       " 0.09251010564908504,\n",
       " 0.09256243049604806,\n",
       " 0.09266531315361487,\n",
       " 0.09256449309314733,\n",
       " 0.09279055688413784,\n",
       " 0.09290109685258266,\n",
       " 0.09311716250747254,\n",
       " 0.09273940014098923,\n",
       " 0.09267266472258243,\n",
       " 0.09267383549278652,\n",
       " 0.09275941742818088,\n",
       " 0.09269115412950017,\n",
       " 0.09256966447599356,\n",
       " 0.0925273291144579,\n",
       " 0.09263433267157259,\n",
       " 0.09263034124617774,\n",
       " 0.09292655656534353,\n",
       " 0.09289179329582598,\n",
       " 0.09346169606587897,\n",
       " 0.09268246255794389,\n",
       " 0.0925589139135506,\n",
       " 0.09285098900174536,\n",
       " 0.092666438790504,\n",
       " 0.09418448459301557,\n",
       " 0.09252142558172775,\n",
       " 0.09319880495507571,\n",
       " 0.09258328576330656,\n",
       " 0.09257062527502867,\n",
       " 0.09252430945168108,\n",
       " 0.09269093810609562,\n",
       " 0.09273907376366859,\n",
       " 0.09261932120405428,\n",
       " 0.09252475234172208,\n",
       " 0.0926214428651717,\n",
       " 0.09298684521090866,\n",
       " 0.09363930345904753,\n",
       " 0.09273771300892342,\n",
       " 0.09406218604735642,\n",
       " 0.0925091844909127,\n",
       " 0.0935460146346254,\n",
       " 0.09302762495435284,\n",
       " 0.09253197416996775,\n",
       " 0.09286925738230904,\n",
       " 0.09390592026771633,\n",
       " 0.0931974409197558,\n",
       " 0.09265647843929391,\n",
       " 0.09265883545058631,\n",
       " 0.09252290024199171,\n",
       " 0.09253441486949744,\n",
       " 0.09256611798483785,\n",
       " 0.09266470510300015,\n",
       " 0.09262146297547111,\n",
       " 0.09266043356059564,\n",
       " 0.09253935645987896,\n",
       " 0.0925435128275082,\n",
       " 0.09275010970107889,\n",
       " 0.09265332728789102,\n",
       " 0.09266087580000593,\n",
       " 0.09253586416164145,\n",
       " 0.09254983256391602,\n",
       " 0.09252712780667206,\n",
       " 0.09256667134701414,\n",
       " 0.09255094451110632,\n",
       " 0.09332570282772103,\n",
       " 0.09299062603736638,\n",
       " 0.09278142292389474,\n",
       " 0.09254616958456234,\n",
       " 0.09270996130717625,\n",
       " 0.09260581584255041,\n",
       " 0.0928714385161634,\n",
       " 0.09290411930547234,\n",
       " 0.09250378319858685,\n",
       " 0.09263068811490598,\n",
       " 0.09251394622611937,\n",
       " 0.09281919254551696,\n",
       " 0.0925084294363899,\n",
       " 0.09264007318589397,\n",
       " 0.09260413130526016,\n",
       " 0.09260536328330365,\n",
       " 0.09368264242205443,\n",
       " 0.0925603074822531,\n",
       " 0.09262715401474358,\n",
       " 0.09251581360505073,\n",
       " 0.09260407599157579,\n",
       " 0.09295434880312692,\n",
       " 0.09275741940799564,\n",
       " 0.09309151481891581,\n",
       " 0.09254025215778712,\n",
       " 0.0925338764114245,\n",
       " 0.09267500122353044,\n",
       " 0.0930227393372981,\n",
       " 0.09260052578962964,\n",
       " 0.09251582870499628,\n",
       " 0.09277566104031251,\n",
       " 0.09294749545916399,\n",
       " 0.09301785346363398,\n",
       " 0.09297863202507939,\n",
       " 0.09282802682302177,\n",
       " 0.09253793238299592,\n",
       " 0.09256962423288445,\n",
       " 0.09271833389524427,\n",
       " 0.09268708476682885,\n",
       " 0.09255010426265288,\n",
       " 0.09249312566975287,\n",
       " 0.09265047758979575,\n",
       " 0.09252212013454125,\n",
       " 0.09255645876674226,\n",
       " 0.09264835659357783,\n",
       " 0.09258814427526432,\n",
       " 0.09262394656387961,\n",
       " 0.09293085095133068,\n",
       " 0.0930673010784093,\n",
       " 0.09256028232776933,\n",
       " 0.09405037820055288,\n",
       " 0.09264001789366985,\n",
       " 0.09393992160707505,\n",
       " 0.09983303634191931,\n",
       " 0.09454466373862988,\n",
       " 0.09301510004061729,\n",
       " 0.09642874295339895,\n",
       " 0.09274405967963531,\n",
       " 0.09258716354028301,\n",
       " 0.09277165059828268,\n",
       " 0.09260835013346241,\n",
       " 0.09258038864104592,\n",
       " 0.09274423039104532,\n",
       " 0.09280173221574094,\n",
       " 0.0925520866329999,\n",
       " 0.09347802188529532,\n",
       " 0.09383607429702134,\n",
       " 0.0927514250891959,\n",
       " 0.09319408320929624,\n",
       " 0.09246657971152239,\n",
       " 0.09501869832503992,\n",
       " 0.09301564572547286,\n",
       " 0.09299970940799587,\n",
       " 0.09272634415211523,\n",
       " 0.0926338802516437,\n",
       " 0.09276746931454576,\n",
       " 0.09251978983892277,\n",
       " 0.09272749415726762,\n",
       " 0.09255596571711273,\n",
       " 0.09254140447549092,\n",
       " 0.09255464755112408,\n",
       " 0.09250058153813794,\n",
       " 0.0924957083579637,\n",
       " 0.09271711848546063,\n",
       " 0.0931135568532679,\n",
       " 0.09306890218135787,\n",
       " 0.09258212390745499,\n",
       " 0.09252051460237984,\n",
       " 0.09259323890060897,\n",
       " 0.09253208991593563,\n",
       " 0.09279732145756688,\n",
       " 0.09297058340076023,\n",
       " 0.09255220738515159,\n",
       " 0.09250817775017946,\n",
       " 0.09267203662088336,\n",
       " 0.09256830626139208,\n",
       " 0.09297557693547594,\n",
       " 0.0929711543902259,\n",
       " 0.09903708783328401,\n",
       " 0.09270174870609843,\n",
       " 0.09256369321338662,\n",
       " 0.09255235832511967,\n",
       " 0.09250350632981193,\n",
       " 0.09472313117665254,\n",
       " 0.09255785740343929,\n",
       " ...]"
      ]
     },
     "execution_count": 64,
     "metadata": {},
     "output_type": "execute_result"
    }
   ],
   "source": [
    "y_hat_std"
   ]
  },
  {
   "cell_type": "code",
   "execution_count": 57,
   "metadata": {},
   "outputs": [
    {
     "data": {
      "text/plain": [
       "0.4462453690721714"
      ]
     },
     "execution_count": 57,
     "metadata": {},
     "output_type": "execute_result"
    }
   ],
   "source": [
    "target"
   ]
  },
  {
   "cell_type": "code",
   "execution_count": 47,
   "metadata": {},
   "outputs": [
    {
     "data": {
      "text/plain": [
       "tensor(0.0088, device='cuda:0', grad_fn=<MeanBackward0>)"
      ]
     },
     "execution_count": 47,
     "metadata": {},
     "output_type": "execute_result"
    }
   ],
   "source": [
    "model.likelihood(output).variance.mean()"
   ]
  },
  {
   "cell_type": "code",
   "execution_count": 41,
   "metadata": {},
   "outputs": [],
   "source": [
    "a, b = model.likelihood(output).confidence_region()"
   ]
  },
  {
   "cell_type": "code",
   "execution_count": 44,
   "metadata": {},
   "outputs": [
    {
     "data": {
      "text/plain": [
       "(tensor(-0.0585, device='cuda:0', grad_fn=<MeanBackward0>),\n",
       " tensor(0.3158, device='cuda:0', grad_fn=<MeanBackward0>))"
      ]
     },
     "execution_count": 44,
     "metadata": {},
     "output_type": "execute_result"
    }
   ],
   "source": [
    "a.mean(), b.mean()"
   ]
  },
  {
   "cell_type": "code",
   "execution_count": 46,
   "metadata": {},
   "outputs": [
    {
     "data": {
      "text/plain": [
       "tensor(0.1287, device='cuda:0', grad_fn=<MeanBackward0>)"
      ]
     },
     "execution_count": 46,
     "metadata": {},
     "output_type": "execute_result"
    }
   ],
   "source": [
    "model.likelihood(output).mean.mean()"
   ]
  },
  {
   "cell_type": "code",
   "execution_count": 51,
   "metadata": {},
   "outputs": [
    {
     "data": {
      "text/plain": [
       "tensor(0.3158, device='cuda:0', grad_fn=<AddBackward0>)"
      ]
     },
     "execution_count": 51,
     "metadata": {},
     "output_type": "execute_result"
    }
   ],
   "source": [
    "model.likelihood(output).mean.mean()+2*model.likelihood(output).variance.mean()**0.5"
   ]
  },
  {
   "cell_type": "code",
   "execution_count": null,
   "metadata": {},
   "outputs": [],
   "source": []
  },
  {
   "cell_type": "code",
   "execution_count": 28,
   "metadata": {},
   "outputs": [],
   "source": [
    "y_hat = np.stack(y_hat).squeeze()"
   ]
  },
  {
   "cell_type": "code",
   "execution_count": 29,
   "metadata": {},
   "outputs": [
    {
     "data": {
      "image/png": "[encoded data removed]",
      "text/plain": [
       "<Figure size 360x360 with 1 Axes>"
      ]
     },
     "metadata": {
      "needs_background": "light"
     },
     "output_type": "display_data"
    }
   ],
   "source": [
    "fig,ax = plt.subplots(figsize=(5,5))\n",
    "ax.scatter(y_hat, y, marker='.', alpha=.2)\n",
    "ax.set_xlabel('predicted activity')\n",
    "ax.set_ylabel('measured activity')\n",
    "ax.set_title('performance on validation set');"
   ]
  },
  {
   "cell_type": "code",
   "execution_count": 30,
   "metadata": {},
   "outputs": [
    {
     "data": {
      "text/plain": [
       "array([0.44681987, 0.30878615, 0.40462705, ..., 0.12672198, 0.12144233,\n",
       "       0.12856534], dtype=float32)"
      ]
     },
     "execution_count": 30,
     "metadata": {},
     "output_type": "execute_result"
    }
   ],
   "source": [
    "y_hat.ravel()"
   ]
  },
  {
   "cell_type": "code",
   "execution_count": 31,
   "metadata": {},
   "outputs": [
    {
     "name": "stdout",
     "output_type": "stream",
     "text": [
      "r squared = 0.626\n"
     ]
    }
   ],
   "source": [
    "print('r squared = %.3f'%pearsonr(y, y_hat.ravel())[0]**2)"
   ]
  }
 ],
 "metadata": {
  "kernelspec": {
   "display_name": "Python 3",
   "language": "python",
   "name": "python3"
  },
  "language_info": {
   "codemirror_mode": {
    "name": "ipython",
    "version": 3
   },
   "file_extension": ".py",
   "mimetype": "text/x-python",
   "name": "python",
   "nbconvert_exporter": "python",
   "pygments_lexer": "ipython3",
   "version": "3.7.5"
  }
 },
 "nbformat": 4,
 "nbformat_minor": 2
}
