{
 "cells": [
  {
   "cell_type": "code",
   "execution_count": 1,
   "metadata": {},
   "outputs": [],
   "source": [
    "import os\n",
    "import umap\n",
    "import torch\n",
    "import itertools\n",
    "from core import *\n",
    "import numpy as np\n",
    "import pandas as pd\n",
    "import pickle as pkl\n",
    "from torch import nn\n",
    "import os.path as op\n",
    "from tqdm import tqdm\n",
    "from time import time\n",
    "from copy import deepcopy\n",
    "from torchvision import models\n",
    "from tpot import TPOTRegressor\n",
    "from tpot import TPOTClassifier\n",
    "import torch.nn.functional as F\n",
    "import matplotlib.pyplot as plt\n",
    "from capsules.capsules import *\n",
    "from IPython.display import Image\n",
    "from torch.optim import Adam, SGD\n",
    "from matplotlib.lines import Line2D\n",
    "from torch.autograd import Variable\n",
    "from matplotlib.patches import Patch\n",
    "from mpl_toolkits.mplot3d import Axes3D\n",
    "from sklearn.svm import OneClassSVM, SVC\n",
    "from scipy.stats import spearmanr, pearsonr\n",
    "from sklearn.model_selection import train_test_split, StratifiedKFold\n",
    "from sklearn.metrics import roc_auc_score, roc_curve, balanced_accuracy_score\n",
    "from sklearn.metrics import mean_absolute_error, mean_squared_error, median_absolute_error\n",
    "from sklearn.metrics import accuracy_score, matthews_corrcoef, precision_score, recall_score"
   ]
  },
  {
   "cell_type": "code",
   "execution_count": 2,
   "metadata": {},
   "outputs": [],
   "source": [
    "import gpytorch\n",
    "from gpytorch.means import ConstantMean, LinearMean\n",
    "from gpytorch.models import ApproximateGP, ExactGP \n",
    "from sklearn.metrics import accuracy_score\n",
    "from gpytorch.priors import SmoothedBoxPrior\n",
    "from gpytorch.likelihoods import GaussianLikelihood, SoftmaxLikelihood\n",
    "from gpytorch.kernels import ScaleKernel, RBFKernel, GridInterpolationKernel\n",
    "from gpytorch.mlls import VariationalELBO, VariationalELBOEmpirical, DeepApproximateMLL\n",
    "from gpytorch.distributions import MultivariateNormal\n",
    "from gpytorch.variational import CholeskyVariationalDistribution\n",
    "from gpytorch.variational import VariationalStrategy\n",
    "from gpytorch.models.deep_gps import DeepGPLayer, DeepGP"
   ]
  },
  {
   "cell_type": "code",
   "execution_count": 3,
   "metadata": {},
   "outputs": [],
   "source": [
    "from torchvision import models, transforms\n",
    "from torch.utils.data import DataLoader, Dataset"
   ]
  },
  {
   "cell_type": "code",
   "execution_count": 4,
   "metadata": {},
   "outputs": [],
   "source": [
    "np.random.seed(1489)\n",
    "torch.manual_seed(1489)\n",
    "torch.cuda.manual_seed(1489)"
   ]
  },
  {
   "cell_type": "code",
   "execution_count": 8,
   "metadata": {},
   "outputs": [],
   "source": [
    "PENGPATH = \"/home/bakirillov/Data/CRISPR-CAD/Peng_offtargets/bty558-suppl_data/\"\n",
    "HPATH = \"/home/bakirillov/Data/CRISPR-CAD/Haeussler/13059_2016_1012_MOESM2_ESM.tsv\"\n",
    "LOW = op.join(PENGPATH, \"Supplementary file 1.xlsx\")\n",
    "HIGH = op.join(PENGPATH, \"Supplementary file 1.xlsx\")\n",
    "NEG = op.join(PENGPATH, \"Supplementary file 1.xlsx\")"
   ]
  },
  {
   "cell_type": "code",
   "execution_count": 9,
   "metadata": {},
   "outputs": [],
   "source": [
    "UNDERSAMPLE = False"
   ]
  },
  {
   "cell_type": "code",
   "execution_count": 12,
   "metadata": {},
   "outputs": [],
   "source": [
    "low = pd.read_excel(op.join(PENGPATH, \"Supplementary file 1.xlsx\"), sheet_name=0, engine='openpyxl')\n",
    "high = pd.read_excel(op.join(PENGPATH, \"Supplementary file 1.xlsx\"), sheet_name=1, engine='openpyxl')\n",
    "neg = pd.read_excel(op.join(PENGPATH, \"Supplementary file 1.xlsx\"), sheet_name=2, engine='openpyxl')\n",
    "low_strs = [a+\",\"+b for a,b in zip(low[\"on-target site\"], low[\"off-target site\"])]\n",
    "high_strs = [a+\",\"+b for a,b in zip(high[\"on-target site\"], high[\"off-target site\"])]\n",
    "neg_strs = [a+\",\"+b for a,b in zip(neg[\"on-target site\"], neg[\"no editing site\"])]\n",
    "low_high = list(set(low_strs+high_strs))\n",
    "final_neg = []"
   ]
  },
  {
   "cell_type": "code",
   "execution_count": 13,
   "metadata": {},
   "outputs": [],
   "source": [
    "if UNDERSAMPLE:\n",
    "    for a in tqdm(low_high):\n",
    "        suitable = list(\n",
    "            filter(\n",
    "                lambda x: x.split(\",\")[0] == a.split(\",\")[0] and x.split(\",\")[0] not in final_neg, \n",
    "                neg_strs\n",
    "            )\n",
    "        )\n",
    "        final_neg.append(np.random.choice(suitable))\n",
    "    final_neg = list(set(final_neg))\n",
    "else:\n",
    "    final_neg = neg_strs\n",
    "pairs = np.array(low_high+final_neg)\n",
    "labels = np.array([1]*len(low_high)+[0]*len(final_neg))"
   ]
  },
  {
   "cell_type": "code",
   "execution_count": 14,
   "metadata": {},
   "outputs": [
    {
     "data": {
      "text/plain": [
       "(array([0, 1]), array([408260,    742]))"
      ]
     },
     "execution_count": 14,
     "metadata": {},
     "output_type": "execute_result"
    }
   ],
   "source": [
    "np.unique(labels, return_counts=True)"
   ]
  },
  {
   "cell_type": "code",
   "execution_count": 15,
   "metadata": {},
   "outputs": [
    {
     "data": {
      "text/plain": [
       "0.001814172057838348"
      ]
     },
     "execution_count": 15,
     "metadata": {},
     "output_type": "execute_result"
    }
   ],
   "source": [
    "742/(408260+742)"
   ]
  },
  {
   "cell_type": "code",
   "execution_count": 16,
   "metadata": {},
   "outputs": [],
   "source": [
    "N_MISMATCHES = -1"
   ]
  },
  {
   "cell_type": "code",
   "execution_count": 17,
   "metadata": {},
   "outputs": [],
   "source": [
    "if N_MISMATCHES != -1:\n",
    "    n_mms = lambda x,y: np.sum([int(a != b) for a,b in zip(x,y)])\n",
    "    worthy = np.array([n_mms(*a.split(\",\")) for a in pairs]) < N_MISMATCHES\n",
    "    not_worthy = np.array([n_mms(*a.split(\",\")) for a in pairs]) > N_MISMATCHES\n",
    "    pretraining_pairs = pairs[not_worthy]\n",
    "    pretraining_labels = labels[not_worthy]\n",
    "    pairs = pairs[worthy]\n",
    "    labels = labels[worthy]"
   ]
  },
  {
   "cell_type": "code",
   "execution_count": 18,
   "metadata": {
    "scrolled": true
   },
   "outputs": [
    {
     "data": {
      "text/plain": [
       "(array([0, 1]), array([408260,    742]))"
      ]
     },
     "execution_count": 18,
     "metadata": {},
     "output_type": "execute_result"
    }
   ],
   "source": [
    "np.unique(labels, return_counts=True)"
   ]
  },
  {
   "cell_type": "code",
   "execution_count": 19,
   "metadata": {},
   "outputs": [],
   "source": [
    "guides = np.unique([a.split(\",\")[0] for a in pairs])"
   ]
  },
  {
   "cell_type": "code",
   "execution_count": 20,
   "metadata": {},
   "outputs": [],
   "source": [
    "folds = {a: np.array([a not in b for b in pairs]) for a in guides}"
   ]
  },
  {
   "cell_type": "code",
   "execution_count": 21,
   "metadata": {
    "scrolled": true
   },
   "outputs": [
    {
     "data": {
      "text/plain": [
       "(array([0, 1]), array([408260,    742]))"
      ]
     },
     "execution_count": 21,
     "metadata": {},
     "output_type": "execute_result"
    }
   ],
   "source": [
    "np.unique(labels, return_counts=True)"
   ]
  },
  {
   "cell_type": "code",
   "execution_count": 22,
   "metadata": {},
   "outputs": [],
   "source": [
    "u = ImperfectMatchTransform(\"NGG\", False, False, fold=False)"
   ]
  },
  {
   "cell_type": "code",
   "execution_count": 23,
   "metadata": {},
   "outputs": [],
   "source": [
    "transformer = transforms.Compose(\n",
    "    [\n",
    "        u, ToTensor(True)\n",
    "    ]\n",
    ")"
   ]
  },
  {
   "cell_type": "code",
   "execution_count": 24,
   "metadata": {},
   "outputs": [],
   "source": [
    "tt_X, val_X, tt_Y, val_Y = train_test_split(\n",
    "    np.arange(len(pairs)), labels, test_size=0.1, stratify=labels\n",
    ")"
   ]
  },
  {
   "cell_type": "code",
   "execution_count": 25,
   "metadata": {},
   "outputs": [],
   "source": [
    "train_X, test_X, train_Y, test_Y = train_test_split(\n",
    "    tt_X, tt_Y, stratify=tt_Y\n",
    ")"
   ]
  },
  {
   "cell_type": "code",
   "execution_count": 26,
   "metadata": {
    "scrolled": true
   },
   "outputs": [
    {
     "data": {
      "text/plain": [
       "((276075,), (92026,), (40901,))"
      ]
     },
     "execution_count": 26,
     "metadata": {},
     "output_type": "execute_result"
    }
   ],
   "source": [
    "train_X.shape, test_X.shape, val_X.shape"
   ]
  },
  {
   "cell_type": "code",
   "execution_count": 27,
   "metadata": {},
   "outputs": [],
   "source": [
    "BATCH_SIZE=256"
   ]
  },
  {
   "cell_type": "markdown",
   "metadata": {},
   "source": [
    "## ROC curves"
   ]
  },
  {
   "cell_type": "markdown",
   "metadata": {},
   "source": [
    "### Just GuideHOM model"
   ]
  },
  {
   "cell_type": "code",
   "execution_count": 28,
   "metadata": {},
   "outputs": [],
   "source": [
    "encoder = GuideHN2d(\n",
    "    23, capsule_dimension=32, n_routes=1600, n_classes=5, n_channels=2,\n",
    ").cuda()\n",
    "model = DKL(encoder, [1,5*32]).cuda().eval()\n",
    "model.load_state_dict(torch.load(\"../models/JostEtAl/modelRNN59.ptch\"))\n",
    "model = model.eval()"
   ]
  },
  {
   "cell_type": "code",
   "execution_count": 29,
   "metadata": {},
   "outputs": [],
   "source": [
    "\n",
    "class PengDataset(Dataset):\n",
    "\n",
    "    def __init__(self, pairs, labels, indices, transform=None):\n",
    "        self.transform = transform\n",
    "        self.S = np.array(pairs)[indices]\n",
    "        self.L = np.array(labels)[indices]\n",
    "\n",
    "    def __len__(self):\n",
    "        return(len(self.S))\n",
    "\n",
    "    def sp(self, x, a):\n",
    "        first = x.split(\",\")[0] == a.split(\",\")[0]\n",
    "        second = x.split(\",\")[0] not in self.final_neg\n",
    "        return(first and second)\n",
    "\n",
    "    def __getitem__(self, ind):\n",
    "        sequence = self.S[ind] if not self.transform else self.transform(self.S[ind])\n",
    "        target = self.L[ind]\n",
    "        return(sequence, target)"
   ]
  },
  {
   "cell_type": "code",
   "execution_count": 30,
   "metadata": {},
   "outputs": [],
   "source": [
    "pd = PengDataset(pairs, labels, np.arange(len(labels)), transform=transformer)\n",
    "pd_loader = DataLoader(pd, shuffle=False, batch_size=BATCH_SIZE)"
   ]
  },
  {
   "cell_type": "code",
   "execution_count": 31,
   "metadata": {},
   "outputs": [
    {
     "name": "stderr",
     "output_type": "stream",
     "text": [
      "100%|██████████| 1598/1598 [01:12<00:00, 22.07it/s]\n"
     ]
    }
   ],
   "source": [
    "prediction_means = []\n",
    "prediction_vars = []\n",
    "for transformed_batch, label in tqdm(pd_loader):\n",
    "    current = model(transformed_batch)\n",
    "    current_mean = model.likelihood(\n",
    "        current[0]\n",
    "    ).mean.mean(0).cpu().data.numpy()\n",
    "    current_var = model.likelihood(\n",
    "        current[0]\n",
    "    ).variance.mean(0).cpu().data.numpy()\n",
    "    prediction_means.extend(current_mean)\n",
    "    prediction_vars.extend(current_var)"
   ]
  },
  {
   "cell_type": "code",
   "execution_count": 32,
   "metadata": {},
   "outputs": [],
   "source": [
    "prediction_means = np.array(prediction_means)\n",
    "prediction_vars = np.array(prediction_vars)"
   ]
  },
  {
   "cell_type": "code",
   "execution_count": 33,
   "metadata": {},
   "outputs": [
    {
     "data": {
      "text/plain": [
       "0.7527878272566384"
      ]
     },
     "execution_count": 33,
     "metadata": {},
     "output_type": "execute_result"
    }
   ],
   "source": [
    "roc_auc_score(y_true=labels, y_score=prediction_means)"
   ]
  },
  {
   "cell_type": "code",
   "execution_count": 34,
   "metadata": {},
   "outputs": [],
   "source": [
    "X, Y, _ = roc_curve(y_true=labels, y_score=prediction_means)"
   ]
  },
  {
   "cell_type": "markdown",
   "metadata": {},
   "source": [
    "### Original model"
   ]
  },
  {
   "cell_type": "code",
   "execution_count": 35,
   "metadata": {},
   "outputs": [],
   "source": [
    "from collections import Counter\n",
    "from keras.layers import Conv2D, Activation, MaxPool2D, Flatten, Dense, Dropout\n",
    "from keras.models import Sequential"
   ]
  },
  {
   "cell_type": "code",
   "execution_count": 36,
   "metadata": {},
   "outputs": [],
   "source": [
    "def binarize_sequence(sequence):\n",
    "    \"\"\"\n",
    "    converts a 26-base nucleotide string to a binarized array of shape (4,26)\n",
    "    \"\"\"\n",
    "    arr = np.zeros((4, 23))\n",
    "    for i in range(23):\n",
    "        if sequence[i] == 'A':\n",
    "            arr[0,i] = 1\n",
    "        elif sequence[i] == 'C':\n",
    "            arr[1,i] = 1\n",
    "        elif sequence[i] == 'G':\n",
    "            arr[2,i] = 1\n",
    "        elif sequence[i] == 'T':\n",
    "            arr[3,i] = 1\n",
    "        else:\n",
    "            raise(\n",
    "                Exception(\n",
    "                    'sequence contains characters other than A,G,C,T \\n%s'%sequence\n",
    "                )\n",
    "            )\n",
    "    return(arr)"
   ]
  },
  {
   "cell_type": "code",
   "execution_count": 37,
   "metadata": {},
   "outputs": [],
   "source": [
    "sequence_tuples = list(zip([a.split(\",\")[0] for a in pairs], [a.split(\",\")[1] for a in pairs]))"
   ]
  },
  {
   "cell_type": "code",
   "execution_count": 38,
   "metadata": {},
   "outputs": [],
   "source": [
    "stacked_arrs = [np.stack((binarize_sequence(genome_input), binarize_sequence(sgrna_input)), axis=2) \n",
    "                for (genome_input, sgrna_input) in sequence_tuples]"
   ]
  },
  {
   "cell_type": "code",
   "execution_count": 39,
   "metadata": {},
   "outputs": [],
   "source": [
    "model = Sequential()\n",
    "model.add(Conv2D(filters=32, kernel_size=(4,4), activation='relu', padding='same', input_shape=(4,23,2), data_format='channels_last'))\n",
    "model.add(Conv2D(filters=32, kernel_size=(4,4), activation='relu', padding='same', data_format='channels_last'))\n",
    "model.add(MaxPool2D(pool_size=(1,2), padding='same', data_format='channels_last'))\n",
    "model.add(Dropout(0.25))\n",
    "model.add(Flatten())\n",
    "model.add(Dense(units=128, activation='sigmoid'))\n",
    "model.add(Dropout(0.1))\n",
    "model.add(Dense(units=32, activation='sigmoid'))\n",
    "model.add(Dropout(0.1))\n",
    "model.add(Dense(1, activation='linear'))\n",
    "model.compile(loss='logcosh', metrics=['mse'], optimizer='adam')\n",
    "model.load_weights(\"Original_Jost_et_al.keras\")"
   ]
  },
  {
   "cell_type": "code",
   "execution_count": 40,
   "metadata": {},
   "outputs": [
    {
     "data": {
      "text/plain": [
       "(409002, 4, 23, 2)"
      ]
     },
     "execution_count": 40,
     "metadata": {},
     "output_type": "execute_result"
    }
   ],
   "source": [
    "np.stack(stacked_arrs).shape"
   ]
  },
  {
   "cell_type": "code",
   "execution_count": 41,
   "metadata": {},
   "outputs": [],
   "source": [
    "X_st = np.stack(stacked_arrs)"
   ]
  },
  {
   "cell_type": "code",
   "execution_count": 42,
   "metadata": {},
   "outputs": [],
   "source": [
    "Y_hat = model.predict(X_st)"
   ]
  },
  {
   "cell_type": "code",
   "execution_count": 43,
   "metadata": {},
   "outputs": [],
   "source": [
    "X_2, Y_2, _ = roc_curve(y_true=labels, y_score=Y_hat)"
   ]
  },
  {
   "cell_type": "code",
   "execution_count": 44,
   "metadata": {},
   "outputs": [
    {
     "data": {
      "text/plain": [
       "0.6777362590537741"
      ]
     },
     "execution_count": 44,
     "metadata": {},
     "output_type": "execute_result"
    }
   ],
   "source": [
    "roc_auc_score(y_true=labels, y_score=Y_hat)"
   ]
  },
  {
   "cell_type": "code",
   "execution_count": 45,
   "metadata": {},
   "outputs": [
    {
     "data": {
      "text/plain": [
       "Text(0.5, 1.0, 'ROC curves on Peng et al. data')"
      ]
     },
     "execution_count": 45,
     "metadata": {},
     "output_type": "execute_result"
    },
    {
     "data": {
      "image/png": "[encoded data removed]",
      "text/plain": [
       "<Figure size 432x288 with 1 Axes>"
      ]
     },
     "metadata": {
      "needs_background": "light"
     },
     "output_type": "display_data"
    }
   ],
   "source": [
    "plt.plot(X, Y, color=\"red\")\n",
    "plt.plot(X_2, Y_2, color=\"blue\")\n",
    "plt.xlabel(\"False positive rate\")\n",
    "plt.ylabel(\"True positive rate\")\n",
    "plt.legend(\n",
    "    loc=\"best\", \n",
    "    handles=[Patch(color=\"red\", label=\"GuideHOM\"), Patch(color=\"blue\", label=\"Original Weissman\")]\n",
    ")\n",
    "plt.title(\"ROC curves on Peng et al. data\")"
   ]
  }
 ],
 "metadata": {
  "kernelspec": {
   "display_name": "Python 3",
   "language": "python",
   "name": "python3"
  },
  "language_info": {
   "codemirror_mode": {
    "name": "ipython",
    "version": 3
   },
   "file_extension": ".py",
   "mimetype": "text/x-python",
   "name": "python",
   "nbconvert_exporter": "python",
   "pygments_lexer": "ipython3",
   "version": "3.8.8"
  }
 },
 "nbformat": 4,
 "nbformat_minor": 2
}
