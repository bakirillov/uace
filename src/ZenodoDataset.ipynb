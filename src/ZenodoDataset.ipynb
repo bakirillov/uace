{
 "cells": [
  {
   "cell_type": "code",
   "execution_count": 1,
   "id": "dressed-ambassador",
   "metadata": {},
   "outputs": [],
   "source": [
    "import os\n",
    "import numpy as np\n",
    "import pandas as pd\n",
    "import os.path as op\n",
    "from tqdm import tqdm"
   ]
  },
  {
   "cell_type": "code",
   "execution_count": 2,
   "id": "strong-mountain",
   "metadata": {},
   "outputs": [],
   "source": [
    "np.random.seed(1000)"
   ]
  },
  {
   "cell_type": "code",
   "execution_count": 3,
   "id": "southern-theater",
   "metadata": {},
   "outputs": [],
   "source": [
    "def normalize(f):\n",
    "    return(\n",
    "        f.replace(\n",
    "            \"_\", \" \"\n",
    "        ).replace(\"-u\", \" MSE \").replace(\n",
    "            \"59.tsv\", \"ELBO\"\n",
    "        ).replace(\"models\", \"\").replace(\"model\", \"\").replace(\"RNN\", \"\").strip()\n",
    "    )"
   ]
  },
  {
   "cell_type": "code",
   "execution_count": 4,
   "id": "ahead-content",
   "metadata": {},
   "outputs": [],
   "source": [
    "def load_results(directory):\n",
    "    files = list(filter(lambda x: \".tsv\" in x, [a for a in os.walk(directory)][0][2]))\n",
    "    return([(normalize(a), pd.read_csv(op.join(directory, a), sep=\"\\t\", index_col=0)) for a in files])"
   ]
  },
  {
   "cell_type": "code",
   "execution_count": 5,
   "id": "weighted-airport",
   "metadata": {},
   "outputs": [],
   "source": [
    "folders = [\n",
    "    \"../results/Chr22/DeepHF/WT\", \"../results/Chr22/DeepHF/eSpCas9/\", \"../results/Chr22/DeepHF/SpCas9HF1/\",\n",
    "    \"../results/Chr22/DeepCpf1/\"\n",
    "]"
   ]
  },
  {
   "cell_type": "code",
   "execution_count": 6,
   "id": "weighted-bracket",
   "metadata": {},
   "outputs": [],
   "source": [
    "writer = pd.ExcelWriter('gRNAs.xlsx', engine='xlsxwriter')"
   ]
  },
  {
   "cell_type": "code",
   "execution_count": 7,
   "id": "embedded-platform",
   "metadata": {},
   "outputs": [
    {
     "name": "stdout",
     "output_type": "stream",
     "text": [
      "../results/Chr22/DeepHF/WT\n"
     ]
    },
    {
     "name": "stderr",
     "output_type": "stream",
     "text": [
      "100%|██████████| 4/4 [00:14<00:00,  3.64s/it]\n"
     ]
    },
    {
     "name": "stdout",
     "output_type": "stream",
     "text": [
      "../results/Chr22/DeepHF/eSpCas9/\n"
     ]
    },
    {
     "name": "stderr",
     "output_type": "stream",
     "text": [
      "100%|██████████| 4/4 [00:20<00:00,  5.01s/it]\n"
     ]
    },
    {
     "name": "stdout",
     "output_type": "stream",
     "text": [
      "../results/Chr22/DeepHF/SpCas9HF1/\n"
     ]
    },
    {
     "name": "stderr",
     "output_type": "stream",
     "text": [
      "100%|██████████| 4/4 [00:20<00:00,  5.13s/it]\n"
     ]
    },
    {
     "name": "stdout",
     "output_type": "stream",
     "text": [
      "../results/Chr22/DeepCpf1/\n"
     ]
    },
    {
     "name": "stderr",
     "output_type": "stream",
     "text": [
      "100%|██████████| 4/4 [00:17<00:00,  4.29s/it]\n"
     ]
    }
   ],
   "source": [
    "for a in folders:\n",
    "    print(a)\n",
    "    dfs = load_results(a)\n",
    "    for b in tqdm(dfs):\n",
    "        del b[1][\"0\"]\n",
    "        del b[1][\"1\"]\n",
    "        del b[1][\"7\"]\n",
    "        del b[1][\"6\"]\n",
    "        b[1].columns = [\"gene\", \"position\", \"gRNA\", \"strand\", \"mean\", \"variance\"]\n",
    "        b[1].to_excel(writer, sheet_name=b[0])"
   ]
  },
  {
   "cell_type": "code",
   "execution_count": 8,
   "id": "hindu-manual",
   "metadata": {},
   "outputs": [],
   "source": [
    "writer.save()"
   ]
  }
 ],
 "metadata": {
  "kernelspec": {
   "display_name": "Python 3",
   "language": "python",
   "name": "python3"
  },
  "language_info": {
   "codemirror_mode": {
    "name": "ipython",
    "version": 3
   },
   "file_extension": ".py",
   "mimetype": "text/x-python",
   "name": "python",
   "nbconvert_exporter": "python",
   "pygments_lexer": "ipython3",
   "version": "3.8.8"
  }
 },
 "nbformat": 4,
 "nbformat_minor": 5
}
