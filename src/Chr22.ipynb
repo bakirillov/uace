{
 "cells": [
  {
   "cell_type": "code",
   "execution_count": 1,
   "metadata": {},
   "outputs": [],
   "source": [
    "import os\n",
    "import umap\n",
    "import torch\n",
    "import itertools\n",
    "from core import *\n",
    "import numpy as np\n",
    "import pandas as pd\n",
    "import pickle as pkl\n",
    "from torch import nn\n",
    "import os.path as op\n",
    "from tqdm import tqdm\n",
    "from time import time\n",
    "from Bio import SeqIO\n",
    "from copy import deepcopy\n",
    "from torch.optim import Adam\n",
    "from tpot import TPOTRegressor\n",
    "import torch.nn.functional as F\n",
    "import matplotlib.pyplot as plt\n",
    "from capsules.capsules import *\n",
    "from IPython.display import Image\n",
    "from matplotlib.lines import Line2D\n",
    "from torch.autograd import Variable\n",
    "from matplotlib.patches import Patch\n",
    "from scipy.stats import spearmanr, pearsonr\n",
    "from sklearn.model_selection import train_test_split, StratifiedKFold\n",
    "from sklearn.metrics import mean_absolute_error, mean_squared_error, median_absolute_error\n",
    "from sklearn.metrics import accuracy_score, matthews_corrcoef, precision_score, recall_score"
   ]
  },
  {
   "cell_type": "code",
   "execution_count": 2,
   "metadata": {},
   "outputs": [
    {
     "data": {
      "text/plain": [
       "23"
      ]
     },
     "execution_count": 2,
     "metadata": {},
     "output_type": "execute_result"
    }
   ],
   "source": [
    "len(\"TTTCTGAGCATCCCGGGGATCCC\")"
   ]
  },
  {
   "cell_type": "code",
   "execution_count": 3,
   "metadata": {},
   "outputs": [],
   "source": [
    "from torchvision import models, transforms\n",
    "from torch.utils.data import DataLoader, Dataset"
   ]
  },
  {
   "cell_type": "code",
   "execution_count": 4,
   "metadata": {},
   "outputs": [],
   "source": [
    "import gpytorch\n",
    "from gpytorch.means import ConstantMean, LinearMean\n",
    "from gpytorch.models import ApproximateGP, ExactGP \n",
    "from sklearn.metrics import accuracy_score\n",
    "from gpytorch.priors import SmoothedBoxPrior\n",
    "from gpytorch.likelihoods import GaussianLikelihood\n",
    "from gpytorch.kernels import ScaleKernel, RBFKernel, GridInterpolationKernel\n",
    "from gpytorch.mlls import VariationalELBO, VariationalELBOEmpirical, DeepApproximateMLL\n",
    "from gpytorch.distributions import MultivariateNormal\n",
    "from gpytorch.variational import CholeskyVariationalDistribution\n",
    "from gpytorch.variational import VariationalStrategy\n",
    "from gpytorch.models.deep_gps import DeepGPLayer, DeepGP"
   ]
  },
  {
   "cell_type": "code",
   "execution_count": 5,
   "metadata": {},
   "outputs": [],
   "source": [
    "DATAPATH = \"/home/bakirillov/HDD/data/genomes/all_guides_chr22.tsv\"\n",
    "ANNOTATION = \"/home/bakirillov/HDD/data/genomes/annotation.csv\""
   ]
  },
  {
   "cell_type": "code",
   "execution_count": 6,
   "metadata": {},
   "outputs": [],
   "source": [
    "annotation = pd.read_csv(ANNOTATION, header=1)[[\"Start\", \"Stop\", \"Gene symbol\"]]\n",
    "annotation = list(\n",
    "    zip(\n",
    "        annotation[\"Start\"].values, annotation[\"Stop\"].values, \n",
    "        annotation[\"Gene symbol\"].values\n",
    "    )\n",
    ")\n",
    "annotation = sorted(annotation, key=lambda x: x[0])"
   ]
  },
  {
   "cell_type": "code",
   "execution_count": 1,
   "metadata": {},
   "outputs": [
    {
     "ename": "NameError",
     "evalue": "name 'get_Cpf1_transformer' is not defined",
     "output_type": "error",
     "traceback": [
      "\u001b[0;31m---------------------------------------------------------------------------\u001b[0m",
      "\u001b[0;31mNameError\u001b[0m                                 Traceback (most recent call last)",
      "\u001b[0;32m<ipython-input-1-da2d345079b2>\u001b[0m in \u001b[0;36m<module>\u001b[0;34m\u001b[0m\n\u001b[0;32m----> 1\u001b[0;31m \u001b[0mtransformer\u001b[0m \u001b[0;34m=\u001b[0m \u001b[0mget_Cpf1_transformer\u001b[0m\u001b[0;34m(\u001b[0m\u001b[0;32mTrue\u001b[0m\u001b[0;34m)\u001b[0m\u001b[0;34m\u001b[0m\u001b[0;34m\u001b[0m\u001b[0m\n\u001b[0m",
      "\u001b[0;31mNameError\u001b[0m: name 'get_Cpf1_transformer' is not defined"
     ]
    }
   ],
   "source": [
    "transformer = get_Cpf1_transformer(True)"
   ]
  },
  {
   "cell_type": "code",
   "execution_count": 8,
   "metadata": {},
   "outputs": [],
   "source": [
    "chr22 = SeqIO.parse(\"/home/bakirillov/HDD/data/genomes/chr22.fa\", \"fasta\")\n",
    "chr22 = [a for a in chr22][0]"
   ]
  },
  {
   "cell_type": "code",
   "execution_count": 9,
   "metadata": {},
   "outputs": [],
   "source": [
    "TEMPLATE = \"/home/bakirillov/HDD/data/chr22_genes/GENE\\nNNNNNNNNNNNNNNNNNNNNNGG\\nNNNNNNNNNNNNNNNNNNNNNGG 0\\n\"\n",
    "COMMAND = \"/home/bakirillov/HDD/apps/cas-offinder CONFIG G OUTPUT\""
   ]
  },
  {
   "cell_type": "code",
   "execution_count": 20,
   "metadata": {},
   "outputs": [],
   "source": [
    "GENESDIR = \"/home/bakirillov/HDD/data/chr22_genes/\"\n",
    "if not op.exists(GENESDIR):\n",
    "    os.makedirs(GENESDIR)\n",
    "CASOFFCONFIGS = \"/home/bakirillov/HDD/data/chr22_casoffinder_configs/\"\n",
    "if not op.exists(CASOFFCONFIGS):\n",
    "    os.makedirs(CASOFFCONFIGS)\n",
    "GRNADIR = \"/home/bakirillov/HDD/data/chr22_grnas/\"\n",
    "if not op.exists(GRNADIR):\n",
    "    os.makedirs(GRNADIR)\n",
    "ORDDIR = \"/home/bakirillov/HDD/data/chr22_ordered/\"\n",
    "if not op.exists(ORDDIR):\n",
    "    os.makedirs(ORDDIR)"
   ]
  },
  {
   "cell_type": "code",
   "execution_count": 11,
   "metadata": {},
   "outputs": [
    {
     "name": "stderr",
     "output_type": "stream",
     "text": [
      "100%|██████████| 1186/1186 [00:00<00:00, 1778.85it/s]\n"
     ]
    }
   ],
   "source": [
    "script = open(\"run_casoffinder.sh\", \"w\")\n",
    "script.write(\"#!/bin/sh\\n\\n\")\n",
    "for start, stop, gene in tqdm(annotation):\n",
    "    with open(\"/home/bakirillov/HDD/data/chr22_genes/\"+gene+\".fa\", \"w\") as oh:\n",
    "        oh.write(\">\"+gene+\"\\n\")\n",
    "        oh.write(str(chr22.seq[start:stop]))\n",
    "    with open(\"/home/bakirillov/HDD/data/chr22_casoffinder_configs/\"+gene+\".txt\", \"w\") as oh:\n",
    "        oh.write(TEMPLATE.replace(\"GENE\", gene+\".fa\"))\n",
    "    script.write(\n",
    "        COMMAND.replace(\n",
    "            \"CONFIG\", \"/home/bakirillov/HDD/data/chr22_casoffinder_configs/\"+gene+\".txt\"\n",
    "        ).replace(\n",
    "            \"OUTPUT\", \"/home/bakirillov/HDD/data/chr22_grnas/\"+gene+\".tsv\"\n",
    "        )+\"\\n\"\n",
    "    )\n",
    "script.close()"
   ]
  },
  {
   "cell_type": "markdown",
   "metadata": {},
   "source": [
    "#### Now you should run run_casoffinder.sh"
   ]
  },
  {
   "cell_type": "code",
   "execution_count": 18,
   "metadata": {},
   "outputs": [
    {
     "name": "stdout",
     "output_type": "stream",
     "text": [
      "CNN\n",
      "CNN59.ptch\n",
      "CNN.json\n",
      "CNN-u\n",
      "CNN-u59.ptch\n",
      "CNN-u.json\n",
      "RNN\n",
      "RNN59.ptch\n",
      "RNN.json\n",
      "RNN-u\n",
      "RNN-u59.ptch\n",
      "RNN-u.json\n"
     ]
    }
   ],
   "source": [
    "%%bash \n",
    "\n",
    "ls ../models/DeepHF/WT"
   ]
  },
  {
   "cell_type": "code",
   "execution_count": 12,
   "metadata": {},
   "outputs": [],
   "source": [
    "cnn_mse_encoder = GuideHN(21, 32, 1360, n_classes=5).cuda()\n",
    "cnn_mse = DKL(cnn_mse_encoder, [1,5*32]).cuda()\n",
    "cnn_mse.load_state_dict(torch.load(\"../models/DeepHF/WT/CNN-u59.ptch\"))\n",
    "cnn_mse = cnn_mse.eval()"
   ]
  },
  {
   "cell_type": "code",
   "execution_count": 13,
   "metadata": {},
   "outputs": [],
   "source": [
    "rnn_mse_encoder = GuideHRNN(21, 32, 3360, n_classes=5).cuda()\n",
    "rnn_mse = DKL(rnn_mse_encoder, [1,5*32]).cuda()\n",
    "rnn_mse.load_state_dict(torch.load(\"../models/DeepHF/WT/RNN-u59.ptch\"))\n",
    "rnn_mse = rnn_mse.eval()"
   ]
  },
  {
   "cell_type": "code",
   "execution_count": 14,
   "metadata": {},
   "outputs": [],
   "source": [
    "cnn_elbo_encoder = GuideHN(21, 32, 1360, n_classes=5).cuda()\n",
    "cnn_elbo = DKL(cnn_elbo_encoder, [1,5*32]).cuda()\n",
    "cnn_elbo.load_state_dict(torch.load(\"../models/DeepHF/WT/CNN59.ptch\"))\n",
    "cnn_elbo = cnn_elbo.eval()"
   ]
  },
  {
   "cell_type": "code",
   "execution_count": 15,
   "metadata": {},
   "outputs": [],
   "source": [
    "rnn_elbo_encoder = GuideHRNN(21, 32, 3360, n_classes=5).cuda()\n",
    "rnn_elbo = DKL(rnn_elbo_encoder, [1,5*32]).cuda()\n",
    "rnn_elbo.load_state_dict(torch.load(\"../models/DeepHF/WT/RNN59.ptch\"))\n",
    "rnn_elbo = rnn_elbo.eval()"
   ]
  },
  {
   "cell_type": "code",
   "execution_count": 16,
   "metadata": {},
   "outputs": [],
   "source": [
    "data = np.array(\n",
    "    [a for a in os.walk(\"/home/bakirillov/HDD/data/chr22_grnas/\")][0][2]\n",
    ")"
   ]
  },
  {
   "cell_type": "code",
   "execution_count": 17,
   "metadata": {},
   "outputs": [],
   "source": [
    "sizes = np.array(\n",
    "    [op.getsize(op.join(\"/home/bakirillov/HDD/data/chr22_grnas\", a)) for a in data]\n",
    ")"
   ]
  },
  {
   "cell_type": "code",
   "execution_count": 21,
   "metadata": {
    "scrolled": true
   },
   "outputs": [
    {
     "name": "stderr",
     "output_type": "stream",
     "text": [
      " 14%|█▍        | 1/7 [00:00<00:00,  7.13it/s]"
     ]
    },
    {
     "name": "stdout",
     "output_type": "stream",
     "text": [
      "0 (1743, 7)\n"
     ]
    },
    {
     "name": "stderr",
     "output_type": "stream",
     "text": [
      "100%|██████████| 7/7 [00:00<00:00,  7.41it/s]\n",
      "100%|██████████| 1/1 [00:00<00:00, 10.63it/s]\n",
      "  0%|          | 0/1 [00:00<?, ?it/s]"
     ]
    },
    {
     "name": "stdout",
     "output_type": "stream",
     "text": [
      "1 (116, 7)\n",
      "2 (123, 7)\n"
     ]
    },
    {
     "name": "stderr",
     "output_type": "stream",
     "text": [
      "100%|██████████| 1/1 [00:00<00:00, 10.49it/s]\n",
      "  7%|▋         | 1/15 [00:00<00:01,  7.37it/s]"
     ]
    },
    {
     "name": "stdout",
     "output_type": "stream",
     "text": [
      "3 (3778, 7)\n"
     ]
    },
    {
     "name": "stderr",
     "output_type": "stream",
     "text": [
      "100%|██████████| 15/15 [00:01<00:00,  7.61it/s]\n",
      "100%|██████████| 2/2 [00:00<00:00, 10.58it/s]"
     ]
    },
    {
     "name": "stdout",
     "output_type": "stream",
     "text": [
      "4 (288, 7)\n"
     ]
    },
    {
     "name": "stderr",
     "output_type": "stream",
     "text": [
      "\n",
      "  4%|▍         | 1/25 [00:00<00:03,  7.47it/s]"
     ]
    },
    {
     "name": "stdout",
     "output_type": "stream",
     "text": [
      "5 (6256, 7)\n"
     ]
    },
    {
     "name": "stderr",
     "output_type": "stream",
     "text": [
      "100%|██████████| 25/25 [00:03<00:00,  7.65it/s]\n",
      "100%|██████████| 1/1 [00:00<00:00, 21.86it/s]\n",
      "  5%|▍         | 1/22 [00:00<00:02,  7.57it/s]"
     ]
    },
    {
     "name": "stdout",
     "output_type": "stream",
     "text": [
      "6 (4, 7)\n",
      "7 (5434, 7)\n"
     ]
    },
    {
     "name": "stderr",
     "output_type": "stream",
     "text": [
      "100%|██████████| 22/22 [00:02<00:00,  7.61it/s]\n",
      "  2%|▏         | 1/45 [00:00<00:06,  7.29it/s]"
     ]
    },
    {
     "name": "stdout",
     "output_type": "stream",
     "text": [
      "8 (11316, 7)\n"
     ]
    },
    {
     "name": "stderr",
     "output_type": "stream",
     "text": [
      "100%|██████████| 45/45 [00:05<00:00,  7.58it/s]\n",
      "  3%|▎         | 1/31 [00:00<00:03,  7.70it/s]"
     ]
    },
    {
     "name": "stdout",
     "output_type": "stream",
     "text": [
      "9 (7904, 7)\n"
     ]
    },
    {
     "name": "stderr",
     "output_type": "stream",
     "text": [
      "100%|██████████| 31/31 [00:04<00:00,  7.56it/s]\n",
      " 14%|█▍        | 1/7 [00:00<00:00,  7.52it/s]"
     ]
    },
    {
     "name": "stdout",
     "output_type": "stream",
     "text": [
      "10 (1569, 7)\n"
     ]
    },
    {
     "name": "stderr",
     "output_type": "stream",
     "text": [
      "100%|██████████| 7/7 [00:00<00:00,  7.93it/s]\n",
      "100%|██████████| 1/1 [00:00<00:00, 17.05it/s]\n",
      "  0%|          | 0/5 [00:00<?, ?it/s]"
     ]
    },
    {
     "name": "stdout",
     "output_type": "stream",
     "text": [
      "11 (35, 7)\n",
      "12 (1032, 7)\n"
     ]
    },
    {
     "name": "stderr",
     "output_type": "stream",
     "text": [
      "100%|██████████| 5/5 [00:00<00:00,  8.23it/s]\n",
      " 33%|███▎      | 1/3 [00:00<00:00,  7.30it/s]"
     ]
    },
    {
     "name": "stdout",
     "output_type": "stream",
     "text": [
      "13 (525, 7)\n"
     ]
    },
    {
     "name": "stderr",
     "output_type": "stream",
     "text": [
      "100%|██████████| 3/3 [00:00<00:00,  9.03it/s]\n",
      " 25%|██▌       | 1/4 [00:00<00:00,  7.52it/s]"
     ]
    },
    {
     "name": "stdout",
     "output_type": "stream",
     "text": [
      "14 (797, 7)\n"
     ]
    },
    {
     "name": "stderr",
     "output_type": "stream",
     "text": [
      "100%|██████████| 4/4 [00:00<00:00,  8.66it/s]\n",
      "  3%|▎         | 1/37 [00:00<00:04,  7.57it/s]"
     ]
    },
    {
     "name": "stdout",
     "output_type": "stream",
     "text": [
      "15 (9269, 7)\n"
     ]
    },
    {
     "name": "stderr",
     "output_type": "stream",
     "text": [
      "100%|██████████| 37/37 [00:04<00:00,  7.75it/s]\n",
      "100%|██████████| 1/1 [00:00<00:00, 18.45it/s]\n",
      " 20%|██        | 1/5 [00:00<00:00,  7.72it/s]"
     ]
    },
    {
     "name": "stdout",
     "output_type": "stream",
     "text": [
      "16 (30, 7)\n",
      "17 (1144, 7)\n"
     ]
    },
    {
     "name": "stderr",
     "output_type": "stream",
     "text": [
      "100%|██████████| 5/5 [00:00<00:00,  8.27it/s]\n",
      " 25%|██▌       | 1/4 [00:00<00:00,  7.68it/s]"
     ]
    },
    {
     "name": "stdout",
     "output_type": "stream",
     "text": [
      "18 (955, 7)\n"
     ]
    },
    {
     "name": "stderr",
     "output_type": "stream",
     "text": [
      "100%|██████████| 4/4 [00:00<00:00,  7.99it/s]\n",
      "  1%|          | 1/103 [00:00<00:13,  7.77it/s]"
     ]
    },
    {
     "name": "stdout",
     "output_type": "stream",
     "text": [
      "19 (26196, 7)\n"
     ]
    },
    {
     "name": "stderr",
     "output_type": "stream",
     "text": [
      "100%|██████████| 103/103 [00:13<00:00,  7.70it/s]\n",
      "100%|██████████| 1/1 [00:00<00:00, 15.04it/s]\n",
      "  0%|          | 0/4 [00:00<?, ?it/s]"
     ]
    },
    {
     "name": "stdout",
     "output_type": "stream",
     "text": [
      "20 (65, 7)\n",
      "21 (770, 7)\n"
     ]
    },
    {
     "name": "stderr",
     "output_type": "stream",
     "text": [
      "100%|██████████| 4/4 [00:00<00:00,  9.11it/s]\n",
      " 20%|██        | 1/5 [00:00<00:00,  7.63it/s]"
     ]
    },
    {
     "name": "stdout",
     "output_type": "stream",
     "text": [
      "22 (1242, 7)\n"
     ]
    },
    {
     "name": "stderr",
     "output_type": "stream",
     "text": [
      "100%|██████████| 5/5 [00:00<00:00,  7.75it/s]\n",
      "100%|██████████| 1/1 [00:00<00:00, 20.03it/s]\n",
      " 14%|█▍        | 1/7 [00:00<00:00,  7.60it/s]"
     ]
    },
    {
     "name": "stdout",
     "output_type": "stream",
     "text": [
      "23 (18, 7)\n",
      "24 (1786, 7)\n"
     ]
    },
    {
     "name": "stderr",
     "output_type": "stream",
     "text": [
      "100%|██████████| 7/7 [00:00<00:00,  7.62it/s]\n",
      " 12%|█▎        | 1/8 [00:00<00:00,  7.60it/s]"
     ]
    },
    {
     "name": "stdout",
     "output_type": "stream",
     "text": [
      "25 (2039, 7)\n"
     ]
    },
    {
     "name": "stderr",
     "output_type": "stream",
     "text": [
      "100%|██████████| 8/8 [00:01<00:00,  7.53it/s]\n",
      " 50%|█████     | 1/2 [00:00<00:00,  7.37it/s]"
     ]
    },
    {
     "name": "stdout",
     "output_type": "stream",
     "text": [
      "26 (437, 7)\n"
     ]
    },
    {
     "name": "stderr",
     "output_type": "stream",
     "text": [
      "100%|██████████| 2/2 [00:00<00:00,  8.12it/s]\n",
      " 20%|██        | 1/5 [00:00<00:00,  7.44it/s]"
     ]
    },
    {
     "name": "stdout",
     "output_type": "stream",
     "text": [
      "27 (1047, 7)\n"
     ]
    },
    {
     "name": "stderr",
     "output_type": "stream",
     "text": [
      "100%|██████████| 5/5 [00:00<00:00,  8.52it/s]\n",
      "100%|██████████| 1/1 [00:00<00:00, 12.40it/s]\n",
      "  0%|          | 0/4 [00:00<?, ?it/s]"
     ]
    },
    {
     "name": "stdout",
     "output_type": "stream",
     "text": [
      "28 (98, 7)\n",
      "29 (843, 7)\n"
     ]
    },
    {
     "name": "stderr",
     "output_type": "stream",
     "text": [
      "100%|██████████| 4/4 [00:00<00:00,  8.45it/s]\n",
      "  1%|          | 1/91 [00:00<00:12,  7.40it/s]"
     ]
    },
    {
     "name": "stdout",
     "output_type": "stream",
     "text": [
      "30 (23086, 7)\n"
     ]
    },
    {
     "name": "stderr",
     "output_type": "stream",
     "text": [
      "100%|██████████| 91/91 [00:12<00:00,  7.49it/s]\n",
      "  2%|▏         | 1/52 [00:00<00:06,  7.69it/s]"
     ]
    },
    {
     "name": "stdout",
     "output_type": "stream",
     "text": [
      "31 (13152, 7)\n"
     ]
    },
    {
     "name": "stderr",
     "output_type": "stream",
     "text": [
      "100%|██████████| 52/52 [00:06<00:00,  7.51it/s]\n",
      " 25%|██▌       | 1/4 [00:00<00:00,  7.66it/s]"
     ]
    },
    {
     "name": "stdout",
     "output_type": "stream",
     "text": [
      "32 (923, 7)\n"
     ]
    },
    {
     "name": "stderr",
     "output_type": "stream",
     "text": [
      "100%|██████████| 4/4 [00:00<00:00,  8.03it/s]\n",
      "  4%|▍         | 1/26 [00:00<00:03,  7.40it/s]"
     ]
    },
    {
     "name": "stdout",
     "output_type": "stream",
     "text": [
      "33 (6527, 7)\n"
     ]
    },
    {
     "name": "stderr",
     "output_type": "stream",
     "text": [
      "100%|██████████| 26/26 [00:03<00:00,  7.59it/s]\n",
      "100%|██████████| 1/1 [00:00<00:00, 12.79it/s]\n",
      "  0%|          | 0/69 [00:00<?, ?it/s]"
     ]
    },
    {
     "name": "stdout",
     "output_type": "stream",
     "text": [
      "34 (98, 7)\n",
      "35 (17473, 7)\n"
     ]
    },
    {
     "name": "stderr",
     "output_type": "stream",
     "text": [
      "100%|██████████| 69/69 [00:09<00:00,  7.54it/s]\n",
      "  7%|▋         | 1/15 [00:00<00:01,  7.66it/s]"
     ]
    },
    {
     "name": "stdout",
     "output_type": "stream",
     "text": [
      "36 (3683, 7)\n"
     ]
    },
    {
     "name": "stderr",
     "output_type": "stream",
     "text": [
      "100%|██████████| 15/15 [00:01<00:00,  7.76it/s]\n",
      "100%|██████████| 1/1 [00:00<00:00, 13.37it/s]\n",
      "  0%|          | 0/7 [00:00<?, ?it/s]"
     ]
    },
    {
     "name": "stdout",
     "output_type": "stream",
     "text": [
      "37 (88, 7)\n",
      "38 (1605, 7)\n"
     ]
    },
    {
     "name": "stderr",
     "output_type": "stream",
     "text": [
      "100%|██████████| 7/7 [00:00<00:00,  8.11it/s]\n",
      "  3%|▎         | 1/33 [00:00<00:04,  7.55it/s]"
     ]
    },
    {
     "name": "stdout",
     "output_type": "stream",
     "text": [
      "39 (8358, 7)\n"
     ]
    },
    {
     "name": "stderr",
     "output_type": "stream",
     "text": [
      "100%|██████████| 33/33 [00:04<00:00,  7.61it/s]\n",
      " 25%|██▌       | 1/4 [00:00<00:00,  7.59it/s]"
     ]
    },
    {
     "name": "stdout",
     "output_type": "stream",
     "text": [
      "40 (977, 7)\n"
     ]
    },
    {
     "name": "stderr",
     "output_type": "stream",
     "text": [
      "100%|██████████| 4/4 [00:00<00:00,  7.75it/s]\n",
      "100%|██████████| 1/1 [00:00<00:00, 19.84it/s]\n",
      "100%|██████████| 1/1 [00:00<00:00, 11.43it/s]\n",
      "  0%|          | 0/3 [00:00<?, ?it/s]"
     ]
    },
    {
     "name": "stdout",
     "output_type": "stream",
     "text": [
      "41 (17, 7)\n",
      "42 (117, 7)\n",
      "43 (718, 7)\n"
     ]
    },
    {
     "name": "stderr",
     "output_type": "stream",
     "text": [
      "100%|██████████| 3/3 [00:00<00:00,  7.80it/s]\n",
      " 33%|███▎      | 1/3 [00:00<00:00,  7.48it/s]"
     ]
    },
    {
     "name": "stdout",
     "output_type": "stream",
     "text": [
      "44 (680, 7)\n"
     ]
    },
    {
     "name": "stderr",
     "output_type": "stream",
     "text": [
      "100%|██████████| 3/3 [00:00<00:00,  8.07it/s]\n",
      "100%|██████████| 2/2 [00:00<00:00, 10.33it/s]"
     ]
    },
    {
     "name": "stdout",
     "output_type": "stream",
     "text": [
      "45 (301, 7)\n"
     ]
    },
    {
     "name": "stderr",
     "output_type": "stream",
     "text": [
      "\n",
      "  4%|▍         | 1/23 [00:00<00:02,  7.41it/s]"
     ]
    },
    {
     "name": "stdout",
     "output_type": "stream",
     "text": [
      "46 (5861, 7)\n"
     ]
    },
    {
     "name": "stderr",
     "output_type": "stream",
     "text": [
      "100%|██████████| 23/23 [00:03<00:00,  7.55it/s]\n",
      "100%|██████████| 1/1 [00:00<00:00, 14.62it/s]\n",
      "  0%|          | 0/24 [00:00<?, ?it/s]"
     ]
    },
    {
     "name": "stdout",
     "output_type": "stream",
     "text": [
      "47 (68, 7)\n",
      "48 (6054, 7)\n"
     ]
    },
    {
     "name": "stderr",
     "output_type": "stream",
     "text": [
      "100%|██████████| 24/24 [00:03<00:00,  7.61it/s]\n",
      "  2%|▏         | 1/45 [00:00<00:05,  7.54it/s]"
     ]
    },
    {
     "name": "stdout",
     "output_type": "stream",
     "text": [
      "49 (11360, 7)\n"
     ]
    },
    {
     "name": "stderr",
     "output_type": "stream",
     "text": [
      "100%|██████████| 45/45 [00:05<00:00,  7.62it/s]\n",
      "  4%|▎         | 1/28 [00:00<00:03,  7.56it/s]"
     ]
    },
    {
     "name": "stdout",
     "output_type": "stream",
     "text": [
      "50 (6958, 7)\n"
     ]
    },
    {
     "name": "stderr",
     "output_type": "stream",
     "text": [
      "100%|██████████| 28/28 [00:03<00:00,  7.73it/s]\n",
      "0it [00:00, ?it/s]\n",
      " 50%|█████     | 1/2 [00:00<00:00,  7.45it/s]"
     ]
    },
    {
     "name": "stdout",
     "output_type": "stream",
     "text": [
      "51 (0, 1)\n",
      "52 (476, 7)\n"
     ]
    },
    {
     "name": "stderr",
     "output_type": "stream",
     "text": [
      "100%|██████████| 2/2 [00:00<00:00,  7.73it/s]\n",
      "100%|██████████| 1/1 [00:00<00:00,  8.30it/s]\n",
      "  0%|          | 0/1 [00:00<?, ?it/s]"
     ]
    },
    {
     "name": "stdout",
     "output_type": "stream",
     "text": [
      "53 (217, 7)\n",
      "54 (108, 7)\n"
     ]
    },
    {
     "name": "stderr",
     "output_type": "stream",
     "text": [
      "100%|██████████| 1/1 [00:00<00:00, 12.14it/s]\n",
      "100%|██████████| 1/1 [00:00<00:00, 18.21it/s]\n",
      "  0%|          | 0/8 [00:00<?, ?it/s]"
     ]
    },
    {
     "name": "stdout",
     "output_type": "stream",
     "text": [
      "55 (31, 7)\n",
      "56 (1809, 7)\n"
     ]
    },
    {
     "name": "stderr",
     "output_type": "stream",
     "text": [
      "100%|██████████| 8/8 [00:00<00:00,  8.31it/s]\n",
      "  5%|▌         | 1/20 [00:00<00:02,  7.71it/s]"
     ]
    },
    {
     "name": "stdout",
     "output_type": "stream",
     "text": [
      "57 (4917, 7)\n"
     ]
    },
    {
     "name": "stderr",
     "output_type": "stream",
     "text": [
      "100%|██████████| 20/20 [00:02<00:00,  7.90it/s]\n",
      "100%|██████████| 1/1 [00:00<00:00,  8.99it/s]\n",
      "  0%|          | 0/3 [00:00<?, ?it/s]"
     ]
    },
    {
     "name": "stdout",
     "output_type": "stream",
     "text": [
      "58 (198, 7)\n",
      "59 (613, 7)\n"
     ]
    },
    {
     "name": "stderr",
     "output_type": "stream",
     "text": [
      "100%|██████████| 3/3 [00:00<00:00,  8.85it/s]\n",
      "100%|██████████| 1/1 [00:00<00:00, 22.69it/s]\n",
      "100%|██████████| 1/1 [00:00<00:00, 18.20it/s]\n",
      "  0%|          | 0/18 [00:00<?, ?it/s]"
     ]
    },
    {
     "name": "stdout",
     "output_type": "stream",
     "text": [
      "60 (3, 7)\n",
      "61 (35, 7)\n",
      "62 (4412, 7)\n"
     ]
    },
    {
     "name": "stderr",
     "output_type": "stream",
     "text": [
      "100%|██████████| 18/18 [00:02<00:00,  7.94it/s]\n",
      " 33%|███▎      | 1/3 [00:00<00:00,  7.53it/s]"
     ]
    },
    {
     "name": "stdout",
     "output_type": "stream",
     "text": [
      "63 (643, 7)\n"
     ]
    },
    {
     "name": "stderr",
     "output_type": "stream",
     "text": [
      "100%|██████████| 3/3 [00:00<00:00,  8.47it/s]\n",
      "100%|██████████| 1/1 [00:00<00:00, 18.04it/s]\n",
      "  0%|          | 0/33 [00:00<?, ?it/s]"
     ]
    },
    {
     "name": "stdout",
     "output_type": "stream",
     "text": [
      "64 (31, 7)\n",
      "65 (8296, 7)\n"
     ]
    },
    {
     "name": "stderr",
     "output_type": "stream",
     "text": [
      "100%|██████████| 33/33 [00:04<00:00,  7.46it/s]\n",
      " 50%|█████     | 1/2 [00:00<00:00,  7.61it/s]"
     ]
    },
    {
     "name": "stdout",
     "output_type": "stream",
     "text": [
      "66 (430, 7)\n"
     ]
    },
    {
     "name": "stderr",
     "output_type": "stream",
     "text": [
      "100%|██████████| 2/2 [00:00<00:00,  8.44it/s]\n",
      "100%|██████████| 2/2 [00:00<00:00, 10.71it/s]"
     ]
    },
    {
     "name": "stdout",
     "output_type": "stream",
     "text": [
      "67 (292, 7)\n"
     ]
    },
    {
     "name": "stderr",
     "output_type": "stream",
     "text": [
      "\n",
      " 33%|███▎      | 1/3 [00:00<00:00,  7.48it/s]"
     ]
    },
    {
     "name": "stdout",
     "output_type": "stream",
     "text": [
      "68 (663, 7)\n"
     ]
    },
    {
     "name": "stderr",
     "output_type": "stream",
     "text": [
      "100%|██████████| 3/3 [00:00<00:00,  8.08it/s]\n",
      " 20%|██        | 1/5 [00:00<00:00,  7.35it/s]"
     ]
    },
    {
     "name": "stdout",
     "output_type": "stream",
     "text": [
      "69 (1244, 7)\n"
     ]
    },
    {
     "name": "stderr",
     "output_type": "stream",
     "text": [
      "100%|██████████| 5/5 [00:00<00:00,  7.51it/s]\n",
      "  6%|▌         | 1/17 [00:00<00:02,  7.32it/s]"
     ]
    },
    {
     "name": "stdout",
     "output_type": "stream",
     "text": [
      "70 (4274, 7)\n"
     ]
    },
    {
     "name": "stderr",
     "output_type": "stream",
     "text": [
      "100%|██████████| 17/17 [00:02<00:00,  7.59it/s]\n",
      "  8%|▊         | 1/13 [00:00<00:01,  7.50it/s]"
     ]
    },
    {
     "name": "stdout",
     "output_type": "stream",
     "text": [
      "71 (3299, 7)\n"
     ]
    },
    {
     "name": "stderr",
     "output_type": "stream",
     "text": [
      "100%|██████████| 13/13 [00:01<00:00,  7.56it/s]\n",
      "100%|██████████| 1/1 [00:00<00:00, 13.35it/s]\n",
      "  0%|          | 0/15 [00:00<?, ?it/s]"
     ]
    },
    {
     "name": "stdout",
     "output_type": "stream",
     "text": [
      "72 (83, 7)\n",
      "73 (3764, 7)\n"
     ]
    },
    {
     "name": "stderr",
     "output_type": "stream",
     "text": [
      "100%|██████████| 15/15 [00:01<00:00,  7.62it/s]\n",
      "  5%|▌         | 1/19 [00:00<00:02,  7.52it/s]"
     ]
    },
    {
     "name": "stdout",
     "output_type": "stream",
     "text": [
      "74 (4648, 7)\n"
     ]
    },
    {
     "name": "stderr",
     "output_type": "stream",
     "text": [
      "100%|██████████| 19/19 [00:02<00:00,  7.77it/s]\n",
      "  5%|▌         | 1/20 [00:00<00:02,  7.49it/s]"
     ]
    },
    {
     "name": "stdout",
     "output_type": "stream",
     "text": [
      "75 (5007, 7)\n"
     ]
    },
    {
     "name": "stderr",
     "output_type": "stream",
     "text": [
      "100%|██████████| 20/20 [00:02<00:00,  7.64it/s]\n",
      "  9%|▉         | 1/11 [00:00<00:01,  7.57it/s]"
     ]
    },
    {
     "name": "stdout",
     "output_type": "stream",
     "text": [
      "76 (2736, 7)\n"
     ]
    },
    {
     "name": "stderr",
     "output_type": "stream",
     "text": [
      "100%|██████████| 11/11 [00:01<00:00,  7.64it/s]\n",
      "100%|██████████| 1/1 [00:00<00:00, 13.11it/s]\n",
      "100%|██████████| 1/1 [00:00<00:00, 14.13it/s]\n",
      "  0%|          | 0/2 [00:00<?, ?it/s]"
     ]
    },
    {
     "name": "stdout",
     "output_type": "stream",
     "text": [
      "77 (95, 7)\n",
      "78 (79, 7)\n",
      "79 (386, 7)\n"
     ]
    },
    {
     "name": "stderr",
     "output_type": "stream",
     "text": [
      "100%|██████████| 2/2 [00:00<00:00,  9.01it/s]\n",
      "  2%|▏         | 1/42 [00:00<00:05,  7.55it/s]"
     ]
    },
    {
     "name": "stdout",
     "output_type": "stream",
     "text": [
      "80 (10681, 7)\n"
     ]
    },
    {
     "name": "stderr",
     "output_type": "stream",
     "text": [
      "100%|██████████| 42/42 [00:05<00:00,  7.65it/s]\n",
      " 33%|███▎      | 1/3 [00:00<00:00,  7.61it/s]"
     ]
    },
    {
     "name": "stdout",
     "output_type": "stream",
     "text": [
      "81 (646, 7)\n"
     ]
    },
    {
     "name": "stderr",
     "output_type": "stream",
     "text": [
      "100%|██████████| 3/3 [00:00<00:00,  8.48it/s]\n",
      "100%|██████████| 2/2 [00:00<00:00, 10.09it/s]"
     ]
    },
    {
     "name": "stdout",
     "output_type": "stream",
     "text": [
      "82 (325, 7)\n"
     ]
    },
    {
     "name": "stderr",
     "output_type": "stream",
     "text": [
      "\n",
      " 11%|█         | 1/9 [00:00<00:01,  7.57it/s]"
     ]
    },
    {
     "name": "stdout",
     "output_type": "stream",
     "text": [
      "83 (2193, 7)\n"
     ]
    },
    {
     "name": "stderr",
     "output_type": "stream",
     "text": [
      "100%|██████████| 9/9 [00:01<00:00,  7.85it/s]\n",
      "100%|██████████| 1/1 [00:00<00:00, 15.97it/s]\n",
      "  0%|          | 0/21 [00:00<?, ?it/s]"
     ]
    },
    {
     "name": "stdout",
     "output_type": "stream",
     "text": [
      "84 (55, 7)\n",
      "85 (5257, 7)\n"
     ]
    },
    {
     "name": "stderr",
     "output_type": "stream",
     "text": [
      "100%|██████████| 21/21 [00:02<00:00,  7.73it/s]\n",
      " 50%|█████     | 1/2 [00:00<00:00,  7.54it/s]"
     ]
    },
    {
     "name": "stdout",
     "output_type": "stream",
     "text": [
      "86 (349, 7)\n"
     ]
    },
    {
     "name": "stderr",
     "output_type": "stream",
     "text": [
      "100%|██████████| 2/2 [00:00<00:00,  9.60it/s]\n",
      "100%|██████████| 2/2 [00:00<00:00, 10.17it/s]"
     ]
    },
    {
     "name": "stdout",
     "output_type": "stream",
     "text": [
      "87 (318, 7)\n"
     ]
    },
    {
     "name": "stderr",
     "output_type": "stream",
     "text": [
      "\n",
      "  9%|▉         | 1/11 [00:00<00:01,  7.58it/s]"
     ]
    },
    {
     "name": "stdout",
     "output_type": "stream",
     "text": [
      "88 (2682, 7)\n"
     ]
    },
    {
     "name": "stderr",
     "output_type": "stream",
     "text": [
      "100%|██████████| 11/11 [00:01<00:00,  7.85it/s]\n",
      " 17%|█▋        | 1/6 [00:00<00:00,  7.57it/s]"
     ]
    },
    {
     "name": "stdout",
     "output_type": "stream",
     "text": [
      "89 (1412, 7)\n"
     ]
    },
    {
     "name": "stderr",
     "output_type": "stream",
     "text": [
      "100%|██████████| 6/6 [00:00<00:00,  7.96it/s]\n",
      "  7%|▋         | 1/14 [00:00<00:01,  7.51it/s]"
     ]
    },
    {
     "name": "stdout",
     "output_type": "stream",
     "text": [
      "90 (3563, 7)\n"
     ]
    },
    {
     "name": "stderr",
     "output_type": "stream",
     "text": [
      "100%|██████████| 14/14 [00:01<00:00,  7.53it/s]\n",
      "100%|██████████| 1/1 [00:00<00:00,  9.57it/s]\n",
      "  0%|          | 0/8 [00:00<?, ?it/s]"
     ]
    },
    {
     "name": "stdout",
     "output_type": "stream",
     "text": [
      "91 (168, 7)\n",
      "92 (1807, 7)\n"
     ]
    },
    {
     "name": "stderr",
     "output_type": "stream",
     "text": [
      "100%|██████████| 8/8 [00:00<00:00,  8.24it/s]\n",
      " 25%|██▌       | 1/4 [00:00<00:00,  7.70it/s]"
     ]
    },
    {
     "name": "stdout",
     "output_type": "stream",
     "text": [
      "93 (883, 7)\n"
     ]
    },
    {
     "name": "stderr",
     "output_type": "stream",
     "text": [
      "100%|██████████| 4/4 [00:00<00:00,  8.42it/s]\n",
      "  8%|▊         | 1/12 [00:00<00:01,  7.66it/s]"
     ]
    },
    {
     "name": "stdout",
     "output_type": "stream",
     "text": [
      "94 (3043, 7)\n"
     ]
    },
    {
     "name": "stderr",
     "output_type": "stream",
     "text": [
      "100%|██████████| 12/12 [00:01<00:00,  7.73it/s]\n",
      "100%|██████████| 1/1 [00:00<00:00, 10.74it/s]\n",
      "  0%|          | 0/5 [00:00<?, ?it/s]"
     ]
    },
    {
     "name": "stdout",
     "output_type": "stream",
     "text": [
      "95 (144, 7)\n",
      "96 (1105, 7)\n"
     ]
    },
    {
     "name": "stderr",
     "output_type": "stream",
     "text": [
      "100%|██████████| 5/5 [00:00<00:00,  8.40it/s]\n",
      " 20%|██        | 1/5 [00:00<00:00,  7.68it/s]"
     ]
    },
    {
     "name": "stdout",
     "output_type": "stream",
     "text": [
      "97 (1052, 7)\n"
     ]
    },
    {
     "name": "stderr",
     "output_type": "stream",
     "text": [
      "100%|██████████| 5/5 [00:00<00:00,  8.70it/s]\n",
      " 10%|█         | 1/10 [00:00<00:01,  7.68it/s]"
     ]
    },
    {
     "name": "stdout",
     "output_type": "stream",
     "text": [
      "98 (2446, 7)\n"
     ]
    },
    {
     "name": "stderr",
     "output_type": "stream",
     "text": [
      "100%|██████████| 10/10 [00:01<00:00,  7.92it/s]\n",
      "100%|██████████| 1/1 [00:00<00:00, 13.40it/s]\n",
      "  0%|          | 0/8 [00:00<?, ?it/s]"
     ]
    },
    {
     "name": "stdout",
     "output_type": "stream",
     "text": [
      "99 (91, 7)\n",
      "100 (1852, 7)\n"
     ]
    },
    {
     "name": "stderr",
     "output_type": "stream",
     "text": [
      "100%|██████████| 8/8 [00:00<00:00,  8.22it/s]\n",
      "100%|██████████| 1/1 [00:00<00:00, 22.17it/s]\n",
      "  8%|▊         | 1/13 [00:00<00:01,  7.69it/s]"
     ]
    },
    {
     "name": "stdout",
     "output_type": "stream",
     "text": [
      "101 (5, 7)\n",
      "102 (3198, 7)\n"
     ]
    },
    {
     "name": "stderr",
     "output_type": "stream",
     "text": [
      "100%|██████████| 13/13 [00:01<00:00,  7.90it/s]\n",
      "  2%|▏         | 1/48 [00:00<00:06,  7.62it/s]"
     ]
    },
    {
     "name": "stdout",
     "output_type": "stream",
     "text": [
      "103 (12159, 7)\n"
     ]
    },
    {
     "name": "stderr",
     "output_type": "stream",
     "text": [
      "100%|██████████| 48/48 [00:06<00:00,  7.72it/s]\n",
      "  3%|▎         | 1/38 [00:00<00:04,  7.71it/s]"
     ]
    },
    {
     "name": "stdout",
     "output_type": "stream",
     "text": [
      "104 (9569, 7)\n"
     ]
    },
    {
     "name": "stderr",
     "output_type": "stream",
     "text": [
      "100%|██████████| 38/38 [00:04<00:00,  7.78it/s]\n",
      "100%|██████████| 1/1 [00:00<00:00, 14.81it/s]\n",
      "  0%|          | 0/20 [00:00<?, ?it/s]"
     ]
    },
    {
     "name": "stdout",
     "output_type": "stream",
     "text": [
      "105 (71, 7)\n",
      "106 (4965, 7)\n"
     ]
    },
    {
     "name": "stderr",
     "output_type": "stream",
     "text": [
      "100%|██████████| 20/20 [00:02<00:00,  7.85it/s]\n",
      "100%|██████████| 1/1 [00:00<00:00, 20.64it/s]\n",
      " 17%|█▋        | 1/6 [00:00<00:00,  7.70it/s]"
     ]
    },
    {
     "name": "stdout",
     "output_type": "stream",
     "text": [
      "107 (17, 7)\n",
      "108 (1494, 7)\n"
     ]
    },
    {
     "name": "stderr",
     "output_type": "stream",
     "text": [
      "100%|██████████| 6/6 [00:00<00:00,  7.80it/s]\n",
      " 50%|█████     | 1/2 [00:00<00:00,  7.64it/s]"
     ]
    },
    {
     "name": "stdout",
     "output_type": "stream",
     "text": [
      "109 (352, 7)\n"
     ]
    },
    {
     "name": "stderr",
     "output_type": "stream",
     "text": [
      "100%|██████████| 2/2 [00:00<00:00,  9.60it/s]\n",
      " 10%|█         | 1/10 [00:00<00:01,  7.67it/s]"
     ]
    },
    {
     "name": "stdout",
     "output_type": "stream",
     "text": [
      "110 (2372, 7)\n"
     ]
    },
    {
     "name": "stderr",
     "output_type": "stream",
     "text": [
      "100%|██████████| 10/10 [00:01<00:00,  8.07it/s]\n",
      "100%|██████████| 1/1 [00:00<00:00,  8.41it/s]\n",
      "  0%|          | 0/3 [00:00<?, ?it/s]"
     ]
    },
    {
     "name": "stdout",
     "output_type": "stream",
     "text": [
      "111 (221, 7)\n",
      "112 (756, 7)\n"
     ]
    },
    {
     "name": "stderr",
     "output_type": "stream",
     "text": [
      "100%|██████████| 3/3 [00:00<00:00,  7.69it/s]\n",
      " 17%|█▋        | 1/6 [00:00<00:00,  7.65it/s]"
     ]
    },
    {
     "name": "stdout",
     "output_type": "stream",
     "text": [
      "113 (1507, 7)\n"
     ]
    },
    {
     "name": "stderr",
     "output_type": "stream",
     "text": [
      "100%|██████████| 6/6 [00:00<00:00,  7.75it/s]\n",
      "100%|██████████| 1/1 [00:00<00:00, 14.09it/s]\n",
      "100%|██████████| 1/1 [00:00<00:00,  8.66it/s]"
     ]
    },
    {
     "name": "stdout",
     "output_type": "stream",
     "text": [
      "114 (81, 7)\n",
      "115 (207, 7)\n"
     ]
    },
    {
     "name": "stderr",
     "output_type": "stream",
     "text": [
      "\n",
      " 50%|█████     | 1/2 [00:00<00:00,  7.65it/s]"
     ]
    },
    {
     "name": "stdout",
     "output_type": "stream",
     "text": [
      "116 (422, 7)\n"
     ]
    },
    {
     "name": "stderr",
     "output_type": "stream",
     "text": [
      "100%|██████████| 2/2 [00:00<00:00,  8.61it/s]\n",
      "100%|██████████| 1/1 [00:00<00:00, 21.24it/s]\n",
      "100%|██████████| 1/1 [00:00<00:00, 20.36it/s]\n",
      "100%|██████████| 1/1 [00:00<00:00, 20.84it/s]\n",
      "  0%|          | 0/1 [00:00<?, ?it/s]"
     ]
    },
    {
     "name": "stdout",
     "output_type": "stream",
     "text": [
      "117 (12, 7)\n",
      "118 (17, 7)\n",
      "119 (14, 7)\n",
      "120 (212, 7)\n"
     ]
    },
    {
     "name": "stderr",
     "output_type": "stream",
     "text": [
      "100%|██████████| 1/1 [00:00<00:00,  8.49it/s]\n",
      "  1%|          | 1/109 [00:00<00:14,  7.69it/s]"
     ]
    },
    {
     "name": "stdout",
     "output_type": "stream",
     "text": [
      "121 (27673, 7)\n"
     ]
    },
    {
     "name": "stderr",
     "output_type": "stream",
     "text": [
      "100%|██████████| 109/109 [00:14<00:00,  7.71it/s]\n",
      "0it [00:00, ?it/s]\n",
      " 11%|█         | 1/9 [00:00<00:01,  7.63it/s]"
     ]
    },
    {
     "name": "stdout",
     "output_type": "stream",
     "text": [
      "122 (0, 1)\n",
      "123 (2180, 7)\n"
     ]
    },
    {
     "name": "stderr",
     "output_type": "stream",
     "text": [
      "100%|██████████| 9/9 [00:01<00:00,  7.93it/s]\n",
      "  9%|▉         | 1/11 [00:00<00:01,  7.67it/s]"
     ]
    },
    {
     "name": "stdout",
     "output_type": "stream",
     "text": [
      "124 (2787, 7)\n"
     ]
    },
    {
     "name": "stderr",
     "output_type": "stream",
     "text": [
      "100%|██████████| 11/11 [00:01<00:00,  7.71it/s]\n",
      "100%|██████████| 1/1 [00:00<00:00, 10.82it/s]\n",
      "  0%|          | 0/65 [00:00<?, ?it/s]"
     ]
    },
    {
     "name": "stdout",
     "output_type": "stream",
     "text": [
      "125 (136, 7)\n",
      "126 (16402, 7)\n"
     ]
    },
    {
     "name": "stderr",
     "output_type": "stream",
     "text": [
      "100%|██████████| 65/65 [00:08<00:00,  7.65it/s]\n",
      " 14%|█▍        | 1/7 [00:00<00:00,  7.57it/s]"
     ]
    },
    {
     "name": "stdout",
     "output_type": "stream",
     "text": [
      "127 (1600, 7)\n"
     ]
    },
    {
     "name": "stderr",
     "output_type": "stream",
     "text": [
      "100%|██████████| 7/7 [00:00<00:00,  8.11it/s]\n",
      "100%|██████████| 1/1 [00:00<00:00, 11.07it/s]\n",
      "  0%|          | 0/9 [00:00<?, ?it/s]"
     ]
    },
    {
     "name": "stdout",
     "output_type": "stream",
     "text": [
      "128 (130, 7)\n",
      "129 (2195, 7)\n"
     ]
    },
    {
     "name": "stderr",
     "output_type": "stream",
     "text": [
      "100%|██████████| 9/9 [00:01<00:00,  7.77it/s]\n",
      " 50%|█████     | 1/2 [00:00<00:00,  7.66it/s]"
     ]
    },
    {
     "name": "stdout",
     "output_type": "stream",
     "text": [
      "130 (479, 7)\n"
     ]
    },
    {
     "name": "stderr",
     "output_type": "stream",
     "text": [
      "100%|██████████| 2/2 [00:00<00:00,  7.91it/s]\n",
      " 11%|█         | 1/9 [00:00<00:01,  7.63it/s]"
     ]
    },
    {
     "name": "stdout",
     "output_type": "stream",
     "text": [
      "131 (2252, 7)\n"
     ]
    },
    {
     "name": "stderr",
     "output_type": "stream",
     "text": [
      "100%|██████████| 9/9 [00:01<00:00,  7.68it/s]\n",
      " 17%|█▋        | 1/6 [00:00<00:00,  7.20it/s]"
     ]
    },
    {
     "name": "stdout",
     "output_type": "stream",
     "text": [
      "132 (1299, 7)\n"
     ]
    },
    {
     "name": "stderr",
     "output_type": "stream",
     "text": [
      "100%|██████████| 6/6 [00:00<00:00,  8.09it/s]\n",
      "100%|██████████| 1/1 [00:00<00:00,  8.50it/s]\n",
      "  0%|          | 0/23 [00:00<?, ?it/s]"
     ]
    },
    {
     "name": "stdout",
     "output_type": "stream",
     "text": [
      "133 (207, 7)\n",
      "134 (5634, 7)\n"
     ]
    },
    {
     "name": "stderr",
     "output_type": "stream",
     "text": [
      "100%|██████████| 23/23 [00:02<00:00,  7.68it/s]\n",
      "  1%|          | 1/81 [00:00<00:10,  7.56it/s]"
     ]
    },
    {
     "name": "stdout",
     "output_type": "stream",
     "text": [
      "135 (20595, 7)\n"
     ]
    },
    {
     "name": "stderr",
     "output_type": "stream",
     "text": [
      "100%|██████████| 81/81 [00:10<00:00,  7.57it/s]\n",
      " 10%|█         | 1/10 [00:00<00:01,  7.67it/s]"
     ]
    },
    {
     "name": "stdout",
     "output_type": "stream",
     "text": [
      "136 (2459, 7)\n"
     ]
    },
    {
     "name": "stderr",
     "output_type": "stream",
     "text": [
      "100%|██████████| 10/10 [00:01<00:00,  7.78it/s]\n",
      "  6%|▌         | 1/18 [00:00<00:02,  7.51it/s]"
     ]
    },
    {
     "name": "stdout",
     "output_type": "stream",
     "text": [
      "137 (4532, 7)\n"
     ]
    },
    {
     "name": "stderr",
     "output_type": "stream",
     "text": [
      "100%|██████████| 18/18 [00:02<00:00,  7.19it/s]\n",
      " 25%|██▌       | 1/4 [00:00<00:00,  7.11it/s]"
     ]
    },
    {
     "name": "stdout",
     "output_type": "stream",
     "text": [
      "138 (812, 7)\n"
     ]
    },
    {
     "name": "stderr",
     "output_type": "stream",
     "text": [
      "100%|██████████| 4/4 [00:00<00:00,  8.03it/s]\n",
      " 33%|███▎      | 1/3 [00:00<00:00,  7.05it/s]"
     ]
    },
    {
     "name": "stdout",
     "output_type": "stream",
     "text": [
      "139 (552, 7)\n"
     ]
    },
    {
     "name": "stderr",
     "output_type": "stream",
     "text": [
      "100%|██████████| 3/3 [00:00<00:00,  8.53it/s]\n",
      "100%|██████████| 1/1 [00:00<00:00, 17.94it/s]\n",
      "  0%|          | 0/7 [00:00<?, ?it/s]"
     ]
    },
    {
     "name": "stdout",
     "output_type": "stream",
     "text": [
      "140 (13, 7)\n",
      "141 (1592, 7)\n"
     ]
    },
    {
     "name": "stderr",
     "output_type": "stream",
     "text": [
      "100%|██████████| 7/7 [00:00<00:00,  7.69it/s]\n",
      "100%|██████████| 1/1 [00:00<00:00,  9.02it/s]\n",
      "  0%|          | 0/1 [00:00<?, ?it/s]"
     ]
    },
    {
     "name": "stdout",
     "output_type": "stream",
     "text": [
      "142 (197, 7)\n",
      "143 (163, 7)\n"
     ]
    },
    {
     "name": "stderr",
     "output_type": "stream",
     "text": [
      "100%|██████████| 1/1 [00:00<00:00,  9.86it/s]\n",
      "100%|██████████| 1/1 [00:00<00:00, 16.59it/s]\n",
      "  0%|          | 0/7 [00:00<?, ?it/s]"
     ]
    },
    {
     "name": "stdout",
     "output_type": "stream",
     "text": [
      "144 (45, 7)\n",
      "145 (1610, 7)\n"
     ]
    },
    {
     "name": "stderr",
     "output_type": "stream",
     "text": [
      "100%|██████████| 7/7 [00:00<00:00,  7.93it/s]\n",
      "100%|██████████| 1/1 [00:00<00:00, 10.69it/s]\n",
      "100%|██████████| 1/1 [00:00<00:00, 13.21it/s]\n",
      "  0%|          | 0/1 [00:00<?, ?it/s]"
     ]
    },
    {
     "name": "stdout",
     "output_type": "stream",
     "text": [
      "146 (146, 7)\n",
      "147 (95, 7)\n",
      "148 (7, 7)\n"
     ]
    },
    {
     "name": "stderr",
     "output_type": "stream",
     "text": [
      "100%|██████████| 1/1 [00:00<00:00, 21.47it/s]\n",
      "100%|██████████| 1/1 [00:00<00:00,  8.34it/s]\n",
      "  0%|          | 0/17 [00:00<?, ?it/s]"
     ]
    },
    {
     "name": "stdout",
     "output_type": "stream",
     "text": [
      "149 (220, 7)\n",
      "150 (4159, 7)\n"
     ]
    },
    {
     "name": "stderr",
     "output_type": "stream",
     "text": [
      "100%|██████████| 17/17 [00:02<00:00,  7.57it/s]\n",
      "100%|██████████| 1/1 [00:00<00:00, 11.25it/s]\n",
      "  0%|          | 0/3 [00:00<?, ?it/s]"
     ]
    },
    {
     "name": "stdout",
     "output_type": "stream",
     "text": [
      "151 (110, 7)\n",
      "152 (579, 7)\n"
     ]
    },
    {
     "name": "stderr",
     "output_type": "stream",
     "text": [
      "100%|██████████| 3/3 [00:00<00:00,  8.96it/s]\n",
      " 50%|█████     | 1/2 [00:00<00:00,  6.74it/s]"
     ]
    },
    {
     "name": "stdout",
     "output_type": "stream",
     "text": [
      "153 (420, 7)\n"
     ]
    },
    {
     "name": "stderr",
     "output_type": "stream",
     "text": [
      "100%|██████████| 2/2 [00:00<00:00,  7.78it/s]\n",
      "100%|██████████| 1/1 [00:00<00:00, 14.13it/s]\n",
      "  0%|          | 0/16 [00:00<?, ?it/s]"
     ]
    },
    {
     "name": "stdout",
     "output_type": "stream",
     "text": [
      "154 (79, 7)\n",
      "155 (3990, 7)\n"
     ]
    },
    {
     "name": "stderr",
     "output_type": "stream",
     "text": [
      "100%|██████████| 16/16 [00:02<00:00,  7.41it/s]\n",
      "  7%|▋         | 1/15 [00:00<00:01,  7.23it/s]"
     ]
    },
    {
     "name": "stdout",
     "output_type": "stream",
     "text": [
      "156 (3781, 7)\n"
     ]
    },
    {
     "name": "stderr",
     "output_type": "stream",
     "text": [
      "100%|██████████| 15/15 [00:01<00:00,  7.57it/s]\n",
      "  5%|▌         | 1/20 [00:00<00:02,  7.31it/s]"
     ]
    },
    {
     "name": "stdout",
     "output_type": "stream",
     "text": [
      "157 (5041, 7)\n"
     ]
    },
    {
     "name": "stderr",
     "output_type": "stream",
     "text": [
      "100%|██████████| 20/20 [00:02<00:00,  7.67it/s]\n",
      " 12%|█▎        | 1/8 [00:00<00:00,  7.66it/s]"
     ]
    },
    {
     "name": "stdout",
     "output_type": "stream",
     "text": [
      "158 (1891, 7)\n"
     ]
    },
    {
     "name": "stderr",
     "output_type": "stream",
     "text": [
      "100%|██████████| 8/8 [00:01<00:00,  7.85it/s]\n",
      "  4%|▍         | 1/23 [00:00<00:02,  7.75it/s]"
     ]
    },
    {
     "name": "stdout",
     "output_type": "stream",
     "text": [
      "159 (5679, 7)\n"
     ]
    },
    {
     "name": "stderr",
     "output_type": "stream",
     "text": [
      "100%|██████████| 23/23 [00:03<00:00,  7.60it/s]\n",
      "  6%|▌         | 1/18 [00:00<00:02,  7.37it/s]"
     ]
    },
    {
     "name": "stdout",
     "output_type": "stream",
     "text": [
      "160 (4463, 7)\n"
     ]
    },
    {
     "name": "stderr",
     "output_type": "stream",
     "text": [
      "100%|██████████| 18/18 [00:02<00:00,  7.62it/s]\n",
      " 33%|███▎      | 1/3 [00:00<00:00,  7.55it/s]"
     ]
    },
    {
     "name": "stdout",
     "output_type": "stream",
     "text": [
      "161 (639, 7)\n"
     ]
    },
    {
     "name": "stderr",
     "output_type": "stream",
     "text": [
      "100%|██████████| 3/3 [00:00<00:00,  8.55it/s]\n",
      "100%|██████████| 1/1 [00:00<00:00, 11.52it/s]\n",
      "  0%|          | 0/5 [00:00<?, ?it/s]"
     ]
    },
    {
     "name": "stdout",
     "output_type": "stream",
     "text": [
      "162 (129, 7)\n",
      "163 (1036, 7)\n"
     ]
    },
    {
     "name": "stderr",
     "output_type": "stream",
     "text": [
      "100%|██████████| 5/5 [00:00<00:00,  8.82it/s]\n",
      " 11%|█         | 1/9 [00:00<00:01,  7.64it/s]"
     ]
    },
    {
     "name": "stdout",
     "output_type": "stream",
     "text": [
      "164 (2287, 7)\n"
     ]
    },
    {
     "name": "stderr",
     "output_type": "stream",
     "text": [
      "100%|██████████| 9/9 [00:01<00:00,  7.70it/s]\n",
      " 20%|██        | 1/5 [00:00<00:00,  7.80it/s]"
     ]
    },
    {
     "name": "stdout",
     "output_type": "stream",
     "text": [
      "165 (1061, 7)\n"
     ]
    },
    {
     "name": "stderr",
     "output_type": "stream",
     "text": [
      "100%|██████████| 5/5 [00:00<00:00,  8.73it/s]\n",
      "  3%|▎         | 1/36 [00:00<00:04,  7.70it/s]"
     ]
    },
    {
     "name": "stdout",
     "output_type": "stream",
     "text": [
      "166 (9010, 7)\n"
     ]
    },
    {
     "name": "stderr",
     "output_type": "stream",
     "text": [
      "100%|██████████| 36/36 [00:04<00:00,  7.84it/s]\n",
      " 33%|███▎      | 1/3 [00:00<00:00,  7.73it/s]"
     ]
    },
    {
     "name": "stdout",
     "output_type": "stream",
     "text": [
      "167 (547, 7)\n"
     ]
    },
    {
     "name": "stderr",
     "output_type": "stream",
     "text": [
      "100%|██████████| 3/3 [00:00<00:00,  9.64it/s]\n",
      "  5%|▌         | 1/19 [00:00<00:02,  7.67it/s]"
     ]
    },
    {
     "name": "stdout",
     "output_type": "stream",
     "text": [
      "168 (4746, 7)\n"
     ]
    },
    {
     "name": "stderr",
     "output_type": "stream",
     "text": [
      "100%|██████████| 19/19 [00:02<00:00,  7.82it/s]\n",
      "100%|██████████| 2/2 [00:00<00:00, 10.25it/s]"
     ]
    },
    {
     "name": "stdout",
     "output_type": "stream",
     "text": [
      "169 (325, 7)\n"
     ]
    },
    {
     "name": "stderr",
     "output_type": "stream",
     "text": [
      "\n",
      " 20%|██        | 1/5 [00:00<00:00,  7.66it/s]"
     ]
    },
    {
     "name": "stdout",
     "output_type": "stream",
     "text": [
      "170 (1067, 7)\n"
     ]
    },
    {
     "name": "stderr",
     "output_type": "stream",
     "text": [
      "100%|██████████| 5/5 [00:00<00:00,  8.67it/s]\n",
      " 50%|█████     | 1/2 [00:00<00:00,  7.76it/s]"
     ]
    },
    {
     "name": "stdout",
     "output_type": "stream",
     "text": [
      "171 (479, 7)\n"
     ]
    },
    {
     "name": "stderr",
     "output_type": "stream",
     "text": [
      "100%|██████████| 2/2 [00:00<00:00,  8.07it/s]\n",
      "  1%|          | 1/123 [00:00<00:15,  7.68it/s]"
     ]
    },
    {
     "name": "stdout",
     "output_type": "stream",
     "text": [
      "172 (31393, 7)\n"
     ]
    },
    {
     "name": "stderr",
     "output_type": "stream",
     "text": [
      "100%|██████████| 123/123 [00:16<00:00,  7.32it/s]\n",
      "  8%|▊         | 1/12 [00:00<00:01,  6.87it/s]"
     ]
    },
    {
     "name": "stdout",
     "output_type": "stream",
     "text": [
      "173 (2976, 7)\n"
     ]
    },
    {
     "name": "stderr",
     "output_type": "stream",
     "text": [
      "100%|██████████| 12/12 [00:01<00:00,  7.07it/s]\n",
      "100%|██████████| 1/1 [00:00<00:00, 15.03it/s]\n",
      "  0%|          | 0/5 [00:00<?, ?it/s]"
     ]
    },
    {
     "name": "stdout",
     "output_type": "stream",
     "text": [
      "174 (51, 7)\n",
      "175 (1197, 7)\n"
     ]
    },
    {
     "name": "stderr",
     "output_type": "stream",
     "text": [
      "100%|██████████| 5/5 [00:00<00:00,  6.92it/s]\n",
      "  8%|▊         | 1/13 [00:00<00:01,  7.00it/s]"
     ]
    },
    {
     "name": "stdout",
     "output_type": "stream",
     "text": [
      "176 (3246, 7)\n"
     ]
    },
    {
     "name": "stderr",
     "output_type": "stream",
     "text": [
      "100%|██████████| 13/13 [00:01<00:00,  7.13it/s]\n",
      "  8%|▊         | 1/13 [00:00<00:01,  6.24it/s]"
     ]
    },
    {
     "name": "stdout",
     "output_type": "stream",
     "text": [
      "177 (3132, 7)\n"
     ]
    },
    {
     "name": "stderr",
     "output_type": "stream",
     "text": [
      "100%|██████████| 13/13 [00:02<00:00,  6.41it/s]\n",
      " 25%|██▌       | 1/4 [00:00<00:00,  5.63it/s]"
     ]
    },
    {
     "name": "stdout",
     "output_type": "stream",
     "text": [
      "178 (1011, 7)\n"
     ]
    },
    {
     "name": "stderr",
     "output_type": "stream",
     "text": [
      "100%|██████████| 4/4 [00:00<00:00,  6.09it/s]\n",
      " 33%|███▎      | 1/3 [00:00<00:00,  5.76it/s]"
     ]
    },
    {
     "name": "stdout",
     "output_type": "stream",
     "text": [
      "179 (763, 7)\n"
     ]
    },
    {
     "name": "stderr",
     "output_type": "stream",
     "text": [
      "100%|██████████| 3/3 [00:00<00:00,  6.32it/s]\n",
      "100%|██████████| 1/1 [00:00<00:00,  6.89it/s]\n",
      "  0%|          | 0/19 [00:00<?, ?it/s]"
     ]
    },
    {
     "name": "stdout",
     "output_type": "stream",
     "text": [
      "180 (214, 7)\n",
      "181 (4716, 7)\n"
     ]
    },
    {
     "name": "stderr",
     "output_type": "stream",
     "text": [
      "100%|██████████| 19/19 [00:02<00:00,  7.20it/s]\n",
      " 17%|█▋        | 1/6 [00:00<00:00,  7.61it/s]"
     ]
    },
    {
     "name": "stdout",
     "output_type": "stream",
     "text": [
      "182 (1379, 7)\n"
     ]
    },
    {
     "name": "stderr",
     "output_type": "stream",
     "text": [
      "100%|██████████| 6/6 [00:00<00:00,  7.96it/s]\n",
      "100%|██████████| 1/1 [00:00<00:00, 20.10it/s]\n",
      "  0%|          | 0/28 [00:00<?, ?it/s]"
     ]
    },
    {
     "name": "stdout",
     "output_type": "stream",
     "text": [
      "183 (5, 7)\n",
      "184 (6982, 7)\n"
     ]
    },
    {
     "name": "stderr",
     "output_type": "stream",
     "text": [
      "100%|██████████| 28/28 [00:03<00:00,  7.42it/s]\n",
      " 10%|█         | 1/10 [00:00<00:01,  7.51it/s]"
     ]
    },
    {
     "name": "stdout",
     "output_type": "stream",
     "text": [
      "185 (2305, 7)\n"
     ]
    },
    {
     "name": "stderr",
     "output_type": "stream",
     "text": [
      "100%|██████████| 10/10 [00:01<00:00,  7.92it/s]\n",
      "  2%|▏         | 1/58 [00:00<00:07,  7.44it/s]"
     ]
    },
    {
     "name": "stdout",
     "output_type": "stream",
     "text": [
      "186 (14674, 7)\n"
     ]
    },
    {
     "name": "stderr",
     "output_type": "stream",
     "text": [
      " 45%|████▍     | 26/58 [00:03<00:04,  7.29it/s]\n"
     ]
    },
    {
     "ename": "KeyboardInterrupt",
     "evalue": "",
     "output_type": "error",
     "traceback": [
      "\u001b[0;31m---------------------------------------------------------------------------\u001b[0m",
      "\u001b[0;31mKeyboardInterrupt\u001b[0m                         Traceback (most recent call last)",
      "\u001b[0;32m<ipython-input-21-90f4c7ea50c8>\u001b[0m in \u001b[0;36m<module>\u001b[0;34m\u001b[0m\n\u001b[1;32m     23\u001b[0m     \u001b[0mtb_rnn_elbo_oa\u001b[0m \u001b[0;34m=\u001b[0m \u001b[0;34m[\u001b[0m\u001b[0;34m]\u001b[0m\u001b[0;34m\u001b[0m\u001b[0;34m\u001b[0m\u001b[0m\n\u001b[1;32m     24\u001b[0m     \u001b[0mtb_rnn_elbo_va\u001b[0m \u001b[0;34m=\u001b[0m \u001b[0;34m[\u001b[0m\u001b[0;34m]\u001b[0m\u001b[0;34m\u001b[0m\u001b[0;34m\u001b[0m\u001b[0m\n\u001b[0;32m---> 25\u001b[0;31m     \u001b[0;32mfor\u001b[0m \u001b[0mtransformed_batch\u001b[0m\u001b[0;34m,\u001b[0m \u001b[0m_\u001b[0m \u001b[0;32min\u001b[0m \u001b[0mtqdm\u001b[0m\u001b[0;34m(\u001b[0m\u001b[0mtld\u001b[0m\u001b[0;34m)\u001b[0m\u001b[0;34m:\u001b[0m\u001b[0;34m\u001b[0m\u001b[0;34m\u001b[0m\u001b[0m\n\u001b[0m\u001b[1;32m     26\u001b[0m         \u001b[0mtb_cnn_mse\u001b[0m \u001b[0;34m=\u001b[0m \u001b[0mcnn_mse\u001b[0m\u001b[0;34m(\u001b[0m\u001b[0mtransformed_batch\u001b[0m\u001b[0;34m)\u001b[0m\u001b[0;34m\u001b[0m\u001b[0;34m\u001b[0m\u001b[0m\n\u001b[1;32m     27\u001b[0m         tb_cnn_mse_o = cnn_mse.likelihood(\n",
      "\u001b[0;32m~/anaconda3/envs/lapki/lib/python3.8/site-packages/tqdm/std.py\u001b[0m in \u001b[0;36m__iter__\u001b[0;34m(self)\u001b[0m\n\u001b[1;32m   1164\u001b[0m \u001b[0;34m\u001b[0m\u001b[0m\n\u001b[1;32m   1165\u001b[0m         \u001b[0;32mtry\u001b[0m\u001b[0;34m:\u001b[0m\u001b[0;34m\u001b[0m\u001b[0;34m\u001b[0m\u001b[0m\n\u001b[0;32m-> 1166\u001b[0;31m             \u001b[0;32mfor\u001b[0m \u001b[0mobj\u001b[0m \u001b[0;32min\u001b[0m \u001b[0miterable\u001b[0m\u001b[0;34m:\u001b[0m\u001b[0;34m\u001b[0m\u001b[0;34m\u001b[0m\u001b[0m\n\u001b[0m\u001b[1;32m   1167\u001b[0m                 \u001b[0;32myield\u001b[0m \u001b[0mobj\u001b[0m\u001b[0;34m\u001b[0m\u001b[0;34m\u001b[0m\u001b[0m\n\u001b[1;32m   1168\u001b[0m                 \u001b[0;31m# Update and possibly print the progressbar.\u001b[0m\u001b[0;34m\u001b[0m\u001b[0;34m\u001b[0m\u001b[0;34m\u001b[0m\u001b[0m\n",
      "\u001b[0;32m~/anaconda3/envs/lapki/lib/python3.8/site-packages/torch/utils/data/dataloader.py\u001b[0m in \u001b[0;36m__next__\u001b[0;34m(self)\u001b[0m\n\u001b[1;32m    433\u001b[0m         \u001b[0;32mif\u001b[0m \u001b[0mself\u001b[0m\u001b[0;34m.\u001b[0m\u001b[0m_sampler_iter\u001b[0m \u001b[0;32mis\u001b[0m \u001b[0;32mNone\u001b[0m\u001b[0;34m:\u001b[0m\u001b[0;34m\u001b[0m\u001b[0;34m\u001b[0m\u001b[0m\n\u001b[1;32m    434\u001b[0m             \u001b[0mself\u001b[0m\u001b[0;34m.\u001b[0m\u001b[0m_reset\u001b[0m\u001b[0;34m(\u001b[0m\u001b[0;34m)\u001b[0m\u001b[0;34m\u001b[0m\u001b[0;34m\u001b[0m\u001b[0m\n\u001b[0;32m--> 435\u001b[0;31m         \u001b[0mdata\u001b[0m \u001b[0;34m=\u001b[0m \u001b[0mself\u001b[0m\u001b[0;34m.\u001b[0m\u001b[0m_next_data\u001b[0m\u001b[0;34m(\u001b[0m\u001b[0;34m)\u001b[0m\u001b[0;34m\u001b[0m\u001b[0;34m\u001b[0m\u001b[0m\n\u001b[0m\u001b[1;32m    436\u001b[0m         \u001b[0mself\u001b[0m\u001b[0;34m.\u001b[0m\u001b[0m_num_yielded\u001b[0m \u001b[0;34m+=\u001b[0m \u001b[0;36m1\u001b[0m\u001b[0;34m\u001b[0m\u001b[0;34m\u001b[0m\u001b[0m\n\u001b[1;32m    437\u001b[0m         \u001b[0;32mif\u001b[0m \u001b[0mself\u001b[0m\u001b[0;34m.\u001b[0m\u001b[0m_dataset_kind\u001b[0m \u001b[0;34m==\u001b[0m \u001b[0m_DatasetKind\u001b[0m\u001b[0;34m.\u001b[0m\u001b[0mIterable\u001b[0m \u001b[0;32mand\u001b[0m\u001b[0;31m \u001b[0m\u001b[0;31m\\\u001b[0m\u001b[0;34m\u001b[0m\u001b[0;34m\u001b[0m\u001b[0m\n",
      "\u001b[0;32m~/anaconda3/envs/lapki/lib/python3.8/site-packages/torch/utils/data/dataloader.py\u001b[0m in \u001b[0;36m_next_data\u001b[0;34m(self)\u001b[0m\n\u001b[1;32m    473\u001b[0m     \u001b[0;32mdef\u001b[0m \u001b[0m_next_data\u001b[0m\u001b[0;34m(\u001b[0m\u001b[0mself\u001b[0m\u001b[0;34m)\u001b[0m\u001b[0;34m:\u001b[0m\u001b[0;34m\u001b[0m\u001b[0;34m\u001b[0m\u001b[0m\n\u001b[1;32m    474\u001b[0m         \u001b[0mindex\u001b[0m \u001b[0;34m=\u001b[0m \u001b[0mself\u001b[0m\u001b[0;34m.\u001b[0m\u001b[0m_next_index\u001b[0m\u001b[0;34m(\u001b[0m\u001b[0;34m)\u001b[0m  \u001b[0;31m# may raise StopIteration\u001b[0m\u001b[0;34m\u001b[0m\u001b[0;34m\u001b[0m\u001b[0m\n\u001b[0;32m--> 475\u001b[0;31m         \u001b[0mdata\u001b[0m \u001b[0;34m=\u001b[0m \u001b[0mself\u001b[0m\u001b[0;34m.\u001b[0m\u001b[0m_dataset_fetcher\u001b[0m\u001b[0;34m.\u001b[0m\u001b[0mfetch\u001b[0m\u001b[0;34m(\u001b[0m\u001b[0mindex\u001b[0m\u001b[0;34m)\u001b[0m  \u001b[0;31m# may raise StopIteration\u001b[0m\u001b[0;34m\u001b[0m\u001b[0;34m\u001b[0m\u001b[0m\n\u001b[0m\u001b[1;32m    476\u001b[0m         \u001b[0;32mif\u001b[0m \u001b[0mself\u001b[0m\u001b[0;34m.\u001b[0m\u001b[0m_pin_memory\u001b[0m\u001b[0;34m:\u001b[0m\u001b[0;34m\u001b[0m\u001b[0;34m\u001b[0m\u001b[0m\n\u001b[1;32m    477\u001b[0m             \u001b[0mdata\u001b[0m \u001b[0;34m=\u001b[0m \u001b[0m_utils\u001b[0m\u001b[0;34m.\u001b[0m\u001b[0mpin_memory\u001b[0m\u001b[0;34m.\u001b[0m\u001b[0mpin_memory\u001b[0m\u001b[0;34m(\u001b[0m\u001b[0mdata\u001b[0m\u001b[0;34m)\u001b[0m\u001b[0;34m\u001b[0m\u001b[0;34m\u001b[0m\u001b[0m\n",
      "\u001b[0;32m~/anaconda3/envs/lapki/lib/python3.8/site-packages/torch/utils/data/_utils/fetch.py\u001b[0m in \u001b[0;36mfetch\u001b[0;34m(self, possibly_batched_index)\u001b[0m\n\u001b[1;32m     42\u001b[0m     \u001b[0;32mdef\u001b[0m \u001b[0mfetch\u001b[0m\u001b[0;34m(\u001b[0m\u001b[0mself\u001b[0m\u001b[0;34m,\u001b[0m \u001b[0mpossibly_batched_index\u001b[0m\u001b[0;34m)\u001b[0m\u001b[0;34m:\u001b[0m\u001b[0;34m\u001b[0m\u001b[0;34m\u001b[0m\u001b[0m\n\u001b[1;32m     43\u001b[0m         \u001b[0;32mif\u001b[0m \u001b[0mself\u001b[0m\u001b[0;34m.\u001b[0m\u001b[0mauto_collation\u001b[0m\u001b[0;34m:\u001b[0m\u001b[0;34m\u001b[0m\u001b[0;34m\u001b[0m\u001b[0m\n\u001b[0;32m---> 44\u001b[0;31m             \u001b[0mdata\u001b[0m \u001b[0;34m=\u001b[0m \u001b[0;34m[\u001b[0m\u001b[0mself\u001b[0m\u001b[0;34m.\u001b[0m\u001b[0mdataset\u001b[0m\u001b[0;34m[\u001b[0m\u001b[0midx\u001b[0m\u001b[0;34m]\u001b[0m \u001b[0;32mfor\u001b[0m \u001b[0midx\u001b[0m \u001b[0;32min\u001b[0m \u001b[0mpossibly_batched_index\u001b[0m\u001b[0;34m]\u001b[0m\u001b[0;34m\u001b[0m\u001b[0;34m\u001b[0m\u001b[0m\n\u001b[0m\u001b[1;32m     45\u001b[0m         \u001b[0;32melse\u001b[0m\u001b[0;34m:\u001b[0m\u001b[0;34m\u001b[0m\u001b[0;34m\u001b[0m\u001b[0m\n\u001b[1;32m     46\u001b[0m             \u001b[0mdata\u001b[0m \u001b[0;34m=\u001b[0m \u001b[0mself\u001b[0m\u001b[0;34m.\u001b[0m\u001b[0mdataset\u001b[0m\u001b[0;34m[\u001b[0m\u001b[0mpossibly_batched_index\u001b[0m\u001b[0;34m]\u001b[0m\u001b[0;34m\u001b[0m\u001b[0;34m\u001b[0m\u001b[0m\n",
      "\u001b[0;32m~/anaconda3/envs/lapki/lib/python3.8/site-packages/torch/utils/data/_utils/fetch.py\u001b[0m in \u001b[0;36m<listcomp>\u001b[0;34m(.0)\u001b[0m\n\u001b[1;32m     42\u001b[0m     \u001b[0;32mdef\u001b[0m \u001b[0mfetch\u001b[0m\u001b[0;34m(\u001b[0m\u001b[0mself\u001b[0m\u001b[0;34m,\u001b[0m \u001b[0mpossibly_batched_index\u001b[0m\u001b[0;34m)\u001b[0m\u001b[0;34m:\u001b[0m\u001b[0;34m\u001b[0m\u001b[0;34m\u001b[0m\u001b[0m\n\u001b[1;32m     43\u001b[0m         \u001b[0;32mif\u001b[0m \u001b[0mself\u001b[0m\u001b[0;34m.\u001b[0m\u001b[0mauto_collation\u001b[0m\u001b[0;34m:\u001b[0m\u001b[0;34m\u001b[0m\u001b[0;34m\u001b[0m\u001b[0m\n\u001b[0;32m---> 44\u001b[0;31m             \u001b[0mdata\u001b[0m \u001b[0;34m=\u001b[0m \u001b[0;34m[\u001b[0m\u001b[0mself\u001b[0m\u001b[0;34m.\u001b[0m\u001b[0mdataset\u001b[0m\u001b[0;34m[\u001b[0m\u001b[0midx\u001b[0m\u001b[0;34m]\u001b[0m \u001b[0;32mfor\u001b[0m \u001b[0midx\u001b[0m \u001b[0;32min\u001b[0m \u001b[0mpossibly_batched_index\u001b[0m\u001b[0;34m]\u001b[0m\u001b[0;34m\u001b[0m\u001b[0;34m\u001b[0m\u001b[0m\n\u001b[0m\u001b[1;32m     45\u001b[0m         \u001b[0;32melse\u001b[0m\u001b[0;34m:\u001b[0m\u001b[0;34m\u001b[0m\u001b[0;34m\u001b[0m\u001b[0m\n\u001b[1;32m     46\u001b[0m             \u001b[0mdata\u001b[0m \u001b[0;34m=\u001b[0m \u001b[0mself\u001b[0m\u001b[0;34m.\u001b[0m\u001b[0mdataset\u001b[0m\u001b[0;34m[\u001b[0m\u001b[0mpossibly_batched_index\u001b[0m\u001b[0;34m]\u001b[0m\u001b[0;34m\u001b[0m\u001b[0;34m\u001b[0m\u001b[0m\n",
      "\u001b[0;32m~/HDD/works/Skoltech/CRISPR_CAD/uace/src/core.py\u001b[0m in \u001b[0;36m__getitem__\u001b[0;34m(self, ind)\u001b[0m\n\u001b[1;32m   1117\u001b[0m     \u001b[0;32mdef\u001b[0m \u001b[0m__getitem__\u001b[0m\u001b[0;34m(\u001b[0m\u001b[0mself\u001b[0m\u001b[0;34m,\u001b[0m \u001b[0mind\u001b[0m\u001b[0;34m)\u001b[0m\u001b[0;34m:\u001b[0m\u001b[0;34m\u001b[0m\u001b[0;34m\u001b[0m\u001b[0m\n\u001b[1;32m   1118\u001b[0m         \u001b[0mtarget\u001b[0m \u001b[0;34m=\u001b[0m \u001b[0mself\u001b[0m\u001b[0;34m.\u001b[0m\u001b[0mS\u001b[0m\u001b[0;34m.\u001b[0m\u001b[0miloc\u001b[0m\u001b[0;34m[\u001b[0m\u001b[0mind\u001b[0m\u001b[0;34m]\u001b[0m\u001b[0;34m[\u001b[0m\u001b[0mself\u001b[0m\u001b[0;34m.\u001b[0m\u001b[0mlabel_column\u001b[0m\u001b[0;34m]\u001b[0m\u001b[0;34m\u001b[0m\u001b[0;34m\u001b[0m\u001b[0m\n\u001b[0;32m-> 1119\u001b[0;31m         \u001b[0msequence\u001b[0m \u001b[0;34m=\u001b[0m \u001b[0mself\u001b[0m\u001b[0;34m.\u001b[0m\u001b[0mS\u001b[0m\u001b[0;34m.\u001b[0m\u001b[0miloc\u001b[0m\u001b[0;34m[\u001b[0m\u001b[0mind\u001b[0m\u001b[0;34m]\u001b[0m\u001b[0;34m[\u001b[0m\u001b[0mself\u001b[0m\u001b[0;34m.\u001b[0m\u001b[0msequence_column\u001b[0m\u001b[0;34m]\u001b[0m\u001b[0;34m\u001b[0m\u001b[0;34m\u001b[0m\u001b[0m\n\u001b[0m\u001b[1;32m   1120\u001b[0m         \u001b[0mtransformed\u001b[0m \u001b[0;34m=\u001b[0m \u001b[0mself\u001b[0m\u001b[0;34m.\u001b[0m\u001b[0mtransform\u001b[0m\u001b[0;34m(\u001b[0m\u001b[0msequence\u001b[0m\u001b[0;34m)\u001b[0m\u001b[0;34m\u001b[0m\u001b[0;34m\u001b[0m\u001b[0m\n\u001b[1;32m   1121\u001b[0m         \u001b[0;32mreturn\u001b[0m\u001b[0;34m(\u001b[0m\u001b[0mtransformed\u001b[0m\u001b[0;34m,\u001b[0m \u001b[0mtarget\u001b[0m\u001b[0;34m)\u001b[0m\u001b[0;34m\u001b[0m\u001b[0;34m\u001b[0m\u001b[0m\n",
      "\u001b[0;32m~/anaconda3/envs/lapki/lib/python3.8/site-packages/pandas/core/indexing.py\u001b[0m in \u001b[0;36m__getitem__\u001b[0;34m(self, key)\u001b[0m\n\u001b[1;32m    892\u001b[0m \u001b[0;34m\u001b[0m\u001b[0m\n\u001b[1;32m    893\u001b[0m             \u001b[0mmaybe_callable\u001b[0m \u001b[0;34m=\u001b[0m \u001b[0mcom\u001b[0m\u001b[0;34m.\u001b[0m\u001b[0mapply_if_callable\u001b[0m\u001b[0;34m(\u001b[0m\u001b[0mkey\u001b[0m\u001b[0;34m,\u001b[0m \u001b[0mself\u001b[0m\u001b[0;34m.\u001b[0m\u001b[0mobj\u001b[0m\u001b[0;34m)\u001b[0m\u001b[0;34m\u001b[0m\u001b[0;34m\u001b[0m\u001b[0m\n\u001b[0;32m--> 894\u001b[0;31m             \u001b[0;32mreturn\u001b[0m \u001b[0mself\u001b[0m\u001b[0;34m.\u001b[0m\u001b[0m_getitem_axis\u001b[0m\u001b[0;34m(\u001b[0m\u001b[0mmaybe_callable\u001b[0m\u001b[0;34m,\u001b[0m \u001b[0maxis\u001b[0m\u001b[0;34m=\u001b[0m\u001b[0maxis\u001b[0m\u001b[0;34m)\u001b[0m\u001b[0;34m\u001b[0m\u001b[0;34m\u001b[0m\u001b[0m\n\u001b[0m\u001b[1;32m    895\u001b[0m \u001b[0;34m\u001b[0m\u001b[0m\n\u001b[1;32m    896\u001b[0m     \u001b[0;32mdef\u001b[0m \u001b[0m_is_scalar_access\u001b[0m\u001b[0;34m(\u001b[0m\u001b[0mself\u001b[0m\u001b[0;34m,\u001b[0m \u001b[0mkey\u001b[0m\u001b[0;34m:\u001b[0m \u001b[0mTuple\u001b[0m\u001b[0;34m)\u001b[0m\u001b[0;34m:\u001b[0m\u001b[0;34m\u001b[0m\u001b[0;34m\u001b[0m\u001b[0m\n",
      "\u001b[0;32m~/anaconda3/envs/lapki/lib/python3.8/site-packages/pandas/core/indexing.py\u001b[0m in \u001b[0;36m_getitem_axis\u001b[0;34m(self, key, axis)\u001b[0m\n\u001b[1;32m   1500\u001b[0m             \u001b[0mself\u001b[0m\u001b[0;34m.\u001b[0m\u001b[0m_validate_integer\u001b[0m\u001b[0;34m(\u001b[0m\u001b[0mkey\u001b[0m\u001b[0;34m,\u001b[0m \u001b[0maxis\u001b[0m\u001b[0;34m)\u001b[0m\u001b[0;34m\u001b[0m\u001b[0;34m\u001b[0m\u001b[0m\n\u001b[1;32m   1501\u001b[0m \u001b[0;34m\u001b[0m\u001b[0m\n\u001b[0;32m-> 1502\u001b[0;31m             \u001b[0;32mreturn\u001b[0m \u001b[0mself\u001b[0m\u001b[0;34m.\u001b[0m\u001b[0mobj\u001b[0m\u001b[0;34m.\u001b[0m\u001b[0m_ixs\u001b[0m\u001b[0;34m(\u001b[0m\u001b[0mkey\u001b[0m\u001b[0;34m,\u001b[0m \u001b[0maxis\u001b[0m\u001b[0;34m=\u001b[0m\u001b[0maxis\u001b[0m\u001b[0;34m)\u001b[0m\u001b[0;34m\u001b[0m\u001b[0;34m\u001b[0m\u001b[0m\n\u001b[0m\u001b[1;32m   1503\u001b[0m \u001b[0;34m\u001b[0m\u001b[0m\n\u001b[1;32m   1504\u001b[0m     \u001b[0;32mdef\u001b[0m \u001b[0m_get_slice_axis\u001b[0m\u001b[0;34m(\u001b[0m\u001b[0mself\u001b[0m\u001b[0;34m,\u001b[0m \u001b[0mslice_obj\u001b[0m\u001b[0;34m:\u001b[0m \u001b[0mslice\u001b[0m\u001b[0;34m,\u001b[0m \u001b[0maxis\u001b[0m\u001b[0;34m:\u001b[0m \u001b[0mint\u001b[0m\u001b[0;34m)\u001b[0m\u001b[0;34m:\u001b[0m\u001b[0;34m\u001b[0m\u001b[0;34m\u001b[0m\u001b[0m\n",
      "\u001b[0;32m~/anaconda3/envs/lapki/lib/python3.8/site-packages/pandas/core/frame.py\u001b[0m in \u001b[0;36m_ixs\u001b[0;34m(self, i, axis)\u001b[0m\n\u001b[1;32m   2949\u001b[0m             \u001b[0;31m# if we are a copy, mark as such\u001b[0m\u001b[0;34m\u001b[0m\u001b[0;34m\u001b[0m\u001b[0;34m\u001b[0m\u001b[0m\n\u001b[1;32m   2950\u001b[0m             \u001b[0mcopy\u001b[0m \u001b[0;34m=\u001b[0m \u001b[0misinstance\u001b[0m\u001b[0;34m(\u001b[0m\u001b[0mnew_values\u001b[0m\u001b[0;34m,\u001b[0m \u001b[0mnp\u001b[0m\u001b[0;34m.\u001b[0m\u001b[0mndarray\u001b[0m\u001b[0;34m)\u001b[0m \u001b[0;32mand\u001b[0m \u001b[0mnew_values\u001b[0m\u001b[0;34m.\u001b[0m\u001b[0mbase\u001b[0m \u001b[0;32mis\u001b[0m \u001b[0;32mNone\u001b[0m\u001b[0;34m\u001b[0m\u001b[0;34m\u001b[0m\u001b[0m\n\u001b[0;32m-> 2951\u001b[0;31m             result = self._constructor_sliced(\n\u001b[0m\u001b[1;32m   2952\u001b[0m                 \u001b[0mnew_values\u001b[0m\u001b[0;34m,\u001b[0m\u001b[0;34m\u001b[0m\u001b[0;34m\u001b[0m\u001b[0m\n\u001b[1;32m   2953\u001b[0m                 \u001b[0mindex\u001b[0m\u001b[0;34m=\u001b[0m\u001b[0mself\u001b[0m\u001b[0;34m.\u001b[0m\u001b[0mcolumns\u001b[0m\u001b[0;34m,\u001b[0m\u001b[0;34m\u001b[0m\u001b[0;34m\u001b[0m\u001b[0m\n",
      "\u001b[0;32m~/anaconda3/envs/lapki/lib/python3.8/site-packages/pandas/core/series.py\u001b[0m in \u001b[0;36m__init__\u001b[0;34m(self, data, index, dtype, name, copy, fastpath)\u001b[0m\n\u001b[1;32m    333\u001b[0m                     \u001b[0mdata\u001b[0m \u001b[0;34m=\u001b[0m \u001b[0mdata\u001b[0m\u001b[0;34m.\u001b[0m\u001b[0mcopy\u001b[0m\u001b[0;34m(\u001b[0m\u001b[0;34m)\u001b[0m\u001b[0;34m\u001b[0m\u001b[0;34m\u001b[0m\u001b[0m\n\u001b[1;32m    334\u001b[0m             \u001b[0;32melse\u001b[0m\u001b[0;34m:\u001b[0m\u001b[0;34m\u001b[0m\u001b[0;34m\u001b[0m\u001b[0m\n\u001b[0;32m--> 335\u001b[0;31m                 \u001b[0mdata\u001b[0m \u001b[0;34m=\u001b[0m \u001b[0msanitize_array\u001b[0m\u001b[0;34m(\u001b[0m\u001b[0mdata\u001b[0m\u001b[0;34m,\u001b[0m \u001b[0mindex\u001b[0m\u001b[0;34m,\u001b[0m \u001b[0mdtype\u001b[0m\u001b[0;34m,\u001b[0m \u001b[0mcopy\u001b[0m\u001b[0;34m,\u001b[0m \u001b[0mraise_cast_failure\u001b[0m\u001b[0;34m=\u001b[0m\u001b[0;32mTrue\u001b[0m\u001b[0;34m)\u001b[0m\u001b[0;34m\u001b[0m\u001b[0;34m\u001b[0m\u001b[0m\n\u001b[0m\u001b[1;32m    336\u001b[0m \u001b[0;34m\u001b[0m\u001b[0m\n\u001b[1;32m    337\u001b[0m                 \u001b[0mdata\u001b[0m \u001b[0;34m=\u001b[0m \u001b[0mSingleBlockManager\u001b[0m\u001b[0;34m.\u001b[0m\u001b[0mfrom_array\u001b[0m\u001b[0;34m(\u001b[0m\u001b[0mdata\u001b[0m\u001b[0;34m,\u001b[0m \u001b[0mindex\u001b[0m\u001b[0;34m)\u001b[0m\u001b[0;34m\u001b[0m\u001b[0;34m\u001b[0m\u001b[0m\n",
      "\u001b[0;32m~/anaconda3/envs/lapki/lib/python3.8/site-packages/pandas/core/construction.py\u001b[0m in \u001b[0;36msanitize_array\u001b[0;34m(data, index, dtype, copy, raise_cast_failure)\u001b[0m\n\u001b[1;32m    459\u001b[0m         \u001b[0;32melse\u001b[0m\u001b[0;34m:\u001b[0m\u001b[0;34m\u001b[0m\u001b[0;34m\u001b[0m\u001b[0m\n\u001b[1;32m    460\u001b[0m             \u001b[0;31m# we will try to copy be-definition here\u001b[0m\u001b[0;34m\u001b[0m\u001b[0;34m\u001b[0m\u001b[0;34m\u001b[0m\u001b[0m\n\u001b[0;32m--> 461\u001b[0;31m             \u001b[0msubarr\u001b[0m \u001b[0;34m=\u001b[0m \u001b[0m_try_cast\u001b[0m\u001b[0;34m(\u001b[0m\u001b[0mdata\u001b[0m\u001b[0;34m,\u001b[0m \u001b[0mdtype\u001b[0m\u001b[0;34m,\u001b[0m \u001b[0mcopy\u001b[0m\u001b[0;34m,\u001b[0m \u001b[0mraise_cast_failure\u001b[0m\u001b[0;34m)\u001b[0m\u001b[0;34m\u001b[0m\u001b[0;34m\u001b[0m\u001b[0m\n\u001b[0m\u001b[1;32m    462\u001b[0m \u001b[0;34m\u001b[0m\u001b[0m\n\u001b[1;32m    463\u001b[0m     \u001b[0;32melif\u001b[0m \u001b[0misinstance\u001b[0m\u001b[0;34m(\u001b[0m\u001b[0mdata\u001b[0m\u001b[0;34m,\u001b[0m \u001b[0mABCExtensionArray\u001b[0m\u001b[0;34m)\u001b[0m\u001b[0;34m:\u001b[0m\u001b[0;34m\u001b[0m\u001b[0;34m\u001b[0m\u001b[0m\n",
      "\u001b[0;32m~/anaconda3/envs/lapki/lib/python3.8/site-packages/pandas/core/construction.py\u001b[0m in \u001b[0;36m_try_cast\u001b[0;34m(arr, dtype, copy, raise_cast_failure)\u001b[0m\n\u001b[1;32m    588\u001b[0m             \u001b[0msubarr\u001b[0m \u001b[0;34m=\u001b[0m \u001b[0marr\u001b[0m\u001b[0;34m\u001b[0m\u001b[0;34m\u001b[0m\u001b[0m\n\u001b[1;32m    589\u001b[0m         \u001b[0;32melse\u001b[0m\u001b[0;34m:\u001b[0m\u001b[0;34m\u001b[0m\u001b[0;34m\u001b[0m\u001b[0m\n\u001b[0;32m--> 590\u001b[0;31m             \u001b[0msubarr\u001b[0m \u001b[0;34m=\u001b[0m \u001b[0mmaybe_cast_to_datetime\u001b[0m\u001b[0;34m(\u001b[0m\u001b[0marr\u001b[0m\u001b[0;34m,\u001b[0m \u001b[0mdtype\u001b[0m\u001b[0;34m)\u001b[0m\u001b[0;34m\u001b[0m\u001b[0;34m\u001b[0m\u001b[0m\n\u001b[0m\u001b[1;32m    591\u001b[0m \u001b[0;34m\u001b[0m\u001b[0m\n\u001b[1;32m    592\u001b[0m         \u001b[0;31m# Take care in creating object arrays (but iterators are not\u001b[0m\u001b[0;34m\u001b[0m\u001b[0;34m\u001b[0m\u001b[0;34m\u001b[0m\u001b[0m\n",
      "\u001b[0;32m~/anaconda3/envs/lapki/lib/python3.8/site-packages/pandas/core/dtypes/cast.py\u001b[0m in \u001b[0;36mmaybe_cast_to_datetime\u001b[0;34m(value, dtype)\u001b[0m\n\u001b[1;32m   1382\u001b[0m     \u001b[0mnan\u001b[0m \u001b[0mto\u001b[0m \u001b[0miNaT\u001b[0m\u001b[0;34m\u001b[0m\u001b[0;34m\u001b[0m\u001b[0m\n\u001b[1;32m   1383\u001b[0m     \"\"\"\n\u001b[0;32m-> 1384\u001b[0;31m     \u001b[0;32mfrom\u001b[0m \u001b[0mpandas\u001b[0m\u001b[0;34m.\u001b[0m\u001b[0mcore\u001b[0m\u001b[0;34m.\u001b[0m\u001b[0mtools\u001b[0m\u001b[0;34m.\u001b[0m\u001b[0mdatetimes\u001b[0m \u001b[0;32mimport\u001b[0m \u001b[0mto_datetime\u001b[0m\u001b[0;34m\u001b[0m\u001b[0;34m\u001b[0m\u001b[0m\n\u001b[0m\u001b[1;32m   1385\u001b[0m     \u001b[0;32mfrom\u001b[0m \u001b[0mpandas\u001b[0m\u001b[0;34m.\u001b[0m\u001b[0mcore\u001b[0m\u001b[0;34m.\u001b[0m\u001b[0mtools\u001b[0m\u001b[0;34m.\u001b[0m\u001b[0mtimedeltas\u001b[0m \u001b[0;32mimport\u001b[0m \u001b[0mto_timedelta\u001b[0m\u001b[0;34m\u001b[0m\u001b[0;34m\u001b[0m\u001b[0m\n\u001b[1;32m   1386\u001b[0m \u001b[0;34m\u001b[0m\u001b[0m\n",
      "\u001b[0;31mKeyboardInterrupt\u001b[0m: "
     ]
    }
   ],
   "source": [
    "genes = {a[2]: [] for a in annotation}\n",
    "for i,a in enumerate(data):\n",
    "    #with open(op.join(\"/home/bakirillov/HDD/data/casoffinder_data/\", a), \"r\"):\n",
    "    current_df = pd.read_csv(\n",
    "        op.join(\n",
    "            \"/home/bakirillov/HDD/data/chr22_grnas/\"+a\n",
    "        ), sep=\"\\t\", header=None\n",
    "    ).dropna()\n",
    "    current_df = current_df[current_df[3].apply(lambda x: len(x) == 23)]\n",
    "    current_df[6] = [a]*current_df.shape[0]\n",
    "    print(i, current_df.shape)\n",
    "    tds = DeepHFDataset(\n",
    "        current_df, np.arange(current_df.shape[0]), transformer, sequence_column=3, \n",
    "        label_column=5\n",
    "    )\n",
    "    tld = DataLoader(tds, shuffle=False, batch_size=256)\n",
    "    tb_cnn_mse_oa = []\n",
    "    tb_cnn_mse_va = []\n",
    "    tb_rnn_mse_oa = []\n",
    "    tb_rnn_mse_va = []\n",
    "    tb_cnn_elbo_oa = []\n",
    "    tb_cnn_elbo_va = []\n",
    "    tb_rnn_elbo_oa = []\n",
    "    tb_rnn_elbo_va = []\n",
    "    for transformed_batch, _ in tqdm(tld):\n",
    "        tb_cnn_mse = cnn_mse(transformed_batch)\n",
    "        tb_cnn_mse_o = cnn_mse.likelihood(\n",
    "            tb_cnn_mse[0]\n",
    "        ).mean.mean(0).cpu().data.numpy()\n",
    "        tb_cnn_mse_v = cnn_mse.likelihood(\n",
    "            tb_cnn_mse[0]\n",
    "        ).variance.mean(0).cpu().data.numpy()\n",
    "        tb_cnn_mse_oa.extend(tb_cnn_mse_o)\n",
    "        tb_cnn_mse_va.extend(tb_cnn_mse_v)\n",
    "        tb_rnn_mse = rnn_mse(transformed_batch)\n",
    "        tb_rnn_mse_o = rnn_mse.likelihood(\n",
    "            tb_rnn_mse[0]\n",
    "        ).mean.mean(0).cpu().data.numpy()\n",
    "        tb_rnn_mse_v = rnn_mse.likelihood(\n",
    "            tb_rnn_mse[0]\n",
    "        ).variance.mean(0).cpu().data.numpy()\n",
    "        tb_rnn_mse_oa.extend(tb_rnn_mse_o)\n",
    "        tb_rnn_mse_va.extend(tb_rnn_mse_v)\n",
    "        tb_cnn_elbo = cnn_elbo(transformed_batch)\n",
    "        tb_cnn_elbo_o = cnn_elbo.likelihood(\n",
    "            tb_cnn_elbo[0]\n",
    "        ).mean.mean(0).cpu().data.numpy()\n",
    "        tb_cnn_elbo_v = cnn_elbo.likelihood(\n",
    "            tb_cnn_elbo[0]\n",
    "        ).variance.mean(0).cpu().data.numpy()\n",
    "        tb_cnn_elbo_oa.extend(tb_cnn_elbo_o)\n",
    "        tb_cnn_elbo_va.extend(tb_cnn_elbo_v)\n",
    "        tb_rnn_elbo = rnn_elbo(transformed_batch)\n",
    "        tb_rnn_elbo_o = rnn_elbo.likelihood(\n",
    "            tb_rnn_elbo[0]\n",
    "        ).mean.mean(0).cpu().data.numpy()\n",
    "        tb_rnn_elbo_v = rnn_elbo.likelihood(\n",
    "            tb_rnn_elbo[0]\n",
    "        ).variance.mean(0).cpu().data.numpy()\n",
    "        tb_rnn_elbo_oa.extend(tb_rnn_elbo_o)\n",
    "        tb_rnn_elbo_va.extend(tb_rnn_elbo_v)\n",
    "    current_df[7] = tb_cnn_mse_oa\n",
    "    current_df[8] = tb_cnn_mse_va\n",
    "    current_df[9] = tb_rnn_mse_oa\n",
    "    current_df[10] = tb_rnn_mse_va\n",
    "    current_df[11] = tb_cnn_elbo_oa\n",
    "    current_df[12] = tb_cnn_elbo_va\n",
    "    current_df[13] = tb_rnn_elbo_oa\n",
    "    current_df[14] = tb_rnn_elbo_va\n",
    "    current_df[15] = (current_df[7] + current_df[9])/2\n",
    "    current_df[16] = current_df[8] + current_df[10]\n",
    "    current_df[17] = (current_df[11] + current_df[13])/2\n",
    "    current_df[18] = current_df[12] + current_df[14]\n",
    "    current_df = current_df.sort_values(by=7, ascending=False)\n",
    "    current_df.to_csv(\n",
    "        op.join(\n",
    "            \"/home/bakirillov/HDD/data/chr22_ordered/\"+a\n",
    "        ), sep=\"\\t\", header=None\n",
    "    )"
   ]
  },
  {
   "cell_type": "code",
   "execution_count": 18,
   "metadata": {},
   "outputs": [
    {
     "ename": "NameError",
     "evalue": "name 'current_df' is not defined",
     "output_type": "error",
     "traceback": [
      "\u001b[0;31m---------------------------------------------------------------------------\u001b[0m",
      "\u001b[0;31mNameError\u001b[0m                                 Traceback (most recent call last)",
      "\u001b[0;32m<ipython-input-18-3f3d720a401b>\u001b[0m in \u001b[0;36m<module>\u001b[0;34m\u001b[0m\n\u001b[0;32m----> 1\u001b[0;31m \u001b[0mcurrent_df\u001b[0m\u001b[0;34m[\u001b[0m\u001b[0;36m3\u001b[0m\u001b[0;34m]\u001b[0m\u001b[0;34m.\u001b[0m\u001b[0mapply\u001b[0m\u001b[0;34m(\u001b[0m\u001b[0mlen\u001b[0m\u001b[0;34m)\u001b[0m\u001b[0;34m.\u001b[0m\u001b[0munique\u001b[0m\u001b[0;34m(\u001b[0m\u001b[0;34m)\u001b[0m\u001b[0;34m\u001b[0m\u001b[0;34m\u001b[0m\u001b[0m\n\u001b[0m",
      "\u001b[0;31mNameError\u001b[0m: name 'current_df' is not defined"
     ]
    }
   ],
   "source": [
    "current_df[3].apply(len).unique()"
   ]
  },
  {
   "cell_type": "code",
   "execution_count": 22,
   "metadata": {},
   "outputs": [],
   "source": [
    "ordered_data = [a for a in os.walk(\"/home/bakirillov/HDD/data/chr22_ordered/\")][0][2]"
   ]
  },
  {
   "cell_type": "code",
   "execution_count": 38,
   "metadata": {},
   "outputs": [
    {
     "name": "stdout",
     "output_type": "stream",
     "text": [
      "0 SERPIND1.tsv\n",
      "1 HSFY1P1.tsv\n",
      "2 SLC25A15P5.tsv\n",
      "3 LOC339685.tsv\n",
      "4 GTSE1-DT.tsv\n",
      "5 TPTEP2.tsv\n",
      "6 RNU6-1219P.tsv\n",
      "7 SAMM50.tsv\n",
      "8 PLA2G6.tsv\n",
      "9 XPNPEP3.tsv\n",
      "10 LOC105373007.tsv\n",
      "11 RPL34P35.tsv\n",
      "12 APOBEC3A.tsv\n",
      "13 LINC00896.tsv\n",
      "14 CHKB.tsv\n",
      "15 TMEM184B.tsv\n",
      "16 MIR4763.tsv\n",
      "17 DGCR6.tsv\n",
      "18 LOC105372860.tsv\n",
      "19 SEZ6L.tsv\n",
      "20 RPL32P5.tsv\n",
      "21 CA15P1.tsv\n",
      "22 LINC00634.tsv\n",
      "23 MIR6069.tsv\n",
      "24 CRELD2.tsv\n",
      "25 HSCB.tsv\n",
      "26 LOC101232810.tsv\n",
      "27 APOBEC3C.tsv\n",
      "28 RPL15P22.tsv\n",
      "29 LOC730668.tsv\n",
      "30 CACNA1I.tsv\n",
      "31 MEI1.tsv\n",
      "32 LOC107985568.tsv\n",
      "33 HIC2.tsv\n",
      "34 CRIP1P4.tsv\n",
      "35 MYH9.tsv\n",
      "36 RASD2.tsv\n",
      "37 IGLV2-14.tsv\n",
      "38 LOC101927447.tsv\n",
      "39 TOM1.tsv\n",
      "40 LOC105373067.tsv\n",
      "41 RNA5SP493.tsv\n",
      "42 VN1R9P.tsv\n",
      "43 LOC105373015.tsv\n",
      "44 GGTLC2.tsv\n",
      "45 LOC105373018.tsv\n",
      "46 CDC45.tsv\n",
      "47 ANP32BP2.tsv\n",
      "48 RTN4R.tsv\n",
      "49 SHANK3.tsv\n",
      "50 SULT4A1.tsv\n",
      "51 IGLJ7.tsv\n",
      "51 IGLJ7.tsv nothing\n",
      "52 ZNF73P.tsv\n",
      "53 KRT18P5.tsv\n",
      "54 RPL8P5.tsv\n",
      "55 RN7SL168P.tsv\n",
      "56 LINC01639.tsv\n",
      "57 TPTEP1.tsv\n",
      "58 LOC101927474.tsv\n",
      "59 SREBF2-AS1.tsv\n",
      "60 MIR6889.tsv\n",
      "61 PCMTD1P4.tsv\n",
      "62 SEC14L2.tsv\n",
      "63 RPS19BP1.tsv\n",
      "64 LOC100287966.tsv\n",
      "65 PI4KAP2.tsv\n",
      "66 FBXW4P1.tsv\n",
      "67 LINC01659.tsv\n",
      "68 TMEM191C.tsv\n",
      "69 BCRP7.tsv\n",
      "70 CBX7.tsv\n",
      "71 TUBA8.tsv\n",
      "72 IGLV10-67.tsv\n",
      "73 LOC107985543.tsv\n",
      "74 ZBED4.tsv\n",
      "75 A4GALT.tsv\n",
      "76 POM121L7P.tsv\n",
      "77 IGLV3-22.tsv\n",
      "78 IGLVIV-53.tsv\n",
      "79 LOC100506271.tsv\n",
      "80 GNAZ.tsv\n",
      "81 LOC105372959.tsv\n",
      "82 LOC107985584.tsv\n",
      "83 RANBP1.tsv\n",
      "84 RPS17P16.tsv\n",
      "85 HPS4.tsv\n",
      "86 GGTLC4P.tsv\n",
      "87 SLC9A3P2.tsv\n",
      "88 LOC105372861.tsv\n",
      "89 LOC105372976.tsv\n",
      "90 PICK1.tsv\n",
      "91 LINC01665.tsv\n",
      "92 CCDC74BP1.tsv\n",
      "93 LOC105372962.tsv\n",
      "94 CSDC2.tsv\n",
      "95 ASH2LP3.tsv\n",
      "96 TUBA3FP.tsv\n",
      "97 LOC100289194.tsv\n",
      "98 PNPLA5.tsv\n",
      "99 IGLV3-25.tsv\n",
      "100 BMS1P22.tsv\n",
      "101 RNU6-1066P.tsv\n",
      "102 LOC105373017.tsv\n",
      "103 KREMEN1.tsv\n",
      "104 AP1B1.tsv\n",
      "105 IGLV5-45.tsv\n",
      "106 COMT.tsv\n",
      "107 MIR3619.tsv\n",
      "108 LOC105373074.tsv\n",
      "109 LL22NC03-13G6.2.tsv\n",
      "110 TEX33.tsv\n",
      "111 KRT18P23.tsv\n",
      "112 LINC00899.tsv\n",
      "113 LOC105373044.tsv\n",
      "114 IGLVI-70.tsv\n",
      "115 SLC25A5P1.tsv\n",
      "116 LPEQ6126.tsv\n",
      "117 MIR12114.tsv\n",
      "118 SNORA50B.tsv\n",
      "119 MIR650.tsv\n",
      "120 DUX4L40.tsv\n",
      "121 RBFOX2.tsv\n",
      "122 IGLJ3.tsv\n",
      "122 IGLJ3.tsv nothing\n",
      "123 SNU13.tsv\n",
      "124 CRYBB2.tsv\n",
      "125 LOC100736408.tsv\n",
      "126 MPPED1.tsv\n",
      "127 LGALS2.tsv\n",
      "128 LOC101060052.tsv\n",
      "129 LOC100506679.tsv\n",
      "130 LOC105377203.tsv\n",
      "131 APOL1.tsv\n",
      "132 SRRD.tsv\n",
      "133 DNAJB7.tsv\n",
      "134 KCNJ4.tsv\n",
      "135 PI4KA.tsv\n",
      "136 DNAL4.tsv\n",
      "137 SLC25A18.tsv\n",
      "138 TMEM191B.tsv\n",
      "139 CLDN5.tsv\n",
      "140 RNA5SP495.tsv\n",
      "141 LOC105377182.tsv\n",
      "142 LOC102724608.tsv\n",
      "143 LOC100421614.tsv\n",
      "144 IGLV3-17.tsv\n",
      "145 LOC284898.tsv\n",
      "146 LOC100289004.tsv\n",
      "147 FUNDC2P4.tsv\n",
      "148 RNU6-1128P.tsv\n",
      "149 LOC100736412.tsv\n",
      "150 TTLL12.tsv\n",
      "151 HMGB1P10.tsv\n",
      "152 LOC102724638.tsv\n",
      "153 LOC105373027.tsv\n",
      "154 IGLV3-19.tsv\n",
      "155 RAC2.tsv\n",
      "156 LIF.tsv\n",
      "157 GGA1.tsv\n",
      "158 CDC42EP1.tsv\n",
      "159 BPIFC.tsv\n",
      "160 CRKL.tsv\n",
      "161 LOC105373038.tsv\n",
      "162 LOC100422375.tsv\n",
      "163 TNFRSF13C.tsv\n",
      "164 RFPL2.tsv\n",
      "165 LINC02554.tsv\n",
      "166 ADORA2A-AS1.tsv\n",
      "167 LINC02557.tsv\n",
      "168 IL17RA.tsv\n",
      "169 P2RX6P.tsv\n",
      "170 TMEM121B.tsv\n",
      "171 LOC105373029.tsv\n",
      "172 TNRC6B.tsv\n",
      "173 LOC107985535.tsv\n",
      "174 COX5BP7.tsv\n",
      "175 RFPL3S.tsv\n",
      "176 LOC105377199.tsv\n",
      "177 LARGE-AS1.tsv\n",
      "178 CASTOR1.tsv\n",
      "179 GSC2.tsv\n",
      "180 LOC100132723.tsv\n",
      "181 PES1.tsv\n",
      "182 LINC01664.tsv\n",
      "183 MIR1249.tsv\n",
      "184 MGAT3.tsv\n",
      "185 EIF3D.tsv\n",
      "186 MIATNB.tsv\n",
      "187 PACSIN2.tsv\n",
      "188 FAM32BP.tsv\n",
      "189 LOC102723769.tsv\n",
      "190 LOC105373020.tsv\n",
      "191 LOC105377191.tsv\n",
      "192 PSLNR.tsv\n",
      "193 MAPK1.tsv\n",
      "194 LOC105372988.tsv\n",
      "195 YWHAH.tsv\n",
      "196 RN7SL704P.tsv\n",
      "197 ATF4.tsv\n",
      "198 LOC100996699.tsv\n",
      "199 PRODH.tsv\n",
      "200 IGLV2-33.tsv\n",
      "201 SPECC1L.tsv\n",
      "202 TSSK2.tsv\n",
      "203 GPM6BP3.tsv\n",
      "204 ZNRF3.tsv\n",
      "205 FAM227A.tsv\n",
      "206 DVL1P1.tsv\n",
      "207 BCR.tsv\n",
      "208 CERK.tsv\n",
      "209 LOC284865.tsv\n",
      "210 JTBP1.tsv\n",
      "211 FRG1FP.tsv\n",
      "212 LOC100506472.tsv\n",
      "213 IGLV1-50.tsv\n",
      "214 IGLV3-15.tsv\n",
      "215 LOC105373081.tsv\n",
      "216 TBC1D22A-AS1.tsv\n",
      "217 IGLV4-3.tsv\n",
      "218 TAFA5.tsv\n",
      "219 LOC91370.tsv\n",
      "220 SPECC1L-ADORA2A.tsv\n",
      "221 IGLV7-46.tsv\n",
      "222 LOC100421685.tsv\n",
      "223 IGLVI-56.tsv\n",
      "224 CACNG2.tsv\n",
      "225 CHKB-CPT1B.tsv\n",
      "226 RPL7AP70.tsv\n",
      "227 NF2.tsv\n",
      "228 TBX1.tsv\n",
      "229 IGLJ6.tsv\n",
      "230 ISX.tsv\n",
      "231 LOC100996598.tsv\n",
      "232 SYNGR1.tsv\n",
      "233 MIR658.tsv\n",
      "234 ELFN2.tsv\n",
      "235 LINC01315.tsv\n",
      "236 ALG12.tsv\n",
      "237 GAPDHP37.tsv\n",
      "238 RNU6-495P.tsv\n",
      "239 LOC105373091.tsv\n",
      "240 MIR6819.tsv\n",
      "241 BID.tsv\n",
      "242 CLCP1.tsv\n",
      "243 FAM230J.tsv\n",
      "244 C22orf31.tsv\n",
      "245 RPL39P41.tsv\n",
      "246 RHEBP3.tsv\n",
      "247 CENPM.tsv\n",
      "248 LOC105373047.tsv\n",
      "249 SUSD2.tsv\n",
      "250 LOC105372964.tsv\n",
      "251 IGLV3-30.tsv\n",
      "252 CSF2RB.tsv\n",
      "253 PIK3IP1-DT.tsv\n",
      "254 IGLV1-47.tsv\n",
      "255 MIRLET7B.tsv\n",
      "256 SNORD83B.tsv\n",
      "257 TYMP.tsv\n",
      "258 CELSR1.tsv\n",
      "259 LOC105373042.tsv\n",
      "260 GRK3.tsv\n",
      "261 LOC780780.tsv\n",
      "262 LOC107985541.tsv\n",
      "263 DERL3.tsv\n",
      "264 IGLC3.tsv\n",
      "265 ZNF280A.tsv\n",
      "266 CHKB-DT.tsv\n",
      "267 LOC105373060.tsv\n",
      "268 MIR5571.tsv\n",
      "269 RNU6-476P.tsv\n",
      "270 PHF5A.tsv\n",
      "271 LOC102724900.tsv\n",
      "272 MCAT.tsv\n",
      "273 LOC107985533.tsv\n",
      "274 ARHGAP42P3.tsv\n",
      "275 NCAPH2.tsv\n",
      "276 POTEH-AS1.tsv\n",
      "277 MIOX.tsv\n",
      "278 LINC01311.tsv\n",
      "279 OSBP2.tsv\n",
      "280 OGFRP1.tsv\n",
      "281 UFD1.tsv\n",
      "282 FAM230H.tsv\n",
      "283 IGLV7-43.tsv\n",
      "284 NF1P6.tsv\n",
      "285 LOC100500719.tsv\n",
      "286 ADSL.tsv\n",
      "287 TUG1.tsv\n",
      "288 LOC107985564.tsv\n",
      "289 LOC105373033.tsv\n",
      "290 H2AZP6.tsv\n",
      "291 MIR4535.tsv\n",
      "292 BCRP8.tsv\n",
      "293 TOP3BP1.tsv\n",
      "294 LOC105373051.tsv\n",
      "295 LOC284933.tsv\n",
      "296 RPL36P17.tsv\n",
      "297 LINC02558.tsv\n",
      "298 ANKRD54.tsv\n",
      "299 BCRP1.tsv\n",
      "300 LOC107985544.tsv\n",
      "301 MICAL3.tsv\n",
      "302 RPEP4.tsv\n",
      "303 MIR6820.tsv\n",
      "304 SOX10.tsv\n",
      "305 RPS9P2.tsv\n",
      "306 LOC100419673.tsv\n",
      "307 IGLVIV-64.tsv\n",
      "308 IGLV3-2.tsv\n",
      "309 IGLV1-62.tsv\n",
      "310 IGKV2OR22-3.tsv\n",
      "311 APOL4.tsv\n",
      "312 LOC105377190.tsv\n",
      "313 ADORA2A.tsv\n",
      "314 FBXO7.tsv\n",
      "315 HORMAD2-AS1.tsv\n",
      "316 YES1P1.tsv\n",
      "317 DUSP18.tsv\n",
      "318 LOC105373066.tsv\n",
      "319 NEK2P2.tsv\n",
      "320 TXNRD2.tsv\n",
      "321 C22orf42.tsv\n",
      "322 IGLV5-52.tsv\n",
      "323 TXN2.tsv\n",
      "324 KRT18P62.tsv\n",
      "325 DGCR8.tsv\n",
      "326 IL2RB.tsv\n",
      "327 RIMBP3B.tsv\n",
      "328 NFAM1.tsv\n",
      "329 RNU6ATAC22P.tsv\n",
      "330 LOC107987322.tsv\n",
      "331 LOC112268292.tsv\n",
      "332 MTCO1P33.tsv\n",
      "333 PIWIL3.tsv\n",
      "334 RPL41P3.tsv\n",
      "335 SMC1B.tsv\n",
      "336 SYN3.tsv\n",
      "337 LRRC75B.tsv\n",
      "338 LOC105372980.tsv\n",
      "339 MIR6821.tsv\n",
      "340 CDC27P8.tsv\n",
      "341 ARSA.tsv\n",
      "342 LINC00207.tsv\n",
      "343 DGCR6L.tsv\n",
      "344 RPS25P10.tsv\n",
      "345 LOC105377205.tsv\n",
      "346 LINC02556.tsv\n",
      "347 CCDC188.tsv\n",
      "348 BAIAP2L2.tsv\n",
      "349 HDHD5-AS1.tsv\n",
      "350 LOC105372971.tsv\n",
      "351 LOC107985545.tsv\n",
      "352 RN7SL633P.tsv\n",
      "353 APOBEC3D.tsv\n",
      "354 ENTHD1.tsv\n",
      "355 RPL31P62.tsv\n",
      "356 LOC105379518.tsv\n",
      "357 IGLVVI-22-1.tsv\n",
      "358 RPL7P52.tsv\n",
      "359 LOC105373086.tsv\n",
      "360 ZC3H7B.tsv\n",
      "361 LOC107985570.tsv\n",
      "362 CHEK2P4.tsv\n",
      "363 XKR3.tsv\n",
      "364 NOL12.tsv\n",
      "365 MOV10L1.tsv\n",
      "366 LOC112267891.tsv\n",
      "367 RPL4P6.tsv\n",
      "368 LINC01640.tsv\n",
      "369 XRCC6.tsv\n",
      "370 TTLL8.tsv\n",
      "371 ARHGAP8.tsv\n",
      "372 BIK.tsv\n",
      "373 SEC14L4.tsv\n",
      "374 LOC107985555.tsv\n",
      "375 RNU6-379P.tsv\n",
      "376 LOC105373053.tsv\n",
      "377 DEPDC5.tsv\n",
      "378 LOC105372948.tsv\n",
      "379 THAP7.tsv\n",
      "380 EFCAB6-AS1.tsv\n",
      "381 BCL2L13.tsv\n",
      "382 LOC107985566.tsv\n",
      "383 ABHD17AP4.tsv\n",
      "384 CSNK1E.tsv\n",
      "385 RIMBP3C.tsv\n",
      "386 MIR301B.tsv\n",
      "387 DUX4L41.tsv\n",
      "388 CDPF1.tsv\n",
      "389 SNORD13P1.tsv\n",
      "390 LOC105373071.tsv\n",
      "391 RN7SKP252.tsv\n",
      "392 IGLC5.tsv\n",
      "393 GAB4.tsv\n",
      "394 RPL13AP26.tsv\n",
      "395 ZDHHC8.tsv\n",
      "396 CDC27P7.tsv\n",
      "397 LINC01589.tsv\n",
      "398 LOC105372985.tsv\n",
      "399 THOC5.tsv\n",
      "400 MRTFA.tsv\n",
      "401 MIR3199-2.tsv\n",
      "402 KIAA0930.tsv\n",
      "403 LOC107985561.tsv\n",
      "404 MTFR2P2.tsv\n",
      "405 LOC107985554.tsv\n",
      "406 MIR130B.tsv\n",
      "407 LOC112268293.tsv\n",
      "408 LOC101928824.tsv\n",
      "409 HMGXB4.tsv\n",
      "410 CRYBB2P1.tsv\n",
      "411 ZNRF3-AS1.tsv\n",
      "412 RPS3AP51.tsv\n",
      "413 SLC16A8.tsv\n",
      "414 IGLCOR22-2.tsv\n",
      "415 LOC107985551.tsv\n",
      "416 IGLV6-57.tsv\n",
      "417 SLC25A1.tsv\n",
      "418 PI4KAP1.tsv\n",
      "419 SMDT1.tsv\n",
      "420 LOC646408.tsv\n",
      "421 TSSK1A.tsv\n",
      "422 LINC02885.tsv\n",
      "423 LINC01638.tsv\n",
      "424 FAM230B.tsv\n",
      "425 UPK3A.tsv\n",
      "426 MIR33A.tsv\n",
      "427 FAM230A.tsv\n",
      "428 IGLV1-41.tsv\n",
      "429 C22orf23.tsv\n",
      "430 LRRC37A14P.tsv\n",
      "431 HIRA.tsv\n",
      "432 RFPL1.tsv\n",
      "433 MICALL1.tsv\n",
      "434 ATXN10.tsv\n",
      "435 LRP5L.tsv\n",
      "436 LOC105373089.tsv\n",
      "437 LINC01644.tsv\n",
      "438 MTCO1P34.tsv\n",
      "439 GSTT2B.tsv\n",
      "440 MIR3928.tsv\n",
      "441 IGLC1.tsv\n",
      "442 MIR4764.tsv\n",
      "443 IGLV10-54.tsv\n",
      "444 LOC107987323.tsv\n",
      "445 LOC105373014.tsv\n",
      "446 P2RX6.tsv\n",
      "447 LOC101927183.tsv\n",
      "448 MIR7109.tsv\n",
      "449 DGCR2.tsv\n",
      "450 E2F6P1.tsv\n",
      "451 FAM230I.tsv\n",
      "452 SHISA8.tsv\n",
      "453 FAM118A.tsv\n",
      "454 MIR1281.tsv\n",
      "455 LINC01521.tsv\n",
      "456 NBEAP3.tsv\n",
      "457 MTCO2P20.tsv\n",
      "458 IGLVI-38.tsv\n",
      "459 GOLGA2P4.tsv\n",
      "460 DMC1.tsv\n",
      "461 IGLV2-28.tsv\n",
      "462 TRIOBP.tsv\n",
      "463 LOC105373077.tsv\n",
      "464 CHCHD10.tsv\n",
      "465 SNAP29.tsv\n",
      "466 TST.tsv\n",
      "467 ASPHD2.tsv\n",
      "468 RN7SKP210.tsv\n",
      "469 RNU6-513P.tsv\n",
      "470 GUCD1.tsv\n",
      "471 IFT27.tsv\n",
      "472 IGLV2-18.tsv\n",
      "473 LOC107985558.tsv\n",
      "474 LOC112268297.tsv\n",
      "475 LOC440792.tsv\n",
      "476 LOC107985529.tsv\n",
      "477 LOC150417.tsv\n",
      "478 RNA18SP.tsv\n",
      "479 SELENOO.tsv\n",
      "480 SNORD43.tsv\n",
      "481 IGLV5-37.tsv\n",
      "482 PRAME.tsv\n",
      "483 LOC105373021.tsv\n",
      "484 E2F6P2.tsv\n",
      "485 RIBC2.tsv\n",
      "486 EP300-AS1.tsv\n",
      "487 RN7SL6P.tsv\n",
      "488 EIF3L.tsv\n",
      "489 TAB1.tsv\n",
      "490 LOC102724378.tsv\n",
      "491 MIR3909.tsv\n",
      "492 IGLV5-48.tsv\n",
      "493 MORC2-AS1.tsv\n",
      "494 LOC107985553.tsv\n",
      "495 CPSF1P1.tsv\n",
      "496 IGLVV-58.tsv\n",
      "497 TRMT2A.tsv\n",
      "498 BNIP3P2.tsv\n",
      "499 LOC105373016.tsv\n",
      "500 LOC105379418.tsv\n",
      "501 CBY1.tsv\n",
      "502 LOC107985590.tsv\n"
     ]
    },
    {
     "name": "stdout",
     "output_type": "stream",
     "text": [
      "503 IGLL3P.tsv\n",
      "504 MIR3201.tsv\n",
      "505 RPS18P14.tsv\n",
      "506 MIR648.tsv\n",
      "507 BRD1.tsv\n",
      "508 HMOX1.tsv\n",
      "509 PDXP.tsv\n",
      "510 MIR1286.tsv\n",
      "511 ARFGAP3.tsv\n",
      "512 IGLV3-31.tsv\n",
      "513 RPL5P35.tsv\n",
      "514 MORC2.tsv\n",
      "515 LOC105372990.tsv\n",
      "516 LOC101929638.tsv\n",
      "517 TTC28.tsv\n",
      "518 CABIN1.tsv\n",
      "519 PISD.tsv\n",
      "520 ABHD17AP5.tsv\n",
      "521 IGLV2-11.tsv\n",
      "522 RN7SL20P.tsv\n",
      "523 SUN2.tsv\n",
      "524 TOP1P2.tsv\n",
      "525 MTATP6P20.tsv\n",
      "526 LOC100996404.tsv\n",
      "527 RN7SL843P.tsv\n",
      "528 LOC105372997.tsv\n",
      "529 SLC25A17.tsv\n",
      "530 SNORA77B.tsv\n",
      "531 LOC105373012.tsv\n",
      "532 IGLV3-16.tsv\n",
      "533 IGLV3-32.tsv\n",
      "534 IGLVI-68.tsv\n",
      "535 LOC110467534.tsv\n",
      "536 RGL4.tsv\n",
      "537 MIR4761.tsv\n",
      "538 CYTH4.tsv\n",
      "539 LOC284930.tsv\n",
      "540 MIR6817.tsv\n",
      "541 LOC100419811.tsv\n",
      "542 IGLVIV-66-1.tsv\n",
      "543 UQCRFS1P1.tsv\n",
      "544 MIR185.tsv\n",
      "545 LOC105372979.tsv\n",
      "546 ZNF72P.tsv\n",
      "547 IGLVV-66.tsv\n",
      "548 GSTT2.tsv\n",
      "549 IGLV3-21.tsv\n",
      "550 LOC100421121.tsv\n",
      "551 GALR3.tsv\n",
      "552 IGLV3-6.tsv\n",
      "553 BCRP6.tsv\n",
      "554 SNORD125.tsv\n",
      "555 LOC101929255.tsv\n",
      "556 POM121L10P.tsv\n",
      "557 LOC107985577.tsv\n",
      "558 BCRP3.tsv\n",
      "559 IGLV11-55.tsv\n",
      "560 PPM1F-AS1.tsv\n",
      "561 RNA5SP496.tsv\n",
      "562 LOC107985536.tsv\n",
      "563 IGL.tsv\n",
      "564 CPT1B.tsv\n",
      "565 LOC105373023.tsv\n",
      "566 PABPC1P9.tsv\n",
      "567 GGT1.tsv\n",
      "568 SERHL.tsv\n",
      "569 PRR5-ARHGAP8.tsv\n",
      "570 LOC105372859.tsv\n",
      "571 CRYBB3.tsv\n",
      "572 TCF20.tsv\n",
      "573 LOC102723507.tsv\n",
      "574 TOB2.tsv\n",
      "575 COX7BP1.tsv\n",
      "576 RNU6-810P.tsv\n",
      "577 NUP50-DT.tsv\n",
      "578 APOBEC3F.tsv\n",
      "579 LOC107985562.tsv\n",
      "580 LOC105372998.tsv\n",
      "581 DDX17.tsv\n",
      "582 KLHDC7B.tsv\n",
      "583 LOC105372952.tsv\n",
      "584 SIRPAP1.tsv\n",
      "585 THAP7-AS1.tsv\n",
      "586 LOC107987320.tsv\n",
      "587 PRR5.tsv\n",
      "588 LOC105373035.tsv\n",
      "589 SEPTIN3.tsv\n",
      "590 FBLN1.tsv\n",
      "591 EMID1.tsv\n",
      "592 LARGE1.tsv\n",
      "593 CYB5R3.tsv\n",
      "594 LOC105373032.tsv\n",
      "595 LOC441996.tsv\n",
      "596 PHF21B.tsv\n",
      "597 MIF.tsv\n",
      "598 GTPBP1.tsv\n",
      "599 MRPL40.tsv\n",
      "600 LINC01656.tsv\n",
      "601 RN7SL280P.tsv\n",
      "602 LOC105372947.tsv\n",
      "603 LOC112268295.tsv\n",
      "604 KIAA1671.tsv\n",
      "605 RN7SL263P.tsv\n",
      "606 IGLJ4.tsv\n",
      "606 IGLJ4.tsv nothing\n",
      "607 LINC01310.tsv\n",
      "608 LOC101927202.tsv\n",
      "609 KLHDC7B-DT.tsv\n",
      "610 LOC112268288.tsv\n",
      "611 TIMP3.tsv\n",
      "612 RPS15AP38.tsv\n",
      "613 RN7SL757P.tsv\n",
      "614 PARVG.tsv\n",
      "615 IGLV2-23.tsv\n",
      "616 HMGN2P9.tsv\n",
      "617 LOC105373019.tsv\n",
      "618 MIR378I.tsv\n",
      "619 LOC100422416.tsv\n",
      "620 LOC100129358.tsv\n",
      "621 LOC105373069.tsv\n",
      "622 IGLC2.tsv\n",
      "623 LOC107985588.tsv\n",
      "624 LMF2.tsv\n",
      "625 RN7SL812P.tsv\n",
      "626 PNPLA3.tsv\n",
      "627 TPTEP2-CSNK1E.tsv\n",
      "628 PRDX3P1.tsv\n",
      "629 DESI1.tsv\n",
      "630 POLDIP3.tsv\n",
      "631 LOC100129254.tsv\n",
      "632 CBX6.tsv\n",
      "633 LOC112268294.tsv\n",
      "634 MLC1.tsv\n",
      "635 DENND6B.tsv\n",
      "636 NDUFA6-DT.tsv\n",
      "637 LINC01422.tsv\n",
      "638 YDJC.tsv\n",
      "639 SDF2L1.tsv\n",
      "640 RNU6-201P.tsv\n",
      "641 ACTR3BP6.tsv\n",
      "642 MYO18B.tsv\n",
      "643 LOC107987325.tsv\n",
      "644 RPL35AP36.tsv\n",
      "645 MIR5739.tsv\n",
      "646 PPP1R26P2.tsv\n",
      "647 LOC129026.tsv\n",
      "648 RNU5F-5P.tsv\n",
      "649 LOC105373057.tsv\n",
      "650 EIF4HP2.tsv\n",
      "651 RRP7BP.tsv\n",
      "652 IGKV1OR22-1.tsv\n",
      "653 MYO18B-AS1.tsv\n",
      "654 RNY1P9.tsv\n",
      "655 MCHR1.tsv\n",
      "656 APOL6.tsv\n",
      "657 RPS10P30.tsv\n",
      "658 IGLV3-10.tsv\n",
      "659 MIR548J.tsv\n",
      "660 GCAT.tsv\n",
      "661 LOC692246.tsv\n",
      "662 LOC105373037.tsv\n",
      "663 MB.tsv\n",
      "664 CCDC157.tsv\n",
      "665 LOC110091768.tsv\n",
      "666 TUBA3GP.tsv\n",
      "667 RPL23AP82.tsv\n",
      "668 LINC01399.tsv\n",
      "669 RNU6-900P.tsv\n",
      "670 CCDC117.tsv\n",
      "671 CHADL.tsv\n",
      "672 LINC01643.tsv\n",
      "673 PRR14L.tsv\n",
      "674 USP41.tsv\n",
      "675 GGT5.tsv\n",
      "676 SEC14L6.tsv\n",
      "677 SCARF2.tsv\n",
      "678 RNF185.tsv\n",
      "679 IGKV3OR22-2.tsv\n",
      "680 SH3BP1.tsv\n",
      "681 TOP3B.tsv\n",
      "682 AP1B1P1.tsv\n",
      "683 LOC102723688.tsv\n",
      "684 RN7SKP80.tsv\n",
      "685 IGLL1.tsv\n",
      "686 TANGO2.tsv\n",
      "687 SLC35E4.tsv\n",
      "688 LGALS1.tsv\n",
      "689 BCRP5.tsv\n",
      "690 LOC105373022.tsv\n",
      "691 FAM230F.tsv\n",
      "692 MAPK12.tsv\n",
      "693 LOC112268291.tsv\n",
      "694 LL22NC01-81G9.3.tsv\n",
      "695 LINC00895.tsv\n",
      "696 LIF-AS1.tsv\n",
      "697 KCNMB3P1.tsv\n",
      "698 DRICH1.tsv\n",
      "699 ANKRD62P1.tsv\n",
      "700 MTCO1P20.tsv\n",
      "701 MIR3199-1.tsv\n",
      "702 MIR6816.tsv\n",
      "703 ARL2BPP10.tsv\n",
      "704 LOC100422530.tsv\n",
      "705 LOC107985538.tsv\n",
      "706 TRMU.tsv\n",
      "707 PARVB.tsv\n",
      "708 MTCO3P20.tsv\n",
      "709 LOC105373064.tsv\n",
      "710 RNU6-564P.tsv\n",
      "711 CYP2D8P.tsv\n",
      "712 MIR1306.tsv\n",
      "713 LOC102724653.tsv\n",
      "714 RN7SKP221.tsv\n",
      "715 GRAMD4P2.tsv\n",
      "716 GGT2.tsv\n",
      "717 CYP2D6.tsv\n",
      "718 LOC105373013.tsv\n",
      "719 LOC105369161.tsv\n",
      "720 IGLV7-35.tsv\n",
      "721 MTMR3.tsv\n",
      "722 LOC100996364.tsv\n",
      "723 SEPT5-GP1BB.tsv\n",
      "724 SUSD2P2.tsv\n",
      "725 CECR3.tsv\n",
      "726 TOMM40P2.tsv\n",
      "727 LOC105372935.tsv\n",
      "728 LL22NC03-102D1.18.tsv\n",
      "729 CES5AP1.tsv\n",
      "730 LOC107985567.tsv\n",
      "731 LOC105379516.tsv\n",
      "732 MCM5.tsv\n",
      "733 APOBEC3B.tsv\n",
      "734 KDELR3.tsv\n",
      "735 MIR649.tsv\n",
      "736 NDUFA6.tsv\n",
      "737 IGLVIV-65.tsv\n",
      "738 LOC105379428.tsv\n",
      "739 LOC107985571.tsv\n",
      "740 DUX4L42.tsv\n",
      "741 LOC100131536.tsv\n",
      "742 LOC100420103.tsv\n",
      "743 IGLJ2.tsv\n",
      "743 IGLJ2.tsv nothing\n",
      "744 PRR34-AS1.tsv\n",
      "745 GUSBP11.tsv\n",
      "746 LOC105373085.tsv\n",
      "747 IGLV3-12.tsv\n",
      "748 L3MBTL2.tsv\n",
      "749 TOMM22.tsv\n",
      "750 PIK3IP1.tsv\n",
      "751 IGLV2-8.tsv\n",
      "752 ANKRD62P1-PARP4P3.tsv\n",
      "753 HDHD5.tsv\n",
      "754 SERHL2.tsv\n",
      "755 DNM1P18.tsv\n",
      "756 MTCYBP34.tsv\n",
      "757 SDC4P.tsv\n",
      "758 APOBEC3G.tsv\n",
      "759 BMP6P1.tsv\n",
      "760 COX6B1P3.tsv\n",
      "761 RNU6-409P.tsv\n",
      "762 IGLVI-20.tsv\n",
      "763 TBC1D10A.tsv\n",
      "764 LOC107985556.tsv\n",
      "765 IGLV3-7.tsv\n",
      "766 APOL3.tsv\n",
      "767 ARVCF.tsv\n",
      "768 LOC105373000.tsv\n",
      "769 LOC107985579.tsv\n",
      "770 NIPSNAP1.tsv\n",
      "771 INPP5J.tsv\n",
      "772 UBE2L3.tsv\n",
      "773 POM121L4P.tsv\n",
      "774 IGLV3-27.tsv\n",
      "775 LOC107985532.tsv\n",
      "776 ISCA2P1.tsv\n",
      "777 MPST.tsv\n",
      "778 MTND1P10.tsv\n",
      "779 RN7SL268P.tsv\n",
      "780 LOC105372991.tsv\n",
      "781 GP1BB.tsv\n",
      "782 LOC642648.tsv\n",
      "783 ZMAT5.tsv\n",
      "784 MIR3200.tsv\n",
      "785 RN7SL162P.tsv\n",
      "786 POLR3H.tsv\n",
      "787 IL17REL.tsv\n",
      "788 BCRP2.tsv\n",
      "789 PATZ1.tsv\n",
      "790 CRYBB1.tsv\n",
      "791 RFPL4AP6.tsv\n",
      "792 MIRLET7A3.tsv\n",
      "793 APOBEC3H.tsv\n",
      "794 ACR.tsv\n",
      "795 RNF215.tsv\n",
      "796 IGLV3-13.tsv\n",
      "797 ADM2.tsv\n",
      "798 TTC38.tsv\n",
      "799 LOC105373003.tsv\n",
      "800 LOC101927372.tsv\n",
      "801 TSPO.tsv\n",
      "802 LOC102725072.tsv\n",
      "803 TTC28-AS1.tsv\n",
      "804 POTEH.tsv\n",
      "805 DUX4L43.tsv\n",
      "806 ZNF280B.tsv\n",
      "807 LOC107985563.tsv\n",
      "808 PPP6R2.tsv\n",
      "809 IGLVVI-25-1.tsv\n",
      "810 RTCB.tsv\n",
      "811 PEX26.tsv\n",
      "812 RN7SKP63.tsv\n",
      "813 SYCE3.tsv\n",
      "814 GGT3P.tsv\n",
      "815 MGAT3-AS1.tsv\n",
      "816 KIAA1656.tsv\n",
      "817 LOC100507599.tsv\n",
      "818 MIR3198-1.tsv\n",
      "819 MTND1P17.tsv\n",
      "820 LOC105372989.tsv\n",
      "821 LINC00528.tsv\n",
      "822 PITPNB.tsv\n",
      "823 C22orf39.tsv\n",
      "824 MIRLET7BHG.tsv\n",
      "825 LOC105373058.tsv\n",
      "826 RNU6-816P.tsv\n",
      "827 LOC107984030.tsv\n",
      "828 C22orf34.tsv\n",
      "829 LOC101929372.tsv\n",
      "830 RSPH14.tsv\n",
      "831 CCDC134.tsv\n",
      "832 LOC100420177.tsv\n",
      "833 POM121L11P.tsv\n",
      "834 MFNG.tsv\n",
      "835 LOC107985573.tsv\n",
      "836 CSF2RBP1.tsv\n",
      "837 FAM230D.tsv\n",
      "838 RFPL1S.tsv\n",
      "839 ZNF402P.tsv\n",
      "840 GGTLC5P.tsv\n",
      "841 SEPTIN5.tsv\n",
      "842 CECR7.tsv\n",
      "843 LIMK2.tsv\n",
      "844 LOC107987326.tsv\n",
      "845 LOC101928041.tsv\n",
      "846 SLC5A4-AS1.tsv\n",
      "847 LOC105372969.tsv\n",
      "848 LOC105373002.tsv\n",
      "849 SNRPD3.tsv\n",
      "850 LOC105372850.tsv\n",
      "851 AP1B1P2.tsv\n",
      "852 GGTLC3.tsv\n",
      "853 IGLV1-51.tsv\n",
      "854 LL22NC03-63E9.3.tsv\n",
      "855 LOC101927551.tsv\n",
      "856 MED15.tsv\n",
      "857 PPIL2.tsv\n",
      "858 DUX4L44.tsv\n",
      "859 RPS10P29.tsv\n",
      "860 MTCO3P34.tsv\n",
      "861 RTL10.tsv\n",
      "862 MIF-AS1.tsv\n",
      "863 TERF2IPP1.tsv\n",
      "864 SGSM1.tsv\n",
      "865 RNU6-331P.tsv\n",
      "866 PMM1.tsv\n",
      "867 MRPS18CP6.tsv\n",
      "868 CYP2D7.tsv\n",
      "869 YPEL1.tsv\n",
      "870 RNU7-167P.tsv\n",
      "871 LOC107985581.tsv\n",
      "872 TMEM191A.tsv\n",
      "873 MIR3667.tsv\n",
      "874 RHBDD3.tsv\n",
      "875 MTCO3P33.tsv\n",
      "876 RPL35P8.tsv\n",
      "877 SUSD2P1.tsv\n",
      "878 IGLV1-44.tsv\n",
      "879 LINC02559.tsv\n",
      "880 LOC107984037.tsv\n",
      "881 BCRP4.tsv\n",
      "882 RPL6P28.tsv\n",
      "883 YME1L1P1.tsv\n",
      "884 LOC284912.tsv\n",
      "885 GAL3ST1.tsv\n",
      "886 LOC100533637.tsv\n",
      "887 IGKV2OR22-4.tsv\n",
      "888 MAFF.tsv\n",
      "889 ARL5AP4.tsv\n",
      "890 C22orf15.tsv\n",
      "891 RNU6-1161P.tsv\n",
      "892 PRR34.tsv\n",
      "893 LOC100420967.tsv\n",
      "894 LOC101927051.tsv\n",
      "895 RNU6-28P.tsv\n",
      "896 SELENOM.tsv\n",
      "897 SMTN.tsv\n",
      "898 PPP1R26P4.tsv\n",
      "899 LOC105373068.tsv\n",
      "900 NCF4-AS1.tsv\n",
      "901 LOC107985549.tsv\n",
      "902 NUP50.tsv\n",
      "903 IGLJ5.tsv\n",
      "903 IGLJ5.tsv nothing\n",
      "904 PLXNB2.tsv\n",
      "905 MIR6818.tsv\n",
      "906 MRPS16P3.tsv\n",
      "907 USP18.tsv\n",
      "908 OSM.tsv\n",
      "909 LZTR1.tsv\n",
      "910 MMP11.tsv\n",
      "911 LRRC74B.tsv\n",
      "912 C22orf24.tsv\n",
      "913 UPB1.tsv\n",
      "914 CARD10.tsv\n",
      "915 IGLV3-1.tsv\n",
      "916 LOC101929594.tsv\n",
      "917 LOC100420175.tsv\n",
      "918 PPP1R26P3.tsv\n",
      "919 IGLV3-29.tsv\n",
      "920 LOC105373075.tsv\n",
      "921 LOC107985565.tsv\n",
      "922 LOC105372871.tsv\n",
      "923 FAM230E.tsv\n",
      "924 LOC112268290.tsv\n",
      "925 CNN2P1.tsv\n",
      "926 XBP1.tsv\n",
      "927 VPREB1.tsv\n",
      "928 MIAT.tsv\n",
      "929 LOC112268299.tsv\n",
      "930 LOC107985580.tsv\n",
      "931 FOXRED2.tsv\n",
      "932 RNA5SP497.tsv\n",
      "933 APOL2.tsv\n",
      "934 TMEM211.tsv\n",
      "935 FAM230G.tsv\n",
      "936 LINC01634.tsv\n",
      "937 NPTXR.tsv\n",
      "938 LOC100292922.tsv\n",
      "939 IGLJ1.tsv\n",
      "940 PPP1R26P5.tsv\n",
      "941 LOC110467520.tsv\n",
      "942 IGLVI-63.tsv\n",
      "943 LOC107985542.tsv\n",
      "944 POLR2F.tsv\n",
      "945 MIEF1.tsv\n",
      "946 EWSR1.tsv\n",
      "947 LOC102723722.tsv\n",
      "948 IGLC7.tsv\n",
      "949 PRAMENP.tsv\n",
      "950 PVALB.tsv\n",
      "951 LOC101929738.tsv\n",
      "952 IGLV1-40.tsv\n",
      "953 IGLV4-60.tsv\n",
      "954 POM121L9P.tsv\n",
      "955 GRAMD4.tsv\n",
      "956 RPL5P34.tsv\n",
      "957 LOC105373095.tsv\n",
      "958 RN7SL500P.tsv\n",
      "959 LOC105373030.tsv\n",
      "960 RAB36.tsv\n",
      "961 RANGAP1.tsv\n",
      "962 RABL2B.tsv\n",
      "963 LOC100652871.tsv\n",
      "964 L3MBTL2-AS1.tsv\n",
      "965 TFIP11.tsv\n",
      "966 ATP5MGL.tsv\n",
      "967 RN7SKP214.tsv\n",
      "968 EIF4ENIF1.tsv\n",
      "969 PKDREJ.tsv\n",
      "970 LINC00898.tsv\n",
      "971 LOC112268300.tsv\n",
      "972 RN7SKP131.tsv\n",
      "973 RASL10A.tsv\n",
      "974 LOC107985582.tsv\n",
      "975 ZNF70.tsv\n",
      "976 LL22NC03-104C7.1.tsv\n",
      "977 SSTR3.tsv\n",
      "978 DGCR5.tsv\n",
      "979 LOC107985550.tsv\n",
      "980 POM121L8P.tsv\n",
      "981 IGLL4P.tsv\n",
      "982 RTL6.tsv\n",
      "983 LINC01637.tsv\n",
      "984 IGLV2-34.tsv\n",
      "985 ODF3B.tsv\n",
      "986 YWHAQP2.tsv\n",
      "987 LOC114841040.tsv\n",
      "988 DGCR11.tsv\n",
      "989 GTSE1.tsv\n",
      "990 IGLV8-61.tsv\n"
     ]
    },
    {
     "name": "stdout",
     "output_type": "stream",
     "text": [
      "991 LOC107985557.tsv\n",
      "992 LOC105372974.tsv\n",
      "993 PDGFB.tsv\n",
      "994 RNU6-338P.tsv\n",
      "995 SHISAL1.tsv\n",
      "996 GSTT4.tsv\n",
      "997 LOC391334.tsv\n",
      "998 MRTFA-AS1.tsv\n",
      "999 PPP1R14BP1.tsv\n",
      "1000 ATP6V1E1.tsv\n",
      "1001 LOC102724801.tsv\n",
      "1002 LOC105373059.tsv\n",
      "1003 LOC112268289.tsv\n",
      "1004 RN7SKP169.tsv\n",
      "1005 LOC105372977.tsv\n",
      "1006 WNT7B.tsv\n",
      "1007 RPS15AP37.tsv\n",
      "1008 IGLVVII-41-1.tsv\n",
      "1009 ACO2.tsv\n",
      "1010 LOC107985576.tsv\n",
      "1011 RRP7A.tsv\n",
      "1012 SLC5A1.tsv\n",
      "1013 MAPK11.tsv\n",
      "1014 MAPK8IP2.tsv\n",
      "1015 SLC2A11.tsv\n",
      "1016 LOC644525.tsv\n",
      "1017 PANX2.tsv\n",
      "1018 TPST2.tsv\n",
      "1019 LOC100113375.tsv\n",
      "1020 NAGA.tsv\n",
      "1021 TMPRSS6.tsv\n",
      "1022 RNU6-375P.tsv\n",
      "1023 VPREB3.tsv\n",
      "1024 LOC105372853.tsv\n",
      "1025 RN7SL305P.tsv\n",
      "1026 APOL5.tsv\n",
      "1027 LOC105372995.tsv\n",
      "1028 LOC105372858.tsv\n",
      "1029 LOC101927344.tsv\n",
      "1030 CABP7.tsv\n",
      "1031 TBC1D22A.tsv\n",
      "1032 LOC105373063.tsv\n",
      "1033 ESS2.tsv\n",
      "1034 POM121L1P.tsv\n",
      "1035 AIFM3.tsv\n",
      "1036 CA15P3.tsv\n",
      "1037 OR11H1.tsv\n",
      "1038 LOC100420885.tsv\n",
      "1039 HMGN2P10.tsv\n",
      "1040 LOC107985537.tsv\n",
      "1041 MIR4766.tsv\n",
      "1042 SGSM3.tsv\n",
      "1043 ABCD1P4.tsv\n",
      "1044 CCT8L2.tsv\n",
      "1045 IGLC4.tsv\n",
      "1046 GAS2L1.tsv\n",
      "1047 IGLV3-24.tsv\n",
      "1048 HDAC10.tsv\n",
      "1049 IGLV3-9.tsv\n",
      "1050 PLA2G3.tsv\n",
      "1051 TEF.tsv\n",
      "1052 LOC100419506.tsv\n",
      "1053 CLTCL1.tsv\n",
      "1054 LOC105372863.tsv\n",
      "1055 SMPD4P1.tsv\n",
      "1056 LOC105372981.tsv\n",
      "1057 LOC105373083.tsv\n",
      "1058 LOC101927393.tsv\n",
      "1059 LOC100419915.tsv\n",
      "1060 ADA2.tsv\n",
      "1061 ST13.tsv\n",
      "1062 MTFP1.tsv\n",
      "1063 LOC646216.tsv\n",
      "1064 IGLVIV-59.tsv\n",
      "1065 LOC107985534.tsv\n",
      "1066 EP300.tsv\n",
      "1067 MN1.tsv\n",
      "1068 HORMAD2.tsv\n",
      "1069 LOC107985530.tsv\n",
      "1070 MIR3618.tsv\n",
      "1071 UQCR10.tsv\n",
      "1072 LOC100129262.tsv\n",
      "1073 LOC646927.tsv\n",
      "1074 FRG1GP.tsv\n",
      "1075 DDTL.tsv\n",
      "1076 TUBGCP6.tsv\n",
      "1077 LOC105373031.tsv\n",
      "1078 MIR4534.tsv\n",
      "1079 IGLV1-36.tsv\n",
      "1080 SNORA92.tsv\n",
      "1081 NDUFA9P1.tsv\n",
      "1082 DRG1.tsv\n",
      "1083 GNB1L.tsv\n",
      "1084 JOSD1.tsv\n",
      "1085 IGLVI-42.tsv\n",
      "1086 MIR4762.tsv\n",
      "1087 BMS1P20.tsv\n",
      "1088 PARP4P3.tsv\n",
      "1089 RPS10P31.tsv\n",
      "1090 KLHL22.tsv\n",
      "1091 SF3A1.tsv\n",
      "1092 LOC105373080.tsv\n",
      "1093 OLA1P1.tsv\n",
      "1094 TRABD.tsv\n",
      "1095 SCUBE1.tsv\n",
      "1096 LOC105373096.tsv\n",
      "1097 APOBEC3B-AS1.tsv\n",
      "1098 PCMTD1P5.tsv\n",
      "1099 LOC105372862.tsv\n",
      "1100 CHEK2.tsv\n",
      "1101 C22orf46.tsv\n",
      "1102 KIAA1671-AS1.tsv\n",
      "1103 NEFH.tsv\n",
      "1104 LOC107987324.tsv\n",
      "1105 LOC100313968.tsv\n",
      "1106 ASH2LP2.tsv\n",
      "1107 IGLL5.tsv\n",
      "1108 WBP2NL.tsv\n",
      "1109 LOC105373100.tsv\n",
      "1110 LOC101927499.tsv\n",
      "1111 RBX1.tsv\n",
      "1112 RIMBP3.tsv\n",
      "1113 PHETA2.tsv\n",
      "1114 GRAP2.tsv\n",
      "1115 RPS29P31.tsv\n",
      "1116 NCF4.tsv\n",
      "1117 RN7SL385P.tsv\n",
      "1118 RFPL3.tsv\n",
      "1119 DUXAP8.tsv\n",
      "1120 LOC100422292.tsv\n",
      "1121 IGLV9-49.tsv\n",
      "1122 LOC100533679.tsv\n",
      "1123 IGLC6.tsv\n",
      "1124 PIM3.tsv\n",
      "1125 LOC102723305.tsv\n",
      "1126 SNORD139.tsv\n",
      "1127 ZNF74.tsv\n",
      "1128 EFCAB6.tsv\n",
      "1129 SBF1.tsv\n",
      "1130 LOC105373087.tsv\n",
      "1131 LOC105372864.tsv\n",
      "1132 LOC105372960.tsv\n",
      "1133 ASCC2.tsv\n",
      "1134 LOC105373043.tsv\n",
      "1135 TCN2.tsv\n",
      "1136 SREBF2.tsv\n",
      "1137 IGLV4-69.tsv\n",
      "1138 CA15P2.tsv\n",
      "1139 SNORD140.tsv\n",
      "1140 DDT.tsv\n",
      "1141 SLC7A4.tsv\n",
      "1142 ZDHHC8P1.tsv\n",
      "1143 LOC105373024.tsv\n",
      "1144 PCAT14.tsv\n",
      "1145 IGLV2-5.tsv\n",
      "1146 LOC105372994.tsv\n",
      "1147 SLC5A4.tsv\n",
      "1148 SMARCB1.tsv\n",
      "1149 SLC9B1P4.tsv\n",
      "1150 SFI1.tsv\n",
      "1151 IGLV3-26.tsv\n",
      "1152 CECR2.tsv\n",
      "1153 VWFP1.tsv\n",
      "1154 LOC105372957.tsv\n",
      "1155 ASH2LP1.tsv\n",
      "1156 FABP5P11.tsv\n",
      "1157 DNAJA1P6.tsv\n",
      "1158 LINC00229.tsv\n",
      "1159 E2F6P3.tsv\n",
      "1160 PPM1F.tsv\n",
      "1161 PPARA.tsv\n",
      "1162 ASLP1.tsv\n",
      "1163 RNU6-225P.tsv\n",
      "1164 C1QTNF6.tsv\n",
      "1165 IGLV3-4.tsv\n",
      "1166 SNORD83A.tsv\n",
      "1167 LOC105372942.tsv\n",
      "1168 LOC339666.tsv\n",
      "1169 SOCS2P2.tsv\n",
      "1170 KCTD17.tsv\n",
      "1171 CCDC116.tsv\n",
      "1172 SCO2.tsv\n",
      "1173 RNU12.tsv\n",
      "1174 SEC14L3.tsv\n",
      "1175 MIR659.tsv\n",
      "1176 LOC112267890.tsv\n",
      "1177 FAM83F.tsv\n",
      "1178 LOC112268296.tsv\n",
      "1179 LOC101060852.tsv\n",
      "1180 TTLL1.tsv\n",
      "1181 LOC105373062.tsv\n",
      "1182 RNA5SP494.tsv\n",
      "1183 H1-0.tsv\n",
      "1184 CRYBA4.tsv\n",
      "1185 RPL3.tsv\n"
     ]
    }
   ],
   "source": [
    "total = None\n",
    "nothing = []\n",
    "for i,a in enumerate(ordered_data):\n",
    "    print(i,a)\n",
    "    try:\n",
    "        current_df = pd.read_csv(\n",
    "            op.join(\n",
    "                \"/home/bakirillov/HDD/data/chr22_ordered/\"+a\n",
    "            ), sep=\"\\t\", header=None\n",
    "        )\n",
    "    except:\n",
    "        nothing.append(a)\n",
    "        print(i,a, \"nothing\")\n",
    "    else:\n",
    "        if i == 0:\n",
    "            total = current_df.head(10)\n",
    "        else:\n",
    "            total = total.append(current_df.head(10))"
   ]
  },
  {
   "cell_type": "code",
   "execution_count": 39,
   "metadata": {},
   "outputs": [
    {
     "data": {
      "text/plain": [
       "['IGLJ7.tsv', 'IGLJ3.tsv', 'IGLJ4.tsv', 'IGLJ2.tsv', 'IGLJ5.tsv']"
      ]
     },
     "execution_count": 39,
     "metadata": {},
     "output_type": "execute_result"
    }
   ],
   "source": [
    "nothing"
   ]
  },
  {
   "cell_type": "code",
   "execution_count": 35,
   "metadata": {},
   "outputs": [],
   "source": [
    "del total[0]\n",
    "del total[1]\n",
    "del total[6]\n",
    "del total[7]"
   ]
  },
  {
   "cell_type": "code",
   "execution_count": 42,
   "metadata": {},
   "outputs": [
    {
     "data": {
      "text/plain": [
       "(array(['+', '-'], dtype=object), array([5622, 5931]))"
      ]
     },
     "execution_count": 42,
     "metadata": {},
     "output_type": "execute_result"
    }
   ],
   "source": [
    "np.unique(total[5].values, return_counts=True)"
   ]
  },
  {
   "cell_type": "code",
   "execution_count": 37,
   "metadata": {},
   "outputs": [],
   "source": [
    "total.to_csv(\"DeepHF_wt_paper_ready.tsv\")"
   ]
  }
 ],
 "metadata": {
  "kernelspec": {
   "display_name": "Python 3",
   "language": "python",
   "name": "python3"
  },
  "language_info": {
   "codemirror_mode": {
    "name": "ipython",
    "version": 3
   },
   "file_extension": ".py",
   "mimetype": "text/x-python",
   "name": "python",
   "nbconvert_exporter": "python",
   "pygments_lexer": "ipython3",
   "version": "3.8.5"
  }
 },
 "nbformat": 4,
 "nbformat_minor": 2
}
