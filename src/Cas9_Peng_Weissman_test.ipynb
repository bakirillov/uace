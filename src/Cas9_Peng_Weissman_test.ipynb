{
 "cells": [
  {
   "cell_type": "code",
   "execution_count": 1,
   "metadata": {},
   "outputs": [
    {
     "name": "stderr",
     "output_type": "stream",
     "text": [
      "/home/bakirillov/anaconda3/envs/lapki/lib/python3.7/site-packages/sklearn/externals/joblib/__init__.py:15: DeprecationWarning: sklearn.externals.joblib is deprecated in 0.21 and will be removed in 0.23. Please import this functionality directly from joblib, which can be installed with: pip install joblib. If this warning is raised when loading pickled models, you may need to re-serialize those models with scikit-learn 0.21+.\n",
      "  warnings.warn(msg, category=DeprecationWarning)\n"
     ]
    }
   ],
   "source": [
    "import os\n",
    "import umap\n",
    "import torch\n",
    "import itertools\n",
    "from core import *\n",
    "import numpy as np\n",
    "import pandas as pd\n",
    "import pickle as pkl\n",
    "from torch import nn\n",
    "import os.path as op\n",
    "from tqdm import tqdm\n",
    "from time import time\n",
    "from copy import deepcopy\n",
    "from torchvision import models\n",
    "from tpot import TPOTRegressor\n",
    "from tpot import TPOTClassifier\n",
    "import torch.nn.functional as F\n",
    "import matplotlib.pyplot as plt\n",
    "from capsules.capsules import *\n",
    "from IPython.display import Image\n",
    "from torch.optim import Adam, SGD\n",
    "from qhoptim.pyt import QHM, QHAdam\n",
    "from torch.optim import Adam, SGD\n",
    "from matplotlib.lines import Line2D\n",
    "from torch.autograd import Variable\n",
    "from matplotlib.patches import Patch\n",
    "from mpl_toolkits.mplot3d import Axes3D\n",
    "from sklearn.svm import OneClassSVM, SVC\n",
    "from scipy.stats import spearmanr, pearsonr\n",
    "from catboost import CatBoostRegressor, Pool, cv, CatBoostClassifier\n",
    "from sklearn.model_selection import train_test_split, StratifiedKFold\n",
    "from sklearn.metrics import roc_auc_score, roc_curve, balanced_accuracy_score\n",
    "from sklearn.metrics import mean_absolute_error, mean_squared_error, median_absolute_error\n",
    "from sklearn.metrics import accuracy_score, matthews_corrcoef, precision_score, recall_score"
   ]
  },
  {
   "cell_type": "code",
   "execution_count": 2,
   "metadata": {},
   "outputs": [],
   "source": [
    "import gpytorch\n",
    "from gpytorch.means import ConstantMean, LinearMean\n",
    "from gpytorch.models import ApproximateGP, ExactGP \n",
    "from sklearn.metrics import accuracy_score\n",
    "from gpytorch.priors import SmoothedBoxPrior\n",
    "from gpytorch.likelihoods import GaussianLikelihood, SoftmaxLikelihood\n",
    "from gpytorch.kernels import ScaleKernel, RBFKernel, GridInterpolationKernel\n",
    "from gpytorch.mlls import VariationalELBO, VariationalELBOEmpirical, DeepApproximateMLL\n",
    "from gpytorch.distributions import MultivariateNormal\n",
    "from gpytorch.variational import CholeskyVariationalDistribution\n",
    "from gpytorch.variational import VariationalStrategy\n",
    "from gpytorch.models.deep_gps import DeepGPLayer, DeepGP"
   ]
  },
  {
   "cell_type": "code",
   "execution_count": 3,
   "metadata": {},
   "outputs": [],
   "source": [
    "from torchvision import models, transforms\n",
    "from torch.utils.data import DataLoader, Dataset"
   ]
  },
  {
   "cell_type": "code",
   "execution_count": 4,
   "metadata": {},
   "outputs": [],
   "source": [
    "from RAdam.radam import RAdam\n",
    "from torch.optim.lr_scheduler import StepLR"
   ]
  },
  {
   "cell_type": "code",
   "execution_count": 5,
   "metadata": {},
   "outputs": [],
   "source": [
    "from flp.focalloss import FocalLoss"
   ]
  },
  {
   "cell_type": "code",
   "execution_count": 6,
   "metadata": {},
   "outputs": [],
   "source": [
    "np.random.seed(1489)\n",
    "torch.manual_seed(1489)\n",
    "torch.cuda.manual_seed(1489)"
   ]
  },
  {
   "cell_type": "code",
   "execution_count": 7,
   "metadata": {},
   "outputs": [],
   "source": [
    "TRAINED = \"/home/bakirillov/HDD/weights/CRISPR-CAD/off-target/Peng_hitnet\"\n",
    "PENGPATH = \"/home/bakirillov/HDD/data/CRISPR-CAD/Peng_offtargets/bty558-suppl_data/\"\n",
    "HPATH = \"/home/bakirillov/HDD/data/CRISPR-CAD/Haeussler/13059_2016_1012_MOESM2_ESM.tsv\"\n",
    "LOW = op.join(PENGPATH, \"Supplementary file 1.xlsx\")\n",
    "HIGH = op.join(PENGPATH, \"Supplementary file 1.xlsx\")\n",
    "NEG = op.join(PENGPATH, \"Supplementary file 1.xlsx\")\n",
    "CSPATH = \"/home/bakirillov/HDD/data/CRISPR-CAD/CIRCLE-SEQ/nmeth.4278-S2.xlsx\"\n",
    "CSPATH2 = \"/home/bakirillov/HDD/data/CRISPR-CAD/CIRCLE-SEQ/nmeth.4278-S3.xlsx\"\n",
    "SSPATH = \"/home/bakirillov/HDD/data/CRISPR-CAD/SITE-SEQ/nmeth.4284-S2.xlsx\""
   ]
  },
  {
   "cell_type": "code",
   "execution_count": 8,
   "metadata": {},
   "outputs": [],
   "source": [
    "UNDERSAMPLE = False"
   ]
  },
  {
   "cell_type": "code",
   "execution_count": 9,
   "metadata": {},
   "outputs": [],
   "source": [
    "low = pd.read_excel(op.join(PENGPATH, \"Supplementary file 1.xlsx\"), sheet_name=0)\n",
    "high = pd.read_excel(op.join(PENGPATH, \"Supplementary file 1.xlsx\"), sheet_name=1)\n",
    "neg = pd.read_excel(op.join(PENGPATH, \"Supplementary file 1.xlsx\"), sheet_name=2)\n",
    "low_strs = [a+\",\"+b for a,b in zip(low[\"on-target site\"], low[\"off-target site\"])]\n",
    "high_strs = [a+\",\"+b for a,b in zip(high[\"on-target site\"], high[\"off-target site\"])]\n",
    "neg_strs = [a+\",\"+b for a,b in zip(neg[\"on-target site\"], neg[\"no editing site\"])]\n",
    "low_high = list(set(low_strs+high_strs))\n",
    "final_neg = []"
   ]
  },
  {
   "cell_type": "code",
   "execution_count": 10,
   "metadata": {},
   "outputs": [],
   "source": [
    "if UNDERSAMPLE:\n",
    "    for a in tqdm(low_high):\n",
    "        suitable = list(\n",
    "            filter(\n",
    "                lambda x: x.split(\",\")[0] == a.split(\",\")[0] and x.split(\",\")[0] not in final_neg, \n",
    "                neg_strs\n",
    "            )\n",
    "        )\n",
    "        final_neg.append(np.random.choice(suitable))\n",
    "    final_neg = list(set(final_neg))\n",
    "else:\n",
    "    final_neg = neg_strs\n",
    "pairs = np.array(low_high+final_neg)\n",
    "labels = np.array([1]*len(low_high)+[0]*len(final_neg))"
   ]
  },
  {
   "cell_type": "code",
   "execution_count": 11,
   "metadata": {},
   "outputs": [
    {
     "data": {
      "text/plain": [
       "(array([0, 1]), array([408260,    742]))"
      ]
     },
     "execution_count": 11,
     "metadata": {},
     "output_type": "execute_result"
    }
   ],
   "source": [
    "np.unique(labels, return_counts=True)"
   ]
  },
  {
   "cell_type": "code",
   "execution_count": 12,
   "metadata": {},
   "outputs": [
    {
     "data": {
      "text/plain": [
       "0.001814172057838348"
      ]
     },
     "execution_count": 12,
     "metadata": {},
     "output_type": "execute_result"
    }
   ],
   "source": [
    "742/(408260+742)"
   ]
  },
  {
   "cell_type": "code",
   "execution_count": 13,
   "metadata": {},
   "outputs": [],
   "source": [
    "N_MISMATCHES = 6"
   ]
  },
  {
   "cell_type": "code",
   "execution_count": 14,
   "metadata": {},
   "outputs": [],
   "source": [
    "if N_MISMATCHES != -1:\n",
    "    n_mms = lambda x,y: np.sum([int(a != b) for a,b in zip(x,y)])\n",
    "    worthy = np.array([n_mms(*a.split(\",\")) for a in pairs]) < N_MISMATCHES\n",
    "    not_worthy = np.array([n_mms(*a.split(\",\")) for a in pairs]) > N_MISMATCHES\n",
    "    pretraining_pairs = pairs[not_worthy]\n",
    "    pretraining_labels = labels[not_worthy]\n",
    "    pairs = pairs[worthy]\n",
    "    labels = labels[worthy]"
   ]
  },
  {
   "cell_type": "code",
   "execution_count": 15,
   "metadata": {
    "scrolled": true
   },
   "outputs": [
    {
     "data": {
      "text/plain": [
       "(array([0, 1]), array([26038,   615]))"
      ]
     },
     "execution_count": 15,
     "metadata": {},
     "output_type": "execute_result"
    }
   ],
   "source": [
    "np.unique(labels, return_counts=True)"
   ]
  },
  {
   "cell_type": "code",
   "execution_count": 16,
   "metadata": {
    "scrolled": true
   },
   "outputs": [
    {
     "data": {
      "text/plain": [
       "0.02307432559186583"
      ]
     },
     "execution_count": 16,
     "metadata": {},
     "output_type": "execute_result"
    }
   ],
   "source": [
    "615/(615+26038)"
   ]
  },
  {
   "cell_type": "code",
   "execution_count": 17,
   "metadata": {},
   "outputs": [],
   "source": [
    "u = ImperfectMatchTransform(\"NGG\", False, False, fold=False)"
   ]
  },
  {
   "cell_type": "code",
   "execution_count": 18,
   "metadata": {},
   "outputs": [],
   "source": [
    "transformer = transforms.Compose(\n",
    "    [\n",
    "        u, ToTensor(True)\n",
    "    ]\n",
    ")"
   ]
  },
  {
   "cell_type": "code",
   "execution_count": 19,
   "metadata": {},
   "outputs": [],
   "source": [
    "tt_X, val_X, tt_Y, val_Y = train_test_split(\n",
    "    np.arange(len(pairs)), labels, test_size=0.1, stratify=labels\n",
    ")"
   ]
  },
  {
   "cell_type": "code",
   "execution_count": 20,
   "metadata": {},
   "outputs": [],
   "source": [
    "train_X, test_X, train_Y, test_Y = train_test_split(\n",
    "    tt_X, tt_Y, stratify=tt_Y\n",
    ")"
   ]
  },
  {
   "cell_type": "code",
   "execution_count": 21,
   "metadata": {},
   "outputs": [
    {
     "data": {
      "text/plain": [
       "((17990,), (5997,), (2666,))"
      ]
     },
     "execution_count": 21,
     "metadata": {},
     "output_type": "execute_result"
    }
   ],
   "source": [
    "train_X.shape, test_X.shape, val_X.shape"
   ]
  },
  {
   "cell_type": "code",
   "execution_count": 22,
   "metadata": {},
   "outputs": [],
   "source": [
    "BATCH_SIZE=256"
   ]
  },
  {
   "cell_type": "code",
   "execution_count": 23,
   "metadata": {},
   "outputs": [],
   "source": [
    "prt = np.random.choice(np.arange(pretraining_labels.shape[0]), size=2000)"
   ]
  },
  {
   "cell_type": "code",
   "execution_count": 24,
   "metadata": {},
   "outputs": [
    {
     "data": {
      "text/plain": [
       "array([0])"
      ]
     },
     "execution_count": 24,
     "metadata": {},
     "output_type": "execute_result"
    }
   ],
   "source": [
    "np.unique(pretraining_labels[prt])"
   ]
  },
  {
   "cell_type": "markdown",
   "metadata": {},
   "source": [
    "### LOGO cv"
   ]
  },
  {
   "cell_type": "code",
   "execution_count": 25,
   "metadata": {},
   "outputs": [],
   "source": [
    "guides = np.unique([a.split(\",\")[0] for a in low_high])"
   ]
  },
  {
   "cell_type": "code",
   "execution_count": 26,
   "metadata": {},
   "outputs": [
    {
     "data": {
      "text/plain": [
       "'AAATGAGAAGAAGAGGCACAGGG'"
      ]
     },
     "execution_count": 26,
     "metadata": {},
     "output_type": "execute_result"
    }
   ],
   "source": [
    "guides[0]"
   ]
  },
  {
   "cell_type": "code",
   "execution_count": 27,
   "metadata": {},
   "outputs": [],
   "source": [
    "balaccs = {a:[] for a in guides}\n",
    "aurocs = {a:[] for a in guides}\n",
    "nb_balaccs = {a:[] for a in guides}\n",
    "nb_aurocs = {a:[] for a in guides}\n",
    "dm_balaccs = {a:[] for a in guides}\n",
    "dm_aurocs = {a: [] for a in guides}\n",
    "mv_balaccs = {a:[] for a in guides}\n",
    "mv_aurocs = {a: [] for a in guides}\n",
    "gp_balaccs = {a:[] for a in guides}\n",
    "gp_aurocs = {a: [] for a in guides}\n",
    "bg_balaccs = {a:[] for a in guides}\n",
    "bg_aurocs = {a: [] for a in guides}\n",
    "st_balaccs = {a:[] for a in guides}\n",
    "st_aurocs = {a: [] for a in guides}\n",
    "sp_balaccs = {a:[] for a in guides}\n",
    "sp_aurocs = {a: [] for a in guides}"
   ]
  },
  {
   "cell_type": "code",
   "execution_count": 28,
   "metadata": {},
   "outputs": [],
   "source": [
    "FE = 10\n",
    "BATCH_SIZE = 512"
   ]
  },
  {
   "cell_type": "code",
   "execution_count": 29,
   "metadata": {},
   "outputs": [],
   "source": [
    "THRESHOLD = 0.68"
   ]
  },
  {
   "cell_type": "code",
   "execution_count": 30,
   "metadata": {},
   "outputs": [],
   "source": [
    "from xgboost import XGBClassifier"
   ]
  },
  {
   "cell_type": "code",
   "execution_count": 31,
   "metadata": {},
   "outputs": [],
   "source": [
    "from sklearn.gaussian_process import GaussianProcessClassifier"
   ]
  },
  {
   "cell_type": "code",
   "execution_count": 32,
   "metadata": {},
   "outputs": [],
   "source": [
    "def get_leave_one_guide(guide, pairs, in_p = False):\n",
    "    f1 = lambda x: guide in x\n",
    "    f2 = lambda x: guide not in x\n",
    "    r = list(filter(f1, pairs)) if in_p else list(filter(f2, pairs))\n",
    "    return(r)"
   ]
  },
  {
   "cell_type": "code",
   "execution_count": 33,
   "metadata": {},
   "outputs": [],
   "source": [
    "from sklearn.neighbors import KNeighborsClassifier"
   ]
  },
  {
   "cell_type": "code",
   "execution_count": 34,
   "metadata": {},
   "outputs": [],
   "source": [
    "guides = np.unique([a.split(\",\")[0] for a in low_high])"
   ]
  },
  {
   "cell_type": "code",
   "execution_count": 35,
   "metadata": {},
   "outputs": [],
   "source": [
    "with open(\"training_stuff.bin\", \"rb\") as ih:\n",
    "    logo_set = pkl.load(ih)"
   ]
  },
  {
   "cell_type": "code",
   "execution_count": 36,
   "metadata": {},
   "outputs": [],
   "source": [
    "import numpy as np\n",
    "import pandas as pd\n",
    "from sklearn.model_selection import train_test_split\n",
    "from sklearn.pipeline import make_pipeline\n",
    "from sklearn.preprocessing import Normalizer\n",
    "from sklearn.tree import DecisionTreeClassifier\n",
    "from sklearn.ensemble import RandomForestClassifier, BaggingClassifier\n",
    "from sklearn.naive_bayes import GaussianNB, ComplementNB, BernoulliNB\n",
    "from sklearn.neural_network import MLPClassifier\n",
    "from sklearn.ensemble import ExtraTreesClassifier"
   ]
  },
  {
   "cell_type": "code",
   "execution_count": 37,
   "metadata": {},
   "outputs": [],
   "source": [
    "PRETRAINED_MODEL = \"Weissman.ptch\""
   ]
  },
  {
   "cell_type": "code",
   "execution_count": 38,
   "metadata": {},
   "outputs": [],
   "source": [
    "from sklearn.ensemble import IsolationForest, AdaBoostClassifier, VotingClassifier\n",
    "from sklearn.neighbors import LocalOutlierFactor"
   ]
  },
  {
   "cell_type": "code",
   "execution_count": 39,
   "metadata": {},
   "outputs": [],
   "source": [
    "from sklearn.linear_model import LogisticRegression"
   ]
  },
  {
   "cell_type": "code",
   "execution_count": 40,
   "metadata": {},
   "outputs": [],
   "source": [
    "from sklearn.svm import SVC"
   ]
  },
  {
   "cell_type": "code",
   "execution_count": 41,
   "metadata": {},
   "outputs": [],
   "source": [
    "from sklearn.tree import DecisionTreeClassifier"
   ]
  },
  {
   "cell_type": "code",
   "execution_count": 42,
   "metadata": {},
   "outputs": [],
   "source": [
    "import numpy as np\n",
    "import pandas as pd\n",
    "from sklearn.model_selection import train_test_split\n",
    "from sklearn.neighbors import KNeighborsClassifier\n",
    "from sklearn.pipeline import make_pipeline, make_union\n",
    "from tpot.builtins import StackingEstimator\n",
    "from sklearn.preprocessing import FunctionTransformer\n",
    "from copy import copy"
   ]
  },
  {
   "cell_type": "code",
   "execution_count": 43,
   "metadata": {
    "scrolled": true
   },
   "outputs": [
    {
     "name": "stdout",
     "output_type": "stream",
     "text": [
      "0 AAATGAGAAGAAGAGGCACAGGG 29\n",
      "Making training set\n",
      "Pairs in training set 26640\n",
      "Labels in training set (array([0, 1]), array([26038,   602]))\n",
      "(6660,)\n",
      "Training of capsule network 52.03125\n"
     ]
    },
    {
     "name": "stderr",
     "output_type": "stream",
     "text": [
      "/home/bakirillov/anaconda3/envs/lapki/lib/python3.7/site-packages/sklearn/preprocessing/label.py:219: DataConversionWarning: A column-vector y was passed when a 1d array was expected. Please change the shape of y to (n_samples, ), for example using ravel().\n",
      "  y = column_or_1d(y, warn=True)\n",
      "/home/bakirillov/anaconda3/envs/lapki/lib/python3.7/site-packages/sklearn/preprocessing/label.py:252: DataConversionWarning: A column-vector y was passed when a 1d array was expected. Please change the shape of y to (n_samples, ), for example using ravel().\n",
      "  y = column_or_1d(y, warn=True)\n",
      "/home/bakirillov/anaconda3/envs/lapki/lib/python3.7/site-packages/sklearn/linear_model/logistic.py:432: FutureWarning: Default solver will be changed to 'lbfgs' in 0.22. Specify a solver to silence this warning.\n",
      "  FutureWarning)\n",
      "/home/bakirillov/anaconda3/envs/lapki/lib/python3.7/site-packages/sklearn/preprocessing/_function_transformer.py:97: FutureWarning: The default validate=True will be replaced by validate=False in 0.22.\n",
      "  \"validate=False in 0.22.\", FutureWarning)\n",
      "/home/bakirillov/anaconda3/envs/lapki/lib/python3.7/site-packages/sklearn/preprocessing/_function_transformer.py:97: FutureWarning: The default validate=True will be replaced by validate=False in 0.22.\n",
      "  \"validate=False in 0.22.\", FutureWarning)\n",
      "/home/bakirillov/anaconda3/envs/lapki/lib/python3.7/site-packages/sklearn/preprocessing/_function_transformer.py:97: FutureWarning: The default validate=True will be replaced by validate=False in 0.22.\n",
      "  \"validate=False in 0.22.\", FutureWarning)\n",
      "/home/bakirillov/anaconda3/envs/lapki/lib/python3.7/site-packages/sklearn/preprocessing/_function_transformer.py:97: FutureWarning: The default validate=True will be replaced by validate=False in 0.22.\n",
      "  \"validate=False in 0.22.\", FutureWarning)\n",
      "  3%|▎         | 4/145 [00:00<00:04, 33.80it/s]"
     ]
    },
    {
     "name": "stdout",
     "output_type": "stream",
     "text": [
      "Testing 144.20703125\n"
     ]
    },
    {
     "name": "stderr",
     "output_type": "stream",
     "text": [
      "100%|██████████| 145/145 [00:04<00:00, 33.29it/s]\n",
      "/home/bakirillov/anaconda3/envs/lapki/lib/python3.7/site-packages/sklearn/preprocessing/_function_transformer.py:97: FutureWarning: The default validate=True will be replaced by validate=False in 0.22.\n",
      "  \"validate=False in 0.22.\", FutureWarning)\n",
      "/home/bakirillov/anaconda3/envs/lapki/lib/python3.7/site-packages/sklearn/preprocessing/_function_transformer.py:97: FutureWarning: The default validate=True will be replaced by validate=False in 0.22.\n",
      "  \"validate=False in 0.22.\", FutureWarning)\n"
     ]
    },
    {
     "name": "stdout",
     "output_type": "stream",
     "text": [
      "balaccs [1.0]\n",
      "1 AACACCAGTGAGTAGAGCGGAGG 29\n",
      "Making training set\n",
      "Pairs in training set 26647\n",
      "Labels in training set (array([0, 1]), array([26038,   609]))\n",
      "(6662,)\n",
      "Training of capsule network 52.044921875\n"
     ]
    },
    {
     "name": "stderr",
     "output_type": "stream",
     "text": [
      "/home/bakirillov/anaconda3/envs/lapki/lib/python3.7/site-packages/sklearn/preprocessing/label.py:219: DataConversionWarning: A column-vector y was passed when a 1d array was expected. Please change the shape of y to (n_samples, ), for example using ravel().\n",
      "  y = column_or_1d(y, warn=True)\n",
      "/home/bakirillov/anaconda3/envs/lapki/lib/python3.7/site-packages/sklearn/preprocessing/label.py:252: DataConversionWarning: A column-vector y was passed when a 1d array was expected. Please change the shape of y to (n_samples, ), for example using ravel().\n",
      "  y = column_or_1d(y, warn=True)\n",
      "/home/bakirillov/anaconda3/envs/lapki/lib/python3.7/site-packages/sklearn/linear_model/logistic.py:432: FutureWarning: Default solver will be changed to 'lbfgs' in 0.22. Specify a solver to silence this warning.\n",
      "  FutureWarning)\n",
      "/home/bakirillov/anaconda3/envs/lapki/lib/python3.7/site-packages/sklearn/preprocessing/_function_transformer.py:97: FutureWarning: The default validate=True will be replaced by validate=False in 0.22.\n",
      "  \"validate=False in 0.22.\", FutureWarning)\n",
      "/home/bakirillov/anaconda3/envs/lapki/lib/python3.7/site-packages/sklearn/preprocessing/_function_transformer.py:97: FutureWarning: The default validate=True will be replaced by validate=False in 0.22.\n",
      "  \"validate=False in 0.22.\", FutureWarning)\n",
      "/home/bakirillov/anaconda3/envs/lapki/lib/python3.7/site-packages/sklearn/preprocessing/_function_transformer.py:97: FutureWarning: The default validate=True will be replaced by validate=False in 0.22.\n",
      "  \"validate=False in 0.22.\", FutureWarning)\n",
      "/home/bakirillov/anaconda3/envs/lapki/lib/python3.7/site-packages/sklearn/preprocessing/_function_transformer.py:97: FutureWarning: The default validate=True will be replaced by validate=False in 0.22.\n",
      "  \"validate=False in 0.22.\", FutureWarning)\n",
      " 12%|█▎        | 4/32 [00:00<00:00, 31.03it/s]"
     ]
    },
    {
     "name": "stdout",
     "output_type": "stream",
     "text": [
      "Testing 31.71875\n"
     ]
    },
    {
     "name": "stderr",
     "output_type": "stream",
     "text": [
      "100%|██████████| 32/32 [00:01<00:00, 30.88it/s]\n",
      "/home/bakirillov/anaconda3/envs/lapki/lib/python3.7/site-packages/sklearn/preprocessing/_function_transformer.py:97: FutureWarning: The default validate=True will be replaced by validate=False in 0.22.\n",
      "  \"validate=False in 0.22.\", FutureWarning)\n",
      "/home/bakirillov/anaconda3/envs/lapki/lib/python3.7/site-packages/sklearn/preprocessing/_function_transformer.py:97: FutureWarning: The default validate=True will be replaced by validate=False in 0.22.\n",
      "  \"validate=False in 0.22.\", FutureWarning)\n"
     ]
    },
    {
     "name": "stdout",
     "output_type": "stream",
     "text": [
      "balaccs [1.0]\n",
      "2 AATGACCACTACATCCTCAAGGG 29\n",
      "Making training set\n",
      "Pairs in training set 26648\n",
      "Labels in training set (array([0, 1]), array([26038,   610]))\n",
      "(6662,)\n",
      "Training of capsule network 52.046875\n"
     ]
    },
    {
     "name": "stderr",
     "output_type": "stream",
     "text": [
      "/home/bakirillov/anaconda3/envs/lapki/lib/python3.7/site-packages/sklearn/preprocessing/label.py:219: DataConversionWarning: A column-vector y was passed when a 1d array was expected. Please change the shape of y to (n_samples, ), for example using ravel().\n",
      "  y = column_or_1d(y, warn=True)\n",
      "/home/bakirillov/anaconda3/envs/lapki/lib/python3.7/site-packages/sklearn/preprocessing/label.py:252: DataConversionWarning: A column-vector y was passed when a 1d array was expected. Please change the shape of y to (n_samples, ), for example using ravel().\n",
      "  y = column_or_1d(y, warn=True)\n",
      "/home/bakirillov/anaconda3/envs/lapki/lib/python3.7/site-packages/sklearn/linear_model/logistic.py:432: FutureWarning: Default solver will be changed to 'lbfgs' in 0.22. Specify a solver to silence this warning.\n",
      "  FutureWarning)\n",
      "/home/bakirillov/anaconda3/envs/lapki/lib/python3.7/site-packages/sklearn/preprocessing/_function_transformer.py:97: FutureWarning: The default validate=True will be replaced by validate=False in 0.22.\n",
      "  \"validate=False in 0.22.\", FutureWarning)\n",
      "/home/bakirillov/anaconda3/envs/lapki/lib/python3.7/site-packages/sklearn/preprocessing/_function_transformer.py:97: FutureWarning: The default validate=True will be replaced by validate=False in 0.22.\n",
      "  \"validate=False in 0.22.\", FutureWarning)\n",
      "/home/bakirillov/anaconda3/envs/lapki/lib/python3.7/site-packages/sklearn/preprocessing/_function_transformer.py:97: FutureWarning: The default validate=True will be replaced by validate=False in 0.22.\n",
      "  \"validate=False in 0.22.\", FutureWarning)\n",
      "/home/bakirillov/anaconda3/envs/lapki/lib/python3.7/site-packages/sklearn/preprocessing/_function_transformer.py:97: FutureWarning: The default validate=True will be replaced by validate=False in 0.22.\n",
      "  \"validate=False in 0.22.\", FutureWarning)\n",
      " 11%|█▏        | 4/35 [00:00<00:00, 34.54it/s]"
     ]
    },
    {
     "name": "stdout",
     "output_type": "stream",
     "text": [
      "Testing 34.4296875\n"
     ]
    },
    {
     "name": "stderr",
     "output_type": "stream",
     "text": [
      "100%|██████████| 35/35 [00:01<00:00, 33.77it/s]\n",
      "/home/bakirillov/anaconda3/envs/lapki/lib/python3.7/site-packages/sklearn/preprocessing/_function_transformer.py:97: FutureWarning: The default validate=True will be replaced by validate=False in 0.22.\n",
      "  \"validate=False in 0.22.\", FutureWarning)\n",
      "/home/bakirillov/anaconda3/envs/lapki/lib/python3.7/site-packages/sklearn/preprocessing/_function_transformer.py:97: FutureWarning: The default validate=True will be replaced by validate=False in 0.22.\n",
      "  \"validate=False in 0.22.\", FutureWarning)\n"
     ]
    },
    {
     "name": "stdout",
     "output_type": "stream",
     "text": [
      "balaccs [0.5]\n",
      "3 ATGAACACCAGTGAGTAGAGCGG 29\n",
      "Making training set\n",
      "Pairs in training set 26641\n",
      "Labels in training set (array([0, 1]), array([26038,   603]))\n",
      "(6661,)\n",
      "Training of capsule network 52.033203125\n"
     ]
    },
    {
     "name": "stderr",
     "output_type": "stream",
     "text": [
      "/home/bakirillov/anaconda3/envs/lapki/lib/python3.7/site-packages/sklearn/preprocessing/label.py:219: DataConversionWarning: A column-vector y was passed when a 1d array was expected. Please change the shape of y to (n_samples, ), for example using ravel().\n",
      "  y = column_or_1d(y, warn=True)\n",
      "/home/bakirillov/anaconda3/envs/lapki/lib/python3.7/site-packages/sklearn/preprocessing/label.py:252: DataConversionWarning: A column-vector y was passed when a 1d array was expected. Please change the shape of y to (n_samples, ), for example using ravel().\n",
      "  y = column_or_1d(y, warn=True)\n",
      "/home/bakirillov/anaconda3/envs/lapki/lib/python3.7/site-packages/sklearn/linear_model/logistic.py:432: FutureWarning: Default solver will be changed to 'lbfgs' in 0.22. Specify a solver to silence this warning.\n",
      "  FutureWarning)\n",
      "/home/bakirillov/anaconda3/envs/lapki/lib/python3.7/site-packages/sklearn/preprocessing/_function_transformer.py:97: FutureWarning: The default validate=True will be replaced by validate=False in 0.22.\n",
      "  \"validate=False in 0.22.\", FutureWarning)\n",
      "/home/bakirillov/anaconda3/envs/lapki/lib/python3.7/site-packages/sklearn/preprocessing/_function_transformer.py:97: FutureWarning: The default validate=True will be replaced by validate=False in 0.22.\n",
      "  \"validate=False in 0.22.\", FutureWarning)\n",
      "/home/bakirillov/anaconda3/envs/lapki/lib/python3.7/site-packages/sklearn/preprocessing/_function_transformer.py:97: FutureWarning: The default validate=True will be replaced by validate=False in 0.22.\n",
      "  \"validate=False in 0.22.\", FutureWarning)\n",
      "/home/bakirillov/anaconda3/envs/lapki/lib/python3.7/site-packages/sklearn/preprocessing/_function_transformer.py:97: FutureWarning: The default validate=True will be replaced by validate=False in 0.22.\n",
      "  \"validate=False in 0.22.\", FutureWarning)\n",
      "  8%|▊         | 4/48 [00:00<00:01, 32.16it/s]"
     ]
    },
    {
     "name": "stdout",
     "output_type": "stream",
     "text": [
      "Testing 47.7421875\n"
     ]
    },
    {
     "name": "stderr",
     "output_type": "stream",
     "text": [
      "100%|██████████| 48/48 [00:01<00:00, 33.23it/s]\n",
      "/home/bakirillov/anaconda3/envs/lapki/lib/python3.7/site-packages/sklearn/preprocessing/_function_transformer.py:97: FutureWarning: The default validate=True will be replaced by validate=False in 0.22.\n",
      "  \"validate=False in 0.22.\", FutureWarning)\n",
      "/home/bakirillov/anaconda3/envs/lapki/lib/python3.7/site-packages/sklearn/preprocessing/_function_transformer.py:97: FutureWarning: The default validate=True will be replaced by validate=False in 0.22.\n",
      "  \"validate=False in 0.22.\", FutureWarning)\n"
     ]
    },
    {
     "name": "stdout",
     "output_type": "stream",
     "text": [
      "balaccs [1.0]\n",
      "4 CCAGTGAGTAGAGCGGAGGCAGG 29\n",
      "Making training set\n",
      "Pairs in training set 26642\n",
      "Labels in training set (array([0, 1]), array([26038,   604]))\n",
      "(6661,)\n",
      "Training of capsule network 52.03515625\n"
     ]
    },
    {
     "name": "stderr",
     "output_type": "stream",
     "text": [
      "/home/bakirillov/anaconda3/envs/lapki/lib/python3.7/site-packages/sklearn/preprocessing/label.py:219: DataConversionWarning: A column-vector y was passed when a 1d array was expected. Please change the shape of y to (n_samples, ), for example using ravel().\n",
      "  y = column_or_1d(y, warn=True)\n",
      "/home/bakirillov/anaconda3/envs/lapki/lib/python3.7/site-packages/sklearn/preprocessing/label.py:252: DataConversionWarning: A column-vector y was passed when a 1d array was expected. Please change the shape of y to (n_samples, ), for example using ravel().\n",
      "  y = column_or_1d(y, warn=True)\n",
      "/home/bakirillov/anaconda3/envs/lapki/lib/python3.7/site-packages/sklearn/linear_model/logistic.py:432: FutureWarning: Default solver will be changed to 'lbfgs' in 0.22. Specify a solver to silence this warning.\n",
      "  FutureWarning)\n",
      "/home/bakirillov/anaconda3/envs/lapki/lib/python3.7/site-packages/sklearn/preprocessing/_function_transformer.py:97: FutureWarning: The default validate=True will be replaced by validate=False in 0.22.\n",
      "  \"validate=False in 0.22.\", FutureWarning)\n",
      "/home/bakirillov/anaconda3/envs/lapki/lib/python3.7/site-packages/sklearn/preprocessing/_function_transformer.py:97: FutureWarning: The default validate=True will be replaced by validate=False in 0.22.\n",
      "  \"validate=False in 0.22.\", FutureWarning)\n",
      "/home/bakirillov/anaconda3/envs/lapki/lib/python3.7/site-packages/sklearn/preprocessing/_function_transformer.py:97: FutureWarning: The default validate=True will be replaced by validate=False in 0.22.\n",
      "  \"validate=False in 0.22.\", FutureWarning)\n",
      "/home/bakirillov/anaconda3/envs/lapki/lib/python3.7/site-packages/sklearn/preprocessing/_function_transformer.py:97: FutureWarning: The default validate=True will be replaced by validate=False in 0.22.\n",
      "  \"validate=False in 0.22.\", FutureWarning)\n",
      "  8%|▊         | 4/53 [00:00<00:01, 32.72it/s]"
     ]
    },
    {
     "name": "stdout",
     "output_type": "stream",
     "text": [
      "Testing 52.2265625\n"
     ]
    },
    {
     "name": "stderr",
     "output_type": "stream",
     "text": [
      "100%|██████████| 53/53 [00:01<00:00, 33.05it/s]\n",
      "/home/bakirillov/anaconda3/envs/lapki/lib/python3.7/site-packages/sklearn/preprocessing/_function_transformer.py:97: FutureWarning: The default validate=True will be replaced by validate=False in 0.22.\n",
      "  \"validate=False in 0.22.\", FutureWarning)\n",
      "/home/bakirillov/anaconda3/envs/lapki/lib/python3.7/site-packages/sklearn/preprocessing/_function_transformer.py:97: FutureWarning: The default validate=True will be replaced by validate=False in 0.22.\n",
      "  \"validate=False in 0.22.\", FutureWarning)\n"
     ]
    },
    {
     "name": "stdout",
     "output_type": "stream",
     "text": [
      "balaccs [1.0]\n",
      "5 CCCTGTGTCTCTGGATGGATGGG 29\n",
      "Making training set\n",
      "Pairs in training set 26652\n",
      "Labels in training set (array([0, 1]), array([26038,   614]))\n",
      "(6663,)\n",
      "Training of capsule network 52.0546875\n"
     ]
    },
    {
     "name": "stderr",
     "output_type": "stream",
     "text": [
      "/home/bakirillov/anaconda3/envs/lapki/lib/python3.7/site-packages/sklearn/preprocessing/label.py:219: DataConversionWarning: A column-vector y was passed when a 1d array was expected. Please change the shape of y to (n_samples, ), for example using ravel().\n",
      "  y = column_or_1d(y, warn=True)\n",
      "/home/bakirillov/anaconda3/envs/lapki/lib/python3.7/site-packages/sklearn/preprocessing/label.py:252: DataConversionWarning: A column-vector y was passed when a 1d array was expected. Please change the shape of y to (n_samples, ), for example using ravel().\n",
      "  y = column_or_1d(y, warn=True)\n",
      "/home/bakirillov/anaconda3/envs/lapki/lib/python3.7/site-packages/sklearn/linear_model/logistic.py:432: FutureWarning: Default solver will be changed to 'lbfgs' in 0.22. Specify a solver to silence this warning.\n",
      "  FutureWarning)\n",
      "/home/bakirillov/anaconda3/envs/lapki/lib/python3.7/site-packages/sklearn/preprocessing/_function_transformer.py:97: FutureWarning: The default validate=True will be replaced by validate=False in 0.22.\n",
      "  \"validate=False in 0.22.\", FutureWarning)\n",
      "/home/bakirillov/anaconda3/envs/lapki/lib/python3.7/site-packages/sklearn/preprocessing/_function_transformer.py:97: FutureWarning: The default validate=True will be replaced by validate=False in 0.22.\n",
      "  \"validate=False in 0.22.\", FutureWarning)\n",
      "/home/bakirillov/anaconda3/envs/lapki/lib/python3.7/site-packages/sklearn/preprocessing/_function_transformer.py:97: FutureWarning: The default validate=True will be replaced by validate=False in 0.22.\n",
      "  \"validate=False in 0.22.\", FutureWarning)\n",
      "/home/bakirillov/anaconda3/envs/lapki/lib/python3.7/site-packages/sklearn/preprocessing/_function_transformer.py:97: FutureWarning: The default validate=True will be replaced by validate=False in 0.22.\n",
      "  \"validate=False in 0.22.\", FutureWarning)\n",
      "  9%|▊         | 4/46 [00:00<00:01, 31.37it/s]"
     ]
    },
    {
     "name": "stdout",
     "output_type": "stream",
     "text": [
      "Testing 45.87109375\n"
     ]
    },
    {
     "name": "stderr",
     "output_type": "stream",
     "text": [
      "100%|██████████| 46/46 [00:01<00:00, 31.27it/s]\n",
      "/home/bakirillov/anaconda3/envs/lapki/lib/python3.7/site-packages/sklearn/preprocessing/_function_transformer.py:97: FutureWarning: The default validate=True will be replaced by validate=False in 0.22.\n",
      "  \"validate=False in 0.22.\", FutureWarning)\n",
      "/home/bakirillov/anaconda3/envs/lapki/lib/python3.7/site-packages/sklearn/preprocessing/_function_transformer.py:97: FutureWarning: The default validate=True will be replaced by validate=False in 0.22.\n",
      "  \"validate=False in 0.22.\", FutureWarning)\n"
     ]
    },
    {
     "name": "stdout",
     "output_type": "stream",
     "text": [
      "balaccs [1.0]\n",
      "6 CCTGCCTCCGCTCTACTCACTGG 29\n",
      "Making training set\n",
      "Pairs in training set 26642\n",
      "Labels in training set (array([0, 1]), array([26038,   604]))\n",
      "(6661,)\n",
      "Training of capsule network 52.03515625\n"
     ]
    },
    {
     "name": "stderr",
     "output_type": "stream",
     "text": [
      "/home/bakirillov/anaconda3/envs/lapki/lib/python3.7/site-packages/sklearn/preprocessing/label.py:219: DataConversionWarning: A column-vector y was passed when a 1d array was expected. Please change the shape of y to (n_samples, ), for example using ravel().\n",
      "  y = column_or_1d(y, warn=True)\n",
      "/home/bakirillov/anaconda3/envs/lapki/lib/python3.7/site-packages/sklearn/preprocessing/label.py:252: DataConversionWarning: A column-vector y was passed when a 1d array was expected. Please change the shape of y to (n_samples, ), for example using ravel().\n",
      "  y = column_or_1d(y, warn=True)\n",
      "/home/bakirillov/anaconda3/envs/lapki/lib/python3.7/site-packages/sklearn/linear_model/logistic.py:432: FutureWarning: Default solver will be changed to 'lbfgs' in 0.22. Specify a solver to silence this warning.\n",
      "  FutureWarning)\n",
      "/home/bakirillov/anaconda3/envs/lapki/lib/python3.7/site-packages/sklearn/preprocessing/_function_transformer.py:97: FutureWarning: The default validate=True will be replaced by validate=False in 0.22.\n",
      "  \"validate=False in 0.22.\", FutureWarning)\n",
      "/home/bakirillov/anaconda3/envs/lapki/lib/python3.7/site-packages/sklearn/preprocessing/_function_transformer.py:97: FutureWarning: The default validate=True will be replaced by validate=False in 0.22.\n",
      "  \"validate=False in 0.22.\", FutureWarning)\n",
      "/home/bakirillov/anaconda3/envs/lapki/lib/python3.7/site-packages/sklearn/preprocessing/_function_transformer.py:97: FutureWarning: The default validate=True will be replaced by validate=False in 0.22.\n",
      "  \"validate=False in 0.22.\", FutureWarning)\n",
      "/home/bakirillov/anaconda3/envs/lapki/lib/python3.7/site-packages/sklearn/preprocessing/_function_transformer.py:97: FutureWarning: The default validate=True will be replaced by validate=False in 0.22.\n",
      "  \"validate=False in 0.22.\", FutureWarning)\n",
      "  9%|▉         | 4/43 [00:00<00:01, 31.41it/s]"
     ]
    },
    {
     "name": "stdout",
     "output_type": "stream",
     "text": [
      "Testing 42.62109375\n"
     ]
    },
    {
     "name": "stderr",
     "output_type": "stream",
     "text": [
      "100%|██████████| 43/43 [00:01<00:00, 28.40it/s]\n",
      "/home/bakirillov/anaconda3/envs/lapki/lib/python3.7/site-packages/sklearn/preprocessing/_function_transformer.py:97: FutureWarning: The default validate=True will be replaced by validate=False in 0.22.\n",
      "  \"validate=False in 0.22.\", FutureWarning)\n",
      "/home/bakirillov/anaconda3/envs/lapki/lib/python3.7/site-packages/sklearn/preprocessing/_function_transformer.py:97: FutureWarning: The default validate=True will be replaced by validate=False in 0.22.\n",
      "  \"validate=False in 0.22.\", FutureWarning)\n"
     ]
    },
    {
     "name": "stdout",
     "output_type": "stream",
     "text": [
      "balaccs [1.0]\n",
      "7 CTTGCCCCACAGGGCAGTAACGG 29\n",
      "Making training set\n",
      "Pairs in training set 26649\n",
      "Labels in training set (array([0, 1]), array([26038,   611]))\n",
      "(6663,)\n",
      "Training of capsule network 52.048828125\n"
     ]
    },
    {
     "name": "stderr",
     "output_type": "stream",
     "text": [
      "/home/bakirillov/anaconda3/envs/lapki/lib/python3.7/site-packages/sklearn/preprocessing/label.py:219: DataConversionWarning: A column-vector y was passed when a 1d array was expected. Please change the shape of y to (n_samples, ), for example using ravel().\n",
      "  y = column_or_1d(y, warn=True)\n",
      "/home/bakirillov/anaconda3/envs/lapki/lib/python3.7/site-packages/sklearn/preprocessing/label.py:252: DataConversionWarning: A column-vector y was passed when a 1d array was expected. Please change the shape of y to (n_samples, ), for example using ravel().\n",
      "  y = column_or_1d(y, warn=True)\n",
      "/home/bakirillov/anaconda3/envs/lapki/lib/python3.7/site-packages/sklearn/linear_model/logistic.py:432: FutureWarning: Default solver will be changed to 'lbfgs' in 0.22. Specify a solver to silence this warning.\n",
      "  FutureWarning)\n",
      "/home/bakirillov/anaconda3/envs/lapki/lib/python3.7/site-packages/sklearn/preprocessing/_function_transformer.py:97: FutureWarning: The default validate=True will be replaced by validate=False in 0.22.\n",
      "  \"validate=False in 0.22.\", FutureWarning)\n",
      "/home/bakirillov/anaconda3/envs/lapki/lib/python3.7/site-packages/sklearn/preprocessing/_function_transformer.py:97: FutureWarning: The default validate=True will be replaced by validate=False in 0.22.\n",
      "  \"validate=False in 0.22.\", FutureWarning)\n",
      "/home/bakirillov/anaconda3/envs/lapki/lib/python3.7/site-packages/sklearn/preprocessing/_function_transformer.py:97: FutureWarning: The default validate=True will be replaced by validate=False in 0.22.\n",
      "  \"validate=False in 0.22.\", FutureWarning)\n",
      "/home/bakirillov/anaconda3/envs/lapki/lib/python3.7/site-packages/sklearn/preprocessing/_function_transformer.py:97: FutureWarning: The default validate=True will be replaced by validate=False in 0.22.\n",
      "  \"validate=False in 0.22.\", FutureWarning)\n",
      " 12%|█▏        | 4/34 [00:00<00:00, 31.88it/s]"
     ]
    },
    {
     "name": "stdout",
     "output_type": "stream",
     "text": [
      "Testing 33.85546875\n"
     ]
    },
    {
     "name": "stderr",
     "output_type": "stream",
     "text": [
      "100%|██████████| 34/34 [00:01<00:00, 32.26it/s]\n",
      "/home/bakirillov/anaconda3/envs/lapki/lib/python3.7/site-packages/sklearn/preprocessing/_function_transformer.py:97: FutureWarning: The default validate=True will be replaced by validate=False in 0.22.\n",
      "  \"validate=False in 0.22.\", FutureWarning)\n",
      "/home/bakirillov/anaconda3/envs/lapki/lib/python3.7/site-packages/sklearn/preprocessing/_function_transformer.py:97: FutureWarning: The default validate=True will be replaced by validate=False in 0.22.\n",
      "  \"validate=False in 0.22.\", FutureWarning)\n"
     ]
    },
    {
     "name": "stdout",
     "output_type": "stream",
     "text": [
      "balaccs [1.0]\n",
      "8 GAACACAAAGCATAGACTGCGGG 29\n",
      "Making training set\n",
      "Pairs in training set 26638\n",
      "Labels in training set (array([0, 1]), array([26038,   600]))\n",
      "(6660,)\n",
      "Training of capsule network 52.02734375\n"
     ]
    },
    {
     "name": "stderr",
     "output_type": "stream",
     "text": [
      "/home/bakirillov/anaconda3/envs/lapki/lib/python3.7/site-packages/sklearn/preprocessing/label.py:219: DataConversionWarning: A column-vector y was passed when a 1d array was expected. Please change the shape of y to (n_samples, ), for example using ravel().\n",
      "  y = column_or_1d(y, warn=True)\n",
      "/home/bakirillov/anaconda3/envs/lapki/lib/python3.7/site-packages/sklearn/preprocessing/label.py:252: DataConversionWarning: A column-vector y was passed when a 1d array was expected. Please change the shape of y to (n_samples, ), for example using ravel().\n",
      "  y = column_or_1d(y, warn=True)\n",
      "/home/bakirillov/anaconda3/envs/lapki/lib/python3.7/site-packages/sklearn/linear_model/logistic.py:432: FutureWarning: Default solver will be changed to 'lbfgs' in 0.22. Specify a solver to silence this warning.\n",
      "  FutureWarning)\n",
      "/home/bakirillov/anaconda3/envs/lapki/lib/python3.7/site-packages/sklearn/preprocessing/_function_transformer.py:97: FutureWarning: The default validate=True will be replaced by validate=False in 0.22.\n",
      "  \"validate=False in 0.22.\", FutureWarning)\n",
      "/home/bakirillov/anaconda3/envs/lapki/lib/python3.7/site-packages/sklearn/preprocessing/_function_transformer.py:97: FutureWarning: The default validate=True will be replaced by validate=False in 0.22.\n",
      "  \"validate=False in 0.22.\", FutureWarning)\n",
      "/home/bakirillov/anaconda3/envs/lapki/lib/python3.7/site-packages/sklearn/preprocessing/_function_transformer.py:97: FutureWarning: The default validate=True will be replaced by validate=False in 0.22.\n",
      "  \"validate=False in 0.22.\", FutureWarning)\n",
      "/home/bakirillov/anaconda3/envs/lapki/lib/python3.7/site-packages/sklearn/preprocessing/_function_transformer.py:97: FutureWarning: The default validate=True will be replaced by validate=False in 0.22.\n",
      "  \"validate=False in 0.22.\", FutureWarning)\n",
      "  9%|▊         | 4/46 [00:00<00:01, 30.22it/s]"
     ]
    },
    {
     "name": "stdout",
     "output_type": "stream",
     "text": [
      "Testing 45.98046875\n"
     ]
    },
    {
     "name": "stderr",
     "output_type": "stream",
     "text": [
      "100%|██████████| 46/46 [00:01<00:00, 32.40it/s]\n",
      "/home/bakirillov/anaconda3/envs/lapki/lib/python3.7/site-packages/sklearn/preprocessing/_function_transformer.py:97: FutureWarning: The default validate=True will be replaced by validate=False in 0.22.\n",
      "  \"validate=False in 0.22.\", FutureWarning)\n",
      "/home/bakirillov/anaconda3/envs/lapki/lib/python3.7/site-packages/sklearn/preprocessing/_function_transformer.py:97: FutureWarning: The default validate=True will be replaced by validate=False in 0.22.\n",
      "  \"validate=False in 0.22.\", FutureWarning)\n"
     ]
    },
    {
     "name": "stdout",
     "output_type": "stream",
     "text": [
      "balaccs [1.0]\n",
      "9 GAATCCTAAAAACTCTGCTTCGG 29\n",
      "Making training set\n",
      "Pairs in training set 26640\n",
      "Labels in training set (array([0, 1]), array([26038,   602]))\n",
      "(6660,)\n",
      "Training of capsule network 52.03125\n"
     ]
    },
    {
     "name": "stderr",
     "output_type": "stream",
     "text": [
      "/home/bakirillov/anaconda3/envs/lapki/lib/python3.7/site-packages/sklearn/preprocessing/label.py:219: DataConversionWarning: A column-vector y was passed when a 1d array was expected. Please change the shape of y to (n_samples, ), for example using ravel().\n",
      "  y = column_or_1d(y, warn=True)\n",
      "/home/bakirillov/anaconda3/envs/lapki/lib/python3.7/site-packages/sklearn/preprocessing/label.py:252: DataConversionWarning: A column-vector y was passed when a 1d array was expected. Please change the shape of y to (n_samples, ), for example using ravel().\n",
      "  y = column_or_1d(y, warn=True)\n",
      "/home/bakirillov/anaconda3/envs/lapki/lib/python3.7/site-packages/sklearn/linear_model/logistic.py:432: FutureWarning: Default solver will be changed to 'lbfgs' in 0.22. Specify a solver to silence this warning.\n",
      "  FutureWarning)\n",
      "/home/bakirillov/anaconda3/envs/lapki/lib/python3.7/site-packages/sklearn/preprocessing/_function_transformer.py:97: FutureWarning: The default validate=True will be replaced by validate=False in 0.22.\n",
      "  \"validate=False in 0.22.\", FutureWarning)\n",
      "/home/bakirillov/anaconda3/envs/lapki/lib/python3.7/site-packages/sklearn/preprocessing/_function_transformer.py:97: FutureWarning: The default validate=True will be replaced by validate=False in 0.22.\n",
      "  \"validate=False in 0.22.\", FutureWarning)\n",
      "/home/bakirillov/anaconda3/envs/lapki/lib/python3.7/site-packages/sklearn/preprocessing/_function_transformer.py:97: FutureWarning: The default validate=True will be replaced by validate=False in 0.22.\n",
      "  \"validate=False in 0.22.\", FutureWarning)\n",
      "/home/bakirillov/anaconda3/envs/lapki/lib/python3.7/site-packages/sklearn/preprocessing/_function_transformer.py:97: FutureWarning: The default validate=True will be replaced by validate=False in 0.22.\n",
      "  \"validate=False in 0.22.\", FutureWarning)\n",
      "  9%|▉         | 4/45 [00:00<00:01, 32.77it/s]"
     ]
    },
    {
     "name": "stdout",
     "output_type": "stream",
     "text": [
      "Testing 44.640625\n"
     ]
    },
    {
     "name": "stderr",
     "output_type": "stream",
     "text": [
      "100%|██████████| 45/45 [00:01<00:00, 31.91it/s]\n",
      "/home/bakirillov/anaconda3/envs/lapki/lib/python3.7/site-packages/sklearn/preprocessing/_function_transformer.py:97: FutureWarning: The default validate=True will be replaced by validate=False in 0.22.\n",
      "  \"validate=False in 0.22.\", FutureWarning)\n",
      "/home/bakirillov/anaconda3/envs/lapki/lib/python3.7/site-packages/sklearn/preprocessing/_function_transformer.py:97: FutureWarning: The default validate=True will be replaced by validate=False in 0.22.\n",
      "  \"validate=False in 0.22.\", FutureWarning)\n"
     ]
    },
    {
     "name": "stdout",
     "output_type": "stream",
     "text": [
      "balaccs [1.0]\n",
      "10 GACACCGAAGCAGAGTTTTTAGG 29\n",
      "Making training set\n",
      "Pairs in training set 26644\n",
      "Labels in training set (array([0, 1]), array([26038,   606]))\n",
      "(6661,)\n",
      "Training of capsule network 52.0390625\n"
     ]
    },
    {
     "name": "stderr",
     "output_type": "stream",
     "text": [
      "/home/bakirillov/anaconda3/envs/lapki/lib/python3.7/site-packages/sklearn/preprocessing/label.py:219: DataConversionWarning: A column-vector y was passed when a 1d array was expected. Please change the shape of y to (n_samples, ), for example using ravel().\n",
      "  y = column_or_1d(y, warn=True)\n",
      "/home/bakirillov/anaconda3/envs/lapki/lib/python3.7/site-packages/sklearn/preprocessing/label.py:252: DataConversionWarning: A column-vector y was passed when a 1d array was expected. Please change the shape of y to (n_samples, ), for example using ravel().\n",
      "  y = column_or_1d(y, warn=True)\n",
      "/home/bakirillov/anaconda3/envs/lapki/lib/python3.7/site-packages/sklearn/linear_model/logistic.py:432: FutureWarning: Default solver will be changed to 'lbfgs' in 0.22. Specify a solver to silence this warning.\n",
      "  FutureWarning)\n",
      "/home/bakirillov/anaconda3/envs/lapki/lib/python3.7/site-packages/sklearn/preprocessing/_function_transformer.py:97: FutureWarning: The default validate=True will be replaced by validate=False in 0.22.\n",
      "  \"validate=False in 0.22.\", FutureWarning)\n",
      "/home/bakirillov/anaconda3/envs/lapki/lib/python3.7/site-packages/sklearn/preprocessing/_function_transformer.py:97: FutureWarning: The default validate=True will be replaced by validate=False in 0.22.\n",
      "  \"validate=False in 0.22.\", FutureWarning)\n",
      "/home/bakirillov/anaconda3/envs/lapki/lib/python3.7/site-packages/sklearn/preprocessing/_function_transformer.py:97: FutureWarning: The default validate=True will be replaced by validate=False in 0.22.\n",
      "  \"validate=False in 0.22.\", FutureWarning)\n",
      "/home/bakirillov/anaconda3/envs/lapki/lib/python3.7/site-packages/sklearn/preprocessing/_function_transformer.py:97: FutureWarning: The default validate=True will be replaced by validate=False in 0.22.\n",
      "  \"validate=False in 0.22.\", FutureWarning)\n",
      " 10%|▉         | 3/31 [00:00<00:00, 29.45it/s]"
     ]
    },
    {
     "name": "stdout",
     "output_type": "stream",
     "text": [
      "Testing 30.86328125\n"
     ]
    },
    {
     "name": "stderr",
     "output_type": "stream",
     "text": [
      "100%|██████████| 31/31 [00:01<00:00, 29.72it/s]\n",
      "/home/bakirillov/anaconda3/envs/lapki/lib/python3.7/site-packages/sklearn/preprocessing/_function_transformer.py:97: FutureWarning: The default validate=True will be replaced by validate=False in 0.22.\n",
      "  \"validate=False in 0.22.\", FutureWarning)\n",
      "/home/bakirillov/anaconda3/envs/lapki/lib/python3.7/site-packages/sklearn/preprocessing/_function_transformer.py:97: FutureWarning: The default validate=True will be replaced by validate=False in 0.22.\n",
      "  \"validate=False in 0.22.\", FutureWarning)\n"
     ]
    },
    {
     "name": "stdout",
     "output_type": "stream",
     "text": [
      "balaccs [1.0]\n",
      "11 GACATCGATGTCCTCCCCATTGG 29\n",
      "Making training set\n",
      "Pairs in training set 26648\n",
      "Labels in training set (array([0, 1]), array([26038,   610]))\n",
      "(6662,)\n",
      "Training of capsule network 52.046875\n"
     ]
    },
    {
     "name": "stderr",
     "output_type": "stream",
     "text": [
      "/home/bakirillov/anaconda3/envs/lapki/lib/python3.7/site-packages/sklearn/preprocessing/label.py:219: DataConversionWarning: A column-vector y was passed when a 1d array was expected. Please change the shape of y to (n_samples, ), for example using ravel().\n",
      "  y = column_or_1d(y, warn=True)\n",
      "/home/bakirillov/anaconda3/envs/lapki/lib/python3.7/site-packages/sklearn/preprocessing/label.py:252: DataConversionWarning: A column-vector y was passed when a 1d array was expected. Please change the shape of y to (n_samples, ), for example using ravel().\n",
      "  y = column_or_1d(y, warn=True)\n",
      "/home/bakirillov/anaconda3/envs/lapki/lib/python3.7/site-packages/sklearn/linear_model/logistic.py:432: FutureWarning: Default solver will be changed to 'lbfgs' in 0.22. Specify a solver to silence this warning.\n",
      "  FutureWarning)\n",
      "/home/bakirillov/anaconda3/envs/lapki/lib/python3.7/site-packages/sklearn/preprocessing/_function_transformer.py:97: FutureWarning: The default validate=True will be replaced by validate=False in 0.22.\n",
      "  \"validate=False in 0.22.\", FutureWarning)\n",
      "/home/bakirillov/anaconda3/envs/lapki/lib/python3.7/site-packages/sklearn/preprocessing/_function_transformer.py:97: FutureWarning: The default validate=True will be replaced by validate=False in 0.22.\n",
      "  \"validate=False in 0.22.\", FutureWarning)\n",
      "/home/bakirillov/anaconda3/envs/lapki/lib/python3.7/site-packages/sklearn/preprocessing/_function_transformer.py:97: FutureWarning: The default validate=True will be replaced by validate=False in 0.22.\n",
      "  \"validate=False in 0.22.\", FutureWarning)\n",
      "/home/bakirillov/anaconda3/envs/lapki/lib/python3.7/site-packages/sklearn/preprocessing/_function_transformer.py:97: FutureWarning: The default validate=True will be replaced by validate=False in 0.22.\n",
      "  \"validate=False in 0.22.\", FutureWarning)\n",
      " 16%|█▌        | 3/19 [00:00<00:00, 25.28it/s]"
     ]
    },
    {
     "name": "stdout",
     "output_type": "stream",
     "text": [
      "Testing 18.734375\n"
     ]
    },
    {
     "name": "stderr",
     "output_type": "stream",
     "text": [
      "100%|██████████| 19/19 [00:00<00:00, 29.62it/s]\n",
      "/home/bakirillov/anaconda3/envs/lapki/lib/python3.7/site-packages/sklearn/preprocessing/_function_transformer.py:97: FutureWarning: The default validate=True will be replaced by validate=False in 0.22.\n",
      "  \"validate=False in 0.22.\", FutureWarning)\n",
      "/home/bakirillov/anaconda3/envs/lapki/lib/python3.7/site-packages/sklearn/preprocessing/_function_transformer.py:97: FutureWarning: The default validate=True will be replaced by validate=False in 0.22.\n",
      "  \"validate=False in 0.22.\", FutureWarning)\n"
     ]
    },
    {
     "name": "stdout",
     "output_type": "stream",
     "text": [
      "balaccs [1.0]\n",
      "12 GACCCCCTCCACCCCGCCTCCGG 29\n",
      "Making training set\n",
      "Pairs in training set 26568\n",
      "Labels in training set (array([0, 1]), array([26038,   530]))\n",
      "(6642,)\n",
      "Training of capsule network 51.890625\n"
     ]
    },
    {
     "name": "stderr",
     "output_type": "stream",
     "text": [
      "/home/bakirillov/anaconda3/envs/lapki/lib/python3.7/site-packages/sklearn/preprocessing/label.py:219: DataConversionWarning: A column-vector y was passed when a 1d array was expected. Please change the shape of y to (n_samples, ), for example using ravel().\n",
      "  y = column_or_1d(y, warn=True)\n",
      "/home/bakirillov/anaconda3/envs/lapki/lib/python3.7/site-packages/sklearn/preprocessing/label.py:252: DataConversionWarning: A column-vector y was passed when a 1d array was expected. Please change the shape of y to (n_samples, ), for example using ravel().\n",
      "  y = column_or_1d(y, warn=True)\n",
      "/home/bakirillov/anaconda3/envs/lapki/lib/python3.7/site-packages/sklearn/linear_model/logistic.py:432: FutureWarning: Default solver will be changed to 'lbfgs' in 0.22. Specify a solver to silence this warning.\n",
      "  FutureWarning)\n",
      "/home/bakirillov/anaconda3/envs/lapki/lib/python3.7/site-packages/sklearn/preprocessing/_function_transformer.py:97: FutureWarning: The default validate=True will be replaced by validate=False in 0.22.\n",
      "  \"validate=False in 0.22.\", FutureWarning)\n",
      "/home/bakirillov/anaconda3/envs/lapki/lib/python3.7/site-packages/sklearn/preprocessing/_function_transformer.py:97: FutureWarning: The default validate=True will be replaced by validate=False in 0.22.\n",
      "  \"validate=False in 0.22.\", FutureWarning)\n",
      "/home/bakirillov/anaconda3/envs/lapki/lib/python3.7/site-packages/sklearn/preprocessing/_function_transformer.py:97: FutureWarning: The default validate=True will be replaced by validate=False in 0.22.\n",
      "  \"validate=False in 0.22.\", FutureWarning)\n",
      "/home/bakirillov/anaconda3/envs/lapki/lib/python3.7/site-packages/sklearn/preprocessing/_function_transformer.py:97: FutureWarning: The default validate=True will be replaced by validate=False in 0.22.\n",
      "  \"validate=False in 0.22.\", FutureWarning)\n",
      "  4%|▍         | 3/69 [00:00<00:02, 24.98it/s]"
     ]
    },
    {
     "name": "stdout",
     "output_type": "stream",
     "text": [
      "Testing 68.0703125\n"
     ]
    },
    {
     "name": "stderr",
     "output_type": "stream",
     "text": [
      "100%|██████████| 69/69 [00:02<00:00, 25.15it/s]\n",
      "/home/bakirillov/anaconda3/envs/lapki/lib/python3.7/site-packages/sklearn/preprocessing/_function_transformer.py:97: FutureWarning: The default validate=True will be replaced by validate=False in 0.22.\n",
      "  \"validate=False in 0.22.\", FutureWarning)\n",
      "/home/bakirillov/anaconda3/envs/lapki/lib/python3.7/site-packages/sklearn/preprocessing/_function_transformer.py:97: FutureWarning: The default validate=True will be replaced by validate=False in 0.22.\n",
      "  \"validate=False in 0.22.\", FutureWarning)\n"
     ]
    },
    {
     "name": "stdout",
     "output_type": "stream",
     "text": [
      "balaccs [0.5]\n",
      "13 GAGTCCGAGCAGAAGAAGAAGGG 29\n",
      "Making training set\n",
      "Pairs in training set 26586\n",
      "Labels in training set (array([0, 1]), array([26038,   548]))\n",
      "(6647,)\n",
      "Training of capsule network 51.92578125\n"
     ]
    },
    {
     "name": "stderr",
     "output_type": "stream",
     "text": [
      "/home/bakirillov/anaconda3/envs/lapki/lib/python3.7/site-packages/sklearn/preprocessing/label.py:219: DataConversionWarning: A column-vector y was passed when a 1d array was expected. Please change the shape of y to (n_samples, ), for example using ravel().\n",
      "  y = column_or_1d(y, warn=True)\n",
      "/home/bakirillov/anaconda3/envs/lapki/lib/python3.7/site-packages/sklearn/preprocessing/label.py:252: DataConversionWarning: A column-vector y was passed when a 1d array was expected. Please change the shape of y to (n_samples, ), for example using ravel().\n",
      "  y = column_or_1d(y, warn=True)\n",
      "/home/bakirillov/anaconda3/envs/lapki/lib/python3.7/site-packages/sklearn/linear_model/logistic.py:432: FutureWarning: Default solver will be changed to 'lbfgs' in 0.22. Specify a solver to silence this warning.\n",
      "  FutureWarning)\n",
      "/home/bakirillov/anaconda3/envs/lapki/lib/python3.7/site-packages/sklearn/preprocessing/_function_transformer.py:97: FutureWarning: The default validate=True will be replaced by validate=False in 0.22.\n",
      "  \"validate=False in 0.22.\", FutureWarning)\n",
      "/home/bakirillov/anaconda3/envs/lapki/lib/python3.7/site-packages/sklearn/preprocessing/_function_transformer.py:97: FutureWarning: The default validate=True will be replaced by validate=False in 0.22.\n",
      "  \"validate=False in 0.22.\", FutureWarning)\n",
      "/home/bakirillov/anaconda3/envs/lapki/lib/python3.7/site-packages/sklearn/preprocessing/_function_transformer.py:97: FutureWarning: The default validate=True will be replaced by validate=False in 0.22.\n",
      "  \"validate=False in 0.22.\", FutureWarning)\n",
      "/home/bakirillov/anaconda3/envs/lapki/lib/python3.7/site-packages/sklearn/preprocessing/_function_transformer.py:97: FutureWarning: The default validate=True will be replaced by validate=False in 0.22.\n",
      "  \"validate=False in 0.22.\", FutureWarning)\n",
      "  5%|▍         | 3/62 [00:00<00:02, 25.02it/s]"
     ]
    },
    {
     "name": "stdout",
     "output_type": "stream",
     "text": [
      "Testing 61.85546875\n"
     ]
    },
    {
     "name": "stderr",
     "output_type": "stream",
     "text": [
      "100%|██████████| 62/62 [00:02<00:00, 24.87it/s]\n",
      "/home/bakirillov/anaconda3/envs/lapki/lib/python3.7/site-packages/sklearn/preprocessing/_function_transformer.py:97: FutureWarning: The default validate=True will be replaced by validate=False in 0.22.\n",
      "  \"validate=False in 0.22.\", FutureWarning)\n",
      "/home/bakirillov/anaconda3/envs/lapki/lib/python3.7/site-packages/sklearn/preprocessing/_function_transformer.py:97: FutureWarning: The default validate=True will be replaced by validate=False in 0.22.\n",
      "  \"validate=False in 0.22.\", FutureWarning)\n"
     ]
    },
    {
     "name": "stdout",
     "output_type": "stream",
     "text": [
      "balaccs [0.5]\n",
      "14 GCCTCCCCAAAGCCTGGCCAGGG 29\n",
      "Making training set\n",
      "Pairs in training set 26642\n",
      "Labels in training set (array([0, 1]), array([26038,   604]))\n",
      "(6661,)\n",
      "Training of capsule network 52.03515625\n"
     ]
    },
    {
     "name": "stderr",
     "output_type": "stream",
     "text": [
      "/home/bakirillov/anaconda3/envs/lapki/lib/python3.7/site-packages/sklearn/preprocessing/label.py:219: DataConversionWarning: A column-vector y was passed when a 1d array was expected. Please change the shape of y to (n_samples, ), for example using ravel().\n",
      "  y = column_or_1d(y, warn=True)\n",
      "/home/bakirillov/anaconda3/envs/lapki/lib/python3.7/site-packages/sklearn/preprocessing/label.py:252: DataConversionWarning: A column-vector y was passed when a 1d array was expected. Please change the shape of y to (n_samples, ), for example using ravel().\n",
      "  y = column_or_1d(y, warn=True)\n",
      "/home/bakirillov/anaconda3/envs/lapki/lib/python3.7/site-packages/sklearn/linear_model/logistic.py:432: FutureWarning: Default solver will be changed to 'lbfgs' in 0.22. Specify a solver to silence this warning.\n",
      "  FutureWarning)\n",
      "/home/bakirillov/anaconda3/envs/lapki/lib/python3.7/site-packages/sklearn/preprocessing/_function_transformer.py:97: FutureWarning: The default validate=True will be replaced by validate=False in 0.22.\n",
      "  \"validate=False in 0.22.\", FutureWarning)\n",
      "/home/bakirillov/anaconda3/envs/lapki/lib/python3.7/site-packages/sklearn/preprocessing/_function_transformer.py:97: FutureWarning: The default validate=True will be replaced by validate=False in 0.22.\n",
      "  \"validate=False in 0.22.\", FutureWarning)\n",
      "/home/bakirillov/anaconda3/envs/lapki/lib/python3.7/site-packages/sklearn/preprocessing/_function_transformer.py:97: FutureWarning: The default validate=True will be replaced by validate=False in 0.22.\n",
      "  \"validate=False in 0.22.\", FutureWarning)\n",
      "/home/bakirillov/anaconda3/envs/lapki/lib/python3.7/site-packages/sklearn/preprocessing/_function_transformer.py:97: FutureWarning: The default validate=True will be replaced by validate=False in 0.22.\n",
      "  \"validate=False in 0.22.\", FutureWarning)\n",
      "  5%|▌         | 3/58 [00:00<00:01, 29.68it/s]"
     ]
    },
    {
     "name": "stdout",
     "output_type": "stream",
     "text": [
      "Testing 57.91015625\n"
     ]
    },
    {
     "name": "stderr",
     "output_type": "stream",
     "text": [
      "100%|██████████| 58/58 [00:01<00:00, 31.76it/s]\n",
      "/home/bakirillov/anaconda3/envs/lapki/lib/python3.7/site-packages/sklearn/preprocessing/_function_transformer.py:97: FutureWarning: The default validate=True will be replaced by validate=False in 0.22.\n",
      "  \"validate=False in 0.22.\", FutureWarning)\n",
      "/home/bakirillov/anaconda3/envs/lapki/lib/python3.7/site-packages/sklearn/preprocessing/_function_transformer.py:97: FutureWarning: The default validate=True will be replaced by validate=False in 0.22.\n",
      "  \"validate=False in 0.22.\", FutureWarning)\n"
     ]
    },
    {
     "name": "stdout",
     "output_type": "stream",
     "text": [
      "balaccs [1.0]\n",
      "15 GCGCCACCGGTTGATGTGATGGG 29\n",
      "Making training set\n",
      "Pairs in training set 26652\n",
      "Labels in training set (array([0, 1]), array([26038,   614]))\n",
      "(6663,)\n",
      "Training of capsule network 52.0546875\n"
     ]
    },
    {
     "name": "stderr",
     "output_type": "stream",
     "text": [
      "/home/bakirillov/anaconda3/envs/lapki/lib/python3.7/site-packages/sklearn/preprocessing/label.py:219: DataConversionWarning: A column-vector y was passed when a 1d array was expected. Please change the shape of y to (n_samples, ), for example using ravel().\n",
      "  y = column_or_1d(y, warn=True)\n",
      "/home/bakirillov/anaconda3/envs/lapki/lib/python3.7/site-packages/sklearn/preprocessing/label.py:252: DataConversionWarning: A column-vector y was passed when a 1d array was expected. Please change the shape of y to (n_samples, ), for example using ravel().\n",
      "  y = column_or_1d(y, warn=True)\n",
      "/home/bakirillov/anaconda3/envs/lapki/lib/python3.7/site-packages/sklearn/linear_model/logistic.py:432: FutureWarning: Default solver will be changed to 'lbfgs' in 0.22. Specify a solver to silence this warning.\n",
      "  FutureWarning)\n",
      "/home/bakirillov/anaconda3/envs/lapki/lib/python3.7/site-packages/sklearn/preprocessing/_function_transformer.py:97: FutureWarning: The default validate=True will be replaced by validate=False in 0.22.\n",
      "  \"validate=False in 0.22.\", FutureWarning)\n",
      "/home/bakirillov/anaconda3/envs/lapki/lib/python3.7/site-packages/sklearn/preprocessing/_function_transformer.py:97: FutureWarning: The default validate=True will be replaced by validate=False in 0.22.\n",
      "  \"validate=False in 0.22.\", FutureWarning)\n",
      "/home/bakirillov/anaconda3/envs/lapki/lib/python3.7/site-packages/sklearn/preprocessing/_function_transformer.py:97: FutureWarning: The default validate=True will be replaced by validate=False in 0.22.\n",
      "  \"validate=False in 0.22.\", FutureWarning)\n",
      "/home/bakirillov/anaconda3/envs/lapki/lib/python3.7/site-packages/sklearn/preprocessing/_function_transformer.py:97: FutureWarning: The default validate=True will be replaced by validate=False in 0.22.\n",
      "  \"validate=False in 0.22.\", FutureWarning)\n",
      " 40%|████      | 4/10 [00:00<00:00, 32.90it/s]"
     ]
    },
    {
     "name": "stdout",
     "output_type": "stream",
     "text": [
      "Testing 9.87890625\n"
     ]
    },
    {
     "name": "stderr",
     "output_type": "stream",
     "text": [
      "100%|██████████| 10/10 [00:00<00:00, 32.96it/s]\n",
      "/home/bakirillov/anaconda3/envs/lapki/lib/python3.7/site-packages/sklearn/preprocessing/_function_transformer.py:97: FutureWarning: The default validate=True will be replaced by validate=False in 0.22.\n",
      "  \"validate=False in 0.22.\", FutureWarning)\n",
      "/home/bakirillov/anaconda3/envs/lapki/lib/python3.7/site-packages/sklearn/preprocessing/_function_transformer.py:97: FutureWarning: The default validate=True will be replaced by validate=False in 0.22.\n",
      "  \"validate=False in 0.22.\", FutureWarning)\n"
     ]
    },
    {
     "name": "stdout",
     "output_type": "stream",
     "text": [
      "balaccs [1.0]\n",
      "16 GGAATCCCTTCTGCAGCACCTGG 29\n",
      "Making training set\n",
      "Pairs in training set 26631\n",
      "Labels in training set (array([0, 1]), array([26038,   593]))\n",
      "(6658,)\n",
      "Training of capsule network 52.013671875\n"
     ]
    },
    {
     "name": "stderr",
     "output_type": "stream",
     "text": [
      "/home/bakirillov/anaconda3/envs/lapki/lib/python3.7/site-packages/sklearn/preprocessing/label.py:219: DataConversionWarning: A column-vector y was passed when a 1d array was expected. Please change the shape of y to (n_samples, ), for example using ravel().\n",
      "  y = column_or_1d(y, warn=True)\n",
      "/home/bakirillov/anaconda3/envs/lapki/lib/python3.7/site-packages/sklearn/preprocessing/label.py:252: DataConversionWarning: A column-vector y was passed when a 1d array was expected. Please change the shape of y to (n_samples, ), for example using ravel().\n",
      "  y = column_or_1d(y, warn=True)\n",
      "/home/bakirillov/anaconda3/envs/lapki/lib/python3.7/site-packages/sklearn/linear_model/logistic.py:432: FutureWarning: Default solver will be changed to 'lbfgs' in 0.22. Specify a solver to silence this warning.\n",
      "  FutureWarning)\n",
      "/home/bakirillov/anaconda3/envs/lapki/lib/python3.7/site-packages/sklearn/preprocessing/_function_transformer.py:97: FutureWarning: The default validate=True will be replaced by validate=False in 0.22.\n",
      "  \"validate=False in 0.22.\", FutureWarning)\n",
      "/home/bakirillov/anaconda3/envs/lapki/lib/python3.7/site-packages/sklearn/preprocessing/_function_transformer.py:97: FutureWarning: The default validate=True will be replaced by validate=False in 0.22.\n",
      "  \"validate=False in 0.22.\", FutureWarning)\n",
      "/home/bakirillov/anaconda3/envs/lapki/lib/python3.7/site-packages/sklearn/preprocessing/_function_transformer.py:97: FutureWarning: The default validate=True will be replaced by validate=False in 0.22.\n",
      "  \"validate=False in 0.22.\", FutureWarning)\n",
      "/home/bakirillov/anaconda3/envs/lapki/lib/python3.7/site-packages/sklearn/preprocessing/_function_transformer.py:97: FutureWarning: The default validate=True will be replaced by validate=False in 0.22.\n",
      "  \"validate=False in 0.22.\", FutureWarning)\n",
      "  8%|▊         | 3/40 [00:00<00:01, 28.32it/s]"
     ]
    },
    {
     "name": "stdout",
     "output_type": "stream",
     "text": [
      "Testing 40.0\n"
     ]
    },
    {
     "name": "stderr",
     "output_type": "stream",
     "text": [
      "100%|██████████| 40/40 [00:01<00:00, 30.85it/s]\n",
      "/home/bakirillov/anaconda3/envs/lapki/lib/python3.7/site-packages/sklearn/preprocessing/_function_transformer.py:97: FutureWarning: The default validate=True will be replaced by validate=False in 0.22.\n",
      "  \"validate=False in 0.22.\", FutureWarning)\n",
      "/home/bakirillov/anaconda3/envs/lapki/lib/python3.7/site-packages/sklearn/preprocessing/_function_transformer.py:97: FutureWarning: The default validate=True will be replaced by validate=False in 0.22.\n",
      "  \"validate=False in 0.22.\", FutureWarning)\n"
     ]
    },
    {
     "name": "stdout",
     "output_type": "stream",
     "text": [
      "balaccs [1.0]\n",
      "17 GGCACTGCGGCTGGAGGTGGGGG 29\n",
      "Making training set\n",
      "Pairs in training set 26518\n",
      "Labels in training set (array([0, 1]), array([26038,   480]))\n",
      "(6630,)\n",
      "Training of capsule network 51.79296875\n"
     ]
    },
    {
     "name": "stderr",
     "output_type": "stream",
     "text": [
      "/home/bakirillov/anaconda3/envs/lapki/lib/python3.7/site-packages/sklearn/preprocessing/label.py:219: DataConversionWarning: A column-vector y was passed when a 1d array was expected. Please change the shape of y to (n_samples, ), for example using ravel().\n",
      "  y = column_or_1d(y, warn=True)\n",
      "/home/bakirillov/anaconda3/envs/lapki/lib/python3.7/site-packages/sklearn/preprocessing/label.py:252: DataConversionWarning: A column-vector y was passed when a 1d array was expected. Please change the shape of y to (n_samples, ), for example using ravel().\n",
      "  y = column_or_1d(y, warn=True)\n",
      "/home/bakirillov/anaconda3/envs/lapki/lib/python3.7/site-packages/sklearn/linear_model/logistic.py:432: FutureWarning: Default solver will be changed to 'lbfgs' in 0.22. Specify a solver to silence this warning.\n",
      "  FutureWarning)\n",
      "/home/bakirillov/anaconda3/envs/lapki/lib/python3.7/site-packages/sklearn/preprocessing/_function_transformer.py:97: FutureWarning: The default validate=True will be replaced by validate=False in 0.22.\n",
      "  \"validate=False in 0.22.\", FutureWarning)\n",
      "/home/bakirillov/anaconda3/envs/lapki/lib/python3.7/site-packages/sklearn/preprocessing/_function_transformer.py:97: FutureWarning: The default validate=True will be replaced by validate=False in 0.22.\n",
      "  \"validate=False in 0.22.\", FutureWarning)\n",
      "/home/bakirillov/anaconda3/envs/lapki/lib/python3.7/site-packages/sklearn/preprocessing/_function_transformer.py:97: FutureWarning: The default validate=True will be replaced by validate=False in 0.22.\n",
      "  \"validate=False in 0.22.\", FutureWarning)\n",
      "/home/bakirillov/anaconda3/envs/lapki/lib/python3.7/site-packages/sklearn/preprocessing/_function_transformer.py:97: FutureWarning: The default validate=True will be replaced by validate=False in 0.22.\n",
      "  \"validate=False in 0.22.\", FutureWarning)\n",
      "  3%|▎         | 3/118 [00:00<00:04, 24.85it/s]"
     ]
    },
    {
     "name": "stdout",
     "output_type": "stream",
     "text": [
      "Testing 117.87109375\n"
     ]
    },
    {
     "name": "stderr",
     "output_type": "stream",
     "text": [
      "100%|██████████| 118/118 [00:04<00:00, 24.75it/s]\n",
      "/home/bakirillov/anaconda3/envs/lapki/lib/python3.7/site-packages/sklearn/preprocessing/_function_transformer.py:97: FutureWarning: The default validate=True will be replaced by validate=False in 0.22.\n",
      "  \"validate=False in 0.22.\", FutureWarning)\n",
      "/home/bakirillov/anaconda3/envs/lapki/lib/python3.7/site-packages/sklearn/preprocessing/_function_transformer.py:97: FutureWarning: The default validate=True will be replaced by validate=False in 0.22.\n",
      "  \"validate=False in 0.22.\", FutureWarning)\n"
     ]
    },
    {
     "name": "stdout",
     "output_type": "stream",
     "text": [
      "balaccs [0.5]\n",
      "18 GGCCAGGCTTTGGGGAGGCCTGG 29\n",
      "Making training set\n",
      "Pairs in training set 26645\n",
      "Labels in training set (array([0, 1]), array([26038,   607]))\n",
      "(6662,)\n",
      "Training of capsule network 52.041015625\n"
     ]
    },
    {
     "name": "stderr",
     "output_type": "stream",
     "text": [
      "/home/bakirillov/anaconda3/envs/lapki/lib/python3.7/site-packages/sklearn/preprocessing/label.py:219: DataConversionWarning: A column-vector y was passed when a 1d array was expected. Please change the shape of y to (n_samples, ), for example using ravel().\n",
      "  y = column_or_1d(y, warn=True)\n",
      "/home/bakirillov/anaconda3/envs/lapki/lib/python3.7/site-packages/sklearn/preprocessing/label.py:252: DataConversionWarning: A column-vector y was passed when a 1d array was expected. Please change the shape of y to (n_samples, ), for example using ravel().\n",
      "  y = column_or_1d(y, warn=True)\n",
      "/home/bakirillov/anaconda3/envs/lapki/lib/python3.7/site-packages/sklearn/linear_model/logistic.py:432: FutureWarning: Default solver will be changed to 'lbfgs' in 0.22. Specify a solver to silence this warning.\n",
      "  FutureWarning)\n",
      "/home/bakirillov/anaconda3/envs/lapki/lib/python3.7/site-packages/sklearn/preprocessing/_function_transformer.py:97: FutureWarning: The default validate=True will be replaced by validate=False in 0.22.\n",
      "  \"validate=False in 0.22.\", FutureWarning)\n",
      "/home/bakirillov/anaconda3/envs/lapki/lib/python3.7/site-packages/sklearn/preprocessing/_function_transformer.py:97: FutureWarning: The default validate=True will be replaced by validate=False in 0.22.\n",
      "  \"validate=False in 0.22.\", FutureWarning)\n",
      "/home/bakirillov/anaconda3/envs/lapki/lib/python3.7/site-packages/sklearn/preprocessing/_function_transformer.py:97: FutureWarning: The default validate=True will be replaced by validate=False in 0.22.\n",
      "  \"validate=False in 0.22.\", FutureWarning)\n",
      "/home/bakirillov/anaconda3/envs/lapki/lib/python3.7/site-packages/sklearn/preprocessing/_function_transformer.py:97: FutureWarning: The default validate=True will be replaced by validate=False in 0.22.\n",
      "  \"validate=False in 0.22.\", FutureWarning)\n",
      "  4%|▍         | 4/90 [00:00<00:02, 33.32it/s]"
     ]
    },
    {
     "name": "stdout",
     "output_type": "stream",
     "text": [
      "Testing 89.58203125\n"
     ]
    },
    {
     "name": "stderr",
     "output_type": "stream",
     "text": [
      "100%|██████████| 90/90 [00:02<00:00, 33.74it/s]\n",
      "/home/bakirillov/anaconda3/envs/lapki/lib/python3.7/site-packages/sklearn/preprocessing/_function_transformer.py:97: FutureWarning: The default validate=True will be replaced by validate=False in 0.22.\n",
      "  \"validate=False in 0.22.\", FutureWarning)\n",
      "/home/bakirillov/anaconda3/envs/lapki/lib/python3.7/site-packages/sklearn/preprocessing/_function_transformer.py:97: FutureWarning: The default validate=True will be replaced by validate=False in 0.22.\n",
      "  \"validate=False in 0.22.\", FutureWarning)\n"
     ]
    },
    {
     "name": "stdout",
     "output_type": "stream",
     "text": [
      "balaccs [1.0]\n",
      "19 GGCCCAGACTGAGCACGTGATGG 29\n",
      "Making training set\n",
      "Pairs in training set 26646\n",
      "Labels in training set (array([0, 1]), array([26038,   608]))\n",
      "(6662,)\n",
      "Training of capsule network 52.04296875\n"
     ]
    },
    {
     "name": "stderr",
     "output_type": "stream",
     "text": [
      "/home/bakirillov/anaconda3/envs/lapki/lib/python3.7/site-packages/sklearn/preprocessing/label.py:219: DataConversionWarning: A column-vector y was passed when a 1d array was expected. Please change the shape of y to (n_samples, ), for example using ravel().\n",
      "  y = column_or_1d(y, warn=True)\n",
      "/home/bakirillov/anaconda3/envs/lapki/lib/python3.7/site-packages/sklearn/preprocessing/label.py:252: DataConversionWarning: A column-vector y was passed when a 1d array was expected. Please change the shape of y to (n_samples, ), for example using ravel().\n",
      "  y = column_or_1d(y, warn=True)\n",
      "/home/bakirillov/anaconda3/envs/lapki/lib/python3.7/site-packages/sklearn/linear_model/logistic.py:432: FutureWarning: Default solver will be changed to 'lbfgs' in 0.22. Specify a solver to silence this warning.\n",
      "  FutureWarning)\n",
      "/home/bakirillov/anaconda3/envs/lapki/lib/python3.7/site-packages/sklearn/preprocessing/_function_transformer.py:97: FutureWarning: The default validate=True will be replaced by validate=False in 0.22.\n",
      "  \"validate=False in 0.22.\", FutureWarning)\n",
      "/home/bakirillov/anaconda3/envs/lapki/lib/python3.7/site-packages/sklearn/preprocessing/_function_transformer.py:97: FutureWarning: The default validate=True will be replaced by validate=False in 0.22.\n",
      "  \"validate=False in 0.22.\", FutureWarning)\n",
      "/home/bakirillov/anaconda3/envs/lapki/lib/python3.7/site-packages/sklearn/preprocessing/_function_transformer.py:97: FutureWarning: The default validate=True will be replaced by validate=False in 0.22.\n",
      "  \"validate=False in 0.22.\", FutureWarning)\n",
      "/home/bakirillov/anaconda3/envs/lapki/lib/python3.7/site-packages/sklearn/preprocessing/_function_transformer.py:97: FutureWarning: The default validate=True will be replaced by validate=False in 0.22.\n",
      "  \"validate=False in 0.22.\", FutureWarning)\n",
      " 12%|█▏        | 4/33 [00:00<00:00, 33.26it/s]"
     ]
    },
    {
     "name": "stdout",
     "output_type": "stream",
     "text": [
      "Testing 32.35546875\n"
     ]
    },
    {
     "name": "stderr",
     "output_type": "stream",
     "text": [
      "100%|██████████| 33/33 [00:01<00:00, 32.78it/s]\n",
      "/home/bakirillov/anaconda3/envs/lapki/lib/python3.7/site-packages/sklearn/preprocessing/_function_transformer.py:97: FutureWarning: The default validate=True will be replaced by validate=False in 0.22.\n",
      "  \"validate=False in 0.22.\", FutureWarning)\n",
      "/home/bakirillov/anaconda3/envs/lapki/lib/python3.7/site-packages/sklearn/preprocessing/_function_transformer.py:97: FutureWarning: The default validate=True will be replaced by validate=False in 0.22.\n",
      "  \"validate=False in 0.22.\", FutureWarning)\n"
     ]
    },
    {
     "name": "stdout",
     "output_type": "stream",
     "text": [
      "balaccs [1.0]\n",
      "20 GGGAAAGACCCAGCATCCGTGGG 29\n",
      "Making training set\n",
      "Pairs in training set 26642\n",
      "Labels in training set (array([0, 1]), array([26038,   604]))\n",
      "(6661,)\n",
      "Training of capsule network 52.03515625\n"
     ]
    },
    {
     "name": "stderr",
     "output_type": "stream",
     "text": [
      "/home/bakirillov/anaconda3/envs/lapki/lib/python3.7/site-packages/sklearn/preprocessing/label.py:219: DataConversionWarning: A column-vector y was passed when a 1d array was expected. Please change the shape of y to (n_samples, ), for example using ravel().\n",
      "  y = column_or_1d(y, warn=True)\n",
      "/home/bakirillov/anaconda3/envs/lapki/lib/python3.7/site-packages/sklearn/preprocessing/label.py:252: DataConversionWarning: A column-vector y was passed when a 1d array was expected. Please change the shape of y to (n_samples, ), for example using ravel().\n",
      "  y = column_or_1d(y, warn=True)\n",
      "/home/bakirillov/anaconda3/envs/lapki/lib/python3.7/site-packages/sklearn/linear_model/logistic.py:432: FutureWarning: Default solver will be changed to 'lbfgs' in 0.22. Specify a solver to silence this warning.\n",
      "  FutureWarning)\n",
      "/home/bakirillov/anaconda3/envs/lapki/lib/python3.7/site-packages/sklearn/preprocessing/_function_transformer.py:97: FutureWarning: The default validate=True will be replaced by validate=False in 0.22.\n",
      "  \"validate=False in 0.22.\", FutureWarning)\n",
      "/home/bakirillov/anaconda3/envs/lapki/lib/python3.7/site-packages/sklearn/preprocessing/_function_transformer.py:97: FutureWarning: The default validate=True will be replaced by validate=False in 0.22.\n",
      "  \"validate=False in 0.22.\", FutureWarning)\n",
      "/home/bakirillov/anaconda3/envs/lapki/lib/python3.7/site-packages/sklearn/preprocessing/_function_transformer.py:97: FutureWarning: The default validate=True will be replaced by validate=False in 0.22.\n",
      "  \"validate=False in 0.22.\", FutureWarning)\n",
      "/home/bakirillov/anaconda3/envs/lapki/lib/python3.7/site-packages/sklearn/preprocessing/_function_transformer.py:97: FutureWarning: The default validate=True will be replaced by validate=False in 0.22.\n",
      "  \"validate=False in 0.22.\", FutureWarning)\n",
      " 15%|█▍        | 4/27 [00:00<00:00, 32.38it/s]"
     ]
    },
    {
     "name": "stdout",
     "output_type": "stream",
     "text": [
      "Testing 26.36328125\n"
     ]
    },
    {
     "name": "stderr",
     "output_type": "stream",
     "text": [
      "100%|██████████| 27/27 [00:00<00:00, 32.84it/s]\n",
      "/home/bakirillov/anaconda3/envs/lapki/lib/python3.7/site-packages/sklearn/preprocessing/_function_transformer.py:97: FutureWarning: The default validate=True will be replaced by validate=False in 0.22.\n",
      "  \"validate=False in 0.22.\", FutureWarning)\n",
      "/home/bakirillov/anaconda3/envs/lapki/lib/python3.7/site-packages/sklearn/preprocessing/_function_transformer.py:97: FutureWarning: The default validate=True will be replaced by validate=False in 0.22.\n",
      "  \"validate=False in 0.22.\", FutureWarning)\n"
     ]
    },
    {
     "name": "stdout",
     "output_type": "stream",
     "text": [
      "balaccs [1.0]\n",
      "21 GGGTGGGGGGAGTTTGCTCCAGG 29\n",
      "Making training set\n",
      "Pairs in training set 26631\n",
      "Labels in training set (array([0, 1]), array([26038,   593]))\n",
      "(6658,)\n",
      "Training of capsule network 52.013671875\n"
     ]
    },
    {
     "name": "stderr",
     "output_type": "stream",
     "text": [
      "/home/bakirillov/anaconda3/envs/lapki/lib/python3.7/site-packages/sklearn/preprocessing/label.py:219: DataConversionWarning: A column-vector y was passed when a 1d array was expected. Please change the shape of y to (n_samples, ), for example using ravel().\n",
      "  y = column_or_1d(y, warn=True)\n",
      "/home/bakirillov/anaconda3/envs/lapki/lib/python3.7/site-packages/sklearn/preprocessing/label.py:252: DataConversionWarning: A column-vector y was passed when a 1d array was expected. Please change the shape of y to (n_samples, ), for example using ravel().\n",
      "  y = column_or_1d(y, warn=True)\n",
      "/home/bakirillov/anaconda3/envs/lapki/lib/python3.7/site-packages/sklearn/linear_model/logistic.py:432: FutureWarning: Default solver will be changed to 'lbfgs' in 0.22. Specify a solver to silence this warning.\n",
      "  FutureWarning)\n",
      "/home/bakirillov/anaconda3/envs/lapki/lib/python3.7/site-packages/sklearn/preprocessing/_function_transformer.py:97: FutureWarning: The default validate=True will be replaced by validate=False in 0.22.\n",
      "  \"validate=False in 0.22.\", FutureWarning)\n",
      "/home/bakirillov/anaconda3/envs/lapki/lib/python3.7/site-packages/sklearn/preprocessing/_function_transformer.py:97: FutureWarning: The default validate=True will be replaced by validate=False in 0.22.\n",
      "  \"validate=False in 0.22.\", FutureWarning)\n",
      "/home/bakirillov/anaconda3/envs/lapki/lib/python3.7/site-packages/sklearn/preprocessing/_function_transformer.py:97: FutureWarning: The default validate=True will be replaced by validate=False in 0.22.\n",
      "  \"validate=False in 0.22.\", FutureWarning)\n",
      "/home/bakirillov/anaconda3/envs/lapki/lib/python3.7/site-packages/sklearn/preprocessing/_function_transformer.py:97: FutureWarning: The default validate=True will be replaced by validate=False in 0.22.\n",
      "  \"validate=False in 0.22.\", FutureWarning)\n",
      "  7%|▋         | 4/60 [00:00<00:01, 32.53it/s]"
     ]
    },
    {
     "name": "stdout",
     "output_type": "stream",
     "text": [
      "Testing 59.1484375\n"
     ]
    },
    {
     "name": "stderr",
     "output_type": "stream",
     "text": [
      "100%|██████████| 60/60 [00:01<00:00, 34.19it/s]\n",
      "/home/bakirillov/anaconda3/envs/lapki/lib/python3.7/site-packages/sklearn/preprocessing/_function_transformer.py:97: FutureWarning: The default validate=True will be replaced by validate=False in 0.22.\n",
      "  \"validate=False in 0.22.\", FutureWarning)\n",
      "/home/bakirillov/anaconda3/envs/lapki/lib/python3.7/site-packages/sklearn/preprocessing/_function_transformer.py:97: FutureWarning: The default validate=True will be replaced by validate=False in 0.22.\n",
      "  \"validate=False in 0.22.\", FutureWarning)\n"
     ]
    },
    {
     "name": "stdout",
     "output_type": "stream",
     "text": [
      "balaccs [1.0]\n",
      "22 GGGTGGGGGGAGTTTGCTCCTGG 29\n",
      "Making training set\n",
      "Pairs in training set 26628\n",
      "Labels in training set (array([0, 1]), array([26038,   590]))\n",
      "(6657,)\n",
      "Training of capsule network 52.0078125\n"
     ]
    },
    {
     "name": "stderr",
     "output_type": "stream",
     "text": [
      "/home/bakirillov/anaconda3/envs/lapki/lib/python3.7/site-packages/sklearn/preprocessing/label.py:219: DataConversionWarning: A column-vector y was passed when a 1d array was expected. Please change the shape of y to (n_samples, ), for example using ravel().\n",
      "  y = column_or_1d(y, warn=True)\n",
      "/home/bakirillov/anaconda3/envs/lapki/lib/python3.7/site-packages/sklearn/preprocessing/label.py:252: DataConversionWarning: A column-vector y was passed when a 1d array was expected. Please change the shape of y to (n_samples, ), for example using ravel().\n",
      "  y = column_or_1d(y, warn=True)\n",
      "/home/bakirillov/anaconda3/envs/lapki/lib/python3.7/site-packages/sklearn/linear_model/logistic.py:432: FutureWarning: Default solver will be changed to 'lbfgs' in 0.22. Specify a solver to silence this warning.\n",
      "  FutureWarning)\n",
      "/home/bakirillov/anaconda3/envs/lapki/lib/python3.7/site-packages/sklearn/preprocessing/_function_transformer.py:97: FutureWarning: The default validate=True will be replaced by validate=False in 0.22.\n",
      "  \"validate=False in 0.22.\", FutureWarning)\n",
      "/home/bakirillov/anaconda3/envs/lapki/lib/python3.7/site-packages/sklearn/preprocessing/_function_transformer.py:97: FutureWarning: The default validate=True will be replaced by validate=False in 0.22.\n",
      "  \"validate=False in 0.22.\", FutureWarning)\n",
      "/home/bakirillov/anaconda3/envs/lapki/lib/python3.7/site-packages/sklearn/preprocessing/_function_transformer.py:97: FutureWarning: The default validate=True will be replaced by validate=False in 0.22.\n",
      "  \"validate=False in 0.22.\", FutureWarning)\n",
      "/home/bakirillov/anaconda3/envs/lapki/lib/python3.7/site-packages/sklearn/preprocessing/_function_transformer.py:97: FutureWarning: The default validate=True will be replaced by validate=False in 0.22.\n",
      "  \"validate=False in 0.22.\", FutureWarning)\n",
      "  7%|▋         | 4/60 [00:00<00:01, 30.64it/s]"
     ]
    },
    {
     "name": "stdout",
     "output_type": "stream",
     "text": [
      "Testing 59.15625\n"
     ]
    },
    {
     "name": "stderr",
     "output_type": "stream",
     "text": [
      "100%|██████████| 60/60 [00:01<00:00, 30.42it/s]\n",
      "/home/bakirillov/anaconda3/envs/lapki/lib/python3.7/site-packages/sklearn/preprocessing/_function_transformer.py:97: FutureWarning: The default validate=True will be replaced by validate=False in 0.22.\n",
      "  \"validate=False in 0.22.\", FutureWarning)\n",
      "/home/bakirillov/anaconda3/envs/lapki/lib/python3.7/site-packages/sklearn/preprocessing/_function_transformer.py:97: FutureWarning: The default validate=True will be replaced by validate=False in 0.22.\n",
      "  \"validate=False in 0.22.\", FutureWarning)\n"
     ]
    },
    {
     "name": "stdout",
     "output_type": "stream",
     "text": [
      "balaccs [1.0]\n",
      "23 GGTCCTGCCGCTGCTTGTCATGG 29\n",
      "Making training set\n",
      "Pairs in training set 26640\n",
      "Labels in training set (array([0, 1]), array([26038,   602]))\n",
      "(6660,)\n",
      "Training of capsule network 52.03125\n"
     ]
    },
    {
     "name": "stderr",
     "output_type": "stream",
     "text": [
      "/home/bakirillov/anaconda3/envs/lapki/lib/python3.7/site-packages/sklearn/preprocessing/label.py:219: DataConversionWarning: A column-vector y was passed when a 1d array was expected. Please change the shape of y to (n_samples, ), for example using ravel().\n",
      "  y = column_or_1d(y, warn=True)\n",
      "/home/bakirillov/anaconda3/envs/lapki/lib/python3.7/site-packages/sklearn/preprocessing/label.py:252: DataConversionWarning: A column-vector y was passed when a 1d array was expected. Please change the shape of y to (n_samples, ), for example using ravel().\n",
      "  y = column_or_1d(y, warn=True)\n",
      "/home/bakirillov/anaconda3/envs/lapki/lib/python3.7/site-packages/sklearn/linear_model/logistic.py:432: FutureWarning: Default solver will be changed to 'lbfgs' in 0.22. Specify a solver to silence this warning.\n",
      "  FutureWarning)\n",
      "/home/bakirillov/anaconda3/envs/lapki/lib/python3.7/site-packages/sklearn/preprocessing/_function_transformer.py:97: FutureWarning: The default validate=True will be replaced by validate=False in 0.22.\n",
      "  \"validate=False in 0.22.\", FutureWarning)\n",
      "/home/bakirillov/anaconda3/envs/lapki/lib/python3.7/site-packages/sklearn/preprocessing/_function_transformer.py:97: FutureWarning: The default validate=True will be replaced by validate=False in 0.22.\n",
      "  \"validate=False in 0.22.\", FutureWarning)\n",
      "/home/bakirillov/anaconda3/envs/lapki/lib/python3.7/site-packages/sklearn/preprocessing/_function_transformer.py:97: FutureWarning: The default validate=True will be replaced by validate=False in 0.22.\n",
      "  \"validate=False in 0.22.\", FutureWarning)\n",
      "/home/bakirillov/anaconda3/envs/lapki/lib/python3.7/site-packages/sklearn/preprocessing/_function_transformer.py:97: FutureWarning: The default validate=True will be replaced by validate=False in 0.22.\n",
      "  \"validate=False in 0.22.\", FutureWarning)\n",
      " 12%|█▏        | 4/34 [00:00<00:00, 32.19it/s]"
     ]
    },
    {
     "name": "stdout",
     "output_type": "stream",
     "text": [
      "Testing 34.0\n"
     ]
    },
    {
     "name": "stderr",
     "output_type": "stream",
     "text": [
      "100%|██████████| 34/34 [00:01<00:00, 30.53it/s]\n",
      "/home/bakirillov/anaconda3/envs/lapki/lib/python3.7/site-packages/sklearn/preprocessing/_function_transformer.py:97: FutureWarning: The default validate=True will be replaced by validate=False in 0.22.\n",
      "  \"validate=False in 0.22.\", FutureWarning)\n",
      "/home/bakirillov/anaconda3/envs/lapki/lib/python3.7/site-packages/sklearn/preprocessing/_function_transformer.py:97: FutureWarning: The default validate=True will be replaced by validate=False in 0.22.\n",
      "  \"validate=False in 0.22.\", FutureWarning)\n"
     ]
    },
    {
     "name": "stdout",
     "output_type": "stream",
     "text": [
      "balaccs [1.0]\n",
      "24 GGTGAGTGAGTGTGTGCGTGTGG 29\n",
      "Making training set\n",
      "Pairs in training set 26587\n",
      "Labels in training set (array([0, 1]), array([26038,   549]))\n",
      "(6647,)\n",
      "Training of capsule network 51.927734375\n"
     ]
    },
    {
     "name": "stderr",
     "output_type": "stream",
     "text": [
      "/home/bakirillov/anaconda3/envs/lapki/lib/python3.7/site-packages/sklearn/preprocessing/label.py:219: DataConversionWarning: A column-vector y was passed when a 1d array was expected. Please change the shape of y to (n_samples, ), for example using ravel().\n",
      "  y = column_or_1d(y, warn=True)\n",
      "/home/bakirillov/anaconda3/envs/lapki/lib/python3.7/site-packages/sklearn/preprocessing/label.py:252: DataConversionWarning: A column-vector y was passed when a 1d array was expected. Please change the shape of y to (n_samples, ), for example using ravel().\n",
      "  y = column_or_1d(y, warn=True)\n",
      "/home/bakirillov/anaconda3/envs/lapki/lib/python3.7/site-packages/sklearn/linear_model/logistic.py:432: FutureWarning: Default solver will be changed to 'lbfgs' in 0.22. Specify a solver to silence this warning.\n",
      "  FutureWarning)\n",
      "/home/bakirillov/anaconda3/envs/lapki/lib/python3.7/site-packages/sklearn/preprocessing/_function_transformer.py:97: FutureWarning: The default validate=True will be replaced by validate=False in 0.22.\n",
      "  \"validate=False in 0.22.\", FutureWarning)\n",
      "/home/bakirillov/anaconda3/envs/lapki/lib/python3.7/site-packages/sklearn/preprocessing/_function_transformer.py:97: FutureWarning: The default validate=True will be replaced by validate=False in 0.22.\n",
      "  \"validate=False in 0.22.\", FutureWarning)\n",
      "/home/bakirillov/anaconda3/envs/lapki/lib/python3.7/site-packages/sklearn/preprocessing/_function_transformer.py:97: FutureWarning: The default validate=True will be replaced by validate=False in 0.22.\n",
      "  \"validate=False in 0.22.\", FutureWarning)\n",
      "/home/bakirillov/anaconda3/envs/lapki/lib/python3.7/site-packages/sklearn/preprocessing/_function_transformer.py:97: FutureWarning: The default validate=True will be replaced by validate=False in 0.22.\n",
      "  \"validate=False in 0.22.\", FutureWarning)\n",
      "  2%|▏         | 3/131 [00:00<00:06, 21.31it/s]"
     ]
    },
    {
     "name": "stdout",
     "output_type": "stream",
     "text": [
      "Testing 130.578125\n"
     ]
    },
    {
     "name": "stderr",
     "output_type": "stream",
     "text": [
      "100%|██████████| 131/131 [00:05<00:00, 24.12it/s]\n",
      "/home/bakirillov/anaconda3/envs/lapki/lib/python3.7/site-packages/sklearn/preprocessing/_function_transformer.py:97: FutureWarning: The default validate=True will be replaced by validate=False in 0.22.\n",
      "  \"validate=False in 0.22.\", FutureWarning)\n",
      "/home/bakirillov/anaconda3/envs/lapki/lib/python3.7/site-packages/sklearn/preprocessing/_function_transformer.py:97: FutureWarning: The default validate=True will be replaced by validate=False in 0.22.\n",
      "  \"validate=False in 0.22.\", FutureWarning)\n"
     ]
    },
    {
     "name": "stdout",
     "output_type": "stream",
     "text": [
      "balaccs [0.5]\n",
      "25 GTCACCTCCAATGACTAGGGTGG 29\n",
      "Making training set\n",
      "Pairs in training set 26645\n",
      "Labels in training set (array([0, 1]), array([26038,   607]))\n",
      "(6662,)\n",
      "Training of capsule network 52.041015625\n"
     ]
    },
    {
     "name": "stderr",
     "output_type": "stream",
     "text": [
      "/home/bakirillov/anaconda3/envs/lapki/lib/python3.7/site-packages/sklearn/preprocessing/label.py:219: DataConversionWarning: A column-vector y was passed when a 1d array was expected. Please change the shape of y to (n_samples, ), for example using ravel().\n",
      "  y = column_or_1d(y, warn=True)\n",
      "/home/bakirillov/anaconda3/envs/lapki/lib/python3.7/site-packages/sklearn/preprocessing/label.py:252: DataConversionWarning: A column-vector y was passed when a 1d array was expected. Please change the shape of y to (n_samples, ), for example using ravel().\n",
      "  y = column_or_1d(y, warn=True)\n",
      "/home/bakirillov/anaconda3/envs/lapki/lib/python3.7/site-packages/sklearn/linear_model/logistic.py:432: FutureWarning: Default solver will be changed to 'lbfgs' in 0.22. Specify a solver to silence this warning.\n",
      "  FutureWarning)\n",
      "/home/bakirillov/anaconda3/envs/lapki/lib/python3.7/site-packages/sklearn/preprocessing/_function_transformer.py:97: FutureWarning: The default validate=True will be replaced by validate=False in 0.22.\n",
      "  \"validate=False in 0.22.\", FutureWarning)\n",
      "/home/bakirillov/anaconda3/envs/lapki/lib/python3.7/site-packages/sklearn/preprocessing/_function_transformer.py:97: FutureWarning: The default validate=True will be replaced by validate=False in 0.22.\n",
      "  \"validate=False in 0.22.\", FutureWarning)\n",
      "/home/bakirillov/anaconda3/envs/lapki/lib/python3.7/site-packages/sklearn/preprocessing/_function_transformer.py:97: FutureWarning: The default validate=True will be replaced by validate=False in 0.22.\n",
      "  \"validate=False in 0.22.\", FutureWarning)\n",
      "/home/bakirillov/anaconda3/envs/lapki/lib/python3.7/site-packages/sklearn/preprocessing/_function_transformer.py:97: FutureWarning: The default validate=True will be replaced by validate=False in 0.22.\n",
      "  \"validate=False in 0.22.\", FutureWarning)\n",
      " 16%|█▌        | 4/25 [00:00<00:00, 34.98it/s]"
     ]
    },
    {
     "name": "stdout",
     "output_type": "stream",
     "text": [
      "Testing 24.03515625\n"
     ]
    },
    {
     "name": "stderr",
     "output_type": "stream",
     "text": [
      "100%|██████████| 25/25 [00:00<00:00, 34.83it/s]\n",
      "/home/bakirillov/anaconda3/envs/lapki/lib/python3.7/site-packages/sklearn/preprocessing/_function_transformer.py:97: FutureWarning: The default validate=True will be replaced by validate=False in 0.22.\n",
      "  \"validate=False in 0.22.\", FutureWarning)\n",
      "/home/bakirillov/anaconda3/envs/lapki/lib/python3.7/site-packages/sklearn/preprocessing/_function_transformer.py:97: FutureWarning: The default validate=True will be replaced by validate=False in 0.22.\n",
      "  \"validate=False in 0.22.\", FutureWarning)\n"
     ]
    },
    {
     "name": "stdout",
     "output_type": "stream",
     "text": [
      "balaccs [1.0]\n",
      "26 GTCATCTTAGTCATTACCTGAGG 29\n",
      "Making training set\n",
      "Pairs in training set 26648\n",
      "Labels in training set (array([0, 1]), array([26038,   610]))\n",
      "(6662,)\n",
      "Training of capsule network 52.046875\n"
     ]
    },
    {
     "name": "stderr",
     "output_type": "stream",
     "text": [
      "/home/bakirillov/anaconda3/envs/lapki/lib/python3.7/site-packages/sklearn/preprocessing/label.py:219: DataConversionWarning: A column-vector y was passed when a 1d array was expected. Please change the shape of y to (n_samples, ), for example using ravel().\n",
      "  y = column_or_1d(y, warn=True)\n",
      "/home/bakirillov/anaconda3/envs/lapki/lib/python3.7/site-packages/sklearn/preprocessing/label.py:252: DataConversionWarning: A column-vector y was passed when a 1d array was expected. Please change the shape of y to (n_samples, ), for example using ravel().\n",
      "  y = column_or_1d(y, warn=True)\n",
      "/home/bakirillov/anaconda3/envs/lapki/lib/python3.7/site-packages/sklearn/linear_model/logistic.py:432: FutureWarning: Default solver will be changed to 'lbfgs' in 0.22. Specify a solver to silence this warning.\n",
      "  FutureWarning)\n",
      "/home/bakirillov/anaconda3/envs/lapki/lib/python3.7/site-packages/sklearn/preprocessing/_function_transformer.py:97: FutureWarning: The default validate=True will be replaced by validate=False in 0.22.\n",
      "  \"validate=False in 0.22.\", FutureWarning)\n",
      "/home/bakirillov/anaconda3/envs/lapki/lib/python3.7/site-packages/sklearn/preprocessing/_function_transformer.py:97: FutureWarning: The default validate=True will be replaced by validate=False in 0.22.\n",
      "  \"validate=False in 0.22.\", FutureWarning)\n",
      "/home/bakirillov/anaconda3/envs/lapki/lib/python3.7/site-packages/sklearn/preprocessing/_function_transformer.py:97: FutureWarning: The default validate=True will be replaced by validate=False in 0.22.\n",
      "  \"validate=False in 0.22.\", FutureWarning)\n",
      "/home/bakirillov/anaconda3/envs/lapki/lib/python3.7/site-packages/sklearn/preprocessing/_function_transformer.py:97: FutureWarning: The default validate=True will be replaced by validate=False in 0.22.\n",
      "  \"validate=False in 0.22.\", FutureWarning)\n",
      " 12%|█▎        | 4/32 [00:00<00:00, 31.12it/s]"
     ]
    },
    {
     "name": "stdout",
     "output_type": "stream",
     "text": [
      "Testing 31.44140625\n"
     ]
    },
    {
     "name": "stderr",
     "output_type": "stream",
     "text": [
      "100%|██████████| 32/32 [00:00<00:00, 32.10it/s]\n",
      "/home/bakirillov/anaconda3/envs/lapki/lib/python3.7/site-packages/sklearn/preprocessing/_function_transformer.py:97: FutureWarning: The default validate=True will be replaced by validate=False in 0.22.\n",
      "  \"validate=False in 0.22.\", FutureWarning)\n",
      "/home/bakirillov/anaconda3/envs/lapki/lib/python3.7/site-packages/sklearn/preprocessing/_function_transformer.py:97: FutureWarning: The default validate=True will be replaced by validate=False in 0.22.\n",
      "  \"validate=False in 0.22.\", FutureWarning)\n"
     ]
    },
    {
     "name": "stdout",
     "output_type": "stream",
     "text": [
      "balaccs [1.0]\n",
      "27 TGACATCAATTATTATACATCGG 29\n",
      "Making training set\n",
      "Pairs in training set 26640\n",
      "Labels in training set (array([0, 1]), array([26038,   602]))\n",
      "(6660,)\n",
      "Training of capsule network 52.03125\n"
     ]
    },
    {
     "name": "stderr",
     "output_type": "stream",
     "text": [
      "/home/bakirillov/anaconda3/envs/lapki/lib/python3.7/site-packages/sklearn/preprocessing/label.py:219: DataConversionWarning: A column-vector y was passed when a 1d array was expected. Please change the shape of y to (n_samples, ), for example using ravel().\n",
      "  y = column_or_1d(y, warn=True)\n",
      "/home/bakirillov/anaconda3/envs/lapki/lib/python3.7/site-packages/sklearn/preprocessing/label.py:252: DataConversionWarning: A column-vector y was passed when a 1d array was expected. Please change the shape of y to (n_samples, ), for example using ravel().\n",
      "  y = column_or_1d(y, warn=True)\n",
      "/home/bakirillov/anaconda3/envs/lapki/lib/python3.7/site-packages/sklearn/linear_model/logistic.py:432: FutureWarning: Default solver will be changed to 'lbfgs' in 0.22. Specify a solver to silence this warning.\n",
      "  FutureWarning)\n",
      "/home/bakirillov/anaconda3/envs/lapki/lib/python3.7/site-packages/sklearn/preprocessing/_function_transformer.py:97: FutureWarning: The default validate=True will be replaced by validate=False in 0.22.\n",
      "  \"validate=False in 0.22.\", FutureWarning)\n",
      "/home/bakirillov/anaconda3/envs/lapki/lib/python3.7/site-packages/sklearn/preprocessing/_function_transformer.py:97: FutureWarning: The default validate=True will be replaced by validate=False in 0.22.\n",
      "  \"validate=False in 0.22.\", FutureWarning)\n",
      "/home/bakirillov/anaconda3/envs/lapki/lib/python3.7/site-packages/sklearn/preprocessing/_function_transformer.py:97: FutureWarning: The default validate=True will be replaced by validate=False in 0.22.\n",
      "  \"validate=False in 0.22.\", FutureWarning)\n",
      "/home/bakirillov/anaconda3/envs/lapki/lib/python3.7/site-packages/sklearn/preprocessing/_function_transformer.py:97: FutureWarning: The default validate=True will be replaced by validate=False in 0.22.\n",
      "  \"validate=False in 0.22.\", FutureWarning)\n",
      "  7%|▋         | 4/59 [00:00<00:01, 31.46it/s]"
     ]
    },
    {
     "name": "stdout",
     "output_type": "stream",
     "text": [
      "Testing 58.7421875\n"
     ]
    },
    {
     "name": "stderr",
     "output_type": "stream",
     "text": [
      "100%|██████████| 59/59 [00:01<00:00, 32.00it/s]\n",
      "/home/bakirillov/anaconda3/envs/lapki/lib/python3.7/site-packages/sklearn/preprocessing/_function_transformer.py:97: FutureWarning: The default validate=True will be replaced by validate=False in 0.22.\n",
      "  \"validate=False in 0.22.\", FutureWarning)\n",
      "/home/bakirillov/anaconda3/envs/lapki/lib/python3.7/site-packages/sklearn/preprocessing/_function_transformer.py:97: FutureWarning: The default validate=True will be replaced by validate=False in 0.22.\n",
      "  \"validate=False in 0.22.\", FutureWarning)\n"
     ]
    },
    {
     "name": "stdout",
     "output_type": "stream",
     "text": [
      "balaccs [1.0]\n",
      "28 TGGATGGAGGAATGAGGAGTTGG 29\n",
      "Making training set\n",
      "Pairs in training set 26642\n",
      "Labels in training set (array([0, 1]), array([26038,   604]))\n",
      "(6661,)\n",
      "Training of capsule network 52.03515625\n"
     ]
    },
    {
     "name": "stderr",
     "output_type": "stream",
     "text": [
      "/home/bakirillov/anaconda3/envs/lapki/lib/python3.7/site-packages/sklearn/preprocessing/label.py:219: DataConversionWarning: A column-vector y was passed when a 1d array was expected. Please change the shape of y to (n_samples, ), for example using ravel().\n",
      "  y = column_or_1d(y, warn=True)\n",
      "/home/bakirillov/anaconda3/envs/lapki/lib/python3.7/site-packages/sklearn/preprocessing/label.py:252: DataConversionWarning: A column-vector y was passed when a 1d array was expected. Please change the shape of y to (n_samples, ), for example using ravel().\n",
      "  y = column_or_1d(y, warn=True)\n",
      "/home/bakirillov/anaconda3/envs/lapki/lib/python3.7/site-packages/sklearn/linear_model/logistic.py:432: FutureWarning: Default solver will be changed to 'lbfgs' in 0.22. Specify a solver to silence this warning.\n",
      "  FutureWarning)\n",
      "/home/bakirillov/anaconda3/envs/lapki/lib/python3.7/site-packages/sklearn/preprocessing/_function_transformer.py:97: FutureWarning: The default validate=True will be replaced by validate=False in 0.22.\n",
      "  \"validate=False in 0.22.\", FutureWarning)\n",
      "/home/bakirillov/anaconda3/envs/lapki/lib/python3.7/site-packages/sklearn/preprocessing/_function_transformer.py:97: FutureWarning: The default validate=True will be replaced by validate=False in 0.22.\n",
      "  \"validate=False in 0.22.\", FutureWarning)\n",
      "/home/bakirillov/anaconda3/envs/lapki/lib/python3.7/site-packages/sklearn/preprocessing/_function_transformer.py:97: FutureWarning: The default validate=True will be replaced by validate=False in 0.22.\n",
      "  \"validate=False in 0.22.\", FutureWarning)\n",
      "/home/bakirillov/anaconda3/envs/lapki/lib/python3.7/site-packages/sklearn/preprocessing/_function_transformer.py:97: FutureWarning: The default validate=True will be replaced by validate=False in 0.22.\n",
      "  \"validate=False in 0.22.\", FutureWarning)\n",
      "  3%|▎         | 4/124 [00:00<00:03, 31.70it/s]"
     ]
    },
    {
     "name": "stdout",
     "output_type": "stream",
     "text": [
      "Testing 123.78515625\n"
     ]
    },
    {
     "name": "stderr",
     "output_type": "stream",
     "text": [
      "100%|██████████| 124/124 [00:03<00:00, 32.28it/s]"
     ]
    },
    {
     "name": "stdout",
     "output_type": "stream",
     "text": [
      "balaccs [1.0]\n"
     ]
    },
    {
     "name": "stderr",
     "output_type": "stream",
     "text": [
      "\n",
      "/home/bakirillov/anaconda3/envs/lapki/lib/python3.7/site-packages/sklearn/preprocessing/_function_transformer.py:97: FutureWarning: The default validate=True will be replaced by validate=False in 0.22.\n",
      "  \"validate=False in 0.22.\", FutureWarning)\n",
      "/home/bakirillov/anaconda3/envs/lapki/lib/python3.7/site-packages/sklearn/preprocessing/_function_transformer.py:97: FutureWarning: The default validate=True will be replaced by validate=False in 0.22.\n",
      "  \"validate=False in 0.22.\", FutureWarning)\n"
     ]
    }
   ],
   "source": [
    "training_loss = {}\n",
    "for i,a in enumerate(guides):\n",
    "    print(i, a, len(guides))\n",
    "    print(\"Making training set\")\n",
    "    encoder = GuideHN2d(\n",
    "        23, capsule_dimension=32, n_routes=1600, n_classes=5, n_channels=2,\n",
    "    ).cuda()\n",
    "    model = DKL(encoder, [1,5*32]).cuda().eval()\n",
    "    model.load_state_dict(torch.load(PRETRAINED_MODEL))\n",
    "    model.eval()\n",
    "    current_pairs = logo_set[a][\"training\"][0]\n",
    "    current_labels = logo_set[a][\"training\"][1]\n",
    "    print(\"Pairs in training set\", len(current_pairs))\n",
    "    print(\"Labels in training set\", np.unique(current_labels, return_counts=True))\n",
    "    X_sample_train, X_sample_test, y_sample_train, y_sample_test = train_test_split(\n",
    "        np.arange(len(current_pairs)), current_labels, stratify=current_labels\n",
    "    )\n",
    "    print(X_sample_test.shape)\n",
    "    fold = PengDataset(\n",
    "        current_pairs, current_labels, X_sample_test,\n",
    "        transform=transformer\n",
    "    )\n",
    "    fold_loader = DataLoader(fold, shuffle=True, batch_size=BATCH_SIZE)\n",
    "    print(\"Training of capsule network\", len(current_pairs)/BATCH_SIZE)\n",
    "    training_set = []\n",
    "    training_targets = []\n",
    "    for i,b in enumerate(fold_loader):\n",
    "        sequence, target = b\n",
    "        training_targets.append(target.cpu().data.numpy())\n",
    "        output = model(sequence)[0]\n",
    "        likelihood = model.likelihood(output)\n",
    "        prediction = likelihood.mean.mean(0).cpu().data.numpy()\n",
    "        upper = likelihood.confidence_region()[0].mean(0).cpu().data.numpy()\n",
    "        variance = ((upper-prediction)/2)**2\n",
    "        training_set.append([prediction, variance])\n",
    "    training_set = np.concatenate(training_set, 1).T\n",
    "    training_targets = np.concatenate(training_targets)\n",
    "    estimators = [\n",
    "        (\"lr\", LogisticRegression(C=0.1, dual=False, penalty=\"l1\")), \n",
    "        (\"dt\", DecisionTreeClassifier(criterion=\"entropy\", max_depth=4, min_samples_leaf=17, min_samples_split=6)),\n",
    "        (\"dt2\", DecisionTreeClassifier(criterion=\"gini\", max_depth=10, min_samples_leaf=13, min_samples_split=15)),\n",
    "        (\"bnb\", BernoulliNB(alpha=0.1, fit_prior=False)),\n",
    "        (\"pp\", make_pipeline(\n",
    "                make_union(\n",
    "                    FunctionTransformer(copy),\n",
    "                    FunctionTransformer(copy)\n",
    "                ),\n",
    "                KNeighborsClassifier(n_neighbors=71, p=1, weights=\"uniform\")\n",
    "            )\n",
    "        )\n",
    "    ]\n",
    "    classifier = VotingClassifier(estimators, voting=\"soft\")\n",
    "    #classifier = DecisionTreeClassifier(criterion=\"entropy\", max_depth=4, min_samples_leaf=17, min_samples_split=6)\n",
    "    #classifier = LogisticRegression(C=0.1, dual=False, penalty=\"l1\")\n",
    "    #classifier = DecisionTreeClassifier(criterion=\"gini\", max_depth=10, min_samples_leaf=13, min_samples_split=15)\n",
    "    #classifier = TPOTClassifier(population_size=20, generations=10, config_dict=\"TPOT light\")\n",
    "    #classifier = LogisticRegression(solver=\"lbfgs\", multi_class=\"auto\", class_weight=(0.02,0.98))#VotingClassifier(estimators, voting=\"soft\")\n",
    "    #classifier = AdaBoostClassifier(base_estimator=LogisticRegression())#BaggingClassifier()#GaussianProcessClassifier()#GaussianNB()#LogisticRegression(solver=\"lbfgs\", multi_class=\"auto\")\n",
    "    classifier.fit(training_set, training_targets.reshape(-1,1))\n",
    "    current_pairs_t = logo_set[a][\"testing\"][0]\n",
    "    current_labels_t = logo_set[a][\"testing\"][1]\n",
    "    test_fold = PengDataset(\n",
    "        current_pairs_t, current_labels_t, np.arange(len(current_pairs_t)),\n",
    "        transform=transformer\n",
    "    )\n",
    "    test_fold_loader = DataLoader(test_fold, shuffle=True, batch_size=256)\n",
    "    print(\"Testing\", len(current_pairs_t)/256)\n",
    "    testing_set = []\n",
    "    testing_targets = []\n",
    "    for sequence, target in tqdm(test_fold_loader):\n",
    "        sequence, target = b\n",
    "        testing_targets.append(target.cpu().data.numpy())\n",
    "        output = model(sequence)[0]\n",
    "        likelihood = model.likelihood(output)\n",
    "        prediction = likelihood.mean.mean(0).cpu().data.numpy()\n",
    "        upper = likelihood.confidence_region()[0].mean(0).cpu().data.numpy()\n",
    "        variance = ((upper-prediction)/2)**2\n",
    "        testing_set.append([prediction, variance])\n",
    "    testing_set = np.concatenate(testing_set, 1).T\n",
    "    testing_targets = np.concatenate(testing_targets)\n",
    "    testing_predictions = classifier.predict(testing_set)\n",
    "    balaccs[a].append(\n",
    "        balanced_accuracy_score(testing_targets, testing_predictions)\n",
    "    )\n",
    "    #classifier.export(\"tpot_hom_pipeline_\"+a+\".py\")\n",
    "    print(\n",
    "        \"balaccs\", balaccs[a]\n",
    "    )\n",
    "    del encoder\n",
    "    torch.cuda.empty_cache()"
   ]
  },
  {
   "cell_type": "code",
   "execution_count": null,
   "metadata": {},
   "outputs": [],
   "source": []
  },
  {
   "cell_type": "code",
   "execution_count": 44,
   "metadata": {},
   "outputs": [
    {
     "data": {
      "text/plain": [
       "0.9137931034482759"
      ]
     },
     "execution_count": 44,
     "metadata": {},
     "output_type": "execute_result"
    }
   ],
   "source": [
    "np.mean([balaccs[a][-1] for a in balaccs])"
   ]
  },
  {
   "cell_type": "code",
   "execution_count": 46,
   "metadata": {},
   "outputs": [
    {
     "data": {
      "text/plain": [
       "0.1888698474155745"
      ]
     },
     "execution_count": 46,
     "metadata": {},
     "output_type": "execute_result"
    }
   ],
   "source": [
    "np.std([balaccs[a][-1] for a in balaccs])"
   ]
  },
  {
   "cell_type": "code",
   "execution_count": 45,
   "metadata": {},
   "outputs": [
    {
     "data": {
      "text/plain": [
       "29"
      ]
     },
     "execution_count": 45,
     "metadata": {},
     "output_type": "execute_result"
    }
   ],
   "source": [
    "len(guides)"
   ]
  },
  {
   "cell_type": "code",
   "execution_count": 48,
   "metadata": {},
   "outputs": [],
   "source": [
    "goods=[\n",
    "    \"AAATGAGAAGAAGAGGCACAGGG\",\n",
    "    \"AACACCAGTGAGTAGAGCGGAGG\",\n",
    "    \"ATGAACACCAGTGAGTAGAGCGG\",\n",
    "    \"CCAGTGAGTAGAGCGGAGGCAGG\",\n",
    "    \"CCCTGTGTCTCTGGATGGATGGG\",\n",
    "    \"CCTGCCTCCGCTCTACTCACTGG\",\n",
    "    \"CTTGCCCCACAGGGCAGTAACGG\",\n",
    "    \"GAACACAAAGCATAGACTGCGGG\",\n",
    "    \"GAATCCTAAAAACTCTGCTTCGG\",\n",
    "    \"GACACCGAAGCAGAGTTTTTAGG\",\n",
    "    \"GACATCGATGTCCTCCCCATTGG\",\n",
    "    \"GCCTCCCCAAAGCCTGGCCAGGG\",\n",
    "    \"GCGCCACCGGTTGATGTGATGGG\",\n",
    "    \"GGAATCCCTTCTGCAGCACCTGG\",\n",
    "    \"GGCCAGGCTTTGGGGAGGCCTGG\",\n",
    "    \"GGCCCAGACTGAGCACGTGATGG\",\n",
    "    \"GGGAAAGACCCAGCATCCGTGGG\",\n",
    "    \"GGGTGGGGGGAGTTTGCTCCAGG\",\n",
    "    \"GGGTGGGGGGAGTTTGCTCCTGG\",\n",
    "    \"GGTCCTGCCGCTGCTTGTCATGG\",\n",
    "    \"GTCACCTCCAATGACTAGGGTGG\",\n",
    "    \"GTCATCTTAGTCATTACCTGAGG\",\n",
    "    \"TGACATCAATTATTATACATCGG\",\n",
    "    \"TGGATGGAGGAATGAGGAGTTGG\"\n",
    "]"
   ]
  },
  {
   "cell_type": "code",
   "execution_count": 49,
   "metadata": {},
   "outputs": [],
   "source": [
    "bads = [\n",
    "    \"GACCCCCTCCACCCCGCCTCCGG\",\n",
    "    \"AATGACCACTACATCCTCAAGGG\",\n",
    "    \"GAGTCCGAGCAGAAGAAGAAGGG\",\n",
    "    \"GGCACTGCGGCTGGAGGTGGGGG\",\n",
    "    \"GGTGAGTGAGTGTGTGCGTGTGG\"\n",
    "]"
   ]
  },
  {
   "cell_type": "code",
   "execution_count": 54,
   "metadata": {},
   "outputs": [],
   "source": [
    "import editdistance"
   ]
  },
  {
   "cell_type": "code",
   "execution_count": 57,
   "metadata": {},
   "outputs": [
    {
     "name": "stderr",
     "output_type": "stream",
     "text": [
      "0it [00:00, ?it/s]\n",
      "0it [00:00, ?it/s]\u001b[A\n",
      "29it [00:00, 31750.15it/s]\u001b[A\n",
      "0it [00:00, ?it/s]\u001b[A\n",
      "29it [00:00, 37751.34it/s]\u001b[A\n",
      "0it [00:00, ?it/s]\u001b[A\n",
      "29it [00:00, 29929.83it/s]\u001b[A\n",
      "0it [00:00, ?it/s]\u001b[A\n",
      "29it [00:00, 42425.82it/s]\u001b[A\n",
      "0it [00:00, ?it/s]\u001b[A\n",
      "29it [00:00, 41471.13it/s]\u001b[A\n",
      "0it [00:00, ?it/s]\u001b[A\n",
      "29it [00:00, 43612.34it/s]\u001b[A\n",
      "0it [00:00, ?it/s]\u001b[A\n",
      "29it [00:00, 59046.03it/s]\u001b[A\n",
      "0it [00:00, ?it/s]\u001b[A\n",
      "29it [00:00, 60274.93it/s]\u001b[A\n",
      "0it [00:00, ?it/s]\u001b[A\n",
      "29it [00:00, 72748.10it/s]\u001b[A\n",
      "0it [00:00, ?it/s]\u001b[A\n",
      "29it [00:00, 88784.54it/s]\u001b[A\n",
      "0it [00:00, ?it/s]\u001b[A\n",
      "29it [00:00, 79551.87it/s]\u001b[A\n",
      "0it [00:00, ?it/s]\u001b[A\n",
      "29it [00:00, 82970.54it/s]\u001b[A\n",
      "0it [00:00, ?it/s]\u001b[A\n",
      "29it [00:00, 65080.16it/s]\u001b[A\n",
      "0it [00:00, ?it/s]\u001b[A\n",
      "29it [00:00, 65926.73it/s]\u001b[A\n",
      "0it [00:00, ?it/s]\u001b[A\n",
      "29it [00:00, 80606.24it/s]\u001b[A\n",
      "0it [00:00, ?it/s]\u001b[A\n",
      "29it [00:00, 77425.09it/s]\u001b[A\n",
      "0it [00:00, ?it/s]\u001b[A\n",
      "29it [00:00, 78830.08it/s]\u001b[A\n",
      "0it [00:00, ?it/s]\u001b[A\n",
      "29it [00:00, 60007.31it/s]\u001b[A\n",
      "0it [00:00, ?it/s]\u001b[A\n",
      "29it [00:00, 66034.10it/s]\u001b[A\n",
      "0it [00:00, ?it/s]\u001b[A\n",
      "29it [00:00, 75315.68it/s]\u001b[A\n",
      "0it [00:00, ?it/s]\u001b[A\n",
      "29it [00:00, 65395.06it/s]\u001b[A\n",
      "0it [00:00, ?it/s]\u001b[A\n",
      "29it [00:00, 72748.10it/s]\u001b[A\n",
      "0it [00:00, ?it/s]\u001b[A\n",
      "29it [00:00, 74167.57it/s]\u001b[A\n",
      "0it [00:00, ?it/s]\u001b[A\n",
      "29it [00:00, 69545.35it/s]\u001b[A\n",
      "0it [00:00, ?it/s]\u001b[A\n",
      "29it [00:00, 88333.20it/s]\u001b[A\n",
      "0it [00:00, ?it/s]\u001b[A\n",
      "29it [00:00, 91661.50it/s]\u001b[A\n",
      "0it [00:00, ?it/s]\u001b[A\n",
      "29it [00:00, 66069.97it/s]\u001b[A\n",
      "0it [00:00, ?it/s]\u001b[A\n",
      "29it [00:00, 89833.69it/s]\u001b[A\n",
      "0it [00:00, ?it/s]\u001b[A\n",
      "29it [00:00, 425.66it/s]s]\u001b[A\n"
     ]
    }
   ],
   "source": [
    "ed = np.zeros(shape=(29,29))\n",
    "for i,a in tqdm(enumerate(goods+bads)):\n",
    "    for j,b in tqdm(enumerate(goods+bads)):\n",
    "        ed[i,j] = editdistance.eval(a, b)"
   ]
  },
  {
   "cell_type": "code",
   "execution_count": 59,
   "metadata": {},
   "outputs": [
    {
     "data": {
      "text/plain": [
       "<matplotlib.image.AxesImage at 0x7fe0c253a5d0>"
      ]
     },
     "execution_count": 59,
     "metadata": {},
     "output_type": "execute_result"
    },
    {
     "data": {
      "image/png": "[encoded data removed]",
      "text/plain": [
       "<Figure size 432x288 with 1 Axes>"
      ]
     },
     "metadata": {
      "needs_background": "light"
     },
     "output_type": "display_data"
    }
   ],
   "source": [
    "plt.imshow(ed)"
   ]
  },
  {
   "cell_type": "code",
   "execution_count": 71,
   "metadata": {},
   "outputs": [],
   "source": [
    "import scipy.spatial.distance as ssd\n",
    "from scipy.cluster.hierarchy import linkage, dendrogram"
   ]
  },
  {
   "cell_type": "code",
   "execution_count": 74,
   "metadata": {},
   "outputs": [],
   "source": [
    "l = linkage(ssd.squareform(ed), method=\"ward\")"
   ]
  },
  {
   "cell_type": "code",
   "execution_count": 75,
   "metadata": {},
   "outputs": [
    {
     "data": {
      "text/plain": [
       "{'icoord': [[5.0, 5.0, 15.0, 15.0],\n",
       "  [25.0, 25.0, 35.0, 35.0],\n",
       "  [10.0, 10.0, 30.0, 30.0],\n",
       "  [45.0, 45.0, 55.0, 55.0],\n",
       "  [75.0, 75.0, 85.0, 85.0],\n",
       "  [65.0, 65.0, 80.0, 80.0],\n",
       "  [50.0, 50.0, 72.5, 72.5],\n",
       "  [105.0, 105.0, 115.0, 115.0],\n",
       "  [95.0, 95.0, 110.0, 110.0],\n",
       "  [125.0, 125.0, 135.0, 135.0],\n",
       "  [155.0, 155.0, 165.0, 165.0],\n",
       "  [145.0, 145.0, 160.0, 160.0],\n",
       "  [130.0, 130.0, 152.5, 152.5],\n",
       "  [102.5, 102.5, 141.25, 141.25],\n",
       "  [61.25, 61.25, 121.875, 121.875],\n",
       "  [185.0, 185.0, 195.0, 195.0],\n",
       "  [175.0, 175.0, 190.0, 190.0],\n",
       "  [205.0, 205.0, 215.0, 215.0],\n",
       "  [182.5, 182.5, 210.0, 210.0],\n",
       "  [235.0, 235.0, 245.0, 245.0],\n",
       "  [225.0, 225.0, 240.0, 240.0],\n",
       "  [255.0, 255.0, 265.0, 265.0],\n",
       "  [275.0, 275.0, 285.0, 285.0],\n",
       "  [260.0, 260.0, 280.0, 280.0],\n",
       "  [232.5, 232.5, 270.0, 270.0],\n",
       "  [196.25, 196.25, 251.25, 251.25],\n",
       "  [91.5625, 91.5625, 223.75, 223.75],\n",
       "  [20.0, 20.0, 157.65625, 157.65625]],\n",
       " 'dcoord': [[0.0, 1.0, 1.0, 0.0],\n",
       "  [0.0, 9.0, 9.0, 0.0],\n",
       "  [1.0, 13.490737563232042, 13.490737563232042, 9.0],\n",
       "  [0.0, 8.0, 8.0, 0.0],\n",
       "  [0.0, 10.0, 10.0, 0.0],\n",
       "  [0.0, 11.972189997378646, 11.972189997378646, 10.0],\n",
       "  [8.0, 13.559744343705994, 13.559744343705994, 11.972189997378646],\n",
       "  [0.0, 9.0, 9.0, 0.0],\n",
       "  [0.0, 11.590225767142472, 11.590225767142472, 9.0],\n",
       "  [0.0, 10.0, 10.0, 0.0],\n",
       "  [0.0, 9.0, 9.0, 0.0],\n",
       "  [0.0, 10.969655114602888, 10.969655114602888, 9.0],\n",
       "  [10.0, 14.348054455802245, 14.348054455802245, 10.969655114602888],\n",
       "  [11.590225767142472,\n",
       "   16.19310552879424,\n",
       "   16.19310552879424,\n",
       "   14.348054455802245],\n",
       "  [13.559744343705994,\n",
       "   17.304179130620895,\n",
       "   17.304179130620895,\n",
       "   16.19310552879424],\n",
       "  [0.0, 9.0, 9.0, 0.0],\n",
       "  [0.0, 10.311805532172013, 10.311805532172013, 9.0],\n",
       "  [0.0, 11.0, 11.0, 0.0],\n",
       "  [10.311805532172013, 14.215015535224245, 14.215015535224245, 11.0],\n",
       "  [0.0, 8.0, 8.0, 0.0],\n",
       "  [0.0, 11.888369666751338, 11.888369666751338, 8.0],\n",
       "  [0.0, 6.0, 6.0, 0.0],\n",
       "  [0.0, 9.0, 9.0, 0.0],\n",
       "  [6.0, 12.78671185254442, 12.78671185254442, 9.0],\n",
       "  [11.888369666751338,\n",
       "   14.857257325566355,\n",
       "   14.857257325566355,\n",
       "   12.78671185254442],\n",
       "  [14.215015535224245,\n",
       "   20.44574702544692,\n",
       "   20.44574702544692,\n",
       "   14.857257325566355],\n",
       "  [17.304179130620895, 21.5484427422351, 21.5484427422351, 20.44574702544692],\n",
       "  [13.490737563232042,\n",
       "   23.173349734793074,\n",
       "   23.173349734793074,\n",
       "   21.5484427422351]],\n",
       " 'ivl': ['17',\n",
       "  '18',\n",
       "  '23',\n",
       "  '28',\n",
       "  '5',\n",
       "  '19',\n",
       "  '6',\n",
       "  '11',\n",
       "  '20',\n",
       "  '13',\n",
       "  '15',\n",
       "  '16',\n",
       "  '3',\n",
       "  '14',\n",
       "  '4',\n",
       "  '12',\n",
       "  '27',\n",
       "  '21',\n",
       "  '10',\n",
       "  '22',\n",
       "  '8',\n",
       "  '24',\n",
       "  '25',\n",
       "  '0',\n",
       "  '26',\n",
       "  '1',\n",
       "  '2',\n",
       "  '7',\n",
       "  '9'],\n",
       " 'leaves': [17,\n",
       "  18,\n",
       "  23,\n",
       "  28,\n",
       "  5,\n",
       "  19,\n",
       "  6,\n",
       "  11,\n",
       "  20,\n",
       "  13,\n",
       "  15,\n",
       "  16,\n",
       "  3,\n",
       "  14,\n",
       "  4,\n",
       "  12,\n",
       "  27,\n",
       "  21,\n",
       "  10,\n",
       "  22,\n",
       "  8,\n",
       "  24,\n",
       "  25,\n",
       "  0,\n",
       "  26,\n",
       "  1,\n",
       "  2,\n",
       "  7,\n",
       "  9],\n",
       " 'color_list': ['g',\n",
       "  'g',\n",
       "  'g',\n",
       "  'r',\n",
       "  'r',\n",
       "  'r',\n",
       "  'r',\n",
       "  'c',\n",
       "  'c',\n",
       "  'c',\n",
       "  'c',\n",
       "  'c',\n",
       "  'c',\n",
       "  'c',\n",
       "  'b',\n",
       "  'm',\n",
       "  'm',\n",
       "  'm',\n",
       "  'm',\n",
       "  'y',\n",
       "  'y',\n",
       "  'y',\n",
       "  'y',\n",
       "  'y',\n",
       "  'y',\n",
       "  'b',\n",
       "  'b',\n",
       "  'b']}"
      ]
     },
     "execution_count": 75,
     "metadata": {},
     "output_type": "execute_result"
    },
    {
     "data": {
      "image/png": "[encoded data removed]",
      "text/plain": [
       "<Figure size 432x288 with 1 Axes>"
      ]
     },
     "metadata": {
      "needs_background": "light"
     },
     "output_type": "display_data"
    }
   ],
   "source": [
    "dendrogram(l)"
   ]
  }
 ],
 "metadata": {
  "kernelspec": {
   "display_name": "Python 3",
   "language": "python",
   "name": "python3"
  },
  "language_info": {
   "codemirror_mode": {
    "name": "ipython",
    "version": 3
   },
   "file_extension": ".py",
   "mimetype": "text/x-python",
   "name": "python",
   "nbconvert_exporter": "python",
   "pygments_lexer": "ipython3",
   "version": "3.7.5"
  }
 },
 "nbformat": 4,
 "nbformat_minor": 2
}
