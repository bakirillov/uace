{
 "cells": [
  {
   "cell_type": "code",
   "execution_count": 1,
   "id": "sensitive-brazilian",
   "metadata": {},
   "outputs": [],
   "source": [
    "import numpy as np\n",
    "import pandas as pd"
   ]
  },
  {
   "cell_type": "code",
   "execution_count": 2,
   "id": "intimate-dispute",
   "metadata": {},
   "outputs": [],
   "source": [
    "np.random.seed(1000)"
   ]
  },
  {
   "cell_type": "code",
   "execution_count": 3,
   "id": "brutal-nightmare",
   "metadata": {},
   "outputs": [],
   "source": [
    "MODEL_PATH = \"../results/Chr22/DeepHF/WT/_models_DeepHF_WT_CNN59.tsv\""
   ]
  },
  {
   "cell_type": "code",
   "execution_count": 4,
   "id": "identified-feeling",
   "metadata": {},
   "outputs": [],
   "source": [
    "top10 = pd.read_csv(MODEL_PATH, sep=\"\\t\", index_col=0).dropna()"
   ]
  },
  {
   "cell_type": "code",
   "execution_count": 5,
   "id": "local-panic",
   "metadata": {},
   "outputs": [],
   "source": [
    "numbers = np.random.permutation(np.arange(top10.shape[0]))[0:1000]"
   ]
  },
  {
   "cell_type": "code",
   "execution_count": 6,
   "id": "constant-excellence",
   "metadata": {},
   "outputs": [],
   "source": [
    "ST6 = top10.iloc[numbers]"
   ]
  },
  {
   "cell_type": "code",
   "execution_count": 7,
   "id": "capable-coast",
   "metadata": {},
   "outputs": [],
   "source": [
    "del ST6[\"0\"]\n",
    "del ST6[\"1\"]\n",
    "del ST6[\"2\"]\n",
    "del ST6[\"7\"]\n",
    "del ST6[\"3\"]\n",
    "del ST6[\"6\"]"
   ]
  },
  {
   "cell_type": "code",
   "execution_count": 8,
   "id": "italic-handy",
   "metadata": {
    "scrolled": false
   },
   "outputs": [
    {
     "data": {
      "text/html": [
       "<div>\n",
       "<style scoped>\n",
       "    .dataframe tbody tr th:only-of-type {\n",
       "        vertical-align: middle;\n",
       "    }\n",
       "\n",
       "    .dataframe tbody tr th {\n",
       "        vertical-align: top;\n",
       "    }\n",
       "\n",
       "    .dataframe thead th {\n",
       "        text-align: right;\n",
       "    }\n",
       "</style>\n",
       "<table border=\"1\" class=\"dataframe\">\n",
       "  <thead>\n",
       "    <tr style=\"text-align: right;\">\n",
       "      <th></th>\n",
       "      <th>4</th>\n",
       "      <th>5</th>\n",
       "      <th>8</th>\n",
       "      <th>9</th>\n",
       "    </tr>\n",
       "  </thead>\n",
       "  <tbody>\n",
       "    <tr>\n",
       "      <th>33</th>\n",
       "      <td>TTGCCCAGGCTGGAGTGCTGTGG</td>\n",
       "      <td>-</td>\n",
       "      <td>0.864041</td>\n",
       "      <td>0.010925</td>\n",
       "    </tr>\n",
       "    <tr>\n",
       "      <th>93</th>\n",
       "      <td>AAGAAGAAGATCCTTAACCCTGG</td>\n",
       "      <td>-</td>\n",
       "      <td>0.914644</td>\n",
       "      <td>0.011003</td>\n",
       "    </tr>\n",
       "    <tr>\n",
       "      <th>27</th>\n",
       "      <td>GACTGGGAATGATCCCGAGGAGG</td>\n",
       "      <td>+</td>\n",
       "      <td>0.904177</td>\n",
       "      <td>0.010958</td>\n",
       "    </tr>\n",
       "    <tr>\n",
       "      <th>73</th>\n",
       "      <td>AGGCTTGAACGACTATTGCAGGG</td>\n",
       "      <td>+</td>\n",
       "      <td>0.923081</td>\n",
       "      <td>0.011090</td>\n",
       "    </tr>\n",
       "    <tr>\n",
       "      <th>10</th>\n",
       "      <td>AATGGGATGTGAGTTCACAGGGG</td>\n",
       "      <td>+</td>\n",
       "      <td>0.928588</td>\n",
       "      <td>0.011264</td>\n",
       "    </tr>\n",
       "    <tr>\n",
       "      <th>...</th>\n",
       "      <td>...</td>\n",
       "      <td>...</td>\n",
       "      <td>...</td>\n",
       "      <td>...</td>\n",
       "    </tr>\n",
       "    <tr>\n",
       "      <th>80</th>\n",
       "      <td>CAGAATGAGGAGCAGATGGAAGG</td>\n",
       "      <td>-</td>\n",
       "      <td>0.916951</td>\n",
       "      <td>0.011016</td>\n",
       "    </tr>\n",
       "    <tr>\n",
       "      <th>2</th>\n",
       "      <td>TGGCATCTACAGTGAAGGGAGGG</td>\n",
       "      <td>+</td>\n",
       "      <td>0.929785</td>\n",
       "      <td>0.011507</td>\n",
       "    </tr>\n",
       "    <tr>\n",
       "      <th>19</th>\n",
       "      <td>TTCACCTGATACTCTCCCACTGG</td>\n",
       "      <td>-</td>\n",
       "      <td>0.838853</td>\n",
       "      <td>0.010924</td>\n",
       "    </tr>\n",
       "    <tr>\n",
       "      <th>97</th>\n",
       "      <td>CTTTCTCTAGGAGCTAAGGATGG</td>\n",
       "      <td>+</td>\n",
       "      <td>0.512921</td>\n",
       "      <td>0.010997</td>\n",
       "    </tr>\n",
       "    <tr>\n",
       "      <th>15</th>\n",
       "      <td>GAGGGACTGAAACCAGGATGTGG</td>\n",
       "      <td>+</td>\n",
       "      <td>0.928184</td>\n",
       "      <td>0.011232</td>\n",
       "    </tr>\n",
       "  </tbody>\n",
       "</table>\n",
       "<p>1000 rows × 4 columns</p>\n",
       "</div>"
      ],
      "text/plain": [
       "                          4  5         8         9\n",
       "33  TTGCCCAGGCTGGAGTGCTGTGG  -  0.864041  0.010925\n",
       "93  AAGAAGAAGATCCTTAACCCTGG  -  0.914644  0.011003\n",
       "27  GACTGGGAATGATCCCGAGGAGG  +  0.904177  0.010958\n",
       "73  AGGCTTGAACGACTATTGCAGGG  +  0.923081  0.011090\n",
       "10  AATGGGATGTGAGTTCACAGGGG  +  0.928588  0.011264\n",
       "..                      ... ..       ...       ...\n",
       "80  CAGAATGAGGAGCAGATGGAAGG  -  0.916951  0.011016\n",
       "2   TGGCATCTACAGTGAAGGGAGGG  +  0.929785  0.011507\n",
       "19  TTCACCTGATACTCTCCCACTGG  -  0.838853  0.010924\n",
       "97  CTTTCTCTAGGAGCTAAGGATGG  +  0.512921  0.010997\n",
       "15  GAGGGACTGAAACCAGGATGTGG  +  0.928184  0.011232\n",
       "\n",
       "[1000 rows x 4 columns]"
      ]
     },
     "execution_count": 8,
     "metadata": {},
     "output_type": "execute_result"
    }
   ],
   "source": [
    "ST6"
   ]
  },
  {
   "cell_type": "code",
   "execution_count": 9,
   "id": "mexican-mouth",
   "metadata": {},
   "outputs": [],
   "source": [
    "ST6.columns = [\"gRNA\", \"strand\", \"mean\", \"std\"]"
   ]
  },
  {
   "cell_type": "code",
   "execution_count": 10,
   "id": "exact-scott",
   "metadata": {},
   "outputs": [],
   "source": [
    "ST6.to_csv(\"ST6.tsv\", sep=\"\\t\")"
   ]
  }
 ],
 "metadata": {
  "kernelspec": {
   "display_name": "Python 3",
   "language": "python",
   "name": "python3"
  },
  "language_info": {
   "codemirror_mode": {
    "name": "ipython",
    "version": 3
   },
   "file_extension": ".py",
   "mimetype": "text/x-python",
   "name": "python",
   "nbconvert_exporter": "python",
   "pygments_lexer": "ipython3",
   "version": "3.8.5"
  }
 },
 "nbformat": 4,
 "nbformat_minor": 5
}
