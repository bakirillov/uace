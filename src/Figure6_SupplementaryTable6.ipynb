{
 "cells": [
  {
   "cell_type": "code",
   "execution_count": 1,
   "id": "annoying-implementation",
   "metadata": {},
   "outputs": [],
   "source": [
    "import os\n",
    "import umap\n",
    "import json\n",
    "import torch\n",
    "import itertools\n",
    "from core import *\n",
    "import numpy as np\n",
    "import pandas as pd\n",
    "import pickle as pkl\n",
    "from torch import nn\n",
    "import os.path as op\n",
    "from tqdm import tqdm\n",
    "from time import time\n",
    "from Bio import SeqIO\n",
    "from copy import deepcopy\n",
    "from pylab import rcParams\n",
    "from torch.optim import Adam\n",
    "from tpot import TPOTRegressor\n",
    "import torch.nn.functional as F\n",
    "import matplotlib.pyplot as plt\n",
    "from capsules.capsules import *\n",
    "from IPython.display import Image\n",
    "from matplotlib.lines import Line2D\n",
    "from torch.autograd import Variable\n",
    "from matplotlib.patches import Patch\n",
    "from scipy.stats import spearmanr, pearsonr\n",
    "from sklearn.model_selection import train_test_split, StratifiedKFold\n",
    "from sklearn.metrics import mean_absolute_error, mean_squared_error, median_absolute_error\n",
    "from sklearn.metrics import accuracy_score, matthews_corrcoef, precision_score, recall_score"
   ]
  },
  {
   "cell_type": "code",
   "execution_count": 3,
   "id": "steady-rings",
   "metadata": {},
   "outputs": [],
   "source": [
    "ST5 = pd.read_excel(\n",
    "    \"SupplementaryTable5.xlsx\", index_col=0, engine=\"openpyxl\"\n",
    ")"
   ]
  },
  {
   "cell_type": "code",
   "execution_count": 5,
   "id": "wicked-durham",
   "metadata": {},
   "outputs": [],
   "source": [
    "out = \"\"\n",
    "for a in ST5[\"gRNA\"]:\n",
    "    for i in range(1, 7):\n",
    "        out += a+\" \"+str(i)+\"\\n\""
   ]
  },
  {
   "cell_type": "code",
   "execution_count": 41,
   "id": "boxed-chance",
   "metadata": {},
   "outputs": [],
   "source": [
    "with open(\"config.json\", \"r\") as ih:\n",
    "    cfg = json.loads(ih.read())"
   ]
  },
  {
   "cell_type": "code",
   "execution_count": 42,
   "id": "infinite-thesis",
   "metadata": {},
   "outputs": [
    {
     "data": {
      "text/plain": [
       "{'JostEtAlDatasetPath': '/home/bakirillov/Data/Svetlana_data/Table_S8_machine_learning_input.txt',\n",
       " 'DEEPHFPATH': '/home/bakirillov/Data/CRISPR-CAD/DeepHF/41467_2019_12281_MOESM3_ESM.xlsx',\n",
       " 'T3619PATH': '/home/bakirillov/Data/CRISPR-CAD/geCRISPR/Training-Testing_dataset-T3619',\n",
       " 'V520PATH': '/home/bakirillov/Data/CRISPR-CAD/geCRISPR/Validation_dataset-V520',\n",
       " 'DeepCRISPRPath': '/home/bakirillov/Data/CRISPR-CAD/DeepCRISPR',\n",
       " 'DeepCpf1KimPath': '/home/bakirillov/Data/CRISPR-CAD/DeepCpf1/',\n",
       " 'batch_size': 256,\n",
       " 'epochs': 60,\n",
       " 'Chr22_annotation': '/home/bakirillov/Data/genomes/annotation.csv',\n",
       " 'Chr22_genome': '/home/bakirillov/Data/genomes/chr22.fa',\n",
       " 'Chr22_intermediate': '/home/bakirillov/Data/chr22_intermediate/',\n",
       " 'CASOFFINDERPATH': '/home/bakirillov/Apps/cas-offinder',\n",
       " 'Cpf1OfftargetPath': '/home/bakirillov/Data/CRISPR-CAD/CINDEL/data.xlsx'}"
      ]
     },
     "execution_count": 42,
     "metadata": {},
     "output_type": "execute_result"
    }
   ],
   "source": [
    "cfg"
   ]
  },
  {
   "cell_type": "code",
   "execution_count": 7,
   "id": "turned-brazilian",
   "metadata": {},
   "outputs": [],
   "source": [
    "GENESDIR = \"/home/bakirillov/Works/Skoltech/CRISPR_CAD/uace/results/Chr22/DeepHF/WT/chr22_genes/\"\n",
    "CASOFFCONFIGS = \"/home/bakirillov/Works/Skoltech/CRISPR_CAD/uace/results/Chr22/OT_1000/chr22_casoffinder_configs/\"\n",
    "GRNADIR = \"/home/bakirillov/Works/Skoltech/CRISPR_CAD/uace/results/Chr22/OT_1000/chr22_grnas/\"\n",
    "ORDDIR = \"/home/bakirillov/Works/Skoltech/CRISPR_CAD/uace/results/Chr22/OT_1000/chr22_ordered/\""
   ]
  },
  {
   "cell_type": "code",
   "execution_count": 8,
   "id": "sharing-thirty",
   "metadata": {},
   "outputs": [],
   "source": [
    "if not op.exists(CASOFFCONFIGS):\n",
    "    os.makedirs(CASOFFCONFIGS)\n",
    "if not op.exists(GRNADIR):\n",
    "    os.makedirs(GRNADIR)\n",
    "if not op.exists(ORDDIR):\n",
    "    os.makedirs(ORDDIR)"
   ]
  },
  {
   "cell_type": "code",
   "execution_count": 43,
   "id": "portable-packing",
   "metadata": {},
   "outputs": [],
   "source": [
    "TEMPLATE = GENESDIR+\"GENE\\nNNNNNNNNNNNNNNNNNNNNNGG\\n\"+out\n",
    "COMMAND = \"CASOFFINDERPATH CONFIG G OUTPUT\".replace(\n",
    "    \"CASOFFINDERPATH\", cfg[\"CASOFFINDERPATH\"]\n",
    ")"
   ]
  },
  {
   "cell_type": "code",
   "execution_count": 14,
   "id": "surgical-oxygen",
   "metadata": {},
   "outputs": [],
   "source": [
    "DATAPATH = \"/home/bakirillov/Data/genomes/all_guides_chr22.tsv\"\n",
    "ANNOTATION = \"/home/bakirillov/Data/genomes/annotation.csv\""
   ]
  },
  {
   "cell_type": "code",
   "execution_count": 15,
   "id": "alien-philippines",
   "metadata": {},
   "outputs": [],
   "source": [
    "annotation = pd.read_csv(ANNOTATION, header=1)[[\"Start\", \"Stop\", \"Gene symbol\"]]\n",
    "annotation = list(\n",
    "    zip(\n",
    "        annotation[\"Start\"].values, annotation[\"Stop\"].values, \n",
    "        annotation[\"Gene symbol\"].values\n",
    "    )\n",
    ")\n",
    "annotation = sorted(annotation, key=lambda x: x[0])"
   ]
  },
  {
   "cell_type": "code",
   "execution_count": 16,
   "id": "sophisticated-diagnosis",
   "metadata": {},
   "outputs": [
    {
     "name": "stderr",
     "output_type": "stream",
     "text": [
      "100%|██████████| 1186/1186 [00:00<00:00, 5118.85it/s]\n"
     ]
    }
   ],
   "source": [
    "script = open(\"run_casoffinder_Figure6.sh\", \"w\")\n",
    "script.write(\"#!/bin/sh\\n\\n\")\n",
    "for _, _, gene in tqdm(annotation):\n",
    "    with open(op.join(CASOFFCONFIGS, gene+\".txt\"), \"w\") as oh:\n",
    "        oh.write(TEMPLATE.replace(\"GENE\", gene+\".fa\"))\n",
    "    script.write(\n",
    "        COMMAND.replace(\n",
    "            \"CONFIG\", op.join(CASOFFCONFIGS, gene+\".txt\")\n",
    "        ).replace(\n",
    "            \"OUTPUT\", op.join(GRNADIR, gene+\".tsv\")\n",
    "        )+\"\\n\"\n",
    "    )\n",
    "script.close()"
   ]
  },
  {
   "cell_type": "markdown",
   "id": "naughty-pharmacology",
   "metadata": {},
   "source": [
    "###### Now run run_casoffinder_Figure6.sh"
   ]
  },
  {
   "cell_type": "code",
   "execution_count": 17,
   "id": "first-parent",
   "metadata": {},
   "outputs": [],
   "source": [
    "u = ImperfectMatchTransform(\"NGG\", False, False, fold=False, cut_at_start=0, cut_at_end=0)\n",
    "transformer = transforms.Compose(\n",
    "    [\n",
    "        u, ToTensor(cudap=True)\n",
    "    ]\n",
    ")"
   ]
  },
  {
   "cell_type": "code",
   "execution_count": 18,
   "id": "severe-caribbean",
   "metadata": {},
   "outputs": [],
   "source": [
    "w_encoder = GuideHN2d(\n",
    "    23, capsule_dimension=32, n_routes=1600, n_classes=5, n_channels=2,\n",
    ").cuda()\n",
    "w_model = DKL(w_encoder, [1,5*32]).cuda().eval()\n",
    "w_model.load_state_dict(torch.load(\"../models/JostEtAl/model59.ptch\"))\n",
    "w_model = w_model.eval()"
   ]
  },
  {
   "cell_type": "code",
   "execution_count": 19,
   "id": "seasonal-hollow",
   "metadata": {},
   "outputs": [],
   "source": [
    "data = np.array(\n",
    "    [a for a in os.walk(GRNADIR)][0][2]\n",
    ")\n",
    "sizes = np.array(\n",
    "    [op.getsize(op.join(GRNADIR, a)) for a in data]\n",
    ")"
   ]
  },
  {
   "cell_type": "code",
   "execution_count": 20,
   "id": "resistant-radiation",
   "metadata": {
    "scrolled": true
   },
   "outputs": [
    {
     "name": "stderr",
     "output_type": "stream",
     "text": [
      "\r",
      "  0%|          | 0/1 [00:00<?, ?it/s]"
     ]
    },
    {
     "name": "stdout",
     "output_type": "stream",
     "text": [
      "0 (113, 7)\n"
     ]
    },
    {
     "name": "stderr",
     "output_type": "stream",
     "text": [
      "100%|██████████| 1/1 [00:00<00:00,  1.50it/s]\n",
      " 50%|█████     | 1/2 [00:00<00:00,  6.90it/s]"
     ]
    },
    {
     "name": "stdout",
     "output_type": "stream",
     "text": [
      "1 (356, 7)\n"
     ]
    },
    {
     "name": "stderr",
     "output_type": "stream",
     "text": [
      "100%|██████████| 2/2 [00:00<00:00,  9.31it/s]\n",
      "100%|██████████| 1/1 [00:00<00:00, 36.24it/s]\n",
      " 50%|█████     | 1/2 [00:00<00:00,  6.96it/s]"
     ]
    },
    {
     "name": "stdout",
     "output_type": "stream",
     "text": [
      "2 (11, 7)\n",
      "3 (323, 7)\n"
     ]
    },
    {
     "name": "stderr",
     "output_type": "stream",
     "text": [
      "100%|██████████| 2/2 [00:00<00:00, 10.17it/s]\n",
      "100%|██████████| 1/1 [00:00<00:00, 45.61it/s]\n",
      " 25%|██▌       | 1/4 [00:00<00:00,  6.85it/s]"
     ]
    },
    {
     "name": "stdout",
     "output_type": "stream",
     "text": [
      "4 (10, 7)\n",
      "5 (956, 7)\n"
     ]
    },
    {
     "name": "stderr",
     "output_type": "stream",
     "text": [
      "100%|██████████| 4/4 [00:00<00:00,  7.23it/s]\n",
      "100%|██████████| 1/1 [00:00<00:00, 20.81it/s]\n",
      " 11%|█         | 1/9 [00:00<00:01,  7.01it/s]"
     ]
    },
    {
     "name": "stdout",
     "output_type": "stream",
     "text": [
      "6 (58, 7)\n",
      "7 (2174, 7)\n"
     ]
    },
    {
     "name": "stderr",
     "output_type": "stream",
     "text": [
      "100%|██████████| 9/9 [00:01<00:00,  7.32it/s]\n",
      "100%|██████████| 1/1 [00:00<00:00, 27.29it/s]\n",
      "  3%|▎         | 1/30 [00:00<00:04,  7.14it/s]"
     ]
    },
    {
     "name": "stdout",
     "output_type": "stream",
     "text": [
      "8 (38, 7)\n",
      "9 (7533, 7)\n"
     ]
    },
    {
     "name": "stderr",
     "output_type": "stream",
     "text": [
      "100%|██████████| 30/30 [00:04<00:00,  7.08it/s]\n",
      "100%|██████████| 1/1 [00:00<00:00, 52.16it/s]\n",
      " 14%|█▍        | 1/7 [00:00<00:00,  7.19it/s]"
     ]
    },
    {
     "name": "stdout",
     "output_type": "stream",
     "text": [
      "10 (6, 7)\n",
      "11 (1629, 7)\n"
     ]
    },
    {
     "name": "stderr",
     "output_type": "stream",
     "text": [
      "100%|██████████| 7/7 [00:00<00:00,  7.43it/s]\n",
      "100%|██████████| 1/1 [00:00<00:00, 12.54it/s]\n",
      "  0%|          | 0/11 [00:00<?, ?it/s]"
     ]
    },
    {
     "name": "stdout",
     "output_type": "stream",
     "text": [
      "12 (125, 7)\n",
      "13 (2568, 7)\n"
     ]
    },
    {
     "name": "stderr",
     "output_type": "stream",
     "text": [
      "100%|██████████| 11/11 [00:01<00:00,  7.62it/s]\n",
      "  5%|▍         | 1/21 [00:00<00:03,  6.51it/s]"
     ]
    },
    {
     "name": "stdout",
     "output_type": "stream",
     "text": [
      "14 (5295, 7)\n"
     ]
    },
    {
     "name": "stderr",
     "output_type": "stream",
     "text": [
      "100%|██████████| 21/21 [00:04<00:00,  5.07it/s]\n",
      "100%|██████████| 1/1 [00:00<00:00, 21.10it/s]\n",
      "  0%|          | 0/9 [00:00<?, ?it/s]"
     ]
    },
    {
     "name": "stdout",
     "output_type": "stream",
     "text": [
      "15 (26, 7)\n",
      "16 (2222, 7)\n"
     ]
    },
    {
     "name": "stderr",
     "output_type": "stream",
     "text": [
      "100%|██████████| 9/9 [00:02<00:00,  3.85it/s]\n",
      "100%|██████████| 1/1 [00:00<00:00, 25.00it/s]\n",
      "  0%|          | 0/2 [00:00<?, ?it/s]"
     ]
    },
    {
     "name": "stdout",
     "output_type": "stream",
     "text": [
      "17 (14, 7)\n",
      "18 (482, 7)\n"
     ]
    },
    {
     "name": "stderr",
     "output_type": "stream",
     "text": [
      "100%|██████████| 2/2 [00:00<00:00,  4.06it/s]\n",
      "  0%|          | 0/2 [00:00<?, ?it/s]"
     ]
    },
    {
     "name": "stdout",
     "output_type": "stream",
     "text": [
      "19 (368, 7)\n"
     ]
    },
    {
     "name": "stderr",
     "output_type": "stream",
     "text": [
      "100%|██████████| 2/2 [00:00<00:00,  5.29it/s]\n",
      "  0%|          | 0/3 [00:00<?, ?it/s]"
     ]
    },
    {
     "name": "stdout",
     "output_type": "stream",
     "text": [
      "20 (542, 7)\n"
     ]
    },
    {
     "name": "stderr",
     "output_type": "stream",
     "text": [
      "100%|██████████| 3/3 [00:00<00:00,  5.66it/s]\n",
      "100%|██████████| 1/1 [00:00<00:00,  7.93it/s]\n",
      "  0%|          | 0/21 [00:00<?, ?it/s]"
     ]
    },
    {
     "name": "stdout",
     "output_type": "stream",
     "text": [
      "21 (119, 7)\n",
      "22 (5359, 7)\n"
     ]
    },
    {
     "name": "stderr",
     "output_type": "stream",
     "text": [
      "100%|██████████| 21/21 [00:04<00:00,  4.40it/s]\n",
      "100%|██████████| 1/1 [00:00<00:00, 18.28it/s]\n",
      "100%|██████████| 1/1 [00:00<00:00, 44.05it/s]\n",
      "  0%|          | 0/8 [00:00<?, ?it/s]"
     ]
    },
    {
     "name": "stdout",
     "output_type": "stream",
     "text": [
      "23 (45, 7)\n",
      "24 (5, 7)\n",
      "25 (1905, 7)\n"
     ]
    },
    {
     "name": "stderr",
     "output_type": "stream",
     "text": [
      "100%|██████████| 8/8 [00:01<00:00,  5.18it/s]\n",
      "100%|██████████| 1/1 [00:00<00:00, 28.04it/s]\n",
      "100%|██████████| 1/1 [00:00<00:00, 35.41it/s]\n",
      "  0%|          | 0/2 [00:00<?, ?it/s]"
     ]
    },
    {
     "name": "stdout",
     "output_type": "stream",
     "text": [
      "26 (17, 7)\n",
      "27 (12, 7)\n",
      "28 (496, 7)\n"
     ]
    },
    {
     "name": "stderr",
     "output_type": "stream",
     "text": [
      "100%|██████████| 2/2 [00:00<00:00,  5.01it/s]\n",
      "  0%|          | 0/12 [00:00<?, ?it/s]"
     ]
    },
    {
     "name": "stdout",
     "output_type": "stream",
     "text": [
      "29 (2886, 7)\n"
     ]
    },
    {
     "name": "stderr",
     "output_type": "stream",
     "text": [
      "100%|██████████| 12/12 [00:02<00:00,  5.24it/s]\n",
      "  0%|          | 0/11 [00:00<?, ?it/s]"
     ]
    },
    {
     "name": "stdout",
     "output_type": "stream",
     "text": [
      "30 (2581, 7)\n"
     ]
    },
    {
     "name": "stderr",
     "output_type": "stream",
     "text": [
      "100%|██████████| 11/11 [00:02<00:00,  5.42it/s]\n",
      "100%|██████████| 1/1 [00:00<00:00, 47.66it/s]\n",
      "100%|██████████| 1/1 [00:00<00:00, 17.39it/s]\n",
      "  0%|          | 0/5 [00:00<?, ?it/s]"
     ]
    },
    {
     "name": "stdout",
     "output_type": "stream",
     "text": [
      "31 (1, 7)\n",
      "32 (49, 7)\n",
      "33 (1031, 7)\n"
     ]
    },
    {
     "name": "stderr",
     "output_type": "stream",
     "text": [
      "100%|██████████| 5/5 [00:00<00:00,  6.09it/s]\n",
      "100%|██████████| 1/1 [00:00<00:00, 44.08it/s]\n",
      "100%|██████████| 1/1 [00:00<00:00, 54.19it/s]\n",
      "100%|██████████| 1/1 [00:00<00:00, 54.38it/s]\n",
      "100%|██████████| 1/1 [00:00<00:00, 47.09it/s]\n",
      "100%|██████████| 1/1 [00:00<00:00, 34.49it/s]\n",
      "  0%|          | 0/36 [00:00<?, ?it/s]"
     ]
    },
    {
     "name": "stdout",
     "output_type": "stream",
     "text": [
      "34 (6, 7)\n",
      "35 (1, 7)\n",
      "36 (1, 7)\n",
      "37 (4, 7)\n",
      "38 (16, 7)\n",
      "39 (8988, 7)\n"
     ]
    },
    {
     "name": "stderr",
     "output_type": "stream",
     "text": [
      "100%|██████████| 36/36 [00:07<00:00,  5.13it/s]\n",
      "100%|██████████| 1/1 [00:00<00:00, 51.09it/s]\n",
      "100%|██████████| 1/1 [00:00<00:00, 28.66it/s]\n",
      "  0%|          | 0/2 [00:00<?, ?it/s]"
     ]
    },
    {
     "name": "stdout",
     "output_type": "stream",
     "text": [
      "40 (1, 7)\n",
      "41 (18, 7)\n",
      "No columns to parse from file\n",
      "43 (486, 7)\n"
     ]
    },
    {
     "name": "stderr",
     "output_type": "stream",
     "text": [
      "100%|██████████| 2/2 [00:00<00:00,  5.30it/s]\n",
      "100%|██████████| 1/1 [00:00<00:00, 38.84it/s]\n",
      "  0%|          | 0/6 [00:00<?, ?it/s]"
     ]
    },
    {
     "name": "stdout",
     "output_type": "stream",
     "text": [
      "44 (10, 7)\n",
      "45 (1488, 7)\n"
     ]
    },
    {
     "name": "stderr",
     "output_type": "stream",
     "text": [
      "100%|██████████| 6/6 [00:01<00:00,  5.21it/s]\n",
      " 11%|█         | 1/9 [00:00<00:01,  5.12it/s]"
     ]
    },
    {
     "name": "stdout",
     "output_type": "stream",
     "text": [
      "46 (2065, 7)\n"
     ]
    },
    {
     "name": "stderr",
     "output_type": "stream",
     "text": [
      "100%|██████████| 9/9 [00:01<00:00,  5.56it/s]\n",
      "100%|██████████| 1/1 [00:00<00:00, 35.38it/s]\n",
      "  0%|          | 0/2 [00:00<?, ?it/s]"
     ]
    },
    {
     "name": "stdout",
     "output_type": "stream",
     "text": [
      "47 (14, 7)\n",
      "48 (305, 7)\n"
     ]
    },
    {
     "name": "stderr",
     "output_type": "stream",
     "text": [
      "100%|██████████| 2/2 [00:00<00:00,  7.94it/s]\n",
      "  0%|          | 0/3 [00:00<?, ?it/s]"
     ]
    },
    {
     "name": "stdout",
     "output_type": "stream",
     "text": [
      "49 (622, 7)\n"
     ]
    },
    {
     "name": "stderr",
     "output_type": "stream",
     "text": [
      "100%|██████████| 3/3 [00:00<00:00,  6.09it/s]\n",
      "100%|██████████| 1/1 [00:00<00:00,  5.94it/s]\n",
      "  0%|          | 0/1 [00:00<?, ?it/s]"
     ]
    },
    {
     "name": "stdout",
     "output_type": "stream",
     "text": [
      "50 (214, 7)\n",
      "51 (46, 7)\n"
     ]
    },
    {
     "name": "stderr",
     "output_type": "stream",
     "text": [
      "100%|██████████| 1/1 [00:00<00:00, 18.77it/s]\n",
      " 20%|██        | 1/5 [00:00<00:00,  5.12it/s]"
     ]
    },
    {
     "name": "stdout",
     "output_type": "stream",
     "text": [
      "52 (1110, 7)\n"
     ]
    },
    {
     "name": "stderr",
     "output_type": "stream",
     "text": [
      "100%|██████████| 5/5 [00:00<00:00,  5.77it/s]\n",
      " 20%|██        | 1/5 [00:00<00:00,  5.11it/s]"
     ]
    },
    {
     "name": "stdout",
     "output_type": "stream",
     "text": [
      "53 (1076, 7)\n"
     ]
    },
    {
     "name": "stderr",
     "output_type": "stream",
     "text": [
      "100%|██████████| 5/5 [00:00<00:00,  5.92it/s]\n",
      "100%|██████████| 1/1 [00:00<00:00,  9.83it/s]\n",
      "100%|██████████| 1/1 [00:00<00:00, 12.82it/s]"
     ]
    },
    {
     "name": "stdout",
     "output_type": "stream",
     "text": [
      "54 (113, 7)\n",
      "55 (82, 7)\n"
     ]
    },
    {
     "name": "stderr",
     "output_type": "stream",
     "text": [
      "\n",
      "100%|██████████| 1/1 [00:00<00:00, 44.18it/s]\n",
      "  0%|          | 0/3 [00:00<?, ?it/s]"
     ]
    },
    {
     "name": "stdout",
     "output_type": "stream",
     "text": [
      "56 (6, 7)\n",
      "57 (575, 7)\n"
     ]
    },
    {
     "name": "stderr",
     "output_type": "stream",
     "text": [
      "100%|██████████| 3/3 [00:00<00:00,  6.54it/s]\n",
      " 11%|█         | 1/9 [00:00<00:01,  5.10it/s]"
     ]
    },
    {
     "name": "stdout",
     "output_type": "stream",
     "text": [
      "58 (2198, 7)\n"
     ]
    },
    {
     "name": "stderr",
     "output_type": "stream",
     "text": [
      "100%|██████████| 9/9 [00:01<00:00,  5.29it/s]\n",
      "100%|██████████| 1/1 [00:00<00:00, 12.61it/s]\n",
      "  0%|          | 0/34 [00:00<?, ?it/s]"
     ]
    },
    {
     "name": "stdout",
     "output_type": "stream",
     "text": [
      "59 (88, 7)\n",
      "60 (8568, 7)\n"
     ]
    },
    {
     "name": "stderr",
     "output_type": "stream",
     "text": [
      "100%|██████████| 34/34 [00:06<00:00,  5.15it/s]\n",
      "  0%|          | 0/2 [00:00<?, ?it/s]"
     ]
    },
    {
     "name": "stdout",
     "output_type": "stream",
     "text": [
      "61 (279, 7)\n"
     ]
    },
    {
     "name": "stderr",
     "output_type": "stream",
     "text": [
      "100%|██████████| 2/2 [00:00<00:00,  7.88it/s]\n",
      "100%|██████████| 1/1 [00:00<00:00, 19.49it/s]\n",
      "  0%|          | 0/1 [00:00<?, ?it/s]"
     ]
    },
    {
     "name": "stdout",
     "output_type": "stream",
     "text": [
      "62 (36, 7)\n",
      "63 (193, 7)\n"
     ]
    },
    {
     "name": "stderr",
     "output_type": "stream",
     "text": [
      "100%|██████████| 1/1 [00:00<00:00,  5.78it/s]\n",
      "100%|██████████| 1/1 [00:00<00:00, 11.17it/s]\n",
      "  0%|          | 0/1 [00:00<?, ?it/s]"
     ]
    },
    {
     "name": "stdout",
     "output_type": "stream",
     "text": [
      "64 (79, 7)\n",
      "65 (130, 7)\n"
     ]
    },
    {
     "name": "stderr",
     "output_type": "stream",
     "text": [
      "100%|██████████| 1/1 [00:00<00:00,  7.16it/s]\n",
      "  0%|          | 0/4 [00:00<?, ?it/s]"
     ]
    },
    {
     "name": "stdout",
     "output_type": "stream",
     "text": [
      "66 (987, 7)\n"
     ]
    },
    {
     "name": "stderr",
     "output_type": "stream",
     "text": [
      "100%|██████████| 4/4 [00:00<00:00,  4.34it/s]\n",
      "  0%|          | 0/3 [00:00<?, ?it/s]"
     ]
    },
    {
     "name": "stdout",
     "output_type": "stream",
     "text": [
      "67 (743, 7)\n"
     ]
    },
    {
     "name": "stderr",
     "output_type": "stream",
     "text": [
      "100%|██████████| 3/3 [00:00<00:00,  4.73it/s]\n",
      "100%|██████████| 1/1 [00:00<00:00, 34.39it/s]\n",
      "  0%|          | 0/3 [00:00<?, ?it/s]"
     ]
    },
    {
     "name": "stdout",
     "output_type": "stream",
     "text": [
      "68 (12, 7)\n",
      "No columns to parse from file\n",
      "70 (530, 7)\n"
     ]
    },
    {
     "name": "stderr",
     "output_type": "stream",
     "text": [
      "100%|██████████| 3/3 [00:00<00:00,  6.46it/s]\n",
      "100%|██████████| 1/1 [00:00<00:00, 37.70it/s]\n",
      "100%|██████████| 1/1 [00:00<00:00, 11.71it/s]\n",
      "100%|██████████| 1/1 [00:00<00:00, 27.11it/s]\n",
      "  0%|          | 0/1 [00:00<?, ?it/s]"
     ]
    },
    {
     "name": "stdout",
     "output_type": "stream",
     "text": [
      "71 (9, 7)\n",
      "72 (87, 7)\n",
      "73 (19, 7)\n",
      "74 (140, 7)\n"
     ]
    },
    {
     "name": "stderr",
     "output_type": "stream",
     "text": [
      "100%|██████████| 1/1 [00:00<00:00,  7.97it/s]\n",
      "100%|██████████| 1/1 [00:00<00:00, 26.44it/s]\n",
      "  0%|          | 0/10 [00:00<?, ?it/s]"
     ]
    },
    {
     "name": "stdout",
     "output_type": "stream",
     "text": [
      "75 (22, 7)\n",
      "76 (2560, 7)\n"
     ]
    },
    {
     "name": "stderr",
     "output_type": "stream",
     "text": [
      "100%|██████████| 10/10 [00:01<00:00,  5.05it/s]\n",
      "100%|██████████| 1/1 [00:00<00:00, 16.65it/s]\n",
      "  0%|          | 0/5 [00:00<?, ?it/s]"
     ]
    },
    {
     "name": "stdout",
     "output_type": "stream",
     "text": [
      "No columns to parse from file\n",
      "78 (54, 7)\n",
      "79 (1051, 7)\n"
     ]
    },
    {
     "name": "stderr",
     "output_type": "stream",
     "text": [
      "100%|██████████| 5/5 [00:00<00:00,  5.80it/s]\n",
      "100%|██████████| 1/1 [00:00<00:00, 31.72it/s]\n",
      "100%|██████████| 1/1 [00:00<00:00, 23.84it/s]\n",
      "  0%|          | 0/5 [00:00<?, ?it/s]"
     ]
    },
    {
     "name": "stdout",
     "output_type": "stream",
     "text": [
      "80 (16, 7)\n",
      "81 (25, 7)\n",
      "82 (1064, 7)\n"
     ]
    },
    {
     "name": "stderr",
     "output_type": "stream",
     "text": [
      "100%|██████████| 5/5 [00:00<00:00,  5.39it/s]\n",
      "  0%|          | 0/5 [00:00<?, ?it/s]"
     ]
    },
    {
     "name": "stdout",
     "output_type": "stream",
     "text": [
      "83 (1048, 7)\n"
     ]
    },
    {
     "name": "stderr",
     "output_type": "stream",
     "text": [
      "100%|██████████| 5/5 [00:00<00:00,  5.46it/s]\n",
      "100%|██████████| 1/1 [00:00<00:00, 51.93it/s]\n",
      "100%|██████████| 1/1 [00:00<00:00, 21.89it/s]\n",
      "  0%|          | 0/3 [00:00<?, ?it/s]"
     ]
    },
    {
     "name": "stdout",
     "output_type": "stream",
     "text": [
      "No columns to parse from file\n",
      "85 (1, 7)\n",
      "86 (33, 7)\n",
      "87 (660, 7)\n"
     ]
    },
    {
     "name": "stderr",
     "output_type": "stream",
     "text": [
      "100%|██████████| 3/3 [00:00<00:00,  5.59it/s]\n",
      "100%|██████████| 1/1 [00:00<00:00, 43.12it/s]\n",
      "100%|██████████| 1/1 [00:00<00:00, 18.93it/s]\n",
      "  0%|          | 0/2 [00:00<?, ?it/s]"
     ]
    },
    {
     "name": "stdout",
     "output_type": "stream",
     "text": [
      "88 (6, 7)\n",
      "89 (43, 7)\n",
      "90 (284, 7)\n"
     ]
    },
    {
     "name": "stderr",
     "output_type": "stream",
     "text": [
      "100%|██████████| 2/2 [00:00<00:00,  8.38it/s]\n",
      "  0%|          | 0/3 [00:00<?, ?it/s]"
     ]
    },
    {
     "name": "stdout",
     "output_type": "stream",
     "text": [
      "91 (689, 7)\n"
     ]
    },
    {
     "name": "stderr",
     "output_type": "stream",
     "text": [
      "100%|██████████| 3/3 [00:00<00:00,  5.48it/s]\n",
      "  0%|          | 0/2 [00:00<?, ?it/s]"
     ]
    },
    {
     "name": "stdout",
     "output_type": "stream",
     "text": [
      "92 (325, 7)\n"
     ]
    },
    {
     "name": "stderr",
     "output_type": "stream",
     "text": [
      "100%|██████████| 2/2 [00:00<00:00,  7.34it/s]\n",
      "100%|██████████| 1/1 [00:00<00:00, 21.12it/s]\n",
      "100%|██████████| 1/1 [00:00<00:00, 27.35it/s]\n",
      "100%|██████████| 1/1 [00:00<00:00, 34.33it/s]\n",
      "  0%|          | 0/21 [00:00<?, ?it/s]"
     ]
    },
    {
     "name": "stdout",
     "output_type": "stream",
     "text": [
      "93 (37, 7)\n",
      "94 (21, 7)\n",
      "95 (16, 7)\n",
      "96 (5156, 7)\n"
     ]
    },
    {
     "name": "stderr",
     "output_type": "stream",
     "text": [
      "100%|██████████| 21/21 [00:04<00:00,  4.83it/s]\n",
      "100%|██████████| 1/1 [00:00<00:00, 22.72it/s]\n",
      "100%|██████████| 1/1 [00:00<00:00, 21.76it/s]\n",
      "  0%|          | 0/3 [00:00<?, ?it/s]"
     ]
    },
    {
     "name": "stdout",
     "output_type": "stream",
     "text": [
      "97 (21, 7)\n",
      "98 (22, 7)\n",
      "99 (591, 7)\n"
     ]
    },
    {
     "name": "stderr",
     "output_type": "stream",
     "text": [
      "100%|██████████| 3/3 [00:00<00:00,  5.12it/s]\n",
      "  0%|          | 0/3 [00:00<?, ?it/s]"
     ]
    },
    {
     "name": "stdout",
     "output_type": "stream",
     "text": [
      "100 (680, 7)\n"
     ]
    },
    {
     "name": "stderr",
     "output_type": "stream",
     "text": [
      "100%|██████████| 3/3 [00:00<00:00,  4.89it/s]\n",
      "100%|██████████| 1/1 [00:00<00:00, 24.50it/s]\n",
      "  0%|          | 0/3 [00:00<?, ?it/s]"
     ]
    },
    {
     "name": "stdout",
     "output_type": "stream",
     "text": [
      "101 (20, 7)\n",
      "102 (540, 7)\n"
     ]
    },
    {
     "name": "stderr",
     "output_type": "stream",
     "text": [
      "100%|██████████| 3/3 [00:00<00:00,  6.35it/s]\n",
      "  0%|          | 0/3 [00:00<?, ?it/s]"
     ]
    },
    {
     "name": "stdout",
     "output_type": "stream",
     "text": [
      "103 (681, 7)\n"
     ]
    },
    {
     "name": "stderr",
     "output_type": "stream",
     "text": [
      "100%|██████████| 3/3 [00:00<00:00,  5.13it/s]\n",
      "  0%|          | 0/15 [00:00<?, ?it/s]"
     ]
    },
    {
     "name": "stdout",
     "output_type": "stream",
     "text": [
      "104 (3642, 7)\n"
     ]
    },
    {
     "name": "stderr",
     "output_type": "stream",
     "text": [
      "100%|██████████| 15/15 [00:03<00:00,  4.77it/s]\n",
      "100%|██████████| 1/1 [00:00<00:00,  8.67it/s]\n",
      "  0%|          | 0/1 [00:00<?, ?it/s]"
     ]
    },
    {
     "name": "stdout",
     "output_type": "stream",
     "text": [
      "105 (119, 7)\n",
      "106 (114, 7)\n"
     ]
    },
    {
     "name": "stderr",
     "output_type": "stream",
     "text": [
      "100%|██████████| 1/1 [00:00<00:00,  8.80it/s]\n",
      "100%|██████████| 1/1 [00:00<00:00, 47.66it/s]\n",
      "  0%|          | 0/12 [00:00<?, ?it/s]"
     ]
    },
    {
     "name": "stdout",
     "output_type": "stream",
     "text": [
      "107 (1, 7)\n",
      "108 (2888, 7)\n"
     ]
    },
    {
     "name": "stderr",
     "output_type": "stream",
     "text": [
      "100%|██████████| 12/12 [00:02<00:00,  4.99it/s]\n",
      "100%|██████████| 1/1 [00:00<00:00, 17.91it/s]\n",
      "100%|██████████| 1/1 [00:00<00:00, 10.00it/s]\n",
      "  0%|          | 0/1 [00:00<?, ?it/s]"
     ]
    },
    {
     "name": "stdout",
     "output_type": "stream",
     "text": [
      "109 (46, 7)\n",
      "110 (108, 7)\n",
      "111 (3, 7)\n"
     ]
    },
    {
     "name": "stderr",
     "output_type": "stream",
     "text": [
      "100%|██████████| 1/1 [00:00<00:00, 44.27it/s]\n",
      "100%|██████████| 1/1 [00:00<00:00,  5.80it/s]\n",
      "  0%|          | 0/1 [00:00<?, ?it/s]"
     ]
    },
    {
     "name": "stdout",
     "output_type": "stream",
     "text": [
      "112 (214, 7)\n",
      "113 (1, 7)\n"
     ]
    },
    {
     "name": "stderr",
     "output_type": "stream",
     "text": [
      "100%|██████████| 1/1 [00:00<00:00, 46.77it/s]\n",
      "100%|██████████| 1/1 [00:00<00:00, 50.70it/s]\n",
      "100%|██████████| 1/1 [00:00<00:00, 16.90it/s]\n",
      "100%|██████████| 1/1 [00:00<00:00, 50.78it/s]\n",
      "  0%|          | 0/2 [00:00<?, ?it/s]"
     ]
    },
    {
     "name": "stdout",
     "output_type": "stream",
     "text": [
      "114 (1, 7)\n",
      "115 (50, 7)\n",
      "116 (1, 7)\n",
      "117 (448, 7)\n"
     ]
    },
    {
     "name": "stderr",
     "output_type": "stream",
     "text": [
      "100%|██████████| 2/2 [00:00<00:00,  5.17it/s]\n",
      "  0%|          | 0/4 [00:00<?, ?it/s]"
     ]
    },
    {
     "name": "stdout",
     "output_type": "stream",
     "text": [
      "118 (852, 7)\n"
     ]
    },
    {
     "name": "stderr",
     "output_type": "stream",
     "text": [
      "100%|██████████| 4/4 [00:00<00:00,  5.26it/s]\n",
      "100%|██████████| 1/1 [00:00<00:00, 42.00it/s]\n",
      "  0%|          | 0/25 [00:00<?, ?it/s]"
     ]
    },
    {
     "name": "stdout",
     "output_type": "stream",
     "text": [
      "119 (4, 7)\n",
      "120 (6260, 7)\n"
     ]
    },
    {
     "name": "stderr",
     "output_type": "stream",
     "text": [
      "100%|██████████| 25/25 [00:05<00:00,  4.67it/s]\n",
      "100%|██████████| 1/1 [00:00<00:00, 24.02it/s]\n",
      "100%|██████████| 1/1 [00:00<00:00, 13.68it/s]\n",
      "  0%|          | 0/1 [00:00<?, ?it/s]"
     ]
    },
    {
     "name": "stdout",
     "output_type": "stream",
     "text": [
      "121 (29, 7)\n",
      "122 (75, 7)\n",
      "123 (65, 7)\n"
     ]
    },
    {
     "name": "stderr",
     "output_type": "stream",
     "text": [
      "100%|██████████| 1/1 [00:00<00:00, 15.03it/s]\n",
      "100%|██████████| 1/1 [00:00<00:00, 48.55it/s]\n",
      "100%|██████████| 1/1 [00:00<00:00, 38.21it/s]\n",
      "  0%|          | 0/15 [00:00<?, ?it/s]"
     ]
    },
    {
     "name": "stdout",
     "output_type": "stream",
     "text": [
      "124 (3, 7)\n",
      "125 (11, 7)\n",
      "126 (3613, 7)\n"
     ]
    },
    {
     "name": "stderr",
     "output_type": "stream",
     "text": [
      "100%|██████████| 15/15 [00:02<00:00,  5.36it/s]\n",
      "100%|██████████| 1/1 [00:00<00:00, 20.09it/s]\n",
      "  0%|          | 0/14 [00:00<?, ?it/s]"
     ]
    },
    {
     "name": "stdout",
     "output_type": "stream",
     "text": [
      "127 (41, 7)\n",
      "128 (3461, 7)\n"
     ]
    },
    {
     "name": "stderr",
     "output_type": "stream",
     "text": [
      "100%|██████████| 14/14 [00:02<00:00,  5.19it/s]\n",
      "100%|██████████| 1/1 [00:00<00:00, 21.97it/s]\n",
      "  0%|          | 0/2 [00:00<?, ?it/s]"
     ]
    },
    {
     "name": "stdout",
     "output_type": "stream",
     "text": [
      "129 (33, 7)\n",
      "130 (426, 7)\n"
     ]
    },
    {
     "name": "stderr",
     "output_type": "stream",
     "text": [
      "100%|██████████| 2/2 [00:00<00:00,  5.78it/s]\n",
      "100%|██████████| 1/1 [00:00<00:00, 46.98it/s]\n",
      "  0%|          | 0/4 [00:00<?, ?it/s]"
     ]
    },
    {
     "name": "stdout",
     "output_type": "stream",
     "text": [
      "131 (3, 7)\n",
      "132 (955, 7)\n"
     ]
    },
    {
     "name": "stderr",
     "output_type": "stream",
     "text": [
      "100%|██████████| 4/4 [00:00<00:00,  5.45it/s]\n",
      " 10%|█         | 1/10 [00:00<00:01,  5.14it/s]"
     ]
    },
    {
     "name": "stdout",
     "output_type": "stream",
     "text": [
      "133 (2340, 7)\n"
     ]
    },
    {
     "name": "stderr",
     "output_type": "stream",
     "text": [
      "100%|██████████| 10/10 [00:01<00:00,  5.54it/s]\n",
      " 25%|██▌       | 1/4 [00:00<00:00,  5.16it/s]"
     ]
    },
    {
     "name": "stdout",
     "output_type": "stream",
     "text": [
      "134 (924, 7)\n"
     ]
    },
    {
     "name": "stderr",
     "output_type": "stream",
     "text": [
      "100%|██████████| 4/4 [00:00<00:00,  5.60it/s]\n",
      "100%|██████████| 1/1 [00:00<00:00,  5.37it/s]\n",
      "  0%|          | 0/1 [00:00<?, ?it/s]"
     ]
    },
    {
     "name": "stdout",
     "output_type": "stream",
     "text": [
      "135 (244, 7)\n",
      "136 (7, 7)\n"
     ]
    },
    {
     "name": "stderr",
     "output_type": "stream",
     "text": [
      "100%|██████████| 1/1 [00:00<00:00, 43.44it/s]\n",
      "100%|██████████| 1/1 [00:00<00:00, 13.02it/s]\n",
      "100%|██████████| 1/1 [00:00<00:00, 17.26it/s]\n",
      "  0%|          | 0/17 [00:00<?, ?it/s]"
     ]
    },
    {
     "name": "stdout",
     "output_type": "stream",
     "text": [
      "137 (81, 7)\n",
      "138 (54, 7)\n",
      "139 (4342, 7)\n"
     ]
    },
    {
     "name": "stderr",
     "output_type": "stream",
     "text": [
      "100%|██████████| 17/17 [00:03<00:00,  5.12it/s]\n",
      "100%|██████████| 1/1 [00:00<00:00, 53.59it/s]\n",
      "  0%|          | 0/18 [00:00<?, ?it/s]"
     ]
    },
    {
     "name": "stdout",
     "output_type": "stream",
     "text": [
      "140 (1, 7)\n",
      "141 (4488, 7)\n"
     ]
    },
    {
     "name": "stderr",
     "output_type": "stream",
     "text": [
      "100%|██████████| 18/18 [00:03<00:00,  5.26it/s]\n",
      "100%|██████████| 1/1 [00:00<00:00, 44.53it/s]\n",
      "100%|██████████| 1/1 [00:00<00:00, 25.36it/s]\n",
      "  0%|          | 0/1 [00:00<?, ?it/s]"
     ]
    },
    {
     "name": "stdout",
     "output_type": "stream",
     "text": [
      "142 (6, 7)\n",
      "143 (26, 7)\n",
      "144 (210, 7)\n"
     ]
    },
    {
     "name": "stderr",
     "output_type": "stream",
     "text": [
      "100%|██████████| 1/1 [00:00<00:00,  6.07it/s]\n",
      " 11%|█         | 1/9 [00:00<00:01,  5.14it/s]"
     ]
    },
    {
     "name": "stdout",
     "output_type": "stream",
     "text": [
      "145 (2128, 7)\n"
     ]
    },
    {
     "name": "stderr",
     "output_type": "stream",
     "text": [
      "100%|██████████| 9/9 [00:01<00:00,  5.29it/s]\n",
      "  0%|          | 0/2 [00:00<?, ?it/s]"
     ]
    },
    {
     "name": "stdout",
     "output_type": "stream",
     "text": [
      "146 (456, 7)\n"
     ]
    },
    {
     "name": "stderr",
     "output_type": "stream",
     "text": [
      "100%|██████████| 2/2 [00:00<00:00,  5.44it/s]\n",
      "  0%|          | 0/5 [00:00<?, ?it/s]"
     ]
    },
    {
     "name": "stdout",
     "output_type": "stream",
     "text": [
      "147 (1065, 7)\n"
     ]
    },
    {
     "name": "stderr",
     "output_type": "stream",
     "text": [
      "100%|██████████| 5/5 [00:00<00:00,  5.74it/s]\n",
      "  0%|          | 0/17 [00:00<?, ?it/s]"
     ]
    },
    {
     "name": "stdout",
     "output_type": "stream",
     "text": [
      "148 (4263, 7)\n"
     ]
    },
    {
     "name": "stderr",
     "output_type": "stream",
     "text": [
      "100%|██████████| 17/17 [00:03<00:00,  4.86it/s]\n",
      "  0%|          | 0/2 [00:00<?, ?it/s]"
     ]
    },
    {
     "name": "stdout",
     "output_type": "stream",
     "text": [
      "149 (494, 7)\n"
     ]
    },
    {
     "name": "stderr",
     "output_type": "stream",
     "text": [
      "100%|██████████| 2/2 [00:00<00:00,  5.09it/s]\n",
      "  0%|          | 0/2 [00:00<?, ?it/s]"
     ]
    },
    {
     "name": "stdout",
     "output_type": "stream",
     "text": [
      "150 (341, 7)\n"
     ]
    },
    {
     "name": "stderr",
     "output_type": "stream",
     "text": [
      "100%|██████████| 2/2 [00:00<00:00,  7.09it/s]\n",
      "100%|██████████| 1/1 [00:00<00:00, 42.62it/s]\n",
      "100%|██████████| 1/1 [00:00<00:00, 12.79it/s]\n",
      "100%|██████████| 1/1 [00:00<00:00, 23.80it/s]\n",
      "  0%|          | 0/1 [00:00<?, ?it/s]"
     ]
    },
    {
     "name": "stdout",
     "output_type": "stream",
     "text": [
      "151 (2, 7)\n",
      "152 (83, 7)\n",
      "No columns to parse from file\n",
      "154 (30, 7)\n",
      "155 (61, 7)\n"
     ]
    },
    {
     "name": "stderr",
     "output_type": "stream",
     "text": [
      "100%|██████████| 1/1 [00:00<00:00, 15.82it/s]\n",
      "100%|██████████| 1/1 [00:00<00:00, 18.72it/s]\n",
      "100%|██████████| 1/1 [00:00<00:00, 21.16it/s]\n",
      "100%|██████████| 1/1 [00:00<00:00, 42.46it/s]\n",
      "  0%|          | 0/1 [00:00<?, ?it/s]"
     ]
    },
    {
     "name": "stdout",
     "output_type": "stream",
     "text": [
      "156 (47, 7)\n",
      "157 (38, 7)\n",
      "158 (8, 7)\n",
      "159 (43, 7)\n"
     ]
    },
    {
     "name": "stderr",
     "output_type": "stream",
     "text": [
      "100%|██████████| 1/1 [00:00<00:00, 19.49it/s]\n",
      "100%|██████████| 1/1 [00:00<00:00, 11.80it/s]\n",
      "  0%|          | 0/6 [00:00<?, ?it/s]"
     ]
    },
    {
     "name": "stdout",
     "output_type": "stream",
     "text": [
      "160 (89, 7)\n",
      "161 (1297, 7)\n"
     ]
    },
    {
     "name": "stderr",
     "output_type": "stream",
     "text": [
      "100%|██████████| 6/6 [00:01<00:00,  5.44it/s]\n",
      "100%|██████████| 1/1 [00:00<00:00, 43.24it/s]\n",
      "  0%|          | 0/4 [00:00<?, ?it/s]"
     ]
    },
    {
     "name": "stdout",
     "output_type": "stream",
     "text": [
      "162 (2, 7)\n",
      "No columns to parse from file\n",
      "164 (926, 7)\n"
     ]
    },
    {
     "name": "stderr",
     "output_type": "stream",
     "text": [
      "100%|██████████| 4/4 [00:00<00:00,  4.81it/s]\n",
      "  0%|          | 0/2 [00:00<?, ?it/s]"
     ]
    },
    {
     "name": "stdout",
     "output_type": "stream",
     "text": [
      "165 (324, 7)\n"
     ]
    },
    {
     "name": "stderr",
     "output_type": "stream",
     "text": [
      "100%|██████████| 2/2 [00:00<00:00,  6.37it/s]\n",
      "  0%|          | 0/3 [00:00<?, ?it/s]"
     ]
    },
    {
     "name": "stdout",
     "output_type": "stream",
     "text": [
      "166 (756, 7)\n"
     ]
    },
    {
     "name": "stderr",
     "output_type": "stream",
     "text": [
      "100%|██████████| 3/3 [00:00<00:00,  4.01it/s]\n",
      "100%|██████████| 1/1 [00:00<00:00, 19.12it/s]\n",
      "100%|██████████| 1/1 [00:00<00:00, 39.00it/s]\n",
      "  0%|          | 0/1 [00:00<?, ?it/s]"
     ]
    },
    {
     "name": "stdout",
     "output_type": "stream",
     "text": [
      "167 (17, 7)\n",
      "168 (2, 7)\n",
      "169 (87, 7)\n"
     ]
    },
    {
     "name": "stderr",
     "output_type": "stream",
     "text": [
      "100%|██████████| 1/1 [00:00<00:00,  9.54it/s]\n",
      "100%|██████████| 1/1 [00:00<00:00, 21.45it/s]\n",
      "100%|██████████| 1/1 [00:00<00:00,  8.85it/s]\n",
      "  0%|          | 0/17 [00:00<?, ?it/s]"
     ]
    },
    {
     "name": "stdout",
     "output_type": "stream",
     "text": [
      "170 (24, 7)\n",
      "171 (103, 7)\n",
      "172 (4276, 7)\n"
     ]
    },
    {
     "name": "stderr",
     "output_type": "stream",
     "text": [
      "100%|██████████| 17/17 [00:03<00:00,  4.69it/s]\n",
      "100%|██████████| 1/1 [00:00<00:00,  5.89it/s]\n",
      "  0%|          | 0/6 [00:00<?, ?it/s]"
     ]
    },
    {
     "name": "stdout",
     "output_type": "stream",
     "text": [
      "No columns to parse from file\n",
      "174 (214, 7)\n",
      "175 (1502, 7)\n"
     ]
    },
    {
     "name": "stderr",
     "output_type": "stream",
     "text": [
      "100%|██████████| 6/6 [00:01<00:00,  5.16it/s]\n",
      "100%|██████████| 1/1 [00:00<00:00, 18.57it/s]\n",
      "  0%|          | 0/3 [00:00<?, ?it/s]"
     ]
    },
    {
     "name": "stdout",
     "output_type": "stream",
     "text": [
      "176 (48, 7)\n",
      "177 (621, 7)\n"
     ]
    },
    {
     "name": "stderr",
     "output_type": "stream",
     "text": [
      "100%|██████████| 3/3 [00:00<00:00,  6.10it/s]\n",
      "100%|██████████| 1/1 [00:00<00:00, 51.52it/s]\n",
      "100%|██████████| 1/1 [00:00<00:00, 52.14it/s]\n",
      "100%|██████████| 1/1 [00:00<00:00, 17.35it/s]\n",
      "  0%|          | 0/7 [00:00<?, ?it/s]"
     ]
    },
    {
     "name": "stdout",
     "output_type": "stream",
     "text": [
      "178 (1, 7)\n",
      "179 (1, 7)\n",
      "180 (51, 7)\n",
      "181 (1578, 7)\n"
     ]
    },
    {
     "name": "stderr",
     "output_type": "stream",
     "text": [
      "100%|██████████| 7/7 [00:01<00:00,  5.44it/s]\n",
      "  0%|          | 0/10 [00:00<?, ?it/s]"
     ]
    },
    {
     "name": "stdout",
     "output_type": "stream",
     "text": [
      "182 (2518, 7)\n"
     ]
    },
    {
     "name": "stderr",
     "output_type": "stream",
     "text": [
      "100%|██████████| 10/10 [00:02<00:00,  3.54it/s]\n",
      "100%|██████████| 1/1 [00:00<00:00, 29.05it/s]\n",
      "  0%|          | 0/56 [00:00<?, ?it/s]"
     ]
    },
    {
     "name": "stdout",
     "output_type": "stream",
     "text": [
      "183 (2, 7)\n",
      "184 (14216, 7)\n"
     ]
    },
    {
     "name": "stderr",
     "output_type": "stream",
     "text": [
      "100%|██████████| 56/56 [00:17<00:00,  3.16it/s]\n",
      "100%|██████████| 1/1 [00:00<00:00, 20.77it/s]\n",
      "100%|██████████| 1/1 [00:00<00:00, 25.04it/s]\n",
      "  0%|          | 0/2 [00:00<?, ?it/s]"
     ]
    },
    {
     "name": "stdout",
     "output_type": "stream",
     "text": [
      "185 (37, 7)\n",
      "186 (26, 7)\n",
      "187 (497, 7)\n"
     ]
    },
    {
     "name": "stderr",
     "output_type": "stream",
     "text": [
      "100%|██████████| 2/2 [00:00<00:00,  5.22it/s]\n",
      "  0%|          | 0/15 [00:00<?, ?it/s]"
     ]
    },
    {
     "name": "stdout",
     "output_type": "stream",
     "text": [
      "188 (3756, 7)\n"
     ]
    },
    {
     "name": "stderr",
     "output_type": "stream",
     "text": [
      "100%|██████████| 15/15 [00:02<00:00,  5.09it/s]\n",
      "100%|██████████| 1/1 [00:00<00:00,  5.97it/s]\n",
      "  0%|          | 0/1 [00:00<?, ?it/s]"
     ]
    },
    {
     "name": "stdout",
     "output_type": "stream",
     "text": [
      "189 (192, 7)\n",
      "190 (2, 7)\n"
     ]
    },
    {
     "name": "stderr",
     "output_type": "stream",
     "text": [
      "100%|██████████| 1/1 [00:00<00:00, 45.80it/s]\n",
      "  0%|          | 0/17 [00:00<?, ?it/s]"
     ]
    },
    {
     "name": "stdout",
     "output_type": "stream",
     "text": [
      "191 (4244, 7)\n"
     ]
    },
    {
     "name": "stderr",
     "output_type": "stream",
     "text": [
      "100%|██████████| 17/17 [00:03<00:00,  4.82it/s]\n",
      "100%|██████████| 1/1 [00:00<00:00,  6.55it/s]\n",
      "  0%|          | 0/8 [00:00<?, ?it/s]"
     ]
    },
    {
     "name": "stdout",
     "output_type": "stream",
     "text": [
      "192 (179, 7)\n",
      "193 (1853, 7)\n"
     ]
    },
    {
     "name": "stderr",
     "output_type": "stream",
     "text": [
      "100%|██████████| 8/8 [00:01<00:00,  5.33it/s]\n",
      "  0%|          | 0/7 [00:00<?, ?it/s]"
     ]
    },
    {
     "name": "stdout",
     "output_type": "stream",
     "text": [
      "194 (1673, 7)\n"
     ]
    },
    {
     "name": "stderr",
     "output_type": "stream",
     "text": [
      "100%|██████████| 7/7 [00:01<00:00,  5.22it/s]\n",
      "100%|██████████| 1/1 [00:00<00:00,  7.57it/s]\n",
      "100%|██████████| 1/1 [00:00<00:00, 43.60it/s]\n",
      "  0%|          | 0/9 [00:00<?, ?it/s]"
     ]
    },
    {
     "name": "stdout",
     "output_type": "stream",
     "text": [
      "195 (156, 7)\n",
      "196 (6, 7)\n",
      "197 (2208, 7)\n"
     ]
    },
    {
     "name": "stderr",
     "output_type": "stream",
     "text": [
      "100%|██████████| 9/9 [00:01<00:00,  5.23it/s]\n",
      "100%|██████████| 1/1 [00:00<00:00, 21.77it/s]\n",
      "100%|██████████| 1/1 [00:00<00:00, 45.75it/s]\n",
      "100%|██████████| 1/1 [00:00<00:00, 11.63it/s]\n",
      "  0%|          | 0/4 [00:00<?, ?it/s]"
     ]
    },
    {
     "name": "stdout",
     "output_type": "stream",
     "text": [
      "198 (36, 7)\n",
      "199 (5, 7)\n",
      "200 (95, 7)\n",
      "201 (779, 7)\n"
     ]
    },
    {
     "name": "stderr",
     "output_type": "stream",
     "text": [
      "100%|██████████| 4/4 [00:00<00:00,  6.30it/s]\n",
      "100%|██████████| 1/1 [00:00<00:00, 21.22it/s]\n",
      "100%|██████████| 1/1 [00:00<00:00, 22.75it/s]\n",
      "  0%|          | 0/3 [00:00<?, ?it/s]"
     ]
    },
    {
     "name": "stdout",
     "output_type": "stream",
     "text": [
      "202 (36, 7)\n",
      "203 (31, 7)\n",
      "204 (709, 7)\n"
     ]
    },
    {
     "name": "stderr",
     "output_type": "stream",
     "text": [
      "100%|██████████| 3/3 [00:00<00:00,  5.22it/s]\n",
      "100%|██████████| 1/1 [00:00<00:00, 47.28it/s]\n",
      "100%|██████████| 1/1 [00:00<00:00, 27.43it/s]\n",
      "  0%|          | 0/40 [00:00<?, ?it/s]"
     ]
    },
    {
     "name": "stdout",
     "output_type": "stream",
     "text": [
      "205 (2, 7)\n",
      "206 (19, 7)\n",
      "207 (10069, 7)\n"
     ]
    },
    {
     "name": "stderr",
     "output_type": "stream",
     "text": [
      "100%|██████████| 40/40 [00:07<00:00,  5.05it/s]\n",
      "100%|██████████| 1/1 [00:00<00:00, 12.43it/s]\n",
      "  0%|          | 0/9 [00:00<?, ?it/s]"
     ]
    },
    {
     "name": "stdout",
     "output_type": "stream",
     "text": [
      "208 (78, 7)\n",
      "209 (2248, 7)\n"
     ]
    },
    {
     "name": "stderr",
     "output_type": "stream",
     "text": [
      "100%|██████████| 9/9 [00:01<00:00,  4.99it/s]\n",
      "  0%|          | 0/2 [00:00<?, ?it/s]"
     ]
    },
    {
     "name": "stdout",
     "output_type": "stream",
     "text": [
      "210 (491, 7)\n"
     ]
    },
    {
     "name": "stderr",
     "output_type": "stream",
     "text": [
      "100%|██████████| 2/2 [00:00<00:00,  5.12it/s]\n",
      "100%|██████████| 1/1 [00:00<00:00, 47.79it/s]\n",
      "100%|██████████| 1/1 [00:00<00:00, 52.82it/s]\n",
      "100%|██████████| 1/1 [00:00<00:00, 45.37it/s]\n",
      "  0%|          | 0/29 [00:00<?, ?it/s]"
     ]
    },
    {
     "name": "stdout",
     "output_type": "stream",
     "text": [
      "No columns to parse from file\n",
      "212 (2, 7)\n",
      "213 (1, 7)\n",
      "214 (5, 7)\n",
      "215 (7397, 7)\n"
     ]
    },
    {
     "name": "stderr",
     "output_type": "stream",
     "text": [
      "100%|██████████| 29/29 [00:05<00:00,  5.07it/s]\n",
      "100%|██████████| 1/1 [00:00<00:00, 35.77it/s]\n",
      "100%|██████████| 1/1 [00:00<00:00, 21.39it/s]\n",
      "100%|██████████| 1/1 [00:00<00:00, 42.86it/s]\n",
      "  0%|          | 0/47 [00:00<?, ?it/s]"
     ]
    },
    {
     "name": "stdout",
     "output_type": "stream",
     "text": [
      "216 (13, 7)\n",
      "217 (37, 7)\n",
      "218 (8, 7)\n",
      "219 (11979, 7)\n"
     ]
    },
    {
     "name": "stderr",
     "output_type": "stream",
     "text": [
      "100%|██████████| 47/47 [00:09<00:00,  5.07it/s]\n",
      "100%|██████████| 1/1 [00:00<00:00,  8.11it/s]\n",
      "  0%|          | 0/4 [00:00<?, ?it/s]"
     ]
    },
    {
     "name": "stdout",
     "output_type": "stream",
     "text": [
      "220 (146, 7)\n",
      "221 (835, 7)\n"
     ]
    },
    {
     "name": "stderr",
     "output_type": "stream",
     "text": [
      "100%|██████████| 4/4 [00:00<00:00,  6.13it/s]\n",
      "100%|██████████| 1/1 [00:00<00:00, 43.57it/s]\n",
      "100%|██████████| 1/1 [00:00<00:00, 48.53it/s]\n",
      "  0%|          | 0/51 [00:00<?, ?it/s]"
     ]
    },
    {
     "name": "stdout",
     "output_type": "stream",
     "text": [
      "222 (7, 7)\n",
      "223 (3, 7)\n",
      "224 (12902, 7)\n"
     ]
    },
    {
     "name": "stderr",
     "output_type": "stream",
     "text": [
      "100%|██████████| 51/51 [00:10<00:00,  5.09it/s]\n",
      "100%|██████████| 1/1 [00:00<00:00, 20.36it/s]\n",
      "  0%|          | 0/2 [00:00<?, ?it/s]"
     ]
    },
    {
     "name": "stdout",
     "output_type": "stream",
     "text": [
      "225 (37, 7)\n",
      "226 (293, 7)\n"
     ]
    },
    {
     "name": "stderr",
     "output_type": "stream",
     "text": [
      "100%|██████████| 2/2 [00:00<00:00,  8.03it/s]\n",
      "  0%|          | 0/2 [00:00<?, ?it/s]"
     ]
    },
    {
     "name": "stdout",
     "output_type": "stream",
     "text": [
      "227 (417, 7)\n"
     ]
    },
    {
     "name": "stderr",
     "output_type": "stream",
     "text": [
      "100%|██████████| 2/2 [00:00<00:00,  5.95it/s]\n",
      "100%|██████████| 1/1 [00:00<00:00, 28.61it/s]\n",
      "100%|██████████| 1/1 [00:00<00:00, 24.40it/s]\n",
      "100%|██████████| 1/1 [00:00<00:00, 26.58it/s]\n",
      "  0%|          | 0/4 [00:00<?, ?it/s]"
     ]
    },
    {
     "name": "stdout",
     "output_type": "stream",
     "text": [
      "228 (17, 7)\n",
      "229 (26, 7)\n",
      "230 (22, 7)\n",
      "231 (816, 7)\n"
     ]
    },
    {
     "name": "stderr",
     "output_type": "stream",
     "text": [
      "100%|██████████| 4/4 [00:00<00:00,  6.07it/s]\n",
      "100%|██████████| 1/1 [00:00<00:00, 11.33it/s]\n",
      "  0%|          | 0/4 [00:00<?, ?it/s]"
     ]
    },
    {
     "name": "stdout",
     "output_type": "stream",
     "text": [
      "232 (97, 7)\n",
      "233 (962, 7)\n"
     ]
    },
    {
     "name": "stderr",
     "output_type": "stream",
     "text": [
      "100%|██████████| 4/4 [00:00<00:00,  5.38it/s]\n",
      "100%|██████████| 1/1 [00:00<00:00, 37.69it/s]\n",
      "  0%|          | 0/4 [00:00<?, ?it/s]"
     ]
    },
    {
     "name": "stdout",
     "output_type": "stream",
     "text": [
      "234 (10, 7)\n",
      "235 (823, 7)\n"
     ]
    },
    {
     "name": "stderr",
     "output_type": "stream",
     "text": [
      "100%|██████████| 4/4 [00:00<00:00,  6.01it/s]\n",
      "  0%|          | 0/101 [00:00<?, ?it/s]"
     ]
    },
    {
     "name": "stdout",
     "output_type": "stream",
     "text": [
      "236 (25731, 7)\n"
     ]
    },
    {
     "name": "stderr",
     "output_type": "stream",
     "text": [
      "100%|██████████| 101/101 [00:20<00:00,  5.05it/s]\n",
      "100%|██████████| 1/1 [00:00<00:00, 46.00it/s]\n",
      "  0%|          | 0/3 [00:00<?, ?it/s]"
     ]
    },
    {
     "name": "stdout",
     "output_type": "stream",
     "text": [
      "237 (2, 7)\n",
      "238 (598, 7)\n"
     ]
    },
    {
     "name": "stderr",
     "output_type": "stream",
     "text": [
      "100%|██████████| 3/3 [00:00<00:00,  6.20it/s]\n",
      " 14%|█▍        | 1/7 [00:00<00:01,  5.11it/s]"
     ]
    },
    {
     "name": "stdout",
     "output_type": "stream",
     "text": [
      "239 (1763, 7)\n"
     ]
    },
    {
     "name": "stderr",
     "output_type": "stream",
     "text": [
      "100%|██████████| 7/7 [00:01<00:00,  5.16it/s]\n",
      "100%|██████████| 1/1 [00:00<00:00,  9.22it/s]\n",
      "  0%|          | 0/27 [00:00<?, ?it/s]"
     ]
    },
    {
     "name": "stdout",
     "output_type": "stream",
     "text": [
      "240 (124, 7)\n",
      "241 (6908, 7)\n"
     ]
    },
    {
     "name": "stderr",
     "output_type": "stream",
     "text": [
      "100%|██████████| 27/27 [00:05<00:00,  5.08it/s]\n",
      "100%|██████████| 1/1 [00:00<00:00, 48.15it/s]\n",
      "  0%|          | 0/4 [00:00<?, ?it/s]"
     ]
    },
    {
     "name": "stdout",
     "output_type": "stream",
     "text": [
      "242 (3, 7)\n",
      "243 (947, 7)\n"
     ]
    },
    {
     "name": "stderr",
     "output_type": "stream",
     "text": [
      "100%|██████████| 4/4 [00:00<00:00,  5.29it/s]\n",
      "  5%|▌         | 1/20 [00:00<00:03,  5.09it/s]"
     ]
    },
    {
     "name": "stdout",
     "output_type": "stream",
     "text": [
      "244 (4927, 7)\n"
     ]
    },
    {
     "name": "stderr",
     "output_type": "stream",
     "text": [
      "100%|██████████| 20/20 [00:03<00:00,  5.24it/s]\n",
      "100%|██████████| 1/1 [00:00<00:00,  9.42it/s]\n",
      "100%|██████████| 1/1 [00:00<00:00, 21.13it/s]\n",
      "  0%|          | 0/1 [00:00<?, ?it/s]"
     ]
    },
    {
     "name": "stdout",
     "output_type": "stream",
     "text": [
      "245 (125, 7)\n",
      "246 (38, 7)\n",
      "247 (38, 7)\n"
     ]
    },
    {
     "name": "stderr",
     "output_type": "stream",
     "text": [
      "100%|██████████| 1/1 [00:00<00:00, 20.88it/s]\n",
      "  0%|          | 0/6 [00:00<?, ?it/s]"
     ]
    },
    {
     "name": "stdout",
     "output_type": "stream",
     "text": [
      "248 (1466, 7)\n"
     ]
    },
    {
     "name": "stderr",
     "output_type": "stream",
     "text": [
      "100%|██████████| 6/6 [00:01<00:00,  5.18it/s]\n",
      "100%|██████████| 1/1 [00:00<00:00, 21.70it/s]\n",
      "100%|██████████| 1/1 [00:00<00:00, 28.34it/s]\n",
      "100%|██████████| 1/1 [00:00<00:00, 53.67it/s]\n",
      "  0%|          | 0/28 [00:00<?, ?it/s]"
     ]
    },
    {
     "name": "stdout",
     "output_type": "stream",
     "text": [
      "249 (35, 7)\n",
      "250 (20, 7)\n",
      "251 (1, 7)\n",
      "252 (7112, 7)\n"
     ]
    },
    {
     "name": "stderr",
     "output_type": "stream",
     "text": [
      "100%|██████████| 28/28 [00:05<00:00,  5.08it/s]\n",
      "100%|██████████| 1/1 [00:00<00:00, 12.50it/s]\n",
      "100%|██████████| 1/1 [00:00<00:00, 15.17it/s]\n",
      "  0%|          | 0/1 [00:00<?, ?it/s]"
     ]
    },
    {
     "name": "stdout",
     "output_type": "stream",
     "text": [
      "253 (83, 7)\n",
      "254 (64, 7)\n",
      "255 (28, 7)\n"
     ]
    },
    {
     "name": "stderr",
     "output_type": "stream",
     "text": [
      "100%|██████████| 1/1 [00:00<00:00, 23.92it/s]\n",
      "  0%|          | 0/5 [00:00<?, ?it/s]"
     ]
    },
    {
     "name": "stdout",
     "output_type": "stream",
     "text": [
      "256 (1117, 7)\n"
     ]
    },
    {
     "name": "stderr",
     "output_type": "stream",
     "text": [
      "100%|██████████| 5/5 [00:00<00:00,  5.61it/s]\n",
      "  0%|          | 0/121 [00:00<?, ?it/s]"
     ]
    },
    {
     "name": "stdout",
     "output_type": "stream",
     "text": [
      "257 (30945, 7)\n"
     ]
    },
    {
     "name": "stderr",
     "output_type": "stream",
     "text": [
      "100%|██████████| 121/121 [00:24<00:00,  5.04it/s]\n",
      "100%|██████████| 1/1 [00:00<00:00, 19.54it/s]\n",
      "100%|██████████| 1/1 [00:00<00:00, 19.28it/s]\n",
      "  0%|          | 0/4 [00:00<?, ?it/s]"
     ]
    },
    {
     "name": "stdout",
     "output_type": "stream",
     "text": [
      "No columns to parse from file\n",
      "259 (39, 7)\n",
      "260 (42, 7)\n",
      "261 (815, 7)\n"
     ]
    },
    {
     "name": "stderr",
     "output_type": "stream",
     "text": [
      "100%|██████████| 4/4 [00:00<00:00,  6.07it/s]\n",
      "100%|██████████| 1/1 [00:00<00:00, 42.05it/s]\n",
      "100%|██████████| 1/1 [00:00<00:00, 34.63it/s]\n",
      "  0%|          | 0/5 [00:00<?, ?it/s]"
     ]
    },
    {
     "name": "stdout",
     "output_type": "stream",
     "text": [
      "262 (8, 7)\n",
      "263 (14, 7)\n",
      "264 (1185, 7)\n"
     ]
    },
    {
     "name": "stderr",
     "output_type": "stream",
     "text": [
      "100%|██████████| 5/5 [00:00<00:00,  5.33it/s]\n",
      "  0%|          | 0/2 [00:00<?, ?it/s]"
     ]
    },
    {
     "name": "stdout",
     "output_type": "stream",
     "text": [
      "265 (356, 7)\n"
     ]
    },
    {
     "name": "stderr",
     "output_type": "stream",
     "text": [
      "100%|██████████| 2/2 [00:00<00:00,  6.85it/s]\n",
      "  0%|          | 0/6 [00:00<?, ?it/s]"
     ]
    },
    {
     "name": "stdout",
     "output_type": "stream",
     "text": [
      "266 (1509, 7)\n"
     ]
    },
    {
     "name": "stderr",
     "output_type": "stream",
     "text": [
      "100%|██████████| 6/6 [00:01<00:00,  4.99it/s]\n",
      "  0%|          | 0/4 [00:00<?, ?it/s]"
     ]
    },
    {
     "name": "stdout",
     "output_type": "stream",
     "text": [
      "267 (863, 7)\n"
     ]
    },
    {
     "name": "stderr",
     "output_type": "stream",
     "text": [
      "100%|██████████| 4/4 [00:00<00:00,  5.79it/s]\n",
      " 25%|██▌       | 1/4 [00:00<00:00,  5.16it/s]"
     ]
    },
    {
     "name": "stdout",
     "output_type": "stream",
     "text": [
      "268 (1015, 7)\n"
     ]
    },
    {
     "name": "stderr",
     "output_type": "stream",
     "text": [
      "100%|██████████| 4/4 [00:00<00:00,  5.08it/s]\n",
      "100%|██████████| 1/1 [00:00<00:00, 16.49it/s]\n",
      "100%|██████████| 1/1 [00:00<00:00, 23.19it/s]\n",
      "  0%|          | 0/1 [00:00<?, ?it/s]"
     ]
    },
    {
     "name": "stdout",
     "output_type": "stream",
     "text": [
      "269 (56, 7)\n",
      "270 (30, 7)\n",
      "271 (147, 7)\n"
     ]
    },
    {
     "name": "stderr",
     "output_type": "stream",
     "text": [
      "100%|██████████| 1/1 [00:00<00:00,  7.82it/s]\n",
      "100%|██████████| 1/1 [00:00<00:00,  8.56it/s]\n",
      "100%|██████████| 1/1 [00:00<00:00, 48.71it/s]\n",
      "  0%|          | 0/1 [00:00<?, ?it/s]"
     ]
    },
    {
     "name": "stdout",
     "output_type": "stream",
     "text": [
      "272 (135, 7)\n",
      "273 (2, 7)\n",
      "274 (147, 7)\n"
     ]
    },
    {
     "name": "stderr",
     "output_type": "stream",
     "text": [
      "100%|██████████| 1/1 [00:00<00:00,  8.00it/s]\n",
      "  0%|          | 0/3 [00:00<?, ?it/s]"
     ]
    },
    {
     "name": "stdout",
     "output_type": "stream",
     "text": [
      "275 (678, 7)\n"
     ]
    },
    {
     "name": "stderr",
     "output_type": "stream",
     "text": [
      "100%|██████████| 3/3 [00:00<00:00,  5.63it/s]\n",
      " 50%|█████     | 1/2 [00:00<00:00,  5.10it/s]"
     ]
    },
    {
     "name": "stdout",
     "output_type": "stream",
     "text": [
      "276 (264, 7)\n"
     ]
    },
    {
     "name": "stderr",
     "output_type": "stream",
     "text": [
      "100%|██████████| 2/2 [00:00<00:00,  9.08it/s]\n",
      "100%|██████████| 1/1 [00:00<00:00, 35.30it/s]\n",
      "  0%|          | 0/9 [00:00<?, ?it/s]"
     ]
    },
    {
     "name": "stdout",
     "output_type": "stream",
     "text": [
      "277 (14, 7)\n",
      "278 (2115, 7)\n"
     ]
    },
    {
     "name": "stderr",
     "output_type": "stream",
     "text": [
      "100%|██████████| 9/9 [00:01<00:00,  5.48it/s]\n",
      "100%|██████████| 1/1 [00:00<00:00, 28.72it/s]\n",
      "  0%|          | 0/37 [00:00<?, ?it/s]"
     ]
    },
    {
     "name": "stdout",
     "output_type": "stream",
     "text": [
      "279 (18, 7)\n",
      "280 (9417, 7)\n"
     ]
    },
    {
     "name": "stderr",
     "output_type": "stream",
     "text": [
      "100%|██████████| 37/37 [00:07<00:00,  5.08it/s]\n",
      "  0%|          | 0/8 [00:00<?, ?it/s]"
     ]
    },
    {
     "name": "stdout",
     "output_type": "stream",
     "text": [
      "281 (1886, 7)\n"
     ]
    },
    {
     "name": "stderr",
     "output_type": "stream",
     "text": [
      "100%|██████████| 8/8 [00:01<00:00,  5.60it/s]\n",
      " 50%|█████     | 1/2 [00:00<00:00,  5.28it/s]"
     ]
    },
    {
     "name": "stdout",
     "output_type": "stream",
     "text": [
      "282 (260, 7)\n"
     ]
    },
    {
     "name": "stderr",
     "output_type": "stream",
     "text": [
      "100%|██████████| 2/2 [00:00<00:00,  9.51it/s]\n",
      " 50%|█████     | 1/2 [00:00<00:00,  5.13it/s]"
     ]
    },
    {
     "name": "stdout",
     "output_type": "stream",
     "text": [
      "283 (319, 7)\n"
     ]
    },
    {
     "name": "stderr",
     "output_type": "stream",
     "text": [
      "100%|██████████| 2/2 [00:00<00:00,  7.68it/s]\n",
      "100%|██████████| 1/1 [00:00<00:00, 15.86it/s]\n",
      "  0%|          | 0/3 [00:00<?, ?it/s]"
     ]
    },
    {
     "name": "stdout",
     "output_type": "stream",
     "text": [
      "284 (61, 7)\n",
      "285 (687, 7)\n"
     ]
    },
    {
     "name": "stderr",
     "output_type": "stream",
     "text": [
      "100%|██████████| 3/3 [00:00<00:00,  5.61it/s]\n",
      "100%|██████████| 1/1 [00:00<00:00, 18.54it/s]\n",
      "100%|██████████| 1/1 [00:00<00:00, 27.92it/s]\n",
      "100%|██████████| 1/1 [00:00<00:00, 54.07it/s]\n",
      "  0%|          | 0/2 [00:00<?, ?it/s]"
     ]
    },
    {
     "name": "stdout",
     "output_type": "stream",
     "text": [
      "286 (47, 7)\n",
      "287 (20, 7)\n",
      "288 (1, 7)\n",
      "289 (425, 7)\n"
     ]
    },
    {
     "name": "stderr",
     "output_type": "stream",
     "text": [
      "100%|██████████| 2/2 [00:00<00:00,  5.94it/s]\n",
      "100%|██████████| 1/1 [00:00<00:00,  6.22it/s]\n",
      "  0%|          | 0/1 [00:00<?, ?it/s]"
     ]
    },
    {
     "name": "stdout",
     "output_type": "stream",
     "text": [
      "290 (198, 7)\n",
      "291 (22, 7)\n"
     ]
    },
    {
     "name": "stderr",
     "output_type": "stream",
     "text": [
      "100%|██████████| 1/1 [00:00<00:00, 24.72it/s]\n",
      "100%|██████████| 1/1 [00:00<00:00,  7.00it/s]\n",
      "  0%|          | 0/1 [00:00<?, ?it/s]"
     ]
    },
    {
     "name": "stdout",
     "output_type": "stream",
     "text": [
      "292 (176, 7)\n",
      "293 (43, 7)\n"
     ]
    },
    {
     "name": "stderr",
     "output_type": "stream",
     "text": [
      "100%|██████████| 1/1 [00:00<00:00, 19.45it/s]\n",
      "100%|██████████| 1/1 [00:00<00:00, 48.62it/s]\n",
      "  0%|          | 0/3 [00:00<?, ?it/s]"
     ]
    },
    {
     "name": "stdout",
     "output_type": "stream",
     "text": [
      "294 (2, 7)\n",
      "295 (692, 7)\n"
     ]
    },
    {
     "name": "stderr",
     "output_type": "stream",
     "text": [
      "100%|██████████| 3/3 [00:00<00:00,  5.46it/s]\n",
      "  0%|          | 0/11 [00:00<?, ?it/s]"
     ]
    },
    {
     "name": "stdout",
     "output_type": "stream",
     "text": [
      "296 (2668, 7)\n"
     ]
    },
    {
     "name": "stderr",
     "output_type": "stream",
     "text": [
      "100%|██████████| 11/11 [00:02<00:00,  5.43it/s]\n",
      "  0%|          | 0/7 [00:00<?, ?it/s]"
     ]
    },
    {
     "name": "stdout",
     "output_type": "stream",
     "text": [
      "297 (1581, 7)\n"
     ]
    },
    {
     "name": "stderr",
     "output_type": "stream",
     "text": [
      "100%|██████████| 7/7 [00:01<00:00,  5.71it/s]\n",
      "100%|██████████| 1/1 [00:00<00:00, 39.90it/s]\n",
      "100%|██████████| 1/1 [00:00<00:00, 43.02it/s]\n",
      "  0%|          | 0/6 [00:00<?, ?it/s]"
     ]
    },
    {
     "name": "stdout",
     "output_type": "stream",
     "text": [
      "298 (9, 7)\n",
      "299 (8, 7)\n",
      "300 (1345, 7)\n"
     ]
    },
    {
     "name": "stderr",
     "output_type": "stream",
     "text": [
      "100%|██████████| 6/6 [00:01<00:00,  5.71it/s]\n",
      " 11%|█         | 1/9 [00:00<00:01,  5.24it/s]"
     ]
    },
    {
     "name": "stdout",
     "output_type": "stream",
     "text": [
      "301 (2300, 7)\n"
     ]
    },
    {
     "name": "stderr",
     "output_type": "stream",
     "text": [
      "100%|██████████| 9/9 [00:01<00:00,  5.17it/s]\n",
      "100%|██████████| 1/1 [00:00<00:00, 11.89it/s]\n",
      "  0%|          | 0/10 [00:00<?, ?it/s]"
     ]
    },
    {
     "name": "stdout",
     "output_type": "stream",
     "text": [
      "302 (94, 7)\n",
      "303 (2415, 7)\n"
     ]
    },
    {
     "name": "stderr",
     "output_type": "stream",
     "text": [
      "100%|██████████| 10/10 [00:01<00:00,  5.40it/s]\n",
      "100%|██████████| 1/1 [00:00<00:00,  6.19it/s]\n",
      "  0%|          | 0/7 [00:00<?, ?it/s]"
     ]
    },
    {
     "name": "stdout",
     "output_type": "stream",
     "text": [
      "304 (210, 7)\n",
      "305 (1622, 7)\n"
     ]
    },
    {
     "name": "stderr",
     "output_type": "stream",
     "text": [
      "100%|██████████| 7/7 [00:01<00:00,  5.56it/s]\n",
      "100%|██████████| 1/1 [00:00<00:00,  5.60it/s]\n",
      "  0%|          | 0/17 [00:00<?, ?it/s]"
     ]
    },
    {
     "name": "stdout",
     "output_type": "stream",
     "text": [
      "306 (235, 7)\n",
      "307 (4288, 7)\n"
     ]
    },
    {
     "name": "stderr",
     "output_type": "stream",
     "text": [
      "100%|██████████| 17/17 [00:03<00:00,  5.21it/s]\n",
      " 11%|█         | 1/9 [00:00<00:01,  5.28it/s]"
     ]
    },
    {
     "name": "stdout",
     "output_type": "stream",
     "text": [
      "308 (2292, 7)\n"
     ]
    },
    {
     "name": "stderr",
     "output_type": "stream",
     "text": [
      "100%|██████████| 9/9 [00:01<00:00,  5.17it/s]\n",
      "100%|██████████| 1/1 [00:00<00:00, 39.44it/s]\n",
      "  0%|          | 0/2 [00:00<?, ?it/s]"
     ]
    },
    {
     "name": "stdout",
     "output_type": "stream",
     "text": [
      "309 (10, 7)\n",
      "310 (292, 7)\n"
     ]
    },
    {
     "name": "stderr",
     "output_type": "stream",
     "text": [
      "100%|██████████| 2/2 [00:00<00:00,  8.01it/s]\n",
      "100%|██████████| 1/1 [00:00<00:00, 22.44it/s]\n",
      "100%|██████████| 1/1 [00:00<00:00, 28.49it/s]\n",
      "  0%|          | 0/1 [00:00<?, ?it/s]"
     ]
    },
    {
     "name": "stdout",
     "output_type": "stream",
     "text": [
      "311 (33, 7)\n",
      "312 (19, 7)\n",
      "No columns to parse from file\n",
      "314 (133, 7)\n"
     ]
    },
    {
     "name": "stderr",
     "output_type": "stream",
     "text": [
      "100%|██████████| 1/1 [00:00<00:00,  8.82it/s]\n",
      "100%|██████████| 1/1 [00:00<00:00,  9.90it/s]\n",
      "  0%|          | 0/8 [00:00<?, ?it/s]"
     ]
    },
    {
     "name": "stdout",
     "output_type": "stream",
     "text": [
      "315 (116, 7)\n",
      "316 (1865, 7)\n"
     ]
    },
    {
     "name": "stderr",
     "output_type": "stream",
     "text": [
      "100%|██████████| 8/8 [00:01<00:00,  5.48it/s]\n",
      "100%|██████████| 1/1 [00:00<00:00, 28.22it/s]\n",
      "  0%|          | 0/31 [00:00<?, ?it/s]"
     ]
    },
    {
     "name": "stdout",
     "output_type": "stream",
     "text": [
      "317 (19, 7)\n",
      "318 (7906, 7)\n"
     ]
    },
    {
     "name": "stderr",
     "output_type": "stream",
     "text": [
      "100%|██████████| 31/31 [00:06<00:00,  5.14it/s]\n",
      " 25%|██▌       | 1/4 [00:00<00:00,  5.26it/s]"
     ]
    },
    {
     "name": "stdout",
     "output_type": "stream",
     "text": [
      "319 (817, 7)\n"
     ]
    },
    {
     "name": "stderr",
     "output_type": "stream",
     "text": [
      "100%|██████████| 4/4 [00:00<00:00,  6.34it/s]\n",
      " 50%|█████     | 1/2 [00:00<00:00,  5.11it/s]"
     ]
    },
    {
     "name": "stdout",
     "output_type": "stream",
     "text": [
      "320 (473, 7)\n"
     ]
    },
    {
     "name": "stderr",
     "output_type": "stream",
     "text": [
      "100%|██████████| 2/2 [00:00<00:00,  5.44it/s]\n",
      "  6%|▌         | 1/18 [00:00<00:03,  5.25it/s]"
     ]
    },
    {
     "name": "stdout",
     "output_type": "stream",
     "text": [
      "321 (4555, 7)\n"
     ]
    },
    {
     "name": "stderr",
     "output_type": "stream",
     "text": [
      "100%|██████████| 18/18 [00:03<00:00,  5.21it/s]\n",
      " 25%|██▌       | 1/4 [00:00<00:00,  5.26it/s]"
     ]
    },
    {
     "name": "stdout",
     "output_type": "stream",
     "text": [
      "322 (1011, 7)\n"
     ]
    },
    {
     "name": "stderr",
     "output_type": "stream",
     "text": [
      "100%|██████████| 4/4 [00:00<00:00,  5.25it/s]\n",
      " 14%|█▍        | 1/7 [00:00<00:01,  5.12it/s]"
     ]
    },
    {
     "name": "stdout",
     "output_type": "stream",
     "text": [
      "323 (1622, 7)\n"
     ]
    },
    {
     "name": "stderr",
     "output_type": "stream",
     "text": [
      "100%|██████████| 7/7 [00:01<00:00,  5.62it/s]\n",
      "100%|██████████| 1/1 [00:00<00:00,  7.30it/s]\n",
      "  0%|          | 0/1 [00:00<?, ?it/s]"
     ]
    },
    {
     "name": "stdout",
     "output_type": "stream",
     "text": [
      "324 (173, 7)\n",
      "325 (186, 7)\n"
     ]
    },
    {
     "name": "stderr",
     "output_type": "stream",
     "text": [
      "100%|██████████| 1/1 [00:00<00:00,  6.73it/s]\n",
      "100%|██████████| 1/1 [00:00<00:00, 24.37it/s]\n",
      "  0%|          | 0/25 [00:00<?, ?it/s]"
     ]
    },
    {
     "name": "stdout",
     "output_type": "stream",
     "text": [
      "326 (27, 7)\n",
      "327 (6192, 7)\n"
     ]
    },
    {
     "name": "stderr",
     "output_type": "stream",
     "text": [
      "100%|██████████| 25/25 [00:04<00:00,  5.25it/s]\n",
      "  0%|          | 0/15 [00:00<?, ?it/s]"
     ]
    },
    {
     "name": "stdout",
     "output_type": "stream",
     "text": [
      "328 (3833, 7)\n"
     ]
    },
    {
     "name": "stderr",
     "output_type": "stream",
     "text": [
      "100%|██████████| 15/15 [00:02<00:00,  5.11it/s]\n",
      " 11%|█         | 1/9 [00:00<00:01,  5.27it/s]"
     ]
    },
    {
     "name": "stdout",
     "output_type": "stream",
     "text": [
      "329 (2156, 7)\n"
     ]
    },
    {
     "name": "stderr",
     "output_type": "stream",
     "text": [
      "100%|██████████| 9/9 [00:01<00:00,  5.47it/s]\n",
      "100%|██████████| 1/1 [00:00<00:00, 28.80it/s]\n",
      "  0%|          | 0/2 [00:00<?, ?it/s]"
     ]
    },
    {
     "name": "stdout",
     "output_type": "stream",
     "text": [
      "330 (20, 7)\n",
      "331 (450, 7)\n"
     ]
    },
    {
     "name": "stderr",
     "output_type": "stream",
     "text": [
      "100%|██████████| 2/2 [00:00<00:00,  5.83it/s]\n",
      " 33%|███▎      | 1/3 [00:00<00:00,  5.10it/s]"
     ]
    },
    {
     "name": "stdout",
     "output_type": "stream",
     "text": [
      "332 (549, 7)\n"
     ]
    },
    {
     "name": "stderr",
     "output_type": "stream",
     "text": [
      "100%|██████████| 3/3 [00:00<00:00,  6.82it/s]\n",
      " 25%|██▌       | 1/4 [00:00<00:00,  5.12it/s]"
     ]
    },
    {
     "name": "stdout",
     "output_type": "stream",
     "text": [
      "333 (868, 7)\n"
     ]
    },
    {
     "name": "stderr",
     "output_type": "stream",
     "text": [
      "100%|██████████| 4/4 [00:00<00:00,  5.91it/s]\n",
      " 50%|█████     | 1/2 [00:00<00:00,  5.26it/s]"
     ]
    },
    {
     "name": "stdout",
     "output_type": "stream",
     "text": [
      "334 (504, 7)\n"
     ]
    },
    {
     "name": "stderr",
     "output_type": "stream",
     "text": [
      "100%|██████████| 2/2 [00:00<00:00,  5.31it/s]\n",
      "100%|██████████| 1/1 [00:00<00:00, 54.63it/s]\n",
      "  0%|          | 0/26 [00:00<?, ?it/s]"
     ]
    },
    {
     "name": "stdout",
     "output_type": "stream",
     "text": [
      "335 (1, 7)\n",
      "336 (6451, 7)\n"
     ]
    },
    {
     "name": "stderr",
     "output_type": "stream",
     "text": [
      "100%|██████████| 26/26 [00:04<00:00,  5.29it/s]\n",
      "  0%|          | 0/72 [00:00<?, ?it/s]"
     ]
    },
    {
     "name": "stdout",
     "output_type": "stream",
     "text": [
      "337 (18268, 7)\n"
     ]
    },
    {
     "name": "stderr",
     "output_type": "stream",
     "text": [
      "100%|██████████| 72/72 [00:13<00:00,  5.16it/s]\n",
      " 25%|██▌       | 1/4 [00:00<00:00,  5.21it/s]"
     ]
    },
    {
     "name": "stdout",
     "output_type": "stream",
     "text": [
      "338 (924, 7)\n"
     ]
    },
    {
     "name": "stderr",
     "output_type": "stream",
     "text": [
      "100%|██████████| 4/4 [00:00<00:00,  5.60it/s]\n",
      "100%|██████████| 1/1 [00:00<00:00,  7.76it/s]\n",
      "  0%|          | 0/40 [00:00<?, ?it/s]"
     ]
    },
    {
     "name": "stdout",
     "output_type": "stream",
     "text": [
      "339 (153, 7)\n",
      "340 (10041, 7)\n"
     ]
    },
    {
     "name": "stderr",
     "output_type": "stream",
     "text": [
      "100%|██████████| 40/40 [00:07<00:00,  5.22it/s]\n",
      "  0%|          | 0/3 [00:00<?, ?it/s]"
     ]
    },
    {
     "name": "stdout",
     "output_type": "stream",
     "text": [
      "341 (744, 7)\n"
     ]
    },
    {
     "name": "stderr",
     "output_type": "stream",
     "text": [
      "100%|██████████| 3/3 [00:00<00:00,  5.34it/s]\n",
      " 10%|█         | 1/10 [00:00<00:01,  5.27it/s]"
     ]
    },
    {
     "name": "stdout",
     "output_type": "stream",
     "text": [
      "342 (2319, 7)\n"
     ]
    },
    {
     "name": "stderr",
     "output_type": "stream",
     "text": [
      "100%|██████████| 10/10 [00:01<00:00,  5.62it/s]\n",
      "100%|██████████| 1/1 [00:00<00:00, 12.13it/s]\n",
      "  0%|          | 0/81 [00:00<?, ?it/s]"
     ]
    },
    {
     "name": "stdout",
     "output_type": "stream",
     "text": [
      "343 (93, 7)\n",
      "344 (20554, 7)\n"
     ]
    },
    {
     "name": "stderr",
     "output_type": "stream",
     "text": [
      "100%|██████████| 81/81 [00:15<00:00,  5.14it/s]\n",
      "100%|██████████| 1/1 [00:00<00:00,  6.35it/s]\n",
      "  0%|          | 0/1 [00:00<?, ?it/s]"
     ]
    },
    {
     "name": "stdout",
     "output_type": "stream",
     "text": [
      "No columns to parse from file\n",
      "346 (195, 7)\n",
      "347 (44, 7)\n"
     ]
    },
    {
     "name": "stderr",
     "output_type": "stream",
     "text": [
      "100%|██████████| 1/1 [00:00<00:00, 19.16it/s]\n",
      " 14%|█▍        | 1/7 [00:00<00:01,  5.13it/s]"
     ]
    },
    {
     "name": "stdout",
     "output_type": "stream",
     "text": [
      "348 (1548, 7)\n"
     ]
    },
    {
     "name": "stderr",
     "output_type": "stream",
     "text": [
      "100%|██████████| 7/7 [00:01<00:00,  5.87it/s]\n",
      "  0%|          | 0/3 [00:00<?, ?it/s]"
     ]
    },
    {
     "name": "stdout",
     "output_type": "stream",
     "text": [
      "349 (657, 7)\n"
     ]
    },
    {
     "name": "stderr",
     "output_type": "stream",
     "text": [
      "100%|██████████| 3/3 [00:00<00:00,  5.67it/s]\n",
      "100%|██████████| 1/1 [00:00<00:00,  6.93it/s]\n",
      "  0%|          | 0/5 [00:00<?, ?it/s]"
     ]
    },
    {
     "name": "stdout",
     "output_type": "stream",
     "text": [
      "350 (173, 7)\n",
      "351 (1040, 7)\n"
     ]
    },
    {
     "name": "stderr",
     "output_type": "stream",
     "text": [
      "100%|██████████| 5/5 [00:00<00:00,  6.03it/s]\n",
      "  0%|          | 0/2 [00:00<?, ?it/s]"
     ]
    },
    {
     "name": "stdout",
     "output_type": "stream",
     "text": [
      "No columns to parse from file\n",
      "353 (356, 7)\n"
     ]
    },
    {
     "name": "stderr",
     "output_type": "stream",
     "text": [
      "100%|██████████| 2/2 [00:00<00:00,  6.95it/s]\n",
      "100%|██████████| 1/1 [00:00<00:00, 29.55it/s]\n",
      "  0%|          | 0/3 [00:00<?, ?it/s]"
     ]
    },
    {
     "name": "stdout",
     "output_type": "stream",
     "text": [
      "354 (17, 7)\n",
      "355 (756, 7)\n"
     ]
    },
    {
     "name": "stderr",
     "output_type": "stream",
     "text": [
      "100%|██████████| 3/3 [00:00<00:00,  5.14it/s]\n",
      "100%|██████████| 1/1 [00:00<00:00, 47.18it/s]\n",
      "  0%|          | 0/18 [00:00<?, ?it/s]"
     ]
    },
    {
     "name": "stdout",
     "output_type": "stream",
     "text": [
      "356 (4, 7)\n",
      "No columns to parse from file\n",
      "358 (4531, 7)\n"
     ]
    },
    {
     "name": "stderr",
     "output_type": "stream",
     "text": [
      "100%|██████████| 18/18 [00:03<00:00,  5.18it/s]\n",
      "100%|██████████| 1/1 [00:00<00:00, 35.76it/s]\n",
      "100%|██████████| 1/1 [00:00<00:00, 38.54it/s]\n",
      "  0%|          | 0/2 [00:00<?, ?it/s]"
     ]
    },
    {
     "name": "stdout",
     "output_type": "stream",
     "text": [
      "359 (14, 7)\n",
      "360 (10, 7)\n",
      "361 (466, 7)\n"
     ]
    },
    {
     "name": "stderr",
     "output_type": "stream",
     "text": [
      "100%|██████████| 2/2 [00:00<00:00,  5.51it/s]\n",
      " 50%|█████     | 1/2 [00:00<00:00,  5.11it/s]"
     ]
    },
    {
     "name": "stdout",
     "output_type": "stream",
     "text": [
      "362 (464, 7)\n"
     ]
    },
    {
     "name": "stderr",
     "output_type": "stream",
     "text": [
      "100%|██████████| 2/2 [00:00<00:00,  5.54it/s]\n",
      " 33%|███▎      | 1/3 [00:00<00:00,  5.13it/s]"
     ]
    },
    {
     "name": "stdout",
     "output_type": "stream",
     "text": [
      "363 (685, 7)\n"
     ]
    },
    {
     "name": "stderr",
     "output_type": "stream",
     "text": [
      "100%|██████████| 3/3 [00:00<00:00,  5.64it/s]\n",
      " 33%|███▎      | 1/3 [00:00<00:00,  5.11it/s]"
     ]
    },
    {
     "name": "stdout",
     "output_type": "stream",
     "text": [
      "364 (560, 7)\n"
     ]
    },
    {
     "name": "stderr",
     "output_type": "stream",
     "text": [
      "100%|██████████| 3/3 [00:00<00:00,  6.72it/s]\n",
      "  0%|          | 0/145 [00:00<?, ?it/s]"
     ]
    },
    {
     "name": "stdout",
     "output_type": "stream",
     "text": [
      "365 (37020, 7)\n"
     ]
    },
    {
     "name": "stderr",
     "output_type": "stream",
     "text": [
      "100%|██████████| 145/145 [00:28<00:00,  5.17it/s]\n",
      "  0%|          | 0/2 [00:00<?, ?it/s]"
     ]
    },
    {
     "name": "stdout",
     "output_type": "stream",
     "text": [
      "366 (333, 7)\n"
     ]
    },
    {
     "name": "stderr",
     "output_type": "stream",
     "text": [
      "100%|██████████| 2/2 [00:00<00:00,  7.38it/s]\n",
      "100%|██████████| 1/1 [00:00<00:00, 48.07it/s]\n",
      "  0%|          | 0/67 [00:00<?, ?it/s]"
     ]
    },
    {
     "name": "stdout",
     "output_type": "stream",
     "text": [
      "367 (3, 7)\n",
      "368 (17136, 7)\n"
     ]
    },
    {
     "name": "stderr",
     "output_type": "stream",
     "text": [
      "100%|██████████| 67/67 [00:12<00:00,  5.16it/s]\n",
      "100%|██████████| 1/1 [00:00<00:00, 44.90it/s]\n",
      "100%|██████████| 1/1 [00:00<00:00, 11.60it/s]\n",
      "  0%|          | 0/24 [00:00<?, ?it/s]"
     ]
    },
    {
     "name": "stdout",
     "output_type": "stream",
     "text": [
      "369 (4, 7)\n",
      "370 (95, 7)\n",
      "371 (5906, 7)\n"
     ]
    },
    {
     "name": "stderr",
     "output_type": "stream",
     "text": [
      "100%|██████████| 24/24 [00:04<00:00,  5.28it/s]\n",
      "100%|██████████| 1/1 [00:00<00:00,  8.27it/s]\n",
      "100%|██████████| 1/1 [00:00<00:00, 45.49it/s]\n",
      "  0%|          | 0/1 [00:00<?, ?it/s]"
     ]
    },
    {
     "name": "stdout",
     "output_type": "stream",
     "text": [
      "372 (146, 7)\n",
      "373 (5, 7)\n",
      "374 (249, 7)\n"
     ]
    },
    {
     "name": "stderr",
     "output_type": "stream",
     "text": [
      "100%|██████████| 1/1 [00:00<00:00,  5.17it/s]\n",
      "  0%|          | 0/25 [00:00<?, ?it/s]"
     ]
    },
    {
     "name": "stdout",
     "output_type": "stream",
     "text": [
      "375 (6180, 7)\n"
     ]
    },
    {
     "name": "stderr",
     "output_type": "stream",
     "text": [
      "100%|██████████| 25/25 [00:04<00:00,  5.29it/s]\n",
      "100%|██████████| 1/1 [00:00<00:00,  9.17it/s]\n",
      "100%|██████████| 1/1 [00:00<00:00, 37.69it/s]\n",
      "  0%|          | 0/1 [00:00<?, ?it/s]"
     ]
    },
    {
     "name": "stdout",
     "output_type": "stream",
     "text": [
      "376 (127, 7)\n",
      "377 (11, 7)\n",
      "378 (194, 7)\n"
     ]
    },
    {
     "name": "stderr",
     "output_type": "stream",
     "text": [
      "100%|██████████| 1/1 [00:00<00:00,  6.39it/s]\n",
      " 50%|█████     | 1/2 [00:00<00:00,  5.10it/s]"
     ]
    },
    {
     "name": "stdout",
     "output_type": "stream",
     "text": [
      "379 (317, 7)\n"
     ]
    },
    {
     "name": "stderr",
     "output_type": "stream",
     "text": [
      "100%|██████████| 2/2 [00:00<00:00,  7.69it/s]\n",
      "  0%|          | 0/17 [00:00<?, ?it/s]"
     ]
    },
    {
     "name": "stdout",
     "output_type": "stream",
     "text": [
      "380 (4181, 7)\n"
     ]
    },
    {
     "name": "stderr",
     "output_type": "stream",
     "text": [
      "100%|██████████| 17/17 [00:03<00:00,  5.35it/s]\n",
      " 25%|██▌       | 1/4 [00:00<00:00,  5.25it/s]"
     ]
    },
    {
     "name": "stdout",
     "output_type": "stream",
     "text": [
      "381 (803, 7)\n"
     ]
    },
    {
     "name": "stderr",
     "output_type": "stream",
     "text": [
      "100%|██████████| 4/4 [00:00<00:00,  6.47it/s]\n",
      "100%|██████████| 1/1 [00:00<00:00, 48.28it/s]\n",
      "  0%|          | 0/11 [00:00<?, ?it/s]"
     ]
    },
    {
     "name": "stdout",
     "output_type": "stream",
     "text": [
      "382 (3, 7)\n",
      "383 (2610, 7)\n"
     ]
    },
    {
     "name": "stderr",
     "output_type": "stream",
     "text": [
      "100%|██████████| 11/11 [00:02<00:00,  5.42it/s]\n",
      "100%|██████████| 1/1 [00:00<00:00, 21.76it/s]\n",
      "100%|██████████| 1/1 [00:00<00:00, 38.75it/s]\n",
      "100%|██████████| 1/1 [00:00<00:00, 34.52it/s]\n",
      "  0%|          | 0/1 [00:00<?, ?it/s]"
     ]
    },
    {
     "name": "stdout",
     "output_type": "stream",
     "text": [
      "384 (36, 7)\n",
      "385 (10, 7)\n",
      "386 (14, 7)\n",
      "387 (249, 7)\n"
     ]
    },
    {
     "name": "stderr",
     "output_type": "stream",
     "text": [
      "100%|██████████| 1/1 [00:00<00:00,  5.09it/s]\n",
      "100%|██████████| 1/1 [00:00<00:00, 36.79it/s]\n",
      "100%|██████████| 1/1 [00:00<00:00, 17.56it/s]\n",
      "100%|██████████| 1/1 [00:00<00:00, 34.39it/s]\n",
      "  0%|          | 0/5 [00:00<?, ?it/s]"
     ]
    },
    {
     "name": "stdout",
     "output_type": "stream",
     "text": [
      "388 (11, 7)\n",
      "389 (49, 7)\n",
      "390 (14, 7)\n",
      "391 (1026, 7)\n"
     ]
    },
    {
     "name": "stderr",
     "output_type": "stream",
     "text": [
      "100%|██████████| 5/5 [00:00<00:00,  6.02it/s]\n",
      "100%|██████████| 1/1 [00:00<00:00, 48.86it/s]\n",
      "  0%|          | 0/1 [00:00<?, ?it/s]"
     ]
    },
    {
     "name": "stdout",
     "output_type": "stream",
     "text": [
      "No columns to parse from file\n",
      "393 (2, 7)\n",
      "394 (233, 7)\n"
     ]
    },
    {
     "name": "stderr",
     "output_type": "stream",
     "text": [
      "100%|██████████| 1/1 [00:00<00:00,  5.52it/s]\n",
      "  0%|          | 0/2 [00:00<?, ?it/s]"
     ]
    },
    {
     "name": "stdout",
     "output_type": "stream",
     "text": [
      "No columns to parse from file\n",
      "396 (377, 7)\n"
     ]
    },
    {
     "name": "stderr",
     "output_type": "stream",
     "text": [
      "100%|██████████| 2/2 [00:00<00:00,  6.59it/s]\n",
      " 25%|██▌       | 1/4 [00:00<00:00,  5.11it/s]"
     ]
    },
    {
     "name": "stdout",
     "output_type": "stream",
     "text": [
      "397 (951, 7)\n"
     ]
    },
    {
     "name": "stderr",
     "output_type": "stream",
     "text": [
      "100%|██████████| 4/4 [00:00<00:00,  5.32it/s]\n",
      "100%|██████████| 1/1 [00:00<00:00, 34.49it/s]\n",
      "  0%|          | 0/1 [00:00<?, ?it/s]"
     ]
    },
    {
     "name": "stdout",
     "output_type": "stream",
     "text": [
      "398 (14, 7)\n",
      "399 (220, 7)\n"
     ]
    },
    {
     "name": "stderr",
     "output_type": "stream",
     "text": [
      "100%|██████████| 1/1 [00:00<00:00,  5.66it/s]\n",
      "100%|██████████| 1/1 [00:00<00:00, 36.57it/s]\n",
      "  0%|          | 0/2 [00:00<?, ?it/s]"
     ]
    },
    {
     "name": "stdout",
     "output_type": "stream",
     "text": [
      "400 (11, 7)\n",
      "401 (339, 7)\n"
     ]
    },
    {
     "name": "stderr",
     "output_type": "stream",
     "text": [
      "100%|██████████| 2/2 [00:00<00:00,  7.08it/s]\n",
      "100%|██████████| 1/1 [00:00<00:00, 34.57it/s]\n",
      "  0%|          | 0/20 [00:00<?, ?it/s]"
     ]
    },
    {
     "name": "stdout",
     "output_type": "stream",
     "text": [
      "402 (14, 7)\n",
      "403 (4974, 7)\n"
     ]
    },
    {
     "name": "stderr",
     "output_type": "stream",
     "text": [
      "100%|██████████| 20/20 [00:03<00:00,  5.19it/s]\n",
      "100%|██████████| 1/1 [00:00<00:00, 43.02it/s]\n",
      "  0%|          | 0/4 [00:00<?, ?it/s]"
     ]
    },
    {
     "name": "stdout",
     "output_type": "stream",
     "text": [
      "404 (7, 7)\n",
      "405 (886, 7)\n"
     ]
    },
    {
     "name": "stderr",
     "output_type": "stream",
     "text": [
      "100%|██████████| 4/4 [00:00<00:00,  5.81it/s]\n",
      " 20%|██        | 1/5 [00:00<00:00,  5.12it/s]"
     ]
    },
    {
     "name": "stdout",
     "output_type": "stream",
     "text": [
      "406 (1165, 7)\n"
     ]
    },
    {
     "name": "stderr",
     "output_type": "stream",
     "text": [
      "100%|██████████| 5/5 [00:00<00:00,  5.42it/s]\n",
      "100%|██████████| 1/1 [00:00<00:00, 23.26it/s]\n",
      "  0%|          | 0/12 [00:00<?, ?it/s]"
     ]
    },
    {
     "name": "stdout",
     "output_type": "stream",
     "text": [
      "407 (31, 7)\n",
      "408 (2903, 7)\n"
     ]
    },
    {
     "name": "stderr",
     "output_type": "stream",
     "text": [
      "100%|██████████| 12/12 [00:02<00:00,  5.31it/s]\n",
      "  0%|          | 0/20 [00:00<?, ?it/s]"
     ]
    },
    {
     "name": "stdout",
     "output_type": "stream",
     "text": [
      "409 (5046, 7)\n"
     ]
    },
    {
     "name": "stderr",
     "output_type": "stream",
     "text": [
      "100%|██████████| 20/20 [00:03<00:00,  5.06it/s]\n",
      "  0%|          | 0/7 [00:00<?, ?it/s]"
     ]
    },
    {
     "name": "stdout",
     "output_type": "stream",
     "text": [
      "410 (1604, 7)\n"
     ]
    },
    {
     "name": "stderr",
     "output_type": "stream",
     "text": [
      "100%|██████████| 7/7 [00:01<00:00,  5.53it/s]\n",
      "100%|██████████| 1/1 [00:00<00:00, 16.75it/s]\n",
      "100%|██████████| 1/1 [00:00<00:00, 42.63it/s]\n",
      "  0%|          | 0/10 [00:00<?, ?it/s]"
     ]
    },
    {
     "name": "stdout",
     "output_type": "stream",
     "text": [
      "411 (55, 7)\n",
      "412 (8, 7)\n",
      "413 (2455, 7)\n"
     ]
    },
    {
     "name": "stderr",
     "output_type": "stream",
     "text": [
      "100%|██████████| 10/10 [00:02<00:00,  4.96it/s]\n",
      "  0%|          | 0/3 [00:00<?, ?it/s]"
     ]
    },
    {
     "name": "stdout",
     "output_type": "stream",
     "text": [
      "414 (625, 7)\n"
     ]
    },
    {
     "name": "stderr",
     "output_type": "stream",
     "text": [
      "100%|██████████| 3/3 [00:00<00:00,  5.44it/s]\n",
      "  0%|          | 0/7 [00:00<?, ?it/s]"
     ]
    },
    {
     "name": "stdout",
     "output_type": "stream",
     "text": [
      "415 (1775, 7)\n"
     ]
    },
    {
     "name": "stderr",
     "output_type": "stream",
     "text": [
      "100%|██████████| 7/7 [00:01<00:00,  4.86it/s]\n",
      "100%|██████████| 1/1 [00:00<00:00, 21.85it/s]\n",
      "  0%|          | 0/20 [00:00<?, ?it/s]"
     ]
    },
    {
     "name": "stdout",
     "output_type": "stream",
     "text": [
      "416 (33, 7)\n",
      "417 (4962, 7)\n"
     ]
    },
    {
     "name": "stderr",
     "output_type": "stream",
     "text": [
      "100%|██████████| 20/20 [00:03<00:00,  5.07it/s]\n",
      "  0%|          | 0/2 [00:00<?, ?it/s]"
     ]
    },
    {
     "name": "stdout",
     "output_type": "stream",
     "text": [
      "418 (307, 7)\n"
     ]
    },
    {
     "name": "stderr",
     "output_type": "stream",
     "text": [
      "100%|██████████| 2/2 [00:00<00:00,  7.73it/s]\n",
      "  0%|          | 0/6 [00:00<?, ?it/s]"
     ]
    },
    {
     "name": "stdout",
     "output_type": "stream",
     "text": [
      "419 (1330, 7)\n"
     ]
    },
    {
     "name": "stderr",
     "output_type": "stream",
     "text": [
      "100%|██████████| 6/6 [00:01<00:00,  5.66it/s]\n",
      "100%|██████████| 1/1 [00:00<00:00, 52.06it/s]\n",
      "  0%|          | 0/6 [00:00<?, ?it/s]"
     ]
    },
    {
     "name": "stdout",
     "output_type": "stream",
     "text": [
      "420 (1, 7)\n",
      "421 (1507, 7)\n"
     ]
    },
    {
     "name": "stderr",
     "output_type": "stream",
     "text": [
      "100%|██████████| 6/6 [00:01<00:00,  5.05it/s]\n",
      "  0%|          | 0/9 [00:00<?, ?it/s]"
     ]
    },
    {
     "name": "stdout",
     "output_type": "stream",
     "text": [
      "422 (2066, 7)\n"
     ]
    },
    {
     "name": "stderr",
     "output_type": "stream",
     "text": [
      "100%|██████████| 9/9 [00:01<00:00,  5.45it/s]\n",
      "  0%|          | 0/5 [00:00<?, ?it/s]"
     ]
    },
    {
     "name": "stdout",
     "output_type": "stream",
     "text": [
      "423 (1224, 7)\n"
     ]
    },
    {
     "name": "stderr",
     "output_type": "stream",
     "text": [
      "100%|██████████| 5/5 [00:00<00:00,  5.15it/s]\n",
      "100%|██████████| 1/1 [00:00<00:00, 46.75it/s]\n",
      "100%|██████████| 1/1 [00:00<00:00, 27.00it/s]\n",
      "  0%|          | 0/6 [00:00<?, ?it/s]"
     ]
    },
    {
     "name": "stdout",
     "output_type": "stream",
     "text": [
      "424 (3, 7)\n",
      "425 (21, 7)\n",
      "No columns to parse from file\n",
      "427 (1349, 7)\n"
     ]
    },
    {
     "name": "stderr",
     "output_type": "stream",
     "text": [
      "100%|██████████| 6/6 [00:01<00:00,  5.63it/s]\n",
      "100%|██████████| 1/1 [00:00<00:00, 35.65it/s]\n",
      "  0%|          | 0/7 [00:00<?, ?it/s]"
     ]
    },
    {
     "name": "stdout",
     "output_type": "stream",
     "text": [
      "428 (13, 7)\n",
      "429 (1789, 7)\n"
     ]
    },
    {
     "name": "stderr",
     "output_type": "stream",
     "text": [
      "100%|██████████| 7/7 [00:01<00:00,  5.01it/s]\n",
      "100%|██████████| 1/1 [00:00<00:00,  6.69it/s]\n",
      "  0%|          | 0/12 [00:00<?, ?it/s]"
     ]
    },
    {
     "name": "stdout",
     "output_type": "stream",
     "text": [
      "430 (181, 7)\n",
      "431 (3049, 7)\n"
     ]
    },
    {
     "name": "stderr",
     "output_type": "stream",
     "text": [
      "100%|██████████| 12/12 [00:02<00:00,  5.09it/s]\n",
      "  8%|▊         | 1/13 [00:00<00:02,  5.09it/s]"
     ]
    },
    {
     "name": "stdout",
     "output_type": "stream",
     "text": [
      "432 (3176, 7)\n"
     ]
    },
    {
     "name": "stderr",
     "output_type": "stream",
     "text": [
      "100%|██████████| 13/13 [00:02<00:00,  5.32it/s]\n",
      " 25%|██▌       | 1/4 [00:00<00:00,  5.15it/s]"
     ]
    },
    {
     "name": "stdout",
     "output_type": "stream",
     "text": [
      "433 (788, 7)\n"
     ]
    },
    {
     "name": "stderr",
     "output_type": "stream",
     "text": [
      "100%|██████████| 4/4 [00:00<00:00,  6.43it/s]\n",
      "  6%|▋         | 1/16 [00:00<00:02,  5.12it/s]"
     ]
    },
    {
     "name": "stdout",
     "output_type": "stream",
     "text": [
      "434 (3868, 7)\n"
     ]
    },
    {
     "name": "stderr",
     "output_type": "stream",
     "text": [
      "100%|██████████| 16/16 [00:02<00:00,  5.34it/s]\n",
      " 17%|█▋        | 1/6 [00:00<00:00,  5.13it/s]"
     ]
    },
    {
     "name": "stdout",
     "output_type": "stream",
     "text": [
      "435 (1396, 7)\n"
     ]
    },
    {
     "name": "stderr",
     "output_type": "stream",
     "text": [
      "100%|██████████| 6/6 [00:01<00:00,  5.56it/s]\n",
      "100%|██████████| 1/1 [00:00<00:00, 19.46it/s]\n",
      "100%|██████████| 1/1 [00:00<00:00, 28.31it/s]\n",
      "100%|██████████| 1/1 [00:00<00:00, 43.11it/s]\n",
      "  0%|          | 0/1 [00:00<?, ?it/s]"
     ]
    },
    {
     "name": "stdout",
     "output_type": "stream",
     "text": [
      "436 (43, 7)\n",
      "437 (20, 7)\n",
      "No columns to parse from file\n",
      "No columns to parse from file\n",
      "440 (8, 7)\n",
      "441 (142, 7)\n"
     ]
    },
    {
     "name": "stderr",
     "output_type": "stream",
     "text": [
      "100%|██████████| 1/1 [00:00<00:00,  8.10it/s]\n",
      "100%|██████████| 1/1 [00:00<00:00, 26.16it/s]\n",
      "100%|██████████| 1/1 [00:00<00:00, 17.04it/s]\n",
      "  0%|          | 0/9 [00:00<?, ?it/s]"
     ]
    },
    {
     "name": "stdout",
     "output_type": "stream",
     "text": [
      "442 (23, 7)\n",
      "443 (52, 7)\n",
      "444 (2073, 7)\n"
     ]
    },
    {
     "name": "stderr",
     "output_type": "stream",
     "text": [
      "100%|██████████| 9/9 [00:01<00:00,  5.49it/s]\n",
      " 20%|██        | 1/5 [00:00<00:00,  5.13it/s]"
     ]
    },
    {
     "name": "stdout",
     "output_type": "stream",
     "text": [
      "445 (1127, 7)\n"
     ]
    },
    {
     "name": "stderr",
     "output_type": "stream",
     "text": [
      "100%|██████████| 5/5 [00:00<00:00,  5.72it/s]\n",
      "100%|██████████| 1/1 [00:00<00:00, 45.27it/s]\n",
      "  0%|          | 0/31 [00:00<?, ?it/s]"
     ]
    },
    {
     "name": "stdout",
     "output_type": "stream",
     "text": [
      "446 (5, 7)\n",
      "447 (7911, 7)\n"
     ]
    },
    {
     "name": "stderr",
     "output_type": "stream",
     "text": [
      "100%|██████████| 31/31 [00:06<00:00,  5.00it/s]\n",
      "100%|██████████| 1/1 [00:00<00:00,  5.39it/s]\n",
      "  0%|          | 0/1 [00:00<?, ?it/s]"
     ]
    },
    {
     "name": "stdout",
     "output_type": "stream",
     "text": [
      "448 (233, 7)\n",
      "449 (1, 7)\n"
     ]
    },
    {
     "name": "stderr",
     "output_type": "stream",
     "text": [
      "100%|██████████| 1/1 [00:00<00:00, 51.96it/s]\n",
      "  0%|          | 0/27 [00:00<?, ?it/s]"
     ]
    },
    {
     "name": "stdout",
     "output_type": "stream",
     "text": [
      "450 (6785, 7)\n"
     ]
    },
    {
     "name": "stderr",
     "output_type": "stream",
     "text": [
      "100%|██████████| 27/27 [00:05<00:00,  5.02it/s]\n",
      "100%|██████████| 1/1 [00:00<00:00, 11.84it/s]\n",
      "100%|██████████| 1/1 [00:00<00:00, 34.65it/s]\n",
      "  0%|          | 0/2 [00:00<?, ?it/s]"
     ]
    },
    {
     "name": "stdout",
     "output_type": "stream",
     "text": [
      "451 (89, 7)\n",
      "452 (14, 7)\n",
      "453 (419, 7)\n"
     ]
    },
    {
     "name": "stderr",
     "output_type": "stream",
     "text": [
      "100%|██████████| 2/2 [00:00<00:00,  5.93it/s]\n",
      "  0%|          | 0/5 [00:00<?, ?it/s]"
     ]
    },
    {
     "name": "stdout",
     "output_type": "stream",
     "text": [
      "454 (1097, 7)\n"
     ]
    },
    {
     "name": "stderr",
     "output_type": "stream",
     "text": [
      "100%|██████████| 5/5 [00:00<00:00,  5.69it/s]\n",
      "  0%|          | 0/2 [00:00<?, ?it/s]"
     ]
    },
    {
     "name": "stdout",
     "output_type": "stream",
     "text": [
      "No columns to parse from file\n",
      "456 (456, 7)\n"
     ]
    },
    {
     "name": "stderr",
     "output_type": "stream",
     "text": [
      "100%|██████████| 2/2 [00:00<00:00,  5.53it/s]\n",
      "100%|██████████| 1/1 [00:00<00:00,  7.84it/s]\n",
      "  0%|          | 0/1 [00:00<?, ?it/s]"
     ]
    },
    {
     "name": "stdout",
     "output_type": "stream",
     "text": [
      "457 (147, 7)\n",
      "458 (57, 7)\n"
     ]
    },
    {
     "name": "stderr",
     "output_type": "stream",
     "text": [
      "100%|██████████| 1/1 [00:00<00:00, 16.08it/s]\n",
      "100%|██████████| 1/1 [00:00<00:00, 44.53it/s]\n",
      "  0%|          | 0/2 [00:00<?, ?it/s]"
     ]
    },
    {
     "name": "stdout",
     "output_type": "stream",
     "text": [
      "459 (5, 7)\n",
      "460 (313, 7)\n"
     ]
    },
    {
     "name": "stderr",
     "output_type": "stream",
     "text": [
      "100%|██████████| 2/2 [00:00<00:00,  7.59it/s]\n",
      "100%|██████████| 1/1 [00:00<00:00, 35.66it/s]\n",
      "  0%|          | 0/14 [00:00<?, ?it/s]"
     ]
    },
    {
     "name": "stdout",
     "output_type": "stream",
     "text": [
      "461 (13, 7)\n",
      "462 (3397, 7)\n"
     ]
    },
    {
     "name": "stderr",
     "output_type": "stream",
     "text": [
      "100%|██████████| 14/14 [00:02<00:00,  5.19it/s]\n",
      "  7%|▋         | 1/14 [00:00<00:02,  5.13it/s]"
     ]
    },
    {
     "name": "stdout",
     "output_type": "stream",
     "text": [
      "463 (3422, 7)\n"
     ]
    },
    {
     "name": "stderr",
     "output_type": "stream",
     "text": [
      "100%|██████████| 14/14 [00:02<00:00,  5.31it/s]\n",
      "  5%|▌         | 1/19 [00:00<00:03,  5.15it/s]"
     ]
    },
    {
     "name": "stdout",
     "output_type": "stream",
     "text": [
      "464 (4749, 7)\n"
     ]
    },
    {
     "name": "stderr",
     "output_type": "stream",
     "text": [
      "100%|██████████| 19/19 [00:03<00:00,  5.20it/s]\n",
      "100%|██████████| 1/1 [00:00<00:00, 12.51it/s]\n",
      "100%|██████████| 1/1 [00:00<00:00, 49.14it/s]\n",
      "  0%|          | 0/1 [00:00<?, ?it/s]"
     ]
    },
    {
     "name": "stdout",
     "output_type": "stream",
     "text": [
      "465 (82, 7)\n",
      "No columns to parse from file\n",
      "467 (2, 7)\n",
      "468 (106, 7)\n"
     ]
    },
    {
     "name": "stderr",
     "output_type": "stream",
     "text": [
      "100%|██████████| 1/1 [00:00<00:00, 10.30it/s]\n",
      "100%|██████████| 1/1 [00:00<00:00, 42.10it/s]\n",
      "  0%|          | 0/3 [00:00<?, ?it/s]"
     ]
    },
    {
     "name": "stdout",
     "output_type": "stream",
     "text": [
      "469 (8, 7)\n",
      "470 (607, 7)\n"
     ]
    },
    {
     "name": "stderr",
     "output_type": "stream",
     "text": [
      "100%|██████████| 3/3 [00:00<00:00,  6.11it/s]\n",
      "100%|██████████| 1/1 [00:00<00:00, 43.32it/s]\n",
      "  0%|          | 0/6 [00:00<?, ?it/s]"
     ]
    },
    {
     "name": "stdout",
     "output_type": "stream",
     "text": [
      "471 (6, 7)\n",
      "472 (1362, 7)\n"
     ]
    },
    {
     "name": "stderr",
     "output_type": "stream",
     "text": [
      "100%|██████████| 6/6 [00:01<00:00,  5.54it/s]\n",
      "  0%|          | 0/8 [00:00<?, ?it/s]"
     ]
    },
    {
     "name": "stdout",
     "output_type": "stream",
     "text": [
      "473 (1885, 7)\n"
     ]
    },
    {
     "name": "stderr",
     "output_type": "stream",
     "text": [
      "100%|██████████| 8/8 [00:01<00:00,  5.41it/s]\n",
      " 20%|██        | 1/5 [00:00<00:00,  5.15it/s]"
     ]
    },
    {
     "name": "stdout",
     "output_type": "stream",
     "text": [
      "474 (1053, 7)\n"
     ]
    },
    {
     "name": "stderr",
     "output_type": "stream",
     "text": [
      "100%|██████████| 5/5 [00:00<00:00,  6.02it/s]\n",
      "100%|██████████| 1/1 [00:00<00:00, 24.41it/s]\n",
      "100%|██████████| 1/1 [00:00<00:00, 35.61it/s]\n",
      "  0%|          | 0/23 [00:00<?, ?it/s]"
     ]
    },
    {
     "name": "stdout",
     "output_type": "stream",
     "text": [
      "475 (28, 7)\n",
      "476 (13, 7)\n",
      "477 (5855, 7)\n"
     ]
    },
    {
     "name": "stderr",
     "output_type": "stream",
     "text": [
      "100%|██████████| 23/23 [00:04<00:00,  5.10it/s]\n",
      "  0%|          | 0/2 [00:00<?, ?it/s]"
     ]
    },
    {
     "name": "stdout",
     "output_type": "stream",
     "text": [
      "478 (500, 7)\n"
     ]
    },
    {
     "name": "stderr",
     "output_type": "stream",
     "text": [
      "100%|██████████| 2/2 [00:00<00:00,  5.11it/s]\n",
      "100%|██████████| 1/1 [00:00<00:00, 36.78it/s]\n",
      "  0%|          | 0/6 [00:00<?, ?it/s]"
     ]
    },
    {
     "name": "stdout",
     "output_type": "stream",
     "text": [
      "479 (11, 7)\n",
      "480 (1489, 7)\n"
     ]
    },
    {
     "name": "stderr",
     "output_type": "stream",
     "text": [
      "100%|██████████| 6/6 [00:01<00:00,  5.04it/s]\n",
      "100%|██████████| 1/1 [00:00<00:00, 41.67it/s]\n",
      "  0%|          | 0/56 [00:00<?, ?it/s]"
     ]
    },
    {
     "name": "stdout",
     "output_type": "stream",
     "text": [
      "481 (8, 7)\n",
      "482 (14232, 7)\n"
     ]
    },
    {
     "name": "stderr",
     "output_type": "stream",
     "text": [
      "100%|██████████| 56/56 [00:11<00:00,  5.08it/s]\n",
      "100%|██████████| 1/1 [00:00<00:00,  7.63it/s]\n",
      "  0%|          | 0/17 [00:00<?, ?it/s]"
     ]
    },
    {
     "name": "stdout",
     "output_type": "stream",
     "text": [
      "483 (157, 7)\n",
      "484 (4244, 7)\n"
     ]
    },
    {
     "name": "stderr",
     "output_type": "stream",
     "text": [
      "100%|██████████| 17/17 [00:03<00:00,  5.28it/s]\n",
      "  7%|▋         | 1/14 [00:00<00:02,  5.13it/s]"
     ]
    },
    {
     "name": "stdout",
     "output_type": "stream",
     "text": [
      "485 (3389, 7)\n"
     ]
    },
    {
     "name": "stderr",
     "output_type": "stream",
     "text": [
      "100%|██████████| 14/14 [00:02<00:00,  5.43it/s]\n",
      "  0%|          | 0/14 [00:00<?, ?it/s]"
     ]
    },
    {
     "name": "stdout",
     "output_type": "stream",
     "text": [
      "486 (3502, 7)\n"
     ]
    },
    {
     "name": "stderr",
     "output_type": "stream",
     "text": [
      "100%|██████████| 14/14 [00:02<00:00,  5.24it/s]\n",
      "100%|██████████| 1/1 [00:00<00:00,  6.64it/s]\n",
      "  0%|          | 0/1 [00:00<?, ?it/s]"
     ]
    },
    {
     "name": "stdout",
     "output_type": "stream",
     "text": [
      "487 (188, 7)\n",
      "488 (58, 7)\n"
     ]
    },
    {
     "name": "stderr",
     "output_type": "stream",
     "text": [
      "100%|██████████| 1/1 [00:00<00:00, 16.70it/s]\n",
      "100%|██████████| 1/1 [00:00<00:00, 28.87it/s]\n",
      "100%|██████████| 1/1 [00:00<00:00, 22.25it/s]\n",
      "100%|██████████| 1/1 [00:00<00:00, 30.07it/s]\n",
      "100%|██████████| 1/1 [00:00<00:00, 25.01it/s]\n",
      "  0%|          | 0/1 [00:00<?, ?it/s]"
     ]
    },
    {
     "name": "stdout",
     "output_type": "stream",
     "text": [
      "489 (20, 7)\n",
      "490 (36, 7)\n",
      "491 (17, 7)\n",
      "492 (28, 7)\n",
      "493 (20, 7)\n"
     ]
    },
    {
     "name": "stderr",
     "output_type": "stream",
     "text": [
      "100%|██████████| 1/1 [00:00<00:00, 28.50it/s]\n",
      " 12%|█▎        | 1/8 [00:00<00:01,  5.12it/s]"
     ]
    },
    {
     "name": "stdout",
     "output_type": "stream",
     "text": [
      "494 (1849, 7)\n"
     ]
    },
    {
     "name": "stderr",
     "output_type": "stream",
     "text": [
      "100%|██████████| 8/8 [00:01<00:00,  5.63it/s]\n",
      " 33%|███▎      | 1/3 [00:00<00:00,  5.19it/s]"
     ]
    },
    {
     "name": "stdout",
     "output_type": "stream",
     "text": [
      "495 (766, 7)\n"
     ]
    },
    {
     "name": "stderr",
     "output_type": "stream",
     "text": [
      "100%|██████████| 3/3 [00:00<00:00,  5.22it/s]\n",
      "  5%|▍         | 1/21 [00:00<00:03,  5.28it/s]"
     ]
    },
    {
     "name": "stdout",
     "output_type": "stream",
     "text": [
      "496 (5230, 7)\n"
     ]
    },
    {
     "name": "stderr",
     "output_type": "stream",
     "text": [
      "100%|██████████| 21/21 [00:03<00:00,  5.30it/s]\n",
      "  0%|          | 0/31 [00:00<?, ?it/s]"
     ]
    },
    {
     "name": "stdout",
     "output_type": "stream",
     "text": [
      "497 (7911, 7)\n"
     ]
    },
    {
     "name": "stderr",
     "output_type": "stream",
     "text": [
      "100%|██████████| 31/31 [00:06<00:00,  5.14it/s]\n",
      " 20%|██        | 1/5 [00:00<00:00,  5.25it/s]"
     ]
    },
    {
     "name": "stdout",
     "output_type": "stream",
     "text": [
      "498 (1201, 7)\n"
     ]
    },
    {
     "name": "stderr",
     "output_type": "stream",
     "text": [
      "100%|██████████| 5/5 [00:00<00:00,  5.51it/s]\n",
      "100%|██████████| 1/1 [00:00<00:00, 13.39it/s]\n",
      "100%|██████████| 1/1 [00:00<00:00, 19.98it/s]\n",
      "100%|██████████| 1/1 [00:00<00:00, 47.55it/s]\n",
      "  0%|          | 0/15 [00:00<?, ?it/s]"
     ]
    },
    {
     "name": "stdout",
     "output_type": "stream",
     "text": [
      "499 (78, 7)\n",
      "500 (41, 7)\n",
      "501 (4, 7)\n",
      "502 (3704, 7)\n"
     ]
    },
    {
     "name": "stderr",
     "output_type": "stream",
     "text": [
      "100%|██████████| 15/15 [00:02<00:00,  5.26it/s]\n",
      "100%|██████████| 1/1 [00:00<00:00, 12.97it/s]\n",
      "  0%|          | 0/5 [00:00<?, ?it/s]"
     ]
    },
    {
     "name": "stdout",
     "output_type": "stream",
     "text": [
      "503 (81, 7)\n",
      "504 (1248, 7)\n"
     ]
    },
    {
     "name": "stderr",
     "output_type": "stream",
     "text": [
      "100%|██████████| 5/5 [00:00<00:00,  5.16it/s]\n",
      "100%|██████████| 1/1 [00:00<00:00, 22.67it/s]\n",
      "  0%|          | 0/4 [00:00<?, ?it/s]"
     ]
    },
    {
     "name": "stdout",
     "output_type": "stream",
     "text": [
      "505 (30, 7)\n",
      "506 (802, 7)\n"
     ]
    },
    {
     "name": "stderr",
     "output_type": "stream",
     "text": [
      "100%|██████████| 4/4 [00:00<00:00,  6.37it/s]\n",
      " 20%|██        | 1/5 [00:00<00:00,  5.15it/s]"
     ]
    },
    {
     "name": "stdout",
     "output_type": "stream",
     "text": [
      "507 (1095, 7)\n"
     ]
    },
    {
     "name": "stderr",
     "output_type": "stream",
     "text": [
      "100%|██████████| 5/5 [00:00<00:00,  5.85it/s]\n",
      "100%|██████████| 1/1 [00:00<00:00,  6.17it/s]\n",
      "  0%|          | 0/1 [00:00<?, ?it/s]"
     ]
    },
    {
     "name": "stdout",
     "output_type": "stream",
     "text": [
      "508 (207, 7)\n",
      "509 (50, 7)\n"
     ]
    },
    {
     "name": "stderr",
     "output_type": "stream",
     "text": [
      "100%|██████████| 1/1 [00:00<00:00, 16.73it/s]\n",
      "  0%|          | 0/3 [00:00<?, ?it/s]"
     ]
    },
    {
     "name": "stdout",
     "output_type": "stream",
     "text": [
      "510 (640, 7)\n"
     ]
    },
    {
     "name": "stderr",
     "output_type": "stream",
     "text": [
      "100%|██████████| 3/3 [00:00<00:00,  5.83it/s]\n",
      "  0%|          | 0/82 [00:00<?, ?it/s]"
     ]
    },
    {
     "name": "stdout",
     "output_type": "stream",
     "text": [
      "511 (20746, 7)\n"
     ]
    },
    {
     "name": "stderr",
     "output_type": "stream",
     "text": [
      "100%|██████████| 82/82 [00:15<00:00,  5.22it/s]\n",
      "  0%|          | 0/2 [00:00<?, ?it/s]"
     ]
    },
    {
     "name": "stdout",
     "output_type": "stream",
     "text": [
      "512 (283, 7)\n"
     ]
    },
    {
     "name": "stderr",
     "output_type": "stream",
     "text": [
      "100%|██████████| 2/2 [00:00<00:00,  8.36it/s]\n",
      "100%|██████████| 1/1 [00:00<00:00, 11.20it/s]\n",
      "  0%|          | 0/2 [00:00<?, ?it/s]"
     ]
    },
    {
     "name": "stdout",
     "output_type": "stream",
     "text": [
      "513 (99, 7)\n",
      "514 (358, 7)\n"
     ]
    },
    {
     "name": "stderr",
     "output_type": "stream",
     "text": [
      "100%|██████████| 2/2 [00:00<00:00,  6.93it/s]\n",
      " 50%|█████     | 1/2 [00:00<00:00,  5.13it/s]"
     ]
    },
    {
     "name": "stdout",
     "output_type": "stream",
     "text": [
      "515 (414, 7)\n"
     ]
    },
    {
     "name": "stderr",
     "output_type": "stream",
     "text": [
      "100%|██████████| 2/2 [00:00<00:00,  6.12it/s]\n",
      "100%|██████████| 1/1 [00:00<00:00, 44.39it/s]\n",
      "  0%|          | 0/2 [00:00<?, ?it/s]"
     ]
    },
    {
     "name": "stdout",
     "output_type": "stream",
     "text": [
      "516 (6, 7)\n",
      "517 (0, 1)\n",
      "5\n",
      "518 (314, 7)\n"
     ]
    },
    {
     "name": "stderr",
     "output_type": "stream",
     "text": [
      "100%|██████████| 2/2 [00:00<00:00,  7.65it/s]\n",
      "  0%|          | 0/16 [00:00<?, ?it/s]"
     ]
    },
    {
     "name": "stdout",
     "output_type": "stream",
     "text": [
      "519 (4041, 7)\n"
     ]
    },
    {
     "name": "stderr",
     "output_type": "stream",
     "text": [
      "100%|██████████| 16/16 [00:03<00:00,  5.17it/s]\n",
      "100%|██████████| 1/1 [00:00<00:00, 11.83it/s]\n",
      "100%|██████████| 1/1 [00:00<00:00, 53.51it/s]\n",
      "  0%|          | 0/5 [00:00<?, ?it/s]"
     ]
    },
    {
     "name": "stdout",
     "output_type": "stream",
     "text": [
      "520 (92, 7)\n",
      "521 (1, 7)\n",
      "522 (1069, 7)\n"
     ]
    },
    {
     "name": "stderr",
     "output_type": "stream",
     "text": [
      "100%|██████████| 5/5 [00:00<00:00,  5.93it/s]\n",
      " 50%|█████     | 1/2 [00:00<00:00,  5.03it/s]"
     ]
    },
    {
     "name": "stdout",
     "output_type": "stream",
     "text": [
      "523 (362, 7)\n"
     ]
    },
    {
     "name": "stderr",
     "output_type": "stream",
     "text": [
      "100%|██████████| 2/2 [00:00<00:00,  6.72it/s]\n",
      "  0%|          | 0/4 [00:00<?, ?it/s]"
     ]
    },
    {
     "name": "stdout",
     "output_type": "stream",
     "text": [
      "No columns to parse from file\n",
      "525 (870, 7)\n"
     ]
    },
    {
     "name": "stderr",
     "output_type": "stream",
     "text": [
      "100%|██████████| 4/4 [00:00<00:00,  5.78it/s]\n",
      "100%|██████████| 1/1 [00:00<00:00, 18.01it/s]\n",
      "100%|██████████| 1/1 [00:00<00:00, 35.36it/s]\n",
      "  0%|          | 0/5 [00:00<?, ?it/s]"
     ]
    },
    {
     "name": "stdout",
     "output_type": "stream",
     "text": [
      "526 (49, 7)\n",
      "527 (14, 7)\n",
      "No columns to parse from file\n",
      "No columns to parse from file\n",
      "530 (1279, 7)\n"
     ]
    },
    {
     "name": "stderr",
     "output_type": "stream",
     "text": [
      "100%|██████████| 5/5 [00:00<00:00,  5.10it/s]\n",
      "100%|██████████| 1/1 [00:00<00:00, 47.88it/s]\n",
      "100%|██████████| 1/1 [00:00<00:00, 19.94it/s]\n",
      "100%|██████████| 1/1 [00:00<00:00, 48.19it/s]\n",
      "100%|██████████| 1/1 [00:00<00:00, 36.43it/s]\n",
      "  0%|          | 0/66 [00:00<?, ?it/s]"
     ]
    },
    {
     "name": "stdout",
     "output_type": "stream",
     "text": [
      "531 (3, 7)\n",
      "532 (0, 1)\n",
      "5\n",
      "533 (41, 7)\n",
      "534 (3, 7)\n",
      "535 (13, 7)\n",
      "536 (16867, 7)\n"
     ]
    },
    {
     "name": "stderr",
     "output_type": "stream",
     "text": [
      "100%|██████████| 66/66 [00:12<00:00,  5.14it/s]\n",
      "100%|██████████| 1/1 [00:00<00:00, 45.45it/s]\n",
      "  0%|          | 0/43 [00:00<?, ?it/s]"
     ]
    },
    {
     "name": "stdout",
     "output_type": "stream",
     "text": [
      "537 (3, 7)\n",
      "538 (10835, 7)\n"
     ]
    },
    {
     "name": "stderr",
     "output_type": "stream",
     "text": [
      "100%|██████████| 43/43 [00:08<00:00,  5.19it/s]\n",
      "100%|██████████| 1/1 [00:00<00:00, 35.86it/s]\n",
      "  0%|          | 0/4 [00:00<?, ?it/s]"
     ]
    },
    {
     "name": "stdout",
     "output_type": "stream",
     "text": [
      "539 (12, 7)\n",
      "540 (783, 7)\n"
     ]
    },
    {
     "name": "stderr",
     "output_type": "stream",
     "text": [
      "100%|██████████| 4/4 [00:00<00:00,  6.47it/s]\n",
      "  5%|▍         | 1/21 [00:00<00:03,  5.12it/s]"
     ]
    },
    {
     "name": "stdout",
     "output_type": "stream",
     "text": [
      "541 (5319, 7)\n"
     ]
    },
    {
     "name": "stderr",
     "output_type": "stream",
     "text": [
      "100%|██████████| 21/21 [00:04<00:00,  5.13it/s]\n",
      "100%|██████████| 1/1 [00:00<00:00, 42.28it/s]\n",
      "  0%|          | 0/11 [00:00<?, ?it/s]"
     ]
    },
    {
     "name": "stdout",
     "output_type": "stream",
     "text": [
      "542 (8, 7)\n",
      "543 (2676, 7)\n"
     ]
    },
    {
     "name": "stderr",
     "output_type": "stream",
     "text": [
      "100%|██████████| 11/11 [00:02<00:00,  5.34it/s]\n",
      "100%|██████████| 1/1 [00:00<00:00, 47.94it/s]\n",
      "  0%|          | 0/3 [00:00<?, ?it/s]"
     ]
    },
    {
     "name": "stdout",
     "output_type": "stream",
     "text": [
      "544 (3, 7)\n",
      "545 (569, 7)\n"
     ]
    },
    {
     "name": "stderr",
     "output_type": "stream",
     "text": [
      "100%|██████████| 3/3 [00:00<00:00,  6.58it/s]\n",
      "100%|██████████| 1/1 [00:00<00:00, 28.79it/s]\n",
      "100%|██████████| 1/1 [00:00<00:00, 36.09it/s]\n",
      "  0%|          | 0/2 [00:00<?, ?it/s]"
     ]
    },
    {
     "name": "stdout",
     "output_type": "stream",
     "text": [
      "546 (18, 7)\n",
      "547 (13, 7)\n",
      "548 (490, 7)\n"
     ]
    },
    {
     "name": "stderr",
     "output_type": "stream",
     "text": [
      "100%|██████████| 2/2 [00:00<00:00,  5.24it/s]\n",
      "  0%|          | 0/3 [00:00<?, ?it/s]"
     ]
    },
    {
     "name": "stdout",
     "output_type": "stream",
     "text": [
      "549 (736, 7)\n"
     ]
    },
    {
     "name": "stderr",
     "output_type": "stream",
     "text": [
      "100%|██████████| 3/3 [00:00<00:00,  5.24it/s]\n",
      "100%|██████████| 1/1 [00:00<00:00,  7.15it/s]\n",
      "  0%|          | 0/1 [00:00<?, ?it/s]"
     ]
    },
    {
     "name": "stdout",
     "output_type": "stream",
     "text": [
      "550 (173, 7)\n",
      "551 (214, 7)\n"
     ]
    },
    {
     "name": "stderr",
     "output_type": "stream",
     "text": [
      "100%|██████████| 1/1 [00:00<00:00,  5.85it/s]\n",
      "  0%|          | 0/5 [00:00<?, ?it/s]"
     ]
    },
    {
     "name": "stdout",
     "output_type": "stream",
     "text": [
      "552 (1136, 7)\n"
     ]
    },
    {
     "name": "stderr",
     "output_type": "stream",
     "text": [
      "100%|██████████| 5/5 [00:00<00:00,  5.42it/s]\n",
      "100%|██████████| 1/1 [00:00<00:00, 26.00it/s]\n",
      "100%|██████████| 1/1 [00:00<00:00, 44.52it/s]\n",
      "  0%|          | 0/5 [00:00<?, ?it/s]"
     ]
    },
    {
     "name": "stdout",
     "output_type": "stream",
     "text": [
      "553 (23, 7)\n",
      "554 (5, 7)\n",
      "555 (1107, 7)\n"
     ]
    },
    {
     "name": "stderr",
     "output_type": "stream",
     "text": [
      "100%|██████████| 5/5 [00:00<00:00,  5.69it/s]\n",
      " 33%|███▎      | 1/3 [00:00<00:00,  5.12it/s]"
     ]
    },
    {
     "name": "stdout",
     "output_type": "stream",
     "text": [
      "556 (565, 7)\n"
     ]
    },
    {
     "name": "stderr",
     "output_type": "stream",
     "text": [
      "100%|██████████| 3/3 [00:00<00:00,  6.65it/s]\n",
      "  0%|          | 0/30 [00:00<?, ?it/s]"
     ]
    },
    {
     "name": "stdout",
     "output_type": "stream",
     "text": [
      "557 (0, 1)\n",
      "5\n",
      "558 (7546, 7)\n"
     ]
    },
    {
     "name": "stderr",
     "output_type": "stream",
     "text": [
      "100%|██████████| 30/30 [00:05<00:00,  5.25it/s]\n",
      "100%|██████████| 1/1 [00:00<00:00, 54.43it/s]\n",
      "  0%|          | 0/4 [00:00<?, ?it/s]"
     ]
    },
    {
     "name": "stdout",
     "output_type": "stream",
     "text": [
      "559 (1, 7)\n",
      "560 (825, 7)\n"
     ]
    },
    {
     "name": "stderr",
     "output_type": "stream",
     "text": [
      "100%|██████████| 4/4 [00:00<00:00,  6.17it/s]\n",
      "  3%|▎         | 1/36 [00:00<00:06,  5.14it/s]"
     ]
    },
    {
     "name": "stdout",
     "output_type": "stream",
     "text": [
      "561 (9054, 7)\n"
     ]
    },
    {
     "name": "stderr",
     "output_type": "stream",
     "text": [
      "100%|██████████| 36/36 [00:06<00:00,  5.26it/s]\n",
      "100%|██████████| 1/1 [00:00<00:00, 26.82it/s]\n",
      "100%|██████████| 1/1 [00:00<00:00,  8.48it/s]\n",
      "  0%|          | 0/1 [00:00<?, ?it/s]"
     ]
    },
    {
     "name": "stdout",
     "output_type": "stream",
     "text": [
      "562 (21, 7)\n",
      "563 (139, 7)\n",
      "564 (3, 7)\n"
     ]
    },
    {
     "name": "stderr",
     "output_type": "stream",
     "text": [
      "100%|██████████| 1/1 [00:00<00:00, 47.39it/s]\n",
      "  0%|          | 0/5 [00:00<?, ?it/s]"
     ]
    },
    {
     "name": "stdout",
     "output_type": "stream",
     "text": [
      "565 (1077, 7)\n"
     ]
    },
    {
     "name": "stderr",
     "output_type": "stream",
     "text": [
      "100%|██████████| 5/5 [00:00<00:00,  5.91it/s]\n",
      "100%|██████████| 1/1 [00:00<00:00,  9.49it/s]\n",
      "100%|██████████| 1/1 [00:00<00:00, 13.83it/s]"
     ]
    },
    {
     "name": "stdout",
     "output_type": "stream",
     "text": [
      "566 (127, 7)\n",
      "567 (77, 7)\n",
      "No columns to parse from file\n"
     ]
    },
    {
     "name": "stderr",
     "output_type": "stream",
     "text": [
      "\n",
      "  2%|▏         | 1/61 [00:00<00:11,  5.18it/s]"
     ]
    },
    {
     "name": "stdout",
     "output_type": "stream",
     "text": [
      "569 (15420, 7)\n"
     ]
    },
    {
     "name": "stderr",
     "output_type": "stream",
     "text": [
      "100%|██████████| 61/61 [00:11<00:00,  5.17it/s]\n",
      "100%|██████████| 1/1 [00:00<00:00, 21.29it/s]\n",
      "  0%|          | 0/9 [00:00<?, ?it/s]"
     ]
    },
    {
     "name": "stdout",
     "output_type": "stream",
     "text": [
      "570 (32, 7)\n",
      "571 (2072, 7)\n"
     ]
    },
    {
     "name": "stderr",
     "output_type": "stream",
     "text": [
      "100%|██████████| 9/9 [00:01<00:00,  5.52it/s]\n",
      "100%|██████████| 1/1 [00:00<00:00,  6.48it/s]\n",
      "  0%|          | 0/1 [00:00<?, ?it/s]"
     ]
    },
    {
     "name": "stdout",
     "output_type": "stream",
     "text": [
      "572 (181, 7)\n",
      "573 (38, 7)\n"
     ]
    },
    {
     "name": "stderr",
     "output_type": "stream",
     "text": [
      "100%|██████████| 1/1 [00:00<00:00, 21.02it/s]\n",
      "  0%|          | 0/3 [00:00<?, ?it/s]"
     ]
    },
    {
     "name": "stdout",
     "output_type": "stream",
     "text": [
      "No columns to parse from file\n",
      "575 (628, 7)\n"
     ]
    },
    {
     "name": "stderr",
     "output_type": "stream",
     "text": [
      "100%|██████████| 3/3 [00:00<00:00,  6.05it/s]\n",
      "100%|██████████| 1/1 [00:00<00:00, 25.45it/s]\n",
      "  0%|          | 0/6 [00:00<?, ?it/s]"
     ]
    },
    {
     "name": "stdout",
     "output_type": "stream",
     "text": [
      "576 (25, 7)\n",
      "577 (1501, 7)\n"
     ]
    },
    {
     "name": "stderr",
     "output_type": "stream",
     "text": [
      "100%|██████████| 6/6 [00:01<00:00,  5.21it/s]\n",
      " 25%|██▌       | 1/4 [00:00<00:00,  5.12it/s]"
     ]
    },
    {
     "name": "stdout",
     "output_type": "stream",
     "text": [
      "578 (771, 7)\n"
     ]
    },
    {
     "name": "stderr",
     "output_type": "stream",
     "text": [
      "100%|██████████| 4/4 [00:00<00:00,  6.54it/s]\n",
      "  0%|          | 0/5 [00:00<?, ?it/s]"
     ]
    },
    {
     "name": "stdout",
     "output_type": "stream",
     "text": [
      "579 (1182, 7)\n"
     ]
    },
    {
     "name": "stderr",
     "output_type": "stream",
     "text": [
      "100%|██████████| 5/5 [00:00<00:00,  5.53it/s]\n",
      "  3%|▎         | 1/29 [00:00<00:05,  5.14it/s]"
     ]
    },
    {
     "name": "stdout",
     "output_type": "stream",
     "text": [
      "580 (7200, 7)\n"
     ]
    },
    {
     "name": "stderr",
     "output_type": "stream",
     "text": [
      "100%|██████████| 29/29 [00:05<00:00,  5.26it/s]\n",
      "100%|██████████| 1/1 [00:00<00:00, 40.46it/s]\n",
      "  0%|          | 0/3 [00:00<?, ?it/s]"
     ]
    },
    {
     "name": "stdout",
     "output_type": "stream",
     "text": [
      "581 (8, 7)\n",
      "582 (521, 7)\n"
     ]
    },
    {
     "name": "stderr",
     "output_type": "stream",
     "text": [
      "100%|██████████| 3/3 [00:00<00:00,  7.25it/s]\n",
      "100%|██████████| 1/1 [00:00<00:00, 36.13it/s]\n",
      "100%|██████████| 1/1 [00:00<00:00,  7.18it/s]\n",
      "  0%|          | 0/1 [00:00<?, ?it/s]"
     ]
    },
    {
     "name": "stdout",
     "output_type": "stream",
     "text": [
      "583 (11, 7)\n",
      "584 (173, 7)\n",
      "585 (10, 7)\n"
     ]
    },
    {
     "name": "stderr",
     "output_type": "stream",
     "text": [
      "100%|██████████| 1/1 [00:00<00:00, 37.18it/s]\n",
      "100%|██████████| 1/1 [00:00<00:00, 47.33it/s]\n",
      "  0%|          | 0/3 [00:00<?, ?it/s]"
     ]
    },
    {
     "name": "stdout",
     "output_type": "stream",
     "text": [
      "586 (2, 7)\n",
      "587 (531, 7)\n"
     ]
    },
    {
     "name": "stderr",
     "output_type": "stream",
     "text": [
      "100%|██████████| 3/3 [00:00<00:00,  6.89it/s]\n",
      "100%|██████████| 1/1 [00:00<00:00, 39.44it/s]\n",
      "  0%|          | 0/3 [00:00<?, ?it/s]"
     ]
    },
    {
     "name": "stdout",
     "output_type": "stream",
     "text": [
      "588 (6, 7)\n",
      "589 (525, 7)\n"
     ]
    },
    {
     "name": "stderr",
     "output_type": "stream",
     "text": [
      "100%|██████████| 3/3 [00:00<00:00,  6.92it/s]\n",
      "  0%|          | 0/6 [00:00<?, ?it/s]"
     ]
    },
    {
     "name": "stdout",
     "output_type": "stream",
     "text": [
      "590 (1385, 7)\n"
     ]
    },
    {
     "name": "stderr",
     "output_type": "stream",
     "text": [
      "100%|██████████| 6/6 [00:01<00:00,  5.55it/s]\n",
      "100%|██████████| 1/1 [00:00<00:00, 44.04it/s]\n",
      "100%|██████████| 1/1 [00:00<00:00,  8.90it/s]\n",
      "  0%|          | 0/1 [00:00<?, ?it/s]"
     ]
    },
    {
     "name": "stdout",
     "output_type": "stream",
     "text": [
      "591 (7, 7)\n",
      "592 (134, 7)\n",
      "593 (180, 7)\n"
     ]
    },
    {
     "name": "stderr",
     "output_type": "stream",
     "text": [
      "100%|██████████| 1/1 [00:00<00:00,  6.91it/s]\n",
      "100%|██████████| 1/1 [00:00<00:00, 22.11it/s]\n",
      "  0%|          | 0/3 [00:00<?, ?it/s]"
     ]
    },
    {
     "name": "stdout",
     "output_type": "stream",
     "text": [
      "594 (34, 7)\n",
      "595 (578, 7)\n"
     ]
    },
    {
     "name": "stderr",
     "output_type": "stream",
     "text": [
      "100%|██████████| 3/3 [00:00<00:00,  6.55it/s]\n",
      "  7%|▋         | 1/14 [00:00<00:02,  5.09it/s]"
     ]
    },
    {
     "name": "stdout",
     "output_type": "stream",
     "text": [
      "596 (3398, 7)\n"
     ]
    },
    {
     "name": "stderr",
     "output_type": "stream",
     "text": [
      "100%|██████████| 14/14 [00:02<00:00,  5.42it/s]\n",
      " 14%|█▍        | 1/7 [00:00<00:01,  5.28it/s]"
     ]
    },
    {
     "name": "stdout",
     "output_type": "stream",
     "text": [
      "597 (1713, 7)\n"
     ]
    },
    {
     "name": "stderr",
     "output_type": "stream",
     "text": [
      "100%|██████████| 7/7 [00:01<00:00,  5.38it/s]\n",
      " 50%|█████     | 1/2 [00:00<00:00,  5.12it/s]"
     ]
    },
    {
     "name": "stdout",
     "output_type": "stream",
     "text": [
      "598 (257, 7)\n"
     ]
    },
    {
     "name": "stderr",
     "output_type": "stream",
     "text": [
      "100%|██████████| 2/2 [00:00<00:00,  9.32it/s]\n",
      "100%|██████████| 1/1 [00:00<00:00, 16.50it/s]\n",
      "  0%|          | 0/8 [00:00<?, ?it/s]"
     ]
    },
    {
     "name": "stdout",
     "output_type": "stream",
     "text": [
      "599 (57, 7)\n",
      "600 (2020, 7)\n"
     ]
    },
    {
     "name": "stderr",
     "output_type": "stream",
     "text": [
      "100%|██████████| 8/8 [00:01<00:00,  5.16it/s]\n",
      " 33%|███▎      | 1/3 [00:00<00:00,  5.26it/s]"
     ]
    },
    {
     "name": "stdout",
     "output_type": "stream",
     "text": [
      "601 (559, 7)\n"
     ]
    },
    {
     "name": "stderr",
     "output_type": "stream",
     "text": [
      "100%|██████████| 3/3 [00:00<00:00,  6.92it/s]\n",
      "  9%|▉         | 1/11 [00:00<00:01,  5.26it/s]"
     ]
    },
    {
     "name": "stdout",
     "output_type": "stream",
     "text": [
      "602 (2748, 7)\n"
     ]
    },
    {
     "name": "stderr",
     "output_type": "stream",
     "text": [
      "100%|██████████| 11/11 [00:02<00:00,  5.29it/s]\n",
      "100%|██████████| 1/1 [00:00<00:00, 11.03it/s]\n",
      "100%|██████████| 1/1 [00:00<00:00, 13.98it/s]\n",
      "  0%|          | 0/14 [00:00<?, ?it/s]"
     ]
    },
    {
     "name": "stdout",
     "output_type": "stream",
     "text": [
      "603 (105, 7)\n",
      "No columns to parse from file\n",
      "605 (76, 7)\n",
      "606 (3466, 7)\n"
     ]
    },
    {
     "name": "stderr",
     "output_type": "stream",
     "text": [
      "100%|██████████| 14/14 [00:02<00:00,  5.35it/s]\n",
      "  2%|▏         | 1/44 [00:00<00:08,  5.27it/s]"
     ]
    },
    {
     "name": "stdout",
     "output_type": "stream",
     "text": [
      "607 (11145, 7)\n"
     ]
    },
    {
     "name": "stderr",
     "output_type": "stream",
     "text": [
      "100%|██████████| 44/44 [00:08<00:00,  5.20it/s]\n",
      "  0%|          | 0/2 [00:00<?, ?it/s]"
     ]
    },
    {
     "name": "stdout",
     "output_type": "stream",
     "text": [
      "No columns to parse from file\n",
      "609 (326, 7)\n"
     ]
    },
    {
     "name": "stderr",
     "output_type": "stream",
     "text": [
      "100%|██████████| 2/2 [00:00<00:00,  7.35it/s]\n",
      "100%|██████████| 1/1 [00:00<00:00,  7.87it/s]\n",
      "  0%|          | 0/5 [00:00<?, ?it/s]"
     ]
    },
    {
     "name": "stdout",
     "output_type": "stream",
     "text": [
      "610 (149, 7)\n",
      "611 (1192, 7)\n"
     ]
    },
    {
     "name": "stderr",
     "output_type": "stream",
     "text": [
      "100%|██████████| 5/5 [00:00<00:00,  5.34it/s]\n",
      "  6%|▌         | 1/18 [00:00<00:03,  5.12it/s]"
     ]
    },
    {
     "name": "stdout",
     "output_type": "stream",
     "text": [
      "612 (4415, 7)\n"
     ]
    },
    {
     "name": "stderr",
     "output_type": "stream",
     "text": [
      "100%|██████████| 18/18 [00:03<00:00,  5.29it/s]\n",
      "100%|██████████| 1/1 [00:00<00:00, 48.25it/s]\n",
      "100%|██████████| 1/1 [00:00<00:00, 54.56it/s]\n",
      "  0%|          | 0/3 [00:00<?, ?it/s]"
     ]
    },
    {
     "name": "stdout",
     "output_type": "stream",
     "text": [
      "613 (4, 7)\n",
      "614 (1, 7)\n",
      "615 (536, 7)\n"
     ]
    },
    {
     "name": "stderr",
     "output_type": "stream",
     "text": [
      "100%|██████████| 3/3 [00:00<00:00,  7.15it/s]\n",
      " 25%|██▌       | 1/4 [00:00<00:00,  5.11it/s]"
     ]
    },
    {
     "name": "stdout",
     "output_type": "stream",
     "text": [
      "616 (917, 7)\n"
     ]
    },
    {
     "name": "stderr",
     "output_type": "stream",
     "text": [
      "100%|██████████| 4/4 [00:00<00:00,  5.63it/s]\n",
      " 50%|█████     | 1/2 [00:00<00:00,  5.25it/s]"
     ]
    },
    {
     "name": "stdout",
     "output_type": "stream",
     "text": [
      "617 (345, 7)\n"
     ]
    },
    {
     "name": "stderr",
     "output_type": "stream",
     "text": [
      "100%|██████████| 2/2 [00:00<00:00,  7.34it/s]\n",
      "100%|██████████| 1/1 [00:00<00:00,  5.92it/s]\n",
      "  0%|          | 0/1 [00:00<?, ?it/s]"
     ]
    },
    {
     "name": "stdout",
     "output_type": "stream",
     "text": [
      "618 (223, 7)\n",
      "619 (1, 7)\n"
     ]
    },
    {
     "name": "stderr",
     "output_type": "stream",
     "text": [
      "100%|██████████| 1/1 [00:00<00:00, 52.79it/s]\n",
      " 50%|█████     | 1/2 [00:00<00:00,  5.12it/s]"
     ]
    },
    {
     "name": "stdout",
     "output_type": "stream",
     "text": [
      "620 (305, 7)\n"
     ]
    },
    {
     "name": "stderr",
     "output_type": "stream",
     "text": [
      "100%|██████████| 2/2 [00:00<00:00,  7.94it/s]\n",
      "  0%|          | 0/27 [00:00<?, ?it/s]"
     ]
    },
    {
     "name": "stdout",
     "output_type": "stream",
     "text": [
      "621 (6766, 7)\n"
     ]
    },
    {
     "name": "stderr",
     "output_type": "stream",
     "text": [
      "100%|██████████| 27/27 [00:05<00:00,  5.26it/s]\n",
      "100%|██████████| 1/1 [00:00<00:00, 28.66it/s]\n",
      "100%|██████████| 1/1 [00:00<00:00,  6.88it/s]"
     ]
    },
    {
     "name": "stdout",
     "output_type": "stream",
     "text": [
      "622 (20, 7)\n",
      "623 (186, 7)\n"
     ]
    },
    {
     "name": "stderr",
     "output_type": "stream",
     "text": [
      "\n",
      " 17%|█▋        | 1/6 [00:00<00:00,  5.24it/s]"
     ]
    },
    {
     "name": "stdout",
     "output_type": "stream",
     "text": [
      "624 (1300, 7)\n"
     ]
    },
    {
     "name": "stderr",
     "output_type": "stream",
     "text": [
      "100%|██████████| 6/6 [00:01<00:00,  5.92it/s]\n",
      " 12%|█▎        | 1/8 [00:00<00:01,  5.26it/s]"
     ]
    },
    {
     "name": "stdout",
     "output_type": "stream",
     "text": [
      "625 (1991, 7)\n"
     ]
    },
    {
     "name": "stderr",
     "output_type": "stream",
     "text": [
      "100%|██████████| 8/8 [00:01<00:00,  5.37it/s]\n",
      "100%|██████████| 1/1 [00:00<00:00, 50.71it/s]\n",
      "100%|██████████| 1/1 [00:00<00:00, 49.27it/s]\n",
      "  0%|          | 0/24 [00:00<?, ?it/s]"
     ]
    },
    {
     "name": "stdout",
     "output_type": "stream",
     "text": [
      "626 (2, 7)\n",
      "627 (3, 7)\n",
      "628 (6058, 7)\n"
     ]
    },
    {
     "name": "stderr",
     "output_type": "stream",
     "text": [
      "100%|██████████| 24/24 [00:04<00:00,  5.28it/s]\n",
      "100%|██████████| 1/1 [00:00<00:00,  8.64it/s]\n",
      "  0%|          | 0/23 [00:00<?, ?it/s]"
     ]
    },
    {
     "name": "stdout",
     "output_type": "stream",
     "text": [
      "629 (141, 7)\n",
      "630 (5652, 7)\n"
     ]
    },
    {
     "name": "stderr",
     "output_type": "stream",
     "text": [
      "100%|██████████| 23/23 [00:04<00:00,  5.36it/s]\n",
      " 25%|██▌       | 1/4 [00:00<00:00,  5.25it/s]"
     ]
    },
    {
     "name": "stdout",
     "output_type": "stream",
     "text": [
      "631 (901, 7)\n"
     ]
    },
    {
     "name": "stderr",
     "output_type": "stream",
     "text": [
      "100%|██████████| 4/4 [00:00<00:00,  5.78it/s]\n",
      "  8%|▊         | 1/12 [00:00<00:02,  5.12it/s]"
     ]
    },
    {
     "name": "stdout",
     "output_type": "stream",
     "text": [
      "632 (2864, 7)\n"
     ]
    },
    {
     "name": "stderr",
     "output_type": "stream",
     "text": [
      "100%|██████████| 12/12 [00:02<00:00,  5.50it/s]\n",
      "100%|██████████| 1/1 [00:00<00:00,  7.84it/s]\n",
      "  0%|          | 0/8 [00:00<?, ?it/s]"
     ]
    },
    {
     "name": "stdout",
     "output_type": "stream",
     "text": [
      "633 (159, 7)\n",
      "634 (1981, 7)\n"
     ]
    },
    {
     "name": "stderr",
     "output_type": "stream",
     "text": [
      "100%|██████████| 8/8 [00:01<00:00,  5.25it/s]\n",
      "  0%|          | 0/3 [00:00<?, ?it/s]"
     ]
    },
    {
     "name": "stdout",
     "output_type": "stream",
     "text": [
      "635 (602, 7)\n"
     ]
    },
    {
     "name": "stderr",
     "output_type": "stream",
     "text": [
      "100%|██████████| 3/3 [00:00<00:00,  6.15it/s]\n",
      "100%|██████████| 1/1 [00:00<00:00, 35.32it/s]\n",
      "100%|██████████| 1/1 [00:00<00:00, 38.69it/s]\n",
      "  0%|          | 0/30 [00:00<?, ?it/s]"
     ]
    },
    {
     "name": "stdout",
     "output_type": "stream",
     "text": [
      "636 (14, 7)\n",
      "637 (10, 7)\n",
      "638 (7593, 7)\n"
     ]
    },
    {
     "name": "stderr",
     "output_type": "stream",
     "text": [
      "100%|██████████| 30/30 [00:05<00:00,  5.15it/s]\n",
      "  0%|          | 0/51 [00:00<?, ?it/s]"
     ]
    },
    {
     "name": "stdout",
     "output_type": "stream",
     "text": [
      "No columns to parse from file\n",
      "640 (0, 1)\n",
      "5\n",
      "641 (12979, 7)\n"
     ]
    },
    {
     "name": "stderr",
     "output_type": "stream",
     "text": [
      "100%|██████████| 51/51 [00:09<00:00,  5.21it/s]\n",
      "100%|██████████| 1/1 [00:00<00:00, 46.63it/s]\n",
      "  0%|          | 0/5 [00:00<?, ?it/s]"
     ]
    },
    {
     "name": "stdout",
     "output_type": "stream",
     "text": [
      "642 (2, 7)\n",
      "643 (1183, 7)\n"
     ]
    },
    {
     "name": "stderr",
     "output_type": "stream",
     "text": [
      "100%|██████████| 5/5 [00:00<00:00,  5.41it/s]\n",
      "100%|██████████| 1/1 [00:00<00:00, 23.15it/s]\n",
      "  0%|          | 0/7 [00:00<?, ?it/s]"
     ]
    },
    {
     "name": "stdout",
     "output_type": "stream",
     "text": [
      "644 (32, 7)\n",
      "645 (1785, 7)\n"
     ]
    },
    {
     "name": "stderr",
     "output_type": "stream",
     "text": [
      "100%|██████████| 7/7 [00:01<00:00,  5.14it/s]\n",
      "  6%|▌         | 1/17 [00:00<00:03,  5.25it/s]"
     ]
    },
    {
     "name": "stdout",
     "output_type": "stream",
     "text": [
      "646 (4142, 7)\n"
     ]
    },
    {
     "name": "stderr",
     "output_type": "stream",
     "text": [
      "100%|██████████| 17/17 [00:03<00:00,  5.43it/s]\n",
      "100%|██████████| 1/1 [00:00<00:00, 44.95it/s]\n",
      "  0%|          | 0/2 [00:00<?, ?it/s]"
     ]
    },
    {
     "name": "stdout",
     "output_type": "stream",
     "text": [
      "647 (6, 7)\n",
      "No columns to parse from file\n",
      "649 (397, 7)\n"
     ]
    },
    {
     "name": "stderr",
     "output_type": "stream",
     "text": [
      "100%|██████████| 2/2 [00:00<00:00,  6.50it/s]\n",
      " 33%|███▎      | 1/3 [00:00<00:00,  5.12it/s]"
     ]
    },
    {
     "name": "stdout",
     "output_type": "stream",
     "text": [
      "650 (726, 7)\n"
     ]
    },
    {
     "name": "stderr",
     "output_type": "stream",
     "text": [
      "100%|██████████| 3/3 [00:00<00:00,  5.34it/s]\n",
      "100%|██████████| 1/1 [00:00<00:00, 42.75it/s]\n",
      "  0%|          | 0/18 [00:00<?, ?it/s]"
     ]
    },
    {
     "name": "stdout",
     "output_type": "stream",
     "text": [
      "651 (7, 7)\n",
      "652 (4430, 7)\n"
     ]
    },
    {
     "name": "stderr",
     "output_type": "stream",
     "text": [
      "100%|██████████| 18/18 [00:03<00:00,  5.30it/s]\n",
      "100%|██████████| 1/1 [00:00<00:00, 24.24it/s]\n",
      "  0%|          | 0/1 [00:00<?, ?it/s]"
     ]
    },
    {
     "name": "stdout",
     "output_type": "stream",
     "text": [
      "653 (28, 7)\n",
      "654 (217, 7)\n"
     ]
    },
    {
     "name": "stderr",
     "output_type": "stream",
     "text": [
      "100%|██████████| 1/1 [00:00<00:00,  5.83it/s]\n",
      "  0%|          | 0/16 [00:00<?, ?it/s]"
     ]
    },
    {
     "name": "stdout",
     "output_type": "stream",
     "text": [
      "655 (3937, 7)\n"
     ]
    },
    {
     "name": "stderr",
     "output_type": "stream",
     "text": [
      "100%|██████████| 16/16 [00:03<00:00,  5.22it/s]\n",
      "100%|██████████| 1/1 [00:00<00:00, 36.56it/s]\n",
      "  0%|          | 0/5 [00:00<?, ?it/s]"
     ]
    },
    {
     "name": "stdout",
     "output_type": "stream",
     "text": [
      "656 (12, 7)\n",
      "657 (1255, 7)\n"
     ]
    },
    {
     "name": "stderr",
     "output_type": "stream",
     "text": [
      "100%|██████████| 5/5 [00:00<00:00,  5.14it/s]\n",
      "100%|██████████| 1/1 [00:00<00:00, 41.75it/s]\n",
      "100%|██████████| 1/1 [00:00<00:00, 15.99it/s]\n",
      "100%|██████████| 1/1 [00:00<00:00, 52.09it/s]\n",
      "  0%|          | 0/7 [00:00<?, ?it/s]"
     ]
    },
    {
     "name": "stdout",
     "output_type": "stream",
     "text": [
      "658 (7, 7)\n",
      "659 (57, 7)\n",
      "660 (1, 7)\n",
      "661 (1652, 7)\n"
     ]
    },
    {
     "name": "stderr",
     "output_type": "stream",
     "text": [
      "100%|██████████| 7/7 [00:01<00:00,  5.41it/s]\n",
      "  4%|▍         | 1/24 [00:00<00:04,  5.15it/s]"
     ]
    },
    {
     "name": "stdout",
     "output_type": "stream",
     "text": [
      "662 (5974, 7)\n"
     ]
    },
    {
     "name": "stderr",
     "output_type": "stream",
     "text": [
      "100%|██████████| 24/24 [00:04<00:00,  5.29it/s]\n",
      " 50%|█████     | 1/2 [00:00<00:00,  5.11it/s]"
     ]
    },
    {
     "name": "stdout",
     "output_type": "stream",
     "text": [
      "663 (473, 7)\n"
     ]
    },
    {
     "name": "stderr",
     "output_type": "stream",
     "text": [
      "100%|██████████| 2/2 [00:00<00:00,  5.44it/s]\n",
      "100%|██████████| 1/1 [00:00<00:00, 47.87it/s]\n",
      "  0%|          | 0/1 [00:00<?, ?it/s]"
     ]
    },
    {
     "name": "stdout",
     "output_type": "stream",
     "text": [
      "664 (3, 7)\n",
      "665 (217, 7)\n"
     ]
    },
    {
     "name": "stderr",
     "output_type": "stream",
     "text": [
      "100%|██████████| 1/1 [00:00<00:00,  5.81it/s]\n",
      "100%|██████████| 1/1 [00:00<00:00,  7.49it/s]\n",
      "100%|██████████| 1/1 [00:00<00:00, 45.95it/s]\n",
      "  0%|          | 0/4 [00:00<?, ?it/s]"
     ]
    },
    {
     "name": "stdout",
     "output_type": "stream",
     "text": [
      "666 (159, 7)\n",
      "667 (3, 7)\n",
      "668 (809, 7)\n"
     ]
    },
    {
     "name": "stderr",
     "output_type": "stream",
     "text": [
      "100%|██████████| 4/4 [00:00<00:00,  6.24it/s]\n",
      " 33%|███▎      | 1/3 [00:00<00:00,  5.24it/s]"
     ]
    },
    {
     "name": "stdout",
     "output_type": "stream",
     "text": [
      "669 (698, 7)\n"
     ]
    },
    {
     "name": "stderr",
     "output_type": "stream",
     "text": [
      "100%|██████████| 3/3 [00:00<00:00,  5.66it/s]\n",
      "100%|██████████| 1/1 [00:00<00:00, 21.64it/s]\n",
      "  0%|          | 0/3 [00:00<?, ?it/s]"
     ]
    },
    {
     "name": "stdout",
     "output_type": "stream",
     "text": [
      "670 (37, 7)\n",
      "671 (617, 7)\n"
     ]
    },
    {
     "name": "stderr",
     "output_type": "stream",
     "text": [
      "100%|██████████| 3/3 [00:00<00:00,  6.23it/s]\n",
      " 33%|███▎      | 1/3 [00:00<00:00,  5.12it/s]"
     ]
    },
    {
     "name": "stdout",
     "output_type": "stream",
     "text": [
      "672 (615, 7)\n"
     ]
    },
    {
     "name": "stderr",
     "output_type": "stream",
     "text": [
      "100%|██████████| 3/3 [00:00<00:00,  6.22it/s]\n",
      "100%|██████████| 1/1 [00:00<00:00,  9.53it/s]\n",
      "  0%|          | 0/4 [00:00<?, ?it/s]"
     ]
    },
    {
     "name": "stdout",
     "output_type": "stream",
     "text": [
      "673 (126, 7)\n",
      "674 (975, 7)\n"
     ]
    },
    {
     "name": "stderr",
     "output_type": "stream",
     "text": [
      "100%|██████████| 4/4 [00:00<00:00,  5.38it/s]\n",
      " 50%|█████     | 1/2 [00:00<00:00,  5.06it/s]"
     ]
    },
    {
     "name": "stdout",
     "output_type": "stream",
     "text": [
      "675 (276, 7)\n"
     ]
    },
    {
     "name": "stderr",
     "output_type": "stream",
     "text": [
      "100%|██████████| 2/2 [00:00<00:00,  8.57it/s]\n",
      "  8%|▊         | 1/12 [00:00<00:02,  5.27it/s]"
     ]
    },
    {
     "name": "stdout",
     "output_type": "stream",
     "text": [
      "676 (3005, 7)\n"
     ]
    },
    {
     "name": "stderr",
     "output_type": "stream",
     "text": [
      "100%|██████████| 12/12 [00:02<00:00,  5.29it/s]\n",
      "100%|██████████| 1/1 [00:00<00:00, 10.37it/s]\n",
      "  0%|          | 0/1 [00:00<?, ?it/s]"
     ]
    },
    {
     "name": "stdout",
     "output_type": "stream",
     "text": [
      "677 (113, 7)\n",
      "678 (255, 7)\n"
     ]
    },
    {
     "name": "stderr",
     "output_type": "stream",
     "text": [
      "100%|██████████| 1/1 [00:00<00:00,  5.18it/s]\n",
      " 33%|███▎      | 1/3 [00:00<00:00,  5.12it/s]"
     ]
    },
    {
     "name": "stdout",
     "output_type": "stream",
     "text": [
      "679 (551, 7)\n"
     ]
    },
    {
     "name": "stderr",
     "output_type": "stream",
     "text": [
      "100%|██████████| 3/3 [00:00<00:00,  6.79it/s]\n",
      " 33%|███▎      | 1/3 [00:00<00:00,  5.11it/s]"
     ]
    },
    {
     "name": "stdout",
     "output_type": "stream",
     "text": [
      "680 (678, 7)\n"
     ]
    },
    {
     "name": "stderr",
     "output_type": "stream",
     "text": [
      "100%|██████████| 3/3 [00:00<00:00,  5.58it/s]\n",
      "  0%|          | 0/2 [00:00<?, ?it/s]"
     ]
    },
    {
     "name": "stdout",
     "output_type": "stream",
     "text": [
      "No columns to parse from file\n",
      "682 (397, 7)\n"
     ]
    },
    {
     "name": "stderr",
     "output_type": "stream",
     "text": [
      "100%|██████████| 2/2 [00:00<00:00,  6.38it/s]\n",
      "100%|██████████| 1/1 [00:00<00:00, 30.19it/s]\n",
      "  0%|          | 0/5 [00:00<?, ?it/s]"
     ]
    },
    {
     "name": "stdout",
     "output_type": "stream",
     "text": [
      "683 (17, 7)\n",
      "684 (1147, 7)\n"
     ]
    },
    {
     "name": "stderr",
     "output_type": "stream",
     "text": [
      "100%|██████████| 5/5 [00:00<00:00,  5.72it/s]\n",
      " 20%|██        | 1/5 [00:00<00:00,  5.08it/s]"
     ]
    },
    {
     "name": "stdout",
     "output_type": "stream",
     "text": [
      "685 (1161, 7)\n"
     ]
    },
    {
     "name": "stderr",
     "output_type": "stream",
     "text": [
      "100%|██████████| 5/5 [00:00<00:00,  5.58it/s]\n",
      "100%|██████████| 1/1 [00:00<00:00, 48.81it/s]\n",
      "  0%|          | 0/3 [00:00<?, ?it/s]"
     ]
    },
    {
     "name": "stdout",
     "output_type": "stream",
     "text": [
      "686 (3, 7)\n",
      "687 (712, 7)\n"
     ]
    },
    {
     "name": "stderr",
     "output_type": "stream",
     "text": [
      "100%|██████████| 3/3 [00:00<00:00,  5.58it/s]\n",
      " 12%|█▎        | 1/8 [00:00<00:01,  5.26it/s]"
     ]
    },
    {
     "name": "stdout",
     "output_type": "stream",
     "text": [
      "688 (2045, 7)\n"
     ]
    },
    {
     "name": "stderr",
     "output_type": "stream",
     "text": [
      "100%|██████████| 8/8 [00:01<00:00,  5.20it/s]\n",
      "100%|██████████| 1/1 [00:00<00:00, 11.48it/s]\n",
      "  0%|          | 0/1 [00:00<?, ?it/s]"
     ]
    },
    {
     "name": "stdout",
     "output_type": "stream",
     "text": [
      "689 (99, 7)\n",
      "690 (118, 7)\n"
     ]
    },
    {
     "name": "stderr",
     "output_type": "stream",
     "text": [
      "100%|██████████| 1/1 [00:00<00:00,  9.74it/s]\n",
      " 25%|██▌       | 1/4 [00:00<00:00,  5.12it/s]"
     ]
    },
    {
     "name": "stdout",
     "output_type": "stream",
     "text": [
      "691 (861, 7)\n"
     ]
    },
    {
     "name": "stderr",
     "output_type": "stream",
     "text": [
      "100%|██████████| 4/4 [00:00<00:00,  5.93it/s]\n",
      " 12%|█▎        | 1/8 [00:00<00:01,  5.25it/s]"
     ]
    },
    {
     "name": "stdout",
     "output_type": "stream",
     "text": [
      "692 (1931, 7)\n"
     ]
    },
    {
     "name": "stderr",
     "output_type": "stream",
     "text": [
      "100%|██████████| 8/8 [00:01<00:00,  5.47it/s]\n",
      " 12%|█▎        | 1/8 [00:00<00:01,  5.26it/s]"
     ]
    },
    {
     "name": "stdout",
     "output_type": "stream",
     "text": [
      "693 (1878, 7)\n"
     ]
    },
    {
     "name": "stderr",
     "output_type": "stream",
     "text": [
      "100%|██████████| 8/8 [00:01<00:00,  5.65it/s]\n",
      "100%|██████████| 1/1 [00:00<00:00, 40.37it/s]\n",
      "  0%|          | 0/11 [00:00<?, ?it/s]"
     ]
    },
    {
     "name": "stdout",
     "output_type": "stream",
     "text": [
      "694 (9, 7)\n",
      "695 (2723, 7)\n"
     ]
    },
    {
     "name": "stderr",
     "output_type": "stream",
     "text": [
      "100%|██████████| 11/11 [00:02<00:00,  5.43it/s]\n",
      "100%|██████████| 1/1 [00:00<00:00, 12.32it/s]\n",
      "100%|██████████| 1/1 [00:00<00:00, 37.27it/s]\n",
      "  0%|          | 0/1 [00:00<?, ?it/s]"
     ]
    },
    {
     "name": "stdout",
     "output_type": "stream",
     "text": [
      "696 (90, 7)\n",
      "697 (13, 7)\n",
      "698 (155, 7)\n"
     ]
    },
    {
     "name": "stderr",
     "output_type": "stream",
     "text": [
      "100%|██████████| 1/1 [00:00<00:00,  7.96it/s]\n",
      "100%|██████████| 1/1 [00:00<00:00, 49.17it/s]\n",
      "  0%|          | 0/7 [00:00<?, ?it/s]"
     ]
    },
    {
     "name": "stdout",
     "output_type": "stream",
     "text": [
      "No columns to parse from file\n",
      "700 (3, 7)\n",
      "701 (1599, 7)\n"
     ]
    },
    {
     "name": "stderr",
     "output_type": "stream",
     "text": [
      "100%|██████████| 7/7 [00:01<00:00,  5.77it/s]\n",
      "100%|██████████| 1/1 [00:00<00:00, 27.19it/s]\n",
      "100%|██████████| 1/1 [00:00<00:00, 45.15it/s]\n",
      "  0%|          | 0/25 [00:00<?, ?it/s]"
     ]
    },
    {
     "name": "stdout",
     "output_type": "stream",
     "text": [
      "702 (23, 7)\n",
      "703 (6, 7)\n",
      "704 (6315, 7)\n"
     ]
    },
    {
     "name": "stderr",
     "output_type": "stream",
     "text": [
      "100%|██████████| 25/25 [00:04<00:00,  5.28it/s]\n",
      " 33%|███▎      | 1/3 [00:00<00:00,  5.23it/s]"
     ]
    },
    {
     "name": "stdout",
     "output_type": "stream",
     "text": [
      "705 (700, 7)\n"
     ]
    },
    {
     "name": "stderr",
     "output_type": "stream",
     "text": [
      "100%|██████████| 3/3 [00:00<00:00,  5.55it/s]\n",
      " 33%|███▎      | 1/3 [00:00<00:00,  5.12it/s]"
     ]
    },
    {
     "name": "stdout",
     "output_type": "stream",
     "text": [
      "706 (709, 7)\n"
     ]
    },
    {
     "name": "stderr",
     "output_type": "stream",
     "text": [
      "100%|██████████| 3/3 [00:00<00:00,  5.45it/s]\n",
      "100%|██████████| 1/1 [00:00<00:00, 13.49it/s]\n",
      "  0%|          | 0/14 [00:00<?, ?it/s]"
     ]
    },
    {
     "name": "stdout",
     "output_type": "stream",
     "text": [
      "707 (76, 7)\n",
      "708 (3577, 7)\n"
     ]
    },
    {
     "name": "stderr",
     "output_type": "stream",
     "text": [
      "100%|██████████| 14/14 [00:02<00:00,  5.19it/s]\n",
      "100%|██████████| 1/1 [00:00<00:00, 47.91it/s]\n",
      "  0%|          | 0/4 [00:00<?, ?it/s]"
     ]
    },
    {
     "name": "stdout",
     "output_type": "stream",
     "text": [
      "709 (4, 7)\n",
      "710 (1021, 7)\n"
     ]
    },
    {
     "name": "stderr",
     "output_type": "stream",
     "text": [
      "100%|██████████| 4/4 [00:00<00:00,  5.23it/s]\n",
      "  3%|▎         | 1/29 [00:00<00:05,  5.26it/s]"
     ]
    },
    {
     "name": "stdout",
     "output_type": "stream",
     "text": [
      "711 (7397, 7)\n"
     ]
    },
    {
     "name": "stderr",
     "output_type": "stream",
     "text": [
      "100%|██████████| 29/29 [00:05<00:00,  5.21it/s]\n",
      "100%|██████████| 1/1 [00:00<00:00, 43.72it/s]\n",
      "100%|██████████| 1/1 [00:00<00:00, 26.07it/s]\n",
      "100%|██████████| 1/1 [00:00<00:00, 44.21it/s]\n",
      "  0%|          | 0/1 [00:00<?, ?it/s]"
     ]
    },
    {
     "name": "stdout",
     "output_type": "stream",
     "text": [
      "712 (8, 7)\n",
      "713 (25, 7)\n",
      "714 (8, 7)\n",
      "715 (103, 7)\n"
     ]
    },
    {
     "name": "stderr",
     "output_type": "stream",
     "text": [
      "100%|██████████| 1/1 [00:00<00:00, 11.17it/s]\n",
      "100%|██████████| 1/1 [00:00<00:00, 24.15it/s]\n",
      "  0%|          | 0/6 [00:00<?, ?it/s]"
     ]
    },
    {
     "name": "stdout",
     "output_type": "stream",
     "text": [
      "716 (30, 7)\n",
      "717 (1365, 7)\n"
     ]
    },
    {
     "name": "stderr",
     "output_type": "stream",
     "text": [
      "100%|██████████| 6/6 [00:01<00:00,  5.79it/s]\n",
      " 17%|█▋        | 1/6 [00:00<00:00,  5.27it/s]"
     ]
    },
    {
     "name": "stdout",
     "output_type": "stream",
     "text": [
      "718 (1314, 7)\n"
     ]
    },
    {
     "name": "stderr",
     "output_type": "stream",
     "text": [
      "100%|██████████| 6/6 [00:00<00:00,  6.00it/s]\n",
      " 17%|█▋        | 1/6 [00:00<00:00,  5.25it/s]"
     ]
    },
    {
     "name": "stdout",
     "output_type": "stream",
     "text": [
      "719 (1352, 7)\n"
     ]
    },
    {
     "name": "stderr",
     "output_type": "stream",
     "text": [
      "100%|██████████| 6/6 [00:01<00:00,  5.86it/s]\n",
      "100%|██████████| 1/1 [00:00<00:00, 11.19it/s]\n",
      "100%|██████████| 1/1 [00:00<00:00, 45.26it/s]\n",
      "  0%|          | 0/1 [00:00<?, ?it/s]"
     ]
    },
    {
     "name": "stdout",
     "output_type": "stream",
     "text": [
      "720 (103, 7)\n",
      "721 (6, 7)\n",
      "722 (199, 7)\n"
     ]
    },
    {
     "name": "stderr",
     "output_type": "stream",
     "text": [
      "100%|██████████| 1/1 [00:00<00:00,  6.48it/s]\n",
      " 50%|█████     | 1/2 [00:00<00:00,  5.24it/s]"
     ]
    },
    {
     "name": "stdout",
     "output_type": "stream",
     "text": [
      "723 (500, 7)\n"
     ]
    },
    {
     "name": "stderr",
     "output_type": "stream",
     "text": [
      "100%|██████████| 2/2 [00:00<00:00,  5.33it/s]\n",
      " 50%|█████     | 1/2 [00:00<00:00,  5.42it/s]"
     ]
    },
    {
     "name": "stdout",
     "output_type": "stream",
     "text": [
      "No columns to parse from file\n",
      "725 (289, 7)\n"
     ]
    },
    {
     "name": "stderr",
     "output_type": "stream",
     "text": [
      "100%|██████████| 2/2 [00:00<00:00,  8.77it/s]\n",
      "100%|██████████| 1/1 [00:00<00:00,  5.78it/s]\n",
      "  0%|          | 0/8 [00:00<?, ?it/s]"
     ]
    },
    {
     "name": "stdout",
     "output_type": "stream",
     "text": [
      "726 (233, 7)\n",
      "727 (1945, 7)\n"
     ]
    },
    {
     "name": "stderr",
     "output_type": "stream",
     "text": [
      "100%|██████████| 8/8 [00:01<00:00,  5.44it/s]\n",
      "100%|██████████| 1/1 [00:00<00:00, 46.73it/s]\n",
      "  0%|          | 0/3 [00:00<?, ?it/s]"
     ]
    },
    {
     "name": "stdout",
     "output_type": "stream",
     "text": [
      "728 (5, 7)\n",
      "729 (596, 7)\n"
     ]
    },
    {
     "name": "stderr",
     "output_type": "stream",
     "text": [
      "100%|██████████| 3/3 [00:00<00:00,  6.54it/s]\n",
      "100%|██████████| 1/1 [00:00<00:00,  9.75it/s]\n",
      "100%|██████████| 1/1 [00:00<00:00, 22.96it/s]\n",
      "100%|██████████| 1/1 [00:00<00:00, 39.48it/s]"
     ]
    },
    {
     "name": "stdout",
     "output_type": "stream",
     "text": [
      "730 (116, 7)\n",
      "No columns to parse from file\n",
      "732 (33, 7)\n",
      "No columns to parse from file\n",
      "734 (9, 7)\n"
     ]
    },
    {
     "name": "stderr",
     "output_type": "stream",
     "text": [
      "\n",
      "100%|██████████| 1/1 [00:00<00:00, 35.10it/s]\n",
      "  0%|          | 0/22 [00:00<?, ?it/s]"
     ]
    },
    {
     "name": "stdout",
     "output_type": "stream",
     "text": [
      "735 (14, 7)\n",
      "736 (5628, 7)\n"
     ]
    },
    {
     "name": "stderr",
     "output_type": "stream",
     "text": [
      "100%|██████████| 22/22 [00:04<00:00,  5.11it/s]\n",
      "100%|██████████| 1/1 [00:00<00:00, 14.71it/s]\n",
      "  0%|          | 0/47 [00:00<?, ?it/s]"
     ]
    },
    {
     "name": "stdout",
     "output_type": "stream",
     "text": [
      "No columns to parse from file\n",
      "738 (67, 7)\n",
      "739 (11802, 7)\n"
     ]
    },
    {
     "name": "stderr",
     "output_type": "stream",
     "text": [
      "100%|██████████| 47/47 [00:08<00:00,  5.26it/s]\n",
      "100%|██████████| 1/1 [00:00<00:00, 12.27it/s]\n",
      "  0%|          | 0/4 [00:00<?, ?it/s]"
     ]
    },
    {
     "name": "stdout",
     "output_type": "stream",
     "text": [
      "740 (89, 7)\n",
      "741 (913, 7)\n"
     ]
    },
    {
     "name": "stderr",
     "output_type": "stream",
     "text": [
      "100%|██████████| 4/4 [00:00<00:00,  5.59it/s]\n",
      "100%|██████████| 1/1 [00:00<00:00, 26.63it/s]\n",
      "  0%|          | 0/8 [00:00<?, ?it/s]"
     ]
    },
    {
     "name": "stdout",
     "output_type": "stream",
     "text": [
      "No columns to parse from file\n",
      "743 (23, 7)\n",
      "744 (2033, 7)\n"
     ]
    },
    {
     "name": "stderr",
     "output_type": "stream",
     "text": [
      "100%|██████████| 8/8 [00:01<00:00,  5.20it/s]\n",
      "100%|██████████| 1/1 [00:00<00:00, 25.55it/s]\n",
      "100%|██████████| 1/1 [00:00<00:00, 30.10it/s]\n",
      "100%|██████████| 1/1 [00:00<00:00, 30.19it/s]\n",
      "  0%|          | 0/2 [00:00<?, ?it/s]"
     ]
    },
    {
     "name": "stdout",
     "output_type": "stream",
     "text": [
      "745 (26, 7)\n",
      "746 (17, 7)\n",
      "747 (17, 7)\n",
      "748 (343, 7)\n"
     ]
    },
    {
     "name": "stderr",
     "output_type": "stream",
     "text": [
      "100%|██████████| 2/2 [00:00<00:00,  7.39it/s]\n",
      "  0%|          | 0/75 [00:00<?, ?it/s]"
     ]
    },
    {
     "name": "stdout",
     "output_type": "stream",
     "text": [
      "749 (18999, 7)\n"
     ]
    },
    {
     "name": "stderr",
     "output_type": "stream",
     "text": [
      "100%|██████████| 75/75 [00:14<00:00,  5.25it/s]\n",
      " 25%|██▌       | 1/4 [00:00<00:00,  5.26it/s]"
     ]
    },
    {
     "name": "stdout",
     "output_type": "stream",
     "text": [
      "750 (897, 7)\n"
     ]
    },
    {
     "name": "stderr",
     "output_type": "stream",
     "text": [
      "100%|██████████| 4/4 [00:00<00:00,  5.87it/s]\n",
      "  1%|          | 1/94 [00:00<00:17,  5.27it/s]"
     ]
    },
    {
     "name": "stdout",
     "output_type": "stream",
     "text": [
      "751 (24049, 7)\n"
     ]
    },
    {
     "name": "stderr",
     "output_type": "stream",
     "text": [
      "100%|██████████| 94/94 [00:18<00:00,  5.22it/s]\n",
      " 33%|███▎      | 1/3 [00:00<00:00,  5.25it/s]"
     ]
    },
    {
     "name": "stdout",
     "output_type": "stream",
     "text": [
      "752 (600, 7)\n"
     ]
    },
    {
     "name": "stderr",
     "output_type": "stream",
     "text": [
      "100%|██████████| 3/3 [00:00<00:00,  6.47it/s]\n",
      " 50%|█████     | 1/2 [00:00<00:00,  5.16it/s]"
     ]
    },
    {
     "name": "stdout",
     "output_type": "stream",
     "text": [
      "753 (449, 7)\n"
     ]
    },
    {
     "name": "stderr",
     "output_type": "stream",
     "text": [
      "100%|██████████| 2/2 [00:00<00:00,  5.77it/s]\n",
      " 14%|█▍        | 1/7 [00:00<00:01,  5.21it/s]"
     ]
    },
    {
     "name": "stdout",
     "output_type": "stream",
     "text": [
      "754 (1558, 7)\n"
     ]
    },
    {
     "name": "stderr",
     "output_type": "stream",
     "text": [
      "100%|██████████| 7/7 [00:01<00:00,  5.89it/s]\n",
      "  5%|▌         | 1/19 [00:00<00:03,  5.25it/s]"
     ]
    },
    {
     "name": "stdout",
     "output_type": "stream",
     "text": [
      "755 (4786, 7)\n"
     ]
    },
    {
     "name": "stderr",
     "output_type": "stream",
     "text": [
      "100%|██████████| 19/19 [00:03<00:00,  5.25it/s]\n",
      "100%|██████████| 1/1 [00:00<00:00,  8.85it/s]\n",
      "  0%|          | 0/5 [00:00<?, ?it/s]"
     ]
    },
    {
     "name": "stdout",
     "output_type": "stream",
     "text": [
      "756 (132, 7)\n",
      "757 (1165, 7)\n"
     ]
    },
    {
     "name": "stderr",
     "output_type": "stream",
     "text": [
      "100%|██████████| 5/5 [00:00<00:00,  5.63it/s]\n",
      " 14%|█▍        | 1/7 [00:00<00:01,  5.26it/s]"
     ]
    },
    {
     "name": "stdout",
     "output_type": "stream",
     "text": [
      "758 (1672, 7)\n"
     ]
    },
    {
     "name": "stderr",
     "output_type": "stream",
     "text": [
      "100%|██████████| 7/7 [00:01<00:00,  5.50it/s]\n",
      "  6%|▌         | 1/18 [00:00<00:03,  5.26it/s]"
     ]
    },
    {
     "name": "stdout",
     "output_type": "stream",
     "text": [
      "759 (4515, 7)\n"
     ]
    },
    {
     "name": "stderr",
     "output_type": "stream",
     "text": [
      "100%|██████████| 18/18 [00:03<00:00,  5.33it/s]\n",
      "  8%|▊         | 1/13 [00:00<00:02,  5.28it/s]"
     ]
    },
    {
     "name": "stdout",
     "output_type": "stream",
     "text": [
      "760 (3184, 7)\n"
     ]
    },
    {
     "name": "stderr",
     "output_type": "stream",
     "text": [
      "100%|██████████| 13/13 [00:02<00:00,  5.36it/s]\n",
      " 50%|█████     | 1/2 [00:00<00:00,  5.26it/s]"
     ]
    },
    {
     "name": "stdout",
     "output_type": "stream",
     "text": [
      "761 (388, 7)\n"
     ]
    },
    {
     "name": "stderr",
     "output_type": "stream",
     "text": [
      "100%|██████████| 2/2 [00:00<00:00,  6.64it/s]\n",
      "  5%|▍         | 1/21 [00:00<00:03,  5.24it/s]"
     ]
    },
    {
     "name": "stdout",
     "output_type": "stream",
     "text": [
      "762 (5337, 7)\n"
     ]
    },
    {
     "name": "stderr",
     "output_type": "stream",
     "text": [
      "100%|██████████| 21/21 [00:03<00:00,  5.26it/s]\n",
      " 33%|███▎      | 1/3 [00:00<00:00,  5.15it/s]"
     ]
    },
    {
     "name": "stdout",
     "output_type": "stream",
     "text": [
      "763 (556, 7)\n"
     ]
    },
    {
     "name": "stderr",
     "output_type": "stream",
     "text": [
      "100%|██████████| 3/3 [00:00<00:00,  6.76it/s]\n",
      "  0%|          | 0/32 [00:00<?, ?it/s]"
     ]
    },
    {
     "name": "stdout",
     "output_type": "stream",
     "text": [
      "No columns to parse from file\n",
      "765 (7944, 7)\n"
     ]
    },
    {
     "name": "stderr",
     "output_type": "stream",
     "text": [
      "100%|██████████| 32/32 [00:06<00:00,  5.22it/s]\n",
      " 14%|█▍        | 1/7 [00:00<00:01,  5.23it/s]"
     ]
    },
    {
     "name": "stdout",
     "output_type": "stream",
     "text": [
      "766 (1769, 7)\n"
     ]
    },
    {
     "name": "stderr",
     "output_type": "stream",
     "text": [
      "100%|██████████| 7/7 [00:01<00:00,  5.18it/s]\n",
      "  0%|          | 0/6 [00:00<?, ?it/s]"
     ]
    },
    {
     "name": "stdout",
     "output_type": "stream",
     "text": [
      "767 (1505, 7)\n"
     ]
    },
    {
     "name": "stderr",
     "output_type": "stream",
     "text": [
      "100%|██████████| 6/6 [00:01<00:00,  4.93it/s]\n",
      "  0%|          | 0/3 [00:00<?, ?it/s]"
     ]
    },
    {
     "name": "stdout",
     "output_type": "stream",
     "text": [
      "768 (756, 7)\n"
     ]
    },
    {
     "name": "stderr",
     "output_type": "stream",
     "text": [
      "100%|██████████| 3/3 [00:00<00:00,  5.15it/s]\n",
      "100%|██████████| 1/1 [00:00<00:00,  6.18it/s]\n",
      "100%|██████████| 1/1 [00:00<00:00, 47.54it/s]"
     ]
    },
    {
     "name": "stdout",
     "output_type": "stream",
     "text": [
      "769 (208, 7)\n",
      "770 (3, 7)\n"
     ]
    },
    {
     "name": "stderr",
     "output_type": "stream",
     "text": [
      "\n",
      "100%|██████████| 1/1 [00:00<00:00,  5.87it/s]\n",
      "  0%|          | 0/4 [00:00<?, ?it/s]"
     ]
    },
    {
     "name": "stdout",
     "output_type": "stream",
     "text": [
      "771 (220, 7)\n",
      "772 (963, 7)\n"
     ]
    },
    {
     "name": "stderr",
     "output_type": "stream",
     "text": [
      "100%|██████████| 4/4 [00:00<00:00,  5.42it/s]\n",
      "100%|██████████| 1/1 [00:00<00:00, 23.18it/s]\n",
      "  0%|          | 0/1 [00:00<?, ?it/s]"
     ]
    },
    {
     "name": "stdout",
     "output_type": "stream",
     "text": [
      "No columns to parse from file\n",
      "774 (31, 7)\n",
      "775 (227, 7)\n"
     ]
    },
    {
     "name": "stderr",
     "output_type": "stream",
     "text": [
      "100%|██████████| 1/1 [00:00<00:00,  5.53it/s]\n",
      " 14%|█▍        | 1/7 [00:00<00:01,  5.19it/s]"
     ]
    },
    {
     "name": "stdout",
     "output_type": "stream",
     "text": [
      "776 (1705, 7)\n"
     ]
    },
    {
     "name": "stderr",
     "output_type": "stream",
     "text": [
      "100%|██████████| 7/7 [00:01<00:00,  5.34it/s]\n",
      " 50%|█████     | 1/2 [00:00<00:00,  5.18it/s]"
     ]
    },
    {
     "name": "stdout",
     "output_type": "stream",
     "text": [
      "777 (341, 7)\n"
     ]
    },
    {
     "name": "stderr",
     "output_type": "stream",
     "text": [
      "100%|██████████| 2/2 [00:00<00:00,  7.30it/s]\n",
      " 25%|██▌       | 1/4 [00:00<00:00,  5.18it/s]"
     ]
    },
    {
     "name": "stdout",
     "output_type": "stream",
     "text": [
      "778 (797, 7)\n"
     ]
    },
    {
     "name": "stderr",
     "output_type": "stream",
     "text": [
      "100%|██████████| 4/4 [00:00<00:00,  6.37it/s]\n",
      "  4%|▎         | 1/27 [00:00<00:05,  5.10it/s]"
     ]
    },
    {
     "name": "stdout",
     "output_type": "stream",
     "text": [
      "779 (6893, 7)\n"
     ]
    },
    {
     "name": "stderr",
     "output_type": "stream",
     "text": [
      "100%|██████████| 27/27 [00:05<00:00,  5.15it/s]\n",
      "100%|██████████| 1/1 [00:00<00:00, 44.50it/s]\n",
      "100%|██████████| 1/1 [00:00<00:00, 35.66it/s]\n",
      "100%|██████████| 1/1 [00:00<00:00, 52.63it/s]\n",
      "  0%|          | 0/11 [00:00<?, ?it/s]"
     ]
    },
    {
     "name": "stdout",
     "output_type": "stream",
     "text": [
      "780 (5, 7)\n",
      "781 (13, 7)\n",
      "782 (1, 7)\n",
      "783 (2720, 7)\n"
     ]
    },
    {
     "name": "stderr",
     "output_type": "stream",
     "text": [
      "100%|██████████| 11/11 [00:02<00:00,  5.29it/s]\n",
      " 17%|█▋        | 1/6 [00:00<00:00,  5.17it/s]"
     ]
    },
    {
     "name": "stdout",
     "output_type": "stream",
     "text": [
      "784 (1385, 7)\n"
     ]
    },
    {
     "name": "stderr",
     "output_type": "stream",
     "text": [
      "100%|██████████| 6/6 [00:01<00:00,  5.65it/s]\n",
      "100%|██████████| 1/1 [00:00<00:00, 10.83it/s]\n",
      "  0%|          | 0/8 [00:00<?, ?it/s]"
     ]
    },
    {
     "name": "stdout",
     "output_type": "stream",
     "text": [
      "785 (108, 7)\n",
      "No columns to parse from file\n",
      "787 (2005, 7)\n"
     ]
    },
    {
     "name": "stderr",
     "output_type": "stream",
     "text": [
      "100%|██████████| 8/8 [00:01<00:00,  5.28it/s]\n",
      " 50%|█████     | 1/2 [00:00<00:00,  5.20it/s]"
     ]
    },
    {
     "name": "stdout",
     "output_type": "stream",
     "text": [
      "788 (397, 7)\n"
     ]
    },
    {
     "name": "stderr",
     "output_type": "stream",
     "text": [
      "100%|██████████| 2/2 [00:00<00:00,  6.50it/s]\n",
      "100%|██████████| 1/1 [00:00<00:00,  7.67it/s]\n",
      "  0%|          | 0/13 [00:00<?, ?it/s]"
     ]
    },
    {
     "name": "stdout",
     "output_type": "stream",
     "text": [
      "789 (166, 7)\n",
      "790 (3181, 7)\n"
     ]
    },
    {
     "name": "stderr",
     "output_type": "stream",
     "text": [
      "100%|██████████| 13/13 [00:02<00:00,  5.42it/s]\n",
      "  8%|▊         | 1/12 [00:00<00:02,  5.22it/s]"
     ]
    },
    {
     "name": "stdout",
     "output_type": "stream",
     "text": [
      "791 (3068, 7)\n"
     ]
    },
    {
     "name": "stderr",
     "output_type": "stream",
     "text": [
      "100%|██████████| 12/12 [00:02<00:00,  5.20it/s]\n",
      "100%|██████████| 1/1 [00:00<00:00, 28.27it/s]\n",
      "100%|██████████| 1/1 [00:00<00:00, 24.75it/s]\n",
      "  0%|          | 0/2 [00:00<?, ?it/s]"
     ]
    },
    {
     "name": "stdout",
     "output_type": "stream",
     "text": [
      "792 (21, 7)\n",
      "793 (29, 7)\n",
      "794 (347, 7)\n"
     ]
    },
    {
     "name": "stderr",
     "output_type": "stream",
     "text": [
      "100%|██████████| 2/2 [00:00<00:00,  7.30it/s]\n",
      "100%|██████████| 1/1 [00:00<00:00, 49.64it/s]\n",
      "100%|██████████| 1/1 [00:00<00:00, 53.53it/s]\n",
      "  0%|          | 0/3 [00:00<?, ?it/s]"
     ]
    },
    {
     "name": "stdout",
     "output_type": "stream",
     "text": [
      "795 (2, 7)\n",
      "796 (1, 7)\n",
      "797 (674, 7)\n"
     ]
    },
    {
     "name": "stderr",
     "output_type": "stream",
     "text": [
      "100%|██████████| 3/3 [00:00<00:00,  5.72it/s]\n",
      "100%|██████████| 1/1 [00:00<00:00, 47.90it/s]\n",
      "  0%|          | 0/48 [00:00<?, ?it/s]"
     ]
    },
    {
     "name": "stdout",
     "output_type": "stream",
     "text": [
      "798 (2, 7)\n",
      "799 (12214, 7)\n"
     ]
    },
    {
     "name": "stderr",
     "output_type": "stream",
     "text": [
      "100%|██████████| 48/48 [00:09<00:00,  5.21it/s]\n",
      " 33%|███▎      | 1/3 [00:00<00:00,  5.16it/s]"
     ]
    },
    {
     "name": "stdout",
     "output_type": "stream",
     "text": [
      "800 (650, 7)\n"
     ]
    },
    {
     "name": "stderr",
     "output_type": "stream",
     "text": [
      "100%|██████████| 3/3 [00:00<00:00,  5.95it/s]\n",
      "  2%|▏         | 1/41 [00:00<00:07,  5.19it/s]"
     ]
    },
    {
     "name": "stdout",
     "output_type": "stream",
     "text": [
      "801 (10253, 7)\n"
     ]
    },
    {
     "name": "stderr",
     "output_type": "stream",
     "text": [
      "100%|██████████| 41/41 [00:07<00:00,  5.25it/s]\n",
      "  5%|▌         | 1/20 [00:00<00:03,  5.27it/s]"
     ]
    },
    {
     "name": "stdout",
     "output_type": "stream",
     "text": [
      "802 (5117, 7)\n"
     ]
    },
    {
     "name": "stderr",
     "output_type": "stream",
     "text": [
      "100%|██████████| 20/20 [00:03<00:00,  5.14it/s]\n",
      " 25%|██▌       | 1/4 [00:00<00:00,  5.20it/s]"
     ]
    },
    {
     "name": "stdout",
     "output_type": "stream",
     "text": [
      "803 (954, 7)\n"
     ]
    },
    {
     "name": "stderr",
     "output_type": "stream",
     "text": [
      "100%|██████████| 4/4 [00:00<00:00,  5.48it/s]\n",
      "100%|██████████| 1/1 [00:00<00:00, 12.70it/s]\n",
      "100%|██████████| 1/1 [00:00<00:00, 37.77it/s]\n",
      "  0%|          | 0/2 [00:00<?, ?it/s]"
     ]
    },
    {
     "name": "stdout",
     "output_type": "stream",
     "text": [
      "804 (85, 7)\n",
      "805 (12, 7)\n",
      "806 (372, 7)\n"
     ]
    },
    {
     "name": "stderr",
     "output_type": "stream",
     "text": [
      "100%|██████████| 2/2 [00:00<00:00,  6.81it/s]\n",
      " 50%|█████     | 1/2 [00:00<00:00,  5.19it/s]"
     ]
    },
    {
     "name": "stdout",
     "output_type": "stream",
     "text": [
      "807 (334, 7)\n"
     ]
    },
    {
     "name": "stderr",
     "output_type": "stream",
     "text": [
      "100%|██████████| 2/2 [00:00<00:00,  7.47it/s]\n",
      "100%|██████████| 1/1 [00:00<00:00,  5.69it/s]\n",
      "  0%|          | 0/1 [00:00<?, ?it/s]"
     ]
    },
    {
     "name": "stdout",
     "output_type": "stream",
     "text": [
      "808 (222, 7)\n",
      "809 (4, 7)\n"
     ]
    },
    {
     "name": "stderr",
     "output_type": "stream",
     "text": [
      "100%|██████████| 1/1 [00:00<00:00, 45.60it/s]\n",
      "  0%|          | 0/5 [00:00<?, ?it/s]"
     ]
    },
    {
     "name": "stdout",
     "output_type": "stream",
     "text": [
      "810 (1258, 7)\n"
     ]
    },
    {
     "name": "stderr",
     "output_type": "stream",
     "text": [
      "100%|██████████| 5/5 [00:00<00:00,  5.18it/s]\n",
      "  0%|          | 0/49 [00:00<?, ?it/s]"
     ]
    },
    {
     "name": "stdout",
     "output_type": "stream",
     "text": [
      "No columns to parse from file\n",
      "812 (12393, 7)\n"
     ]
    },
    {
     "name": "stderr",
     "output_type": "stream",
     "text": [
      "100%|██████████| 49/49 [00:09<00:00,  5.19it/s]\n",
      "100%|██████████| 1/1 [00:00<00:00, 26.01it/s]\n",
      "  0%|          | 0/9 [00:00<?, ?it/s]"
     ]
    },
    {
     "name": "stdout",
     "output_type": "stream",
     "text": [
      "813 (23, 7)\n",
      "814 (2260, 7)\n"
     ]
    },
    {
     "name": "stderr",
     "output_type": "stream",
     "text": [
      "100%|██████████| 9/9 [00:01<00:00,  5.24it/s]\n",
      " 25%|██▌       | 1/4 [00:00<00:00,  5.17it/s]"
     ]
    },
    {
     "name": "stdout",
     "output_type": "stream",
     "text": [
      "815 (824, 7)\n"
     ]
    },
    {
     "name": "stderr",
     "output_type": "stream",
     "text": [
      "100%|██████████| 4/4 [00:00<00:00,  6.25it/s]\n",
      "  6%|▋         | 1/16 [00:00<00:02,  5.18it/s]"
     ]
    },
    {
     "name": "stdout",
     "output_type": "stream",
     "text": [
      "816 (3908, 7)\n"
     ]
    },
    {
     "name": "stderr",
     "output_type": "stream",
     "text": [
      "100%|██████████| 16/16 [00:02<00:00,  5.34it/s]\n",
      " 20%|██        | 1/5 [00:00<00:00,  5.20it/s]"
     ]
    },
    {
     "name": "stdout",
     "output_type": "stream",
     "text": [
      "817 (1116, 7)\n"
     ]
    },
    {
     "name": "stderr",
     "output_type": "stream",
     "text": [
      "100%|██████████| 5/5 [00:00<00:00,  5.81it/s]\n",
      " 11%|█         | 1/9 [00:00<00:01,  5.06it/s]"
     ]
    },
    {
     "name": "stdout",
     "output_type": "stream",
     "text": [
      "818 (2132, 7)\n"
     ]
    },
    {
     "name": "stderr",
     "output_type": "stream",
     "text": [
      "100%|██████████| 9/9 [00:01<00:00,  5.48it/s]\n",
      " 33%|███▎      | 1/3 [00:00<00:00,  5.20it/s]"
     ]
    },
    {
     "name": "stdout",
     "output_type": "stream",
     "text": [
      "819 (667, 7)\n"
     ]
    },
    {
     "name": "stderr",
     "output_type": "stream",
     "text": [
      "100%|██████████| 3/3 [00:00<00:00,  5.84it/s]\n",
      "100%|██████████| 1/1 [00:00<00:00, 36.59it/s]\n",
      "100%|██████████| 1/1 [00:00<00:00, 16.41it/s]\n",
      "  0%|          | 0/4 [00:00<?, ?it/s]"
     ]
    },
    {
     "name": "stdout",
     "output_type": "stream",
     "text": [
      "820 (13, 7)\n",
      "821 (58, 7)\n",
      "822 (981, 7)\n"
     ]
    },
    {
     "name": "stderr",
     "output_type": "stream",
     "text": [
      "100%|██████████| 4/4 [00:00<00:00,  5.32it/s]\n",
      " 10%|█         | 1/10 [00:00<00:01,  5.20it/s]"
     ]
    },
    {
     "name": "stdout",
     "output_type": "stream",
     "text": [
      "823 (2508, 7)\n"
     ]
    },
    {
     "name": "stderr",
     "output_type": "stream",
     "text": [
      "100%|██████████| 10/10 [00:01<00:00,  5.26it/s]\n",
      "100%|██████████| 1/1 [00:00<00:00, 38.94it/s]\n",
      "100%|██████████| 1/1 [00:00<00:00, 25.25it/s]\n",
      "100%|██████████| 1/1 [00:00<00:00, 26.87it/s]\n",
      "  0%|          | 0/10 [00:00<?, ?it/s]"
     ]
    },
    {
     "name": "stdout",
     "output_type": "stream",
     "text": [
      "824 (10, 7)\n",
      "825 (26, 7)\n",
      "826 (24, 7)\n",
      "827 (2450, 7)\n"
     ]
    },
    {
     "name": "stderr",
     "output_type": "stream",
     "text": [
      "100%|██████████| 10/10 [00:01<00:00,  5.38it/s]\n",
      " 50%|█████     | 1/2 [00:00<00:00,  5.20it/s]"
     ]
    },
    {
     "name": "stdout",
     "output_type": "stream",
     "text": [
      "828 (264, 7)\n"
     ]
    },
    {
     "name": "stderr",
     "output_type": "stream",
     "text": [
      "100%|██████████| 2/2 [00:00<00:00,  9.26it/s]\n",
      "  0%|          | 0/3 [00:00<?, ?it/s]"
     ]
    },
    {
     "name": "stdout",
     "output_type": "stream",
     "text": [
      "829 (729, 7)\n"
     ]
    },
    {
     "name": "stderr",
     "output_type": "stream",
     "text": [
      "100%|██████████| 3/3 [00:00<00:00,  5.25it/s]\n",
      "  7%|▋         | 1/15 [00:00<00:02,  5.19it/s]"
     ]
    },
    {
     "name": "stdout",
     "output_type": "stream",
     "text": [
      "830 (3809, 7)\n"
     ]
    },
    {
     "name": "stderr",
     "output_type": "stream",
     "text": [
      "100%|██████████| 15/15 [00:02<00:00,  5.20it/s]\n",
      "100%|██████████| 1/1 [00:00<00:00, 18.14it/s]\n",
      "  0%|          | 0/2 [00:00<?, ?it/s]"
     ]
    },
    {
     "name": "stdout",
     "output_type": "stream",
     "text": [
      "831 (44, 7)\n",
      "832 (301, 7)\n"
     ]
    },
    {
     "name": "stderr",
     "output_type": "stream",
     "text": [
      "100%|██████████| 2/2 [00:00<00:00,  7.86it/s]\n",
      "100%|██████████| 1/1 [00:00<00:00, 25.06it/s]\n",
      "  0%|          | 0/3 [00:00<?, ?it/s]"
     ]
    },
    {
     "name": "stdout",
     "output_type": "stream",
     "text": [
      "833 (23, 7)\n",
      "834 (528, 7)\n"
     ]
    },
    {
     "name": "stderr",
     "output_type": "stream",
     "text": [
      "100%|██████████| 3/3 [00:00<00:00,  6.94it/s]\n",
      "  0%|          | 0/10 [00:00<?, ?it/s]"
     ]
    },
    {
     "name": "stdout",
     "output_type": "stream",
     "text": [
      "835 (2441, 7)\n"
     ]
    },
    {
     "name": "stderr",
     "output_type": "stream",
     "text": [
      "100%|██████████| 10/10 [00:01<00:00,  5.29it/s]\n",
      "100%|██████████| 1/1 [00:00<00:00, 24.84it/s]\n",
      "100%|██████████| 1/1 [00:00<00:00, 47.85it/s]\n",
      "100%|██████████| 1/1 [00:00<00:00, 40.20it/s]\n",
      "100%|██████████| 1/1 [00:00<00:00, 53.82it/s]\n",
      "  0%|          | 0/2 [00:00<?, ?it/s]"
     ]
    },
    {
     "name": "stdout",
     "output_type": "stream",
     "text": [
      "836 (27, 7)\n",
      "837 (4, 7)\n",
      "838 (9, 7)\n",
      "839 (1, 7)\n",
      "840 (360, 7)\n"
     ]
    },
    {
     "name": "stderr",
     "output_type": "stream",
     "text": [
      "100%|██████████| 2/2 [00:00<00:00,  7.00it/s]\n",
      "100%|██████████| 1/1 [00:00<00:00, 43.40it/s]\n",
      "  0%|          | 0/3 [00:00<?, ?it/s]"
     ]
    },
    {
     "name": "stdout",
     "output_type": "stream",
     "text": [
      "841 (7, 7)\n",
      "842 (716, 7)\n"
     ]
    },
    {
     "name": "stderr",
     "output_type": "stream",
     "text": [
      "100%|██████████| 3/3 [00:00<00:00,  5.43it/s]\n",
      "100%|██████████| 1/1 [00:00<00:00,  6.48it/s]\n",
      "  0%|          | 0/1 [00:00<?, ?it/s]"
     ]
    },
    {
     "name": "stdout",
     "output_type": "stream",
     "text": [
      "843 (0, 1)\n",
      "5\n",
      "844 (193, 7)\n",
      "845 (47, 7)\n"
     ]
    },
    {
     "name": "stderr",
     "output_type": "stream",
     "text": [
      "100%|██████████| 1/1 [00:00<00:00, 18.50it/s]\n",
      "100%|██████████| 1/1 [00:00<00:00, 15.79it/s]\n",
      "100%|██████████| 1/1 [00:00<00:00, 10.54it/s]\n",
      "  0%|          | 0/1 [00:00<?, ?it/s]"
     ]
    },
    {
     "name": "stdout",
     "output_type": "stream",
     "text": [
      "No columns to parse from file\n",
      "847 (61, 7)\n",
      "848 (0, 1)\n",
      "5\n",
      "No columns to parse from file\n",
      "850 (105, 7)\n",
      "No columns to parse from file\n",
      "852 (11, 7)\n"
     ]
    },
    {
     "name": "stderr",
     "output_type": "stream",
     "text": [
      "100%|██████████| 1/1 [00:00<00:00, 36.72it/s]\n",
      " 20%|██        | 1/5 [00:00<00:00,  5.13it/s]"
     ]
    },
    {
     "name": "stdout",
     "output_type": "stream",
     "text": [
      "853 (1133, 7)\n"
     ]
    },
    {
     "name": "stderr",
     "output_type": "stream",
     "text": [
      "100%|██████████| 5/5 [00:00<00:00,  5.71it/s]\n",
      "100%|██████████| 1/1 [00:00<00:00,  8.22it/s]\n",
      "  0%|          | 0/16 [00:00<?, ?it/s]"
     ]
    },
    {
     "name": "stdout",
     "output_type": "stream",
     "text": [
      "854 (147, 7)\n",
      "855 (4028, 7)\n"
     ]
    },
    {
     "name": "stderr",
     "output_type": "stream",
     "text": [
      "100%|██████████| 16/16 [00:03<00:00,  5.23it/s]\n",
      " 12%|█▎        | 1/8 [00:00<00:01,  5.21it/s]"
     ]
    },
    {
     "name": "stdout",
     "output_type": "stream",
     "text": [
      "856 (1832, 7)\n"
     ]
    },
    {
     "name": "stderr",
     "output_type": "stream",
     "text": [
      "100%|██████████| 8/8 [00:01<00:00,  5.70it/s]\n",
      "100%|██████████| 1/1 [00:00<00:00, 12.92it/s]\n",
      "100%|██████████| 1/1 [00:00<00:00, 12.29it/s]\n",
      "  0%|          | 0/1 [00:00<?, ?it/s]"
     ]
    },
    {
     "name": "stdout",
     "output_type": "stream",
     "text": [
      "857 (83, 7)\n",
      "858 (89, 7)\n",
      "859 (8, 7)\n"
     ]
    },
    {
     "name": "stderr",
     "output_type": "stream",
     "text": [
      "100%|██████████| 1/1 [00:00<00:00, 43.31it/s]\n",
      "100%|██████████| 1/1 [00:00<00:00, 10.44it/s]\n",
      "100%|██████████| 1/1 [00:00<00:00, 53.56it/s]\n",
      "  0%|          | 0/2 [00:00<?, ?it/s]"
     ]
    },
    {
     "name": "stdout",
     "output_type": "stream",
     "text": [
      "No columns to parse from file\n",
      "861 (112, 7)\n",
      "862 (1, 7)\n",
      "863 (339, 7)\n"
     ]
    },
    {
     "name": "stderr",
     "output_type": "stream",
     "text": [
      "100%|██████████| 2/2 [00:00<00:00,  7.35it/s]\n",
      " 50%|█████     | 1/2 [00:00<00:00,  5.20it/s]"
     ]
    },
    {
     "name": "stdout",
     "output_type": "stream",
     "text": [
      "864 (335, 7)\n"
     ]
    },
    {
     "name": "stderr",
     "output_type": "stream",
     "text": [
      "100%|██████████| 2/2 [00:00<00:00,  7.47it/s]\n",
      " 10%|█         | 1/10 [00:00<00:01,  5.15it/s]"
     ]
    },
    {
     "name": "stdout",
     "output_type": "stream",
     "text": [
      "865 (2400, 7)\n"
     ]
    },
    {
     "name": "stderr",
     "output_type": "stream",
     "text": [
      "100%|██████████| 10/10 [00:01<00:00,  5.43it/s]\n",
      " 50%|█████     | 1/2 [00:00<00:00,  5.20it/s]"
     ]
    },
    {
     "name": "stdout",
     "output_type": "stream",
     "text": [
      "866 (435, 7)\n"
     ]
    },
    {
     "name": "stderr",
     "output_type": "stream",
     "text": [
      "100%|██████████| 2/2 [00:00<00:00,  5.95it/s]\n",
      " 20%|██        | 1/5 [00:00<00:00,  5.19it/s]"
     ]
    },
    {
     "name": "stdout",
     "output_type": "stream",
     "text": [
      "867 (1256, 7)\n"
     ]
    },
    {
     "name": "stderr",
     "output_type": "stream",
     "text": [
      "100%|██████████| 5/5 [00:00<00:00,  5.24it/s]\n",
      "100%|██████████| 1/1 [00:00<00:00, 19.85it/s]\n",
      "100%|██████████| 1/1 [00:00<00:00, 45.03it/s]\n",
      "100%|██████████| 1/1 [00:00<00:00, 16.69it/s]\n",
      "  0%|          | 0/1 [00:00<?, ?it/s]"
     ]
    },
    {
     "name": "stdout",
     "output_type": "stream",
     "text": [
      "868 (42, 7)\n",
      "869 (6, 7)\n",
      "870 (57, 7)\n",
      "871 (243, 7)\n"
     ]
    },
    {
     "name": "stderr",
     "output_type": "stream",
     "text": [
      "100%|██████████| 1/1 [00:00<00:00,  5.37it/s]\n",
      "100%|██████████| 1/1 [00:00<00:00, 36.39it/s]\n",
      "100%|██████████| 1/1 [00:00<00:00, 18.22it/s]\n",
      "  0%|          | 0/6 [00:00<?, ?it/s]"
     ]
    },
    {
     "name": "stdout",
     "output_type": "stream",
     "text": [
      "872 (13, 7)\n",
      "873 (49, 7)\n",
      "874 (1353, 7)\n"
     ]
    },
    {
     "name": "stderr",
     "output_type": "stream",
     "text": [
      "100%|██████████| 6/6 [00:01<00:00,  5.78it/s]\n",
      "100%|██████████| 1/1 [00:00<00:00,  8.84it/s]\n",
      "100%|██████████| 1/1 [00:00<00:00, 50.31it/s]\n",
      "  0%|          | 0/1 [00:00<?, ?it/s]"
     ]
    },
    {
     "name": "stdout",
     "output_type": "stream",
     "text": [
      "875 (135, 7)\n",
      "876 (2, 7)\n",
      "877 (48, 7)\n"
     ]
    },
    {
     "name": "stderr",
     "output_type": "stream",
     "text": [
      "100%|██████████| 1/1 [00:00<00:00, 18.75it/s]\n",
      "100%|██████████| 1/1 [00:00<00:00, 11.30it/s]\n",
      "100%|██████████| 1/1 [00:00<00:00, 23.22it/s]\n",
      "100%|██████████| 1/1 [00:00<00:00, 25.25it/s]"
     ]
    },
    {
     "name": "stdout",
     "output_type": "stream",
     "text": [
      "878 (99, 7)\n",
      "879 (32, 7)\n",
      "No columns to parse from file\n",
      "881 (26, 7)\n"
     ]
    },
    {
     "name": "stderr",
     "output_type": "stream",
     "text": [
      "\n",
      "\r",
      "  0%|          | 0/19 [00:00<?, ?it/s]"
     ]
    },
    {
     "name": "stdout",
     "output_type": "stream",
     "text": [
      "882 (4625, 7)\n"
     ]
    },
    {
     "name": "stderr",
     "output_type": "stream",
     "text": [
      "100%|██████████| 19/19 [00:03<00:00,  5.37it/s]\n",
      "  0%|          | 0/34 [00:00<?, ?it/s]"
     ]
    },
    {
     "name": "stdout",
     "output_type": "stream",
     "text": [
      "883 (8578, 7)\n"
     ]
    },
    {
     "name": "stderr",
     "output_type": "stream",
     "text": [
      "100%|██████████| 34/34 [00:06<00:00,  5.17it/s]\n",
      "  0%|          | 0/4 [00:00<?, ?it/s]"
     ]
    },
    {
     "name": "stdout",
     "output_type": "stream",
     "text": [
      "884 (1017, 7)\n"
     ]
    },
    {
     "name": "stderr",
     "output_type": "stream",
     "text": [
      "100%|██████████| 4/4 [00:00<00:00,  5.09it/s]\n",
      "100%|██████████| 1/1 [00:00<00:00, 53.24it/s]\n",
      "  0%|          | 0/2 [00:00<?, ?it/s]"
     ]
    },
    {
     "name": "stdout",
     "output_type": "stream",
     "text": [
      "885 (1, 7)\n",
      "886 (467, 7)\n"
     ]
    },
    {
     "name": "stderr",
     "output_type": "stream",
     "text": [
      "100%|██████████| 2/2 [00:00<00:00,  5.49it/s]\n",
      "100%|██████████| 1/1 [00:00<00:00, 16.23it/s]\n",
      "100%|██████████| 1/1 [00:00<00:00, 48.18it/s]\n",
      "100%|██████████| 1/1 [00:00<00:00, 24.74it/s]\n",
      "100%|██████████| 1/1 [00:00<00:00, 44.56it/s]\n",
      "  0%|          | 0/1 [00:00<?, ?it/s]"
     ]
    },
    {
     "name": "stdout",
     "output_type": "stream",
     "text": [
      "887 (58, 7)\n",
      "888 (3, 7)\n",
      "889 (26, 7)\n",
      "890 (6, 7)\n",
      "891 (111, 7)\n"
     ]
    },
    {
     "name": "stderr",
     "output_type": "stream",
     "text": [
      "100%|██████████| 1/1 [00:00<00:00, 10.17it/s]\n",
      " 12%|█▎        | 1/8 [00:00<00:01,  5.10it/s]"
     ]
    },
    {
     "name": "stdout",
     "output_type": "stream",
     "text": [
      "892 (2027, 7)\n"
     ]
    },
    {
     "name": "stderr",
     "output_type": "stream",
     "text": [
      "100%|██████████| 8/8 [00:01<00:00,  5.14it/s]\n",
      "100%|██████████| 1/1 [00:00<00:00, 24.68it/s]\n",
      "  0%|          | 0/3 [00:00<?, ?it/s]"
     ]
    },
    {
     "name": "stdout",
     "output_type": "stream",
     "text": [
      "893 (27, 7)\n",
      "894 (643, 7)\n"
     ]
    },
    {
     "name": "stderr",
     "output_type": "stream",
     "text": [
      "100%|██████████| 3/3 [00:00<00:00,  5.96it/s]\n",
      "100%|██████████| 1/1 [00:00<00:00, 48.12it/s]\n",
      "  0%|          | 0/1 [00:00<?, ?it/s]"
     ]
    },
    {
     "name": "stdout",
     "output_type": "stream",
     "text": [
      "895 (3, 7)\n",
      "896 (218, 7)\n"
     ]
    },
    {
     "name": "stderr",
     "output_type": "stream",
     "text": [
      "100%|██████████| 1/1 [00:00<00:00,  5.67it/s]\n",
      "  6%|▌         | 1/17 [00:00<00:03,  5.14it/s]"
     ]
    },
    {
     "name": "stdout",
     "output_type": "stream",
     "text": [
      "897 (4213, 7)\n"
     ]
    },
    {
     "name": "stderr",
     "output_type": "stream",
     "text": [
      "100%|██████████| 17/17 [00:03<00:00,  5.25it/s]\n",
      " 50%|█████     | 1/2 [00:00<00:00,  5.13it/s]"
     ]
    },
    {
     "name": "stdout",
     "output_type": "stream",
     "text": [
      "898 (497, 7)\n"
     ]
    },
    {
     "name": "stderr",
     "output_type": "stream",
     "text": [
      "100%|██████████| 2/2 [00:00<00:00,  5.24it/s]\n",
      "  9%|▉         | 1/11 [00:00<00:01,  5.12it/s]"
     ]
    },
    {
     "name": "stdout",
     "output_type": "stream",
     "text": [
      "899 (2616, 7)\n"
     ]
    },
    {
     "name": "stderr",
     "output_type": "stream",
     "text": [
      "100%|██████████| 11/11 [00:02<00:00,  5.45it/s]\n",
      "100%|██████████| 1/1 [00:00<00:00,  7.68it/s]\n",
      "  0%|          | 0/5 [00:00<?, ?it/s]"
     ]
    },
    {
     "name": "stdout",
     "output_type": "stream",
     "text": [
      "900 (157, 7)\n",
      "901 (1108, 7)\n"
     ]
    },
    {
     "name": "stderr",
     "output_type": "stream",
     "text": [
      "100%|██████████| 5/5 [00:00<00:00,  5.79it/s]\n",
      "100%|██████████| 1/1 [00:00<00:00, 28.81it/s]\n",
      "100%|██████████| 1/1 [00:00<00:00, 47.77it/s]\n",
      "  0%|          | 0/3 [00:00<?, ?it/s]"
     ]
    },
    {
     "name": "stdout",
     "output_type": "stream",
     "text": [
      "902 (18, 7)\n",
      "903 (4, 7)\n",
      "904 (565, 7)\n"
     ]
    },
    {
     "name": "stderr",
     "output_type": "stream",
     "text": [
      "100%|██████████| 3/3 [00:00<00:00,  6.62it/s]\n",
      "100%|██████████| 1/1 [00:00<00:00, 28.74it/s]\n",
      "  0%|          | 0/21 [00:00<?, ?it/s]"
     ]
    },
    {
     "name": "stdout",
     "output_type": "stream",
     "text": [
      "905 (18, 7)\n",
      "906 (5238, 7)\n"
     ]
    },
    {
     "name": "stderr",
     "output_type": "stream",
     "text": [
      "100%|██████████| 21/21 [00:04<00:00,  5.09it/s]\n",
      "  0%|          | 0/2 [00:00<?, ?it/s]"
     ]
    },
    {
     "name": "stdout",
     "output_type": "stream",
     "text": [
      "907 (400, 7)\n"
     ]
    },
    {
     "name": "stderr",
     "output_type": "stream",
     "text": [
      "100%|██████████| 2/2 [00:00<00:00,  6.12it/s]\n",
      "  0%|          | 0/30 [00:00<?, ?it/s]"
     ]
    },
    {
     "name": "stdout",
     "output_type": "stream",
     "text": [
      "908 (7565, 7)\n"
     ]
    },
    {
     "name": "stderr",
     "output_type": "stream",
     "text": [
      "100%|██████████| 30/30 [00:05<00:00,  5.12it/s]\n",
      "100%|██████████| 1/1 [00:00<00:00, 17.64it/s]\n",
      "  0%|          | 0/7 [00:00<?, ?it/s]"
     ]
    },
    {
     "name": "stdout",
     "output_type": "stream",
     "text": [
      "909 (50, 7)\n",
      "910 (1618, 7)\n"
     ]
    },
    {
     "name": "stderr",
     "output_type": "stream",
     "text": [
      "100%|██████████| 7/7 [00:01<00:00,  5.57it/s]\n",
      "100%|██████████| 1/1 [00:00<00:00, 49.67it/s]\n",
      "  0%|          | 0/15 [00:00<?, ?it/s]"
     ]
    },
    {
     "name": "stdout",
     "output_type": "stream",
     "text": [
      "911 (2, 7)\n",
      "912 (0, 1)\n",
      "5\n",
      "913 (3665, 7)\n"
     ]
    },
    {
     "name": "stderr",
     "output_type": "stream",
     "text": [
      "100%|██████████| 15/15 [00:02<00:00,  5.27it/s]\n",
      " 50%|█████     | 1/2 [00:00<00:00,  5.14it/s]"
     ]
    },
    {
     "name": "stdout",
     "output_type": "stream",
     "text": [
      "914 (385, 7)\n"
     ]
    },
    {
     "name": "stderr",
     "output_type": "stream",
     "text": [
      "100%|██████████| 2/2 [00:00<00:00,  6.46it/s]\n",
      "100%|██████████| 1/1 [00:00<00:00, 44.06it/s]\n",
      "  0%|          | 0/9 [00:00<?, ?it/s]"
     ]
    },
    {
     "name": "stdout",
     "output_type": "stream",
     "text": [
      "915 (5, 7)\n",
      "916 (2092, 7)\n"
     ]
    },
    {
     "name": "stderr",
     "output_type": "stream",
     "text": [
      "100%|██████████| 9/9 [00:01<00:00,  5.54it/s]\n",
      "100%|██████████| 1/1 [00:00<00:00, 49.72it/s]\n",
      "  0%|          | 0/25 [00:00<?, ?it/s]"
     ]
    },
    {
     "name": "stdout",
     "output_type": "stream",
     "text": [
      "917 (2, 7)\n",
      "918 (6176, 7)\n"
     ]
    },
    {
     "name": "stderr",
     "output_type": "stream",
     "text": [
      "100%|██████████| 25/25 [00:04<00:00,  5.26it/s]\n",
      "  6%|▋         | 1/16 [00:00<00:02,  5.15it/s]"
     ]
    },
    {
     "name": "stdout",
     "output_type": "stream",
     "text": [
      "919 (3955, 7)\n"
     ]
    },
    {
     "name": "stderr",
     "output_type": "stream",
     "text": [
      "100%|██████████| 16/16 [00:03<00:00,  5.30it/s]\n",
      "100%|██████████| 1/1 [00:00<00:00, 20.81it/s]\n",
      "100%|██████████| 1/1 [00:00<00:00, 21.88it/s]\n",
      "  0%|          | 0/1 [00:00<?, ?it/s]"
     ]
    },
    {
     "name": "stdout",
     "output_type": "stream",
     "text": [
      "920 (39, 7)\n",
      "921 (35, 7)\n",
      "922 (167, 7)\n"
     ]
    },
    {
     "name": "stderr",
     "output_type": "stream",
     "text": [
      "100%|██████████| 1/1 [00:00<00:00,  7.39it/s]\n",
      " 25%|██▌       | 1/4 [00:00<00:00,  5.15it/s]"
     ]
    },
    {
     "name": "stdout",
     "output_type": "stream",
     "text": [
      "923 (1015, 7)\n"
     ]
    },
    {
     "name": "stderr",
     "output_type": "stream",
     "text": [
      "100%|██████████| 4/4 [00:00<00:00,  5.16it/s]\n",
      " 25%|██▌       | 1/4 [00:00<00:00,  5.18it/s]"
     ]
    },
    {
     "name": "stdout",
     "output_type": "stream",
     "text": [
      "924 (926, 7)\n"
     ]
    },
    {
     "name": "stderr",
     "output_type": "stream",
     "text": [
      "100%|██████████| 4/4 [00:00<00:00,  5.64it/s]\n",
      "100%|██████████| 1/1 [00:00<00:00, 25.17it/s]\n",
      "100%|██████████| 1/1 [00:00<00:00, 12.79it/s]\n",
      "  0%|          | 0/1 [00:00<?, ?it/s]"
     ]
    },
    {
     "name": "stdout",
     "output_type": "stream",
     "text": [
      "925 (0, 1)\n",
      "5\n",
      "926 (26, 7)\n",
      "927 (84, 7)\n",
      "928 (64, 7)\n"
     ]
    },
    {
     "name": "stderr",
     "output_type": "stream",
     "text": [
      "100%|██████████| 1/1 [00:00<00:00, 15.54it/s]\n",
      "  0%|          | 0/32 [00:00<?, ?it/s]"
     ]
    },
    {
     "name": "stdout",
     "output_type": "stream",
     "text": [
      "No columns to parse from file\n",
      "930 (0, 1)\n",
      "5\n",
      "931 (7949, 7)\n"
     ]
    },
    {
     "name": "stderr",
     "output_type": "stream",
     "text": [
      "100%|██████████| 32/32 [00:06<00:00,  5.20it/s]\n",
      "100%|██████████| 1/1 [00:00<00:00, 26.51it/s]\n",
      "100%|██████████| 1/1 [00:00<00:00, 11.95it/s]\n",
      "  0%|          | 0/3 [00:00<?, ?it/s]"
     ]
    },
    {
     "name": "stdout",
     "output_type": "stream",
     "text": [
      "932 (23, 7)\n",
      "933 (92, 7)\n",
      "934 (644, 7)\n"
     ]
    },
    {
     "name": "stderr",
     "output_type": "stream",
     "text": [
      "100%|██████████| 3/3 [00:00<00:00,  6.00it/s]\n",
      "100%|██████████| 1/1 [00:00<00:00, 47.64it/s]\n",
      "100%|██████████| 1/1 [00:00<00:00, 19.29it/s]\n",
      "  0%|          | 0/1 [00:00<?, ?it/s]"
     ]
    },
    {
     "name": "stdout",
     "output_type": "stream",
     "text": [
      "935 (4, 7)\n",
      "936 (45, 7)\n",
      "937 (237, 7)\n"
     ]
    },
    {
     "name": "stderr",
     "output_type": "stream",
     "text": [
      "100%|██████████| 1/1 [00:00<00:00,  5.48it/s]\n",
      "  8%|▊         | 1/12 [00:00<00:02,  5.09it/s]"
     ]
    },
    {
     "name": "stdout",
     "output_type": "stream",
     "text": [
      "938 (3009, 7)\n"
     ]
    },
    {
     "name": "stderr",
     "output_type": "stream",
     "text": [
      "100%|██████████| 12/12 [00:02<00:00,  5.23it/s]\n",
      " 33%|███▎      | 1/3 [00:00<00:00,  5.18it/s]"
     ]
    },
    {
     "name": "stdout",
     "output_type": "stream",
     "text": [
      "939 (560, 7)\n"
     ]
    },
    {
     "name": "stderr",
     "output_type": "stream",
     "text": [
      "100%|██████████| 3/3 [00:00<00:00,  6.80it/s]\n",
      " 33%|███▎      | 1/3 [00:00<00:00,  5.17it/s]"
     ]
    },
    {
     "name": "stdout",
     "output_type": "stream",
     "text": [
      "940 (666, 7)\n"
     ]
    },
    {
     "name": "stderr",
     "output_type": "stream",
     "text": [
      "100%|██████████| 3/3 [00:00<00:00,  5.82it/s]\n",
      "100%|██████████| 1/1 [00:00<00:00,  9.86it/s]\n",
      "  0%|          | 0/2 [00:00<?, ?it/s]"
     ]
    },
    {
     "name": "stdout",
     "output_type": "stream",
     "text": [
      "941 (118, 7)\n",
      "942 (290, 7)\n"
     ]
    },
    {
     "name": "stderr",
     "output_type": "stream",
     "text": [
      "100%|██████████| 2/2 [00:00<00:00,  8.37it/s]\n",
      " 25%|██▌       | 1/4 [00:00<00:00,  5.20it/s]"
     ]
    },
    {
     "name": "stdout",
     "output_type": "stream",
     "text": [
      "943 (940, 7)\n"
     ]
    },
    {
     "name": "stderr",
     "output_type": "stream",
     "text": [
      "100%|██████████| 4/4 [00:00<00:00,  5.55it/s]\n",
      " 20%|██        | 1/5 [00:00<00:00,  5.18it/s]"
     ]
    },
    {
     "name": "stdout",
     "output_type": "stream",
     "text": [
      "944 (1245, 7)\n"
     ]
    },
    {
     "name": "stderr",
     "output_type": "stream",
     "text": [
      "100%|██████████| 5/5 [00:00<00:00,  5.28it/s]\n",
      " 20%|██        | 1/5 [00:00<00:00,  5.17it/s]"
     ]
    },
    {
     "name": "stdout",
     "output_type": "stream",
     "text": [
      "945 (1227, 7)\n"
     ]
    },
    {
     "name": "stderr",
     "output_type": "stream",
     "text": [
      "100%|██████████| 5/5 [00:00<00:00,  5.34it/s]\n",
      "100%|██████████| 1/1 [00:00<00:00, 43.23it/s]\n",
      "  0%|          | 0/2 [00:00<?, ?it/s]"
     ]
    },
    {
     "name": "stdout",
     "output_type": "stream",
     "text": [
      "946 (8, 7)\n",
      "947 (420, 7)\n"
     ]
    },
    {
     "name": "stderr",
     "output_type": "stream",
     "text": [
      "100%|██████████| 2/2 [00:00<00:00,  6.11it/s]\n",
      "100%|██████████| 1/1 [00:00<00:00,  7.26it/s]\n",
      "  0%|          | 0/21 [00:00<?, ?it/s]"
     ]
    },
    {
     "name": "stdout",
     "output_type": "stream",
     "text": [
      "948 (171, 7)\n",
      "949 (5321, 7)\n"
     ]
    },
    {
     "name": "stderr",
     "output_type": "stream",
     "text": [
      "100%|██████████| 21/21 [00:04<00:00,  5.19it/s]\n",
      "  5%|▌         | 1/20 [00:00<00:03,  5.18it/s]"
     ]
    },
    {
     "name": "stdout",
     "output_type": "stream",
     "text": [
      "950 (5092, 7)\n"
     ]
    },
    {
     "name": "stderr",
     "output_type": "stream",
     "text": [
      "100%|██████████| 20/20 [00:03<00:00,  5.16it/s]\n",
      "  3%|▎         | 1/29 [00:00<00:05,  5.18it/s]"
     ]
    },
    {
     "name": "stdout",
     "output_type": "stream",
     "text": [
      "951 (7327, 7)\n"
     ]
    },
    {
     "name": "stderr",
     "output_type": "stream",
     "text": [
      "100%|██████████| 29/29 [00:05<00:00,  5.22it/s]\n",
      "  6%|▌         | 1/18 [00:00<00:03,  5.16it/s]"
     ]
    },
    {
     "name": "stdout",
     "output_type": "stream",
     "text": [
      "952 (4423, 7)\n"
     ]
    },
    {
     "name": "stderr",
     "output_type": "stream",
     "text": [
      "100%|██████████| 18/18 [00:03<00:00,  5.31it/s]\n",
      "100%|██████████| 1/1 [00:00<00:00, 34.75it/s]\n",
      "  0%|          | 0/9 [00:00<?, ?it/s]"
     ]
    },
    {
     "name": "stdout",
     "output_type": "stream",
     "text": [
      "953 (16, 7)\n",
      "No columns to parse from file\n",
      "No columns to parse from file\n",
      "956 (2282, 7)\n"
     ]
    },
    {
     "name": "stderr",
     "output_type": "stream",
     "text": [
      "100%|██████████| 9/9 [00:01<00:00,  5.18it/s]\n",
      "100%|██████████| 1/1 [00:00<00:00, 21.91it/s]\n",
      "  0%|          | 0/51 [00:00<?, ?it/s]"
     ]
    },
    {
     "name": "stdout",
     "output_type": "stream",
     "text": [
      "957 (34, 7)\n",
      "958 (12853, 7)\n"
     ]
    },
    {
     "name": "stderr",
     "output_type": "stream",
     "text": [
      "100%|██████████| 51/51 [00:09<00:00,  5.15it/s]\n",
      " 50%|█████     | 1/2 [00:00<00:00,  5.13it/s]"
     ]
    },
    {
     "name": "stdout",
     "output_type": "stream",
     "text": [
      "959 (261, 7)\n"
     ]
    },
    {
     "name": "stderr",
     "output_type": "stream",
     "text": [
      "100%|██████████| 2/2 [00:00<00:00,  9.19it/s]\n",
      " 50%|█████     | 1/2 [00:00<00:00,  5.19it/s]"
     ]
    },
    {
     "name": "stdout",
     "output_type": "stream",
     "text": [
      "960 (322, 7)\n"
     ]
    },
    {
     "name": "stderr",
     "output_type": "stream",
     "text": [
      "100%|██████████| 2/2 [00:00<00:00,  7.68it/s]\n",
      " 20%|██        | 1/5 [00:00<00:00,  5.16it/s]"
     ]
    },
    {
     "name": "stdout",
     "output_type": "stream",
     "text": [
      "961 (1159, 7)\n"
     ]
    },
    {
     "name": "stderr",
     "output_type": "stream",
     "text": [
      "100%|██████████| 5/5 [00:00<00:00,  5.60it/s]\n",
      "100%|██████████| 1/1 [00:00<00:00, 43.59it/s]\n",
      "100%|██████████| 1/1 [00:00<00:00, 24.90it/s]\n",
      "  0%|          | 0/8 [00:00<?, ?it/s]"
     ]
    },
    {
     "name": "stdout",
     "output_type": "stream",
     "text": [
      "962 (7, 7)\n",
      "963 (28, 7)\n",
      "No columns to parse from file\n",
      "965 (1935, 7)\n"
     ]
    },
    {
     "name": "stderr",
     "output_type": "stream",
     "text": [
      "100%|██████████| 8/8 [00:01<00:00,  5.40it/s]\n",
      "  6%|▌         | 1/18 [00:00<00:03,  5.16it/s]"
     ]
    },
    {
     "name": "stdout",
     "output_type": "stream",
     "text": [
      "966 (4477, 7)\n"
     ]
    },
    {
     "name": "stderr",
     "output_type": "stream",
     "text": [
      "100%|██████████| 18/18 [00:03<00:00,  5.23it/s]\n",
      "100%|██████████| 1/1 [00:00<00:00, 20.42it/s]\n",
      "100%|██████████| 1/1 [00:00<00:00, 21.36it/s]\n",
      "  0%|          | 0/5 [00:00<?, ?it/s]"
     ]
    },
    {
     "name": "stdout",
     "output_type": "stream",
     "text": [
      "967 (38, 7)\n",
      "968 (36, 7)\n",
      "969 (1232, 7)\n"
     ]
    },
    {
     "name": "stderr",
     "output_type": "stream",
     "text": [
      "100%|██████████| 5/5 [00:00<00:00,  5.16it/s]\n",
      "  0%|          | 0/6 [00:00<?, ?it/s]"
     ]
    },
    {
     "name": "stdout",
     "output_type": "stream",
     "text": [
      "970 (1376, 7)\n"
     ]
    },
    {
     "name": "stderr",
     "output_type": "stream",
     "text": [
      "100%|██████████| 6/6 [00:01<00:00,  5.53it/s]\n",
      "100%|██████████| 1/1 [00:00<00:00, 10.33it/s]\n",
      "  0%|          | 0/1 [00:00<?, ?it/s]"
     ]
    },
    {
     "name": "stdout",
     "output_type": "stream",
     "text": [
      "971 (108, 7)\n",
      "972 (136, 7)\n"
     ]
    },
    {
     "name": "stderr",
     "output_type": "stream",
     "text": [
      "100%|██████████| 1/1 [00:00<00:00,  8.41it/s]\n",
      " 50%|█████     | 1/2 [00:00<00:00,  5.09it/s]"
     ]
    },
    {
     "name": "stdout",
     "output_type": "stream",
     "text": [
      "973 (299, 7)\n"
     ]
    },
    {
     "name": "stderr",
     "output_type": "stream",
     "text": [
      "100%|██████████| 2/2 [00:00<00:00,  7.93it/s]\n",
      "  4%|▍         | 1/25 [00:00<00:04,  5.08it/s]"
     ]
    },
    {
     "name": "stdout",
     "output_type": "stream",
     "text": [
      "974 (6298, 7)\n"
     ]
    },
    {
     "name": "stderr",
     "output_type": "stream",
     "text": [
      "100%|██████████| 25/25 [00:04<00:00,  5.14it/s]\n",
      " 33%|███▎      | 1/3 [00:00<00:00,  5.18it/s]"
     ]
    },
    {
     "name": "stdout",
     "output_type": "stream",
     "text": [
      "975 (733, 7)\n"
     ]
    },
    {
     "name": "stderr",
     "output_type": "stream",
     "text": [
      "100%|██████████| 3/3 [00:00<00:00,  5.34it/s]\n",
      "  0%|          | 0/9 [00:00<?, ?it/s]"
     ]
    },
    {
     "name": "stdout",
     "output_type": "stream",
     "text": [
      "No columns to parse from file\n",
      "977 (2053, 7)\n"
     ]
    },
    {
     "name": "stderr",
     "output_type": "stream",
     "text": [
      "100%|██████████| 9/9 [00:01<00:00,  5.56it/s]\n",
      "100%|██████████| 1/1 [00:00<00:00, 12.03it/s]\n",
      "100%|██████████| 1/1 [00:00<00:00, 46.44it/s]\n",
      "  0%|          | 0/1 [00:00<?, ?it/s]"
     ]
    },
    {
     "name": "stdout",
     "output_type": "stream",
     "text": [
      "No columns to parse from file\n",
      "979 (86, 7)\n",
      "980 (1, 7)\n",
      "981 (101, 7)\n"
     ]
    },
    {
     "name": "stderr",
     "output_type": "stream",
     "text": [
      "100%|██████████| 1/1 [00:00<00:00, 10.49it/s]\n",
      "  0%|          | 0/11 [00:00<?, ?it/s]"
     ]
    },
    {
     "name": "stdout",
     "output_type": "stream",
     "text": [
      "982 (2695, 7)\n"
     ]
    },
    {
     "name": "stderr",
     "output_type": "stream",
     "text": [
      "100%|██████████| 11/11 [00:02<00:00,  5.29it/s]\n",
      "100%|██████████| 1/1 [00:00<00:00, 24.76it/s]\n",
      "  0%|          | 0/11 [00:00<?, ?it/s]"
     ]
    },
    {
     "name": "stdout",
     "output_type": "stream",
     "text": [
      "983 (28, 7)\n",
      "984 (2616, 7)\n"
     ]
    },
    {
     "name": "stderr",
     "output_type": "stream",
     "text": [
      "100%|██████████| 11/11 [00:02<00:00,  5.49it/s]\n",
      "100%|██████████| 1/1 [00:00<00:00, 43.69it/s]\n",
      "  0%|          | 0/3 [00:00<?, ?it/s]"
     ]
    },
    {
     "name": "stdout",
     "output_type": "stream",
     "text": [
      "985 (3, 7)\n",
      "986 (569, 7)\n"
     ]
    },
    {
     "name": "stderr",
     "output_type": "stream",
     "text": [
      "100%|██████████| 3/3 [00:00<00:00,  6.52it/s]\n",
      "  0%|          | 0/8 [00:00<?, ?it/s]"
     ]
    },
    {
     "name": "stdout",
     "output_type": "stream",
     "text": [
      "987 (1897, 7)\n"
     ]
    },
    {
     "name": "stderr",
     "output_type": "stream",
     "text": [
      "100%|██████████| 8/8 [00:01<00:00,  5.42it/s]\n",
      " 33%|███▎      | 1/3 [00:00<00:00,  5.10it/s]"
     ]
    },
    {
     "name": "stdout",
     "output_type": "stream",
     "text": [
      "988 (643, 7)\n"
     ]
    },
    {
     "name": "stderr",
     "output_type": "stream",
     "text": [
      "100%|██████████| 3/3 [00:00<00:00,  5.88it/s]\n",
      "100%|██████████| 1/1 [00:00<00:00,  6.82it/s]\n",
      "100%|██████████| 1/1 [00:00<00:00, 26.17it/s]"
     ]
    },
    {
     "name": "stdout",
     "output_type": "stream",
     "text": [
      "989 (177, 7)\n",
      "990 (21, 7)\n"
     ]
    },
    {
     "name": "stderr",
     "output_type": "stream",
     "text": [
      "\n",
      "\r",
      "  0%|          | 0/10 [00:00<?, ?it/s]"
     ]
    },
    {
     "name": "stdout",
     "output_type": "stream",
     "text": [
      "991 (2518, 7)\n"
     ]
    },
    {
     "name": "stderr",
     "output_type": "stream",
     "text": [
      "100%|██████████| 10/10 [00:01<00:00,  5.12it/s]\n",
      "  0%|          | 0/7 [00:00<?, ?it/s]"
     ]
    },
    {
     "name": "stdout",
     "output_type": "stream",
     "text": [
      "992 (1737, 7)\n"
     ]
    },
    {
     "name": "stderr",
     "output_type": "stream",
     "text": [
      "100%|██████████| 7/7 [00:01<00:00,  5.19it/s]\n",
      " 12%|█▎        | 1/8 [00:00<00:01,  5.11it/s]"
     ]
    },
    {
     "name": "stdout",
     "output_type": "stream",
     "text": [
      "993 (1947, 7)\n"
     ]
    },
    {
     "name": "stderr",
     "output_type": "stream",
     "text": [
      "100%|██████████| 8/8 [00:01<00:00,  5.30it/s]\n",
      "100%|██████████| 1/1 [00:00<00:00, 38.60it/s]\n",
      "100%|██████████| 1/1 [00:00<00:00, 36.40it/s]\n",
      "  0%|          | 0/1 [00:00<?, ?it/s]"
     ]
    },
    {
     "name": "stdout",
     "output_type": "stream",
     "text": [
      "994 (8, 7)\n",
      "995 (9, 7)\n",
      "996 (192, 7)\n"
     ]
    },
    {
     "name": "stderr",
     "output_type": "stream",
     "text": [
      "100%|██████████| 1/1 [00:00<00:00,  6.43it/s]\n",
      "  0%|          | 0/21 [00:00<?, ?it/s]"
     ]
    },
    {
     "name": "stdout",
     "output_type": "stream",
     "text": [
      "997 (5253, 7)\n"
     ]
    },
    {
     "name": "stderr",
     "output_type": "stream",
     "text": [
      "100%|██████████| 21/21 [00:04<00:00,  5.21it/s]\n",
      "100%|██████████| 1/1 [00:00<00:00, 10.87it/s]\n",
      "100%|██████████| 1/1 [00:00<00:00, 13.26it/s]\n",
      "  0%|          | 0/1 [00:00<?, ?it/s]"
     ]
    },
    {
     "name": "stdout",
     "output_type": "stream",
     "text": [
      "998 (99, 7)\n",
      "999 (75, 7)\n",
      "1000 (5, 7)\n"
     ]
    },
    {
     "name": "stderr",
     "output_type": "stream",
     "text": [
      "100%|██████████| 1/1 [00:00<00:00, 39.00it/s]\n",
      "  0%|          | 0/3 [00:00<?, ?it/s]"
     ]
    },
    {
     "name": "stdout",
     "output_type": "stream",
     "text": [
      "1001 (701, 7)\n"
     ]
    },
    {
     "name": "stderr",
     "output_type": "stream",
     "text": [
      "100%|██████████| 3/3 [00:00<00:00,  5.47it/s]\n",
      "100%|██████████| 1/1 [00:00<00:00, 45.22it/s]\n",
      "100%|██████████| 1/1 [00:00<00:00, 36.91it/s]\n",
      "  0%|          | 0/3 [00:00<?, ?it/s]"
     ]
    },
    {
     "name": "stdout",
     "output_type": "stream",
     "text": [
      "1002 (2, 7)\n",
      "1003 (9, 7)\n",
      "1004 (621, 7)\n"
     ]
    },
    {
     "name": "stderr",
     "output_type": "stream",
     "text": [
      "100%|██████████| 3/3 [00:00<00:00,  5.99it/s]\n",
      " 50%|█████     | 1/2 [00:00<00:00,  5.17it/s]"
     ]
    },
    {
     "name": "stdout",
     "output_type": "stream",
     "text": [
      "1005 (419, 7)\n"
     ]
    },
    {
     "name": "stderr",
     "output_type": "stream",
     "text": [
      "100%|██████████| 2/2 [00:00<00:00,  6.04it/s]\n",
      " 33%|███▎      | 1/3 [00:00<00:00,  5.11it/s]"
     ]
    },
    {
     "name": "stdout",
     "output_type": "stream",
     "text": [
      "1006 (697, 7)\n"
     ]
    },
    {
     "name": "stderr",
     "output_type": "stream",
     "text": [
      "100%|██████████| 3/3 [00:00<00:00,  5.47it/s]\n",
      "100%|██████████| 1/1 [00:00<00:00, 44.97it/s]\n",
      "100%|██████████| 1/1 [00:00<00:00, 46.97it/s]\n",
      "100%|██████████| 1/1 [00:00<00:00, 52.27it/s]\n",
      "100%|██████████| 1/1 [00:00<00:00, 22.58it/s]\n",
      "  0%|          | 0/2 [00:00<?, ?it/s]"
     ]
    },
    {
     "name": "stdout",
     "output_type": "stream",
     "text": [
      "1007 (4, 7)\n",
      "1008 (2, 7)\n",
      "1009 (1, 7)\n",
      "1010 (31, 7)\n",
      "1011 (284, 7)\n"
     ]
    },
    {
     "name": "stderr",
     "output_type": "stream",
     "text": [
      "100%|██████████| 2/2 [00:00<00:00,  8.22it/s]\n",
      " 11%|█         | 1/9 [00:00<00:01,  5.11it/s]"
     ]
    },
    {
     "name": "stdout",
     "output_type": "stream",
     "text": [
      "1012 (2111, 7)\n"
     ]
    },
    {
     "name": "stderr",
     "output_type": "stream",
     "text": [
      "100%|██████████| 9/9 [00:01<00:00,  5.48it/s]\n",
      "100%|██████████| 1/1 [00:00<00:00, 19.62it/s]\n",
      "  0%|          | 0/11 [00:00<?, ?it/s]"
     ]
    },
    {
     "name": "stdout",
     "output_type": "stream",
     "text": [
      "1013 (42, 7)\n",
      "No columns to parse from file\n",
      "1015 (2780, 7)\n"
     ]
    },
    {
     "name": "stderr",
     "output_type": "stream",
     "text": [
      "100%|██████████| 11/11 [00:02<00:00,  5.16it/s]\n",
      "  0%|          | 0/6 [00:00<?, ?it/s]"
     ]
    },
    {
     "name": "stdout",
     "output_type": "stream",
     "text": [
      "No columns to parse from file\n",
      "1017 (1489, 7)\n"
     ]
    },
    {
     "name": "stderr",
     "output_type": "stream",
     "text": [
      "100%|██████████| 6/6 [00:01<00:00,  5.30it/s]\n",
      " 14%|█▍        | 1/7 [00:00<00:01,  5.19it/s]"
     ]
    },
    {
     "name": "stdout",
     "output_type": "stream",
     "text": [
      "1018 (1754, 7)\n"
     ]
    },
    {
     "name": "stderr",
     "output_type": "stream",
     "text": [
      "100%|██████████| 7/7 [00:01<00:00,  5.25it/s]\n",
      "100%|██████████| 1/1 [00:00<00:00, 48.74it/s]\n",
      "  0%|          | 0/6 [00:00<?, ?it/s]"
     ]
    },
    {
     "name": "stdout",
     "output_type": "stream",
     "text": [
      "No columns to parse from file\n",
      "1020 (3, 7)\n",
      "1021 (1329, 7)\n"
     ]
    },
    {
     "name": "stderr",
     "output_type": "stream",
     "text": [
      "100%|██████████| 6/6 [00:01<00:00,  5.85it/s]\n",
      " 25%|██▌       | 1/4 [00:00<00:00,  5.18it/s]"
     ]
    },
    {
     "name": "stdout",
     "output_type": "stream",
     "text": [
      "1022 (889, 7)\n"
     ]
    },
    {
     "name": "stderr",
     "output_type": "stream",
     "text": [
      "100%|██████████| 4/4 [00:00<00:00,  5.84it/s]\n",
      "100%|██████████| 1/1 [00:00<00:00,  7.64it/s]\n",
      "100%|██████████| 1/1 [00:00<00:00, 23.90it/s]"
     ]
    },
    {
     "name": "stdout",
     "output_type": "stream",
     "text": [
      "1023 (161, 7)\n",
      "No columns to parse from file\n",
      "1025 (30, 7)\n"
     ]
    },
    {
     "name": "stderr",
     "output_type": "stream",
     "text": [
      "\n",
      "  3%|▎         | 1/34 [00:00<00:06,  5.17it/s]"
     ]
    },
    {
     "name": "stdout",
     "output_type": "stream",
     "text": [
      "1026 (8508, 7)\n"
     ]
    },
    {
     "name": "stderr",
     "output_type": "stream",
     "text": [
      "100%|██████████| 34/34 [00:06<00:00,  5.25it/s]\n",
      " 17%|█▋        | 1/6 [00:00<00:00,  5.17it/s]"
     ]
    },
    {
     "name": "stdout",
     "output_type": "stream",
     "text": [
      "1027 (1494, 7)\n"
     ]
    },
    {
     "name": "stderr",
     "output_type": "stream",
     "text": [
      "100%|██████████| 6/6 [00:01<00:00,  5.25it/s]\n",
      "  0%|          | 0/7 [00:00<?, ?it/s]"
     ]
    },
    {
     "name": "stdout",
     "output_type": "stream",
     "text": [
      "1028 (1620, 7)\n"
     ]
    },
    {
     "name": "stderr",
     "output_type": "stream",
     "text": [
      "100%|██████████| 7/7 [00:01<00:00,  5.45it/s]\n",
      "100%|██████████| 1/1 [00:00<00:00, 32.85it/s]\n",
      "  0%|          | 0/3 [00:00<?, ?it/s]"
     ]
    },
    {
     "name": "stdout",
     "output_type": "stream",
     "text": [
      "1029 (11, 7)\n",
      "1030 (759, 7)\n"
     ]
    },
    {
     "name": "stderr",
     "output_type": "stream",
     "text": [
      "100%|██████████| 3/3 [00:00<00:00,  4.66it/s]\n",
      "100%|██████████| 1/1 [00:00<00:00, 11.92it/s]\n",
      "  0%|          | 0/17 [00:00<?, ?it/s]"
     ]
    },
    {
     "name": "stdout",
     "output_type": "stream",
     "text": [
      "1031 (84, 7)\n",
      "1032 (4159, 7)\n"
     ]
    },
    {
     "name": "stderr",
     "output_type": "stream",
     "text": [
      "100%|██████████| 17/17 [00:03<00:00,  5.25it/s]\n",
      "100%|██████████| 1/1 [00:00<00:00, 15.48it/s]\n",
      "100%|██████████| 1/1 [00:00<00:00, 37.63it/s]\n",
      "100%|██████████| 1/1 [00:00<00:00, 53.61it/s]\n",
      "100%|██████████| 1/1 [00:00<00:00, 20.66it/s]"
     ]
    },
    {
     "name": "stdout",
     "output_type": "stream",
     "text": [
      "1033 (63, 7)\n",
      "1034 (12, 7)\n",
      "1035 (1, 7)\n",
      "1036 (39, 7)\n",
      "1037 (43, 7)\n"
     ]
    },
    {
     "name": "stderr",
     "output_type": "stream",
     "text": [
      "\n",
      "100%|██████████| 1/1 [00:00<00:00, 19.28it/s]\n",
      " 14%|█▍        | 1/7 [00:00<00:01,  5.12it/s]"
     ]
    },
    {
     "name": "stdout",
     "output_type": "stream",
     "text": [
      "1038 (1619, 7)\n"
     ]
    },
    {
     "name": "stderr",
     "output_type": "stream",
     "text": [
      "100%|██████████| 7/7 [00:01<00:00,  5.55it/s]\n",
      "100%|██████████| 1/1 [00:00<00:00, 53.19it/s]\n",
      "100%|██████████| 1/1 [00:00<00:00, 42.97it/s]\n",
      "  0%|          | 0/3 [00:00<?, ?it/s]"
     ]
    },
    {
     "name": "stdout",
     "output_type": "stream",
     "text": [
      "No columns to parse from file\n",
      "1040 (1, 7)\n",
      "1041 (8, 7)\n",
      "1042 (640, 7)\n"
     ]
    },
    {
     "name": "stderr",
     "output_type": "stream",
     "text": [
      "100%|██████████| 3/3 [00:00<00:00,  6.02it/s]\n",
      "100%|██████████| 1/1 [00:00<00:00, 28.80it/s]\n",
      "  0%|          | 0/3 [00:00<?, ?it/s]"
     ]
    },
    {
     "name": "stdout",
     "output_type": "stream",
     "text": [
      "1043 (20, 7)\n",
      "1044 (764, 7)\n"
     ]
    },
    {
     "name": "stderr",
     "output_type": "stream",
     "text": [
      "100%|██████████| 3/3 [00:00<00:00,  5.26it/s]\n",
      "100%|██████████| 1/1 [00:00<00:00, 46.36it/s]\n",
      "  0%|          | 0/6 [00:00<?, ?it/s]"
     ]
    },
    {
     "name": "stdout",
     "output_type": "stream",
     "text": [
      "1045 (5, 7)\n",
      "1046 (1376, 7)\n"
     ]
    },
    {
     "name": "stderr",
     "output_type": "stream",
     "text": [
      "100%|██████████| 6/6 [00:01<00:00,  5.68it/s]\n",
      "100%|██████████| 1/1 [00:00<00:00, 43.98it/s]\n",
      "  0%|          | 0/10 [00:00<?, ?it/s]"
     ]
    },
    {
     "name": "stdout",
     "output_type": "stream",
     "text": [
      "1047 (7, 7)\n",
      "1048 (2339, 7)\n"
     ]
    },
    {
     "name": "stderr",
     "output_type": "stream",
     "text": [
      "100%|██████████| 10/10 [00:01<00:00,  5.61it/s]\n",
      "  0%|          | 0/50 [00:00<?, ?it/s]"
     ]
    },
    {
     "name": "stdout",
     "output_type": "stream",
     "text": [
      "1049 (12577, 7)\n"
     ]
    },
    {
     "name": "stderr",
     "output_type": "stream",
     "text": [
      "100%|██████████| 50/50 [00:09<00:00,  5.23it/s]\n",
      "  0%|          | 0/20 [00:00<?, ?it/s]"
     ]
    },
    {
     "name": "stdout",
     "output_type": "stream",
     "text": [
      "1050 (0, 1)\n",
      "5\n",
      "1051 (4965, 7)\n"
     ]
    },
    {
     "name": "stderr",
     "output_type": "stream",
     "text": [
      "100%|██████████| 20/20 [00:03<00:00,  5.35it/s]\n",
      "100%|██████████| 1/1 [00:00<00:00, 19.42it/s]\n",
      "100%|██████████| 1/1 [00:00<00:00, 19.46it/s]\n",
      "  0%|          | 0/1 [00:00<?, ?it/s]"
     ]
    },
    {
     "name": "stdout",
     "output_type": "stream",
     "text": [
      "1052 (44, 7)\n",
      "1053 (43, 7)\n",
      "1054 (137, 7)\n"
     ]
    },
    {
     "name": "stderr",
     "output_type": "stream",
     "text": [
      "100%|██████████| 1/1 [00:00<00:00,  8.57it/s]\n",
      "  0%|          | 0/9 [00:00<?, ?it/s]"
     ]
    },
    {
     "name": "stdout",
     "output_type": "stream",
     "text": [
      "No columns to parse from file\n",
      "1056 (2122, 7)\n"
     ]
    },
    {
     "name": "stderr",
     "output_type": "stream",
     "text": [
      "100%|██████████| 9/9 [00:01<00:00,  5.56it/s]\n",
      " 50%|█████     | 1/2 [00:00<00:00,  5.28it/s]"
     ]
    },
    {
     "name": "stdout",
     "output_type": "stream",
     "text": [
      "1057 (290, 7)\n"
     ]
    },
    {
     "name": "stderr",
     "output_type": "stream",
     "text": [
      "100%|██████████| 2/2 [00:00<00:00,  8.53it/s]\n",
      "100%|██████████| 1/1 [00:00<00:00, 38.22it/s]\n",
      "  0%|          | 0/30 [00:00<?, ?it/s]"
     ]
    },
    {
     "name": "stdout",
     "output_type": "stream",
     "text": [
      "1058 (12, 7)\n",
      "1059 (7548, 7)\n"
     ]
    },
    {
     "name": "stderr",
     "output_type": "stream",
     "text": [
      "100%|██████████| 30/30 [00:05<00:00,  5.28it/s]\n",
      "  0%|          | 0/4 [00:00<?, ?it/s]"
     ]
    },
    {
     "name": "stdout",
     "output_type": "stream",
     "text": [
      "No columns to parse from file\n",
      "1061 (921, 7)\n"
     ]
    },
    {
     "name": "stderr",
     "output_type": "stream",
     "text": [
      "100%|██████████| 4/4 [00:00<00:00,  5.71it/s]\n",
      "100%|██████████| 1/1 [00:00<00:00, 47.80it/s]\n",
      "100%|██████████| 1/1 [00:00<00:00, 20.61it/s]\n",
      "  0%|          | 0/4 [00:00<?, ?it/s]"
     ]
    },
    {
     "name": "stdout",
     "output_type": "stream",
     "text": [
      "1062 (3, 7)\n",
      "1063 (39, 7)\n",
      "1064 (860, 7)\n"
     ]
    },
    {
     "name": "stderr",
     "output_type": "stream",
     "text": [
      "100%|██████████| 4/4 [00:00<00:00,  5.91it/s]\n",
      "100%|██████████| 1/1 [00:00<00:00,  5.84it/s]\n",
      "  0%|          | 0/5 [00:00<?, ?it/s]"
     ]
    },
    {
     "name": "stdout",
     "output_type": "stream",
     "text": [
      "1065 (222, 7)\n",
      "1066 (1211, 7)\n"
     ]
    },
    {
     "name": "stderr",
     "output_type": "stream",
     "text": [
      "100%|██████████| 5/5 [00:00<00:00,  5.37it/s]\n",
      " 25%|██▌       | 1/4 [00:00<00:00,  5.26it/s]"
     ]
    },
    {
     "name": "stdout",
     "output_type": "stream",
     "text": [
      "1067 (925, 7)\n"
     ]
    },
    {
     "name": "stderr",
     "output_type": "stream",
     "text": [
      "100%|██████████| 4/4 [00:00<00:00,  5.72it/s]\n",
      "100%|██████████| 1/1 [00:00<00:00, 22.32it/s]\n",
      "  0%|          | 0/5 [00:00<?, ?it/s]"
     ]
    },
    {
     "name": "stdout",
     "output_type": "stream",
     "text": [
      "No columns to parse from file\n",
      "1069 (35, 7)\n",
      "1070 (1140, 7)\n"
     ]
    },
    {
     "name": "stderr",
     "output_type": "stream",
     "text": [
      "100%|██████████| 5/5 [00:00<00:00,  5.80it/s]\n",
      " 20%|██        | 1/5 [00:00<00:00,  5.25it/s]"
     ]
    },
    {
     "name": "stdout",
     "output_type": "stream",
     "text": [
      "1071 (1241, 7)\n"
     ]
    },
    {
     "name": "stderr",
     "output_type": "stream",
     "text": [
      "100%|██████████| 5/5 [00:00<00:00,  5.37it/s]\n",
      "100%|██████████| 1/1 [00:00<00:00, 40.40it/s]\n",
      "  0%|          | 0/5 [00:00<?, ?it/s]"
     ]
    },
    {
     "name": "stdout",
     "output_type": "stream",
     "text": [
      "No columns to parse from file\n",
      "1073 (9, 7)\n",
      "1074 (1188, 7)\n"
     ]
    },
    {
     "name": "stderr",
     "output_type": "stream",
     "text": [
      "100%|██████████| 5/5 [00:00<00:00,  5.58it/s]\n",
      " 11%|█         | 1/9 [00:00<00:01,  5.25it/s]"
     ]
    },
    {
     "name": "stdout",
     "output_type": "stream",
     "text": [
      "1075 (2190, 7)\n"
     ]
    },
    {
     "name": "stderr",
     "output_type": "stream",
     "text": [
      "100%|██████████| 9/9 [00:01<00:00,  5.42it/s]\n",
      "100%|██████████| 1/1 [00:00<00:00, 15.92it/s]\n",
      "  0%|          | 0/19 [00:00<?, ?it/s]"
     ]
    },
    {
     "name": "stdout",
     "output_type": "stream",
     "text": [
      "1076 (63, 7)\n",
      "1077 (4806, 7)\n"
     ]
    },
    {
     "name": "stderr",
     "output_type": "stream",
     "text": [
      "100%|██████████| 19/19 [00:03<00:00,  5.27it/s]\n",
      " 11%|█         | 1/9 [00:00<00:01,  5.27it/s]"
     ]
    },
    {
     "name": "stdout",
     "output_type": "stream",
     "text": [
      "1078 (2176, 7)\n"
     ]
    },
    {
     "name": "stderr",
     "output_type": "stream",
     "text": [
      "100%|██████████| 9/9 [00:01<00:00,  5.52it/s]\n",
      "100%|██████████| 1/1 [00:00<00:00, 22.54it/s]\n",
      "  0%|          | 0/3 [00:00<?, ?it/s]"
     ]
    },
    {
     "name": "stdout",
     "output_type": "stream",
     "text": [
      "1079 (34, 7)\n",
      "1080 (550, 7)\n"
     ]
    },
    {
     "name": "stderr",
     "output_type": "stream",
     "text": [
      "100%|██████████| 3/3 [00:00<00:00,  6.83it/s]\n",
      "100%|██████████| 1/1 [00:00<00:00, 23.20it/s]\n",
      "100%|██████████| 1/1 [00:00<00:00,  7.67it/s]\n"
     ]
    },
    {
     "name": "stdout",
     "output_type": "stream",
     "text": [
      "No columns to parse from file\n",
      "1082 (32, 7)\n",
      "1083 (159, 7)\n",
      "1084 (67, 7)\n"
     ]
    },
    {
     "name": "stderr",
     "output_type": "stream",
     "text": [
      "100%|██████████| 1/1 [00:00<00:00, 14.73it/s]\n",
      "100%|██████████| 1/1 [00:00<00:00, 23.31it/s]\n",
      "  0%|          | 0/19 [00:00<?, ?it/s]"
     ]
    },
    {
     "name": "stdout",
     "output_type": "stream",
     "text": [
      "1085 (32, 7)\n",
      "1086 (4856, 7)\n"
     ]
    },
    {
     "name": "stderr",
     "output_type": "stream",
     "text": [
      "100%|██████████| 19/19 [00:03<00:00,  5.18it/s]\n",
      "  8%|▊         | 1/13 [00:00<00:02,  5.26it/s]"
     ]
    },
    {
     "name": "stdout",
     "output_type": "stream",
     "text": [
      "1087 (3176, 7)\n"
     ]
    },
    {
     "name": "stderr",
     "output_type": "stream",
     "text": [
      "100%|██████████| 13/13 [00:02<00:00,  5.42it/s]\n",
      "  3%|▎         | 1/31 [00:00<00:05,  5.14it/s]"
     ]
    },
    {
     "name": "stdout",
     "output_type": "stream",
     "text": [
      "1088 (7705, 7)\n"
     ]
    },
    {
     "name": "stderr",
     "output_type": "stream",
     "text": [
      "100%|██████████| 31/31 [00:05<00:00,  5.35it/s]\n",
      "100%|██████████| 1/1 [00:00<00:00, 17.52it/s]\n",
      "100%|██████████| 1/1 [00:00<00:00,  8.93it/s]"
     ]
    },
    {
     "name": "stdout",
     "output_type": "stream",
     "text": [
      "1089 (51, 7)\n",
      "1090 (130, 7)\n",
      "1091 (6273, 7)\n"
     ]
    },
    {
     "name": "stderr",
     "output_type": "stream",
     "text": [
      "\n",
      "100%|██████████| 25/25 [00:04<00:00,  5.27it/s]\n",
      " 33%|███▎      | 1/3 [00:00<00:00,  5.25it/s]"
     ]
    },
    {
     "name": "stdout",
     "output_type": "stream",
     "text": [
      "1092 (647, 7)\n"
     ]
    },
    {
     "name": "stderr",
     "output_type": "stream",
     "text": [
      "100%|██████████| 3/3 [00:00<00:00,  6.07it/s]\n",
      "  0%|          | 0/21 [00:00<?, ?it/s]"
     ]
    },
    {
     "name": "stdout",
     "output_type": "stream",
     "text": [
      "1093 (5133, 7)\n"
     ]
    },
    {
     "name": "stderr",
     "output_type": "stream",
     "text": [
      "100%|██████████| 21/21 [00:03<00:00,  5.32it/s]\n",
      "100%|██████████| 1/1 [00:00<00:00,  9.45it/s]\n",
      "  0%|          | 0/5 [00:00<?, ?it/s]"
     ]
    },
    {
     "name": "stdout",
     "output_type": "stream",
     "text": [
      "1094 (123, 7)\n",
      "1095 (1045, 7)\n"
     ]
    },
    {
     "name": "stderr",
     "output_type": "stream",
     "text": [
      "100%|██████████| 5/5 [00:00<00:00,  6.02it/s]\n",
      "100%|██████████| 1/1 [00:00<00:00, 11.92it/s]\n",
      "  0%|          | 0/20 [00:00<?, ?it/s]"
     ]
    },
    {
     "name": "stdout",
     "output_type": "stream",
     "text": [
      "1096 (92, 7)\n",
      "1097 (5120, 7)\n"
     ]
    },
    {
     "name": "stderr",
     "output_type": "stream",
     "text": [
      "100%|██████████| 20/20 [00:03<00:00,  5.10it/s]\n",
      "  0%|          | 0/7 [00:00<?, ?it/s]"
     ]
    },
    {
     "name": "stdout",
     "output_type": "stream",
     "text": [
      "1098 (1605, 7)\n"
     ]
    },
    {
     "name": "stderr",
     "output_type": "stream",
     "text": [
      "100%|██████████| 7/7 [00:01<00:00,  5.61it/s]\n",
      "  0%|          | 0/23 [00:00<?, ?it/s]"
     ]
    },
    {
     "name": "stdout",
     "output_type": "stream",
     "text": [
      "1099 (5885, 7)\n"
     ]
    },
    {
     "name": "stderr",
     "output_type": "stream",
     "text": [
      "100%|██████████| 23/23 [00:04<00:00,  4.97it/s]\n",
      "  0%|          | 0/10 [00:00<?, ?it/s]"
     ]
    },
    {
     "name": "stdout",
     "output_type": "stream",
     "text": [
      "1100 (2531, 7)\n"
     ]
    },
    {
     "name": "stderr",
     "output_type": "stream",
     "text": [
      "100%|██████████| 10/10 [00:01<00:00,  5.06it/s]\n",
      " 50%|█████     | 1/2 [00:00<00:00,  5.04it/s]"
     ]
    },
    {
     "name": "stdout",
     "output_type": "stream",
     "text": [
      "1101 (360, 7)\n"
     ]
    },
    {
     "name": "stderr",
     "output_type": "stream",
     "text": [
      "100%|██████████| 2/2 [00:00<00:00,  6.78it/s]\n",
      "100%|██████████| 1/1 [00:00<00:00, 16.69it/s]\n",
      "  0%|          | 0/1 [00:00<?, ?it/s]"
     ]
    },
    {
     "name": "stdout",
     "output_type": "stream",
     "text": [
      "1102 (51, 7)\n",
      "1103 (207, 7)\n"
     ]
    },
    {
     "name": "stderr",
     "output_type": "stream",
     "text": [
      "100%|██████████| 1/1 [00:00<00:00,  5.94it/s]\n",
      "100%|██████████| 1/1 [00:00<00:00, 26.60it/s]\n",
      "  0%|          | 0/1 [00:00<?, ?it/s]"
     ]
    },
    {
     "name": "stdout",
     "output_type": "stream",
     "text": [
      "No columns to parse from file\n",
      "1105 (22, 7)\n",
      "1106 (176, 7)\n"
     ]
    },
    {
     "name": "stderr",
     "output_type": "stream",
     "text": [
      "100%|██████████| 1/1 [00:00<00:00,  6.79it/s]\n",
      "  0%|          | 0/30 [00:00<?, ?it/s]"
     ]
    },
    {
     "name": "stdout",
     "output_type": "stream",
     "text": [
      "1107 (7452, 7)\n"
     ]
    },
    {
     "name": "stderr",
     "output_type": "stream",
     "text": [
      "100%|██████████| 30/30 [00:05<00:00,  5.14it/s]\n",
      "100%|██████████| 1/1 [00:00<00:00, 52.68it/s]\n",
      "  0%|          | 0/5 [00:00<?, ?it/s]"
     ]
    },
    {
     "name": "stdout",
     "output_type": "stream",
     "text": [
      "1108 (1, 7)\n",
      "1109 (1132, 7)\n"
     ]
    },
    {
     "name": "stderr",
     "output_type": "stream",
     "text": [
      "100%|██████████| 5/5 [00:00<00:00,  5.59it/s]\n",
      "100%|██████████| 1/1 [00:00<00:00, 49.45it/s]\n",
      "  0%|          | 0/7 [00:00<?, ?it/s]"
     ]
    },
    {
     "name": "stdout",
     "output_type": "stream",
     "text": [
      "1110 (2, 7)\n",
      "1111 (1633, 7)\n"
     ]
    },
    {
     "name": "stderr",
     "output_type": "stream",
     "text": [
      "100%|██████████| 7/7 [00:01<00:00,  5.55it/s]\n",
      " 20%|██        | 1/5 [00:00<00:00,  5.11it/s]"
     ]
    },
    {
     "name": "stdout",
     "output_type": "stream",
     "text": [
      "1112 (1142, 7)\n"
     ]
    },
    {
     "name": "stderr",
     "output_type": "stream",
     "text": [
      "100%|██████████| 5/5 [00:00<00:00,  5.34it/s]\n",
      "  0%|          | 0/2 [00:00<?, ?it/s]"
     ]
    },
    {
     "name": "stdout",
     "output_type": "stream",
     "text": [
      "No columns to parse from file\n",
      "1114 (305, 7)\n"
     ]
    },
    {
     "name": "stderr",
     "output_type": "stream",
     "text": [
      "100%|██████████| 2/2 [00:00<00:00,  7.40it/s]\n",
      "100%|██████████| 1/1 [00:00<00:00, 50.98it/s]\n",
      "100%|██████████| 1/1 [00:00<00:00, 11.84it/s]\n",
      "  0%|          | 0/20 [00:00<?, ?it/s]"
     ]
    },
    {
     "name": "stdout",
     "output_type": "stream",
     "text": [
      "1115 (1, 7)\n",
      "1116 (86, 7)\n",
      "1117 (4998, 7)\n"
     ]
    },
    {
     "name": "stderr",
     "output_type": "stream",
     "text": [
      "100%|██████████| 20/20 [00:03<00:00,  5.12it/s]\n",
      "  8%|▊         | 1/13 [00:00<00:02,  5.14it/s]"
     ]
    },
    {
     "name": "stdout",
     "output_type": "stream",
     "text": [
      "1118 (3073, 7)\n"
     ]
    },
    {
     "name": "stderr",
     "output_type": "stream",
     "text": [
      "100%|██████████| 13/13 [00:02<00:00,  5.44it/s]\n",
      "100%|██████████| 1/1 [00:00<00:00, 49.59it/s]\n",
      "  0%|          | 0/3 [00:00<?, ?it/s]"
     ]
    },
    {
     "name": "stdout",
     "output_type": "stream",
     "text": [
      "1119 (2, 7)\n",
      "1120 (718, 7)\n"
     ]
    },
    {
     "name": "stderr",
     "output_type": "stream",
     "text": [
      "100%|██████████| 3/3 [00:00<00:00,  5.32it/s]\n",
      "100%|██████████| 1/1 [00:00<00:00,  9.49it/s]\n",
      "100%|██████████| 1/1 [00:00<00:00, 14.09it/s]\n",
      "  0%|          | 0/3 [00:00<?, ?it/s]"
     ]
    },
    {
     "name": "stdout",
     "output_type": "stream",
     "text": [
      "1121 (120, 7)\n",
      "1122 (70, 7)\n",
      "1123 (726, 7)\n"
     ]
    },
    {
     "name": "stderr",
     "output_type": "stream",
     "text": [
      "100%|██████████| 3/3 [00:00<00:00,  5.16it/s]\n",
      "100%|██████████| 1/1 [00:00<00:00, 18.18it/s]\n",
      "100%|██████████| 1/1 [00:00<00:00, 24.41it/s]\n",
      "100%|██████████| 1/1 [00:00<00:00, 28.03it/s]\n",
      "  0%|          | 0/7 [00:00<?, ?it/s]"
     ]
    },
    {
     "name": "stdout",
     "output_type": "stream",
     "text": [
      "1124 (45, 7)\n",
      "1125 (23, 7)\n",
      "1126 (17, 7)\n",
      "1127 (1635, 7)\n"
     ]
    },
    {
     "name": "stderr",
     "output_type": "stream",
     "text": [
      "100%|██████████| 7/7 [00:01<00:00,  5.48it/s]\n",
      " 50%|█████     | 1/2 [00:00<00:00,  5.14it/s]"
     ]
    },
    {
     "name": "stdout",
     "output_type": "stream",
     "text": [
      "1128 (466, 7)\n"
     ]
    },
    {
     "name": "stderr",
     "output_type": "stream",
     "text": [
      "100%|██████████| 2/2 [00:00<00:00,  5.54it/s]\n",
      "100%|██████████| 1/1 [00:00<00:00, 40.04it/s]\n",
      "  0%|          | 0/3 [00:00<?, ?it/s]"
     ]
    },
    {
     "name": "stdout",
     "output_type": "stream",
     "text": [
      "1129 (9, 7)\n",
      "1130 (517, 7)\n"
     ]
    },
    {
     "name": "stderr",
     "output_type": "stream",
     "text": [
      "100%|██████████| 3/3 [00:00<00:00,  7.26it/s]\n",
      " 50%|█████     | 1/2 [00:00<00:00,  5.13it/s]"
     ]
    },
    {
     "name": "stdout",
     "output_type": "stream",
     "text": [
      "1131 (330, 7)\n"
     ]
    },
    {
     "name": "stderr",
     "output_type": "stream",
     "text": [
      "100%|██████████| 2/2 [00:00<00:00,  7.44it/s]\n",
      " 33%|███▎      | 1/3 [00:00<00:00,  5.13it/s]"
     ]
    },
    {
     "name": "stdout",
     "output_type": "stream",
     "text": [
      "1132 (609, 7)\n"
     ]
    },
    {
     "name": "stderr",
     "output_type": "stream",
     "text": [
      "100%|██████████| 3/3 [00:00<00:00,  6.17it/s]\n",
      "  0%|          | 0/23 [00:00<?, ?it/s]"
     ]
    },
    {
     "name": "stdout",
     "output_type": "stream",
     "text": [
      "1133 (5692, 7)\n"
     ]
    },
    {
     "name": "stderr",
     "output_type": "stream",
     "text": [
      "100%|██████████| 23/23 [00:04<00:00,  5.24it/s]\n",
      "100%|██████████| 1/1 [00:00<00:00, 46.72it/s]\n",
      "100%|██████████| 1/1 [00:00<00:00, 38.56it/s]\n",
      "100%|██████████| 1/1 [00:00<00:00, 37.10it/s]\n",
      "  0%|          | 0/1 [00:00<?, ?it/s]"
     ]
    },
    {
     "name": "stdout",
     "output_type": "stream",
     "text": [
      "1134 (4, 7)\n",
      "1135 (10, 7)\n",
      "1136 (12, 7)\n",
      "1137 (110, 7)\n"
     ]
    },
    {
     "name": "stderr",
     "output_type": "stream",
     "text": [
      "100%|██████████| 1/1 [00:00<00:00, 10.30it/s]\n",
      "100%|██████████| 1/1 [00:00<00:00,  7.46it/s]\n",
      "  0%|          | 0/1 [00:00<?, ?it/s]"
     ]
    },
    {
     "name": "stdout",
     "output_type": "stream",
     "text": [
      "1138 (163, 7)\n",
      "1139 (192, 7)\n"
     ]
    },
    {
     "name": "stderr",
     "output_type": "stream",
     "text": [
      "100%|██████████| 1/1 [00:00<00:00,  6.55it/s]\n",
      "100%|██████████| 1/1 [00:00<00:00, 34.43it/s]\n",
      "100%|██████████| 1/1 [00:00<00:00, 34.38it/s]\n",
      "  0%|          | 0/5 [00:00<?, ?it/s]"
     ]
    },
    {
     "name": "stdout",
     "output_type": "stream",
     "text": [
      "1140 (15, 7)\n",
      "1141 (16, 7)\n",
      "1142 (1220, 7)\n"
     ]
    },
    {
     "name": "stderr",
     "output_type": "stream",
     "text": [
      "100%|██████████| 5/5 [00:00<00:00,  5.29it/s]\n",
      "100%|██████████| 1/1 [00:00<00:00, 47.70it/s]\n",
      "100%|██████████| 1/1 [00:00<00:00, 24.02it/s]\n",
      "  0%|          | 0/8 [00:00<?, ?it/s]"
     ]
    },
    {
     "name": "stdout",
     "output_type": "stream",
     "text": [
      "1143 (3, 7)\n",
      "1144 (29, 7)\n",
      "1145 (2035, 7)\n"
     ]
    },
    {
     "name": "stderr",
     "output_type": "stream",
     "text": [
      "100%|██████████| 8/8 [00:01<00:00,  4.95it/s]\n",
      "100%|██████████| 1/1 [00:00<00:00, 18.81it/s]\n",
      "  0%|          | 0/1 [00:00<?, ?it/s]"
     ]
    },
    {
     "name": "stdout",
     "output_type": "stream",
     "text": [
      "No columns to parse from file\n",
      "1147 (44, 7)\n",
      "1148 (235, 7)\n"
     ]
    },
    {
     "name": "stderr",
     "output_type": "stream",
     "text": [
      "100%|██████████| 1/1 [00:00<00:00,  5.31it/s]\n",
      " 50%|█████     | 1/2 [00:00<00:00,  5.02it/s]"
     ]
    },
    {
     "name": "stdout",
     "output_type": "stream",
     "text": [
      "1149 (288, 7)\n"
     ]
    },
    {
     "name": "stderr",
     "output_type": "stream",
     "text": [
      "100%|██████████| 2/2 [00:00<00:00,  8.24it/s]\n",
      " 14%|█▍        | 1/7 [00:00<00:01,  5.14it/s]"
     ]
    },
    {
     "name": "stdout",
     "output_type": "stream",
     "text": [
      "1150 (1668, 7)\n"
     ]
    },
    {
     "name": "stderr",
     "output_type": "stream",
     "text": [
      "100%|██████████| 7/7 [00:01<00:00,  5.43it/s]\n",
      "100%|██████████| 1/1 [00:00<00:00, 14.71it/s]\n",
      "100%|██████████| 1/1 [00:00<00:00, 12.88it/s]\n",
      "  0%|          | 0/2 [00:00<?, ?it/s]"
     ]
    },
    {
     "name": "stdout",
     "output_type": "stream",
     "text": [
      "1151 (68, 7)\n",
      "1152 (82, 7)\n",
      "1153 (403, 7)\n"
     ]
    },
    {
     "name": "stderr",
     "output_type": "stream",
     "text": [
      "100%|██████████| 2/2 [00:00<00:00,  6.26it/s]\n",
      "  0%|          | 0/49 [00:00<?, ?it/s]"
     ]
    },
    {
     "name": "stdout",
     "output_type": "stream",
     "text": [
      "1154 (12421, 7)\n"
     ]
    },
    {
     "name": "stderr",
     "output_type": "stream",
     "text": [
      "100%|██████████| 49/49 [00:09<00:00,  5.10it/s]\n",
      "  0%|          | 0/3 [00:00<?, ?it/s]"
     ]
    },
    {
     "name": "stdout",
     "output_type": "stream",
     "text": [
      "1155 (541, 7)\n"
     ]
    },
    {
     "name": "stderr",
     "output_type": "stream",
     "text": [
      "100%|██████████| 3/3 [00:00<00:00,  6.62it/s]\n",
      "100%|██████████| 1/1 [00:00<00:00, 22.14it/s]\n",
      "  0%|          | 0/6 [00:00<?, ?it/s]"
     ]
    },
    {
     "name": "stdout",
     "output_type": "stream",
     "text": [
      "1156 (33, 7)\n",
      "1157 (1450, 7)\n"
     ]
    },
    {
     "name": "stderr",
     "output_type": "stream",
     "text": [
      "100%|██████████| 6/6 [00:01<00:00,  5.20it/s]\n",
      "100%|██████████| 1/1 [00:00<00:00, 21.60it/s]\n",
      "100%|██████████| 1/1 [00:00<00:00, 52.81it/s]\n",
      "100%|██████████| 1/1 [00:00<00:00, 36.67it/s]\n",
      "  0%|          | 0/10 [00:00<?, ?it/s]"
     ]
    },
    {
     "name": "stdout",
     "output_type": "stream",
     "text": [
      "1158 (34, 7)\n",
      "1159 (0, 1)\n",
      "5\n",
      "1160 (1, 7)\n",
      "1161 (11, 7)\n",
      "1162 (2329, 7)\n"
     ]
    },
    {
     "name": "stderr",
     "output_type": "stream",
     "text": [
      "100%|██████████| 10/10 [00:01<00:00,  5.51it/s]\n",
      "100%|██████████| 1/1 [00:00<00:00, 44.68it/s]\n",
      "100%|██████████| 1/1 [00:00<00:00, 26.92it/s]\n",
      "  0%|          | 0/2 [00:00<?, ?it/s]"
     ]
    },
    {
     "name": "stdout",
     "output_type": "stream",
     "text": [
      "1163 (6, 7)\n",
      "No columns to parse from file\n",
      "1165 (23, 7)\n",
      "1166 (326, 7)\n"
     ]
    },
    {
     "name": "stderr",
     "output_type": "stream",
     "text": [
      "100%|██████████| 2/2 [00:00<00:00,  7.50it/s]\n",
      "100%|██████████| 1/1 [00:00<00:00,  8.18it/s]\n",
      "  0%|          | 0/2 [00:00<?, ?it/s]"
     ]
    },
    {
     "name": "stdout",
     "output_type": "stream",
     "text": [
      "1167 (0, 1)\n",
      "5\n",
      "1168 (0, 1)\n",
      "5\n",
      "No columns to parse from file\n",
      "1170 (143, 7)\n",
      "1171 (330, 7)\n"
     ]
    },
    {
     "name": "stderr",
     "output_type": "stream",
     "text": [
      "100%|██████████| 2/2 [00:00<00:00,  7.28it/s]\n",
      "  0%|          | 0/2 [00:00<?, ?it/s]"
     ]
    },
    {
     "name": "stdout",
     "output_type": "stream",
     "text": [
      "1172 (302, 7)\n"
     ]
    },
    {
     "name": "stderr",
     "output_type": "stream",
     "text": [
      "100%|██████████| 2/2 [00:00<00:00,  7.86it/s]\n",
      "100%|██████████| 1/1 [00:00<00:00, 39.49it/s]\n",
      "100%|██████████| 1/1 [00:00<00:00,  9.84it/s]\n",
      "  0%|          | 0/4 [00:00<?, ?it/s]"
     ]
    },
    {
     "name": "stdout",
     "output_type": "stream",
     "text": [
      "1173 (9, 7)\n",
      "1174 (112, 7)\n",
      "1175 (861, 7)\n"
     ]
    },
    {
     "name": "stderr",
     "output_type": "stream",
     "text": [
      "100%|██████████| 4/4 [00:00<00:00,  5.82it/s]\n",
      "100%|██████████| 1/1 [00:00<00:00, 39.29it/s]\n",
      "100%|██████████| 1/1 [00:00<00:00, 12.29it/s]\n",
      "100%|██████████| 1/1 [00:00<00:00, 45.02it/s]\n",
      "  0%|          | 0/5 [00:00<?, ?it/s]"
     ]
    },
    {
     "name": "stdout",
     "output_type": "stream",
     "text": [
      "1176 (9, 7)\n",
      "1177 (86, 7)\n",
      "1178 (5, 7)\n",
      "1179 (1251, 7)\n"
     ]
    },
    {
     "name": "stderr",
     "output_type": "stream",
     "text": [
      "100%|██████████| 5/5 [00:00<00:00,  5.12it/s]\n",
      "  0%|          | 0/5 [00:00<?, ?it/s]"
     ]
    },
    {
     "name": "stdout",
     "output_type": "stream",
     "text": [
      "1180 (1205, 7)\n"
     ]
    },
    {
     "name": "stderr",
     "output_type": "stream",
     "text": [
      "100%|██████████| 5/5 [00:00<00:00,  5.36it/s]\n",
      "100%|██████████| 1/1 [00:00<00:00, 12.05it/s]\n",
      "  0%|          | 0/9 [00:00<?, ?it/s]"
     ]
    },
    {
     "name": "stdout",
     "output_type": "stream",
     "text": [
      "1181 (91, 7)\n",
      "1182 (2265, 7)\n"
     ]
    },
    {
     "name": "stderr",
     "output_type": "stream",
     "text": [
      "100%|██████████| 9/9 [00:01<00:00,  5.12it/s]\n",
      "100%|██████████| 1/1 [00:00<00:00, 43.41it/s]\n",
      "100%|██████████| 1/1 [00:00<00:00,  6.31it/s]"
     ]
    },
    {
     "name": "stdout",
     "output_type": "stream",
     "text": [
      "1183 (6, 7)\n",
      "1184 (197, 7)\n",
      "1185 (278, 7)\n"
     ]
    },
    {
     "name": "stderr",
     "output_type": "stream",
     "text": [
      "\n",
      "100%|██████████| 2/2 [00:00<00:00,  8.35it/s]\n"
     ]
    }
   ],
   "source": [
    "genes = {a[2]: [] for a in annotation}\n",
    "for i,a in enumerate(data):\n",
    "    try:\n",
    "        current_df = pd.read_csv(op.join(GRNADIR, a), sep=\"\\t\", header=None).dropna()\n",
    "        current_df = current_df[current_df[5] > 0]\n",
    "        current_df = current_df[current_df[3].apply(lambda x: len(x) == 23 and \" \" not in x)]\n",
    "        current_df[6] = [a]*current_df.shape[0]\n",
    "        print(i, current_df.shape)\n",
    "    except Exception as e:\n",
    "        print(e)\n",
    "    else:\n",
    "        try:\n",
    "            tds = JostEtAlDataset(\n",
    "                current_df, np.arange(current_df.shape[0]), transformer,\n",
    "                genome_column=3, sgRNA_column=0,\n",
    "                label_column=5\n",
    "            )\n",
    "            tld = DataLoader(tds, shuffle=False, batch_size=256)\n",
    "            tb_w_oa = []\n",
    "            tb_w_va = []\n",
    "            tb_w_ra = []\n",
    "            for transformed_batch, _ in tqdm(tld):\n",
    "                tb_w_o = w_encoder(transformed_batch)[0].cpu().data.numpy()\n",
    "                tb_w_ra.extend(tb_w_o)\n",
    "                tb_w = w_model(transformed_batch)\n",
    "                tb_w_o = w_model.likelihood(\n",
    "                    tb_w[0]\n",
    "                ).mean.mean(0).cpu().data.numpy()\n",
    "                tb_w_v = w_model.likelihood(\n",
    "                    tb_w[0]\n",
    "                ).variance.mean(0).cpu().data.numpy()\n",
    "                tb_w_oa.extend(tb_w_o)\n",
    "                tb_w_va.extend(tb_w_v)\n",
    "            current_df[7] = tb_w_oa\n",
    "            current_df[8] = tb_w_va\n",
    "            current_df = current_df.sort_values(by=7, ascending=False)\n",
    "            current_df.to_csv(\n",
    "                op.join(\n",
    "                    op.join(ORDDIR, a)\n",
    "                ), sep=\"\\t\", header=None\n",
    "            )\n",
    "        except Exception as e:\n",
    "            print(e)"
   ]
  },
  {
   "cell_type": "code",
   "execution_count": 21,
   "id": "recreational-electric",
   "metadata": {},
   "outputs": [],
   "source": [
    "ordered_data = [a for a in os.walk(ORDDIR)][0][2]"
   ]
  },
  {
   "cell_type": "code",
   "execution_count": 22,
   "id": "scientific-weapon",
   "metadata": {},
   "outputs": [
    {
     "name": "stdout",
     "output_type": "stream",
     "text": [
      "0 ZNF73P.tsv\n",
      "1 ZDHHC8.tsv\n",
      "2 LOC107985570.tsv\n",
      "3 CPT1B.tsv\n",
      "4 IGLVV-66.tsv\n",
      "5 BMS1P20.tsv\n",
      "6 RIMBP3C.tsv\n",
      "7 HIC2.tsv\n",
      "8 IGLV3-21.tsv\n",
      "9 LOC284930.tsv\n",
      "10 RNU6-810P.tsv\n",
      "11 C22orf23.tsv\n",
      "12 RPL3.tsv\n",
      "13 NDUFA6-DT.tsv\n",
      "14 LINC01399.tsv\n",
      "15 LOC105373086.tsv\n",
      "16 HSCB.tsv\n",
      "17 RN7SL633P.tsv\n",
      "18 LOC284865.tsv\n",
      "19 LINC01521.tsv\n",
      "20 FAM230D.tsv\n",
      "21 BCRP5.tsv\n",
      "22 HIRA.tsv\n",
      "23 RN7SL268P.tsv\n",
      "24 MTFR2P2.tsv\n",
      "25 MLC1.tsv\n",
      "26 ACTR3BP6.tsv\n",
      "27 LOC105373014.tsv\n",
      "28 RRP7BP.tsv\n",
      "29 LOC105373032.tsv\n",
      "30 EWSR1.tsv\n",
      "31 LOC105372985.tsv\n",
      "32 ABCD1P4.tsv\n",
      "33 DUXAP8.tsv\n",
      "34 LOC112267890.tsv\n",
      "35 MIR378I.tsv\n",
      "36 RN7SKP252.tsv\n",
      "37 KCNMB3P1.tsv\n",
      "38 LOC107985584.tsv\n",
      "39 ARHGAP8.tsv\n",
      "40 SNORA92.tsv\n",
      "41 IGLVIV-65.tsv\n",
      "42 YWHAH.tsv\n",
      "43 TSSK1A.tsv\n",
      "44 LOC105373069.tsv\n",
      "45 TPTEP2.tsv\n",
      "46 ZNF402P.tsv\n",
      "47 FRG1GP.tsv\n",
      "48 APOBEC3C.tsv\n",
      "49 LINC00899.tsv\n",
      "50 MCHR1.tsv\n",
      "51 PI4KAP1.tsv\n",
      "52 NUP50.tsv\n",
      "53 LOC112268296.tsv\n",
      "54 LOC105369161.tsv\n",
      "55 RPEP4.tsv\n",
      "56 LOC107985534.tsv\n",
      "57 PEX26.tsv\n",
      "58 COX7BP1.tsv\n",
      "59 CLTCL1.tsv\n",
      "60 GSTT2.tsv\n",
      "61 LOC101060852.tsv\n",
      "62 LOC107985529.tsv\n",
      "63 LOC105372969.tsv\n",
      "64 RPS19BP1.tsv\n",
      "65 LOC105373016.tsv\n",
      "66 APOBEC3B-AS1.tsv\n",
      "67 LOC107984030.tsv\n",
      "68 LOC105379418.tsv\n",
      "69 LOC114841040.tsv\n",
      "70 LINC02556.tsv\n",
      "71 IGLCOR22-2.tsv\n",
      "72 LOC105373018.tsv\n",
      "73 IGLV5-52.tsv\n",
      "74 SYNGR1.tsv\n",
      "75 RIMBP3B.tsv\n",
      "76 PLXNB2.tsv\n",
      "77 LOC105373003.tsv\n",
      "78 LOC100422416.tsv\n",
      "79 SMPD4P1.tsv\n",
      "80 SELENOO.tsv\n",
      "81 MIR5739.tsv\n",
      "82 LOC107985566.tsv\n",
      "83 LOC107985581.tsv\n",
      "84 CRIP1P4.tsv\n",
      "85 IGLV3-13.tsv\n",
      "86 LOC107985545.tsv\n",
      "87 SSTR3.tsv\n",
      "88 LOC112268290.tsv\n",
      "89 RN7SL20P.tsv\n",
      "90 H1-0.tsv\n",
      "91 LOC101927393.tsv\n",
      "92 ADA2.tsv\n",
      "93 DUX4L44.tsv\n",
      "94 IGLC6.tsv\n",
      "95 SMTN.tsv\n",
      "96 LINC01422.tsv\n",
      "97 LINC01656.tsv\n",
      "98 LOC107985535.tsv\n",
      "99 POM121L11P.tsv\n",
      "100 NIPSNAP1.tsv\n",
      "101 LOC107985564.tsv\n",
      "102 LOC107985557.tsv\n",
      "103 MIR12114.tsv\n",
      "104 GGT5.tsv\n",
      "105 LOC105372959.tsv\n",
      "106 LOC105373085.tsv\n",
      "107 RN7SKP63.tsv\n",
      "108 LOC100129358.tsv\n",
      "109 MIR4534.tsv\n",
      "110 IGLVI-56.tsv\n",
      "111 LOC107985562.tsv\n",
      "112 HSFY1P1.tsv\n",
      "113 LOC105377203.tsv\n",
      "114 APOBEC3D.tsv\n",
      "115 SLC25A15P5.tsv\n",
      "116 TAFA5.tsv\n",
      "117 GGTLC3.tsv\n",
      "118 TMEM121B.tsv\n",
      "119 DGCR11.tsv\n",
      "120 MIR648.tsv\n",
      "121 IGLV2-33.tsv\n",
      "122 ASCC2.tsv\n",
      "123 CYP2D6.tsv\n",
      "124 APOBEC3F.tsv\n",
      "125 IGLV3-10.tsv\n",
      "126 HDHD5-AS1.tsv\n",
      "127 RPL7AP70.tsv\n",
      "128 SERHL.tsv\n",
      "129 LOC112268300.tsv\n",
      "130 LINC01644.tsv\n",
      "131 LL22NC03-13G6.2.tsv\n",
      "132 RNU6-476P.tsv\n",
      "133 DNAJB7.tsv\n",
      "134 CYP2D7.tsv\n",
      "135 BID.tsv\n",
      "136 MIR6820.tsv\n",
      "137 LIMK2.tsv\n",
      "138 NEK2P2.tsv\n",
      "139 IGLV4-60.tsv\n",
      "140 RASL10A.tsv\n",
      "141 HMGXB4.tsv\n",
      "142 ACR.tsv\n",
      "143 TPTEP1.tsv\n",
      "144 SLC25A17.tsv\n",
      "145 TST.tsv\n",
      "146 LL22NC03-63E9.3.tsv\n",
      "147 MTCO3P33.tsv\n",
      "148 ATP5MGL.tsv\n",
      "149 PRR34-AS1.tsv\n",
      "150 LOC107985542.tsv\n",
      "151 IGLV3-12.tsv\n",
      "152 PPP1R26P2.tsv\n",
      "153 LOC105372871.tsv\n",
      "154 LOC105372990.tsv\n",
      "155 LOC105372862.tsv\n",
      "156 PMM1.tsv\n",
      "157 LOC100113375.tsv\n",
      "158 THAP7-AS1.tsv\n",
      "159 LINC02559.tsv\n",
      "160 SOX10.tsv\n",
      "161 LOC112268293.tsv\n",
      "162 OR11H1.tsv\n",
      "163 LOC730668.tsv\n",
      "164 RN7SL757P.tsv\n",
      "165 LOC100131536.tsv\n",
      "166 MCM5.tsv\n",
      "167 LOC105373023.tsv\n",
      "168 LOC105373030.tsv\n",
      "169 IGLV1-47.tsv\n",
      "170 CES5AP1.tsv\n",
      "171 LOC100422375.tsv\n",
      "172 MIR3198-1.tsv\n",
      "173 IGLL3P.tsv\n",
      "174 TTC38.tsv\n",
      "175 LOC105372981.tsv\n",
      "176 IGLVVI-25-1.tsv\n",
      "177 TBC1D22A.tsv\n",
      "178 SUSD2P1.tsv\n",
      "179 ODF3B.tsv\n",
      "180 RANBP1.tsv\n",
      "181 DRICH1.tsv\n",
      "182 GGTLC2.tsv\n",
      "183 UQCRFS1P1.tsv\n",
      "184 CRKL.tsv\n",
      "185 BCRP1.tsv\n",
      "186 LOC105372995.tsv\n",
      "187 APOL5.tsv\n",
      "188 P2RX6P.tsv\n",
      "189 LOC105373031.tsv\n",
      "190 BRD1.tsv\n",
      "191 IGLV3-16.tsv\n",
      "192 GAPDHP37.tsv\n",
      "193 SEPT5-GP1BB.tsv\n",
      "194 MPST.tsv\n",
      "195 RTL6.tsv\n",
      "196 DUX4L42.tsv\n",
      "197 POM121L8P.tsv\n",
      "198 LOC100421614.tsv\n",
      "199 IGLV5-37.tsv\n",
      "200 EFCAB6.tsv\n",
      "201 LOC646216.tsv\n",
      "202 LOC107985544.tsv\n",
      "203 FRG1FP.tsv\n",
      "204 SNORD125.tsv\n",
      "205 RPL34P35.tsv\n",
      "206 LOC100420177.tsv\n",
      "207 CACNA1I.tsv\n",
      "208 LOC107987322.tsv\n",
      "209 LOC100129262.tsv\n",
      "210 SOCS2P2.tsv\n",
      "211 MEI1.tsv\n",
      "212 LOC105373067.tsv\n",
      "213 CHKB-DT.tsv\n",
      "214 CDC27P7.tsv\n",
      "215 IGLV7-35.tsv\n",
      "216 PI4KA.tsv\n",
      "217 SUSD2P2.tsv\n",
      "218 KLHDC7B-DT.tsv\n",
      "219 APOBEC3A.tsv\n",
      "220 LOC105377191.tsv\n",
      "221 IGLV2-14.tsv\n",
      "222 CPSF1P1.tsv\n",
      "223 LOC284912.tsv\n",
      "224 LOC112268288.tsv\n",
      "225 TUBA8.tsv\n",
      "226 IGKV1OR22-1.tsv\n",
      "227 AIFM3.tsv\n",
      "228 TTC28.tsv\n",
      "229 RPS3AP51.tsv\n",
      "230 PDXP.tsv\n",
      "231 PPM1F.tsv\n",
      "232 LOC107985563.tsv\n",
      "233 GRK3.tsv\n",
      "234 IGLV8-61.tsv\n",
      "235 PVALB.tsv\n",
      "236 EIF4ENIF1.tsv\n",
      "237 HDAC10.tsv\n",
      "238 RN7SL263P.tsv\n",
      "239 SLC25A1.tsv\n",
      "240 LOC102723769.tsv\n",
      "241 IGLV2-34.tsv\n",
      "242 IGLV3-17.tsv\n",
      "243 HMGN2P9.tsv\n",
      "244 TTLL1.tsv\n",
      "245 RPL13AP26.tsv\n",
      "246 LOC107985530.tsv\n",
      "247 IGLV2-8.tsv\n",
      "248 LOC105372942.tsv\n",
      "249 IGL.tsv\n",
      "250 FBXW4P1.tsv\n",
      "251 DERL3.tsv\n",
      "252 FAM230F.tsv\n",
      "253 IGLV3-6.tsv\n",
      "254 RN7SL843P.tsv\n",
      "255 LOC105373017.tsv\n",
      "256 ZNF280A.tsv\n",
      "257 TBC1D10A.tsv\n",
      "258 SULT4A1.tsv\n",
      "259 L3MBTL2-AS1.tsv\n",
      "260 CSF2RBP1.tsv\n",
      "261 IGLV9-49.tsv\n",
      "262 UQCR10.tsv\n",
      "263 LOC105379428.tsv\n",
      "264 RPL32P5.tsv\n",
      "265 GAS2L1.tsv\n",
      "266 NAGA.tsv\n",
      "267 LL22NC03-102D1.18.tsv\n",
      "268 YDJC.tsv\n",
      "269 PES1.tsv\n",
      "270 IGLVIV-64.tsv\n",
      "271 UBE2L3.tsv\n",
      "272 FAM118A.tsv\n",
      "273 LINC00898.tsv\n",
      "274 LOC107985551.tsv\n",
      "275 RIMBP3.tsv\n",
      "276 SERPIND1.tsv\n",
      "277 TOMM22.tsv\n",
      "278 KRT18P23.tsv\n",
      "279 RPL39P41.tsv\n",
      "280 FAM230J.tsv\n",
      "281 SLC16A8.tsv\n",
      "282 IGLV3-30.tsv\n",
      "283 LOC100129254.tsv\n",
      "284 LINC01315.tsv\n",
      "285 AP1B1P2.tsv\n",
      "286 GUCD1.tsv\n",
      "287 L3MBTL2.tsv\n",
      "288 SH3BP1.tsv\n",
      "289 LOC105373080.tsv\n",
      "290 POM121L4P.tsv\n",
      "291 LGALS2.tsv\n",
      "292 CBY1.tsv\n",
      "293 LOC112267891.tsv\n",
      "294 LOC105373021.tsv\n",
      "295 LOC107985532.tsv\n",
      "296 SNRPD3.tsv\n",
      "297 LOC105372861.tsv\n",
      "298 MIATNB.tsv\n",
      "299 BAIAP2L2.tsv\n",
      "300 IGLVI-68.tsv\n",
      "301 LOC105373038.tsv\n",
      "302 LINC00207.tsv\n",
      "303 GGTLC4P.tsv\n",
      "304 ISX.tsv\n",
      "305 SEPTIN5.tsv\n",
      "306 SERHL2.tsv\n",
      "307 IGLV3-26.tsv\n",
      "308 FAM227A.tsv\n",
      "309 ZNF74.tsv\n",
      "310 LZTR1.tsv\n",
      "311 YPEL1.tsv\n",
      "312 DNAL4.tsv\n",
      "313 BCRP3.tsv\n",
      "314 CCDC188.tsv\n",
      "315 LOC105372864.tsv\n",
      "316 RN7SL6P.tsv\n",
      "317 PLA2G6.tsv\n",
      "318 PIWIL3.tsv\n",
      "319 FOXRED2.tsv\n",
      "320 LOC105372964.tsv\n",
      "321 FAM230E.tsv\n",
      "322 FAM230A.tsv\n",
      "323 LOC105372853.tsv\n",
      "324 RTN4R.tsv\n",
      "325 RNU6-564P.tsv\n",
      "326 NF2.tsv\n",
      "327 CECR2.tsv\n",
      "328 CRYBB2.tsv\n",
      "329 RGL4.tsv\n",
      "330 C22orf34.tsv\n",
      "331 LINC00634.tsv\n",
      "332 SLC2A11.tsv\n",
      "333 SELENOM.tsv\n",
      "334 TNRC6B.tsv\n",
      "335 RTL10.tsv\n",
      "336 IGLV2-11.tsv\n",
      "337 PNPLA3.tsv\n",
      "338 LOC105372962.tsv\n",
      "339 LOC112268291.tsv\n",
      "340 LOC107985543.tsv\n",
      "341 LOC107985561.tsv\n",
      "342 ARHGAP42P3.tsv\n",
      "343 TRMU.tsv\n",
      "344 NDUFA9P1.tsv\n",
      "345 RNF185.tsv\n",
      "346 IGLV10-67.tsv\n",
      "347 IGLV7-46.tsv\n",
      "348 LOC105372957.tsv\n",
      "349 LOC105372960.tsv\n",
      "350 ASPHD2.tsv\n",
      "351 LOC105373007.tsv\n",
      "352 LARGE1.tsv\n",
      "353 LOC107985549.tsv\n",
      "354 MIR3619.tsv\n",
      "355 MRTFA.tsv\n",
      "356 IGLV1-62.tsv\n",
      "357 PLA2G3.tsv\n",
      "358 MYH9.tsv\n",
      "359 LOC112268299.tsv\n",
      "360 LOC100507599.tsv\n",
      "361 LOC107985579.tsv\n",
      "362 HORMAD2.tsv\n",
      "363 ATF4.tsv\n",
      "364 IGLC5.tsv\n",
      "365 CHKB.tsv\n",
      "366 ZDHHC8P1.tsv\n",
      "367 PISD.tsv\n",
      "368 CSF2RB.tsv\n",
      "369 RPL6P28.tsv\n",
      "370 COMT.tsv\n",
      "371 BMP6P1.tsv\n",
      "372 LOC100736412.tsv\n",
      "373 LOC100506271.tsv\n",
      "374 TUBA3FP.tsv\n",
      "375 LOC101927474.tsv\n",
      "376 DGCR6L.tsv\n",
      "377 LOC102723722.tsv\n",
      "378 GSTT4.tsv\n",
      "379 MTATP6P20.tsv\n",
      "380 RHEBP3.tsv\n",
      "381 PARP4P3.tsv\n",
      "382 KIAA1671-AS1.tsv\n",
      "383 KRT18P5.tsv\n",
      "384 BMS1P22.tsv\n",
      "385 MIF.tsv\n",
      "386 MAPK8IP2.tsv\n",
      "387 IGLC7.tsv\n",
      "388 ARFGAP3.tsv\n",
      "389 LOC110467534.tsv\n",
      "390 TSPO.tsv\n",
      "391 P2RX6.tsv\n",
      "392 IGLV3-22.tsv\n",
      "393 SLC35E4.tsv\n",
      "394 DGCR2.tsv\n",
      "395 SEC14L4.tsv\n",
      "396 SDF2L1.tsv\n",
      "397 IGLV7-43.tsv\n",
      "398 TMPRSS6.tsv\n",
      "399 POM121L10P.tsv\n",
      "400 GAL3ST1.tsv\n",
      "401 GSC2.tsv\n",
      "402 PHF21B.tsv\n",
      "403 ARSA.tsv\n",
      "404 C22orf31.tsv\n",
      "405 PABPC1P9.tsv\n",
      "406 HPS4.tsv\n",
      "407 LOC105373024.tsv\n",
      "408 TBX1.tsv\n",
      "409 LOC110467520.tsv\n",
      "410 DNM1P18.tsv\n",
      "411 CECR7.tsv\n",
      "412 PPP1R26P3.tsv\n",
      "413 UPB1.tsv\n",
      "414 LOC100289194.tsv\n",
      "415 GNB1L.tsv\n",
      "416 GTSE1.tsv\n",
      "417 RAC2.tsv\n",
      "418 SLC25A18.tsv\n",
      "419 DDX17.tsv\n",
      "420 LOC105373022.tsv\n",
      "421 LOC107985573.tsv\n",
      "422 E2F6P1.tsv\n",
      "423 LINC02557.tsv\n",
      "424 LOC112268289.tsv\n",
      "425 IGLV3-32.tsv\n",
      "426 RFPL1.tsv\n",
      "427 TOB2.tsv\n",
      "428 RNU6-495P.tsv\n",
      "429 SEZ6L.tsv\n",
      "430 CRELD2.tsv\n",
      "431 RPL36P17.tsv\n",
      "432 BCR.tsv\n",
      "433 FAM32BP.tsv\n",
      "434 IGLC3.tsv\n",
      "435 LIF.tsv\n",
      "436 CYTH4.tsv\n",
      "437 GGTLC5P.tsv\n",
      "438 LOC105372976.tsv\n",
      "439 LOC105373100.tsv\n",
      "440 RNU6-900P.tsv\n",
      "441 ADORA2A.tsv\n",
      "442 IGLV4-3.tsv\n",
      "443 LOC105377199.tsv\n",
      "444 SLC5A4-AS1.tsv\n",
      "445 DRG1.tsv\n",
      "446 MIF-AS1.tsv\n",
      "447 FUNDC2P4.tsv\n",
      "448 SLC25A5P1.tsv\n",
      "449 RNU6-1128P.tsv\n",
      "450 POM121L9P.tsv\n",
      "451 CNN2P1.tsv\n",
      "452 LOC107985590.tsv\n",
      "453 MORC2.tsv\n",
      "454 JOSD1.tsv\n",
      "455 IGLV11-55.tsv\n",
      "456 PPP1R26P5.tsv\n",
      "457 KLHL22.tsv\n",
      "458 RFPL2.tsv\n",
      "459 ASH2LP2.tsv\n",
      "460 SHANK3.tsv\n",
      "461 RN7SL812P.tsv\n",
      "462 SFI1.tsv\n",
      "463 LOC105372974.tsv\n",
      "464 ALG12.tsv\n",
      "465 SNAP29.tsv\n",
      "466 GGT1.tsv\n",
      "467 LOC105373020.tsv\n",
      "468 LOC100996404.tsv\n",
      "469 IGLV2-28.tsv\n",
      "470 IGLV1-41.tsv\n",
      "471 LOC101927551.tsv\n",
      "472 TUG1.tsv\n",
      "473 IGLV5-48.tsv\n",
      "474 TCN2.tsv\n",
      "475 LOC100421121.tsv\n",
      "476 EIF3L.tsv\n",
      "477 SPECC1L-ADORA2A.tsv\n",
      "478 IL17RA.tsv\n",
      "479 LOC112268297.tsv\n",
      "480 IGLV1-40.tsv\n",
      "481 DUX4L41.tsv\n",
      "482 TXNRD2.tsv\n",
      "483 LOC102724378.tsv\n",
      "484 RTCB.tsv\n",
      "485 IGLV3-25.tsv\n",
      "486 CHADL.tsv\n",
      "487 CBX7.tsv\n",
      "488 LL22NC01-81G9.3.tsv\n",
      "489 SREBF2-AS1.tsv\n",
      "490 ESS2.tsv\n"
     ]
    },
    {
     "name": "stdout",
     "output_type": "stream",
     "text": [
      "491 ZNRF3.tsv\n",
      "492 GSTT2B.tsv\n",
      "493 LOC105372971.tsv\n",
      "494 CDC42EP1.tsv\n",
      "495 MIOX.tsv\n",
      "496 GP1BB.tsv\n",
      "497 TNFRSF13C.tsv\n",
      "498 AP1B1.tsv\n",
      "499 LOC105373096.tsv\n",
      "500 ISCA2P1.tsv\n",
      "501 EFCAB6-AS1.tsv\n",
      "502 VWFP1.tsv\n",
      "503 CRYBB2P1.tsv\n",
      "504 SCO2.tsv\n",
      "505 NF1P6.tsv\n",
      "506 SUN2.tsv\n",
      "507 MIR185.tsv\n",
      "508 IGLV3-29.tsv\n",
      "509 PRDX3P1.tsv\n",
      "510 LOC780780.tsv\n",
      "511 OSBP2.tsv\n",
      "512 MTCO1P34.tsv\n",
      "513 SGSM1.tsv\n",
      "514 VPREB1.tsv\n",
      "515 PRODH.tsv\n",
      "516 XRCC6.tsv\n",
      "517 E2F6P2.tsv\n",
      "518 POLDIP3.tsv\n",
      "519 IGLL4P.tsv\n",
      "520 PIK3IP1.tsv\n",
      "521 HMGB1P10.tsv\n",
      "522 PPP1R14BP1.tsv\n",
      "523 MRTFA-AS1.tsv\n",
      "524 CECR3.tsv\n",
      "525 BCRP6.tsv\n",
      "526 LL22NC03-104C7.1.tsv\n",
      "527 IL17REL.tsv\n",
      "528 LINC00896.tsv\n",
      "529 ABHD17AP5.tsv\n",
      "530 LOC105373074.tsv\n",
      "531 IGLL1.tsv\n",
      "532 EP300.tsv\n",
      "533 RPS18P14.tsv\n",
      "534 NEFH.tsv\n",
      "535 PPARA.tsv\n",
      "536 LOC102723305.tsv\n",
      "537 CHCHD10.tsv\n",
      "538 MTCO3P20.tsv\n",
      "539 GNAZ.tsv\n",
      "540 LOC105373029.tsv\n",
      "541 RN7SL162P.tsv\n",
      "542 DEPDC5.tsv\n",
      "543 MTFP1.tsv\n",
      "544 TUBGCP6.tsv\n",
      "545 YES1P1.tsv\n",
      "546 OSM.tsv\n",
      "547 LOC107985577.tsv\n",
      "548 LOC105373043.tsv\n",
      "549 LOC107985558.tsv\n",
      "550 LOC110091768.tsv\n",
      "551 SBF1.tsv\n",
      "552 SPECC1L.tsv\n",
      "553 RFPL4AP6.tsv\n",
      "554 CHKB-CPT1B.tsv\n",
      "555 IGLVIV-59.tsv\n",
      "556 LOC105372860.tsv\n",
      "557 TOP1P2.tsv\n",
      "558 MTCYBP34.tsv\n",
      "559 CHEK2P4.tsv\n",
      "560 RN7SKP80.tsv\n",
      "561 RNF215.tsv\n",
      "562 NPTXR.tsv\n",
      "563 IGKV2OR22-4.tsv\n",
      "564 LOC105372863.tsv\n",
      "565 LOC105373012.tsv\n",
      "566 LOC642648.tsv\n",
      "567 SCARF2.tsv\n",
      "568 TMEM184B.tsv\n",
      "569 CENPM.tsv\n",
      "570 APOL2.tsv\n",
      "571 LOC107985554.tsv\n",
      "572 LOC107985541.tsv\n",
      "573 FAM230H.tsv\n",
      "574 CYB5R3.tsv\n",
      "575 LOC105373081.tsv\n",
      "576 LOC105373091.tsv\n",
      "577 PI4KAP2.tsv\n",
      "578 PPP6R2.tsv\n",
      "579 LINC01638.tsv\n",
      "580 LOC107985576.tsv\n",
      "581 RABL2B.tsv\n",
      "582 CERK.tsv\n",
      "583 IGLVVI-22-1.tsv\n",
      "584 MIR3909.tsv\n",
      "585 RFPL3S.tsv\n",
      "586 APOL3.tsv\n",
      "587 MAPK12.tsv\n",
      "588 TMEM191B.tsv\n",
      "589 RN7SKP221.tsv\n",
      "590 LOC100420175.tsv\n",
      "591 RANGAP1.tsv\n",
      "592 LOC101927499.tsv\n",
      "593 CA15P3.tsv\n",
      "594 LOC107985538.tsv\n",
      "595 CCDC117.tsv\n",
      "596 OLA1P1.tsv\n",
      "597 ASH2LP1.tsv\n",
      "598 SLC5A4.tsv\n",
      "599 LOC105372977.tsv\n",
      "600 LOC105372859.tsv\n",
      "601 TEX33.tsv\n",
      "602 PRAMENP.tsv\n",
      "603 TYMP.tsv\n",
      "604 BIK.tsv\n",
      "605 LOC101928824.tsv\n",
      "606 KRT18P62.tsv\n",
      "607 LOC105373060.tsv\n",
      "608 POLR2F.tsv\n",
      "609 MYO18B.tsv\n",
      "610 MTCO3P34.tsv\n",
      "611 LOC105373042.tsv\n",
      "612 LPEQ6126.tsv\n",
      "613 ZNF280B.tsv\n",
      "614 SCUBE1.tsv\n",
      "615 RNU6-331P.tsv\n",
      "616 LINC01640.tsv\n",
      "617 MB.tsv\n",
      "618 EIF4HP2.tsv\n",
      "619 HORMAD2-AS1.tsv\n",
      "620 IGLV3-4.tsv\n",
      "621 LOC101927447.tsv\n",
      "622 MICALL1.tsv\n",
      "623 LOC105373051.tsv\n",
      "624 RAB36.tsv\n",
      "625 LOC100420967.tsv\n",
      "626 CCDC116.tsv\n",
      "627 MIR6069.tsv\n",
      "628 POLR3H.tsv\n",
      "629 KREMEN1.tsv\n",
      "630 LOC107987323.tsv\n",
      "631 MIR1286.tsv\n",
      "632 LOC105373075.tsv\n",
      "633 PHETA2.tsv\n",
      "634 GRAMD4P2.tsv\n",
      "635 LOC105373013.tsv\n",
      "636 LOC102724900.tsv\n",
      "637 LOC105373089.tsv\n",
      "638 NCF4-AS1.tsv\n",
      "639 PRAME.tsv\n",
      "640 OGFRP1.tsv\n",
      "641 TTLL12.tsv\n",
      "642 LOC100506472.tsv\n",
      "643 SGSM3.tsv\n",
      "644 LOC105373066.tsv\n",
      "645 PIK3IP1-DT.tsv\n",
      "646 LOC105373000.tsv\n",
      "647 MIRLET7BHG.tsv\n",
      "648 LOC102725072.tsv\n",
      "649 LOC107985536.tsv\n",
      "650 EIF3D.tsv\n",
      "651 LOC105373044.tsv\n",
      "652 RN7SKP214.tsv\n",
      "653 POM121L7P.tsv\n",
      "654 LOC101929638.tsv\n",
      "655 MTCO2P20.tsv\n",
      "656 LOC284898.tsv\n",
      "657 LOC107987326.tsv\n",
      "658 TTLL8.tsv\n",
      "659 HDHD5.tsv\n",
      "660 IGLVVII-41-1.tsv\n",
      "661 ELFN2.tsv\n",
      "662 MAPK11.tsv\n",
      "663 DNAJA1P6.tsv\n",
      "664 ZNF72P.tsv\n",
      "665 RN7SKP131.tsv\n",
      "666 CARD10.tsv\n",
      "667 LOC105373019.tsv\n",
      "668 LOC692246.tsv\n",
      "669 SREBF2.tsv\n",
      "670 APOL1.tsv\n",
      "671 LOC105373037.tsv\n",
      "672 LOC107985588.tsv\n",
      "673 SHISAL1.tsv\n",
      "674 RNU6-28P.tsv\n",
      "675 MAFF.tsv\n",
      "676 TCF20.tsv\n",
      "677 LINC01311.tsv\n",
      "678 LOC107985537.tsv\n",
      "679 LOC100419811.tsv\n",
      "680 CBX6.tsv\n",
      "681 IGLV2-23.tsv\n",
      "682 LRRC74B.tsv\n",
      "683 LOC105373053.tsv\n",
      "684 TXN2.tsv\n",
      "685 LOC107985580.tsv\n",
      "686 LOC100132723.tsv\n",
      "687 CABP7.tsv\n",
      "688 LOC100652871.tsv\n",
      "689 MRPL40.tsv\n",
      "690 LOC107984037.tsv\n",
      "691 SNU13.tsv\n",
      "692 RPS10P30.tsv\n",
      "693 LOC107985568.tsv\n",
      "694 LOC284933.tsv\n",
      "695 LOC102724638.tsv\n",
      "696 RPL8P5.tsv\n",
      "697 IGLV3-15.tsv\n",
      "698 MED15.tsv\n",
      "699 TRMT2A.tsv\n",
      "700 PARVB.tsv\n",
      "701 LOC112268295.tsv\n",
      "702 TOP3B.tsv\n",
      "703 MGAT3-AS1.tsv\n",
      "704 PARVG.tsv\n",
      "705 LOC107985533.tsv\n",
      "706 IGLV3-7.tsv\n",
      "707 IGLVIV-66-1.tsv\n",
      "708 LOC105372994.tsv\n",
      "709 KIAA1671.tsv\n",
      "710 GCAT.tsv\n",
      "711 SYN3.tsv\n",
      "712 IFT27.tsv\n",
      "713 MYO18B-AS1.tsv\n",
      "714 MN1.tsv\n",
      "715 SMC1B.tsv\n",
      "716 LOC100533679.tsv\n",
      "717 RIBC2.tsv\n",
      "718 MGAT3.tsv\n",
      "719 NFAM1.tsv\n",
      "720 LRP5L.tsv\n",
      "721 ASLP1.tsv\n",
      "722 MOV10L1.tsv\n",
      "723 RHBDD3.tsv\n",
      "724 LINC01643.tsv\n",
      "725 LOC101927051.tsv\n",
      "726 LOC102723507.tsv\n",
      "727 PSLNR.tsv\n",
      "728 LOC105372998.tsv\n",
      "729 IGKV3OR22-2.tsv\n",
      "730 CDPF1.tsv\n",
      "731 LINC01637.tsv\n",
      "732 LOC105373083.tsv\n",
      "733 KIAA1656.tsv\n",
      "734 NUP50-DT.tsv\n",
      "735 LOC101927183.tsv\n",
      "736 BCRP2.tsv\n",
      "737 CACNG2.tsv\n",
      "738 RNU6-338P.tsv\n",
      "739 LOC101060052.tsv\n",
      "740 CDC27P8.tsv\n",
      "741 INPP5J.tsv\n",
      "742 CRYBB1.tsv\n",
      "743 LOC101927202.tsv\n",
      "744 WNT7B.tsv\n",
      "745 LGALS1.tsv\n",
      "746 TUBA3GP.tsv\n",
      "747 ZMAT5.tsv\n",
      "748 PPIL2.tsv\n",
      "749 PKDREJ.tsv\n",
      "750 CLDN5.tsv\n",
      "751 PNPLA5.tsv\n",
      "752 MIR6819.tsv\n",
      "753 RNU6-513P.tsv\n",
      "754 UPK3A.tsv\n",
      "755 MIR4763.tsv\n",
      "756 BCL2L13.tsv\n",
      "757 PATZ1.tsv\n",
      "758 MAPK1.tsv\n",
      "759 GUSBP11.tsv\n",
      "760 SF3A1.tsv\n",
      "761 ARL2BPP10.tsv\n",
      "762 LOC644525.tsv\n",
      "763 PANX2.tsv\n",
      "764 PRR34.tsv\n",
      "765 SHISA8.tsv\n",
      "766 RPL5P34.tsv\n",
      "767 SYCE3.tsv\n",
      "768 RBFOX2.tsv\n",
      "769 LINC01659.tsv\n",
      "770 CSDC2.tsv\n",
      "771 LOC105373068.tsv\n",
      "772 ADSL.tsv\n",
      "773 MIEF1.tsv\n",
      "774 LOC101929594.tsv\n",
      "775 LOC105373087.tsv\n",
      "776 ARL5AP4.tsv\n",
      "777 RN7SL280P.tsv\n",
      "778 LINC00229.tsv\n",
      "779 RBX1.tsv\n",
      "780 RN7SL168P.tsv\n",
      "781 LOC105373077.tsv\n",
      "782 LOC107985565.tsv\n",
      "783 CCDC134.tsv\n",
      "784 LOC100996699.tsv\n",
      "785 RRP7A.tsv\n",
      "786 BPIFC.tsv\n",
      "787 LOC91370.tsv\n",
      "788 C1QTNF6.tsv\n",
      "789 CCT8L2.tsv\n",
      "790 NOL12.tsv\n",
      "791 KIAA0930.tsv\n",
      "792 LOC101232810.tsv\n",
      "793 LOC100419673.tsv\n",
      "794 ANP32BP2.tsv\n",
      "795 RPL35AP36.tsv\n",
      "796 GAB4.tsv\n",
      "797 RNU6-379P.tsv\n",
      "798 RASD2.tsv\n",
      "799 CA15P2.tsv\n",
      "800 C22orf15.tsv\n",
      "801 LOC107985556.tsv\n",
      "802 LOC101929255.tsv\n",
      "803 LOC646408.tsv\n",
      "804 LINC01310.tsv\n",
      "805 LOC100422292.tsv\n",
      "806 GGT2.tsv\n",
      "807 SEC14L3.tsv\n",
      "808 TBC1D22A-AS1.tsv\n",
      "809 GALR3.tsv\n",
      "810 E2F6P3.tsv\n",
      "811 LOC107987325.tsv\n",
      "812 MTCO1P20.tsv\n",
      "813 FAM230G.tsv\n",
      "814 RFPL1S.tsv\n",
      "815 LOC105377205.tsv\n",
      "816 C22orf39.tsv\n",
      "817 DGCR8.tsv\n",
      "818 COX6B1P3.tsv\n",
      "819 LOC100500719.tsv\n",
      "820 LOC105373058.tsv\n",
      "821 KCTD17.tsv\n",
      "822 IGLVV-58.tsv\n",
      "823 RPS15AP38.tsv\n",
      "824 LOC105373059.tsv\n",
      "825 LOC100313968.tsv\n",
      "826 LOC100289004.tsv\n",
      "827 IGLV1-51.tsv\n",
      "828 C22orf42.tsv\n",
      "829 SIRPAP1.tsv\n",
      "830 IGLV10-54.tsv\n",
      "831 MPPED1.tsv\n",
      "832 MTMR3.tsv\n",
      "833 LOC102724801.tsv\n",
      "834 SNORA50B.tsv\n",
      "835 LOC105372991.tsv\n",
      "836 LOC105379518.tsv\n",
      "837 LOC105372979.tsv\n",
      "838 IGLV2-5.tsv\n",
      "839 DVL1P1.tsv\n",
      "840 LOC100420885.tsv\n",
      "841 SEC14L2.tsv\n",
      "842 IGLV3-19.tsv\n",
      "843 FAM230I.tsv\n",
      "844 LOC107985550.tsv\n",
      "845 LOC105373047.tsv\n",
      "846 THOC5.tsv\n",
      "847 FAM230B.tsv\n",
      "848 SAMM50.tsv\n",
      "849 LOC112268292.tsv\n",
      "850 LOC105377182.tsv\n",
      "851 IGLV3-24.tsv\n",
      "852 BNIP3P2.tsv\n",
      "853 LOC100292922.tsv\n",
      "854 LOC107987320.tsv\n",
      "855 RSPH14.tsv\n",
      "856 LRRC75B.tsv\n",
      "857 XPNPEP3.tsv\n",
      "858 TMEM191A.tsv\n",
      "859 XKR3.tsv\n",
      "860 RPS17P16.tsv\n",
      "861 TTC28-AS1.tsv\n",
      "862 LOC339666.tsv\n",
      "863 RPL4P6.tsv\n",
      "864 RPL23AP82.tsv\n",
      "865 TOP3BP1.tsv\n",
      "866 CABIN1.tsv\n",
      "867 TANGO2.tsv\n",
      "868 YME1L1P1.tsv\n",
      "869 PPP1R26P4.tsv\n",
      "870 RPL5P35.tsv\n",
      "871 LOC105373063.tsv\n",
      "872 LOC105372988.tsv\n",
      "873 DUX4L43.tsv\n",
      "874 SUSD2.tsv\n",
      "875 VPREB3.tsv\n",
      "876 GRAMD4.tsv\n",
      "877 LOC105372989.tsv\n",
      "878 LOC105373062.tsv\n",
      "879 APOBEC3H.tsv\n",
      "880 MIR650.tsv\n",
      "881 ABHD17AP4.tsv\n",
      "882 PPM1F-AS1.tsv\n",
      "883 SLC5A1.tsv\n",
      "884 APOBEC3B.tsv\n",
      "885 TRABD.tsv\n",
      "886 LINC01589.tsv\n",
      "887 LOC105373095.tsv\n",
      "888 LOC105372850.tsv\n",
      "889 PICK1.tsv\n",
      "890 DENND6B.tsv\n",
      "891 RNA18SP.tsv\n",
      "892 LINC01634.tsv\n",
      "893 LOC102724608.tsv\n",
      "894 ATP6V1E1.tsv\n",
      "895 TPST2.tsv\n",
      "896 TRIOBP.tsv\n",
      "897 EMID1.tsv\n",
      "898 IGLC2.tsv\n",
      "899 KCNJ4.tsv\n",
      "900 IGLV3-1.tsv\n",
      "901 CELSR1.tsv\n",
      "902 MORC2-AS1.tsv\n",
      "903 LOC107985567.tsv\n",
      "904 LOC101929372.tsv\n",
      "905 LINC00895.tsv\n",
      "906 IGLVI-42.tsv\n",
      "907 GGA1.tsv\n",
      "908 ADORA2A-AS1.tsv\n",
      "909 TMEM191C.tsv\n",
      "910 RN7SL704P.tsv\n",
      "911 LOC105373002.tsv\n",
      "912 UFD1.tsv\n",
      "913 LOC100996598.tsv\n",
      "914 LOC105373027.tsv\n",
      "915 CYP2D8P.tsv\n",
      "916 CHEK2.tsv\n",
      "917 AP1B1P1.tsv\n",
      "918 SEPTIN3.tsv\n",
      "919 LOC129026.tsv\n",
      "920 MIR7109.tsv\n",
      "921 LOC105372947.tsv\n",
      "922 A4GALT.tsv\n",
      "923 LOC441996.tsv\n",
      "924 FAM83F.tsv\n",
      "925 BCRP8.tsv\n",
      "926 NDUFA6.tsv\n",
      "927 PITPNB.tsv\n",
      "928 LOC101928041.tsv\n",
      "929 BCRP7.tsv\n",
      "930 LOC105373057.tsv\n",
      "931 ANKRD54.tsv\n",
      "932 SLC9B1P4.tsv\n",
      "933 KDELR3.tsv\n",
      "934 LOC105377190.tsv\n",
      "935 IGLVI-20.tsv\n",
      "936 LOC107987324.tsv\n",
      "937 LINC02885.tsv\n",
      "938 LOC100736408.tsv\n",
      "939 LOC101929738.tsv\n",
      "940 RPL35P8.tsv\n",
      "941 LOC105372997.tsv\n",
      "942 SDC4P.tsv\n",
      "943 LOC100422530.tsv\n",
      "944 MIAT.tsv\n",
      "945 ANKRD62P1.tsv\n",
      "946 POTEH.tsv\n",
      "947 FABP5P11.tsv\n",
      "948 LOC150417.tsv\n",
      "949 LOC100419506.tsv\n",
      "950 IGLV3-2.tsv\n",
      "951 SRRD.tsv\n",
      "952 ST13.tsv\n",
      "953 LOC105373071.tsv\n",
      "954 TOM1.tsv\n",
      "955 CCDC74BP1.tsv\n",
      "956 EP300-AS1.tsv\n",
      "957 RPS15AP37.tsv\n",
      "958 CSNK1E.tsv\n",
      "959 LARGE-AS1.tsv\n",
      "960 LOC102724653.tsv\n",
      "961 RN7SL305P.tsv\n",
      "962 PRR14L.tsv\n",
      "963 LOC101927344.tsv\n",
      "964 HMOX1.tsv\n",
      "965 IGLVI-38.tsv\n",
      "966 PDGFB.tsv\n",
      "967 LOC105373033.tsv\n",
      "968 DGCR5.tsv\n",
      "969 LIF-AS1.tsv\n",
      "970 PCMTD1P5.tsv\n",
      "971 RNA5SP493.tsv\n"
     ]
    },
    {
     "name": "stdout",
     "output_type": "stream",
     "text": [
      "972 IGLV1-50.tsv\n",
      "973 DGCR6.tsv\n",
      "974 IL2RB.tsv\n",
      "975 RN7SKP169.tsv\n",
      "976 LOC100996364.tsv\n",
      "977 LOC440792.tsv\n",
      "978 GTSE1-DT.tsv\n",
      "979 ANKRD62P1-PARP4P3.tsv\n",
      "980 IGLVIV-53.tsv\n",
      "981 ZNF70.tsv\n",
      "982 POTEH-AS1.tsv\n",
      "983 CDC45.tsv\n",
      "984 MICAL3.tsv\n",
      "985 ATXN10.tsv\n",
      "986 TERF2IPP1.tsv\n",
      "987 IGLV3-9.tsv\n",
      "988 VN1R9P.tsv\n",
      "989 USP41.tsv\n",
      "990 NBEAP3.tsv\n",
      "991 IGLVI-63.tsv\n",
      "992 TPTEP2-CSNK1E.tsv\n",
      "993 MFNG.tsv\n",
      "994 RPL7P52.tsv\n",
      "995 IGLV3-27.tsv\n",
      "996 C22orf24.tsv\n",
      "997 LOC105373015.tsv\n",
      "998 TMEM211.tsv\n",
      "999 C22orf46.tsv\n",
      "1000 RN7SL385P.tsv\n",
      "1001 LOC105372935.tsv\n",
      "1002 DUSP18.tsv\n",
      "1003 MTCO1P33.tsv\n",
      "1004 TIMP3.tsv\n",
      "1005 DESI1.tsv\n",
      "1006 PIM3.tsv\n",
      "1007 SMARCB1.tsv\n",
      "1008 SEC14L6.tsv\n",
      "1009 LOC105372952.tsv\n",
      "1010 FBXO7.tsv\n",
      "1011 THAP7.tsv\n",
      "1012 RPS10P29.tsv\n",
      "1013 CASTOR1.tsv\n",
      "1014 LOC107985555.tsv\n",
      "1015 PRR5.tsv\n",
      "1016 TEF.tsv\n",
      "1017 PACSIN2.tsv\n",
      "1018 IGLV1-44.tsv\n",
      "1019 LOC107985571.tsv\n",
      "1020 ZC3H7B.tsv\n",
      "1021 CRYBB3.tsv\n",
      "1022 ACO2.tsv\n",
      "1023 LOC105373035.tsv\n",
      "1024 LOC105379516.tsv\n",
      "1025 LMF2.tsv\n",
      "1026 ENTHD1.tsv\n",
      "1027 LOC100506679.tsv\n",
      "1028 WBP2NL.tsv\n",
      "1029 TAB1.tsv\n",
      "1030 LINC01639.tsv\n",
      "1031 SLC7A4.tsv\n",
      "1032 ADM2.tsv\n",
      "1033 IGLV5-45.tsv\n",
      "1034 BCRP4.tsv\n",
      "1035 DMC1.tsv\n",
      "1036 H2AZP6.tsv\n",
      "1037 CRYBA4.tsv\n",
      "1038 SNORD140.tsv\n",
      "1039 ARVCF.tsv\n",
      "1040 MCAT.tsv\n",
      "1041 DDT.tsv\n",
      "1042 RNU6-1161P.tsv\n",
      "1043 LINC02554.tsv\n",
      "1044 FBLN1.tsv\n",
      "1045 GRAP2.tsv\n",
      "1046 LINC01665.tsv\n",
      "1047 LOC105373064.tsv\n",
      "1048 RPS29P31.tsv\n",
      "1049 LOC112268294.tsv\n",
      "1050 APOBEC3G.tsv\n",
      "1051 LOC107985553.tsv\n",
      "1052 TOMM40P2.tsv\n",
      "1053 DUX4L40.tsv\n",
      "1054 CCDC157.tsv\n",
      "1055 MMP11.tsv\n",
      "1056 RPS10P31.tsv\n",
      "1057 APOL4.tsv\n",
      "1058 ZNRF3-AS1.tsv\n",
      "1059 POM121L1P.tsv\n",
      "1060 LINC02558.tsv\n",
      "1061 IGKV2OR22-3.tsv\n",
      "1062 IGLC1.tsv\n",
      "1063 LOC100420103.tsv\n",
      "1064 KLHDC7B.tsv\n",
      "1065 PCAT14.tsv\n",
      "1066 IGLL5.tsv\n",
      "1067 SLC9A3P2.tsv\n",
      "1068 RN7SL500P.tsv\n",
      "1069 LINC01664.tsv\n",
      "1070 RNU6-409P.tsv\n",
      "1071 IGLVI-70.tsv\n",
      "1072 GGT3P.tsv\n",
      "1073 IGLV1-36.tsv\n",
      "1074 RFPL3.tsv\n",
      "1075 LOC339685.tsv\n",
      "1076 LOC105372948.tsv\n",
      "1077 LINC00528.tsv\n",
      "1078 LOC100533637.tsv\n",
      "1079 NCF4.tsv\n",
      "1080 PRR5-ARHGAP8.tsv\n",
      "1081 APOL6.tsv\n",
      "1082 IGLV3-31.tsv\n",
      "1083 NCAPH2.tsv\n",
      "1084 IGLV2-18.tsv\n",
      "1085 PCMTD1P4.tsv\n",
      "1086 RPS9P2.tsv\n",
      "1087 ZBED4.tsv\n",
      "1088 LOC100419915.tsv\n",
      "1089 IGLV4-69.tsv\n",
      "1090 SMDT1.tsv\n",
      "1091 CA15P1.tsv\n",
      "1092 LOC102723688.tsv\n",
      "1093 XBP1.tsv\n",
      "1094 ASH2LP3.tsv\n",
      "1095 LOC105372858.tsv\n",
      "1096 PHF5A.tsv\n",
      "1097 IGLV6-57.tsv\n",
      "1098 DDTL.tsv\n",
      "1099 RPL15P22.tsv\n",
      "1100 GTPBP1.tsv\n",
      "1101 TFIP11.tsv\n",
      "1102 LOC105372980.tsv\n",
      "1103 USP18.tsv\n",
      "1104 TSSK2.tsv\n",
      "1105 LOC101927372.tsv\n",
      "1106 LOC107985582.tsv\n"
     ]
    }
   ],
   "source": [
    "total = None\n",
    "nothing = []\n",
    "for i,a in enumerate(ordered_data):\n",
    "    print(i,a)\n",
    "    try:\n",
    "        current_df = pd.read_csv(\n",
    "            op.join(ORDDIR, a), sep=\"\\t\", header=None\n",
    "        )\n",
    "    except:\n",
    "        nothing.append(a)\n",
    "        print(i,a, \"nothing\")\n",
    "    else:\n",
    "        if i == 0:\n",
    "            total = current_df\n",
    "        else:\n",
    "            total = total.append(current_df)"
   ]
  },
  {
   "cell_type": "code",
   "execution_count": 23,
   "id": "virgin-banner",
   "metadata": {},
   "outputs": [],
   "source": [
    "def bin_n(x, edges):\n",
    "    if x <= edges[0]:\n",
    "        return(1)\n",
    "    elif x >= edges[-1]:\n",
    "        return(edges.shape[0]-1)\n",
    "    else:\n",
    "        return((edges > x).tolist().index(True))"
   ]
  },
  {
   "cell_type": "code",
   "execution_count": 24,
   "id": "foreign-porter",
   "metadata": {},
   "outputs": [],
   "source": [
    "m_bins, m_edges = np.histogram(total[8].values)\n",
    "v_bins, v_edges = np.histogram(total[9].values)\n",
    "total[10] = total[8].apply(lambda x: bin_n(x, m_edges))\n",
    "total[11] = total[9].apply(lambda x: bin_n(x, v_edges))"
   ]
  },
  {
   "cell_type": "code",
   "execution_count": 25,
   "id": "specialized-numbers",
   "metadata": {},
   "outputs": [],
   "source": [
    "known_ots = pd.read_csv(\n",
    "    \"/home/bakirillov/Data/Svetlana_data/Table_S8_machine_learning_input.txt\", index_col=0, sep=\"\\t\"\n",
    ")"
   ]
  },
  {
   "cell_type": "code",
   "execution_count": 26,
   "id": "thousand-purchase",
   "metadata": {},
   "outputs": [],
   "source": [
    "u2 = ImperfectMatchTransform(\"NGG\", False, False, fold=False, cut_at_start=2, cut_at_end=1)\n",
    "transformer2 = transforms.Compose(\n",
    "    [\n",
    "        u2, ToTensor(cudap=True)\n",
    "    ]\n",
    ")\n",
    "ko_set = JostEtAlDataset(known_ots, np.arange(known_ots.shape[0]), transformer2)\n",
    "ko_set_loader = DataLoader(ko_set, shuffle=False, batch_size=256)"
   ]
  },
  {
   "cell_type": "code",
   "execution_count": 27,
   "id": "animated-nepal",
   "metadata": {
    "scrolled": true
   },
   "outputs": [
    {
     "name": "stderr",
     "output_type": "stream",
     "text": [
      "100%|██████████| 103/103 [00:14<00:00,  6.98it/s]\n"
     ]
    }
   ],
   "source": [
    "ko_w_oa = []\n",
    "ko_w_va = []\n",
    "for transformed_batch, _ in tqdm(ko_set_loader):\n",
    "    ko_w = w_model(transformed_batch)\n",
    "    ko_w_o = w_model.likelihood(\n",
    "        ko_w[0]\n",
    "    ).mean.mean(0).cpu().data.numpy()\n",
    "    ko_w_v = w_model.likelihood(\n",
    "        ko_w[0]\n",
    "    ).variance.mean(0).cpu().data.numpy()\n",
    "    ko_w_oa.extend(ko_w_o)\n",
    "    ko_w_va.extend(ko_w_v)"
   ]
  },
  {
   "cell_type": "code",
   "execution_count": 30,
   "id": "institutional-contribution",
   "metadata": {},
   "outputs": [],
   "source": [
    "def get_offtarget_types(data, sgrna, activity_t=0.15, variance_t=0.015):\n",
    "    cur_r = data[data[1] == sgrna]\n",
    "    good_b = cur_r[8] < activity_t\n",
    "    safe_b = cur_r[9] < variance_t\n",
    "    good = cur_r[good_b].shape[0]\n",
    "    safe = cur_r[safe_b].shape[0]\n",
    "    good_and_safe = cur_r[np.logical_and(good_b, safe_b)].shape[0]\n",
    "    good_xor_safe = cur_r[np.logical_xor(good_b, safe_b)].shape[0]\n",
    "    bad_and_safe = cur_r[np.logical_and(safe_b, np.logical_not(good_b))].shape[0]\n",
    "    good_and_unsafe = cur_r[np.logical_and(np.logical_not(safe_b), good_b)].shape[0]\n",
    "    bad_and_unsafe = cur_r[np.logical_and(np.logical_not(safe_b), np.logical_not(good_b))].shape[0]\n",
    "    bad_or_unsafe = cur_r[np.logical_or(np.logical_not(safe_b), np.logical_not(good_b))].shape[0]\n",
    "    return(\n",
    "        cur_r.shape[0], good/cur_r.shape[0], safe/cur_r.shape[0], good_and_safe/cur_r.shape[0], \n",
    "        bad_and_safe/cur_r.shape[0], good_and_unsafe/cur_r.shape[0], \n",
    "        bad_and_unsafe/cur_r.shape[0], bad_or_unsafe/cur_r.shape[0]\n",
    "    )"
   ]
  },
  {
   "cell_type": "code",
   "execution_count": 31,
   "id": "advanced-tennis",
   "metadata": {},
   "outputs": [
    {
     "name": "stderr",
     "output_type": "stream",
     "text": [
      "100%|██████████| 1000/1000 [01:50<00:00,  9.02it/s]\n"
     ]
    }
   ],
   "source": [
    "offtarget_statistics = {\n",
    "    \"total\": [], \"low efficiency\": [], \n",
    "    \"low variance\": [], \"low efficiency and variance\": [],\n",
    "    \"high efficiency, low variance\": [], \n",
    "    \"low efficiency, high variance\": [], \n",
    "    \"high efficiency and variance\": [],\n",
    "    \"high efficiency or variance\": [],\n",
    "}\n",
    "for a in tqdm(ST5[\"gRNA\"]):\n",
    "    b = get_offtarget_types(total, a)\n",
    "    offtarget_statistics[\"total\"].append(b[0])\n",
    "    offtarget_statistics[\"low efficiency\"].append(b[1])\n",
    "    offtarget_statistics[\"low variance\"].append(b[2])\n",
    "    offtarget_statistics[\"low efficiency and variance\"].append(b[3])\n",
    "    offtarget_statistics[\"high efficiency, low variance\"].append(b[4])\n",
    "    offtarget_statistics[\"low efficiency, high variance\"].append(b[5])\n",
    "    offtarget_statistics[\"high efficiency and variance\"].append(b[6])\n",
    "    offtarget_statistics[\"high efficiency or variance\"].append(b[7])\n",
    "offtarget_statistics = pd.DataFrame(offtarget_statistics)"
   ]
  },
  {
   "cell_type": "code",
   "execution_count": 39,
   "id": "informative-terrain",
   "metadata": {},
   "outputs": [],
   "source": [
    "offtarget_statistics.to_excel(\"Supplementary_Table6.xlsx\")"
   ]
  },
  {
   "cell_type": "code",
   "execution_count": 32,
   "id": "explicit-upgrade",
   "metadata": {},
   "outputs": [],
   "source": [
    "rcParams[\"figure.figsize\"] = (12,10)"
   ]
  },
  {
   "cell_type": "code",
   "execution_count": 34,
   "id": "variable-safety",
   "metadata": {},
   "outputs": [
    {
     "data": {
      "text/plain": [
       "Text(0, 0.5, 'Number of guides with that proportion of off-targets')"
      ]
     },
     "execution_count": 34,
     "metadata": {},
     "output_type": "execute_result"
    },
    {
     "name": "stderr",
     "output_type": "stream",
     "text": [
      "/home/bakirillov/anaconda3/envs/lapki/lib/python3.8/site-packages/IPython/core/pylabtools.py:132: UserWarning: Creating legend with loc=\"best\" can be slow with large amounts of data.\n",
      "  fig.canvas.print_figure(bytes_io, **kw)\n"
     ]
    },
    {
     "data": {
      "image/png": "[encoded data removed]",
      "text/plain": [
       "<Figure size 864x720 with 4 Axes>"
      ]
     },
     "metadata": {
      "needs_background": "light"
     },
     "output_type": "display_data"
    }
   ],
   "source": [
    "fig, ax = plt.subplots(2, 2)\n",
    "#fig.suptitle('Off-targets for the best on-target gRNAs')\n",
    "ax[0][0].hist(total[8].values, density=True, bins=100, color=\"blue\")\n",
    "ax[0][0].hist(ko_w_oa, bins=20, density=True, color=(1,0,0,0.2))\n",
    "ax[0][0].axvline(0.15, color=\"red\")\n",
    "ax[0][0].legend(\n",
    "    handles=[\n",
    "        Patch(color=\"red\", label=\"efficiency threshold\"), \n",
    "        Patch(color=(1,0,0,0.2), label=\"training set (density)\"),\n",
    "        Patch(color=\"blue\", label=\"chr22 (density)\")\n",
    "    ]\n",
    ")\n",
    "ax[0][0].set_title(\"a. Mean off-target activity distribution\")\n",
    "ax[0][0].set_xlabel(\"Mean activity\")\n",
    "ax[0][0].set_ylabel(\"#offtargets\")\n",
    "ax[0][1].hist(total[9].values, bins=100, density=True, color=\"blue\")\n",
    "ax[0][1].legend(\n",
    "    handles=[\n",
    "        Patch(color=\"red\", label=\"prediction variance threshold\"), \n",
    "        Patch(color=(1,0,0,0.2), label=\"not shown due to having no variance\"),\n",
    "        Patch(color=\"blue\", label=\"chr22 (density)\")\n",
    "    ]\n",
    ")\n",
    "ax[0][1].set_title(\"b. Variance for off-target activity distribution\")\n",
    "ax[0][1].set_xlabel(\"Activity variance\")\n",
    "ax[0][1].set_ylabel(\"#offtargets\")\n",
    "ax[0][1].axvline(0.015, color=\"red\")\n",
    "#ax[1][0].scatter(\n",
    " #   total[8], total[9], \n",
    "  #  c=[\"yellow\" if x else \"blue\" for x in np.logical_and(total[8] < 0.15, total[9] < 0.015)]\n",
    "#)\n",
    "ax[1][0].scatter(\n",
    "    total[8][np.logical_and(total[8]<0.15, total[9]<0.015)], \n",
    "    total[9][np.logical_and(total[8]<0.15, total[9]<0.015)],\n",
    "    edgecolors=\"yellow\", facecolors='none'\n",
    ")\n",
    "ax[1][0].scatter(\n",
    "    total[8][np.logical_not(np.logical_and(total[8]<0.15, total[9]<0.015))], \n",
    "    total[9][np.logical_not(np.logical_and(total[8]<0.15, total[9]<0.015))],\n",
    "    edgecolors=\"blue\", facecolors='none'\n",
    ")\n",
    "\n",
    "ax[1][0].legend(\n",
    "    handles=[\n",
    "        Patch(color=\"yellow\", label=\"low efficiency and prediction variance\"), \n",
    "        Patch(color=\"blue\", label=\"either high efficiency or prediction variance\"),\n",
    "        Patch(color=\"red\", label=\"efficiency and variance thresholds\"), \n",
    "    ]\n",
    ")\n",
    "ax[1][0].set_title(\"c. Mean vs Variance for top 10 off-targets\")\n",
    "ax[1][0].set_xlabel(\"Mean activity\")\n",
    "ax[1][0].set_ylabel(\"Activity variance\")\n",
    "ax[1][0].axvline(0.15, color=\"red\")\n",
    "ax[1][0].axhline(0.015, color=\"red\")\n",
    "ax[1][1].hist(offtarget_statistics[\"low efficiency\"], bins=100, color=(0,1,0,0.4))\n",
    "ax[1][1].hist(offtarget_statistics[\"low variance\"], bins=100, color=(1,0,0,0.4))\n",
    "ax[1][1].legend(\n",
    "    handles=[\n",
    "        Patch(color=(0,1,0,0.4), label=\"low efficiency\"), \n",
    "        Patch(color=(1,0,0,0.4), label=\"low prediction variance\")\n",
    "    ]\n",
    ")\n",
    "ax[1][1].set_title(\"d. Off-targets with low efficiency and variance\")\n",
    "ax[1][1].set_xlabel(\"Proportion of off-targets\")\n",
    "ax[1][1].set_ylabel(\"Number of guides with that proportion of off-targets\")"
   ]
  },
  {
   "cell_type": "code",
   "execution_count": 35,
   "id": "transparent-florence",
   "metadata": {},
   "outputs": [],
   "source": [
    "bu = offtarget_statistics[offtarget_statistics[\"high efficiency and variance\"] > 0]"
   ]
  },
  {
   "cell_type": "code",
   "execution_count": 36,
   "id": "incorporated-profit",
   "metadata": {},
   "outputs": [
    {
     "data": {
      "text/plain": [
       "56.0"
      ]
     },
     "execution_count": 36,
     "metadata": {},
     "output_type": "execute_result"
    }
   ],
   "source": [
    "np.sum(bu[\"total\"]*bu[\"high efficiency and variance\"])"
   ]
  },
  {
   "cell_type": "code",
   "execution_count": 37,
   "id": "subtle-diabetes",
   "metadata": {},
   "outputs": [
    {
     "data": {
      "text/plain": [
       "1994178"
      ]
     },
     "execution_count": 37,
     "metadata": {},
     "output_type": "execute_result"
    }
   ],
   "source": [
    "offtarget_statistics[\"total\"].sum()"
   ]
  }
 ],
 "metadata": {
  "kernelspec": {
   "display_name": "Python 3",
   "language": "python",
   "name": "python3"
  },
  "language_info": {
   "codemirror_mode": {
    "name": "ipython",
    "version": 3
   },
   "file_extension": ".py",
   "mimetype": "text/x-python",
   "name": "python",
   "nbconvert_exporter": "python",
   "pygments_lexer": "ipython3",
   "version": "3.8.8"
  }
 },
 "nbformat": 4,
 "nbformat_minor": 5
}
