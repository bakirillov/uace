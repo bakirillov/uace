{
 "cells": [
  {
   "cell_type": "code",
   "execution_count": 1,
   "metadata": {},
   "outputs": [],
   "source": [
    "import json"
   ]
  },
  {
   "cell_type": "code",
   "execution_count": 2,
   "metadata": {},
   "outputs": [],
   "source": [
    "config = {\n",
    "    \"JostEtAlDatasetPath\": \"\",\n",
    "    \"DEEPHFPATH\": \"\",\n",
    "    \"T3619PATH\": \"\",\n",
    "    \"V520PATH\": \"\",\n",
    "    \"DeepCRISPRPath\": \"\",\n",
    "    \"DeepCpf1KimPath\": \"\",\n",
    "    \"batch_size\": 256, \"epochs\": 60,\n",
    "    \"Chr22_annotation\": \"\",\n",
    "    \"Chr22_genome\": \"\",\n",
    "    \"CASOFFINDERPATH\": \"\",\n",
    "    \"Cpf1OfftargetPath\": \"\"\n",
    "}"
   ]
  },
  {
   "cell_type": "code",
   "execution_count": 3,
   "metadata": {},
   "outputs": [],
   "source": [
    "with open(\"config.json\", \"w\") as oh:\n",
    "    oh.write(json.dumps(config))"
   ]
  }
 ],
 "metadata": {
  "kernelspec": {
   "display_name": "Python 3",
   "language": "python",
   "name": "python3"
  },
  "language_info": {
   "codemirror_mode": {
    "name": "ipython",
    "version": 3
   },
   "file_extension": ".py",
   "mimetype": "text/x-python",
   "name": "python",
   "nbconvert_exporter": "python",
   "pygments_lexer": "ipython3",
   "version": "3.8.8"
  }
 },
 "nbformat": 4,
 "nbformat_minor": 2
}
