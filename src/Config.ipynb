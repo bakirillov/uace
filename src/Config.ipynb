{
 "cells": [
  {
   "cell_type": "code",
   "execution_count": 1,
   "metadata": {},
   "outputs": [],
   "source": [
    "import json"
   ]
  },
  {
   "cell_type": "code",
   "execution_count": 2,
   "metadata": {},
   "outputs": [],
   "source": [
    "config = {\n",
    "    \"JostEtAlDatasetPath\": \"/home/bakirillov/Data/Svetlana_data/Table_S8_machine_learning_input.txt\",\n",
    "    \"DEEPHFPATH\": \"/home/bakirillov/Data/CRISPR-CAD/DeepHF/41467_2019_12281_MOESM3_ESM.xlsx\",\n",
    "    \"T3619PATH\": \"/home/bakirillov/Data/CRISPR-CAD/geCRISPR/Training-Testing_dataset-T3619\",\n",
    "    \"V520PATH\": \"/home/bakirillov/Data/CRISPR-CAD/geCRISPR/Validation_dataset-V520\",\n",
    "    \"DeepCRISPRPath\": \"/home/bakirillov/Data/CRISPR-CAD/DeepCRISPR\",\n",
    "    \"DeepCpf1KimPath\": \"/home/bakirillov/Data/CRISPR-CAD/DeepCpf1/\",\n",
    "    \"batch_size\": 256, \"epochs\": 60,\n",
    "    \"Chr22_annotation\": \"/home/bakirillov/Data/genomes/annotation.csv\",\n",
    "    \"Chr22_genome\": \"/home/bakirillov/Data/genomes/chr22.fa\",\n",
    "    \"Chr22_intermediate\": \"/home/bakirillov/Data/chr22_intermediate/\",\n",
    "    \"CASOFFINDERPATH\": \"/home/bakirillov/Apps/cas-offinder\",\n",
    "    \"Cpf1OfftargetPath\": \"/home/bakirillov/Data/CRISPR-CAD/CINDEL/data.xlsx\"\n",
    "}"
   ]
  },
  {
   "cell_type": "code",
   "execution_count": 3,
   "metadata": {},
   "outputs": [],
   "source": [
    "with open(\"config.json\", \"w\") as oh:\n",
    "    oh.write(json.dumps(config))"
   ]
  }
 ],
 "metadata": {
  "kernelspec": {
   "display_name": "Python 3",
   "language": "python",
   "name": "python3"
  },
  "language_info": {
   "codemirror_mode": {
    "name": "ipython",
    "version": 3
   },
   "file_extension": ".py",
   "mimetype": "text/x-python",
   "name": "python",
   "nbconvert_exporter": "python",
   "pygments_lexer": "ipython3",
   "version": "3.8.8"
  }
 },
 "nbformat": 4,
 "nbformat_minor": 2
}
