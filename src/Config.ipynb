{
 "cells": [
  {
   "cell_type": "code",
   "execution_count": 1,
   "metadata": {},
   "outputs": [],
   "source": [
    "import json"
   ]
  },
  {
   "cell_type": "code",
   "execution_count": 2,
   "metadata": {},
   "outputs": [],
   "source": [
    "config = {\n",
    "    \"WeissmanDatasetPath\": \"/home/bakirillov/HDD/data/Svetlana_data/Table_S8_machine_learning_input.txt\",\n",
    "    \"DEEPHFPATH\": \"/home/bakirillov/HDD/data/CRISPR-CAD/DeepHF/41467_2019_12281_MOESM3_ESM.xlsx\",\n",
    "    \"T3619PATH\": \"/home/bakirillov/HDD/data/CRISPR-CAD/geCRISPR/Training-Testing_dataset-T3619\",\n",
    "    \"V520PATH\": \"/home/bakirillov/HDD/data/CRISPR-CAD/geCRISPR/Validation_dataset-V520\",\n",
    "    \"DeepCRISPRPath\": \"/home/bakirillov/HDD/data/CRISPR-CAD/DeepCRISPR\",\n",
    "    \"DeepCpf1KimPath\": \"/home/bakirillov/HDD/data/CRISPR-CAD/DeepCpf1/\",\n",
    "    \"batch_size\": 256, \"epochs\": 60\n",
    "}"
   ]
  },
  {
   "cell_type": "code",
   "execution_count": 3,
   "metadata": {},
   "outputs": [],
   "source": [
    "with open(\"config.json\", \"w\") as oh:\n",
    "    oh.write(json.dumps(config))"
   ]
  }
 ],
 "metadata": {
  "kernelspec": {
   "display_name": "Python 3",
   "language": "python",
   "name": "python3"
  },
  "language_info": {
   "codemirror_mode": {
    "name": "ipython",
    "version": 3
   },
   "file_extension": ".py",
   "mimetype": "text/x-python",
   "name": "python",
   "nbconvert_exporter": "python",
   "pygments_lexer": "ipython3",
   "version": "3.7.5"
  }
 },
 "nbformat": 4,
 "nbformat_minor": 2
}
