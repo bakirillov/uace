{
 "cells": [
  {
   "cell_type": "code",
   "execution_count": 1,
   "metadata": {},
   "outputs": [
    {
     "name": "stderr",
     "output_type": "stream",
     "text": [
      "/home/bakirillov/anaconda3/envs/lapki/lib/python3.7/site-packages/sklearn/externals/joblib/__init__.py:15: FutureWarning: sklearn.externals.joblib is deprecated in 0.21 and will be removed in 0.23. Please import this functionality directly from joblib, which can be installed with: pip install joblib. If this warning is raised when loading pickled models, you may need to re-serialize those models with scikit-learn 0.21+.\n",
      "  warnings.warn(msg, category=FutureWarning)\n",
      "/home/bakirillov/anaconda3/envs/lapki/lib/python3.7/site-packages/sklearn/utils/deprecation.py:144: FutureWarning: The sklearn.metrics.scorer module is  deprecated in version 0.22 and will be removed in version 0.24. The corresponding classes / functions should instead be imported from sklearn.metrics. Anything that cannot be imported from sklearn.metrics is now part of the private API.\n",
      "  warnings.warn(message, FutureWarning)\n",
      "/home/bakirillov/anaconda3/envs/lapki/lib/python3.7/site-packages/sklearn/utils/deprecation.py:144: FutureWarning: The sklearn.feature_selection.base module is  deprecated in version 0.22 and will be removed in version 0.24. The corresponding classes / functions should instead be imported from sklearn.feature_selection. Anything that cannot be imported from sklearn.feature_selection is now part of the private API.\n",
      "  warnings.warn(message, FutureWarning)\n"
     ]
    }
   ],
   "source": [
    "import os\n",
    "import umap\n",
    "import torch\n",
    "import itertools\n",
    "from core import *\n",
    "import numpy as np\n",
    "import pandas as pd\n",
    "import pickle as pkl\n",
    "from torch import nn\n",
    "import os.path as op\n",
    "from tqdm import tqdm\n",
    "from time import time\n",
    "from Bio import SeqIO\n",
    "from copy import deepcopy\n",
    "from torch.optim import Adam\n",
    "from tpot import TPOTRegressor\n",
    "import torch.nn.functional as F\n",
    "import matplotlib.pyplot as plt\n",
    "from capsules.capsules import *\n",
    "from IPython.display import Image\n",
    "from qhoptim.pyt import QHM, QHAdam\n",
    "from matplotlib.lines import Line2D\n",
    "from torch.autograd import Variable\n",
    "from matplotlib.patches import Patch\n",
    "from scipy.stats import spearmanr, pearsonr\n",
    "from catboost import CatBoostRegressor, Pool, cv\n",
    "from sklearn.model_selection import train_test_split, StratifiedKFold\n",
    "from sklearn.metrics import mean_absolute_error, mean_squared_error, median_absolute_error\n",
    "from sklearn.metrics import accuracy_score, matthews_corrcoef, precision_score, recall_score"
   ]
  },
  {
   "cell_type": "code",
   "execution_count": 2,
   "metadata": {},
   "outputs": [
    {
     "data": {
      "text/plain": [
       "23"
      ]
     },
     "execution_count": 2,
     "metadata": {},
     "output_type": "execute_result"
    }
   ],
   "source": [
    "len(\"TTTCTGAGCATCCCGGGGATCCC\")"
   ]
  },
  {
   "cell_type": "code",
   "execution_count": 3,
   "metadata": {},
   "outputs": [],
   "source": [
    "from torchvision import models, transforms\n",
    "from torch.utils.data import DataLoader, Dataset"
   ]
  },
  {
   "cell_type": "code",
   "execution_count": 4,
   "metadata": {},
   "outputs": [],
   "source": [
    "import gpytorch\n",
    "from gpytorch.means import ConstantMean, LinearMean\n",
    "from gpytorch.models import ApproximateGP, ExactGP \n",
    "from sklearn.metrics import accuracy_score\n",
    "from gpytorch.priors import SmoothedBoxPrior\n",
    "from gpytorch.likelihoods import GaussianLikelihood\n",
    "from gpytorch.kernels import ScaleKernel, RBFKernel, GridInterpolationKernel\n",
    "from gpytorch.mlls import VariationalELBO, VariationalELBOEmpirical, DeepApproximateMLL\n",
    "from gpytorch.distributions import MultivariateNormal\n",
    "from gpytorch.variational import CholeskyVariationalDistribution\n",
    "from gpytorch.variational import VariationalStrategy\n",
    "from gpytorch.models.deep_gps import DeepGPLayer, DeepGP"
   ]
  },
  {
   "cell_type": "code",
   "execution_count": 5,
   "metadata": {},
   "outputs": [],
   "source": [
    "np.random.seed(1000)"
   ]
  },
  {
   "cell_type": "code",
   "execution_count": 6,
   "metadata": {},
   "outputs": [],
   "source": [
    "DATAPATH = \"/home/bakirillov/HDD/data/genomes/all_guides_chr22.tsv\"\n",
    "ANNOTATION = \"/home/bakirillov/HDD/data/genomes/annotation.csv\""
   ]
  },
  {
   "cell_type": "code",
   "execution_count": 7,
   "metadata": {},
   "outputs": [],
   "source": [
    "annotation = pd.read_csv(ANNOTATION, header=1)[[\"Start\", \"Stop\", \"Gene symbol\"]]\n",
    "annotation = list(\n",
    "    zip(\n",
    "        annotation[\"Start\"].values, annotation[\"Stop\"].values, \n",
    "        annotation[\"Gene symbol\"].values\n",
    "    )\n",
    ")\n",
    "annotation = sorted(annotation, key=lambda x: x[0])"
   ]
  },
  {
   "cell_type": "code",
   "execution_count": 8,
   "metadata": {},
   "outputs": [],
   "source": [
    "transformer = get_Cas9_transformer(True)"
   ]
  },
  {
   "cell_type": "code",
   "execution_count": 9,
   "metadata": {},
   "outputs": [],
   "source": [
    "chr22 = SeqIO.parse(\"/home/bakirillov/HDD/data/genomes/chr22.fa\", \"fasta\")\n",
    "chr22 = [a for a in chr22][0]"
   ]
  },
  {
   "cell_type": "code",
   "execution_count": 10,
   "metadata": {},
   "outputs": [],
   "source": [
    "TEMPLATE = \"/home/bakirillov/HDD/data/chr22_genes/GENE\\nPERFECTMATCH\\nNNNNNNNNNNNNNNNNNNNNNGG 6\\n\"\n",
    "COMMAND = \"/home/bakirillov/HDD/apps/cas-offinder CONFIG G OUTPUT\""
   ]
  },
  {
   "cell_type": "code",
   "execution_count": 11,
   "metadata": {},
   "outputs": [
    {
     "name": "stdout",
     "output_type": "stream",
     "text": [
      "Cpf1_table.xlsx\n",
      "ST3.xlsx\n",
      "ST4 Chr22 top gRNAs per gene.xlsx\n",
      "W_table.xlsx\n"
     ]
    }
   ],
   "source": [
    "%%bash\n",
    "\n",
    "ls | grep xls"
   ]
  },
  {
   "cell_type": "code",
   "execution_count": 12,
   "metadata": {},
   "outputs": [],
   "source": [
    "d = pd.read_excel(\"ST4 Chr22 top gRNAs per gene.xlsx\", sheet_name=0)"
   ]
  },
  {
   "cell_type": "code",
   "execution_count": 13,
   "metadata": {},
   "outputs": [],
   "source": [
    "TOP10 = np.random.choice(d[\"4\"].unique(), 1000, replace=False)"
   ]
  },
  {
   "cell_type": "code",
   "execution_count": 15,
   "metadata": {
    "scrolled": false
   },
   "outputs": [
    {
     "name": "stderr",
     "output_type": "stream",
     "text": [
      "100%|██████████| 1186/1186 [00:04<00:00, 278.96it/s]\n"
     ]
    }
   ],
   "source": [
    "script = open(\"run_casoffinder_ot.sh\", \"w\")\n",
    "script.write(\"#!/bin/sh\\n\\n\")\n",
    "for start, stop, gene in tqdm(annotation):\n",
    "    with open(\"/home/bakirillov/HDD/data/chr22_genes_OT/\"+gene+\".fa\", \"w\") as oh:\n",
    "        oh.write(\">\"+gene+\"\\n\")\n",
    "        oh.write(str(chr22.seq[start:stop]))\n",
    "    with open(\"/home/bakirillov/HDD/data/chr22_casoffinder_configs_OT/\"+gene+\".txt\", \"w\") as oh:\n",
    "        oh.write(TEMPLATE.replace(\"GENE\", gene+\".fa\").split(\"\\n\")[0])\n",
    "        oh.write(\"\\nNNNNNNNNNNNNNNNNNNNNNGG\\n\")\n",
    "        for a in TOP10:\n",
    "            for b in range(1, 7):\n",
    "                oh.write(a+\" \"+str(b)+\"\\n\")\n",
    "    script.write(\n",
    "        COMMAND.replace(\n",
    "            \"CONFIG\", \"/home/bakirillov/HDD/data/chr22_casoffinder_configs_OT/\"+gene+\".txt\"\n",
    "        ).replace(\n",
    "            \"OUTPUT\", \"/home/bakirillov/HDD/data/chr22_grnas_OT/\"+gene+\".tsv\"\n",
    "        )+\"\\n\"\n",
    "    )\n",
    "script.close()"
   ]
  },
  {
   "cell_type": "code",
   "execution_count": 16,
   "metadata": {},
   "outputs": [],
   "source": [
    "data = np.array(\n",
    "    [a for a in os.walk(\"/home/bakirillov/HDD/data/chr22_grnas_OT/\")][0][2]\n",
    ")"
   ]
  },
  {
   "cell_type": "code",
   "execution_count": 17,
   "metadata": {},
   "outputs": [],
   "source": [
    "sizes = np.array(\n",
    "    [op.getsize(op.join(\"/home/bakirillov/HDD/data/chr22_grnas_OT\", a)) for a in data]\n",
    ")"
   ]
  },
  {
   "cell_type": "code",
   "execution_count": 18,
   "metadata": {},
   "outputs": [],
   "source": [
    "u = ImperfectMatchTransform(\"NGG\", False, False, fold=False, cut_at_start=0, cut_at_end=0)\n",
    "transformer = transforms.Compose(\n",
    "    [\n",
    "        u, ToTensor(cudap=True)\n",
    "    ]\n",
    ")"
   ]
  },
  {
   "cell_type": "code",
   "execution_count": 19,
   "metadata": {},
   "outputs": [],
   "source": [
    "w_encoder = GuideHN2d(\n",
    "    23, capsule_dimension=32, n_routes=1600, n_classes=5, n_channels=2,\n",
    ").cuda()\n",
    "w_model = DKL(w_encoder, [1,5*32]).cuda().eval()\n",
    "w_model.load_state_dict(torch.load(\"../models/Weissman/cnn59.ptch\"))\n",
    "w_model = w_model.eval()"
   ]
  },
  {
   "cell_type": "code",
   "execution_count": 20,
   "metadata": {
    "scrolled": true
   },
   "outputs": [
    {
     "name": "stderr",
     "output_type": "stream",
     "text": [
      " 50%|█████     | 1/2 [00:00<00:00,  7.12it/s]"
     ]
    },
    {
     "name": "stdout",
     "output_type": "stream",
     "text": [
      "0 (502, 7)\n"
     ]
    },
    {
     "name": "stderr",
     "output_type": "stream",
     "text": [
      "100%|██████████| 2/2 [00:00<00:00,  7.37it/s]\n",
      "100%|██████████| 1/1 [00:00<00:00, 49.97it/s]\n",
      " 50%|█████     | 1/2 [00:00<00:00,  7.11it/s]"
     ]
    },
    {
     "name": "stdout",
     "output_type": "stream",
     "text": [
      "1 (14, 7)\n",
      "No columns to parse from file\n",
      "3 (309, 7)\n"
     ]
    },
    {
     "name": "stderr",
     "output_type": "stream",
     "text": [
      "100%|██████████| 2/2 [00:00<00:00, 10.81it/s]\n",
      "100%|██████████| 1/1 [00:00<00:00, 43.30it/s]\n",
      " 14%|█▍        | 1/7 [00:00<00:00,  6.90it/s]"
     ]
    },
    {
     "name": "stdout",
     "output_type": "stream",
     "text": [
      "4 (16, 7)\n",
      "5 (1589, 7)\n"
     ]
    },
    {
     "name": "stderr",
     "output_type": "stream",
     "text": [
      "100%|██████████| 7/7 [00:00<00:00,  7.80it/s]\n",
      "100%|██████████| 1/1 [00:00<00:00, 51.05it/s]\n",
      " 12%|█▎        | 1/8 [00:00<00:00,  7.18it/s]"
     ]
    },
    {
     "name": "stdout",
     "output_type": "stream",
     "text": [
      "6 (15, 7)\n",
      "7 (1873, 7)\n"
     ]
    },
    {
     "name": "stderr",
     "output_type": "stream",
     "text": [
      "100%|██████████| 8/8 [00:01<00:00,  7.91it/s]\n",
      "  6%|▌         | 1/18 [00:00<00:02,  7.34it/s]"
     ]
    },
    {
     "name": "stdout",
     "output_type": "stream",
     "text": [
      "8 (4557, 7)\n"
     ]
    },
    {
     "name": "stderr",
     "output_type": "stream",
     "text": [
      "100%|██████████| 18/18 [00:02<00:00,  7.39it/s]\n",
      "  5%|▍         | 1/22 [00:00<00:03,  6.72it/s]"
     ]
    },
    {
     "name": "stdout",
     "output_type": "stream",
     "text": [
      "9 (5380, 7)\n"
     ]
    },
    {
     "name": "stderr",
     "output_type": "stream",
     "text": [
      "100%|██████████| 22/22 [00:02<00:00,  7.71it/s]\n",
      " 50%|█████     | 1/2 [00:00<00:00,  7.47it/s]"
     ]
    },
    {
     "name": "stdout",
     "output_type": "stream",
     "text": [
      "10 (450, 7)\n"
     ]
    },
    {
     "name": "stderr",
     "output_type": "stream",
     "text": [
      "100%|██████████| 2/2 [00:00<00:00,  8.34it/s]\n",
      "100%|██████████| 1/1 [00:00<00:00, 11.65it/s]\n",
      "100%|██████████| 1/1 [00:00<00:00, 36.96it/s]\n",
      "  0%|          | 0/1 [00:00<?, ?it/s]"
     ]
    },
    {
     "name": "stdout",
     "output_type": "stream",
     "text": [
      "No columns to parse from file\n",
      "12 (149, 7)\n",
      "13 (32, 7)\n",
      "14 (187, 7)\n"
     ]
    },
    {
     "name": "stderr",
     "output_type": "stream",
     "text": [
      "100%|██████████| 1/1 [00:00<00:00,  8.77it/s]\n",
      " 10%|█         | 1/10 [00:00<00:01,  6.36it/s]"
     ]
    },
    {
     "name": "stdout",
     "output_type": "stream",
     "text": [
      "15 (2422, 7)\n"
     ]
    },
    {
     "name": "stderr",
     "output_type": "stream",
     "text": [
      "100%|██████████| 10/10 [00:01<00:00,  6.86it/s]\n",
      "100%|██████████| 1/1 [00:00<00:00, 60.56it/s]\n",
      "100%|██████████| 1/1 [00:00<00:00, 26.95it/s]\n",
      "100%|██████████| 1/1 [00:00<00:00, 14.40it/s]\n",
      "  0%|          | 0/21 [00:00<?, ?it/s]"
     ]
    },
    {
     "name": "stdout",
     "output_type": "stream",
     "text": [
      "16 (8, 7)\n",
      "17 (44, 7)\n",
      "18 (108, 7)\n",
      "19 (5140, 7)\n"
     ]
    },
    {
     "name": "stderr",
     "output_type": "stream",
     "text": [
      "100%|██████████| 21/21 [00:02<00:00,  7.30it/s]\n",
      "100%|██████████| 1/1 [00:00<00:00, 55.40it/s]\n",
      "100%|██████████| 1/1 [00:00<00:00, 11.20it/s]\n",
      "  0%|          | 0/3 [00:00<?, ?it/s]"
     ]
    },
    {
     "name": "stdout",
     "output_type": "stream",
     "text": [
      "20 (10, 7)\n",
      "21 (154, 7)\n",
      "22 (680, 7)\n"
     ]
    },
    {
     "name": "stderr",
     "output_type": "stream",
     "text": [
      "100%|██████████| 3/3 [00:00<00:00,  7.23it/s]\n",
      "/home/bakirillov/HDD/works/Skoltech/CRISPR_CAD/uace/src/core.py:966: RuntimeWarning: invalid value encountered in true_divide\n",
      "  self.S[self.label_column]\n",
      "100%|██████████| 1/1 [00:00<00:00, 48.73it/s]\n",
      "100%|██████████| 1/1 [00:00<00:00,  6.80it/s]\n",
      "  0%|          | 0/6 [00:00<?, ?it/s]"
     ]
    },
    {
     "name": "stdout",
     "output_type": "stream",
     "text": [
      "23 (12, 7)\n",
      "24 (217, 7)\n",
      "25 (1428, 7)\n"
     ]
    },
    {
     "name": "stderr",
     "output_type": "stream",
     "text": [
      "100%|██████████| 6/6 [00:00<00:00,  7.83it/s]\n",
      "100%|██████████| 1/1 [00:00<00:00, 40.76it/s]\n",
      " 50%|█████     | 1/2 [00:00<00:00,  6.98it/s]"
     ]
    },
    {
     "name": "stdout",
     "output_type": "stream",
     "text": [
      "26 (19, 7)\n",
      "27 (466, 7)\n"
     ]
    },
    {
     "name": "stderr",
     "output_type": "stream",
     "text": [
      "100%|██████████| 2/2 [00:00<00:00,  7.66it/s]\n",
      "100%|██████████| 1/1 [00:00<00:00, 68.28it/s]\n",
      "100%|██████████| 1/1 [00:00<00:00, 21.43it/s]\n",
      "  0%|          | 0/15 [00:00<?, ?it/s]"
     ]
    },
    {
     "name": "stdout",
     "output_type": "stream",
     "text": [
      "28 (7, 7)\n",
      "29 (76, 7)\n",
      "30 (3732, 7)\n"
     ]
    },
    {
     "name": "stderr",
     "output_type": "stream",
     "text": [
      "100%|██████████| 15/15 [00:02<00:00,  7.33it/s]\n",
      "  3%|▎         | 1/34 [00:00<00:04,  7.11it/s]"
     ]
    },
    {
     "name": "stdout",
     "output_type": "stream",
     "text": [
      "31 (8655, 7)\n"
     ]
    },
    {
     "name": "stderr",
     "output_type": "stream",
     "text": [
      "100%|██████████| 34/34 [00:04<00:00,  7.26it/s]\n",
      " 33%|███▎      | 1/3 [00:00<00:00,  6.90it/s]"
     ]
    },
    {
     "name": "stdout",
     "output_type": "stream",
     "text": [
      "32 (573, 7)\n"
     ]
    },
    {
     "name": "stderr",
     "output_type": "stream",
     "text": [
      "100%|██████████| 3/3 [00:00<00:00,  9.14it/s]\n",
      " 14%|█▍        | 1/7 [00:00<00:00,  7.42it/s]"
     ]
    },
    {
     "name": "stdout",
     "output_type": "stream",
     "text": [
      "33 (1765, 7)\n"
     ]
    },
    {
     "name": "stderr",
     "output_type": "stream",
     "text": [
      "100%|██████████| 7/7 [00:00<00:00,  7.46it/s]\n",
      "100%|██████████| 1/1 [00:00<00:00, 57.30it/s]\n",
      "  6%|▌         | 1/18 [00:00<00:02,  7.26it/s]"
     ]
    },
    {
     "name": "stdout",
     "output_type": "stream",
     "text": [
      "34 (12, 7)\n",
      "35 (4548, 7)\n"
     ]
    },
    {
     "name": "stderr",
     "output_type": "stream",
     "text": [
      "100%|██████████| 18/18 [00:02<00:00,  7.36it/s]\n",
      " 33%|███▎      | 1/3 [00:00<00:00,  7.36it/s]"
     ]
    },
    {
     "name": "stdout",
     "output_type": "stream",
     "text": [
      "36 (608, 7)\n"
     ]
    },
    {
     "name": "stderr",
     "output_type": "stream",
     "text": [
      "100%|██████████| 3/3 [00:00<00:00,  8.94it/s]\n",
      "100%|██████████| 1/1 [00:00<00:00, 33.15it/s]\n",
      "100%|██████████| 1/1 [00:00<00:00,  9.19it/s]\n",
      "  0%|          | 0/9 [00:00<?, ?it/s]"
     ]
    },
    {
     "name": "stdout",
     "output_type": "stream",
     "text": [
      "37 (41, 7)\n",
      "38 (202, 7)\n",
      "39 (2105, 7)\n"
     ]
    },
    {
     "name": "stderr",
     "output_type": "stream",
     "text": [
      "100%|██████████| 9/9 [00:01<00:00,  7.74it/s]\n",
      "100%|██████████| 1/1 [00:00<00:00, 10.09it/s]\n",
      "100%|██████████| 1/1 [00:00<00:00, 62.06it/s]\n",
      "100%|██████████| 1/1 [00:00<00:00, 21.69it/s]\n",
      "  0%|          | 0/1 [00:00<?, ?it/s]"
     ]
    },
    {
     "name": "stdout",
     "output_type": "stream",
     "text": [
      "40 (160, 7)\n",
      "41 (8, 7)\n",
      "42 (75, 7)\n",
      "43 (163, 7)\n"
     ]
    },
    {
     "name": "stderr",
     "output_type": "stream",
     "text": [
      "100%|██████████| 1/1 [00:00<00:00, 11.59it/s]\n",
      "100%|██████████| 1/1 [00:00<00:00, 10.69it/s]\n",
      "100%|██████████| 1/1 [00:00<00:00, 14.80it/s]\n",
      "  0%|          | 0/6 [00:00<?, ?it/s]"
     ]
    },
    {
     "name": "stdout",
     "output_type": "stream",
     "text": [
      "44 (169, 7)\n",
      "45 (119, 7)\n",
      "46 (1487, 7)\n"
     ]
    },
    {
     "name": "stderr",
     "output_type": "stream",
     "text": [
      "100%|██████████| 6/6 [00:00<00:00,  7.76it/s]\n",
      "100%|██████████| 1/1 [00:00<00:00, 46.25it/s]\n",
      " 50%|█████     | 1/2 [00:00<00:00,  7.52it/s]"
     ]
    },
    {
     "name": "stdout",
     "output_type": "stream",
     "text": [
      "47 (23, 7)\n",
      "48 (421, 7)\n"
     ]
    },
    {
     "name": "stderr",
     "output_type": "stream",
     "text": [
      "100%|██████████| 2/2 [00:00<00:00,  8.94it/s]\n",
      " 25%|██▌       | 1/4 [00:00<00:00,  7.66it/s]"
     ]
    },
    {
     "name": "stdout",
     "output_type": "stream",
     "text": [
      "49 (918, 7)\n"
     ]
    },
    {
     "name": "stderr",
     "output_type": "stream",
     "text": [
      "100%|██████████| 4/4 [00:00<00:00,  8.42it/s]\n",
      " 33%|███▎      | 1/3 [00:00<00:00,  7.51it/s]"
     ]
    },
    {
     "name": "stdout",
     "output_type": "stream",
     "text": [
      "50 (639, 7)\n"
     ]
    },
    {
     "name": "stderr",
     "output_type": "stream",
     "text": [
      "100%|██████████| 3/3 [00:00<00:00,  8.88it/s]\n",
      "100%|██████████| 1/1 [00:00<00:00, 15.16it/s]\n",
      "100%|██████████| 1/1 [00:00<00:00, 38.31it/s]\n",
      "100%|██████████| 1/1 [00:00<00:00, 50.04it/s]\n",
      "100%|██████████| 1/1 [00:00<00:00, 37.63it/s]\n",
      "  0%|          | 0/2 [00:00<?, ?it/s]"
     ]
    },
    {
     "name": "stdout",
     "output_type": "stream",
     "text": [
      "No columns to parse from file\n",
      "52 (115, 7)\n",
      "53 (30, 7)\n",
      "54 (15, 7)\n",
      "55 (30, 7)\n",
      "56 (310, 7)\n"
     ]
    },
    {
     "name": "stderr",
     "output_type": "stream",
     "text": [
      "100%|██████████| 2/2 [00:00<00:00, 11.26it/s]\n",
      " 33%|███▎      | 1/3 [00:00<00:00,  7.38it/s]"
     ]
    },
    {
     "name": "stdout",
     "output_type": "stream",
     "text": [
      "57 (655, 7)\n"
     ]
    },
    {
     "name": "stderr",
     "output_type": "stream",
     "text": [
      "100%|██████████| 3/3 [00:00<00:00,  8.49it/s]\n",
      "100%|██████████| 1/1 [00:00<00:00, 68.49it/s]\n",
      "100%|██████████| 1/1 [00:00<00:00, 24.65it/s]\n",
      "100%|██████████| 1/1 [00:00<00:00, 48.29it/s]\n",
      "  0%|          | 0/7 [00:00<?, ?it/s]"
     ]
    },
    {
     "name": "stdout",
     "output_type": "stream",
     "text": [
      "58 (5, 7)\n",
      "59 (60, 7)\n",
      "No columns to parse from file\n",
      "61 (19, 7)\n",
      "62 (1544, 7)\n"
     ]
    },
    {
     "name": "stderr",
     "output_type": "stream",
     "text": [
      "100%|██████████| 7/7 [00:00<00:00,  8.55it/s]\n",
      "100%|██████████| 1/1 [00:00<00:00, 18.22it/s]\n",
      "100%|██████████| 1/1 [00:00<00:00, 87.16it/s]\n",
      "  0%|          | 0/11 [00:00<?, ?it/s]"
     ]
    },
    {
     "name": "stdout",
     "output_type": "stream",
     "text": [
      "63 (89, 7)\n",
      "64 (1, 7)\n",
      "65 (2756, 7)\n"
     ]
    },
    {
     "name": "stderr",
     "output_type": "stream",
     "text": [
      "100%|██████████| 11/11 [00:01<00:00,  7.33it/s]\n",
      "100%|██████████| 1/1 [00:00<00:00, 33.63it/s]\n",
      "100%|██████████| 1/1 [00:00<00:00, 39.08it/s]\n",
      "100%|██████████| 1/1 [00:00<00:00, 34.82it/s]\n",
      "  0%|          | 0/1 [00:00<?, ?it/s]"
     ]
    },
    {
     "name": "stdout",
     "output_type": "stream",
     "text": [
      "66 (31, 7)\n",
      "67 (23, 7)\n",
      "68 (36, 7)\n",
      "69 (128, 7)\n"
     ]
    },
    {
     "name": "stderr",
     "output_type": "stream",
     "text": [
      "100%|██████████| 1/1 [00:00<00:00, 12.24it/s]\n",
      " 25%|██▌       | 1/4 [00:00<00:00,  6.75it/s]"
     ]
    },
    {
     "name": "stdout",
     "output_type": "stream",
     "text": [
      "70 (803, 7)\n"
     ]
    },
    {
     "name": "stderr",
     "output_type": "stream",
     "text": [
      "100%|██████████| 4/4 [00:00<00:00,  8.22it/s]\n",
      " 25%|██▌       | 1/4 [00:00<00:00,  6.59it/s]"
     ]
    },
    {
     "name": "stdout",
     "output_type": "stream",
     "text": [
      "71 (831, 7)\n"
     ]
    },
    {
     "name": "stderr",
     "output_type": "stream",
     "text": [
      "100%|██████████| 4/4 [00:00<00:00,  7.78it/s]\n",
      "100%|██████████| 1/1 [00:00<00:00, 50.67it/s]\n",
      " 25%|██▌       | 1/4 [00:00<00:00,  7.60it/s]"
     ]
    },
    {
     "name": "stdout",
     "output_type": "stream",
     "text": [
      "72 (15, 7)\n",
      "73 (782, 7)\n"
     ]
    },
    {
     "name": "stderr",
     "output_type": "stream",
     "text": [
      "100%|██████████| 4/4 [00:00<00:00,  9.75it/s]\n",
      " 14%|█▍        | 1/7 [00:00<00:00,  7.51it/s]"
     ]
    },
    {
     "name": "stdout",
     "output_type": "stream",
     "text": [
      "74 (1694, 7)\n"
     ]
    },
    {
     "name": "stderr",
     "output_type": "stream",
     "text": [
      "100%|██████████| 7/7 [00:00<00:00,  7.85it/s]\n",
      " 14%|█▍        | 1/7 [00:00<00:00,  7.46it/s]"
     ]
    },
    {
     "name": "stdout",
     "output_type": "stream",
     "text": [
      "75 (1792, 7)\n"
     ]
    },
    {
     "name": "stderr",
     "output_type": "stream",
     "text": [
      "100%|██████████| 7/7 [00:00<00:00,  7.34it/s]\n",
      " 33%|███▎      | 1/3 [00:00<00:00,  7.68it/s]"
     ]
    },
    {
     "name": "stdout",
     "output_type": "stream",
     "text": [
      "76 (626, 7)\n"
     ]
    },
    {
     "name": "stderr",
     "output_type": "stream",
     "text": [
      "100%|██████████| 3/3 [00:00<00:00,  8.78it/s]\n",
      "100%|██████████| 1/1 [00:00<00:00, 33.57it/s]\n",
      "100%|██████████| 1/1 [00:00<00:00, 61.46it/s]\n",
      "100%|██████████| 1/1 [00:00<00:00, 55.88it/s]\n",
      "  0%|          | 0/4 [00:00<?, ?it/s]"
     ]
    },
    {
     "name": "stdout",
     "output_type": "stream",
     "text": [
      "77 (41, 7)\n",
      "78 (12, 7)\n",
      "79 (15, 7)\n",
      "80 (888, 7)\n"
     ]
    },
    {
     "name": "stderr",
     "output_type": "stream",
     "text": [
      "100%|██████████| 4/4 [00:00<00:00,  8.51it/s]\n",
      "100%|██████████| 1/1 [00:00<00:00, 30.81it/s]\n",
      "100%|██████████| 1/1 [00:00<00:00, 61.05it/s]\n",
      "  0%|          | 0/2 [00:00<?, ?it/s]"
     ]
    },
    {
     "name": "stdout",
     "output_type": "stream",
     "text": [
      "81 (42, 7)\n",
      "82 (11, 7)\n",
      "83 (344, 7)\n"
     ]
    },
    {
     "name": "stderr",
     "output_type": "stream",
     "text": [
      "100%|██████████| 2/2 [00:00<00:00, 10.40it/s]\n",
      "100%|██████████| 1/1 [00:00<00:00, 55.02it/s]\n",
      " 25%|██▌       | 1/4 [00:00<00:00,  7.50it/s]"
     ]
    },
    {
     "name": "stdout",
     "output_type": "stream",
     "text": [
      "84 (13, 7)\n",
      "85 (987, 7)\n"
     ]
    },
    {
     "name": "stderr",
     "output_type": "stream",
     "text": [
      "100%|██████████| 4/4 [00:00<00:00,  7.21it/s]\n",
      "100%|██████████| 1/1 [00:00<00:00, 36.32it/s]\n",
      "100%|██████████| 1/1 [00:00<00:00, 52.95it/s]\n",
      "100%|██████████| 1/1 [00:00<00:00,  9.51it/s]\n",
      "  0%|          | 0/1 [00:00<?, ?it/s]"
     ]
    },
    {
     "name": "stdout",
     "output_type": "stream",
     "text": [
      "86 (34, 7)\n",
      "87 (14, 7)\n",
      "88 (186, 7)\n",
      "89 (143, 7)\n"
     ]
    },
    {
     "name": "stderr",
     "output_type": "stream",
     "text": [
      "100%|██████████| 1/1 [00:00<00:00, 11.73it/s]\n",
      " 25%|██▌       | 1/4 [00:00<00:00,  7.17it/s]"
     ]
    },
    {
     "name": "stdout",
     "output_type": "stream",
     "text": [
      "90 (922, 7)\n"
     ]
    },
    {
     "name": "stderr",
     "output_type": "stream",
     "text": [
      "100%|██████████| 4/4 [00:00<00:00,  7.81it/s]\n",
      "100%|██████████| 1/1 [00:00<00:00, 49.19it/s]\n",
      " 25%|██▌       | 1/4 [00:00<00:00,  7.23it/s]"
     ]
    },
    {
     "name": "stdout",
     "output_type": "stream",
     "text": [
      "91 (16, 7)\n",
      "92 (969, 7)\n"
     ]
    },
    {
     "name": "stderr",
     "output_type": "stream",
     "text": [
      "100%|██████████| 4/4 [00:00<00:00,  7.51it/s]\n",
      " 33%|███▎      | 1/3 [00:00<00:00,  7.03it/s]"
     ]
    },
    {
     "name": "stdout",
     "output_type": "stream",
     "text": [
      "93 (518, 7)\n"
     ]
    },
    {
     "name": "stderr",
     "output_type": "stream",
     "text": [
      "100%|██████████| 3/3 [00:00<00:00, 10.07it/s]\n",
      " 20%|██        | 1/5 [00:00<00:00,  7.20it/s]"
     ]
    },
    {
     "name": "stdout",
     "output_type": "stream",
     "text": [
      "94 (1255, 7)\n"
     ]
    },
    {
     "name": "stderr",
     "output_type": "stream",
     "text": [
      "100%|██████████| 5/5 [00:00<00:00,  6.98it/s]\n",
      "100%|██████████| 1/1 [00:00<00:00, 48.24it/s]\n",
      "100%|██████████| 1/1 [00:00<00:00, 10.20it/s]\n",
      "  0%|          | 0/1 [00:00<?, ?it/s]"
     ]
    },
    {
     "name": "stdout",
     "output_type": "stream",
     "text": [
      "95 (13, 7)\n",
      "96 (149, 7)\n",
      "97 (143, 7)\n"
     ]
    },
    {
     "name": "stderr",
     "output_type": "stream",
     "text": [
      "100%|██████████| 1/1 [00:00<00:00, 10.56it/s]\n",
      "100%|██████████| 2/2 [00:00<00:00, 11.12it/s]\n",
      "  0%|          | 0/1 [00:00<?, ?it/s]"
     ]
    },
    {
     "name": "stdout",
     "output_type": "stream",
     "text": [
      "98 (306, 7)\n",
      "99 (47, 7)\n"
     ]
    },
    {
     "name": "stderr",
     "output_type": "stream",
     "text": [
      "100%|██████████| 1/1 [00:00<00:00, 27.73it/s]\n",
      "100%|██████████| 1/1 [00:00<00:00, 10.51it/s]\n",
      "100%|██████████| 1/1 [00:00<00:00, 52.31it/s]\n",
      "  0%|          | 0/4 [00:00<?, ?it/s]"
     ]
    },
    {
     "name": "stdout",
     "output_type": "stream",
     "text": [
      "100 (163, 7)\n",
      "101 (14, 7)\n",
      "102 (913, 7)\n"
     ]
    },
    {
     "name": "stderr",
     "output_type": "stream",
     "text": [
      "100%|██████████| 4/4 [00:00<00:00,  7.66it/s]\n",
      "  6%|▌         | 1/18 [00:00<00:02,  7.58it/s]"
     ]
    },
    {
     "name": "stdout",
     "output_type": "stream",
     "text": [
      "103 (4411, 7)\n"
     ]
    },
    {
     "name": "stderr",
     "output_type": "stream",
     "text": [
      "100%|██████████| 18/18 [00:02<00:00,  7.81it/s]\n",
      "  9%|▉         | 1/11 [00:00<00:01,  7.51it/s]"
     ]
    },
    {
     "name": "stdout",
     "output_type": "stream",
     "text": [
      "104 (2584, 7)\n"
     ]
    },
    {
     "name": "stderr",
     "output_type": "stream",
     "text": [
      "100%|██████████| 11/11 [00:01<00:00,  7.15it/s]\n",
      "100%|██████████| 1/1 [00:00<00:00, 31.93it/s]\n",
      "  0%|          | 0/8 [00:00<?, ?it/s]"
     ]
    },
    {
     "name": "stdout",
     "output_type": "stream",
     "text": [
      "105 (36, 7)\n",
      "106 (1950, 7)\n"
     ]
    },
    {
     "name": "stderr",
     "output_type": "stream",
     "text": [
      "100%|██████████| 8/8 [00:01<00:00,  6.21it/s]\n",
      "/home/bakirillov/HDD/works/Skoltech/CRISPR_CAD/uace/src/core.py:966: RuntimeWarning: invalid value encountered in true_divide\n",
      "  self.S[self.label_column]\n",
      "100%|██████████| 1/1 [00:00<00:00, 74.18it/s]\n",
      " 33%|███▎      | 1/3 [00:00<00:00,  6.61it/s]"
     ]
    },
    {
     "name": "stdout",
     "output_type": "stream",
     "text": [
      "107 (6, 7)\n",
      "108 (751, 7)\n"
     ]
    },
    {
     "name": "stderr",
     "output_type": "stream",
     "text": [
      "100%|██████████| 3/3 [00:00<00:00,  6.88it/s]\n",
      "100%|██████████| 1/1 [00:00<00:00,  9.01it/s]\n",
      "  0%|          | 0/3 [00:00<?, ?it/s]"
     ]
    },
    {
     "name": "stdout",
     "output_type": "stream",
     "text": [
      "109 (196, 7)\n",
      "110 (558, 7)\n"
     ]
    },
    {
     "name": "stderr",
     "output_type": "stream",
     "text": [
      "100%|██████████| 3/3 [00:00<00:00,  9.38it/s]\n",
      "100%|██████████| 1/1 [00:00<00:00, 43.11it/s]\n",
      "100%|██████████| 1/1 [00:00<00:00, 16.67it/s]\n",
      "  0%|          | 0/4 [00:00<?, ?it/s]"
     ]
    },
    {
     "name": "stdout",
     "output_type": "stream",
     "text": [
      "111 (20, 7)\n",
      "112 (90, 7)\n",
      "113 (806, 7)\n"
     ]
    },
    {
     "name": "stderr",
     "output_type": "stream",
     "text": [
      "100%|██████████| 4/4 [00:00<00:00,  8.36it/s]\n",
      "100%|██████████| 1/1 [00:00<00:00, 48.62it/s]\n",
      "100%|██████████| 1/1 [00:00<00:00, 28.67it/s]\n",
      "100%|██████████| 1/1 [00:00<00:00, 36.29it/s]\n",
      "/home/bakirillov/HDD/works/Skoltech/CRISPR_CAD/uace/src/core.py:966: RuntimeWarning: invalid value encountered in true_divide\n",
      "  self.S[self.label_column]\n",
      "100%|██████████| 1/1 [00:00<00:00, 66.40it/s]\n",
      "100%|██████████| 1/1 [00:00<00:00, 90.06it/s]\n",
      "100%|██████████| 1/1 [00:00<00:00, 52.47it/s]\n",
      "  0%|          | 0/36 [00:00<?, ?it/s]"
     ]
    },
    {
     "name": "stdout",
     "output_type": "stream",
     "text": [
      "114 (21, 7)\n",
      "115 (49, 7)\n",
      "116 (34, 7)\n",
      "117 (6, 7)\n",
      "No columns to parse from file\n",
      "119 (1, 7)\n",
      "120 (15, 7)\n",
      "121 (9148, 7)\n"
     ]
    },
    {
     "name": "stderr",
     "output_type": "stream",
     "text": [
      "100%|██████████| 36/36 [00:05<00:00,  7.12it/s]\n",
      " 17%|█▋        | 1/6 [00:00<00:00,  7.00it/s]"
     ]
    },
    {
     "name": "stdout",
     "output_type": "stream",
     "text": [
      "No columns to parse from file\n",
      "123 (1400, 7)\n"
     ]
    },
    {
     "name": "stderr",
     "output_type": "stream",
     "text": [
      "100%|██████████| 6/6 [00:00<00:00,  7.77it/s]\n",
      " 33%|███▎      | 1/3 [00:00<00:00,  7.12it/s]"
     ]
    },
    {
     "name": "stdout",
     "output_type": "stream",
     "text": [
      "124 (674, 7)\n"
     ]
    },
    {
     "name": "stderr",
     "output_type": "stream",
     "text": [
      "100%|██████████| 3/3 [00:00<00:00,  8.02it/s]\n",
      "100%|██████████| 1/1 [00:00<00:00, 15.94it/s]\n",
      "  0%|          | 0/13 [00:00<?, ?it/s]"
     ]
    },
    {
     "name": "stdout",
     "output_type": "stream",
     "text": [
      "125 (105, 7)\n",
      "126 (3235, 7)\n"
     ]
    },
    {
     "name": "stderr",
     "output_type": "stream",
     "text": [
      "100%|██████████| 13/13 [00:01<00:00,  7.43it/s]\n",
      " 25%|██▌       | 1/4 [00:00<00:00,  7.55it/s]"
     ]
    },
    {
     "name": "stdout",
     "output_type": "stream",
     "text": [
      "127 (934, 7)\n"
     ]
    },
    {
     "name": "stderr",
     "output_type": "stream",
     "text": [
      "100%|██████████| 4/4 [00:00<00:00,  7.90it/s]\n",
      "100%|██████████| 1/1 [00:00<00:00, 38.26it/s]\n",
      " 17%|█▋        | 1/6 [00:00<00:00,  7.57it/s]"
     ]
    },
    {
     "name": "stdout",
     "output_type": "stream",
     "text": [
      "128 (33, 7)\n",
      "129 (1339, 7)\n"
     ]
    },
    {
     "name": "stderr",
     "output_type": "stream",
     "text": [
      "100%|██████████| 6/6 [00:00<00:00,  8.65it/s]\n",
      "100%|██████████| 2/2 [00:00<00:00, 12.92it/s]\n",
      "  0%|          | 0/3 [00:00<?, ?it/s]"
     ]
    },
    {
     "name": "stdout",
     "output_type": "stream",
     "text": [
      "130 (288, 7)\n",
      "131 (551, 7)\n"
     ]
    },
    {
     "name": "stderr",
     "output_type": "stream",
     "text": [
      "100%|██████████| 3/3 [00:00<00:00, 10.37it/s]\n",
      "100%|██████████| 2/2 [00:00<00:00, 12.25it/s]\n",
      "  0%|          | 0/1 [00:00<?, ?it/s]"
     ]
    },
    {
     "name": "stdout",
     "output_type": "stream",
     "text": [
      "132 (308, 7)\n",
      "133 (41, 7)\n"
     ]
    },
    {
     "name": "stderr",
     "output_type": "stream",
     "text": [
      "100%|██████████| 1/1 [00:00<00:00, 33.51it/s]\n",
      " 14%|█▍        | 1/7 [00:00<00:00,  7.69it/s]"
     ]
    },
    {
     "name": "stdout",
     "output_type": "stream",
     "text": [
      "134 (1599, 7)\n"
     ]
    },
    {
     "name": "stderr",
     "output_type": "stream",
     "text": [
      "100%|██████████| 7/7 [00:00<00:00,  8.46it/s]\n",
      "  3%|▎         | 1/38 [00:00<00:05,  7.23it/s]"
     ]
    },
    {
     "name": "stdout",
     "output_type": "stream",
     "text": [
      "135 (9548, 7)\n"
     ]
    },
    {
     "name": "stderr",
     "output_type": "stream",
     "text": [
      "100%|██████████| 38/38 [00:05<00:00,  7.34it/s]\n",
      " 33%|███▎      | 1/3 [00:00<00:00,  6.99it/s]"
     ]
    },
    {
     "name": "stdout",
     "output_type": "stream",
     "text": [
      "136 (663, 7)\n"
     ]
    },
    {
     "name": "stderr",
     "output_type": "stream",
     "text": [
      "100%|██████████| 3/3 [00:00<00:00,  7.88it/s]\n",
      "  8%|▊         | 1/12 [00:00<00:01,  7.55it/s]"
     ]
    },
    {
     "name": "stdout",
     "output_type": "stream",
     "text": [
      "137 (2988, 7)\n"
     ]
    },
    {
     "name": "stderr",
     "output_type": "stream",
     "text": [
      "100%|██████████| 12/12 [00:01<00:00,  7.53it/s]\n",
      "100%|██████████| 1/1 [00:00<00:00, 12.16it/s]\n",
      "100%|██████████| 1/1 [00:00<00:00, 37.87it/s]\n",
      "100%|██████████| 1/1 [00:00<00:00, 56.39it/s]\n",
      "  0%|          | 0/3 [00:00<?, ?it/s]"
     ]
    },
    {
     "name": "stdout",
     "output_type": "stream",
     "text": [
      "138 (146, 7)\n",
      "139 (32, 7)\n",
      "140 (11, 7)\n",
      "141 (768, 7)\n"
     ]
    },
    {
     "name": "stderr",
     "output_type": "stream",
     "text": [
      "100%|██████████| 3/3 [00:00<00:00,  7.33it/s]\n",
      "100%|██████████| 1/1 [00:00<00:00, 22.64it/s]\n",
      "100%|██████████| 1/1 [00:00<00:00, 37.25it/s]\n",
      "100%|██████████| 1/1 [00:00<00:00, 18.83it/s]\n",
      "100%|██████████| 1/1 [00:00<00:00, 54.72it/s]\n",
      "100%|██████████| 1/1 [00:00<00:00, 79.67it/s]\n",
      "  0%|          | 0/1 [00:00<?, ?it/s]"
     ]
    },
    {
     "name": "stdout",
     "output_type": "stream",
     "text": [
      "142 (70, 7)\n",
      "No columns to parse from file\n",
      "144 (34, 7)\n",
      "145 (87, 7)\n",
      "146 (14, 7)\n",
      "147 (3, 7)\n",
      "148 (21, 7)\n"
     ]
    },
    {
     "name": "stderr",
     "output_type": "stream",
     "text": [
      "100%|██████████| 1/1 [00:00<00:00, 44.94it/s]\n",
      "100%|██████████| 1/1 [00:00<00:00, 55.66it/s]\n",
      " 25%|██▌       | 1/4 [00:00<00:00,  6.95it/s]"
     ]
    },
    {
     "name": "stdout",
     "output_type": "stream",
     "text": [
      "149 (12, 7)\n",
      "150 (806, 7)\n"
     ]
    },
    {
     "name": "stderr",
     "output_type": "stream",
     "text": [
      "100%|██████████| 4/4 [00:00<00:00,  8.65it/s]\n",
      "100%|██████████| 1/1 [00:00<00:00, 28.81it/s]\n",
      "100%|██████████| 1/1 [00:00<00:00, 36.71it/s]\n",
      "100%|██████████| 1/1 [00:00<00:00, 17.63it/s]\n",
      "100%|██████████| 1/1 [00:00<00:00, 34.29it/s]\n",
      "  0%|          | 0/3 [00:00<?, ?it/s]"
     ]
    },
    {
     "name": "stdout",
     "output_type": "stream",
     "text": [
      "151 (46, 7)\n",
      "152 (32, 7)\n",
      "153 (90, 7)\n",
      "154 (35, 7)\n",
      "155 (529, 7)\n"
     ]
    },
    {
     "name": "stderr",
     "output_type": "stream",
     "text": [
      "100%|██████████| 3/3 [00:00<00:00,  9.75it/s]\n",
      "100%|██████████| 2/2 [00:00<00:00, 10.72it/s]\n"
     ]
    },
    {
     "name": "stdout",
     "output_type": "stream",
     "text": [
      "156 (338, 7)\n",
      "157 (1384, 7)\n"
     ]
    },
    {
     "name": "stderr",
     "output_type": "stream",
     "text": [
      "100%|██████████| 6/6 [00:00<00:00,  8.18it/s]\n",
      "100%|██████████| 2/2 [00:00<00:00, 12.83it/s]\n",
      "  0%|          | 0/12 [00:00<?, ?it/s]"
     ]
    },
    {
     "name": "stdout",
     "output_type": "stream",
     "text": [
      "158 (278, 7)\n",
      "159 (2859, 7)\n"
     ]
    },
    {
     "name": "stderr",
     "output_type": "stream",
     "text": [
      "100%|██████████| 12/12 [00:01<00:00,  7.92it/s]\n",
      "  8%|▊         | 1/12 [00:00<00:01,  7.46it/s]"
     ]
    },
    {
     "name": "stdout",
     "output_type": "stream",
     "text": [
      "160 (2904, 7)\n"
     ]
    },
    {
     "name": "stderr",
     "output_type": "stream",
     "text": [
      "100%|██████████| 12/12 [00:01<00:00,  7.65it/s]\n",
      "100%|██████████| 1/1 [00:00<00:00,  8.92it/s]\n",
      "/home/bakirillov/HDD/works/Skoltech/CRISPR_CAD/uace/src/core.py:966: RuntimeWarning: invalid value encountered in true_divide\n",
      "  self.S[self.label_column]\n",
      "100%|██████████| 1/1 [00:00<00:00, 63.46it/s]\n",
      "  0%|          | 0/1 [00:00<?, ?it/s]"
     ]
    },
    {
     "name": "stdout",
     "output_type": "stream",
     "text": [
      "161 (199, 7)\n",
      "162 (6, 7)\n",
      "163 (193, 7)\n"
     ]
    },
    {
     "name": "stderr",
     "output_type": "stream",
     "text": [
      "100%|██████████| 1/1 [00:00<00:00,  9.31it/s]\n",
      " 50%|█████     | 1/2 [00:00<00:00,  7.01it/s]"
     ]
    },
    {
     "name": "stdout",
     "output_type": "stream",
     "text": [
      "164 (359, 7)\n"
     ]
    },
    {
     "name": "stderr",
     "output_type": "stream",
     "text": [
      "100%|██████████| 2/2 [00:00<00:00,  9.60it/s]\n",
      "100%|██████████| 1/1 [00:00<00:00, 19.63it/s]\n",
      "  0%|          | 0/13 [00:00<?, ?it/s]"
     ]
    },
    {
     "name": "stdout",
     "output_type": "stream",
     "text": [
      "165 (81, 7)\n",
      "166 (3074, 7)\n"
     ]
    },
    {
     "name": "stderr",
     "output_type": "stream",
     "text": [
      "100%|██████████| 13/13 [00:01<00:00,  7.81it/s]\n",
      "100%|██████████| 1/1 [00:00<00:00, 13.76it/s]\n",
      "  0%|          | 0/4 [00:00<?, ?it/s]"
     ]
    },
    {
     "name": "stdout",
     "output_type": "stream",
     "text": [
      "167 (128, 7)\n",
      "168 (891, 7)\n"
     ]
    },
    {
     "name": "stderr",
     "output_type": "stream",
     "text": [
      "100%|██████████| 4/4 [00:00<00:00,  8.24it/s]\n",
      "100%|██████████| 1/1 [00:00<00:00, 13.70it/s]\n",
      "100%|██████████| 1/1 [00:00<00:00, 26.09it/s]\n",
      "100%|██████████| 1/1 [00:00<00:00, 14.50it/s]"
     ]
    },
    {
     "name": "stdout",
     "output_type": "stream",
     "text": [
      "169 (129, 7)\n",
      "170 (57, 7)\n",
      "171 (119, 7)\n"
     ]
    },
    {
     "name": "stderr",
     "output_type": "stream",
     "text": [
      "\n",
      "  2%|▏         | 1/58 [00:00<00:07,  7.45it/s]"
     ]
    },
    {
     "name": "stdout",
     "output_type": "stream",
     "text": [
      "172 (14670, 7)\n"
     ]
    },
    {
     "name": "stderr",
     "output_type": "stream",
     "text": [
      "100%|██████████| 58/58 [00:07<00:00,  7.28it/s]\n",
      "100%|██████████| 2/2 [00:00<00:00, 10.82it/s]"
     ]
    },
    {
     "name": "stdout",
     "output_type": "stream",
     "text": [
      "173 (309, 7)\n",
      "174 (1, 7)\n"
     ]
    },
    {
     "name": "stderr",
     "output_type": "stream",
     "text": [
      "\n",
      "100%|██████████| 1/1 [00:00<00:00, 79.51it/s]\n",
      " 50%|█████     | 1/2 [00:00<00:00,  7.05it/s]"
     ]
    },
    {
     "name": "stdout",
     "output_type": "stream",
     "text": [
      "175 (373, 7)\n"
     ]
    },
    {
     "name": "stderr",
     "output_type": "stream",
     "text": [
      "100%|██████████| 2/2 [00:00<00:00,  9.28it/s]\n",
      " 10%|█         | 1/10 [00:00<00:01,  7.52it/s]"
     ]
    },
    {
     "name": "stdout",
     "output_type": "stream",
     "text": [
      "176 (2550, 7)\n"
     ]
    },
    {
     "name": "stderr",
     "output_type": "stream",
     "text": [
      "100%|██████████| 10/10 [00:01<00:00,  7.28it/s]\n",
      " 33%|███▎      | 1/3 [00:00<00:00,  7.25it/s]"
     ]
    },
    {
     "name": "stdout",
     "output_type": "stream",
     "text": [
      "177 (673, 7)\n"
     ]
    },
    {
     "name": "stderr",
     "output_type": "stream",
     "text": [
      "100%|██████████| 3/3 [00:00<00:00,  8.15it/s]\n",
      "100%|██████████| 1/1 [00:00<00:00, 25.70it/s]\n",
      "100%|██████████| 1/1 [00:00<00:00, 34.51it/s]\n",
      "100%|██████████| 1/1 [00:00<00:00, 45.48it/s]\n",
      "  0%|          | 0/6 [00:00<?, ?it/s]"
     ]
    },
    {
     "name": "stdout",
     "output_type": "stream",
     "text": [
      "178 (56, 7)\n",
      "179 (36, 7)\n",
      "180 (21, 7)\n",
      "181 (1533, 7)\n"
     ]
    },
    {
     "name": "stderr",
     "output_type": "stream",
     "text": [
      "100%|██████████| 6/6 [00:00<00:00,  7.20it/s]\n",
      " 33%|███▎      | 1/3 [00:00<00:00,  7.42it/s]"
     ]
    },
    {
     "name": "stdout",
     "output_type": "stream",
     "text": [
      "182 (749, 7)\n"
     ]
    },
    {
     "name": "stderr",
     "output_type": "stream",
     "text": [
      "100%|██████████| 3/3 [00:00<00:00,  7.37it/s]\n",
      "/home/bakirillov/HDD/works/Skoltech/CRISPR_CAD/uace/src/core.py:966: RuntimeWarning: invalid value encountered in true_divide\n",
      "  self.S[self.label_column]\n",
      "100%|██████████| 1/1 [00:00<00:00, 66.34it/s]\n",
      " 17%|█▋        | 1/6 [00:00<00:00,  6.59it/s]"
     ]
    },
    {
     "name": "stdout",
     "output_type": "stream",
     "text": [
      "183 (6, 7)\n",
      "184 (1311, 7)\n"
     ]
    },
    {
     "name": "stderr",
     "output_type": "stream",
     "text": [
      "100%|██████████| 6/6 [00:00<00:00,  7.57it/s]\n",
      " 25%|██▌       | 1/4 [00:00<00:00,  7.32it/s]"
     ]
    },
    {
     "name": "stdout",
     "output_type": "stream",
     "text": [
      "185 (852, 7)\n"
     ]
    },
    {
     "name": "stderr",
     "output_type": "stream",
     "text": [
      "100%|██████████| 4/4 [00:00<00:00,  8.41it/s]\n",
      "  8%|▊         | 1/13 [00:00<00:01,  7.42it/s]"
     ]
    },
    {
     "name": "stdout",
     "output_type": "stream",
     "text": [
      "186 (3196, 7)\n"
     ]
    },
    {
     "name": "stderr",
     "output_type": "stream",
     "text": [
      "100%|██████████| 13/13 [00:01<00:00,  7.27it/s]\n",
      "  4%|▍         | 1/24 [00:00<00:03,  7.01it/s]"
     ]
    },
    {
     "name": "stdout",
     "output_type": "stream",
     "text": [
      "187 (5918, 7)\n"
     ]
    },
    {
     "name": "stderr",
     "output_type": "stream",
     "text": [
      "100%|██████████| 24/24 [00:03<00:00,  7.24it/s]\n",
      "100%|██████████| 1/1 [00:00<00:00, 26.40it/s]\n",
      " 20%|██        | 1/5 [00:00<00:00,  7.37it/s]"
     ]
    },
    {
     "name": "stdout",
     "output_type": "stream",
     "text": [
      "188 (54, 7)\n",
      "189 (1096, 7)\n"
     ]
    },
    {
     "name": "stderr",
     "output_type": "stream",
     "text": [
      "100%|██████████| 5/5 [00:00<00:00,  7.90it/s]\n",
      "100%|██████████| 1/1 [00:00<00:00,  7.61it/s]\n",
      "100%|██████████| 1/1 [00:00<00:00, 40.62it/s]\n",
      "  0%|          | 0/2 [00:00<?, ?it/s]"
     ]
    },
    {
     "name": "stdout",
     "output_type": "stream",
     "text": [
      "190 (178, 7)\n",
      "191 (22, 7)\n",
      "192 (444, 7)\n"
     ]
    },
    {
     "name": "stderr",
     "output_type": "stream",
     "text": [
      "100%|██████████| 2/2 [00:00<00:00,  7.78it/s]\n",
      "  3%|▎         | 1/29 [00:00<00:04,  6.96it/s]"
     ]
    },
    {
     "name": "stdout",
     "output_type": "stream",
     "text": [
      "193 (7398, 7)\n"
     ]
    },
    {
     "name": "stderr",
     "output_type": "stream",
     "text": [
      "100%|██████████| 29/29 [00:03<00:00,  7.27it/s]\n",
      " 33%|███▎      | 1/3 [00:00<00:00,  7.38it/s]"
     ]
    },
    {
     "name": "stdout",
     "output_type": "stream",
     "text": [
      "194 (615, 7)\n"
     ]
    },
    {
     "name": "stderr",
     "output_type": "stream",
     "text": [
      "100%|██████████| 3/3 [00:00<00:00,  8.96it/s]\n",
      "100%|██████████| 2/2 [00:00<00:00, 10.61it/s]"
     ]
    },
    {
     "name": "stdout",
     "output_type": "stream",
     "text": [
      "195 (337, 7)\n",
      "196 (77, 7)\n"
     ]
    },
    {
     "name": "stderr",
     "output_type": "stream",
     "text": [
      "\n",
      "100%|██████████| 1/1 [00:00<00:00, 19.90it/s]\n",
      "100%|██████████| 1/1 [00:00<00:00, 11.60it/s]\n",
      "  0%|          | 0/1 [00:00<?, ?it/s]"
     ]
    },
    {
     "name": "stdout",
     "output_type": "stream",
     "text": [
      "197 (150, 7)\n",
      "198 (187, 7)\n"
     ]
    },
    {
     "name": "stderr",
     "output_type": "stream",
     "text": [
      "100%|██████████| 1/1 [00:00<00:00,  9.21it/s]\n",
      " 50%|█████     | 1/2 [00:00<00:00,  6.99it/s]"
     ]
    },
    {
     "name": "stdout",
     "output_type": "stream",
     "text": [
      "199 (505, 7)\n"
     ]
    },
    {
     "name": "stderr",
     "output_type": "stream",
     "text": [
      "100%|██████████| 2/2 [00:00<00:00,  7.09it/s]\n",
      "100%|██████████| 1/1 [00:00<00:00, 54.96it/s]\n",
      "  5%|▌         | 1/20 [00:00<00:02,  7.13it/s]"
     ]
    },
    {
     "name": "stdout",
     "output_type": "stream",
     "text": [
      "200 (14, 7)\n",
      "201 (5108, 7)\n"
     ]
    },
    {
     "name": "stderr",
     "output_type": "stream",
     "text": [
      "100%|██████████| 20/20 [00:02<00:00,  7.08it/s]\n",
      "100%|██████████| 1/1 [00:00<00:00, 56.32it/s]\n",
      "  2%|▏         | 1/56 [00:00<00:07,  6.93it/s]"
     ]
    },
    {
     "name": "stdout",
     "output_type": "stream",
     "text": [
      "202 (11, 7)\n",
      "No columns to parse from file\n",
      "204 (14316, 7)\n"
     ]
    },
    {
     "name": "stderr",
     "output_type": "stream",
     "text": [
      "100%|██████████| 56/56 [00:07<00:00,  7.14it/s]\n",
      "  4%|▍         | 1/23 [00:00<00:03,  6.52it/s]"
     ]
    },
    {
     "name": "stdout",
     "output_type": "stream",
     "text": [
      "205 (5697, 7)\n"
     ]
    },
    {
     "name": "stderr",
     "output_type": "stream",
     "text": [
      "100%|██████████| 23/23 [00:03<00:00,  6.89it/s]\n",
      "100%|██████████| 1/1 [00:00<00:00, 57.69it/s]\n",
      "  5%|▌         | 1/19 [00:00<00:02,  7.02it/s]"
     ]
    },
    {
     "name": "stdout",
     "output_type": "stream",
     "text": [
      "206 (10, 7)\n",
      "207 (4852, 7)\n"
     ]
    },
    {
     "name": "stderr",
     "output_type": "stream",
     "text": [
      "100%|██████████| 19/19 [00:02<00:00,  7.02it/s]\n",
      "  8%|▊         | 1/13 [00:00<00:01,  7.39it/s]"
     ]
    },
    {
     "name": "stdout",
     "output_type": "stream",
     "text": [
      "208 (3230, 7)\n"
     ]
    },
    {
     "name": "stderr",
     "output_type": "stream",
     "text": [
      "100%|██████████| 13/13 [00:01<00:00,  7.25it/s]\n",
      "100%|██████████| 1/1 [00:00<00:00, 10.28it/s]\n",
      "  0%|          | 0/2 [00:00<?, ?it/s]"
     ]
    },
    {
     "name": "stdout",
     "output_type": "stream",
     "text": [
      "209 (165, 7)\n",
      "No columns to parse from file\n",
      "211 (390, 7)\n"
     ]
    },
    {
     "name": "stderr",
     "output_type": "stream",
     "text": [
      "100%|██████████| 2/2 [00:00<00:00,  8.86it/s]\n",
      "100%|██████████| 1/1 [00:00<00:00,  9.34it/s]\n",
      "100%|██████████| 1/1 [00:00<00:00, 41.00it/s]\n",
      "100%|██████████| 1/1 [00:00<00:00, 40.99it/s]\n",
      "  0%|          | 0/1 [00:00<?, ?it/s]"
     ]
    },
    {
     "name": "stdout",
     "output_type": "stream",
     "text": [
      "212 (186, 7)\n",
      "213 (26, 7)\n",
      "214 (25, 7)\n",
      "215 (92, 7)\n"
     ]
    },
    {
     "name": "stderr",
     "output_type": "stream",
     "text": [
      "100%|██████████| 1/1 [00:00<00:00, 17.27it/s]\n",
      "100%|██████████| 1/1 [00:00<00:00, 17.37it/s]\n",
      "100%|██████████| 1/1 [00:00<00:00, 48.20it/s]\n",
      "  0%|          | 0/17 [00:00<?, ?it/s]"
     ]
    },
    {
     "name": "stdout",
     "output_type": "stream",
     "text": [
      "216 (91, 7)\n",
      "217 (16, 7)\n",
      "218 (4197, 7)\n"
     ]
    },
    {
     "name": "stderr",
     "output_type": "stream",
     "text": [
      "100%|██████████| 17/17 [00:02<00:00,  7.26it/s]\n",
      "100%|██████████| 1/1 [00:00<00:00, 24.39it/s]\n",
      "  4%|▍         | 1/23 [00:00<00:03,  7.05it/s]"
     ]
    },
    {
     "name": "stdout",
     "output_type": "stream",
     "text": [
      "219 (57, 7)\n",
      "220 (5668, 7)\n"
     ]
    },
    {
     "name": "stderr",
     "output_type": "stream",
     "text": [
      "100%|██████████| 23/23 [00:03<00:00,  7.28it/s]\n",
      "100%|██████████| 1/1 [00:00<00:00, 35.36it/s]\n",
      "100%|██████████| 1/1 [00:00<00:00, 51.64it/s]\n",
      "100%|██████████| 1/1 [00:00<00:00, 54.76it/s]\n",
      "  0%|          | 0/20 [00:00<?, ?it/s]"
     ]
    },
    {
     "name": "stdout",
     "output_type": "stream",
     "text": [
      "221 (29, 7)\n",
      "222 (14, 7)\n",
      "223 (12, 7)\n",
      "224 (5099, 7)\n"
     ]
    },
    {
     "name": "stderr",
     "output_type": "stream",
     "text": [
      "100%|██████████| 20/20 [00:02<00:00,  7.03it/s]\n",
      " 50%|█████     | 1/2 [00:00<00:00,  7.07it/s]"
     ]
    },
    {
     "name": "stdout",
     "output_type": "stream",
     "text": [
      "225 (485, 7)\n"
     ]
    },
    {
     "name": "stderr",
     "output_type": "stream",
     "text": [
      "100%|██████████| 2/2 [00:00<00:00,  7.54it/s]\n",
      "100%|██████████| 1/1 [00:00<00:00, 82.15it/s]\n",
      "  6%|▌         | 1/17 [00:00<00:02,  7.47it/s]"
     ]
    },
    {
     "name": "stdout",
     "output_type": "stream",
     "text": [
      "226 (3, 7)\n",
      "227 (4176, 7)\n"
     ]
    },
    {
     "name": "stderr",
     "output_type": "stream",
     "text": [
      "100%|██████████| 17/17 [00:02<00:00,  7.66it/s]\n",
      " 25%|██▌       | 1/4 [00:00<00:00,  6.80it/s]"
     ]
    },
    {
     "name": "stdout",
     "output_type": "stream",
     "text": [
      "228 (970, 7)\n"
     ]
    },
    {
     "name": "stderr",
     "output_type": "stream",
     "text": [
      "100%|██████████| 4/4 [00:00<00:00,  6.90it/s]\n",
      "100%|██████████| 1/1 [00:00<00:00, 12.40it/s]\n",
      "100%|██████████| 1/1 [00:00<00:00, 19.14it/s]\n",
      "  0%|          | 0/7 [00:00<?, ?it/s]"
     ]
    },
    {
     "name": "stdout",
     "output_type": "stream",
     "text": [
      "No columns to parse from file\n",
      "230 (125, 7)\n",
      "231 (76, 7)\n",
      "232 (1732, 7)\n"
     ]
    },
    {
     "name": "stderr",
     "output_type": "stream",
     "text": [
      "100%|██████████| 7/7 [00:01<00:00,  6.89it/s]\n",
      "/home/bakirillov/HDD/works/Skoltech/CRISPR_CAD/uace/src/core.py:966: RuntimeWarning: invalid value encountered in true_divide\n",
      "  self.S[self.label_column]\n",
      "100%|██████████| 1/1 [00:00<00:00, 69.05it/s]\n",
      " 10%|█         | 1/10 [00:00<00:01,  6.96it/s]"
     ]
    },
    {
     "name": "stdout",
     "output_type": "stream",
     "text": [
      "233 (6, 7)\n",
      "234 (2349, 7)\n"
     ]
    },
    {
     "name": "stderr",
     "output_type": "stream",
     "text": [
      "100%|██████████| 10/10 [00:01<00:00,  7.70it/s]\n",
      "100%|██████████| 1/1 [00:00<00:00, 39.00it/s]\n",
      "  8%|▊         | 1/13 [00:00<00:01,  7.35it/s]"
     ]
    },
    {
     "name": "stdout",
     "output_type": "stream",
     "text": [
      "235 (29, 7)\n",
      "236 (3136, 7)\n"
     ]
    },
    {
     "name": "stderr",
     "output_type": "stream",
     "text": [
      "100%|██████████| 13/13 [00:01<00:00,  7.68it/s]\n",
      "100%|██████████| 1/1 [00:00<00:00, 52.34it/s]\n",
      "100%|██████████| 1/1 [00:00<00:00, 58.11it/s]\n",
      "100%|██████████| 1/1 [00:00<00:00, 47.01it/s]\n",
      "100%|██████████| 1/1 [00:00<00:00, 84.20it/s]\n",
      "  0%|          | 0/14 [00:00<?, ?it/s]"
     ]
    },
    {
     "name": "stdout",
     "output_type": "stream",
     "text": [
      "237 (15, 7)\n",
      "238 (13, 7)\n",
      "239 (21, 7)\n",
      "240 (2, 7)\n",
      "241 (3332, 7)\n"
     ]
    },
    {
     "name": "stderr",
     "output_type": "stream",
     "text": [
      "100%|██████████| 14/14 [00:01<00:00,  7.79it/s]\n",
      "100%|██████████| 1/1 [00:00<00:00, 70.51it/s]\n",
      " 50%|█████     | 1/2 [00:00<00:00,  7.28it/s]"
     ]
    },
    {
     "name": "stdout",
     "output_type": "stream",
     "text": [
      "242 (4, 7)\n",
      "243 (323, 7)\n"
     ]
    },
    {
     "name": "stderr",
     "output_type": "stream",
     "text": [
      "100%|██████████| 2/2 [00:00<00:00, 10.97it/s]\n",
      " 25%|██▌       | 1/4 [00:00<00:00,  7.40it/s]"
     ]
    },
    {
     "name": "stdout",
     "output_type": "stream",
     "text": [
      "244 (883, 7)\n"
     ]
    },
    {
     "name": "stderr",
     "output_type": "stream",
     "text": [
      "100%|██████████| 4/4 [00:00<00:00,  8.32it/s]\n",
      "100%|██████████| 1/1 [00:00<00:00, 86.11it/s]\n",
      "100%|██████████| 1/1 [00:00<00:00, 10.66it/s]\n",
      "  0%|          | 0/6 [00:00<?, ?it/s]"
     ]
    },
    {
     "name": "stdout",
     "output_type": "stream",
     "text": [
      "245 (1, 7)\n",
      "246 (171, 7)\n",
      "247 (1400, 7)\n"
     ]
    },
    {
     "name": "stderr",
     "output_type": "stream",
     "text": [
      "100%|██████████| 6/6 [00:00<00:00,  7.88it/s]\n",
      "100%|██████████| 1/1 [00:00<00:00, 15.79it/s]\n",
      "100%|██████████| 1/1 [00:00<00:00, 15.84it/s]\n",
      "100%|██████████| 1/1 [00:00<00:00, 56.63it/s]\n",
      "  0%|          | 0/1 [00:00<?, ?it/s]"
     ]
    },
    {
     "name": "stdout",
     "output_type": "stream",
     "text": [
      "248 (108, 7)\n",
      "249 (106, 7)\n",
      "250 (13, 7)\n",
      "251 (36, 7)\n"
     ]
    },
    {
     "name": "stderr",
     "output_type": "stream",
     "text": [
      "100%|██████████| 1/1 [00:00<00:00, 33.62it/s]\n",
      "  0%|          | 0/3 [00:00<?, ?it/s]"
     ]
    },
    {
     "name": "stdout",
     "output_type": "stream",
     "text": [
      "252 (656, 7)\n"
     ]
    },
    {
     "name": "stderr",
     "output_type": "stream",
     "text": [
      "100%|██████████| 3/3 [00:00<00:00,  5.28it/s]\n",
      "100%|██████████| 1/1 [00:00<00:00, 10.99it/s]\n",
      "100%|██████████| 1/1 [00:00<00:00, 24.66it/s]\n",
      "  0%|          | 0/1 [00:00<?, ?it/s]"
     ]
    },
    {
     "name": "stdout",
     "output_type": "stream",
     "text": [
      "253 (163, 7)\n",
      "254 (61, 7)\n",
      "No columns to parse from file\n",
      "No columns to parse from file\n",
      "257 (140, 7)\n"
     ]
    },
    {
     "name": "stderr",
     "output_type": "stream",
     "text": [
      "100%|██████████| 1/1 [00:00<00:00, 12.35it/s]\n",
      "  3%|▎         | 1/37 [00:00<00:04,  7.35it/s]"
     ]
    },
    {
     "name": "stdout",
     "output_type": "stream",
     "text": [
      "258 (9404, 7)\n"
     ]
    },
    {
     "name": "stderr",
     "output_type": "stream",
     "text": [
      "100%|██████████| 37/37 [00:05<00:00,  7.38it/s]\n",
      " 25%|██▌       | 1/4 [00:00<00:00,  6.06it/s]"
     ]
    },
    {
     "name": "stdout",
     "output_type": "stream",
     "text": [
      "259 (961, 7)\n"
     ]
    },
    {
     "name": "stderr",
     "output_type": "stream",
     "text": [
      "100%|██████████| 4/4 [00:00<00:00,  6.33it/s]\n",
      "  5%|▌         | 1/19 [00:00<00:02,  6.59it/s]"
     ]
    },
    {
     "name": "stdout",
     "output_type": "stream",
     "text": [
      "260 (4857, 7)\n"
     ]
    },
    {
     "name": "stderr",
     "output_type": "stream",
     "text": [
      "100%|██████████| 19/19 [00:02<00:00,  6.54it/s]\n",
      "100%|██████████| 1/1 [00:00<00:00, 44.09it/s]\n",
      " 17%|█▋        | 1/6 [00:00<00:00,  6.82it/s]"
     ]
    },
    {
     "name": "stdout",
     "output_type": "stream",
     "text": [
      "261 (18, 7)\n",
      "262 (1432, 7)\n"
     ]
    },
    {
     "name": "stderr",
     "output_type": "stream",
     "text": [
      "100%|██████████| 6/6 [00:00<00:00,  7.32it/s]\n",
      "100%|██████████| 1/1 [00:00<00:00, 22.16it/s]\n",
      "100%|██████████| 1/1 [00:00<00:00, 32.98it/s]\n",
      "  0%|          | 0/2 [00:00<?, ?it/s]"
     ]
    },
    {
     "name": "stdout",
     "output_type": "stream",
     "text": [
      "263 (65, 7)\n",
      "264 (35, 7)\n",
      "265 (339, 7)\n"
     ]
    },
    {
     "name": "stderr",
     "output_type": "stream",
     "text": [
      "100%|██████████| 2/2 [00:00<00:00,  9.89it/s]\n",
      " 33%|███▎      | 1/3 [00:00<00:00,  7.21it/s]"
     ]
    },
    {
     "name": "stdout",
     "output_type": "stream",
     "text": [
      "266 (614, 7)\n"
     ]
    },
    {
     "name": "stderr",
     "output_type": "stream",
     "text": [
      "100%|██████████| 3/3 [00:00<00:00,  8.69it/s]\n",
      "100%|██████████| 1/1 [00:00<00:00, 48.50it/s]\n",
      "/home/bakirillov/HDD/works/Skoltech/CRISPR_CAD/uace/src/core.py:966: RuntimeWarning: invalid value encountered in true_divide\n",
      "  self.S[self.label_column]\n",
      "100%|██████████| 1/1 [00:00<00:00, 53.88it/s]\n",
      "100%|██████████| 1/1 [00:00<00:00, 53.37it/s]\n",
      "  0%|          | 0/3 [00:00<?, ?it/s]"
     ]
    },
    {
     "name": "stdout",
     "output_type": "stream",
     "text": [
      "267 (13, 7)\n",
      "268 (6, 7)\n",
      "269 (15, 7)\n",
      "270 (639, 7)\n"
     ]
    },
    {
     "name": "stderr",
     "output_type": "stream",
     "text": [
      "100%|██████████| 3/3 [00:00<00:00,  8.45it/s]\n",
      " 50%|█████     | 1/2 [00:00<00:00,  7.30it/s]"
     ]
    },
    {
     "name": "stdout",
     "output_type": "stream",
     "text": [
      "271 (444, 7)\n"
     ]
    },
    {
     "name": "stderr",
     "output_type": "stream",
     "text": [
      "100%|██████████| 2/2 [00:00<00:00,  8.17it/s]\n",
      " 33%|███▎      | 1/3 [00:00<00:00,  7.25it/s]"
     ]
    },
    {
     "name": "stdout",
     "output_type": "stream",
     "text": [
      "272 (729, 7)\n"
     ]
    },
    {
     "name": "stderr",
     "output_type": "stream",
     "text": [
      "100%|██████████| 3/3 [00:00<00:00,  7.24it/s]\n",
      "100%|██████████| 1/1 [00:00<00:00, 57.85it/s]\n",
      "100%|██████████| 1/1 [00:00<00:00, 50.75it/s]\n",
      " 20%|██        | 1/5 [00:00<00:00,  7.13it/s]"
     ]
    },
    {
     "name": "stdout",
     "output_type": "stream",
     "text": [
      "273 (14, 7)\n",
      "274 (17, 7)\n",
      "275 (1060, 7)\n"
     ]
    },
    {
     "name": "stderr",
     "output_type": "stream",
     "text": [
      "100%|██████████| 5/5 [00:00<00:00,  8.36it/s]\n",
      "100%|██████████| 1/1 [00:00<00:00, 53.69it/s]\n",
      "100%|██████████| 2/2 [00:00<00:00, 12.36it/s]"
     ]
    },
    {
     "name": "stdout",
     "output_type": "stream",
     "text": [
      "276 (13, 7)\n",
      "277 (274, 7)\n",
      "278 (13, 7)\n"
     ]
    },
    {
     "name": "stderr",
     "output_type": "stream",
     "text": [
      "\n",
      "100%|██████████| 1/1 [00:00<00:00, 52.76it/s]\n",
      "  2%|▏         | 1/50 [00:00<00:06,  7.07it/s]"
     ]
    },
    {
     "name": "stdout",
     "output_type": "stream",
     "text": [
      "279 (12706, 7)\n"
     ]
    },
    {
     "name": "stderr",
     "output_type": "stream",
     "text": [
      "100%|██████████| 50/50 [00:06<00:00,  7.23it/s]\n",
      "100%|██████████| 1/1 [00:00<00:00, 17.90it/s]\n",
      "  0%|          | 0/4 [00:00<?, ?it/s]"
     ]
    },
    {
     "name": "stdout",
     "output_type": "stream",
     "text": [
      "280 (91, 7)\n",
      "281 (1004, 7)\n"
     ]
    },
    {
     "name": "stderr",
     "output_type": "stream",
     "text": [
      "100%|██████████| 4/4 [00:00<00:00,  7.66it/s]\n",
      "100%|██████████| 2/2 [00:00<00:00, 11.41it/s]\n",
      "  0%|          | 0/1 [00:00<?, ?it/s]"
     ]
    },
    {
     "name": "stdout",
     "output_type": "stream",
     "text": [
      "282 (324, 7)\n",
      "283 (20, 7)\n"
     ]
    },
    {
     "name": "stderr",
     "output_type": "stream",
     "text": [
      "100%|██████████| 1/1 [00:00<00:00, 48.09it/s]\n",
      "100%|██████████| 1/1 [00:00<00:00, 51.94it/s]\n",
      "100%|██████████| 1/1 [00:00<00:00, 51.58it/s]\n",
      "  0%|          | 0/11 [00:00<?, ?it/s]"
     ]
    },
    {
     "name": "stdout",
     "output_type": "stream",
     "text": [
      "284 (15, 7)\n",
      "285 (18, 7)\n",
      "286 (2600, 7)\n"
     ]
    },
    {
     "name": "stderr",
     "output_type": "stream",
     "text": [
      "100%|██████████| 11/11 [00:01<00:00,  7.98it/s]\n",
      "100%|██████████| 1/1 [00:00<00:00, 36.04it/s]\n",
      "100%|██████████| 1/1 [00:00<00:00, 29.85it/s]\n",
      "100%|██████████| 1/1 [00:00<00:00, 30.23it/s]\n",
      "100%|██████████| 1/1 [00:00<00:00, 55.79it/s]\n",
      "100%|██████████| 1/1 [00:00<00:00, 77.72it/s]\n",
      "100%|██████████| 1/1 [00:00<00:00, 70.87it/s]\n",
      "  0%|          | 0/1 [00:00<?, ?it/s]"
     ]
    },
    {
     "name": "stdout",
     "output_type": "stream",
     "text": [
      "287 (32, 7)\n",
      "288 (46, 7)\n",
      "289 (45, 7)\n",
      "290 (14, 7)\n",
      "No columns to parse from file\n",
      "292 (4, 7)\n",
      "293 (5, 7)\n",
      "294 (17, 7)\n"
     ]
    },
    {
     "name": "stderr",
     "output_type": "stream",
     "text": [
      "100%|██████████| 1/1 [00:00<00:00, 48.33it/s]\n",
      "100%|██████████| 1/1 [00:00<00:00, 23.91it/s]\n",
      "100%|██████████| 1/1 [00:00<00:00, 60.65it/s]\n",
      "  0%|          | 0/16 [00:00<?, ?it/s]"
     ]
    },
    {
     "name": "stdout",
     "output_type": "stream",
     "text": [
      "295 (65, 7)\n",
      "296 (9, 7)\n",
      "297 (3865, 7)\n"
     ]
    },
    {
     "name": "stderr",
     "output_type": "stream",
     "text": [
      "100%|██████████| 16/16 [00:02<00:00,  7.82it/s]\n",
      " 12%|█▎        | 1/8 [00:00<00:01,  6.98it/s]"
     ]
    },
    {
     "name": "stdout",
     "output_type": "stream",
     "text": [
      "298 (1802, 7)\n"
     ]
    },
    {
     "name": "stderr",
     "output_type": "stream",
     "text": [
      "100%|██████████| 8/8 [00:01<00:00,  7.84it/s]\n",
      "100%|██████████| 1/1 [00:00<00:00, 14.08it/s]\n",
      "  0%|          | 0/7 [00:00<?, ?it/s]"
     ]
    },
    {
     "name": "stdout",
     "output_type": "stream",
     "text": [
      "299 (125, 7)\n",
      "300 (1716, 7)\n"
     ]
    },
    {
     "name": "stderr",
     "output_type": "stream",
     "text": [
      "100%|██████████| 7/7 [00:00<00:00,  7.60it/s]\n",
      "  3%|▎         | 1/34 [00:00<00:04,  7.50it/s]"
     ]
    },
    {
     "name": "stdout",
     "output_type": "stream",
     "text": [
      "301 (8657, 7)\n"
     ]
    },
    {
     "name": "stderr",
     "output_type": "stream",
     "text": [
      "100%|██████████| 34/34 [00:05<00:00,  6.70it/s]\n",
      "100%|██████████| 1/1 [00:00<00:00, 52.73it/s]\n",
      " 33%|███▎      | 1/3 [00:00<00:00,  6.63it/s]"
     ]
    },
    {
     "name": "stdout",
     "output_type": "stream",
     "text": [
      "302 (9, 7)\n",
      "No columns to parse from file\n",
      "304 (548, 7)\n"
     ]
    },
    {
     "name": "stderr",
     "output_type": "stream",
     "text": [
      "100%|██████████| 3/3 [00:00<00:00,  8.95it/s]\n",
      "100%|██████████| 1/1 [00:00<00:00, 68.09it/s]\n",
      "100%|██████████| 1/1 [00:00<00:00, 46.59it/s]\n",
      "100%|██████████| 1/1 [00:00<00:00, 46.58it/s]\n",
      "100%|██████████| 1/1 [00:00<00:00, 46.89it/s]\n",
      "100%|██████████| 1/1 [00:00<00:00, 48.20it/s]\n",
      "100%|██████████| 1/1 [00:00<00:00, 49.37it/s]\n",
      "  0%|          | 0/2 [00:00<?, ?it/s]"
     ]
    },
    {
     "name": "stdout",
     "output_type": "stream",
     "text": [
      "305 (4, 7)\n",
      "306 (17, 7)\n",
      "307 (18, 7)\n",
      "308 (19, 7)\n",
      "309 (17, 7)\n",
      "310 (15, 7)\n",
      "311 (346, 7)\n"
     ]
    },
    {
     "name": "stderr",
     "output_type": "stream",
     "text": [
      "100%|██████████| 2/2 [00:00<00:00,  9.27it/s]\n",
      "100%|██████████| 1/1 [00:00<00:00, 47.46it/s]\n",
      " 50%|█████     | 1/2 [00:00<00:00,  6.59it/s]"
     ]
    },
    {
     "name": "stdout",
     "output_type": "stream",
     "text": [
      "312 (16, 7)\n",
      "313 (267, 7)\n"
     ]
    },
    {
     "name": "stderr",
     "output_type": "stream",
     "text": [
      "100%|██████████| 2/2 [00:00<00:00, 11.68it/s]\n",
      " 50%|█████     | 1/2 [00:00<00:00,  6.69it/s]"
     ]
    },
    {
     "name": "stdout",
     "output_type": "stream",
     "text": [
      "314 (346, 7)\n"
     ]
    },
    {
     "name": "stderr",
     "output_type": "stream",
     "text": [
      "100%|██████████| 2/2 [00:00<00:00,  9.46it/s]\n",
      "  7%|▋         | 1/14 [00:00<00:01,  6.65it/s]"
     ]
    },
    {
     "name": "stdout",
     "output_type": "stream",
     "text": [
      "315 (3431, 7)\n"
     ]
    },
    {
     "name": "stderr",
     "output_type": "stream",
     "text": [
      "100%|██████████| 14/14 [00:02<00:00,  6.80it/s]\n",
      "100%|██████████| 1/1 [00:00<00:00, 11.41it/s]\n",
      "  0%|          | 0/4 [00:00<?, ?it/s]"
     ]
    },
    {
     "name": "stdout",
     "output_type": "stream",
     "text": [
      "316 (138, 7)\n",
      "317 (911, 7)\n"
     ]
    },
    {
     "name": "stderr",
     "output_type": "stream",
     "text": [
      "100%|██████████| 4/4 [00:00<00:00,  7.96it/s]\n",
      "100%|██████████| 1/1 [00:00<00:00, 17.47it/s]\n",
      "100%|██████████| 1/1 [00:00<00:00, 52.90it/s]\n",
      "  0%|          | 0/12 [00:00<?, ?it/s]"
     ]
    },
    {
     "name": "stdout",
     "output_type": "stream",
     "text": [
      "318 (96, 7)\n",
      "319 (15, 7)\n",
      "320 (2875, 7)\n"
     ]
    },
    {
     "name": "stderr",
     "output_type": "stream",
     "text": [
      "100%|██████████| 12/12 [00:01<00:00,  7.73it/s]\n",
      "100%|██████████| 1/1 [00:00<00:00, 18.91it/s]\n",
      "100%|██████████| 1/1 [00:00<00:00, 38.81it/s]\n",
      "  0%|          | 0/5 [00:00<?, ?it/s]"
     ]
    },
    {
     "name": "stdout",
     "output_type": "stream",
     "text": [
      "321 (88, 7)\n",
      "322 (30, 7)\n",
      "323 (1105, 7)\n"
     ]
    },
    {
     "name": "stderr",
     "output_type": "stream",
     "text": [
      "100%|██████████| 5/5 [00:00<00:00,  8.43it/s]\n",
      "100%|██████████| 1/1 [00:00<00:00, 46.64it/s]\n",
      " 25%|██▌       | 1/4 [00:00<00:00,  7.40it/s]"
     ]
    },
    {
     "name": "stdout",
     "output_type": "stream",
     "text": [
      "324 (21, 7)\n",
      "325 (899, 7)\n"
     ]
    },
    {
     "name": "stderr",
     "output_type": "stream",
     "text": [
      "100%|██████████| 4/4 [00:00<00:00,  8.30it/s]\n",
      " 20%|██        | 1/5 [00:00<00:00,  7.33it/s]"
     ]
    },
    {
     "name": "stdout",
     "output_type": "stream",
     "text": [
      "326 (1235, 7)\n"
     ]
    },
    {
     "name": "stderr",
     "output_type": "stream",
     "text": [
      "100%|██████████| 5/5 [00:00<00:00,  7.53it/s]\n",
      "100%|██████████| 1/1 [00:00<00:00, 36.35it/s]\n",
      "  7%|▋         | 1/15 [00:00<00:01,  7.28it/s]"
     ]
    },
    {
     "name": "stdout",
     "output_type": "stream",
     "text": [
      "327 (33, 7)\n",
      "328 (3757, 7)\n"
     ]
    },
    {
     "name": "stderr",
     "output_type": "stream",
     "text": [
      "100%|██████████| 15/15 [00:02<00:00,  7.46it/s]\n",
      "/home/bakirillov/HDD/works/Skoltech/CRISPR_CAD/uace/src/core.py:966: RuntimeWarning: invalid value encountered in true_divide\n",
      "  self.S[self.label_column]\n",
      "100%|██████████| 1/1 [00:00<00:00, 71.20it/s]\n",
      "100%|██████████| 1/1 [00:00<00:00, 35.74it/s]\n",
      "100%|██████████| 1/1 [00:00<00:00, 17.78it/s]\n",
      "100%|██████████| 1/1 [00:00<00:00, 49.41it/s]\n",
      "  0%|          | 0/11 [00:00<?, ?it/s]"
     ]
    },
    {
     "name": "stdout",
     "output_type": "stream",
     "text": [
      "329 (6, 7)\n",
      "330 (29, 7)\n",
      "331 (96, 7)\n",
      "332 (19, 7)\n",
      "333 (2702, 7)\n"
     ]
    },
    {
     "name": "stderr",
     "output_type": "stream",
     "text": [
      "100%|██████████| 11/11 [00:01<00:00,  7.45it/s]\n",
      "100%|██████████| 1/1 [00:00<00:00, 64.38it/s]\n",
      "  7%|▋         | 1/15 [00:00<00:01,  7.10it/s]"
     ]
    },
    {
     "name": "stdout",
     "output_type": "stream",
     "text": [
      "334 (7, 7)\n",
      "335 (3627, 7)\n"
     ]
    },
    {
     "name": "stderr",
     "output_type": "stream",
     "text": [
      "100%|██████████| 15/15 [00:02<00:00,  7.40it/s]\n",
      "  2%|▏         | 1/66 [00:00<00:09,  6.72it/s]"
     ]
    },
    {
     "name": "stdout",
     "output_type": "stream",
     "text": [
      "336 (16646, 7)\n"
     ]
    },
    {
     "name": "stderr",
     "output_type": "stream",
     "text": [
      "100%|██████████| 66/66 [00:09<00:00,  7.14it/s]\n",
      "100%|██████████| 2/2 [00:00<00:00, 11.76it/s]\n",
      "  0%|          | 0/1 [00:00<?, ?it/s]"
     ]
    },
    {
     "name": "stdout",
     "output_type": "stream",
     "text": [
      "337 (305, 7)\n",
      "338 (59, 7)\n"
     ]
    },
    {
     "name": "stderr",
     "output_type": "stream",
     "text": [
      "100%|██████████| 1/1 [00:00<00:00, 24.37it/s]\n",
      "100%|██████████| 1/1 [00:00<00:00, 75.97it/s]\n",
      "100%|██████████| 1/1 [00:00<00:00, 52.17it/s]\n",
      " 50%|█████     | 1/2 [00:00<00:00,  7.40it/s]"
     ]
    },
    {
     "name": "stdout",
     "output_type": "stream",
     "text": [
      "339 (2, 7)\n",
      "340 (16, 7)\n",
      "341 (304, 7)\n"
     ]
    },
    {
     "name": "stderr",
     "output_type": "stream",
     "text": [
      "100%|██████████| 2/2 [00:00<00:00, 11.65it/s]\n",
      "100%|██████████| 1/1 [00:00<00:00, 50.05it/s]\n",
      "100%|██████████| 1/1 [00:00<00:00, 29.50it/s]\n",
      "100%|██████████| 1/1 [00:00<00:00, 85.93it/s]\n",
      "  0%|          | 0/7 [00:00<?, ?it/s]"
     ]
    },
    {
     "name": "stdout",
     "output_type": "stream",
     "text": [
      "342 (16, 7)\n",
      "343 (44, 7)\n",
      "344 (1, 7)\n",
      "345 (1752, 7)\n"
     ]
    },
    {
     "name": "stderr",
     "output_type": "stream",
     "text": [
      "100%|██████████| 7/7 [00:01<00:00,  6.68it/s]\n",
      "100%|██████████| 1/1 [00:00<00:00, 21.49it/s]\n",
      "100%|██████████| 1/1 [00:00<00:00, 15.78it/s]\n",
      "  0%|          | 0/8 [00:00<?, ?it/s]"
     ]
    },
    {
     "name": "stdout",
     "output_type": "stream",
     "text": [
      "346 (61, 7)\n",
      "347 (105, 7)\n",
      "348 (1803, 7)\n"
     ]
    },
    {
     "name": "stderr",
     "output_type": "stream",
     "text": [
      "100%|██████████| 8/8 [00:01<00:00,  7.94it/s]\n",
      " 50%|█████     | 1/2 [00:00<00:00,  7.10it/s]"
     ]
    },
    {
     "name": "stdout",
     "output_type": "stream",
     "text": [
      "349 (429, 7)\n"
     ]
    },
    {
     "name": "stderr",
     "output_type": "stream",
     "text": [
      "100%|██████████| 2/2 [00:00<00:00,  8.43it/s]\n",
      "100%|██████████| 1/1 [00:00<00:00, 22.46it/s]\n",
      " 50%|█████     | 1/2 [00:00<00:00,  7.41it/s]"
     ]
    },
    {
     "name": "stdout",
     "output_type": "stream",
     "text": [
      "350 (70, 7)\n",
      "351 (275, 7)\n"
     ]
    },
    {
     "name": "stderr",
     "output_type": "stream",
     "text": [
      "100%|██████████| 2/2 [00:00<00:00, 12.68it/s]\n",
      "100%|██████████| 1/1 [00:00<00:00, 41.23it/s]\n",
      " 33%|███▎      | 1/3 [00:00<00:00,  7.35it/s]"
     ]
    },
    {
     "name": "stdout",
     "output_type": "stream",
     "text": [
      "352 (25, 7)\n",
      "353 (620, 7)\n"
     ]
    },
    {
     "name": "stderr",
     "output_type": "stream",
     "text": [
      "100%|██████████| 3/3 [00:00<00:00,  8.87it/s]\n",
      "  6%|▋         | 1/16 [00:00<00:02,  7.35it/s]"
     ]
    },
    {
     "name": "stdout",
     "output_type": "stream",
     "text": [
      "354 (4077, 7)\n"
     ]
    },
    {
     "name": "stderr",
     "output_type": "stream",
     "text": [
      "100%|██████████| 16/16 [00:02<00:00,  6.97it/s]\n",
      "100%|██████████| 1/1 [00:00<00:00, 57.49it/s]\n",
      "100%|██████████| 1/1 [00:00<00:00, 41.17it/s]\n",
      "100%|██████████| 1/1 [00:00<00:00, 58.42it/s]\n",
      "100%|██████████| 1/1 [00:00<00:00, 61.40it/s]\n",
      "100%|██████████| 1/1 [00:00<00:00, 46.37it/s]\n",
      "  0%|          | 0/19 [00:00<?, ?it/s]"
     ]
    },
    {
     "name": "stdout",
     "output_type": "stream",
     "text": [
      "355 (7, 7)\n",
      "356 (22, 7)\n",
      "357 (10, 7)\n",
      "358 (8, 7)\n",
      "359 (15, 7)\n",
      "360 (4631, 7)\n"
     ]
    },
    {
     "name": "stderr",
     "output_type": "stream",
     "text": [
      "100%|██████████| 19/19 [00:02<00:00,  7.30it/s]\n",
      "100%|██████████| 1/1 [00:00<00:00, 43.17it/s]\n",
      " 50%|█████     | 1/2 [00:00<00:00,  7.01it/s]"
     ]
    },
    {
     "name": "stdout",
     "output_type": "stream",
     "text": [
      "361 (21, 7)\n",
      "362 (345, 7)\n"
     ]
    },
    {
     "name": "stderr",
     "output_type": "stream",
     "text": [
      "100%|██████████| 2/2 [00:00<00:00,  9.98it/s]\n",
      " 20%|██        | 1/5 [00:00<00:00,  7.09it/s]"
     ]
    },
    {
     "name": "stdout",
     "output_type": "stream",
     "text": [
      "363 (1154, 7)\n"
     ]
    },
    {
     "name": "stderr",
     "output_type": "stream",
     "text": [
      "100%|██████████| 5/5 [00:00<00:00,  7.73it/s]\n",
      "100%|██████████| 2/2 [00:00<00:00, 10.45it/s]"
     ]
    },
    {
     "name": "stdout",
     "output_type": "stream",
     "text": [
      "364 (354, 7)\n"
     ]
    },
    {
     "name": "stderr",
     "output_type": "stream",
     "text": [
      "\n",
      "  6%|▋         | 1/16 [00:00<00:01,  7.57it/s]"
     ]
    },
    {
     "name": "stdout",
     "output_type": "stream",
     "text": [
      "365 (3915, 7)\n"
     ]
    },
    {
     "name": "stderr",
     "output_type": "stream",
     "text": [
      "100%|██████████| 16/16 [00:02<00:00,  7.60it/s]\n",
      "100%|██████████| 1/1 [00:00<00:00, 21.98it/s]\n",
      "100%|██████████| 1/1 [00:00<00:00, 59.28it/s]\n",
      "  0%|          | 0/2 [00:00<?, ?it/s]"
     ]
    },
    {
     "name": "stdout",
     "output_type": "stream",
     "text": [
      "366 (68, 7)\n",
      "367 (12, 7)\n",
      "368 (269, 7)\n"
     ]
    },
    {
     "name": "stderr",
     "output_type": "stream",
     "text": [
      "100%|██████████| 2/2 [00:00<00:00, 12.80it/s]\n",
      "  6%|▋         | 1/16 [00:00<00:02,  7.02it/s]"
     ]
    },
    {
     "name": "stdout",
     "output_type": "stream",
     "text": [
      "369 (4006, 7)\n"
     ]
    },
    {
     "name": "stderr",
     "output_type": "stream",
     "text": [
      "100%|██████████| 16/16 [00:02<00:00,  6.77it/s]\n",
      " 17%|█▋        | 1/6 [00:00<00:00,  7.42it/s]"
     ]
    },
    {
     "name": "stdout",
     "output_type": "stream",
     "text": [
      "370 (1321, 7)\n"
     ]
    },
    {
     "name": "stderr",
     "output_type": "stream",
     "text": [
      "100%|██████████| 6/6 [00:00<00:00,  8.35it/s]\n",
      "  4%|▍         | 1/26 [00:00<00:03,  7.47it/s]"
     ]
    },
    {
     "name": "stdout",
     "output_type": "stream",
     "text": [
      "371 (6581, 7)\n"
     ]
    },
    {
     "name": "stderr",
     "output_type": "stream",
     "text": [
      "100%|██████████| 26/26 [00:03<00:00,  7.48it/s]\n",
      " 14%|█▍        | 1/7 [00:00<00:00,  7.42it/s]"
     ]
    },
    {
     "name": "stdout",
     "output_type": "stream",
     "text": [
      "372 (1557, 7)\n"
     ]
    },
    {
     "name": "stderr",
     "output_type": "stream",
     "text": [
      "100%|██████████| 7/7 [00:00<00:00,  8.31it/s]\n",
      " 20%|██        | 1/5 [00:00<00:00,  7.38it/s]"
     ]
    },
    {
     "name": "stdout",
     "output_type": "stream",
     "text": [
      "373 (1081, 7)\n"
     ]
    },
    {
     "name": "stderr",
     "output_type": "stream",
     "text": [
      "100%|██████████| 5/5 [00:00<00:00,  8.51it/s]\n",
      "100%|██████████| 1/1 [00:00<00:00, 48.50it/s]\n",
      "100%|██████████| 1/1 [00:00<00:00, 52.36it/s]\n",
      " 25%|██▌       | 1/4 [00:00<00:00,  7.31it/s]"
     ]
    },
    {
     "name": "stdout",
     "output_type": "stream",
     "text": [
      "374 (18, 7)\n",
      "375 (16, 7)\n",
      "376 (981, 7)\n"
     ]
    },
    {
     "name": "stderr",
     "output_type": "stream",
     "text": [
      "100%|██████████| 4/4 [00:00<00:00,  7.24it/s]\n",
      "  2%|▏         | 1/45 [00:00<00:06,  7.06it/s]"
     ]
    },
    {
     "name": "stdout",
     "output_type": "stream",
     "text": [
      "377 (11364, 7)\n"
     ]
    },
    {
     "name": "stderr",
     "output_type": "stream",
     "text": [
      "100%|██████████| 45/45 [00:06<00:00,  7.24it/s]\n",
      " 20%|██        | 1/5 [00:00<00:00,  6.79it/s]"
     ]
    },
    {
     "name": "stdout",
     "output_type": "stream",
     "text": [
      "378 (1252, 7)\n"
     ]
    },
    {
     "name": "stderr",
     "output_type": "stream",
     "text": [
      "100%|██████████| 5/5 [00:00<00:00,  7.31it/s]\n",
      "100%|██████████| 1/1 [00:00<00:00, 45.46it/s]\n",
      " 25%|██▌       | 1/4 [00:00<00:00,  7.23it/s]"
     ]
    },
    {
     "name": "stdout",
     "output_type": "stream",
     "text": [
      "379 (21, 7)\n",
      "380 (881, 7)\n"
     ]
    },
    {
     "name": "stderr",
     "output_type": "stream",
     "text": [
      "100%|██████████| 4/4 [00:00<00:00,  8.24it/s]\n",
      "  3%|▎         | 1/34 [00:00<00:04,  7.27it/s]"
     ]
    },
    {
     "name": "stdout",
     "output_type": "stream",
     "text": [
      "381 (8568, 7)\n"
     ]
    },
    {
     "name": "stderr",
     "output_type": "stream",
     "text": [
      "100%|██████████| 34/34 [00:04<00:00,  7.12it/s]\n",
      "100%|██████████| 1/1 [00:00<00:00, 26.02it/s]\n",
      "100%|██████████| 1/1 [00:00<00:00, 22.77it/s]\n",
      "  0%|          | 0/5 [00:00<?, ?it/s]"
     ]
    },
    {
     "name": "stdout",
     "output_type": "stream",
     "text": [
      "382 (50, 7)\n",
      "383 (61, 7)\n",
      "384 (1028, 7)\n"
     ]
    },
    {
     "name": "stderr",
     "output_type": "stream",
     "text": [
      "100%|██████████| 5/5 [00:00<00:00,  8.34it/s]\n",
      "100%|██████████| 1/1 [00:00<00:00, 30.49it/s]\n",
      "/home/bakirillov/HDD/works/Skoltech/CRISPR_CAD/uace/src/core.py:966: RuntimeWarning: invalid value encountered in true_divide\n",
      "  self.S[self.label_column]\n",
      "100%|██████████| 1/1 [00:00<00:00, 65.31it/s]\n",
      "100%|██████████| 1/1 [00:00<00:00, 52.76it/s]\n",
      "  0%|          | 0/1 [00:00<?, ?it/s]"
     ]
    },
    {
     "name": "stdout",
     "output_type": "stream",
     "text": [
      "385 (37, 7)\n",
      "386 (6, 7)\n",
      "387 (12, 7)\n",
      "388 (250, 7)\n"
     ]
    },
    {
     "name": "stderr",
     "output_type": "stream",
     "text": [
      "100%|██████████| 1/1 [00:00<00:00,  6.94it/s]\n",
      "/home/bakirillov/HDD/works/Skoltech/CRISPR_CAD/uace/src/core.py:966: RuntimeWarning: invalid value encountered in true_divide\n",
      "  self.S[self.label_column]\n",
      "100%|██████████| 1/1 [00:00<00:00, 63.47it/s]\n",
      "100%|██████████| 1/1 [00:00<00:00, 26.33it/s]\n",
      "100%|██████████| 1/1 [00:00<00:00, 34.47it/s]\n",
      "  0%|          | 0/2 [00:00<?, ?it/s]"
     ]
    },
    {
     "name": "stdout",
     "output_type": "stream",
     "text": [
      "389 (6, 7)\n",
      "390 (47, 7)\n",
      "No columns to parse from file\n",
      "392 (31, 7)\n",
      "393 (286, 7)\n"
     ]
    },
    {
     "name": "stderr",
     "output_type": "stream",
     "text": [
      "100%|██████████| 2/2 [00:00<00:00, 11.53it/s]\n",
      "100%|██████████| 1/1 [00:00<00:00, 16.94it/s]\n",
      "  0%|          | 0/2 [00:00<?, ?it/s]"
     ]
    },
    {
     "name": "stdout",
     "output_type": "stream",
     "text": [
      "394 (91, 7)\n",
      "395 (261, 7)\n"
     ]
    },
    {
     "name": "stderr",
     "output_type": "stream",
     "text": [
      "100%|██████████| 2/2 [00:00<00:00, 12.41it/s]\n",
      "100%|██████████| 1/1 [00:00<00:00, 54.60it/s]\n",
      "100%|██████████| 1/1 [00:00<00:00, 19.60it/s]\n",
      "100%|██████████| 1/1 [00:00<00:00, 61.24it/s]\n",
      "  0%|          | 0/13 [00:00<?, ?it/s]"
     ]
    },
    {
     "name": "stdout",
     "output_type": "stream",
     "text": [
      "396 (12, 7)\n",
      "397 (73, 7)\n",
      "398 (3, 7)\n",
      "399 (3239, 7)\n"
     ]
    },
    {
     "name": "stderr",
     "output_type": "stream",
     "text": [
      "100%|██████████| 13/13 [00:01<00:00,  7.11it/s]\n",
      "  2%|▏         | 1/50 [00:00<00:06,  7.51it/s]"
     ]
    },
    {
     "name": "stdout",
     "output_type": "stream",
     "text": [
      "400 (12587, 7)\n"
     ]
    },
    {
     "name": "stderr",
     "output_type": "stream",
     "text": [
      "100%|██████████| 50/50 [00:06<00:00,  7.43it/s]\n",
      "/home/bakirillov/HDD/works/Skoltech/CRISPR_CAD/uace/src/core.py:966: RuntimeWarning: invalid value encountered in true_divide\n",
      "  self.S[self.label_column]\n",
      "100%|██████████| 1/1 [00:00<00:00, 62.53it/s]\n",
      " 12%|█▎        | 1/8 [00:00<00:00,  7.18it/s]"
     ]
    },
    {
     "name": "stdout",
     "output_type": "stream",
     "text": [
      "401 (6, 7)\n",
      "402 (1849, 7)\n"
     ]
    },
    {
     "name": "stderr",
     "output_type": "stream",
     "text": [
      "100%|██████████| 8/8 [00:01<00:00,  7.74it/s]\n",
      "100%|██████████| 2/2 [00:00<00:00, 11.92it/s]\n",
      "100%|██████████| 1/1 [00:00<00:00, 65.26it/s]"
     ]
    },
    {
     "name": "stdout",
     "output_type": "stream",
     "text": [
      "403 (293, 7)\n",
      "404 (5, 7)\n"
     ]
    },
    {
     "name": "stderr",
     "output_type": "stream",
     "text": [
      "\n",
      "100%|██████████| 1/1 [00:00<00:00, 32.14it/s]\n",
      "/home/bakirillov/HDD/works/Skoltech/CRISPR_CAD/uace/src/core.py:966: RuntimeWarning: invalid value encountered in true_divide\n",
      "  self.S[self.label_column]\n",
      "100%|██████████| 1/1 [00:00<00:00, 71.50it/s]\n",
      "100%|██████████| 1/1 [00:00<00:00, 18.24it/s]\n",
      "  0%|          | 0/2 [00:00<?, ?it/s]"
     ]
    },
    {
     "name": "stdout",
     "output_type": "stream",
     "text": [
      "405 (40, 7)\n",
      "406 (6, 7)\n",
      "407 (83, 7)\n",
      "408 (451, 7)\n"
     ]
    },
    {
     "name": "stderr",
     "output_type": "stream",
     "text": [
      "100%|██████████| 2/2 [00:00<00:00,  8.31it/s]\n",
      " 14%|█▍        | 1/7 [00:00<00:00,  7.37it/s]"
     ]
    },
    {
     "name": "stdout",
     "output_type": "stream",
     "text": [
      "409 (1626, 7)\n"
     ]
    },
    {
     "name": "stderr",
     "output_type": "stream",
     "text": [
      "100%|██████████| 7/7 [00:00<00:00,  7.91it/s]\n",
      " 33%|███▎      | 1/3 [00:00<00:00,  7.47it/s]"
     ]
    },
    {
     "name": "stdout",
     "output_type": "stream",
     "text": [
      "410 (556, 7)\n"
     ]
    },
    {
     "name": "stderr",
     "output_type": "stream",
     "text": [
      "100%|██████████| 3/3 [00:00<00:00,  9.80it/s]\n",
      "100%|██████████| 2/2 [00:00<00:00, 12.59it/s]\n",
      "  0%|          | 0/1 [00:00<?, ?it/s]"
     ]
    },
    {
     "name": "stdout",
     "output_type": "stream",
     "text": [
      "411 (280, 7)\n",
      "No columns to parse from file\n",
      "413 (132, 7)\n"
     ]
    },
    {
     "name": "stderr",
     "output_type": "stream",
     "text": [
      "100%|██████████| 1/1 [00:00<00:00, 13.10it/s]\n",
      "100%|██████████| 1/1 [00:00<00:00, 42.89it/s]\n",
      "100%|██████████| 2/2 [00:00<00:00, 12.18it/s]"
     ]
    },
    {
     "name": "stdout",
     "output_type": "stream",
     "text": [
      "414 (21, 7)\n",
      "415 (292, 7)\n"
     ]
    },
    {
     "name": "stderr",
     "output_type": "stream",
     "text": [
      "\n",
      "100%|██████████| 1/1 [00:00<00:00, 41.19it/s]\n",
      "100%|██████████| 1/1 [00:00<00:00, 34.73it/s]\n",
      "  0%|          | 0/4 [00:00<?, ?it/s]"
     ]
    },
    {
     "name": "stdout",
     "output_type": "stream",
     "text": [
      "416 (27, 7)\n",
      "417 (32, 7)\n",
      "418 (910, 7)\n"
     ]
    },
    {
     "name": "stderr",
     "output_type": "stream",
     "text": [
      "100%|██████████| 4/4 [00:00<00:00,  8.10it/s]\n",
      "100%|██████████| 1/1 [00:00<00:00,  8.78it/s]\n",
      "100%|██████████| 1/1 [00:00<00:00, 58.96it/s]\n",
      "100%|██████████| 1/1 [00:00<00:00, 46.49it/s]\n",
      "  0%|          | 0/15 [00:00<?, ?it/s]"
     ]
    },
    {
     "name": "stdout",
     "output_type": "stream",
     "text": [
      "419 (216, 7)\n",
      "420 (6, 7)\n",
      "421 (19, 7)\n",
      "422 (3742, 7)\n"
     ]
    },
    {
     "name": "stderr",
     "output_type": "stream",
     "text": [
      "100%|██████████| 15/15 [00:02<00:00,  7.14it/s]\n",
      "100%|██████████| 1/1 [00:00<00:00, 22.24it/s]\n",
      "  0%|          | 0/2 [00:00<?, ?it/s]"
     ]
    },
    {
     "name": "stdout",
     "output_type": "stream",
     "text": [
      "423 (61, 7)\n",
      "424 (320, 7)\n"
     ]
    },
    {
     "name": "stderr",
     "output_type": "stream",
     "text": [
      "100%|██████████| 2/2 [00:00<00:00,  9.99it/s]\n",
      " 50%|█████     | 1/2 [00:00<00:00,  6.65it/s]"
     ]
    },
    {
     "name": "stdout",
     "output_type": "stream",
     "text": [
      "425 (427, 7)\n"
     ]
    },
    {
     "name": "stderr",
     "output_type": "stream",
     "text": [
      "100%|██████████| 2/2 [00:00<00:00,  7.80it/s]\n",
      "/home/bakirillov/HDD/works/Skoltech/CRISPR_CAD/uace/src/core.py:966: RuntimeWarning: invalid value encountered in true_divide\n",
      "  self.S[self.label_column]\n",
      "100%|██████████| 1/1 [00:00<00:00, 62.74it/s]\n",
      " 50%|█████     | 1/2 [00:00<00:00,  6.94it/s]"
     ]
    },
    {
     "name": "stdout",
     "output_type": "stream",
     "text": [
      "426 (6, 7)\n",
      "427 (408, 7)\n"
     ]
    },
    {
     "name": "stderr",
     "output_type": "stream",
     "text": [
      "100%|██████████| 2/2 [00:00<00:00,  8.64it/s]\n",
      "100%|██████████| 1/1 [00:00<00:00, 34.89it/s]\n",
      " 20%|██        | 1/5 [00:00<00:00,  7.03it/s]"
     ]
    },
    {
     "name": "stdout",
     "output_type": "stream",
     "text": [
      "428 (35, 7)\n",
      "429 (1247, 7)\n"
     ]
    },
    {
     "name": "stderr",
     "output_type": "stream",
     "text": [
      "100%|██████████| 5/5 [00:00<00:00,  6.75it/s]\n",
      "100%|██████████| 1/1 [00:00<00:00, 56.74it/s]\n",
      "  6%|▋         | 1/16 [00:00<00:02,  6.77it/s]"
     ]
    },
    {
     "name": "stdout",
     "output_type": "stream",
     "text": [
      "430 (8, 7)\n",
      "431 (4011, 7)\n"
     ]
    },
    {
     "name": "stderr",
     "output_type": "stream",
     "text": [
      "100%|██████████| 16/16 [00:02<00:00,  6.67it/s]\n",
      " 14%|█▍        | 1/7 [00:00<00:00,  6.23it/s]"
     ]
    },
    {
     "name": "stdout",
     "output_type": "stream",
     "text": [
      "432 (1597, 7)\n"
     ]
    },
    {
     "name": "stderr",
     "output_type": "stream",
     "text": [
      "100%|██████████| 7/7 [00:00<00:00,  7.45it/s]\n",
      "  9%|▉         | 1/11 [00:00<00:01,  6.90it/s]"
     ]
    },
    {
     "name": "stdout",
     "output_type": "stream",
     "text": [
      "433 (2760, 7)\n"
     ]
    },
    {
     "name": "stderr",
     "output_type": "stream",
     "text": [
      "100%|██████████| 11/11 [00:01<00:00,  7.00it/s]\n",
      "  7%|▋         | 1/15 [00:00<00:02,  6.88it/s]"
     ]
    },
    {
     "name": "stdout",
     "output_type": "stream",
     "text": [
      "434 (3616, 7)\n"
     ]
    },
    {
     "name": "stderr",
     "output_type": "stream",
     "text": [
      "100%|██████████| 15/15 [00:02<00:00,  7.31it/s]\n",
      " 10%|█         | 1/10 [00:00<00:01,  6.16it/s]"
     ]
    },
    {
     "name": "stdout",
     "output_type": "stream",
     "text": [
      "435 (2400, 7)\n"
     ]
    },
    {
     "name": "stderr",
     "output_type": "stream",
     "text": [
      "100%|██████████| 10/10 [00:01<00:00,  6.82it/s]\n",
      "100%|██████████| 1/1 [00:00<00:00, 35.38it/s]\n",
      " 33%|███▎      | 1/3 [00:00<00:00,  6.98it/s]"
     ]
    },
    {
     "name": "stdout",
     "output_type": "stream",
     "text": [
      "436 (33, 7)\n",
      "437 (688, 7)\n"
     ]
    },
    {
     "name": "stderr",
     "output_type": "stream",
     "text": [
      "100%|██████████| 3/3 [00:00<00:00,  7.60it/s]\n",
      "100%|██████████| 1/1 [00:00<00:00, 48.97it/s]\n",
      "100%|██████████| 1/1 [00:00<00:00,  7.84it/s]\n",
      "/home/bakirillov/HDD/works/Skoltech/CRISPR_CAD/uace/src/core.py:966: RuntimeWarning: invalid value encountered in true_divide\n",
      "  self.S[self.label_column]\n",
      "100%|██████████| 1/1 [00:00<00:00, 56.06it/s]\n",
      "  0%|          | 0/1 [00:00<?, ?it/s]"
     ]
    },
    {
     "name": "stdout",
     "output_type": "stream",
     "text": [
      "438 (19, 7)\n",
      "439 (226, 7)\n",
      "440 (12, 7)\n",
      "441 (29, 7)\n"
     ]
    },
    {
     "name": "stderr",
     "output_type": "stream",
     "text": [
      "100%|██████████| 1/1 [00:00<00:00, 38.12it/s]\n",
      "100%|██████████| 1/1 [00:00<00:00, 46.90it/s]\n",
      " 50%|█████     | 1/2 [00:00<00:00,  7.28it/s]"
     ]
    },
    {
     "name": "stdout",
     "output_type": "stream",
     "text": [
      "No columns to parse from file\n",
      "443 (11, 7)\n",
      "444 (355, 7)\n"
     ]
    },
    {
     "name": "stderr",
     "output_type": "stream",
     "text": [
      "100%|██████████| 2/2 [00:00<00:00,  9.75it/s]\n",
      "100%|██████████| 1/1 [00:00<00:00, 47.51it/s]\n",
      " 33%|███▎      | 1/3 [00:00<00:00,  7.29it/s]"
     ]
    },
    {
     "name": "stdout",
     "output_type": "stream",
     "text": [
      "445 (13, 7)\n",
      "446 (767, 7)\n"
     ]
    },
    {
     "name": "stderr",
     "output_type": "stream",
     "text": [
      "100%|██████████| 3/3 [00:00<00:00,  7.28it/s]\n",
      "100%|██████████| 2/2 [00:00<00:00, 10.19it/s]"
     ]
    },
    {
     "name": "stdout",
     "output_type": "stream",
     "text": [
      "447 (315, 7)\n"
     ]
    },
    {
     "name": "stderr",
     "output_type": "stream",
     "text": [
      "\n",
      "/home/bakirillov/HDD/works/Skoltech/CRISPR_CAD/uace/src/core.py:966: RuntimeWarning: invalid value encountered in true_divide\n",
      "  self.S[self.label_column]\n",
      "100%|██████████| 1/1 [00:00<00:00, 67.67it/s]\n",
      "  7%|▋         | 1/15 [00:00<00:01,  7.09it/s]"
     ]
    },
    {
     "name": "stdout",
     "output_type": "stream",
     "text": [
      "448 (6, 7)\n",
      "449 (3617, 7)\n"
     ]
    },
    {
     "name": "stderr",
     "output_type": "stream",
     "text": [
      "100%|██████████| 15/15 [00:02<00:00,  7.31it/s]\n",
      "100%|██████████| 1/1 [00:00<00:00, 63.65it/s]\n",
      " 50%|█████     | 1/2 [00:00<00:00,  7.16it/s]"
     ]
    },
    {
     "name": "stdout",
     "output_type": "stream",
     "text": [
      "450 (9, 7)\n",
      "451 (404, 7)\n"
     ]
    },
    {
     "name": "stderr",
     "output_type": "stream",
     "text": [
      "100%|██████████| 2/2 [00:00<00:00,  8.75it/s]\n",
      "100%|██████████| 1/1 [00:00<00:00, 10.10it/s]\n",
      "  0%|          | 0/5 [00:00<?, ?it/s]"
     ]
    },
    {
     "name": "stdout",
     "output_type": "stream",
     "text": [
      "452 (169, 7)\n",
      "453 (1219, 7)\n"
     ]
    },
    {
     "name": "stderr",
     "output_type": "stream",
     "text": [
      "100%|██████████| 5/5 [00:00<00:00,  7.40it/s]\n",
      "100%|██████████| 2/2 [00:00<00:00, 11.37it/s]\n",
      "  0%|          | 0/1 [00:00<?, ?it/s]"
     ]
    },
    {
     "name": "stdout",
     "output_type": "stream",
     "text": [
      "No columns to parse from file\n",
      "455 (296, 7)\n",
      "456 (241, 7)\n"
     ]
    },
    {
     "name": "stderr",
     "output_type": "stream",
     "text": [
      "100%|██████████| 1/1 [00:00<00:00,  7.43it/s]\n",
      "100%|██████████| 1/1 [00:00<00:00, 36.28it/s]\n",
      "100%|██████████| 1/1 [00:00<00:00, 57.35it/s]\n",
      "/home/bakirillov/HDD/works/Skoltech/CRISPR_CAD/uace/src/core.py:966: RuntimeWarning: invalid value encountered in true_divide\n",
      "  self.S[self.label_column]\n",
      "100%|██████████| 1/1 [00:00<00:00, 51.73it/s]\n",
      "  0%|          | 0/22 [00:00<?, ?it/s]"
     ]
    },
    {
     "name": "stdout",
     "output_type": "stream",
     "text": [
      "457 (34, 7)\n",
      "458 (10, 7)\n",
      "459 (12, 7)\n",
      "460 (5486, 7)\n"
     ]
    },
    {
     "name": "stderr",
     "output_type": "stream",
     "text": [
      "100%|██████████| 22/22 [00:03<00:00,  7.21it/s]\n",
      "100%|██████████| 1/1 [00:00<00:00, 33.31it/s]\n",
      "  5%|▍         | 1/22 [00:00<00:02,  7.02it/s]"
     ]
    },
    {
     "name": "stdout",
     "output_type": "stream",
     "text": [
      "461 (31, 7)\n",
      "462 (5552, 7)\n"
     ]
    },
    {
     "name": "stderr",
     "output_type": "stream",
     "text": [
      "100%|██████████| 22/22 [00:03<00:00,  7.10it/s]\n",
      "100%|██████████| 1/1 [00:00<00:00, 51.83it/s]\n",
      "100%|██████████| 1/1 [00:00<00:00, 22.79it/s]\n",
      "  0%|          | 0/10 [00:00<?, ?it/s]"
     ]
    },
    {
     "name": "stdout",
     "output_type": "stream",
     "text": [
      "463 (17, 7)\n",
      "464 (69, 7)\n",
      "465 (2426, 7)\n"
     ]
    },
    {
     "name": "stderr",
     "output_type": "stream",
     "text": [
      "100%|██████████| 10/10 [00:01<00:00,  7.75it/s]\n",
      "100%|██████████| 2/2 [00:00<00:00, 11.09it/s]\n",
      "  0%|          | 0/2 [00:00<?, ?it/s]"
     ]
    },
    {
     "name": "stdout",
     "output_type": "stream",
     "text": [
      "466 (328, 7)\n",
      "467 (452, 7)\n"
     ]
    },
    {
     "name": "stderr",
     "output_type": "stream",
     "text": [
      "100%|██████████| 2/2 [00:00<00:00,  8.18it/s]\n",
      "/home/bakirillov/HDD/works/Skoltech/CRISPR_CAD/uace/src/core.py:966: RuntimeWarning: invalid value encountered in true_divide\n",
      "  self.S[self.label_column]\n",
      "100%|██████████| 1/1 [00:00<00:00, 69.26it/s]\n",
      "100%|██████████| 1/1 [00:00<00:00, 60.16it/s]\n",
      " 33%|███▎      | 1/3 [00:00<00:00,  7.31it/s]"
     ]
    },
    {
     "name": "stdout",
     "output_type": "stream",
     "text": [
      "468 (6, 7)\n",
      "469 (9, 7)\n",
      "470 (556, 7)\n"
     ]
    },
    {
     "name": "stderr",
     "output_type": "stream",
     "text": [
      "100%|██████████| 3/3 [00:00<00:00,  9.73it/s]\n",
      " 50%|█████     | 1/2 [00:00<00:00,  7.49it/s]"
     ]
    },
    {
     "name": "stdout",
     "output_type": "stream",
     "text": [
      "471 (405, 7)\n"
     ]
    },
    {
     "name": "stderr",
     "output_type": "stream",
     "text": [
      "100%|██████████| 2/2 [00:00<00:00,  9.12it/s]\n",
      "100%|██████████| 1/1 [00:00<00:00, 27.83it/s]\n",
      " 20%|██        | 1/5 [00:00<00:00,  7.40it/s]"
     ]
    },
    {
     "name": "stdout",
     "output_type": "stream",
     "text": [
      "472 (51, 7)\n",
      "473 (1104, 7)\n"
     ]
    },
    {
     "name": "stderr",
     "output_type": "stream",
     "text": [
      "100%|██████████| 5/5 [00:00<00:00,  8.40it/s]\n",
      "100%|██████████| 1/1 [00:00<00:00, 61.24it/s]\n",
      " 50%|█████     | 1/2 [00:00<00:00,  7.63it/s]"
     ]
    },
    {
     "name": "stdout",
     "output_type": "stream",
     "text": [
      "474 (2, 7)\n",
      "475 (425, 7)\n"
     ]
    },
    {
     "name": "stderr",
     "output_type": "stream",
     "text": [
      "100%|██████████| 2/2 [00:00<00:00,  9.06it/s]\n",
      "100%|██████████| 1/1 [00:00<00:00, 15.82it/s]\n",
      "100%|██████████| 1/1 [00:00<00:00, 76.60it/s]\n",
      "100%|██████████| 1/1 [00:00<00:00, 58.12it/s]\n",
      "  0%|          | 0/4 [00:00<?, ?it/s]"
     ]
    },
    {
     "name": "stdout",
     "output_type": "stream",
     "text": [
      "476 (115, 7)\n",
      "477 (4, 7)\n",
      "478 (14, 7)\n",
      "479 (801, 7)\n"
     ]
    },
    {
     "name": "stderr",
     "output_type": "stream",
     "text": [
      "100%|██████████| 4/4 [00:00<00:00,  9.40it/s]\n",
      "100%|██████████| 1/1 [00:00<00:00, 40.01it/s]\n",
      " 50%|█████     | 1/2 [00:00<00:00,  7.12it/s]"
     ]
    },
    {
     "name": "stdout",
     "output_type": "stream",
     "text": [
      "No columns to parse from file\n",
      "481 (28, 7)\n",
      "482 (364, 7)\n"
     ]
    },
    {
     "name": "stderr",
     "output_type": "stream",
     "text": [
      "100%|██████████| 2/2 [00:00<00:00,  9.62it/s]\n",
      " 11%|█         | 1/9 [00:00<00:01,  7.05it/s]"
     ]
    },
    {
     "name": "stdout",
     "output_type": "stream",
     "text": [
      "483 (2131, 7)\n"
     ]
    },
    {
     "name": "stderr",
     "output_type": "stream",
     "text": [
      "100%|██████████| 9/9 [00:01<00:00,  7.48it/s]\n",
      "100%|██████████| 1/1 [00:00<00:00, 62.88it/s]\n",
      " 33%|███▎      | 1/3 [00:00<00:00,  6.98it/s]"
     ]
    },
    {
     "name": "stdout",
     "output_type": "stream",
     "text": [
      "484 (8, 7)\n",
      "485 (758, 7)\n"
     ]
    },
    {
     "name": "stderr",
     "output_type": "stream",
     "text": [
      "100%|██████████| 3/3 [00:00<00:00,  7.03it/s]\n",
      " 17%|█▋        | 1/6 [00:00<00:00,  6.92it/s]"
     ]
    },
    {
     "name": "stdout",
     "output_type": "stream",
     "text": [
      "486 (1296, 7)\n"
     ]
    },
    {
     "name": "stderr",
     "output_type": "stream",
     "text": [
      "100%|██████████| 6/6 [00:00<00:00,  8.16it/s]\n",
      "100%|██████████| 1/1 [00:00<00:00, 22.30it/s]\n",
      "  0%|          | 0/16 [00:00<?, ?it/s]"
     ]
    },
    {
     "name": "stdout",
     "output_type": "stream",
     "text": [
      "487 (67, 7)\n",
      "488 (3860, 7)\n"
     ]
    },
    {
     "name": "stderr",
     "output_type": "stream",
     "text": [
      "100%|██████████| 16/16 [00:02<00:00,  7.48it/s]\n",
      " 14%|█▍        | 1/7 [00:00<00:00,  7.04it/s]"
     ]
    },
    {
     "name": "stdout",
     "output_type": "stream",
     "text": [
      "489 (1777, 7)\n"
     ]
    },
    {
     "name": "stderr",
     "output_type": "stream",
     "text": [
      "100%|██████████| 7/7 [00:00<00:00,  7.14it/s]\n",
      "100%|██████████| 1/1 [00:00<00:00, 15.85it/s]\n",
      "100%|██████████| 1/1 [00:00<00:00, 83.85it/s]\n",
      "100%|██████████| 1/1 [00:00<00:00, 35.30it/s]\n",
      "  0%|          | 0/1 [00:00<?, ?it/s]"
     ]
    },
    {
     "name": "stdout",
     "output_type": "stream",
     "text": [
      "490 (105, 7)\n",
      "491 (1, 7)\n",
      "492 (36, 7)\n",
      "493 (239, 7)\n"
     ]
    },
    {
     "name": "stderr",
     "output_type": "stream",
     "text": [
      "100%|██████████| 1/1 [00:00<00:00,  7.65it/s]\n",
      "100%|██████████| 1/1 [00:00<00:00, 45.93it/s]\n",
      "100%|██████████| 1/1 [00:00<00:00, 37.66it/s]\n",
      "100%|██████████| 1/1 [00:00<00:00, 59.73it/s]\n",
      "100%|██████████| 1/1 [00:00<00:00, 23.14it/s]\n",
      "/home/bakirillov/HDD/works/Skoltech/CRISPR_CAD/uace/src/core.py:966: RuntimeWarning: invalid value encountered in true_divide\n",
      "  self.S[self.label_column]\n",
      "100%|██████████| 1/1 [00:00<00:00, 61.03it/s]\n",
      "  0%|          | 0/3 [00:00<?, ?it/s]"
     ]
    },
    {
     "name": "stdout",
     "output_type": "stream",
     "text": [
      "494 (19, 7)\n",
      "495 (28, 7)\n",
      "496 (11, 7)\n",
      "497 (63, 7)\n",
      "498 (6, 7)\n",
      "499 (684, 7)\n"
     ]
    },
    {
     "name": "stderr",
     "output_type": "stream",
     "text": [
      "100%|██████████| 3/3 [00:00<00:00,  7.72it/s]\n",
      " 50%|█████     | 1/2 [00:00<00:00,  7.04it/s]"
     ]
    },
    {
     "name": "stdout",
     "output_type": "stream",
     "text": [
      "500 (373, 7)\n"
     ]
    },
    {
     "name": "stderr",
     "output_type": "stream",
     "text": [
      "100%|██████████| 2/2 [00:00<00:00,  9.36it/s]\n",
      " 14%|█▍        | 1/7 [00:00<00:00,  7.09it/s]"
     ]
    },
    {
     "name": "stdout",
     "output_type": "stream",
     "text": [
      "501 (1686, 7)\n"
     ]
    },
    {
     "name": "stderr",
     "output_type": "stream",
     "text": [
      "100%|██████████| 7/7 [00:00<00:00,  7.45it/s]\n",
      " 33%|███▎      | 1/3 [00:00<00:00,  6.80it/s]"
     ]
    },
    {
     "name": "stdout",
     "output_type": "stream",
     "text": [
      "502 (717, 7)\n"
     ]
    },
    {
     "name": "stderr",
     "output_type": "stream",
     "text": [
      "100%|██████████| 3/3 [00:00<00:00,  7.12it/s]\n",
      "100%|██████████| 1/1 [00:00<00:00, 22.74it/s]\n",
      "100%|██████████| 1/1 [00:00<00:00, 64.03it/s]\n",
      "/home/bakirillov/HDD/works/Skoltech/CRISPR_CAD/uace/src/core.py:966: RuntimeWarning: invalid value encountered in true_divide\n",
      "  self.S[self.label_column]\n",
      "100%|██████████| 1/1 [00:00<00:00, 48.25it/s]\n",
      "  0%|          | 0/8 [00:00<?, ?it/s]"
     ]
    },
    {
     "name": "stdout",
     "output_type": "stream",
     "text": [
      "503 (61, 7)\n",
      "No columns to parse from file\n",
      "505 (7, 7)\n",
      "506 (18, 7)\n",
      "507 (1919, 7)\n"
     ]
    },
    {
     "name": "stderr",
     "output_type": "stream",
     "text": [
      "100%|██████████| 8/8 [00:01<00:00,  7.44it/s]\n",
      " 20%|██        | 1/5 [00:00<00:00,  7.18it/s]"
     ]
    },
    {
     "name": "stdout",
     "output_type": "stream",
     "text": [
      "508 (1057, 7)\n"
     ]
    },
    {
     "name": "stderr",
     "output_type": "stream",
     "text": [
      "100%|██████████| 5/5 [00:00<00:00,  8.45it/s]\n",
      " 50%|█████     | 1/2 [00:00<00:00,  7.01it/s]"
     ]
    },
    {
     "name": "stdout",
     "output_type": "stream",
     "text": [
      "509 (463, 7)\n"
     ]
    },
    {
     "name": "stderr",
     "output_type": "stream",
     "text": [
      "100%|██████████| 2/2 [00:00<00:00,  7.63it/s]\n",
      "100%|██████████| 1/1 [00:00<00:00, 64.69it/s]\n",
      "  7%|▋         | 1/14 [00:00<00:01,  7.02it/s]"
     ]
    },
    {
     "name": "stdout",
     "output_type": "stream",
     "text": [
      "510 (9, 7)\n",
      "511 (3491, 7)\n"
     ]
    },
    {
     "name": "stderr",
     "output_type": "stream",
     "text": [
      "100%|██████████| 14/14 [00:01<00:00,  7.30it/s]\n",
      "100%|██████████| 1/1 [00:00<00:00, 28.61it/s]\n",
      "100%|██████████| 1/1 [00:00<00:00,  9.82it/s]\n",
      "  0%|          | 0/6 [00:00<?, ?it/s]"
     ]
    },
    {
     "name": "stdout",
     "output_type": "stream",
     "text": [
      "512 (52, 7)\n",
      "513 (192, 7)\n",
      "514 (1410, 7)\n"
     ]
    },
    {
     "name": "stderr",
     "output_type": "stream",
     "text": [
      "100%|██████████| 6/6 [00:00<00:00,  8.05it/s]\n",
      "100%|██████████| 1/1 [00:00<00:00, 27.45it/s]\n",
      " 17%|█▋        | 1/6 [00:00<00:00,  7.58it/s]"
     ]
    },
    {
     "name": "stdout",
     "output_type": "stream",
     "text": [
      "515 (53, 7)\n",
      "516 (1531, 7)\n"
     ]
    },
    {
     "name": "stderr",
     "output_type": "stream",
     "text": [
      "100%|██████████| 6/6 [00:00<00:00,  7.47it/s]\n",
      "  1%|▏         | 1/73 [00:00<00:09,  7.46it/s]"
     ]
    },
    {
     "name": "stdout",
     "output_type": "stream",
     "text": [
      "517 (18654, 7)\n"
     ]
    },
    {
     "name": "stderr",
     "output_type": "stream",
     "text": [
      "100%|██████████| 73/73 [00:09<00:00,  7.60it/s]\n",
      "  6%|▌         | 1/18 [00:00<00:02,  7.58it/s]"
     ]
    },
    {
     "name": "stdout",
     "output_type": "stream",
     "text": [
      "518 (4544, 7)\n"
     ]
    },
    {
     "name": "stderr",
     "output_type": "stream",
     "text": [
      "100%|██████████| 18/18 [00:02<00:00,  7.74it/s]\n",
      "  9%|▉         | 1/11 [00:00<00:01,  7.65it/s]"
     ]
    },
    {
     "name": "stdout",
     "output_type": "stream",
     "text": [
      "519 (2758, 7)\n"
     ]
    },
    {
     "name": "stderr",
     "output_type": "stream",
     "text": [
      "100%|██████████| 11/11 [00:01<00:00,  7.29it/s]\n",
      "100%|██████████| 1/1 [00:00<00:00, 52.64it/s]\n",
      "100%|██████████| 1/1 [00:00<00:00, 29.98it/s]\n",
      "100%|██████████| 1/1 [00:00<00:00, 24.76it/s]\n",
      "  0%|          | 0/4 [00:00<?, ?it/s]"
     ]
    },
    {
     "name": "stdout",
     "output_type": "stream",
     "text": [
      "520 (15, 7)\n",
      "521 (45, 7)\n",
      "522 (59, 7)\n",
      "523 (805, 7)\n"
     ]
    },
    {
     "name": "stderr",
     "output_type": "stream",
     "text": [
      "100%|██████████| 4/4 [00:00<00:00,  8.81it/s]\n",
      "100%|██████████| 1/1 [00:00<00:00, 45.26it/s]\n",
      "/home/bakirillov/HDD/works/Skoltech/CRISPR_CAD/uace/src/core.py:966: RuntimeWarning: invalid value encountered in true_divide\n",
      "  self.S[self.label_column]\n",
      "100%|██████████| 1/1 [00:00<00:00, 70.37it/s]\n",
      "100%|██████████| 1/1 [00:00<00:00, 20.18it/s]\n",
      "100%|██████████| 1/1 [00:00<00:00, 32.31it/s]\n",
      "  0%|          | 0/2 [00:00<?, ?it/s]"
     ]
    },
    {
     "name": "stdout",
     "output_type": "stream",
     "text": [
      "524 (19, 7)\n",
      "525 (6, 7)\n",
      "526 (78, 7)\n",
      "527 (40, 7)\n",
      "528 (469, 7)\n"
     ]
    },
    {
     "name": "stderr",
     "output_type": "stream",
     "text": [
      "100%|██████████| 2/2 [00:00<00:00,  7.68it/s]\n",
      "  8%|▊         | 1/13 [00:00<00:01,  7.11it/s]"
     ]
    },
    {
     "name": "stdout",
     "output_type": "stream",
     "text": [
      "529 (3212, 7)\n"
     ]
    },
    {
     "name": "stderr",
     "output_type": "stream",
     "text": [
      "100%|██████████| 13/13 [00:01<00:00,  7.28it/s]\n",
      "/home/bakirillov/HDD/works/Skoltech/CRISPR_CAD/uace/src/core.py:966: RuntimeWarning: invalid value encountered in true_divide\n",
      "  self.S[self.label_column]\n",
      "100%|██████████| 1/1 [00:00<00:00, 63.17it/s]\n",
      "100%|██████████| 1/1 [00:00<00:00, 12.45it/s]\n",
      "100%|██████████| 1/1 [00:00<00:00, 29.70it/s]\n",
      "100%|██████████| 1/1 [00:00<00:00, 27.37it/s]"
     ]
    },
    {
     "name": "stdout",
     "output_type": "stream",
     "text": [
      "530 (6, 7)\n",
      "531 (138, 7)\n",
      "532 (46, 7)\n",
      "533 (52, 7)\n",
      "534 (13, 7)\n"
     ]
    },
    {
     "name": "stderr",
     "output_type": "stream",
     "text": [
      "\n",
      "100%|██████████| 1/1 [00:00<00:00, 50.32it/s]\n",
      "100%|██████████| 1/1 [00:00<00:00, 46.94it/s]\n",
      "100%|██████████| 1/1 [00:00<00:00, 19.80it/s]\n",
      "/home/bakirillov/HDD/works/Skoltech/CRISPR_CAD/uace/src/core.py:966: RuntimeWarning: invalid value encountered in true_divide\n",
      "  self.S[self.label_column]\n",
      "100%|██████████| 1/1 [00:00<00:00, 67.47it/s]\n",
      "  0%|          | 0/4 [00:00<?, ?it/s]"
     ]
    },
    {
     "name": "stdout",
     "output_type": "stream",
     "text": [
      "535 (18, 7)\n",
      "536 (76, 7)\n",
      "537 (6, 7)\n",
      "538 (941, 7)\n"
     ]
    },
    {
     "name": "stderr",
     "output_type": "stream",
     "text": [
      "100%|██████████| 4/4 [00:00<00:00,  7.62it/s]\n",
      "  5%|▌         | 1/20 [00:00<00:02,  7.02it/s]"
     ]
    },
    {
     "name": "stdout",
     "output_type": "stream",
     "text": [
      "539 (5060, 7)\n"
     ]
    },
    {
     "name": "stderr",
     "output_type": "stream",
     "text": [
      "100%|██████████| 20/20 [00:02<00:00,  7.10it/s]\n",
      "100%|██████████| 1/1 [00:00<00:00, 50.27it/s]\n",
      "100%|██████████| 1/1 [00:00<00:00, 79.02it/s]\n",
      "100%|██████████| 1/1 [00:00<00:00, 68.56it/s]\n",
      "100%|██████████| 1/1 [00:00<00:00, 78.57it/s]\n",
      "/home/bakirillov/HDD/works/Skoltech/CRISPR_CAD/uace/src/core.py:966: RuntimeWarning: invalid value encountered in true_divide\n",
      "  self.S[self.label_column]\n",
      "100%|██████████| 1/1 [00:00<00:00, 51.04it/s]\n",
      "100%|██████████| 1/1 [00:00<00:00, 39.18it/s]\n",
      "100%|██████████| 1/1 [00:00<00:00, 26.09it/s]"
     ]
    },
    {
     "name": "stdout",
     "output_type": "stream",
     "text": [
      "540 (13, 7)\n",
      "541 (3, 7)\n",
      "542 (5, 7)\n",
      "543 (3, 7)\n",
      "544 (18, 7)\n",
      "545 (30, 7)\n",
      "546 (55, 7)\n"
     ]
    },
    {
     "name": "stderr",
     "output_type": "stream",
     "text": [
      "\n",
      "100%|██████████| 1/1 [00:00<00:00, 54.55it/s]\n",
      "100%|██████████| 1/1 [00:00<00:00,  8.29it/s]\n",
      "100%|██████████| 1/1 [00:00<00:00, 27.57it/s]"
     ]
    },
    {
     "name": "stdout",
     "output_type": "stream",
     "text": [
      "547 (11, 7)\n",
      "548 (214, 7)\n",
      "549 (49, 7)\n"
     ]
    },
    {
     "name": "stderr",
     "output_type": "stream",
     "text": [
      "\n",
      " 33%|███▎      | 1/3 [00:00<00:00,  6.98it/s]"
     ]
    },
    {
     "name": "stdout",
     "output_type": "stream",
     "text": [
      "550 (521, 7)\n"
     ]
    },
    {
     "name": "stderr",
     "output_type": "stream",
     "text": [
      "100%|██████████| 3/3 [00:00<00:00,  9.87it/s]\n",
      "100%|██████████| 1/1 [00:00<00:00, 21.59it/s]\n",
      "100%|██████████| 1/1 [00:00<00:00, 40.26it/s]\n",
      "100%|██████████| 1/1 [00:00<00:00, 14.21it/s]\n",
      "100%|██████████| 1/1 [00:00<00:00, 55.52it/s]\n",
      "  0%|          | 0/1 [00:00<?, ?it/s]"
     ]
    },
    {
     "name": "stdout",
     "output_type": "stream",
     "text": [
      "551 (74, 7)\n",
      "552 (28, 7)\n",
      "553 (126, 7)\n",
      "554 (13, 7)\n",
      "555 (83, 7)\n"
     ]
    },
    {
     "name": "stderr",
     "output_type": "stream",
     "text": [
      "100%|██████████| 1/1 [00:00<00:00, 19.52it/s]\n",
      " 50%|█████     | 1/2 [00:00<00:00,  7.41it/s]"
     ]
    },
    {
     "name": "stdout",
     "output_type": "stream",
     "text": [
      "556 (472, 7)\n"
     ]
    },
    {
     "name": "stderr",
     "output_type": "stream",
     "text": [
      "100%|██████████| 2/2 [00:00<00:00,  7.70it/s]\n",
      " 50%|█████     | 1/2 [00:00<00:00,  7.25it/s]"
     ]
    },
    {
     "name": "stdout",
     "output_type": "stream",
     "text": [
      "557 (458, 7)\n"
     ]
    },
    {
     "name": "stderr",
     "output_type": "stream",
     "text": [
      "100%|██████████| 2/2 [00:00<00:00,  7.96it/s]\n",
      " 20%|██        | 1/5 [00:00<00:00,  7.24it/s]"
     ]
    },
    {
     "name": "stdout",
     "output_type": "stream",
     "text": [
      "558 (1109, 7)\n"
     ]
    },
    {
     "name": "stderr",
     "output_type": "stream",
     "text": [
      "100%|██████████| 5/5 [00:00<00:00,  8.26it/s]\n",
      "100%|██████████| 1/1 [00:00<00:00, 34.98it/s]\n",
      "100%|██████████| 1/1 [00:00<00:00,  7.80it/s]\n",
      "/home/bakirillov/HDD/works/Skoltech/CRISPR_CAD/uace/src/core.py:966: RuntimeWarning: invalid value encountered in true_divide\n",
      "  self.S[self.label_column]\n",
      "100%|██████████| 1/1 [00:00<00:00, 63.70it/s]"
     ]
    },
    {
     "name": "stdout",
     "output_type": "stream",
     "text": [
      "559 (32, 7)\n",
      "560 (235, 7)\n",
      "561 (6, 7)\n",
      "562 (15, 7)\n"
     ]
    },
    {
     "name": "stderr",
     "output_type": "stream",
     "text": [
      "\n",
      "100%|██████████| 1/1 [00:00<00:00, 50.16it/s]\n",
      "  1%|          | 1/94 [00:00<00:12,  7.20it/s]"
     ]
    },
    {
     "name": "stdout",
     "output_type": "stream",
     "text": [
      "563 (23950, 7)\n"
     ]
    },
    {
     "name": "stderr",
     "output_type": "stream",
     "text": [
      "100%|██████████| 94/94 [00:13<00:00,  7.15it/s]\n",
      "100%|██████████| 2/2 [00:00<00:00, 12.33it/s]\n",
      "  0%|          | 0/1 [00:00<?, ?it/s]"
     ]
    },
    {
     "name": "stdout",
     "output_type": "stream",
     "text": [
      "564 (297, 7)\n",
      "565 (173, 7)\n"
     ]
    },
    {
     "name": "stderr",
     "output_type": "stream",
     "text": [
      "100%|██████████| 1/1 [00:00<00:00, 10.96it/s]\n",
      "100%|██████████| 1/1 [00:00<00:00, 68.97it/s]\n",
      "  9%|▉         | 1/11 [00:00<00:01,  7.71it/s]"
     ]
    },
    {
     "name": "stdout",
     "output_type": "stream",
     "text": [
      "566 (8, 7)\n",
      "567 (2630, 7)\n"
     ]
    },
    {
     "name": "stderr",
     "output_type": "stream",
     "text": [
      "100%|██████████| 11/11 [00:01<00:00,  8.12it/s]\n",
      " 33%|███▎      | 1/3 [00:00<00:00,  7.50it/s]"
     ]
    },
    {
     "name": "stdout",
     "output_type": "stream",
     "text": [
      "568 (713, 7)\n"
     ]
    },
    {
     "name": "stderr",
     "output_type": "stream",
     "text": [
      "100%|██████████| 3/3 [00:00<00:00,  7.94it/s]\n",
      "  3%|▎         | 1/36 [00:00<00:04,  7.47it/s]"
     ]
    },
    {
     "name": "stdout",
     "output_type": "stream",
     "text": [
      "569 (9135, 7)\n"
     ]
    },
    {
     "name": "stderr",
     "output_type": "stream",
     "text": [
      "100%|██████████| 36/36 [00:04<00:00,  7.30it/s]\n",
      "  6%|▋         | 1/16 [00:00<00:02,  7.10it/s]"
     ]
    },
    {
     "name": "stdout",
     "output_type": "stream",
     "text": [
      "570 (3846, 7)\n"
     ]
    },
    {
     "name": "stderr",
     "output_type": "stream",
     "text": [
      "100%|██████████| 16/16 [00:02<00:00,  7.58it/s]\n",
      " 33%|███▎      | 1/3 [00:00<00:00,  7.13it/s]"
     ]
    },
    {
     "name": "stdout",
     "output_type": "stream",
     "text": [
      "571 (533, 7)\n"
     ]
    },
    {
     "name": "stderr",
     "output_type": "stream",
     "text": [
      "100%|██████████| 3/3 [00:00<00:00,  9.86it/s]\n",
      "  5%|▍         | 1/22 [00:00<00:02,  7.11it/s]"
     ]
    },
    {
     "name": "stdout",
     "output_type": "stream",
     "text": [
      "572 (5419, 7)\n"
     ]
    },
    {
     "name": "stderr",
     "output_type": "stream",
     "text": [
      "100%|██████████| 22/22 [00:02<00:00,  7.42it/s]\n",
      " 25%|██▌       | 1/4 [00:00<00:00,  7.21it/s]"
     ]
    },
    {
     "name": "stdout",
     "output_type": "stream",
     "text": [
      "573 (976, 7)\n"
     ]
    },
    {
     "name": "stderr",
     "output_type": "stream",
     "text": [
      "100%|██████████| 4/4 [00:00<00:00,  7.50it/s]\n",
      " 25%|██▌       | 1/4 [00:00<00:00,  7.26it/s]"
     ]
    },
    {
     "name": "stdout",
     "output_type": "stream",
     "text": [
      "574 (841, 7)\n"
     ]
    },
    {
     "name": "stderr",
     "output_type": "stream",
     "text": [
      "100%|██████████| 4/4 [00:00<00:00,  8.63it/s]\n",
      "100%|██████████| 1/1 [00:00<00:00, 18.37it/s]\n",
      "100%|██████████| 1/1 [00:00<00:00, 55.42it/s]\n",
      "  0%|          | 0/5 [00:00<?, ?it/s]"
     ]
    },
    {
     "name": "stdout",
     "output_type": "stream",
     "text": [
      "575 (89, 7)\n",
      "576 (15, 7)\n",
      "577 (1177, 7)\n"
     ]
    },
    {
     "name": "stderr",
     "output_type": "stream",
     "text": [
      "100%|██████████| 5/5 [00:00<00:00,  7.77it/s]\n",
      " 10%|█         | 1/10 [00:00<00:01,  7.63it/s]"
     ]
    },
    {
     "name": "stdout",
     "output_type": "stream",
     "text": [
      "578 (2385, 7)\n"
     ]
    },
    {
     "name": "stderr",
     "output_type": "stream",
     "text": [
      "100%|██████████| 10/10 [00:01<00:00,  7.81it/s]\n",
      "100%|██████████| 1/1 [00:00<00:00, 66.25it/s]\n",
      "100%|██████████| 1/1 [00:00<00:00, 42.51it/s]\n",
      " 25%|██▌       | 1/4 [00:00<00:00,  7.47it/s]"
     ]
    },
    {
     "name": "stdout",
     "output_type": "stream",
     "text": [
      "579 (8, 7)\n",
      "580 (25, 7)\n",
      "581 (953, 7)\n"
     ]
    },
    {
     "name": "stderr",
     "output_type": "stream",
     "text": [
      "100%|██████████| 4/4 [00:00<00:00,  7.90it/s]\n",
      "100%|██████████| 1/1 [00:00<00:00, 28.90it/s]\n",
      "100%|██████████| 1/1 [00:00<00:00, 28.00it/s]\n",
      "100%|██████████| 1/1 [00:00<00:00, 36.80it/s]\n",
      "  0%|          | 0/4 [00:00<?, ?it/s]"
     ]
    },
    {
     "name": "stdout",
     "output_type": "stream",
     "text": [
      "582 (48, 7)\n",
      "583 (52, 7)\n",
      "584 (33, 7)\n",
      "585 (839, 7)\n"
     ]
    },
    {
     "name": "stderr",
     "output_type": "stream",
     "text": [
      "100%|██████████| 4/4 [00:00<00:00,  8.76it/s]\n",
      "100%|██████████| 1/1 [00:00<00:00, 39.29it/s]\n",
      "  6%|▋         | 1/16 [00:00<00:02,  7.32it/s]"
     ]
    },
    {
     "name": "stdout",
     "output_type": "stream",
     "text": [
      "586 (26, 7)\n",
      "587 (3969, 7)\n"
     ]
    },
    {
     "name": "stderr",
     "output_type": "stream",
     "text": [
      "100%|██████████| 16/16 [00:02<00:00,  7.49it/s]\n",
      "100%|██████████| 1/1 [00:00<00:00, 28.06it/s]\n",
      " 17%|█▋        | 1/6 [00:00<00:00,  7.07it/s]"
     ]
    },
    {
     "name": "stdout",
     "output_type": "stream",
     "text": [
      "588 (51, 7)\n",
      "589 (1454, 7)\n"
     ]
    },
    {
     "name": "stderr",
     "output_type": "stream",
     "text": [
      "100%|██████████| 6/6 [00:00<00:00,  7.49it/s]\n",
      "  7%|▋         | 1/14 [00:00<00:01,  7.39it/s]"
     ]
    },
    {
     "name": "stdout",
     "output_type": "stream",
     "text": [
      "590 (3370, 7)\n"
     ]
    },
    {
     "name": "stderr",
     "output_type": "stream",
     "text": [
      "100%|██████████| 14/14 [00:01<00:00,  7.73it/s]\n",
      "  8%|▊         | 1/13 [00:00<00:01,  7.42it/s]"
     ]
    },
    {
     "name": "stdout",
     "output_type": "stream",
     "text": [
      "591 (3141, 7)\n"
     ]
    },
    {
     "name": "stderr",
     "output_type": "stream",
     "text": [
      "100%|██████████| 13/13 [00:01<00:00,  7.72it/s]\n",
      "  1%|          | 1/103 [00:00<00:13,  7.33it/s]"
     ]
    },
    {
     "name": "stdout",
     "output_type": "stream",
     "text": [
      "592 (26129, 7)\n"
     ]
    },
    {
     "name": "stderr",
     "output_type": "stream",
     "text": [
      "100%|██████████| 103/103 [00:13<00:00,  7.45it/s]\n",
      " 10%|█         | 1/10 [00:00<00:01,  7.25it/s]"
     ]
    },
    {
     "name": "stdout",
     "output_type": "stream",
     "text": [
      "593 (2308, 7)\n"
     ]
    },
    {
     "name": "stderr",
     "output_type": "stream",
     "text": [
      "100%|██████████| 10/10 [00:01<00:00,  8.00it/s]\n",
      " 11%|█         | 1/9 [00:00<00:01,  7.29it/s]"
     ]
    },
    {
     "name": "stdout",
     "output_type": "stream",
     "text": [
      "594 (2192, 7)\n"
     ]
    },
    {
     "name": "stderr",
     "output_type": "stream",
     "text": [
      "100%|██████████| 9/9 [00:01<00:00,  7.47it/s]\n",
      "100%|██████████| 1/1 [00:00<00:00, 33.25it/s]\n",
      "  7%|▋         | 1/15 [00:00<00:01,  7.40it/s]"
     ]
    },
    {
     "name": "stdout",
     "output_type": "stream",
     "text": [
      "595 (38, 7)\n",
      "596 (3662, 7)\n"
     ]
    },
    {
     "name": "stderr",
     "output_type": "stream",
     "text": [
      "100%|██████████| 15/15 [00:01<00:00,  7.85it/s]\n",
      "100%|██████████| 1/1 [00:00<00:00, 69.72it/s]\n",
      " 25%|██▌       | 1/4 [00:00<00:00,  7.66it/s]"
     ]
    },
    {
     "name": "stdout",
     "output_type": "stream",
     "text": [
      "597 (8, 7)\n",
      "598 (853, 7)\n"
     ]
    },
    {
     "name": "stderr",
     "output_type": "stream",
     "text": [
      "100%|██████████| 4/4 [00:00<00:00,  9.01it/s]\n",
      "100%|██████████| 1/1 [00:00<00:00,  8.08it/s]\n",
      "100%|██████████| 1/1 [00:00<00:00, 33.11it/s]\n",
      "  0%|          | 0/1 [00:00<?, ?it/s]"
     ]
    },
    {
     "name": "stdout",
     "output_type": "stream",
     "text": [
      "599 (240, 7)\n",
      "600 (32, 7)\n",
      "601 (81, 7)\n"
     ]
    },
    {
     "name": "stderr",
     "output_type": "stream",
     "text": [
      "100%|██████████| 1/1 [00:00<00:00, 20.09it/s]\n",
      "100%|██████████| 1/1 [00:00<00:00, 16.58it/s]\n",
      "100%|██████████| 1/1 [00:00<00:00, 25.15it/s]\n",
      "  0%|          | 0/54 [00:00<?, ?it/s]"
     ]
    },
    {
     "name": "stdout",
     "output_type": "stream",
     "text": [
      "602 (106, 7)\n",
      "603 (63, 7)\n",
      "604 (13588, 7)\n"
     ]
    },
    {
     "name": "stderr",
     "output_type": "stream",
     "text": [
      "100%|██████████| 54/54 [00:07<00:00,  7.47it/s]\n",
      "100%|██████████| 1/1 [00:00<00:00, 19.91it/s]\n",
      "  0%|          | 0/3 [00:00<?, ?it/s]"
     ]
    },
    {
     "name": "stdout",
     "output_type": "stream",
     "text": [
      "605 (67, 7)\n",
      "No columns to parse from file\n",
      "607 (626, 7)\n"
     ]
    },
    {
     "name": "stderr",
     "output_type": "stream",
     "text": [
      "100%|██████████| 3/3 [00:00<00:00,  7.99it/s]\n",
      "100%|██████████| 1/1 [00:00<00:00, 17.25it/s]\n",
      "  0%|          | 0/2 [00:00<?, ?it/s]"
     ]
    },
    {
     "name": "stdout",
     "output_type": "stream",
     "text": [
      "608 (86, 7)\n",
      "609 (333, 7)\n"
     ]
    },
    {
     "name": "stderr",
     "output_type": "stream",
     "text": [
      "100%|██████████| 2/2 [00:00<00:00, 10.52it/s]\n",
      "100%|██████████| 1/1 [00:00<00:00, 26.85it/s]\n",
      " 25%|██▌       | 1/4 [00:00<00:00,  7.15it/s]"
     ]
    },
    {
     "name": "stdout",
     "output_type": "stream",
     "text": [
      "610 (51, 7)\n",
      "611 (882, 7)\n"
     ]
    },
    {
     "name": "stderr",
     "output_type": "stream",
     "text": [
      "100%|██████████| 4/4 [00:00<00:00,  7.98it/s]\n",
      "/home/bakirillov/HDD/works/Skoltech/CRISPR_CAD/uace/src/core.py:966: RuntimeWarning: invalid value encountered in true_divide\n",
      "  self.S[self.label_column]\n",
      "100%|██████████| 1/1 [00:00<00:00, 53.67it/s]\n",
      "100%|██████████| 1/1 [00:00<00:00, 25.25it/s]\n",
      "  0%|          | 0/4 [00:00<?, ?it/s]"
     ]
    },
    {
     "name": "stdout",
     "output_type": "stream",
     "text": [
      "612 (12, 7)\n",
      "613 (54, 7)\n",
      "614 (971, 7)\n"
     ]
    },
    {
     "name": "stderr",
     "output_type": "stream",
     "text": [
      "100%|██████████| 4/4 [00:00<00:00,  7.37it/s]\n",
      "100%|██████████| 1/1 [00:00<00:00, 36.92it/s]\n",
      "100%|██████████| 1/1 [00:00<00:00, 57.65it/s]\n",
      "100%|██████████| 1/1 [00:00<00:00, 25.43it/s]\n",
      "/home/bakirillov/HDD/works/Skoltech/CRISPR_CAD/uace/src/core.py:966: RuntimeWarning: invalid value encountered in true_divide\n",
      "  self.S[self.label_column]\n",
      "100%|██████████| 1/1 [00:00<00:00, 58.88it/s]\n",
      "100%|██████████| 1/1 [00:00<00:00, 34.68it/s]\n",
      "  0%|          | 0/1 [00:00<?, ?it/s]"
     ]
    },
    {
     "name": "stdout",
     "output_type": "stream",
     "text": [
      "615 (33, 7)\n",
      "616 (14, 7)\n",
      "617 (53, 7)\n",
      "618 (12, 7)\n",
      "619 (36, 7)\n",
      "620 (159, 7)\n"
     ]
    },
    {
     "name": "stderr",
     "output_type": "stream",
     "text": [
      "100%|██████████| 1/1 [00:00<00:00,  8.62it/s]\n",
      " 20%|██        | 1/5 [00:00<00:00,  7.31it/s]"
     ]
    },
    {
     "name": "stdout",
     "output_type": "stream",
     "text": [
      "621 (1171, 7)\n"
     ]
    },
    {
     "name": "stderr",
     "output_type": "stream",
     "text": [
      "100%|██████████| 5/5 [00:00<00:00,  7.97it/s]\n",
      "100%|██████████| 1/1 [00:00<00:00, 33.42it/s]\n",
      "100%|██████████| 1/1 [00:00<00:00, 32.69it/s]\n",
      "100%|██████████| 1/1 [00:00<00:00, 19.84it/s]\n",
      "100%|██████████| 1/1 [00:00<00:00, 43.50it/s]\n",
      "  0%|          | 0/5 [00:00<?, ?it/s]"
     ]
    },
    {
     "name": "stdout",
     "output_type": "stream",
     "text": [
      "622 (38, 7)\n",
      "623 (41, 7)\n",
      "624 (83, 7)\n",
      "625 (25, 7)\n",
      "626 (1131, 7)\n"
     ]
    },
    {
     "name": "stderr",
     "output_type": "stream",
     "text": [
      "100%|██████████| 5/5 [00:00<00:00,  8.30it/s]\n",
      "  4%|▍         | 1/23 [00:00<00:02,  7.35it/s]"
     ]
    },
    {
     "name": "stdout",
     "output_type": "stream",
     "text": [
      "627 (5790, 7)\n"
     ]
    },
    {
     "name": "stderr",
     "output_type": "stream",
     "text": [
      "100%|██████████| 23/23 [00:03<00:00,  7.23it/s]\n",
      "100%|██████████| 1/1 [00:00<00:00, 67.62it/s]\n",
      " 14%|█▍        | 1/7 [00:00<00:00,  7.18it/s]"
     ]
    },
    {
     "name": "stdout",
     "output_type": "stream",
     "text": [
      "628 (3, 7)\n",
      "629 (1613, 7)\n"
     ]
    },
    {
     "name": "stderr",
     "output_type": "stream",
     "text": [
      "100%|██████████| 7/7 [00:00<00:00,  7.87it/s]\n",
      " 12%|█▎        | 1/8 [00:00<00:00,  7.03it/s]"
     ]
    },
    {
     "name": "stdout",
     "output_type": "stream",
     "text": [
      "630 (1982, 7)\n"
     ]
    },
    {
     "name": "stderr",
     "output_type": "stream",
     "text": [
      "100%|██████████| 8/8 [00:01<00:00,  7.35it/s]\n",
      "100%|██████████| 1/1 [00:00<00:00,  9.63it/s]\n",
      "100%|██████████| 1/1 [00:00<00:00, 14.03it/s]\n",
      "  0%|          | 0/1 [00:00<?, ?it/s]"
     ]
    },
    {
     "name": "stdout",
     "output_type": "stream",
     "text": [
      "631 (182, 7)\n",
      "632 (124, 7)\n",
      "633 (55, 7)\n"
     ]
    },
    {
     "name": "stderr",
     "output_type": "stream",
     "text": [
      "100%|██████████| 1/1 [00:00<00:00, 26.20it/s]\n",
      " 17%|█▋        | 1/6 [00:00<00:00,  7.27it/s]"
     ]
    },
    {
     "name": "stdout",
     "output_type": "stream",
     "text": [
      "634 (1498, 7)\n"
     ]
    },
    {
     "name": "stderr",
     "output_type": "stream",
     "text": [
      "100%|██████████| 6/6 [00:00<00:00,  7.28it/s]\n",
      " 20%|██        | 1/5 [00:00<00:00,  7.21it/s]"
     ]
    },
    {
     "name": "stdout",
     "output_type": "stream",
     "text": [
      "635 (1044, 7)\n"
     ]
    },
    {
     "name": "stderr",
     "output_type": "stream",
     "text": [
      "100%|██████████| 5/5 [00:00<00:00,  8.63it/s]\n",
      " 12%|█▎        | 1/8 [00:00<00:00,  7.14it/s]"
     ]
    },
    {
     "name": "stdout",
     "output_type": "stream",
     "text": [
      "636 (1909, 7)\n"
     ]
    },
    {
     "name": "stderr",
     "output_type": "stream",
     "text": [
      "100%|██████████| 8/8 [00:01<00:00,  7.66it/s]\n",
      " 50%|█████     | 1/2 [00:00<00:00,  6.74it/s]"
     ]
    },
    {
     "name": "stdout",
     "output_type": "stream",
     "text": [
      "637 (467, 7)\n"
     ]
    },
    {
     "name": "stderr",
     "output_type": "stream",
     "text": [
      "100%|██████████| 2/2 [00:00<00:00,  7.32it/s]\n",
      "100%|██████████| 1/1 [00:00<00:00, 51.39it/s]\n",
      "100%|██████████| 1/1 [00:00<00:00, 37.88it/s]\n",
      "100%|██████████| 1/1 [00:00<00:00, 72.48it/s]\n",
      "100%|██████████| 1/1 [00:00<00:00, 36.16it/s]\n",
      "  0%|          | 0/37 [00:00<?, ?it/s]"
     ]
    },
    {
     "name": "stdout",
     "output_type": "stream",
     "text": [
      "638 (11, 7)\n",
      "639 (25, 7)\n",
      "640 (4, 7)\n",
      "641 (32, 7)\n",
      "642 (9316, 7)\n"
     ]
    },
    {
     "name": "stderr",
     "output_type": "stream",
     "text": [
      "100%|██████████| 37/37 [00:05<00:00,  6.79it/s]\n",
      "100%|██████████| 1/1 [00:00<00:00, 12.25it/s]\n",
      "100%|██████████| 1/1 [00:00<00:00, 52.72it/s]\n",
      "100%|██████████| 1/1 [00:00<00:00, 23.24it/s]\n",
      "  0%|          | 0/1 [00:00<?, ?it/s]"
     ]
    },
    {
     "name": "stdout",
     "output_type": "stream",
     "text": [
      "643 (128, 7)\n",
      "644 (13, 7)\n",
      "No columns to parse from file\n",
      "646 (61, 7)\n",
      "647 (55, 7)\n"
     ]
    },
    {
     "name": "stderr",
     "output_type": "stream",
     "text": [
      "100%|██████████| 1/1 [00:00<00:00, 24.06it/s]\n",
      "100%|██████████| 1/1 [00:00<00:00, 11.73it/s]\n",
      "100%|██████████| 1/1 [00:00<00:00, 58.80it/s]\n",
      "  0%|          | 0/2 [00:00<?, ?it/s]"
     ]
    },
    {
     "name": "stdout",
     "output_type": "stream",
     "text": [
      "No columns to parse from file\n",
      "649 (133, 7)\n",
      "650 (9, 7)\n",
      "651 (420, 7)\n"
     ]
    },
    {
     "name": "stderr",
     "output_type": "stream",
     "text": [
      "100%|██████████| 2/2 [00:00<00:00,  7.82it/s]\n",
      "100%|██████████| 1/1 [00:00<00:00, 60.95it/s]\n",
      "100%|██████████| 1/1 [00:00<00:00,  9.41it/s]\n",
      "100%|██████████| 1/1 [00:00<00:00, 37.89it/s]\n",
      "  0%|          | 0/2 [00:00<?, ?it/s]"
     ]
    },
    {
     "name": "stdout",
     "output_type": "stream",
     "text": [
      "652 (10, 7)\n",
      "653 (188, 7)\n",
      "No columns to parse from file\n",
      "655 (28, 7)\n",
      "656 (418, 7)\n"
     ]
    },
    {
     "name": "stderr",
     "output_type": "stream",
     "text": [
      "100%|██████████| 2/2 [00:00<00:00,  8.35it/s]\n",
      "100%|██████████| 1/1 [00:00<00:00, 44.40it/s]\n",
      "100%|██████████| 1/1 [00:00<00:00, 25.70it/s]\n",
      "  0%|          | 0/3 [00:00<?, ?it/s]"
     ]
    },
    {
     "name": "stdout",
     "output_type": "stream",
     "text": [
      "657 (21, 7)\n",
      "658 (56, 7)\n",
      "No columns to parse from file\n",
      "660 (675, 7)\n"
     ]
    },
    {
     "name": "stderr",
     "output_type": "stream",
     "text": [
      "100%|██████████| 3/3 [00:00<00:00,  7.97it/s]\n",
      "100%|██████████| 1/1 [00:00<00:00, 76.89it/s]\n",
      " 50%|█████     | 1/2 [00:00<00:00,  7.14it/s]"
     ]
    },
    {
     "name": "stdout",
     "output_type": "stream",
     "text": [
      "661 (2, 7)\n",
      "662 (478, 7)\n"
     ]
    },
    {
     "name": "stderr",
     "output_type": "stream",
     "text": [
      "100%|██████████| 2/2 [00:00<00:00,  7.41it/s]\n",
      " 50%|█████     | 1/2 [00:00<00:00,  6.76it/s]"
     ]
    },
    {
     "name": "stdout",
     "output_type": "stream",
     "text": [
      "663 (336, 7)\n"
     ]
    },
    {
     "name": "stderr",
     "output_type": "stream",
     "text": [
      "100%|██████████| 2/2 [00:00<00:00,  9.79it/s]\n",
      " 20%|██        | 1/5 [00:00<00:00,  6.81it/s]"
     ]
    },
    {
     "name": "stdout",
     "output_type": "stream",
     "text": [
      "664 (1131, 7)\n"
     ]
    },
    {
     "name": "stderr",
     "output_type": "stream",
     "text": [
      "100%|██████████| 5/5 [00:00<00:00,  7.76it/s]\n",
      " 33%|███▎      | 1/3 [00:00<00:00,  7.61it/s]"
     ]
    },
    {
     "name": "stdout",
     "output_type": "stream",
     "text": [
      "665 (578, 7)\n"
     ]
    },
    {
     "name": "stderr",
     "output_type": "stream",
     "text": [
      "100%|██████████| 3/3 [00:00<00:00,  9.54it/s]\n",
      "100%|██████████| 1/1 [00:00<00:00, 14.50it/s]\n",
      "  0%|          | 0/7 [00:00<?, ?it/s]"
     ]
    },
    {
     "name": "stdout",
     "output_type": "stream",
     "text": [
      "666 (109, 7)\n",
      "667 (1559, 7)\n"
     ]
    },
    {
     "name": "stderr",
     "output_type": "stream",
     "text": [
      "100%|██████████| 7/7 [00:00<00:00,  8.00it/s]\n",
      "  6%|▋         | 1/16 [00:00<00:01,  7.83it/s]"
     ]
    },
    {
     "name": "stdout",
     "output_type": "stream",
     "text": [
      "668 (3868, 7)\n"
     ]
    },
    {
     "name": "stderr",
     "output_type": "stream",
     "text": [
      "100%|██████████| 16/16 [00:01<00:00,  8.00it/s]\n",
      "100%|██████████| 1/1 [00:00<00:00, 57.65it/s]\n",
      " 17%|█▋        | 1/6 [00:00<00:00,  7.74it/s]"
     ]
    },
    {
     "name": "stdout",
     "output_type": "stream",
     "text": [
      "669 (15, 7)\n",
      "670 (1396, 7)\n"
     ]
    },
    {
     "name": "stderr",
     "output_type": "stream",
     "text": [
      "100%|██████████| 6/6 [00:00<00:00,  8.34it/s]\n",
      " 33%|███▎      | 1/3 [00:00<00:00,  7.67it/s]"
     ]
    },
    {
     "name": "stdout",
     "output_type": "stream",
     "text": [
      "671 (573, 7)\n"
     ]
    },
    {
     "name": "stderr",
     "output_type": "stream",
     "text": [
      "100%|██████████| 3/3 [00:00<00:00,  9.94it/s]\n",
      "  4%|▍         | 1/24 [00:00<00:02,  7.67it/s]"
     ]
    },
    {
     "name": "stdout",
     "output_type": "stream",
     "text": [
      "672 (5905, 7)\n"
     ]
    },
    {
     "name": "stderr",
     "output_type": "stream",
     "text": [
      "100%|██████████| 24/24 [00:03<00:00,  7.39it/s]\n",
      "  4%|▍         | 1/25 [00:00<00:03,  7.00it/s]"
     ]
    },
    {
     "name": "stdout",
     "output_type": "stream",
     "text": [
      "673 (6366, 7)\n"
     ]
    },
    {
     "name": "stderr",
     "output_type": "stream",
     "text": [
      "100%|██████████| 25/25 [00:03<00:00,  6.94it/s]\n",
      " 17%|█▋        | 1/6 [00:00<00:00,  7.13it/s]"
     ]
    },
    {
     "name": "stdout",
     "output_type": "stream",
     "text": [
      "674 (1458, 7)\n"
     ]
    },
    {
     "name": "stderr",
     "output_type": "stream",
     "text": [
      "100%|██████████| 6/6 [00:00<00:00,  7.47it/s]\n",
      " 12%|█▎        | 1/8 [00:00<00:00,  7.40it/s]"
     ]
    },
    {
     "name": "stdout",
     "output_type": "stream",
     "text": [
      "675 (1900, 7)\n"
     ]
    },
    {
     "name": "stderr",
     "output_type": "stream",
     "text": [
      "100%|██████████| 8/8 [00:01<00:00,  7.66it/s]\n",
      " 17%|█▋        | 1/6 [00:00<00:00,  6.99it/s]"
     ]
    },
    {
     "name": "stdout",
     "output_type": "stream",
     "text": [
      "676 (1428, 7)\n"
     ]
    },
    {
     "name": "stderr",
     "output_type": "stream",
     "text": [
      "100%|██████████| 6/6 [00:00<00:00,  7.48it/s]\n",
      " 50%|█████     | 1/2 [00:00<00:00,  7.28it/s]"
     ]
    },
    {
     "name": "stdout",
     "output_type": "stream",
     "text": [
      "677 (480, 7)\n"
     ]
    },
    {
     "name": "stderr",
     "output_type": "stream",
     "text": [
      "100%|██████████| 2/2 [00:00<00:00,  7.68it/s]\n",
      "  7%|▋         | 1/14 [00:00<00:01,  7.36it/s]"
     ]
    },
    {
     "name": "stdout",
     "output_type": "stream",
     "text": [
      "678 (3527, 7)\n"
     ]
    },
    {
     "name": "stderr",
     "output_type": "stream",
     "text": [
      "100%|██████████| 14/14 [00:02<00:00,  6.87it/s]\n",
      "100%|██████████| 1/1 [00:00<00:00, 45.06it/s]\n",
      " 17%|█▋        | 1/6 [00:00<00:00,  6.59it/s]"
     ]
    },
    {
     "name": "stdout",
     "output_type": "stream",
     "text": [
      "679 (16, 7)\n",
      "680 (1291, 7)\n"
     ]
    },
    {
     "name": "stderr",
     "output_type": "stream",
     "text": [
      "100%|██████████| 6/6 [00:00<00:00,  7.77it/s]\n",
      " 25%|██▌       | 1/4 [00:00<00:00,  6.62it/s]"
     ]
    },
    {
     "name": "stdout",
     "output_type": "stream",
     "text": [
      "681 (800, 7)\n"
     ]
    },
    {
     "name": "stderr",
     "output_type": "stream",
     "text": [
      "100%|██████████| 4/4 [00:00<00:00,  8.21it/s]\n",
      " 50%|█████     | 1/2 [00:00<00:00,  6.61it/s]"
     ]
    },
    {
     "name": "stdout",
     "output_type": "stream",
     "text": [
      "682 (503, 7)\n"
     ]
    },
    {
     "name": "stderr",
     "output_type": "stream",
     "text": [
      "100%|██████████| 2/2 [00:00<00:00,  6.68it/s]\n",
      "100%|██████████| 1/1 [00:00<00:00,  7.20it/s]\n",
      "100%|██████████| 1/1 [00:00<00:00, 53.03it/s]\n",
      "  0%|          | 0/2 [00:00<?, ?it/s]"
     ]
    },
    {
     "name": "stdout",
     "output_type": "stream",
     "text": [
      "683 (232, 7)\n",
      "684 (11, 7)\n",
      "685 (453, 7)\n"
     ]
    },
    {
     "name": "stderr",
     "output_type": "stream",
     "text": [
      "100%|██████████| 2/2 [00:00<00:00,  7.32it/s]\n",
      "  9%|▉         | 1/11 [00:00<00:01,  7.16it/s]"
     ]
    },
    {
     "name": "stdout",
     "output_type": "stream",
     "text": [
      "686 (2802, 7)\n"
     ]
    },
    {
     "name": "stderr",
     "output_type": "stream",
     "text": [
      "100%|██████████| 11/11 [00:01<00:00,  7.08it/s]\n",
      " 11%|█         | 1/9 [00:00<00:01,  7.12it/s]"
     ]
    },
    {
     "name": "stdout",
     "output_type": "stream",
     "text": [
      "687 (2144, 7)\n"
     ]
    },
    {
     "name": "stderr",
     "output_type": "stream",
     "text": [
      "100%|██████████| 9/9 [00:01<00:00,  7.60it/s]\n",
      "100%|██████████| 2/2 [00:00<00:00, 10.21it/s]"
     ]
    },
    {
     "name": "stdout",
     "output_type": "stream",
     "text": [
      "688 (348, 7)\n"
     ]
    },
    {
     "name": "stderr",
     "output_type": "stream",
     "text": [
      "\n",
      "100%|██████████| 1/1 [00:00<00:00, 18.94it/s]\n",
      "100%|██████████| 1/1 [00:00<00:00, 83.56it/s]\n",
      "  0%|          | 0/2 [00:00<?, ?it/s]"
     ]
    },
    {
     "name": "stdout",
     "output_type": "stream",
     "text": [
      "689 (82, 7)\n",
      "690 (1, 7)\n",
      "691 (494, 7)\n"
     ]
    },
    {
     "name": "stderr",
     "output_type": "stream",
     "text": [
      "100%|██████████| 2/2 [00:00<00:00,  7.37it/s]\n",
      "100%|██████████| 1/1 [00:00<00:00,  7.54it/s]\n",
      "  0%|          | 0/1 [00:00<?, ?it/s]"
     ]
    },
    {
     "name": "stdout",
     "output_type": "stream",
     "text": [
      "692 (245, 7)\n",
      "693 (98, 7)\n"
     ]
    },
    {
     "name": "stderr",
     "output_type": "stream",
     "text": [
      "100%|██████████| 1/1 [00:00<00:00, 17.13it/s]\n",
      "100%|██████████| 1/1 [00:00<00:00,  8.48it/s]\n",
      "100%|██████████| 1/1 [00:00<00:00, 72.28it/s]\n",
      "100%|██████████| 1/1 [00:00<00:00, 27.85it/s]\n",
      "  0%|          | 0/1 [00:00<?, ?it/s]"
     ]
    },
    {
     "name": "stdout",
     "output_type": "stream",
     "text": [
      "694 (228, 7)\n",
      "695 (3, 7)\n",
      "696 (50, 7)\n",
      "697 (18, 7)\n"
     ]
    },
    {
     "name": "stderr",
     "output_type": "stream",
     "text": [
      "100%|██████████| 1/1 [00:00<00:00, 45.99it/s]\n",
      "  8%|▊         | 1/12 [00:00<00:01,  7.52it/s]"
     ]
    },
    {
     "name": "stdout",
     "output_type": "stream",
     "text": [
      "698 (2851, 7)\n"
     ]
    },
    {
     "name": "stderr",
     "output_type": "stream",
     "text": [
      "100%|██████████| 12/12 [00:01<00:00,  7.96it/s]\n",
      "100%|██████████| 2/2 [00:00<00:00, 11.93it/s]\n",
      "100%|██████████| 1/1 [00:00<00:00, 78.73it/s]"
     ]
    },
    {
     "name": "stdout",
     "output_type": "stream",
     "text": [
      "699 (302, 7)\n",
      "700 (2, 7)\n"
     ]
    },
    {
     "name": "stderr",
     "output_type": "stream",
     "text": [
      "\n",
      "/home/bakirillov/HDD/works/Skoltech/CRISPR_CAD/uace/src/core.py:966: RuntimeWarning: invalid value encountered in true_divide\n",
      "  self.S[self.label_column]\n",
      "100%|██████████| 1/1 [00:00<00:00, 64.66it/s]\n",
      "100%|██████████| 1/1 [00:00<00:00, 26.90it/s]\n",
      "100%|██████████| 1/1 [00:00<00:00, 53.77it/s]\n",
      "  0%|          | 0/4 [00:00<?, ?it/s]"
     ]
    },
    {
     "name": "stdout",
     "output_type": "stream",
     "text": [
      "701 (6, 7)\n",
      "No columns to parse from file\n",
      "703 (54, 7)\n",
      "704 (15, 7)\n",
      "705 (861, 7)\n"
     ]
    },
    {
     "name": "stderr",
     "output_type": "stream",
     "text": [
      "100%|██████████| 4/4 [00:00<00:00,  8.53it/s]\n",
      " 33%|███▎      | 1/3 [00:00<00:00,  7.22it/s]"
     ]
    },
    {
     "name": "stdout",
     "output_type": "stream",
     "text": [
      "706 (559, 7)\n"
     ]
    },
    {
     "name": "stderr",
     "output_type": "stream",
     "text": [
      "100%|██████████| 3/3 [00:00<00:00,  9.59it/s]\n",
      "  3%|▎         | 1/36 [00:00<00:04,  7.03it/s]"
     ]
    },
    {
     "name": "stdout",
     "output_type": "stream",
     "text": [
      "707 (9010, 7)\n"
     ]
    },
    {
     "name": "stderr",
     "output_type": "stream",
     "text": [
      "100%|██████████| 36/36 [00:04<00:00,  7.29it/s]\n",
      "/home/bakirillov/HDD/works/Skoltech/CRISPR_CAD/uace/src/core.py:966: RuntimeWarning: invalid value encountered in true_divide\n",
      "  self.S[self.label_column]\n",
      "100%|██████████| 1/1 [00:00<00:00, 53.32it/s]\n",
      " 50%|█████     | 1/2 [00:00<00:00,  7.09it/s]"
     ]
    },
    {
     "name": "stdout",
     "output_type": "stream",
     "text": [
      "708 (12, 7)\n",
      "709 (460, 7)\n"
     ]
    },
    {
     "name": "stderr",
     "output_type": "stream",
     "text": [
      "100%|██████████| 2/2 [00:00<00:00,  7.73it/s]\n",
      "100%|██████████| 1/1 [00:00<00:00, 53.95it/s]\n",
      "100%|██████████| 1/1 [00:00<00:00, 10.46it/s]\n",
      "/home/bakirillov/HDD/works/Skoltech/CRISPR_CAD/uace/src/core.py:966: RuntimeWarning: invalid value encountered in true_divide\n",
      "  self.S[self.label_column]\n",
      "100%|██████████| 1/1 [00:00<00:00, 70.28it/s]\n",
      "  0%|          | 0/1 [00:00<?, ?it/s]"
     ]
    },
    {
     "name": "stdout",
     "output_type": "stream",
     "text": [
      "710 (14, 7)\n",
      "711 (167, 7)\n",
      "712 (6, 7)\n",
      "713 (143, 7)\n"
     ]
    },
    {
     "name": "stderr",
     "output_type": "stream",
     "text": [
      "100%|██████████| 1/1 [00:00<00:00, 12.11it/s]\n",
      "100%|██████████| 1/1 [00:00<00:00, 70.64it/s]\n",
      "100%|██████████| 1/1 [00:00<00:00, 65.52it/s]\n",
      "  8%|▊         | 1/13 [00:00<00:01,  7.05it/s]"
     ]
    },
    {
     "name": "stdout",
     "output_type": "stream",
     "text": [
      "714 (3, 7)\n",
      "715 (9, 7)\n",
      "716 (3130, 7)\n"
     ]
    },
    {
     "name": "stderr",
     "output_type": "stream",
     "text": [
      "100%|██████████| 13/13 [00:01<00:00,  7.42it/s]\n",
      "100%|██████████| 1/1 [00:00<00:00, 28.31it/s]\n",
      " 33%|███▎      | 1/3 [00:00<00:00,  7.19it/s]"
     ]
    },
    {
     "name": "stdout",
     "output_type": "stream",
     "text": [
      "717 (47, 7)\n",
      "718 (559, 7)\n"
     ]
    },
    {
     "name": "stderr",
     "output_type": "stream",
     "text": [
      "100%|██████████| 3/3 [00:00<00:00,  9.49it/s]\n",
      "100%|██████████| 1/1 [00:00<00:00, 29.22it/s]\n",
      "100%|██████████| 1/1 [00:00<00:00, 40.39it/s]\n",
      "  0%|          | 0/23 [00:00<?, ?it/s]"
     ]
    },
    {
     "name": "stdout",
     "output_type": "stream",
     "text": [
      "719 (47, 7)\n",
      "720 (27, 7)\n",
      "721 (5861, 7)\n"
     ]
    },
    {
     "name": "stderr",
     "output_type": "stream",
     "text": [
      "100%|██████████| 23/23 [00:03<00:00,  7.35it/s]\n",
      "/home/bakirillov/HDD/works/Skoltech/CRISPR_CAD/uace/src/core.py:966: RuntimeWarning: invalid value encountered in true_divide\n",
      "  self.S[self.label_column]\n",
      "100%|██████████| 1/1 [00:00<00:00, 54.85it/s]\n",
      "100%|██████████| 1/1 [00:00<00:00, 22.09it/s]\n",
      "100%|██████████| 1/1 [00:00<00:00, 38.97it/s]\n",
      "  0%|          | 0/3 [00:00<?, ?it/s]"
     ]
    },
    {
     "name": "stdout",
     "output_type": "stream",
     "text": [
      "722 (12, 7)\n",
      "723 (67, 7)\n",
      "724 (29, 7)\n",
      "725 (540, 7)\n"
     ]
    },
    {
     "name": "stderr",
     "output_type": "stream",
     "text": [
      "100%|██████████| 3/3 [00:00<00:00,  9.75it/s]\n",
      "100%|██████████| 1/1 [00:00<00:00, 43.61it/s]\n",
      " 25%|██▌       | 1/4 [00:00<00:00,  6.98it/s]"
     ]
    },
    {
     "name": "stdout",
     "output_type": "stream",
     "text": [
      "726 (22, 7)\n",
      "727 (810, 7)\n"
     ]
    },
    {
     "name": "stderr",
     "output_type": "stream",
     "text": [
      "100%|██████████| 4/4 [00:00<00:00,  8.60it/s]\n",
      "100%|██████████| 2/2 [00:00<00:00, 10.66it/s]\n"
     ]
    },
    {
     "name": "stdout",
     "output_type": "stream",
     "text": [
      "728 (319, 7)\n",
      "729 (559, 7)\n"
     ]
    },
    {
     "name": "stderr",
     "output_type": "stream",
     "text": [
      "100%|██████████| 3/3 [00:00<00:00,  9.67it/s]\n",
      "100%|██████████| 1/1 [00:00<00:00,  8.59it/s]\n",
      "  0%|          | 0/4 [00:00<?, ?it/s]"
     ]
    },
    {
     "name": "stdout",
     "output_type": "stream",
     "text": [
      "730 (217, 7)\n",
      "731 (827, 7)\n"
     ]
    },
    {
     "name": "stderr",
     "output_type": "stream",
     "text": [
      "100%|██████████| 4/4 [00:00<00:00,  8.90it/s]\n",
      " 11%|█         | 1/9 [00:00<00:01,  7.35it/s]"
     ]
    },
    {
     "name": "stdout",
     "output_type": "stream",
     "text": [
      "732 (2181, 7)\n"
     ]
    },
    {
     "name": "stderr",
     "output_type": "stream",
     "text": [
      "100%|██████████| 9/9 [00:01<00:00,  7.66it/s]\n",
      " 50%|█████     | 1/2 [00:00<00:00,  7.19it/s]"
     ]
    },
    {
     "name": "stdout",
     "output_type": "stream",
     "text": [
      "733 (368, 7)\n"
     ]
    },
    {
     "name": "stderr",
     "output_type": "stream",
     "text": [
      "100%|██████████| 2/2 [00:00<00:00,  9.54it/s]\n",
      " 14%|█▍        | 1/7 [00:00<00:00,  6.73it/s]"
     ]
    },
    {
     "name": "stdout",
     "output_type": "stream",
     "text": [
      "734 (1590, 7)\n"
     ]
    },
    {
     "name": "stderr",
     "output_type": "stream",
     "text": [
      "100%|██████████| 7/7 [00:00<00:00,  7.73it/s]\n",
      " 50%|█████     | 1/2 [00:00<00:00,  7.29it/s]"
     ]
    },
    {
     "name": "stdout",
     "output_type": "stream",
     "text": [
      "No columns to parse from file\n",
      "736 (452, 7)\n"
     ]
    },
    {
     "name": "stderr",
     "output_type": "stream",
     "text": [
      "100%|██████████| 2/2 [00:00<00:00,  8.12it/s]\n",
      "100%|██████████| 1/1 [00:00<00:00, 47.14it/s]\n",
      "100%|██████████| 1/1 [00:00<00:00, 21.20it/s]\n",
      "100%|██████████| 1/1 [00:00<00:00, 22.42it/s]\n",
      "100%|██████████| 1/1 [00:00<00:00, 55.41it/s]\n",
      "  0%|          | 0/1 [00:00<?, ?it/s]"
     ]
    },
    {
     "name": "stdout",
     "output_type": "stream",
     "text": [
      "737 (19, 7)\n",
      "738 (73, 7)\n",
      "739 (63, 7)\n",
      "740 (11, 7)\n",
      "741 (96, 7)\n"
     ]
    },
    {
     "name": "stderr",
     "output_type": "stream",
     "text": [
      "100%|██████████| 1/1 [00:00<00:00, 15.63it/s]\n",
      "100%|██████████| 1/1 [00:00<00:00, 59.83it/s]\n",
      "100%|██████████| 1/1 [00:00<00:00, 29.69it/s]\n",
      "  0%|          | 0/15 [00:00<?, ?it/s]"
     ]
    },
    {
     "name": "stdout",
     "output_type": "stream",
     "text": [
      "742 (7, 7)\n",
      "No columns to parse from file\n",
      "744 (44, 7)\n",
      "745 (3729, 7)\n"
     ]
    },
    {
     "name": "stderr",
     "output_type": "stream",
     "text": [
      "100%|██████████| 15/15 [00:02<00:00,  7.49it/s]\n",
      "100%|██████████| 1/1 [00:00<00:00, 13.11it/s]\n",
      "100%|██████████| 1/1 [00:00<00:00, 30.19it/s]\n",
      "  0%|          | 0/8 [00:00<?, ?it/s]"
     ]
    },
    {
     "name": "stdout",
     "output_type": "stream",
     "text": [
      "746 (132, 7)\n",
      "747 (45, 7)\n",
      "748 (1987, 7)\n"
     ]
    },
    {
     "name": "stderr",
     "output_type": "stream",
     "text": [
      "100%|██████████| 8/8 [00:01<00:00,  7.54it/s]\n",
      "100%|██████████| 1/1 [00:00<00:00, 34.62it/s]\n",
      " 50%|█████     | 1/2 [00:00<00:00,  7.41it/s]"
     ]
    },
    {
     "name": "stdout",
     "output_type": "stream",
     "text": [
      "749 (37, 7)\n",
      "750 (446, 7)\n"
     ]
    },
    {
     "name": "stderr",
     "output_type": "stream",
     "text": [
      "100%|██████████| 2/2 [00:00<00:00,  8.35it/s]\n",
      "100%|██████████| 1/1 [00:00<00:00, 26.65it/s]\n",
      " 33%|███▎      | 1/3 [00:00<00:00,  7.38it/s]"
     ]
    },
    {
     "name": "stdout",
     "output_type": "stream",
     "text": [
      "751 (55, 7)\n",
      "752 (564, 7)\n"
     ]
    },
    {
     "name": "stderr",
     "output_type": "stream",
     "text": [
      "100%|██████████| 3/3 [00:00<00:00,  9.72it/s]\n",
      " 17%|█▋        | 1/6 [00:00<00:00,  7.15it/s]"
     ]
    },
    {
     "name": "stdout",
     "output_type": "stream",
     "text": [
      "753 (1482, 7)\n"
     ]
    },
    {
     "name": "stderr",
     "output_type": "stream",
     "text": [
      "100%|██████████| 6/6 [00:00<00:00,  6.99it/s]\n",
      " 17%|█▋        | 1/6 [00:00<00:00,  6.72it/s]"
     ]
    },
    {
     "name": "stdout",
     "output_type": "stream",
     "text": [
      "754 (1337, 7)\n"
     ]
    },
    {
     "name": "stderr",
     "output_type": "stream",
     "text": [
      "100%|██████████| 6/6 [00:00<00:00,  7.61it/s]\n",
      "100%|██████████| 1/1 [00:00<00:00, 62.68it/s]\n",
      "100%|██████████| 1/1 [00:00<00:00, 61.02it/s]\n",
      "100%|██████████| 1/1 [00:00<00:00, 46.57it/s]\n",
      "  0%|          | 0/2 [00:00<?, ?it/s]"
     ]
    },
    {
     "name": "stdout",
     "output_type": "stream",
     "text": [
      "755 (8, 7)\n",
      "756 (8, 7)\n",
      "757 (21, 7)\n",
      "758 (487, 7)\n"
     ]
    },
    {
     "name": "stderr",
     "output_type": "stream",
     "text": [
      "100%|██████████| 2/2 [00:00<00:00,  7.59it/s]\n",
      "100%|██████████| 1/1 [00:00<00:00, 80.70it/s]\n",
      "100%|██████████| 1/1 [00:00<00:00, 46.97it/s]\n",
      "100%|██████████| 1/1 [00:00<00:00, 53.23it/s]\n",
      "100%|██████████| 1/1 [00:00<00:00, 41.52it/s]\n",
      "  0%|          | 0/5 [00:00<?, ?it/s]"
     ]
    },
    {
     "name": "stdout",
     "output_type": "stream",
     "text": [
      "759 (2, 7)\n",
      "760 (19, 7)\n",
      "761 (15, 7)\n",
      "762 (25, 7)\n",
      "763 (1215, 7)\n"
     ]
    },
    {
     "name": "stderr",
     "output_type": "stream",
     "text": [
      "100%|██████████| 5/5 [00:00<00:00,  7.88it/s]\n",
      "100%|██████████| 1/1 [00:00<00:00,  8.63it/s]\n",
      "100%|██████████| 1/1 [00:00<00:00, 49.17it/s]\n",
      "  0%|          | 0/3 [00:00<?, ?it/s]"
     ]
    },
    {
     "name": "stdout",
     "output_type": "stream",
     "text": [
      "764 (221, 7)\n",
      "765 (18, 7)\n",
      "766 (653, 7)\n"
     ]
    },
    {
     "name": "stderr",
     "output_type": "stream",
     "text": [
      "100%|██████████| 3/3 [00:00<00:00,  8.70it/s]\n",
      " 25%|██▌       | 1/4 [00:00<00:00,  7.54it/s]"
     ]
    },
    {
     "name": "stdout",
     "output_type": "stream",
     "text": [
      "767 (975, 7)\n"
     ]
    },
    {
     "name": "stderr",
     "output_type": "stream",
     "text": [
      "100%|██████████| 4/4 [00:00<00:00,  7.78it/s]\n",
      " 50%|█████     | 1/2 [00:00<00:00,  7.54it/s]"
     ]
    },
    {
     "name": "stdout",
     "output_type": "stream",
     "text": [
      "768 (428, 7)\n"
     ]
    },
    {
     "name": "stderr",
     "output_type": "stream",
     "text": [
      "100%|██████████| 2/2 [00:00<00:00,  8.86it/s]\n",
      "100%|██████████| 1/1 [00:00<00:00, 11.57it/s]\n",
      "  0%|          | 0/12 [00:00<?, ?it/s]"
     ]
    },
    {
     "name": "stdout",
     "output_type": "stream",
     "text": [
      "769 (156, 7)\n",
      "770 (2823, 7)\n"
     ]
    },
    {
     "name": "stderr",
     "output_type": "stream",
     "text": [
      "100%|██████████| 12/12 [00:01<00:00,  7.71it/s]\n",
      " 11%|█         | 1/9 [00:00<00:01,  7.13it/s]"
     ]
    },
    {
     "name": "stdout",
     "output_type": "stream",
     "text": [
      "771 (2183, 7)\n"
     ]
    },
    {
     "name": "stderr",
     "output_type": "stream",
     "text": [
      "100%|██████████| 9/9 [00:01<00:00,  7.44it/s]\n",
      "  4%|▎         | 1/28 [00:00<00:03,  6.96it/s]"
     ]
    },
    {
     "name": "stdout",
     "output_type": "stream",
     "text": [
      "772 (6980, 7)\n"
     ]
    },
    {
     "name": "stderr",
     "output_type": "stream",
     "text": [
      "100%|██████████| 28/28 [00:03<00:00,  7.24it/s]\n",
      "100%|██████████| 1/1 [00:00<00:00, 30.36it/s]\n",
      "100%|██████████| 1/1 [00:00<00:00, 29.65it/s]\n",
      "  0%|          | 0/1 [00:00<?, ?it/s]"
     ]
    },
    {
     "name": "stdout",
     "output_type": "stream",
     "text": [
      "773 (35, 7)\n",
      "774 (40, 7)\n",
      "775 (199, 7)\n"
     ]
    },
    {
     "name": "stderr",
     "output_type": "stream",
     "text": [
      "100%|██████████| 1/1 [00:00<00:00,  8.18it/s]\n",
      "100%|██████████| 1/1 [00:00<00:00, 42.57it/s]\n",
      " 33%|███▎      | 1/3 [00:00<00:00,  6.48it/s]"
     ]
    },
    {
     "name": "stdout",
     "output_type": "stream",
     "text": [
      "776 (20, 7)\n",
      "777 (592, 7)\n"
     ]
    },
    {
     "name": "stderr",
     "output_type": "stream",
     "text": [
      "100%|██████████| 3/3 [00:00<00:00,  8.26it/s]\n",
      "/home/bakirillov/HDD/works/Skoltech/CRISPR_CAD/uace/src/core.py:966: RuntimeWarning: invalid value encountered in true_divide\n",
      "  self.S[self.label_column]\n",
      "100%|██████████| 1/1 [00:00<00:00, 53.16it/s]\n",
      "100%|██████████| 1/1 [00:00<00:00, 48.56it/s]\n",
      "  0%|          | 0/2 [00:00<?, ?it/s]"
     ]
    },
    {
     "name": "stdout",
     "output_type": "stream",
     "text": [
      "778 (12, 7)\n",
      "779 (15, 7)\n",
      "780 (386, 7)\n"
     ]
    },
    {
     "name": "stderr",
     "output_type": "stream",
     "text": [
      "100%|██████████| 2/2 [00:00<00:00,  8.44it/s]\n",
      "100%|██████████| 1/1 [00:00<00:00, 53.32it/s]\n",
      "100%|██████████| 1/1 [00:00<00:00, 33.10it/s]\n",
      "  0%|          | 0/10 [00:00<?, ?it/s]"
     ]
    },
    {
     "name": "stdout",
     "output_type": "stream",
     "text": [
      "781 (11, 7)\n",
      "782 (37, 7)\n",
      "783 (2446, 7)\n"
     ]
    },
    {
     "name": "stderr",
     "output_type": "stream",
     "text": [
      "100%|██████████| 10/10 [00:01<00:00,  7.18it/s]\n",
      "/home/bakirillov/HDD/works/Skoltech/CRISPR_CAD/uace/src/core.py:966: RuntimeWarning: invalid value encountered in true_divide\n",
      "  self.S[self.label_column]\n",
      "100%|██████████| 1/1 [00:00<00:00, 63.17it/s]\n",
      "100%|██████████| 1/1 [00:00<00:00, 23.59it/s]\n",
      "  0%|          | 0/5 [00:00<?, ?it/s]"
     ]
    },
    {
     "name": "stdout",
     "output_type": "stream",
     "text": [
      "784 (6, 7)\n",
      "785 (59, 7)\n",
      "786 (1096, 7)\n"
     ]
    },
    {
     "name": "stderr",
     "output_type": "stream",
     "text": [
      "100%|██████████| 5/5 [00:00<00:00,  7.97it/s]\n",
      " 25%|██▌       | 1/4 [00:00<00:00,  6.80it/s]"
     ]
    },
    {
     "name": "stdout",
     "output_type": "stream",
     "text": [
      "787 (773, 7)\n"
     ]
    },
    {
     "name": "stderr",
     "output_type": "stream",
     "text": [
      "100%|██████████| 4/4 [00:00<00:00,  8.76it/s]\n",
      " 33%|███▎      | 1/3 [00:00<00:00,  6.99it/s]"
     ]
    },
    {
     "name": "stdout",
     "output_type": "stream",
     "text": [
      "788 (616, 7)\n"
     ]
    },
    {
     "name": "stderr",
     "output_type": "stream",
     "text": [
      "100%|██████████| 3/3 [00:00<00:00,  8.54it/s]\n",
      " 50%|█████     | 1/2 [00:00<00:00,  7.06it/s]"
     ]
    },
    {
     "name": "stdout",
     "output_type": "stream",
     "text": [
      "789 (496, 7)\n"
     ]
    },
    {
     "name": "stderr",
     "output_type": "stream",
     "text": [
      "100%|██████████| 2/2 [00:00<00:00,  7.22it/s]\n",
      " 25%|██▌       | 1/4 [00:00<00:00,  6.82it/s]"
     ]
    },
    {
     "name": "stdout",
     "output_type": "stream",
     "text": [
      "790 (903, 7)\n"
     ]
    },
    {
     "name": "stderr",
     "output_type": "stream",
     "text": [
      "100%|██████████| 4/4 [00:00<00:00,  7.62it/s]\n",
      "100%|██████████| 1/1 [00:00<00:00, 61.52it/s]\n",
      " 33%|███▎      | 1/3 [00:00<00:00,  6.92it/s]"
     ]
    },
    {
     "name": "stdout",
     "output_type": "stream",
     "text": [
      "791 (9, 7)\n",
      "No columns to parse from file\n",
      "793 (527, 7)\n"
     ]
    },
    {
     "name": "stderr",
     "output_type": "stream",
     "text": [
      "100%|██████████| 3/3 [00:00<00:00,  9.60it/s]\n",
      " 50%|█████     | 1/2 [00:00<00:00,  6.97it/s]"
     ]
    },
    {
     "name": "stdout",
     "output_type": "stream",
     "text": [
      "794 (391, 7)\n"
     ]
    },
    {
     "name": "stderr",
     "output_type": "stream",
     "text": [
      "100%|██████████| 2/2 [00:00<00:00,  8.85it/s]\n",
      " 50%|█████     | 1/2 [00:00<00:00,  6.95it/s]"
     ]
    },
    {
     "name": "stdout",
     "output_type": "stream",
     "text": [
      "795 (365, 7)\n"
     ]
    },
    {
     "name": "stderr",
     "output_type": "stream",
     "text": [
      "100%|██████████| 2/2 [00:00<00:00,  9.40it/s]\n",
      "100%|██████████| 1/1 [00:00<00:00, 31.95it/s]\n",
      "100%|██████████| 1/1 [00:00<00:00, 10.94it/s]\n",
      "  0%|          | 0/6 [00:00<?, ?it/s]"
     ]
    },
    {
     "name": "stdout",
     "output_type": "stream",
     "text": [
      "796 (36, 7)\n",
      "797 (147, 7)\n",
      "798 (1357, 7)\n"
     ]
    },
    {
     "name": "stderr",
     "output_type": "stream",
     "text": [
      "100%|██████████| 6/6 [00:00<00:00,  7.86it/s]\n",
      "100%|██████████| 1/1 [00:00<00:00, 38.94it/s]\n",
      "100%|██████████| 1/1 [00:00<00:00, 13.04it/s]\n",
      "  0%|          | 0/3 [00:00<?, ?it/s]"
     ]
    },
    {
     "name": "stdout",
     "output_type": "stream",
     "text": [
      "799 (30, 7)\n",
      "800 (126, 7)\n",
      "801 (684, 7)\n"
     ]
    },
    {
     "name": "stderr",
     "output_type": "stream",
     "text": [
      "100%|██████████| 3/3 [00:00<00:00,  7.66it/s]\n",
      " 50%|█████     | 1/2 [00:00<00:00,  6.64it/s]"
     ]
    },
    {
     "name": "stdout",
     "output_type": "stream",
     "text": [
      "802 (329, 7)\n"
     ]
    },
    {
     "name": "stderr",
     "output_type": "stream",
     "text": [
      "100%|██████████| 2/2 [00:00<00:00,  9.86it/s]\n",
      " 10%|█         | 1/10 [00:00<00:01,  6.72it/s]"
     ]
    },
    {
     "name": "stdout",
     "output_type": "stream",
     "text": [
      "803 (2470, 7)\n"
     ]
    },
    {
     "name": "stderr",
     "output_type": "stream",
     "text": [
      "100%|██████████| 10/10 [00:01<00:00,  6.88it/s]\n",
      " 33%|███▎      | 1/3 [00:00<00:00,  7.41it/s]"
     ]
    },
    {
     "name": "stdout",
     "output_type": "stream",
     "text": [
      "804 (573, 7)\n"
     ]
    },
    {
     "name": "stderr",
     "output_type": "stream",
     "text": [
      "100%|██████████| 3/3 [00:00<00:00,  9.50it/s]\n",
      "100%|██████████| 1/1 [00:00<00:00, 59.03it/s]\n",
      " 17%|█▋        | 1/6 [00:00<00:00,  7.57it/s]"
     ]
    },
    {
     "name": "stdout",
     "output_type": "stream",
     "text": [
      "805 (12, 7)\n",
      "806 (1292, 7)\n"
     ]
    },
    {
     "name": "stderr",
     "output_type": "stream",
     "text": [
      "100%|██████████| 6/6 [00:00<00:00,  8.16it/s]\n",
      "100%|██████████| 1/1 [00:00<00:00, 22.82it/s]\n",
      "  0%|          | 0/34 [00:00<?, ?it/s]"
     ]
    },
    {
     "name": "stdout",
     "output_type": "stream",
     "text": [
      "807 (67, 7)\n",
      "808 (8495, 7)\n"
     ]
    },
    {
     "name": "stderr",
     "output_type": "stream",
     "text": [
      "100%|██████████| 34/34 [00:04<00:00,  7.44it/s]\n",
      "100%|██████████| 1/1 [00:00<00:00, 60.35it/s]\n",
      " 25%|██▌       | 1/4 [00:00<00:00,  6.75it/s]"
     ]
    },
    {
     "name": "stdout",
     "output_type": "stream",
     "text": [
      "809 (5, 7)\n",
      "810 (839, 7)\n"
     ]
    },
    {
     "name": "stderr",
     "output_type": "stream",
     "text": [
      "100%|██████████| 4/4 [00:00<00:00,  8.00it/s]\n",
      " 17%|█▋        | 1/6 [00:00<00:00,  6.67it/s]"
     ]
    },
    {
     "name": "stdout",
     "output_type": "stream",
     "text": [
      "811 (1503, 7)\n"
     ]
    },
    {
     "name": "stderr",
     "output_type": "stream",
     "text": [
      "100%|██████████| 6/6 [00:00<00:00,  7.19it/s]\n",
      "100%|██████████| 1/1 [00:00<00:00, 72.84it/s]\n",
      " 25%|██▌       | 1/4 [00:00<00:00,  7.14it/s]"
     ]
    },
    {
     "name": "stdout",
     "output_type": "stream",
     "text": [
      "812 (4, 7)\n",
      "813 (876, 7)\n"
     ]
    },
    {
     "name": "stderr",
     "output_type": "stream",
     "text": [
      "100%|██████████| 4/4 [00:00<00:00,  8.17it/s]\n",
      " 17%|█▋        | 1/6 [00:00<00:00,  7.09it/s]"
     ]
    },
    {
     "name": "stdout",
     "output_type": "stream",
     "text": [
      "814 (1466, 7)\n"
     ]
    },
    {
     "name": "stderr",
     "output_type": "stream",
     "text": [
      "100%|██████████| 6/6 [00:00<00:00,  7.38it/s]\n",
      "100%|██████████| 1/1 [00:00<00:00, 42.94it/s]\n",
      "100%|██████████| 1/1 [00:00<00:00,  8.38it/s]\n",
      "100%|██████████| 1/1 [00:00<00:00, 65.82it/s]\n",
      "/home/bakirillov/HDD/works/Skoltech/CRISPR_CAD/uace/src/core.py:966: RuntimeWarning: invalid value encountered in true_divide\n",
      "  self.S[self.label_column]\n",
      "  0%|          | 0/1 [00:00<?, ?it/s]"
     ]
    },
    {
     "name": "stdout",
     "output_type": "stream",
     "text": [
      "815 (21, 7)\n",
      "816 (211, 7)\n",
      "817 (8, 7)\n",
      "818 (12, 7)\n"
     ]
    },
    {
     "name": "stderr",
     "output_type": "stream",
     "text": [
      "100%|██████████| 1/1 [00:00<00:00, 52.74it/s]\n",
      "/home/bakirillov/HDD/works/Skoltech/CRISPR_CAD/uace/src/core.py:966: RuntimeWarning: invalid value encountered in true_divide\n",
      "  self.S[self.label_column]\n",
      "100%|██████████| 1/1 [00:00<00:00, 67.35it/s]\n",
      "100%|██████████| 1/1 [00:00<00:00, 33.34it/s]\n",
      "100%|██████████| 1/1 [00:00<00:00, 30.51it/s]\n",
      "  0%|          | 0/5 [00:00<?, ?it/s]"
     ]
    },
    {
     "name": "stdout",
     "output_type": "stream",
     "text": [
      "819 (6, 7)\n",
      "820 (37, 7)\n",
      "821 (43, 7)\n",
      "822 (1236, 7)\n"
     ]
    },
    {
     "name": "stderr",
     "output_type": "stream",
     "text": [
      "100%|██████████| 5/5 [00:00<00:00,  7.36it/s]\n",
      "100%|██████████| 1/1 [00:00<00:00,  7.38it/s]\n",
      "  0%|          | 0/3 [00:00<?, ?it/s]"
     ]
    },
    {
     "name": "stdout",
     "output_type": "stream",
     "text": [
      "823 (245, 7)\n",
      "824 (638, 7)\n"
     ]
    },
    {
     "name": "stderr",
     "output_type": "stream",
     "text": [
      "100%|██████████| 3/3 [00:00<00:00,  8.26it/s]\n",
      "100%|██████████| 1/1 [00:00<00:00, 24.06it/s]\n",
      "100%|██████████| 1/1 [00:00<00:00, 88.01it/s]\n",
      "100%|██████████| 1/1 [00:00<00:00, 35.63it/s]\n",
      "  0%|          | 0/22 [00:00<?, ?it/s]"
     ]
    },
    {
     "name": "stdout",
     "output_type": "stream",
     "text": [
      "825 (61, 7)\n",
      "826 (1, 7)\n",
      "827 (34, 7)\n",
      "828 (5469, 7)\n"
     ]
    },
    {
     "name": "stderr",
     "output_type": "stream",
     "text": [
      "100%|██████████| 22/22 [00:03<00:00,  7.26it/s]\n",
      " 25%|██▌       | 1/4 [00:00<00:00,  7.03it/s]"
     ]
    },
    {
     "name": "stdout",
     "output_type": "stream",
     "text": [
      "829 (796, 7)\n"
     ]
    },
    {
     "name": "stderr",
     "output_type": "stream",
     "text": [
      "100%|██████████| 4/4 [00:00<00:00,  8.84it/s]\n",
      "  7%|▋         | 1/15 [00:00<00:02,  6.93it/s]"
     ]
    },
    {
     "name": "stdout",
     "output_type": "stream",
     "text": [
      "830 (3636, 7)\n"
     ]
    },
    {
     "name": "stderr",
     "output_type": "stream",
     "text": [
      "100%|██████████| 15/15 [00:02<00:00,  7.41it/s]\n",
      " 12%|█▎        | 1/8 [00:00<00:00,  7.08it/s]"
     ]
    },
    {
     "name": "stdout",
     "output_type": "stream",
     "text": [
      "831 (1888, 7)\n"
     ]
    },
    {
     "name": "stderr",
     "output_type": "stream",
     "text": [
      "100%|██████████| 8/8 [00:01<00:00,  7.85it/s]\n",
      "100%|██████████| 1/1 [00:00<00:00, 44.78it/s]\n",
      " 33%|███▎      | 1/3 [00:00<00:00,  7.46it/s]"
     ]
    },
    {
     "name": "stdout",
     "output_type": "stream",
     "text": [
      "832 (18, 7)\n",
      "833 (578, 7)\n"
     ]
    },
    {
     "name": "stderr",
     "output_type": "stream",
     "text": [
      "100%|██████████| 3/3 [00:00<00:00,  9.62it/s]\n",
      " 33%|███▎      | 1/3 [00:00<00:00,  7.39it/s]"
     ]
    },
    {
     "name": "stdout",
     "output_type": "stream",
     "text": [
      "834 (744, 7)\n"
     ]
    },
    {
     "name": "stderr",
     "output_type": "stream",
     "text": [
      "100%|██████████| 3/3 [00:00<00:00,  7.42it/s]\n",
      "100%|██████████| 1/1 [00:00<00:00, 41.21it/s]\n",
      "100%|██████████| 1/1 [00:00<00:00, 22.91it/s]\n",
      "  0%|          | 0/2 [00:00<?, ?it/s]"
     ]
    },
    {
     "name": "stdout",
     "output_type": "stream",
     "text": [
      "835 (24, 7)\n",
      "836 (66, 7)\n",
      "837 (361, 7)\n"
     ]
    },
    {
     "name": "stderr",
     "output_type": "stream",
     "text": [
      "100%|██████████| 2/2 [00:00<00:00,  9.77it/s]\n",
      "100%|██████████| 1/1 [00:00<00:00,  7.37it/s]\n",
      "100%|██████████| 1/1 [00:00<00:00, 48.60it/s]\n",
      "  0%|          | 0/2 [00:00<?, ?it/s]"
     ]
    },
    {
     "name": "stdout",
     "output_type": "stream",
     "text": [
      "838 (250, 7)\n",
      "839 (18, 7)\n",
      "840 (342, 7)\n"
     ]
    },
    {
     "name": "stderr",
     "output_type": "stream",
     "text": [
      "100%|██████████| 2/2 [00:00<00:00, 10.08it/s]\n",
      "100%|██████████| 1/1 [00:00<00:00, 18.82it/s]\n",
      "  0%|          | 0/5 [00:00<?, ?it/s]"
     ]
    },
    {
     "name": "stdout",
     "output_type": "stream",
     "text": [
      "841 (85, 7)\n",
      "842 (1051, 7)\n"
     ]
    },
    {
     "name": "stderr",
     "output_type": "stream",
     "text": [
      "100%|██████████| 5/5 [00:00<00:00,  8.55it/s]\n",
      "  8%|▊         | 1/13 [00:00<00:01,  7.52it/s]"
     ]
    },
    {
     "name": "stdout",
     "output_type": "stream",
     "text": [
      "843 (3325, 7)\n"
     ]
    },
    {
     "name": "stderr",
     "output_type": "stream",
     "text": [
      "100%|██████████| 13/13 [00:01<00:00,  7.12it/s]\n",
      " 33%|███▎      | 1/3 [00:00<00:00,  7.11it/s]"
     ]
    },
    {
     "name": "stdout",
     "output_type": "stream",
     "text": [
      "844 (570, 7)\n"
     ]
    },
    {
     "name": "stderr",
     "output_type": "stream",
     "text": [
      "100%|██████████| 3/3 [00:00<00:00,  9.28it/s]\n",
      " 50%|█████     | 1/2 [00:00<00:00,  7.13it/s]"
     ]
    },
    {
     "name": "stdout",
     "output_type": "stream",
     "text": [
      "845 (436, 7)\n"
     ]
    },
    {
     "name": "stderr",
     "output_type": "stream",
     "text": [
      "100%|██████████| 2/2 [00:00<00:00,  8.36it/s]\n",
      " 10%|█         | 1/10 [00:00<00:01,  7.33it/s]"
     ]
    },
    {
     "name": "stdout",
     "output_type": "stream",
     "text": [
      "846 (2306, 7)\n"
     ]
    },
    {
     "name": "stderr",
     "output_type": "stream",
     "text": [
      "100%|██████████| 10/10 [00:01<00:00,  7.67it/s]\n",
      "100%|██████████| 1/1 [00:00<00:00, 11.37it/s]\n",
      "  0%|          | 0/4 [00:00<?, ?it/s]"
     ]
    },
    {
     "name": "stdout",
     "output_type": "stream",
     "text": [
      "847 (158, 7)\n",
      "848 (1011, 7)\n"
     ]
    },
    {
     "name": "stderr",
     "output_type": "stream",
     "text": [
      "100%|██████████| 4/4 [00:00<00:00,  7.21it/s]\n",
      " 17%|█▋        | 1/6 [00:00<00:00,  7.13it/s]"
     ]
    },
    {
     "name": "stdout",
     "output_type": "stream",
     "text": [
      "849 (1402, 7)\n"
     ]
    },
    {
     "name": "stderr",
     "output_type": "stream",
     "text": [
      "100%|██████████| 6/6 [00:00<00:00,  7.75it/s]\n",
      " 33%|███▎      | 1/3 [00:00<00:00,  7.25it/s]"
     ]
    },
    {
     "name": "stdout",
     "output_type": "stream",
     "text": [
      "850 (613, 7)\n"
     ]
    },
    {
     "name": "stderr",
     "output_type": "stream",
     "text": [
      "100%|██████████| 3/3 [00:00<00:00,  8.80it/s]\n",
      "100%|██████████| 1/1 [00:00<00:00, 64.89it/s]\n",
      "100%|██████████| 1/1 [00:00<00:00, 32.01it/s]\n",
      "100%|██████████| 1/1 [00:00<00:00, 36.68it/s]\n",
      "  0%|          | 0/1 [00:00<?, ?it/s]"
     ]
    },
    {
     "name": "stdout",
     "output_type": "stream",
     "text": [
      "851 (7, 7)\n",
      "852 (41, 7)\n",
      "853 (33, 7)\n",
      "854 (220, 7)\n"
     ]
    },
    {
     "name": "stderr",
     "output_type": "stream",
     "text": [
      "100%|██████████| 1/1 [00:00<00:00,  8.13it/s]\n",
      "100%|██████████| 1/1 [00:00<00:00, 47.35it/s]\n",
      "  6%|▋         | 1/16 [00:00<00:02,  7.10it/s]"
     ]
    },
    {
     "name": "stdout",
     "output_type": "stream",
     "text": [
      "855 (19, 7)\n",
      "856 (4066, 7)\n"
     ]
    },
    {
     "name": "stderr",
     "output_type": "stream",
     "text": [
      "100%|██████████| 16/16 [00:02<00:00,  6.62it/s]\n",
      " 12%|█▎        | 1/8 [00:00<00:01,  6.41it/s]"
     ]
    },
    {
     "name": "stdout",
     "output_type": "stream",
     "text": [
      "857 (1961, 7)\n"
     ]
    },
    {
     "name": "stderr",
     "output_type": "stream",
     "text": [
      "100%|██████████| 8/8 [00:01<00:00,  6.75it/s]\n",
      "100%|██████████| 1/1 [00:00<00:00, 38.44it/s]\n",
      "100%|██████████| 1/1 [00:00<00:00, 12.40it/s]\n",
      "/home/bakirillov/HDD/works/Skoltech/CRISPR_CAD/uace/src/core.py:966: RuntimeWarning: invalid value encountered in true_divide\n",
      "  self.S[self.label_column]\n",
      "100%|██████████| 1/1 [00:00<00:00, 63.04it/s]\n",
      "  0%|          | 0/1 [00:00<?, ?it/s]"
     ]
    },
    {
     "name": "stdout",
     "output_type": "stream",
     "text": [
      "858 (24, 7)\n",
      "859 (129, 7)\n",
      "860 (6, 7)\n",
      "861 (125, 7)\n"
     ]
    },
    {
     "name": "stderr",
     "output_type": "stream",
     "text": [
      "100%|██████████| 1/1 [00:00<00:00, 13.58it/s]\n",
      "100%|██████████| 1/1 [00:00<00:00, 26.16it/s]\n",
      "100%|██████████| 1/1 [00:00<00:00, 22.39it/s]\n",
      "  0%|          | 0/30 [00:00<?, ?it/s]"
     ]
    },
    {
     "name": "stdout",
     "output_type": "stream",
     "text": [
      "862 (57, 7)\n",
      "863 (69, 7)\n",
      "864 (7669, 7)\n"
     ]
    },
    {
     "name": "stderr",
     "output_type": "stream",
     "text": [
      "100%|██████████| 30/30 [00:04<00:00,  7.43it/s]\n",
      "100%|██████████| 1/1 [00:00<00:00, 62.31it/s]\n",
      " 25%|██▌       | 1/4 [00:00<00:00,  7.85it/s]"
     ]
    },
    {
     "name": "stdout",
     "output_type": "stream",
     "text": [
      "865 (11, 7)\n",
      "866 (934, 7)\n"
     ]
    },
    {
     "name": "stderr",
     "output_type": "stream",
     "text": [
      "100%|██████████| 4/4 [00:00<00:00,  8.48it/s]\n",
      "100%|██████████| 1/1 [00:00<00:00, 30.61it/s]\n",
      "  7%|▋         | 1/14 [00:00<00:01,  7.88it/s]"
     ]
    },
    {
     "name": "stdout",
     "output_type": "stream",
     "text": [
      "No columns to parse from file\n",
      "868 (49, 7)\n",
      "869 (3453, 7)\n"
     ]
    },
    {
     "name": "stderr",
     "output_type": "stream",
     "text": [
      "100%|██████████| 14/14 [00:01<00:00,  8.07it/s]\n",
      "100%|██████████| 1/1 [00:00<00:00, 10.49it/s]\n",
      "100%|██████████| 1/1 [00:00<00:00, 24.40it/s]\n",
      "100%|██████████| 1/1 [00:00<00:00, 90.24it/s]\n",
      "  0%|          | 0/2 [00:00<?, ?it/s]"
     ]
    },
    {
     "name": "stdout",
     "output_type": "stream",
     "text": [
      "No columns to parse from file\n",
      "871 (186, 7)\n",
      "872 (68, 7)\n",
      "873 (1, 7)\n",
      "874 (455, 7)\n"
     ]
    },
    {
     "name": "stderr",
     "output_type": "stream",
     "text": [
      "100%|██████████| 2/2 [00:00<00:00,  8.41it/s]\n",
      "/home/bakirillov/HDD/works/Skoltech/CRISPR_CAD/uace/src/core.py:966: RuntimeWarning: invalid value encountered in true_divide\n",
      "  self.S[self.label_column]\n",
      "100%|██████████| 1/1 [00:00<00:00, 74.64it/s]\n",
      "100%|██████████| 1/1 [00:00<00:00, 86.80it/s]\n",
      "100%|██████████| 1/1 [00:00<00:00, 42.81it/s]\n",
      "100%|██████████| 1/1 [00:00<00:00, 26.25it/s]\n",
      "  0%|          | 0/1 [00:00<?, ?it/s]"
     ]
    },
    {
     "name": "stdout",
     "output_type": "stream",
     "text": [
      "875 (6, 7)\n",
      "876 (2, 7)\n",
      "877 (28, 7)\n",
      "878 (59, 7)\n",
      "879 (193, 7)\n"
     ]
    },
    {
     "name": "stderr",
     "output_type": "stream",
     "text": [
      "100%|██████████| 1/1 [00:00<00:00, 10.11it/s]\n",
      "100%|██████████| 1/1 [00:00<00:00,  8.68it/s]\n",
      "100%|██████████| 1/1 [00:00<00:00, 15.17it/s]\n"
     ]
    },
    {
     "name": "stdout",
     "output_type": "stream",
     "text": [
      "880 (229, 7)\n",
      "881 (123, 7)\n",
      "882 (16, 7)\n"
     ]
    },
    {
     "name": "stderr",
     "output_type": "stream",
     "text": [
      "100%|██████████| 1/1 [00:00<00:00, 55.60it/s]\n",
      "100%|██████████| 1/1 [00:00<00:00, 42.47it/s]\n",
      " 33%|███▎      | 1/3 [00:00<00:00,  7.32it/s]"
     ]
    },
    {
     "name": "stdout",
     "output_type": "stream",
     "text": [
      "883 (28, 7)\n",
      "884 (588, 7)\n"
     ]
    },
    {
     "name": "stderr",
     "output_type": "stream",
     "text": [
      "100%|██████████| 3/3 [00:00<00:00,  9.05it/s]\n",
      " 17%|█▋        | 1/6 [00:00<00:00,  7.02it/s]"
     ]
    },
    {
     "name": "stdout",
     "output_type": "stream",
     "text": [
      "885 (1334, 7)\n"
     ]
    },
    {
     "name": "stderr",
     "output_type": "stream",
     "text": [
      "100%|██████████| 6/6 [00:00<00:00,  7.92it/s]\n",
      "100%|██████████| 1/1 [00:00<00:00, 40.12it/s]\n",
      "100%|██████████| 1/1 [00:00<00:00, 84.02it/s]\n",
      " 33%|███▎      | 1/3 [00:00<00:00,  7.03it/s]"
     ]
    },
    {
     "name": "stdout",
     "output_type": "stream",
     "text": [
      "886 (26, 7)\n",
      "887 (1, 7)\n",
      "888 (720, 7)\n"
     ]
    },
    {
     "name": "stderr",
     "output_type": "stream",
     "text": [
      "100%|██████████| 3/3 [00:00<00:00,  7.35it/s]\n",
      "100%|██████████| 1/1 [00:00<00:00, 57.22it/s]\n",
      "100%|██████████| 1/1 [00:00<00:00, 32.31it/s]\n",
      "/home/bakirillov/HDD/works/Skoltech/CRISPR_CAD/uace/src/core.py:966: RuntimeWarning: invalid value encountered in true_divide\n",
      "  self.S[self.label_column]\n",
      "100%|██████████| 1/1 [00:00<00:00, 73.37it/s]\n",
      "  0%|          | 0/2 [00:00<?, ?it/s]"
     ]
    },
    {
     "name": "stdout",
     "output_type": "stream",
     "text": [
      "889 (12, 7)\n",
      "890 (44, 7)\n",
      "891 (6, 7)\n",
      "892 (273, 7)\n"
     ]
    },
    {
     "name": "stderr",
     "output_type": "stream",
     "text": [
      "100%|██████████| 2/2 [00:00<00:00, 13.47it/s]\n",
      "100%|██████████| 1/1 [00:00<00:00, 65.36it/s]\n",
      " 17%|█▋        | 1/6 [00:00<00:00,  7.46it/s]"
     ]
    },
    {
     "name": "stdout",
     "output_type": "stream",
     "text": [
      "893 (9, 7)\n",
      "894 (1466, 7)\n"
     ]
    },
    {
     "name": "stderr",
     "output_type": "stream",
     "text": [
      "100%|██████████| 6/6 [00:00<00:00,  7.78it/s]\n",
      "100%|██████████| 1/1 [00:00<00:00, 45.85it/s]\n",
      "100%|██████████| 1/1 [00:00<00:00, 31.54it/s]\n",
      "  0%|          | 0/3 [00:00<?, ?it/s]"
     ]
    },
    {
     "name": "stdout",
     "output_type": "stream",
     "text": [
      "895 (23, 7)\n",
      "896 (45, 7)\n",
      "897 (546, 7)\n"
     ]
    },
    {
     "name": "stderr",
     "output_type": "stream",
     "text": [
      "100%|██████████| 3/3 [00:00<00:00, 10.19it/s]\n",
      "100%|██████████| 1/1 [00:00<00:00, 23.45it/s]\n",
      " 33%|███▎      | 1/3 [00:00<00:00,  7.54it/s]"
     ]
    },
    {
     "name": "stdout",
     "output_type": "stream",
     "text": [
      "898 (68, 7)\n",
      "899 (638, 7)\n"
     ]
    },
    {
     "name": "stderr",
     "output_type": "stream",
     "text": [
      "100%|██████████| 3/3 [00:00<00:00,  8.87it/s]\n",
      " 50%|█████     | 1/2 [00:00<00:00,  7.46it/s]"
     ]
    },
    {
     "name": "stdout",
     "output_type": "stream",
     "text": [
      "900 (479, 7)\n"
     ]
    },
    {
     "name": "stderr",
     "output_type": "stream",
     "text": [
      "100%|██████████| 2/2 [00:00<00:00,  7.87it/s]\n",
      "100%|██████████| 2/2 [00:00<00:00, 11.09it/s]\n",
      "  0%|          | 0/4 [00:00<?, ?it/s]"
     ]
    },
    {
     "name": "stdout",
     "output_type": "stream",
     "text": [
      "901 (331, 7)\n",
      "902 (787, 7)\n"
     ]
    },
    {
     "name": "stderr",
     "output_type": "stream",
     "text": [
      "100%|██████████| 4/4 [00:00<00:00,  9.46it/s]\n",
      " 33%|███▎      | 1/3 [00:00<00:00,  7.40it/s]"
     ]
    },
    {
     "name": "stdout",
     "output_type": "stream",
     "text": [
      "No columns to parse from file\n",
      "904 (751, 7)\n"
     ]
    },
    {
     "name": "stderr",
     "output_type": "stream",
     "text": [
      "100%|██████████| 3/3 [00:00<00:00,  7.56it/s]\n",
      "100%|██████████| 1/1 [00:00<00:00, 57.04it/s]\n",
      " 14%|█▍        | 1/7 [00:00<00:00,  7.50it/s]"
     ]
    },
    {
     "name": "stdout",
     "output_type": "stream",
     "text": [
      "No columns to parse from file\n",
      "906 (14, 7)\n",
      "907 (1596, 7)\n"
     ]
    },
    {
     "name": "stderr",
     "output_type": "stream",
     "text": [
      "100%|██████████| 7/7 [00:00<00:00,  8.31it/s]\n",
      "100%|██████████| 1/1 [00:00<00:00, 26.20it/s]\n",
      " 50%|█████     | 1/2 [00:00<00:00,  7.46it/s]"
     ]
    },
    {
     "name": "stdout",
     "output_type": "stream",
     "text": [
      "908 (57, 7)\n",
      "909 (357, 7)\n"
     ]
    },
    {
     "name": "stderr",
     "output_type": "stream",
     "text": [
      "100%|██████████| 2/2 [00:00<00:00, 10.27it/s]\n",
      "100%|██████████| 2/2 [00:00<00:00, 10.46it/s]"
     ]
    },
    {
     "name": "stdout",
     "output_type": "stream",
     "text": [
      "910 (356, 7)\n"
     ]
    },
    {
     "name": "stderr",
     "output_type": "stream",
     "text": [
      "\n",
      " 25%|██▌       | 1/4 [00:00<00:00,  7.53it/s]"
     ]
    },
    {
     "name": "stdout",
     "output_type": "stream",
     "text": [
      "911 (874, 7)\n"
     ]
    },
    {
     "name": "stderr",
     "output_type": "stream",
     "text": [
      "100%|██████████| 4/4 [00:00<00:00,  8.64it/s]\n",
      " 33%|███▎      | 1/3 [00:00<00:00,  7.50it/s]"
     ]
    },
    {
     "name": "stdout",
     "output_type": "stream",
     "text": [
      "912 (516, 7)\n"
     ]
    },
    {
     "name": "stderr",
     "output_type": "stream",
     "text": [
      "100%|██████████| 3/3 [00:00<00:00, 10.66it/s]\n",
      " 20%|██        | 1/5 [00:00<00:00,  7.50it/s]"
     ]
    },
    {
     "name": "stdout",
     "output_type": "stream",
     "text": [
      "913 (1235, 7)\n"
     ]
    },
    {
     "name": "stderr",
     "output_type": "stream",
     "text": [
      "100%|██████████| 5/5 [00:00<00:00,  7.68it/s]\n",
      " 20%|██        | 1/5 [00:00<00:00,  7.46it/s]"
     ]
    },
    {
     "name": "stdout",
     "output_type": "stream",
     "text": [
      "914 (1264, 7)\n"
     ]
    },
    {
     "name": "stderr",
     "output_type": "stream",
     "text": [
      "100%|██████████| 5/5 [00:00<00:00,  7.52it/s]\n",
      "100%|██████████| 1/1 [00:00<00:00, 29.70it/s]\n",
      " 14%|█▍        | 1/7 [00:00<00:00,  7.46it/s]"
     ]
    },
    {
     "name": "stdout",
     "output_type": "stream",
     "text": [
      "915 (47, 7)\n",
      "916 (1763, 7)\n"
     ]
    },
    {
     "name": "stderr",
     "output_type": "stream",
     "text": [
      "100%|██████████| 7/7 [00:00<00:00,  7.55it/s]\n",
      "100%|██████████| 1/1 [00:00<00:00,  8.12it/s]\n",
      "100%|██████████| 1/1 [00:00<00:00, 29.84it/s]\n",
      "  0%|          | 0/1 [00:00<?, ?it/s]"
     ]
    },
    {
     "name": "stdout",
     "output_type": "stream",
     "text": [
      "917 (233, 7)\n",
      "918 (53, 7)\n",
      "919 (35, 7)\n"
     ]
    },
    {
     "name": "stderr",
     "output_type": "stream",
     "text": [
      "100%|██████████| 1/1 [00:00<00:00, 37.71it/s]\n",
      "100%|██████████| 1/1 [00:00<00:00, 14.46it/s]\n",
      "100%|██████████| 1/1 [00:00<00:00, 43.52it/s]\n",
      "100%|██████████| 1/1 [00:00<00:00, 55.36it/s]\n",
      "  0%|          | 0/2 [00:00<?, ?it/s]"
     ]
    },
    {
     "name": "stdout",
     "output_type": "stream",
     "text": [
      "920 (128, 7)\n",
      "921 (27, 7)\n",
      "922 (16, 7)\n",
      "923 (296, 7)\n"
     ]
    },
    {
     "name": "stderr",
     "output_type": "stream",
     "text": [
      "100%|██████████| 2/2 [00:00<00:00, 12.11it/s]\n",
      "100%|██████████| 1/1 [00:00<00:00,  7.56it/s]\n",
      "100%|██████████| 1/1 [00:00<00:00, 68.14it/s]\n",
      "  0%|          | 0/2 [00:00<?, ?it/s]"
     ]
    },
    {
     "name": "stdout",
     "output_type": "stream",
     "text": [
      "924 (252, 7)\n",
      "925 (8, 7)\n",
      "926 (262, 7)\n"
     ]
    },
    {
     "name": "stderr",
     "output_type": "stream",
     "text": [
      "100%|██████████| 2/2 [00:00<00:00, 13.55it/s]\n",
      "100%|██████████| 1/1 [00:00<00:00, 42.67it/s]\n",
      " 50%|█████     | 1/2 [00:00<00:00,  7.44it/s]"
     ]
    },
    {
     "name": "stdout",
     "output_type": "stream",
     "text": [
      "927 (27, 7)\n",
      "928 (486, 7)\n"
     ]
    },
    {
     "name": "stderr",
     "output_type": "stream",
     "text": [
      "100%|██████████| 2/2 [00:00<00:00,  7.73it/s]\n",
      "100%|██████████| 1/1 [00:00<00:00, 20.96it/s]\n",
      "100%|██████████| 1/1 [00:00<00:00, 21.69it/s]\n",
      "  0%|          | 0/7 [00:00<?, ?it/s]"
     ]
    },
    {
     "name": "stdout",
     "output_type": "stream",
     "text": [
      "929 (78, 7)\n",
      "930 (75, 7)\n",
      "931 (1644, 7)\n"
     ]
    },
    {
     "name": "stderr",
     "output_type": "stream",
     "text": [
      "100%|██████████| 7/7 [00:00<00:00,  7.76it/s]\n",
      "100%|██████████| 1/1 [00:00<00:00, 51.56it/s]\n",
      "100%|██████████| 1/1 [00:00<00:00,  7.12it/s]\n",
      "  0%|          | 0/3 [00:00<?, ?it/s]"
     ]
    },
    {
     "name": "stdout",
     "output_type": "stream",
     "text": [
      "932 (13, 7)\n",
      "933 (227, 7)\n",
      "934 (710, 7)\n"
     ]
    },
    {
     "name": "stderr",
     "output_type": "stream",
     "text": [
      "100%|██████████| 3/3 [00:00<00:00,  7.83it/s]\n",
      "100%|██████████| 1/1 [00:00<00:00,  8.88it/s]\n",
      "  0%|          | 0/2 [00:00<?, ?it/s]"
     ]
    },
    {
     "name": "stdout",
     "output_type": "stream",
     "text": [
      "935 (208, 7)\n",
      "936 (329, 7)\n"
     ]
    },
    {
     "name": "stderr",
     "output_type": "stream",
     "text": [
      "100%|██████████| 2/2 [00:00<00:00, 11.09it/s]\n",
      " 25%|██▌       | 1/4 [00:00<00:00,  7.45it/s]"
     ]
    },
    {
     "name": "stdout",
     "output_type": "stream",
     "text": [
      "937 (968, 7)\n"
     ]
    },
    {
     "name": "stderr",
     "output_type": "stream",
     "text": [
      "100%|██████████| 4/4 [00:00<00:00,  7.81it/s]\n",
      "100%|██████████| 2/2 [00:00<00:00, 10.47it/s]"
     ]
    },
    {
     "name": "stdout",
     "output_type": "stream",
     "text": [
      "938 (352, 7)\n",
      "No columns to parse from file\n"
     ]
    },
    {
     "name": "stderr",
     "output_type": "stream",
     "text": [
      "\n",
      "100%|██████████| 1/1 [00:00<00:00, 28.37it/s]\n",
      "/home/bakirillov/HDD/works/Skoltech/CRISPR_CAD/uace/src/core.py:966: RuntimeWarning: invalid value encountered in true_divide\n",
      "  self.S[self.label_column]\n",
      "100%|██████████| 1/1 [00:00<00:00, 72.54it/s]\n",
      "100%|██████████| 1/1 [00:00<00:00, 79.48it/s]\n",
      "100%|██████████| 1/1 [00:00<00:00, 25.54it/s]\n",
      "  0%|          | 0/22 [00:00<?, ?it/s]"
     ]
    },
    {
     "name": "stdout",
     "output_type": "stream",
     "text": [
      "940 (52, 7)\n",
      "941 (6, 7)\n",
      "942 (4, 7)\n",
      "943 (60, 7)\n",
      "944 (5421, 7)\n"
     ]
    },
    {
     "name": "stderr",
     "output_type": "stream",
     "text": [
      "100%|██████████| 22/22 [00:02<00:00,  7.97it/s]\n",
      " 25%|██▌       | 1/4 [00:00<00:00,  8.08it/s]"
     ]
    },
    {
     "name": "stdout",
     "output_type": "stream",
     "text": [
      "945 (857, 7)\n"
     ]
    },
    {
     "name": "stderr",
     "output_type": "stream",
     "text": [
      "100%|██████████| 4/4 [00:00<00:00,  9.43it/s]\n",
      " 12%|█▎        | 1/8 [00:00<00:00,  8.01it/s]"
     ]
    },
    {
     "name": "stdout",
     "output_type": "stream",
     "text": [
      "946 (1869, 7)\n"
     ]
    },
    {
     "name": "stderr",
     "output_type": "stream",
     "text": [
      "100%|██████████| 8/8 [00:00<00:00,  8.68it/s]\n",
      "100%|██████████| 1/1 [00:00<00:00, 37.49it/s]\n",
      "100%|██████████| 1/1 [00:00<00:00, 36.58it/s]\n",
      "  0%|          | 0/9 [00:00<?, ?it/s]"
     ]
    },
    {
     "name": "stdout",
     "output_type": "stream",
     "text": [
      "947 (37, 7)\n",
      "948 (38, 7)\n",
      "949 (2190, 7)\n"
     ]
    },
    {
     "name": "stderr",
     "output_type": "stream",
     "text": [
      "100%|██████████| 9/9 [00:01<00:00,  8.36it/s]\n",
      " 50%|█████     | 1/2 [00:00<00:00,  8.05it/s]"
     ]
    },
    {
     "name": "stdout",
     "output_type": "stream",
     "text": [
      "950 (494, 7)\n"
     ]
    },
    {
     "name": "stderr",
     "output_type": "stream",
     "text": [
      "100%|██████████| 2/2 [00:00<00:00,  8.19it/s]\n",
      "100%|██████████| 1/1 [00:00<00:00, 21.21it/s]\n",
      "100%|██████████| 1/1 [00:00<00:00, 37.22it/s]\n",
      "100%|██████████| 1/1 [00:00<00:00, 33.60it/s]\n",
      "  0%|          | 0/3 [00:00<?, ?it/s]"
     ]
    },
    {
     "name": "stdout",
     "output_type": "stream",
     "text": [
      "951 (84, 7)\n",
      "952 (36, 7)\n",
      "953 (44, 7)\n",
      "954 (518, 7)\n"
     ]
    },
    {
     "name": "stderr",
     "output_type": "stream",
     "text": [
      "100%|██████████| 3/3 [00:00<00:00, 11.38it/s]\n",
      "  7%|▋         | 1/15 [00:00<00:01,  8.04it/s]"
     ]
    },
    {
     "name": "stdout",
     "output_type": "stream",
     "text": [
      "955 (3794, 7)\n"
     ]
    },
    {
     "name": "stderr",
     "output_type": "stream",
     "text": [
      "100%|██████████| 15/15 [00:01<00:00,  8.06it/s]\n",
      "100%|██████████| 1/1 [00:00<00:00, 61.70it/s]\n",
      "100%|██████████| 1/1 [00:00<00:00,  9.86it/s]\n",
      "100%|██████████| 1/1 [00:00<00:00, 64.91it/s]\n",
      "  0%|          | 0/5 [00:00<?, ?it/s]"
     ]
    },
    {
     "name": "stdout",
     "output_type": "stream",
     "text": [
      "956 (13, 7)\n",
      "957 (202, 7)\n",
      "958 (11, 7)\n",
      "959 (1079, 7)\n"
     ]
    },
    {
     "name": "stderr",
     "output_type": "stream",
     "text": [
      "100%|██████████| 5/5 [00:00<00:00,  9.32it/s]\n",
      " 25%|██▌       | 1/4 [00:00<00:00,  8.03it/s]"
     ]
    },
    {
     "name": "stdout",
     "output_type": "stream",
     "text": [
      "960 (873, 7)\n"
     ]
    },
    {
     "name": "stderr",
     "output_type": "stream",
     "text": [
      "100%|██████████| 4/4 [00:00<00:00,  9.23it/s]\n",
      "  5%|▌         | 1/20 [00:00<00:02,  7.99it/s]"
     ]
    },
    {
     "name": "stdout",
     "output_type": "stream",
     "text": [
      "961 (4939, 7)\n"
     ]
    },
    {
     "name": "stderr",
     "output_type": "stream",
     "text": [
      "100%|██████████| 20/20 [00:02<00:00,  8.25it/s]\n",
      " 25%|██▌       | 1/4 [00:00<00:00,  7.10it/s]"
     ]
    },
    {
     "name": "stdout",
     "output_type": "stream",
     "text": [
      "962 (924, 7)\n"
     ]
    },
    {
     "name": "stderr",
     "output_type": "stream",
     "text": [
      "100%|██████████| 4/4 [00:00<00:00,  8.38it/s]\n",
      "100%|██████████| 2/2 [00:00<00:00, 10.10it/s]"
     ]
    },
    {
     "name": "stdout",
     "output_type": "stream",
     "text": [
      "963 (398, 7)\n"
     ]
    },
    {
     "name": "stderr",
     "output_type": "stream",
     "text": [
      "\n",
      " 33%|███▎      | 1/3 [00:00<00:00,  8.08it/s]"
     ]
    },
    {
     "name": "stdout",
     "output_type": "stream",
     "text": [
      "964 (697, 7)\n"
     ]
    },
    {
     "name": "stderr",
     "output_type": "stream",
     "text": [
      "100%|██████████| 3/3 [00:00<00:00,  8.74it/s]\n",
      " 33%|███▎      | 1/3 [00:00<00:00,  8.08it/s]"
     ]
    },
    {
     "name": "stdout",
     "output_type": "stream",
     "text": [
      "965 (694, 7)\n"
     ]
    },
    {
     "name": "stderr",
     "output_type": "stream",
     "text": [
      "100%|██████████| 3/3 [00:00<00:00,  8.80it/s]\n",
      "100%|██████████| 1/1 [00:00<00:00, 17.11it/s]\n",
      "100%|██████████| 1/1 [00:00<00:00, 67.92it/s]\n",
      "  0%|          | 0/14 [00:00<?, ?it/s]"
     ]
    },
    {
     "name": "stdout",
     "output_type": "stream",
     "text": [
      "966 (108, 7)\n",
      "967 (9, 7)\n",
      "968 (3468, 7)\n"
     ]
    },
    {
     "name": "stderr",
     "output_type": "stream",
     "text": [
      "100%|██████████| 14/14 [00:01<00:00,  8.22it/s]\n",
      "100%|██████████| 1/1 [00:00<00:00, 44.53it/s]\n",
      "100%|██████████| 1/1 [00:00<00:00, 10.79it/s]\n",
      "  0%|          | 0/7 [00:00<?, ?it/s]"
     ]
    },
    {
     "name": "stdout",
     "output_type": "stream",
     "text": [
      "969 (27, 7)\n",
      "970 (186, 7)\n",
      "971 (1679, 7)\n"
     ]
    },
    {
     "name": "stderr",
     "output_type": "stream",
     "text": [
      "100%|██████████| 7/7 [00:00<00:00,  8.48it/s]\n",
      "100%|██████████| 1/1 [00:00<00:00, 79.89it/s]\n",
      "100%|██████████| 1/1 [00:00<00:00,  9.30it/s]\n",
      "  0%|          | 0/1 [00:00<?, ?it/s]"
     ]
    },
    {
     "name": "stdout",
     "output_type": "stream",
     "text": [
      "972 (4, 7)\n",
      "973 (218, 7)\n",
      "974 (255, 7)\n"
     ]
    },
    {
     "name": "stderr",
     "output_type": "stream",
     "text": [
      "100%|██████████| 1/1 [00:00<00:00,  7.73it/s]\n",
      " 20%|██        | 1/5 [00:00<00:00,  8.05it/s]"
     ]
    },
    {
     "name": "stdout",
     "output_type": "stream",
     "text": [
      "975 (1060, 7)\n"
     ]
    },
    {
     "name": "stderr",
     "output_type": "stream",
     "text": [
      "100%|██████████| 5/5 [00:00<00:00,  9.48it/s]\n",
      "100%|██████████| 1/1 [00:00<00:00, 12.60it/s]\n",
      "  0%|          | 0/3 [00:00<?, ?it/s]"
     ]
    },
    {
     "name": "stdout",
     "output_type": "stream",
     "text": [
      "976 (155, 7)\n",
      "977 (550, 7)\n"
     ]
    },
    {
     "name": "stderr",
     "output_type": "stream",
     "text": [
      "100%|██████████| 3/3 [00:00<00:00, 10.54it/s]\n",
      "  8%|▊         | 1/13 [00:00<00:01,  7.84it/s]"
     ]
    },
    {
     "name": "stdout",
     "output_type": "stream",
     "text": [
      "978 (3090, 7)\n"
     ]
    },
    {
     "name": "stderr",
     "output_type": "stream",
     "text": [
      "100%|██████████| 13/13 [00:01<00:00,  8.38it/s]\n",
      "100%|██████████| 1/1 [00:00<00:00, 65.54it/s]\n",
      " 33%|███▎      | 1/3 [00:00<00:00,  7.47it/s]"
     ]
    },
    {
     "name": "stdout",
     "output_type": "stream",
     "text": [
      "979 (9, 7)\n",
      "980 (624, 7)\n"
     ]
    },
    {
     "name": "stderr",
     "output_type": "stream",
     "text": [
      "100%|██████████| 3/3 [00:00<00:00,  8.66it/s]\n",
      "100%|██████████| 1/1 [00:00<00:00, 60.39it/s]\n",
      "100%|██████████| 1/1 [00:00<00:00, 43.29it/s]\n",
      " 33%|███▎      | 1/3 [00:00<00:00,  7.73it/s]"
     ]
    },
    {
     "name": "stdout",
     "output_type": "stream",
     "text": [
      "981 (10, 7)\n",
      "982 (27, 7)\n",
      "983 (612, 7)\n"
     ]
    },
    {
     "name": "stderr",
     "output_type": "stream",
     "text": [
      "100%|██████████| 3/3 [00:00<00:00,  9.27it/s]\n",
      "100%|██████████| 1/1 [00:00<00:00, 28.21it/s]\n",
      "100%|██████████| 1/1 [00:00<00:00, 55.88it/s]\n",
      "100%|██████████| 1/1 [00:00<00:00, 68.31it/s]\n",
      "100%|██████████| 1/1 [00:00<00:00, 81.07it/s]\n",
      "100%|██████████| 1/1 [00:00<00:00, 29.40it/s]\n",
      "  0%|          | 0/9 [00:00<?, ?it/s]"
     ]
    },
    {
     "name": "stdout",
     "output_type": "stream",
     "text": [
      "984 (50, 7)\n",
      "985 (16, 7)\n",
      "986 (9, 7)\n",
      "987 (4, 7)\n",
      "988 (53, 7)\n",
      "989 (2177, 7)\n"
     ]
    },
    {
     "name": "stderr",
     "output_type": "stream",
     "text": [
      "100%|██████████| 9/9 [00:01<00:00,  7.83it/s]\n",
      "100%|██████████| 1/1 [00:00<00:00, 35.18it/s]\n",
      "100%|██████████| 1/1 [00:00<00:00, 26.18it/s]\n",
      "100%|██████████| 1/1 [00:00<00:00, 20.36it/s]\n",
      "  0%|          | 0/3 [00:00<?, ?it/s]"
     ]
    },
    {
     "name": "stdout",
     "output_type": "stream",
     "text": [
      "990 (36, 7)\n",
      "991 (59, 7)\n",
      "992 (81, 7)\n",
      "993 (534, 7)\n"
     ]
    },
    {
     "name": "stderr",
     "output_type": "stream",
     "text": [
      "100%|██████████| 3/3 [00:00<00:00, 10.26it/s]\n",
      "100%|██████████| 1/1 [00:00<00:00, 49.12it/s]\n",
      " 12%|█▎        | 1/8 [00:00<00:00,  7.50it/s]"
     ]
    },
    {
     "name": "stdout",
     "output_type": "stream",
     "text": [
      "994 (20, 7)\n",
      "995 (1861, 7)\n"
     ]
    },
    {
     "name": "stderr",
     "output_type": "stream",
     "text": [
      "100%|██████████| 8/8 [00:00<00:00,  8.09it/s]\n",
      " 25%|██▌       | 1/4 [00:00<00:00,  7.45it/s]"
     ]
    },
    {
     "name": "stdout",
     "output_type": "stream",
     "text": [
      "996 (922, 7)\n"
     ]
    },
    {
     "name": "stderr",
     "output_type": "stream",
     "text": [
      "100%|██████████| 4/4 [00:00<00:00,  8.19it/s]\n",
      "100%|██████████| 1/1 [00:00<00:00, 57.99it/s]\n",
      " 50%|█████     | 1/2 [00:00<00:00,  7.47it/s]"
     ]
    },
    {
     "name": "stdout",
     "output_type": "stream",
     "text": [
      "997 (13, 7)\n",
      "998 (380, 7)\n"
     ]
    },
    {
     "name": "stderr",
     "output_type": "stream",
     "text": [
      "100%|██████████| 2/2 [00:00<00:00,  9.74it/s]\n",
      "100%|██████████| 1/1 [00:00<00:00, 62.13it/s]\n",
      "  6%|▋         | 1/16 [00:00<00:02,  7.47it/s]"
     ]
    },
    {
     "name": "stdout",
     "output_type": "stream",
     "text": [
      "999 (11, 7)\n",
      "1000 (3989, 7)\n"
     ]
    },
    {
     "name": "stderr",
     "output_type": "stream",
     "text": [
      "100%|██████████| 16/16 [00:02<00:00,  7.63it/s]\n",
      " 50%|█████     | 1/2 [00:00<00:00,  7.19it/s]"
     ]
    },
    {
     "name": "stdout",
     "output_type": "stream",
     "text": [
      "1001 (432, 7)\n"
     ]
    },
    {
     "name": "stderr",
     "output_type": "stream",
     "text": [
      "100%|██████████| 2/2 [00:00<00:00,  8.34it/s]\n",
      " 50%|█████     | 1/2 [00:00<00:00,  6.34it/s]"
     ]
    },
    {
     "name": "stdout",
     "output_type": "stream",
     "text": [
      "1002 (506, 7)\n"
     ]
    },
    {
     "name": "stderr",
     "output_type": "stream",
     "text": [
      "100%|██████████| 2/2 [00:00<00:00,  6.75it/s]\n",
      "100%|██████████| 1/1 [00:00<00:00, 40.97it/s]\n",
      "100%|██████████| 1/1 [00:00<00:00, 18.55it/s]\n",
      "  0%|          | 0/6 [00:00<?, ?it/s]"
     ]
    },
    {
     "name": "stdout",
     "output_type": "stream",
     "text": [
      "1003 (19, 7)\n",
      "No columns to parse from file\n",
      "1005 (81, 7)\n",
      "1006 (1322, 7)\n"
     ]
    },
    {
     "name": "stderr",
     "output_type": "stream",
     "text": [
      "100%|██████████| 6/6 [00:00<00:00,  8.27it/s]\n",
      "100%|██████████| 1/1 [00:00<00:00, 71.95it/s]\n",
      "100%|██████████| 1/1 [00:00<00:00, 59.77it/s]\n",
      "  6%|▋         | 1/16 [00:00<00:02,  7.29it/s]"
     ]
    },
    {
     "name": "stdout",
     "output_type": "stream",
     "text": [
      "1007 (5, 7)\n",
      "1008 (10, 7)\n",
      "1009 (3870, 7)\n"
     ]
    },
    {
     "name": "stderr",
     "output_type": "stream",
     "text": [
      "100%|██████████| 16/16 [00:02<00:00,  7.70it/s]\n",
      "100%|██████████| 1/1 [00:00<00:00, 10.62it/s]\n",
      "  0%|          | 0/3 [00:00<?, ?it/s]"
     ]
    },
    {
     "name": "stdout",
     "output_type": "stream",
     "text": [
      "1010 (169, 7)\n",
      "1011 (548, 7)\n"
     ]
    },
    {
     "name": "stderr",
     "output_type": "stream",
     "text": [
      "100%|██████████| 3/3 [00:00<00:00,  9.92it/s]\n",
      " 12%|█▎        | 1/8 [00:00<00:00,  7.34it/s]"
     ]
    },
    {
     "name": "stdout",
     "output_type": "stream",
     "text": [
      "1012 (1995, 7)\n"
     ]
    },
    {
     "name": "stderr",
     "output_type": "stream",
     "text": [
      "100%|██████████| 8/8 [00:01<00:00,  7.48it/s]\n",
      "100%|██████████| 1/1 [00:00<00:00, 25.03it/s]\n",
      " 50%|█████     | 1/2 [00:00<00:00,  7.34it/s]"
     ]
    },
    {
     "name": "stdout",
     "output_type": "stream",
     "text": [
      "1013 (58, 7)\n",
      "1014 (372, 7)\n"
     ]
    },
    {
     "name": "stderr",
     "output_type": "stream",
     "text": [
      "100%|██████████| 2/2 [00:00<00:00,  9.71it/s]\n",
      " 14%|█▍        | 1/7 [00:00<00:00,  7.43it/s]"
     ]
    },
    {
     "name": "stdout",
     "output_type": "stream",
     "text": [
      "1015 (1573, 7)\n"
     ]
    },
    {
     "name": "stderr",
     "output_type": "stream",
     "text": [
      "100%|██████████| 7/7 [00:00<00:00,  8.26it/s]\n",
      "100%|██████████| 1/1 [00:00<00:00, 59.51it/s]\n",
      " 50%|█████     | 1/2 [00:00<00:00,  7.12it/s]"
     ]
    },
    {
     "name": "stdout",
     "output_type": "stream",
     "text": [
      "1016 (11, 7)\n",
      "1017 (340, 7)\n"
     ]
    },
    {
     "name": "stderr",
     "output_type": "stream",
     "text": [
      "100%|██████████| 2/2 [00:00<00:00, 10.32it/s]\n",
      "  7%|▋         | 1/15 [00:00<00:01,  7.32it/s]"
     ]
    },
    {
     "name": "stdout",
     "output_type": "stream",
     "text": [
      "1018 (3796, 7)\n"
     ]
    },
    {
     "name": "stderr",
     "output_type": "stream",
     "text": [
      "100%|██████████| 15/15 [00:02<00:00,  7.39it/s]\n",
      "100%|██████████| 1/1 [00:00<00:00, 76.86it/s]\n",
      " 33%|███▎      | 1/3 [00:00<00:00,  7.30it/s]"
     ]
    },
    {
     "name": "stdout",
     "output_type": "stream",
     "text": [
      "1019 (3, 7)\n",
      "1020 (587, 7)\n"
     ]
    },
    {
     "name": "stderr",
     "output_type": "stream",
     "text": [
      "100%|██████████| 3/3 [00:00<00:00,  9.29it/s]\n",
      " 17%|█▋        | 1/6 [00:00<00:00,  7.38it/s]"
     ]
    },
    {
     "name": "stdout",
     "output_type": "stream",
     "text": [
      "1021 (1311, 7)\n"
     ]
    },
    {
     "name": "stderr",
     "output_type": "stream",
     "text": [
      "100%|██████████| 6/6 [00:00<00:00,  8.43it/s]\n",
      "100%|██████████| 1/1 [00:00<00:00, 64.96it/s]\n",
      "100%|██████████| 1/1 [00:00<00:00, 16.18it/s]\n",
      "  0%|          | 0/3 [00:00<?, ?it/s]"
     ]
    },
    {
     "name": "stdout",
     "output_type": "stream",
     "text": [
      "1022 (7, 7)\n",
      "1023 (100, 7)\n",
      "1024 (590, 7)\n"
     ]
    },
    {
     "name": "stderr",
     "output_type": "stream",
     "text": [
      "100%|██████████| 3/3 [00:00<00:00,  9.23it/s]\n",
      "100%|██████████| 1/1 [00:00<00:00, 38.66it/s]\n",
      " 17%|█▋        | 1/6 [00:00<00:00,  7.37it/s]"
     ]
    },
    {
     "name": "stdout",
     "output_type": "stream",
     "text": [
      "1025 (29, 7)\n",
      "1026 (1411, 7)\n"
     ]
    },
    {
     "name": "stderr",
     "output_type": "stream",
     "text": [
      "100%|██████████| 6/6 [00:00<00:00,  7.89it/s]\n",
      " 17%|█▋        | 1/6 [00:00<00:00,  7.34it/s]"
     ]
    },
    {
     "name": "stdout",
     "output_type": "stream",
     "text": [
      "1027 (1516, 7)\n"
     ]
    },
    {
     "name": "stderr",
     "output_type": "stream",
     "text": [
      "100%|██████████| 6/6 [00:00<00:00,  7.39it/s]\n",
      "100%|██████████| 1/1 [00:00<00:00, 13.40it/s]\n",
      "  0%|          | 0/5 [00:00<?, ?it/s]"
     ]
    },
    {
     "name": "stdout",
     "output_type": "stream",
     "text": [
      "1028 (128, 7)\n",
      "1029 (1097, 7)\n"
     ]
    },
    {
     "name": "stderr",
     "output_type": "stream",
     "text": [
      "100%|██████████| 5/5 [00:00<00:00,  8.32it/s]\n",
      "100%|██████████| 1/1 [00:00<00:00,  7.51it/s]\n",
      "  0%|          | 0/39 [00:00<?, ?it/s]"
     ]
    },
    {
     "name": "stdout",
     "output_type": "stream",
     "text": [
      "1030 (213, 7)\n",
      "1031 (9934, 7)\n"
     ]
    },
    {
     "name": "stderr",
     "output_type": "stream",
     "text": [
      "100%|██████████| 39/39 [00:05<00:00,  6.90it/s]\n",
      " 33%|███▎      | 1/3 [00:00<00:00,  7.42it/s]"
     ]
    },
    {
     "name": "stdout",
     "output_type": "stream",
     "text": [
      "1032 (731, 7)\n"
     ]
    },
    {
     "name": "stderr",
     "output_type": "stream",
     "text": [
      "100%|██████████| 3/3 [00:00<00:00,  7.67it/s]\n",
      " 50%|█████     | 1/2 [00:00<00:00,  6.69it/s]"
     ]
    },
    {
     "name": "stdout",
     "output_type": "stream",
     "text": [
      "1033 (394, 7)\n"
     ]
    },
    {
     "name": "stderr",
     "output_type": "stream",
     "text": [
      "100%|██████████| 2/2 [00:00<00:00,  8.32it/s]\n",
      " 33%|███▎      | 1/3 [00:00<00:00,  6.48it/s]"
     ]
    },
    {
     "name": "stdout",
     "output_type": "stream",
     "text": [
      "1034 (519, 7)\n"
     ]
    },
    {
     "name": "stderr",
     "output_type": "stream",
     "text": [
      "100%|██████████| 3/3 [00:00<00:00,  9.91it/s]\n",
      " 33%|███▎      | 1/3 [00:00<00:00,  7.24it/s]"
     ]
    },
    {
     "name": "stdout",
     "output_type": "stream",
     "text": [
      "1035 (593, 7)\n"
     ]
    },
    {
     "name": "stderr",
     "output_type": "stream",
     "text": [
      "100%|██████████| 3/3 [00:00<00:00,  8.69it/s]\n",
      "100%|██████████| 1/1 [00:00<00:00, 14.01it/s]\n",
      "100%|██████████| 1/1 [00:00<00:00, 53.04it/s]\n",
      "100%|██████████| 1/1 [00:00<00:00, 14.47it/s]\n",
      "  0%|          | 0/1 [00:00<?, ?it/s]"
     ]
    },
    {
     "name": "stdout",
     "output_type": "stream",
     "text": [
      "1036 (105, 7)\n",
      "1037 (8, 7)\n",
      "1038 (112, 7)\n",
      "1039 (6, 7)\n"
     ]
    },
    {
     "name": "stderr",
     "output_type": "stream",
     "text": [
      "100%|██████████| 1/1 [00:00<00:00, 59.54it/s]\n",
      "100%|██████████| 1/1 [00:00<00:00, 56.12it/s]\n",
      " 11%|█         | 1/9 [00:00<00:01,  7.46it/s]"
     ]
    },
    {
     "name": "stdout",
     "output_type": "stream",
     "text": [
      "1040 (10, 7)\n",
      "No columns to parse from file\n",
      "1042 (2064, 7)\n"
     ]
    },
    {
     "name": "stderr",
     "output_type": "stream",
     "text": [
      "100%|██████████| 9/9 [00:01<00:00,  7.56it/s]\n",
      "100%|██████████| 1/1 [00:00<00:00, 20.64it/s]\n",
      "100%|██████████| 1/1 [00:00<00:00, 39.23it/s]\n",
      "100%|██████████| 1/1 [00:00<00:00, 55.68it/s]\n",
      "100%|██████████| 1/1 [00:00<00:00, 18.08it/s]\n",
      "  0%|          | 0/1 [00:00<?, ?it/s]"
     ]
    },
    {
     "name": "stdout",
     "output_type": "stream",
     "text": [
      "1043 (76, 7)\n",
      "1044 (27, 7)\n",
      "1045 (14, 7)\n",
      "1046 (90, 7)\n",
      "1047 (27, 7)\n"
     ]
    },
    {
     "name": "stderr",
     "output_type": "stream",
     "text": [
      "100%|██████████| 1/1 [00:00<00:00, 38.15it/s]\n",
      "100%|██████████| 1/1 [00:00<00:00, 19.27it/s]\n",
      "100%|██████████| 1/1 [00:00<00:00, 36.08it/s]\n",
      "100%|██████████| 1/1 [00:00<00:00, 28.44it/s]\n",
      "  0%|          | 0/10 [00:00<?, ?it/s]"
     ]
    },
    {
     "name": "stdout",
     "output_type": "stream",
     "text": [
      "1048 (72, 7)\n",
      "1049 (32, 7)\n",
      "1050 (46, 7)\n",
      "1051 (2461, 7)\n"
     ]
    },
    {
     "name": "stderr",
     "output_type": "stream",
     "text": [
      "100%|██████████| 10/10 [00:01<00:00,  6.85it/s]\n",
      "/home/bakirillov/HDD/works/Skoltech/CRISPR_CAD/uace/src/core.py:966: RuntimeWarning: invalid value encountered in true_divide\n",
      "  self.S[self.label_column]\n",
      "100%|██████████| 1/1 [00:00<00:00, 60.56it/s]\n",
      "  4%|▍         | 1/24 [00:00<00:03,  6.85it/s]"
     ]
    },
    {
     "name": "stdout",
     "output_type": "stream",
     "text": [
      "1052 (6, 7)\n",
      "1053 (6015, 7)\n"
     ]
    },
    {
     "name": "stderr",
     "output_type": "stream",
     "text": [
      "100%|██████████| 24/24 [00:03<00:00,  7.06it/s]\n",
      "100%|██████████| 1/1 [00:00<00:00, 12.74it/s]\n",
      "  0%|          | 0/3 [00:00<?, ?it/s]"
     ]
    },
    {
     "name": "stdout",
     "output_type": "stream",
     "text": [
      "1054 (129, 7)\n",
      "1055 (735, 7)\n"
     ]
    },
    {
     "name": "stderr",
     "output_type": "stream",
     "text": [
      "100%|██████████| 3/3 [00:00<00:00,  7.30it/s]\n",
      " 14%|█▍        | 1/7 [00:00<00:00,  6.98it/s]"
     ]
    },
    {
     "name": "stdout",
     "output_type": "stream",
     "text": [
      "1056 (1670, 7)\n"
     ]
    },
    {
     "name": "stderr",
     "output_type": "stream",
     "text": [
      "100%|██████████| 7/7 [00:00<00:00,  7.46it/s]\n",
      "100%|██████████| 1/1 [00:00<00:00, 37.32it/s]\n",
      "100%|██████████| 1/1 [00:00<00:00, 46.03it/s]\n",
      "100%|██████████| 1/1 [00:00<00:00, 50.47it/s]\n",
      "  0%|          | 0/15 [00:00<?, ?it/s]"
     ]
    },
    {
     "name": "stdout",
     "output_type": "stream",
     "text": [
      "1057 (30, 7)\n",
      "1058 (21, 7)\n",
      "1059 (15, 7)\n",
      "1060 (3781, 7)\n"
     ]
    },
    {
     "name": "stderr",
     "output_type": "stream",
     "text": [
      "100%|██████████| 15/15 [00:02<00:00,  7.27it/s]\n",
      " 14%|█▍        | 1/7 [00:00<00:00,  7.10it/s]"
     ]
    },
    {
     "name": "stdout",
     "output_type": "stream",
     "text": [
      "1061 (1561, 7)\n"
     ]
    },
    {
     "name": "stderr",
     "output_type": "stream",
     "text": [
      "100%|██████████| 7/7 [00:00<00:00,  8.09it/s]\n",
      "100%|██████████| 1/1 [00:00<00:00, 28.06it/s]\n",
      "100%|██████████| 1/1 [00:00<00:00, 54.54it/s]\n",
      "100%|██████████| 1/1 [00:00<00:00, 55.99it/s]\n",
      "  0%|          | 0/2 [00:00<?, ?it/s]"
     ]
    },
    {
     "name": "stdout",
     "output_type": "stream",
     "text": [
      "1062 (48, 7)\n",
      "1063 (12, 7)\n",
      "1064 (11, 7)\n",
      "1065 (423, 7)\n"
     ]
    },
    {
     "name": "stderr",
     "output_type": "stream",
     "text": [
      "100%|██████████| 2/2 [00:00<00:00,  8.41it/s]\n",
      "  5%|▍         | 1/21 [00:00<00:02,  7.31it/s]"
     ]
    },
    {
     "name": "stdout",
     "output_type": "stream",
     "text": [
      "1066 (5297, 7)\n"
     ]
    },
    {
     "name": "stderr",
     "output_type": "stream",
     "text": [
      "100%|██████████| 21/21 [00:02<00:00,  7.50it/s]\n",
      " 20%|██        | 1/5 [00:00<00:00,  7.45it/s]"
     ]
    },
    {
     "name": "stdout",
     "output_type": "stream",
     "text": [
      "1067 (1141, 7)\n"
     ]
    },
    {
     "name": "stderr",
     "output_type": "stream",
     "text": [
      "100%|██████████| 5/5 [00:00<00:00,  8.22it/s]\n",
      "  6%|▋         | 1/16 [00:00<00:01,  7.51it/s]"
     ]
    },
    {
     "name": "stdout",
     "output_type": "stream",
     "text": [
      "1068 (3927, 7)\n"
     ]
    },
    {
     "name": "stderr",
     "output_type": "stream",
     "text": [
      "100%|██████████| 16/16 [00:02<00:00,  7.24it/s]\n",
      "100%|██████████| 1/1 [00:00<00:00, 54.39it/s]\n",
      "/home/bakirillov/HDD/works/Skoltech/CRISPR_CAD/uace/src/core.py:966: RuntimeWarning: invalid value encountered in true_divide\n",
      "  self.S[self.label_column]\n",
      "100%|██████████| 1/1 [00:00<00:00, 61.79it/s]\n",
      "100%|██████████| 1/1 [00:00<00:00, 12.36it/s]\n",
      "100%|██████████| 1/1 [00:00<00:00, 75.70it/s]\n",
      "100%|██████████| 1/1 [00:00<00:00, 61.32it/s]\n",
      "  0%|          | 0/2 [00:00<?, ?it/s]"
     ]
    },
    {
     "name": "stdout",
     "output_type": "stream",
     "text": [
      "1069 (10, 7)\n",
      "1070 (6, 7)\n",
      "1071 (131, 7)\n",
      "1072 (2, 7)\n",
      "1073 (8, 7)\n",
      "1074 (269, 7)\n"
     ]
    },
    {
     "name": "stderr",
     "output_type": "stream",
     "text": [
      "100%|██████████| 2/2 [00:00<00:00, 11.56it/s]\n",
      "100%|██████████| 1/1 [00:00<00:00, 22.31it/s]\n",
      "  0%|          | 0/7 [00:00<?, ?it/s]"
     ]
    },
    {
     "name": "stdout",
     "output_type": "stream",
     "text": [
      "1075 (61, 7)\n",
      "1076 (1734, 7)\n"
     ]
    },
    {
     "name": "stderr",
     "output_type": "stream",
     "text": [
      "100%|██████████| 7/7 [00:00<00:00,  7.37it/s]\n",
      "100%|██████████| 1/1 [00:00<00:00, 53.43it/s]\n",
      "/home/bakirillov/HDD/works/Skoltech/CRISPR_CAD/uace/src/core.py:966: RuntimeWarning: invalid value encountered in true_divide\n",
      "  self.S[self.label_column]\n",
      "100%|██████████| 1/1 [00:00<00:00, 68.15it/s]\n",
      "100%|██████████| 1/1 [00:00<00:00, 33.15it/s]\n",
      "100%|██████████| 1/1 [00:00<00:00, 65.90it/s]\n",
      "100%|██████████| 1/1 [00:00<00:00, 63.67it/s]\n",
      "  0%|          | 0/15 [00:00<?, ?it/s]"
     ]
    },
    {
     "name": "stdout",
     "output_type": "stream",
     "text": [
      "1077 (14, 7)\n",
      "1078 (6, 7)\n",
      "1079 (38, 7)\n",
      "1080 (7, 7)\n",
      "1081 (6, 7)\n",
      "1082 (3702, 7)\n"
     ]
    },
    {
     "name": "stderr",
     "output_type": "stream",
     "text": [
      "100%|██████████| 15/15 [00:02<00:00,  7.42it/s]\n",
      " 11%|█         | 1/9 [00:00<00:01,  7.17it/s]"
     ]
    },
    {
     "name": "stdout",
     "output_type": "stream",
     "text": [
      "1083 (2205, 7)\n"
     ]
    },
    {
     "name": "stderr",
     "output_type": "stream",
     "text": [
      "100%|██████████| 9/9 [00:01<00:00,  7.49it/s]\n",
      " 33%|███▎      | 1/3 [00:00<00:00,  7.31it/s]"
     ]
    },
    {
     "name": "stdout",
     "output_type": "stream",
     "text": [
      "1084 (640, 7)\n"
     ]
    },
    {
     "name": "stderr",
     "output_type": "stream",
     "text": [
      "100%|██████████| 3/3 [00:00<00:00,  8.32it/s]\n",
      "100%|██████████| 1/1 [00:00<00:00, 42.23it/s]\n",
      " 33%|███▎      | 1/3 [00:00<00:00,  7.44it/s]"
     ]
    },
    {
     "name": "stdout",
     "output_type": "stream",
     "text": [
      "1085 (23, 7)\n",
      "No columns to parse from file\n",
      "1087 (603, 7)\n"
     ]
    },
    {
     "name": "stderr",
     "output_type": "stream",
     "text": [
      "100%|██████████| 3/3 [00:00<00:00,  9.07it/s]\n",
      "100%|██████████| 2/2 [00:00<00:00, 13.01it/s]\n",
      "100%|██████████| 1/1 [00:00<00:00, 39.95it/s]"
     ]
    },
    {
     "name": "stdout",
     "output_type": "stream",
     "text": [
      "1088 (264, 7)\n",
      "1089 (25, 7)\n"
     ]
    },
    {
     "name": "stderr",
     "output_type": "stream",
     "text": [
      "\n",
      "  6%|▋         | 1/16 [00:00<00:02,  7.00it/s]"
     ]
    },
    {
     "name": "stdout",
     "output_type": "stream",
     "text": [
      "1090 (3870, 7)\n"
     ]
    },
    {
     "name": "stderr",
     "output_type": "stream",
     "text": [
      "100%|██████████| 16/16 [00:02<00:00,  7.59it/s]\n",
      " 33%|███▎      | 1/3 [00:00<00:00,  7.49it/s]"
     ]
    },
    {
     "name": "stdout",
     "output_type": "stream",
     "text": [
      "1091 (691, 7)\n"
     ]
    },
    {
     "name": "stderr",
     "output_type": "stream",
     "text": [
      "100%|██████████| 3/3 [00:00<00:00,  8.07it/s]\n",
      "100%|██████████| 1/1 [00:00<00:00, 35.28it/s]\n",
      " 50%|█████     | 1/2 [00:00<00:00,  7.39it/s]"
     ]
    },
    {
     "name": "stdout",
     "output_type": "stream",
     "text": [
      "1092 (34, 7)\n",
      "No columns to parse from file\n",
      "1094 (441, 7)\n"
     ]
    },
    {
     "name": "stderr",
     "output_type": "stream",
     "text": [
      "100%|██████████| 2/2 [00:00<00:00,  8.35it/s]\n",
      "  8%|▊         | 1/12 [00:00<00:01,  7.24it/s]"
     ]
    },
    {
     "name": "stdout",
     "output_type": "stream",
     "text": [
      "1095 (2924, 7)\n"
     ]
    },
    {
     "name": "stderr",
     "output_type": "stream",
     "text": [
      "100%|██████████| 12/12 [00:01<00:00,  7.27it/s]\n",
      "100%|██████████| 1/1 [00:00<00:00, 13.80it/s]\n",
      "  0%|          | 0/2 [00:00<?, ?it/s]"
     ]
    },
    {
     "name": "stdout",
     "output_type": "stream",
     "text": [
      "1096 (118, 7)\n",
      "1097 (444, 7)\n"
     ]
    },
    {
     "name": "stderr",
     "output_type": "stream",
     "text": [
      "100%|██████████| 2/2 [00:00<00:00,  8.10it/s]\n",
      "/home/bakirillov/HDD/works/Skoltech/CRISPR_CAD/uace/src/core.py:966: RuntimeWarning: invalid value encountered in true_divide\n",
      "  self.S[self.label_column]\n",
      "100%|██████████| 1/1 [00:00<00:00, 48.25it/s]\n",
      "100%|██████████| 1/1 [00:00<00:00, 19.87it/s]\n",
      "  0%|          | 0/19 [00:00<?, ?it/s]"
     ]
    },
    {
     "name": "stdout",
     "output_type": "stream",
     "text": [
      "1098 (18, 7)\n",
      "1099 (79, 7)\n",
      "1100 (4638, 7)\n"
     ]
    },
    {
     "name": "stderr",
     "output_type": "stream",
     "text": [
      "100%|██████████| 19/19 [00:02<00:00,  7.45it/s]\n",
      " 33%|███▎      | 1/3 [00:00<00:00,  7.18it/s]"
     ]
    },
    {
     "name": "stdout",
     "output_type": "stream",
     "text": [
      "1101 (634, 7)\n"
     ]
    },
    {
     "name": "stderr",
     "output_type": "stream",
     "text": [
      "100%|██████████| 3/3 [00:00<00:00,  8.50it/s]\n",
      " 33%|███▎      | 1/3 [00:00<00:00,  7.26it/s]"
     ]
    },
    {
     "name": "stdout",
     "output_type": "stream",
     "text": [
      "1102 (765, 7)\n"
     ]
    },
    {
     "name": "stderr",
     "output_type": "stream",
     "text": [
      "100%|██████████| 3/3 [00:00<00:00,  7.23it/s]\n",
      " 33%|███▎      | 1/3 [00:00<00:00,  7.23it/s]"
     ]
    },
    {
     "name": "stdout",
     "output_type": "stream",
     "text": [
      "1103 (550, 7)\n"
     ]
    },
    {
     "name": "stderr",
     "output_type": "stream",
     "text": [
      "100%|██████████| 3/3 [00:00<00:00,  9.65it/s]\n",
      "100%|██████████| 1/1 [00:00<00:00, 10.73it/s]\n",
      "100%|██████████| 1/1 [00:00<00:00, 15.47it/s]\n",
      "100%|██████████| 1/1 [00:00<00:00, 69.59it/s]"
     ]
    },
    {
     "name": "stdout",
     "output_type": "stream",
     "text": [
      "1104 (158, 7)\n",
      "1105 (100, 7)\n",
      "1106 (4, 7)\n"
     ]
    },
    {
     "name": "stderr",
     "output_type": "stream",
     "text": [
      "\n",
      "100%|██████████| 1/1 [00:00<00:00, 10.92it/s]\n",
      "  0%|          | 0/16 [00:00<?, ?it/s]"
     ]
    },
    {
     "name": "stdout",
     "output_type": "stream",
     "text": [
      "1107 (145, 7)\n",
      "1108 (4078, 7)\n"
     ]
    },
    {
     "name": "stderr",
     "output_type": "stream",
     "text": [
      "100%|██████████| 16/16 [00:02<00:00,  7.07it/s]\n",
      "100%|██████████| 1/1 [00:00<00:00, 36.85it/s]\n",
      "100%|██████████| 1/1 [00:00<00:00, 29.59it/s]\n",
      "  0%|          | 0/7 [00:00<?, ?it/s]"
     ]
    },
    {
     "name": "stdout",
     "output_type": "stream",
     "text": [
      "1109 (33, 7)\n",
      "1110 (46, 7)\n",
      "1111 (1743, 7)\n"
     ]
    },
    {
     "name": "stderr",
     "output_type": "stream",
     "text": [
      "100%|██████████| 7/7 [00:00<00:00,  7.57it/s]\n",
      "100%|██████████| 1/1 [00:00<00:00, 30.89it/s]\n",
      "100%|██████████| 1/1 [00:00<00:00, 17.60it/s]\n",
      "  0%|          | 0/10 [00:00<?, ?it/s]"
     ]
    },
    {
     "name": "stdout",
     "output_type": "stream",
     "text": [
      "1112 (42, 7)\n",
      "1113 (94, 7)\n",
      "1114 (2322, 7)\n"
     ]
    },
    {
     "name": "stderr",
     "output_type": "stream",
     "text": [
      "100%|██████████| 10/10 [00:01<00:00,  7.94it/s]\n",
      "100%|██████████| 1/1 [00:00<00:00, 22.60it/s]\n",
      " 50%|█████     | 1/2 [00:00<00:00,  7.43it/s]"
     ]
    },
    {
     "name": "stdout",
     "output_type": "stream",
     "text": [
      "1115 (67, 7)\n",
      "1116 (335, 7)\n"
     ]
    },
    {
     "name": "stderr",
     "output_type": "stream",
     "text": [
      "100%|██████████| 2/2 [00:00<00:00, 10.75it/s]\n",
      "100%|██████████| 1/1 [00:00<00:00, 21.49it/s]\n",
      "100%|██████████| 1/1 [00:00<00:00,  8.21it/s]\n",
      "  0%|          | 0/4 [00:00<?, ?it/s]"
     ]
    },
    {
     "name": "stdout",
     "output_type": "stream",
     "text": [
      "1117 (73, 7)\n",
      "1118 (225, 7)\n",
      "1119 (790, 7)\n"
     ]
    },
    {
     "name": "stderr",
     "output_type": "stream",
     "text": [
      "100%|██████████| 4/4 [00:00<00:00,  9.06it/s]\n",
      "100%|██████████| 1/1 [00:00<00:00, 18.49it/s]\n",
      "100%|██████████| 1/1 [00:00<00:00, 31.14it/s]\n",
      "100%|██████████| 1/1 [00:00<00:00, 12.74it/s]\n",
      "  0%|          | 0/1 [00:00<?, ?it/s]"
     ]
    },
    {
     "name": "stdout",
     "output_type": "stream",
     "text": [
      "1120 (85, 7)\n",
      "1121 (41, 7)\n",
      "1122 (134, 7)\n",
      "1123 (29, 7)\n"
     ]
    },
    {
     "name": "stderr",
     "output_type": "stream",
     "text": [
      "100%|██████████| 1/1 [00:00<00:00, 36.84it/s]\n",
      "100%|██████████| 1/1 [00:00<00:00, 29.34it/s]\n",
      "100%|██████████| 1/1 [00:00<00:00, 26.11it/s]\n",
      "/home/bakirillov/HDD/works/Skoltech/CRISPR_CAD/uace/src/core.py:966: RuntimeWarning: invalid value encountered in true_divide\n",
      "  self.S[self.label_column]\n",
      "100%|██████████| 1/1 [00:00<00:00, 63.81it/s]\n",
      "  0%|          | 0/3 [00:00<?, ?it/s]"
     ]
    },
    {
     "name": "stdout",
     "output_type": "stream",
     "text": [
      "1124 (44, 7)\n",
      "1125 (54, 7)\n",
      "1126 (6, 7)\n",
      "1127 (607, 7)\n"
     ]
    },
    {
     "name": "stderr",
     "output_type": "stream",
     "text": [
      "100%|██████████| 3/3 [00:00<00:00,  8.85it/s]\n",
      "  3%|▎         | 1/29 [00:00<00:03,  7.19it/s]"
     ]
    },
    {
     "name": "stdout",
     "output_type": "stream",
     "text": [
      "1128 (7331, 7)\n"
     ]
    },
    {
     "name": "stderr",
     "output_type": "stream",
     "text": [
      "100%|██████████| 29/29 [00:03<00:00,  7.39it/s]\n",
      " 25%|██▌       | 1/4 [00:00<00:00,  7.35it/s]"
     ]
    },
    {
     "name": "stdout",
     "output_type": "stream",
     "text": [
      "1129 (929, 7)\n"
     ]
    },
    {
     "name": "stderr",
     "output_type": "stream",
     "text": [
      "100%|██████████| 4/4 [00:00<00:00,  7.98it/s]\n",
      " 33%|███▎      | 1/3 [00:00<00:00,  7.32it/s]"
     ]
    },
    {
     "name": "stdout",
     "output_type": "stream",
     "text": [
      "1130 (583, 7)\n"
     ]
    },
    {
     "name": "stderr",
     "output_type": "stream",
     "text": [
      "100%|██████████| 3/3 [00:00<00:00,  9.14it/s]\n",
      "100%|██████████| 1/1 [00:00<00:00, 10.42it/s]\n",
      "  0%|          | 0/2 [00:00<?, ?it/s]"
     ]
    },
    {
     "name": "stdout",
     "output_type": "stream",
     "text": [
      "1131 (168, 7)\n",
      "1132 (385, 7)\n"
     ]
    },
    {
     "name": "stderr",
     "output_type": "stream",
     "text": [
      "100%|██████████| 2/2 [00:00<00:00,  9.12it/s]\n",
      "  9%|▉         | 1/11 [00:00<00:01,  7.04it/s]"
     ]
    },
    {
     "name": "stdout",
     "output_type": "stream",
     "text": [
      "1133 (2647, 7)\n"
     ]
    },
    {
     "name": "stderr",
     "output_type": "stream",
     "text": [
      "100%|██████████| 11/11 [00:01<00:00,  7.59it/s]\n",
      "100%|██████████| 1/1 [00:00<00:00, 39.77it/s]\n",
      " 17%|█▋        | 1/6 [00:00<00:00,  7.29it/s]"
     ]
    },
    {
     "name": "stdout",
     "output_type": "stream",
     "text": [
      "1134 (25, 7)\n",
      "1135 (1317, 7)\n"
     ]
    },
    {
     "name": "stderr",
     "output_type": "stream",
     "text": [
      "100%|██████████| 6/6 [00:00<00:00,  8.36it/s]\n",
      "  6%|▌         | 1/18 [00:00<00:02,  7.12it/s]"
     ]
    },
    {
     "name": "stdout",
     "output_type": "stream",
     "text": [
      "1136 (4607, 7)\n"
     ]
    },
    {
     "name": "stderr",
     "output_type": "stream",
     "text": [
      "100%|██████████| 18/18 [00:02<00:00,  7.19it/s]\n",
      "100%|██████████| 1/1 [00:00<00:00, 29.83it/s]\n",
      "100%|██████████| 1/1 [00:00<00:00, 11.17it/s]\n",
      "100%|██████████| 1/1 [00:00<00:00, 78.37it/s]\n",
      "  0%|          | 0/2 [00:00<?, ?it/s]"
     ]
    },
    {
     "name": "stdout",
     "output_type": "stream",
     "text": [
      "1137 (42, 7)\n",
      "1138 (156, 7)\n",
      "1139 (2, 7)\n",
      "1140 (269, 7)\n"
     ]
    },
    {
     "name": "stderr",
     "output_type": "stream",
     "text": [
      "100%|██████████| 2/2 [00:00<00:00, 12.13it/s]\n",
      "100%|██████████| 1/1 [00:00<00:00, 20.22it/s]\n",
      "  0%|          | 0/2 [00:00<?, ?it/s]"
     ]
    },
    {
     "name": "stdout",
     "output_type": "stream",
     "text": [
      "1141 (69, 7)\n",
      "1142 (261, 7)\n"
     ]
    },
    {
     "name": "stderr",
     "output_type": "stream",
     "text": [
      "100%|██████████| 2/2 [00:00<00:00, 12.04it/s]\n",
      " 17%|█▋        | 1/6 [00:00<00:00,  7.26it/s]"
     ]
    },
    {
     "name": "stdout",
     "output_type": "stream",
     "text": [
      "1143 (1346, 7)\n"
     ]
    },
    {
     "name": "stderr",
     "output_type": "stream",
     "text": [
      "100%|██████████| 6/6 [00:00<00:00,  7.99it/s]\n",
      "100%|██████████| 1/1 [00:00<00:00, 14.63it/s]\n",
      "100%|██████████| 1/1 [00:00<00:00, 28.89it/s]\n",
      "  0%|          | 0/2 [00:00<?, ?it/s]"
     ]
    },
    {
     "name": "stdout",
     "output_type": "stream",
     "text": [
      "1144 (110, 7)\n",
      "1145 (47, 7)\n",
      "1146 (259, 7)\n"
     ]
    },
    {
     "name": "stderr",
     "output_type": "stream",
     "text": [
      "100%|██████████| 2/2 [00:00<00:00, 12.74it/s]\n",
      "  6%|▌         | 1/18 [00:00<00:02,  7.34it/s]"
     ]
    },
    {
     "name": "stdout",
     "output_type": "stream",
     "text": [
      "1147 (4388, 7)\n"
     ]
    },
    {
     "name": "stderr",
     "output_type": "stream",
     "text": [
      "100%|██████████| 18/18 [00:02<00:00,  7.09it/s]\n",
      "  7%|▋         | 1/14 [00:00<00:01,  7.17it/s]"
     ]
    },
    {
     "name": "stdout",
     "output_type": "stream",
     "text": [
      "1148 (3496, 7)\n"
     ]
    },
    {
     "name": "stderr",
     "output_type": "stream",
     "text": [
      "100%|██████████| 14/14 [00:01<00:00,  7.29it/s]\n",
      " 20%|██        | 1/5 [00:00<00:00,  7.33it/s]"
     ]
    },
    {
     "name": "stdout",
     "output_type": "stream",
     "text": [
      "1149 (1251, 7)\n"
     ]
    },
    {
     "name": "stderr",
     "output_type": "stream",
     "text": [
      "100%|██████████| 5/5 [00:00<00:00,  7.39it/s]\n",
      "  2%|▎         | 1/40 [00:00<00:05,  7.41it/s]"
     ]
    },
    {
     "name": "stdout",
     "output_type": "stream",
     "text": [
      "1150 (10202, 7)\n"
     ]
    },
    {
     "name": "stderr",
     "output_type": "stream",
     "text": [
      "100%|██████████| 40/40 [00:05<00:00,  7.41it/s]\n",
      "100%|██████████| 1/1 [00:00<00:00, 29.65it/s]\n",
      "  2%|▏         | 1/53 [00:00<00:07,  7.30it/s]"
     ]
    },
    {
     "name": "stdout",
     "output_type": "stream",
     "text": [
      "1151 (40, 7)\n",
      "1152 (13324, 7)\n"
     ]
    },
    {
     "name": "stderr",
     "output_type": "stream",
     "text": [
      "100%|██████████| 53/53 [00:07<00:00,  7.42it/s]\n",
      "100%|██████████| 1/1 [00:00<00:00,  8.27it/s]\n",
      "  0%|          | 0/2 [00:00<?, ?it/s]"
     ]
    },
    {
     "name": "stdout",
     "output_type": "stream",
     "text": [
      "1153 (219, 7)\n",
      "1154 (328, 7)\n"
     ]
    },
    {
     "name": "stderr",
     "output_type": "stream",
     "text": [
      "100%|██████████| 2/2 [00:00<00:00, 10.64it/s]\n",
      "100%|██████████| 1/1 [00:00<00:00, 59.47it/s]\n",
      "100%|██████████| 1/1 [00:00<00:00, 78.36it/s]\n",
      "100%|██████████| 1/1 [00:00<00:00, 53.34it/s]\n",
      "  0%|          | 0/3 [00:00<?, ?it/s]"
     ]
    },
    {
     "name": "stdout",
     "output_type": "stream",
     "text": [
      "1155 (11, 7)\n",
      "1156 (3, 7)\n",
      "1157 (14, 7)\n",
      "1158 (683, 7)\n"
     ]
    },
    {
     "name": "stderr",
     "output_type": "stream",
     "text": [
      "100%|██████████| 3/3 [00:00<00:00,  7.90it/s]\n",
      "100%|██████████| 1/1 [00:00<00:00, 63.03it/s]\n",
      " 20%|██        | 1/5 [00:00<00:00,  7.39it/s]"
     ]
    },
    {
     "name": "stdout",
     "output_type": "stream",
     "text": [
      "1159 (8, 7)\n",
      "1160 (1214, 7)\n"
     ]
    },
    {
     "name": "stderr",
     "output_type": "stream",
     "text": [
      "100%|██████████| 5/5 [00:00<00:00,  7.52it/s]\n",
      "  4%|▍         | 1/26 [00:00<00:03,  6.94it/s]"
     ]
    },
    {
     "name": "stdout",
     "output_type": "stream",
     "text": [
      "1161 (6625, 7)\n"
     ]
    },
    {
     "name": "stderr",
     "output_type": "stream",
     "text": [
      "100%|██████████| 26/26 [00:03<00:00,  7.14it/s]\n",
      "100%|██████████| 2/2 [00:00<00:00, 10.97it/s]\n",
      "  0%|          | 0/1 [00:00<?, ?it/s]"
     ]
    },
    {
     "name": "stdout",
     "output_type": "stream",
     "text": [
      "1162 (313, 7)\n",
      "1163 (3, 7)\n"
     ]
    },
    {
     "name": "stderr",
     "output_type": "stream",
     "text": [
      "100%|██████████| 1/1 [00:00<00:00, 73.94it/s]\n",
      "100%|██████████| 1/1 [00:00<00:00,  8.02it/s]\n",
      "100%|██████████| 1/1 [00:00<00:00, 42.52it/s]\n",
      "100%|██████████| 1/1 [00:00<00:00, 81.30it/s]\n",
      "  0%|          | 0/4 [00:00<?, ?it/s]"
     ]
    },
    {
     "name": "stdout",
     "output_type": "stream",
     "text": [
      "1164 (228, 7)\n",
      "1165 (26, 7)\n",
      "1166 (2, 7)\n",
      "1167 (804, 7)\n"
     ]
    },
    {
     "name": "stderr",
     "output_type": "stream",
     "text": [
      "100%|██████████| 4/4 [00:00<00:00,  8.94it/s]\n",
      " 50%|█████     | 1/2 [00:00<00:00,  7.19it/s]"
     ]
    },
    {
     "name": "stdout",
     "output_type": "stream",
     "text": [
      "1168 (353, 7)\n"
     ]
    },
    {
     "name": "stderr",
     "output_type": "stream",
     "text": [
      "100%|██████████| 2/2 [00:00<00:00,  9.96it/s]\n",
      "100%|██████████| 1/1 [00:00<00:00, 70.88it/s]\n",
      "100%|██████████| 1/1 [00:00<00:00,  8.33it/s]\n",
      "100%|██████████| 1/1 [00:00<00:00, 22.68it/s]"
     ]
    },
    {
     "name": "stdout",
     "output_type": "stream",
     "text": [
      "1169 (4, 7)\n",
      "1170 (217, 7)\n",
      "1171 (65, 7)\n"
     ]
    },
    {
     "name": "stderr",
     "output_type": "stream",
     "text": [
      "\n",
      "100%|██████████| 1/1 [00:00<00:00, 37.30it/s]\n",
      "100%|██████████| 1/1 [00:00<00:00, 71.39it/s]\n",
      "  0%|          | 0/5 [00:00<?, ?it/s]"
     ]
    },
    {
     "name": "stdout",
     "output_type": "stream",
     "text": [
      "1172 (28, 7)\n",
      "1173 (1, 7)\n",
      "1174 (1196, 7)\n"
     ]
    },
    {
     "name": "stderr",
     "output_type": "stream",
     "text": [
      "100%|██████████| 5/5 [00:00<00:00,  7.35it/s]\n",
      "100%|██████████| 1/1 [00:00<00:00, 36.42it/s]\n",
      " 12%|█▎        | 1/8 [00:00<00:01,  6.58it/s]"
     ]
    },
    {
     "name": "stdout",
     "output_type": "stream",
     "text": [
      "No columns to parse from file\n",
      "1176 (26, 7)\n",
      "1177 (1831, 7)\n"
     ]
    },
    {
     "name": "stderr",
     "output_type": "stream",
     "text": [
      "100%|██████████| 8/8 [00:01<00:00,  7.24it/s]\n",
      "100%|██████████| 1/1 [00:00<00:00, 17.44it/s]\n",
      "100%|██████████| 1/1 [00:00<00:00, 22.47it/s]\n",
      "  0%|          | 0/21 [00:00<?, ?it/s]"
     ]
    },
    {
     "name": "stdout",
     "output_type": "stream",
     "text": [
      "1178 (86, 7)\n",
      "1179 (63, 7)\n",
      "1180 (5362, 7)\n"
     ]
    },
    {
     "name": "stderr",
     "output_type": "stream",
     "text": [
      "100%|██████████| 21/21 [00:03<00:00,  6.14it/s]\n",
      "100%|██████████| 1/1 [00:00<00:00, 17.00it/s]\n",
      "100%|██████████| 1/1 [00:00<00:00, 50.41it/s]\n",
      "100%|██████████| 1/1 [00:00<00:00, 42.25it/s]\n",
      "  0%|          | 0/3 [00:00<?, ?it/s]"
     ]
    },
    {
     "name": "stdout",
     "output_type": "stream",
     "text": [
      "1181 (85, 7)\n",
      "1182 (14, 7)\n",
      "1183 (22, 7)\n",
      "1184 (706, 7)\n"
     ]
    },
    {
     "name": "stderr",
     "output_type": "stream",
     "text": [
      "100%|██████████| 3/3 [00:00<00:00,  7.11it/s]\n",
      "100%|██████████| 1/1 [00:00<00:00, 21.43it/s]"
     ]
    },
    {
     "name": "stdout",
     "output_type": "stream",
     "text": [
      "1185 (65, 7)\n"
     ]
    },
    {
     "name": "stderr",
     "output_type": "stream",
     "text": [
      "\n"
     ]
    }
   ],
   "source": [
    "genes = {a[2]: [] for a in annotation}\n",
    "for i,a in enumerate(data):\n",
    "    #with open(op.join(\"/home/bakirillov/HDD/data/casoffinder_data/\", a), \"r\"):\n",
    "    try:\n",
    "        current_df = pd.read_csv(\n",
    "            op.join(\n",
    "                \"/home/bakirillov/HDD/data/chr22_grnas_OT/\"+a\n",
    "            ), sep=\"\\t\", header=None\n",
    "        ).dropna()\n",
    "        current_df = current_df[current_df[3].apply(lambda x: len(x) == 23 and \" \" not in x)]\n",
    "        current_df[6] = [a]*current_df.shape[0]\n",
    "        print(i, current_df.shape)\n",
    "    except Exception as e:\n",
    "        print(e)\n",
    "    else:\n",
    "        tds = WeissmanDataset(\n",
    "            current_df, np.arange(current_df.shape[0]), transformer,\n",
    "            genome_column=3, sgRNA_column=0,\n",
    "            label_column=5\n",
    "        )\n",
    "        tld = DataLoader(tds, shuffle=False, batch_size=256)\n",
    "        tb_w_oa = []\n",
    "        tb_w_va = []\n",
    "        tb_w_ra = []\n",
    "        for transformed_batch, _ in tqdm(tld):\n",
    "            tb_w_o = w_encoder(transformed_batch)[0].cpu().data.numpy()\n",
    "            tb_w_ra.extend(tb_w_o)\n",
    "            tb_w = w_model(transformed_batch)\n",
    "            tb_w_o = w_model.likelihood(\n",
    "                tb_w[0]\n",
    "            ).mean.mean(0).cpu().data.numpy()\n",
    "            tb_w_v = w_model.likelihood(\n",
    "                tb_w[0]\n",
    "            ).variance.mean(0).cpu().data.numpy()\n",
    "            tb_w_oa.extend(tb_w_o)\n",
    "            tb_w_va.extend(tb_w_v)\n",
    "        current_df[7] = tb_w_oa\n",
    "        current_df[8] = tb_w_va\n",
    "        current_df = current_df.sort_values(by=7, ascending=False)\n",
    "        current_df.to_csv(\n",
    "            op.join(\n",
    "                \"/home/bakirillov/HDD/data/cas9_ot_ordered/\"+a\n",
    "            ), sep=\"\\t\", header=None\n",
    "        )"
   ]
  },
  {
   "cell_type": "code",
   "execution_count": 21,
   "metadata": {},
   "outputs": [],
   "source": [
    "ordered_data = [a for a in os.walk(\"/home/bakirillov/HDD/data/cas9_ot_ordered/\")][0][2]"
   ]
  },
  {
   "cell_type": "code",
   "execution_count": 22,
   "metadata": {},
   "outputs": [
    {
     "name": "stdout",
     "output_type": "stream",
     "text": [
      "0 SERPIND1.tsv\n",
      "1 HSFY1P1.tsv\n",
      "2 SLC25A15P5.tsv\n",
      "3 LOC339685.tsv\n",
      "4 GTSE1-DT.tsv\n",
      "5 TPTEP2.tsv\n",
      "6 RNU6-1219P.tsv\n",
      "7 SAMM50.tsv\n",
      "8 PLA2G6.tsv\n",
      "9 XPNPEP3.tsv\n",
      "10 LOC105373007.tsv\n",
      "11 RPL34P35.tsv\n",
      "12 APOBEC3A.tsv\n",
      "13 LINC00896.tsv\n",
      "14 CHKB.tsv\n",
      "15 TMEM184B.tsv\n",
      "16 MIR4763.tsv\n",
      "17 DGCR6.tsv\n",
      "18 LOC105372860.tsv\n",
      "19 SEZ6L.tsv\n",
      "20 RPL32P5.tsv\n",
      "21 CA15P1.tsv\n",
      "22 LINC00634.tsv\n",
      "23 MIR6069.tsv\n",
      "24 CRELD2.tsv\n",
      "25 HSCB.tsv\n",
      "26 LOC101232810.tsv\n",
      "27 APOBEC3C.tsv\n",
      "28 RPL15P22.tsv\n",
      "29 LOC730668.tsv\n",
      "30 CACNA1I.tsv\n",
      "31 MEI1.tsv\n",
      "32 LOC107985568.tsv\n",
      "33 HIC2.tsv\n",
      "34 CRIP1P4.tsv\n",
      "35 MYH9.tsv\n",
      "36 RASD2.tsv\n",
      "37 IGLV2-14.tsv\n",
      "38 LOC101927447.tsv\n",
      "39 TOM1.tsv\n",
      "40 LOC105373067.tsv\n",
      "41 RNA5SP493.tsv\n",
      "42 VN1R9P.tsv\n",
      "43 LOC105373015.tsv\n",
      "44 GGTLC2.tsv\n",
      "45 LOC105373018.tsv\n",
      "46 CDC45.tsv\n",
      "47 ANP32BP2.tsv\n",
      "48 RTN4R.tsv\n",
      "49 SHANK3.tsv\n",
      "50 SULT4A1.tsv\n",
      "51 ZNF73P.tsv\n",
      "52 KRT18P5.tsv\n",
      "53 RPL8P5.tsv\n",
      "54 RN7SL168P.tsv\n",
      "55 LINC01639.tsv\n",
      "56 TPTEP1.tsv\n",
      "57 LOC101927474.tsv\n",
      "58 SREBF2-AS1.tsv\n",
      "59 PCMTD1P4.tsv\n",
      "60 SEC14L2.tsv\n",
      "61 RPS19BP1.tsv\n",
      "62 LOC100287966.tsv\n",
      "63 PI4KAP2.tsv\n",
      "64 FBXW4P1.tsv\n",
      "65 LINC01659.tsv\n",
      "66 TMEM191C.tsv\n",
      "67 BCRP7.tsv\n",
      "68 CBX7.tsv\n",
      "69 TUBA8.tsv\n",
      "70 IGLV10-67.tsv\n",
      "71 LOC107985543.tsv\n",
      "72 ZBED4.tsv\n",
      "73 A4GALT.tsv\n",
      "74 POM121L7P.tsv\n",
      "75 IGLV3-22.tsv\n",
      "76 IGLVIV-53.tsv\n",
      "77 LOC100506271.tsv\n",
      "78 GNAZ.tsv\n",
      "79 LOC105372959.tsv\n",
      "80 LOC107985584.tsv\n",
      "81 RANBP1.tsv\n",
      "82 RPS17P16.tsv\n",
      "83 HPS4.tsv\n",
      "84 GGTLC4P.tsv\n",
      "85 SLC9A3P2.tsv\n",
      "86 LOC105372861.tsv\n",
      "87 LOC105372976.tsv\n",
      "88 PICK1.tsv\n",
      "89 LINC01665.tsv\n",
      "90 CCDC74BP1.tsv\n",
      "91 LOC105372962.tsv\n",
      "92 CSDC2.tsv\n",
      "93 ASH2LP3.tsv\n",
      "94 TUBA3FP.tsv\n",
      "95 LOC100289194.tsv\n",
      "96 PNPLA5.tsv\n",
      "97 IGLV3-25.tsv\n",
      "98 BMS1P22.tsv\n",
      "99 RNU6-1066P.tsv\n",
      "100 LOC105373017.tsv\n",
      "101 KREMEN1.tsv\n",
      "102 AP1B1.tsv\n",
      "103 IGLV5-45.tsv\n",
      "104 COMT.tsv\n",
      "105 MIR3619.tsv\n",
      "106 LOC105373074.tsv\n",
      "107 LL22NC03-13G6.2.tsv\n",
      "108 TEX33.tsv\n",
      "109 KRT18P23.tsv\n",
      "110 LINC00899.tsv\n",
      "111 LOC105373044.tsv\n",
      "112 IGLVI-70.tsv\n",
      "113 SLC25A5P1.tsv\n",
      "114 LPEQ6126.tsv\n",
      "115 MIR12114.tsv\n",
      "116 MIR650.tsv\n",
      "117 DUX4L40.tsv\n",
      "118 RBFOX2.tsv\n",
      "119 SNU13.tsv\n",
      "120 CRYBB2.tsv\n",
      "121 LOC100736408.tsv\n",
      "122 MPPED1.tsv\n",
      "123 LGALS2.tsv\n",
      "124 LOC101060052.tsv\n",
      "125 LOC100506679.tsv\n",
      "126 LOC105377203.tsv\n",
      "127 APOL1.tsv\n",
      "128 SRRD.tsv\n",
      "129 DNAJB7.tsv\n",
      "130 KCNJ4.tsv\n",
      "131 PI4KA.tsv\n",
      "132 DNAL4.tsv\n",
      "133 SLC25A18.tsv\n",
      "134 TMEM191B.tsv\n",
      "135 CLDN5.tsv\n",
      "136 RNA5SP495.tsv\n",
      "137 LOC105377182.tsv\n",
      "138 LOC102724608.tsv\n",
      "139 IGLV3-17.tsv\n",
      "140 LOC284898.tsv\n",
      "141 LOC100289004.tsv\n",
      "142 FUNDC2P4.tsv\n",
      "143 RNU6-1128P.tsv\n",
      "144 LOC100736412.tsv\n",
      "145 TTLL12.tsv\n",
      "146 HMGB1P10.tsv\n",
      "147 LOC102724638.tsv\n",
      "148 LOC105373027.tsv\n",
      "149 IGLV3-19.tsv\n",
      "150 RAC2.tsv\n",
      "151 LIF.tsv\n",
      "152 GGA1.tsv\n",
      "153 CDC42EP1.tsv\n",
      "154 BPIFC.tsv\n",
      "155 CRKL.tsv\n",
      "156 LOC105373038.tsv\n",
      "157 LOC100422375.tsv\n",
      "158 TNFRSF13C.tsv\n",
      "159 RFPL2.tsv\n",
      "160 LINC02554.tsv\n",
      "161 ADORA2A-AS1.tsv\n",
      "162 LINC02557.tsv\n",
      "163 IL17RA.tsv\n",
      "164 P2RX6P.tsv\n",
      "165 TMEM121B.tsv\n",
      "166 LOC105373029.tsv\n",
      "167 TNRC6B.tsv\n",
      "168 LOC107985535.tsv\n",
      "169 COX5BP7.tsv\n",
      "170 RFPL3S.tsv\n",
      "171 LOC105377199.tsv\n",
      "172 LARGE-AS1.tsv\n",
      "173 CASTOR1.tsv\n",
      "174 GSC2.tsv\n",
      "175 LOC100132723.tsv\n",
      "176 PES1.tsv\n",
      "177 LINC01664.tsv\n",
      "178 MIR1249.tsv\n",
      "179 MGAT3.tsv\n",
      "180 EIF3D.tsv\n",
      "181 MIATNB.tsv\n",
      "182 PACSIN2.tsv\n",
      "183 FAM32BP.tsv\n",
      "184 LOC102723769.tsv\n",
      "185 LOC105373020.tsv\n",
      "186 LOC105377191.tsv\n",
      "187 PSLNR.tsv\n",
      "188 MAPK1.tsv\n",
      "189 LOC105372988.tsv\n",
      "190 YWHAH.tsv\n",
      "191 RN7SL704P.tsv\n",
      "192 ATF4.tsv\n",
      "193 LOC100996699.tsv\n",
      "194 PRODH.tsv\n",
      "195 IGLV2-33.tsv\n",
      "196 SPECC1L.tsv\n",
      "197 TSSK2.tsv\n",
      "198 ZNRF3.tsv\n",
      "199 FAM227A.tsv\n",
      "200 DVL1P1.tsv\n",
      "201 BCR.tsv\n",
      "202 CERK.tsv\n",
      "203 LOC284865.tsv\n",
      "204 FRG1FP.tsv\n",
      "205 LOC100506472.tsv\n",
      "206 IGLV1-50.tsv\n",
      "207 IGLV3-15.tsv\n",
      "208 LOC105373081.tsv\n",
      "209 TBC1D22A-AS1.tsv\n",
      "210 IGLV4-3.tsv\n",
      "211 TAFA5.tsv\n",
      "212 LOC91370.tsv\n",
      "213 SPECC1L-ADORA2A.tsv\n",
      "214 IGLV7-46.tsv\n",
      "215 LOC100421685.tsv\n",
      "216 IGLVI-56.tsv\n",
      "217 CACNG2.tsv\n",
      "218 CHKB-CPT1B.tsv\n",
      "219 RPL7AP70.tsv\n",
      "220 NF2.tsv\n",
      "221 TBX1.tsv\n",
      "222 ISX.tsv\n",
      "223 LOC100996598.tsv\n",
      "224 SYNGR1.tsv\n",
      "225 MIR658.tsv\n",
      "226 ELFN2.tsv\n",
      "227 LINC01315.tsv\n",
      "228 ALG12.tsv\n",
      "229 GAPDHP37.tsv\n",
      "230 RNU6-495P.tsv\n",
      "231 LOC105373091.tsv\n",
      "232 MIR6819.tsv\n",
      "233 BID.tsv\n",
      "234 CLCP1.tsv\n",
      "235 FAM230J.tsv\n",
      "236 C22orf31.tsv\n",
      "237 RPL39P41.tsv\n",
      "238 RHEBP3.tsv\n",
      "239 CENPM.tsv\n",
      "240 LOC105373047.tsv\n",
      "241 SUSD2.tsv\n",
      "242 LOC105372964.tsv\n",
      "243 IGLV3-30.tsv\n",
      "244 CSF2RB.tsv\n",
      "245 PIK3IP1-DT.tsv\n",
      "246 IGLV1-47.tsv\n",
      "247 TYMP.tsv\n",
      "248 CELSR1.tsv\n",
      "249 LOC105373042.tsv\n",
      "250 GRK3.tsv\n",
      "251 LOC780780.tsv\n",
      "252 LOC107985541.tsv\n",
      "253 DERL3.tsv\n",
      "254 IGLC3.tsv\n",
      "255 ZNF280A.tsv\n",
      "256 CHKB-DT.tsv\n",
      "257 LOC105373060.tsv\n",
      "258 MIR5571.tsv\n",
      "259 RNU6-476P.tsv\n",
      "260 PHF5A.tsv\n",
      "261 LOC102724900.tsv\n",
      "262 MCAT.tsv\n",
      "263 LOC107985533.tsv\n",
      "264 ARHGAP42P3.tsv\n",
      "265 NCAPH2.tsv\n",
      "266 POTEH-AS1.tsv\n",
      "267 MIOX.tsv\n",
      "268 LINC01311.tsv\n",
      "269 OSBP2.tsv\n",
      "270 OGFRP1.tsv\n",
      "271 UFD1.tsv\n",
      "272 FAM230H.tsv\n",
      "273 IGLV7-43.tsv\n",
      "274 NF1P6.tsv\n",
      "275 LOC100500719.tsv\n",
      "276 ADSL.tsv\n",
      "277 TUG1.tsv\n",
      "278 LOC107985564.tsv\n",
      "279 LOC105373033.tsv\n",
      "280 H2AZP6.tsv\n",
      "281 BCRP8.tsv\n",
      "282 TOP3BP1.tsv\n",
      "283 LOC105373051.tsv\n",
      "284 LOC284933.tsv\n",
      "285 RPL36P17.tsv\n",
      "286 LINC02558.tsv\n",
      "287 ANKRD54.tsv\n",
      "288 BCRP1.tsv\n",
      "289 LOC107985544.tsv\n",
      "290 MICAL3.tsv\n",
      "291 RPEP4.tsv\n",
      "292 SOX10.tsv\n",
      "293 RPS9P2.tsv\n",
      "294 LOC100419673.tsv\n",
      "295 IGLVIV-64.tsv\n",
      "296 IGLV3-2.tsv\n",
      "297 IGLV1-62.tsv\n",
      "298 IGKV2OR22-3.tsv\n",
      "299 APOL4.tsv\n",
      "300 LOC105377190.tsv\n",
      "301 ADORA2A.tsv\n",
      "302 FBXO7.tsv\n",
      "303 HORMAD2-AS1.tsv\n",
      "304 YES1P1.tsv\n",
      "305 DUSP18.tsv\n",
      "306 LOC105373066.tsv\n",
      "307 NEK2P2.tsv\n",
      "308 TXNRD2.tsv\n",
      "309 C22orf42.tsv\n",
      "310 IGLV5-52.tsv\n",
      "311 TXN2.tsv\n",
      "312 KRT18P62.tsv\n",
      "313 DGCR8.tsv\n",
      "314 IL2RB.tsv\n",
      "315 RIMBP3B.tsv\n",
      "316 NFAM1.tsv\n",
      "317 RNU6ATAC22P.tsv\n",
      "318 LOC107987322.tsv\n",
      "319 LOC112268292.tsv\n",
      "320 MTCO1P33.tsv\n",
      "321 PIWIL3.tsv\n",
      "322 RPL41P3.tsv\n",
      "323 SMC1B.tsv\n",
      "324 SYN3.tsv\n",
      "325 LRRC75B.tsv\n",
      "326 LOC105372980.tsv\n",
      "327 MIR6821.tsv\n",
      "328 CDC27P8.tsv\n",
      "329 ARSA.tsv\n",
      "330 LINC00207.tsv\n",
      "331 DGCR6L.tsv\n",
      "332 RPS25P10.tsv\n",
      "333 LOC105377205.tsv\n",
      "334 LINC02556.tsv\n",
      "335 CCDC188.tsv\n",
      "336 BAIAP2L2.tsv\n",
      "337 HDHD5-AS1.tsv\n",
      "338 LOC105372971.tsv\n",
      "339 LOC107985545.tsv\n",
      "340 RN7SL633P.tsv\n",
      "341 APOBEC3D.tsv\n",
      "342 ENTHD1.tsv\n",
      "343 RPL31P62.tsv\n",
      "344 LOC105379518.tsv\n",
      "345 IGLVVI-22-1.tsv\n",
      "346 RPL7P52.tsv\n",
      "347 LOC105373086.tsv\n",
      "348 ZC3H7B.tsv\n",
      "349 LOC107985570.tsv\n",
      "350 CHEK2P4.tsv\n",
      "351 XKR3.tsv\n",
      "352 NOL12.tsv\n",
      "353 MOV10L1.tsv\n",
      "354 LOC112267891.tsv\n",
      "355 RPL4P6.tsv\n",
      "356 LINC01640.tsv\n",
      "357 XRCC6.tsv\n",
      "358 TTLL8.tsv\n",
      "359 ARHGAP8.tsv\n",
      "360 BIK.tsv\n",
      "361 SEC14L4.tsv\n",
      "362 LOC107985555.tsv\n",
      "363 RNU6-379P.tsv\n",
      "364 LOC105373053.tsv\n",
      "365 DEPDC5.tsv\n",
      "366 LOC105372948.tsv\n",
      "367 THAP7.tsv\n",
      "368 EFCAB6-AS1.tsv\n",
      "369 BCL2L13.tsv\n",
      "370 LOC107985566.tsv\n",
      "371 ABHD17AP4.tsv\n",
      "372 CSNK1E.tsv\n",
      "373 RIMBP3C.tsv\n",
      "374 MIR301B.tsv\n",
      "375 DUX4L41.tsv\n",
      "376 CDPF1.tsv\n",
      "377 SNORD13P1.tsv\n",
      "378 LOC105373071.tsv\n",
      "379 IGLC5.tsv\n",
      "380 GAB4.tsv\n",
      "381 RPL13AP26.tsv\n",
      "382 ZDHHC8.tsv\n",
      "383 CDC27P7.tsv\n",
      "384 LINC01589.tsv\n",
      "385 LOC105372985.tsv\n",
      "386 THOC5.tsv\n",
      "387 MRTFA.tsv\n",
      "388 MIR3199-2.tsv\n",
      "389 KIAA0930.tsv\n",
      "390 LOC107985561.tsv\n",
      "391 MTFR2P2.tsv\n",
      "392 LOC107985554.tsv\n",
      "393 MIR130B.tsv\n",
      "394 LOC112268293.tsv\n",
      "395 LOC101928824.tsv\n",
      "396 HMGXB4.tsv\n",
      "397 CRYBB2P1.tsv\n",
      "398 ZNRF3-AS1.tsv\n",
      "399 RPS3AP51.tsv\n",
      "400 SLC16A8.tsv\n",
      "401 IGLCOR22-2.tsv\n",
      "402 LOC107985551.tsv\n",
      "403 IGLV6-57.tsv\n",
      "404 SLC25A1.tsv\n",
      "405 PI4KAP1.tsv\n",
      "406 SMDT1.tsv\n",
      "407 LOC646408.tsv\n",
      "408 TSSK1A.tsv\n",
      "409 LINC02885.tsv\n",
      "410 LINC01638.tsv\n",
      "411 FAM230B.tsv\n",
      "412 UPK3A.tsv\n",
      "413 MIR33A.tsv\n",
      "414 FAM230A.tsv\n",
      "415 IGLV1-41.tsv\n",
      "416 C22orf23.tsv\n",
      "417 LRRC37A14P.tsv\n",
      "418 HIRA.tsv\n",
      "419 RFPL1.tsv\n",
      "420 MICALL1.tsv\n",
      "421 ATXN10.tsv\n",
      "422 LRP5L.tsv\n",
      "423 LOC105373089.tsv\n",
      "424 LINC01644.tsv\n",
      "425 MTCO1P34.tsv\n",
      "426 GSTT2B.tsv\n",
      "427 MIR3928.tsv\n",
      "428 IGLC1.tsv\n",
      "429 IGLV10-54.tsv\n",
      "430 LOC107987323.tsv\n",
      "431 LOC105373014.tsv\n",
      "432 P2RX6.tsv\n",
      "433 LOC101927183.tsv\n",
      "434 MIR7109.tsv\n",
      "435 DGCR2.tsv\n",
      "436 E2F6P1.tsv\n",
      "437 FAM230I.tsv\n",
      "438 SHISA8.tsv\n",
      "439 FAM118A.tsv\n",
      "440 LINC01521.tsv\n",
      "441 NBEAP3.tsv\n",
      "442 MTCO2P20.tsv\n",
      "443 IGLVI-38.tsv\n",
      "444 GOLGA2P4.tsv\n",
      "445 DMC1.tsv\n",
      "446 IGLV2-28.tsv\n",
      "447 TRIOBP.tsv\n",
      "448 LOC105373077.tsv\n",
      "449 CHCHD10.tsv\n",
      "450 SNAP29.tsv\n",
      "451 TST.tsv\n",
      "452 ASPHD2.tsv\n",
      "453 RN7SKP210.tsv\n",
      "454 RNU6-513P.tsv\n",
      "455 GUCD1.tsv\n",
      "456 IFT27.tsv\n",
      "457 IGLV2-18.tsv\n",
      "458 LOC107985558.tsv\n",
      "459 LOC112268297.tsv\n",
      "460 LOC440792.tsv\n",
      "461 LOC107985529.tsv\n",
      "462 LOC150417.tsv\n",
      "463 RNA18SP.tsv\n",
      "464 SELENOO.tsv\n",
      "465 IGLV5-37.tsv\n",
      "466 PRAME.tsv\n",
      "467 LOC105373021.tsv\n",
      "468 E2F6P2.tsv\n",
      "469 RIBC2.tsv\n",
      "470 EP300-AS1.tsv\n",
      "471 RN7SL6P.tsv\n",
      "472 EIF3L.tsv\n",
      "473 TAB1.tsv\n",
      "474 LOC102724378.tsv\n",
      "475 MIR3909.tsv\n",
      "476 IGLV5-48.tsv\n",
      "477 MORC2-AS1.tsv\n",
      "478 LOC107985553.tsv\n",
      "479 CPSF1P1.tsv\n",
      "480 IGLVV-58.tsv\n",
      "481 TRMT2A.tsv\n",
      "482 BNIP3P2.tsv\n",
      "483 LOC105373016.tsv\n",
      "484 LOC105379418.tsv\n",
      "485 CBY1.tsv\n",
      "486 LOC107985590.tsv\n",
      "487 IGLL3P.tsv\n",
      "488 RPS18P14.tsv\n",
      "489 MIR648.tsv\n",
      "490 BRD1.tsv\n",
      "491 HMOX1.tsv\n",
      "492 PDXP.tsv\n",
      "493 MIR1286.tsv\n",
      "494 ARFGAP3.tsv\n",
      "495 IGLV3-31.tsv\n",
      "496 RPL5P35.tsv\n"
     ]
    },
    {
     "name": "stdout",
     "output_type": "stream",
     "text": [
      "497 MORC2.tsv\n",
      "498 LOC105372990.tsv\n",
      "499 LOC101929638.tsv\n",
      "500 TTC28.tsv\n",
      "501 CABIN1.tsv\n",
      "502 PISD.tsv\n",
      "503 ABHD17AP5.tsv\n",
      "504 IGLV2-11.tsv\n",
      "505 RN7SL20P.tsv\n",
      "506 SUN2.tsv\n",
      "507 TOP1P2.tsv\n",
      "508 MTATP6P20.tsv\n",
      "509 LOC100996404.tsv\n",
      "510 RN7SL843P.tsv\n",
      "511 LOC105372997.tsv\n",
      "512 SLC25A17.tsv\n",
      "513 SNORA77B.tsv\n",
      "514 LOC105373012.tsv\n",
      "515 IGLV3-16.tsv\n",
      "516 IGLV3-32.tsv\n",
      "517 IGLVI-68.tsv\n",
      "518 LOC110467534.tsv\n",
      "519 RGL4.tsv\n",
      "520 MIR4761.tsv\n",
      "521 CYTH4.tsv\n",
      "522 LOC284930.tsv\n",
      "523 MIR6817.tsv\n",
      "524 LOC100419811.tsv\n",
      "525 IGLVIV-66-1.tsv\n",
      "526 UQCRFS1P1.tsv\n",
      "527 MIR185.tsv\n",
      "528 LOC105372979.tsv\n",
      "529 ZNF72P.tsv\n",
      "530 IGLVV-66.tsv\n",
      "531 GSTT2.tsv\n",
      "532 IGLV3-21.tsv\n",
      "533 LOC100421121.tsv\n",
      "534 GALR3.tsv\n",
      "535 IGLV3-6.tsv\n",
      "536 BCRP6.tsv\n",
      "537 SNORD125.tsv\n",
      "538 LOC101929255.tsv\n",
      "539 POM121L10P.tsv\n",
      "540 LOC107985577.tsv\n",
      "541 BCRP3.tsv\n",
      "542 IGLV11-55.tsv\n",
      "543 PPM1F-AS1.tsv\n",
      "544 RNA5SP496.tsv\n",
      "545 LOC107985536.tsv\n",
      "546 IGL.tsv\n",
      "547 CPT1B.tsv\n",
      "548 LOC105373023.tsv\n",
      "549 PABPC1P9.tsv\n",
      "550 GGT1.tsv\n",
      "551 SERHL.tsv\n",
      "552 PRR5-ARHGAP8.tsv\n",
      "553 LOC105372859.tsv\n",
      "554 CRYBB3.tsv\n",
      "555 TCF20.tsv\n",
      "556 LOC102723507.tsv\n",
      "557 TOB2.tsv\n",
      "558 COX7BP1.tsv\n",
      "559 RNU6-810P.tsv\n",
      "560 NUP50-DT.tsv\n",
      "561 APOBEC3F.tsv\n",
      "562 LOC107985562.tsv\n",
      "563 LOC105372998.tsv\n",
      "564 DDX17.tsv\n",
      "565 KLHDC7B.tsv\n",
      "566 LOC105372952.tsv\n",
      "567 SIRPAP1.tsv\n",
      "568 THAP7-AS1.tsv\n",
      "569 LOC107987320.tsv\n",
      "570 PRR5.tsv\n",
      "571 LOC105373035.tsv\n",
      "572 SEPTIN3.tsv\n",
      "573 FBLN1.tsv\n",
      "574 EMID1.tsv\n",
      "575 LARGE1.tsv\n",
      "576 CYB5R3.tsv\n",
      "577 LOC105373032.tsv\n",
      "578 LOC441996.tsv\n",
      "579 PHF21B.tsv\n",
      "580 MIF.tsv\n",
      "581 GTPBP1.tsv\n",
      "582 MRPL40.tsv\n",
      "583 LINC01656.tsv\n",
      "584 RN7SL280P.tsv\n",
      "585 LOC105372947.tsv\n",
      "586 LOC112268295.tsv\n",
      "587 KIAA1671.tsv\n",
      "588 RN7SL263P.tsv\n",
      "589 LINC01310.tsv\n",
      "590 LOC101927202.tsv\n",
      "591 KLHDC7B-DT.tsv\n",
      "592 LOC112268288.tsv\n",
      "593 TIMP3.tsv\n",
      "594 RPS15AP38.tsv\n",
      "595 RN7SL757P.tsv\n",
      "596 PARVG.tsv\n",
      "597 IGLV2-23.tsv\n",
      "598 HMGN2P9.tsv\n",
      "599 LOC105373019.tsv\n",
      "600 MIR378I.tsv\n",
      "601 LOC100422416.tsv\n",
      "602 LOC100129358.tsv\n",
      "603 LOC105373069.tsv\n",
      "604 IGLC2.tsv\n",
      "605 LOC107985588.tsv\n",
      "606 LMF2.tsv\n",
      "607 RN7SL812P.tsv\n",
      "608 PNPLA3.tsv\n",
      "609 TPTEP2-CSNK1E.tsv\n",
      "610 PRDX3P1.tsv\n",
      "611 DESI1.tsv\n",
      "612 POLDIP3.tsv\n",
      "613 LOC100129254.tsv\n",
      "614 CBX6.tsv\n",
      "615 LOC112268294.tsv\n",
      "616 MLC1.tsv\n",
      "617 DENND6B.tsv\n",
      "618 NDUFA6-DT.tsv\n",
      "619 LINC01422.tsv\n",
      "620 YDJC.tsv\n",
      "621 SDF2L1.tsv\n",
      "622 RNU6-201P.tsv\n",
      "623 ACTR3BP6.tsv\n",
      "624 MYO18B.tsv\n",
      "625 LOC107987325.tsv\n",
      "626 RPL35AP36.tsv\n",
      "627 MIR5739.tsv\n",
      "628 PPP1R26P2.tsv\n",
      "629 LOC129026.tsv\n",
      "630 LOC105373057.tsv\n",
      "631 EIF4HP2.tsv\n",
      "632 RRP7BP.tsv\n",
      "633 IGKV1OR22-1.tsv\n",
      "634 MYO18B-AS1.tsv\n",
      "635 MCHR1.tsv\n",
      "636 APOL6.tsv\n",
      "637 RPS10P30.tsv\n",
      "638 IGLV3-10.tsv\n",
      "639 GCAT.tsv\n",
      "640 LOC692246.tsv\n",
      "641 LOC105373037.tsv\n",
      "642 MB.tsv\n",
      "643 CCDC157.tsv\n",
      "644 LOC110091768.tsv\n",
      "645 TUBA3GP.tsv\n",
      "646 RPL23AP82.tsv\n",
      "647 LINC01399.tsv\n",
      "648 RNU6-900P.tsv\n",
      "649 CCDC117.tsv\n",
      "650 CHADL.tsv\n",
      "651 LINC01643.tsv\n",
      "652 PRR14L.tsv\n",
      "653 USP41.tsv\n",
      "654 GGT5.tsv\n",
      "655 SEC14L6.tsv\n",
      "656 SCARF2.tsv\n",
      "657 RNF185.tsv\n",
      "658 IGKV3OR22-2.tsv\n",
      "659 SH3BP1.tsv\n",
      "660 TOP3B.tsv\n",
      "661 AP1B1P1.tsv\n",
      "662 LOC102723688.tsv\n",
      "663 RN7SKP80.tsv\n",
      "664 IGLL1.tsv\n",
      "665 TANGO2.tsv\n",
      "666 SLC35E4.tsv\n",
      "667 LGALS1.tsv\n",
      "668 BCRP5.tsv\n",
      "669 LOC105373022.tsv\n",
      "670 FAM230F.tsv\n",
      "671 MAPK12.tsv\n",
      "672 LOC112268291.tsv\n",
      "673 LL22NC01-81G9.3.tsv\n",
      "674 LINC00895.tsv\n",
      "675 LIF-AS1.tsv\n",
      "676 KCNMB3P1.tsv\n",
      "677 DRICH1.tsv\n",
      "678 ANKRD62P1.tsv\n",
      "679 MTCO1P20.tsv\n",
      "680 MIR3199-1.tsv\n",
      "681 ARL2BPP10.tsv\n",
      "682 LOC100422530.tsv\n",
      "683 LOC107985538.tsv\n",
      "684 TRMU.tsv\n",
      "685 PARVB.tsv\n",
      "686 MTCO3P20.tsv\n",
      "687 LOC105373064.tsv\n",
      "688 RNU6-564P.tsv\n",
      "689 CYP2D8P.tsv\n",
      "690 MIR1306.tsv\n",
      "691 LOC102724653.tsv\n",
      "692 RN7SKP221.tsv\n",
      "693 GRAMD4P2.tsv\n",
      "694 GGT2.tsv\n",
      "695 CYP2D6.tsv\n",
      "696 LOC105373013.tsv\n",
      "697 LOC105369161.tsv\n",
      "698 IGLV7-35.tsv\n",
      "699 MTMR3.tsv\n",
      "700 LOC100996364.tsv\n",
      "701 SEPT5-GP1BB.tsv\n",
      "702 SUSD2P2.tsv\n",
      "703 CECR3.tsv\n",
      "704 TOMM40P2.tsv\n",
      "705 LOC105372935.tsv\n",
      "706 LL22NC03-102D1.18.tsv\n",
      "707 CES5AP1.tsv\n",
      "708 LOC107985567.tsv\n",
      "709 LOC105379516.tsv\n",
      "710 MCM5.tsv\n",
      "711 APOBEC3B.tsv\n",
      "712 KDELR3.tsv\n",
      "713 NDUFA6.tsv\n",
      "714 IGLVIV-65.tsv\n",
      "715 LOC105379428.tsv\n",
      "716 LOC107985571.tsv\n",
      "717 DUX4L42.tsv\n",
      "718 LOC100131536.tsv\n",
      "719 LOC100420103.tsv\n",
      "720 PRR34-AS1.tsv\n",
      "721 GUSBP11.tsv\n",
      "722 LOC105373085.tsv\n",
      "723 IGLV3-12.tsv\n",
      "724 L3MBTL2.tsv\n",
      "725 TOMM22.tsv\n",
      "726 PIK3IP1.tsv\n",
      "727 IGLV2-8.tsv\n",
      "728 ANKRD62P1-PARP4P3.tsv\n",
      "729 HDHD5.tsv\n",
      "730 SERHL2.tsv\n",
      "731 DNM1P18.tsv\n",
      "732 MTCYBP34.tsv\n",
      "733 SDC4P.tsv\n",
      "734 APOBEC3G.tsv\n",
      "735 BMP6P1.tsv\n",
      "736 COX6B1P3.tsv\n",
      "737 RNU6-409P.tsv\n",
      "738 IGLVI-20.tsv\n",
      "739 TBC1D10A.tsv\n",
      "740 LOC107985556.tsv\n",
      "741 IGLV3-7.tsv\n",
      "742 APOL3.tsv\n",
      "743 ARVCF.tsv\n",
      "744 LOC105373000.tsv\n",
      "745 LOC107985579.tsv\n",
      "746 NIPSNAP1.tsv\n",
      "747 INPP5J.tsv\n",
      "748 UBE2L3.tsv\n",
      "749 POM121L4P.tsv\n",
      "750 IGLV3-27.tsv\n",
      "751 LOC107985532.tsv\n",
      "752 ISCA2P1.tsv\n",
      "753 MPST.tsv\n",
      "754 MTND1P10.tsv\n",
      "755 RN7SL268P.tsv\n",
      "756 LOC105372991.tsv\n",
      "757 GP1BB.tsv\n",
      "758 LOC642648.tsv\n",
      "759 ZMAT5.tsv\n",
      "760 MIR3200.tsv\n",
      "761 RN7SL162P.tsv\n",
      "762 POLR3H.tsv\n",
      "763 IL17REL.tsv\n",
      "764 BCRP2.tsv\n",
      "765 PATZ1.tsv\n",
      "766 CRYBB1.tsv\n",
      "767 RFPL4AP6.tsv\n",
      "768 APOBEC3H.tsv\n",
      "769 ACR.tsv\n",
      "770 RNF215.tsv\n",
      "771 IGLV3-13.tsv\n",
      "772 ADM2.tsv\n",
      "773 TTC38.tsv\n",
      "774 LOC105373003.tsv\n",
      "775 LOC101927372.tsv\n",
      "776 TSPO.tsv\n",
      "777 LOC102725072.tsv\n",
      "778 TTC28-AS1.tsv\n",
      "779 POTEH.tsv\n",
      "780 DUX4L43.tsv\n",
      "781 ZNF280B.tsv\n",
      "782 LOC107985563.tsv\n",
      "783 PPP6R2.tsv\n",
      "784 IGLVVI-25-1.tsv\n",
      "785 RTCB.tsv\n",
      "786 PEX26.tsv\n",
      "787 RN7SKP63.tsv\n",
      "788 SYCE3.tsv\n",
      "789 GGT3P.tsv\n",
      "790 MGAT3-AS1.tsv\n",
      "791 KIAA1656.tsv\n",
      "792 LOC100507599.tsv\n",
      "793 MIR3198-1.tsv\n",
      "794 MTND1P17.tsv\n",
      "795 LOC105372989.tsv\n",
      "796 LINC00528.tsv\n",
      "797 PITPNB.tsv\n",
      "798 C22orf39.tsv\n",
      "799 MIRLET7BHG.tsv\n",
      "800 LOC105373058.tsv\n",
      "801 RNU6-816P.tsv\n",
      "802 LOC107984030.tsv\n",
      "803 C22orf34.tsv\n",
      "804 LOC101929372.tsv\n",
      "805 RSPH14.tsv\n",
      "806 CCDC134.tsv\n",
      "807 LOC100420177.tsv\n",
      "808 POM121L11P.tsv\n",
      "809 MFNG.tsv\n",
      "810 LOC107985573.tsv\n",
      "811 CSF2RBP1.tsv\n",
      "812 FAM230D.tsv\n",
      "813 RFPL1S.tsv\n",
      "814 ZNF402P.tsv\n",
      "815 GGTLC5P.tsv\n",
      "816 SEPTIN5.tsv\n",
      "817 CECR7.tsv\n",
      "818 LIMK2.tsv\n",
      "819 LOC107987326.tsv\n",
      "820 LOC101928041.tsv\n",
      "821 SLC5A4-AS1.tsv\n",
      "822 LOC105372969.tsv\n",
      "823 LOC105373002.tsv\n",
      "824 SNRPD3.tsv\n",
      "825 LOC105372850.tsv\n",
      "826 AP1B1P2.tsv\n",
      "827 GGTLC3.tsv\n",
      "828 IGLV1-51.tsv\n",
      "829 LL22NC03-63E9.3.tsv\n",
      "830 LOC101927551.tsv\n",
      "831 MED15.tsv\n",
      "832 PPIL2.tsv\n",
      "833 DUX4L44.tsv\n",
      "834 RPS10P29.tsv\n",
      "835 MTCO3P34.tsv\n",
      "836 RTL10.tsv\n",
      "837 MIF-AS1.tsv\n",
      "838 TERF2IPP1.tsv\n",
      "839 SGSM1.tsv\n",
      "840 RNU6-331P.tsv\n",
      "841 PMM1.tsv\n",
      "842 CYP2D7.tsv\n",
      "843 YPEL1.tsv\n",
      "844 LOC107985581.tsv\n",
      "845 TMEM191A.tsv\n",
      "846 MIR3667.tsv\n",
      "847 RHBDD3.tsv\n",
      "848 MTCO3P33.tsv\n",
      "849 RPL35P8.tsv\n",
      "850 SUSD2P1.tsv\n",
      "851 IGLV1-44.tsv\n",
      "852 LINC02559.tsv\n",
      "853 LOC107984037.tsv\n",
      "854 BCRP4.tsv\n",
      "855 RPL6P28.tsv\n",
      "856 YME1L1P1.tsv\n",
      "857 LOC284912.tsv\n",
      "858 GAL3ST1.tsv\n",
      "859 LOC100533637.tsv\n",
      "860 IGKV2OR22-4.tsv\n",
      "861 MAFF.tsv\n",
      "862 ARL5AP4.tsv\n",
      "863 C22orf15.tsv\n",
      "864 RNU6-1161P.tsv\n",
      "865 PRR34.tsv\n",
      "866 LOC100420967.tsv\n",
      "867 LOC101927051.tsv\n",
      "868 RNU6-28P.tsv\n",
      "869 SELENOM.tsv\n",
      "870 SMTN.tsv\n",
      "871 PPP1R26P4.tsv\n",
      "872 LOC105373068.tsv\n",
      "873 NCF4-AS1.tsv\n",
      "874 LOC107985549.tsv\n",
      "875 NUP50.tsv\n",
      "876 PLXNB2.tsv\n",
      "877 MRPS16P3.tsv\n",
      "878 USP18.tsv\n",
      "879 OSM.tsv\n",
      "880 LZTR1.tsv\n",
      "881 MMP11.tsv\n",
      "882 LRRC74B.tsv\n",
      "883 C22orf24.tsv\n",
      "884 UPB1.tsv\n",
      "885 CARD10.tsv\n",
      "886 IGLV3-1.tsv\n",
      "887 LOC101929594.tsv\n",
      "888 LOC100420175.tsv\n",
      "889 PPP1R26P3.tsv\n",
      "890 IGLV3-29.tsv\n",
      "891 LOC105373075.tsv\n",
      "892 LOC107985565.tsv\n",
      "893 LOC105372871.tsv\n",
      "894 FAM230E.tsv\n",
      "895 LOC112268290.tsv\n",
      "896 CNN2P1.tsv\n",
      "897 XBP1.tsv\n",
      "898 VPREB1.tsv\n",
      "899 MIAT.tsv\n",
      "900 LOC112268299.tsv\n",
      "901 LOC107985580.tsv\n",
      "902 FOXRED2.tsv\n",
      "903 RNA5SP497.tsv\n",
      "904 APOL2.tsv\n",
      "905 TMEM211.tsv\n",
      "906 FAM230G.tsv\n",
      "907 LINC01634.tsv\n",
      "908 NPTXR.tsv\n",
      "909 LOC100292922.tsv\n",
      "910 PPP1R26P5.tsv\n",
      "911 LOC110467520.tsv\n",
      "912 IGLVI-63.tsv\n",
      "913 LOC107985542.tsv\n",
      "914 POLR2F.tsv\n",
      "915 MIEF1.tsv\n",
      "916 EWSR1.tsv\n",
      "917 LOC102723722.tsv\n",
      "918 IGLC7.tsv\n",
      "919 PRAMENP.tsv\n",
      "920 PVALB.tsv\n",
      "921 LOC101929738.tsv\n",
      "922 IGLV1-40.tsv\n",
      "923 IGLV4-60.tsv\n",
      "924 POM121L9P.tsv\n",
      "925 GRAMD4.tsv\n",
      "926 RPL5P34.tsv\n",
      "927 LOC105373095.tsv\n",
      "928 RN7SL500P.tsv\n",
      "929 LOC105373030.tsv\n",
      "930 RAB36.tsv\n",
      "931 RANGAP1.tsv\n",
      "932 RABL2B.tsv\n",
      "933 LOC100652871.tsv\n",
      "934 L3MBTL2-AS1.tsv\n",
      "935 TFIP11.tsv\n",
      "936 ATP5MGL.tsv\n",
      "937 RN7SKP214.tsv\n",
      "938 EIF4ENIF1.tsv\n",
      "939 PKDREJ.tsv\n",
      "940 LINC00898.tsv\n",
      "941 LOC112268300.tsv\n",
      "942 RN7SKP131.tsv\n",
      "943 RASL10A.tsv\n",
      "944 LOC107985582.tsv\n",
      "945 ZNF70.tsv\n",
      "946 LL22NC03-104C7.1.tsv\n",
      "947 SSTR3.tsv\n",
      "948 DGCR5.tsv\n",
      "949 LOC107985550.tsv\n",
      "950 POM121L8P.tsv\n",
      "951 IGLL4P.tsv\n",
      "952 RTL6.tsv\n",
      "953 LINC01637.tsv\n",
      "954 IGLV2-34.tsv\n",
      "955 ODF3B.tsv\n",
      "956 YWHAQP2.tsv\n",
      "957 LOC114841040.tsv\n",
      "958 DGCR11.tsv\n",
      "959 GTSE1.tsv\n",
      "960 IGLV8-61.tsv\n",
      "961 LOC107985557.tsv\n",
      "962 LOC105372974.tsv\n",
      "963 PDGFB.tsv\n",
      "964 RNU6-338P.tsv\n",
      "965 SHISAL1.tsv\n",
      "966 GSTT4.tsv\n",
      "967 LOC391334.tsv\n",
      "968 MRTFA-AS1.tsv\n",
      "969 PPP1R14BP1.tsv\n",
      "970 ATP6V1E1.tsv\n",
      "971 LOC102724801.tsv\n",
      "972 LOC105373059.tsv\n",
      "973 LOC112268289.tsv\n",
      "974 RN7SKP169.tsv\n"
     ]
    },
    {
     "name": "stdout",
     "output_type": "stream",
     "text": [
      "975 LOC105372977.tsv\n",
      "976 WNT7B.tsv\n",
      "977 RPS15AP37.tsv\n",
      "978 IGLVVII-41-1.tsv\n",
      "979 ACO2.tsv\n",
      "980 LOC107985576.tsv\n",
      "981 RRP7A.tsv\n",
      "982 SLC5A1.tsv\n",
      "983 MAPK11.tsv\n",
      "984 MAPK8IP2.tsv\n",
      "985 SLC2A11.tsv\n",
      "986 LOC644525.tsv\n",
      "987 PANX2.tsv\n",
      "988 TPST2.tsv\n",
      "989 LOC100113375.tsv\n",
      "990 NAGA.tsv\n",
      "991 TMPRSS6.tsv\n",
      "992 RNU6-375P.tsv\n",
      "993 VPREB3.tsv\n",
      "994 LOC105372853.tsv\n",
      "995 RN7SL305P.tsv\n",
      "996 APOL5.tsv\n",
      "997 LOC105372995.tsv\n",
      "998 LOC105372858.tsv\n",
      "999 LOC101927344.tsv\n",
      "1000 CABP7.tsv\n",
      "1001 TBC1D22A.tsv\n",
      "1002 LOC105373063.tsv\n",
      "1003 ESS2.tsv\n",
      "1004 POM121L1P.tsv\n",
      "1005 AIFM3.tsv\n",
      "1006 CA15P3.tsv\n",
      "1007 OR11H1.tsv\n",
      "1008 LOC100420885.tsv\n",
      "1009 HMGN2P10.tsv\n",
      "1010 LOC107985537.tsv\n",
      "1011 SGSM3.tsv\n",
      "1012 ABCD1P4.tsv\n",
      "1013 CCT8L2.tsv\n",
      "1014 IGLC4.tsv\n",
      "1015 GAS2L1.tsv\n",
      "1016 IGLV3-24.tsv\n",
      "1017 HDAC10.tsv\n",
      "1018 IGLV3-9.tsv\n",
      "1019 PLA2G3.tsv\n",
      "1020 TEF.tsv\n",
      "1021 LOC100419506.tsv\n",
      "1022 CLTCL1.tsv\n",
      "1023 LOC105372863.tsv\n",
      "1024 SMPD4P1.tsv\n",
      "1025 LOC105372981.tsv\n",
      "1026 LOC105373083.tsv\n",
      "1027 LOC101927393.tsv\n",
      "1028 LOC100419915.tsv\n",
      "1029 ADA2.tsv\n",
      "1030 ST13.tsv\n",
      "1031 MTFP1.tsv\n",
      "1032 LOC646216.tsv\n",
      "1033 IGLVIV-59.tsv\n",
      "1034 LOC107985534.tsv\n",
      "1035 EP300.tsv\n",
      "1036 MN1.tsv\n",
      "1037 HORMAD2.tsv\n",
      "1038 LOC107985530.tsv\n",
      "1039 MIR3618.tsv\n",
      "1040 UQCR10.tsv\n",
      "1041 LOC100129262.tsv\n",
      "1042 LOC646927.tsv\n",
      "1043 FRG1GP.tsv\n",
      "1044 DDTL.tsv\n",
      "1045 TUBGCP6.tsv\n",
      "1046 LOC105373031.tsv\n",
      "1047 MIR4534.tsv\n",
      "1048 IGLV1-36.tsv\n",
      "1049 SNORA92.tsv\n",
      "1050 NDUFA9P1.tsv\n",
      "1051 DRG1.tsv\n",
      "1052 GNB1L.tsv\n",
      "1053 JOSD1.tsv\n",
      "1054 IGLVI-42.tsv\n",
      "1055 BMS1P20.tsv\n",
      "1056 PARP4P3.tsv\n",
      "1057 RPS10P31.tsv\n",
      "1058 KLHL22.tsv\n",
      "1059 SF3A1.tsv\n",
      "1060 LOC105373080.tsv\n",
      "1061 TRABD.tsv\n",
      "1062 SCUBE1.tsv\n",
      "1063 LOC105373096.tsv\n",
      "1064 APOBEC3B-AS1.tsv\n",
      "1065 PCMTD1P5.tsv\n",
      "1066 LOC105372862.tsv\n",
      "1067 CHEK2.tsv\n",
      "1068 C22orf46.tsv\n",
      "1069 KIAA1671-AS1.tsv\n",
      "1070 NEFH.tsv\n",
      "1071 LOC107987324.tsv\n",
      "1072 LOC100313968.tsv\n",
      "1073 ASH2LP2.tsv\n",
      "1074 IGLL5.tsv\n",
      "1075 WBP2NL.tsv\n",
      "1076 LOC105373100.tsv\n",
      "1077 LOC101927499.tsv\n",
      "1078 RBX1.tsv\n",
      "1079 RIMBP3.tsv\n",
      "1080 PHETA2.tsv\n",
      "1081 GRAP2.tsv\n",
      "1082 RPS29P31.tsv\n",
      "1083 NCF4.tsv\n",
      "1084 RN7SL385P.tsv\n",
      "1085 RFPL3.tsv\n",
      "1086 DUXAP8.tsv\n",
      "1087 LOC100422292.tsv\n",
      "1088 IGLV9-49.tsv\n",
      "1089 LOC100533679.tsv\n",
      "1090 IGLC6.tsv\n",
      "1091 PIM3.tsv\n",
      "1092 LOC102723305.tsv\n",
      "1093 SNORD139.tsv\n",
      "1094 ZNF74.tsv\n",
      "1095 EFCAB6.tsv\n",
      "1096 SBF1.tsv\n",
      "1097 LOC105373087.tsv\n",
      "1098 LOC105372864.tsv\n",
      "1099 LOC105372960.tsv\n",
      "1100 ASCC2.tsv\n",
      "1101 LOC105373043.tsv\n",
      "1102 TCN2.tsv\n",
      "1103 SREBF2.tsv\n",
      "1104 IGLV4-69.tsv\n",
      "1105 CA15P2.tsv\n",
      "1106 SNORD140.tsv\n",
      "1107 DDT.tsv\n",
      "1108 SLC7A4.tsv\n",
      "1109 ZDHHC8P1.tsv\n",
      "1110 LOC105373024.tsv\n",
      "1111 PCAT14.tsv\n",
      "1112 IGLV2-5.tsv\n",
      "1113 LOC105372994.tsv\n",
      "1114 SLC5A4.tsv\n",
      "1115 SMARCB1.tsv\n",
      "1116 SLC9B1P4.tsv\n",
      "1117 SFI1.tsv\n",
      "1118 IGLV3-26.tsv\n",
      "1119 CECR2.tsv\n",
      "1120 VWFP1.tsv\n",
      "1121 LOC105372957.tsv\n",
      "1122 ASH2LP1.tsv\n",
      "1123 FABP5P11.tsv\n",
      "1124 DNAJA1P6.tsv\n",
      "1125 LINC00229.tsv\n",
      "1126 E2F6P3.tsv\n",
      "1127 PPM1F.tsv\n",
      "1128 PPARA.tsv\n",
      "1129 ASLP1.tsv\n",
      "1130 RNU6-225P.tsv\n",
      "1131 C1QTNF6.tsv\n",
      "1132 IGLV3-4.tsv\n",
      "1133 SNORD83A.tsv\n",
      "1134 LOC105372942.tsv\n",
      "1135 LOC339666.tsv\n",
      "1136 SOCS2P2.tsv\n",
      "1137 KCTD17.tsv\n",
      "1138 CCDC116.tsv\n",
      "1139 SCO2.tsv\n",
      "1140 RNU12.tsv\n",
      "1141 SEC14L3.tsv\n",
      "1142 LOC112267890.tsv\n",
      "1143 FAM83F.tsv\n",
      "1144 LOC112268296.tsv\n",
      "1145 LOC101060852.tsv\n",
      "1146 TTLL1.tsv\n",
      "1147 LOC105373062.tsv\n",
      "1148 RNA5SP494.tsv\n",
      "1149 H1-0.tsv\n",
      "1150 CRYBA4.tsv\n",
      "1151 RPL3.tsv\n"
     ]
    }
   ],
   "source": [
    "total = None\n",
    "nothing = []\n",
    "for i,a in enumerate(ordered_data):\n",
    "    print(i,a)\n",
    "    try:\n",
    "        current_df = pd.read_csv(\n",
    "            op.join(\n",
    "                \"/home/bakirillov/HDD/data/cas9_ot_ordered/\"+a\n",
    "            ), sep=\"\\t\", header=None\n",
    "        )\n",
    "    except:\n",
    "        nothing.append(a)\n",
    "        print(i,a, \"nothing\")\n",
    "    else:\n",
    "        if i == 0:\n",
    "            total = current_df\n",
    "        else:\n",
    "            total = total.append(current_df)"
   ]
  },
  {
   "cell_type": "code",
   "execution_count": 23,
   "metadata": {},
   "outputs": [
    {
     "data": {
      "text/plain": [
       "[]"
      ]
     },
     "execution_count": 23,
     "metadata": {},
     "output_type": "execute_result"
    }
   ],
   "source": [
    "nothing"
   ]
  },
  {
   "cell_type": "code",
   "execution_count": 24,
   "metadata": {},
   "outputs": [],
   "source": [
    "total.to_csv(\"W_ot_paper_ready.tsv\")"
   ]
  },
  {
   "cell_type": "code",
   "execution_count": 25,
   "metadata": {
    "scrolled": true
   },
   "outputs": [
    {
     "data": {
      "text/html": [
       "<div>\n",
       "<style scoped>\n",
       "    .dataframe tbody tr th:only-of-type {\n",
       "        vertical-align: middle;\n",
       "    }\n",
       "\n",
       "    .dataframe tbody tr th {\n",
       "        vertical-align: top;\n",
       "    }\n",
       "\n",
       "    .dataframe thead th {\n",
       "        text-align: right;\n",
       "    }\n",
       "</style>\n",
       "<table border=\"1\" class=\"dataframe\">\n",
       "  <thead>\n",
       "    <tr style=\"text-align: right;\">\n",
       "      <th></th>\n",
       "      <th>0</th>\n",
       "      <th>1</th>\n",
       "      <th>2</th>\n",
       "      <th>3</th>\n",
       "      <th>4</th>\n",
       "      <th>5</th>\n",
       "      <th>6</th>\n",
       "      <th>7</th>\n",
       "      <th>8</th>\n",
       "      <th>9</th>\n",
       "    </tr>\n",
       "  </thead>\n",
       "  <tbody>\n",
       "    <tr>\n",
       "      <th>0</th>\n",
       "      <td>133</td>\n",
       "      <td>TCGCCCAGGTTGGAGTGCAGTGG</td>\n",
       "      <td>SERPIND1</td>\n",
       "      <td>605</td>\n",
       "      <td>TtGtCCAGGcTGGAGTGCAGTGG</td>\n",
       "      <td>-</td>\n",
       "      <td>3</td>\n",
       "      <td>SERPIND1.tsv</td>\n",
       "      <td>0.485458</td>\n",
       "      <td>0.009050</td>\n",
       "    </tr>\n",
       "    <tr>\n",
       "      <th>1</th>\n",
       "      <td>210</td>\n",
       "      <td>GGACAGCGGGCAGAAAGCACTGG</td>\n",
       "      <td>SERPIND1</td>\n",
       "      <td>7299</td>\n",
       "      <td>aGctAaCtaGCAGAAAGCACTGG</td>\n",
       "      <td>-</td>\n",
       "      <td>6</td>\n",
       "      <td>SERPIND1.tsv</td>\n",
       "      <td>0.485150</td>\n",
       "      <td>0.010162</td>\n",
       "    </tr>\n",
       "    <tr>\n",
       "      <th>2</th>\n",
       "      <td>121</td>\n",
       "      <td>TCGCCCAGGTTGGAGTGCAGTGG</td>\n",
       "      <td>SERPIND1</td>\n",
       "      <td>605</td>\n",
       "      <td>TtGtCCAGGcTGGAGTGCAGTGG</td>\n",
       "      <td>-</td>\n",
       "      <td>3</td>\n",
       "      <td>SERPIND1.tsv</td>\n",
       "      <td>0.484932</td>\n",
       "      <td>0.009037</td>\n",
       "    </tr>\n",
       "    <tr>\n",
       "      <th>3</th>\n",
       "      <td>127</td>\n",
       "      <td>TCGCCCAGGTTGGAGTGCAGTGG</td>\n",
       "      <td>SERPIND1</td>\n",
       "      <td>605</td>\n",
       "      <td>TtGtCCAGGcTGGAGTGCAGTGG</td>\n",
       "      <td>-</td>\n",
       "      <td>3</td>\n",
       "      <td>SERPIND1.tsv</td>\n",
       "      <td>0.483757</td>\n",
       "      <td>0.009051</td>\n",
       "    </tr>\n",
       "    <tr>\n",
       "      <th>4</th>\n",
       "      <td>139</td>\n",
       "      <td>TCGCCCAGGTTGGAGTGCAGTGG</td>\n",
       "      <td>SERPIND1</td>\n",
       "      <td>605</td>\n",
       "      <td>TtGtCCAGGcTGGAGTGCAGTGG</td>\n",
       "      <td>-</td>\n",
       "      <td>3</td>\n",
       "      <td>SERPIND1.tsv</td>\n",
       "      <td>0.483551</td>\n",
       "      <td>0.009033</td>\n",
       "    </tr>\n",
       "    <tr>\n",
       "      <th>...</th>\n",
       "      <td>...</td>\n",
       "      <td>...</td>\n",
       "      <td>...</td>\n",
       "      <td>...</td>\n",
       "      <td>...</td>\n",
       "      <td>...</td>\n",
       "      <td>...</td>\n",
       "      <td>...</td>\n",
       "      <td>...</td>\n",
       "      <td>...</td>\n",
       "    </tr>\n",
       "    <tr>\n",
       "      <th>60</th>\n",
       "      <td>9</td>\n",
       "      <td>GAGGGAGGAAAAGGAAGAGAGGG</td>\n",
       "      <td>RPL3</td>\n",
       "      <td>648</td>\n",
       "      <td>GgGaGAGGAAAgGaAgGAGAGGG</td>\n",
       "      <td>-</td>\n",
       "      <td>5</td>\n",
       "      <td>RPL3.tsv</td>\n",
       "      <td>0.124738</td>\n",
       "      <td>0.008741</td>\n",
       "    </tr>\n",
       "    <tr>\n",
       "      <th>61</th>\n",
       "      <td>41</td>\n",
       "      <td>GGACAAGCACAGAGACAGCAGGG</td>\n",
       "      <td>RPL3</td>\n",
       "      <td>863</td>\n",
       "      <td>GGAtcAGCACAGgccCAGgAGGG</td>\n",
       "      <td>+</td>\n",
       "      <td>6</td>\n",
       "      <td>RPL3.tsv</td>\n",
       "      <td>0.124334</td>\n",
       "      <td>0.052120</td>\n",
       "    </tr>\n",
       "    <tr>\n",
       "      <th>62</th>\n",
       "      <td>2</td>\n",
       "      <td>GGAGGTGGTGGGCGAAACTGGGG</td>\n",
       "      <td>RPL3</td>\n",
       "      <td>2445</td>\n",
       "      <td>tGAGtTGcTGtGCaAAcCTGGGG</td>\n",
       "      <td>-</td>\n",
       "      <td>6</td>\n",
       "      <td>RPL3.tsv</td>\n",
       "      <td>0.123335</td>\n",
       "      <td>0.008742</td>\n",
       "    </tr>\n",
       "    <tr>\n",
       "      <th>63</th>\n",
       "      <td>20</td>\n",
       "      <td>TGGCCCCATAGAGAGCAAGGAGG</td>\n",
       "      <td>RPL3</td>\n",
       "      <td>325</td>\n",
       "      <td>TGGCCgCtTccAGAcCAtGGAGG</td>\n",
       "      <td>-</td>\n",
       "      <td>6</td>\n",
       "      <td>RPL3.tsv</td>\n",
       "      <td>0.121903</td>\n",
       "      <td>0.056749</td>\n",
       "    </tr>\n",
       "    <tr>\n",
       "      <th>64</th>\n",
       "      <td>16</td>\n",
       "      <td>GCAGGAGGTAAAGAAACCCGGGG</td>\n",
       "      <td>RPL3</td>\n",
       "      <td>6308</td>\n",
       "      <td>ttgGGAGGTAAAGAAgCttGGGG</td>\n",
       "      <td>-</td>\n",
       "      <td>6</td>\n",
       "      <td>RPL3.tsv</td>\n",
       "      <td>0.121645</td>\n",
       "      <td>0.008748</td>\n",
       "    </tr>\n",
       "  </tbody>\n",
       "</table>\n",
       "<p>1104248 rows × 10 columns</p>\n",
       "</div>"
      ],
      "text/plain": [
       "      0                        1         2     3                        4  5  \\\n",
       "0   133  TCGCCCAGGTTGGAGTGCAGTGG  SERPIND1   605  TtGtCCAGGcTGGAGTGCAGTGG  -   \n",
       "1   210  GGACAGCGGGCAGAAAGCACTGG  SERPIND1  7299  aGctAaCtaGCAGAAAGCACTGG  -   \n",
       "2   121  TCGCCCAGGTTGGAGTGCAGTGG  SERPIND1   605  TtGtCCAGGcTGGAGTGCAGTGG  -   \n",
       "3   127  TCGCCCAGGTTGGAGTGCAGTGG  SERPIND1   605  TtGtCCAGGcTGGAGTGCAGTGG  -   \n",
       "4   139  TCGCCCAGGTTGGAGTGCAGTGG  SERPIND1   605  TtGtCCAGGcTGGAGTGCAGTGG  -   \n",
       "..  ...                      ...       ...   ...                      ... ..   \n",
       "60    9  GAGGGAGGAAAAGGAAGAGAGGG      RPL3   648  GgGaGAGGAAAgGaAgGAGAGGG  -   \n",
       "61   41  GGACAAGCACAGAGACAGCAGGG      RPL3   863  GGAtcAGCACAGgccCAGgAGGG  +   \n",
       "62    2  GGAGGTGGTGGGCGAAACTGGGG      RPL3  2445  tGAGtTGcTGtGCaAAcCTGGGG  -   \n",
       "63   20  TGGCCCCATAGAGAGCAAGGAGG      RPL3   325  TGGCCgCtTccAGAcCAtGGAGG  -   \n",
       "64   16  GCAGGAGGTAAAGAAACCCGGGG      RPL3  6308  ttgGGAGGTAAAGAAgCttGGGG  -   \n",
       "\n",
       "    6             7         8         9  \n",
       "0   3  SERPIND1.tsv  0.485458  0.009050  \n",
       "1   6  SERPIND1.tsv  0.485150  0.010162  \n",
       "2   3  SERPIND1.tsv  0.484932  0.009037  \n",
       "3   3  SERPIND1.tsv  0.483757  0.009051  \n",
       "4   3  SERPIND1.tsv  0.483551  0.009033  \n",
       ".. ..           ...       ...       ...  \n",
       "60  5      RPL3.tsv  0.124738  0.008741  \n",
       "61  6      RPL3.tsv  0.124334  0.052120  \n",
       "62  6      RPL3.tsv  0.123335  0.008742  \n",
       "63  6      RPL3.tsv  0.121903  0.056749  \n",
       "64  6      RPL3.tsv  0.121645  0.008748  \n",
       "\n",
       "[1104248 rows x 10 columns]"
      ]
     },
     "execution_count": 25,
     "metadata": {},
     "output_type": "execute_result"
    }
   ],
   "source": [
    "total"
   ]
  },
  {
   "cell_type": "code",
   "execution_count": 26,
   "metadata": {},
   "outputs": [],
   "source": [
    "from pylab import rcParams\n",
    "\n",
    "rcParams[\"figure.figsize\"] = (12,15)"
   ]
  },
  {
   "cell_type": "code",
   "execution_count": 27,
   "metadata": {},
   "outputs": [],
   "source": [
    "m_bins, m_edges = np.histogram(total[8].values)\n",
    "v_bins, v_edges = np.histogram(total[9].values)"
   ]
  },
  {
   "cell_type": "code",
   "execution_count": 28,
   "metadata": {},
   "outputs": [
    {
     "data": {
      "text/plain": [
       "array([0.10362154, 0.14250595, 0.18139036, 0.22027477, 0.25915918,\n",
       "       0.29804359, 0.336928  , 0.37581241, 0.41469682, 0.45358123,\n",
       "       0.49246565])"
      ]
     },
     "execution_count": 28,
     "metadata": {},
     "output_type": "execute_result"
    }
   ],
   "source": [
    "m_edges"
   ]
  },
  {
   "cell_type": "code",
   "execution_count": 29,
   "metadata": {},
   "outputs": [
    {
     "data": {
      "text/plain": [
       "array([0.00872106, 0.02550935, 0.04229765, 0.05908595, 0.07587425,\n",
       "       0.09266254, 0.10945084, 0.12623914, 0.14302744, 0.15981573,\n",
       "       0.17660403])"
      ]
     },
     "execution_count": 29,
     "metadata": {},
     "output_type": "execute_result"
    }
   ],
   "source": [
    "v_edges"
   ]
  },
  {
   "cell_type": "code",
   "execution_count": 30,
   "metadata": {},
   "outputs": [],
   "source": [
    "def bin_n(x, edges):\n",
    "    if x <= edges[0]:\n",
    "        return(1)\n",
    "    elif x >= edges[-1]:\n",
    "        return(edges.shape[0]-1)\n",
    "    else:\n",
    "        return((edges > x).tolist().index(True))"
   ]
  },
  {
   "cell_type": "code",
   "execution_count": 31,
   "metadata": {},
   "outputs": [],
   "source": [
    "total[10] = total[8].apply(lambda x: bin_n(x, m_edges))\n",
    "total[11] = total[9].apply(lambda x: bin_n(x, v_edges))"
   ]
  },
  {
   "cell_type": "code",
   "execution_count": 32,
   "metadata": {},
   "outputs": [],
   "source": [
    "known_ots = pd.read_csv(\n",
    "    \"/home/bakirillov/HDD/data/Svetlana_data/Table_S8_machine_learning_input.txt\", index_col=0, sep=\"\\t\"\n",
    ")"
   ]
  },
  {
   "cell_type": "code",
   "execution_count": 33,
   "metadata": {},
   "outputs": [],
   "source": [
    "def n_mms(a, b):\n",
    "    return(np.sum([int(c != d) for c,d in zip(a, b)]))"
   ]
  },
  {
   "cell_type": "code",
   "execution_count": 34,
   "metadata": {},
   "outputs": [],
   "source": [
    "only_those = [n_mms(a, b) > 0 for a,b in zip(known_ots[\"genome input\"], known_ots[\"sgRNA input\"])]"
   ]
  },
  {
   "cell_type": "code",
   "execution_count": 35,
   "metadata": {},
   "outputs": [
    {
     "data": {
      "text/plain": [
       "(26248, 10)"
      ]
     },
     "execution_count": 35,
     "metadata": {},
     "output_type": "execute_result"
    }
   ],
   "source": [
    "known_ots.shape"
   ]
  },
  {
   "cell_type": "code",
   "execution_count": 36,
   "metadata": {},
   "outputs": [
    {
     "data": {
      "text/plain": [
       "(26248, 10)"
      ]
     },
     "execution_count": 36,
     "metadata": {},
     "output_type": "execute_result"
    }
   ],
   "source": [
    "known_ots[only_those].shape"
   ]
  },
  {
   "cell_type": "code",
   "execution_count": 37,
   "metadata": {},
   "outputs": [],
   "source": [
    "u2 = ImperfectMatchTransform(\"NGG\", False, False, fold=False, cut_at_start=2, cut_at_end=1)\n",
    "transformer2 = transforms.Compose(\n",
    "    [\n",
    "        u2, ToTensor(cudap=True)\n",
    "    ]\n",
    ")"
   ]
  },
  {
   "cell_type": "code",
   "execution_count": 38,
   "metadata": {},
   "outputs": [],
   "source": [
    "ko_set = WeissmanDataset(known_ots, np.arange(known_ots.shape[0]), transformer2)\n",
    "ko_set_loader = DataLoader(ko_set, shuffle=False, batch_size=256)"
   ]
  },
  {
   "cell_type": "code",
   "execution_count": 39,
   "metadata": {},
   "outputs": [
    {
     "name": "stderr",
     "output_type": "stream",
     "text": [
      "100%|██████████| 103/103 [00:13<00:00,  7.62it/s]\n"
     ]
    }
   ],
   "source": [
    "ko_w_oa = []\n",
    "ko_w_va = []\n",
    "for transformed_batch, _ in tqdm(ko_set_loader):\n",
    "    ko_w = w_model(transformed_batch)\n",
    "    ko_w_o = w_model.likelihood(\n",
    "        ko_w[0]\n",
    "    ).mean.mean(0).cpu().data.numpy()\n",
    "    ko_w_v = w_model.likelihood(\n",
    "        ko_w[0]\n",
    "    ).variance.mean(0).cpu().data.numpy()\n",
    "    ko_w_oa.extend(ko_w_o)\n",
    "    ko_w_va.extend(ko_w_v)"
   ]
  },
  {
   "cell_type": "code",
   "execution_count": 40,
   "metadata": {
    "scrolled": true
   },
   "outputs": [
    {
     "data": {
      "text/plain": [
       "26248"
      ]
     },
     "execution_count": 40,
     "metadata": {},
     "output_type": "execute_result"
    }
   ],
   "source": [
    "len(ko_w_va)"
   ]
  },
  {
   "cell_type": "code",
   "execution_count": null,
   "metadata": {},
   "outputs": [],
   "source": []
  },
  {
   "cell_type": "code",
   "execution_count": 84,
   "metadata": {},
   "outputs": [],
   "source": [
    "def get_offtarget_types(data, sgrna, activity_t=0.15, variance_t=0.015):\n",
    "    cur_r = data[data[1] == sgrna]\n",
    "    good_b = cur_r[8] < activity_t\n",
    "    safe_b = cur_r[9] < variance_t\n",
    "    good = cur_r[good_b].shape[0]\n",
    "    safe = cur_r[safe_b].shape[0]\n",
    "    good_and_safe = cur_r[np.logical_and(good_b, safe_b)].shape[0]\n",
    "    good_xor_safe = cur_r[np.logical_xor(good_b, safe_b)].shape[0]\n",
    "    bad_and_safe = cur_r[np.logical_and(safe_b, np.logical_not(good_b))].shape[0]\n",
    "    good_and_unsafe = cur_r[np.logical_and(np.logical_not(safe_b), good_b)].shape[0]\n",
    "    bad_and_unsafe = cur_r[np.logical_and(np.logical_not(safe_b), np.logical_not(good_b))].shape[0]\n",
    "    bad_or_unsafe = cur_r[np.logical_or(np.logical_not(safe_b), np.logical_not(good_b))].shape[0]\n",
    "    return(\n",
    "        cur_r.shape[0], good/cur_r.shape[0], safe/cur_r.shape[0], good_and_safe/cur_r.shape[0], \n",
    "        bad_and_safe/cur_r.shape[0], good_and_unsafe/cur_r.shape[0], \n",
    "        bad_and_unsafe/cur_r.shape[0], bad_or_unsafe/cur_r.shape[0]\n",
    "    )"
   ]
  },
  {
   "cell_type": "code",
   "execution_count": 86,
   "metadata": {},
   "outputs": [
    {
     "name": "stderr",
     "output_type": "stream",
     "text": [
      "100%|██████████| 1000/1000 [00:54<00:00, 18.19it/s]\n"
     ]
    }
   ],
   "source": [
    "offtarget_statistics = {\n",
    "    \"total\": [], \"good\": [], \"safe\": [], \"good and safe\": [],\n",
    "    \"bad and safe\": [], \"good and unsafe\": [], \"bad and unsafe\": [],\n",
    "    \"bad or unsafe\": [],\n",
    "}\n",
    "for a in tqdm(TOP10):\n",
    "    b = get_offtarget_types(total, a)\n",
    "    offtarget_statistics[\"total\"].append(b[0])\n",
    "    offtarget_statistics[\"good\"].append(b[1])\n",
    "    offtarget_statistics[\"safe\"].append(b[2])\n",
    "    offtarget_statistics[\"good and safe\"].append(b[3])\n",
    "    offtarget_statistics[\"bad and safe\"].append(b[4])\n",
    "    offtarget_statistics[\"good and unsafe\"].append(b[5])\n",
    "    offtarget_statistics[\"bad and unsafe\"].append(b[6])\n",
    "    offtarget_statistics[\"bad or unsafe\"].append(b[7])\n",
    "offtarget_statistics = pd.DataFrame(offtarget_statistics)"
   ]
  },
  {
   "cell_type": "code",
   "execution_count": 87,
   "metadata": {},
   "outputs": [
    {
     "data": {
      "text/html": [
       "<div>\n",
       "<style scoped>\n",
       "    .dataframe tbody tr th:only-of-type {\n",
       "        vertical-align: middle;\n",
       "    }\n",
       "\n",
       "    .dataframe tbody tr th {\n",
       "        vertical-align: top;\n",
       "    }\n",
       "\n",
       "    .dataframe thead th {\n",
       "        text-align: right;\n",
       "    }\n",
       "</style>\n",
       "<table border=\"1\" class=\"dataframe\">\n",
       "  <thead>\n",
       "    <tr style=\"text-align: right;\">\n",
       "      <th></th>\n",
       "      <th>total</th>\n",
       "      <th>good</th>\n",
       "      <th>safe</th>\n",
       "      <th>good and safe</th>\n",
       "      <th>bad and safe</th>\n",
       "      <th>good and unsafe</th>\n",
       "      <th>bad and unsafe</th>\n",
       "      <th>bad or unsafe</th>\n",
       "    </tr>\n",
       "  </thead>\n",
       "  <tbody>\n",
       "    <tr>\n",
       "      <th>0</th>\n",
       "      <td>154</td>\n",
       "      <td>0.551948</td>\n",
       "      <td>0.740260</td>\n",
       "      <td>0.292208</td>\n",
       "      <td>0.448052</td>\n",
       "      <td>0.259740</td>\n",
       "      <td>0.000000</td>\n",
       "      <td>0.707792</td>\n",
       "    </tr>\n",
       "    <tr>\n",
       "      <th>1</th>\n",
       "      <td>74</td>\n",
       "      <td>0.810811</td>\n",
       "      <td>0.743243</td>\n",
       "      <td>0.554054</td>\n",
       "      <td>0.189189</td>\n",
       "      <td>0.256757</td>\n",
       "      <td>0.000000</td>\n",
       "      <td>0.445946</td>\n",
       "    </tr>\n",
       "    <tr>\n",
       "      <th>2</th>\n",
       "      <td>259</td>\n",
       "      <td>0.849421</td>\n",
       "      <td>0.610039</td>\n",
       "      <td>0.459459</td>\n",
       "      <td>0.150579</td>\n",
       "      <td>0.389961</td>\n",
       "      <td>0.000000</td>\n",
       "      <td>0.540541</td>\n",
       "    </tr>\n",
       "    <tr>\n",
       "      <th>3</th>\n",
       "      <td>59</td>\n",
       "      <td>0.847458</td>\n",
       "      <td>0.423729</td>\n",
       "      <td>0.271186</td>\n",
       "      <td>0.152542</td>\n",
       "      <td>0.576271</td>\n",
       "      <td>0.000000</td>\n",
       "      <td>0.728814</td>\n",
       "    </tr>\n",
       "    <tr>\n",
       "      <th>4</th>\n",
       "      <td>1085</td>\n",
       "      <td>0.558525</td>\n",
       "      <td>0.894931</td>\n",
       "      <td>0.453456</td>\n",
       "      <td>0.441475</td>\n",
       "      <td>0.105069</td>\n",
       "      <td>0.000000</td>\n",
       "      <td>0.546544</td>\n",
       "    </tr>\n",
       "    <tr>\n",
       "      <th>...</th>\n",
       "      <td>...</td>\n",
       "      <td>...</td>\n",
       "      <td>...</td>\n",
       "      <td>...</td>\n",
       "      <td>...</td>\n",
       "      <td>...</td>\n",
       "      <td>...</td>\n",
       "      <td>...</td>\n",
       "    </tr>\n",
       "    <tr>\n",
       "      <th>995</th>\n",
       "      <td>149</td>\n",
       "      <td>0.892617</td>\n",
       "      <td>0.489933</td>\n",
       "      <td>0.389262</td>\n",
       "      <td>0.100671</td>\n",
       "      <td>0.503356</td>\n",
       "      <td>0.006711</td>\n",
       "      <td>0.610738</td>\n",
       "    </tr>\n",
       "    <tr>\n",
       "      <th>996</th>\n",
       "      <td>200</td>\n",
       "      <td>0.935000</td>\n",
       "      <td>0.615000</td>\n",
       "      <td>0.550000</td>\n",
       "      <td>0.065000</td>\n",
       "      <td>0.385000</td>\n",
       "      <td>0.000000</td>\n",
       "      <td>0.450000</td>\n",
       "    </tr>\n",
       "    <tr>\n",
       "      <th>997</th>\n",
       "      <td>77</td>\n",
       "      <td>0.909091</td>\n",
       "      <td>0.480519</td>\n",
       "      <td>0.389610</td>\n",
       "      <td>0.090909</td>\n",
       "      <td>0.519481</td>\n",
       "      <td>0.000000</td>\n",
       "      <td>0.610390</td>\n",
       "    </tr>\n",
       "    <tr>\n",
       "      <th>998</th>\n",
       "      <td>100</td>\n",
       "      <td>0.820000</td>\n",
       "      <td>0.410000</td>\n",
       "      <td>0.230000</td>\n",
       "      <td>0.180000</td>\n",
       "      <td>0.590000</td>\n",
       "      <td>0.000000</td>\n",
       "      <td>0.770000</td>\n",
       "    </tr>\n",
       "    <tr>\n",
       "      <th>999</th>\n",
       "      <td>575</td>\n",
       "      <td>0.987826</td>\n",
       "      <td>0.123478</td>\n",
       "      <td>0.111304</td>\n",
       "      <td>0.012174</td>\n",
       "      <td>0.876522</td>\n",
       "      <td>0.000000</td>\n",
       "      <td>0.888696</td>\n",
       "    </tr>\n",
       "  </tbody>\n",
       "</table>\n",
       "<p>1000 rows × 8 columns</p>\n",
       "</div>"
      ],
      "text/plain": [
       "     total      good      safe  good and safe  bad and safe  good and unsafe  \\\n",
       "0      154  0.551948  0.740260       0.292208      0.448052         0.259740   \n",
       "1       74  0.810811  0.743243       0.554054      0.189189         0.256757   \n",
       "2      259  0.849421  0.610039       0.459459      0.150579         0.389961   \n",
       "3       59  0.847458  0.423729       0.271186      0.152542         0.576271   \n",
       "4     1085  0.558525  0.894931       0.453456      0.441475         0.105069   \n",
       "..     ...       ...       ...            ...           ...              ...   \n",
       "995    149  0.892617  0.489933       0.389262      0.100671         0.503356   \n",
       "996    200  0.935000  0.615000       0.550000      0.065000         0.385000   \n",
       "997     77  0.909091  0.480519       0.389610      0.090909         0.519481   \n",
       "998    100  0.820000  0.410000       0.230000      0.180000         0.590000   \n",
       "999    575  0.987826  0.123478       0.111304      0.012174         0.876522   \n",
       "\n",
       "     bad and unsafe  bad or unsafe  \n",
       "0          0.000000       0.707792  \n",
       "1          0.000000       0.445946  \n",
       "2          0.000000       0.540541  \n",
       "3          0.000000       0.728814  \n",
       "4          0.000000       0.546544  \n",
       "..              ...            ...  \n",
       "995        0.006711       0.610738  \n",
       "996        0.000000       0.450000  \n",
       "997        0.000000       0.610390  \n",
       "998        0.000000       0.770000  \n",
       "999        0.000000       0.888696  \n",
       "\n",
       "[1000 rows x 8 columns]"
      ]
     },
     "execution_count": 87,
     "metadata": {},
     "output_type": "execute_result"
    }
   ],
   "source": [
    "offtarget_statistics"
   ]
  },
  {
   "cell_type": "code",
   "execution_count": 88,
   "metadata": {},
   "outputs": [
    {
     "data": {
      "text/plain": [
       "total              1104.101000\n",
       "good                  0.799785\n",
       "safe                  0.619069\n",
       "good and safe         0.419041\n",
       "bad and safe          0.200028\n",
       "good and unsafe       0.380743\n",
       "bad and unsafe        0.000188\n",
       "bad or unsafe         0.580959\n",
       "dtype: float64"
      ]
     },
     "execution_count": 88,
     "metadata": {},
     "output_type": "execute_result"
    }
   ],
   "source": [
    "offtarget_statistics.mean()"
   ]
  },
  {
   "cell_type": "code",
   "execution_count": 89,
   "metadata": {},
   "outputs": [
    {
     "data": {
      "text/plain": [
       "total              5308.207603\n",
       "good                  0.129617\n",
       "safe                  0.169236\n",
       "good and safe         0.139307\n",
       "bad and safe          0.129150\n",
       "good and unsafe       0.169474\n",
       "bad and unsafe        0.001589\n",
       "bad or unsafe         0.139307\n",
       "dtype: float64"
      ]
     },
     "execution_count": 89,
     "metadata": {},
     "output_type": "execute_result"
    }
   ],
   "source": [
    "offtarget_statistics.std()"
   ]
  },
  {
   "cell_type": "code",
   "execution_count": 67,
   "metadata": {},
   "outputs": [
    {
     "name": "stderr",
     "output_type": "stream",
     "text": [
      "/home/bakirillov/anaconda3/envs/lapki/lib/python3.7/site-packages/ipykernel_launcher.py:51: UserWarning: Matplotlib is currently using module://ipykernel.pylab.backend_inline, which is a non-GUI backend, so cannot show the figure.\n"
     ]
    },
    {
     "data": {
      "image/png": "[encoded data removed]",
      "text/plain": [
       "<Figure size 864x1080 with 4 Axes>"
      ]
     },
     "metadata": {
      "needs_background": "light"
     },
     "output_type": "display_data"
    }
   ],
   "source": [
    "fig, ax = plt.subplots(2, 2)\n",
    "#fig.suptitle('Off-targets for the best on-target gRNAs')\n",
    "ax[0][0].hist(total[8].values, density=True, bins=100, color=\"blue\")\n",
    "ax[0][0].hist(ko_w_oa, bins=20, density=True, color=(1,0,0,0.2))\n",
    "ax[0][0].axvline(0.15, color=\"red\")\n",
    "ax[0][0].legend(\n",
    "    handles=[\n",
    "        Patch(color=\"red\", label=\"quality threshold\"), \n",
    "        Patch(color=(1,0,0,0.2), label=\"training set (density)\"),\n",
    "        Patch(color=\"blue\", label=\"chr22 (density)\")\n",
    "    ]\n",
    ")\n",
    "ax[0][0].set_title(\"a. Mean off-target activity distribution\")\n",
    "ax[0][0].set_xlabel(\"Mean activity\")\n",
    "ax[0][0].set_ylabel(\"#offtargets\")\n",
    "ax[0][1].hist(total[9].values, bins=100, density=True, color=\"blue\")\n",
    "ax[0][1].legend(\n",
    "    handles=[\n",
    "        Patch(color=\"red\", label=\"safety threshold\"), \n",
    "        Patch(color=(1,0,0,0.2), label=\"not shown due to having no variance\"),\n",
    "        Patch(color=\"blue\", label=\"chr22 (density)\")\n",
    "    ]\n",
    ")\n",
    "ax[0][1].set_title(\"b. Variance for off-target activity distribution\")\n",
    "ax[0][1].set_xlabel(\"Activity variance\")\n",
    "ax[0][1].set_ylabel(\"#offtargets\")\n",
    "ax[0][1].axvline(0.015, color=\"red\")\n",
    "ax[1][0].scatter(\n",
    "    total[8], total[9], \n",
    "    c=[\"yellow\" if x else \"blue\" for x in np.logical_and(total[8] < 0.15, total[9] < 0.015)]\n",
    ")\n",
    "ax[1][0].legend(\n",
    "    handles=[\n",
    "        Patch(color=\"yellow\", label=\"good and safe\"), Patch(color=\"blue\", label=\"either unsafe or bad\"),\n",
    "        Patch(color=\"red\", label=\"safety and quality thresholds\"), \n",
    "    ]\n",
    ")\n",
    "ax[1][0].set_title(\"c. Mean vs Variance for top 10 off-targets\")\n",
    "ax[1][0].set_xlabel(\"Mean activity\")\n",
    "ax[1][0].set_ylabel(\"Activity variance\")\n",
    "ax[1][0].axvline(0.15, color=\"red\")\n",
    "ax[1][0].axhline(0.015, color=\"red\")\n",
    "ax[1][1].hist(offtarget_statistics[\"good\"], bins=100, color=(0,1,0,0.4))\n",
    "ax[1][1].hist(offtarget_statistics[\"safe\"], bins=100, color=(1,0,0,0.4))\n",
    "ax[1][1].legend(\n",
    "    handles=[Patch(color=(0,1,0,0.4), label=\"good\"), Patch(color=(1,0,0,0.4), label=\"safe\")]\n",
    ")\n",
    "ax[1][1].set_title(\"d. Histogram of good and safe offtargets\")\n",
    "ax[1][1].set_xlabel(\"Proportion of off-targets\")\n",
    "ax[1][1].set_ylabel(\"Number of guides with that proportion of off-targets\")\n",
    "fig.show()"
   ]
  },
  {
   "cell_type": "code",
   "execution_count": 48,
   "metadata": {},
   "outputs": [
    {
     "data": {
      "text/plain": [
       "(36926,)"
      ]
     },
     "execution_count": 48,
     "metadata": {},
     "output_type": "execute_result"
    }
   ],
   "source": [
    "np.arange(total.shape[0])[np.logical_and(total[8] < 0.15, total[9] < 0.015)].shape"
   ]
  },
  {
   "cell_type": "code",
   "execution_count": 64,
   "metadata": {},
   "outputs": [
    {
     "data": {
      "text/html": [
       "<div>\n",
       "<style scoped>\n",
       "    .dataframe tbody tr th:only-of-type {\n",
       "        vertical-align: middle;\n",
       "    }\n",
       "\n",
       "    .dataframe tbody tr th {\n",
       "        vertical-align: top;\n",
       "    }\n",
       "\n",
       "    .dataframe thead th {\n",
       "        text-align: right;\n",
       "    }\n",
       "</style>\n",
       "<table border=\"1\" class=\"dataframe\">\n",
       "  <thead>\n",
       "    <tr style=\"text-align: right;\">\n",
       "      <th></th>\n",
       "      <th>8</th>\n",
       "      <th>9</th>\n",
       "    </tr>\n",
       "  </thead>\n",
       "  <tbody>\n",
       "    <tr>\n",
       "      <th>4</th>\n",
       "      <td>0.145452</td>\n",
       "      <td>0.012006</td>\n",
       "    </tr>\n",
       "    <tr>\n",
       "      <th>5</th>\n",
       "      <td>0.145225</td>\n",
       "      <td>0.011772</td>\n",
       "    </tr>\n",
       "    <tr>\n",
       "      <th>6</th>\n",
       "      <td>0.145096</td>\n",
       "      <td>0.011720</td>\n",
       "    </tr>\n",
       "    <tr>\n",
       "      <th>7</th>\n",
       "      <td>0.143252</td>\n",
       "      <td>0.010751</td>\n",
       "    </tr>\n",
       "    <tr>\n",
       "      <th>8</th>\n",
       "      <td>0.142875</td>\n",
       "      <td>0.010619</td>\n",
       "    </tr>\n",
       "    <tr>\n",
       "      <th>...</th>\n",
       "      <td>...</td>\n",
       "      <td>...</td>\n",
       "    </tr>\n",
       "    <tr>\n",
       "      <th>61</th>\n",
       "      <td>0.121515</td>\n",
       "      <td>0.008753</td>\n",
       "    </tr>\n",
       "    <tr>\n",
       "      <th>62</th>\n",
       "      <td>0.121411</td>\n",
       "      <td>0.008757</td>\n",
       "    </tr>\n",
       "    <tr>\n",
       "      <th>63</th>\n",
       "      <td>0.121406</td>\n",
       "      <td>0.008750</td>\n",
       "    </tr>\n",
       "    <tr>\n",
       "      <th>64</th>\n",
       "      <td>0.121377</td>\n",
       "      <td>0.008761</td>\n",
       "    </tr>\n",
       "    <tr>\n",
       "      <th>1</th>\n",
       "      <td>0.136306</td>\n",
       "      <td>0.009416</td>\n",
       "    </tr>\n",
       "  </tbody>\n",
       "</table>\n",
       "<p>36926 rows × 2 columns</p>\n",
       "</div>"
      ],
      "text/plain": [
       "           8         9\n",
       "4   0.145452  0.012006\n",
       "5   0.145225  0.011772\n",
       "6   0.145096  0.011720\n",
       "7   0.143252  0.010751\n",
       "8   0.142875  0.010619\n",
       "..       ...       ...\n",
       "61  0.121515  0.008753\n",
       "62  0.121411  0.008757\n",
       "63  0.121406  0.008750\n",
       "64  0.121377  0.008761\n",
       "1   0.136306  0.009416\n",
       "\n",
       "[36926 rows x 2 columns]"
      ]
     },
     "execution_count": 64,
     "metadata": {},
     "output_type": "execute_result"
    }
   ],
   "source": [
    "total[[8,9]][np.logical_and(total[8] < 0.15, total[9] < 0.015)]"
   ]
  },
  {
   "cell_type": "code",
   "execution_count": 68,
   "metadata": {},
   "outputs": [
    {
     "data": {
      "text/plain": [
       "0.13314853742489877"
      ]
     },
     "execution_count": 68,
     "metadata": {},
     "output_type": "execute_result"
    }
   ],
   "source": [
    "np.mean(total[[8,9]][np.logical_and(total[8] < 0.15, total[9] < 0.015)][8])"
   ]
  },
  {
   "cell_type": "code",
   "execution_count": 69,
   "metadata": {},
   "outputs": [
    {
     "data": {
      "text/plain": [
       "0.008893503448181394"
      ]
     },
     "execution_count": 69,
     "metadata": {},
     "output_type": "execute_result"
    }
   ],
   "source": [
    "np.std(total[[8,9]][np.logical_and(total[8] < 0.15, total[9] < 0.015)][8])"
   ]
  },
  {
   "cell_type": "code",
   "execution_count": 70,
   "metadata": {},
   "outputs": [
    {
     "data": {
      "text/plain": [
       "(794,)"
      ]
     },
     "execution_count": 70,
     "metadata": {},
     "output_type": "execute_result"
    }
   ],
   "source": [
    "np.arange(total.shape[0])[np.logical_and(total[8] > 0.15, total[9] > 0.015)].shape"
   ]
  },
  {
   "cell_type": "code",
   "execution_count": 81,
   "metadata": {},
   "outputs": [
    {
     "data": {
      "text/plain": [
       "0.5480444610268708"
      ]
     },
     "execution_count": 81,
     "metadata": {},
     "output_type": "execute_result"
    }
   ],
   "source": [
    "total[np.logical_and(total[8] < 0.15, total[9] < 0.015)].shape[0]/total.shape[0]#good and safe"
   ]
  },
  {
   "cell_type": "code",
   "execution_count": 82,
   "metadata": {},
   "outputs": [
    {
     "data": {
      "text/plain": [
       "0.7329186921778441"
      ]
     },
     "execution_count": 82,
     "metadata": {},
     "output_type": "execute_result"
    }
   ],
   "source": [
    "total[total[8] < 0.15].shape[0]/total.shape[0]#good"
   ]
  },
  {
   "cell_type": "code",
   "execution_count": 83,
   "metadata": {},
   "outputs": [
    {
     "data": {
      "text/plain": [
       "0.814406727474263"
      ]
     },
     "execution_count": 83,
     "metadata": {},
     "output_type": "execute_result"
    }
   ],
   "source": [
    "total[total[9] < 0.015].shape[0]/total.shape[0]#safe"
   ]
  },
  {
   "cell_type": "code",
   "execution_count": 74,
   "metadata": {},
   "outputs": [
    {
     "data": {
      "text/plain": [
       "(605177, 12)"
      ]
     },
     "execution_count": 74,
     "metadata": {},
     "output_type": "execute_result"
    }
   ],
   "source": [
    "total[np.logical_and(total[8] < 0.15, total[9] < 0.015)].shape"
   ]
  },
  {
   "cell_type": "code",
   "execution_count": 71,
   "metadata": {},
   "outputs": [
    {
     "data": {
      "text/plain": [
       "0.13314853742489877"
      ]
     },
     "execution_count": 71,
     "metadata": {},
     "output_type": "execute_result"
    }
   ],
   "source": [
    "np.mean(total[8][np.logical_and(total[8] < 0.15, total[9] < 0.015)])"
   ]
  },
  {
   "cell_type": "code",
   "execution_count": 72,
   "metadata": {},
   "outputs": [
    {
     "data": {
      "text/plain": [
       "0.009677301550762655"
      ]
     },
     "execution_count": 72,
     "metadata": {},
     "output_type": "execute_result"
    }
   ],
   "source": [
    "np.mean(total[9][np.logical_and(total[8] < 0.15, total[9] < 0.015)])"
   ]
  },
  {
   "cell_type": "code",
   "execution_count": 73,
   "metadata": {},
   "outputs": [
    {
     "data": {
      "text/plain": [
       "1104248"
      ]
     },
     "execution_count": 73,
     "metadata": {},
     "output_type": "execute_result"
    }
   ],
   "source": [
    "total.shape[0]"
   ]
  },
  {
   "cell_type": "code",
   "execution_count": 94,
   "metadata": {},
   "outputs": [
    {
     "data": {
      "image/png": "[encoded data removed]",
      "text/plain": [
       "<Figure size 864x720 with 4 Axes>"
      ]
     },
     "metadata": {
      "needs_background": "light"
     },
     "output_type": "display_data"
    }
   ],
   "source": [
    "fig, ax = plt.subplots(2, 2)\n",
    "#fig.suptitle('Off-targets for the best on-target gRNAs')\n",
    "ax[0][0].hist(total[8].values, density=True, bins=20)\n",
    "ax[0][0].hist(ko_w_oa, bins=20, density=True, color=(1,0,0,0.2))\n",
    "ax[0][0].set_title(\"a. Mean off-target activity distribution\")\n",
    "ax[0][0].set_xlabel(\"Mean activity\")\n",
    "ax[0][0].set_ylabel(\"#offtargets\")\n",
    "ax[0][1].hist(total[9].values, bins=20)\n",
    "#ax[0][1].hist(ko_w_va, bins=20, density=False, color=(1,0,0,0.2))\n",
    "#ax[0][1].set_ylim((0,100))\n",
    "ax[0][1].set_title(\"b. Variance for off-target activity distribution\")\n",
    "ax[0][1].set_xlabel(\"Activity variance\")\n",
    "ax[0][1].set_ylabel(\"#offtargets\")\n",
    "ax[1][0].scatter(total[8], total[9])\n",
    "ax[1][0].set_title(\"c. Mean vs Variance for top 10 off-targets\")\n",
    "ax[1][0].set_xlabel(\"Mean activity\")\n",
    "ax[1][0].set_ylabel(\"Activity variance\")\n",
    "ax[1][1].imshow(pd.crosstab(total[10], total[11]).values)\n",
    "ax[1][1].set_title(\"d. Mean vs Variance heatmap\")\n",
    "ax[1][1].set_xlabel(\"Activity variance\")\n",
    "ax[1][1].set_ylabel(\"Mean activity\")\n",
    "fig.show()"
   ]
  },
  {
   "cell_type": "code",
   "execution_count": 57,
   "metadata": {},
   "outputs": [
    {
     "data": {
      "text/plain": [
       "array([1, 0, 0, 0, 0, 0, 0, 1, 0, 1, 0, 0])"
      ]
     },
     "execution_count": 57,
     "metadata": {},
     "output_type": "execute_result"
    }
   ],
   "source": [
    "onehot([1,2,3])"
   ]
  },
  {
   "cell_type": "code",
   "execution_count": 89,
   "metadata": {},
   "outputs": [
    {
     "data": {
      "text/plain": [
       "46"
      ]
     },
     "execution_count": 89,
     "metadata": {},
     "output_type": "execute_result"
    }
   ],
   "source": [
    "len(pop[0])"
   ]
  },
  {
   "cell_type": "code",
   "execution_count": 94,
   "metadata": {},
   "outputs": [],
   "source": [
    "u = correct_order(onehot(pop[0][0:23]))"
   ]
  },
  {
   "cell_type": "code",
   "execution_count": 96,
   "metadata": {},
   "outputs": [
    {
     "data": {
      "text/plain": [
       "(92,)"
      ]
     },
     "execution_count": 96,
     "metadata": {},
     "output_type": "execute_result"
    }
   ],
   "source": [
    "u.shape"
   ]
  },
  {
   "cell_type": "code",
   "execution_count": 98,
   "metadata": {},
   "outputs": [
    {
     "data": {
      "text/plain": [
       "<matplotlib.image.AxesImage at 0x7f609fdbc390>"
      ]
     },
     "execution_count": 98,
     "metadata": {},
     "output_type": "execute_result"
    },
    {
     "data": {
      "image/png": "[encoded data removed]",
      "text/plain": [
       "<Figure size 432x288 with 1 Axes>"
      ]
     },
     "metadata": {
      "needs_background": "light"
     },
     "output_type": "display_data"
    }
   ],
   "source": [
    "plt.imshow(u.reshape(4, 23))"
   ]
  },
  {
   "cell_type": "code",
   "execution_count": 101,
   "metadata": {},
   "outputs": [
    {
     "data": {
      "text/plain": [
       "(2, 4, 23)"
      ]
     },
     "execution_count": 101,
     "metadata": {},
     "output_type": "execute_result"
    }
   ],
   "source": [
    "np.stack([u.reshape(4, 23),u.reshape(4, 23)]).shape"
   ]
  },
  {
   "cell_type": "code",
   "execution_count": 91,
   "metadata": {},
   "outputs": [
    {
     "data": {
      "text/plain": [
       "23"
      ]
     },
     "execution_count": 91,
     "metadata": {},
     "output_type": "execute_result"
    }
   ],
   "source": [
    "len(pop[0][23:])"
   ]
  },
  {
   "cell_type": "code",
   "execution_count": 201,
   "metadata": {},
   "outputs": [],
   "source": [
    "def active_and_uncertain(x):\n",
    "    first = correct_order(onehot(x[0:23])).reshape(4, 23)\n",
    "    second = correct_order(onehot(x[23:])).reshape(4, 23)\n",
    "    x = torch.from_numpy(np.stack([first,second])).type(torch.FloatTensor)\n",
    "    I = x.reshape(1, 2, 4, 23).cuda()\n",
    "    tb_w = w_model(I)\n",
    "    mlik = w_model.likelihood(\n",
    "        tb_w[0]\n",
    "    )\n",
    "    tb_w_o = mlik.mean.mean(0).cpu().data.numpy()\n",
    "    tb_w_v = mlik.variance.mean(0).cpu().data.numpy()**0.5\n",
    "    mm = sum([int(d==e) for d,e in zip(x[0:23],x[23:])])/23\n",
    "    return(tb_w_o+0.5*tb_w_v+mm)"
   ]
  },
  {
   "cell_type": "code",
   "execution_count": 202,
   "metadata": {},
   "outputs": [],
   "source": [
    "from deap import algorithms"
   ]
  },
  {
   "cell_type": "code",
   "execution_count": 203,
   "metadata": {},
   "outputs": [
    {
     "name": "stderr",
     "output_type": "stream",
     "text": [
      "/home/bakirillov/anaconda3/envs/lapki/lib/python3.7/site-packages/deap/creator.py:141: RuntimeWarning: A class named 'FitnessMax' has already been created and it will be overwritten. Consider deleting previous creation of that class or rename it.\n",
      "  RuntimeWarning)\n",
      "/home/bakirillov/anaconda3/envs/lapki/lib/python3.7/site-packages/deap/creator.py:141: RuntimeWarning: A class named 'Individual' has already been created and it will be overwritten. Consider deleting previous creation of that class or rename it.\n",
      "  RuntimeWarning)\n"
     ]
    }
   ],
   "source": [
    "import random\n",
    "from deap import base, creator, tools, algorithms\n",
    "\n",
    "def evaluate(individual):\n",
    "    return(active_and_uncertain(individual))\n",
    "\n",
    "creator.create(\"FitnessMax\", base.Fitness, weights=(1.0,))\n",
    "creator.create(\"Individual\", list, fitness=creator.FitnessMax)\n",
    "\n",
    "toolbox = base.Toolbox()\n",
    "toolbox.register(\"nucleotide\", random.randint, 1, 4)\n",
    "toolbox.register(\n",
    "    \"individual\", tools.initRepeat, creator.Individual, \n",
    "    toolbox.nucleotide, 2*23\n",
    ")\n",
    "toolbox.register(\n",
    "    \"population\", tools.initRepeat, list, toolbox.individual\n",
    ")\n",
    "\n",
    "toolbox.register(\"evaluate\", evaluate)\n",
    "toolbox.register(\"mate\", tools.cxTwoPoint)\n",
    "toolbox.register(\"mutate\", tools.mutUniformInt, low=1, up=4, indpb=0.05)\n",
    "toolbox.register(\"select\", tools.selTournament, tournsize=3)"
   ]
  },
  {
   "cell_type": "code",
   "execution_count": 204,
   "metadata": {},
   "outputs": [],
   "source": [
    "pop = toolbox.population(n=3000)\n",
    "hof = tools.HallOfFame(100)\n",
    "\n",
    "stats = tools.Statistics(lambda ind: ind.fitness.values)\n",
    "stats.register(\"avg\", np.mean)\n",
    "stats.register(\"std\", np.std)\n",
    "stats.register(\"min\", np.min)\n",
    "stats.register(\"max\", np.max)"
   ]
  },
  {
   "cell_type": "code",
   "execution_count": 205,
   "metadata": {
    "scrolled": true
   },
   "outputs": [
    {
     "ename": "KeyboardInterrupt",
     "evalue": "",
     "output_type": "error",
     "traceback": [
      "\u001b[0;31m---------------------------------------------------------------------------\u001b[0m",
      "\u001b[0;31mKeyboardInterrupt\u001b[0m                         Traceback (most recent call last)",
      "\u001b[0;32m<ipython-input-205-329dfbb53d0a>\u001b[0m in \u001b[0;36m<module>\u001b[0;34m\u001b[0m\n\u001b[1;32m      1\u001b[0m pop, log = algorithms.eaSimple(\n\u001b[1;32m      2\u001b[0m     \u001b[0mpop\u001b[0m\u001b[0;34m,\u001b[0m \u001b[0mtoolbox\u001b[0m\u001b[0;34m,\u001b[0m \u001b[0mcxpb\u001b[0m\u001b[0;34m=\u001b[0m\u001b[0;36m0.5\u001b[0m\u001b[0;34m,\u001b[0m \u001b[0mmutpb\u001b[0m\u001b[0;34m=\u001b[0m\u001b[0;36m0.2\u001b[0m\u001b[0;34m,\u001b[0m \u001b[0mngen\u001b[0m\u001b[0;34m=\u001b[0m\u001b[0;36m40\u001b[0m\u001b[0;34m,\u001b[0m\u001b[0;34m\u001b[0m\u001b[0;34m\u001b[0m\u001b[0m\n\u001b[0;32m----> 3\u001b[0;31m     \u001b[0mstats\u001b[0m\u001b[0;34m=\u001b[0m\u001b[0mstats\u001b[0m\u001b[0;34m,\u001b[0m \u001b[0mhalloffame\u001b[0m\u001b[0;34m=\u001b[0m\u001b[0mhof\u001b[0m\u001b[0;34m,\u001b[0m \u001b[0mverbose\u001b[0m\u001b[0;34m=\u001b[0m\u001b[0;32mTrue\u001b[0m\u001b[0;34m\u001b[0m\u001b[0;34m\u001b[0m\u001b[0m\n\u001b[0m\u001b[1;32m      4\u001b[0m )\n",
      "\u001b[0;32m~/anaconda3/envs/lapki/lib/python3.7/site-packages/deap/algorithms.py\u001b[0m in \u001b[0;36meaSimple\u001b[0;34m(population, toolbox, cxpb, mutpb, ngen, stats, halloffame, verbose)\u001b[0m\n\u001b[1;32m    149\u001b[0m     \u001b[0minvalid_ind\u001b[0m \u001b[0;34m=\u001b[0m \u001b[0;34m[\u001b[0m\u001b[0mind\u001b[0m \u001b[0;32mfor\u001b[0m \u001b[0mind\u001b[0m \u001b[0;32min\u001b[0m \u001b[0mpopulation\u001b[0m \u001b[0;32mif\u001b[0m \u001b[0;32mnot\u001b[0m \u001b[0mind\u001b[0m\u001b[0;34m.\u001b[0m\u001b[0mfitness\u001b[0m\u001b[0;34m.\u001b[0m\u001b[0mvalid\u001b[0m\u001b[0;34m]\u001b[0m\u001b[0;34m\u001b[0m\u001b[0;34m\u001b[0m\u001b[0m\n\u001b[1;32m    150\u001b[0m     \u001b[0mfitnesses\u001b[0m \u001b[0;34m=\u001b[0m \u001b[0mtoolbox\u001b[0m\u001b[0;34m.\u001b[0m\u001b[0mmap\u001b[0m\u001b[0;34m(\u001b[0m\u001b[0mtoolbox\u001b[0m\u001b[0;34m.\u001b[0m\u001b[0mevaluate\u001b[0m\u001b[0;34m,\u001b[0m \u001b[0minvalid_ind\u001b[0m\u001b[0;34m)\u001b[0m\u001b[0;34m\u001b[0m\u001b[0;34m\u001b[0m\u001b[0m\n\u001b[0;32m--> 151\u001b[0;31m     \u001b[0;32mfor\u001b[0m \u001b[0mind\u001b[0m\u001b[0;34m,\u001b[0m \u001b[0mfit\u001b[0m \u001b[0;32min\u001b[0m \u001b[0mzip\u001b[0m\u001b[0;34m(\u001b[0m\u001b[0minvalid_ind\u001b[0m\u001b[0;34m,\u001b[0m \u001b[0mfitnesses\u001b[0m\u001b[0;34m)\u001b[0m\u001b[0;34m:\u001b[0m\u001b[0;34m\u001b[0m\u001b[0;34m\u001b[0m\u001b[0m\n\u001b[0m\u001b[1;32m    152\u001b[0m         \u001b[0mind\u001b[0m\u001b[0;34m.\u001b[0m\u001b[0mfitness\u001b[0m\u001b[0;34m.\u001b[0m\u001b[0mvalues\u001b[0m \u001b[0;34m=\u001b[0m \u001b[0mfit\u001b[0m\u001b[0;34m\u001b[0m\u001b[0;34m\u001b[0m\u001b[0m\n\u001b[1;32m    153\u001b[0m \u001b[0;34m\u001b[0m\u001b[0m\n",
      "\u001b[0;32m<ipython-input-203-1523a5ac0e7f>\u001b[0m in \u001b[0;36mevaluate\u001b[0;34m(individual)\u001b[0m\n\u001b[1;32m      3\u001b[0m \u001b[0;34m\u001b[0m\u001b[0m\n\u001b[1;32m      4\u001b[0m \u001b[0;32mdef\u001b[0m \u001b[0mevaluate\u001b[0m\u001b[0;34m(\u001b[0m\u001b[0mindividual\u001b[0m\u001b[0;34m)\u001b[0m\u001b[0;34m:\u001b[0m\u001b[0;34m\u001b[0m\u001b[0;34m\u001b[0m\u001b[0m\n\u001b[0;32m----> 5\u001b[0;31m     \u001b[0;32mreturn\u001b[0m\u001b[0;34m(\u001b[0m\u001b[0mactive_and_uncertain\u001b[0m\u001b[0;34m(\u001b[0m\u001b[0mindividual\u001b[0m\u001b[0;34m)\u001b[0m\u001b[0;34m)\u001b[0m\u001b[0;34m\u001b[0m\u001b[0;34m\u001b[0m\u001b[0m\n\u001b[0m\u001b[1;32m      6\u001b[0m \u001b[0;34m\u001b[0m\u001b[0m\n\u001b[1;32m      7\u001b[0m \u001b[0mcreator\u001b[0m\u001b[0;34m.\u001b[0m\u001b[0mcreate\u001b[0m\u001b[0;34m(\u001b[0m\u001b[0;34m\"FitnessMax\"\u001b[0m\u001b[0;34m,\u001b[0m \u001b[0mbase\u001b[0m\u001b[0;34m.\u001b[0m\u001b[0mFitness\u001b[0m\u001b[0;34m,\u001b[0m \u001b[0mweights\u001b[0m\u001b[0;34m=\u001b[0m\u001b[0;34m(\u001b[0m\u001b[0;36m1.0\u001b[0m\u001b[0;34m,\u001b[0m\u001b[0;34m)\u001b[0m\u001b[0;34m)\u001b[0m\u001b[0;34m\u001b[0m\u001b[0;34m\u001b[0m\u001b[0m\n",
      "\u001b[0;32m<ipython-input-201-92c4d210555d>\u001b[0m in \u001b[0;36mactive_and_uncertain\u001b[0;34m(x)\u001b[0m\n\u001b[1;32m      4\u001b[0m     \u001b[0mx\u001b[0m \u001b[0;34m=\u001b[0m \u001b[0mtorch\u001b[0m\u001b[0;34m.\u001b[0m\u001b[0mfrom_numpy\u001b[0m\u001b[0;34m(\u001b[0m\u001b[0mnp\u001b[0m\u001b[0;34m.\u001b[0m\u001b[0mstack\u001b[0m\u001b[0;34m(\u001b[0m\u001b[0;34m[\u001b[0m\u001b[0mfirst\u001b[0m\u001b[0;34m,\u001b[0m\u001b[0msecond\u001b[0m\u001b[0;34m]\u001b[0m\u001b[0;34m)\u001b[0m\u001b[0;34m)\u001b[0m\u001b[0;34m.\u001b[0m\u001b[0mtype\u001b[0m\u001b[0;34m(\u001b[0m\u001b[0mtorch\u001b[0m\u001b[0;34m.\u001b[0m\u001b[0mFloatTensor\u001b[0m\u001b[0;34m)\u001b[0m\u001b[0;34m\u001b[0m\u001b[0;34m\u001b[0m\u001b[0m\n\u001b[1;32m      5\u001b[0m     \u001b[0mI\u001b[0m \u001b[0;34m=\u001b[0m \u001b[0mx\u001b[0m\u001b[0;34m.\u001b[0m\u001b[0mreshape\u001b[0m\u001b[0;34m(\u001b[0m\u001b[0;36m1\u001b[0m\u001b[0;34m,\u001b[0m \u001b[0;36m2\u001b[0m\u001b[0;34m,\u001b[0m \u001b[0;36m4\u001b[0m\u001b[0;34m,\u001b[0m \u001b[0;36m23\u001b[0m\u001b[0;34m)\u001b[0m\u001b[0;34m.\u001b[0m\u001b[0mcuda\u001b[0m\u001b[0;34m(\u001b[0m\u001b[0;34m)\u001b[0m\u001b[0;34m\u001b[0m\u001b[0;34m\u001b[0m\u001b[0m\n\u001b[0;32m----> 6\u001b[0;31m     \u001b[0mtb_w\u001b[0m \u001b[0;34m=\u001b[0m \u001b[0mw_model\u001b[0m\u001b[0;34m(\u001b[0m\u001b[0mI\u001b[0m\u001b[0;34m)\u001b[0m\u001b[0;34m\u001b[0m\u001b[0;34m\u001b[0m\u001b[0m\n\u001b[0m\u001b[1;32m      7\u001b[0m     mlik = w_model.likelihood(\n\u001b[1;32m      8\u001b[0m         \u001b[0mtb_w\u001b[0m\u001b[0;34m[\u001b[0m\u001b[0;36m0\u001b[0m\u001b[0;34m]\u001b[0m\u001b[0;34m\u001b[0m\u001b[0;34m\u001b[0m\u001b[0m\n",
      "\u001b[0;32m~/anaconda3/envs/lapki/lib/python3.7/site-packages/gpytorch/module.py\u001b[0m in \u001b[0;36m__call__\u001b[0;34m(self, *inputs, **kwargs)\u001b[0m\n\u001b[1;32m     22\u001b[0m \u001b[0;34m\u001b[0m\u001b[0m\n\u001b[1;32m     23\u001b[0m     \u001b[0;32mdef\u001b[0m \u001b[0m__call__\u001b[0m\u001b[0;34m(\u001b[0m\u001b[0mself\u001b[0m\u001b[0;34m,\u001b[0m \u001b[0;34m*\u001b[0m\u001b[0minputs\u001b[0m\u001b[0;34m,\u001b[0m \u001b[0;34m**\u001b[0m\u001b[0mkwargs\u001b[0m\u001b[0;34m)\u001b[0m\u001b[0;34m:\u001b[0m\u001b[0;34m\u001b[0m\u001b[0;34m\u001b[0m\u001b[0m\n\u001b[0;32m---> 24\u001b[0;31m         \u001b[0moutputs\u001b[0m \u001b[0;34m=\u001b[0m \u001b[0mself\u001b[0m\u001b[0;34m.\u001b[0m\u001b[0mforward\u001b[0m\u001b[0;34m(\u001b[0m\u001b[0;34m*\u001b[0m\u001b[0minputs\u001b[0m\u001b[0;34m,\u001b[0m \u001b[0;34m**\u001b[0m\u001b[0mkwargs\u001b[0m\u001b[0;34m)\u001b[0m\u001b[0;34m\u001b[0m\u001b[0;34m\u001b[0m\u001b[0m\n\u001b[0m\u001b[1;32m     25\u001b[0m         \u001b[0;32mif\u001b[0m \u001b[0misinstance\u001b[0m\u001b[0;34m(\u001b[0m\u001b[0moutputs\u001b[0m\u001b[0;34m,\u001b[0m \u001b[0mlist\u001b[0m\u001b[0;34m)\u001b[0m\u001b[0;34m:\u001b[0m\u001b[0;34m\u001b[0m\u001b[0;34m\u001b[0m\u001b[0m\n\u001b[1;32m     26\u001b[0m             \u001b[0;32mreturn\u001b[0m \u001b[0;34m[\u001b[0m\u001b[0m_validate_module_outputs\u001b[0m\u001b[0;34m(\u001b[0m\u001b[0moutput\u001b[0m\u001b[0;34m)\u001b[0m \u001b[0;32mfor\u001b[0m \u001b[0moutput\u001b[0m \u001b[0;32min\u001b[0m \u001b[0moutputs\u001b[0m\u001b[0;34m]\u001b[0m\u001b[0;34m\u001b[0m\u001b[0;34m\u001b[0m\u001b[0m\n",
      "\u001b[0;32m~/HDD/works/Skoltech/CRISPR_CAD/uace/src/core.py\u001b[0m in \u001b[0;36mforward\u001b[0;34m(self, x)\u001b[0m\n\u001b[1;32m    844\u001b[0m             \u001b[0minternal\u001b[0m\u001b[0;34m.\u001b[0m\u001b[0mreshape\u001b[0m\u001b[0;34m(\u001b[0m\u001b[0mx\u001b[0m\u001b[0;34m.\u001b[0m\u001b[0mshape\u001b[0m\u001b[0;34m[\u001b[0m\u001b[0;36m0\u001b[0m\u001b[0;34m]\u001b[0m\u001b[0;34m,\u001b[0m \u001b[0;34m-\u001b[0m\u001b[0;36m1\u001b[0m\u001b[0;34m)\u001b[0m\u001b[0;34m\u001b[0m\u001b[0;34m\u001b[0m\u001b[0m\n\u001b[1;32m    845\u001b[0m         )  # x.reshape(x.shape[0], -1))\n\u001b[0;32m--> 846\u001b[0;31m         \u001b[0moutput\u001b[0m \u001b[0;34m=\u001b[0m \u001b[0mself\u001b[0m\u001b[0;34m.\u001b[0m\u001b[0mlast_layer\u001b[0m\u001b[0;34m(\u001b[0m\u001b[0mhidden_rep1\u001b[0m\u001b[0;34m)\u001b[0m\u001b[0;34m\u001b[0m\u001b[0;34m\u001b[0m\u001b[0m\n\u001b[0m\u001b[1;32m    847\u001b[0m         \u001b[0;32mif\u001b[0m \u001b[0mself\u001b[0m\u001b[0;34m.\u001b[0m\u001b[0mreturn_encoded\u001b[0m\u001b[0;34m:\u001b[0m\u001b[0;34m\u001b[0m\u001b[0;34m\u001b[0m\u001b[0m\n\u001b[1;32m    848\u001b[0m             \u001b[0;32mreturn\u001b[0m\u001b[0;34m(\u001b[0m\u001b[0moutput\u001b[0m\u001b[0;34m,\u001b[0m \u001b[0mrec\u001b[0m\u001b[0;34m,\u001b[0m \u001b[0minternal\u001b[0m\u001b[0;34m)\u001b[0m\u001b[0;34m\u001b[0m\u001b[0;34m\u001b[0m\u001b[0m\n",
      "\u001b[0;32m~/anaconda3/envs/lapki/lib/python3.7/site-packages/gpytorch/models/deep_gps/deep_gp.py\u001b[0m in \u001b[0;36m__call__\u001b[0;34m(self, inputs, are_samples, **kwargs)\u001b[0m\n\u001b[1;32m     75\u001b[0m         \u001b[0mdeterministic_inputs\u001b[0m \u001b[0;34m=\u001b[0m \u001b[0;32mnot\u001b[0m \u001b[0mare_samples\u001b[0m\u001b[0;34m\u001b[0m\u001b[0;34m\u001b[0m\u001b[0m\n\u001b[1;32m     76\u001b[0m         \u001b[0;32mif\u001b[0m \u001b[0misinstance\u001b[0m\u001b[0;34m(\u001b[0m\u001b[0minputs\u001b[0m\u001b[0;34m,\u001b[0m \u001b[0mMultitaskMultivariateNormal\u001b[0m\u001b[0;34m)\u001b[0m\u001b[0;34m:\u001b[0m\u001b[0;34m\u001b[0m\u001b[0;34m\u001b[0m\u001b[0m\n\u001b[0;32m---> 77\u001b[0;31m             \u001b[0minputs\u001b[0m \u001b[0;34m=\u001b[0m \u001b[0mtorch\u001b[0m\u001b[0;34m.\u001b[0m\u001b[0mdistributions\u001b[0m\u001b[0;34m.\u001b[0m\u001b[0mNormal\u001b[0m\u001b[0;34m(\u001b[0m\u001b[0mloc\u001b[0m\u001b[0;34m=\u001b[0m\u001b[0minputs\u001b[0m\u001b[0;34m.\u001b[0m\u001b[0mmean\u001b[0m\u001b[0;34m,\u001b[0m \u001b[0mscale\u001b[0m\u001b[0;34m=\u001b[0m\u001b[0minputs\u001b[0m\u001b[0;34m.\u001b[0m\u001b[0mvariance\u001b[0m\u001b[0;34m.\u001b[0m\u001b[0msqrt\u001b[0m\u001b[0;34m(\u001b[0m\u001b[0;34m)\u001b[0m\u001b[0;34m)\u001b[0m\u001b[0;34m.\u001b[0m\u001b[0mrsample\u001b[0m\u001b[0;34m(\u001b[0m\u001b[0;34m)\u001b[0m\u001b[0;34m\u001b[0m\u001b[0;34m\u001b[0m\u001b[0m\n\u001b[0m\u001b[1;32m     78\u001b[0m             \u001b[0mdeterministic_inputs\u001b[0m \u001b[0;34m=\u001b[0m \u001b[0;32mFalse\u001b[0m\u001b[0;34m\u001b[0m\u001b[0;34m\u001b[0m\u001b[0m\n\u001b[1;32m     79\u001b[0m \u001b[0;34m\u001b[0m\u001b[0m\n",
      "\u001b[0;32m~/anaconda3/envs/lapki/lib/python3.7/site-packages/gpytorch/distributions/multitask_multivariate_normal.py\u001b[0m in \u001b[0;36mvariance\u001b[0;34m(self)\u001b[0m\n\u001b[1;32m    217\u001b[0m     \u001b[0;34m@\u001b[0m\u001b[0mproperty\u001b[0m\u001b[0;34m\u001b[0m\u001b[0;34m\u001b[0m\u001b[0m\n\u001b[1;32m    218\u001b[0m     \u001b[0;32mdef\u001b[0m \u001b[0mvariance\u001b[0m\u001b[0;34m(\u001b[0m\u001b[0mself\u001b[0m\u001b[0;34m)\u001b[0m\u001b[0;34m:\u001b[0m\u001b[0;34m\u001b[0m\u001b[0;34m\u001b[0m\u001b[0m\n\u001b[0;32m--> 219\u001b[0;31m         \u001b[0mvar\u001b[0m \u001b[0;34m=\u001b[0m \u001b[0msuper\u001b[0m\u001b[0;34m(\u001b[0m\u001b[0;34m)\u001b[0m\u001b[0;34m.\u001b[0m\u001b[0mvariance\u001b[0m\u001b[0;34m\u001b[0m\u001b[0;34m\u001b[0m\u001b[0m\n\u001b[0m\u001b[1;32m    220\u001b[0m         \u001b[0;32mif\u001b[0m \u001b[0;32mnot\u001b[0m \u001b[0mself\u001b[0m\u001b[0;34m.\u001b[0m\u001b[0m_interleaved\u001b[0m\u001b[0;34m:\u001b[0m\u001b[0;34m\u001b[0m\u001b[0;34m\u001b[0m\u001b[0m\n\u001b[1;32m    221\u001b[0m             \u001b[0;31m# flip shape of last two dimensions\u001b[0m\u001b[0;34m\u001b[0m\u001b[0;34m\u001b[0m\u001b[0;34m\u001b[0m\u001b[0m\n",
      "\u001b[0;32m~/anaconda3/envs/lapki/lib/python3.7/site-packages/gpytorch/distributions/multivariate_normal.py\u001b[0m in \u001b[0;36mvariance\u001b[0;34m(self)\u001b[0m\n\u001b[1;32m    187\u001b[0m         \u001b[0;32mif\u001b[0m \u001b[0mself\u001b[0m\u001b[0;34m.\u001b[0m\u001b[0mislazy\u001b[0m\u001b[0;34m:\u001b[0m\u001b[0;34m\u001b[0m\u001b[0;34m\u001b[0m\u001b[0m\n\u001b[1;32m    188\u001b[0m             \u001b[0;31m# overwrite this since torch MVN uses unbroadcasted_scale_tril for this\u001b[0m\u001b[0;34m\u001b[0m\u001b[0;34m\u001b[0m\u001b[0;34m\u001b[0m\u001b[0m\n\u001b[0;32m--> 189\u001b[0;31m             \u001b[0mdiag\u001b[0m \u001b[0;34m=\u001b[0m \u001b[0mself\u001b[0m\u001b[0;34m.\u001b[0m\u001b[0mlazy_covariance_matrix\u001b[0m\u001b[0;34m.\u001b[0m\u001b[0mdiag\u001b[0m\u001b[0;34m(\u001b[0m\u001b[0;34m)\u001b[0m\u001b[0;34m\u001b[0m\u001b[0;34m\u001b[0m\u001b[0m\n\u001b[0m\u001b[1;32m    190\u001b[0m             \u001b[0mdiag\u001b[0m \u001b[0;34m=\u001b[0m \u001b[0mdiag\u001b[0m\u001b[0;34m.\u001b[0m\u001b[0mview\u001b[0m\u001b[0;34m(\u001b[0m\u001b[0mdiag\u001b[0m\u001b[0;34m.\u001b[0m\u001b[0mshape\u001b[0m\u001b[0;34m[\u001b[0m\u001b[0;34m:\u001b[0m\u001b[0;34m-\u001b[0m\u001b[0;36m1\u001b[0m\u001b[0;34m]\u001b[0m \u001b[0;34m+\u001b[0m \u001b[0mself\u001b[0m\u001b[0;34m.\u001b[0m\u001b[0m_event_shape\u001b[0m\u001b[0;34m)\u001b[0m\u001b[0;34m\u001b[0m\u001b[0;34m\u001b[0m\u001b[0m\n\u001b[1;32m    191\u001b[0m             \u001b[0;32mreturn\u001b[0m \u001b[0mdiag\u001b[0m\u001b[0;34m.\u001b[0m\u001b[0mexpand\u001b[0m\u001b[0;34m(\u001b[0m\u001b[0mself\u001b[0m\u001b[0;34m.\u001b[0m\u001b[0m_batch_shape\u001b[0m \u001b[0;34m+\u001b[0m \u001b[0mself\u001b[0m\u001b[0;34m.\u001b[0m\u001b[0m_event_shape\u001b[0m\u001b[0;34m)\u001b[0m\u001b[0;34m\u001b[0m\u001b[0;34m\u001b[0m\u001b[0m\n",
      "\u001b[0;32m~/anaconda3/envs/lapki/lib/python3.7/site-packages/gpytorch/lazy/block_diag_lazy_tensor.py\u001b[0m in \u001b[0;36mdiag\u001b[0;34m(self)\u001b[0m\n\u001b[1;32m     89\u001b[0m \u001b[0;34m\u001b[0m\u001b[0m\n\u001b[1;32m     90\u001b[0m     \u001b[0;32mdef\u001b[0m \u001b[0mdiag\u001b[0m\u001b[0;34m(\u001b[0m\u001b[0mself\u001b[0m\u001b[0;34m)\u001b[0m\u001b[0;34m:\u001b[0m\u001b[0;34m\u001b[0m\u001b[0;34m\u001b[0m\u001b[0m\n\u001b[0;32m---> 91\u001b[0;31m         \u001b[0mres\u001b[0m \u001b[0;34m=\u001b[0m \u001b[0mself\u001b[0m\u001b[0;34m.\u001b[0m\u001b[0mbase_lazy_tensor\u001b[0m\u001b[0;34m.\u001b[0m\u001b[0mdiag\u001b[0m\u001b[0;34m(\u001b[0m\u001b[0;34m)\u001b[0m\u001b[0;34m.\u001b[0m\u001b[0mcontiguous\u001b[0m\u001b[0;34m(\u001b[0m\u001b[0;34m)\u001b[0m\u001b[0;34m\u001b[0m\u001b[0;34m\u001b[0m\u001b[0m\n\u001b[0m\u001b[1;32m     92\u001b[0m         \u001b[0;32mreturn\u001b[0m \u001b[0mres\u001b[0m\u001b[0;34m.\u001b[0m\u001b[0mview\u001b[0m\u001b[0;34m(\u001b[0m\u001b[0;34m*\u001b[0m\u001b[0mself\u001b[0m\u001b[0;34m.\u001b[0m\u001b[0mbatch_shape\u001b[0m\u001b[0;34m,\u001b[0m \u001b[0mself\u001b[0m\u001b[0;34m.\u001b[0m\u001b[0msize\u001b[0m\u001b[0;34m(\u001b[0m\u001b[0;34m-\u001b[0m\u001b[0;36m1\u001b[0m\u001b[0;34m)\u001b[0m\u001b[0;34m)\u001b[0m\u001b[0;34m\u001b[0m\u001b[0;34m\u001b[0m\u001b[0m\n\u001b[1;32m     93\u001b[0m \u001b[0;34m\u001b[0m\u001b[0m\n",
      "\u001b[0;32m~/anaconda3/envs/lapki/lib/python3.7/site-packages/gpytorch/lazy/sum_lazy_tensor.py\u001b[0m in \u001b[0;36mdiag\u001b[0;34m(self)\u001b[0m\n\u001b[1;32m     94\u001b[0m \u001b[0;34m\u001b[0m\u001b[0m\n\u001b[1;32m     95\u001b[0m     \u001b[0;32mdef\u001b[0m \u001b[0mdiag\u001b[0m\u001b[0;34m(\u001b[0m\u001b[0mself\u001b[0m\u001b[0;34m)\u001b[0m\u001b[0;34m:\u001b[0m\u001b[0;34m\u001b[0m\u001b[0;34m\u001b[0m\u001b[0m\n\u001b[0;32m---> 96\u001b[0;31m         \u001b[0;32mreturn\u001b[0m \u001b[0msum\u001b[0m\u001b[0;34m(\u001b[0m\u001b[0mlazy_tensor\u001b[0m\u001b[0;34m.\u001b[0m\u001b[0mdiag\u001b[0m\u001b[0;34m(\u001b[0m\u001b[0;34m)\u001b[0m\u001b[0;34m.\u001b[0m\u001b[0mcontiguous\u001b[0m\u001b[0;34m(\u001b[0m\u001b[0;34m)\u001b[0m \u001b[0;32mfor\u001b[0m \u001b[0mlazy_tensor\u001b[0m \u001b[0;32min\u001b[0m \u001b[0mself\u001b[0m\u001b[0;34m.\u001b[0m\u001b[0mlazy_tensors\u001b[0m\u001b[0;34m)\u001b[0m\u001b[0;34m\u001b[0m\u001b[0;34m\u001b[0m\u001b[0m\n\u001b[0m",
      "\u001b[0;32m~/anaconda3/envs/lapki/lib/python3.7/site-packages/gpytorch/lazy/sum_lazy_tensor.py\u001b[0m in \u001b[0;36m<genexpr>\u001b[0;34m(.0)\u001b[0m\n\u001b[1;32m     94\u001b[0m \u001b[0;34m\u001b[0m\u001b[0m\n\u001b[1;32m     95\u001b[0m     \u001b[0;32mdef\u001b[0m \u001b[0mdiag\u001b[0m\u001b[0;34m(\u001b[0m\u001b[0mself\u001b[0m\u001b[0;34m)\u001b[0m\u001b[0;34m:\u001b[0m\u001b[0;34m\u001b[0m\u001b[0;34m\u001b[0m\u001b[0m\n\u001b[0;32m---> 96\u001b[0;31m         \u001b[0;32mreturn\u001b[0m \u001b[0msum\u001b[0m\u001b[0;34m(\u001b[0m\u001b[0mlazy_tensor\u001b[0m\u001b[0;34m.\u001b[0m\u001b[0mdiag\u001b[0m\u001b[0;34m(\u001b[0m\u001b[0;34m)\u001b[0m\u001b[0;34m.\u001b[0m\u001b[0mcontiguous\u001b[0m\u001b[0;34m(\u001b[0m\u001b[0;34m)\u001b[0m \u001b[0;32mfor\u001b[0m \u001b[0mlazy_tensor\u001b[0m \u001b[0;32min\u001b[0m \u001b[0mself\u001b[0m\u001b[0;34m.\u001b[0m\u001b[0mlazy_tensors\u001b[0m\u001b[0;34m)\u001b[0m\u001b[0;34m\u001b[0m\u001b[0;34m\u001b[0m\u001b[0m\n\u001b[0m",
      "\u001b[0;32m~/anaconda3/envs/lapki/lib/python3.7/site-packages/gpytorch/lazy/sum_lazy_tensor.py\u001b[0m in \u001b[0;36mdiag\u001b[0;34m(self)\u001b[0m\n\u001b[1;32m     94\u001b[0m \u001b[0;34m\u001b[0m\u001b[0m\n\u001b[1;32m     95\u001b[0m     \u001b[0;32mdef\u001b[0m \u001b[0mdiag\u001b[0m\u001b[0;34m(\u001b[0m\u001b[0mself\u001b[0m\u001b[0;34m)\u001b[0m\u001b[0;34m:\u001b[0m\u001b[0;34m\u001b[0m\u001b[0;34m\u001b[0m\u001b[0m\n\u001b[0;32m---> 96\u001b[0;31m         \u001b[0;32mreturn\u001b[0m \u001b[0msum\u001b[0m\u001b[0;34m(\u001b[0m\u001b[0mlazy_tensor\u001b[0m\u001b[0;34m.\u001b[0m\u001b[0mdiag\u001b[0m\u001b[0;34m(\u001b[0m\u001b[0;34m)\u001b[0m\u001b[0;34m.\u001b[0m\u001b[0mcontiguous\u001b[0m\u001b[0;34m(\u001b[0m\u001b[0;34m)\u001b[0m \u001b[0;32mfor\u001b[0m \u001b[0mlazy_tensor\u001b[0m \u001b[0;32min\u001b[0m \u001b[0mself\u001b[0m\u001b[0;34m.\u001b[0m\u001b[0mlazy_tensors\u001b[0m\u001b[0;34m)\u001b[0m\u001b[0;34m\u001b[0m\u001b[0;34m\u001b[0m\u001b[0m\n\u001b[0m",
      "\u001b[0;32m~/anaconda3/envs/lapki/lib/python3.7/site-packages/gpytorch/lazy/sum_lazy_tensor.py\u001b[0m in \u001b[0;36m<genexpr>\u001b[0;34m(.0)\u001b[0m\n\u001b[1;32m     94\u001b[0m \u001b[0;34m\u001b[0m\u001b[0m\n\u001b[1;32m     95\u001b[0m     \u001b[0;32mdef\u001b[0m \u001b[0mdiag\u001b[0m\u001b[0;34m(\u001b[0m\u001b[0mself\u001b[0m\u001b[0;34m)\u001b[0m\u001b[0;34m:\u001b[0m\u001b[0;34m\u001b[0m\u001b[0;34m\u001b[0m\u001b[0m\n\u001b[0;32m---> 96\u001b[0;31m         \u001b[0;32mreturn\u001b[0m \u001b[0msum\u001b[0m\u001b[0;34m(\u001b[0m\u001b[0mlazy_tensor\u001b[0m\u001b[0;34m.\u001b[0m\u001b[0mdiag\u001b[0m\u001b[0;34m(\u001b[0m\u001b[0;34m)\u001b[0m\u001b[0;34m.\u001b[0m\u001b[0mcontiguous\u001b[0m\u001b[0;34m(\u001b[0m\u001b[0;34m)\u001b[0m \u001b[0;32mfor\u001b[0m \u001b[0mlazy_tensor\u001b[0m \u001b[0;32min\u001b[0m \u001b[0mself\u001b[0m\u001b[0;34m.\u001b[0m\u001b[0mlazy_tensors\u001b[0m\u001b[0;34m)\u001b[0m\u001b[0;34m\u001b[0m\u001b[0;34m\u001b[0m\u001b[0m\n\u001b[0m",
      "\u001b[0;32m~/anaconda3/envs/lapki/lib/python3.7/site-packages/gpytorch/lazy/non_lazy_tensor.py\u001b[0m in \u001b[0;36mdiag\u001b[0;34m(self)\u001b[0m\n\u001b[1;32m     64\u001b[0m             \u001b[0;32mreturn\u001b[0m \u001b[0mself\u001b[0m\u001b[0;34m.\u001b[0m\u001b[0mtensor\u001b[0m\u001b[0;34m.\u001b[0m\u001b[0mdiag\u001b[0m\u001b[0;34m(\u001b[0m\u001b[0;34m)\u001b[0m\u001b[0;34m\u001b[0m\u001b[0;34m\u001b[0m\u001b[0m\n\u001b[1;32m     65\u001b[0m         \u001b[0;32melse\u001b[0m\u001b[0;34m:\u001b[0m\u001b[0;34m\u001b[0m\u001b[0;34m\u001b[0m\u001b[0m\n\u001b[0;32m---> 66\u001b[0;31m             \u001b[0mrow_col_iter\u001b[0m \u001b[0;34m=\u001b[0m \u001b[0mtorch\u001b[0m\u001b[0;34m.\u001b[0m\u001b[0marange\u001b[0m\u001b[0;34m(\u001b[0m\u001b[0;36m0\u001b[0m\u001b[0;34m,\u001b[0m \u001b[0mself\u001b[0m\u001b[0;34m.\u001b[0m\u001b[0mmatrix_shape\u001b[0m\u001b[0;34m[\u001b[0m\u001b[0;34m-\u001b[0m\u001b[0;36m1\u001b[0m\u001b[0;34m]\u001b[0m\u001b[0;34m,\u001b[0m \u001b[0mdtype\u001b[0m\u001b[0;34m=\u001b[0m\u001b[0mtorch\u001b[0m\u001b[0;34m.\u001b[0m\u001b[0mlong\u001b[0m\u001b[0;34m,\u001b[0m \u001b[0mdevice\u001b[0m\u001b[0;34m=\u001b[0m\u001b[0mself\u001b[0m\u001b[0;34m.\u001b[0m\u001b[0mdevice\u001b[0m\u001b[0;34m)\u001b[0m\u001b[0;34m\u001b[0m\u001b[0;34m\u001b[0m\u001b[0m\n\u001b[0m\u001b[1;32m     67\u001b[0m             \u001b[0;32mreturn\u001b[0m \u001b[0mself\u001b[0m\u001b[0;34m.\u001b[0m\u001b[0mtensor\u001b[0m\u001b[0;34m[\u001b[0m\u001b[0;34m...\u001b[0m\u001b[0;34m,\u001b[0m \u001b[0mrow_col_iter\u001b[0m\u001b[0;34m,\u001b[0m \u001b[0mrow_col_iter\u001b[0m\u001b[0;34m]\u001b[0m\u001b[0;34m.\u001b[0m\u001b[0mview\u001b[0m\u001b[0;34m(\u001b[0m\u001b[0;34m*\u001b[0m\u001b[0mself\u001b[0m\u001b[0;34m.\u001b[0m\u001b[0mbatch_shape\u001b[0m\u001b[0;34m,\u001b[0m \u001b[0;34m-\u001b[0m\u001b[0;36m1\u001b[0m\u001b[0;34m)\u001b[0m\u001b[0;34m\u001b[0m\u001b[0;34m\u001b[0m\u001b[0m\n\u001b[1;32m     68\u001b[0m \u001b[0;34m\u001b[0m\u001b[0m\n",
      "\u001b[0;31mKeyboardInterrupt\u001b[0m: "
     ]
    }
   ],
   "source": [
    "pop, log = algorithms.eaSimple(\n",
    "    pop, toolbox, cxpb=0.5, mutpb=0.2, ngen=40, \n",
    "    stats=stats, halloffame=hof, verbose=True\n",
    ")"
   ]
  },
  {
   "cell_type": "code",
   "execution_count": 169,
   "metadata": {},
   "outputs": [
    {
     "data": {
      "text/plain": [
       "array([4, 2, 2, 1, 2, 4, 4, 4, 4, 4, 4, 1, 1, 2, 2, 3, 4, 4, 4, 1, 2, 2,\n",
       "       2, 1, 1, 3, 3, 2, 3, 3, 1, 3, 3, 3, 3, 3, 3, 1, 4, 1, 2, 3, 3, 3,\n",
       "       4, 4])"
      ]
     },
     "execution_count": 169,
     "metadata": {},
     "output_type": "execute_result"
    }
   ],
   "source": [
    "np.array(pop)[0]"
   ]
  },
  {
   "cell_type": "code",
   "execution_count": 170,
   "metadata": {},
   "outputs": [],
   "source": [
    "first_t = correct_order(onehot(hof[0][0:23])).reshape(4,23)\n",
    "second_t = correct_order(onehot(hof[0][23:])).reshape(4,23)"
   ]
  },
  {
   "cell_type": "code",
   "execution_count": 148,
   "metadata": {},
   "outputs": [],
   "source": [
    "def from_oh(x):\n",
    "    onehot2nucleotide = {\n",
    "        1: \"A\", 2: \"T\", 3: \"G\", 4: \"C\"\n",
    "    }\n",
    "    return(\"\".join([onehot2nucleotide[a] for a in x]))"
   ]
  },
  {
   "cell_type": "code",
   "execution_count": 149,
   "metadata": {},
   "outputs": [
    {
     "data": {
      "text/plain": [
       "100"
      ]
     },
     "execution_count": 149,
     "metadata": {},
     "output_type": "execute_result"
    }
   ],
   "source": [
    "len(hof)"
   ]
  },
  {
   "cell_type": "code",
   "execution_count": 191,
   "metadata": {},
   "outputs": [],
   "source": [
    "def n_mms(a):\n",
    "    b = a[0:23]\n",
    "    c = a[23:]\n",
    "    return(sum([int(d==e) for d,e in zip(b,c)]))"
   ]
  },
  {
   "cell_type": "code",
   "execution_count": 174,
   "metadata": {},
   "outputs": [
    {
     "data": {
      "text/plain": [
       "(array([18, 19, 20, 21, 22, 23]), array([   1,    7,   35,  187, 2732,   38]))"
      ]
     },
     "execution_count": 174,
     "metadata": {},
     "output_type": "execute_result"
    }
   ],
   "source": [
    "np.unique([n_mms(a) for a in pop], return_counts=True)"
   ]
  },
  {
   "cell_type": "code",
   "execution_count": 175,
   "metadata": {},
   "outputs": [
    {
     "data": {
      "text/plain": [
       "<matplotlib.image.AxesImage at 0x7f608ead18d0>"
      ]
     },
     "execution_count": 175,
     "metadata": {},
     "output_type": "execute_result"
    },
    {
     "data": {
      "image/png": "[encoded data removed]",
      "text/plain": [
       "<Figure size 432x288 with 1 Axes>"
      ]
     },
     "metadata": {
      "needs_background": "light"
     },
     "output_type": "display_data"
    }
   ],
   "source": [
    "plt.imshow(first_t)"
   ]
  },
  {
   "cell_type": "code",
   "execution_count": 177,
   "metadata": {},
   "outputs": [
    {
     "data": {
      "text/plain": [
       "(2, 4, 23)"
      ]
     },
     "execution_count": 177,
     "metadata": {},
     "output_type": "execute_result"
    }
   ],
   "source": [
    "np.stack([first_t, second_t])"
   ]
  },
  {
   "cell_type": "code",
   "execution_count": 180,
   "metadata": {},
   "outputs": [],
   "source": [
    "w_f = w_model(\n",
    "    torch.from_numpy(np.stack([first_t, second_t]).reshape(1, 2, 4, 23)).cuda()\n",
    ")"
   ]
  },
  {
   "cell_type": "code",
   "execution_count": 193,
   "metadata": {},
   "outputs": [
    {
     "data": {
      "text/plain": [
       "0.043478260869565216"
      ]
     },
     "execution_count": 193,
     "metadata": {},
     "output_type": "execute_result"
    }
   ],
   "source": [
    "n_mms(hof[0])/23"
   ]
  },
  {
   "cell_type": "code",
   "execution_count": 197,
   "metadata": {},
   "outputs": [],
   "source": [
    "w_o = w_model.likelihood(w_f[0]).mean.mean(0).cpu().data.numpy()\n",
    "w_v = w_model.likelihood(w_f[0]).variance.mean(0).cpu().data.numpy()**0.5"
   ]
  },
  {
   "cell_type": "code",
   "execution_count": 198,
   "metadata": {},
   "outputs": [
    {
     "data": {
      "text/plain": [
       "array([0.47571176], dtype=float32)"
      ]
     },
     "execution_count": 198,
     "metadata": {},
     "output_type": "execute_result"
    }
   ],
   "source": [
    "w_v"
   ]
  },
  {
   "cell_type": "code",
   "execution_count": 199,
   "metadata": {},
   "outputs": [
    {
     "data": {
      "text/plain": [
       "array([0.7504903], dtype=float32)"
      ]
     },
     "execution_count": 199,
     "metadata": {},
     "output_type": "execute_result"
    }
   ],
   "source": [
    "w_v+w_o+n_mms(hof[0])/23"
   ]
  },
  {
   "cell_type": "code",
   "execution_count": 200,
   "metadata": {},
   "outputs": [
    {
     "data": {
      "text/plain": [
       "array([0.23130026], dtype=float32)"
      ]
     },
     "execution_count": 200,
     "metadata": {},
     "output_type": "execute_result"
    }
   ],
   "source": [
    "w_o"
   ]
  },
  {
   "cell_type": "code",
   "execution_count": null,
   "metadata": {},
   "outputs": [],
   "source": []
  },
  {
   "cell_type": "code",
   "execution_count": 171,
   "metadata": {},
   "outputs": [
    {
     "data": {
      "text/plain": [
       "('GTTATCCCCCCAATGGCCCATTT', 'AAGGTGGAGGGGCGCAATGGGCC')"
      ]
     },
     "execution_count": 171,
     "metadata": {},
     "output_type": "execute_result"
    }
   ],
   "source": [
    "from_oh(hof[0][0:23]), from_oh(hof[0][23:])"
   ]
  },
  {
   "cell_type": "code",
   "execution_count": 173,
   "metadata": {},
   "outputs": [
    {
     "data": {
      "text/plain": [
       "<matplotlib.image.AxesImage at 0x7f60b072db50>"
      ]
     },
     "execution_count": 173,
     "metadata": {},
     "output_type": "execute_result"
    },
    {
     "data": {
      "image/png": "[encoded data removed]",
      "text/plain": [
       "<Figure size 432x288 with 1 Axes>"
      ]
     },
     "metadata": {
      "needs_background": "light"
     },
     "output_type": "display_data"
    }
   ],
   "source": [
    "plt.imshow(second_t)"
   ]
  }
 ],
 "metadata": {
  "kernelspec": {
   "display_name": "Python 3",
   "language": "python",
   "name": "python3"
  },
  "language_info": {
   "codemirror_mode": {
    "name": "ipython",
    "version": 3
   },
   "file_extension": ".py",
   "mimetype": "text/x-python",
   "name": "python",
   "nbconvert_exporter": "python",
   "pygments_lexer": "ipython3",
   "version": "3.8.5"
  }
 },
 "nbformat": 4,
 "nbformat_minor": 2
}
