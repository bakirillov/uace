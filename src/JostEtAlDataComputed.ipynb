{
 "cells": [
  {
   "cell_type": "code",
   "execution_count": 1,
   "metadata": {},
   "outputs": [
    {
     "name": "stderr",
     "output_type": "stream",
     "text": [
      "/home/bakirillov/anaconda3/envs/lapki/lib/python3.7/site-packages/sklearn/externals/joblib/__init__.py:15: FutureWarning: sklearn.externals.joblib is deprecated in 0.21 and will be removed in 0.23. Please import this functionality directly from joblib, which can be installed with: pip install joblib. If this warning is raised when loading pickled models, you may need to re-serialize those models with scikit-learn 0.21+.\n",
      "  warnings.warn(msg, category=FutureWarning)\n",
      "/home/bakirillov/anaconda3/envs/lapki/lib/python3.7/site-packages/sklearn/utils/deprecation.py:144: FutureWarning: The sklearn.metrics.scorer module is  deprecated in version 0.22 and will be removed in version 0.24. The corresponding classes / functions should instead be imported from sklearn.metrics. Anything that cannot be imported from sklearn.metrics is now part of the private API.\n",
      "  warnings.warn(message, FutureWarning)\n",
      "/home/bakirillov/anaconda3/envs/lapki/lib/python3.7/site-packages/sklearn/utils/deprecation.py:144: FutureWarning: The sklearn.feature_selection.base module is  deprecated in version 0.22 and will be removed in version 0.24. The corresponding classes / functions should instead be imported from sklearn.feature_selection. Anything that cannot be imported from sklearn.feature_selection is now part of the private API.\n",
      "  warnings.warn(message, FutureWarning)\n"
     ]
    }
   ],
   "source": [
    "import os\n",
    "import umap\n",
    "import torch\n",
    "import itertools\n",
    "from core import *\n",
    "import numpy as np\n",
    "import pandas as pd\n",
    "import pickle as pkl\n",
    "from torch import nn\n",
    "import os.path as op\n",
    "from tqdm import tqdm\n",
    "from time import time\n",
    "from Bio import SeqIO\n",
    "from copy import deepcopy\n",
    "from torch.optim import Adam\n",
    "from tpot import TPOTRegressor\n",
    "import torch.nn.functional as F\n",
    "import matplotlib.pyplot as plt\n",
    "from capsules.capsules import *\n",
    "from IPython.display import Image\n",
    "from qhoptim.pyt import QHM, QHAdam\n",
    "from matplotlib.lines import Line2D\n",
    "from torch.autograd import Variable\n",
    "from matplotlib.patches import Patch\n",
    "from scipy.stats import spearmanr, pearsonr\n",
    "from catboost import CatBoostRegressor, Pool, cv\n",
    "from sklearn.model_selection import train_test_split, StratifiedKFold\n",
    "from sklearn.metrics import mean_absolute_error, mean_squared_error, median_absolute_error\n",
    "from sklearn.metrics import accuracy_score, matthews_corrcoef, precision_score, recall_score"
   ]
  },
  {
   "cell_type": "code",
   "execution_count": 2,
   "metadata": {},
   "outputs": [],
   "source": [
    "from torchvision import models, transforms\n",
    "from torch.utils.data import DataLoader, Dataset"
   ]
  },
  {
   "cell_type": "code",
   "execution_count": 3,
   "metadata": {},
   "outputs": [],
   "source": [
    "import gpytorch\n",
    "from gpytorch.means import ConstantMean, LinearMean\n",
    "from gpytorch.models import ApproximateGP, ExactGP \n",
    "from sklearn.metrics import accuracy_score\n",
    "from gpytorch.priors import SmoothedBoxPrior\n",
    "from gpytorch.likelihoods import GaussianLikelihood\n",
    "from gpytorch.kernels import ScaleKernel, RBFKernel, GridInterpolationKernel\n",
    "from gpytorch.mlls import VariationalELBO, VariationalELBOEmpirical, DeepApproximateMLL\n",
    "from gpytorch.distributions import MultivariateNormal\n",
    "from gpytorch.variational import CholeskyVariationalDistribution\n",
    "from gpytorch.variational import VariationalStrategy\n",
    "from gpytorch.models.deep_gps import DeepGPLayer, DeepGP"
   ]
  },
  {
   "cell_type": "code",
   "execution_count": 5,
   "metadata": {},
   "outputs": [],
   "source": [
    "data = pd.read_csv(\n",
    "    \"/home/bakirillov/HDD/data/Svetlana_data/Table_S8_machine_learning_input.txt\", index_col=0, sep=\"\\t\"\n",
    ")\n",
    "series = data['perfect match sgRNA']\n",
    "u = ImperfectMatchTransform(\"NGG\", False, False, fold=False, cut_at_start=2, cut_at_end=1)\n",
    "transformer = transforms.Compose(\n",
    "    [\n",
    "        u, ToTensor(cudap=True)\n",
    "    ]\n",
    ")\n",
    "all_set = WeissmanDataset(data, np.arange(data.shape[0]), transformer)\n",
    "all_set_loader = DataLoader(all_set, shuffle=False, batch_size=256)"
   ]
  },
  {
   "cell_type": "code",
   "execution_count": 8,
   "metadata": {},
   "outputs": [
    {
     "name": "stdout",
     "output_type": "stream",
     "text": [
      "cnn59.ptch\n",
      "cnn_mse59.ptch\n"
     ]
    }
   ],
   "source": [
    "%%bash\n",
    "\n",
    "ls ../models/Weissman/"
   ]
  },
  {
   "cell_type": "code",
   "execution_count": 9,
   "metadata": {},
   "outputs": [],
   "source": [
    "cnn_elbo_encoder = GuideHN2d(\n",
    "    23, capsule_dimension=32, n_routes=1600, n_classes=5, n_channels=2,\n",
    ").cuda()\n",
    "cnn_elbo = DKL(cnn_elbo_encoder, [1,5*32]).cuda().eval()\n",
    "cnn_elbo.load_state_dict(torch.load(\"../models/Weissman/cnn59.ptch\"))\n",
    "cnn_elbo = cnn_elbo.eval()"
   ]
  },
  {
   "cell_type": "code",
   "execution_count": 10,
   "metadata": {},
   "outputs": [],
   "source": [
    "cnn_mse_encoder = GuideHN2d(\n",
    "    23, capsule_dimension=32, n_routes=1600, n_classes=5, n_channels=2,\n",
    ").cuda()\n",
    "cnn_mse = DKL(cnn_mse_encoder, [1,5*32]).cuda().eval()\n",
    "cnn_mse.load_state_dict(torch.load(\"../models/Weissman/cnn_mse59.ptch\"))\n",
    "cnn_mse = cnn_mse.eval()"
   ]
  },
  {
   "cell_type": "code",
   "execution_count": 12,
   "metadata": {},
   "outputs": [
    {
     "name": "stderr",
     "output_type": "stream",
     "text": [
      "100%|██████████| 103/103 [00:15<00:00,  6.57it/s]\n"
     ]
    }
   ],
   "source": [
    "tb_cnn_mse_oa = []\n",
    "tb_cnn_mse_va = []\n",
    "tb_cnn_elbo_oa = []\n",
    "tb_cnn_elbo_va = []\n",
    "for transformed_batch, _ in tqdm(all_set_loader):\n",
    "    tb_cnn_mse = cnn_mse(transformed_batch)\n",
    "    tb_cnn_mse_o = cnn_mse.likelihood(\n",
    "        tb_cnn_mse[0]\n",
    "    ).mean.mean(0).cpu().data.numpy()\n",
    "    tb_cnn_mse_v = cnn_mse.likelihood(\n",
    "        tb_cnn_mse[0]\n",
    "    ).variance.mean(0).cpu().data.numpy()\n",
    "    tb_cnn_mse_oa.extend(tb_cnn_mse_o)\n",
    "    tb_cnn_mse_va.extend(tb_cnn_mse_v)\n",
    "    tb_cnn_elbo = cnn_elbo(transformed_batch)\n",
    "    tb_cnn_elbo_o = cnn_elbo.likelihood(\n",
    "        tb_cnn_elbo[0]\n",
    "    ).mean.mean(0).cpu().data.numpy()\n",
    "    tb_cnn_elbo_v = cnn_elbo.likelihood(\n",
    "        tb_cnn_elbo[0]\n",
    "    ).variance.mean(0).cpu().data.numpy()\n",
    "    tb_cnn_elbo_oa.extend(tb_cnn_elbo_o)\n",
    "    tb_cnn_elbo_va.extend(tb_cnn_elbo_v)"
   ]
  },
  {
   "cell_type": "code",
   "execution_count": 15,
   "metadata": {},
   "outputs": [],
   "source": [
    "data[\"cnn_elbo_avg\"] = tb_cnn_elbo_oa\n",
    "data[\"cnn_elbo_var\"] = tb_cnn_elbo_va"
   ]
  },
  {
   "cell_type": "code",
   "execution_count": 16,
   "metadata": {},
   "outputs": [],
   "source": [
    "data[\"cnn_mse_avg\"] = tb_cnn_mse_oa\n",
    "data[\"cnn_mse_var\"] = tb_cnn_mse_va"
   ]
  },
  {
   "cell_type": "code",
   "execution_count": 18,
   "metadata": {},
   "outputs": [
    {
     "data": {
      "text/plain": [
       "SpearmanrResult(correlation=0.7179373115222322, pvalue=0.0)"
      ]
     },
     "execution_count": 18,
     "metadata": {},
     "output_type": "execute_result"
    }
   ],
   "source": [
    "spearmanr(data[\"mean relative gamma\"], data[\"cnn_mse_avg\"])"
   ]
  },
  {
   "cell_type": "code",
   "execution_count": 19,
   "metadata": {},
   "outputs": [
    {
     "data": {
      "text/plain": [
       "SpearmanrResult(correlation=0.7167188364078112, pvalue=0.0)"
      ]
     },
     "execution_count": 19,
     "metadata": {},
     "output_type": "execute_result"
    }
   ],
   "source": [
    "spearmanr(data[\"mean relative gamma\"], data[\"cnn_elbo_avg\"])"
   ]
  },
  {
   "cell_type": "code",
   "execution_count": 21,
   "metadata": {},
   "outputs": [],
   "source": [
    "data.to_csv(\"the_correct_file.tsv\", sep=\"\\t\")"
   ]
  },
  {
   "cell_type": "code",
   "execution_count": 22,
   "metadata": {},
   "outputs": [
    {
     "data": {
      "text/html": [
       "<div>\n",
       "<style scoped>\n",
       "    .dataframe tbody tr th:only-of-type {\n",
       "        vertical-align: middle;\n",
       "    }\n",
       "\n",
       "    .dataframe tbody tr th {\n",
       "        vertical-align: top;\n",
       "    }\n",
       "\n",
       "    .dataframe thead th {\n",
       "        text-align: right;\n",
       "    }\n",
       "</style>\n",
       "<table border=\"1\" class=\"dataframe\">\n",
       "  <thead>\n",
       "    <tr style=\"text-align: right;\">\n",
       "      <th></th>\n",
       "      <th>perfect match sgRNA</th>\n",
       "      <th>gene</th>\n",
       "      <th>sgRNA sequence</th>\n",
       "      <th>mismatch position</th>\n",
       "      <th>new pairing</th>\n",
       "      <th>K562</th>\n",
       "      <th>Jurkat</th>\n",
       "      <th>mean relative gamma</th>\n",
       "      <th>genome input</th>\n",
       "      <th>sgRNA input</th>\n",
       "      <th>cnn_elbo_avg</th>\n",
       "      <th>cnn_elbo_var</th>\n",
       "      <th>cnn_mse_avg</th>\n",
       "      <th>cnn_mse_var</th>\n",
       "    </tr>\n",
       "  </thead>\n",
       "  <tbody>\n",
       "    <tr>\n",
       "      <th>AAR2_-_34824434.23-P1P2_01</th>\n",
       "      <td>AAR2_-_34824434.23-P1P2</td>\n",
       "      <td>AAR2</td>\n",
       "      <td>GTGAGGCGAGGCGGTGAGTG</td>\n",
       "      <td>-17.0</td>\n",
       "      <td>rA:dC</td>\n",
       "      <td>True</td>\n",
       "      <td>False</td>\n",
       "      <td>0.665625</td>\n",
       "      <td>ACGTGGGGCGAGGCGGTGAGTGTGGC</td>\n",
       "      <td>ACGTGAGGCGAGGCGGTGAGTGTGGC</td>\n",
       "      <td>0.483160</td>\n",
       "      <td>0.009043</td>\n",
       "      <td>0.457280</td>\n",
       "      <td>0.008767</td>\n",
       "    </tr>\n",
       "    <tr>\n",
       "      <th>AAR2_-_34824434.23-P1P2_02</th>\n",
       "      <td>AAR2_-_34824434.23-P1P2</td>\n",
       "      <td>AAR2</td>\n",
       "      <td>GTGGGACGAGGCGGTGAGTG</td>\n",
       "      <td>-15.0</td>\n",
       "      <td>rA:dC</td>\n",
       "      <td>True</td>\n",
       "      <td>False</td>\n",
       "      <td>0.596488</td>\n",
       "      <td>ACGTGGGGCGAGGCGGTGAGTGTGGC</td>\n",
       "      <td>ACGTGGGACGAGGCGGTGAGTGTGGC</td>\n",
       "      <td>0.467010</td>\n",
       "      <td>0.008906</td>\n",
       "      <td>0.424217</td>\n",
       "      <td>0.008730</td>\n",
       "    </tr>\n",
       "    <tr>\n",
       "      <th>AAR2_-_34824434.23-P1P2_03</th>\n",
       "      <td>AAR2_-_34824434.23-P1P2</td>\n",
       "      <td>AAR2</td>\n",
       "      <td>GTGGGGGGAGGCGGTGAGTG</td>\n",
       "      <td>-14.0</td>\n",
       "      <td>rG:dG</td>\n",
       "      <td>True</td>\n",
       "      <td>False</td>\n",
       "      <td>0.629915</td>\n",
       "      <td>ACGTGGGGCGAGGCGGTGAGTGTGGC</td>\n",
       "      <td>ACGTGGGGGGAGGCGGTGAGTGTGGC</td>\n",
       "      <td>0.489981</td>\n",
       "      <td>0.009565</td>\n",
       "      <td>0.482996</td>\n",
       "      <td>0.008861</td>\n",
       "    </tr>\n",
       "    <tr>\n",
       "      <th>AAR2_-_34824434.23-P1P2_04</th>\n",
       "      <td>AAR2_-_34824434.23-P1P2</td>\n",
       "      <td>AAR2</td>\n",
       "      <td>GTGGGGCGAAGCGGTGAGTG</td>\n",
       "      <td>-11.0</td>\n",
       "      <td>rA:dC</td>\n",
       "      <td>True</td>\n",
       "      <td>False</td>\n",
       "      <td>-0.012634</td>\n",
       "      <td>ACGTGGGGCGAGGCGGTGAGTGTGGC</td>\n",
       "      <td>ACGTGGGGCGAAGCGGTGAGTGTGGC</td>\n",
       "      <td>0.386591</td>\n",
       "      <td>0.008788</td>\n",
       "      <td>0.327186</td>\n",
       "      <td>0.008660</td>\n",
       "    </tr>\n",
       "    <tr>\n",
       "      <th>AAR2_-_34824434.23-P1P2_05</th>\n",
       "      <td>AAR2_-_34824434.23-P1P2</td>\n",
       "      <td>AAR2</td>\n",
       "      <td>GTGGGGCGACGCGGTGAGTG</td>\n",
       "      <td>-11.0</td>\n",
       "      <td>rC:dC</td>\n",
       "      <td>True</td>\n",
       "      <td>False</td>\n",
       "      <td>0.058972</td>\n",
       "      <td>ACGTGGGGCGAGGCGGTGAGTGTGGC</td>\n",
       "      <td>ACGTGGGGCGACGCGGTGAGTGTGGC</td>\n",
       "      <td>0.247574</td>\n",
       "      <td>0.008742</td>\n",
       "      <td>0.199799</td>\n",
       "      <td>0.008642</td>\n",
       "    </tr>\n",
       "    <tr>\n",
       "      <th>AAR2_-_34824434.23-P1P2_06</th>\n",
       "      <td>AAR2_-_34824434.23-P1P2</td>\n",
       "      <td>AAR2</td>\n",
       "      <td>GTGGGGCGAGACGGTGAGTG</td>\n",
       "      <td>-10.0</td>\n",
       "      <td>rA:dC</td>\n",
       "      <td>True</td>\n",
       "      <td>False</td>\n",
       "      <td>1.727864</td>\n",
       "      <td>ACGTGGGGCGAGGCGGTGAGTGTGGC</td>\n",
       "      <td>ACGTGGGGCGAGACGGTGAGTGTGGC</td>\n",
       "      <td>0.343167</td>\n",
       "      <td>0.008790</td>\n",
       "      <td>0.293836</td>\n",
       "      <td>0.008666</td>\n",
       "    </tr>\n",
       "    <tr>\n",
       "      <th>AAR2_-_34824434.23-P1P2_07</th>\n",
       "      <td>AAR2_-_34824434.23-P1P2</td>\n",
       "      <td>AAR2</td>\n",
       "      <td>GTGGGGCGAGGAGGTGAGTG</td>\n",
       "      <td>-9.0</td>\n",
       "      <td>rA:dG</td>\n",
       "      <td>True</td>\n",
       "      <td>False</td>\n",
       "      <td>0.897090</td>\n",
       "      <td>ACGTGGGGCGAGGCGGTGAGTGTGGC</td>\n",
       "      <td>ACGTGGGGCGAGGAGGTGAGTGTGGC</td>\n",
       "      <td>0.321924</td>\n",
       "      <td>0.008763</td>\n",
       "      <td>0.311788</td>\n",
       "      <td>0.008644</td>\n",
       "    </tr>\n",
       "    <tr>\n",
       "      <th>AAR2_-_34824434.23-P1P2_08</th>\n",
       "      <td>AAR2_-_34824434.23-P1P2</td>\n",
       "      <td>AAR2</td>\n",
       "      <td>GTGGGGCGAGGCAGTGAGTG</td>\n",
       "      <td>-8.0</td>\n",
       "      <td>rA:dC</td>\n",
       "      <td>True</td>\n",
       "      <td>False</td>\n",
       "      <td>0.056318</td>\n",
       "      <td>ACGTGGGGCGAGGCGGTGAGTGTGGC</td>\n",
       "      <td>ACGTGGGGCGAGGCAGTGAGTGTGGC</td>\n",
       "      <td>0.242402</td>\n",
       "      <td>0.008743</td>\n",
       "      <td>0.237209</td>\n",
       "      <td>0.008640</td>\n",
       "    </tr>\n",
       "    <tr>\n",
       "      <th>AAR2_-_34824434.23-P1P2_09</th>\n",
       "      <td>AAR2_-_34824434.23-P1P2</td>\n",
       "      <td>AAR2</td>\n",
       "      <td>GTGGGGCGAGGCGATGAGTG</td>\n",
       "      <td>-7.0</td>\n",
       "      <td>rA:dC</td>\n",
       "      <td>True</td>\n",
       "      <td>False</td>\n",
       "      <td>0.071692</td>\n",
       "      <td>ACGTGGGGCGAGGCGGTGAGTGTGGC</td>\n",
       "      <td>ACGTGGGGCGAGGCGATGAGTGTGGC</td>\n",
       "      <td>0.345252</td>\n",
       "      <td>0.008772</td>\n",
       "      <td>0.262757</td>\n",
       "      <td>0.008641</td>\n",
       "    </tr>\n",
       "    <tr>\n",
       "      <th>AAR2_-_34824434.23-P1P2_10</th>\n",
       "      <td>AAR2_-_34824434.23-P1P2</td>\n",
       "      <td>AAR2</td>\n",
       "      <td>GTGGGGCGAGGCGCTGAGTG</td>\n",
       "      <td>-7.0</td>\n",
       "      <td>rC:dC</td>\n",
       "      <td>True</td>\n",
       "      <td>False</td>\n",
       "      <td>0.049427</td>\n",
       "      <td>ACGTGGGGCGAGGCGGTGAGTGTGGC</td>\n",
       "      <td>ACGTGGGGCGAGGCGCTGAGTGTGGC</td>\n",
       "      <td>0.252488</td>\n",
       "      <td>0.008750</td>\n",
       "      <td>0.151601</td>\n",
       "      <td>0.008635</td>\n",
       "    </tr>\n",
       "    <tr>\n",
       "      <th>AAR2_-_34824434.23-P1P2_11</th>\n",
       "      <td>AAR2_-_34824434.23-P1P2</td>\n",
       "      <td>AAR2</td>\n",
       "      <td>GTGGGGCGAGGCGGTCAGTG</td>\n",
       "      <td>-5.0</td>\n",
       "      <td>rC:dC</td>\n",
       "      <td>True</td>\n",
       "      <td>False</td>\n",
       "      <td>0.005883</td>\n",
       "      <td>ACGTGGGGCGAGGCGGTGAGTGTGGC</td>\n",
       "      <td>ACGTGGGGCGAGGCGGTCAGTGTGGC</td>\n",
       "      <td>0.243366</td>\n",
       "      <td>0.008746</td>\n",
       "      <td>0.176987</td>\n",
       "      <td>0.008629</td>\n",
       "    </tr>\n",
       "    <tr>\n",
       "      <th>AAR2_-_34824434.23-P1P2_12</th>\n",
       "      <td>AAR2_-_34824434.23-P1P2</td>\n",
       "      <td>AAR2</td>\n",
       "      <td>GTGGGGCGAGGCGGTGACTG</td>\n",
       "      <td>-3.0</td>\n",
       "      <td>rC:dC</td>\n",
       "      <td>True</td>\n",
       "      <td>False</td>\n",
       "      <td>0.024883</td>\n",
       "      <td>ACGTGGGGCGAGGCGGTGAGTGTGGC</td>\n",
       "      <td>ACGTGGGGCGAGGCGGTGACTGTGGC</td>\n",
       "      <td>0.171653</td>\n",
       "      <td>0.008745</td>\n",
       "      <td>0.121927</td>\n",
       "      <td>0.008641</td>\n",
       "    </tr>\n",
       "    <tr>\n",
       "      <th>AAR2_-_34824434.23-P1P2_13</th>\n",
       "      <td>AAR2_-_34824434.23-P1P2</td>\n",
       "      <td>AAR2</td>\n",
       "      <td>GTGGGGCGAGGCGGTGAGTC</td>\n",
       "      <td>-1.0</td>\n",
       "      <td>rC:dC</td>\n",
       "      <td>True</td>\n",
       "      <td>False</td>\n",
       "      <td>0.052562</td>\n",
       "      <td>ACGTGGGGCGAGGCGGTGAGTGTGGC</td>\n",
       "      <td>ACGTGGGGCGAGGCGGTGAGTCTGGC</td>\n",
       "      <td>0.162365</td>\n",
       "      <td>0.008737</td>\n",
       "      <td>0.125457</td>\n",
       "      <td>0.008633</td>\n",
       "    </tr>\n",
       "    <tr>\n",
       "      <th>AARS2_+_44281027.23-P1P2_01</th>\n",
       "      <td>AARS2_+_44281027.23-P1P2</td>\n",
       "      <td>AARS2</td>\n",
       "      <td>GAATGGCAGCTGCAGCCCGG</td>\n",
       "      <td>-18.0</td>\n",
       "      <td>rA:dC</td>\n",
       "      <td>True</td>\n",
       "      <td>False</td>\n",
       "      <td>0.679875</td>\n",
       "      <td>GTCAGTGGCAGCTGCAGCCCGGAGGC</td>\n",
       "      <td>GTGAATGGCAGCTGCAGCCCGGAGGC</td>\n",
       "      <td>0.346745</td>\n",
       "      <td>0.008761</td>\n",
       "      <td>0.315144</td>\n",
       "      <td>0.008657</td>\n",
       "    </tr>\n",
       "    <tr>\n",
       "      <th>AARS2_+_44281027.23-P1P2_02</th>\n",
       "      <td>AARS2_+_44281027.23-P1P2</td>\n",
       "      <td>AARS2</td>\n",
       "      <td>GAGAGGCAGCTGCAGCCCGG</td>\n",
       "      <td>-17.0</td>\n",
       "      <td>rA:dA</td>\n",
       "      <td>True</td>\n",
       "      <td>False</td>\n",
       "      <td>0.819009</td>\n",
       "      <td>GTCAGTGGCAGCTGCAGCCCGGAGGC</td>\n",
       "      <td>GTGAGAGGCAGCTGCAGCCCGGAGGC</td>\n",
       "      <td>0.327854</td>\n",
       "      <td>0.008752</td>\n",
       "      <td>0.324130</td>\n",
       "      <td>0.008665</td>\n",
       "    </tr>\n",
       "    <tr>\n",
       "      <th>AARS2_+_44281027.23-P1P2_03</th>\n",
       "      <td>AARS2_+_44281027.23-P1P2</td>\n",
       "      <td>AARS2</td>\n",
       "      <td>GAGTGGCGGCTGCAGCCCGG</td>\n",
       "      <td>-13.0</td>\n",
       "      <td>rG:dT</td>\n",
       "      <td>True</td>\n",
       "      <td>False</td>\n",
       "      <td>0.896126</td>\n",
       "      <td>GTCAGTGGCAGCTGCAGCCCGGAGGC</td>\n",
       "      <td>GTGAGTGGCGGCTGCAGCCCGGAGGC</td>\n",
       "      <td>0.375902</td>\n",
       "      <td>0.008780</td>\n",
       "      <td>0.330647</td>\n",
       "      <td>0.008652</td>\n",
       "    </tr>\n",
       "    <tr>\n",
       "      <th>AARS2_+_44281027.23-P1P2_04</th>\n",
       "      <td>AARS2_+_44281027.23-P1P2</td>\n",
       "      <td>AARS2</td>\n",
       "      <td>GAGTGGCAGCCGCAGCCCGG</td>\n",
       "      <td>-10.0</td>\n",
       "      <td>rC:dA</td>\n",
       "      <td>True</td>\n",
       "      <td>False</td>\n",
       "      <td>0.051388</td>\n",
       "      <td>GTCAGTGGCAGCTGCAGCCCGGAGGC</td>\n",
       "      <td>GTGAGTGGCAGCCGCAGCCCGGAGGC</td>\n",
       "      <td>0.180870</td>\n",
       "      <td>0.008730</td>\n",
       "      <td>0.179912</td>\n",
       "      <td>0.008627</td>\n",
       "    </tr>\n",
       "    <tr>\n",
       "      <th>AARS2_+_44281027.23-P1P2_05</th>\n",
       "      <td>AARS2_+_44281027.23-P1P2</td>\n",
       "      <td>AARS2</td>\n",
       "      <td>GAGTGGCAGCTCCAGCCCGG</td>\n",
       "      <td>-9.0</td>\n",
       "      <td>rC:dC</td>\n",
       "      <td>True</td>\n",
       "      <td>False</td>\n",
       "      <td>-0.138016</td>\n",
       "      <td>GTCAGTGGCAGCTGCAGCCCGGAGGC</td>\n",
       "      <td>GTGAGTGGCAGCTCCAGCCCGGAGGC</td>\n",
       "      <td>0.127059</td>\n",
       "      <td>0.008884</td>\n",
       "      <td>0.126940</td>\n",
       "      <td>0.008770</td>\n",
       "    </tr>\n",
       "    <tr>\n",
       "      <th>AARS2_+_44281027.23-P1P2_06</th>\n",
       "      <td>AARS2_+_44281027.23-P1P2</td>\n",
       "      <td>AARS2</td>\n",
       "      <td>GAGTGGCAGCTGAAGCCCGG</td>\n",
       "      <td>-8.0</td>\n",
       "      <td>rA:dG</td>\n",
       "      <td>True</td>\n",
       "      <td>False</td>\n",
       "      <td>-0.073654</td>\n",
       "      <td>GTCAGTGGCAGCTGCAGCCCGGAGGC</td>\n",
       "      <td>GTGAGTGGCAGCTGAAGCCCGGAGGC</td>\n",
       "      <td>0.125306</td>\n",
       "      <td>0.008833</td>\n",
       "      <td>0.123805</td>\n",
       "      <td>0.008690</td>\n",
       "    </tr>\n",
       "    <tr>\n",
       "      <th>AARS2_+_44281027.23-P1P2_07</th>\n",
       "      <td>AARS2_+_44281027.23-P1P2</td>\n",
       "      <td>AARS2</td>\n",
       "      <td>GAGTGGCAGCTGTAGCCCGG</td>\n",
       "      <td>-8.0</td>\n",
       "      <td>rU:dG</td>\n",
       "      <td>True</td>\n",
       "      <td>False</td>\n",
       "      <td>-0.016538</td>\n",
       "      <td>GTCAGTGGCAGCTGCAGCCCGGAGGC</td>\n",
       "      <td>GTGAGTGGCAGCTGTAGCCCGGAGGC</td>\n",
       "      <td>0.143149</td>\n",
       "      <td>0.008728</td>\n",
       "      <td>0.148584</td>\n",
       "      <td>0.008654</td>\n",
       "    </tr>\n",
       "    <tr>\n",
       "      <th>AARS2_+_44281027.23-P1P2_08</th>\n",
       "      <td>AARS2_+_44281027.23-P1P2</td>\n",
       "      <td>AARS2</td>\n",
       "      <td>GAGTGGCAGGTGCAGCCCGG</td>\n",
       "      <td>-11.0</td>\n",
       "      <td>rG:dG</td>\n",
       "      <td>True</td>\n",
       "      <td>False</td>\n",
       "      <td>0.262997</td>\n",
       "      <td>GTCAGTGGCAGCTGCAGCCCGGAGGC</td>\n",
       "      <td>GTGAGTGGCAGGTGCAGCCCGGAGGC</td>\n",
       "      <td>0.254544</td>\n",
       "      <td>0.008737</td>\n",
       "      <td>0.265822</td>\n",
       "      <td>0.008639</td>\n",
       "    </tr>\n",
       "    <tr>\n",
       "      <th>AARS2_+_44281027.23-P1P2_10</th>\n",
       "      <td>AARS2_+_44281027.23-P1P2</td>\n",
       "      <td>AARS2</td>\n",
       "      <td>GAGTGGCAGCTGCACCCCGG</td>\n",
       "      <td>-6.0</td>\n",
       "      <td>rC:dC</td>\n",
       "      <td>True</td>\n",
       "      <td>False</td>\n",
       "      <td>0.024689</td>\n",
       "      <td>GTCAGTGGCAGCTGCAGCCCGGAGGC</td>\n",
       "      <td>GTGAGTGGCAGCTGCACCCCGGAGGC</td>\n",
       "      <td>0.123792</td>\n",
       "      <td>0.008804</td>\n",
       "      <td>0.122782</td>\n",
       "      <td>0.008668</td>\n",
       "    </tr>\n",
       "    <tr>\n",
       "      <th>AARS2_+_44281027.23-P1P2_11</th>\n",
       "      <td>AARS2_+_44281027.23-P1P2</td>\n",
       "      <td>AARS2</td>\n",
       "      <td>GAGTGGCAGCTGCAGCACGG</td>\n",
       "      <td>-4.0</td>\n",
       "      <td>rA:dG</td>\n",
       "      <td>True</td>\n",
       "      <td>False</td>\n",
       "      <td>-0.014757</td>\n",
       "      <td>GTCAGTGGCAGCTGCAGCCCGGAGGC</td>\n",
       "      <td>GTGAGTGGCAGCTGCAGCACGGAGGC</td>\n",
       "      <td>0.121604</td>\n",
       "      <td>0.008755</td>\n",
       "      <td>0.122300</td>\n",
       "      <td>0.008640</td>\n",
       "    </tr>\n",
       "    <tr>\n",
       "      <th>AARS2_+_44281027.23-P1P2_12</th>\n",
       "      <td>AARS2_+_44281027.23-P1P2</td>\n",
       "      <td>AARS2</td>\n",
       "      <td>GAGTGGCAGCTGCAGCCCGC</td>\n",
       "      <td>-1.0</td>\n",
       "      <td>rC:dC</td>\n",
       "      <td>True</td>\n",
       "      <td>False</td>\n",
       "      <td>0.084828</td>\n",
       "      <td>GTCAGTGGCAGCTGCAGCCCGGAGGC</td>\n",
       "      <td>GTGAGTGGCAGCTGCAGCCCGCAGGC</td>\n",
       "      <td>0.134465</td>\n",
       "      <td>0.009243</td>\n",
       "      <td>0.132567</td>\n",
       "      <td>0.009034</td>\n",
       "    </tr>\n",
       "    <tr>\n",
       "      <th>AARS2_+_44281027.23-P1P2_13</th>\n",
       "      <td>AARS2_+_44281027.23-P1P2</td>\n",
       "      <td>AARS2</td>\n",
       "      <td>GAGTGGCAGCTGCAGCCGGG</td>\n",
       "      <td>-3.0</td>\n",
       "      <td>rG:dG</td>\n",
       "      <td>True</td>\n",
       "      <td>False</td>\n",
       "      <td>0.006339</td>\n",
       "      <td>GTCAGTGGCAGCTGCAGCCCGGAGGC</td>\n",
       "      <td>GTGAGTGGCAGCTGCAGCCGGGAGGC</td>\n",
       "      <td>0.126482</td>\n",
       "      <td>0.008868</td>\n",
       "      <td>0.124106</td>\n",
       "      <td>0.008696</td>\n",
       "    </tr>\n",
       "    <tr>\n",
       "      <th>AARS2_+_44281027.23-P1P2_14</th>\n",
       "      <td>AARS2_+_44281027.23-P1P2</td>\n",
       "      <td>AARS2</td>\n",
       "      <td>GAGTGGCAGCTGCTGCCCGG</td>\n",
       "      <td>-7.0</td>\n",
       "      <td>rU:dT</td>\n",
       "      <td>True</td>\n",
       "      <td>False</td>\n",
       "      <td>-0.068014</td>\n",
       "      <td>GTCAGTGGCAGCTGCAGCCCGGAGGC</td>\n",
       "      <td>GTGAGTGGCAGCTGCTGCCCGGAGGC</td>\n",
       "      <td>0.122443</td>\n",
       "      <td>0.008793</td>\n",
       "      <td>0.121922</td>\n",
       "      <td>0.008640</td>\n",
       "    </tr>\n",
       "    <tr>\n",
       "      <th>AARS2_+_44281044.23-P1P2_01</th>\n",
       "      <td>AARS2_+_44281044.23-P1P2</td>\n",
       "      <td>AARS2</td>\n",
       "      <td>GGCAACGATGGCAGCGTCAG</td>\n",
       "      <td>-17.0</td>\n",
       "      <td>rA:dA</td>\n",
       "      <td>True</td>\n",
       "      <td>False</td>\n",
       "      <td>0.788819</td>\n",
       "      <td>GGAGCTACGATGGCAGCGTCAGTGGC</td>\n",
       "      <td>GGGGCAACGATGGCAGCGTCAGTGGC</td>\n",
       "      <td>0.421447</td>\n",
       "      <td>0.008827</td>\n",
       "      <td>0.410317</td>\n",
       "      <td>0.008685</td>\n",
       "    </tr>\n",
       "    <tr>\n",
       "      <th>AARS2_+_44281044.23-P1P2_02</th>\n",
       "      <td>AARS2_+_44281044.23-P1P2</td>\n",
       "      <td>AARS2</td>\n",
       "      <td>GGCTACTATGGCAGCGTCAG</td>\n",
       "      <td>-14.0</td>\n",
       "      <td>rU:dC</td>\n",
       "      <td>True</td>\n",
       "      <td>False</td>\n",
       "      <td>-0.051045</td>\n",
       "      <td>GGAGCTACGATGGCAGCGTCAGTGGC</td>\n",
       "      <td>GGGGCTACTATGGCAGCGTCAGTGGC</td>\n",
       "      <td>0.361718</td>\n",
       "      <td>0.008782</td>\n",
       "      <td>0.307146</td>\n",
       "      <td>0.008674</td>\n",
       "    </tr>\n",
       "    <tr>\n",
       "      <th>AARS2_+_44281044.23-P1P2_03</th>\n",
       "      <td>AARS2_+_44281044.23-P1P2</td>\n",
       "      <td>AARS2</td>\n",
       "      <td>GGTTACGATGGCAGCGTCAG</td>\n",
       "      <td>-18.0</td>\n",
       "      <td>rU:dG</td>\n",
       "      <td>True</td>\n",
       "      <td>False</td>\n",
       "      <td>0.772585</td>\n",
       "      <td>GGAGCTACGATGGCAGCGTCAGTGGC</td>\n",
       "      <td>GGGGTTACGATGGCAGCGTCAGTGGC</td>\n",
       "      <td>0.418058</td>\n",
       "      <td>0.008806</td>\n",
       "      <td>0.431147</td>\n",
       "      <td>0.008735</td>\n",
       "    </tr>\n",
       "    <tr>\n",
       "      <th>AARS2_+_44281044.23-P1P2_04</th>\n",
       "      <td>AARS2_+_44281044.23-P1P2</td>\n",
       "      <td>AARS2</td>\n",
       "      <td>GGCTACGAAGGCAGCGTCAG</td>\n",
       "      <td>-12.0</td>\n",
       "      <td>rA:dA</td>\n",
       "      <td>True</td>\n",
       "      <td>False</td>\n",
       "      <td>0.081752</td>\n",
       "      <td>GGAGCTACGATGGCAGCGTCAGTGGC</td>\n",
       "      <td>GGGGCTACGAAGGCAGCGTCAGTGGC</td>\n",
       "      <td>0.347730</td>\n",
       "      <td>0.008767</td>\n",
       "      <td>0.295205</td>\n",
       "      <td>0.008658</td>\n",
       "    </tr>\n",
       "    <tr>\n",
       "      <th>...</th>\n",
       "      <td>...</td>\n",
       "      <td>...</td>\n",
       "      <td>...</td>\n",
       "      <td>...</td>\n",
       "      <td>...</td>\n",
       "      <td>...</td>\n",
       "      <td>...</td>\n",
       "      <td>...</td>\n",
       "      <td>...</td>\n",
       "      <td>...</td>\n",
       "      <td>...</td>\n",
       "      <td>...</td>\n",
       "      <td>...</td>\n",
       "      <td>...</td>\n",
       "    </tr>\n",
       "    <tr>\n",
       "      <th>ZW10_+_113644402.23-P1P2_11</th>\n",
       "      <td>ZW10_+_113644402.23-P1P2</td>\n",
       "      <td>ZW10</td>\n",
       "      <td>GAGAGTGACCCAGTCAGAGT</td>\n",
       "      <td>-3.0</td>\n",
       "      <td>rA:dG</td>\n",
       "      <td>True</td>\n",
       "      <td>False</td>\n",
       "      <td>0.053933</td>\n",
       "      <td>ACGAGAGTGACCCAGTCAGCGTTGGT</td>\n",
       "      <td>ACGAGAGTGACCCAGTCAGAGTTGGT</td>\n",
       "      <td>0.121656</td>\n",
       "      <td>0.008772</td>\n",
       "      <td>0.122095</td>\n",
       "      <td>0.008664</td>\n",
       "    </tr>\n",
       "    <tr>\n",
       "      <th>ZW10_+_113644402.23-P1P2_12</th>\n",
       "      <td>ZW10_+_113644402.23-P1P2</td>\n",
       "      <td>ZW10</td>\n",
       "      <td>GAGAGTGACCCAGTCATCGT</td>\n",
       "      <td>-4.0</td>\n",
       "      <td>rU:dC</td>\n",
       "      <td>True</td>\n",
       "      <td>False</td>\n",
       "      <td>0.017294</td>\n",
       "      <td>ACGAGAGTGACCCAGTCAGCGTTGGT</td>\n",
       "      <td>ACGAGAGTGACCCAGTCATCGTTGGT</td>\n",
       "      <td>0.125739</td>\n",
       "      <td>0.008847</td>\n",
       "      <td>0.122889</td>\n",
       "      <td>0.008680</td>\n",
       "    </tr>\n",
       "    <tr>\n",
       "      <th>ZW10_+_113644402.23-P1P2_13</th>\n",
       "      <td>ZW10_+_113644402.23-P1P2</td>\n",
       "      <td>ZW10</td>\n",
       "      <td>GAGAGTGACCCAGTCCGCGT</td>\n",
       "      <td>-5.0</td>\n",
       "      <td>rC:dT</td>\n",
       "      <td>True</td>\n",
       "      <td>False</td>\n",
       "      <td>0.017241</td>\n",
       "      <td>ACGAGAGTGACCCAGTCAGCGTTGGT</td>\n",
       "      <td>ACGAGAGTGACCCAGTCCGCGTTGGT</td>\n",
       "      <td>0.142016</td>\n",
       "      <td>0.008737</td>\n",
       "      <td>0.128207</td>\n",
       "      <td>0.008627</td>\n",
       "    </tr>\n",
       "    <tr>\n",
       "      <th>ZW10_+_113644402.23-P1P2_14</th>\n",
       "      <td>ZW10_+_113644402.23-P1P2</td>\n",
       "      <td>ZW10</td>\n",
       "      <td>GAGAGTGACCCAGTGAGCGT</td>\n",
       "      <td>-6.0</td>\n",
       "      <td>rG:dG</td>\n",
       "      <td>True</td>\n",
       "      <td>False</td>\n",
       "      <td>0.034069</td>\n",
       "      <td>ACGAGAGTGACCCAGTCAGCGTTGGT</td>\n",
       "      <td>ACGAGAGTGACCCAGTGAGCGTTGGT</td>\n",
       "      <td>0.121666</td>\n",
       "      <td>0.008757</td>\n",
       "      <td>0.122261</td>\n",
       "      <td>0.008664</td>\n",
       "    </tr>\n",
       "    <tr>\n",
       "      <th>ZWINT_+_58120993.23-P1P2_01</th>\n",
       "      <td>ZWINT_+_58120993.23-P1P2</td>\n",
       "      <td>ZWINT</td>\n",
       "      <td>GAACTGGGCGCCTGGAAAGA</td>\n",
       "      <td>-15.0</td>\n",
       "      <td>rG:dG</td>\n",
       "      <td>True</td>\n",
       "      <td>True</td>\n",
       "      <td>-0.001122</td>\n",
       "      <td>CTGAACTCGGCGCCTGGAAAGATGGA</td>\n",
       "      <td>CTGAACTGGGCGCCTGGAAAGATGGA</td>\n",
       "      <td>0.381413</td>\n",
       "      <td>0.008800</td>\n",
       "      <td>0.370604</td>\n",
       "      <td>0.008695</td>\n",
       "    </tr>\n",
       "    <tr>\n",
       "      <th>ZWINT_+_58120993.23-P1P2_02</th>\n",
       "      <td>ZWINT_+_58120993.23-P1P2</td>\n",
       "      <td>ZWINT</td>\n",
       "      <td>GCACTCGGCGCCTGGAAAGA</td>\n",
       "      <td>-19.0</td>\n",
       "      <td>rC:dT</td>\n",
       "      <td>True</td>\n",
       "      <td>True</td>\n",
       "      <td>0.039247</td>\n",
       "      <td>CTGAACTCGGCGCCTGGAAAGATGGA</td>\n",
       "      <td>CTGCACTCGGCGCCTGGAAAGATGGA</td>\n",
       "      <td>0.358277</td>\n",
       "      <td>0.008771</td>\n",
       "      <td>0.372950</td>\n",
       "      <td>0.008681</td>\n",
       "    </tr>\n",
       "    <tr>\n",
       "      <th>ZWINT_+_58120993.23-P1P2_03</th>\n",
       "      <td>ZWINT_+_58120993.23-P1P2</td>\n",
       "      <td>ZWINT</td>\n",
       "      <td>GTACTCGGCGCCTGGAAAGA</td>\n",
       "      <td>-19.0</td>\n",
       "      <td>rU:dT</td>\n",
       "      <td>True</td>\n",
       "      <td>True</td>\n",
       "      <td>0.598795</td>\n",
       "      <td>CTGAACTCGGCGCCTGGAAAGATGGA</td>\n",
       "      <td>CTGTACTCGGCGCCTGGAAAGATGGA</td>\n",
       "      <td>0.337591</td>\n",
       "      <td>0.008766</td>\n",
       "      <td>0.399561</td>\n",
       "      <td>0.008684</td>\n",
       "    </tr>\n",
       "    <tr>\n",
       "      <th>ZWINT_+_58120993.23-P1P2_04</th>\n",
       "      <td>ZWINT_+_58120993.23-P1P2</td>\n",
       "      <td>ZWINT</td>\n",
       "      <td>GAACTCGGCGCCCGGAAAGA</td>\n",
       "      <td>-8.0</td>\n",
       "      <td>rC:dA</td>\n",
       "      <td>True</td>\n",
       "      <td>True</td>\n",
       "      <td>0.307475</td>\n",
       "      <td>CTGAACTCGGCGCCTGGAAAGATGGA</td>\n",
       "      <td>CTGAACTCGGCGCCCGGAAAGATGGA</td>\n",
       "      <td>0.191460</td>\n",
       "      <td>0.008728</td>\n",
       "      <td>0.185683</td>\n",
       "      <td>0.008629</td>\n",
       "    </tr>\n",
       "    <tr>\n",
       "      <th>ZWINT_+_58120993.23-P1P2_05</th>\n",
       "      <td>ZWINT_+_58120993.23-P1P2</td>\n",
       "      <td>ZWINT</td>\n",
       "      <td>GAACTCGGCGCCGGGAAAGA</td>\n",
       "      <td>-8.0</td>\n",
       "      <td>rG:dA</td>\n",
       "      <td>True</td>\n",
       "      <td>True</td>\n",
       "      <td>0.016515</td>\n",
       "      <td>CTGAACTCGGCGCCTGGAAAGATGGA</td>\n",
       "      <td>CTGAACTCGGCGCCGGGAAAGATGGA</td>\n",
       "      <td>0.155433</td>\n",
       "      <td>0.008731</td>\n",
       "      <td>0.136494</td>\n",
       "      <td>0.008632</td>\n",
       "    </tr>\n",
       "    <tr>\n",
       "      <th>ZWINT_+_58120993.23-P1P2_06</th>\n",
       "      <td>ZWINT_+_58120993.23-P1P2</td>\n",
       "      <td>ZWINT</td>\n",
       "      <td>GAACTCGGCGCTTGGAAAGA</td>\n",
       "      <td>-9.0</td>\n",
       "      <td>rU:dG</td>\n",
       "      <td>True</td>\n",
       "      <td>True</td>\n",
       "      <td>0.236985</td>\n",
       "      <td>CTGAACTCGGCGCCTGGAAAGATGGA</td>\n",
       "      <td>CTGAACTCGGCGCTTGGAAAGATGGA</td>\n",
       "      <td>0.235602</td>\n",
       "      <td>0.008734</td>\n",
       "      <td>0.223423</td>\n",
       "      <td>0.008646</td>\n",
       "    </tr>\n",
       "    <tr>\n",
       "      <th>ZWINT_+_58120993.23-P1P2_07</th>\n",
       "      <td>ZWINT_+_58120993.23-P1P2</td>\n",
       "      <td>ZWINT</td>\n",
       "      <td>GAACTCGGCGGCTGGAAAGA</td>\n",
       "      <td>-10.0</td>\n",
       "      <td>rG:dG</td>\n",
       "      <td>True</td>\n",
       "      <td>True</td>\n",
       "      <td>0.278076</td>\n",
       "      <td>CTGAACTCGGCGCCTGGAAAGATGGA</td>\n",
       "      <td>CTGAACTCGGCGGCTGGAAAGATGGA</td>\n",
       "      <td>0.189976</td>\n",
       "      <td>0.008746</td>\n",
       "      <td>0.200995</td>\n",
       "      <td>0.008652</td>\n",
       "    </tr>\n",
       "    <tr>\n",
       "      <th>ZWINT_+_58120993.23-P1P2_08</th>\n",
       "      <td>ZWINT_+_58120993.23-P1P2</td>\n",
       "      <td>ZWINT</td>\n",
       "      <td>GAACTCGGCGTCTGGAAAGA</td>\n",
       "      <td>-10.0</td>\n",
       "      <td>rU:dG</td>\n",
       "      <td>True</td>\n",
       "      <td>True</td>\n",
       "      <td>0.482526</td>\n",
       "      <td>CTGAACTCGGCGCCTGGAAAGATGGA</td>\n",
       "      <td>CTGAACTCGGCGTCTGGAAAGATGGA</td>\n",
       "      <td>0.266822</td>\n",
       "      <td>0.008746</td>\n",
       "      <td>0.264335</td>\n",
       "      <td>0.008646</td>\n",
       "    </tr>\n",
       "    <tr>\n",
       "      <th>ZWINT_+_58120993.23-P1P2_10</th>\n",
       "      <td>ZWINT_+_58120993.23-P1P2</td>\n",
       "      <td>ZWINT</td>\n",
       "      <td>GAACTCGGCGCCTGGAAAGC</td>\n",
       "      <td>-1.0</td>\n",
       "      <td>rC:dT</td>\n",
       "      <td>True</td>\n",
       "      <td>True</td>\n",
       "      <td>0.027164</td>\n",
       "      <td>CTGAACTCGGCGCCTGGAAAGATGGA</td>\n",
       "      <td>CTGAACTCGGCGCCTGGAAAGCTGGA</td>\n",
       "      <td>0.122869</td>\n",
       "      <td>0.008808</td>\n",
       "      <td>0.121966</td>\n",
       "      <td>0.008642</td>\n",
       "    </tr>\n",
       "    <tr>\n",
       "      <th>ZWINT_+_58120993.23-P1P2_11</th>\n",
       "      <td>ZWINT_+_58120993.23-P1P2</td>\n",
       "      <td>ZWINT</td>\n",
       "      <td>GAACTCGGCGCCTGGAAGGA</td>\n",
       "      <td>-3.0</td>\n",
       "      <td>rG:dT</td>\n",
       "      <td>True</td>\n",
       "      <td>True</td>\n",
       "      <td>0.375338</td>\n",
       "      <td>CTGAACTCGGCGCCTGGAAAGATGGA</td>\n",
       "      <td>CTGAACTCGGCGCCTGGAAGGATGGA</td>\n",
       "      <td>0.259057</td>\n",
       "      <td>0.008746</td>\n",
       "      <td>0.318100</td>\n",
       "      <td>0.008658</td>\n",
       "    </tr>\n",
       "    <tr>\n",
       "      <th>ZWINT_+_58120993.23-P1P2_12</th>\n",
       "      <td>ZWINT_+_58120993.23-P1P2</td>\n",
       "      <td>ZWINT</td>\n",
       "      <td>GAACTCGGCGCCTGGAATGA</td>\n",
       "      <td>-3.0</td>\n",
       "      <td>rU:dT</td>\n",
       "      <td>True</td>\n",
       "      <td>True</td>\n",
       "      <td>0.007995</td>\n",
       "      <td>CTGAACTCGGCGCCTGGAAAGATGGA</td>\n",
       "      <td>CTGAACTCGGCGCCTGGAATGATGGA</td>\n",
       "      <td>0.135404</td>\n",
       "      <td>0.008745</td>\n",
       "      <td>0.122128</td>\n",
       "      <td>0.008640</td>\n",
       "    </tr>\n",
       "    <tr>\n",
       "      <th>ZWINT_+_58120993.23-P1P2_13</th>\n",
       "      <td>ZWINT_+_58120993.23-P1P2</td>\n",
       "      <td>ZWINT</td>\n",
       "      <td>GAACTCGGCGCCTGGATAGA</td>\n",
       "      <td>-4.0</td>\n",
       "      <td>rU:dT</td>\n",
       "      <td>True</td>\n",
       "      <td>True</td>\n",
       "      <td>-0.026915</td>\n",
       "      <td>CTGAACTCGGCGCCTGGAAAGATGGA</td>\n",
       "      <td>CTGAACTCGGCGCCTGGATAGATGGA</td>\n",
       "      <td>0.125137</td>\n",
       "      <td>0.008752</td>\n",
       "      <td>0.122136</td>\n",
       "      <td>0.008659</td>\n",
       "    </tr>\n",
       "    <tr>\n",
       "      <th>ZWINT_+_58120993.23-P1P2_14</th>\n",
       "      <td>ZWINT_+_58120993.23-P1P2</td>\n",
       "      <td>ZWINT</td>\n",
       "      <td>GAACTCGGCGCCTGTAAAGA</td>\n",
       "      <td>-6.0</td>\n",
       "      <td>rU:dC</td>\n",
       "      <td>True</td>\n",
       "      <td>True</td>\n",
       "      <td>-0.002497</td>\n",
       "      <td>CTGAACTCGGCGCCTGGAAAGATGGA</td>\n",
       "      <td>CTGAACTCGGCGCCTGTAAAGATGGA</td>\n",
       "      <td>0.136126</td>\n",
       "      <td>0.009390</td>\n",
       "      <td>0.121772</td>\n",
       "      <td>0.008652</td>\n",
       "    </tr>\n",
       "    <tr>\n",
       "      <th>ZWINT_+_58121021.23-P1P2_01</th>\n",
       "      <td>ZWINT_+_58121021.23-P1P2</td>\n",
       "      <td>ZWINT</td>\n",
       "      <td>GAATCTCAGGGATTGTGGGA</td>\n",
       "      <td>-14.0</td>\n",
       "      <td>rC:dA</td>\n",
       "      <td>True</td>\n",
       "      <td>False</td>\n",
       "      <td>0.715049</td>\n",
       "      <td>AGTAATCTTAGGGATTGTGGGAAGGC</td>\n",
       "      <td>AGGAATCTCAGGGATTGTGGGAAGGC</td>\n",
       "      <td>0.400285</td>\n",
       "      <td>0.008805</td>\n",
       "      <td>0.401246</td>\n",
       "      <td>0.008685</td>\n",
       "    </tr>\n",
       "    <tr>\n",
       "      <th>ZWINT_+_58121021.23-P1P2_02</th>\n",
       "      <td>ZWINT_+_58121021.23-P1P2</td>\n",
       "      <td>ZWINT</td>\n",
       "      <td>GAATCTTGGGGATTGTGGGA</td>\n",
       "      <td>-13.0</td>\n",
       "      <td>rG:dT</td>\n",
       "      <td>True</td>\n",
       "      <td>False</td>\n",
       "      <td>0.787005</td>\n",
       "      <td>AGTAATCTTAGGGATTGTGGGAAGGC</td>\n",
       "      <td>AGGAATCTTGGGGATTGTGGGAAGGC</td>\n",
       "      <td>0.444658</td>\n",
       "      <td>0.008844</td>\n",
       "      <td>0.438401</td>\n",
       "      <td>0.008747</td>\n",
       "    </tr>\n",
       "    <tr>\n",
       "      <th>ZWINT_+_58121021.23-P1P2_03</th>\n",
       "      <td>ZWINT_+_58121021.23-P1P2</td>\n",
       "      <td>ZWINT</td>\n",
       "      <td>GGATCTTAGGGATTGTGGGA</td>\n",
       "      <td>-19.0</td>\n",
       "      <td>rG:dT</td>\n",
       "      <td>True</td>\n",
       "      <td>False</td>\n",
       "      <td>1.071435</td>\n",
       "      <td>AGTAATCTTAGGGATTGTGGGAAGGC</td>\n",
       "      <td>AGGGATCTTAGGGATTGTGGGAAGGC</td>\n",
       "      <td>0.446620</td>\n",
       "      <td>0.008832</td>\n",
       "      <td>0.396431</td>\n",
       "      <td>0.008690</td>\n",
       "    </tr>\n",
       "    <tr>\n",
       "      <th>ZWINT_+_58121021.23-P1P2_04</th>\n",
       "      <td>ZWINT_+_58121021.23-P1P2</td>\n",
       "      <td>ZWINT</td>\n",
       "      <td>GAATCTTAAGGATTGTGGGA</td>\n",
       "      <td>-12.0</td>\n",
       "      <td>rA:dC</td>\n",
       "      <td>True</td>\n",
       "      <td>False</td>\n",
       "      <td>-0.009085</td>\n",
       "      <td>AGTAATCTTAGGGATTGTGGGAAGGC</td>\n",
       "      <td>AGGAATCTTAAGGATTGTGGGAAGGC</td>\n",
       "      <td>0.228126</td>\n",
       "      <td>0.008732</td>\n",
       "      <td>0.282413</td>\n",
       "      <td>0.008640</td>\n",
       "    </tr>\n",
       "    <tr>\n",
       "      <th>ZWINT_+_58121021.23-P1P2_05</th>\n",
       "      <td>ZWINT_+_58121021.23-P1P2</td>\n",
       "      <td>ZWINT</td>\n",
       "      <td>GAATCTTAGCGATTGTGGGA</td>\n",
       "      <td>-11.0</td>\n",
       "      <td>rC:dC</td>\n",
       "      <td>True</td>\n",
       "      <td>False</td>\n",
       "      <td>-0.045785</td>\n",
       "      <td>AGTAATCTTAGGGATTGTGGGAAGGC</td>\n",
       "      <td>AGGAATCTTAGCGATTGTGGGAAGGC</td>\n",
       "      <td>0.124827</td>\n",
       "      <td>0.008747</td>\n",
       "      <td>0.125533</td>\n",
       "      <td>0.008641</td>\n",
       "    </tr>\n",
       "    <tr>\n",
       "      <th>ZWINT_+_58121021.23-P1P2_06</th>\n",
       "      <td>ZWINT_+_58121021.23-P1P2</td>\n",
       "      <td>ZWINT</td>\n",
       "      <td>GAATCTTAGGGAATGTGGGA</td>\n",
       "      <td>-8.0</td>\n",
       "      <td>rA:dA</td>\n",
       "      <td>True</td>\n",
       "      <td>False</td>\n",
       "      <td>-0.079727</td>\n",
       "      <td>AGTAATCTTAGGGATTGTGGGAAGGC</td>\n",
       "      <td>AGGAATCTTAGGGAATGTGGGAAGGC</td>\n",
       "      <td>0.121976</td>\n",
       "      <td>0.008758</td>\n",
       "      <td>0.141470</td>\n",
       "      <td>0.008626</td>\n",
       "    </tr>\n",
       "    <tr>\n",
       "      <th>ZWINT_+_58121021.23-P1P2_07</th>\n",
       "      <td>ZWINT_+_58121021.23-P1P2</td>\n",
       "      <td>ZWINT</td>\n",
       "      <td>GAATCTTAGGTATTGTGGGA</td>\n",
       "      <td>-10.0</td>\n",
       "      <td>rU:dC</td>\n",
       "      <td>True</td>\n",
       "      <td>False</td>\n",
       "      <td>-0.048548</td>\n",
       "      <td>AGTAATCTTAGGGATTGTGGGAAGGC</td>\n",
       "      <td>AGGAATCTTAGGTATTGTGGGAAGGC</td>\n",
       "      <td>0.127871</td>\n",
       "      <td>0.008746</td>\n",
       "      <td>0.127331</td>\n",
       "      <td>0.008631</td>\n",
       "    </tr>\n",
       "    <tr>\n",
       "      <th>ZWINT_+_58121021.23-P1P2_08</th>\n",
       "      <td>ZWINT_+_58121021.23-P1P2</td>\n",
       "      <td>ZWINT</td>\n",
       "      <td>GAATCTTATGGATTGTGGGA</td>\n",
       "      <td>-12.0</td>\n",
       "      <td>rU:dC</td>\n",
       "      <td>True</td>\n",
       "      <td>False</td>\n",
       "      <td>0.025631</td>\n",
       "      <td>AGTAATCTTAGGGATTGTGGGAAGGC</td>\n",
       "      <td>AGGAATCTTATGGATTGTGGGAAGGC</td>\n",
       "      <td>0.201518</td>\n",
       "      <td>0.008738</td>\n",
       "      <td>0.212377</td>\n",
       "      <td>0.008655</td>\n",
       "    </tr>\n",
       "    <tr>\n",
       "      <th>ZWINT_+_58121021.23-P1P2_10</th>\n",
       "      <td>ZWINT_+_58121021.23-P1P2</td>\n",
       "      <td>ZWINT</td>\n",
       "      <td>GAATCTTAGGGATAGTGGGA</td>\n",
       "      <td>-7.0</td>\n",
       "      <td>rA:dA</td>\n",
       "      <td>True</td>\n",
       "      <td>False</td>\n",
       "      <td>-0.027697</td>\n",
       "      <td>AGTAATCTTAGGGATTGTGGGAAGGC</td>\n",
       "      <td>AGGAATCTTAGGGATAGTGGGAAGGC</td>\n",
       "      <td>0.132710</td>\n",
       "      <td>0.008736</td>\n",
       "      <td>0.191504</td>\n",
       "      <td>0.008630</td>\n",
       "    </tr>\n",
       "    <tr>\n",
       "      <th>ZWINT_+_58121021.23-P1P2_11</th>\n",
       "      <td>ZWINT_+_58121021.23-P1P2</td>\n",
       "      <td>ZWINT</td>\n",
       "      <td>GAATCTTAGGGATCGTGGGA</td>\n",
       "      <td>-7.0</td>\n",
       "      <td>rC:dA</td>\n",
       "      <td>True</td>\n",
       "      <td>False</td>\n",
       "      <td>0.055466</td>\n",
       "      <td>AGTAATCTTAGGGATTGTGGGAAGGC</td>\n",
       "      <td>AGGAATCTTAGGGATCGTGGGAAGGC</td>\n",
       "      <td>0.149284</td>\n",
       "      <td>0.008729</td>\n",
       "      <td>0.186786</td>\n",
       "      <td>0.008632</td>\n",
       "    </tr>\n",
       "    <tr>\n",
       "      <th>ZWINT_+_58121021.23-P1P2_12</th>\n",
       "      <td>ZWINT_+_58121021.23-P1P2</td>\n",
       "      <td>ZWINT</td>\n",
       "      <td>GAATCTTAGGGATTGAGGGA</td>\n",
       "      <td>-5.0</td>\n",
       "      <td>rA:dA</td>\n",
       "      <td>True</td>\n",
       "      <td>False</td>\n",
       "      <td>0.097816</td>\n",
       "      <td>AGTAATCTTAGGGATTGTGGGAAGGC</td>\n",
       "      <td>AGGAATCTTAGGGATTGAGGGAAGGC</td>\n",
       "      <td>0.146304</td>\n",
       "      <td>0.008741</td>\n",
       "      <td>0.137227</td>\n",
       "      <td>0.008644</td>\n",
       "    </tr>\n",
       "    <tr>\n",
       "      <th>ZWINT_+_58121021.23-P1P2_13</th>\n",
       "      <td>ZWINT_+_58121021.23-P1P2</td>\n",
       "      <td>ZWINT</td>\n",
       "      <td>GAATCTTAGGGATTGTGAGA</td>\n",
       "      <td>-3.0</td>\n",
       "      <td>rA:dC</td>\n",
       "      <td>True</td>\n",
       "      <td>False</td>\n",
       "      <td>0.042555</td>\n",
       "      <td>AGTAATCTTAGGGATTGTGGGAAGGC</td>\n",
       "      <td>AGGAATCTTAGGGATTGTGAGAAGGC</td>\n",
       "      <td>0.123857</td>\n",
       "      <td>0.008748</td>\n",
       "      <td>0.123385</td>\n",
       "      <td>0.008651</td>\n",
       "    </tr>\n",
       "    <tr>\n",
       "      <th>ZWINT_+_58121021.23-P1P2_14</th>\n",
       "      <td>ZWINT_+_58121021.23-P1P2</td>\n",
       "      <td>ZWINT</td>\n",
       "      <td>GAATCTTAGGGATTGTGGTA</td>\n",
       "      <td>-2.0</td>\n",
       "      <td>rU:dC</td>\n",
       "      <td>True</td>\n",
       "      <td>False</td>\n",
       "      <td>-0.091276</td>\n",
       "      <td>AGTAATCTTAGGGATTGTGGGAAGGC</td>\n",
       "      <td>AGGAATCTTAGGGATTGTGGTAAGGC</td>\n",
       "      <td>0.122892</td>\n",
       "      <td>0.008802</td>\n",
       "      <td>0.122040</td>\n",
       "      <td>0.008654</td>\n",
       "    </tr>\n",
       "  </tbody>\n",
       "</table>\n",
       "<p>26248 rows × 14 columns</p>\n",
       "</div>"
      ],
      "text/plain": [
       "                                  perfect match sgRNA   gene  \\\n",
       "AAR2_-_34824434.23-P1P2_01    AAR2_-_34824434.23-P1P2   AAR2   \n",
       "AAR2_-_34824434.23-P1P2_02    AAR2_-_34824434.23-P1P2   AAR2   \n",
       "AAR2_-_34824434.23-P1P2_03    AAR2_-_34824434.23-P1P2   AAR2   \n",
       "AAR2_-_34824434.23-P1P2_04    AAR2_-_34824434.23-P1P2   AAR2   \n",
       "AAR2_-_34824434.23-P1P2_05    AAR2_-_34824434.23-P1P2   AAR2   \n",
       "AAR2_-_34824434.23-P1P2_06    AAR2_-_34824434.23-P1P2   AAR2   \n",
       "AAR2_-_34824434.23-P1P2_07    AAR2_-_34824434.23-P1P2   AAR2   \n",
       "AAR2_-_34824434.23-P1P2_08    AAR2_-_34824434.23-P1P2   AAR2   \n",
       "AAR2_-_34824434.23-P1P2_09    AAR2_-_34824434.23-P1P2   AAR2   \n",
       "AAR2_-_34824434.23-P1P2_10    AAR2_-_34824434.23-P1P2   AAR2   \n",
       "AAR2_-_34824434.23-P1P2_11    AAR2_-_34824434.23-P1P2   AAR2   \n",
       "AAR2_-_34824434.23-P1P2_12    AAR2_-_34824434.23-P1P2   AAR2   \n",
       "AAR2_-_34824434.23-P1P2_13    AAR2_-_34824434.23-P1P2   AAR2   \n",
       "AARS2_+_44281027.23-P1P2_01  AARS2_+_44281027.23-P1P2  AARS2   \n",
       "AARS2_+_44281027.23-P1P2_02  AARS2_+_44281027.23-P1P2  AARS2   \n",
       "AARS2_+_44281027.23-P1P2_03  AARS2_+_44281027.23-P1P2  AARS2   \n",
       "AARS2_+_44281027.23-P1P2_04  AARS2_+_44281027.23-P1P2  AARS2   \n",
       "AARS2_+_44281027.23-P1P2_05  AARS2_+_44281027.23-P1P2  AARS2   \n",
       "AARS2_+_44281027.23-P1P2_06  AARS2_+_44281027.23-P1P2  AARS2   \n",
       "AARS2_+_44281027.23-P1P2_07  AARS2_+_44281027.23-P1P2  AARS2   \n",
       "AARS2_+_44281027.23-P1P2_08  AARS2_+_44281027.23-P1P2  AARS2   \n",
       "AARS2_+_44281027.23-P1P2_10  AARS2_+_44281027.23-P1P2  AARS2   \n",
       "AARS2_+_44281027.23-P1P2_11  AARS2_+_44281027.23-P1P2  AARS2   \n",
       "AARS2_+_44281027.23-P1P2_12  AARS2_+_44281027.23-P1P2  AARS2   \n",
       "AARS2_+_44281027.23-P1P2_13  AARS2_+_44281027.23-P1P2  AARS2   \n",
       "AARS2_+_44281027.23-P1P2_14  AARS2_+_44281027.23-P1P2  AARS2   \n",
       "AARS2_+_44281044.23-P1P2_01  AARS2_+_44281044.23-P1P2  AARS2   \n",
       "AARS2_+_44281044.23-P1P2_02  AARS2_+_44281044.23-P1P2  AARS2   \n",
       "AARS2_+_44281044.23-P1P2_03  AARS2_+_44281044.23-P1P2  AARS2   \n",
       "AARS2_+_44281044.23-P1P2_04  AARS2_+_44281044.23-P1P2  AARS2   \n",
       "...                                               ...    ...   \n",
       "ZW10_+_113644402.23-P1P2_11  ZW10_+_113644402.23-P1P2   ZW10   \n",
       "ZW10_+_113644402.23-P1P2_12  ZW10_+_113644402.23-P1P2   ZW10   \n",
       "ZW10_+_113644402.23-P1P2_13  ZW10_+_113644402.23-P1P2   ZW10   \n",
       "ZW10_+_113644402.23-P1P2_14  ZW10_+_113644402.23-P1P2   ZW10   \n",
       "ZWINT_+_58120993.23-P1P2_01  ZWINT_+_58120993.23-P1P2  ZWINT   \n",
       "ZWINT_+_58120993.23-P1P2_02  ZWINT_+_58120993.23-P1P2  ZWINT   \n",
       "ZWINT_+_58120993.23-P1P2_03  ZWINT_+_58120993.23-P1P2  ZWINT   \n",
       "ZWINT_+_58120993.23-P1P2_04  ZWINT_+_58120993.23-P1P2  ZWINT   \n",
       "ZWINT_+_58120993.23-P1P2_05  ZWINT_+_58120993.23-P1P2  ZWINT   \n",
       "ZWINT_+_58120993.23-P1P2_06  ZWINT_+_58120993.23-P1P2  ZWINT   \n",
       "ZWINT_+_58120993.23-P1P2_07  ZWINT_+_58120993.23-P1P2  ZWINT   \n",
       "ZWINT_+_58120993.23-P1P2_08  ZWINT_+_58120993.23-P1P2  ZWINT   \n",
       "ZWINT_+_58120993.23-P1P2_10  ZWINT_+_58120993.23-P1P2  ZWINT   \n",
       "ZWINT_+_58120993.23-P1P2_11  ZWINT_+_58120993.23-P1P2  ZWINT   \n",
       "ZWINT_+_58120993.23-P1P2_12  ZWINT_+_58120993.23-P1P2  ZWINT   \n",
       "ZWINT_+_58120993.23-P1P2_13  ZWINT_+_58120993.23-P1P2  ZWINT   \n",
       "ZWINT_+_58120993.23-P1P2_14  ZWINT_+_58120993.23-P1P2  ZWINT   \n",
       "ZWINT_+_58121021.23-P1P2_01  ZWINT_+_58121021.23-P1P2  ZWINT   \n",
       "ZWINT_+_58121021.23-P1P2_02  ZWINT_+_58121021.23-P1P2  ZWINT   \n",
       "ZWINT_+_58121021.23-P1P2_03  ZWINT_+_58121021.23-P1P2  ZWINT   \n",
       "ZWINT_+_58121021.23-P1P2_04  ZWINT_+_58121021.23-P1P2  ZWINT   \n",
       "ZWINT_+_58121021.23-P1P2_05  ZWINT_+_58121021.23-P1P2  ZWINT   \n",
       "ZWINT_+_58121021.23-P1P2_06  ZWINT_+_58121021.23-P1P2  ZWINT   \n",
       "ZWINT_+_58121021.23-P1P2_07  ZWINT_+_58121021.23-P1P2  ZWINT   \n",
       "ZWINT_+_58121021.23-P1P2_08  ZWINT_+_58121021.23-P1P2  ZWINT   \n",
       "ZWINT_+_58121021.23-P1P2_10  ZWINT_+_58121021.23-P1P2  ZWINT   \n",
       "ZWINT_+_58121021.23-P1P2_11  ZWINT_+_58121021.23-P1P2  ZWINT   \n",
       "ZWINT_+_58121021.23-P1P2_12  ZWINT_+_58121021.23-P1P2  ZWINT   \n",
       "ZWINT_+_58121021.23-P1P2_13  ZWINT_+_58121021.23-P1P2  ZWINT   \n",
       "ZWINT_+_58121021.23-P1P2_14  ZWINT_+_58121021.23-P1P2  ZWINT   \n",
       "\n",
       "                                   sgRNA sequence  mismatch position  \\\n",
       "AAR2_-_34824434.23-P1P2_01   GTGAGGCGAGGCGGTGAGTG              -17.0   \n",
       "AAR2_-_34824434.23-P1P2_02   GTGGGACGAGGCGGTGAGTG              -15.0   \n",
       "AAR2_-_34824434.23-P1P2_03   GTGGGGGGAGGCGGTGAGTG              -14.0   \n",
       "AAR2_-_34824434.23-P1P2_04   GTGGGGCGAAGCGGTGAGTG              -11.0   \n",
       "AAR2_-_34824434.23-P1P2_05   GTGGGGCGACGCGGTGAGTG              -11.0   \n",
       "AAR2_-_34824434.23-P1P2_06   GTGGGGCGAGACGGTGAGTG              -10.0   \n",
       "AAR2_-_34824434.23-P1P2_07   GTGGGGCGAGGAGGTGAGTG               -9.0   \n",
       "AAR2_-_34824434.23-P1P2_08   GTGGGGCGAGGCAGTGAGTG               -8.0   \n",
       "AAR2_-_34824434.23-P1P2_09   GTGGGGCGAGGCGATGAGTG               -7.0   \n",
       "AAR2_-_34824434.23-P1P2_10   GTGGGGCGAGGCGCTGAGTG               -7.0   \n",
       "AAR2_-_34824434.23-P1P2_11   GTGGGGCGAGGCGGTCAGTG               -5.0   \n",
       "AAR2_-_34824434.23-P1P2_12   GTGGGGCGAGGCGGTGACTG               -3.0   \n",
       "AAR2_-_34824434.23-P1P2_13   GTGGGGCGAGGCGGTGAGTC               -1.0   \n",
       "AARS2_+_44281027.23-P1P2_01  GAATGGCAGCTGCAGCCCGG              -18.0   \n",
       "AARS2_+_44281027.23-P1P2_02  GAGAGGCAGCTGCAGCCCGG              -17.0   \n",
       "AARS2_+_44281027.23-P1P2_03  GAGTGGCGGCTGCAGCCCGG              -13.0   \n",
       "AARS2_+_44281027.23-P1P2_04  GAGTGGCAGCCGCAGCCCGG              -10.0   \n",
       "AARS2_+_44281027.23-P1P2_05  GAGTGGCAGCTCCAGCCCGG               -9.0   \n",
       "AARS2_+_44281027.23-P1P2_06  GAGTGGCAGCTGAAGCCCGG               -8.0   \n",
       "AARS2_+_44281027.23-P1P2_07  GAGTGGCAGCTGTAGCCCGG               -8.0   \n",
       "AARS2_+_44281027.23-P1P2_08  GAGTGGCAGGTGCAGCCCGG              -11.0   \n",
       "AARS2_+_44281027.23-P1P2_10  GAGTGGCAGCTGCACCCCGG               -6.0   \n",
       "AARS2_+_44281027.23-P1P2_11  GAGTGGCAGCTGCAGCACGG               -4.0   \n",
       "AARS2_+_44281027.23-P1P2_12  GAGTGGCAGCTGCAGCCCGC               -1.0   \n",
       "AARS2_+_44281027.23-P1P2_13  GAGTGGCAGCTGCAGCCGGG               -3.0   \n",
       "AARS2_+_44281027.23-P1P2_14  GAGTGGCAGCTGCTGCCCGG               -7.0   \n",
       "AARS2_+_44281044.23-P1P2_01  GGCAACGATGGCAGCGTCAG              -17.0   \n",
       "AARS2_+_44281044.23-P1P2_02  GGCTACTATGGCAGCGTCAG              -14.0   \n",
       "AARS2_+_44281044.23-P1P2_03  GGTTACGATGGCAGCGTCAG              -18.0   \n",
       "AARS2_+_44281044.23-P1P2_04  GGCTACGAAGGCAGCGTCAG              -12.0   \n",
       "...                                           ...                ...   \n",
       "ZW10_+_113644402.23-P1P2_11  GAGAGTGACCCAGTCAGAGT               -3.0   \n",
       "ZW10_+_113644402.23-P1P2_12  GAGAGTGACCCAGTCATCGT               -4.0   \n",
       "ZW10_+_113644402.23-P1P2_13  GAGAGTGACCCAGTCCGCGT               -5.0   \n",
       "ZW10_+_113644402.23-P1P2_14  GAGAGTGACCCAGTGAGCGT               -6.0   \n",
       "ZWINT_+_58120993.23-P1P2_01  GAACTGGGCGCCTGGAAAGA              -15.0   \n",
       "ZWINT_+_58120993.23-P1P2_02  GCACTCGGCGCCTGGAAAGA              -19.0   \n",
       "ZWINT_+_58120993.23-P1P2_03  GTACTCGGCGCCTGGAAAGA              -19.0   \n",
       "ZWINT_+_58120993.23-P1P2_04  GAACTCGGCGCCCGGAAAGA               -8.0   \n",
       "ZWINT_+_58120993.23-P1P2_05  GAACTCGGCGCCGGGAAAGA               -8.0   \n",
       "ZWINT_+_58120993.23-P1P2_06  GAACTCGGCGCTTGGAAAGA               -9.0   \n",
       "ZWINT_+_58120993.23-P1P2_07  GAACTCGGCGGCTGGAAAGA              -10.0   \n",
       "ZWINT_+_58120993.23-P1P2_08  GAACTCGGCGTCTGGAAAGA              -10.0   \n",
       "ZWINT_+_58120993.23-P1P2_10  GAACTCGGCGCCTGGAAAGC               -1.0   \n",
       "ZWINT_+_58120993.23-P1P2_11  GAACTCGGCGCCTGGAAGGA               -3.0   \n",
       "ZWINT_+_58120993.23-P1P2_12  GAACTCGGCGCCTGGAATGA               -3.0   \n",
       "ZWINT_+_58120993.23-P1P2_13  GAACTCGGCGCCTGGATAGA               -4.0   \n",
       "ZWINT_+_58120993.23-P1P2_14  GAACTCGGCGCCTGTAAAGA               -6.0   \n",
       "ZWINT_+_58121021.23-P1P2_01  GAATCTCAGGGATTGTGGGA              -14.0   \n",
       "ZWINT_+_58121021.23-P1P2_02  GAATCTTGGGGATTGTGGGA              -13.0   \n",
       "ZWINT_+_58121021.23-P1P2_03  GGATCTTAGGGATTGTGGGA              -19.0   \n",
       "ZWINT_+_58121021.23-P1P2_04  GAATCTTAAGGATTGTGGGA              -12.0   \n",
       "ZWINT_+_58121021.23-P1P2_05  GAATCTTAGCGATTGTGGGA              -11.0   \n",
       "ZWINT_+_58121021.23-P1P2_06  GAATCTTAGGGAATGTGGGA               -8.0   \n",
       "ZWINT_+_58121021.23-P1P2_07  GAATCTTAGGTATTGTGGGA              -10.0   \n",
       "ZWINT_+_58121021.23-P1P2_08  GAATCTTATGGATTGTGGGA              -12.0   \n",
       "ZWINT_+_58121021.23-P1P2_10  GAATCTTAGGGATAGTGGGA               -7.0   \n",
       "ZWINT_+_58121021.23-P1P2_11  GAATCTTAGGGATCGTGGGA               -7.0   \n",
       "ZWINT_+_58121021.23-P1P2_12  GAATCTTAGGGATTGAGGGA               -5.0   \n",
       "ZWINT_+_58121021.23-P1P2_13  GAATCTTAGGGATTGTGAGA               -3.0   \n",
       "ZWINT_+_58121021.23-P1P2_14  GAATCTTAGGGATTGTGGTA               -2.0   \n",
       "\n",
       "                            new pairing  K562  Jurkat  mean relative gamma  \\\n",
       "AAR2_-_34824434.23-P1P2_01        rA:dC  True   False             0.665625   \n",
       "AAR2_-_34824434.23-P1P2_02        rA:dC  True   False             0.596488   \n",
       "AAR2_-_34824434.23-P1P2_03        rG:dG  True   False             0.629915   \n",
       "AAR2_-_34824434.23-P1P2_04        rA:dC  True   False            -0.012634   \n",
       "AAR2_-_34824434.23-P1P2_05        rC:dC  True   False             0.058972   \n",
       "AAR2_-_34824434.23-P1P2_06        rA:dC  True   False             1.727864   \n",
       "AAR2_-_34824434.23-P1P2_07        rA:dG  True   False             0.897090   \n",
       "AAR2_-_34824434.23-P1P2_08        rA:dC  True   False             0.056318   \n",
       "AAR2_-_34824434.23-P1P2_09        rA:dC  True   False             0.071692   \n",
       "AAR2_-_34824434.23-P1P2_10        rC:dC  True   False             0.049427   \n",
       "AAR2_-_34824434.23-P1P2_11        rC:dC  True   False             0.005883   \n",
       "AAR2_-_34824434.23-P1P2_12        rC:dC  True   False             0.024883   \n",
       "AAR2_-_34824434.23-P1P2_13        rC:dC  True   False             0.052562   \n",
       "AARS2_+_44281027.23-P1P2_01       rA:dC  True   False             0.679875   \n",
       "AARS2_+_44281027.23-P1P2_02       rA:dA  True   False             0.819009   \n",
       "AARS2_+_44281027.23-P1P2_03       rG:dT  True   False             0.896126   \n",
       "AARS2_+_44281027.23-P1P2_04       rC:dA  True   False             0.051388   \n",
       "AARS2_+_44281027.23-P1P2_05       rC:dC  True   False            -0.138016   \n",
       "AARS2_+_44281027.23-P1P2_06       rA:dG  True   False            -0.073654   \n",
       "AARS2_+_44281027.23-P1P2_07       rU:dG  True   False            -0.016538   \n",
       "AARS2_+_44281027.23-P1P2_08       rG:dG  True   False             0.262997   \n",
       "AARS2_+_44281027.23-P1P2_10       rC:dC  True   False             0.024689   \n",
       "AARS2_+_44281027.23-P1P2_11       rA:dG  True   False            -0.014757   \n",
       "AARS2_+_44281027.23-P1P2_12       rC:dC  True   False             0.084828   \n",
       "AARS2_+_44281027.23-P1P2_13       rG:dG  True   False             0.006339   \n",
       "AARS2_+_44281027.23-P1P2_14       rU:dT  True   False            -0.068014   \n",
       "AARS2_+_44281044.23-P1P2_01       rA:dA  True   False             0.788819   \n",
       "AARS2_+_44281044.23-P1P2_02       rU:dC  True   False            -0.051045   \n",
       "AARS2_+_44281044.23-P1P2_03       rU:dG  True   False             0.772585   \n",
       "AARS2_+_44281044.23-P1P2_04       rA:dA  True   False             0.081752   \n",
       "...                                 ...   ...     ...                  ...   \n",
       "ZW10_+_113644402.23-P1P2_11       rA:dG  True   False             0.053933   \n",
       "ZW10_+_113644402.23-P1P2_12       rU:dC  True   False             0.017294   \n",
       "ZW10_+_113644402.23-P1P2_13       rC:dT  True   False             0.017241   \n",
       "ZW10_+_113644402.23-P1P2_14       rG:dG  True   False             0.034069   \n",
       "ZWINT_+_58120993.23-P1P2_01       rG:dG  True    True            -0.001122   \n",
       "ZWINT_+_58120993.23-P1P2_02       rC:dT  True    True             0.039247   \n",
       "ZWINT_+_58120993.23-P1P2_03       rU:dT  True    True             0.598795   \n",
       "ZWINT_+_58120993.23-P1P2_04       rC:dA  True    True             0.307475   \n",
       "ZWINT_+_58120993.23-P1P2_05       rG:dA  True    True             0.016515   \n",
       "ZWINT_+_58120993.23-P1P2_06       rU:dG  True    True             0.236985   \n",
       "ZWINT_+_58120993.23-P1P2_07       rG:dG  True    True             0.278076   \n",
       "ZWINT_+_58120993.23-P1P2_08       rU:dG  True    True             0.482526   \n",
       "ZWINT_+_58120993.23-P1P2_10       rC:dT  True    True             0.027164   \n",
       "ZWINT_+_58120993.23-P1P2_11       rG:dT  True    True             0.375338   \n",
       "ZWINT_+_58120993.23-P1P2_12       rU:dT  True    True             0.007995   \n",
       "ZWINT_+_58120993.23-P1P2_13       rU:dT  True    True            -0.026915   \n",
       "ZWINT_+_58120993.23-P1P2_14       rU:dC  True    True            -0.002497   \n",
       "ZWINT_+_58121021.23-P1P2_01       rC:dA  True   False             0.715049   \n",
       "ZWINT_+_58121021.23-P1P2_02       rG:dT  True   False             0.787005   \n",
       "ZWINT_+_58121021.23-P1P2_03       rG:dT  True   False             1.071435   \n",
       "ZWINT_+_58121021.23-P1P2_04       rA:dC  True   False            -0.009085   \n",
       "ZWINT_+_58121021.23-P1P2_05       rC:dC  True   False            -0.045785   \n",
       "ZWINT_+_58121021.23-P1P2_06       rA:dA  True   False            -0.079727   \n",
       "ZWINT_+_58121021.23-P1P2_07       rU:dC  True   False            -0.048548   \n",
       "ZWINT_+_58121021.23-P1P2_08       rU:dC  True   False             0.025631   \n",
       "ZWINT_+_58121021.23-P1P2_10       rA:dA  True   False            -0.027697   \n",
       "ZWINT_+_58121021.23-P1P2_11       rC:dA  True   False             0.055466   \n",
       "ZWINT_+_58121021.23-P1P2_12       rA:dA  True   False             0.097816   \n",
       "ZWINT_+_58121021.23-P1P2_13       rA:dC  True   False             0.042555   \n",
       "ZWINT_+_58121021.23-P1P2_14       rU:dC  True   False            -0.091276   \n",
       "\n",
       "                                           genome input  \\\n",
       "AAR2_-_34824434.23-P1P2_01   ACGTGGGGCGAGGCGGTGAGTGTGGC   \n",
       "AAR2_-_34824434.23-P1P2_02   ACGTGGGGCGAGGCGGTGAGTGTGGC   \n",
       "AAR2_-_34824434.23-P1P2_03   ACGTGGGGCGAGGCGGTGAGTGTGGC   \n",
       "AAR2_-_34824434.23-P1P2_04   ACGTGGGGCGAGGCGGTGAGTGTGGC   \n",
       "AAR2_-_34824434.23-P1P2_05   ACGTGGGGCGAGGCGGTGAGTGTGGC   \n",
       "AAR2_-_34824434.23-P1P2_06   ACGTGGGGCGAGGCGGTGAGTGTGGC   \n",
       "AAR2_-_34824434.23-P1P2_07   ACGTGGGGCGAGGCGGTGAGTGTGGC   \n",
       "AAR2_-_34824434.23-P1P2_08   ACGTGGGGCGAGGCGGTGAGTGTGGC   \n",
       "AAR2_-_34824434.23-P1P2_09   ACGTGGGGCGAGGCGGTGAGTGTGGC   \n",
       "AAR2_-_34824434.23-P1P2_10   ACGTGGGGCGAGGCGGTGAGTGTGGC   \n",
       "AAR2_-_34824434.23-P1P2_11   ACGTGGGGCGAGGCGGTGAGTGTGGC   \n",
       "AAR2_-_34824434.23-P1P2_12   ACGTGGGGCGAGGCGGTGAGTGTGGC   \n",
       "AAR2_-_34824434.23-P1P2_13   ACGTGGGGCGAGGCGGTGAGTGTGGC   \n",
       "AARS2_+_44281027.23-P1P2_01  GTCAGTGGCAGCTGCAGCCCGGAGGC   \n",
       "AARS2_+_44281027.23-P1P2_02  GTCAGTGGCAGCTGCAGCCCGGAGGC   \n",
       "AARS2_+_44281027.23-P1P2_03  GTCAGTGGCAGCTGCAGCCCGGAGGC   \n",
       "AARS2_+_44281027.23-P1P2_04  GTCAGTGGCAGCTGCAGCCCGGAGGC   \n",
       "AARS2_+_44281027.23-P1P2_05  GTCAGTGGCAGCTGCAGCCCGGAGGC   \n",
       "AARS2_+_44281027.23-P1P2_06  GTCAGTGGCAGCTGCAGCCCGGAGGC   \n",
       "AARS2_+_44281027.23-P1P2_07  GTCAGTGGCAGCTGCAGCCCGGAGGC   \n",
       "AARS2_+_44281027.23-P1P2_08  GTCAGTGGCAGCTGCAGCCCGGAGGC   \n",
       "AARS2_+_44281027.23-P1P2_10  GTCAGTGGCAGCTGCAGCCCGGAGGC   \n",
       "AARS2_+_44281027.23-P1P2_11  GTCAGTGGCAGCTGCAGCCCGGAGGC   \n",
       "AARS2_+_44281027.23-P1P2_12  GTCAGTGGCAGCTGCAGCCCGGAGGC   \n",
       "AARS2_+_44281027.23-P1P2_13  GTCAGTGGCAGCTGCAGCCCGGAGGC   \n",
       "AARS2_+_44281027.23-P1P2_14  GTCAGTGGCAGCTGCAGCCCGGAGGC   \n",
       "AARS2_+_44281044.23-P1P2_01  GGAGCTACGATGGCAGCGTCAGTGGC   \n",
       "AARS2_+_44281044.23-P1P2_02  GGAGCTACGATGGCAGCGTCAGTGGC   \n",
       "AARS2_+_44281044.23-P1P2_03  GGAGCTACGATGGCAGCGTCAGTGGC   \n",
       "AARS2_+_44281044.23-P1P2_04  GGAGCTACGATGGCAGCGTCAGTGGC   \n",
       "...                                                 ...   \n",
       "ZW10_+_113644402.23-P1P2_11  ACGAGAGTGACCCAGTCAGCGTTGGT   \n",
       "ZW10_+_113644402.23-P1P2_12  ACGAGAGTGACCCAGTCAGCGTTGGT   \n",
       "ZW10_+_113644402.23-P1P2_13  ACGAGAGTGACCCAGTCAGCGTTGGT   \n",
       "ZW10_+_113644402.23-P1P2_14  ACGAGAGTGACCCAGTCAGCGTTGGT   \n",
       "ZWINT_+_58120993.23-P1P2_01  CTGAACTCGGCGCCTGGAAAGATGGA   \n",
       "ZWINT_+_58120993.23-P1P2_02  CTGAACTCGGCGCCTGGAAAGATGGA   \n",
       "ZWINT_+_58120993.23-P1P2_03  CTGAACTCGGCGCCTGGAAAGATGGA   \n",
       "ZWINT_+_58120993.23-P1P2_04  CTGAACTCGGCGCCTGGAAAGATGGA   \n",
       "ZWINT_+_58120993.23-P1P2_05  CTGAACTCGGCGCCTGGAAAGATGGA   \n",
       "ZWINT_+_58120993.23-P1P2_06  CTGAACTCGGCGCCTGGAAAGATGGA   \n",
       "ZWINT_+_58120993.23-P1P2_07  CTGAACTCGGCGCCTGGAAAGATGGA   \n",
       "ZWINT_+_58120993.23-P1P2_08  CTGAACTCGGCGCCTGGAAAGATGGA   \n",
       "ZWINT_+_58120993.23-P1P2_10  CTGAACTCGGCGCCTGGAAAGATGGA   \n",
       "ZWINT_+_58120993.23-P1P2_11  CTGAACTCGGCGCCTGGAAAGATGGA   \n",
       "ZWINT_+_58120993.23-P1P2_12  CTGAACTCGGCGCCTGGAAAGATGGA   \n",
       "ZWINT_+_58120993.23-P1P2_13  CTGAACTCGGCGCCTGGAAAGATGGA   \n",
       "ZWINT_+_58120993.23-P1P2_14  CTGAACTCGGCGCCTGGAAAGATGGA   \n",
       "ZWINT_+_58121021.23-P1P2_01  AGTAATCTTAGGGATTGTGGGAAGGC   \n",
       "ZWINT_+_58121021.23-P1P2_02  AGTAATCTTAGGGATTGTGGGAAGGC   \n",
       "ZWINT_+_58121021.23-P1P2_03  AGTAATCTTAGGGATTGTGGGAAGGC   \n",
       "ZWINT_+_58121021.23-P1P2_04  AGTAATCTTAGGGATTGTGGGAAGGC   \n",
       "ZWINT_+_58121021.23-P1P2_05  AGTAATCTTAGGGATTGTGGGAAGGC   \n",
       "ZWINT_+_58121021.23-P1P2_06  AGTAATCTTAGGGATTGTGGGAAGGC   \n",
       "ZWINT_+_58121021.23-P1P2_07  AGTAATCTTAGGGATTGTGGGAAGGC   \n",
       "ZWINT_+_58121021.23-P1P2_08  AGTAATCTTAGGGATTGTGGGAAGGC   \n",
       "ZWINT_+_58121021.23-P1P2_10  AGTAATCTTAGGGATTGTGGGAAGGC   \n",
       "ZWINT_+_58121021.23-P1P2_11  AGTAATCTTAGGGATTGTGGGAAGGC   \n",
       "ZWINT_+_58121021.23-P1P2_12  AGTAATCTTAGGGATTGTGGGAAGGC   \n",
       "ZWINT_+_58121021.23-P1P2_13  AGTAATCTTAGGGATTGTGGGAAGGC   \n",
       "ZWINT_+_58121021.23-P1P2_14  AGTAATCTTAGGGATTGTGGGAAGGC   \n",
       "\n",
       "                                            sgRNA input  cnn_elbo_avg  \\\n",
       "AAR2_-_34824434.23-P1P2_01   ACGTGAGGCGAGGCGGTGAGTGTGGC      0.483160   \n",
       "AAR2_-_34824434.23-P1P2_02   ACGTGGGACGAGGCGGTGAGTGTGGC      0.467010   \n",
       "AAR2_-_34824434.23-P1P2_03   ACGTGGGGGGAGGCGGTGAGTGTGGC      0.489981   \n",
       "AAR2_-_34824434.23-P1P2_04   ACGTGGGGCGAAGCGGTGAGTGTGGC      0.386591   \n",
       "AAR2_-_34824434.23-P1P2_05   ACGTGGGGCGACGCGGTGAGTGTGGC      0.247574   \n",
       "AAR2_-_34824434.23-P1P2_06   ACGTGGGGCGAGACGGTGAGTGTGGC      0.343167   \n",
       "AAR2_-_34824434.23-P1P2_07   ACGTGGGGCGAGGAGGTGAGTGTGGC      0.321924   \n",
       "AAR2_-_34824434.23-P1P2_08   ACGTGGGGCGAGGCAGTGAGTGTGGC      0.242402   \n",
       "AAR2_-_34824434.23-P1P2_09   ACGTGGGGCGAGGCGATGAGTGTGGC      0.345252   \n",
       "AAR2_-_34824434.23-P1P2_10   ACGTGGGGCGAGGCGCTGAGTGTGGC      0.252488   \n",
       "AAR2_-_34824434.23-P1P2_11   ACGTGGGGCGAGGCGGTCAGTGTGGC      0.243366   \n",
       "AAR2_-_34824434.23-P1P2_12   ACGTGGGGCGAGGCGGTGACTGTGGC      0.171653   \n",
       "AAR2_-_34824434.23-P1P2_13   ACGTGGGGCGAGGCGGTGAGTCTGGC      0.162365   \n",
       "AARS2_+_44281027.23-P1P2_01  GTGAATGGCAGCTGCAGCCCGGAGGC      0.346745   \n",
       "AARS2_+_44281027.23-P1P2_02  GTGAGAGGCAGCTGCAGCCCGGAGGC      0.327854   \n",
       "AARS2_+_44281027.23-P1P2_03  GTGAGTGGCGGCTGCAGCCCGGAGGC      0.375902   \n",
       "AARS2_+_44281027.23-P1P2_04  GTGAGTGGCAGCCGCAGCCCGGAGGC      0.180870   \n",
       "AARS2_+_44281027.23-P1P2_05  GTGAGTGGCAGCTCCAGCCCGGAGGC      0.127059   \n",
       "AARS2_+_44281027.23-P1P2_06  GTGAGTGGCAGCTGAAGCCCGGAGGC      0.125306   \n",
       "AARS2_+_44281027.23-P1P2_07  GTGAGTGGCAGCTGTAGCCCGGAGGC      0.143149   \n",
       "AARS2_+_44281027.23-P1P2_08  GTGAGTGGCAGGTGCAGCCCGGAGGC      0.254544   \n",
       "AARS2_+_44281027.23-P1P2_10  GTGAGTGGCAGCTGCACCCCGGAGGC      0.123792   \n",
       "AARS2_+_44281027.23-P1P2_11  GTGAGTGGCAGCTGCAGCACGGAGGC      0.121604   \n",
       "AARS2_+_44281027.23-P1P2_12  GTGAGTGGCAGCTGCAGCCCGCAGGC      0.134465   \n",
       "AARS2_+_44281027.23-P1P2_13  GTGAGTGGCAGCTGCAGCCGGGAGGC      0.126482   \n",
       "AARS2_+_44281027.23-P1P2_14  GTGAGTGGCAGCTGCTGCCCGGAGGC      0.122443   \n",
       "AARS2_+_44281044.23-P1P2_01  GGGGCAACGATGGCAGCGTCAGTGGC      0.421447   \n",
       "AARS2_+_44281044.23-P1P2_02  GGGGCTACTATGGCAGCGTCAGTGGC      0.361718   \n",
       "AARS2_+_44281044.23-P1P2_03  GGGGTTACGATGGCAGCGTCAGTGGC      0.418058   \n",
       "AARS2_+_44281044.23-P1P2_04  GGGGCTACGAAGGCAGCGTCAGTGGC      0.347730   \n",
       "...                                                 ...           ...   \n",
       "ZW10_+_113644402.23-P1P2_11  ACGAGAGTGACCCAGTCAGAGTTGGT      0.121656   \n",
       "ZW10_+_113644402.23-P1P2_12  ACGAGAGTGACCCAGTCATCGTTGGT      0.125739   \n",
       "ZW10_+_113644402.23-P1P2_13  ACGAGAGTGACCCAGTCCGCGTTGGT      0.142016   \n",
       "ZW10_+_113644402.23-P1P2_14  ACGAGAGTGACCCAGTGAGCGTTGGT      0.121666   \n",
       "ZWINT_+_58120993.23-P1P2_01  CTGAACTGGGCGCCTGGAAAGATGGA      0.381413   \n",
       "ZWINT_+_58120993.23-P1P2_02  CTGCACTCGGCGCCTGGAAAGATGGA      0.358277   \n",
       "ZWINT_+_58120993.23-P1P2_03  CTGTACTCGGCGCCTGGAAAGATGGA      0.337591   \n",
       "ZWINT_+_58120993.23-P1P2_04  CTGAACTCGGCGCCCGGAAAGATGGA      0.191460   \n",
       "ZWINT_+_58120993.23-P1P2_05  CTGAACTCGGCGCCGGGAAAGATGGA      0.155433   \n",
       "ZWINT_+_58120993.23-P1P2_06  CTGAACTCGGCGCTTGGAAAGATGGA      0.235602   \n",
       "ZWINT_+_58120993.23-P1P2_07  CTGAACTCGGCGGCTGGAAAGATGGA      0.189976   \n",
       "ZWINT_+_58120993.23-P1P2_08  CTGAACTCGGCGTCTGGAAAGATGGA      0.266822   \n",
       "ZWINT_+_58120993.23-P1P2_10  CTGAACTCGGCGCCTGGAAAGCTGGA      0.122869   \n",
       "ZWINT_+_58120993.23-P1P2_11  CTGAACTCGGCGCCTGGAAGGATGGA      0.259057   \n",
       "ZWINT_+_58120993.23-P1P2_12  CTGAACTCGGCGCCTGGAATGATGGA      0.135404   \n",
       "ZWINT_+_58120993.23-P1P2_13  CTGAACTCGGCGCCTGGATAGATGGA      0.125137   \n",
       "ZWINT_+_58120993.23-P1P2_14  CTGAACTCGGCGCCTGTAAAGATGGA      0.136126   \n",
       "ZWINT_+_58121021.23-P1P2_01  AGGAATCTCAGGGATTGTGGGAAGGC      0.400285   \n",
       "ZWINT_+_58121021.23-P1P2_02  AGGAATCTTGGGGATTGTGGGAAGGC      0.444658   \n",
       "ZWINT_+_58121021.23-P1P2_03  AGGGATCTTAGGGATTGTGGGAAGGC      0.446620   \n",
       "ZWINT_+_58121021.23-P1P2_04  AGGAATCTTAAGGATTGTGGGAAGGC      0.228126   \n",
       "ZWINT_+_58121021.23-P1P2_05  AGGAATCTTAGCGATTGTGGGAAGGC      0.124827   \n",
       "ZWINT_+_58121021.23-P1P2_06  AGGAATCTTAGGGAATGTGGGAAGGC      0.121976   \n",
       "ZWINT_+_58121021.23-P1P2_07  AGGAATCTTAGGTATTGTGGGAAGGC      0.127871   \n",
       "ZWINT_+_58121021.23-P1P2_08  AGGAATCTTATGGATTGTGGGAAGGC      0.201518   \n",
       "ZWINT_+_58121021.23-P1P2_10  AGGAATCTTAGGGATAGTGGGAAGGC      0.132710   \n",
       "ZWINT_+_58121021.23-P1P2_11  AGGAATCTTAGGGATCGTGGGAAGGC      0.149284   \n",
       "ZWINT_+_58121021.23-P1P2_12  AGGAATCTTAGGGATTGAGGGAAGGC      0.146304   \n",
       "ZWINT_+_58121021.23-P1P2_13  AGGAATCTTAGGGATTGTGAGAAGGC      0.123857   \n",
       "ZWINT_+_58121021.23-P1P2_14  AGGAATCTTAGGGATTGTGGTAAGGC      0.122892   \n",
       "\n",
       "                             cnn_elbo_var  cnn_mse_avg  cnn_mse_var  \n",
       "AAR2_-_34824434.23-P1P2_01       0.009043     0.457280     0.008767  \n",
       "AAR2_-_34824434.23-P1P2_02       0.008906     0.424217     0.008730  \n",
       "AAR2_-_34824434.23-P1P2_03       0.009565     0.482996     0.008861  \n",
       "AAR2_-_34824434.23-P1P2_04       0.008788     0.327186     0.008660  \n",
       "AAR2_-_34824434.23-P1P2_05       0.008742     0.199799     0.008642  \n",
       "AAR2_-_34824434.23-P1P2_06       0.008790     0.293836     0.008666  \n",
       "AAR2_-_34824434.23-P1P2_07       0.008763     0.311788     0.008644  \n",
       "AAR2_-_34824434.23-P1P2_08       0.008743     0.237209     0.008640  \n",
       "AAR2_-_34824434.23-P1P2_09       0.008772     0.262757     0.008641  \n",
       "AAR2_-_34824434.23-P1P2_10       0.008750     0.151601     0.008635  \n",
       "AAR2_-_34824434.23-P1P2_11       0.008746     0.176987     0.008629  \n",
       "AAR2_-_34824434.23-P1P2_12       0.008745     0.121927     0.008641  \n",
       "AAR2_-_34824434.23-P1P2_13       0.008737     0.125457     0.008633  \n",
       "AARS2_+_44281027.23-P1P2_01      0.008761     0.315144     0.008657  \n",
       "AARS2_+_44281027.23-P1P2_02      0.008752     0.324130     0.008665  \n",
       "AARS2_+_44281027.23-P1P2_03      0.008780     0.330647     0.008652  \n",
       "AARS2_+_44281027.23-P1P2_04      0.008730     0.179912     0.008627  \n",
       "AARS2_+_44281027.23-P1P2_05      0.008884     0.126940     0.008770  \n",
       "AARS2_+_44281027.23-P1P2_06      0.008833     0.123805     0.008690  \n",
       "AARS2_+_44281027.23-P1P2_07      0.008728     0.148584     0.008654  \n",
       "AARS2_+_44281027.23-P1P2_08      0.008737     0.265822     0.008639  \n",
       "AARS2_+_44281027.23-P1P2_10      0.008804     0.122782     0.008668  \n",
       "AARS2_+_44281027.23-P1P2_11      0.008755     0.122300     0.008640  \n",
       "AARS2_+_44281027.23-P1P2_12      0.009243     0.132567     0.009034  \n",
       "AARS2_+_44281027.23-P1P2_13      0.008868     0.124106     0.008696  \n",
       "AARS2_+_44281027.23-P1P2_14      0.008793     0.121922     0.008640  \n",
       "AARS2_+_44281044.23-P1P2_01      0.008827     0.410317     0.008685  \n",
       "AARS2_+_44281044.23-P1P2_02      0.008782     0.307146     0.008674  \n",
       "AARS2_+_44281044.23-P1P2_03      0.008806     0.431147     0.008735  \n",
       "AARS2_+_44281044.23-P1P2_04      0.008767     0.295205     0.008658  \n",
       "...                                   ...          ...          ...  \n",
       "ZW10_+_113644402.23-P1P2_11      0.008772     0.122095     0.008664  \n",
       "ZW10_+_113644402.23-P1P2_12      0.008847     0.122889     0.008680  \n",
       "ZW10_+_113644402.23-P1P2_13      0.008737     0.128207     0.008627  \n",
       "ZW10_+_113644402.23-P1P2_14      0.008757     0.122261     0.008664  \n",
       "ZWINT_+_58120993.23-P1P2_01      0.008800     0.370604     0.008695  \n",
       "ZWINT_+_58120993.23-P1P2_02      0.008771     0.372950     0.008681  \n",
       "ZWINT_+_58120993.23-P1P2_03      0.008766     0.399561     0.008684  \n",
       "ZWINT_+_58120993.23-P1P2_04      0.008728     0.185683     0.008629  \n",
       "ZWINT_+_58120993.23-P1P2_05      0.008731     0.136494     0.008632  \n",
       "ZWINT_+_58120993.23-P1P2_06      0.008734     0.223423     0.008646  \n",
       "ZWINT_+_58120993.23-P1P2_07      0.008746     0.200995     0.008652  \n",
       "ZWINT_+_58120993.23-P1P2_08      0.008746     0.264335     0.008646  \n",
       "ZWINT_+_58120993.23-P1P2_10      0.008808     0.121966     0.008642  \n",
       "ZWINT_+_58120993.23-P1P2_11      0.008746     0.318100     0.008658  \n",
       "ZWINT_+_58120993.23-P1P2_12      0.008745     0.122128     0.008640  \n",
       "ZWINT_+_58120993.23-P1P2_13      0.008752     0.122136     0.008659  \n",
       "ZWINT_+_58120993.23-P1P2_14      0.009390     0.121772     0.008652  \n",
       "ZWINT_+_58121021.23-P1P2_01      0.008805     0.401246     0.008685  \n",
       "ZWINT_+_58121021.23-P1P2_02      0.008844     0.438401     0.008747  \n",
       "ZWINT_+_58121021.23-P1P2_03      0.008832     0.396431     0.008690  \n",
       "ZWINT_+_58121021.23-P1P2_04      0.008732     0.282413     0.008640  \n",
       "ZWINT_+_58121021.23-P1P2_05      0.008747     0.125533     0.008641  \n",
       "ZWINT_+_58121021.23-P1P2_06      0.008758     0.141470     0.008626  \n",
       "ZWINT_+_58121021.23-P1P2_07      0.008746     0.127331     0.008631  \n",
       "ZWINT_+_58121021.23-P1P2_08      0.008738     0.212377     0.008655  \n",
       "ZWINT_+_58121021.23-P1P2_10      0.008736     0.191504     0.008630  \n",
       "ZWINT_+_58121021.23-P1P2_11      0.008729     0.186786     0.008632  \n",
       "ZWINT_+_58121021.23-P1P2_12      0.008741     0.137227     0.008644  \n",
       "ZWINT_+_58121021.23-P1P2_13      0.008748     0.123385     0.008651  \n",
       "ZWINT_+_58121021.23-P1P2_14      0.008802     0.122040     0.008654  \n",
       "\n",
       "[26248 rows x 14 columns]"
      ]
     },
     "execution_count": 22,
     "metadata": {},
     "output_type": "execute_result"
    }
   ],
   "source": [
    "data"
   ]
  },
  {
   "cell_type": "code",
   "execution_count": 13,
   "metadata": {},
   "outputs": [
    {
     "data": {
      "text/plain": [
       "[0.48315984,\n",
       " 0.46701008,\n",
       " 0.48998055,\n",
       " 0.38659146,\n",
       " 0.24757381,\n",
       " 0.34316713,\n",
       " 0.32192373,\n",
       " 0.24240242,\n",
       " 0.34525213,\n",
       " 0.25248757,\n",
       " 0.24336557,\n",
       " 0.17165281,\n",
       " 0.16236492,\n",
       " 0.34674525,\n",
       " 0.32785407,\n",
       " 0.37590232,\n",
       " 0.1808699,\n",
       " 0.1270591,\n",
       " 0.12530589,\n",
       " 0.1431492,\n",
       " 0.2545438,\n",
       " 0.12379175,\n",
       " 0.1216041,\n",
       " 0.13446467,\n",
       " 0.12648208,\n",
       " 0.12244278,\n",
       " 0.4214467,\n",
       " 0.36171815,\n",
       " 0.4180576,\n",
       " 0.34773046,\n",
       " 0.43877864,\n",
       " 0.21035074,\n",
       " 0.17146794,\n",
       " 0.15671226,\n",
       " 0.15538423,\n",
       " 0.13608311,\n",
       " 0.12391863,\n",
       " 0.1900775,\n",
       " 0.12181576,\n",
       " 0.42998418,\n",
       " 0.3757515,\n",
       " 0.4234688,\n",
       " 0.29516783,\n",
       " 0.22659016,\n",
       " 0.17822742,\n",
       " 0.13197406,\n",
       " 0.13720456,\n",
       " 0.22438632,\n",
       " 0.20001574,\n",
       " 0.12471151,\n",
       " 0.14816771,\n",
       " 0.14868903,\n",
       " 0.4485901,\n",
       " 0.40741482,\n",
       " 0.48704204,\n",
       " 0.41036206,\n",
       " 0.22424226,\n",
       " 0.33993965,\n",
       " 0.45390016,\n",
       " 0.46178412,\n",
       " 0.1809422,\n",
       " 0.1757903,\n",
       " 0.15547039,\n",
       " 0.16288024,\n",
       " 0.1562563,\n",
       " 0.46278715,\n",
       " 0.32840964,\n",
       " 0.43213525,\n",
       " 0.21972325,\n",
       " 0.14045624,\n",
       " 0.22536336,\n",
       " 0.24226622,\n",
       " 0.34330687,\n",
       " 0.17775933,\n",
       " 0.1244575,\n",
       " 0.12145429,\n",
       " 0.1358887,\n",
       " 0.14911595,\n",
       " 0.358162,\n",
       " 0.30006075,\n",
       " 0.29139346,\n",
       " 0.17489977,\n",
       " 0.13337718,\n",
       " 0.21573238,\n",
       " 0.1226877,\n",
       " 0.15657589,\n",
       " 0.122989334,\n",
       " 0.1280661,\n",
       " 0.12243026,\n",
       " 0.13994157,\n",
       " 0.124490574,\n",
       " 0.28522134,\n",
       " 0.25660545,\n",
       " 0.3787106,\n",
       " 0.12154489,\n",
       " 0.12467126,\n",
       " 0.19676356,\n",
       " 0.18435228,\n",
       " 0.21744724,\n",
       " 0.123718895,\n",
       " 0.124707125,\n",
       " 0.12152467,\n",
       " 0.12656482,\n",
       " 0.12681907,\n",
       " 0.4773027,\n",
       " 0.48242146,\n",
       " 0.49087834,\n",
       " 0.29987237,\n",
       " 0.2610357,\n",
       " 0.28345203,\n",
       " 0.43344542,\n",
       " 0.34535214,\n",
       " 0.19583945,\n",
       " 0.38936526,\n",
       " 0.16954477,\n",
       " 0.12457725,\n",
       " 0.13125049,\n",
       " 0.49036026,\n",
       " 0.4561287,\n",
       " 0.4535938,\n",
       " 0.46884042,\n",
       " 0.3823846,\n",
       " 0.2576468,\n",
       " 0.41490442,\n",
       " 0.4875373,\n",
       " 0.29109263,\n",
       " 0.32501298,\n",
       " 0.3216231,\n",
       " 0.25344107,\n",
       " 0.31381205,\n",
       " 0.3638166,\n",
       " 0.39812943,\n",
       " 0.43901452,\n",
       " 0.13016026,\n",
       " 0.4305055,\n",
       " 0.24809276,\n",
       " 0.2841297,\n",
       " 0.47294322,\n",
       " 0.19669299,\n",
       " 0.12985142,\n",
       " 0.13346195,\n",
       " 0.20276438,\n",
       " 0.14464992,\n",
       " 0.34291983,\n",
       " 0.2574911,\n",
       " 0.14733951,\n",
       " 0.12564455,\n",
       " 0.1598811,\n",
       " 0.12225019,\n",
       " 0.12380073,\n",
       " 0.22833109,\n",
       " 0.1235363,\n",
       " 0.14338516,\n",
       " 0.1227463,\n",
       " 0.15029429,\n",
       " 0.12784995,\n",
       " 0.2717709,\n",
       " 0.19638394,\n",
       " 0.31466874,\n",
       " 0.20174153,\n",
       " 0.18461178,\n",
       " 0.16836284,\n",
       " 0.22968929,\n",
       " 0.14161478,\n",
       " 0.12422847,\n",
       " 0.1214869,\n",
       " 0.12312672,\n",
       " 0.16221644,\n",
       " 0.13437769,\n",
       " 0.45313343,\n",
       " 0.4223318,\n",
       " 0.4223434,\n",
       " 0.34699535,\n",
       " 0.18164559,\n",
       " 0.1315739,\n",
       " 0.16522439,\n",
       " 0.18112005,\n",
       " 0.12163875,\n",
       " 0.1639623,\n",
       " 0.16484556,\n",
       " 0.12882933,\n",
       " 0.12749209,\n",
       " 0.40192205,\n",
       " 0.47404534,\n",
       " 0.3834364,\n",
       " 0.20634985,\n",
       " 0.40007588,\n",
       " 0.13444571,\n",
       " 0.1260465,\n",
       " 0.121401705,\n",
       " 0.13217531,\n",
       " 0.15364404,\n",
       " 0.14959519,\n",
       " 0.12752834,\n",
       " 0.13418941,\n",
       " 0.40980765,\n",
       " 0.2938772,\n",
       " 0.32596555,\n",
       " 0.26636535,\n",
       " 0.141353,\n",
       " 0.15153156,\n",
       " 0.14483261,\n",
       " 0.38680696,\n",
       " 0.13005541,\n",
       " 0.12151662,\n",
       " 0.12171938,\n",
       " 0.1241169,\n",
       " 0.13409792,\n",
       " 0.43724176,\n",
       " 0.48969808,\n",
       " 0.3903586,\n",
       " 0.26321337,\n",
       " 0.1807361,\n",
       " 0.39695188,\n",
       " 0.1911984,\n",
       " 0.2318254,\n",
       " 0.16419542,\n",
       " 0.14368045,\n",
       " 0.12625776,\n",
       " 0.23895149,\n",
       " 0.12407919,\n",
       " 0.37739706,\n",
       " 0.4326592,\n",
       " 0.4174783,\n",
       " 0.23602132,\n",
       " 0.123170756,\n",
       " 0.20953612,\n",
       " 0.12369635,\n",
       " 0.27113578,\n",
       " 0.1881403,\n",
       " 0.122268476,\n",
       " 0.12157001,\n",
       " 0.12317488,\n",
       " 0.12774824,\n",
       " 0.47623333,\n",
       " 0.37996233,\n",
       " 0.45530176,\n",
       " 0.359458,\n",
       " 0.121645786,\n",
       " 0.1465744,\n",
       " 0.37776214,\n",
       " 0.17911413,\n",
       " 0.1580725,\n",
       " 0.13492738,\n",
       " 0.12159369,\n",
       " 0.3846587,\n",
       " 0.48983786,\n",
       " 0.48772,\n",
       " 0.46508986,\n",
       " 0.27795917,\n",
       " 0.20631759,\n",
       " 0.2537558,\n",
       " 0.18230943,\n",
       " 0.46869102,\n",
       " 0.15792747,\n",
       " 0.23699482,\n",
       " 0.24202028,\n",
       " 0.27567926,\n",
       " 0.23951972,\n",
       " 0.27882776,\n",
       " 0.34218907,\n",
       " 0.33305618,\n",
       " 0.19344442,\n",
       " 0.12371731,\n",
       " 0.1463335,\n",
       " 0.20463645,\n",
       " 0.26369235,\n",
       " 0.12894581,\n",
       " 0.12626164,\n",
       " 0.13435107,\n",
       " 0.13244621,\n",
       " 0.1266038,\n",
       " 0.42734346,\n",
       " 0.48555788,\n",
       " 0.47852764,\n",
       " 0.30867037,\n",
       " 0.12659198,\n",
       " 0.18907748,\n",
       " 0.14536554,\n",
       " 0.3963735,\n",
       " 0.1227625,\n",
       " 0.34879932,\n",
       " 0.12327566,\n",
       " 0.125113,\n",
       " 0.14830495,\n",
       " 0.48236838,\n",
       " 0.46828634,\n",
       " 0.47629434,\n",
       " 0.3997152,\n",
       " 0.32717365,\n",
       " 0.2743859,\n",
       " 0.32757312,\n",
       " 0.47390842,\n",
       " 0.2524896,\n",
       " 0.35811338,\n",
       " 0.2947858,\n",
       " 0.47479054,\n",
       " 0.3641691,\n",
       " 0.48936343,\n",
       " 0.4223673,\n",
       " 0.39065853,\n",
       " 0.4465625,\n",
       " 0.4732364,\n",
       " 0.17895083,\n",
       " 0.15617998,\n",
       " 0.38620576,\n",
       " 0.1331046,\n",
       " 0.19097027,\n",
       " 0.163001,\n",
       " 0.13044487,\n",
       " 0.16254167,\n",
       " 0.16317914,\n",
       " 0.2867486,\n",
       " 0.31413087,\n",
       " 0.15912537,\n",
       " 0.12155274,\n",
       " 0.1321011,\n",
       " 0.121542215,\n",
       " 0.2644771,\n",
       " 0.12833758,\n",
       " 0.12623718,\n",
       " 0.12179929,\n",
       " 0.15253477,\n",
       " 0.13463268,\n",
       " 0.45757586,\n",
       " 0.33363748,\n",
       " 0.430825,\n",
       " 0.2793351,\n",
       " 0.18478787,\n",
       " 0.13539916,\n",
       " 0.12271465,\n",
       " 0.33105642,\n",
       " 0.14019036,\n",
       " 0.12667361,\n",
       " 0.12157513,\n",
       " 0.12753235,\n",
       " 0.17960687,\n",
       " 0.44169685,\n",
       " 0.45171395,\n",
       " 0.45666918,\n",
       " 0.48913065,\n",
       " 0.384025,\n",
       " 0.35791874,\n",
       " 0.23759173,\n",
       " 0.47302863,\n",
       " 0.27765265,\n",
       " 0.34236005,\n",
       " 0.41883287,\n",
       " 0.41047812,\n",
       " 0.31015432,\n",
       " 0.49031234,\n",
       " 0.48821074,\n",
       " 0.34130624,\n",
       " 0.170365,\n",
       " 0.12948966,\n",
       " 0.18925874,\n",
       " 0.38878632,\n",
       " 0.42985597,\n",
       " 0.12873891,\n",
       " 0.12159758,\n",
       " 0.121601544,\n",
       " 0.13674687,\n",
       " 0.13241516,\n",
       " 0.46091065,\n",
       " 0.4178856,\n",
       " 0.44257736,\n",
       " 0.43698287,\n",
       " 0.33303759,\n",
       " 0.48596272,\n",
       " 0.423501,\n",
       " 0.4842618,\n",
       " 0.311395,\n",
       " 0.28528047,\n",
       " 0.29072398,\n",
       " 0.3777987,\n",
       " 0.34428483,\n",
       " 0.46391723,\n",
       " 0.469175,\n",
       " 0.490978,\n",
       " 0.39513823,\n",
       " 0.14089224,\n",
       " 0.4541018,\n",
       " 0.3553747,\n",
       " 0.38772187,\n",
       " 0.15404741,\n",
       " 0.19669385,\n",
       " 0.15287466,\n",
       " 0.18839946,\n",
       " 0.14113727,\n",
       " 0.400822,\n",
       " 0.3603116,\n",
       " 0.44450232,\n",
       " 0.27227566,\n",
       " 0.13323891,\n",
       " 0.17979681,\n",
       " 0.34008655,\n",
       " 0.357308,\n",
       " 0.12203298,\n",
       " 0.146215,\n",
       " 0.1560817,\n",
       " 0.15514134,\n",
       " 0.12150301,\n",
       " 0.27316698,\n",
       " 0.33707663,\n",
       " 0.31321058,\n",
       " 0.19936524,\n",
       " 0.12172854,\n",
       " 0.12450093,\n",
       " 0.26562864,\n",
       " 0.2666256,\n",
       " 0.1516342,\n",
       " 0.12192593,\n",
       " 0.12620603,\n",
       " 0.123466425,\n",
       " 0.12369006,\n",
       " 0.475432,\n",
       " 0.47641307,\n",
       " 0.49075207,\n",
       " 0.35360366,\n",
       " 0.48816824,\n",
       " 0.22940917,\n",
       " 0.2192682,\n",
       " 0.26172826,\n",
       " 0.2642204,\n",
       " 0.2624561,\n",
       " 0.1936025,\n",
       " 0.21861927,\n",
       " 0.21075228,\n",
       " 0.38781664,\n",
       " 0.30458614,\n",
       " 0.37028766,\n",
       " 0.15982775,\n",
       " 0.15072596,\n",
       " 0.13024747,\n",
       " 0.123548344,\n",
       " 0.22086357,\n",
       " 0.12486141,\n",
       " 0.13717638,\n",
       " 0.13654032,\n",
       " 0.13798164,\n",
       " 0.4389722,\n",
       " 0.24776636,\n",
       " 0.3868882,\n",
       " 0.13390087,\n",
       " 0.122010946,\n",
       " 0.31214103,\n",
       " 0.12624942,\n",
       " 0.12156866,\n",
       " 0.1301585,\n",
       " 0.12853633,\n",
       " 0.12174257,\n",
       " 0.13344584,\n",
       " 0.35422036,\n",
       " 0.1933695,\n",
       " 0.22068623,\n",
       " 0.12204442,\n",
       " 0.13576059,\n",
       " 0.12607093,\n",
       " 0.173146,\n",
       " 0.22265685,\n",
       " 0.124811724,\n",
       " 0.12501141,\n",
       " 0.12501925,\n",
       " 0.1502361,\n",
       " 0.12277643,\n",
       " 0.48979726,\n",
       " 0.4910081,\n",
       " 0.46830177,\n",
       " 0.4113348,\n",
       " 0.39432165,\n",
       " 0.46888596,\n",
       " 0.44788703,\n",
       " 0.44948483,\n",
       " 0.20541663,\n",
       " 0.299464,\n",
       " 0.28425422,\n",
       " 0.2840881,\n",
       " 0.37577853,\n",
       " 0.35091013,\n",
       " 0.32434288,\n",
       " 0.46622258,\n",
       " 0.1908214,\n",
       " 0.12793724,\n",
       " 0.16896012,\n",
       " 0.33566332,\n",
       " 0.22487913,\n",
       " 0.12150893,\n",
       " 0.13019763,\n",
       " 0.22199075,\n",
       " 0.23226176,\n",
       " 0.12810639,\n",
       " 0.24423373,\n",
       " 0.2570078,\n",
       " 0.2547481,\n",
       " 0.15387581,\n",
       " 0.12607169,\n",
       " 0.13573614,\n",
       " 0.13119362,\n",
       " 0.20352064,\n",
       " 0.12153478,\n",
       " 0.13786991,\n",
       " 0.13245705,\n",
       " 0.13524924,\n",
       " 0.13097209,\n",
       " 0.35348725,\n",
       " 0.19261353,\n",
       " 0.20144646,\n",
       " 0.16182616,\n",
       " 0.13112722,\n",
       " 0.34799644,\n",
       " 0.14563434,\n",
       " 0.36947224,\n",
       " 0.12236258,\n",
       " 0.12479346,\n",
       " 0.12264961,\n",
       " 0.121935844,\n",
       " 0.124186695,\n",
       " 0.3726047,\n",
       " 0.385684,\n",
       " 0.46476528,\n",
       " 0.2268493,\n",
       " 0.18628418,\n",
       " 0.12541193,\n",
       " 0.121708274,\n",
       " 0.16402784,\n",
       " 0.12167609,\n",
       " 0.12695399,\n",
       " 0.25814548,\n",
       " 0.12164493,\n",
       " 0.12137423,\n",
       " 0.26899806,\n",
       " 0.38219732,\n",
       " 0.25264642,\n",
       " 0.12185264,\n",
       " 0.16667849,\n",
       " 0.12755471,\n",
       " 0.24178927,\n",
       " 0.12679885,\n",
       " 0.13700111,\n",
       " 0.13623555,\n",
       " 0.13452801,\n",
       " 0.121607356,\n",
       " 0.26297712,\n",
       " 0.26145002,\n",
       " 0.18600969,\n",
       " 0.12156053,\n",
       " 0.13100222,\n",
       " 0.12368152,\n",
       " 0.12987214,\n",
       " 0.12443542,\n",
       " 0.13877364,\n",
       " 0.12666988,\n",
       " 0.13820718,\n",
       " 0.13915971,\n",
       " 0.13183889,\n",
       " 0.18948391,\n",
       " 0.1426286,\n",
       " 0.17487846,\n",
       " 0.121545866,\n",
       " 0.13558517,\n",
       " 0.19561432,\n",
       " 0.12200164,\n",
       " 0.13598005,\n",
       " 0.13688879,\n",
       " 0.1304352,\n",
       " 0.12970869,\n",
       " 0.1255726,\n",
       " 0.124075964,\n",
       " 0.39650568,\n",
       " 0.41647562,\n",
       " 0.48116928,\n",
       " 0.38799557,\n",
       " 0.39122352,\n",
       " 0.42112103,\n",
       " 0.47279516,\n",
       " 0.44054434,\n",
       " 0.21347354,\n",
       " 0.17287998,\n",
       " 0.12428858,\n",
       " 0.24759631,\n",
       " 0.1591161,\n",
       " 0.4530693,\n",
       " 0.35547963,\n",
       " 0.49006486,\n",
       " 0.34949902,\n",
       " 0.29158366,\n",
       " 0.24180415,\n",
       " 0.18829614,\n",
       " 0.3172817,\n",
       " 0.18104716,\n",
       " 0.15504579,\n",
       " 0.12495353,\n",
       " 0.2920682,\n",
       " 0.20390931,\n",
       " 0.48407173,\n",
       " 0.48687816,\n",
       " 0.48686028,\n",
       " 0.23282342,\n",
       " 0.1768299,\n",
       " 0.2529698,\n",
       " 0.19930807,\n",
       " 0.23845947,\n",
       " 0.16624896,\n",
       " 0.3760949,\n",
       " 0.27348372,\n",
       " 0.21340974,\n",
       " 0.30095527,\n",
       " 0.27994776,\n",
       " 0.24371906,\n",
       " 0.25540394,\n",
       " 0.19910517,\n",
       " 0.13539405,\n",
       " 0.12693112,\n",
       " 0.121495746,\n",
       " 0.27509964,\n",
       " 0.12768589,\n",
       " 0.12177008,\n",
       " 0.12390808,\n",
       " 0.1227224,\n",
       " 0.12186754,\n",
       " 0.35071877,\n",
       " 0.36735985,\n",
       " 0.4299329,\n",
       " 0.16004252,\n",
       " 0.13381657,\n",
       " 0.12258567,\n",
       " 0.12350839,\n",
       " 0.12464476,\n",
       " 0.12657245,\n",
       " 0.12522285,\n",
       " 0.122347824,\n",
       " 0.12261208,\n",
       " 0.12772115,\n",
       " 0.22146885,\n",
       " 0.34790304,\n",
       " 0.23691106,\n",
       " 0.17301072,\n",
       " 0.1261816,\n",
       " 0.15729743,\n",
       " 0.12283295,\n",
       " 0.25537893,\n",
       " 0.12890762,\n",
       " 0.12160645,\n",
       " 0.12381136,\n",
       " 0.14001434,\n",
       " 0.12537687,\n",
       " 0.4660186,\n",
       " 0.44823322,\n",
       " 0.4763491,\n",
       " 0.31861472,\n",
       " 0.17179789,\n",
       " 0.1400927,\n",
       " 0.19519816,\n",
       " 0.14997865,\n",
       " 0.14304958,\n",
       " 0.12230797,\n",
       " 0.12175027,\n",
       " 0.123135425,\n",
       " 0.15971775,\n",
       " 0.36236453,\n",
       " 0.46778128,\n",
       " 0.4833448,\n",
       " 0.22423945,\n",
       " 0.24603605,\n",
       " 0.1494339,\n",
       " 0.16204853,\n",
       " 0.2686922,\n",
       " 0.13996209,\n",
       " 0.12317417,\n",
       " 0.15286921,\n",
       " 0.14388306,\n",
       " 0.15371071,\n",
       " 0.3599381,\n",
       " 0.32272243,\n",
       " 0.33498847,\n",
       " 0.22497033,\n",
       " 0.33389598,\n",
       " 0.37725297,\n",
       " 0.14619665,\n",
       " 0.31525087,\n",
       " 0.12171693,\n",
       " 0.15369724,\n",
       " 0.12652783,\n",
       " 0.13691075,\n",
       " 0.12344878,\n",
       " 0.3733878,\n",
       " 0.2958638,\n",
       " 0.3838949,\n",
       " 0.37303194,\n",
       " 0.24606799,\n",
       " 0.14003575,\n",
       " 0.13111185,\n",
       " 0.12165176,\n",
       " 0.12522653,\n",
       " 0.12922342,\n",
       " 0.12194665,\n",
       " 0.19674526,\n",
       " 0.15478241,\n",
       " 0.3544716,\n",
       " 0.43107006,\n",
       " 0.4464131,\n",
       " 0.12820768,\n",
       " 0.24624331,\n",
       " 0.26642534,\n",
       " 0.12723447,\n",
       " 0.2813323,\n",
       " 0.12192565,\n",
       " 0.12252935,\n",
       " 0.12817635,\n",
       " 0.13502836,\n",
       " 0.1248979,\n",
       " 0.36666903,\n",
       " 0.29759392,\n",
       " 0.2919157,\n",
       " 0.13806021,\n",
       " 0.12228304,\n",
       " 0.22103186,\n",
       " 0.30391166,\n",
       " 0.23290041,\n",
       " 0.12197814,\n",
       " 0.13224915,\n",
       " 0.1222716,\n",
       " 0.12915878,\n",
       " 0.12148476,\n",
       " 0.45435935,\n",
       " 0.4173192,\n",
       " 0.48091522,\n",
       " 0.17542839,\n",
       " 0.15663736,\n",
       " 0.26356363,\n",
       " 0.4024182,\n",
       " 0.16630617,\n",
       " 0.170988,\n",
       " 0.27084598,\n",
       " 0.153921,\n",
       " 0.15084621,\n",
       " 0.15904488,\n",
       " 0.48086444,\n",
       " 0.4278887,\n",
       " 0.4098017,\n",
       " 0.14256047,\n",
       " 0.2170883,\n",
       " 0.29268652,\n",
       " 0.48399314,\n",
       " 0.48505932,\n",
       " 0.30729967,\n",
       " 0.20544396,\n",
       " 0.23764388,\n",
       " 0.30877957,\n",
       " 0.19649851,\n",
       " 0.37079188,\n",
       " 0.4487044,\n",
       " 0.45305476,\n",
       " 0.27039862,\n",
       " 0.1531688,\n",
       " 0.29437158,\n",
       " 0.32452875,\n",
       " 0.22337277,\n",
       " 0.12170535,\n",
       " 0.12261032,\n",
       " 0.13375698,\n",
       " 0.12481151,\n",
       " 0.16805965,\n",
       " 0.4751582,\n",
       " 0.48060074,\n",
       " 0.4613455,\n",
       " 0.33343762,\n",
       " 0.17070194,\n",
       " 0.15395145,\n",
       " 0.13118352,\n",
       " 0.48801285,\n",
       " 0.15167354,\n",
       " 0.12532957,\n",
       " 0.26606354,\n",
       " 0.14586258,\n",
       " 0.164331,\n",
       " 0.18855175,\n",
       " 0.29275432,\n",
       " 0.3286051,\n",
       " 0.123585336,\n",
       " 0.1234133,\n",
       " 0.15335174,\n",
       " 0.12173741,\n",
       " 0.27648124,\n",
       " 0.12476623,\n",
       " 0.12156191,\n",
       " 0.12158332,\n",
       " 0.13503885,\n",
       " 0.12155508,\n",
       " 0.4541176,\n",
       " 0.48949262,\n",
       " 0.39728588,\n",
       " 0.26423356,\n",
       " 0.12715147,\n",
       " 0.28839228,\n",
       " 0.14818226,\n",
       " 0.41263506,\n",
       " 0.12263378,\n",
       " 0.15618539,\n",
       " 0.13496765,\n",
       " 0.18510528,\n",
       " 0.13613997,\n",
       " 0.33087924,\n",
       " 0.30480662,\n",
       " 0.3209258,\n",
       " 0.25550684,\n",
       " 0.12234161,\n",
       " 0.12386202,\n",
       " 0.19345061,\n",
       " 0.13641348,\n",
       " 0.14544642,\n",
       " 0.17013349,\n",
       " 0.12287944,\n",
       " 0.13209873,\n",
       " 0.122699104,\n",
       " 0.3477741,\n",
       " 0.2805328,\n",
       " 0.27758116,\n",
       " 0.13840058,\n",
       " 0.24725428,\n",
       " 0.124958694,\n",
       " 0.30287826,\n",
       " 0.3237739,\n",
       " 0.15404256,\n",
       " 0.12286162,\n",
       " 0.12163631,\n",
       " 0.12889013,\n",
       " 0.20587972,\n",
       " 0.29556733,\n",
       " 0.36560234,\n",
       " 0.1304022,\n",
       " 0.1298325,\n",
       " 0.1264492,\n",
       " 0.14299403,\n",
       " 0.12199532,\n",
       " 0.1306426,\n",
       " 0.12440844,\n",
       " 0.12303849,\n",
       " 0.12251234,\n",
       " 0.12865764,\n",
       " 0.47471076,\n",
       " 0.44041473,\n",
       " 0.47185785,\n",
       " 0.2593266,\n",
       " 0.15932229,\n",
       " 0.1692678,\n",
       " 0.12790215,\n",
       " 0.27379724,\n",
       " 0.12897404,\n",
       " 0.13987987,\n",
       " 0.13810483,\n",
       " 0.12203187,\n",
       " 0.12291513,\n",
       " 0.39264753,\n",
       " 0.3489577,\n",
       " 0.43021557,\n",
       " 0.2933507,\n",
       " 0.12910624,\n",
       " 0.30751225,\n",
       " 0.19216679,\n",
       " 0.23211804,\n",
       " 0.122057036,\n",
       " 0.12540264,\n",
       " 0.12370645,\n",
       " 0.14027525,\n",
       " 0.12240517,\n",
       " 0.26866493,\n",
       " 0.28649184,\n",
       " 0.35450718,\n",
       " 0.1482345,\n",
       " 0.12528415,\n",
       " 0.12250777,\n",
       " 0.13224201,\n",
       " 0.31013134,\n",
       " 0.12264706,\n",
       " 0.16477256,\n",
       " 0.19615774,\n",
       " 0.13036495,\n",
       " 0.12639819,\n",
       " 0.43285513,\n",
       " 0.31730422,\n",
       " 0.46122572,\n",
       " 0.12558594,\n",
       " 0.3441762,\n",
       " 0.30167896,\n",
       " 0.45431396,\n",
       " 0.23501089,\n",
       " 0.12828434,\n",
       " 0.1273098,\n",
       " 0.12583064,\n",
       " 0.1248454,\n",
       " 0.12314563,\n",
       " 0.47587734,\n",
       " 0.48872533,\n",
       " 0.3854316,\n",
       " 0.34631023,\n",
       " 0.12500107,\n",
       " 0.28384262,\n",
       " 0.32463557,\n",
       " 0.31381574,\n",
       " 0.15124872,\n",
       " 0.12163661,\n",
       " 0.12545088,\n",
       " 0.14812541,\n",
       " 0.12324407,\n",
       " 0.3543755,\n",
       " 0.23731628,\n",
       " 0.3215743,\n",
       " 0.19815259,\n",
       " 0.14578831,\n",
       " 0.121741354,\n",
       " 0.2655978,\n",
       " 0.17406122,\n",
       " 0.12261402,\n",
       " 0.12280136,\n",
       " 0.12160893,\n",
       " 0.1351033,\n",
       " 0.13069403,\n",
       " 0.2727773,\n",
       " 0.3026262,\n",
       " 0.30968633,\n",
       " 0.12526007,\n",
       " 0.1461886,\n",
       " 0.32559383,\n",
       " 0.25936827,\n",
       " 0.25422344,\n",
       " 0.1216655,\n",
       " 0.12204579,\n",
       " 0.1301214,\n",
       " 0.24268687,\n",
       " 0.12184071,\n",
       " 0.29469833,\n",
       " 0.28270403,\n",
       " 0.27727327,\n",
       " 0.13220416,\n",
       " 0.12142813,\n",
       " 0.15758672,\n",
       " 0.13761543,\n",
       " 0.24784902,\n",
       " 0.12696706,\n",
       " 0.12245621,\n",
       " 0.13511825,\n",
       " 0.124150805,\n",
       " 0.12454493,\n",
       " 0.4824113,\n",
       " 0.4727502,\n",
       " 0.4891769,\n",
       " 0.2531156,\n",
       " 0.16522698,\n",
       " 0.14821544,\n",
       " 0.20774646,\n",
       " 0.24168506,\n",
       " 0.23653539,\n",
       " 0.23832658,\n",
       " 0.32275024,\n",
       " 0.18553972,\n",
       " 0.30223942,\n",
       " 0.41031614,\n",
       " 0.3453651,\n",
       " 0.35339078,\n",
       " 0.1305905,\n",
       " 0.12150448,\n",
       " 0.12484061,\n",
       " 0.15497234,\n",
       " 0.27931038,\n",
       " 0.12196674,\n",
       " 0.121629514,\n",
       " 0.12153059,\n",
       " 0.12165594,\n",
       " 0.12378764,\n",
       " 0.47319278,\n",
       " 0.3822885,\n",
       " 0.33076054,\n",
       " 0.31916815,\n",
       " 0.13257238,\n",
       " 0.25242978,\n",
       " 0.1293937,\n",
       " 0.13792399,\n",
       " 0.12852553,\n",
       " 0.14530598,\n",
       " 0.12285884,\n",
       " 0.19042042,\n",
       " 0.13123894,\n",
       " 0.25779966,\n",
       " 0.38625023,\n",
       " 0.4198056,\n",
       " 0.20515494,\n",
       " 0.122984685,\n",
       " 0.2860275,\n",
       " 0.12213065,\n",
       " 0.12160511,\n",
       " 0.12351149,\n",
       " 0.12589881,\n",
       " 0.123690225,\n",
       " 0.12161789,\n",
       " 0.13717023,\n",
       " 0.48771214,\n",
       " 0.33966094,\n",
       " 0.31247184,\n",
       " 0.15146853,\n",
       " ...]"
      ]
     },
     "execution_count": 13,
     "metadata": {},
     "output_type": "execute_result"
    }
   ],
   "source": [
    "tb_cnn_elbo_oa"
   ]
  },
  {
   "cell_type": "code",
   "execution_count": null,
   "metadata": {},
   "outputs": [],
   "source": [
    "for transformed_batch, _ in tqdm(tld):\n",
    "    tb_cnn_mse = cnn_mse(transformed_batch)\n",
    "    tb_cnn_mse_o = cnn_mse.likelihood(\n",
    "            tb_cnn_mse[0]\n",
    "        ).mean.mean(0).cpu().data.numpy()\n",
    "        tb_cnn_mse_v = cnn_mse.likelihood(\n",
    "            tb_cnn_mse[0]\n",
    "        ).variance.mean(0).cpu().data.numpy()\n",
    "        tb_cnn_mse_oa.extend(tb_cnn_mse_o)\n",
    "        tb_cnn_mse_va.extend(tb_cnn_mse_v)\n",
    "        tb_rnn_mse = rnn_mse(transformed_batch)\n",
    "        tb_rnn_mse_o = rnn_mse.likelihood(\n",
    "            tb_rnn_mse[0]\n",
    "        ).mean.mean(0).cpu().data.numpy()\n",
    "        tb_rnn_mse_v = rnn_mse.likelihood(\n",
    "            tb_rnn_mse[0]\n",
    "        ).variance.mean(0).cpu().data.numpy()\n",
    "        tb_rnn_mse_oa.extend(tb_rnn_mse_o)\n",
    "        tb_rnn_mse_va.extend(tb_rnn_mse_v)\n",
    "        tb_cnn_elbo = cnn_elbo(transformed_batch)\n",
    "        tb_cnn_elbo_o = cnn_elbo.likelihood(\n",
    "            tb_cnn_elbo[0]\n",
    "        ).mean.mean(0).cpu().data.numpy()\n",
    "        tb_cnn_elbo_v = cnn_elbo.likelihood(\n",
    "            tb_cnn_elbo[0]\n",
    "        ).variance.mean(0).cpu().data.numpy()\n",
    "        tb_cnn_elbo_oa.extend(tb_cnn_elbo_o)\n",
    "        tb_cnn_elbo_va.extend(tb_cnn_elbo_v)\n",
    "        tb_rnn_elbo = rnn_elbo(transformed_batch)\n",
    "        tb_rnn_elbo_o = rnn_elbo.likelihood(\n",
    "            tb_rnn_elbo[0]\n",
    "        ).mean.mean(0).cpu().data.numpy()\n",
    "        tb_rnn_elbo_v = rnn_elbo.likelihood(\n",
    "            tb_rnn_elbo[0]\n",
    "        ).variance.mean(0).cpu().data.numpy()\n",
    "        tb_rnn_elbo_oa.extend(tb_rnn_elbo_o)\n",
    "        tb_rnn_elbo_va.extend(tb_rnn_elbo_v)\n",
    "    current_df[7] = tb_cnn_mse_oa\n",
    "    current_df[8] = tb_cnn_mse_va\n",
    "    current_df[9] = tb_rnn_mse_oa\n",
    "    current_df[10] = tb_rnn_mse_va\n",
    "    current_df[11] = tb_cnn_elbo_oa\n",
    "    current_df[12] = tb_cnn_elbo_va\n",
    "    current_df[13] = tb_rnn_elbo_oa\n",
    "    current_df[14] = tb_rnn_elbo_va\n",
    "    current_df[15] = (current_df[7] + current_df[9])/2\n",
    "    current_df[16] = current_df[8] + current_df[10]\n",
    "    current_df[17] = (current_df[11] + current_df[13])/2\n",
    "    current_df[18] = current_df[12] + current_df[14]\n",
    "    current_df = current_df.sort_values(by=7, ascending=False)\n",
    "    current_df.to_csv(\n",
    "        op.join(\n",
    "            \"/home/bakirillov/HDD/data/chr22_ordered/\"+a\n",
    "        ), sep=\"\\t\", header=None\n",
    "    )"
   ]
  },
  {
   "cell_type": "code",
   "execution_count": 21,
   "metadata": {
    "scrolled": true
   },
   "outputs": [
    {
     "name": "stderr",
     "output_type": "stream",
     "text": [
      " 14%|█▍        | 1/7 [00:00<00:00,  6.72it/s]"
     ]
    },
    {
     "name": "stdout",
     "output_type": "stream",
     "text": [
      "0 (1743, 7)\n"
     ]
    },
    {
     "name": "stderr",
     "output_type": "stream",
     "text": [
      "100%|██████████| 7/7 [00:01<00:00,  6.86it/s]\n",
      "100%|██████████| 1/1 [00:00<00:00, 10.79it/s]\n",
      "  0%|          | 0/1 [00:00<?, ?it/s]"
     ]
    },
    {
     "name": "stdout",
     "output_type": "stream",
     "text": [
      "1 (116, 7)\n",
      "2 (123, 7)\n"
     ]
    },
    {
     "name": "stderr",
     "output_type": "stream",
     "text": [
      "100%|██████████| 1/1 [00:00<00:00,  9.42it/s]\n",
      "  7%|▋         | 1/15 [00:00<00:02,  6.55it/s]"
     ]
    },
    {
     "name": "stdout",
     "output_type": "stream",
     "text": [
      "3 (3778, 7)\n"
     ]
    },
    {
     "name": "stderr",
     "output_type": "stream",
     "text": [
      "100%|██████████| 15/15 [00:02<00:00,  6.98it/s]\n",
      " 50%|█████     | 1/2 [00:00<00:00,  6.61it/s]"
     ]
    },
    {
     "name": "stdout",
     "output_type": "stream",
     "text": [
      "4 (288, 7)\n"
     ]
    },
    {
     "name": "stderr",
     "output_type": "stream",
     "text": [
      "100%|██████████| 2/2 [00:00<00:00,  9.67it/s]\n",
      "  4%|▍         | 1/25 [00:00<00:03,  6.98it/s]"
     ]
    },
    {
     "name": "stdout",
     "output_type": "stream",
     "text": [
      "5 (6256, 7)\n"
     ]
    },
    {
     "name": "stderr",
     "output_type": "stream",
     "text": [
      "100%|██████████| 25/25 [00:03<00:00,  7.07it/s]\n",
      "100%|██████████| 1/1 [00:00<00:00, 21.81it/s]\n",
      "  0%|          | 0/22 [00:00<?, ?it/s]"
     ]
    },
    {
     "name": "stdout",
     "output_type": "stream",
     "text": [
      "6 (4, 7)\n",
      "7 (5434, 7)\n"
     ]
    },
    {
     "name": "stderr",
     "output_type": "stream",
     "text": [
      "100%|██████████| 22/22 [00:03<00:00,  7.00it/s]\n",
      "  2%|▏         | 1/45 [00:00<00:06,  6.98it/s]"
     ]
    },
    {
     "name": "stdout",
     "output_type": "stream",
     "text": [
      "8 (11316, 7)\n"
     ]
    },
    {
     "name": "stderr",
     "output_type": "stream",
     "text": [
      "100%|██████████| 45/45 [00:06<00:00,  6.90it/s]\n",
      "  3%|▎         | 1/31 [00:00<00:04,  7.03it/s]"
     ]
    },
    {
     "name": "stdout",
     "output_type": "stream",
     "text": [
      "9 (7904, 7)\n"
     ]
    },
    {
     "name": "stderr",
     "output_type": "stream",
     "text": [
      "100%|██████████| 31/31 [00:04<00:00,  7.12it/s]\n",
      " 14%|█▍        | 1/7 [00:00<00:00,  7.12it/s]"
     ]
    },
    {
     "name": "stdout",
     "output_type": "stream",
     "text": [
      "10 (1569, 7)\n"
     ]
    },
    {
     "name": "stderr",
     "output_type": "stream",
     "text": [
      "100%|██████████| 7/7 [00:00<00:00,  7.53it/s]\n",
      "100%|██████████| 1/1 [00:00<00:00, 18.14it/s]\n",
      "  0%|          | 0/5 [00:00<?, ?it/s]"
     ]
    },
    {
     "name": "stdout",
     "output_type": "stream",
     "text": [
      "11 (35, 7)\n",
      "12 (1032, 7)\n"
     ]
    },
    {
     "name": "stderr",
     "output_type": "stream",
     "text": [
      "100%|██████████| 5/5 [00:00<00:00,  8.00it/s]\n",
      " 33%|███▎      | 1/3 [00:00<00:00,  7.01it/s]"
     ]
    },
    {
     "name": "stdout",
     "output_type": "stream",
     "text": [
      "13 (525, 7)\n"
     ]
    },
    {
     "name": "stderr",
     "output_type": "stream",
     "text": [
      "100%|██████████| 3/3 [00:00<00:00,  9.02it/s]\n",
      " 25%|██▌       | 1/4 [00:00<00:00,  6.45it/s]"
     ]
    },
    {
     "name": "stdout",
     "output_type": "stream",
     "text": [
      "14 (797, 7)\n"
     ]
    },
    {
     "name": "stderr",
     "output_type": "stream",
     "text": [
      "100%|██████████| 4/4 [00:00<00:00,  7.87it/s]\n",
      "  3%|▎         | 1/37 [00:00<00:05,  7.09it/s]"
     ]
    },
    {
     "name": "stdout",
     "output_type": "stream",
     "text": [
      "15 (9269, 7)\n"
     ]
    },
    {
     "name": "stderr",
     "output_type": "stream",
     "text": [
      "100%|██████████| 37/37 [00:05<00:00,  7.11it/s]\n",
      "100%|██████████| 1/1 [00:00<00:00, 17.35it/s]\n",
      "  0%|          | 0/5 [00:00<?, ?it/s]"
     ]
    },
    {
     "name": "stdout",
     "output_type": "stream",
     "text": [
      "16 (30, 7)\n",
      "17 (1144, 7)\n"
     ]
    },
    {
     "name": "stderr",
     "output_type": "stream",
     "text": [
      "100%|██████████| 5/5 [00:00<00:00,  7.62it/s]\n",
      " 25%|██▌       | 1/4 [00:00<00:00,  7.05it/s]"
     ]
    },
    {
     "name": "stdout",
     "output_type": "stream",
     "text": [
      "18 (955, 7)\n"
     ]
    },
    {
     "name": "stderr",
     "output_type": "stream",
     "text": [
      "100%|██████████| 4/4 [00:00<00:00,  7.27it/s]\n",
      "  1%|          | 1/103 [00:00<00:14,  7.22it/s]"
     ]
    },
    {
     "name": "stdout",
     "output_type": "stream",
     "text": [
      "19 (26196, 7)\n"
     ]
    },
    {
     "name": "stderr",
     "output_type": "stream",
     "text": [
      "100%|██████████| 103/103 [00:14<00:00,  6.92it/s]\n",
      "100%|██████████| 1/1 [00:00<00:00, 13.92it/s]\n",
      "  0%|          | 0/4 [00:00<?, ?it/s]"
     ]
    },
    {
     "name": "stdout",
     "output_type": "stream",
     "text": [
      "20 (65, 7)\n",
      "21 (770, 7)\n"
     ]
    },
    {
     "name": "stderr",
     "output_type": "stream",
     "text": [
      "100%|██████████| 4/4 [00:00<00:00,  8.09it/s]\n",
      " 20%|██        | 1/5 [00:00<00:00,  6.77it/s]"
     ]
    },
    {
     "name": "stdout",
     "output_type": "stream",
     "text": [
      "22 (1242, 7)\n"
     ]
    },
    {
     "name": "stderr",
     "output_type": "stream",
     "text": [
      "100%|██████████| 5/5 [00:00<00:00,  6.98it/s]\n",
      "100%|██████████| 1/1 [00:00<00:00, 19.68it/s]\n",
      "  0%|          | 0/7 [00:00<?, ?it/s]"
     ]
    },
    {
     "name": "stdout",
     "output_type": "stream",
     "text": [
      "23 (18, 7)\n",
      "24 (1786, 7)\n"
     ]
    },
    {
     "name": "stderr",
     "output_type": "stream",
     "text": [
      "100%|██████████| 7/7 [00:01<00:00,  6.75it/s]\n",
      " 12%|█▎        | 1/8 [00:00<00:01,  6.95it/s]"
     ]
    },
    {
     "name": "stdout",
     "output_type": "stream",
     "text": [
      "25 (2039, 7)\n"
     ]
    },
    {
     "name": "stderr",
     "output_type": "stream",
     "text": [
      "100%|██████████| 8/8 [00:01<00:00,  6.95it/s]\n",
      " 50%|█████     | 1/2 [00:00<00:00,  7.01it/s]"
     ]
    },
    {
     "name": "stdout",
     "output_type": "stream",
     "text": [
      "26 (437, 7)\n"
     ]
    },
    {
     "name": "stderr",
     "output_type": "stream",
     "text": [
      "100%|██████████| 2/2 [00:00<00:00,  7.75it/s]\n",
      " 20%|██        | 1/5 [00:00<00:00,  7.07it/s]"
     ]
    },
    {
     "name": "stdout",
     "output_type": "stream",
     "text": [
      "27 (1047, 7)\n"
     ]
    },
    {
     "name": "stderr",
     "output_type": "stream",
     "text": [
      "100%|██████████| 5/5 [00:00<00:00,  8.08it/s]\n",
      "100%|██████████| 1/1 [00:00<00:00, 12.11it/s]\n",
      "  0%|          | 0/4 [00:00<?, ?it/s]"
     ]
    },
    {
     "name": "stdout",
     "output_type": "stream",
     "text": [
      "28 (98, 7)\n",
      "29 (843, 7)\n"
     ]
    },
    {
     "name": "stderr",
     "output_type": "stream",
     "text": [
      "100%|██████████| 4/4 [00:00<00:00,  7.99it/s]\n",
      "  1%|          | 1/91 [00:00<00:12,  6.99it/s]"
     ]
    },
    {
     "name": "stdout",
     "output_type": "stream",
     "text": [
      "30 (23086, 7)\n"
     ]
    },
    {
     "name": "stderr",
     "output_type": "stream",
     "text": [
      "100%|██████████| 91/91 [00:13<00:00,  6.87it/s]\n",
      "  2%|▏         | 1/52 [00:00<00:07,  6.89it/s]"
     ]
    },
    {
     "name": "stdout",
     "output_type": "stream",
     "text": [
      "31 (13152, 7)\n"
     ]
    },
    {
     "name": "stderr",
     "output_type": "stream",
     "text": [
      "100%|██████████| 52/52 [00:07<00:00,  6.82it/s]\n",
      " 25%|██▌       | 1/4 [00:00<00:00,  6.87it/s]"
     ]
    },
    {
     "name": "stdout",
     "output_type": "stream",
     "text": [
      "32 (923, 7)\n"
     ]
    },
    {
     "name": "stderr",
     "output_type": "stream",
     "text": [
      "100%|██████████| 4/4 [00:00<00:00,  7.19it/s]\n",
      "  4%|▍         | 1/26 [00:00<00:03,  6.82it/s]"
     ]
    },
    {
     "name": "stdout",
     "output_type": "stream",
     "text": [
      "33 (6527, 7)\n"
     ]
    },
    {
     "name": "stderr",
     "output_type": "stream",
     "text": [
      "100%|██████████| 26/26 [00:03<00:00,  6.87it/s]\n",
      "100%|██████████| 1/1 [00:00<00:00, 12.15it/s]\n",
      "  0%|          | 0/69 [00:00<?, ?it/s]"
     ]
    },
    {
     "name": "stdout",
     "output_type": "stream",
     "text": [
      "34 (98, 7)\n",
      "35 (17473, 7)\n"
     ]
    },
    {
     "name": "stderr",
     "output_type": "stream",
     "text": [
      "100%|██████████| 69/69 [00:10<00:00,  6.87it/s]\n",
      "  7%|▋         | 1/15 [00:00<00:01,  7.09it/s]"
     ]
    },
    {
     "name": "stdout",
     "output_type": "stream",
     "text": [
      "36 (3683, 7)\n"
     ]
    },
    {
     "name": "stderr",
     "output_type": "stream",
     "text": [
      "100%|██████████| 15/15 [00:02<00:00,  7.11it/s]\n",
      "100%|██████████| 1/1 [00:00<00:00, 12.73it/s]\n",
      "  0%|          | 0/7 [00:00<?, ?it/s]"
     ]
    },
    {
     "name": "stdout",
     "output_type": "stream",
     "text": [
      "37 (88, 7)\n",
      "38 (1605, 7)\n"
     ]
    },
    {
     "name": "stderr",
     "output_type": "stream",
     "text": [
      "100%|██████████| 7/7 [00:00<00:00,  7.24it/s]\n",
      "  3%|▎         | 1/33 [00:00<00:04,  6.81it/s]"
     ]
    },
    {
     "name": "stdout",
     "output_type": "stream",
     "text": [
      "39 (8358, 7)\n"
     ]
    },
    {
     "name": "stderr",
     "output_type": "stream",
     "text": [
      "100%|██████████| 33/33 [00:05<00:00,  5.98it/s]\n",
      " 25%|██▌       | 1/4 [00:00<00:00,  5.55it/s]"
     ]
    },
    {
     "name": "stdout",
     "output_type": "stream",
     "text": [
      "40 (977, 7)\n"
     ]
    },
    {
     "name": "stderr",
     "output_type": "stream",
     "text": [
      "100%|██████████| 4/4 [00:00<00:00,  5.64it/s]\n",
      "100%|██████████| 1/1 [00:00<00:00, 15.37it/s]\n",
      "100%|██████████| 1/1 [00:00<00:00,  8.85it/s]"
     ]
    },
    {
     "name": "stdout",
     "output_type": "stream",
     "text": [
      "41 (17, 7)\n",
      "42 (117, 7)\n"
     ]
    },
    {
     "name": "stderr",
     "output_type": "stream",
     "text": [
      "\n",
      " 33%|███▎      | 1/3 [00:00<00:00,  5.25it/s]"
     ]
    },
    {
     "name": "stdout",
     "output_type": "stream",
     "text": [
      "43 (718, 7)\n"
     ]
    },
    {
     "name": "stderr",
     "output_type": "stream",
     "text": [
      "100%|██████████| 3/3 [00:00<00:00,  5.17it/s]\n",
      " 33%|███▎      | 1/3 [00:00<00:00,  5.30it/s]"
     ]
    },
    {
     "name": "stdout",
     "output_type": "stream",
     "text": [
      "44 (680, 7)\n"
     ]
    },
    {
     "name": "stderr",
     "output_type": "stream",
     "text": [
      "100%|██████████| 3/3 [00:00<00:00,  5.87it/s]\n",
      " 50%|█████     | 1/2 [00:00<00:00,  5.53it/s]"
     ]
    },
    {
     "name": "stdout",
     "output_type": "stream",
     "text": [
      "45 (301, 7)\n"
     ]
    },
    {
     "name": "stderr",
     "output_type": "stream",
     "text": [
      "100%|██████████| 2/2 [00:00<00:00,  7.48it/s]\n",
      "  4%|▍         | 1/23 [00:00<00:03,  5.78it/s]"
     ]
    },
    {
     "name": "stdout",
     "output_type": "stream",
     "text": [
      "46 (5861, 7)\n"
     ]
    },
    {
     "name": "stderr",
     "output_type": "stream",
     "text": [
      "100%|██████████| 23/23 [00:03<00:00,  5.77it/s]\n",
      "100%|██████████| 1/1 [00:00<00:00, 11.59it/s]\n",
      "  0%|          | 0/24 [00:00<?, ?it/s]"
     ]
    },
    {
     "name": "stdout",
     "output_type": "stream",
     "text": [
      "47 (68, 7)\n",
      "48 (6054, 7)\n"
     ]
    },
    {
     "name": "stderr",
     "output_type": "stream",
     "text": [
      "100%|██████████| 24/24 [00:04<00:00,  5.78it/s]\n",
      "  2%|▏         | 1/45 [00:00<00:07,  5.74it/s]"
     ]
    },
    {
     "name": "stdout",
     "output_type": "stream",
     "text": [
      "49 (11360, 7)\n"
     ]
    },
    {
     "name": "stderr",
     "output_type": "stream",
     "text": [
      "100%|██████████| 45/45 [00:07<00:00,  5.94it/s]\n",
      "  4%|▎         | 1/28 [00:00<00:03,  6.85it/s]"
     ]
    },
    {
     "name": "stdout",
     "output_type": "stream",
     "text": [
      "50 (6958, 7)\n"
     ]
    },
    {
     "name": "stderr",
     "output_type": "stream",
     "text": [
      "100%|██████████| 28/28 [00:03<00:00,  7.00it/s]\n",
      "0it [00:00, ?it/s]\n",
      " 50%|█████     | 1/2 [00:00<00:00,  7.08it/s]"
     ]
    },
    {
     "name": "stdout",
     "output_type": "stream",
     "text": [
      "51 (0, 1)\n",
      "52 (476, 7)\n"
     ]
    },
    {
     "name": "stderr",
     "output_type": "stream",
     "text": [
      "100%|██████████| 2/2 [00:00<00:00,  7.42it/s]\n",
      "100%|██████████| 1/1 [00:00<00:00,  7.94it/s]\n",
      "  0%|          | 0/1 [00:00<?, ?it/s]"
     ]
    },
    {
     "name": "stdout",
     "output_type": "stream",
     "text": [
      "53 (217, 7)\n",
      "54 (108, 7)\n"
     ]
    },
    {
     "name": "stderr",
     "output_type": "stream",
     "text": [
      "100%|██████████| 1/1 [00:00<00:00, 11.06it/s]\n",
      "100%|██████████| 1/1 [00:00<00:00, 17.05it/s]\n",
      "  0%|          | 0/8 [00:00<?, ?it/s]"
     ]
    },
    {
     "name": "stdout",
     "output_type": "stream",
     "text": [
      "55 (31, 7)\n",
      "56 (1809, 7)\n"
     ]
    },
    {
     "name": "stderr",
     "output_type": "stream",
     "text": [
      "100%|██████████| 8/8 [00:01<00:00,  7.74it/s]\n",
      "  5%|▌         | 1/20 [00:00<00:02,  7.21it/s]"
     ]
    },
    {
     "name": "stdout",
     "output_type": "stream",
     "text": [
      "57 (4917, 7)\n"
     ]
    },
    {
     "name": "stderr",
     "output_type": "stream",
     "text": [
      "100%|██████████| 20/20 [00:02<00:00,  7.38it/s]\n",
      "100%|██████████| 1/1 [00:00<00:00,  8.39it/s]\n",
      "  0%|          | 0/3 [00:00<?, ?it/s]"
     ]
    },
    {
     "name": "stdout",
     "output_type": "stream",
     "text": [
      "58 (198, 7)\n",
      "59 (613, 7)\n"
     ]
    },
    {
     "name": "stderr",
     "output_type": "stream",
     "text": [
      "100%|██████████| 3/3 [00:00<00:00,  8.32it/s]\n",
      "100%|██████████| 1/1 [00:00<00:00, 23.74it/s]\n",
      "100%|██████████| 1/1 [00:00<00:00, 18.05it/s]\n",
      "  0%|          | 0/18 [00:00<?, ?it/s]"
     ]
    },
    {
     "name": "stdout",
     "output_type": "stream",
     "text": [
      "60 (3, 7)\n",
      "61 (35, 7)\n",
      "62 (4412, 7)\n"
     ]
    },
    {
     "name": "stderr",
     "output_type": "stream",
     "text": [
      "100%|██████████| 18/18 [00:02<00:00,  7.17it/s]\n",
      " 33%|███▎      | 1/3 [00:00<00:00,  7.10it/s]"
     ]
    },
    {
     "name": "stdout",
     "output_type": "stream",
     "text": [
      "63 (643, 7)\n"
     ]
    },
    {
     "name": "stderr",
     "output_type": "stream",
     "text": [
      "100%|██████████| 3/3 [00:00<00:00,  7.41it/s]\n",
      "100%|██████████| 1/1 [00:00<00:00, 17.21it/s]\n",
      "  0%|          | 0/33 [00:00<?, ?it/s]"
     ]
    },
    {
     "name": "stdout",
     "output_type": "stream",
     "text": [
      "64 (31, 7)\n",
      "65 (8296, 7)\n"
     ]
    },
    {
     "name": "stderr",
     "output_type": "stream",
     "text": [
      "100%|██████████| 33/33 [00:04<00:00,  6.95it/s]\n",
      " 50%|█████     | 1/2 [00:00<00:00,  6.84it/s]"
     ]
    },
    {
     "name": "stdout",
     "output_type": "stream",
     "text": [
      "66 (430, 7)\n"
     ]
    },
    {
     "name": "stderr",
     "output_type": "stream",
     "text": [
      "100%|██████████| 2/2 [00:00<00:00,  7.70it/s]\n",
      "100%|██████████| 2/2 [00:00<00:00, 10.09it/s]"
     ]
    },
    {
     "name": "stdout",
     "output_type": "stream",
     "text": [
      "67 (292, 7)\n"
     ]
    },
    {
     "name": "stderr",
     "output_type": "stream",
     "text": [
      "\n",
      " 33%|███▎      | 1/3 [00:00<00:00,  7.03it/s]"
     ]
    },
    {
     "name": "stdout",
     "output_type": "stream",
     "text": [
      "68 (663, 7)\n"
     ]
    },
    {
     "name": "stderr",
     "output_type": "stream",
     "text": [
      "100%|██████████| 3/3 [00:00<00:00,  7.80it/s]\n",
      " 20%|██        | 1/5 [00:00<00:00,  7.02it/s]"
     ]
    },
    {
     "name": "stdout",
     "output_type": "stream",
     "text": [
      "69 (1244, 7)\n"
     ]
    },
    {
     "name": "stderr",
     "output_type": "stream",
     "text": [
      "100%|██████████| 5/5 [00:00<00:00,  7.03it/s]\n",
      "  6%|▌         | 1/17 [00:00<00:02,  6.54it/s]"
     ]
    },
    {
     "name": "stdout",
     "output_type": "stream",
     "text": [
      "70 (4274, 7)\n"
     ]
    },
    {
     "name": "stderr",
     "output_type": "stream",
     "text": [
      "100%|██████████| 17/17 [00:02<00:00,  7.16it/s]\n",
      "  8%|▊         | 1/13 [00:00<00:01,  7.10it/s]"
     ]
    },
    {
     "name": "stdout",
     "output_type": "stream",
     "text": [
      "71 (3299, 7)\n"
     ]
    },
    {
     "name": "stderr",
     "output_type": "stream",
     "text": [
      "100%|██████████| 13/13 [00:01<00:00,  7.18it/s]\n",
      "100%|██████████| 1/1 [00:00<00:00, 13.65it/s]\n",
      "  0%|          | 0/15 [00:00<?, ?it/s]"
     ]
    },
    {
     "name": "stdout",
     "output_type": "stream",
     "text": [
      "72 (83, 7)\n",
      "73 (3764, 7)\n"
     ]
    },
    {
     "name": "stderr",
     "output_type": "stream",
     "text": [
      "100%|██████████| 15/15 [00:02<00:00,  7.21it/s]\n",
      "  5%|▌         | 1/19 [00:00<00:02,  6.87it/s]"
     ]
    },
    {
     "name": "stdout",
     "output_type": "stream",
     "text": [
      "74 (4648, 7)\n"
     ]
    },
    {
     "name": "stderr",
     "output_type": "stream",
     "text": [
      "100%|██████████| 19/19 [00:02<00:00,  6.97it/s]\n",
      "  5%|▌         | 1/20 [00:00<00:02,  7.08it/s]"
     ]
    },
    {
     "name": "stdout",
     "output_type": "stream",
     "text": [
      "75 (5007, 7)\n"
     ]
    },
    {
     "name": "stderr",
     "output_type": "stream",
     "text": [
      "100%|██████████| 20/20 [00:02<00:00,  7.08it/s]\n",
      "  9%|▉         | 1/11 [00:00<00:01,  6.99it/s]"
     ]
    },
    {
     "name": "stdout",
     "output_type": "stream",
     "text": [
      "76 (2736, 7)\n"
     ]
    },
    {
     "name": "stderr",
     "output_type": "stream",
     "text": [
      "100%|██████████| 11/11 [00:01<00:00,  7.13it/s]\n",
      "100%|██████████| 1/1 [00:00<00:00, 12.58it/s]\n",
      "100%|██████████| 1/1 [00:00<00:00, 13.88it/s]\n",
      "  0%|          | 0/2 [00:00<?, ?it/s]"
     ]
    },
    {
     "name": "stdout",
     "output_type": "stream",
     "text": [
      "77 (95, 7)\n",
      "78 (79, 7)\n",
      "79 (386, 7)\n"
     ]
    },
    {
     "name": "stderr",
     "output_type": "stream",
     "text": [
      "100%|██████████| 2/2 [00:00<00:00,  8.37it/s]\n",
      "  2%|▏         | 1/42 [00:00<00:05,  7.08it/s]"
     ]
    },
    {
     "name": "stdout",
     "output_type": "stream",
     "text": [
      "80 (10681, 7)\n"
     ]
    },
    {
     "name": "stderr",
     "output_type": "stream",
     "text": [
      "100%|██████████| 42/42 [00:06<00:00,  6.98it/s]\n",
      " 33%|███▎      | 1/3 [00:00<00:00,  7.24it/s]"
     ]
    },
    {
     "name": "stdout",
     "output_type": "stream",
     "text": [
      "81 (646, 7)\n"
     ]
    },
    {
     "name": "stderr",
     "output_type": "stream",
     "text": [
      "100%|██████████| 3/3 [00:00<00:00,  8.04it/s]\n",
      " 50%|█████     | 1/2 [00:00<00:00,  7.23it/s]"
     ]
    },
    {
     "name": "stdout",
     "output_type": "stream",
     "text": [
      "82 (325, 7)\n"
     ]
    },
    {
     "name": "stderr",
     "output_type": "stream",
     "text": [
      "100%|██████████| 2/2 [00:00<00:00,  9.56it/s]\n",
      " 11%|█         | 1/9 [00:00<00:01,  6.92it/s]"
     ]
    },
    {
     "name": "stdout",
     "output_type": "stream",
     "text": [
      "83 (2193, 7)\n"
     ]
    },
    {
     "name": "stderr",
     "output_type": "stream",
     "text": [
      "100%|██████████| 9/9 [00:01<00:00,  7.15it/s]\n",
      "100%|██████████| 1/1 [00:00<00:00, 15.68it/s]\n",
      "  0%|          | 0/21 [00:00<?, ?it/s]"
     ]
    },
    {
     "name": "stdout",
     "output_type": "stream",
     "text": [
      "84 (55, 7)\n",
      "85 (5257, 7)\n"
     ]
    },
    {
     "name": "stderr",
     "output_type": "stream",
     "text": [
      "100%|██████████| 21/21 [00:02<00:00,  7.19it/s]\n",
      " 50%|█████     | 1/2 [00:00<00:00,  6.29it/s]"
     ]
    },
    {
     "name": "stdout",
     "output_type": "stream",
     "text": [
      "86 (349, 7)\n"
     ]
    },
    {
     "name": "stderr",
     "output_type": "stream",
     "text": [
      "100%|██████████| 2/2 [00:00<00:00,  8.06it/s]\n",
      " 50%|█████     | 1/2 [00:00<00:00,  6.39it/s]"
     ]
    },
    {
     "name": "stdout",
     "output_type": "stream",
     "text": [
      "87 (318, 7)\n"
     ]
    },
    {
     "name": "stderr",
     "output_type": "stream",
     "text": [
      "100%|██████████| 2/2 [00:00<00:00,  8.94it/s]\n",
      "  9%|▉         | 1/11 [00:00<00:01,  6.90it/s]"
     ]
    },
    {
     "name": "stdout",
     "output_type": "stream",
     "text": [
      "88 (2682, 7)\n"
     ]
    },
    {
     "name": "stderr",
     "output_type": "stream",
     "text": [
      "100%|██████████| 11/11 [00:01<00:00,  7.10it/s]\n",
      " 17%|█▋        | 1/6 [00:00<00:00,  7.07it/s]"
     ]
    },
    {
     "name": "stdout",
     "output_type": "stream",
     "text": [
      "89 (1412, 7)\n"
     ]
    },
    {
     "name": "stderr",
     "output_type": "stream",
     "text": [
      "100%|██████████| 6/6 [00:00<00:00,  7.50it/s]\n",
      "  7%|▋         | 1/14 [00:00<00:01,  6.98it/s]"
     ]
    },
    {
     "name": "stdout",
     "output_type": "stream",
     "text": [
      "90 (3563, 7)\n"
     ]
    },
    {
     "name": "stderr",
     "output_type": "stream",
     "text": [
      "100%|██████████| 14/14 [00:02<00:00,  6.94it/s]\n",
      "100%|██████████| 1/1 [00:00<00:00,  8.99it/s]\n",
      "  0%|          | 0/8 [00:00<?, ?it/s]"
     ]
    },
    {
     "name": "stdout",
     "output_type": "stream",
     "text": [
      "91 (168, 7)\n",
      "92 (1807, 7)\n"
     ]
    },
    {
     "name": "stderr",
     "output_type": "stream",
     "text": [
      "100%|██████████| 8/8 [00:01<00:00,  7.57it/s]\n",
      " 25%|██▌       | 1/4 [00:00<00:00,  7.08it/s]"
     ]
    },
    {
     "name": "stdout",
     "output_type": "stream",
     "text": [
      "93 (883, 7)\n"
     ]
    },
    {
     "name": "stderr",
     "output_type": "stream",
     "text": [
      "100%|██████████| 4/4 [00:00<00:00,  7.82it/s]\n",
      "  8%|▊         | 1/12 [00:00<00:01,  7.22it/s]"
     ]
    },
    {
     "name": "stdout",
     "output_type": "stream",
     "text": [
      "94 (3043, 7)\n"
     ]
    },
    {
     "name": "stderr",
     "output_type": "stream",
     "text": [
      "100%|██████████| 12/12 [00:01<00:00,  7.21it/s]\n",
      "100%|██████████| 1/1 [00:00<00:00, 10.27it/s]\n",
      "  0%|          | 0/5 [00:00<?, ?it/s]"
     ]
    },
    {
     "name": "stdout",
     "output_type": "stream",
     "text": [
      "95 (144, 7)\n",
      "96 (1105, 7)\n"
     ]
    },
    {
     "name": "stderr",
     "output_type": "stream",
     "text": [
      "100%|██████████| 5/5 [00:00<00:00,  7.92it/s]\n",
      " 20%|██        | 1/5 [00:00<00:00,  7.15it/s]"
     ]
    },
    {
     "name": "stdout",
     "output_type": "stream",
     "text": [
      "97 (1052, 7)\n"
     ]
    },
    {
     "name": "stderr",
     "output_type": "stream",
     "text": [
      "100%|██████████| 5/5 [00:00<00:00,  8.18it/s]\n",
      " 10%|█         | 1/10 [00:00<00:01,  7.26it/s]"
     ]
    },
    {
     "name": "stdout",
     "output_type": "stream",
     "text": [
      "98 (2446, 7)\n"
     ]
    },
    {
     "name": "stderr",
     "output_type": "stream",
     "text": [
      "100%|██████████| 10/10 [00:01<00:00,  7.39it/s]\n",
      "100%|██████████| 1/1 [00:00<00:00, 13.51it/s]\n",
      "  0%|          | 0/8 [00:00<?, ?it/s]"
     ]
    },
    {
     "name": "stdout",
     "output_type": "stream",
     "text": [
      "99 (91, 7)\n",
      "100 (1852, 7)\n"
     ]
    },
    {
     "name": "stderr",
     "output_type": "stream",
     "text": [
      "100%|██████████| 8/8 [00:01<00:00,  7.65it/s]\n",
      "100%|██████████| 1/1 [00:00<00:00, 23.25it/s]\n",
      "  8%|▊         | 1/13 [00:00<00:01,  7.13it/s]"
     ]
    },
    {
     "name": "stdout",
     "output_type": "stream",
     "text": [
      "101 (5, 7)\n",
      "102 (3198, 7)\n"
     ]
    },
    {
     "name": "stderr",
     "output_type": "stream",
     "text": [
      "100%|██████████| 13/13 [00:01<00:00,  7.13it/s]\n",
      "  2%|▏         | 1/48 [00:00<00:06,  6.88it/s]"
     ]
    },
    {
     "name": "stdout",
     "output_type": "stream",
     "text": [
      "103 (12159, 7)\n"
     ]
    },
    {
     "name": "stderr",
     "output_type": "stream",
     "text": [
      "100%|██████████| 48/48 [00:06<00:00,  7.13it/s]\n",
      "  3%|▎         | 1/38 [00:00<00:05,  7.32it/s]"
     ]
    },
    {
     "name": "stdout",
     "output_type": "stream",
     "text": [
      "104 (9569, 7)\n"
     ]
    },
    {
     "name": "stderr",
     "output_type": "stream",
     "text": [
      "100%|██████████| 38/38 [00:05<00:00,  7.30it/s]\n",
      "100%|██████████| 1/1 [00:00<00:00, 15.00it/s]\n",
      "  0%|          | 0/20 [00:00<?, ?it/s]"
     ]
    },
    {
     "name": "stdout",
     "output_type": "stream",
     "text": [
      "105 (71, 7)\n",
      "106 (4965, 7)\n"
     ]
    },
    {
     "name": "stderr",
     "output_type": "stream",
     "text": [
      "100%|██████████| 20/20 [00:02<00:00,  7.19it/s]\n",
      "100%|██████████| 1/1 [00:00<00:00, 20.16it/s]\n",
      "  0%|          | 0/6 [00:00<?, ?it/s]"
     ]
    },
    {
     "name": "stdout",
     "output_type": "stream",
     "text": [
      "107 (17, 7)\n",
      "108 (1494, 7)\n"
     ]
    },
    {
     "name": "stderr",
     "output_type": "stream",
     "text": [
      "100%|██████████| 6/6 [00:00<00:00,  7.05it/s]\n",
      " 50%|█████     | 1/2 [00:00<00:00,  6.93it/s]"
     ]
    },
    {
     "name": "stdout",
     "output_type": "stream",
     "text": [
      "109 (352, 7)\n"
     ]
    },
    {
     "name": "stderr",
     "output_type": "stream",
     "text": [
      "100%|██████████| 2/2 [00:00<00:00,  8.96it/s]\n",
      " 10%|█         | 1/10 [00:00<00:01,  6.95it/s]"
     ]
    },
    {
     "name": "stdout",
     "output_type": "stream",
     "text": [
      "110 (2372, 7)\n"
     ]
    },
    {
     "name": "stderr",
     "output_type": "stream",
     "text": [
      "100%|██████████| 10/10 [00:01<00:00,  7.35it/s]\n",
      "100%|██████████| 1/1 [00:00<00:00,  7.65it/s]\n",
      "  0%|          | 0/3 [00:00<?, ?it/s]"
     ]
    },
    {
     "name": "stdout",
     "output_type": "stream",
     "text": [
      "111 (221, 7)\n",
      "112 (756, 7)\n"
     ]
    },
    {
     "name": "stderr",
     "output_type": "stream",
     "text": [
      "100%|██████████| 3/3 [00:00<00:00,  7.15it/s]\n",
      " 17%|█▋        | 1/6 [00:00<00:00,  7.09it/s]"
     ]
    },
    {
     "name": "stdout",
     "output_type": "stream",
     "text": [
      "113 (1507, 7)\n"
     ]
    },
    {
     "name": "stderr",
     "output_type": "stream",
     "text": [
      "100%|██████████| 6/6 [00:00<00:00,  7.21it/s]\n",
      "100%|██████████| 1/1 [00:00<00:00, 12.86it/s]\n",
      "  0%|          | 0/1 [00:00<?, ?it/s]"
     ]
    },
    {
     "name": "stdout",
     "output_type": "stream",
     "text": [
      "114 (81, 7)\n",
      "115 (207, 7)\n"
     ]
    },
    {
     "name": "stderr",
     "output_type": "stream",
     "text": [
      "100%|██████████| 1/1 [00:00<00:00,  7.75it/s]\n",
      " 50%|█████     | 1/2 [00:00<00:00,  7.12it/s]"
     ]
    },
    {
     "name": "stdout",
     "output_type": "stream",
     "text": [
      "116 (422, 7)\n"
     ]
    },
    {
     "name": "stderr",
     "output_type": "stream",
     "text": [
      "100%|██████████| 2/2 [00:00<00:00,  8.10it/s]\n",
      "100%|██████████| 1/1 [00:00<00:00, 19.45it/s]\n",
      "100%|██████████| 1/1 [00:00<00:00, 19.73it/s]\n",
      "100%|██████████| 1/1 [00:00<00:00, 18.91it/s]\n",
      "  0%|          | 0/1 [00:00<?, ?it/s]"
     ]
    },
    {
     "name": "stdout",
     "output_type": "stream",
     "text": [
      "117 (12, 7)\n",
      "118 (17, 7)\n",
      "119 (14, 7)\n",
      "120 (212, 7)\n"
     ]
    },
    {
     "name": "stderr",
     "output_type": "stream",
     "text": [
      "100%|██████████| 1/1 [00:00<00:00,  7.90it/s]\n",
      "  1%|          | 1/109 [00:00<00:15,  7.14it/s]"
     ]
    },
    {
     "name": "stdout",
     "output_type": "stream",
     "text": [
      "121 (27673, 7)\n"
     ]
    },
    {
     "name": "stderr",
     "output_type": "stream",
     "text": [
      "100%|██████████| 109/109 [00:15<00:00,  7.00it/s]\n",
      "0it [00:00, ?it/s]\n",
      " 11%|█         | 1/9 [00:00<00:01,  7.31it/s]"
     ]
    },
    {
     "name": "stdout",
     "output_type": "stream",
     "text": [
      "122 (0, 1)\n",
      "123 (2180, 7)\n"
     ]
    },
    {
     "name": "stderr",
     "output_type": "stream",
     "text": [
      "100%|██████████| 9/9 [00:01<00:00,  7.48it/s]\n",
      "  9%|▉         | 1/11 [00:00<00:01,  7.13it/s]"
     ]
    },
    {
     "name": "stdout",
     "output_type": "stream",
     "text": [
      "124 (2787, 7)\n"
     ]
    },
    {
     "name": "stderr",
     "output_type": "stream",
     "text": [
      "100%|██████████| 11/11 [00:01<00:00,  7.09it/s]\n",
      "100%|██████████| 1/1 [00:00<00:00,  9.75it/s]\n",
      "  0%|          | 0/65 [00:00<?, ?it/s]"
     ]
    },
    {
     "name": "stdout",
     "output_type": "stream",
     "text": [
      "125 (136, 7)\n",
      "126 (16402, 7)\n"
     ]
    },
    {
     "name": "stderr",
     "output_type": "stream",
     "text": [
      "100%|██████████| 65/65 [00:09<00:00,  7.02it/s]\n",
      " 14%|█▍        | 1/7 [00:00<00:00,  6.91it/s]"
     ]
    },
    {
     "name": "stdout",
     "output_type": "stream",
     "text": [
      "127 (1600, 7)\n"
     ]
    },
    {
     "name": "stderr",
     "output_type": "stream",
     "text": [
      "100%|██████████| 7/7 [00:00<00:00,  7.50it/s]\n",
      "100%|██████████| 1/1 [00:00<00:00, 10.65it/s]\n",
      "  0%|          | 0/9 [00:00<?, ?it/s]"
     ]
    },
    {
     "name": "stdout",
     "output_type": "stream",
     "text": [
      "128 (130, 7)\n",
      "129 (2195, 7)\n"
     ]
    },
    {
     "name": "stderr",
     "output_type": "stream",
     "text": [
      "100%|██████████| 9/9 [00:01<00:00,  7.16it/s]\n",
      " 50%|█████     | 1/2 [00:00<00:00,  6.87it/s]"
     ]
    },
    {
     "name": "stdout",
     "output_type": "stream",
     "text": [
      "130 (479, 7)\n"
     ]
    },
    {
     "name": "stderr",
     "output_type": "stream",
     "text": [
      "100%|██████████| 2/2 [00:00<00:00,  7.19it/s]\n",
      " 11%|█         | 1/9 [00:00<00:01,  6.86it/s]"
     ]
    },
    {
     "name": "stdout",
     "output_type": "stream",
     "text": [
      "131 (2252, 7)\n"
     ]
    },
    {
     "name": "stderr",
     "output_type": "stream",
     "text": [
      "100%|██████████| 9/9 [00:01<00:00,  7.10it/s]\n",
      " 17%|█▋        | 1/6 [00:00<00:00,  6.95it/s]"
     ]
    },
    {
     "name": "stdout",
     "output_type": "stream",
     "text": [
      "132 (1299, 7)\n"
     ]
    },
    {
     "name": "stderr",
     "output_type": "stream",
     "text": [
      "100%|██████████| 6/6 [00:00<00:00,  7.92it/s]\n",
      "100%|██████████| 1/1 [00:00<00:00,  7.99it/s]\n",
      "  0%|          | 0/23 [00:00<?, ?it/s]"
     ]
    },
    {
     "name": "stdout",
     "output_type": "stream",
     "text": [
      "133 (207, 7)\n",
      "134 (5634, 7)\n"
     ]
    },
    {
     "name": "stderr",
     "output_type": "stream",
     "text": [
      "100%|██████████| 23/23 [00:03<00:00,  7.22it/s]\n",
      "  1%|          | 1/81 [00:00<00:13,  5.73it/s]"
     ]
    },
    {
     "name": "stdout",
     "output_type": "stream",
     "text": [
      "135 (20595, 7)\n"
     ]
    },
    {
     "name": "stderr",
     "output_type": "stream",
     "text": [
      "100%|██████████| 81/81 [00:12<00:00,  6.24it/s]\n",
      " 10%|█         | 1/10 [00:00<00:01,  6.57it/s]"
     ]
    },
    {
     "name": "stdout",
     "output_type": "stream",
     "text": [
      "136 (2459, 7)\n"
     ]
    },
    {
     "name": "stderr",
     "output_type": "stream",
     "text": [
      "100%|██████████| 10/10 [00:01<00:00,  6.26it/s]\n",
      "  6%|▌         | 1/18 [00:00<00:02,  6.29it/s]"
     ]
    },
    {
     "name": "stdout",
     "output_type": "stream",
     "text": [
      "137 (4532, 7)\n"
     ]
    },
    {
     "name": "stderr",
     "output_type": "stream",
     "text": [
      "100%|██████████| 18/18 [00:02<00:00,  6.30it/s]\n",
      " 25%|██▌       | 1/4 [00:00<00:00,  6.61it/s]"
     ]
    },
    {
     "name": "stdout",
     "output_type": "stream",
     "text": [
      "138 (812, 7)\n"
     ]
    },
    {
     "name": "stderr",
     "output_type": "stream",
     "text": [
      "100%|██████████| 4/4 [00:00<00:00,  7.71it/s]\n",
      " 33%|███▎      | 1/3 [00:00<00:00,  6.71it/s]"
     ]
    },
    {
     "name": "stdout",
     "output_type": "stream",
     "text": [
      "139 (552, 7)\n"
     ]
    },
    {
     "name": "stderr",
     "output_type": "stream",
     "text": [
      "100%|██████████| 3/3 [00:00<00:00,  8.17it/s]\n",
      "100%|██████████| 1/1 [00:00<00:00, 17.89it/s]\n",
      "  0%|          | 0/7 [00:00<?, ?it/s]"
     ]
    },
    {
     "name": "stdout",
     "output_type": "stream",
     "text": [
      "140 (13, 7)\n",
      "141 (1592, 7)\n"
     ]
    },
    {
     "name": "stderr",
     "output_type": "stream",
     "text": [
      "100%|██████████| 7/7 [00:01<00:00,  6.83it/s]\n",
      "100%|██████████| 1/1 [00:00<00:00,  7.72it/s]\n",
      "  0%|          | 0/1 [00:00<?, ?it/s]"
     ]
    },
    {
     "name": "stdout",
     "output_type": "stream",
     "text": [
      "142 (197, 7)\n",
      "143 (163, 7)\n"
     ]
    },
    {
     "name": "stderr",
     "output_type": "stream",
     "text": [
      "100%|██████████| 1/1 [00:00<00:00,  8.82it/s]\n",
      "100%|██████████| 1/1 [00:00<00:00, 15.71it/s]\n",
      "  0%|          | 0/7 [00:00<?, ?it/s]"
     ]
    },
    {
     "name": "stdout",
     "output_type": "stream",
     "text": [
      "144 (45, 7)\n",
      "145 (1610, 7)\n"
     ]
    },
    {
     "name": "stderr",
     "output_type": "stream",
     "text": [
      "100%|██████████| 7/7 [00:01<00:00,  6.98it/s]\n",
      "100%|██████████| 1/1 [00:00<00:00,  9.47it/s]\n",
      "  0%|          | 0/1 [00:00<?, ?it/s]"
     ]
    },
    {
     "name": "stdout",
     "output_type": "stream",
     "text": [
      "146 (146, 7)\n",
      "147 (95, 7)\n"
     ]
    },
    {
     "name": "stderr",
     "output_type": "stream",
     "text": [
      "100%|██████████| 1/1 [00:00<00:00, 11.74it/s]\n",
      "100%|██████████| 1/1 [00:00<00:00, 20.61it/s]\n",
      "100%|██████████| 1/1 [00:00<00:00,  7.21it/s]"
     ]
    },
    {
     "name": "stdout",
     "output_type": "stream",
     "text": [
      "148 (7, 7)\n",
      "149 (220, 7)\n"
     ]
    },
    {
     "name": "stderr",
     "output_type": "stream",
     "text": [
      "\n",
      "  6%|▌         | 1/17 [00:00<00:02,  6.60it/s]"
     ]
    },
    {
     "name": "stdout",
     "output_type": "stream",
     "text": [
      "150 (4159, 7)\n"
     ]
    },
    {
     "name": "stderr",
     "output_type": "stream",
     "text": [
      "100%|██████████| 17/17 [00:02<00:00,  6.82it/s]\n",
      "100%|██████████| 1/1 [00:00<00:00, 11.26it/s]\n",
      "  0%|          | 0/3 [00:00<?, ?it/s]"
     ]
    },
    {
     "name": "stdout",
     "output_type": "stream",
     "text": [
      "151 (110, 7)\n",
      "152 (579, 7)\n"
     ]
    },
    {
     "name": "stderr",
     "output_type": "stream",
     "text": [
      "100%|██████████| 3/3 [00:00<00:00,  8.05it/s]\n",
      " 50%|█████     | 1/2 [00:00<00:00,  6.77it/s]"
     ]
    },
    {
     "name": "stdout",
     "output_type": "stream",
     "text": [
      "153 (420, 7)\n"
     ]
    },
    {
     "name": "stderr",
     "output_type": "stream",
     "text": [
      "100%|██████████| 2/2 [00:00<00:00,  7.58it/s]\n",
      "100%|██████████| 1/1 [00:00<00:00, 13.02it/s]\n",
      "  0%|          | 0/16 [00:00<?, ?it/s]"
     ]
    },
    {
     "name": "stdout",
     "output_type": "stream",
     "text": [
      "154 (79, 7)\n",
      "155 (3990, 7)\n"
     ]
    },
    {
     "name": "stderr",
     "output_type": "stream",
     "text": [
      "100%|██████████| 16/16 [00:02<00:00,  6.77it/s]\n",
      "  7%|▋         | 1/15 [00:00<00:02,  6.75it/s]"
     ]
    },
    {
     "name": "stdout",
     "output_type": "stream",
     "text": [
      "156 (3781, 7)\n"
     ]
    },
    {
     "name": "stderr",
     "output_type": "stream",
     "text": [
      "100%|██████████| 15/15 [00:02<00:00,  6.73it/s]\n",
      "  5%|▌         | 1/20 [00:00<00:02,  6.60it/s]"
     ]
    },
    {
     "name": "stdout",
     "output_type": "stream",
     "text": [
      "157 (5041, 7)\n"
     ]
    },
    {
     "name": "stderr",
     "output_type": "stream",
     "text": [
      "100%|██████████| 20/20 [00:03<00:00,  6.64it/s]\n",
      " 12%|█▎        | 1/8 [00:00<00:01,  6.76it/s]"
     ]
    },
    {
     "name": "stdout",
     "output_type": "stream",
     "text": [
      "158 (1891, 7)\n"
     ]
    },
    {
     "name": "stderr",
     "output_type": "stream",
     "text": [
      "100%|██████████| 8/8 [00:01<00:00,  6.95it/s]\n",
      "  4%|▍         | 1/23 [00:00<00:03,  6.67it/s]"
     ]
    },
    {
     "name": "stdout",
     "output_type": "stream",
     "text": [
      "159 (5679, 7)\n"
     ]
    },
    {
     "name": "stderr",
     "output_type": "stream",
     "text": [
      "100%|██████████| 23/23 [00:03<00:00,  6.79it/s]\n",
      "  6%|▌         | 1/18 [00:00<00:02,  6.86it/s]"
     ]
    },
    {
     "name": "stdout",
     "output_type": "stream",
     "text": [
      "160 (4463, 7)\n"
     ]
    },
    {
     "name": "stderr",
     "output_type": "stream",
     "text": [
      "100%|██████████| 18/18 [00:02<00:00,  6.79it/s]\n",
      " 33%|███▎      | 1/3 [00:00<00:00,  6.45it/s]"
     ]
    },
    {
     "name": "stdout",
     "output_type": "stream",
     "text": [
      "161 (639, 7)\n"
     ]
    },
    {
     "name": "stderr",
     "output_type": "stream",
     "text": [
      "100%|██████████| 3/3 [00:00<00:00,  7.50it/s]\n",
      "100%|██████████| 1/1 [00:00<00:00,  9.86it/s]\n",
      "  0%|          | 0/5 [00:00<?, ?it/s]"
     ]
    },
    {
     "name": "stdout",
     "output_type": "stream",
     "text": [
      "162 (129, 7)\n",
      "163 (1036, 7)\n"
     ]
    },
    {
     "name": "stderr",
     "output_type": "stream",
     "text": [
      "100%|██████████| 5/5 [00:00<00:00,  7.73it/s]\n",
      " 11%|█         | 1/9 [00:00<00:01,  6.79it/s]"
     ]
    },
    {
     "name": "stdout",
     "output_type": "stream",
     "text": [
      "164 (2287, 7)\n"
     ]
    },
    {
     "name": "stderr",
     "output_type": "stream",
     "text": [
      "100%|██████████| 9/9 [00:01<00:00,  6.65it/s]\n",
      " 20%|██        | 1/5 [00:00<00:00,  6.78it/s]"
     ]
    },
    {
     "name": "stdout",
     "output_type": "stream",
     "text": [
      "165 (1061, 7)\n"
     ]
    },
    {
     "name": "stderr",
     "output_type": "stream",
     "text": [
      "100%|██████████| 5/5 [00:00<00:00,  7.68it/s]\n",
      "  3%|▎         | 1/36 [00:00<00:05,  6.67it/s]"
     ]
    },
    {
     "name": "stdout",
     "output_type": "stream",
     "text": [
      "166 (9010, 7)\n"
     ]
    },
    {
     "name": "stderr",
     "output_type": "stream",
     "text": [
      "100%|██████████| 36/36 [00:05<00:00,  6.74it/s]\n",
      " 33%|███▎      | 1/3 [00:00<00:00,  6.77it/s]"
     ]
    },
    {
     "name": "stdout",
     "output_type": "stream",
     "text": [
      "167 (547, 7)\n"
     ]
    },
    {
     "name": "stderr",
     "output_type": "stream",
     "text": [
      "100%|██████████| 3/3 [00:00<00:00,  8.36it/s]\n",
      "  5%|▌         | 1/19 [00:00<00:02,  6.80it/s]"
     ]
    },
    {
     "name": "stdout",
     "output_type": "stream",
     "text": [
      "168 (4746, 7)\n"
     ]
    },
    {
     "name": "stderr",
     "output_type": "stream",
     "text": [
      "100%|██████████| 19/19 [00:02<00:00,  6.71it/s]\n",
      " 50%|█████     | 1/2 [00:00<00:00,  6.49it/s]"
     ]
    },
    {
     "name": "stdout",
     "output_type": "stream",
     "text": [
      "169 (325, 7)\n"
     ]
    },
    {
     "name": "stderr",
     "output_type": "stream",
     "text": [
      "100%|██████████| 2/2 [00:00<00:00,  8.81it/s]\n",
      " 20%|██        | 1/5 [00:00<00:00,  6.56it/s]"
     ]
    },
    {
     "name": "stdout",
     "output_type": "stream",
     "text": [
      "170 (1067, 7)\n"
     ]
    },
    {
     "name": "stderr",
     "output_type": "stream",
     "text": [
      "100%|██████████| 5/5 [00:00<00:00,  7.52it/s]\n",
      " 50%|█████     | 1/2 [00:00<00:00,  6.78it/s]"
     ]
    },
    {
     "name": "stdout",
     "output_type": "stream",
     "text": [
      "171 (479, 7)\n"
     ]
    },
    {
     "name": "stderr",
     "output_type": "stream",
     "text": [
      "100%|██████████| 2/2 [00:00<00:00,  6.93it/s]\n",
      "  1%|          | 1/123 [00:00<00:18,  6.70it/s]"
     ]
    },
    {
     "name": "stdout",
     "output_type": "stream",
     "text": [
      "172 (31393, 7)\n"
     ]
    },
    {
     "name": "stderr",
     "output_type": "stream",
     "text": [
      "100%|██████████| 123/123 [00:18<00:00,  6.62it/s]\n",
      "  8%|▊         | 1/12 [00:00<00:01,  6.65it/s]"
     ]
    },
    {
     "name": "stdout",
     "output_type": "stream",
     "text": [
      "173 (2976, 7)\n"
     ]
    },
    {
     "name": "stderr",
     "output_type": "stream",
     "text": [
      "100%|██████████| 12/12 [00:01<00:00,  6.72it/s]\n",
      "100%|██████████| 1/1 [00:00<00:00, 15.26it/s]\n",
      "  0%|          | 0/5 [00:00<?, ?it/s]"
     ]
    },
    {
     "name": "stdout",
     "output_type": "stream",
     "text": [
      "174 (51, 7)\n",
      "175 (1197, 7)\n"
     ]
    },
    {
     "name": "stderr",
     "output_type": "stream",
     "text": [
      "100%|██████████| 5/5 [00:00<00:00,  6.92it/s]\n",
      "  8%|▊         | 1/13 [00:00<00:01,  6.56it/s]"
     ]
    },
    {
     "name": "stdout",
     "output_type": "stream",
     "text": [
      "176 (3246, 7)\n"
     ]
    },
    {
     "name": "stderr",
     "output_type": "stream",
     "text": [
      "100%|██████████| 13/13 [00:01<00:00,  6.64it/s]\n",
      "  8%|▊         | 1/13 [00:00<00:01,  6.83it/s]"
     ]
    },
    {
     "name": "stdout",
     "output_type": "stream",
     "text": [
      "177 (3132, 7)\n"
     ]
    },
    {
     "name": "stderr",
     "output_type": "stream",
     "text": [
      "100%|██████████| 13/13 [00:01<00:00,  7.09it/s]\n",
      " 25%|██▌       | 1/4 [00:00<00:00,  6.94it/s]"
     ]
    },
    {
     "name": "stdout",
     "output_type": "stream",
     "text": [
      "178 (1011, 7)\n"
     ]
    },
    {
     "name": "stderr",
     "output_type": "stream",
     "text": [
      "100%|██████████| 4/4 [00:00<00:00,  6.91it/s]\n",
      " 33%|███▎      | 1/3 [00:00<00:00,  6.84it/s]"
     ]
    },
    {
     "name": "stdout",
     "output_type": "stream",
     "text": [
      "179 (763, 7)\n"
     ]
    },
    {
     "name": "stderr",
     "output_type": "stream",
     "text": [
      "100%|██████████| 3/3 [00:00<00:00,  6.80it/s]\n",
      "100%|██████████| 1/1 [00:00<00:00,  7.58it/s]\n",
      "  0%|          | 0/19 [00:00<?, ?it/s]"
     ]
    },
    {
     "name": "stdout",
     "output_type": "stream",
     "text": [
      "180 (214, 7)\n",
      "181 (4716, 7)\n"
     ]
    },
    {
     "name": "stderr",
     "output_type": "stream",
     "text": [
      "100%|██████████| 19/19 [00:02<00:00,  6.73it/s]\n",
      " 17%|█▋        | 1/6 [00:00<00:00,  6.43it/s]"
     ]
    },
    {
     "name": "stdout",
     "output_type": "stream",
     "text": [
      "182 (1379, 7)\n"
     ]
    },
    {
     "name": "stderr",
     "output_type": "stream",
     "text": [
      "100%|██████████| 6/6 [00:00<00:00,  7.07it/s]\n",
      "100%|██████████| 1/1 [00:00<00:00, 22.45it/s]\n",
      "  0%|          | 0/28 [00:00<?, ?it/s]"
     ]
    },
    {
     "name": "stdout",
     "output_type": "stream",
     "text": [
      "183 (5, 7)\n",
      "184 (6982, 7)\n"
     ]
    },
    {
     "name": "stderr",
     "output_type": "stream",
     "text": [
      "100%|██████████| 28/28 [00:04<00:00,  6.81it/s]\n",
      " 10%|█         | 1/10 [00:00<00:01,  6.75it/s]"
     ]
    },
    {
     "name": "stdout",
     "output_type": "stream",
     "text": [
      "185 (2305, 7)\n"
     ]
    },
    {
     "name": "stderr",
     "output_type": "stream",
     "text": [
      "100%|██████████| 10/10 [00:01<00:00,  7.20it/s]\n",
      "  2%|▏         | 1/58 [00:00<00:08,  6.89it/s]"
     ]
    },
    {
     "name": "stdout",
     "output_type": "stream",
     "text": [
      "186 (14674, 7)\n"
     ]
    },
    {
     "name": "stderr",
     "output_type": "stream",
     "text": [
      "100%|██████████| 58/58 [00:08<00:00,  6.67it/s]\n",
      "  1%|          | 1/82 [00:00<00:11,  6.75it/s]"
     ]
    },
    {
     "name": "stdout",
     "output_type": "stream",
     "text": [
      "187 (20910, 7)\n"
     ]
    },
    {
     "name": "stderr",
     "output_type": "stream",
     "text": [
      "100%|██████████| 82/82 [00:12<00:00,  6.60it/s]\n",
      " 50%|█████     | 1/2 [00:00<00:00,  6.46it/s]"
     ]
    },
    {
     "name": "stdout",
     "output_type": "stream",
     "text": [
      "188 (258, 7)\n"
     ]
    },
    {
     "name": "stderr",
     "output_type": "stream",
     "text": [
      "100%|██████████| 2/2 [00:00<00:00,  9.68it/s]\n",
      "  4%|▍         | 1/26 [00:00<00:03,  6.45it/s]"
     ]
    },
    {
     "name": "stdout",
     "output_type": "stream",
     "text": [
      "189 (6608, 7)\n"
     ]
    },
    {
     "name": "stderr",
     "output_type": "stream",
     "text": [
      "100%|██████████| 26/26 [00:03<00:00,  6.67it/s]\n",
      " 50%|█████     | 1/2 [00:00<00:00,  6.95it/s]"
     ]
    },
    {
     "name": "stdout",
     "output_type": "stream",
     "text": [
      "190 (297, 7)\n"
     ]
    },
    {
     "name": "stderr",
     "output_type": "stream",
     "text": [
      "100%|██████████| 2/2 [00:00<00:00,  9.74it/s]\n",
      " 33%|███▎      | 1/3 [00:00<00:00,  6.79it/s]"
     ]
    },
    {
     "name": "stdout",
     "output_type": "stream",
     "text": [
      "191 (547, 7)\n"
     ]
    },
    {
     "name": "stderr",
     "output_type": "stream",
     "text": [
      "100%|██████████| 3/3 [00:00<00:00,  8.48it/s]\n",
      "  6%|▌         | 1/17 [00:00<00:02,  6.54it/s]"
     ]
    },
    {
     "name": "stdout",
     "output_type": "stream",
     "text": [
      "192 (4207, 7)\n"
     ]
    },
    {
     "name": "stderr",
     "output_type": "stream",
     "text": [
      "100%|██████████| 17/17 [00:02<00:00,  6.77it/s]\n",
      "  2%|▏         | 1/48 [00:00<00:07,  6.62it/s]"
     ]
    },
    {
     "name": "stdout",
     "output_type": "stream",
     "text": [
      "193 (12238, 7)\n"
     ]
    },
    {
     "name": "stderr",
     "output_type": "stream",
     "text": [
      "100%|██████████| 48/48 [00:07<00:00,  6.62it/s]\n",
      "  8%|▊         | 1/12 [00:00<00:01,  6.55it/s]"
     ]
    },
    {
     "name": "stdout",
     "output_type": "stream",
     "text": [
      "194 (2980, 7)\n"
     ]
    },
    {
     "name": "stderr",
     "output_type": "stream",
     "text": [
      "100%|██████████| 12/12 [00:01<00:00,  6.68it/s]\n",
      " 14%|█▍        | 1/7 [00:00<00:00,  6.58it/s]"
     ]
    },
    {
     "name": "stdout",
     "output_type": "stream",
     "text": [
      "195 (1613, 7)\n"
     ]
    },
    {
     "name": "stderr",
     "output_type": "stream",
     "text": [
      "100%|██████████| 7/7 [00:00<00:00,  7.12it/s]\n",
      "100%|██████████| 1/1 [00:00<00:00, 15.07it/s]\n",
      "  0%|          | 0/6 [00:00<?, ?it/s]"
     ]
    },
    {
     "name": "stdout",
     "output_type": "stream",
     "text": [
      "196 (44, 7)\n",
      "197 (1297, 7)\n"
     ]
    },
    {
     "name": "stderr",
     "output_type": "stream",
     "text": [
      "100%|██████████| 6/6 [00:00<00:00,  7.23it/s]\n",
      " 25%|██▌       | 1/4 [00:00<00:00,  6.82it/s]"
     ]
    },
    {
     "name": "stdout",
     "output_type": "stream",
     "text": [
      "198 (790, 7)\n"
     ]
    },
    {
     "name": "stderr",
     "output_type": "stream",
     "text": [
      "100%|██████████| 4/4 [00:00<00:00,  8.09it/s]\n",
      "  5%|▌         | 1/20 [00:00<00:02,  6.71it/s]"
     ]
    },
    {
     "name": "stdout",
     "output_type": "stream",
     "text": [
      "199 (4969, 7)\n"
     ]
    },
    {
     "name": "stderr",
     "output_type": "stream",
     "text": [
      "100%|██████████| 20/20 [00:02<00:00,  6.68it/s]\n",
      "100%|██████████| 1/1 [00:00<00:00, 12.28it/s]\n",
      "  0%|          | 0/64 [00:00<?, ?it/s]"
     ]
    },
    {
     "name": "stdout",
     "output_type": "stream",
     "text": [
      "200 (79, 7)\n",
      "201 (16186, 7)\n"
     ]
    },
    {
     "name": "stderr",
     "output_type": "stream",
     "text": [
      "100%|██████████| 64/64 [00:09<00:00,  6.81it/s]\n",
      "100%|██████████| 1/1 [00:00<00:00,  7.71it/s]\n",
      "100%|██████████| 1/1 [00:00<00:00, 18.42it/s]"
     ]
    },
    {
     "name": "stdout",
     "output_type": "stream",
     "text": [
      "202 (218, 7)\n",
      "203 (33, 7)\n"
     ]
    },
    {
     "name": "stderr",
     "output_type": "stream",
     "text": [
      "\n",
      "  1%|          | 1/127 [00:00<00:18,  6.93it/s]"
     ]
    },
    {
     "name": "stdout",
     "output_type": "stream",
     "text": [
      "204 (32511, 7)\n"
     ]
    },
    {
     "name": "stderr",
     "output_type": "stream",
     "text": [
      "100%|██████████| 127/127 [00:18<00:00,  6.99it/s]\n",
      "  3%|▎         | 1/39 [00:00<00:05,  7.27it/s]"
     ]
    },
    {
     "name": "stdout",
     "output_type": "stream",
     "text": [
      "205 (9977, 7)\n"
     ]
    },
    {
     "name": "stderr",
     "output_type": "stream",
     "text": [
      "100%|██████████| 39/39 [00:05<00:00,  7.18it/s]\n",
      "100%|██████████| 1/1 [00:00<00:00, 15.81it/s]\n",
      "  0%|          | 0/92 [00:00<?, ?it/s]"
     ]
    },
    {
     "name": "stdout",
     "output_type": "stream",
     "text": [
      "206 (61, 7)\n",
      "207 (23445, 7)\n"
     ]
    },
    {
     "name": "stderr",
     "output_type": "stream",
     "text": [
      "100%|██████████| 92/92 [00:13<00:00,  7.04it/s]\n",
      "  3%|▎         | 1/33 [00:00<00:04,  7.44it/s]"
     ]
    },
    {
     "name": "stdout",
     "output_type": "stream",
     "text": [
      "208 (8433, 7)\n"
     ]
    },
    {
     "name": "stderr",
     "output_type": "stream",
     "text": [
      "100%|██████████| 33/33 [00:04<00:00,  7.33it/s]\n",
      " 20%|██        | 1/5 [00:00<00:00,  7.42it/s]"
     ]
    },
    {
     "name": "stdout",
     "output_type": "stream",
     "text": [
      "209 (1245, 7)\n"
     ]
    },
    {
     "name": "stderr",
     "output_type": "stream",
     "text": [
      "100%|██████████| 5/5 [00:00<00:00,  7.48it/s]\n",
      "100%|██████████| 1/1 [00:00<00:00, 19.46it/s]\n",
      "  0%|          | 0/7 [00:00<?, ?it/s]"
     ]
    },
    {
     "name": "stdout",
     "output_type": "stream",
     "text": [
      "210 (29, 7)\n",
      "211 (1571, 7)\n"
     ]
    },
    {
     "name": "stderr",
     "output_type": "stream",
     "text": [
      "100%|██████████| 7/7 [00:00<00:00,  8.12it/s]\n",
      " 25%|██▌       | 1/4 [00:00<00:00,  7.25it/s]"
     ]
    },
    {
     "name": "stdout",
     "output_type": "stream",
     "text": [
      "212 (924, 7)\n"
     ]
    },
    {
     "name": "stderr",
     "output_type": "stream",
     "text": [
      "100%|██████████| 4/4 [00:00<00:00,  7.71it/s]\n",
      "100%|██████████| 1/1 [00:00<00:00, 13.97it/s]\n",
      "100%|██████████| 1/1 [00:00<00:00, 16.57it/s]\n",
      "  0%|          | 0/7 [00:00<?, ?it/s]"
     ]
    },
    {
     "name": "stdout",
     "output_type": "stream",
     "text": [
      "213 (86, 7)\n",
      "214 (54, 7)\n",
      "215 (1607, 7)\n"
     ]
    },
    {
     "name": "stderr",
     "output_type": "stream",
     "text": [
      "100%|██████████| 7/7 [00:00<00:00,  7.80it/s]\n",
      "100%|██████████| 2/2 [00:00<00:00, 10.30it/s]"
     ]
    },
    {
     "name": "stdout",
     "output_type": "stream",
     "text": [
      "216 (298, 7)\n"
     ]
    },
    {
     "name": "stderr",
     "output_type": "stream",
     "text": [
      "\n",
      "100%|██████████| 1/1 [00:00<00:00, 14.67it/s]\n",
      "  0%|          | 0/197 [00:00<?, ?it/s]"
     ]
    },
    {
     "name": "stdout",
     "output_type": "stream",
     "text": [
      "217 (75, 7)\n",
      "218 (50189, 7)\n"
     ]
    },
    {
     "name": "stderr",
     "output_type": "stream",
     "text": [
      "100%|██████████| 197/197 [00:27<00:00,  7.17it/s]\n",
      "100%|██████████| 1/1 [00:00<00:00,  9.63it/s]\n",
      "  0%|          | 0/84 [00:00<?, ?it/s]"
     ]
    },
    {
     "name": "stdout",
     "output_type": "stream",
     "text": [
      "219 (163, 7)\n",
      "220 (21490, 7)\n"
     ]
    },
    {
     "name": "stderr",
     "output_type": "stream",
     "text": [
      "100%|██████████| 84/84 [00:12<00:00,  6.90it/s]\n",
      "100%|██████████| 1/1 [00:00<00:00, 14.51it/s]\n",
      "100%|██████████| 1/1 [00:00<00:00, 12.89it/s]\n",
      "  0%|          | 0/1 [00:00<?, ?it/s]"
     ]
    },
    {
     "name": "stdout",
     "output_type": "stream",
     "text": [
      "221 (76, 7)\n",
      "222 (99, 7)\n",
      "223 (56, 7)\n"
     ]
    },
    {
     "name": "stderr",
     "output_type": "stream",
     "text": [
      "100%|██████████| 1/1 [00:00<00:00, 15.48it/s]\n",
      "  1%|▏         | 1/77 [00:00<00:10,  7.13it/s]"
     ]
    },
    {
     "name": "stdout",
     "output_type": "stream",
     "text": [
      "224 (19605, 7)\n"
     ]
    },
    {
     "name": "stderr",
     "output_type": "stream",
     "text": [
      "100%|██████████| 77/77 [00:11<00:00,  6.73it/s]\n",
      "  8%|▊         | 1/12 [00:00<00:01,  7.05it/s]"
     ]
    },
    {
     "name": "stdout",
     "output_type": "stream",
     "text": [
      "225 (2902, 7)\n"
     ]
    },
    {
     "name": "stderr",
     "output_type": "stream",
     "text": [
      "100%|██████████| 12/12 [00:01<00:00,  7.33it/s]\n",
      "100%|██████████| 1/1 [00:00<00:00, 11.52it/s]\n",
      "  0%|          | 0/47 [00:00<?, ?it/s]"
     ]
    },
    {
     "name": "stdout",
     "output_type": "stream",
     "text": [
      "226 (124, 7)\n",
      "227 (11978, 7)\n"
     ]
    },
    {
     "name": "stderr",
     "output_type": "stream",
     "text": [
      "100%|██████████| 47/47 [00:06<00:00,  6.77it/s]\n",
      "  5%|▍         | 1/22 [00:00<00:03,  6.93it/s]"
     ]
    },
    {
     "name": "stdout",
     "output_type": "stream",
     "text": [
      "228 (5383, 7)\n"
     ]
    },
    {
     "name": "stderr",
     "output_type": "stream",
     "text": [
      "100%|██████████| 22/22 [00:03<00:00,  7.31it/s]\n",
      "100%|██████████| 1/1 [00:00<00:00, 25.65it/s]\n",
      "  8%|▊         | 1/12 [00:00<00:01,  7.37it/s]"
     ]
    },
    {
     "name": "stdout",
     "output_type": "stream",
     "text": [
      "229 (1, 7)\n",
      "230 (2950, 7)\n"
     ]
    },
    {
     "name": "stderr",
     "output_type": "stream",
     "text": [
      "100%|██████████| 12/12 [00:01<00:00,  7.31it/s]\n",
      "100%|██████████| 1/1 [00:00<00:00,  6.65it/s]\n",
      "  0%|          | 0/27 [00:00<?, ?it/s]"
     ]
    },
    {
     "name": "stdout",
     "output_type": "stream",
     "text": [
      "231 (213, 7)\n",
      "232 (6861, 7)\n"
     ]
    },
    {
     "name": "stderr",
     "output_type": "stream",
     "text": [
      "100%|██████████| 27/27 [00:04<00:00,  6.15it/s]\n",
      "100%|██████████| 1/1 [00:00<00:00, 18.99it/s]\n",
      "  0%|          | 0/70 [00:00<?, ?it/s]"
     ]
    },
    {
     "name": "stdout",
     "output_type": "stream",
     "text": [
      "233 (18, 7)\n",
      "234 (17909, 7)\n"
     ]
    },
    {
     "name": "stderr",
     "output_type": "stream",
     "text": [
      "100%|██████████| 70/70 [00:10<00:00,  6.86it/s]\n",
      " 25%|██▌       | 1/4 [00:00<00:00,  6.05it/s]"
     ]
    },
    {
     "name": "stdout",
     "output_type": "stream",
     "text": [
      "235 (927, 7)\n"
     ]
    },
    {
     "name": "stderr",
     "output_type": "stream",
     "text": [
      "100%|██████████| 4/4 [00:00<00:00,  6.59it/s]\n",
      "  3%|▎         | 1/32 [00:00<00:04,  6.83it/s]"
     ]
    },
    {
     "name": "stdout",
     "output_type": "stream",
     "text": [
      "236 (8039, 7)\n"
     ]
    },
    {
     "name": "stderr",
     "output_type": "stream",
     "text": [
      "100%|██████████| 32/32 [00:04<00:00,  6.42it/s]\n",
      "100%|██████████| 1/1 [00:00<00:00,  8.00it/s]\n",
      "100%|██████████| 1/1 [00:00<00:00, 22.59it/s]\n",
      "  0%|          | 0/2 [00:00<?, ?it/s]"
     ]
    },
    {
     "name": "stdout",
     "output_type": "stream",
     "text": [
      "237 (202, 7)\n",
      "238 (6, 7)\n",
      "239 (393, 7)\n"
     ]
    },
    {
     "name": "stderr",
     "output_type": "stream",
     "text": [
      "100%|██████████| 2/2 [00:00<00:00,  8.04it/s]\n",
      "100%|██████████| 1/1 [00:00<00:00, 22.30it/s]\n",
      "  0%|          | 0/26 [00:00<?, ?it/s]"
     ]
    },
    {
     "name": "stdout",
     "output_type": "stream",
     "text": [
      "240 (7, 7)\n",
      "241 (6648, 7)\n"
     ]
    },
    {
     "name": "stderr",
     "output_type": "stream",
     "text": [
      "100%|██████████| 26/26 [00:03<00:00,  6.75it/s]\n",
      "100%|██████████| 1/1 [00:00<00:00, 13.65it/s]\n",
      "  0%|          | 0/11 [00:00<?, ?it/s]"
     ]
    },
    {
     "name": "stdout",
     "output_type": "stream",
     "text": [
      "242 (82, 7)\n",
      "243 (2583, 7)\n"
     ]
    },
    {
     "name": "stderr",
     "output_type": "stream",
     "text": [
      "100%|██████████| 11/11 [00:01<00:00,  7.30it/s]\n",
      " 10%|█         | 1/10 [00:00<00:01,  6.98it/s]"
     ]
    },
    {
     "name": "stdout",
     "output_type": "stream",
     "text": [
      "244 (2388, 7)\n"
     ]
    },
    {
     "name": "stderr",
     "output_type": "stream",
     "text": [
      "100%|██████████| 10/10 [00:01<00:00,  7.16it/s]\n",
      "100%|██████████| 1/1 [00:00<00:00, 17.87it/s]\n",
      "100%|██████████| 1/1 [00:00<00:00,  9.26it/s]\n",
      "  0%|          | 0/14 [00:00<?, ?it/s]"
     ]
    },
    {
     "name": "stdout",
     "output_type": "stream",
     "text": [
      "245 (34, 7)\n",
      "246 (163, 7)\n",
      "247 (3562, 7)\n"
     ]
    },
    {
     "name": "stderr",
     "output_type": "stream",
     "text": [
      "100%|██████████| 14/14 [00:02<00:00,  6.93it/s]\n",
      "100%|██████████| 1/1 [00:00<00:00,  9.38it/s]\n",
      "  0%|          | 0/8 [00:00<?, ?it/s]"
     ]
    },
    {
     "name": "stdout",
     "output_type": "stream",
     "text": [
      "248 (161, 7)\n",
      "249 (1888, 7)\n"
     ]
    },
    {
     "name": "stderr",
     "output_type": "stream",
     "text": [
      "100%|██████████| 8/8 [00:01<00:00,  7.23it/s]\n",
      " 50%|█████     | 1/2 [00:00<00:00,  6.71it/s]"
     ]
    },
    {
     "name": "stdout",
     "output_type": "stream",
     "text": [
      "250 (444, 7)\n"
     ]
    },
    {
     "name": "stderr",
     "output_type": "stream",
     "text": [
      "100%|██████████| 2/2 [00:00<00:00,  7.36it/s]\n",
      "100%|██████████| 1/1 [00:00<00:00, 12.71it/s]\n",
      "  0%|          | 0/19 [00:00<?, ?it/s]"
     ]
    },
    {
     "name": "stdout",
     "output_type": "stream",
     "text": [
      "251 (84, 7)\n",
      "252 (4623, 7)\n"
     ]
    },
    {
     "name": "stderr",
     "output_type": "stream",
     "text": [
      "100%|██████████| 19/19 [00:02<00:00,  7.02it/s]\n",
      " 50%|█████     | 1/2 [00:00<00:00,  6.96it/s]"
     ]
    },
    {
     "name": "stdout",
     "output_type": "stream",
     "text": [
      "253 (368, 7)\n"
     ]
    },
    {
     "name": "stderr",
     "output_type": "stream",
     "text": [
      "100%|██████████| 2/2 [00:00<00:00,  8.59it/s]\n",
      "100%|██████████| 1/1 [00:00<00:00, 12.23it/s]\n",
      "100%|██████████| 1/1 [00:00<00:00, 21.94it/s]\n",
      "100%|██████████| 1/1 [00:00<00:00, 21.93it/s]"
     ]
    },
    {
     "name": "stdout",
     "output_type": "stream",
     "text": [
      "254 (95, 7)\n",
      "255 (7, 7)\n",
      "256 (8, 7)\n"
     ]
    },
    {
     "name": "stderr",
     "output_type": "stream",
     "text": [
      "\n",
      " 20%|██        | 1/5 [00:00<00:00,  6.88it/s]"
     ]
    },
    {
     "name": "stdout",
     "output_type": "stream",
     "text": [
      "257 (1036, 7)\n"
     ]
    },
    {
     "name": "stderr",
     "output_type": "stream",
     "text": [
      "100%|██████████| 5/5 [00:00<00:00,  7.91it/s]\n",
      "  1%|          | 1/122 [00:00<00:17,  6.90it/s]"
     ]
    },
    {
     "name": "stdout",
     "output_type": "stream",
     "text": [
      "258 (31027, 7)\n"
     ]
    },
    {
     "name": "stderr",
     "output_type": "stream",
     "text": [
      "100%|██████████| 122/122 [00:18<00:00,  6.71it/s]\n",
      " 17%|█▋        | 1/6 [00:00<00:00,  6.83it/s]"
     ]
    },
    {
     "name": "stdout",
     "output_type": "stream",
     "text": [
      "259 (1480, 7)\n"
     ]
    },
    {
     "name": "stderr",
     "output_type": "stream",
     "text": [
      "100%|██████████| 6/6 [00:00<00:00,  7.00it/s]\n",
      "  2%|▏         | 1/65 [00:00<00:09,  6.51it/s]"
     ]
    },
    {
     "name": "stdout",
     "output_type": "stream",
     "text": [
      "260 (16470, 7)\n"
     ]
    },
    {
     "name": "stderr",
     "output_type": "stream",
     "text": [
      "100%|██████████| 65/65 [00:09<00:00,  6.69it/s]\n",
      " 50%|█████     | 1/2 [00:00<00:00,  6.63it/s]"
     ]
    },
    {
     "name": "stdout",
     "output_type": "stream",
     "text": [
      "261 (394, 7)\n"
     ]
    },
    {
     "name": "stderr",
     "output_type": "stream",
     "text": [
      "100%|██████████| 2/2 [00:00<00:00,  7.65it/s]\n",
      "  6%|▌         | 1/17 [00:00<00:02,  6.47it/s]"
     ]
    },
    {
     "name": "stdout",
     "output_type": "stream",
     "text": [
      "262 (4186, 7)\n"
     ]
    },
    {
     "name": "stderr",
     "output_type": "stream",
     "text": [
      "100%|██████████| 17/17 [00:02<00:00,  6.68it/s]\n",
      " 20%|██        | 1/5 [00:00<00:00,  6.73it/s]"
     ]
    },
    {
     "name": "stdout",
     "output_type": "stream",
     "text": [
      "263 (1085, 7)\n"
     ]
    },
    {
     "name": "stderr",
     "output_type": "stream",
     "text": [
      "100%|██████████| 5/5 [00:00<00:00,  7.59it/s]\n",
      "100%|██████████| 1/1 [00:00<00:00, 15.51it/s]\n",
      "  0%|          | 0/3 [00:00<?, ?it/s]"
     ]
    },
    {
     "name": "stdout",
     "output_type": "stream",
     "text": [
      "264 (53, 7)\n",
      "265 (681, 7)\n"
     ]
    },
    {
     "name": "stderr",
     "output_type": "stream",
     "text": [
      "100%|██████████| 3/3 [00:00<00:00,  7.21it/s]\n",
      " 17%|█▋        | 1/6 [00:00<00:00,  6.89it/s]"
     ]
    },
    {
     "name": "stdout",
     "output_type": "stream",
     "text": [
      "266 (1515, 7)\n"
     ]
    },
    {
     "name": "stderr",
     "output_type": "stream",
     "text": [
      "100%|██████████| 6/6 [00:00<00:00,  6.80it/s]\n",
      "100%|██████████| 1/1 [00:00<00:00,  8.54it/s]\n",
      "100%|██████████| 1/1 [00:00<00:00, 19.31it/s]"
     ]
    },
    {
     "name": "stdout",
     "output_type": "stream",
     "text": [
      "267 (164, 7)\n",
      "268 (11, 7)\n",
      "269 (5, 7)\n"
     ]
    },
    {
     "name": "stderr",
     "output_type": "stream",
     "text": [
      "\n",
      "100%|██████████| 1/1 [00:00<00:00, 20.91it/s]\n",
      " 20%|██        | 1/5 [00:00<00:00,  6.41it/s]"
     ]
    },
    {
     "name": "stdout",
     "output_type": "stream",
     "text": [
      "270 (1133, 7)\n"
     ]
    },
    {
     "name": "stderr",
     "output_type": "stream",
     "text": [
      "100%|██████████| 5/5 [00:00<00:00,  7.08it/s]\n",
      "  9%|▉         | 1/11 [00:00<00:01,  6.45it/s]"
     ]
    },
    {
     "name": "stdout",
     "output_type": "stream",
     "text": [
      "271 (2750, 7)\n"
     ]
    },
    {
     "name": "stderr",
     "output_type": "stream",
     "text": [
      "100%|██████████| 11/11 [00:01<00:00,  6.85it/s]\n",
      " 14%|█▍        | 1/7 [00:00<00:00,  6.94it/s]"
     ]
    },
    {
     "name": "stdout",
     "output_type": "stream",
     "text": [
      "272 (1766, 7)\n"
     ]
    },
    {
     "name": "stderr",
     "output_type": "stream",
     "text": [
      "100%|██████████| 7/7 [00:01<00:00,  6.81it/s]\n",
      "100%|██████████| 1/1 [00:00<00:00,  9.80it/s]\n",
      "100%|██████████| 1/1 [00:00<00:00, 14.37it/s]"
     ]
    },
    {
     "name": "stdout",
     "output_type": "stream",
     "text": [
      "273 (155, 7)\n",
      "274 (72, 7)\n"
     ]
    },
    {
     "name": "stderr",
     "output_type": "stream",
     "text": [
      "\n",
      "  8%|▊         | 1/12 [00:00<00:01,  7.08it/s]"
     ]
    },
    {
     "name": "stdout",
     "output_type": "stream",
     "text": [
      "275 (3062, 7)\n"
     ]
    },
    {
     "name": "stderr",
     "output_type": "stream",
     "text": [
      "100%|██████████| 12/12 [00:01<00:00,  6.96it/s]\n",
      " 50%|█████     | 1/2 [00:00<00:00,  6.80it/s]"
     ]
    },
    {
     "name": "stdout",
     "output_type": "stream",
     "text": [
      "276 (276, 7)\n"
     ]
    },
    {
     "name": "stderr",
     "output_type": "stream",
     "text": [
      "100%|██████████| 2/2 [00:00<00:00,  9.84it/s]\n",
      " 14%|█▍        | 1/7 [00:00<00:00,  6.83it/s]"
     ]
    },
    {
     "name": "stdout",
     "output_type": "stream",
     "text": [
      "277 (1616, 7)\n"
     ]
    },
    {
     "name": "stderr",
     "output_type": "stream",
     "text": [
      "100%|██████████| 7/7 [00:00<00:00,  7.44it/s]\n",
      " 50%|█████     | 1/2 [00:00<00:00,  5.65it/s]"
     ]
    },
    {
     "name": "stdout",
     "output_type": "stream",
     "text": [
      "278 (271, 7)\n"
     ]
    },
    {
     "name": "stderr",
     "output_type": "stream",
     "text": [
      "100%|██████████| 2/2 [00:00<00:00,  8.72it/s]\n",
      "  1%|          | 1/120 [00:00<00:18,  6.53it/s]"
     ]
    },
    {
     "name": "stdout",
     "output_type": "stream",
     "text": [
      "279 (30704, 7)\n"
     ]
    },
    {
     "name": "stderr",
     "output_type": "stream",
     "text": [
      "100%|██████████| 120/120 [00:18<00:00,  6.64it/s]\n",
      " 20%|██        | 1/5 [00:00<00:00,  6.91it/s]"
     ]
    },
    {
     "name": "stdout",
     "output_type": "stream",
     "text": [
      "280 (1080, 7)\n"
     ]
    },
    {
     "name": "stderr",
     "output_type": "stream",
     "text": [
      "100%|██████████| 5/5 [00:00<00:00,  7.63it/s]\n",
      "  6%|▋         | 1/16 [00:00<00:02,  6.83it/s]"
     ]
    },
    {
     "name": "stdout",
     "output_type": "stream",
     "text": [
      "281 (3886, 7)\n"
     ]
    },
    {
     "name": "stderr",
     "output_type": "stream",
     "text": [
      "100%|██████████| 16/16 [00:02<00:00,  7.04it/s]\n",
      "  9%|▉         | 1/11 [00:00<00:01,  6.75it/s]"
     ]
    },
    {
     "name": "stdout",
     "output_type": "stream",
     "text": [
      "282 (2784, 7)\n"
     ]
    },
    {
     "name": "stderr",
     "output_type": "stream",
     "text": [
      "100%|██████████| 11/11 [00:01<00:00,  6.76it/s]\n",
      "100%|██████████| 1/1 [00:00<00:00, 14.20it/s]\n",
      "  0%|          | 0/3 [00:00<?, ?it/s]"
     ]
    },
    {
     "name": "stdout",
     "output_type": "stream",
     "text": [
      "283 (67, 7)\n",
      "284 (675, 7)\n"
     ]
    },
    {
     "name": "stderr",
     "output_type": "stream",
     "text": [
      "100%|██████████| 3/3 [00:00<00:00,  7.25it/s]\n",
      "100%|██████████| 1/1 [00:00<00:00,  8.29it/s]\n",
      "  0%|          | 0/19 [00:00<?, ?it/s]"
     ]
    },
    {
     "name": "stdout",
     "output_type": "stream",
     "text": [
      "285 (179, 7)\n",
      "286 (4836, 7)\n"
     ]
    },
    {
     "name": "stderr",
     "output_type": "stream",
     "text": [
      "100%|██████████| 19/19 [00:02<00:00,  6.72it/s]\n",
      " 20%|██        | 1/5 [00:00<00:00,  6.67it/s]"
     ]
    },
    {
     "name": "stdout",
     "output_type": "stream",
     "text": [
      "287 (1072, 7)\n"
     ]
    },
    {
     "name": "stderr",
     "output_type": "stream",
     "text": [
      "100%|██████████| 5/5 [00:00<00:00,  7.50it/s]\n",
      " 50%|█████     | 1/2 [00:00<00:00,  6.93it/s]"
     ]
    },
    {
     "name": "stdout",
     "output_type": "stream",
     "text": [
      "288 (365, 7)\n"
     ]
    },
    {
     "name": "stderr",
     "output_type": "stream",
     "text": [
      "100%|██████████| 2/2 [00:00<00:00,  8.54it/s]\n",
      " 20%|██        | 1/5 [00:00<00:00,  6.80it/s]"
     ]
    },
    {
     "name": "stdout",
     "output_type": "stream",
     "text": [
      "289 (1269, 7)\n"
     ]
    },
    {
     "name": "stderr",
     "output_type": "stream",
     "text": [
      "100%|██████████| 5/5 [00:00<00:00,  6.86it/s]\n",
      "100%|██████████| 1/1 [00:00<00:00, 14.82it/s]\n",
      "100%|██████████| 1/1 [00:00<00:00, 21.70it/s]\n",
      "  0%|          | 0/1 [00:00<?, ?it/s]"
     ]
    },
    {
     "name": "stdout",
     "output_type": "stream",
     "text": [
      "290 (61, 7)\n",
      "291 (7, 7)\n",
      "292 (49, 7)\n"
     ]
    },
    {
     "name": "stderr",
     "output_type": "stream",
     "text": [
      "100%|██████████| 1/1 [00:00<00:00, 15.91it/s]\n",
      "100%|██████████| 1/1 [00:00<00:00, 11.59it/s]\n",
      "  0%|          | 0/1 [00:00<?, ?it/s]"
     ]
    },
    {
     "name": "stdout",
     "output_type": "stream",
     "text": [
      "293 (103, 7)\n",
      "294 (226, 7)\n"
     ]
    },
    {
     "name": "stderr",
     "output_type": "stream",
     "text": [
      "100%|██████████| 1/1 [00:00<00:00,  7.29it/s]\n",
      " 14%|█▍        | 1/7 [00:00<00:00,  6.89it/s]"
     ]
    },
    {
     "name": "stdout",
     "output_type": "stream",
     "text": [
      "295 (1598, 7)\n"
     ]
    },
    {
     "name": "stderr",
     "output_type": "stream",
     "text": [
      "100%|██████████| 7/7 [00:00<00:00,  7.14it/s]\n",
      "100%|██████████| 1/1 [00:00<00:00, 15.83it/s]\n",
      "  0%|          | 0/32 [00:00<?, ?it/s]"
     ]
    },
    {
     "name": "stdout",
     "output_type": "stream",
     "text": [
      "296 (49, 7)\n",
      "297 (8087, 7)\n"
     ]
    },
    {
     "name": "stderr",
     "output_type": "stream",
     "text": [
      "100%|██████████| 32/32 [00:04<00:00,  6.81it/s]\n",
      "  9%|▉         | 1/11 [00:00<00:01,  6.55it/s]"
     ]
    },
    {
     "name": "stdout",
     "output_type": "stream",
     "text": [
      "298 (2784, 7)\n"
     ]
    },
    {
     "name": "stderr",
     "output_type": "stream",
     "text": [
      "100%|██████████| 11/11 [00:01<00:00,  6.60it/s]\n",
      " 20%|██        | 1/5 [00:00<00:00,  6.32it/s]"
     ]
    },
    {
     "name": "stdout",
     "output_type": "stream",
     "text": [
      "299 (1244, 7)\n"
     ]
    },
    {
     "name": "stderr",
     "output_type": "stream",
     "text": [
      "100%|██████████| 5/5 [00:00<00:00,  6.63it/s]\n",
      "  5%|▌         | 1/19 [00:00<00:02,  6.60it/s]"
     ]
    },
    {
     "name": "stdout",
     "output_type": "stream",
     "text": [
      "300 (4854, 7)\n"
     ]
    },
    {
     "name": "stderr",
     "output_type": "stream",
     "text": [
      "100%|██████████| 19/19 [00:02<00:00,  6.51it/s]\n",
      "  1%|          | 1/136 [00:00<00:20,  6.51it/s]"
     ]
    },
    {
     "name": "stdout",
     "output_type": "stream",
     "text": [
      "301 (34783, 7)\n"
     ]
    },
    {
     "name": "stderr",
     "output_type": "stream",
     "text": [
      "100%|██████████| 136/136 [00:20<00:00,  6.65it/s]\n",
      "100%|██████████| 1/1 [00:00<00:00, 12.20it/s]\n",
      "100%|██████████| 1/1 [00:00<00:00, 21.91it/s]\n",
      "  0%|          | 0/10 [00:00<?, ?it/s]"
     ]
    },
    {
     "name": "stdout",
     "output_type": "stream",
     "text": [
      "302 (99, 7)\n",
      "303 (3, 7)\n",
      "304 (2532, 7)\n"
     ]
    },
    {
     "name": "stderr",
     "output_type": "stream",
     "text": [
      "100%|██████████| 10/10 [00:01<00:00,  6.69it/s]\n",
      "100%|██████████| 1/1 [00:00<00:00, 10.25it/s]\n",
      "  0%|          | 0/1 [00:00<?, ?it/s]"
     ]
    },
    {
     "name": "stdout",
     "output_type": "stream",
     "text": [
      "305 (132, 7)\n",
      "306 (113, 7)\n"
     ]
    },
    {
     "name": "stderr",
     "output_type": "stream",
     "text": [
      "100%|██████████| 1/1 [00:00<00:00, 11.34it/s]\n",
      "100%|██████████| 1/1 [00:00<00:00, 13.45it/s]\n",
      "100%|██████████| 1/1 [00:00<00:00, 13.67it/s]\n",
      "  0%|          | 0/1 [00:00<?, ?it/s]"
     ]
    },
    {
     "name": "stdout",
     "output_type": "stream",
     "text": [
      "307 (83, 7)\n",
      "308 (80, 7)\n",
      "309 (49, 7)\n"
     ]
    },
    {
     "name": "stderr",
     "output_type": "stream",
     "text": [
      "100%|██████████| 1/1 [00:00<00:00, 15.76it/s]\n",
      "100%|██████████| 1/1 [00:00<00:00, 13.68it/s]\n",
      "  0%|          | 0/10 [00:00<?, ?it/s]"
     ]
    },
    {
     "name": "stdout",
     "output_type": "stream",
     "text": [
      "310 (81, 7)\n",
      "311 (2324, 7)\n"
     ]
    },
    {
     "name": "stderr",
     "output_type": "stream",
     "text": [
      "100%|██████████| 10/10 [00:01<00:00,  7.16it/s]\n",
      "100%|██████████| 1/1 [00:00<00:00,  7.10it/s]\n",
      "  0%|          | 0/16 [00:00<?, ?it/s]"
     ]
    },
    {
     "name": "stdout",
     "output_type": "stream",
     "text": [
      "312 (234, 7)\n",
      "313 (3933, 7)\n"
     ]
    },
    {
     "name": "stderr",
     "output_type": "stream",
     "text": [
      "100%|██████████| 16/16 [00:02<00:00,  6.59it/s]\n",
      " 11%|█         | 1/9 [00:00<00:01,  6.72it/s]"
     ]
    },
    {
     "name": "stdout",
     "output_type": "stream",
     "text": [
      "314 (2193, 7)\n"
     ]
    },
    {
     "name": "stderr",
     "output_type": "stream",
     "text": [
      "100%|██████████| 9/9 [00:01<00:00,  7.16it/s]\n",
      "  3%|▎         | 1/36 [00:00<00:04,  7.09it/s]"
     ]
    },
    {
     "name": "stdout",
     "output_type": "stream",
     "text": [
      "315 (9048, 7)\n"
     ]
    },
    {
     "name": "stderr",
     "output_type": "stream",
     "text": [
      "100%|██████████| 36/36 [00:05<00:00,  6.95it/s]\n",
      " 50%|█████     | 1/2 [00:00<00:00,  7.03it/s]"
     ]
    },
    {
     "name": "stdout",
     "output_type": "stream",
     "text": [
      "316 (435, 7)\n"
     ]
    },
    {
     "name": "stderr",
     "output_type": "stream",
     "text": [
      "100%|██████████| 2/2 [00:00<00:00,  7.86it/s]\n",
      " 11%|█         | 1/9 [00:00<00:01,  7.17it/s]"
     ]
    },
    {
     "name": "stdout",
     "output_type": "stream",
     "text": [
      "317 (2203, 7)\n"
     ]
    },
    {
     "name": "stderr",
     "output_type": "stream",
     "text": [
      "100%|██████████| 9/9 [00:01<00:00,  7.02it/s]\n",
      " 50%|█████     | 1/2 [00:00<00:00,  7.05it/s]"
     ]
    },
    {
     "name": "stdout",
     "output_type": "stream",
     "text": [
      "318 (480, 7)\n"
     ]
    },
    {
     "name": "stderr",
     "output_type": "stream",
     "text": [
      "100%|██████████| 2/2 [00:00<00:00,  7.28it/s]\n",
      "100%|██████████| 1/1 [00:00<00:00,  8.44it/s]\n",
      "  0%|          | 0/45 [00:00<?, ?it/s]"
     ]
    },
    {
     "name": "stdout",
     "output_type": "stream",
     "text": [
      "319 (156, 7)\n",
      "320 (11489, 7)\n"
     ]
    },
    {
     "name": "stderr",
     "output_type": "stream",
     "text": [
      "100%|██████████| 45/45 [00:06<00:00,  6.88it/s]\n",
      " 20%|██        | 1/5 [00:00<00:00,  7.18it/s]"
     ]
    },
    {
     "name": "stdout",
     "output_type": "stream",
     "text": [
      "321 (1225, 7)\n"
     ]
    },
    {
     "name": "stderr",
     "output_type": "stream",
     "text": [
      "100%|██████████| 5/5 [00:00<00:00,  7.41it/s]\n",
      "100%|██████████| 1/1 [00:00<00:00, 13.64it/s]\n",
      "  0%|          | 0/9 [00:00<?, ?it/s]"
     ]
    },
    {
     "name": "stdout",
     "output_type": "stream",
     "text": [
      "322 (89, 7)\n",
      "323 (2287, 7)\n"
     ]
    },
    {
     "name": "stderr",
     "output_type": "stream",
     "text": [
      "100%|██████████| 9/9 [00:01<00:00,  7.20it/s]\n",
      "100%|██████████| 1/1 [00:00<00:00,  8.05it/s]\n",
      "  0%|          | 0/20 [00:00<?, ?it/s]"
     ]
    },
    {
     "name": "stdout",
     "output_type": "stream",
     "text": [
      "324 (214, 7)\n",
      "325 (5058, 7)\n"
     ]
    },
    {
     "name": "stderr",
     "output_type": "stream",
     "text": [
      "100%|██████████| 20/20 [00:03<00:00,  6.43it/s]\n",
      "  3%|▎         | 1/36 [00:00<00:05,  5.92it/s]"
     ]
    },
    {
     "name": "stdout",
     "output_type": "stream",
     "text": [
      "326 (9009, 7)\n"
     ]
    },
    {
     "name": "stderr",
     "output_type": "stream",
     "text": [
      "100%|██████████| 36/36 [00:05<00:00,  6.74it/s]\n",
      " 20%|██        | 1/5 [00:00<00:00,  6.69it/s]"
     ]
    },
    {
     "name": "stdout",
     "output_type": "stream",
     "text": [
      "327 (1109, 7)\n"
     ]
    },
    {
     "name": "stderr",
     "output_type": "stream",
     "text": [
      "100%|██████████| 5/5 [00:00<00:00,  7.36it/s]\n",
      "  2%|▏         | 1/43 [00:00<00:06,  6.77it/s]"
     ]
    },
    {
     "name": "stdout",
     "output_type": "stream",
     "text": [
      "328 (10791, 7)\n"
     ]
    },
    {
     "name": "stderr",
     "output_type": "stream",
     "text": [
      "100%|██████████| 43/43 [00:06<00:00,  6.64it/s]\n",
      "100%|██████████| 1/1 [00:00<00:00, 21.56it/s]\n",
      "  0%|          | 0/2 [00:00<?, ?it/s]"
     ]
    },
    {
     "name": "stdout",
     "output_type": "stream",
     "text": [
      "329 (11, 7)\n",
      "330 (308, 7)\n"
     ]
    },
    {
     "name": "stderr",
     "output_type": "stream",
     "text": [
      "100%|██████████| 2/2 [00:00<00:00,  9.71it/s]\n",
      " 33%|███▎      | 1/3 [00:00<00:00,  6.69it/s]"
     ]
    },
    {
     "name": "stdout",
     "output_type": "stream",
     "text": [
      "331 (634, 7)\n"
     ]
    },
    {
     "name": "stderr",
     "output_type": "stream",
     "text": [
      "100%|██████████| 3/3 [00:00<00:00,  7.61it/s]\n",
      "100%|██████████| 1/1 [00:00<00:00,  8.55it/s]\n",
      "  0%|          | 0/24 [00:00<?, ?it/s]"
     ]
    },
    {
     "name": "stdout",
     "output_type": "stream",
     "text": [
      "332 (119, 7)\n",
      "333 (6067, 7)\n"
     ]
    },
    {
     "name": "stderr",
     "output_type": "stream",
     "text": [
      "100%|██████████| 24/24 [00:03<00:00,  6.48it/s]\n",
      "100%|██████████| 1/1 [00:00<00:00, 14.56it/s]\n",
      "  0%|          | 0/27 [00:00<?, ?it/s]"
     ]
    },
    {
     "name": "stdout",
     "output_type": "stream",
     "text": [
      "334 (48, 7)\n",
      "335 (6887, 7)\n"
     ]
    },
    {
     "name": "stderr",
     "output_type": "stream",
     "text": [
      "100%|██████████| 27/27 [00:03<00:00,  6.91it/s]\n",
      "  0%|          | 1/281 [00:00<00:39,  7.11it/s]"
     ]
    },
    {
     "name": "stdout",
     "output_type": "stream",
     "text": [
      "336 (71781, 7)\n"
     ]
    },
    {
     "name": "stderr",
     "output_type": "stream",
     "text": [
      "100%|██████████| 281/281 [00:45<00:00,  6.21it/s]\n",
      "  0%|          | 0/7 [00:00<?, ?it/s]"
     ]
    },
    {
     "name": "stdout",
     "output_type": "stream",
     "text": [
      "337 (1624, 7)\n"
     ]
    },
    {
     "name": "stderr",
     "output_type": "stream",
     "text": [
      "100%|██████████| 7/7 [00:01<00:00,  5.57it/s]\n",
      " 25%|██▌       | 1/4 [00:00<00:00,  5.13it/s]"
     ]
    },
    {
     "name": "stdout",
     "output_type": "stream",
     "text": [
      "338 (885, 7)\n"
     ]
    },
    {
     "name": "stderr",
     "output_type": "stream",
     "text": [
      "100%|██████████| 4/4 [00:00<00:00,  5.71it/s]\n",
      "100%|██████████| 1/1 [00:00<00:00, 14.52it/s]\n",
      "  0%|          | 0/1 [00:00<?, ?it/s]"
     ]
    },
    {
     "name": "stdout",
     "output_type": "stream",
     "text": [
      "339 (14, 7)\n",
      "340 (175, 7)\n"
     ]
    },
    {
     "name": "stderr",
     "output_type": "stream",
     "text": [
      "100%|██████████| 1/1 [00:00<00:00,  6.95it/s]\n",
      " 20%|██        | 1/5 [00:00<00:00,  5.05it/s]"
     ]
    },
    {
     "name": "stdout",
     "output_type": "stream",
     "text": [
      "341 (1220, 7)\n"
     ]
    },
    {
     "name": "stderr",
     "output_type": "stream",
     "text": [
      "100%|██████████| 5/5 [00:00<00:00,  5.30it/s]\n",
      " 33%|███▎      | 1/3 [00:00<00:00,  5.02it/s]"
     ]
    },
    {
     "name": "stdout",
     "output_type": "stream",
     "text": [
      "342 (530, 7)\n"
     ]
    },
    {
     "name": "stderr",
     "output_type": "stream",
     "text": [
      "100%|██████████| 3/3 [00:00<00:00,  6.46it/s]\n",
      "  0%|          | 0/5 [00:00<?, ?it/s]"
     ]
    },
    {
     "name": "stdout",
     "output_type": "stream",
     "text": [
      "343 (1155, 7)\n"
     ]
    },
    {
     "name": "stderr",
     "output_type": "stream",
     "text": [
      "100%|██████████| 5/5 [00:00<00:00,  5.07it/s]\n",
      "100%|██████████| 1/1 [00:00<00:00, 11.59it/s]\n",
      "  0%|          | 0/14 [00:00<?, ?it/s]"
     ]
    },
    {
     "name": "stdout",
     "output_type": "stream",
     "text": [
      "344 (45, 7)\n",
      "345 (3362, 7)\n"
     ]
    },
    {
     "name": "stderr",
     "output_type": "stream",
     "text": [
      "100%|██████████| 14/14 [00:02<00:00,  6.45it/s]\n",
      "100%|██████████| 1/1 [00:00<00:00,  7.10it/s]\n",
      "  0%|          | 0/4 [00:00<?, ?it/s]"
     ]
    },
    {
     "name": "stdout",
     "output_type": "stream",
     "text": [
      "346 (218, 7)\n",
      "347 (997, 7)\n"
     ]
    },
    {
     "name": "stderr",
     "output_type": "stream",
     "text": [
      "100%|██████████| 4/4 [00:00<00:00,  6.56it/s]\n",
      "  5%|▌         | 1/19 [00:00<00:02,  6.49it/s]"
     ]
    },
    {
     "name": "stdout",
     "output_type": "stream",
     "text": [
      "348 (4701, 7)\n"
     ]
    },
    {
     "name": "stderr",
     "output_type": "stream",
     "text": [
      "100%|██████████| 19/19 [00:02<00:00,  6.65it/s]\n",
      " 25%|██▌       | 1/4 [00:00<00:00,  6.78it/s]"
     ]
    },
    {
     "name": "stdout",
     "output_type": "stream",
     "text": [
      "349 (842, 7)\n"
     ]
    },
    {
     "name": "stderr",
     "output_type": "stream",
     "text": [
      "100%|██████████| 4/4 [00:00<00:00,  7.47it/s]\n",
      " 25%|██▌       | 1/4 [00:00<00:00,  6.67it/s]"
     ]
    },
    {
     "name": "stdout",
     "output_type": "stream",
     "text": [
      "350 (892, 7)\n"
     ]
    },
    {
     "name": "stderr",
     "output_type": "stream",
     "text": [
      "100%|██████████| 4/4 [00:00<00:00,  7.23it/s]\n",
      " 17%|█▋        | 1/6 [00:00<00:00,  6.88it/s]"
     ]
    },
    {
     "name": "stdout",
     "output_type": "stream",
     "text": [
      "351 (1411, 7)\n"
     ]
    },
    {
     "name": "stderr",
     "output_type": "stream",
     "text": [
      "100%|██████████| 6/6 [00:00<00:00,  7.16it/s]\n",
      "100%|██████████| 1/1 [00:00<00:00, 17.04it/s]\n",
      "  0%|          | 0/9 [00:00<?, ?it/s]"
     ]
    },
    {
     "name": "stdout",
     "output_type": "stream",
     "text": [
      "352 (37, 7)\n",
      "353 (2274, 7)\n"
     ]
    },
    {
     "name": "stderr",
     "output_type": "stream",
     "text": [
      "100%|██████████| 9/9 [00:01<00:00,  6.72it/s]\n",
      "  2%|▏         | 1/54 [00:00<00:08,  6.50it/s]"
     ]
    },
    {
     "name": "stdout",
     "output_type": "stream",
     "text": [
      "354 (13583, 7)\n"
     ]
    },
    {
     "name": "stderr",
     "output_type": "stream",
     "text": [
      "100%|██████████| 54/54 [00:08<00:00,  6.71it/s]\n",
      "100%|██████████| 1/1 [00:00<00:00, 17.44it/s]\n",
      "  0%|          | 0/2 [00:00<?, ?it/s]"
     ]
    },
    {
     "name": "stdout",
     "output_type": "stream",
     "text": [
      "355 (40, 7)\n",
      "356 (375, 7)\n"
     ]
    },
    {
     "name": "stderr",
     "output_type": "stream",
     "text": [
      "100%|██████████| 2/2 [00:00<00:00,  8.23it/s]\n",
      "100%|██████████| 1/1 [00:00<00:00, 18.25it/s]\n",
      "100%|██████████| 1/1 [00:00<00:00, 13.19it/s]\n",
      "  0%|          | 0/2 [00:00<?, ?it/s]"
     ]
    },
    {
     "name": "stdout",
     "output_type": "stream",
     "text": [
      "357 (35, 7)\n",
      "358 (79, 7)\n",
      "359 (387, 7)\n"
     ]
    },
    {
     "name": "stderr",
     "output_type": "stream",
     "text": [
      "100%|██████████| 2/2 [00:00<00:00,  7.99it/s]\n",
      "  2%|▏         | 1/42 [00:00<00:06,  6.77it/s]"
     ]
    },
    {
     "name": "stdout",
     "output_type": "stream",
     "text": [
      "360 (10572, 7)\n"
     ]
    },
    {
     "name": "stderr",
     "output_type": "stream",
     "text": [
      "100%|██████████| 42/42 [00:06<00:00,  6.78it/s]\n",
      "100%|██████████| 1/1 [00:00<00:00,  7.11it/s]\n",
      "  0%|          | 0/4 [00:00<?, ?it/s]"
     ]
    },
    {
     "name": "stdout",
     "output_type": "stream",
     "text": [
      "361 (245, 7)\n",
      "362 (832, 7)\n"
     ]
    },
    {
     "name": "stderr",
     "output_type": "stream",
     "text": [
      "100%|██████████| 4/4 [00:00<00:00,  7.69it/s]\n",
      "  8%|▊         | 1/13 [00:00<00:01,  6.87it/s]"
     ]
    },
    {
     "name": "stdout",
     "output_type": "stream",
     "text": [
      "363 (3252, 7)\n"
     ]
    },
    {
     "name": "stderr",
     "output_type": "stream",
     "text": [
      "100%|██████████| 13/13 [00:01<00:00,  6.75it/s]\n",
      " 17%|█▋        | 1/6 [00:00<00:00,  6.59it/s]"
     ]
    },
    {
     "name": "stdout",
     "output_type": "stream",
     "text": [
      "364 (1346, 7)\n"
     ]
    },
    {
     "name": "stderr",
     "output_type": "stream",
     "text": [
      "100%|██████████| 6/6 [00:00<00:00,  7.29it/s]\n",
      "  3%|▎         | 1/38 [00:00<00:05,  6.80it/s]"
     ]
    },
    {
     "name": "stdout",
     "output_type": "stream",
     "text": [
      "365 (9522, 7)\n"
     ]
    },
    {
     "name": "stderr",
     "output_type": "stream",
     "text": [
      "100%|██████████| 38/38 [00:05<00:00,  6.76it/s]\n",
      " 33%|███▎      | 1/3 [00:00<00:00,  6.53it/s]"
     ]
    },
    {
     "name": "stdout",
     "output_type": "stream",
     "text": [
      "366 (528, 7)\n"
     ]
    },
    {
     "name": "stderr",
     "output_type": "stream",
     "text": [
      "100%|██████████| 3/3 [00:00<00:00,  8.53it/s]\n",
      "100%|██████████| 1/1 [00:00<00:00,  9.30it/s]\n",
      "  0%|          | 0/4 [00:00<?, ?it/s]"
     ]
    },
    {
     "name": "stdout",
     "output_type": "stream",
     "text": [
      "367 (157, 7)\n",
      "368 (898, 7)\n"
     ]
    },
    {
     "name": "stderr",
     "output_type": "stream",
     "text": [
      "100%|██████████| 4/4 [00:00<00:00,  7.26it/s]\n",
      "  5%|▍         | 1/22 [00:00<00:03,  6.86it/s]"
     ]
    },
    {
     "name": "stdout",
     "output_type": "stream",
     "text": [
      "369 (5411, 7)\n"
     ]
    },
    {
     "name": "stderr",
     "output_type": "stream",
     "text": [
      "100%|██████████| 22/22 [00:03<00:00,  6.82it/s]\n",
      "  4%|▎         | 1/27 [00:00<00:03,  6.72it/s]"
     ]
    },
    {
     "name": "stdout",
     "output_type": "stream",
     "text": [
      "370 (6712, 7)\n"
     ]
    },
    {
     "name": "stderr",
     "output_type": "stream",
     "text": [
      "100%|██████████| 27/27 [00:04<00:00,  6.75it/s]\n",
      "  1%|▏         | 1/69 [00:00<00:09,  6.83it/s]"
     ]
    },
    {
     "name": "stdout",
     "output_type": "stream",
     "text": [
      "371 (17598, 7)\n"
     ]
    },
    {
     "name": "stderr",
     "output_type": "stream",
     "text": [
      "100%|██████████| 69/69 [00:10<00:00,  6.58it/s]\n",
      "  7%|▋         | 1/14 [00:00<00:01,  6.61it/s]"
     ]
    },
    {
     "name": "stdout",
     "output_type": "stream",
     "text": [
      "372 (3448, 7)\n"
     ]
    },
    {
     "name": "stderr",
     "output_type": "stream",
     "text": [
      "100%|██████████| 14/14 [00:02<00:00,  6.71it/s]\n",
      "  9%|▉         | 1/11 [00:00<00:01,  6.49it/s]"
     ]
    },
    {
     "name": "stdout",
     "output_type": "stream",
     "text": [
      "373 (2723, 7)\n"
     ]
    },
    {
     "name": "stderr",
     "output_type": "stream",
     "text": [
      "100%|██████████| 11/11 [00:01<00:00,  6.68it/s]\n",
      " 33%|███▎      | 1/3 [00:00<00:00,  6.60it/s]"
     ]
    },
    {
     "name": "stdout",
     "output_type": "stream",
     "text": [
      "374 (518, 7)\n"
     ]
    },
    {
     "name": "stderr",
     "output_type": "stream",
     "text": [
      "100%|██████████| 3/3 [00:00<00:00,  8.51it/s]\n",
      "100%|██████████| 1/1 [00:00<00:00, 21.73it/s]\n",
      "  0%|          | 0/10 [00:00<?, ?it/s]"
     ]
    },
    {
     "name": "stdout",
     "output_type": "stream",
     "text": [
      "375 (7, 7)\n",
      "376 (2357, 7)\n"
     ]
    },
    {
     "name": "stderr",
     "output_type": "stream",
     "text": [
      "100%|██████████| 10/10 [00:01<00:00,  6.96it/s]\n",
      "  1%|▏         | 1/75 [00:00<00:10,  6.74it/s]"
     ]
    },
    {
     "name": "stdout",
     "output_type": "stream",
     "text": [
      "377 (19128, 7)\n"
     ]
    },
    {
     "name": "stderr",
     "output_type": "stream",
     "text": [
      "100%|██████████| 75/75 [00:11<00:00,  6.65it/s]\n",
      "  3%|▎         | 1/30 [00:00<00:04,  6.77it/s]"
     ]
    },
    {
     "name": "stdout",
     "output_type": "stream",
     "text": [
      "378 (7530, 7)\n"
     ]
    },
    {
     "name": "stderr",
     "output_type": "stream",
     "text": [
      "100%|██████████| 30/30 [00:04<00:00,  6.70it/s]\n",
      " 33%|███▎      | 1/3 [00:00<00:00,  6.78it/s]"
     ]
    },
    {
     "name": "stdout",
     "output_type": "stream",
     "text": [
      "379 (624, 7)\n"
     ]
    },
    {
     "name": "stderr",
     "output_type": "stream",
     "text": [
      "100%|██████████| 3/3 [00:00<00:00,  7.66it/s]\n",
      "  8%|▊         | 1/12 [00:00<00:01,  6.78it/s]"
     ]
    },
    {
     "name": "stdout",
     "output_type": "stream",
     "text": [
      "380 (3039, 7)\n"
     ]
    },
    {
     "name": "stderr",
     "output_type": "stream",
     "text": [
      "100%|██████████| 12/12 [00:01<00:00,  6.70it/s]\n",
      "  2%|▏         | 1/45 [00:00<00:06,  6.84it/s]"
     ]
    },
    {
     "name": "stdout",
     "output_type": "stream",
     "text": [
      "381 (11402, 7)\n"
     ]
    },
    {
     "name": "stderr",
     "output_type": "stream",
     "text": [
      "100%|██████████| 45/45 [00:07<00:00,  6.42it/s]\n",
      " 25%|██▌       | 1/4 [00:00<00:00,  6.51it/s]"
     ]
    },
    {
     "name": "stdout",
     "output_type": "stream",
     "text": [
      "382 (783, 7)\n"
     ]
    },
    {
     "name": "stderr",
     "output_type": "stream",
     "text": [
      "100%|██████████| 4/4 [00:00<00:00,  7.66it/s]\n",
      " 25%|██▌       | 1/4 [00:00<00:00,  6.50it/s]"
     ]
    },
    {
     "name": "stdout",
     "output_type": "stream",
     "text": [
      "383 (989, 7)\n"
     ]
    },
    {
     "name": "stderr",
     "output_type": "stream",
     "text": [
      "100%|██████████| 4/4 [00:00<00:00,  6.61it/s]\n",
      "  5%|▍         | 1/21 [00:00<00:03,  6.44it/s]"
     ]
    },
    {
     "name": "stdout",
     "output_type": "stream",
     "text": [
      "384 (5247, 7)\n"
     ]
    },
    {
     "name": "stderr",
     "output_type": "stream",
     "text": [
      "100%|██████████| 21/21 [00:03<00:00,  6.48it/s]\n",
      " 20%|██        | 1/5 [00:00<00:00,  6.28it/s]"
     ]
    },
    {
     "name": "stdout",
     "output_type": "stream",
     "text": [
      "385 (1214, 7)\n"
     ]
    },
    {
     "name": "stderr",
     "output_type": "stream",
     "text": [
      "100%|██████████| 5/5 [00:00<00:00,  6.61it/s]\n",
      "100%|██████████| 1/1 [00:00<00:00, 22.49it/s]\n",
      "100%|██████████| 1/1 [00:00<00:00,  8.03it/s]\n",
      "  0%|          | 0/6 [00:00<?, ?it/s]"
     ]
    },
    {
     "name": "stdout",
     "output_type": "stream",
     "text": [
      "386 (3, 7)\n",
      "387 (188, 7)\n",
      "388 (1320, 7)\n"
     ]
    },
    {
     "name": "stderr",
     "output_type": "stream",
     "text": [
      "100%|██████████| 6/6 [00:00<00:00,  7.10it/s]\n",
      "100%|██████████| 1/1 [00:00<00:00, 21.19it/s]\n",
      "  0%|          | 0/3 [00:00<?, ?it/s]"
     ]
    },
    {
     "name": "stdout",
     "output_type": "stream",
     "text": [
      "389 (9, 7)\n",
      "390 (632, 7)\n"
     ]
    },
    {
     "name": "stderr",
     "output_type": "stream",
     "text": [
      "100%|██████████| 3/3 [00:00<00:00,  7.28it/s]\n",
      "100%|██████████| 1/1 [00:00<00:00, 14.78it/s]\n",
      "100%|██████████| 1/1 [00:00<00:00, 15.73it/s]\n",
      "  0%|          | 0/23 [00:00<?, ?it/s]"
     ]
    },
    {
     "name": "stdout",
     "output_type": "stream",
     "text": [
      "391 (48, 7)\n",
      "392 (47, 7)\n",
      "393 (5792, 7)\n"
     ]
    },
    {
     "name": "stderr",
     "output_type": "stream",
     "text": [
      "100%|██████████| 23/23 [00:03<00:00,  6.43it/s]\n",
      "100%|██████████| 1/1 [00:00<00:00,  8.27it/s]\n",
      "  0%|          | 0/16 [00:00<?, ?it/s]"
     ]
    },
    {
     "name": "stdout",
     "output_type": "stream",
     "text": [
      "394 (183, 7)\n",
      "395 (3903, 7)\n"
     ]
    },
    {
     "name": "stderr",
     "output_type": "stream",
     "text": [
      "100%|██████████| 16/16 [00:02<00:00,  6.65it/s]\n",
      "100%|██████████| 1/1 [00:00<00:00,  8.30it/s]\n",
      "  0%|          | 0/1 [00:00<?, ?it/s]"
     ]
    },
    {
     "name": "stdout",
     "output_type": "stream",
     "text": [
      "396 (189, 7)\n",
      "397 (154, 7)\n"
     ]
    },
    {
     "name": "stderr",
     "output_type": "stream",
     "text": [
      "100%|██████████| 1/1 [00:00<00:00,  9.11it/s]\n",
      "100%|██████████| 1/1 [00:00<00:00, 14.38it/s]\n",
      "  0%|          | 0/26 [00:00<?, ?it/s]"
     ]
    },
    {
     "name": "stdout",
     "output_type": "stream",
     "text": [
      "398 (61, 7)\n",
      "399 (6401, 7)\n"
     ]
    },
    {
     "name": "stderr",
     "output_type": "stream",
     "text": [
      "100%|██████████| 26/26 [00:03<00:00,  6.77it/s]\n",
      "  1%|          | 1/105 [00:00<00:15,  6.82it/s]"
     ]
    },
    {
     "name": "stdout",
     "output_type": "stream",
     "text": [
      "400 (26717, 7)\n"
     ]
    },
    {
     "name": "stderr",
     "output_type": "stream",
     "text": [
      "100%|██████████| 105/105 [00:15<00:00,  6.68it/s]\n",
      "100%|██████████| 1/1 [00:00<00:00, 21.77it/s]\n",
      "  0%|          | 0/34 [00:00<?, ?it/s]"
     ]
    },
    {
     "name": "stdout",
     "output_type": "stream",
     "text": [
      "401 (9, 7)\n",
      "402 (8650, 7)\n"
     ]
    },
    {
     "name": "stderr",
     "output_type": "stream",
     "text": [
      "100%|██████████| 34/34 [00:05<00:00,  6.66it/s]\n",
      "  8%|▊         | 1/12 [00:00<00:01,  6.74it/s]"
     ]
    },
    {
     "name": "stdout",
     "output_type": "stream",
     "text": [
      "403 (2823, 7)\n"
     ]
    },
    {
     "name": "stderr",
     "output_type": "stream",
     "text": [
      "100%|██████████| 12/12 [00:01<00:00,  7.07it/s]\n",
      "100%|██████████| 1/1 [00:00<00:00,  8.68it/s]\n",
      "  0%|          | 0/5 [00:00<?, ?it/s]"
     ]
    },
    {
     "name": "stdout",
     "output_type": "stream",
     "text": [
      "404 (173, 7)\n",
      "405 (1034, 7)\n"
     ]
    },
    {
     "name": "stderr",
     "output_type": "stream",
     "text": [
      "100%|██████████| 5/5 [00:00<00:00,  7.66it/s]\n",
      "100%|██████████| 1/1 [00:00<00:00, 21.62it/s]\n",
      "100%|██████████| 1/1 [00:00<00:00, 11.98it/s]\n",
      "  0%|          | 0/4 [00:00<?, ?it/s]"
     ]
    },
    {
     "name": "stdout",
     "output_type": "stream",
     "text": [
      "406 (13, 7)\n",
      "407 (95, 7)\n",
      "408 (812, 7)\n"
     ]
    },
    {
     "name": "stderr",
     "output_type": "stream",
     "text": [
      "100%|██████████| 4/4 [00:00<00:00,  7.89it/s]\n",
      "  6%|▌         | 1/17 [00:00<00:02,  6.86it/s]"
     ]
    },
    {
     "name": "stdout",
     "output_type": "stream",
     "text": [
      "409 (4108, 7)\n"
     ]
    },
    {
     "name": "stderr",
     "output_type": "stream",
     "text": [
      "100%|██████████| 17/17 [00:02<00:00,  6.95it/s]\n",
      " 14%|█▍        | 1/7 [00:00<00:00,  6.56it/s]"
     ]
    },
    {
     "name": "stdout",
     "output_type": "stream",
     "text": [
      "410 (1780, 7)\n"
     ]
    },
    {
     "name": "stderr",
     "output_type": "stream",
     "text": [
      "100%|██████████| 7/7 [00:01<00:00,  6.61it/s]\n",
      " 25%|██▌       | 1/4 [00:00<00:00,  6.57it/s]"
     ]
    },
    {
     "name": "stdout",
     "output_type": "stream",
     "text": [
      "411 (981, 7)\n"
     ]
    },
    {
     "name": "stderr",
     "output_type": "stream",
     "text": [
      "100%|██████████| 4/4 [00:00<00:00,  6.75it/s]\n",
      "100%|██████████| 1/1 [00:00<00:00, 15.19it/s]\n",
      "  0%|          | 0/6 [00:00<?, ?it/s]"
     ]
    },
    {
     "name": "stdout",
     "output_type": "stream",
     "text": [
      "412 (52, 7)\n",
      "413 (1384, 7)\n"
     ]
    },
    {
     "name": "stderr",
     "output_type": "stream",
     "text": [
      "100%|██████████| 6/6 [00:00<00:00,  7.04it/s]\n",
      "100%|██████████| 1/1 [00:00<00:00, 12.40it/s]\n",
      "  0%|          | 0/2 [00:00<?, ?it/s]"
     ]
    },
    {
     "name": "stdout",
     "output_type": "stream",
     "text": [
      "414 (82, 7)\n",
      "415 (354, 7)\n"
     ]
    },
    {
     "name": "stderr",
     "output_type": "stream",
     "text": [
      "100%|██████████| 2/2 [00:00<00:00,  8.60it/s]\n",
      "100%|██████████| 1/1 [00:00<00:00, 13.20it/s]\n",
      "  0%|          | 0/4 [00:00<?, ?it/s]"
     ]
    },
    {
     "name": "stdout",
     "output_type": "stream",
     "text": [
      "416 (76, 7)\n",
      "417 (897, 7)\n"
     ]
    },
    {
     "name": "stderr",
     "output_type": "stream",
     "text": [
      "100%|██████████| 4/4 [00:00<00:00,  7.03it/s]\n",
      "  8%|▊         | 1/12 [00:00<00:01,  6.79it/s]"
     ]
    },
    {
     "name": "stdout",
     "output_type": "stream",
     "text": [
      "418 (2846, 7)\n"
     ]
    },
    {
     "name": "stderr",
     "output_type": "stream",
     "text": [
      "100%|██████████| 12/12 [00:01<00:00,  7.04it/s]\n",
      " 33%|███▎      | 1/3 [00:00<00:00,  6.65it/s]"
     ]
    },
    {
     "name": "stdout",
     "output_type": "stream",
     "text": [
      "419 (621, 7)\n"
     ]
    },
    {
     "name": "stderr",
     "output_type": "stream",
     "text": [
      "100%|██████████| 3/3 [00:00<00:00,  7.80it/s]\n",
      "100%|██████████| 1/1 [00:00<00:00, 10.08it/s]\n",
      "  0%|          | 0/1 [00:00<?, ?it/s]"
     ]
    },
    {
     "name": "stdout",
     "output_type": "stream",
     "text": [
      "420 (141, 7)\n",
      "421 (162, 7)\n"
     ]
    },
    {
     "name": "stderr",
     "output_type": "stream",
     "text": [
      "100%|██████████| 1/1 [00:00<00:00,  8.75it/s]\n",
      "  1%|          | 1/107 [00:00<00:15,  6.65it/s]"
     ]
    },
    {
     "name": "stdout",
     "output_type": "stream",
     "text": [
      "422 (27284, 7)\n"
     ]
    },
    {
     "name": "stderr",
     "output_type": "stream",
     "text": [
      "100%|██████████| 107/107 [00:15<00:00,  6.70it/s]\n",
      " 50%|█████     | 1/2 [00:00<00:00,  6.79it/s]"
     ]
    },
    {
     "name": "stdout",
     "output_type": "stream",
     "text": [
      "423 (437, 7)\n"
     ]
    },
    {
     "name": "stderr",
     "output_type": "stream",
     "text": [
      "100%|██████████| 2/2 [00:00<00:00,  7.47it/s]\n",
      "  9%|▉         | 1/11 [00:00<00:01,  6.63it/s]"
     ]
    },
    {
     "name": "stdout",
     "output_type": "stream",
     "text": [
      "424 (2696, 7)\n"
     ]
    },
    {
     "name": "stderr",
     "output_type": "stream",
     "text": [
      "100%|██████████| 11/11 [00:01<00:00,  6.80it/s]\n",
      " 12%|█▎        | 1/8 [00:00<00:01,  6.63it/s]"
     ]
    },
    {
     "name": "stdout",
     "output_type": "stream",
     "text": [
      "425 (1968, 7)\n"
     ]
    },
    {
     "name": "stderr",
     "output_type": "stream",
     "text": [
      "100%|██████████| 8/8 [00:01<00:00,  6.84it/s]\n",
      "100%|██████████| 1/1 [00:00<00:00, 23.33it/s]\n",
      "  0%|          | 0/12 [00:00<?, ?it/s]"
     ]
    },
    {
     "name": "stdout",
     "output_type": "stream",
     "text": [
      "426 (4, 7)\n",
      "427 (2988, 7)\n"
     ]
    },
    {
     "name": "stderr",
     "output_type": "stream",
     "text": [
      "100%|██████████| 12/12 [00:01<00:00,  6.82it/s]\n",
      "100%|██████████| 1/1 [00:00<00:00, 13.12it/s]\n",
      "  0%|          | 0/7 [00:00<?, ?it/s]"
     ]
    },
    {
     "name": "stdout",
     "output_type": "stream",
     "text": [
      "428 (88, 7)\n",
      "429 (1651, 7)\n"
     ]
    },
    {
     "name": "stderr",
     "output_type": "stream",
     "text": [
      "100%|██████████| 7/7 [00:00<00:00,  7.02it/s]\n",
      "100%|██████████| 1/1 [00:00<00:00, 14.81it/s]\n",
      "  0%|          | 0/50 [00:00<?, ?it/s]"
     ]
    },
    {
     "name": "stdout",
     "output_type": "stream",
     "text": [
      "430 (54, 7)\n",
      "431 (12701, 7)\n"
     ]
    },
    {
     "name": "stderr",
     "output_type": "stream",
     "text": [
      "100%|██████████| 50/50 [00:07<00:00,  6.68it/s]\n",
      "  5%|▌         | 1/19 [00:00<00:02,  6.79it/s]"
     ]
    },
    {
     "name": "stdout",
     "output_type": "stream",
     "text": [
      "432 (4683, 7)\n"
     ]
    },
    {
     "name": "stderr",
     "output_type": "stream",
     "text": [
      "100%|██████████| 19/19 [00:02<00:00,  6.83it/s]\n",
      "  4%|▎         | 1/28 [00:00<00:04,  6.67it/s]"
     ]
    },
    {
     "name": "stdout",
     "output_type": "stream",
     "text": [
      "433 (6939, 7)\n"
     ]
    },
    {
     "name": "stderr",
     "output_type": "stream",
     "text": [
      "100%|██████████| 28/28 [00:04<00:00,  6.83it/s]\n",
      "  1%|▏         | 1/68 [00:00<00:10,  6.68it/s]"
     ]
    },
    {
     "name": "stdout",
     "output_type": "stream",
     "text": [
      "434 (17154, 7)\n"
     ]
    },
    {
     "name": "stderr",
     "output_type": "stream",
     "text": [
      "100%|██████████| 68/68 [00:10<00:00,  6.38it/s]\n",
      "  3%|▎         | 1/38 [00:00<00:05,  6.79it/s]"
     ]
    },
    {
     "name": "stdout",
     "output_type": "stream",
     "text": [
      "435 (9721, 7)\n"
     ]
    },
    {
     "name": "stderr",
     "output_type": "stream",
     "text": [
      "100%|██████████| 38/38 [00:05<00:00,  6.80it/s]\n",
      " 33%|███▎      | 1/3 [00:00<00:00,  5.77it/s]"
     ]
    },
    {
     "name": "stdout",
     "output_type": "stream",
     "text": [
      "436 (561, 7)\n"
     ]
    },
    {
     "name": "stderr",
     "output_type": "stream",
     "text": [
      "100%|██████████| 3/3 [00:00<00:00,  7.89it/s]\n",
      "  9%|▉         | 1/11 [00:00<00:01,  6.96it/s]"
     ]
    },
    {
     "name": "stdout",
     "output_type": "stream",
     "text": [
      "437 (2723, 7)\n"
     ]
    },
    {
     "name": "stderr",
     "output_type": "stream",
     "text": [
      "100%|██████████| 11/11 [00:01<00:00,  7.03it/s]\n",
      "100%|██████████| 1/1 [00:00<00:00, 11.14it/s]\n",
      "  0%|          | 0/3 [00:00<?, ?it/s]"
     ]
    },
    {
     "name": "stdout",
     "output_type": "stream",
     "text": [
      "438 (118, 7)\n",
      "439 (740, 7)\n"
     ]
    },
    {
     "name": "stderr",
     "output_type": "stream",
     "text": [
      "100%|██████████| 3/3 [00:00<00:00,  6.97it/s]\n",
      "100%|██████████| 1/1 [00:00<00:00, 21.75it/s]\n",
      "100%|██████████| 1/1 [00:00<00:00, 16.18it/s]\n",
      "100%|██████████| 1/1 [00:00<00:00, 22.13it/s]\n",
      "  0%|          | 0/1 [00:00<?, ?it/s]"
     ]
    },
    {
     "name": "stdout",
     "output_type": "stream",
     "text": [
      "440 (9, 7)\n",
      "441 (53, 7)\n",
      "442 (8, 7)\n",
      "443 (79, 7)\n"
     ]
    },
    {
     "name": "stderr",
     "output_type": "stream",
     "text": [
      "100%|██████████| 1/1 [00:00<00:00, 13.22it/s]\n",
      " 12%|█▎        | 1/8 [00:00<00:01,  6.16it/s]"
     ]
    },
    {
     "name": "stdout",
     "output_type": "stream",
     "text": [
      "444 (1953, 7)\n"
     ]
    },
    {
     "name": "stderr",
     "output_type": "stream",
     "text": [
      "100%|██████████| 8/8 [00:01<00:00,  6.29it/s]\n",
      " 50%|█████     | 1/2 [00:00<00:00,  5.83it/s]"
     ]
    },
    {
     "name": "stdout",
     "output_type": "stream",
     "text": [
      "445 (381, 7)\n"
     ]
    },
    {
     "name": "stderr",
     "output_type": "stream",
     "text": [
      "100%|██████████| 2/2 [00:00<00:00,  7.12it/s]\n",
      "  7%|▋         | 1/14 [00:00<00:02,  5.85it/s]"
     ]
    },
    {
     "name": "stdout",
     "output_type": "stream",
     "text": [
      "446 (3539, 7)\n"
     ]
    },
    {
     "name": "stderr",
     "output_type": "stream",
     "text": [
      "100%|██████████| 14/14 [00:02<00:00,  6.26it/s]\n",
      " 14%|█▍        | 1/7 [00:00<00:00,  6.49it/s]"
     ]
    },
    {
     "name": "stdout",
     "output_type": "stream",
     "text": [
      "447 (1551, 7)\n"
     ]
    },
    {
     "name": "stderr",
     "output_type": "stream",
     "text": [
      "100%|██████████| 7/7 [00:00<00:00,  7.07it/s]\n",
      "100%|██████████| 1/1 [00:00<00:00, 19.21it/s]\n",
      "  0%|          | 0/48 [00:00<?, ?it/s]"
     ]
    },
    {
     "name": "stdout",
     "output_type": "stream",
     "text": [
      "448 (7, 7)\n",
      "449 (12175, 7)\n"
     ]
    },
    {
     "name": "stderr",
     "output_type": "stream",
     "text": [
      "100%|██████████| 48/48 [00:07<00:00,  6.73it/s]\n",
      "100%|██████████| 1/1 [00:00<00:00,  7.31it/s]\n",
      "  0%|          | 0/11 [00:00<?, ?it/s]"
     ]
    },
    {
     "name": "stdout",
     "output_type": "stream",
     "text": [
      "450 (230, 7)\n",
      "451 (2563, 7)\n"
     ]
    },
    {
     "name": "stderr",
     "output_type": "stream",
     "text": [
      "100%|██████████| 11/11 [00:01<00:00,  7.28it/s]\n",
      " 11%|█         | 1/9 [00:00<00:01,  6.81it/s]"
     ]
    },
    {
     "name": "stdout",
     "output_type": "stream",
     "text": [
      "452 (2202, 7)\n"
     ]
    },
    {
     "name": "stderr",
     "output_type": "stream",
     "text": [
      "100%|██████████| 9/9 [00:01<00:00,  6.98it/s]\n",
      "  5%|▌         | 1/19 [00:00<00:02,  6.77it/s]"
     ]
    },
    {
     "name": "stdout",
     "output_type": "stream",
     "text": [
      "453 (4763, 7)\n"
     ]
    },
    {
     "name": "stderr",
     "output_type": "stream",
     "text": [
      "100%|██████████| 19/19 [00:02<00:00,  7.00it/s]\n",
      "100%|██████████| 1/1 [00:00<00:00, 22.05it/s]\n",
      " 33%|███▎      | 1/3 [00:00<00:00,  7.14it/s]"
     ]
    },
    {
     "name": "stdout",
     "output_type": "stream",
     "text": [
      "454 (1, 7)\n",
      "455 (676, 7)\n"
     ]
    },
    {
     "name": "stderr",
     "output_type": "stream",
     "text": [
      "100%|██████████| 3/3 [00:00<00:00,  7.71it/s]\n",
      " 14%|█▍        | 1/7 [00:00<00:00,  7.18it/s]"
     ]
    },
    {
     "name": "stdout",
     "output_type": "stream",
     "text": [
      "456 (1777, 7)\n"
     ]
    },
    {
     "name": "stderr",
     "output_type": "stream",
     "text": [
      "100%|██████████| 7/7 [00:00<00:00,  7.12it/s]\n",
      "100%|██████████| 1/1 [00:00<00:00, 12.54it/s]\n",
      "100%|██████████| 1/1 [00:00<00:00, 18.50it/s]\n",
      "  0%|          | 0/1 [00:00<?, ?it/s]"
     ]
    },
    {
     "name": "stdout",
     "output_type": "stream",
     "text": [
      "457 (101, 7)\n",
      "458 (33, 7)\n",
      "459 (15, 7)\n"
     ]
    },
    {
     "name": "stderr",
     "output_type": "stream",
     "text": [
      "100%|██████████| 1/1 [00:00<00:00, 20.10it/s]\n",
      "  4%|▎         | 1/27 [00:00<00:03,  6.94it/s]"
     ]
    },
    {
     "name": "stdout",
     "output_type": "stream",
     "text": [
      "460 (6879, 7)\n"
     ]
    },
    {
     "name": "stderr",
     "output_type": "stream",
     "text": [
      "100%|██████████| 27/27 [00:04<00:00,  6.69it/s]\n",
      "100%|██████████| 1/1 [00:00<00:00, 13.56it/s]\n",
      "  0%|          | 0/57 [00:00<?, ?it/s]"
     ]
    },
    {
     "name": "stdout",
     "output_type": "stream",
     "text": [
      "461 (73, 7)\n",
      "462 (14385, 7)\n"
     ]
    },
    {
     "name": "stderr",
     "output_type": "stream",
     "text": [
      "100%|██████████| 57/57 [00:08<00:00,  6.96it/s]\n",
      " 50%|█████     | 1/2 [00:00<00:00,  6.90it/s]"
     ]
    },
    {
     "name": "stdout",
     "output_type": "stream",
     "text": [
      "463 (381, 7)\n"
     ]
    },
    {
     "name": "stderr",
     "output_type": "stream",
     "text": [
      "100%|██████████| 2/2 [00:00<00:00,  8.37it/s]\n",
      " 50%|█████     | 1/2 [00:00<00:00,  6.82it/s]"
     ]
    },
    {
     "name": "stdout",
     "output_type": "stream",
     "text": [
      "464 (505, 7)\n"
     ]
    },
    {
     "name": "stderr",
     "output_type": "stream",
     "text": [
      "100%|██████████| 2/2 [00:00<00:00,  6.79it/s]\n",
      "  6%|▌         | 1/18 [00:00<00:02,  6.77it/s]"
     ]
    },
    {
     "name": "stdout",
     "output_type": "stream",
     "text": [
      "465 (4538, 7)\n"
     ]
    },
    {
     "name": "stderr",
     "output_type": "stream",
     "text": [
      "100%|██████████| 18/18 [00:02<00:00,  6.76it/s]\n",
      " 12%|█▎        | 1/8 [00:00<00:01,  6.38it/s]"
     ]
    },
    {
     "name": "stdout",
     "output_type": "stream",
     "text": [
      "466 (1819, 7)\n"
     ]
    },
    {
     "name": "stderr",
     "output_type": "stream",
     "text": [
      "100%|██████████| 8/8 [00:01<00:00,  7.47it/s]\n",
      " 10%|█         | 1/10 [00:00<00:01,  7.09it/s]"
     ]
    },
    {
     "name": "stdout",
     "output_type": "stream",
     "text": [
      "467 (2316, 7)\n"
     ]
    },
    {
     "name": "stderr",
     "output_type": "stream",
     "text": [
      "100%|██████████| 10/10 [00:01<00:00,  7.55it/s]\n",
      "100%|██████████| 1/1 [00:00<00:00, 19.65it/s]\n",
      "100%|██████████| 1/1 [00:00<00:00, 23.00it/s]\n",
      "  0%|          | 0/12 [00:00<?, ?it/s]"
     ]
    },
    {
     "name": "stdout",
     "output_type": "stream",
     "text": [
      "468 (27, 7)\n",
      "469 (5, 7)\n",
      "470 (2828, 7)\n"
     ]
    },
    {
     "name": "stderr",
     "output_type": "stream",
     "text": [
      "100%|██████████| 12/12 [00:01<00:00,  7.44it/s]\n",
      "  9%|▉         | 1/11 [00:00<00:01,  6.97it/s]"
     ]
    },
    {
     "name": "stdout",
     "output_type": "stream",
     "text": [
      "471 (2763, 7)\n"
     ]
    },
    {
     "name": "stderr",
     "output_type": "stream",
     "text": [
      "100%|██████████| 11/11 [00:01<00:00,  7.20it/s]\n",
      "100%|██████████| 1/1 [00:00<00:00, 12.74it/s]\n",
      "  0%|          | 0/10 [00:00<?, ?it/s]"
     ]
    },
    {
     "name": "stdout",
     "output_type": "stream",
     "text": [
      "472 (91, 7)\n",
      "473 (2396, 7)\n"
     ]
    },
    {
     "name": "stderr",
     "output_type": "stream",
     "text": [
      "100%|██████████| 10/10 [00:01<00:00,  7.21it/s]\n",
      "100%|██████████| 1/1 [00:00<00:00, 11.82it/s]\n",
      "  0%|          | 0/11 [00:00<?, ?it/s]"
     ]
    },
    {
     "name": "stdout",
     "output_type": "stream",
     "text": [
      "474 (106, 7)\n",
      "475 (2781, 7)\n"
     ]
    },
    {
     "name": "stderr",
     "output_type": "stream",
     "text": [
      "100%|██████████| 11/11 [00:01<00:00,  7.08it/s]\n",
      " 50%|█████     | 1/2 [00:00<00:00,  7.07it/s]"
     ]
    },
    {
     "name": "stdout",
     "output_type": "stream",
     "text": [
      "476 (503, 7)\n"
     ]
    },
    {
     "name": "stderr",
     "output_type": "stream",
     "text": [
      "100%|██████████| 2/2 [00:00<00:00,  7.10it/s]\n",
      "100%|██████████| 1/1 [00:00<00:00, 12.14it/s]\n",
      "  0%|          | 0/1 [00:00<?, ?it/s]"
     ]
    },
    {
     "name": "stdout",
     "output_type": "stream",
     "text": [
      "477 (102, 7)\n",
      "478 (184, 7)\n"
     ]
    },
    {
     "name": "stderr",
     "output_type": "stream",
     "text": [
      "100%|██████████| 1/1 [00:00<00:00,  8.64it/s]\n",
      "  8%|▊         | 1/12 [00:00<00:01,  7.02it/s]"
     ]
    },
    {
     "name": "stdout",
     "output_type": "stream",
     "text": [
      "479 (2952, 7)\n"
     ]
    },
    {
     "name": "stderr",
     "output_type": "stream",
     "text": [
      "100%|██████████| 12/12 [00:01<00:00,  7.22it/s]\n",
      "100%|██████████| 1/1 [00:00<00:00, 23.36it/s]\n",
      "100%|██████████| 1/1 [00:00<00:00, 14.01it/s]\n",
      "  0%|          | 0/8 [00:00<?, ?it/s]"
     ]
    },
    {
     "name": "stdout",
     "output_type": "stream",
     "text": [
      "480 (3, 7)\n",
      "481 (80, 7)\n",
      "482 (1950, 7)\n"
     ]
    },
    {
     "name": "stderr",
     "output_type": "stream",
     "text": [
      "100%|██████████| 8/8 [00:01<00:00,  7.27it/s]\n",
      "  3%|▎         | 1/37 [00:00<00:05,  7.11it/s]"
     ]
    },
    {
     "name": "stdout",
     "output_type": "stream",
     "text": [
      "483 (9342, 7)\n"
     ]
    },
    {
     "name": "stderr",
     "output_type": "stream",
     "text": [
      "100%|██████████| 37/37 [00:05<00:00,  7.10it/s]\n",
      "100%|██████████| 1/1 [00:00<00:00,  7.48it/s]\n",
      "  0%|          | 0/12 [00:00<?, ?it/s]"
     ]
    },
    {
     "name": "stdout",
     "output_type": "stream",
     "text": [
      "484 (234, 7)\n",
      "485 (2964, 7)\n"
     ]
    },
    {
     "name": "stderr",
     "output_type": "stream",
     "text": [
      "100%|██████████| 12/12 [00:01<00:00,  7.15it/s]\n",
      " 14%|█▍        | 1/7 [00:00<00:00,  6.93it/s]"
     ]
    },
    {
     "name": "stdout",
     "output_type": "stream",
     "text": [
      "486 (1568, 7)\n"
     ]
    },
    {
     "name": "stderr",
     "output_type": "stream",
     "text": [
      "100%|██████████| 7/7 [00:00<00:00,  7.57it/s]\n",
      "100%|██████████| 1/1 [00:00<00:00, 14.51it/s]\n",
      "  0%|          | 0/20 [00:00<?, ?it/s]"
     ]
    },
    {
     "name": "stdout",
     "output_type": "stream",
     "text": [
      "487 (63, 7)\n",
      "488 (4977, 7)\n"
     ]
    },
    {
     "name": "stderr",
     "output_type": "stream",
     "text": [
      "100%|██████████| 20/20 [00:02<00:00,  7.24it/s]\n",
      "  4%|▍         | 1/23 [00:00<00:03,  7.14it/s]"
     ]
    },
    {
     "name": "stdout",
     "output_type": "stream",
     "text": [
      "489 (5878, 7)\n"
     ]
    },
    {
     "name": "stderr",
     "output_type": "stream",
     "text": [
      "100%|██████████| 23/23 [00:03<00:00,  6.92it/s]\n",
      "100%|██████████| 2/2 [00:00<00:00, 10.20it/s]"
     ]
    },
    {
     "name": "stdout",
     "output_type": "stream",
     "text": [
      "490 (273, 7)\n"
     ]
    },
    {
     "name": "stderr",
     "output_type": "stream",
     "text": [
      "\n",
      "100%|██████████| 1/1 [00:00<00:00, 19.68it/s]\n",
      "100%|██████████| 1/1 [00:00<00:00, 15.17it/s]\n",
      "  0%|          | 0/3 [00:00<?, ?it/s]"
     ]
    },
    {
     "name": "stdout",
     "output_type": "stream",
     "text": [
      "491 (21, 7)\n",
      "492 (63, 7)\n",
      "493 (704, 7)\n"
     ]
    },
    {
     "name": "stderr",
     "output_type": "stream",
     "text": [
      "100%|██████████| 3/3 [00:00<00:00,  7.14it/s]\n",
      " 50%|█████     | 1/2 [00:00<00:00,  6.92it/s]"
     ]
    },
    {
     "name": "stdout",
     "output_type": "stream",
     "text": [
      "494 (482, 7)\n"
     ]
    },
    {
     "name": "stderr",
     "output_type": "stream",
     "text": [
      "100%|██████████| 2/2 [00:00<00:00,  7.21it/s]\n",
      " 33%|███▎      | 1/3 [00:00<00:00,  6.98it/s]"
     ]
    },
    {
     "name": "stdout",
     "output_type": "stream",
     "text": [
      "495 (668, 7)\n"
     ]
    },
    {
     "name": "stderr",
     "output_type": "stream",
     "text": [
      "100%|██████████| 3/3 [00:00<00:00,  7.72it/s]\n",
      "100%|██████████| 1/1 [00:00<00:00, 17.28it/s]\n",
      "  0%|          | 0/6 [00:00<?, ?it/s]"
     ]
    },
    {
     "name": "stdout",
     "output_type": "stream",
     "text": [
      "496 (44, 7)\n",
      "497 (1300, 7)\n"
     ]
    },
    {
     "name": "stderr",
     "output_type": "stream",
     "text": [
      "100%|██████████| 6/6 [00:00<00:00,  7.98it/s]\n",
      "100%|██████████| 1/1 [00:00<00:00, 17.61it/s]\n",
      "  0%|          | 0/11 [00:00<?, ?it/s]"
     ]
    },
    {
     "name": "stdout",
     "output_type": "stream",
     "text": [
      "498 (41, 7)\n",
      "499 (2631, 7)\n"
     ]
    },
    {
     "name": "stderr",
     "output_type": "stream",
     "text": [
      "100%|██████████| 11/11 [00:01<00:00,  7.50it/s]\n",
      " 20%|██        | 1/5 [00:00<00:00,  7.09it/s]"
     ]
    },
    {
     "name": "stdout",
     "output_type": "stream",
     "text": [
      "500 (1151, 7)\n"
     ]
    },
    {
     "name": "stderr",
     "output_type": "stream",
     "text": [
      "100%|██████████| 5/5 [00:00<00:00,  7.65it/s]\n",
      " 11%|█         | 1/9 [00:00<00:01,  7.08it/s]"
     ]
    },
    {
     "name": "stdout",
     "output_type": "stream",
     "text": [
      "501 (2252, 7)\n"
     ]
    },
    {
     "name": "stderr",
     "output_type": "stream",
     "text": [
      "100%|██████████| 9/9 [00:01<00:00,  7.18it/s]\n",
      "  9%|▉         | 1/11 [00:00<00:01,  7.18it/s]"
     ]
    },
    {
     "name": "stdout",
     "output_type": "stream",
     "text": [
      "502 (2675, 7)\n"
     ]
    },
    {
     "name": "stderr",
     "output_type": "stream",
     "text": [
      "100%|██████████| 11/11 [00:01<00:00,  7.40it/s]\n",
      " 50%|█████     | 1/2 [00:00<00:00,  7.14it/s]"
     ]
    },
    {
     "name": "stdout",
     "output_type": "stream",
     "text": [
      "503 (472, 7)\n"
     ]
    },
    {
     "name": "stderr",
     "output_type": "stream",
     "text": [
      "100%|██████████| 2/2 [00:00<00:00,  7.48it/s]\n",
      "100%|██████████| 1/1 [00:00<00:00, 24.74it/s]\n",
      "100%|██████████| 1/1 [00:00<00:00, 14.64it/s]\n",
      "100%|██████████| 1/1 [00:00<00:00, 19.94it/s]\n"
     ]
    },
    {
     "name": "stdout",
     "output_type": "stream",
     "text": [
      "504 (1, 7)\n",
      "505 (69, 7)\n",
      "506 (22, 7)\n"
     ]
    },
    {
     "name": "stderr",
     "output_type": "stream",
     "text": [
      "  3%|▎         | 1/36 [00:00<00:04,  7.11it/s]"
     ]
    },
    {
     "name": "stdout",
     "output_type": "stream",
     "text": [
      "507 (9210, 7)\n"
     ]
    },
    {
     "name": "stderr",
     "output_type": "stream",
     "text": [
      "100%|██████████| 36/36 [00:05<00:00,  7.09it/s]\n",
      " 11%|█         | 1/9 [00:00<00:01,  7.00it/s]"
     ]
    },
    {
     "name": "stdout",
     "output_type": "stream",
     "text": [
      "508 (2073, 7)\n"
     ]
    },
    {
     "name": "stderr",
     "output_type": "stream",
     "text": [
      "100%|██████████| 9/9 [00:01<00:00,  7.53it/s]\n",
      " 17%|█▋        | 1/6 [00:00<00:00,  7.08it/s]"
     ]
    },
    {
     "name": "stdout",
     "output_type": "stream",
     "text": [
      "509 (1447, 7)\n"
     ]
    },
    {
     "name": "stderr",
     "output_type": "stream",
     "text": [
      "100%|██████████| 6/6 [00:00<00:00,  7.29it/s]\n",
      "100%|██████████| 1/1 [00:00<00:00, 21.96it/s]\n",
      "  0%|          | 0/29 [00:00<?, ?it/s]"
     ]
    },
    {
     "name": "stdout",
     "output_type": "stream",
     "text": [
      "510 (7, 7)\n",
      "511 (7304, 7)\n"
     ]
    },
    {
     "name": "stderr",
     "output_type": "stream",
     "text": [
      "100%|██████████| 29/29 [00:04<00:00,  6.87it/s]\n",
      "100%|██████████| 1/1 [00:00<00:00, 13.59it/s]\n",
      "100%|██████████| 1/1 [00:00<00:00,  9.15it/s]"
     ]
    },
    {
     "name": "stdout",
     "output_type": "stream",
     "text": [
      "512 (82, 7)\n",
      "513 (168, 7)\n"
     ]
    },
    {
     "name": "stderr",
     "output_type": "stream",
     "text": [
      "\n",
      "  5%|▍         | 1/22 [00:00<00:02,  7.06it/s]"
     ]
    },
    {
     "name": "stdout",
     "output_type": "stream",
     "text": [
      "514 (5386, 7)\n"
     ]
    },
    {
     "name": "stderr",
     "output_type": "stream",
     "text": [
      "100%|██████████| 22/22 [00:03<00:00,  7.22it/s]\n",
      " 33%|███▎      | 1/3 [00:00<00:00,  7.05it/s]"
     ]
    },
    {
     "name": "stdout",
     "output_type": "stream",
     "text": [
      "515 (697, 7)\n"
     ]
    },
    {
     "name": "stderr",
     "output_type": "stream",
     "text": [
      "100%|██████████| 3/3 [00:00<00:00,  7.44it/s]\n",
      "  7%|▋         | 1/15 [00:00<00:02,  6.83it/s]"
     ]
    },
    {
     "name": "stdout",
     "output_type": "stream",
     "text": [
      "516 (3835, 7)\n"
     ]
    },
    {
     "name": "stderr",
     "output_type": "stream",
     "text": [
      "100%|██████████| 15/15 [00:02<00:00,  7.11it/s]\n",
      "  0%|          | 1/268 [00:00<00:37,  7.13it/s]"
     ]
    },
    {
     "name": "stdout",
     "output_type": "stream",
     "text": [
      "517 (68441, 7)\n"
     ]
    },
    {
     "name": "stderr",
     "output_type": "stream",
     "text": [
      "100%|██████████| 268/268 [00:39<00:00,  6.83it/s]\n",
      "  1%|          | 1/102 [00:00<00:13,  7.24it/s]"
     ]
    },
    {
     "name": "stdout",
     "output_type": "stream",
     "text": [
      "518 (26000, 7)\n"
     ]
    },
    {
     "name": "stderr",
     "output_type": "stream",
     "text": [
      "100%|██████████| 102/102 [00:14<00:00,  6.87it/s]\n",
      "  4%|▎         | 1/28 [00:00<00:03,  7.00it/s]"
     ]
    },
    {
     "name": "stdout",
     "output_type": "stream",
     "text": [
      "519 (7028, 7)\n"
     ]
    },
    {
     "name": "stderr",
     "output_type": "stream",
     "text": [
      "100%|██████████| 28/28 [00:04<00:00,  6.87it/s]\n",
      "100%|██████████| 1/1 [00:00<00:00,  8.17it/s]\n",
      "  0%|          | 0/1 [00:00<?, ?it/s]"
     ]
    },
    {
     "name": "stdout",
     "output_type": "stream",
     "text": [
      "520 (115, 7)\n",
      "521 (83, 7)\n"
     ]
    },
    {
     "name": "stderr",
     "output_type": "stream",
     "text": [
      "100%|██████████| 1/1 [00:00<00:00, 10.19it/s]\n",
      "100%|██████████| 1/1 [00:00<00:00, 13.66it/s]\n",
      "  0%|          | 0/16 [00:00<?, ?it/s]"
     ]
    },
    {
     "name": "stdout",
     "output_type": "stream",
     "text": [
      "522 (41, 7)\n",
      "523 (3944, 7)\n"
     ]
    },
    {
     "name": "stderr",
     "output_type": "stream",
     "text": [
      "100%|██████████| 16/16 [00:02<00:00,  5.73it/s]\n",
      "100%|██████████| 1/1 [00:00<00:00,  8.30it/s]\n",
      "  0%|          | 0/1 [00:00<?, ?it/s]"
     ]
    },
    {
     "name": "stdout",
     "output_type": "stream",
     "text": [
      "524 (136, 7)\n",
      "525 (44, 7)\n"
     ]
    },
    {
     "name": "stderr",
     "output_type": "stream",
     "text": [
      "100%|██████████| 1/1 [00:00<00:00, 13.37it/s]\n",
      " 50%|█████     | 1/2 [00:00<00:00,  5.68it/s]"
     ]
    },
    {
     "name": "stdout",
     "output_type": "stream",
     "text": [
      "526 (310, 7)\n"
     ]
    },
    {
     "name": "stderr",
     "output_type": "stream",
     "text": [
      "100%|██████████| 2/2 [00:00<00:00,  7.77it/s]\n",
      "100%|██████████| 1/1 [00:00<00:00, 13.03it/s]\n",
      "  0%|          | 0/5 [00:00<?, ?it/s]"
     ]
    },
    {
     "name": "stdout",
     "output_type": "stream",
     "text": [
      "527 (45, 7)\n",
      "528 (1107, 7)\n"
     ]
    },
    {
     "name": "stderr",
     "output_type": "stream",
     "text": [
      "100%|██████████| 5/5 [00:00<00:00,  6.01it/s]\n",
      "  5%|▍         | 1/21 [00:00<00:03,  5.68it/s]"
     ]
    },
    {
     "name": "stdout",
     "output_type": "stream",
     "text": [
      "529 (5339, 7)\n"
     ]
    },
    {
     "name": "stderr",
     "output_type": "stream",
     "text": [
      "100%|██████████| 21/21 [00:03<00:00,  5.89it/s]\n",
      "100%|██████████| 1/1 [00:00<00:00, 14.71it/s]\n",
      "  0%|          | 0/5 [00:00<?, ?it/s]"
     ]
    },
    {
     "name": "stdout",
     "output_type": "stream",
     "text": [
      "530 (16, 7)\n",
      "531 (1122, 7)\n"
     ]
    },
    {
     "name": "stderr",
     "output_type": "stream",
     "text": [
      "100%|██████████| 5/5 [00:00<00:00,  5.39it/s]\n",
      "100%|██████████| 1/1 [00:00<00:00,  9.07it/s]\n",
      "  0%|          | 0/1 [00:00<?, ?it/s]"
     ]
    },
    {
     "name": "stdout",
     "output_type": "stream",
     "text": [
      "532 (86, 7)\n",
      "533 (96, 7)\n"
     ]
    },
    {
     "name": "stderr",
     "output_type": "stream",
     "text": [
      "100%|██████████| 1/1 [00:00<00:00,  9.36it/s]\n",
      "100%|██████████| 1/1 [00:00<00:00, 12.86it/s]\n",
      "  0%|          | 0/2 [00:00<?, ?it/s]"
     ]
    },
    {
     "name": "stdout",
     "output_type": "stream",
     "text": [
      "534 (48, 7)\n",
      "535 (270, 7)\n"
     ]
    },
    {
     "name": "stderr",
     "output_type": "stream",
     "text": [
      "100%|██████████| 2/2 [00:00<00:00,  8.56it/s]\n",
      " 14%|█▍        | 1/7 [00:00<00:00,  6.04it/s]"
     ]
    },
    {
     "name": "stdout",
     "output_type": "stream",
     "text": [
      "536 (1620, 7)\n"
     ]
    },
    {
     "name": "stderr",
     "output_type": "stream",
     "text": [
      "100%|██████████| 7/7 [00:01<00:00,  6.30it/s]\n",
      "100%|██████████| 1/1 [00:00<00:00, 16.62it/s]\n",
      "  0%|          | 0/25 [00:00<?, ?it/s]"
     ]
    },
    {
     "name": "stdout",
     "output_type": "stream",
     "text": [
      "537 (15, 7)\n",
      "538 (6234, 7)\n"
     ]
    },
    {
     "name": "stderr",
     "output_type": "stream",
     "text": [
      "100%|██████████| 25/25 [00:04<00:00,  5.75it/s]\n",
      "  1%|          | 1/108 [00:00<00:17,  6.14it/s]"
     ]
    },
    {
     "name": "stdout",
     "output_type": "stream",
     "text": [
      "539 (27488, 7)\n"
     ]
    },
    {
     "name": "stderr",
     "output_type": "stream",
     "text": [
      "100%|██████████| 108/108 [00:18<00:00,  5.79it/s]\n",
      "100%|██████████| 1/1 [00:00<00:00, 18.32it/s]\n",
      "100%|██████████| 1/1 [00:00<00:00, 10.11it/s]\n",
      "  0%|          | 0/1 [00:00<?, ?it/s]"
     ]
    },
    {
     "name": "stdout",
     "output_type": "stream",
     "text": [
      "540 (9, 7)\n",
      "541 (107, 7)\n",
      "542 (40, 7)\n"
     ]
    },
    {
     "name": "stderr",
     "output_type": "stream",
     "text": [
      "100%|██████████| 1/1 [00:00<00:00, 13.78it/s]\n",
      "100%|██████████| 1/1 [00:00<00:00,  8.98it/s]\n",
      "100%|██████████| 1/1 [00:00<00:00, 17.83it/s]\n"
     ]
    },
    {
     "name": "stdout",
     "output_type": "stream",
     "text": [
      "543 (133, 7)\n",
      "544 (14, 7)\n",
      "545 (196, 7)\n"
     ]
    },
    {
     "name": "stderr",
     "output_type": "stream",
     "text": [
      "100%|██████████| 1/1 [00:00<00:00,  6.83it/s]\n",
      "100%|██████████| 1/1 [00:00<00:00,  8.09it/s]\n",
      "  0%|          | 0/1 [00:00<?, ?it/s]"
     ]
    },
    {
     "name": "stdout",
     "output_type": "stream",
     "text": [
      "546 (144, 7)\n",
      "547 (47, 7)\n"
     ]
    },
    {
     "name": "stderr",
     "output_type": "stream",
     "text": [
      "100%|██████████| 1/1 [00:00<00:00, 13.16it/s]\n",
      " 33%|███▎      | 1/3 [00:00<00:00,  5.91it/s]"
     ]
    },
    {
     "name": "stdout",
     "output_type": "stream",
     "text": [
      "548 (733, 7)\n"
     ]
    },
    {
     "name": "stderr",
     "output_type": "stream",
     "text": [
      "100%|██████████| 3/3 [00:00<00:00,  5.96it/s]\n",
      "100%|██████████| 1/1 [00:00<00:00,  7.81it/s]\n",
      "  0%|          | 0/6 [00:00<?, ?it/s]"
     ]
    },
    {
     "name": "stdout",
     "output_type": "stream",
     "text": [
      "549 (147, 7)\n",
      "550 (1528, 7)\n"
     ]
    },
    {
     "name": "stderr",
     "output_type": "stream",
     "text": [
      "100%|██████████| 6/6 [00:00<00:00,  6.02it/s]\n",
      " 50%|█████     | 1/2 [00:00<00:00,  6.02it/s]"
     ]
    },
    {
     "name": "stdout",
     "output_type": "stream",
     "text": [
      "551 (452, 7)\n"
     ]
    },
    {
     "name": "stderr",
     "output_type": "stream",
     "text": [
      "100%|██████████| 2/2 [00:00<00:00,  6.42it/s]\n",
      "100%|██████████| 1/1 [00:00<00:00, 14.11it/s]\n",
      "  0%|          | 0/5 [00:00<?, ?it/s]"
     ]
    },
    {
     "name": "stdout",
     "output_type": "stream",
     "text": [
      "552 (36, 7)\n",
      "553 (1248, 7)\n"
     ]
    },
    {
     "name": "stderr",
     "output_type": "stream",
     "text": [
      "100%|██████████| 5/5 [00:00<00:00,  6.04it/s]\n",
      "100%|██████████| 1/1 [00:00<00:00, 16.13it/s]\n",
      "  0%|          | 0/4 [00:00<?, ?it/s]"
     ]
    },
    {
     "name": "stdout",
     "output_type": "stream",
     "text": [
      "554 (12, 7)\n",
      "555 (1005, 7)\n"
     ]
    },
    {
     "name": "stderr",
     "output_type": "stream",
     "text": [
      "100%|██████████| 4/4 [00:00<00:00,  5.68it/s]\n",
      "  9%|▉         | 1/11 [00:00<00:01,  5.71it/s]"
     ]
    },
    {
     "name": "stdout",
     "output_type": "stream",
     "text": [
      "556 (2643, 7)\n"
     ]
    },
    {
     "name": "stderr",
     "output_type": "stream",
     "text": [
      "100%|██████████| 11/11 [00:01<00:00,  5.82it/s]\n",
      " 33%|███▎      | 1/3 [00:00<00:00,  5.82it/s]"
     ]
    },
    {
     "name": "stdout",
     "output_type": "stream",
     "text": [
      "557 (704, 7)\n"
     ]
    },
    {
     "name": "stderr",
     "output_type": "stream",
     "text": [
      "100%|██████████| 3/3 [00:00<00:00,  6.33it/s]\n",
      "  7%|▋         | 1/14 [00:00<00:02,  5.92it/s]"
     ]
    },
    {
     "name": "stdout",
     "output_type": "stream",
     "text": [
      "558 (3365, 7)\n"
     ]
    },
    {
     "name": "stderr",
     "output_type": "stream",
     "text": [
      "100%|██████████| 14/14 [00:02<00:00,  6.07it/s]\n",
      "100%|██████████| 1/1 [00:00<00:00,  9.70it/s]\n",
      "  0%|          | 0/4 [00:00<?, ?it/s]"
     ]
    },
    {
     "name": "stdout",
     "output_type": "stream",
     "text": [
      "559 (88, 7)\n",
      "560 (968, 7)\n"
     ]
    },
    {
     "name": "stderr",
     "output_type": "stream",
     "text": [
      "100%|██████████| 4/4 [00:00<00:00,  6.20it/s]\n",
      "100%|██████████| 1/1 [00:00<00:00, 20.65it/s]\n",
      "  0%|          | 0/2 [00:00<?, ?it/s]"
     ]
    },
    {
     "name": "stdout",
     "output_type": "stream",
     "text": [
      "561 (10, 7)\n",
      "562 (274, 7)\n"
     ]
    },
    {
     "name": "stderr",
     "output_type": "stream",
     "text": [
      "100%|██████████| 2/2 [00:00<00:00, 10.21it/s]\n",
      "  0%|          | 1/449 [00:00<01:06,  6.74it/s]"
     ]
    },
    {
     "name": "stdout",
     "output_type": "stream",
     "text": [
      "563 (114842, 7)\n"
     ]
    },
    {
     "name": "stderr",
     "output_type": "stream",
     "text": [
      "100%|██████████| 449/449 [01:03<00:00,  7.08it/s]\n",
      " 12%|█▎        | 1/8 [00:00<00:00,  7.31it/s]"
     ]
    },
    {
     "name": "stdout",
     "output_type": "stream",
     "text": [
      "564 (1994, 7)\n"
     ]
    },
    {
     "name": "stderr",
     "output_type": "stream",
     "text": [
      "100%|██████████| 8/8 [00:01<00:00,  7.42it/s]\n",
      " 20%|██        | 1/5 [00:00<00:00,  7.32it/s]"
     ]
    },
    {
     "name": "stdout",
     "output_type": "stream",
     "text": [
      "565 (1255, 7)\n"
     ]
    },
    {
     "name": "stderr",
     "output_type": "stream",
     "text": [
      "100%|██████████| 5/5 [00:00<00:00,  7.35it/s]\n",
      "100%|██████████| 1/1 [00:00<00:00, 10.63it/s]\n",
      "  0%|          | 0/34 [00:00<?, ?it/s]"
     ]
    },
    {
     "name": "stdout",
     "output_type": "stream",
     "text": [
      "566 (135, 7)\n",
      "567 (8536, 7)\n"
     ]
    },
    {
     "name": "stderr",
     "output_type": "stream",
     "text": [
      "100%|██████████| 34/34 [00:04<00:00,  7.31it/s]\n",
      " 11%|█         | 1/9 [00:00<00:01,  7.17it/s]"
     ]
    },
    {
     "name": "stdout",
     "output_type": "stream",
     "text": [
      "568 (2229, 7)\n"
     ]
    },
    {
     "name": "stderr",
     "output_type": "stream",
     "text": [
      "100%|██████████| 9/9 [00:01<00:00,  7.33it/s]\n",
      "  1%|          | 1/107 [00:00<00:14,  7.29it/s]"
     ]
    },
    {
     "name": "stdout",
     "output_type": "stream",
     "text": [
      "569 (27244, 7)\n"
     ]
    },
    {
     "name": "stderr",
     "output_type": "stream",
     "text": [
      "100%|██████████| 107/107 [00:14<00:00,  7.26it/s]\n",
      "  4%|▍         | 1/26 [00:00<00:03,  7.29it/s]"
     ]
    },
    {
     "name": "stdout",
     "output_type": "stream",
     "text": [
      "570 (6567, 7)\n"
     ]
    },
    {
     "name": "stderr",
     "output_type": "stream",
     "text": [
      "100%|██████████| 26/26 [00:03<00:00,  7.29it/s]\n",
      " 11%|█         | 1/9 [00:00<00:01,  7.22it/s]"
     ]
    },
    {
     "name": "stdout",
     "output_type": "stream",
     "text": [
      "571 (2056, 7)\n"
     ]
    },
    {
     "name": "stderr",
     "output_type": "stream",
     "text": [
      "100%|██████████| 9/9 [00:01<00:00,  7.80it/s]\n",
      "  2%|▏         | 1/63 [00:00<00:08,  7.29it/s]"
     ]
    },
    {
     "name": "stdout",
     "output_type": "stream",
     "text": [
      "572 (16053, 7)\n"
     ]
    },
    {
     "name": "stderr",
     "output_type": "stream",
     "text": [
      "100%|██████████| 63/63 [00:08<00:00,  7.25it/s]\n",
      " 10%|█         | 1/10 [00:00<00:01,  7.24it/s]"
     ]
    },
    {
     "name": "stdout",
     "output_type": "stream",
     "text": [
      "573 (2307, 7)\n"
     ]
    },
    {
     "name": "stderr",
     "output_type": "stream",
     "text": [
      "100%|██████████| 10/10 [00:01<00:00,  7.73it/s]\n",
      " 10%|█         | 1/10 [00:00<00:01,  7.28it/s]"
     ]
    },
    {
     "name": "stdout",
     "output_type": "stream",
     "text": [
      "574 (2545, 7)\n"
     ]
    },
    {
     "name": "stderr",
     "output_type": "stream",
     "text": [
      "100%|██████████| 10/10 [00:01<00:00,  7.25it/s]\n",
      "100%|██████████| 1/1 [00:00<00:00, 15.41it/s]\n",
      "100%|██████████| 1/1 [00:00<00:00, 23.86it/s]\n",
      "  0%|          | 0/13 [00:00<?, ?it/s]"
     ]
    },
    {
     "name": "stdout",
     "output_type": "stream",
     "text": [
      "575 (65, 7)\n",
      "576 (6, 7)\n",
      "577 (3123, 7)\n"
     ]
    },
    {
     "name": "stderr",
     "output_type": "stream",
     "text": [
      "100%|██████████| 13/13 [00:01<00:00,  7.48it/s]\n",
      "  4%|▍         | 1/26 [00:00<00:03,  7.00it/s]"
     ]
    },
    {
     "name": "stdout",
     "output_type": "stream",
     "text": [
      "578 (6462, 7)\n"
     ]
    },
    {
     "name": "stderr",
     "output_type": "stream",
     "text": [
      "100%|██████████| 26/26 [00:03<00:00,  7.38it/s]\n",
      "100%|██████████| 1/1 [00:00<00:00,  8.53it/s]\n",
      "  0%|          | 0/2 [00:00<?, ?it/s]"
     ]
    },
    {
     "name": "stdout",
     "output_type": "stream",
     "text": [
      "579 (198, 7)\n",
      "580 (484, 7)\n"
     ]
    },
    {
     "name": "stderr",
     "output_type": "stream",
     "text": [
      "100%|██████████| 2/2 [00:00<00:00,  7.42it/s]\n",
      " 10%|█         | 1/10 [00:00<00:01,  7.13it/s]"
     ]
    },
    {
     "name": "stdout",
     "output_type": "stream",
     "text": [
      "581 (2555, 7)\n"
     ]
    },
    {
     "name": "stderr",
     "output_type": "stream",
     "text": [
      "100%|██████████| 10/10 [00:01<00:00,  7.24it/s]\n",
      " 17%|█▋        | 1/6 [00:00<00:00,  7.25it/s]"
     ]
    },
    {
     "name": "stdout",
     "output_type": "stream",
     "text": [
      "582 (1326, 7)\n"
     ]
    },
    {
     "name": "stderr",
     "output_type": "stream",
     "text": [
      "100%|██████████| 6/6 [00:00<00:00,  7.89it/s]\n",
      " 33%|███▎      | 1/3 [00:00<00:00,  7.05it/s]"
     ]
    },
    {
     "name": "stdout",
     "output_type": "stream",
     "text": [
      "583 (725, 7)\n"
     ]
    },
    {
     "name": "stderr",
     "output_type": "stream",
     "text": [
      "100%|██████████| 3/3 [00:00<00:00,  7.22it/s]\n",
      " 33%|███▎      | 1/3 [00:00<00:00,  6.92it/s]"
     ]
    },
    {
     "name": "stdout",
     "output_type": "stream",
     "text": [
      "584 (550, 7)\n"
     ]
    },
    {
     "name": "stderr",
     "output_type": "stream",
     "text": [
      "100%|██████████| 3/3 [00:00<00:00,  8.70it/s]\n",
      " 20%|██        | 1/5 [00:00<00:00,  7.00it/s]"
     ]
    },
    {
     "name": "stdout",
     "output_type": "stream",
     "text": [
      "585 (1212, 7)\n"
     ]
    },
    {
     "name": "stderr",
     "output_type": "stream",
     "text": [
      "100%|██████████| 5/5 [00:00<00:00,  7.19it/s]\n",
      " 50%|█████     | 1/2 [00:00<00:00,  6.92it/s]"
     ]
    },
    {
     "name": "stdout",
     "output_type": "stream",
     "text": [
      "586 (307, 7)\n"
     ]
    },
    {
     "name": "stderr",
     "output_type": "stream",
     "text": [
      "100%|██████████| 2/2 [00:00<00:00,  9.67it/s]\n",
      "  2%|▏         | 1/53 [00:00<00:07,  6.95it/s]"
     ]
    },
    {
     "name": "stdout",
     "output_type": "stream",
     "text": [
      "587 (13504, 7)\n"
     ]
    },
    {
     "name": "stderr",
     "output_type": "stream",
     "text": [
      "100%|██████████| 53/53 [00:07<00:00,  6.99it/s]\n",
      " 50%|█████     | 1/2 [00:00<00:00,  7.03it/s]"
     ]
    },
    {
     "name": "stdout",
     "output_type": "stream",
     "text": [
      "588 (308, 7)\n"
     ]
    },
    {
     "name": "stderr",
     "output_type": "stream",
     "text": [
      "100%|██████████| 2/2 [00:00<00:00,  9.82it/s]\n",
      "  5%|▌         | 1/19 [00:00<00:02,  7.03it/s]"
     ]
    },
    {
     "name": "stdout",
     "output_type": "stream",
     "text": [
      "589 (4813, 7)\n"
     ]
    },
    {
     "name": "stderr",
     "output_type": "stream",
     "text": [
      "100%|██████████| 19/19 [00:02<00:00,  7.03it/s]\n",
      "  2%|▏         | 1/66 [00:00<00:09,  6.96it/s]"
     ]
    },
    {
     "name": "stdout",
     "output_type": "stream",
     "text": [
      "590 (16743, 7)\n"
     ]
    },
    {
     "name": "stderr",
     "output_type": "stream",
     "text": [
      "100%|██████████| 66/66 [00:09<00:00,  7.06it/s]\n",
      "  3%|▎         | 1/37 [00:00<00:05,  6.93it/s]"
     ]
    },
    {
     "name": "stdout",
     "output_type": "stream",
     "text": [
      "591 (9402, 7)\n"
     ]
    },
    {
     "name": "stderr",
     "output_type": "stream",
     "text": [
      "100%|██████████| 37/37 [00:05<00:00,  7.06it/s]\n",
      "  0%|          | 1/347 [00:00<00:46,  7.44it/s]"
     ]
    },
    {
     "name": "stdout",
     "output_type": "stream",
     "text": [
      "592 (88659, 7)\n"
     ]
    },
    {
     "name": "stderr",
     "output_type": "stream",
     "text": [
      "100%|██████████| 347/347 [00:47<00:00,  7.29it/s]\n",
      "  4%|▍         | 1/24 [00:00<00:03,  7.46it/s]"
     ]
    },
    {
     "name": "stdout",
     "output_type": "stream",
     "text": [
      "593 (5972, 7)\n"
     ]
    },
    {
     "name": "stderr",
     "output_type": "stream",
     "text": [
      "100%|██████████| 24/24 [00:03<00:00,  7.48it/s]\n",
      "  6%|▌         | 1/17 [00:00<00:02,  7.30it/s]"
     ]
    },
    {
     "name": "stdout",
     "output_type": "stream",
     "text": [
      "594 (4165, 7)\n"
     ]
    },
    {
     "name": "stderr",
     "output_type": "stream",
     "text": [
      "100%|██████████| 17/17 [00:02<00:00,  7.55it/s]\n",
      " 50%|█████     | 1/2 [00:00<00:00,  7.31it/s]"
     ]
    },
    {
     "name": "stdout",
     "output_type": "stream",
     "text": [
      "595 (455, 7)\n"
     ]
    },
    {
     "name": "stderr",
     "output_type": "stream",
     "text": [
      "100%|██████████| 2/2 [00:00<00:00,  7.85it/s]\n",
      "  1%|          | 1/85 [00:00<00:11,  7.14it/s]"
     ]
    },
    {
     "name": "stdout",
     "output_type": "stream",
     "text": [
      "596 (21559, 7)\n"
     ]
    },
    {
     "name": "stderr",
     "output_type": "stream",
     "text": [
      "100%|██████████| 85/85 [00:11<00:00,  7.25it/s]\n",
      "100%|██████████| 1/1 [00:00<00:00,  8.41it/s]\n",
      "  0%|          | 0/21 [00:00<?, ?it/s]"
     ]
    },
    {
     "name": "stdout",
     "output_type": "stream",
     "text": [
      "597 (201, 7)\n",
      "598 (5274, 7)\n"
     ]
    },
    {
     "name": "stderr",
     "output_type": "stream",
     "text": [
      "100%|██████████| 21/21 [00:02<00:00,  7.18it/s]\n",
      " 33%|███▎      | 1/3 [00:00<00:00,  7.32it/s]"
     ]
    },
    {
     "name": "stdout",
     "output_type": "stream",
     "text": [
      "599 (611, 7)\n"
     ]
    },
    {
     "name": "stderr",
     "output_type": "stream",
     "text": [
      "100%|██████████| 3/3 [00:00<00:00,  8.54it/s]\n",
      "100%|██████████| 2/2 [00:00<00:00, 10.72it/s]"
     ]
    },
    {
     "name": "stdout",
     "output_type": "stream",
     "text": [
      "600 (269, 7)\n"
     ]
    },
    {
     "name": "stderr",
     "output_type": "stream",
     "text": [
      "\n",
      "100%|██████████| 1/1 [00:00<00:00, 13.67it/s]\n",
      "  0%|          | 0/5 [00:00<?, ?it/s]"
     ]
    },
    {
     "name": "stdout",
     "output_type": "stream",
     "text": [
      "601 (43, 7)\n",
      "602 (1050, 7)\n"
     ]
    },
    {
     "name": "stderr",
     "output_type": "stream",
     "text": [
      "100%|██████████| 5/5 [00:00<00:00,  6.84it/s]\n",
      " 33%|███▎      | 1/3 [00:00<00:00,  5.97it/s]"
     ]
    },
    {
     "name": "stdout",
     "output_type": "stream",
     "text": [
      "603 (553, 7)\n"
     ]
    },
    {
     "name": "stderr",
     "output_type": "stream",
     "text": [
      "100%|██████████| 3/3 [00:00<00:00,  7.40it/s]\n",
      "  1%|          | 1/141 [00:00<00:23,  5.98it/s]"
     ]
    },
    {
     "name": "stdout",
     "output_type": "stream",
     "text": [
      "604 (36087, 7)\n"
     ]
    },
    {
     "name": "stderr",
     "output_type": "stream",
     "text": [
      "100%|██████████| 141/141 [00:24<00:00,  5.84it/s]\n",
      "100%|██████████| 1/1 [00:00<00:00, 13.83it/s]\n",
      "0it [00:00, ?it/s]\n",
      "  0%|          | 0/21 [00:00<?, ?it/s]"
     ]
    },
    {
     "name": "stdout",
     "output_type": "stream",
     "text": [
      "605 (39, 7)\n",
      "606 (0, 1)\n",
      "607 (5229, 7)\n"
     ]
    },
    {
     "name": "stderr",
     "output_type": "stream",
     "text": [
      "100%|██████████| 21/21 [00:03<00:00,  6.00it/s]\n",
      " 50%|█████     | 1/2 [00:00<00:00,  5.52it/s]"
     ]
    },
    {
     "name": "stdout",
     "output_type": "stream",
     "text": [
      "608 (458, 7)\n"
     ]
    },
    {
     "name": "stderr",
     "output_type": "stream",
     "text": [
      "100%|██████████| 2/2 [00:00<00:00,  5.92it/s]\n",
      " 50%|█████     | 1/2 [00:00<00:00,  5.74it/s]"
     ]
    },
    {
     "name": "stdout",
     "output_type": "stream",
     "text": [
      "609 (383, 7)\n"
     ]
    },
    {
     "name": "stderr",
     "output_type": "stream",
     "text": [
      "100%|██████████| 2/2 [00:00<00:00,  7.00it/s]\n",
      " 20%|██        | 1/5 [00:00<00:00,  6.15it/s]"
     ]
    },
    {
     "name": "stdout",
     "output_type": "stream",
     "text": [
      "610 (1106, 7)\n"
     ]
    },
    {
     "name": "stderr",
     "output_type": "stream",
     "text": [
      "100%|██████████| 5/5 [00:00<00:00,  6.44it/s]\n",
      "  3%|▎         | 1/34 [00:00<00:06,  5.45it/s]"
     ]
    },
    {
     "name": "stdout",
     "output_type": "stream",
     "text": [
      "611 (8605, 7)\n"
     ]
    },
    {
     "name": "stderr",
     "output_type": "stream",
     "text": [
      "100%|██████████| 34/34 [00:05<00:00,  5.92it/s]\n",
      "100%|██████████| 1/1 [00:00<00:00, 12.53it/s]\n",
      "100%|██████████| 1/1 [00:00<00:00, 14.55it/s]\n",
      "  0%|          | 0/27 [00:00<?, ?it/s]"
     ]
    },
    {
     "name": "stdout",
     "output_type": "stream",
     "text": [
      "612 (58, 7)\n",
      "613 (43, 7)\n",
      "614 (6876, 7)\n"
     ]
    },
    {
     "name": "stderr",
     "output_type": "stream",
     "text": [
      "100%|██████████| 27/27 [00:04<00:00,  5.96it/s]\n",
      "100%|██████████| 1/1 [00:00<00:00, 10.89it/s]\n",
      "  0%|          | 0/1 [00:00<?, ?it/s]"
     ]
    },
    {
     "name": "stdout",
     "output_type": "stream",
     "text": [
      "615 (88, 7)\n",
      "616 (104, 7)\n"
     ]
    },
    {
     "name": "stderr",
     "output_type": "stream",
     "text": [
      "100%|██████████| 1/1 [00:00<00:00, 10.20it/s]\n",
      "100%|██████████| 1/1 [00:00<00:00,  9.21it/s]\n",
      "100%|██████████| 1/1 [00:00<00:00, 17.47it/s]\n",
      "  0%|          | 0/2 [00:00<?, ?it/s]"
     ]
    },
    {
     "name": "stdout",
     "output_type": "stream",
     "text": [
      "617 (122, 7)\n",
      "618 (10, 7)\n",
      "619 (483, 7)\n"
     ]
    },
    {
     "name": "stderr",
     "output_type": "stream",
     "text": [
      "100%|██████████| 2/2 [00:00<00:00,  6.06it/s]\n",
      " 33%|███▎      | 1/3 [00:00<00:00,  5.81it/s]"
     ]
    },
    {
     "name": "stdout",
     "output_type": "stream",
     "text": [
      "620 (618, 7)\n"
     ]
    },
    {
     "name": "stderr",
     "output_type": "stream",
     "text": [
      "100%|██████████| 3/3 [00:00<00:00,  6.71it/s]\n",
      "  8%|▊         | 1/13 [00:00<00:02,  5.82it/s]"
     ]
    },
    {
     "name": "stdout",
     "output_type": "stream",
     "text": [
      "621 (3111, 7)\n"
     ]
    },
    {
     "name": "stderr",
     "output_type": "stream",
     "text": [
      "100%|██████████| 13/13 [00:02<00:00,  6.04it/s]\n",
      "100%|██████████| 1/1 [00:00<00:00, 14.00it/s]\n",
      "  0%|          | 0/5 [00:00<?, ?it/s]"
     ]
    },
    {
     "name": "stdout",
     "output_type": "stream",
     "text": [
      "622 (52, 7)\n",
      "623 (1136, 7)\n"
     ]
    },
    {
     "name": "stderr",
     "output_type": "stream",
     "text": [
      "100%|██████████| 5/5 [00:00<00:00,  6.55it/s]\n",
      " 17%|█▋        | 1/6 [00:00<00:00,  5.74it/s]"
     ]
    },
    {
     "name": "stdout",
     "output_type": "stream",
     "text": [
      "624 (1317, 7)\n"
     ]
    },
    {
     "name": "stderr",
     "output_type": "stream",
     "text": [
      "100%|██████████| 6/6 [00:00<00:00,  6.59it/s]\n",
      "100%|██████████| 1/1 [00:00<00:00, 14.63it/s]\n",
      "  0%|          | 0/16 [00:00<?, ?it/s]"
     ]
    },
    {
     "name": "stdout",
     "output_type": "stream",
     "text": [
      "625 (42, 7)\n",
      "626 (3846, 7)\n"
     ]
    },
    {
     "name": "stderr",
     "output_type": "stream",
     "text": [
      "100%|██████████| 16/16 [00:02<00:00,  5.94it/s]\n",
      "  2%|▏         | 1/62 [00:00<00:10,  5.57it/s]"
     ]
    },
    {
     "name": "stdout",
     "output_type": "stream",
     "text": [
      "627 (15733, 7)\n"
     ]
    },
    {
     "name": "stderr",
     "output_type": "stream",
     "text": [
      "100%|██████████| 62/62 [00:10<00:00,  5.79it/s]\n",
      "100%|██████████| 1/1 [00:00<00:00,  9.43it/s]\n",
      "  0%|          | 0/12 [00:00<?, ?it/s]"
     ]
    },
    {
     "name": "stdout",
     "output_type": "stream",
     "text": [
      "628 (107, 7)\n",
      "629 (3068, 7)\n"
     ]
    },
    {
     "name": "stderr",
     "output_type": "stream",
     "text": [
      "100%|██████████| 12/12 [00:02<00:00,  5.77it/s]\n",
      "  6%|▌         | 1/18 [00:00<00:02,  6.01it/s]"
     ]
    },
    {
     "name": "stdout",
     "output_type": "stream",
     "text": [
      "630 (4509, 7)\n"
     ]
    },
    {
     "name": "stderr",
     "output_type": "stream",
     "text": [
      "100%|██████████| 18/18 [00:03<00:00,  5.79it/s]\n",
      "100%|██████████| 1/1 [00:00<00:00,  6.51it/s]\n",
      "  0%|          | 0/10 [00:00<?, ?it/s]"
     ]
    },
    {
     "name": "stdout",
     "output_type": "stream",
     "text": [
      "631 (203, 7)\n",
      "632 (2415, 7)\n"
     ]
    },
    {
     "name": "stderr",
     "output_type": "stream",
     "text": [
      "100%|██████████| 10/10 [00:01<00:00,  6.07it/s]\n",
      " 50%|█████     | 1/2 [00:00<00:00,  5.94it/s]"
     ]
    },
    {
     "name": "stdout",
     "output_type": "stream",
     "text": [
      "633 (395, 7)\n"
     ]
    },
    {
     "name": "stderr",
     "output_type": "stream",
     "text": [
      "100%|██████████| 2/2 [00:00<00:00,  7.13it/s]\n",
      "  5%|▌         | 1/20 [00:00<00:03,  6.06it/s]"
     ]
    },
    {
     "name": "stdout",
     "output_type": "stream",
     "text": [
      "634 (4918, 7)\n"
     ]
    },
    {
     "name": "stderr",
     "output_type": "stream",
     "text": [
      "100%|██████████| 20/20 [00:03<00:00,  5.96it/s]\n",
      "  6%|▋         | 1/16 [00:00<00:02,  5.87it/s]"
     ]
    },
    {
     "name": "stdout",
     "output_type": "stream",
     "text": [
      "635 (3913, 7)\n"
     ]
    },
    {
     "name": "stderr",
     "output_type": "stream",
     "text": [
      "100%|██████████| 16/16 [00:02<00:00,  5.94it/s]\n",
      "  6%|▌         | 1/17 [00:00<00:02,  5.74it/s]"
     ]
    },
    {
     "name": "stdout",
     "output_type": "stream",
     "text": [
      "636 (4336, 7)\n"
     ]
    },
    {
     "name": "stderr",
     "output_type": "stream",
     "text": [
      "100%|██████████| 17/17 [00:02<00:00,  5.90it/s]\n",
      " 10%|█         | 1/10 [00:00<00:01,  6.07it/s]"
     ]
    },
    {
     "name": "stdout",
     "output_type": "stream",
     "text": [
      "637 (2392, 7)\n"
     ]
    },
    {
     "name": "stderr",
     "output_type": "stream",
     "text": [
      "100%|██████████| 10/10 [00:01<00:00,  6.28it/s]\n",
      " 50%|█████     | 1/2 [00:00<00:00,  5.97it/s]"
     ]
    },
    {
     "name": "stdout",
     "output_type": "stream",
     "text": [
      "638 (462, 7)\n"
     ]
    },
    {
     "name": "stderr",
     "output_type": "stream",
     "text": [
      "100%|██████████| 2/2 [00:00<00:00,  6.41it/s]\n",
      " 50%|█████     | 1/2 [00:00<00:00,  6.12it/s]"
     ]
    },
    {
     "name": "stdout",
     "output_type": "stream",
     "text": [
      "639 (436, 7)\n"
     ]
    },
    {
     "name": "stderr",
     "output_type": "stream",
     "text": [
      "100%|██████████| 2/2 [00:00<00:00,  6.73it/s]\n",
      "100%|██████████| 1/1 [00:00<00:00, 18.44it/s]\n",
      "  0%|          | 0/1 [00:00<?, ?it/s]"
     ]
    },
    {
     "name": "stdout",
     "output_type": "stream",
     "text": [
      "640 (3, 7)\n",
      "641 (196, 7)\n"
     ]
    },
    {
     "name": "stderr",
     "output_type": "stream",
     "text": [
      "100%|██████████| 1/1 [00:00<00:00,  7.14it/s]\n",
      "  1%|          | 1/161 [00:00<00:26,  5.95it/s]"
     ]
    },
    {
     "name": "stdout",
     "output_type": "stream",
     "text": [
      "642 (41215, 7)\n"
     ]
    },
    {
     "name": "stderr",
     "output_type": "stream",
     "text": [
      "100%|██████████| 161/161 [00:27<00:00,  5.83it/s]\n",
      " 50%|█████     | 1/2 [00:00<00:00,  5.80it/s]"
     ]
    },
    {
     "name": "stdout",
     "output_type": "stream",
     "text": [
      "643 (293, 7)\n"
     ]
    },
    {
     "name": "stderr",
     "output_type": "stream",
     "text": [
      "100%|██████████| 2/2 [00:00<00:00,  8.28it/s]\n",
      "100%|██████████| 1/1 [00:00<00:00, 12.57it/s]\n",
      "100%|██████████| 1/1 [00:00<00:00, 17.85it/s]\n",
      "  0%|          | 0/4 [00:00<?, ?it/s]"
     ]
    },
    {
     "name": "stdout",
     "output_type": "stream",
     "text": [
      "644 (52, 7)\n",
      "645 (10, 7)\n",
      "646 (790, 7)\n"
     ]
    },
    {
     "name": "stderr",
     "output_type": "stream",
     "text": [
      "100%|██████████| 4/4 [00:00<00:00,  6.93it/s]\n",
      " 50%|█████     | 1/2 [00:00<00:00,  6.05it/s]"
     ]
    },
    {
     "name": "stdout",
     "output_type": "stream",
     "text": [
      "647 (478, 7)\n"
     ]
    },
    {
     "name": "stderr",
     "output_type": "stream",
     "text": [
      "100%|██████████| 2/2 [00:00<00:00,  6.21it/s]\n",
      "100%|██████████| 1/1 [00:00<00:00, 20.00it/s]\n",
      "  0%|          | 0/3 [00:00<?, ?it/s]"
     ]
    },
    {
     "name": "stdout",
     "output_type": "stream",
     "text": [
      "648 (2, 7)\n",
      "649 (514, 7)\n"
     ]
    },
    {
     "name": "stderr",
     "output_type": "stream",
     "text": [
      "100%|██████████| 3/3 [00:00<00:00,  7.76it/s]\n",
      "100%|██████████| 1/1 [00:00<00:00,  8.80it/s]\n",
      "  0%|          | 0/7 [00:00<?, ?it/s]"
     ]
    },
    {
     "name": "stdout",
     "output_type": "stream",
     "text": [
      "650 (126, 7)\n",
      "651 (1777, 7)\n"
     ]
    },
    {
     "name": "stderr",
     "output_type": "stream",
     "text": [
      "100%|██████████| 7/7 [00:01<00:00,  6.01it/s]\n",
      "100%|██████████| 1/1 [00:00<00:00,  6.63it/s]\n",
      "  0%|          | 0/10 [00:00<?, ?it/s]"
     ]
    },
    {
     "name": "stdout",
     "output_type": "stream",
     "text": [
      "652 (219, 7)\n",
      "653 (2340, 7)\n"
     ]
    },
    {
     "name": "stderr",
     "output_type": "stream",
     "text": [
      "100%|██████████| 10/10 [00:01<00:00,  6.27it/s]\n",
      "100%|██████████| 1/1 [00:00<00:00, 18.37it/s]\n",
      "  0%|          | 0/3 [00:00<?, ?it/s]"
     ]
    },
    {
     "name": "stdout",
     "output_type": "stream",
     "text": [
      "654 (6, 7)\n",
      "655 (643, 7)\n"
     ]
    },
    {
     "name": "stderr",
     "output_type": "stream",
     "text": [
      "100%|██████████| 3/3 [00:00<00:00,  6.72it/s]\n",
      " 11%|█         | 1/9 [00:00<00:01,  5.91it/s]"
     ]
    },
    {
     "name": "stdout",
     "output_type": "stream",
     "text": [
      "656 (2216, 7)\n"
     ]
    },
    {
     "name": "stderr",
     "output_type": "stream",
     "text": [
      "100%|██████████| 9/9 [00:01<00:00,  5.91it/s]\n",
      "100%|██████████| 1/1 [00:00<00:00, 12.53it/s]\n",
      "100%|██████████| 1/1 [00:00<00:00, 10.25it/s]"
     ]
    },
    {
     "name": "stdout",
     "output_type": "stream",
     "text": [
      "657 (65, 7)\n",
      "658 (100, 7)\n"
     ]
    },
    {
     "name": "stderr",
     "output_type": "stream",
     "text": [
      "\n",
      "100%|██████████| 1/1 [00:00<00:00, 18.35it/s]\n",
      "  0%|          | 0/7 [00:00<?, ?it/s]"
     ]
    },
    {
     "name": "stdout",
     "output_type": "stream",
     "text": [
      "659 (6, 7)\n",
      "660 (1608, 7)\n"
     ]
    },
    {
     "name": "stderr",
     "output_type": "stream",
     "text": [
      "100%|██████████| 7/7 [00:01<00:00,  6.18it/s]\n",
      "100%|██████████| 1/1 [00:00<00:00,  9.88it/s]\n",
      "  0%|          | 0/5 [00:00<?, ?it/s]"
     ]
    },
    {
     "name": "stdout",
     "output_type": "stream",
     "text": [
      "661 (111, 7)\n",
      "662 (1026, 7)\n"
     ]
    },
    {
     "name": "stderr",
     "output_type": "stream",
     "text": [
      "100%|██████████| 5/5 [00:00<00:00,  6.95it/s]\n",
      "  9%|▉         | 1/11 [00:00<00:01,  6.06it/s]"
     ]
    },
    {
     "name": "stdout",
     "output_type": "stream",
     "text": [
      "663 (2709, 7)\n"
     ]
    },
    {
     "name": "stderr",
     "output_type": "stream",
     "text": [
      "100%|██████████| 11/11 [00:01<00:00,  5.90it/s]\n",
      "  6%|▋         | 1/16 [00:00<00:02,  5.99it/s]"
     ]
    },
    {
     "name": "stdout",
     "output_type": "stream",
     "text": [
      "664 (3957, 7)\n"
     ]
    },
    {
     "name": "stderr",
     "output_type": "stream",
     "text": [
      "100%|██████████| 16/16 [00:02<00:00,  5.95it/s]\n",
      " 12%|█▎        | 1/8 [00:00<00:01,  5.77it/s]"
     ]
    },
    {
     "name": "stdout",
     "output_type": "stream",
     "text": [
      "665 (1879, 7)\n"
     ]
    },
    {
     "name": "stderr",
     "output_type": "stream",
     "text": [
      "100%|██████████| 8/8 [00:01<00:00,  5.91it/s]\n",
      " 33%|███▎      | 1/3 [00:00<00:00,  5.77it/s]"
     ]
    },
    {
     "name": "stdout",
     "output_type": "stream",
     "text": [
      "666 (684, 7)\n"
     ]
    },
    {
     "name": "stderr",
     "output_type": "stream",
     "text": [
      "100%|██████████| 3/3 [00:00<00:00,  6.38it/s]\n",
      "  5%|▍         | 1/21 [00:00<00:03,  5.92it/s]"
     ]
    },
    {
     "name": "stdout",
     "output_type": "stream",
     "text": [
      "667 (5139, 7)\n"
     ]
    },
    {
     "name": "stderr",
     "output_type": "stream",
     "text": [
      "100%|██████████| 21/21 [00:03<00:00,  5.91it/s]\n",
      "  2%|▏         | 1/57 [00:00<00:09,  6.10it/s]"
     ]
    },
    {
     "name": "stdout",
     "output_type": "stream",
     "text": [
      "668 (14345, 7)\n"
     ]
    },
    {
     "name": "stderr",
     "output_type": "stream",
     "text": [
      "100%|██████████| 57/57 [00:09<00:00,  5.89it/s]\n",
      "100%|██████████| 1/1 [00:00<00:00, 18.30it/s]\n",
      "  0%|          | 0/8 [00:00<?, ?it/s]"
     ]
    },
    {
     "name": "stdout",
     "output_type": "stream",
     "text": [
      "669 (7, 7)\n",
      "670 (1983, 7)\n"
     ]
    },
    {
     "name": "stderr",
     "output_type": "stream",
     "text": [
      "100%|██████████| 8/8 [00:01<00:00,  6.04it/s]\n",
      " 10%|█         | 1/10 [00:00<00:01,  5.90it/s]"
     ]
    },
    {
     "name": "stdout",
     "output_type": "stream",
     "text": [
      "671 (2413, 7)\n"
     ]
    },
    {
     "name": "stderr",
     "output_type": "stream",
     "text": [
      "100%|██████████| 10/10 [00:01<00:00,  5.99it/s]\n",
      "  1%|          | 1/82 [00:00<00:13,  5.91it/s]"
     ]
    },
    {
     "name": "stdout",
     "output_type": "stream",
     "text": [
      "672 (20989, 7)\n"
     ]
    },
    {
     "name": "stderr",
     "output_type": "stream",
     "text": [
      "100%|██████████| 82/82 [00:13<00:00,  5.92it/s]\n",
      "  3%|▎         | 1/33 [00:00<00:05,  5.62it/s]"
     ]
    },
    {
     "name": "stdout",
     "output_type": "stream",
     "text": [
      "673 (8259, 7)\n"
     ]
    },
    {
     "name": "stderr",
     "output_type": "stream",
     "text": [
      "100%|██████████| 33/33 [00:05<00:00,  5.89it/s]\n",
      "  8%|▊         | 1/13 [00:00<00:02,  5.64it/s]"
     ]
    },
    {
     "name": "stdout",
     "output_type": "stream",
     "text": [
      "674 (3314, 7)\n"
     ]
    },
    {
     "name": "stderr",
     "output_type": "stream",
     "text": [
      "100%|██████████| 13/13 [00:02<00:00,  5.69it/s]\n",
      "  6%|▌         | 1/18 [00:00<00:02,  5.93it/s]"
     ]
    },
    {
     "name": "stdout",
     "output_type": "stream",
     "text": [
      "675 (4380, 7)\n"
     ]
    },
    {
     "name": "stderr",
     "output_type": "stream",
     "text": [
      "100%|██████████| 18/18 [00:03<00:00,  5.98it/s]\n",
      "  7%|▋         | 1/15 [00:00<00:02,  5.85it/s]"
     ]
    },
    {
     "name": "stdout",
     "output_type": "stream",
     "text": [
      "676 (3807, 7)\n"
     ]
    },
    {
     "name": "stderr",
     "output_type": "stream",
     "text": [
      "100%|██████████| 15/15 [00:02<00:00,  5.76it/s]\n",
      "  8%|▊         | 1/12 [00:00<00:01,  5.63it/s]"
     ]
    },
    {
     "name": "stdout",
     "output_type": "stream",
     "text": [
      "677 (3012, 7)\n"
     ]
    },
    {
     "name": "stderr",
     "output_type": "stream",
     "text": [
      "100%|██████████| 12/12 [00:02<00:00,  5.83it/s]\n",
      "  4%|▍         | 1/23 [00:00<00:03,  5.87it/s]"
     ]
    },
    {
     "name": "stdout",
     "output_type": "stream",
     "text": [
      "678 (5807, 7)\n"
     ]
    },
    {
     "name": "stderr",
     "output_type": "stream",
     "text": [
      "100%|██████████| 23/23 [00:03<00:00,  5.95it/s]\n",
      "100%|██████████| 1/1 [00:00<00:00, 13.99it/s]\n",
      "  0%|          | 0/13 [00:00<?, ?it/s]"
     ]
    },
    {
     "name": "stdout",
     "output_type": "stream",
     "text": [
      "679 (37, 7)\n",
      "680 (3322, 7)\n"
     ]
    },
    {
     "name": "stderr",
     "output_type": "stream",
     "text": [
      "100%|██████████| 13/13 [00:02<00:00,  5.93it/s]\n",
      "  6%|▌         | 1/18 [00:00<00:02,  5.86it/s]"
     ]
    },
    {
     "name": "stdout",
     "output_type": "stream",
     "text": [
      "681 (4606, 7)\n"
     ]
    },
    {
     "name": "stderr",
     "output_type": "stream",
     "text": [
      "100%|██████████| 18/18 [00:03<00:00,  5.68it/s]\n",
      " 14%|█▍        | 1/7 [00:00<00:01,  5.64it/s]"
     ]
    },
    {
     "name": "stdout",
     "output_type": "stream",
     "text": [
      "682 (1716, 7)\n"
     ]
    },
    {
     "name": "stderr",
     "output_type": "stream",
     "text": [
      "100%|██████████| 7/7 [00:01<00:00,  5.94it/s]\n",
      " 20%|██        | 1/5 [00:00<00:00,  6.19it/s]"
     ]
    },
    {
     "name": "stdout",
     "output_type": "stream",
     "text": [
      "683 (1144, 7)\n"
     ]
    },
    {
     "name": "stderr",
     "output_type": "stream",
     "text": [
      "100%|██████████| 5/5 [00:00<00:00,  6.50it/s]\n",
      "100%|██████████| 1/1 [00:00<00:00, 14.45it/s]\n",
      "  0%|          | 0/6 [00:00<?, ?it/s]"
     ]
    },
    {
     "name": "stdout",
     "output_type": "stream",
     "text": [
      "684 (44, 7)\n",
      "685 (1416, 7)\n"
     ]
    },
    {
     "name": "stderr",
     "output_type": "stream",
     "text": [
      "100%|██████████| 6/6 [00:00<00:00,  6.39it/s]\n",
      "  3%|▎         | 1/35 [00:00<00:05,  5.93it/s]"
     ]
    },
    {
     "name": "stdout",
     "output_type": "stream",
     "text": [
      "686 (8954, 7)\n"
     ]
    },
    {
     "name": "stderr",
     "output_type": "stream",
     "text": [
      "100%|██████████| 35/35 [00:05<00:00,  5.87it/s]\n",
      "  4%|▍         | 1/23 [00:00<00:03,  5.86it/s]"
     ]
    },
    {
     "name": "stdout",
     "output_type": "stream",
     "text": [
      "687 (5651, 7)\n"
     ]
    },
    {
     "name": "stderr",
     "output_type": "stream",
     "text": [
      "100%|██████████| 23/23 [00:03<00:00,  5.89it/s]\n",
      " 25%|██▌       | 1/4 [00:00<00:00,  5.92it/s]"
     ]
    },
    {
     "name": "stdout",
     "output_type": "stream",
     "text": [
      "688 (852, 7)\n"
     ]
    },
    {
     "name": "stderr",
     "output_type": "stream",
     "text": [
      "100%|██████████| 4/4 [00:00<00:00,  6.57it/s]\n",
      " 33%|███▎      | 1/3 [00:00<00:00,  5.98it/s]"
     ]
    },
    {
     "name": "stdout",
     "output_type": "stream",
     "text": [
      "689 (657, 7)\n"
     ]
    },
    {
     "name": "stderr",
     "output_type": "stream",
     "text": [
      "100%|██████████| 3/3 [00:00<00:00,  6.58it/s]\n",
      "100%|██████████| 1/1 [00:00<00:00, 10.29it/s]\n",
      "  0%|          | 0/12 [00:00<?, ?it/s]"
     ]
    },
    {
     "name": "stdout",
     "output_type": "stream",
     "text": [
      "690 (95, 7)\n",
      "691 (3064, 7)\n"
     ]
    },
    {
     "name": "stderr",
     "output_type": "stream",
     "text": [
      "100%|██████████| 12/12 [00:02<00:00,  5.87it/s]\n",
      " 11%|█         | 1/9 [00:00<00:01,  5.84it/s]"
     ]
    },
    {
     "name": "stdout",
     "output_type": "stream",
     "text": [
      "692 (2270, 7)\n"
     ]
    },
    {
     "name": "stderr",
     "output_type": "stream",
     "text": [
      "100%|██████████| 9/9 [00:01<00:00,  5.85it/s]\n",
      " 33%|███▎      | 1/3 [00:00<00:00,  5.33it/s]"
     ]
    },
    {
     "name": "stdout",
     "output_type": "stream",
     "text": [
      "693 (638, 7)\n"
     ]
    },
    {
     "name": "stderr",
     "output_type": "stream",
     "text": [
      "100%|██████████| 3/3 [00:00<00:00,  6.07it/s]\n",
      " 50%|█████     | 1/2 [00:00<00:00,  5.40it/s]"
     ]
    },
    {
     "name": "stdout",
     "output_type": "stream",
     "text": [
      "694 (425, 7)\n"
     ]
    },
    {
     "name": "stderr",
     "output_type": "stream",
     "text": [
      "100%|██████████| 2/2 [00:00<00:00,  6.15it/s]\n",
      "100%|██████████| 1/1 [00:00<00:00,  8.53it/s]\n",
      "  0%|          | 0/2 [00:00<?, ?it/s]"
     ]
    },
    {
     "name": "stdout",
     "output_type": "stream",
     "text": [
      "695 (122, 7)\n",
      "696 (259, 7)\n"
     ]
    },
    {
     "name": "stderr",
     "output_type": "stream",
     "text": [
      "100%|██████████| 2/2 [00:00<00:00,  8.29it/s]\n",
      "100%|██████████| 1/1 [00:00<00:00,  6.72it/s]\n",
      "  0%|          | 0/32 [00:00<?, ?it/s]"
     ]
    },
    {
     "name": "stdout",
     "output_type": "stream",
     "text": [
      "697 (180, 7)\n",
      "698 (8186, 7)\n"
     ]
    },
    {
     "name": "stderr",
     "output_type": "stream",
     "text": [
      "100%|██████████| 32/32 [00:05<00:00,  5.70it/s]\n",
      " 33%|███▎      | 1/3 [00:00<00:00,  5.63it/s]"
     ]
    },
    {
     "name": "stdout",
     "output_type": "stream",
     "text": [
      "699 (574, 7)\n"
     ]
    },
    {
     "name": "stderr",
     "output_type": "stream",
     "text": [
      "100%|██████████| 3/3 [00:00<00:00,  6.73it/s]\n",
      "100%|██████████| 1/1 [00:00<00:00, 15.55it/s]\n",
      "100%|██████████| 1/1 [00:00<00:00, 18.10it/s]\n",
      "  0%|          | 0/1 [00:00<?, ?it/s]"
     ]
    },
    {
     "name": "stdout",
     "output_type": "stream",
     "text": [
      "700 (26, 7)\n",
      "701 (9, 7)\n",
      "702 (6, 7)\n"
     ]
    },
    {
     "name": "stderr",
     "output_type": "stream",
     "text": [
      "100%|██████████| 1/1 [00:00<00:00, 18.58it/s]\n",
      "100%|██████████| 1/1 [00:00<00:00,  9.41it/s]\n",
      "  0%|          | 0/1 [00:00<?, ?it/s]"
     ]
    },
    {
     "name": "stdout",
     "output_type": "stream",
     "text": [
      "703 (117, 7)\n",
      "704 (97, 7)\n"
     ]
    },
    {
     "name": "stderr",
     "output_type": "stream",
     "text": [
      "100%|██████████| 1/1 [00:00<00:00, 10.48it/s]\n",
      " 12%|█▎        | 1/8 [00:00<00:01,  5.93it/s]"
     ]
    },
    {
     "name": "stdout",
     "output_type": "stream",
     "text": [
      "705 (1847, 7)\n"
     ]
    },
    {
     "name": "stderr",
     "output_type": "stream",
     "text": [
      "100%|██████████| 8/8 [00:01<00:00,  6.17it/s]\n",
      "  7%|▋         | 1/14 [00:00<00:02,  6.06it/s]"
     ]
    },
    {
     "name": "stdout",
     "output_type": "stream",
     "text": [
      "706 (3466, 7)\n"
     ]
    },
    {
     "name": "stderr",
     "output_type": "stream",
     "text": [
      "100%|██████████| 14/14 [00:02<00:00,  6.14it/s]\n",
      "  1%|          | 1/106 [00:00<00:18,  5.77it/s]"
     ]
    },
    {
     "name": "stdout",
     "output_type": "stream",
     "text": [
      "707 (27057, 7)\n"
     ]
    },
    {
     "name": "stderr",
     "output_type": "stream",
     "text": [
      "100%|██████████| 106/106 [00:17<00:00,  5.98it/s]\n",
      "100%|██████████| 1/1 [00:00<00:00, 11.19it/s]\n",
      "  0%|          | 0/8 [00:00<?, ?it/s]"
     ]
    },
    {
     "name": "stdout",
     "output_type": "stream",
     "text": [
      "708 (77, 7)\n",
      "709 (1814, 7)\n"
     ]
    },
    {
     "name": "stderr",
     "output_type": "stream",
     "text": [
      "100%|██████████| 8/8 [00:01<00:00,  6.29it/s]\n",
      "100%|██████████| 1/1 [00:00<00:00, 17.84it/s]\n",
      "  0%|          | 0/5 [00:00<?, ?it/s]"
     ]
    },
    {
     "name": "stdout",
     "output_type": "stream",
     "text": [
      "710 (6, 7)\n",
      "711 (1143, 7)\n"
     ]
    },
    {
     "name": "stderr",
     "output_type": "stream",
     "text": [
      "100%|██████████| 5/5 [00:00<00:00,  6.21it/s]\n",
      "100%|██████████| 1/1 [00:00<00:00, 16.96it/s]\n",
      "  0%|          | 0/5 [00:00<?, ?it/s]"
     ]
    },
    {
     "name": "stdout",
     "output_type": "stream",
     "text": [
      "712 (14, 7)\n",
      "713 (1185, 7)\n"
     ]
    },
    {
     "name": "stderr",
     "output_type": "stream",
     "text": [
      "100%|██████████| 5/5 [00:00<00:00,  6.27it/s]\n",
      "100%|██████████| 1/1 [00:00<00:00, 14.76it/s]\n",
      "100%|██████████| 1/1 [00:00<00:00, 11.29it/s]\n",
      "  0%|          | 0/42 [00:00<?, ?it/s]"
     ]
    },
    {
     "name": "stdout",
     "output_type": "stream",
     "text": [
      "714 (32, 7)\n",
      "715 (84, 7)\n",
      "716 (10567, 7)\n"
     ]
    },
    {
     "name": "stderr",
     "output_type": "stream",
     "text": [
      "100%|██████████| 42/42 [00:06<00:00,  6.02it/s]\n",
      " 25%|██▌       | 1/4 [00:00<00:00,  6.16it/s]"
     ]
    },
    {
     "name": "stdout",
     "output_type": "stream",
     "text": [
      "717 (1012, 7)\n"
     ]
    },
    {
     "name": "stderr",
     "output_type": "stream",
     "text": [
      "100%|██████████| 4/4 [00:00<00:00,  5.95it/s]\n",
      "  8%|▊         | 1/12 [00:00<00:01,  5.82it/s]"
     ]
    },
    {
     "name": "stdout",
     "output_type": "stream",
     "text": [
      "718 (2844, 7)\n"
     ]
    },
    {
     "name": "stderr",
     "output_type": "stream",
     "text": [
      "100%|██████████| 12/12 [00:01<00:00,  6.18it/s]\n",
      " 17%|█▋        | 1/6 [00:00<00:00,  5.92it/s]"
     ]
    },
    {
     "name": "stdout",
     "output_type": "stream",
     "text": [
      "719 (1405, 7)\n"
     ]
    },
    {
     "name": "stderr",
     "output_type": "stream",
     "text": [
      "100%|██████████| 6/6 [00:00<00:00,  6.17it/s]\n",
      "100%|██████████| 1/1 [00:00<00:00, 14.71it/s]\n",
      "  0%|          | 0/58 [00:00<?, ?it/s]"
     ]
    },
    {
     "name": "stdout",
     "output_type": "stream",
     "text": [
      "720 (45, 7)\n",
      "721 (14825, 7)\n"
     ]
    },
    {
     "name": "stderr",
     "output_type": "stream",
     "text": [
      "100%|██████████| 58/58 [00:09<00:00,  5.96it/s]\n",
      "100%|██████████| 1/1 [00:00<00:00, 13.51it/s]\n",
      "  0%|          | 0/8 [00:00<?, ?it/s]"
     ]
    },
    {
     "name": "stdout",
     "output_type": "stream",
     "text": [
      "722 (59, 7)\n",
      "723 (1876, 7)\n"
     ]
    },
    {
     "name": "stderr",
     "output_type": "stream",
     "text": [
      "100%|██████████| 8/8 [00:01<00:00,  6.46it/s]\n",
      " 50%|█████     | 1/2 [00:00<00:00,  6.04it/s]"
     ]
    },
    {
     "name": "stdout",
     "output_type": "stream",
     "text": [
      "724 (465, 7)\n"
     ]
    },
    {
     "name": "stderr",
     "output_type": "stream",
     "text": [
      "100%|██████████| 2/2 [00:00<00:00,  6.52it/s]\n",
      " 14%|█▍        | 1/7 [00:00<00:00,  6.17it/s]"
     ]
    },
    {
     "name": "stdout",
     "output_type": "stream",
     "text": [
      "725 (1594, 7)\n"
     ]
    },
    {
     "name": "stderr",
     "output_type": "stream",
     "text": [
      "100%|██████████| 7/7 [00:01<00:00,  6.45it/s]\n",
      " 50%|█████     | 1/2 [00:00<00:00,  5.99it/s]"
     ]
    },
    {
     "name": "stdout",
     "output_type": "stream",
     "text": [
      "726 (384, 7)\n"
     ]
    },
    {
     "name": "stderr",
     "output_type": "stream",
     "text": [
      "100%|██████████| 2/2 [00:00<00:00,  7.28it/s]\n",
      " 14%|█▍        | 1/7 [00:00<00:01,  5.64it/s]"
     ]
    },
    {
     "name": "stdout",
     "output_type": "stream",
     "text": [
      "727 (1602, 7)\n"
     ]
    },
    {
     "name": "stderr",
     "output_type": "stream",
     "text": [
      "100%|██████████| 7/7 [00:01<00:00,  6.23it/s]\n",
      " 11%|█         | 1/9 [00:00<00:01,  6.03it/s]"
     ]
    },
    {
     "name": "stdout",
     "output_type": "stream",
     "text": [
      "728 (2293, 7)\n"
     ]
    },
    {
     "name": "stderr",
     "output_type": "stream",
     "text": [
      "100%|██████████| 9/9 [00:01<00:00,  5.94it/s]\n",
      "  8%|▊         | 1/13 [00:00<00:02,  5.75it/s]"
     ]
    },
    {
     "name": "stdout",
     "output_type": "stream",
     "text": [
      "729 (3147, 7)\n"
     ]
    },
    {
     "name": "stderr",
     "output_type": "stream",
     "text": [
      "100%|██████████| 13/13 [00:02<00:00,  6.01it/s]\n",
      " 50%|█████     | 1/2 [00:00<00:00,  5.52it/s]"
     ]
    },
    {
     "name": "stdout",
     "output_type": "stream",
     "text": [
      "730 (364, 7)\n"
     ]
    },
    {
     "name": "stderr",
     "output_type": "stream",
     "text": [
      "100%|██████████| 2/2 [00:00<00:00,  6.80it/s]\n",
      "  6%|▌         | 1/17 [00:00<00:02,  5.74it/s]"
     ]
    },
    {
     "name": "stdout",
     "output_type": "stream",
     "text": [
      "731 (4146, 7)\n"
     ]
    },
    {
     "name": "stderr",
     "output_type": "stream",
     "text": [
      "100%|██████████| 17/17 [00:02<00:00,  5.95it/s]\n",
      "  3%|▎         | 1/37 [00:00<00:05,  6.02it/s]"
     ]
    },
    {
     "name": "stdout",
     "output_type": "stream",
     "text": [
      "732 (9237, 7)\n"
     ]
    },
    {
     "name": "stderr",
     "output_type": "stream",
     "text": [
      "100%|██████████| 37/37 [00:06<00:00,  5.90it/s]\n",
      " 12%|█▎        | 1/8 [00:00<00:01,  5.97it/s]"
     ]
    },
    {
     "name": "stdout",
     "output_type": "stream",
     "text": [
      "733 (1934, 7)\n"
     ]
    },
    {
     "name": "stderr",
     "output_type": "stream",
     "text": [
      "100%|██████████| 8/8 [00:01<00:00,  6.11it/s]\n",
      " 11%|█         | 1/9 [00:00<00:01,  5.42it/s]"
     ]
    },
    {
     "name": "stdout",
     "output_type": "stream",
     "text": [
      "734 (2301, 7)\n"
     ]
    },
    {
     "name": "stderr",
     "output_type": "stream",
     "text": [
      "100%|██████████| 9/9 [00:01<00:00,  5.46it/s]\n",
      "100%|██████████| 1/1 [00:00<00:00, 17.80it/s]\n",
      "  0%|          | 0/3 [00:00<?, ?it/s]"
     ]
    },
    {
     "name": "stdout",
     "output_type": "stream",
     "text": [
      "735 (4, 7)\n",
      "736 (710, 7)\n"
     ]
    },
    {
     "name": "stderr",
     "output_type": "stream",
     "text": [
      "100%|██████████| 3/3 [00:00<00:00,  5.95it/s]\n",
      "100%|██████████| 1/1 [00:00<00:00, 11.26it/s]\n",
      "  0%|          | 0/3 [00:00<?, ?it/s]"
     ]
    },
    {
     "name": "stdout",
     "output_type": "stream",
     "text": [
      "737 (68, 7)\n",
      "738 (673, 7)\n"
     ]
    },
    {
     "name": "stderr",
     "output_type": "stream",
     "text": [
      "100%|██████████| 3/3 [00:00<00:00,  6.17it/s]\n",
      " 50%|█████     | 1/2 [00:00<00:00,  5.89it/s]"
     ]
    },
    {
     "name": "stdout",
     "output_type": "stream",
     "text": [
      "739 (316, 7)\n"
     ]
    },
    {
     "name": "stderr",
     "output_type": "stream",
     "text": [
      "100%|██████████| 2/2 [00:00<00:00,  7.90it/s]\n",
      "100%|██████████| 1/1 [00:00<00:00,  6.25it/s]\n",
      "  0%|          | 0/1 [00:00<?, ?it/s]"
     ]
    },
    {
     "name": "stdout",
     "output_type": "stream",
     "text": [
      "740 (199, 7)\n",
      "741 (166, 7)\n"
     ]
    },
    {
     "name": "stderr",
     "output_type": "stream",
     "text": [
      "100%|██████████| 1/1 [00:00<00:00,  6.97it/s]\n",
      "100%|██████████| 1/1 [00:00<00:00,  7.64it/s]\n",
      "0it [00:00, ?it/s]\n",
      "  0%|          | 0/4 [00:00<?, ?it/s]"
     ]
    },
    {
     "name": "stdout",
     "output_type": "stream",
     "text": [
      "742 (142, 7)\n",
      "743 (0, 1)\n",
      "744 (813, 7)\n"
     ]
    },
    {
     "name": "stderr",
     "output_type": "stream",
     "text": [
      "100%|██████████| 4/4 [00:00<00:00,  6.21it/s]\n",
      "  2%|▏         | 1/49 [00:00<00:07,  6.03it/s]"
     ]
    },
    {
     "name": "stdout",
     "output_type": "stream",
     "text": [
      "745 (12311, 7)\n"
     ]
    },
    {
     "name": "stderr",
     "output_type": "stream",
     "text": [
      "100%|██████████| 49/49 [00:08<00:00,  5.97it/s]\n",
      " 33%|███▎      | 1/3 [00:00<00:00,  5.99it/s]"
     ]
    },
    {
     "name": "stdout",
     "output_type": "stream",
     "text": [
      "746 (695, 7)\n"
     ]
    },
    {
     "name": "stderr",
     "output_type": "stream",
     "text": [
      "100%|██████████| 3/3 [00:00<00:00,  6.32it/s]\n",
      "100%|██████████| 1/1 [00:00<00:00,  8.47it/s]\n",
      "  0%|          | 0/17 [00:00<?, ?it/s]"
     ]
    },
    {
     "name": "stdout",
     "output_type": "stream",
     "text": [
      "747 (142, 7)\n",
      "748 (4331, 7)\n"
     ]
    },
    {
     "name": "stderr",
     "output_type": "stream",
     "text": [
      "100%|██████████| 17/17 [00:02<00:00,  5.90it/s]\n",
      " 33%|███▎      | 1/3 [00:00<00:00,  5.81it/s]"
     ]
    },
    {
     "name": "stdout",
     "output_type": "stream",
     "text": [
      "749 (514, 7)\n"
     ]
    },
    {
     "name": "stderr",
     "output_type": "stream",
     "text": [
      "100%|██████████| 3/3 [00:00<00:00,  7.47it/s]\n",
      " 14%|█▍        | 1/7 [00:00<00:01,  5.82it/s]"
     ]
    },
    {
     "name": "stdout",
     "output_type": "stream",
     "text": [
      "750 (1710, 7)\n"
     ]
    },
    {
     "name": "stderr",
     "output_type": "stream",
     "text": [
      "100%|██████████| 7/7 [00:01<00:00,  5.99it/s]\n",
      "100%|██████████| 1/1 [00:00<00:00, 10.49it/s]\n",
      "  0%|          | 0/8 [00:00<?, ?it/s]"
     ]
    },
    {
     "name": "stdout",
     "output_type": "stream",
     "text": [
      "751 (93, 7)\n",
      "752 (1983, 7)\n"
     ]
    },
    {
     "name": "stderr",
     "output_type": "stream",
     "text": [
      "100%|██████████| 8/8 [00:01<00:00,  5.87it/s]\n",
      "  6%|▋         | 1/16 [00:00<00:02,  6.04it/s]"
     ]
    },
    {
     "name": "stdout",
     "output_type": "stream",
     "text": [
      "753 (4037, 7)\n"
     ]
    },
    {
     "name": "stderr",
     "output_type": "stream",
     "text": [
      "100%|██████████| 16/16 [00:02<00:00,  5.76it/s]\n",
      "  7%|▋         | 1/15 [00:00<00:02,  5.85it/s]"
     ]
    },
    {
     "name": "stdout",
     "output_type": "stream",
     "text": [
      "754 (3630, 7)\n"
     ]
    },
    {
     "name": "stderr",
     "output_type": "stream",
     "text": [
      "100%|██████████| 15/15 [00:02<00:00,  5.96it/s]\n",
      "100%|██████████| 1/1 [00:00<00:00,  5.96it/s]\n",
      "  0%|          | 0/1 [00:00<?, ?it/s]"
     ]
    },
    {
     "name": "stdout",
     "output_type": "stream",
     "text": [
      "755 (251, 7)\n",
      "756 (57, 7)\n"
     ]
    },
    {
     "name": "stderr",
     "output_type": "stream",
     "text": [
      "100%|██████████| 1/1 [00:00<00:00, 12.62it/s]\n",
      "100%|██████████| 1/1 [00:00<00:00, 11.40it/s]\n",
      "  0%|          | 0/8 [00:00<?, ?it/s]"
     ]
    },
    {
     "name": "stdout",
     "output_type": "stream",
     "text": [
      "757 (76, 7)\n",
      "758 (2043, 7)\n"
     ]
    },
    {
     "name": "stderr",
     "output_type": "stream",
     "text": [
      "100%|██████████| 8/8 [00:01<00:00,  5.85it/s]\n",
      "100%|██████████| 1/1 [00:00<00:00,  7.21it/s]\n",
      "  0%|          | 0/1 [00:00<?, ?it/s]"
     ]
    },
    {
     "name": "stdout",
     "output_type": "stream",
     "text": [
      "759 (164, 7)\n",
      "760 (61, 7)\n"
     ]
    },
    {
     "name": "stderr",
     "output_type": "stream",
     "text": [
      "100%|██████████| 1/1 [00:00<00:00, 11.05it/s]\n",
      "100%|██████████| 1/1 [00:00<00:00, 17.26it/s]\n",
      "100%|██████████| 1/1 [00:00<00:00, 13.59it/s]\n",
      "  0%|          | 0/23 [00:00<?, ?it/s]"
     ]
    },
    {
     "name": "stdout",
     "output_type": "stream",
     "text": [
      "761 (4, 7)\n",
      "762 (43, 7)\n",
      "763 (5850, 7)\n"
     ]
    },
    {
     "name": "stderr",
     "output_type": "stream",
     "text": [
      "100%|██████████| 23/23 [00:04<00:00,  5.75it/s]\n",
      " 25%|██▌       | 1/4 [00:00<00:00,  6.02it/s]"
     ]
    },
    {
     "name": "stdout",
     "output_type": "stream",
     "text": [
      "764 (782, 7)\n"
     ]
    },
    {
     "name": "stderr",
     "output_type": "stream",
     "text": [
      "100%|██████████| 4/4 [00:00<00:00,  7.11it/s]\n",
      "100%|██████████| 1/1 [00:00<00:00, 14.32it/s]\n",
      "  0%|          | 0/15 [00:00<?, ?it/s]"
     ]
    },
    {
     "name": "stdout",
     "output_type": "stream",
     "text": [
      "765 (36, 7)\n",
      "766 (3585, 7)\n"
     ]
    },
    {
     "name": "stderr",
     "output_type": "stream",
     "text": [
      "100%|██████████| 15/15 [00:02<00:00,  6.10it/s]\n",
      "  2%|▏         | 1/41 [00:00<00:06,  5.79it/s]"
     ]
    },
    {
     "name": "stdout",
     "output_type": "stream",
     "text": [
      "767 (10481, 7)\n"
     ]
    },
    {
     "name": "stderr",
     "output_type": "stream",
     "text": [
      "100%|██████████| 41/41 [00:07<00:00,  5.78it/s]\n",
      " 12%|█▎        | 1/8 [00:00<00:01,  5.97it/s]"
     ]
    },
    {
     "name": "stdout",
     "output_type": "stream",
     "text": [
      "768 (1979, 7)\n"
     ]
    },
    {
     "name": "stderr",
     "output_type": "stream",
     "text": [
      "100%|██████████| 8/8 [00:01<00:00,  6.09it/s]\n",
      " 33%|███▎      | 1/3 [00:00<00:00,  6.08it/s]"
     ]
    },
    {
     "name": "stdout",
     "output_type": "stream",
     "text": [
      "769 (556, 7)\n"
     ]
    },
    {
     "name": "stderr",
     "output_type": "stream",
     "text": [
      "100%|██████████| 3/3 [00:00<00:00,  7.40it/s]\n",
      "  6%|▋         | 1/16 [00:00<00:02,  5.52it/s]"
     ]
    },
    {
     "name": "stdout",
     "output_type": "stream",
     "text": [
      "770 (3983, 7)\n"
     ]
    },
    {
     "name": "stderr",
     "output_type": "stream",
     "text": [
      "100%|██████████| 16/16 [00:02<00:00,  5.74it/s]\n",
      "  6%|▌         | 1/18 [00:00<00:02,  6.00it/s]"
     ]
    },
    {
     "name": "stdout",
     "output_type": "stream",
     "text": [
      "771 (4521, 7)\n"
     ]
    },
    {
     "name": "stderr",
     "output_type": "stream",
     "text": [
      "100%|██████████| 18/18 [00:02<00:00,  6.01it/s]\n",
      "  2%|▏         | 1/43 [00:00<00:07,  5.63it/s]"
     ]
    },
    {
     "name": "stdout",
     "output_type": "stream",
     "text": [
      "772 (10943, 7)\n"
     ]
    },
    {
     "name": "stderr",
     "output_type": "stream",
     "text": [
      "100%|██████████| 43/43 [00:07<00:00,  5.66it/s]\n",
      " 50%|█████     | 1/2 [00:00<00:00,  5.73it/s]"
     ]
    },
    {
     "name": "stdout",
     "output_type": "stream",
     "text": [
      "773 (452, 7)\n"
     ]
    },
    {
     "name": "stderr",
     "output_type": "stream",
     "text": [
      "100%|██████████| 2/2 [00:00<00:00,  6.12it/s]\n",
      "100%|██████████| 1/1 [00:00<00:00, 10.92it/s]\n",
      "  0%|          | 0/4 [00:00<?, ?it/s]"
     ]
    },
    {
     "name": "stdout",
     "output_type": "stream",
     "text": [
      "774 (88, 7)\n",
      "775 (951, 7)\n"
     ]
    },
    {
     "name": "stderr",
     "output_type": "stream",
     "text": [
      "100%|██████████| 4/4 [00:00<00:00,  6.07it/s]\n",
      "100%|██████████| 1/1 [00:00<00:00, 10.02it/s]\n",
      "  0%|          | 0/8 [00:00<?, ?it/s]"
     ]
    },
    {
     "name": "stdout",
     "output_type": "stream",
     "text": [
      "776 (99, 7)\n",
      "777 (1858, 7)\n"
     ]
    },
    {
     "name": "stderr",
     "output_type": "stream",
     "text": [
      "100%|██████████| 8/8 [00:01<00:00,  6.09it/s]\n",
      "100%|██████████| 1/1 [00:00<00:00, 17.16it/s]\n",
      "100%|██████████| 1/1 [00:00<00:00, 13.13it/s]\n",
      "  0%|          | 0/3 [00:00<?, ?it/s]"
     ]
    },
    {
     "name": "stdout",
     "output_type": "stream",
     "text": [
      "778 (17, 7)\n",
      "779 (52, 7)\n",
      "780 (708, 7)\n"
     ]
    },
    {
     "name": "stderr",
     "output_type": "stream",
     "text": [
      "100%|██████████| 3/3 [00:00<00:00,  6.14it/s]\n",
      " 50%|█████     | 1/2 [00:00<00:00,  5.82it/s]"
     ]
    },
    {
     "name": "stdout",
     "output_type": "stream",
     "text": [
      "781 (293, 7)\n"
     ]
    },
    {
     "name": "stderr",
     "output_type": "stream",
     "text": [
      "100%|██████████| 2/2 [00:00<00:00,  8.29it/s]\n",
      " 25%|██▌       | 1/4 [00:00<00:00,  5.80it/s]"
     ]
    },
    {
     "name": "stdout",
     "output_type": "stream",
     "text": [
      "782 (812, 7)\n"
     ]
    },
    {
     "name": "stderr",
     "output_type": "stream",
     "text": [
      "100%|██████████| 4/4 [00:00<00:00,  6.70it/s]\n",
      "  4%|▍         | 1/25 [00:00<00:04,  5.70it/s]"
     ]
    },
    {
     "name": "stdout",
     "output_type": "stream",
     "text": [
      "783 (6199, 7)\n"
     ]
    },
    {
     "name": "stderr",
     "output_type": "stream",
     "text": [
      "100%|██████████| 25/25 [00:04<00:00,  5.96it/s]\n",
      "100%|██████████| 1/1 [00:00<00:00, 17.70it/s]\n",
      "100%|██████████| 1/1 [00:00<00:00, 13.61it/s]\n",
      "  0%|          | 0/14 [00:00<?, ?it/s]"
     ]
    },
    {
     "name": "stdout",
     "output_type": "stream",
     "text": [
      "784 (6, 7)\n",
      "785 (44, 7)\n",
      "786 (3446, 7)\n"
     ]
    },
    {
     "name": "stderr",
     "output_type": "stream",
     "text": [
      "100%|██████████| 14/14 [00:02<00:00,  5.86it/s]\n",
      "  5%|▌         | 1/19 [00:00<00:03,  5.63it/s]"
     ]
    },
    {
     "name": "stdout",
     "output_type": "stream",
     "text": [
      "787 (4749, 7)\n"
     ]
    },
    {
     "name": "stderr",
     "output_type": "stream",
     "text": [
      "100%|██████████| 19/19 [00:03<00:00,  5.93it/s]\n",
      "  9%|▉         | 1/11 [00:00<00:01,  6.03it/s]"
     ]
    },
    {
     "name": "stdout",
     "output_type": "stream",
     "text": [
      "788 (2586, 7)\n"
     ]
    },
    {
     "name": "stderr",
     "output_type": "stream",
     "text": [
      "100%|██████████| 11/11 [00:01<00:00,  6.11it/s]\n",
      "  7%|▋         | 1/14 [00:00<00:02,  6.04it/s]"
     ]
    },
    {
     "name": "stdout",
     "output_type": "stream",
     "text": [
      "789 (3483, 7)\n"
     ]
    },
    {
     "name": "stderr",
     "output_type": "stream",
     "text": [
      "100%|██████████| 14/14 [00:02<00:00,  6.05it/s]\n",
      "  9%|▉         | 1/11 [00:00<00:01,  5.98it/s]"
     ]
    },
    {
     "name": "stdout",
     "output_type": "stream",
     "text": [
      "790 (2793, 7)\n"
     ]
    },
    {
     "name": "stderr",
     "output_type": "stream",
     "text": [
      "100%|██████████| 11/11 [00:01<00:00,  5.93it/s]\n",
      "100%|██████████| 1/1 [00:00<00:00,  7.54it/s]\n",
      "  0%|          | 0/1 [00:00<?, ?it/s]"
     ]
    },
    {
     "name": "stdout",
     "output_type": "stream",
     "text": [
      "791 (163, 7)\n",
      "792 (7, 7)\n"
     ]
    },
    {
     "name": "stderr",
     "output_type": "stream",
     "text": [
      "100%|██████████| 1/1 [00:00<00:00, 17.50it/s]\n",
      " 20%|██        | 1/5 [00:00<00:00,  5.85it/s]"
     ]
    },
    {
     "name": "stdout",
     "output_type": "stream",
     "text": [
      "793 (1271, 7)\n"
     ]
    },
    {
     "name": "stderr",
     "output_type": "stream",
     "text": [
      "100%|██████████| 5/5 [00:00<00:00,  5.79it/s]\n",
      " 17%|█▋        | 1/6 [00:00<00:00,  5.78it/s]"
     ]
    },
    {
     "name": "stdout",
     "output_type": "stream",
     "text": [
      "794 (1363, 7)\n"
     ]
    },
    {
     "name": "stderr",
     "output_type": "stream",
     "text": [
      "100%|██████████| 6/6 [00:00<00:00,  6.29it/s]\n",
      " 14%|█▍        | 1/7 [00:00<00:01,  5.55it/s]"
     ]
    },
    {
     "name": "stdout",
     "output_type": "stream",
     "text": [
      "795 (1777, 7)\n"
     ]
    },
    {
     "name": "stderr",
     "output_type": "stream",
     "text": [
      "100%|██████████| 7/7 [00:01<00:00,  5.68it/s]\n",
      "100%|██████████| 1/1 [00:00<00:00, 10.27it/s]\n",
      "  0%|          | 0/5 [00:00<?, ?it/s]"
     ]
    },
    {
     "name": "stdout",
     "output_type": "stream",
     "text": [
      "796 (97, 7)\n",
      "797 (1184, 7)\n"
     ]
    },
    {
     "name": "stderr",
     "output_type": "stream",
     "text": [
      "100%|██████████| 5/5 [00:00<00:00,  5.97it/s]\n",
      "  6%|▌         | 1/18 [00:00<00:03,  5.49it/s]"
     ]
    },
    {
     "name": "stdout",
     "output_type": "stream",
     "text": [
      "798 (4600, 7)\n"
     ]
    },
    {
     "name": "stderr",
     "output_type": "stream",
     "text": [
      "100%|██████████| 18/18 [00:03<00:00,  5.66it/s]\n",
      " 50%|█████     | 1/2 [00:00<00:00,  5.80it/s]"
     ]
    },
    {
     "name": "stdout",
     "output_type": "stream",
     "text": [
      "799 (257, 7)\n"
     ]
    },
    {
     "name": "stderr",
     "output_type": "stream",
     "text": [
      "100%|██████████| 2/2 [00:00<00:00,  8.82it/s]\n",
      " 25%|██▌       | 1/4 [00:00<00:00,  5.65it/s]"
     ]
    },
    {
     "name": "stdout",
     "output_type": "stream",
     "text": [
      "800 (799, 7)\n"
     ]
    },
    {
     "name": "stderr",
     "output_type": "stream",
     "text": [
      "100%|██████████| 4/4 [00:00<00:00,  6.76it/s]\n",
      " 10%|█         | 1/10 [00:00<00:01,  5.81it/s]"
     ]
    },
    {
     "name": "stdout",
     "output_type": "stream",
     "text": [
      "801 (2371, 7)\n"
     ]
    },
    {
     "name": "stderr",
     "output_type": "stream",
     "text": [
      "100%|██████████| 10/10 [00:01<00:00,  6.19it/s]\n",
      " 12%|█▎        | 1/8 [00:00<00:01,  5.61it/s]"
     ]
    },
    {
     "name": "stdout",
     "output_type": "stream",
     "text": [
      "802 (2011, 7)\n"
     ]
    },
    {
     "name": "stderr",
     "output_type": "stream",
     "text": [
      "100%|██████████| 8/8 [00:01<00:00,  5.85it/s]\n",
      "  3%|▎         | 1/38 [00:00<00:06,  5.68it/s]"
     ]
    },
    {
     "name": "stdout",
     "output_type": "stream",
     "text": [
      "803 (9501, 7)\n"
     ]
    },
    {
     "name": "stderr",
     "output_type": "stream",
     "text": [
      "100%|██████████| 38/38 [00:06<00:00,  5.84it/s]\n",
      "  9%|▉         | 1/11 [00:00<00:01,  5.99it/s]"
     ]
    },
    {
     "name": "stdout",
     "output_type": "stream",
     "text": [
      "804 (2573, 7)\n"
     ]
    },
    {
     "name": "stderr",
     "output_type": "stream",
     "text": [
      "100%|██████████| 11/11 [00:01<00:00,  6.29it/s]\n",
      "100%|██████████| 1/1 [00:00<00:00,  6.27it/s]\n",
      "  0%|          | 0/11 [00:00<?, ?it/s]"
     ]
    },
    {
     "name": "stdout",
     "output_type": "stream",
     "text": [
      "805 (218, 7)\n",
      "806 (2658, 7)\n"
     ]
    },
    {
     "name": "stderr",
     "output_type": "stream",
     "text": [
      "100%|██████████| 11/11 [00:01<00:00,  5.74it/s]\n",
      " 50%|█████     | 1/2 [00:00<00:00,  5.65it/s]"
     ]
    },
    {
     "name": "stdout",
     "output_type": "stream",
     "text": [
      "807 (510, 7)\n"
     ]
    },
    {
     "name": "stderr",
     "output_type": "stream",
     "text": [
      "100%|██████████| 2/2 [00:00<00:00,  5.73it/s]\n",
      "  2%|▏         | 1/63 [00:00<00:10,  5.82it/s]"
     ]
    },
    {
     "name": "stdout",
     "output_type": "stream",
     "text": [
      "808 (16044, 7)\n"
     ]
    },
    {
     "name": "stderr",
     "output_type": "stream",
     "text": [
      "100%|██████████| 63/63 [00:10<00:00,  5.87it/s]\n",
      "100%|██████████| 1/1 [00:00<00:00, 12.84it/s]\n",
      "  0%|          | 0/10 [00:00<?, ?it/s]"
     ]
    },
    {
     "name": "stdout",
     "output_type": "stream",
     "text": [
      "809 (62, 7)\n",
      "810 (2448, 7)\n"
     ]
    },
    {
     "name": "stderr",
     "output_type": "stream",
     "text": [
      "100%|██████████| 10/10 [00:01<00:00,  6.25it/s]\n",
      "  7%|▋         | 1/15 [00:00<00:02,  5.98it/s]"
     ]
    },
    {
     "name": "stdout",
     "output_type": "stream",
     "text": [
      "811 (3642, 7)\n"
     ]
    },
    {
     "name": "stderr",
     "output_type": "stream",
     "text": [
      "100%|██████████| 15/15 [00:02<00:00,  6.09it/s]\n",
      "100%|██████████| 1/1 [00:00<00:00, 14.16it/s]\n",
      "  0%|          | 0/8 [00:00<?, ?it/s]"
     ]
    },
    {
     "name": "stdout",
     "output_type": "stream",
     "text": [
      "812 (32, 7)\n",
      "813 (1848, 7)\n"
     ]
    },
    {
     "name": "stderr",
     "output_type": "stream",
     "text": [
      "100%|██████████| 8/8 [00:01<00:00,  6.25it/s]\n",
      "  8%|▊         | 1/13 [00:00<00:02,  5.90it/s]"
     ]
    },
    {
     "name": "stdout",
     "output_type": "stream",
     "text": [
      "814 (3262, 7)\n"
     ]
    },
    {
     "name": "stderr",
     "output_type": "stream",
     "text": [
      "100%|██████████| 13/13 [00:02<00:00,  5.88it/s]\n",
      "100%|██████████| 1/1 [00:00<00:00,  7.05it/s]\n",
      "  0%|          | 0/8 [00:00<?, ?it/s]"
     ]
    },
    {
     "name": "stdout",
     "output_type": "stream",
     "text": [
      "815 (191, 7)\n",
      "816 (1858, 7)\n"
     ]
    },
    {
     "name": "stderr",
     "output_type": "stream",
     "text": [
      "100%|██████████| 8/8 [00:01<00:00,  6.23it/s]\n",
      "100%|██████████| 1/1 [00:00<00:00,  6.68it/s]\n",
      "  0%|          | 0/1 [00:00<?, ?it/s]"
     ]
    },
    {
     "name": "stdout",
     "output_type": "stream",
     "text": [
      "817 (217, 7)\n",
      "818 (10, 7)\n"
     ]
    },
    {
     "name": "stderr",
     "output_type": "stream",
     "text": [
      "100%|██████████| 1/1 [00:00<00:00, 17.67it/s]\n",
      "100%|██████████| 1/1 [00:00<00:00, 18.08it/s]\n",
      "  0%|          | 0/2 [00:00<?, ?it/s]"
     ]
    },
    {
     "name": "stdout",
     "output_type": "stream",
     "text": [
      "819 (10, 7)\n",
      "820 (453, 7)\n"
     ]
    },
    {
     "name": "stderr",
     "output_type": "stream",
     "text": [
      "100%|██████████| 2/2 [00:00<00:00,  6.05it/s]\n",
      " 50%|█████     | 1/2 [00:00<00:00,  5.71it/s]"
     ]
    },
    {
     "name": "stdout",
     "output_type": "stream",
     "text": [
      "821 (395, 7)\n"
     ]
    },
    {
     "name": "stderr",
     "output_type": "stream",
     "text": [
      "100%|██████████| 2/2 [00:00<00:00,  6.62it/s]\n",
      "  4%|▍         | 1/25 [00:00<00:04,  5.52it/s]"
     ]
    },
    {
     "name": "stdout",
     "output_type": "stream",
     "text": [
      "822 (6370, 7)\n"
     ]
    },
    {
     "name": "stderr",
     "output_type": "stream",
     "text": [
      "100%|██████████| 25/25 [00:04<00:00,  5.64it/s]\n",
      " 25%|██▌       | 1/4 [00:00<00:00,  5.79it/s]"
     ]
    },
    {
     "name": "stdout",
     "output_type": "stream",
     "text": [
      "823 (1023, 7)\n"
     ]
    },
    {
     "name": "stderr",
     "output_type": "stream",
     "text": [
      "100%|██████████| 4/4 [00:00<00:00,  5.76it/s]\n",
      "  4%|▍         | 1/26 [00:00<00:04,  6.00it/s]"
     ]
    },
    {
     "name": "stdout",
     "output_type": "stream",
     "text": [
      "824 (6560, 7)\n"
     ]
    },
    {
     "name": "stderr",
     "output_type": "stream",
     "text": [
      "100%|██████████| 26/26 [00:04<00:00,  5.83it/s]\n",
      " 25%|██▌       | 1/4 [00:00<00:00,  5.79it/s]"
     ]
    },
    {
     "name": "stdout",
     "output_type": "stream",
     "text": [
      "825 (988, 7)\n"
     ]
    },
    {
     "name": "stderr",
     "output_type": "stream",
     "text": [
      "100%|██████████| 4/4 [00:00<00:00,  5.85it/s]\n",
      "100%|██████████| 1/1 [00:00<00:00, 17.17it/s]\n",
      "  0%|          | 0/2 [00:00<?, ?it/s]"
     ]
    },
    {
     "name": "stdout",
     "output_type": "stream",
     "text": [
      "826 (5, 7)\n",
      "827 (299, 7)\n"
     ]
    },
    {
     "name": "stderr",
     "output_type": "stream",
     "text": [
      "100%|██████████| 2/2 [00:00<00:00,  7.90it/s]\n",
      "  1%|          | 1/152 [00:00<00:26,  5.80it/s]"
     ]
    },
    {
     "name": "stdout",
     "output_type": "stream",
     "text": [
      "828 (38681, 7)\n"
     ]
    },
    {
     "name": "stderr",
     "output_type": "stream",
     "text": [
      "100%|██████████| 152/152 [00:26<00:00,  5.80it/s]\n",
      " 17%|█▋        | 1/6 [00:00<00:00,  5.99it/s]"
     ]
    },
    {
     "name": "stdout",
     "output_type": "stream",
     "text": [
      "829 (1506, 7)\n"
     ]
    },
    {
     "name": "stderr",
     "output_type": "stream",
     "text": [
      "100%|██████████| 6/6 [00:01<00:00,  5.99it/s]\n",
      "  1%|          | 1/87 [00:00<00:14,  5.99it/s]"
     ]
    },
    {
     "name": "stdout",
     "output_type": "stream",
     "text": [
      "830 (22097, 7)\n"
     ]
    },
    {
     "name": "stderr",
     "output_type": "stream",
     "text": [
      "100%|██████████| 87/87 [00:14<00:00,  5.86it/s]\n",
      "  5%|▌         | 1/19 [00:00<00:02,  6.02it/s]"
     ]
    },
    {
     "name": "stdout",
     "output_type": "stream",
     "text": [
      "831 (4665, 7)\n"
     ]
    },
    {
     "name": "stderr",
     "output_type": "stream",
     "text": [
      "100%|██████████| 19/19 [00:03<00:00,  5.85it/s]\n",
      " 50%|█████     | 1/2 [00:00<00:00,  5.59it/s]"
     ]
    },
    {
     "name": "stdout",
     "output_type": "stream",
     "text": [
      "832 (405, 7)\n"
     ]
    },
    {
     "name": "stderr",
     "output_type": "stream",
     "text": [
      "100%|██████████| 2/2 [00:00<00:00,  6.42it/s]\n",
      " 11%|█         | 1/9 [00:00<00:01,  5.51it/s]"
     ]
    },
    {
     "name": "stdout",
     "output_type": "stream",
     "text": [
      "833 (2210, 7)\n"
     ]
    },
    {
     "name": "stderr",
     "output_type": "stream",
     "text": [
      "100%|██████████| 9/9 [00:01<00:00,  5.74it/s]\n",
      "  7%|▋         | 1/14 [00:00<00:02,  5.85it/s]"
     ]
    },
    {
     "name": "stdout",
     "output_type": "stream",
     "text": [
      "834 (3506, 7)\n"
     ]
    },
    {
     "name": "stderr",
     "output_type": "stream",
     "text": [
      "100%|██████████| 14/14 [00:02<00:00,  5.94it/s]\n",
      "100%|██████████| 1/1 [00:00<00:00,  6.16it/s]\n",
      "  0%|          | 0/3 [00:00<?, ?it/s]"
     ]
    },
    {
     "name": "stdout",
     "output_type": "stream",
     "text": [
      "835 (247, 7)\n",
      "836 (696, 7)\n"
     ]
    },
    {
     "name": "stderr",
     "output_type": "stream",
     "text": [
      "100%|██████████| 3/3 [00:00<00:00,  6.31it/s]\n",
      "  9%|▉         | 1/11 [00:00<00:01,  5.65it/s]"
     ]
    },
    {
     "name": "stdout",
     "output_type": "stream",
     "text": [
      "837 (2748, 7)\n"
     ]
    },
    {
     "name": "stderr",
     "output_type": "stream",
     "text": [
      "100%|██████████| 11/11 [00:01<00:00,  5.82it/s]\n",
      " 33%|███▎      | 1/3 [00:00<00:00,  5.88it/s]"
     ]
    },
    {
     "name": "stdout",
     "output_type": "stream",
     "text": [
      "838 (662, 7)\n"
     ]
    },
    {
     "name": "stderr",
     "output_type": "stream",
     "text": [
      "100%|██████████| 3/3 [00:00<00:00,  6.37it/s]\n",
      " 50%|█████     | 1/2 [00:00<00:00,  5.89it/s]"
     ]
    },
    {
     "name": "stdout",
     "output_type": "stream",
     "text": [
      "839 (433, 7)\n"
     ]
    },
    {
     "name": "stderr",
     "output_type": "stream",
     "text": [
      "100%|██████████| 2/2 [00:00<00:00,  6.57it/s]\n",
      " 20%|██        | 1/5 [00:00<00:00,  5.87it/s]"
     ]
    },
    {
     "name": "stdout",
     "output_type": "stream",
     "text": [
      "840 (1144, 7)\n"
     ]
    },
    {
     "name": "stderr",
     "output_type": "stream",
     "text": [
      "100%|██████████| 5/5 [00:00<00:00,  6.42it/s]\n",
      " 11%|█         | 1/9 [00:00<00:01,  6.00it/s]"
     ]
    },
    {
     "name": "stdout",
     "output_type": "stream",
     "text": [
      "841 (2263, 7)\n"
     ]
    },
    {
     "name": "stderr",
     "output_type": "stream",
     "text": [
      "100%|██████████| 9/9 [00:01<00:00,  5.95it/s]\n",
      "  8%|▊         | 1/12 [00:00<00:01,  5.93it/s]"
     ]
    },
    {
     "name": "stdout",
     "output_type": "stream",
     "text": [
      "842 (2832, 7)\n"
     ]
    },
    {
     "name": "stderr",
     "output_type": "stream",
     "text": [
      "100%|██████████| 12/12 [00:01<00:00,  6.20it/s]\n",
      "  3%|▎         | 1/37 [00:00<00:06,  5.97it/s]"
     ]
    },
    {
     "name": "stdout",
     "output_type": "stream",
     "text": [
      "843 (9376, 7)\n"
     ]
    },
    {
     "name": "stderr",
     "output_type": "stream",
     "text": [
      "100%|██████████| 37/37 [00:06<00:00,  5.84it/s]\n",
      " 20%|██        | 1/5 [00:00<00:00,  5.75it/s]"
     ]
    },
    {
     "name": "stdout",
     "output_type": "stream",
     "text": [
      "844 (1171, 7)\n"
     ]
    },
    {
     "name": "stderr",
     "output_type": "stream",
     "text": [
      "100%|██████████| 5/5 [00:00<00:00,  6.02it/s]\n",
      " 12%|█▎        | 1/8 [00:00<00:01,  5.80it/s]"
     ]
    },
    {
     "name": "stdout",
     "output_type": "stream",
     "text": [
      "845 (1817, 7)\n"
     ]
    },
    {
     "name": "stderr",
     "output_type": "stream",
     "text": [
      "100%|██████████| 8/8 [00:01<00:00,  5.97it/s]\n",
      "  3%|▎         | 1/33 [00:00<00:05,  5.69it/s]"
     ]
    },
    {
     "name": "stdout",
     "output_type": "stream",
     "text": [
      "846 (8232, 7)\n"
     ]
    },
    {
     "name": "stderr",
     "output_type": "stream",
     "text": [
      "100%|██████████| 33/33 [00:05<00:00,  5.62it/s]\n",
      " 33%|███▎      | 1/3 [00:00<00:00,  5.88it/s]"
     ]
    },
    {
     "name": "stdout",
     "output_type": "stream",
     "text": [
      "847 (565, 7)\n"
     ]
    },
    {
     "name": "stderr",
     "output_type": "stream",
     "text": [
      "100%|██████████| 3/3 [00:00<00:00,  7.10it/s]\n",
      "  8%|▊         | 1/13 [00:00<00:02,  5.98it/s]"
     ]
    },
    {
     "name": "stdout",
     "output_type": "stream",
     "text": [
      "848 (3075, 7)\n"
     ]
    },
    {
     "name": "stderr",
     "output_type": "stream",
     "text": [
      "100%|██████████| 13/13 [00:02<00:00,  6.33it/s]\n",
      " 10%|█         | 1/10 [00:00<00:01,  6.07it/s]"
     ]
    },
    {
     "name": "stdout",
     "output_type": "stream",
     "text": [
      "849 (2486, 7)\n"
     ]
    },
    {
     "name": "stderr",
     "output_type": "stream",
     "text": [
      "100%|██████████| 10/10 [00:01<00:00,  6.11it/s]\n",
      " 25%|██▌       | 1/4 [00:00<00:00,  6.01it/s]"
     ]
    },
    {
     "name": "stdout",
     "output_type": "stream",
     "text": [
      "850 (947, 7)\n"
     ]
    },
    {
     "name": "stderr",
     "output_type": "stream",
     "text": [
      "100%|██████████| 4/4 [00:00<00:00,  6.35it/s]\n",
      "100%|██████████| 1/1 [00:00<00:00, 18.02it/s]\n",
      "  0%|          | 0/2 [00:00<?, ?it/s]"
     ]
    },
    {
     "name": "stdout",
     "output_type": "stream",
     "text": [
      "851 (7, 7)\n",
      "852 (412, 7)\n"
     ]
    },
    {
     "name": "stderr",
     "output_type": "stream",
     "text": [
      "100%|██████████| 2/2 [00:00<00:00,  6.75it/s]\n",
      "100%|██████████| 1/1 [00:00<00:00, 10.07it/s]\n",
      "  0%|          | 0/4 [00:00<?, ?it/s]"
     ]
    },
    {
     "name": "stdout",
     "output_type": "stream",
     "text": [
      "853 (90, 7)\n",
      "854 (954, 7)\n"
     ]
    },
    {
     "name": "stderr",
     "output_type": "stream",
     "text": [
      "100%|██████████| 4/4 [00:00<00:00,  6.05it/s]\n",
      " 50%|█████     | 1/2 [00:00<00:00,  5.74it/s]"
     ]
    },
    {
     "name": "stdout",
     "output_type": "stream",
     "text": [
      "855 (470, 7)\n"
     ]
    },
    {
     "name": "stderr",
     "output_type": "stream",
     "text": [
      "100%|██████████| 2/2 [00:00<00:00,  6.09it/s]\n",
      "  2%|▏         | 1/47 [00:00<00:07,  5.84it/s]"
     ]
    },
    {
     "name": "stdout",
     "output_type": "stream",
     "text": [
      "856 (12029, 7)\n"
     ]
    },
    {
     "name": "stderr",
     "output_type": "stream",
     "text": [
      "100%|██████████| 47/47 [00:08<00:00,  5.71it/s]\n",
      "  4%|▍         | 1/24 [00:00<00:04,  5.71it/s]"
     ]
    },
    {
     "name": "stdout",
     "output_type": "stream",
     "text": [
      "857 (5929, 7)\n"
     ]
    },
    {
     "name": "stderr",
     "output_type": "stream",
     "text": [
      "100%|██████████| 24/24 [00:04<00:00,  5.98it/s]\n",
      " 50%|█████     | 1/2 [00:00<00:00,  5.78it/s]"
     ]
    },
    {
     "name": "stdout",
     "output_type": "stream",
     "text": [
      "858 (362, 7)\n"
     ]
    },
    {
     "name": "stderr",
     "output_type": "stream",
     "text": [
      "100%|██████████| 2/2 [00:00<00:00,  7.00it/s]\n",
      "100%|██████████| 1/1 [00:00<00:00,  7.17it/s]\n",
      "  0%|          | 0/1 [00:00<?, ?it/s]"
     ]
    },
    {
     "name": "stdout",
     "output_type": "stream",
     "text": [
      "859 (155, 7)\n",
      "860 (59, 7)\n"
     ]
    },
    {
     "name": "stderr",
     "output_type": "stream",
     "text": [
      "100%|██████████| 1/1 [00:00<00:00, 12.13it/s]\n",
      " 14%|█▍        | 1/7 [00:00<00:01,  5.33it/s]"
     ]
    },
    {
     "name": "stdout",
     "output_type": "stream",
     "text": [
      "861 (1603, 7)\n"
     ]
    },
    {
     "name": "stderr",
     "output_type": "stream",
     "text": [
      "100%|██████████| 7/7 [00:01<00:00,  6.14it/s]\n",
      " 20%|██        | 1/5 [00:00<00:00,  5.93it/s]"
     ]
    },
    {
     "name": "stdout",
     "output_type": "stream",
     "text": [
      "862 (1145, 7)\n"
     ]
    },
    {
     "name": "stderr",
     "output_type": "stream",
     "text": [
      "100%|██████████| 5/5 [00:00<00:00,  6.26it/s]\n",
      "100%|██████████| 1/1 [00:00<00:00,  5.87it/s]"
     ]
    },
    {
     "name": "stdout",
     "output_type": "stream",
     "text": [
      "863 (231, 7)\n"
     ]
    },
    {
     "name": "stderr",
     "output_type": "stream",
     "text": [
      "\n",
      "  2%|▏         | 1/66 [00:00<00:11,  5.61it/s]"
     ]
    },
    {
     "name": "stdout",
     "output_type": "stream",
     "text": [
      "864 (16732, 7)\n"
     ]
    },
    {
     "name": "stderr",
     "output_type": "stream",
     "text": [
      "100%|██████████| 66/66 [00:11<00:00,  5.84it/s]\n",
      "100%|██████████| 1/1 [00:00<00:00, 18.46it/s]\n",
      "  0%|          | 0/10 [00:00<?, ?it/s]"
     ]
    },
    {
     "name": "stdout",
     "output_type": "stream",
     "text": [
      "865 (6, 7)\n",
      "866 (2371, 7)\n"
     ]
    },
    {
     "name": "stderr",
     "output_type": "stream",
     "text": [
      "100%|██████████| 10/10 [00:01<00:00,  6.23it/s]\n",
      "100%|██████████| 1/1 [00:00<00:00, 14.92it/s]\n",
      "  0%|          | 0/5 [00:00<?, ?it/s]"
     ]
    },
    {
     "name": "stdout",
     "output_type": "stream",
     "text": [
      "867 (20, 7)\n",
      "868 (1158, 7)\n"
     ]
    },
    {
     "name": "stderr",
     "output_type": "stream",
     "text": [
      "100%|██████████| 5/5 [00:00<00:00,  6.30it/s]\n",
      "  5%|▍         | 1/22 [00:00<00:03,  5.52it/s]"
     ]
    },
    {
     "name": "stdout",
     "output_type": "stream",
     "text": [
      "869 (5583, 7)\n"
     ]
    },
    {
     "name": "stderr",
     "output_type": "stream",
     "text": [
      "100%|██████████| 22/22 [00:03<00:00,  5.78it/s]\n",
      "100%|██████████| 1/1 [00:00<00:00, 19.33it/s]\n",
      "  0%|          | 0/13 [00:00<?, ?it/s]"
     ]
    },
    {
     "name": "stdout",
     "output_type": "stream",
     "text": [
      "870 (3, 7)\n",
      "871 (3266, 7)\n"
     ]
    },
    {
     "name": "stderr",
     "output_type": "stream",
     "text": [
      "100%|██████████| 13/13 [00:02<00:00,  5.99it/s]\n",
      " 33%|███▎      | 1/3 [00:00<00:00,  5.91it/s]"
     ]
    },
    {
     "name": "stdout",
     "output_type": "stream",
     "text": [
      "872 (736, 7)\n"
     ]
    },
    {
     "name": "stderr",
     "output_type": "stream",
     "text": [
      "100%|██████████| 3/3 [00:00<00:00,  5.99it/s]\n",
      "100%|██████████| 1/1 [00:00<00:00, 17.60it/s]\n",
      "  0%|          | 0/7 [00:00<?, ?it/s]"
     ]
    },
    {
     "name": "stdout",
     "output_type": "stream",
     "text": [
      "873 (9, 7)\n",
      "874 (1630, 7)\n"
     ]
    },
    {
     "name": "stderr",
     "output_type": "stream",
     "text": [
      "100%|██████████| 7/7 [00:01<00:00,  6.21it/s]\n",
      "100%|██████████| 1/1 [00:00<00:00, 13.28it/s]\n",
      "100%|██████████| 1/1 [00:00<00:00, 12.40it/s]\n",
      "  0%|          | 0/2 [00:00<?, ?it/s]"
     ]
    },
    {
     "name": "stdout",
     "output_type": "stream",
     "text": [
      "875 (56, 7)\n",
      "876 (63, 7)\n",
      "877 (467, 7)\n"
     ]
    },
    {
     "name": "stderr",
     "output_type": "stream",
     "text": [
      "100%|██████████| 2/2 [00:00<00:00,  6.17it/s]\n",
      "100%|██████████| 1/1 [00:00<00:00, 10.55it/s]\n",
      "  0%|          | 0/6 [00:00<?, ?it/s]"
     ]
    },
    {
     "name": "stdout",
     "output_type": "stream",
     "text": [
      "878 (93, 7)\n",
      "879 (1467, 7)\n"
     ]
    },
    {
     "name": "stderr",
     "output_type": "stream",
     "text": [
      "100%|██████████| 6/6 [00:01<00:00,  5.84it/s]\n",
      " 20%|██        | 1/5 [00:00<00:00,  5.90it/s]"
     ]
    },
    {
     "name": "stdout",
     "output_type": "stream",
     "text": [
      "880 (1087, 7)\n"
     ]
    },
    {
     "name": "stderr",
     "output_type": "stream",
     "text": [
      "100%|██████████| 5/5 [00:00<00:00,  6.33it/s]\n",
      " 17%|█▋        | 1/6 [00:00<00:00,  5.71it/s]"
     ]
    },
    {
     "name": "stdout",
     "output_type": "stream",
     "text": [
      "881 (1282, 7)\n"
     ]
    },
    {
     "name": "stderr",
     "output_type": "stream",
     "text": [
      "100%|██████████| 6/6 [00:00<00:00,  6.34it/s]\n",
      "100%|██████████| 1/1 [00:00<00:00,  9.50it/s]\n",
      "  0%|          | 0/1 [00:00<?, ?it/s]"
     ]
    },
    {
     "name": "stdout",
     "output_type": "stream",
     "text": [
      "882 (113, 7)\n",
      "883 (147, 7)\n"
     ]
    },
    {
     "name": "stderr",
     "output_type": "stream",
     "text": [
      "100%|██████████| 1/1 [00:00<00:00,  8.43it/s]\n",
      " 14%|█▍        | 1/7 [00:00<00:01,  5.59it/s]"
     ]
    },
    {
     "name": "stdout",
     "output_type": "stream",
     "text": [
      "884 (1575, 7)\n"
     ]
    },
    {
     "name": "stderr",
     "output_type": "stream",
     "text": [
      "100%|██████████| 7/7 [00:01<00:00,  6.31it/s]\n",
      "  7%|▋         | 1/14 [00:00<00:02,  5.96it/s]"
     ]
    },
    {
     "name": "stdout",
     "output_type": "stream",
     "text": [
      "885 (3524, 7)\n"
     ]
    },
    {
     "name": "stderr",
     "output_type": "stream",
     "text": [
      "100%|██████████| 14/14 [00:02<00:00,  5.76it/s]\n",
      "100%|██████████| 1/1 [00:00<00:00, 10.70it/s]\n",
      "  0%|          | 0/1 [00:00<?, ?it/s]"
     ]
    },
    {
     "name": "stdout",
     "output_type": "stream",
     "text": [
      "886 (82, 7)\n",
      "887 (147, 7)\n"
     ]
    },
    {
     "name": "stderr",
     "output_type": "stream",
     "text": [
      "100%|██████████| 1/1 [00:00<00:00,  7.96it/s]\n",
      "  9%|▉         | 1/11 [00:00<00:01,  6.11it/s]"
     ]
    },
    {
     "name": "stdout",
     "output_type": "stream",
     "text": [
      "888 (2803, 7)\n"
     ]
    },
    {
     "name": "stderr",
     "output_type": "stream",
     "text": [
      "100%|██████████| 11/11 [00:01<00:00,  5.91it/s]\n",
      " 33%|███▎      | 1/3 [00:00<00:00,  5.96it/s]"
     ]
    },
    {
     "name": "stdout",
     "output_type": "stream",
     "text": [
      "889 (634, 7)\n"
     ]
    },
    {
     "name": "stderr",
     "output_type": "stream",
     "text": [
      "100%|██████████| 3/3 [00:00<00:00,  6.66it/s]\n",
      " 33%|███▎      | 1/3 [00:00<00:00,  5.89it/s]"
     ]
    },
    {
     "name": "stdout",
     "output_type": "stream",
     "text": [
      "890 (706, 7)\n"
     ]
    },
    {
     "name": "stderr",
     "output_type": "stream",
     "text": [
      "100%|██████████| 3/3 [00:00<00:00,  6.16it/s]\n",
      "100%|██████████| 1/1 [00:00<00:00, 17.73it/s]\n",
      "  0%|          | 0/5 [00:00<?, ?it/s]"
     ]
    },
    {
     "name": "stdout",
     "output_type": "stream",
     "text": [
      "891 (11, 7)\n",
      "892 (1141, 7)\n"
     ]
    },
    {
     "name": "stderr",
     "output_type": "stream",
     "text": [
      "100%|██████████| 5/5 [00:00<00:00,  6.20it/s]\n",
      "100%|██████████| 1/1 [00:00<00:00,  9.26it/s]\n",
      "  0%|          | 0/13 [00:00<?, ?it/s]"
     ]
    },
    {
     "name": "stdout",
     "output_type": "stream",
     "text": [
      "893 (119, 7)\n",
      "894 (3087, 7)\n"
     ]
    },
    {
     "name": "stderr",
     "output_type": "stream",
     "text": [
      "100%|██████████| 13/13 [00:02<00:00,  5.81it/s]\n",
      "100%|██████████| 1/1 [00:00<00:00, 18.12it/s]\n",
      "  0%|          | 0/3 [00:00<?, ?it/s]"
     ]
    },
    {
     "name": "stdout",
     "output_type": "stream",
     "text": [
      "895 (5, 7)\n",
      "896 (635, 7)\n"
     ]
    },
    {
     "name": "stderr",
     "output_type": "stream",
     "text": [
      "100%|██████████| 3/3 [00:00<00:00,  6.43it/s]\n",
      "  5%|▌         | 1/20 [00:00<00:03,  5.52it/s]"
     ]
    },
    {
     "name": "stdout",
     "output_type": "stream",
     "text": [
      "897 (4983, 7)\n"
     ]
    },
    {
     "name": "stderr",
     "output_type": "stream",
     "text": [
      "100%|██████████| 20/20 [00:03<00:00,  5.73it/s]\n",
      " 25%|██▌       | 1/4 [00:00<00:00,  6.08it/s]"
     ]
    },
    {
     "name": "stdout",
     "output_type": "stream",
     "text": [
      "898 (806, 7)\n"
     ]
    },
    {
     "name": "stderr",
     "output_type": "stream",
     "text": [
      "100%|██████████| 4/4 [00:00<00:00,  6.83it/s]\n",
      " 17%|█▋        | 1/6 [00:00<00:00,  5.80it/s]"
     ]
    },
    {
     "name": "stdout",
     "output_type": "stream",
     "text": [
      "899 (1293, 7)\n"
     ]
    },
    {
     "name": "stderr",
     "output_type": "stream",
     "text": [
      "100%|██████████| 6/6 [00:00<00:00,  6.48it/s]\n",
      "  7%|▋         | 1/15 [00:00<00:02,  5.76it/s]"
     ]
    },
    {
     "name": "stdout",
     "output_type": "stream",
     "text": [
      "900 (3691, 7)\n"
     ]
    },
    {
     "name": "stderr",
     "output_type": "stream",
     "text": [
      "100%|██████████| 15/15 [00:02<00:00,  5.88it/s]\n",
      "100%|██████████| 1/1 [00:00<00:00,  5.65it/s]\n",
      "  0%|          | 0/11 [00:00<?, ?it/s]"
     ]
    },
    {
     "name": "stdout",
     "output_type": "stream",
     "text": [
      "901 (254, 7)\n",
      "902 (2809, 7)\n"
     ]
    },
    {
     "name": "stderr",
     "output_type": "stream",
     "text": [
      "100%|██████████| 11/11 [00:01<00:00,  5.73it/s]\n",
      "0it [00:00, ?it/s]\n",
      "  3%|▎         | 1/32 [00:00<00:05,  5.84it/s]"
     ]
    },
    {
     "name": "stdout",
     "output_type": "stream",
     "text": [
      "903 (0, 1)\n",
      "904 (8177, 7)\n"
     ]
    },
    {
     "name": "stderr",
     "output_type": "stream",
     "text": [
      "100%|██████████| 32/32 [00:05<00:00,  5.74it/s]\n",
      "100%|██████████| 1/1 [00:00<00:00, 18.77it/s]\n",
      "100%|██████████| 1/1 [00:00<00:00, 12.94it/s]\n",
      "  0%|          | 0/15 [00:00<?, ?it/s]"
     ]
    },
    {
     "name": "stdout",
     "output_type": "stream",
     "text": [
      "905 (2, 7)\n",
      "906 (60, 7)\n",
      "907 (3783, 7)\n"
     ]
    },
    {
     "name": "stderr",
     "output_type": "stream",
     "text": [
      "100%|██████████| 15/15 [00:02<00:00,  5.82it/s]\n",
      " 25%|██▌       | 1/4 [00:00<00:00,  5.94it/s]"
     ]
    },
    {
     "name": "stdout",
     "output_type": "stream",
     "text": [
      "908 (886, 7)\n"
     ]
    },
    {
     "name": "stderr",
     "output_type": "stream",
     "text": [
      "100%|██████████| 4/4 [00:00<00:00,  6.32it/s]\n",
      "  7%|▋         | 1/14 [00:00<00:02,  5.69it/s]"
     ]
    },
    {
     "name": "stdout",
     "output_type": "stream",
     "text": [
      "909 (3468, 7)\n"
     ]
    },
    {
     "name": "stderr",
     "output_type": "stream",
     "text": [
      "100%|██████████| 14/14 [00:02<00:00,  5.74it/s]\n",
      " 10%|█         | 1/10 [00:00<00:01,  5.86it/s]"
     ]
    },
    {
     "name": "stdout",
     "output_type": "stream",
     "text": [
      "910 (2355, 7)\n"
     ]
    },
    {
     "name": "stderr",
     "output_type": "stream",
     "text": [
      "100%|██████████| 10/10 [00:01<00:00,  6.04it/s]\n",
      "  8%|▊         | 1/12 [00:00<00:01,  5.87it/s]"
     ]
    },
    {
     "name": "stdout",
     "output_type": "stream",
     "text": [
      "911 (2955, 7)\n"
     ]
    },
    {
     "name": "stderr",
     "output_type": "stream",
     "text": [
      "100%|██████████| 12/12 [00:02<00:00,  5.85it/s]\n",
      " 12%|█▎        | 1/8 [00:00<00:01,  5.86it/s]"
     ]
    },
    {
     "name": "stdout",
     "output_type": "stream",
     "text": [
      "912 (1964, 7)\n"
     ]
    },
    {
     "name": "stderr",
     "output_type": "stream",
     "text": [
      "100%|██████████| 8/8 [00:01<00:00,  5.96it/s]\n",
      "  5%|▍         | 1/21 [00:00<00:03,  5.93it/s]"
     ]
    },
    {
     "name": "stdout",
     "output_type": "stream",
     "text": [
      "913 (5134, 7)\n"
     ]
    },
    {
     "name": "stderr",
     "output_type": "stream",
     "text": [
      "100%|██████████| 21/21 [00:03<00:00,  5.58it/s]\n",
      "  4%|▍         | 1/23 [00:00<00:04,  5.35it/s]"
     ]
    },
    {
     "name": "stdout",
     "output_type": "stream",
     "text": [
      "914 (5774, 7)\n"
     ]
    },
    {
     "name": "stderr",
     "output_type": "stream",
     "text": [
      "100%|██████████| 23/23 [00:04<00:00,  5.74it/s]\n",
      "100%|██████████| 1/1 [00:00<00:00, 10.44it/s]\n",
      "  0%|          | 0/14 [00:00<?, ?it/s]"
     ]
    },
    {
     "name": "stdout",
     "output_type": "stream",
     "text": [
      "915 (81, 7)\n",
      "916 (3478, 7)\n"
     ]
    },
    {
     "name": "stderr",
     "output_type": "stream",
     "text": [
      "100%|██████████| 14/14 [00:02<00:00,  5.97it/s]\n",
      " 12%|█▎        | 1/8 [00:00<00:01,  6.05it/s]"
     ]
    },
    {
     "name": "stdout",
     "output_type": "stream",
     "text": [
      "917 (1860, 7)\n"
     ]
    },
    {
     "name": "stderr",
     "output_type": "stream",
     "text": [
      "100%|██████████| 8/8 [00:01<00:00,  6.26it/s]\n",
      " 50%|█████     | 1/2 [00:00<00:00,  5.92it/s]"
     ]
    },
    {
     "name": "stdout",
     "output_type": "stream",
     "text": [
      "918 (457, 7)\n"
     ]
    },
    {
     "name": "stderr",
     "output_type": "stream",
     "text": [
      "100%|██████████| 2/2 [00:00<00:00,  6.31it/s]\n",
      "100%|██████████| 1/1 [00:00<00:00,  8.26it/s]\n",
      "  0%|          | 0/4 [00:00<?, ?it/s]"
     ]
    },
    {
     "name": "stdout",
     "output_type": "stream",
     "text": [
      "919 (138, 7)\n",
      "920 (970, 7)\n"
     ]
    },
    {
     "name": "stderr",
     "output_type": "stream",
     "text": [
      "100%|██████████| 4/4 [00:00<00:00,  6.12it/s]\n",
      " 50%|█████     | 1/2 [00:00<00:00,  5.86it/s]"
     ]
    },
    {
     "name": "stdout",
     "output_type": "stream",
     "text": [
      "921 (345, 7)\n"
     ]
    },
    {
     "name": "stderr",
     "output_type": "stream",
     "text": [
      "100%|██████████| 2/2 [00:00<00:00,  7.51it/s]\n",
      "100%|██████████| 1/1 [00:00<00:00,  5.44it/s]\n"
     ]
    },
    {
     "name": "stdout",
     "output_type": "stream",
     "text": [
      "922 (246, 7)\n"
     ]
    },
    {
     "name": "stderr",
     "output_type": "stream",
     "text": [
      " 10%|█         | 1/10 [00:00<00:01,  5.89it/s]"
     ]
    },
    {
     "name": "stdout",
     "output_type": "stream",
     "text": [
      "923 (2551, 7)\n"
     ]
    },
    {
     "name": "stderr",
     "output_type": "stream",
     "text": [
      "100%|██████████| 10/10 [00:01<00:00,  5.88it/s]\n",
      " 25%|██▌       | 1/4 [00:00<00:00,  5.93it/s]"
     ]
    },
    {
     "name": "stdout",
     "output_type": "stream",
     "text": [
      "924 (998, 7)\n"
     ]
    },
    {
     "name": "stderr",
     "output_type": "stream",
     "text": [
      "100%|██████████| 4/4 [00:00<00:00,  5.87it/s]\n",
      "100%|██████████| 1/1 [00:00<00:00,  6.55it/s]\n",
      "  0%|          | 0/3 [00:00<?, ?it/s]"
     ]
    },
    {
     "name": "stdout",
     "output_type": "stream",
     "text": [
      "925 (213, 7)\n",
      "926 (747, 7)\n"
     ]
    },
    {
     "name": "stderr",
     "output_type": "stream",
     "text": [
      "100%|██████████| 3/3 [00:00<00:00,  5.87it/s]\n",
      "100%|██████████| 1/1 [00:00<00:00,  8.76it/s]\n",
      "  0%|          | 0/12 [00:00<?, ?it/s]"
     ]
    },
    {
     "name": "stdout",
     "output_type": "stream",
     "text": [
      "927 (140, 7)\n",
      "928 (2993, 7)\n"
     ]
    },
    {
     "name": "stderr",
     "output_type": "stream",
     "text": [
      "100%|██████████| 12/12 [00:01<00:00,  6.05it/s]\n",
      " 50%|█████     | 1/2 [00:00<00:00,  6.00it/s]"
     ]
    },
    {
     "name": "stdout",
     "output_type": "stream",
     "text": [
      "929 (447, 7)\n"
     ]
    },
    {
     "name": "stderr",
     "output_type": "stream",
     "text": [
      "100%|██████████| 2/2 [00:00<00:00,  6.48it/s]\n",
      " 50%|█████     | 1/2 [00:00<00:00,  5.90it/s]"
     ]
    },
    {
     "name": "stdout",
     "output_type": "stream",
     "text": [
      "930 (483, 7)\n"
     ]
    },
    {
     "name": "stderr",
     "output_type": "stream",
     "text": [
      "100%|██████████| 2/2 [00:00<00:00,  6.09it/s]\n",
      "  8%|▊         | 1/13 [00:00<00:02,  5.96it/s]"
     ]
    },
    {
     "name": "stdout",
     "output_type": "stream",
     "text": [
      "931 (3168, 7)\n"
     ]
    },
    {
     "name": "stderr",
     "output_type": "stream",
     "text": [
      "100%|██████████| 13/13 [00:02<00:00,  5.86it/s]\n",
      "100%|██████████| 1/1 [00:00<00:00, 17.51it/s]\n",
      "  0%|          | 0/9 [00:00<?, ?it/s]"
     ]
    },
    {
     "name": "stdout",
     "output_type": "stream",
     "text": [
      "932 (15, 7)\n",
      "933 (2093, 7)\n"
     ]
    },
    {
     "name": "stderr",
     "output_type": "stream",
     "text": [
      "100%|██████████| 9/9 [00:01<00:00,  6.26it/s]\n",
      " 14%|█▍        | 1/7 [00:00<00:00,  6.03it/s]"
     ]
    },
    {
     "name": "stdout",
     "output_type": "stream",
     "text": [
      "934 (1725, 7)\n"
     ]
    },
    {
     "name": "stderr",
     "output_type": "stream",
     "text": [
      "100%|██████████| 7/7 [00:01<00:00,  6.01it/s]\n",
      " 17%|█▋        | 1/6 [00:00<00:00,  5.40it/s]"
     ]
    },
    {
     "name": "stdout",
     "output_type": "stream",
     "text": [
      "935 (1430, 7)\n"
     ]
    },
    {
     "name": "stderr",
     "output_type": "stream",
     "text": [
      "100%|██████████| 6/6 [00:00<00:00,  6.11it/s]\n",
      " 20%|██        | 1/5 [00:00<00:00,  5.93it/s]"
     ]
    },
    {
     "name": "stdout",
     "output_type": "stream",
     "text": [
      "936 (1127, 7)\n"
     ]
    },
    {
     "name": "stderr",
     "output_type": "stream",
     "text": [
      "100%|██████████| 5/5 [00:00<00:00,  6.30it/s]\n",
      "  5%|▌         | 1/19 [00:00<00:03,  5.79it/s]"
     ]
    },
    {
     "name": "stdout",
     "output_type": "stream",
     "text": [
      "937 (4792, 7)\n"
     ]
    },
    {
     "name": "stderr",
     "output_type": "stream",
     "text": [
      "100%|██████████| 19/19 [00:03<00:00,  5.80it/s]\n",
      " 11%|█         | 1/9 [00:00<00:01,  6.02it/s]"
     ]
    },
    {
     "name": "stdout",
     "output_type": "stream",
     "text": [
      "938 (2083, 7)\n"
     ]
    },
    {
     "name": "stderr",
     "output_type": "stream",
     "text": [
      "100%|██████████| 9/9 [00:01<00:00,  6.28it/s]\n",
      "100%|██████████| 1/1 [00:00<00:00, 19.29it/s]\n",
      "  0%|          | 0/2 [00:00<?, ?it/s]"
     ]
    },
    {
     "name": "stdout",
     "output_type": "stream",
     "text": [
      "939 (1, 7)\n",
      "940 (455, 7)\n"
     ]
    },
    {
     "name": "stderr",
     "output_type": "stream",
     "text": [
      "100%|██████████| 2/2 [00:00<00:00,  6.27it/s]\n",
      "100%|██████████| 1/1 [00:00<00:00, 16.25it/s]\n",
      "100%|██████████| 1/1 [00:00<00:00, 10.56it/s]\n",
      "  0%|          | 0/2 [00:00<?, ?it/s]"
     ]
    },
    {
     "name": "stdout",
     "output_type": "stream",
     "text": [
      "941 (13, 7)\n",
      "942 (79, 7)\n",
      "943 (478, 7)\n"
     ]
    },
    {
     "name": "stderr",
     "output_type": "stream",
     "text": [
      "100%|██████████| 2/2 [00:00<00:00,  6.20it/s]\n",
      "  2%|▏         | 1/62 [00:00<00:10,  5.79it/s]"
     ]
    },
    {
     "name": "stdout",
     "output_type": "stream",
     "text": [
      "944 (15635, 7)\n"
     ]
    },
    {
     "name": "stderr",
     "output_type": "stream",
     "text": [
      "100%|██████████| 62/62 [00:10<00:00,  5.98it/s]\n",
      "  9%|▉         | 1/11 [00:00<00:01,  6.99it/s]"
     ]
    },
    {
     "name": "stdout",
     "output_type": "stream",
     "text": [
      "945 (2693, 7)\n"
     ]
    },
    {
     "name": "stderr",
     "output_type": "stream",
     "text": [
      "100%|██████████| 11/11 [00:01<00:00,  6.98it/s]\n",
      "  6%|▋         | 1/16 [00:00<00:02,  5.90it/s]"
     ]
    },
    {
     "name": "stdout",
     "output_type": "stream",
     "text": [
      "946 (3879, 7)\n"
     ]
    },
    {
     "name": "stderr",
     "output_type": "stream",
     "text": [
      "100%|██████████| 16/16 [00:02<00:00,  5.65it/s]\n",
      " 50%|█████     | 1/2 [00:00<00:00,  5.40it/s]"
     ]
    },
    {
     "name": "stdout",
     "output_type": "stream",
     "text": [
      "947 (395, 7)\n"
     ]
    },
    {
     "name": "stderr",
     "output_type": "stream",
     "text": [
      "100%|██████████| 2/2 [00:00<00:00,  6.46it/s]\n",
      "100%|██████████| 1/1 [00:00<00:00, 10.76it/s]\n",
      "  0%|          | 0/26 [00:00<?, ?it/s]"
     ]
    },
    {
     "name": "stdout",
     "output_type": "stream",
     "text": [
      "948 (56, 7)\n",
      "949 (6568, 7)\n"
     ]
    },
    {
     "name": "stderr",
     "output_type": "stream",
     "text": [
      "100%|██████████| 26/26 [00:04<00:00,  6.17it/s]\n",
      "  8%|▊         | 1/13 [00:00<00:01,  6.81it/s]"
     ]
    },
    {
     "name": "stdout",
     "output_type": "stream",
     "text": [
      "950 (3080, 7)\n"
     ]
    },
    {
     "name": "stderr",
     "output_type": "stream",
     "text": [
      "100%|██████████| 13/13 [00:01<00:00,  7.10it/s]\n",
      " 50%|█████     | 1/2 [00:00<00:00,  6.62it/s]"
     ]
    },
    {
     "name": "stdout",
     "output_type": "stream",
     "text": [
      "951 (493, 7)\n"
     ]
    },
    {
     "name": "stderr",
     "output_type": "stream",
     "text": [
      "100%|██████████| 2/2 [00:00<00:00,  6.70it/s]\n",
      "100%|██████████| 1/1 [00:00<00:00, 11.05it/s]\n",
      "100%|██████████| 1/1 [00:00<00:00, 12.57it/s]"
     ]
    },
    {
     "name": "stdout",
     "output_type": "stream",
     "text": [
      "952 (93, 7)\n",
      "953 (76, 7)\n"
     ]
    },
    {
     "name": "stderr",
     "output_type": "stream",
     "text": [
      "\n",
      "  9%|▉         | 1/11 [00:00<00:01,  6.31it/s]"
     ]
    },
    {
     "name": "stdout",
     "output_type": "stream",
     "text": [
      "954 (2592, 7)\n"
     ]
    },
    {
     "name": "stderr",
     "output_type": "stream",
     "text": [
      "100%|██████████| 11/11 [00:01<00:00,  7.03it/s]\n",
      "  1%|          | 1/85 [00:00<00:12,  6.70it/s]"
     ]
    },
    {
     "name": "stdout",
     "output_type": "stream",
     "text": [
      "955 (21651, 7)\n"
     ]
    },
    {
     "name": "stderr",
     "output_type": "stream",
     "text": [
      "100%|██████████| 85/85 [00:12<00:00,  6.67it/s]\n",
      "100%|██████████| 1/1 [00:00<00:00, 10.27it/s]\n",
      "  0%|          | 0/5 [00:00<?, ?it/s]"
     ]
    },
    {
     "name": "stdout",
     "output_type": "stream",
     "text": [
      "956 (115, 7)\n",
      "957 (1254, 7)\n"
     ]
    },
    {
     "name": "stderr",
     "output_type": "stream",
     "text": [
      "100%|██████████| 5/5 [00:00<00:00,  5.77it/s]\n",
      "100%|██████████| 1/1 [00:00<00:00, 14.45it/s]\n",
      "  0%|          | 0/11 [00:00<?, ?it/s]"
     ]
    },
    {
     "name": "stdout",
     "output_type": "stream",
     "text": [
      "958 (36, 7)\n",
      "959 (2692, 7)\n"
     ]
    },
    {
     "name": "stderr",
     "output_type": "stream",
     "text": [
      "100%|██████████| 11/11 [00:01<00:00,  5.85it/s]\n",
      "  6%|▌         | 1/18 [00:00<00:02,  5.82it/s]"
     ]
    },
    {
     "name": "stdout",
     "output_type": "stream",
     "text": [
      "960 (4417, 7)\n"
     ]
    },
    {
     "name": "stderr",
     "output_type": "stream",
     "text": [
      "100%|██████████| 18/18 [00:02<00:00,  6.40it/s]\n",
      "  3%|▎         | 1/38 [00:00<00:05,  6.90it/s]"
     ]
    },
    {
     "name": "stdout",
     "output_type": "stream",
     "text": [
      "961 (9678, 7)\n"
     ]
    },
    {
     "name": "stderr",
     "output_type": "stream",
     "text": [
      "100%|██████████| 38/38 [00:06<00:00,  6.23it/s]\n",
      " 10%|█         | 1/10 [00:00<00:01,  6.93it/s]"
     ]
    },
    {
     "name": "stdout",
     "output_type": "stream",
     "text": [
      "962 (2414, 7)\n"
     ]
    },
    {
     "name": "stderr",
     "output_type": "stream",
     "text": [
      "100%|██████████| 10/10 [00:01<00:00,  7.08it/s]\n",
      " 20%|██        | 1/5 [00:00<00:00,  5.12it/s]"
     ]
    },
    {
     "name": "stdout",
     "output_type": "stream",
     "text": [
      "963 (1204, 7)\n"
     ]
    },
    {
     "name": "stderr",
     "output_type": "stream",
     "text": [
      "100%|██████████| 5/5 [00:00<00:00,  6.80it/s]\n",
      " 17%|█▋        | 1/6 [00:00<00:00,  7.14it/s]"
     ]
    },
    {
     "name": "stdout",
     "output_type": "stream",
     "text": [
      "964 (1335, 7)\n"
     ]
    },
    {
     "name": "stderr",
     "output_type": "stream",
     "text": [
      "100%|██████████| 6/6 [00:00<00:00,  7.59it/s]\n",
      "  9%|▉         | 1/11 [00:00<00:01,  6.72it/s]"
     ]
    },
    {
     "name": "stdout",
     "output_type": "stream",
     "text": [
      "965 (2728, 7)\n"
     ]
    },
    {
     "name": "stderr",
     "output_type": "stream",
     "text": [
      "100%|██████████| 11/11 [00:01<00:00,  6.62it/s]\n",
      "100%|██████████| 1/1 [00:00<00:00, 12.23it/s]\n",
      "100%|██████████| 1/1 [00:00<00:00, 16.84it/s]\n",
      "  0%|          | 0/26 [00:00<?, ?it/s]"
     ]
    },
    {
     "name": "stdout",
     "output_type": "stream",
     "text": [
      "966 (93, 7)\n",
      "967 (40, 7)\n",
      "968 (6445, 7)\n"
     ]
    },
    {
     "name": "stderr",
     "output_type": "stream",
     "text": [
      "100%|██████████| 26/26 [00:03<00:00,  6.85it/s]\n",
      " 25%|██▌       | 1/4 [00:00<00:00,  6.85it/s]"
     ]
    },
    {
     "name": "stdout",
     "output_type": "stream",
     "text": [
      "969 (954, 7)\n"
     ]
    },
    {
     "name": "stderr",
     "output_type": "stream",
     "text": [
      "100%|██████████| 4/4 [00:00<00:00,  7.10it/s]\n",
      " 12%|█▎        | 1/8 [00:00<00:01,  6.46it/s]"
     ]
    },
    {
     "name": "stdout",
     "output_type": "stream",
     "text": [
      "970 (1809, 7)\n"
     ]
    },
    {
     "name": "stderr",
     "output_type": "stream",
     "text": [
      "100%|██████████| 8/8 [00:01<00:00,  7.22it/s]\n",
      "  8%|▊         | 1/13 [00:00<00:01,  6.46it/s]"
     ]
    },
    {
     "name": "stdout",
     "output_type": "stream",
     "text": [
      "971 (3078, 7)\n"
     ]
    },
    {
     "name": "stderr",
     "output_type": "stream",
     "text": [
      "100%|██████████| 13/13 [00:01<00:00,  7.04it/s]\n",
      "100%|██████████| 1/1 [00:00<00:00, 17.10it/s]\n",
      "  0%|          | 0/6 [00:00<?, ?it/s]"
     ]
    },
    {
     "name": "stdout",
     "output_type": "stream",
     "text": [
      "972 (32, 7)\n",
      "973 (1394, 7)\n"
     ]
    },
    {
     "name": "stderr",
     "output_type": "stream",
     "text": [
      "100%|██████████| 6/6 [00:00<00:00,  6.83it/s]\n",
      " 33%|███▎      | 1/3 [00:00<00:00,  6.18it/s]"
     ]
    },
    {
     "name": "stdout",
     "output_type": "stream",
     "text": [
      "974 (623, 7)\n"
     ]
    },
    {
     "name": "stderr",
     "output_type": "stream",
     "text": [
      "100%|██████████| 3/3 [00:00<00:00,  7.18it/s]\n",
      " 12%|█▎        | 1/8 [00:00<00:01,  6.98it/s]"
     ]
    },
    {
     "name": "stdout",
     "output_type": "stream",
     "text": [
      "975 (1887, 7)\n"
     ]
    },
    {
     "name": "stderr",
     "output_type": "stream",
     "text": [
      "100%|██████████| 8/8 [00:01<00:00,  7.28it/s]\n",
      " 25%|██▌       | 1/4 [00:00<00:00,  6.94it/s]"
     ]
    },
    {
     "name": "stdout",
     "output_type": "stream",
     "text": [
      "976 (993, 7)\n"
     ]
    },
    {
     "name": "stderr",
     "output_type": "stream",
     "text": [
      "100%|██████████| 4/4 [00:00<00:00,  6.92it/s]\n",
      "  8%|▊         | 1/12 [00:00<00:01,  6.87it/s]"
     ]
    },
    {
     "name": "stdout",
     "output_type": "stream",
     "text": [
      "977 (2964, 7)\n"
     ]
    },
    {
     "name": "stderr",
     "output_type": "stream",
     "text": [
      "100%|██████████| 12/12 [00:01<00:00,  7.01it/s]\n",
      "  3%|▎         | 1/37 [00:00<00:05,  6.29it/s]"
     ]
    },
    {
     "name": "stdout",
     "output_type": "stream",
     "text": [
      "978 (9435, 7)\n"
     ]
    },
    {
     "name": "stderr",
     "output_type": "stream",
     "text": [
      "100%|██████████| 37/37 [00:05<00:00,  6.65it/s]\n",
      "100%|██████████| 1/1 [00:00<00:00,  9.41it/s]\n",
      "  0%|          | 0/11 [00:00<?, ?it/s]"
     ]
    },
    {
     "name": "stdout",
     "output_type": "stream",
     "text": [
      "979 (158, 7)\n",
      "980 (2737, 7)\n"
     ]
    },
    {
     "name": "stderr",
     "output_type": "stream",
     "text": [
      "100%|██████████| 11/11 [00:01<00:00,  6.92it/s]\n",
      "100%|██████████| 1/1 [00:00<00:00, 17.36it/s]\n",
      "  0%|          | 0/5 [00:00<?, ?it/s]"
     ]
    },
    {
     "name": "stdout",
     "output_type": "stream",
     "text": [
      "981 (37, 7)\n",
      "982 (1045, 7)\n"
     ]
    },
    {
     "name": "stderr",
     "output_type": "stream",
     "text": [
      "100%|██████████| 5/5 [00:00<00:00,  7.54it/s]\n",
      " 17%|█▋        | 1/6 [00:00<00:00,  6.93it/s]"
     ]
    },
    {
     "name": "stdout",
     "output_type": "stream",
     "text": [
      "983 (1451, 7)\n"
     ]
    },
    {
     "name": "stderr",
     "output_type": "stream",
     "text": [
      "100%|██████████| 6/6 [00:00<00:00,  7.16it/s]\n",
      "100%|██████████| 1/1 [00:00<00:00, 10.78it/s]\n",
      "  0%|          | 0/3 [00:00<?, ?it/s]"
     ]
    },
    {
     "name": "stdout",
     "output_type": "stream",
     "text": [
      "984 (90, 7)\n",
      "985 (618, 7)\n"
     ]
    },
    {
     "name": "stderr",
     "output_type": "stream",
     "text": [
      "100%|██████████| 3/3 [00:00<00:00,  7.00it/s]\n",
      "100%|██████████| 1/1 [00:00<00:00, 12.39it/s]\n",
      "  0%|          | 0/1 [00:00<?, ?it/s]"
     ]
    },
    {
     "name": "stdout",
     "output_type": "stream",
     "text": [
      "986 (76, 7)\n",
      "987 (182, 7)\n"
     ]
    },
    {
     "name": "stderr",
     "output_type": "stream",
     "text": [
      "100%|██████████| 1/1 [00:00<00:00,  8.60it/s]\n",
      " 50%|█████     | 1/2 [00:00<00:00,  6.95it/s]"
     ]
    },
    {
     "name": "stdout",
     "output_type": "stream",
     "text": [
      "988 (295, 7)\n"
     ]
    },
    {
     "name": "stderr",
     "output_type": "stream",
     "text": [
      "100%|██████████| 2/2 [00:00<00:00,  9.80it/s]\n",
      "  4%|▍         | 1/23 [00:00<00:03,  6.95it/s]"
     ]
    },
    {
     "name": "stdout",
     "output_type": "stream",
     "text": [
      "989 (5780, 7)\n"
     ]
    },
    {
     "name": "stderr",
     "output_type": "stream",
     "text": [
      "100%|██████████| 23/23 [00:03<00:00,  6.69it/s]\n",
      "100%|██████████| 1/1 [00:00<00:00, 13.62it/s]\n",
      "  0%|          | 0/2 [00:00<?, ?it/s]"
     ]
    },
    {
     "name": "stdout",
     "output_type": "stream",
     "text": [
      "990 (74, 7)\n",
      "991 (265, 7)\n"
     ]
    },
    {
     "name": "stderr",
     "output_type": "stream",
     "text": [
      "100%|██████████| 2/2 [00:00<00:00, 10.09it/s]\n",
      " 14%|█▍        | 1/7 [00:00<00:00,  6.57it/s]"
     ]
    },
    {
     "name": "stdout",
     "output_type": "stream",
     "text": [
      "992 (1597, 7)\n"
     ]
    },
    {
     "name": "stderr",
     "output_type": "stream",
     "text": [
      "100%|██████████| 7/7 [00:00<00:00,  7.25it/s]\n",
      "  6%|▌         | 1/18 [00:00<00:02,  6.65it/s]"
     ]
    },
    {
     "name": "stdout",
     "output_type": "stream",
     "text": [
      "993 (4418, 7)\n"
     ]
    },
    {
     "name": "stderr",
     "output_type": "stream",
     "text": [
      "100%|██████████| 18/18 [00:02<00:00,  7.04it/s]\n",
      "100%|██████████| 1/1 [00:00<00:00, 23.10it/s]\n",
      "  0%|          | 0/62 [00:00<?, ?it/s]"
     ]
    },
    {
     "name": "stdout",
     "output_type": "stream",
     "text": [
      "994 (6, 7)\n",
      "995 (15853, 7)\n"
     ]
    },
    {
     "name": "stderr",
     "output_type": "stream",
     "text": [
      "100%|██████████| 62/62 [00:08<00:00,  6.94it/s]\n",
      "  9%|▉         | 1/11 [00:00<00:01,  6.98it/s]"
     ]
    },
    {
     "name": "stdout",
     "output_type": "stream",
     "text": [
      "996 (2610, 7)\n"
     ]
    },
    {
     "name": "stderr",
     "output_type": "stream",
     "text": [
      "100%|██████████| 11/11 [00:01<00:00,  6.36it/s]\n",
      "100%|██████████| 1/1 [00:00<00:00,  7.72it/s]\n",
      "  0%|          | 0/3 [00:00<?, ?it/s]"
     ]
    },
    {
     "name": "stdout",
     "output_type": "stream",
     "text": [
      "997 (99, 7)\n",
      "998 (522, 7)\n"
     ]
    },
    {
     "name": "stderr",
     "output_type": "stream",
     "text": [
      "100%|██████████| 3/3 [00:00<00:00,  6.82it/s]\n",
      "100%|██████████| 1/1 [00:00<00:00,  5.32it/s]"
     ]
    },
    {
     "name": "stdout",
     "output_type": "stream",
     "text": [
      "999 (247, 7)\n"
     ]
    },
    {
     "name": "stderr",
     "output_type": "stream",
     "text": [
      "\n",
      "  6%|▌         | 1/18 [00:00<00:02,  6.87it/s]"
     ]
    },
    {
     "name": "stdout",
     "output_type": "stream",
     "text": [
      "1000 (4492, 7)\n"
     ]
    },
    {
     "name": "stderr",
     "output_type": "stream",
     "text": [
      "100%|██████████| 18/18 [00:02<00:00,  6.52it/s]\n",
      " 14%|█▍        | 1/7 [00:00<00:00,  6.29it/s]"
     ]
    },
    {
     "name": "stdout",
     "output_type": "stream",
     "text": [
      "1001 (1751, 7)\n"
     ]
    },
    {
     "name": "stderr",
     "output_type": "stream",
     "text": [
      "100%|██████████| 7/7 [00:01<00:00,  6.33it/s]\n",
      " 11%|█         | 1/9 [00:00<00:01,  6.65it/s]"
     ]
    },
    {
     "name": "stdout",
     "output_type": "stream",
     "text": [
      "1002 (2118, 7)\n"
     ]
    },
    {
     "name": "stderr",
     "output_type": "stream",
     "text": [
      "100%|██████████| 9/9 [00:01<00:00,  7.00it/s]\n",
      " 33%|███▎      | 1/3 [00:00<00:00,  6.57it/s]"
     ]
    },
    {
     "name": "stdout",
     "output_type": "stream",
     "text": [
      "1003 (562, 7)\n"
     ]
    },
    {
     "name": "stderr",
     "output_type": "stream",
     "text": [
      "100%|██████████| 3/3 [00:00<00:00,  8.22it/s]\n",
      "100%|██████████| 1/1 [00:00<00:00, 16.80it/s]\n",
      "  0%|          | 0/1 [00:00<?, ?it/s]"
     ]
    },
    {
     "name": "stdout",
     "output_type": "stream",
     "text": [
      "1004 (40, 7)\n",
      "1005 (211, 7)\n"
     ]
    },
    {
     "name": "stderr",
     "output_type": "stream",
     "text": [
      "100%|██████████| 1/1 [00:00<00:00,  7.62it/s]\n",
      "  2%|▏         | 1/49 [00:00<00:07,  6.64it/s]"
     ]
    },
    {
     "name": "stdout",
     "output_type": "stream",
     "text": [
      "1006 (12525, 7)\n"
     ]
    },
    {
     "name": "stderr",
     "output_type": "stream",
     "text": [
      "100%|██████████| 49/49 [00:07<00:00,  6.42it/s]\n",
      "100%|██████████| 1/1 [00:00<00:00, 16.90it/s]\n",
      "100%|██████████| 1/1 [00:00<00:00, 14.41it/s]\n",
      "  0%|          | 0/36 [00:00<?, ?it/s]"
     ]
    },
    {
     "name": "stdout",
     "output_type": "stream",
     "text": [
      "1007 (37, 7)\n",
      "1008 (64, 7)\n",
      "1009 (9154, 7)\n"
     ]
    },
    {
     "name": "stderr",
     "output_type": "stream",
     "text": [
      "100%|██████████| 36/36 [00:06<00:00,  5.81it/s]\n",
      " 25%|██▌       | 1/4 [00:00<00:00,  5.95it/s]"
     ]
    },
    {
     "name": "stdout",
     "output_type": "stream",
     "text": [
      "1010 (1000, 7)\n"
     ]
    },
    {
     "name": "stderr",
     "output_type": "stream",
     "text": [
      "100%|██████████| 4/4 [00:00<00:00,  6.11it/s]\n",
      " 11%|█         | 1/9 [00:00<00:01,  6.02it/s]"
     ]
    },
    {
     "name": "stdout",
     "output_type": "stream",
     "text": [
      "1011 (2285, 7)\n"
     ]
    },
    {
     "name": "stderr",
     "output_type": "stream",
     "text": [
      "100%|██████████| 9/9 [00:01<00:00,  6.17it/s]\n",
      "  3%|▎         | 1/33 [00:00<00:04,  6.49it/s]"
     ]
    },
    {
     "name": "stdout",
     "output_type": "stream",
     "text": [
      "1012 (8266, 7)\n"
     ]
    },
    {
     "name": "stderr",
     "output_type": "stream",
     "text": [
      "100%|██████████| 33/33 [00:05<00:00,  6.39it/s]\n",
      " 14%|█▍        | 1/7 [00:00<00:00,  6.18it/s]"
     ]
    },
    {
     "name": "stdout",
     "output_type": "stream",
     "text": [
      "1013 (1717, 7)\n"
     ]
    },
    {
     "name": "stderr",
     "output_type": "stream",
     "text": [
      "100%|██████████| 7/7 [00:01<00:00,  6.65it/s]\n",
      "  8%|▊         | 1/13 [00:00<00:01,  6.53it/s]"
     ]
    },
    {
     "name": "stdout",
     "output_type": "stream",
     "text": [
      "1014 (3074, 7)\n"
     ]
    },
    {
     "name": "stderr",
     "output_type": "stream",
     "text": [
      "100%|██████████| 13/13 [00:01<00:00,  7.17it/s]\n",
      "  6%|▌         | 1/18 [00:00<00:02,  6.76it/s]"
     ]
    },
    {
     "name": "stdout",
     "output_type": "stream",
     "text": [
      "1015 (4540, 7)\n"
     ]
    },
    {
     "name": "stderr",
     "output_type": "stream",
     "text": [
      "100%|██████████| 18/18 [00:02<00:00,  6.63it/s]\n",
      "100%|██████████| 1/1 [00:00<00:00,  9.91it/s]\n",
      "  0%|          | 0/9 [00:00<?, ?it/s]"
     ]
    },
    {
     "name": "stdout",
     "output_type": "stream",
     "text": [
      "1016 (139, 7)\n",
      "1017 (2253, 7)\n"
     ]
    },
    {
     "name": "stderr",
     "output_type": "stream",
     "text": [
      "100%|██████████| 9/9 [00:01<00:00,  7.00it/s]\n",
      "  3%|▎         | 1/39 [00:00<00:05,  7.18it/s]"
     ]
    },
    {
     "name": "stdout",
     "output_type": "stream",
     "text": [
      "1018 (9810, 7)\n"
     ]
    },
    {
     "name": "stderr",
     "output_type": "stream",
     "text": [
      "100%|██████████| 39/39 [00:05<00:00,  6.82it/s]\n",
      "100%|██████████| 1/1 [00:00<00:00, 10.33it/s]\n",
      "  0%|          | 0/9 [00:00<?, ?it/s]"
     ]
    },
    {
     "name": "stdout",
     "output_type": "stream",
     "text": [
      "1019 (133, 7)\n",
      "1020 (2191, 7)\n"
     ]
    },
    {
     "name": "stderr",
     "output_type": "stream",
     "text": [
      "100%|██████████| 9/9 [00:01<00:00,  7.19it/s]\n",
      "  3%|▎         | 1/34 [00:00<00:04,  6.73it/s]"
     ]
    },
    {
     "name": "stdout",
     "output_type": "stream",
     "text": [
      "1021 (8689, 7)\n"
     ]
    },
    {
     "name": "stderr",
     "output_type": "stream",
     "text": [
      "100%|██████████| 34/34 [00:04<00:00,  6.82it/s]\n",
      "100%|██████████| 1/1 [00:00<00:00, 23.87it/s]\n",
      " 50%|█████     | 1/2 [00:00<00:00,  7.02it/s]"
     ]
    },
    {
     "name": "stdout",
     "output_type": "stream",
     "text": [
      "1022 (2, 7)\n",
      "1023 (335, 7)\n"
     ]
    },
    {
     "name": "stderr",
     "output_type": "stream",
     "text": [
      "100%|██████████| 2/2 [00:00<00:00,  9.28it/s]\n",
      " 10%|█         | 1/10 [00:00<00:01,  7.11it/s]"
     ]
    },
    {
     "name": "stdout",
     "output_type": "stream",
     "text": [
      "1024 (2375, 7)\n"
     ]
    },
    {
     "name": "stderr",
     "output_type": "stream",
     "text": [
      "100%|██████████| 10/10 [00:01<00:00,  7.36it/s]\n",
      "100%|██████████| 1/1 [00:00<00:00, 17.93it/s]\n",
      "  0%|          | 0/11 [00:00<?, ?it/s]"
     ]
    },
    {
     "name": "stdout",
     "output_type": "stream",
     "text": [
      "1025 (36, 7)\n",
      "1026 (2791, 7)\n"
     ]
    },
    {
     "name": "stderr",
     "output_type": "stream",
     "text": [
      "100%|██████████| 11/11 [00:01<00:00,  6.76it/s]\n",
      " 11%|█         | 1/9 [00:00<00:01,  6.39it/s]"
     ]
    },
    {
     "name": "stdout",
     "output_type": "stream",
     "text": [
      "1027 (2168, 7)\n"
     ]
    },
    {
     "name": "stderr",
     "output_type": "stream",
     "text": [
      "100%|██████████| 9/9 [00:01<00:00,  6.81it/s]\n",
      " 50%|█████     | 1/2 [00:00<00:00,  6.65it/s]"
     ]
    },
    {
     "name": "stdout",
     "output_type": "stream",
     "text": [
      "1028 (292, 7)\n"
     ]
    },
    {
     "name": "stderr",
     "output_type": "stream",
     "text": [
      "100%|██████████| 2/2 [00:00<00:00,  9.53it/s]\n",
      " 10%|█         | 1/10 [00:00<00:01,  7.07it/s]"
     ]
    },
    {
     "name": "stdout",
     "output_type": "stream",
     "text": [
      "1029 (2553, 7)\n"
     ]
    },
    {
     "name": "stderr",
     "output_type": "stream",
     "text": [
      "100%|██████████| 10/10 [00:01<00:00,  5.18it/s]\n",
      "  8%|▊         | 1/12 [00:00<00:01,  6.12it/s]"
     ]
    },
    {
     "name": "stdout",
     "output_type": "stream",
     "text": [
      "1030 (2894, 7)\n"
     ]
    },
    {
     "name": "stderr",
     "output_type": "stream",
     "text": [
      "100%|██████████| 12/12 [00:01<00:00,  6.28it/s]\n",
      "  0%|          | 1/266 [00:00<00:47,  5.55it/s]"
     ]
    },
    {
     "name": "stdout",
     "output_type": "stream",
     "text": [
      "1031 (67880, 7)\n"
     ]
    },
    {
     "name": "stderr",
     "output_type": "stream",
     "text": [
      "100%|██████████| 266/266 [00:41<00:00,  6.38it/s]\n",
      "  6%|▋         | 1/16 [00:00<00:02,  6.96it/s]"
     ]
    },
    {
     "name": "stdout",
     "output_type": "stream",
     "text": [
      "1032 (3922, 7)\n"
     ]
    },
    {
     "name": "stderr",
     "output_type": "stream",
     "text": [
      "100%|██████████| 16/16 [00:02<00:00,  7.09it/s]\n",
      "  9%|▉         | 1/11 [00:00<00:01,  6.70it/s]"
     ]
    },
    {
     "name": "stdout",
     "output_type": "stream",
     "text": [
      "1033 (2651, 7)\n"
     ]
    },
    {
     "name": "stderr",
     "output_type": "stream",
     "text": [
      "100%|██████████| 11/11 [00:01<00:00,  6.98it/s]\n",
      " 10%|█         | 1/10 [00:00<00:01,  6.72it/s]"
     ]
    },
    {
     "name": "stdout",
     "output_type": "stream",
     "text": [
      "1034 (2499, 7)\n"
     ]
    },
    {
     "name": "stderr",
     "output_type": "stream",
     "text": [
      "100%|██████████| 10/10 [00:01<00:00,  6.79it/s]\n",
      "  7%|▋         | 1/14 [00:00<00:01,  6.66it/s]"
     ]
    },
    {
     "name": "stdout",
     "output_type": "stream",
     "text": [
      "1035 (3530, 7)\n"
     ]
    },
    {
     "name": "stderr",
     "output_type": "stream",
     "text": [
      "100%|██████████| 14/14 [00:02<00:00,  6.95it/s]\n",
      " 25%|██▌       | 1/4 [00:00<00:00,  6.97it/s]"
     ]
    },
    {
     "name": "stdout",
     "output_type": "stream",
     "text": [
      "1036 (769, 7)\n"
     ]
    },
    {
     "name": "stderr",
     "output_type": "stream",
     "text": [
      "100%|██████████| 4/4 [00:00<00:00,  8.56it/s]\n",
      "100%|██████████| 1/1 [00:00<00:00, 11.81it/s]\n",
      "  0%|          | 0/1 [00:00<?, ?it/s]"
     ]
    },
    {
     "name": "stdout",
     "output_type": "stream",
     "text": [
      "1037 (111, 7)\n",
      "1038 (246, 7)\n"
     ]
    },
    {
     "name": "stderr",
     "output_type": "stream",
     "text": [
      "100%|██████████| 1/1 [00:00<00:00,  7.13it/s]\n",
      "100%|██████████| 1/1 [00:00<00:00, 14.65it/s]\n",
      "  0%|          | 0/2 [00:00<?, ?it/s]"
     ]
    },
    {
     "name": "stdout",
     "output_type": "stream",
     "text": [
      "1039 (71, 7)\n",
      "1040 (262, 7)\n"
     ]
    },
    {
     "name": "stderr",
     "output_type": "stream",
     "text": [
      "100%|██████████| 2/2 [00:00<00:00,  9.88it/s]\n",
      "100%|██████████| 1/1 [00:00<00:00, 18.73it/s]\n",
      "  0%|          | 0/22 [00:00<?, ?it/s]"
     ]
    },
    {
     "name": "stdout",
     "output_type": "stream",
     "text": [
      "1041 (4, 7)\n",
      "1042 (5542, 7)\n"
     ]
    },
    {
     "name": "stderr",
     "output_type": "stream",
     "text": [
      "100%|██████████| 22/22 [00:03<00:00,  6.38it/s]\n",
      " 25%|██▌       | 1/4 [00:00<00:00,  7.12it/s]"
     ]
    },
    {
     "name": "stdout",
     "output_type": "stream",
     "text": [
      "1043 (963, 7)\n"
     ]
    },
    {
     "name": "stderr",
     "output_type": "stream",
     "text": [
      "100%|██████████| 4/4 [00:00<00:00,  7.37it/s]\n",
      " 50%|█████     | 1/2 [00:00<00:00,  6.98it/s]"
     ]
    },
    {
     "name": "stdout",
     "output_type": "stream",
     "text": [
      "1044 (380, 7)\n"
     ]
    },
    {
     "name": "stderr",
     "output_type": "stream",
     "text": [
      "100%|██████████| 2/2 [00:00<00:00,  8.48it/s]\n",
      "100%|██████████| 1/1 [00:00<00:00, 18.27it/s]\n",
      "  0%|          | 0/7 [00:00<?, ?it/s]"
     ]
    },
    {
     "name": "stdout",
     "output_type": "stream",
     "text": [
      "1045 (34, 7)\n",
      "1046 (1545, 7)\n"
     ]
    },
    {
     "name": "stderr",
     "output_type": "stream",
     "text": [
      "100%|██████████| 7/7 [00:00<00:00,  7.54it/s]\n",
      "100%|██████████| 1/1 [00:00<00:00, 16.06it/s]\n",
      "  0%|          | 0/6 [00:00<?, ?it/s]"
     ]
    },
    {
     "name": "stdout",
     "output_type": "stream",
     "text": [
      "1047 (51, 7)\n",
      "1048 (1458, 7)\n"
     ]
    },
    {
     "name": "stderr",
     "output_type": "stream",
     "text": [
      "100%|██████████| 6/6 [00:00<00:00,  7.31it/s]\n",
      "100%|██████████| 1/1 [00:00<00:00, 11.21it/s]\n",
      "  0%|          | 0/5 [00:00<?, ?it/s]"
     ]
    },
    {
     "name": "stdout",
     "output_type": "stream",
     "text": [
      "1049 (124, 7)\n",
      "1050 (1178, 7)\n"
     ]
    },
    {
     "name": "stderr",
     "output_type": "stream",
     "text": [
      "100%|██████████| 5/5 [00:00<00:00,  7.17it/s]\n",
      "  5%|▍         | 1/21 [00:00<00:03,  6.25it/s]"
     ]
    },
    {
     "name": "stdout",
     "output_type": "stream",
     "text": [
      "1051 (5193, 7)\n"
     ]
    },
    {
     "name": "stderr",
     "output_type": "stream",
     "text": [
      "100%|██████████| 21/21 [00:03<00:00,  6.60it/s]\n",
      "100%|██████████| 1/1 [00:00<00:00, 15.49it/s]\n",
      "  0%|          | 0/57 [00:00<?, ?it/s]"
     ]
    },
    {
     "name": "stdout",
     "output_type": "stream",
     "text": [
      "1052 (49, 7)\n",
      "1053 (14343, 7)\n"
     ]
    },
    {
     "name": "stderr",
     "output_type": "stream",
     "text": [
      "100%|██████████| 57/57 [00:08<00:00,  6.63it/s]\n",
      " 11%|█         | 1/9 [00:00<00:01,  6.85it/s]"
     ]
    },
    {
     "name": "stdout",
     "output_type": "stream",
     "text": [
      "1054 (2179, 7)\n"
     ]
    },
    {
     "name": "stderr",
     "output_type": "stream",
     "text": [
      "100%|██████████| 9/9 [00:01<00:00,  7.32it/s]\n",
      "  7%|▋         | 1/14 [00:00<00:01,  7.04it/s]"
     ]
    },
    {
     "name": "stdout",
     "output_type": "stream",
     "text": [
      "1055 (3565, 7)\n"
     ]
    },
    {
     "name": "stderr",
     "output_type": "stream",
     "text": [
      "100%|██████████| 14/14 [00:01<00:00,  7.01it/s]\n",
      "  3%|▎         | 1/34 [00:00<00:05,  6.33it/s]"
     ]
    },
    {
     "name": "stdout",
     "output_type": "stream",
     "text": [
      "1056 (8487, 7)\n"
     ]
    },
    {
     "name": "stderr",
     "output_type": "stream",
     "text": [
      "100%|██████████| 34/34 [00:05<00:00,  6.57it/s]\n",
      " 33%|███▎      | 1/3 [00:00<00:00,  7.09it/s]"
     ]
    },
    {
     "name": "stdout",
     "output_type": "stream",
     "text": [
      "1057 (556, 7)\n"
     ]
    },
    {
     "name": "stderr",
     "output_type": "stream",
     "text": [
      "100%|██████████| 3/3 [00:00<00:00,  8.65it/s]\n",
      " 50%|█████     | 1/2 [00:00<00:00,  7.12it/s]"
     ]
    },
    {
     "name": "stdout",
     "output_type": "stream",
     "text": [
      "1058 (373, 7)\n"
     ]
    },
    {
     "name": "stderr",
     "output_type": "stream",
     "text": [
      "100%|██████████| 2/2 [00:00<00:00,  8.79it/s]\n",
      "100%|██████████| 1/1 [00:00<00:00,  8.33it/s]\n",
      "  0%|          | 0/26 [00:00<?, ?it/s]"
     ]
    },
    {
     "name": "stdout",
     "output_type": "stream",
     "text": [
      "1059 (203, 7)\n",
      "1060 (6436, 7)\n"
     ]
    },
    {
     "name": "stderr",
     "output_type": "stream",
     "text": [
      "100%|██████████| 26/26 [00:04<00:00,  6.30it/s]\n",
      "  8%|▊         | 1/12 [00:00<00:01,  7.06it/s]"
     ]
    },
    {
     "name": "stdout",
     "output_type": "stream",
     "text": [
      "1061 (2906, 7)\n"
     ]
    },
    {
     "name": "stderr",
     "output_type": "stream",
     "text": [
      "100%|██████████| 12/12 [00:01<00:00,  6.59it/s]\n",
      " 33%|███▎      | 1/3 [00:00<00:00,  6.35it/s]"
     ]
    },
    {
     "name": "stdout",
     "output_type": "stream",
     "text": [
      "1062 (643, 7)\n"
     ]
    },
    {
     "name": "stderr",
     "output_type": "stream",
     "text": [
      "100%|██████████| 3/3 [00:00<00:00,  7.13it/s]\n",
      "100%|██████████| 1/1 [00:00<00:00, 11.75it/s]\n",
      "100%|██████████| 1/1 [00:00<00:00, 17.15it/s]\n",
      "  0%|          | 0/6 [00:00<?, ?it/s]"
     ]
    },
    {
     "name": "stdout",
     "output_type": "stream",
     "text": [
      "1063 (111, 7)\n",
      "1064 (42, 7)\n",
      "1065 (1356, 7)\n"
     ]
    },
    {
     "name": "stderr",
     "output_type": "stream",
     "text": [
      "100%|██████████| 6/6 [00:00<00:00,  7.25it/s]\n",
      "  3%|▎         | 1/37 [00:00<00:05,  6.56it/s]"
     ]
    },
    {
     "name": "stdout",
     "output_type": "stream",
     "text": [
      "1066 (9454, 7)\n"
     ]
    },
    {
     "name": "stderr",
     "output_type": "stream",
     "text": [
      "100%|██████████| 37/37 [00:05<00:00,  6.51it/s]\n",
      "  3%|▎         | 1/36 [00:00<00:06,  5.82it/s]"
     ]
    },
    {
     "name": "stdout",
     "output_type": "stream",
     "text": [
      "1067 (9118, 7)\n"
     ]
    },
    {
     "name": "stderr",
     "output_type": "stream",
     "text": [
      "100%|██████████| 36/36 [00:06<00:00,  5.71it/s]\n",
      "  2%|▏         | 1/49 [00:00<00:08,  5.42it/s]"
     ]
    },
    {
     "name": "stdout",
     "output_type": "stream",
     "text": [
      "1068 (12384, 7)\n"
     ]
    },
    {
     "name": "stderr",
     "output_type": "stream",
     "text": [
      "100%|██████████| 49/49 [00:08<00:00,  5.59it/s]\n",
      "100%|██████████| 1/1 [00:00<00:00,  8.02it/s]\n",
      "  0%|          | 0/1 [00:00<?, ?it/s]"
     ]
    },
    {
     "name": "stdout",
     "output_type": "stream",
     "text": [
      "1069 (157, 7)\n",
      "1070 (4, 7)\n"
     ]
    },
    {
     "name": "stderr",
     "output_type": "stream",
     "text": [
      "100%|██████████| 1/1 [00:00<00:00, 17.77it/s]\n",
      " 50%|█████     | 1/2 [00:00<00:00,  5.62it/s]"
     ]
    },
    {
     "name": "stdout",
     "output_type": "stream",
     "text": [
      "1071 (389, 7)\n"
     ]
    },
    {
     "name": "stderr",
     "output_type": "stream",
     "text": [
      "100%|██████████| 2/2 [00:00<00:00,  6.61it/s]\n",
      "100%|██████████| 1/1 [00:00<00:00, 11.48it/s]\n",
      "100%|██████████| 1/1 [00:00<00:00, 11.99it/s]"
     ]
    },
    {
     "name": "stdout",
     "output_type": "stream",
     "text": [
      "1072 (61, 7)\n",
      "1073 (51, 7)\n"
     ]
    },
    {
     "name": "stderr",
     "output_type": "stream",
     "text": [
      "\n",
      " 25%|██▌       | 1/4 [00:00<00:00,  5.64it/s]"
     ]
    },
    {
     "name": "stdout",
     "output_type": "stream",
     "text": [
      "1074 (775, 7)\n"
     ]
    },
    {
     "name": "stderr",
     "output_type": "stream",
     "text": [
      "100%|██████████| 4/4 [00:00<00:00,  6.76it/s]\n",
      " 20%|██        | 1/5 [00:00<00:00,  5.62it/s]"
     ]
    },
    {
     "name": "stdout",
     "output_type": "stream",
     "text": [
      "1075 (1066, 7)\n"
     ]
    },
    {
     "name": "stderr",
     "output_type": "stream",
     "text": [
      "100%|██████████| 5/5 [00:00<00:00,  6.49it/s]\n",
      "  5%|▌         | 1/20 [00:00<00:03,  5.79it/s]"
     ]
    },
    {
     "name": "stdout",
     "output_type": "stream",
     "text": [
      "1076 (5085, 7)\n"
     ]
    },
    {
     "name": "stderr",
     "output_type": "stream",
     "text": [
      "100%|██████████| 20/20 [00:03<00:00,  5.72it/s]\n",
      "100%|██████████| 1/1 [00:00<00:00,  8.38it/s]\n",
      "100%|██████████| 1/1 [00:00<00:00, 16.09it/s]"
     ]
    },
    {
     "name": "stdout",
     "output_type": "stream",
     "text": [
      "1077 (133, 7)\n",
      "1078 (16, 7)\n"
     ]
    },
    {
     "name": "stderr",
     "output_type": "stream",
     "text": [
      "\n",
      "100%|██████████| 1/1 [00:00<00:00, 11.23it/s]\n",
      "100%|██████████| 1/1 [00:00<00:00, 13.32it/s]\n"
     ]
    },
    {
     "name": "stdout",
     "output_type": "stream",
     "text": [
      "1079 (81, 7)\n",
      "1080 (49, 7)\n",
      "1081 (162, 7)\n"
     ]
    },
    {
     "name": "stderr",
     "output_type": "stream",
     "text": [
      "100%|██████████| 1/1 [00:00<00:00,  7.59it/s]\n",
      "  6%|▌         | 1/17 [00:00<00:02,  5.92it/s]"
     ]
    },
    {
     "name": "stdout",
     "output_type": "stream",
     "text": [
      "1082 (4203, 7)\n"
     ]
    },
    {
     "name": "stderr",
     "output_type": "stream",
     "text": [
      "100%|██████████| 17/17 [00:02<00:00,  6.56it/s]\n",
      "  2%|▏         | 1/48 [00:00<00:06,  6.78it/s]"
     ]
    },
    {
     "name": "stdout",
     "output_type": "stream",
     "text": [
      "1083 (12236, 7)\n"
     ]
    },
    {
     "name": "stderr",
     "output_type": "stream",
     "text": [
      "100%|██████████| 48/48 [00:07<00:00,  6.39it/s]\n",
      " 10%|█         | 1/10 [00:00<00:01,  6.46it/s]"
     ]
    },
    {
     "name": "stdout",
     "output_type": "stream",
     "text": [
      "1084 (2338, 7)\n"
     ]
    },
    {
     "name": "stderr",
     "output_type": "stream",
     "text": [
      "100%|██████████| 10/10 [00:01<00:00,  7.07it/s]\n",
      "100%|██████████| 1/1 [00:00<00:00, 13.63it/s]\n",
      "100%|██████████| 1/1 [00:00<00:00, 21.41it/s]\n",
      "  0%|          | 0/12 [00:00<?, ?it/s]"
     ]
    },
    {
     "name": "stdout",
     "output_type": "stream",
     "text": [
      "1085 (79, 7)\n",
      "1086 (7, 7)\n",
      "1087 (3072, 7)\n"
     ]
    },
    {
     "name": "stderr",
     "output_type": "stream",
     "text": [
      "100%|██████████| 12/12 [00:01<00:00,  6.53it/s]\n",
      " 33%|███▎      | 1/3 [00:00<00:00,  6.75it/s]"
     ]
    },
    {
     "name": "stdout",
     "output_type": "stream",
     "text": [
      "1088 (623, 7)\n"
     ]
    },
    {
     "name": "stderr",
     "output_type": "stream",
     "text": [
      "100%|██████████| 3/3 [00:00<00:00,  7.83it/s]\n",
      "100%|██████████| 1/1 [00:00<00:00, 12.48it/s]\n",
      "  0%|          | 0/33 [00:00<?, ?it/s]"
     ]
    },
    {
     "name": "stdout",
     "output_type": "stream",
     "text": [
      "1089 (97, 7)\n",
      "1090 (8344, 7)\n"
     ]
    },
    {
     "name": "stderr",
     "output_type": "stream",
     "text": [
      "100%|██████████| 33/33 [00:04<00:00,  6.68it/s]\n",
      "  7%|▋         | 1/15 [00:00<00:02,  6.57it/s]"
     ]
    },
    {
     "name": "stdout",
     "output_type": "stream",
     "text": [
      "1091 (3632, 7)\n"
     ]
    },
    {
     "name": "stderr",
     "output_type": "stream",
     "text": [
      "100%|██████████| 15/15 [00:02<00:00,  6.84it/s]\n",
      " 50%|█████     | 1/2 [00:00<00:00,  6.62it/s]"
     ]
    },
    {
     "name": "stdout",
     "output_type": "stream",
     "text": [
      "1092 (330, 7)\n"
     ]
    },
    {
     "name": "stderr",
     "output_type": "stream",
     "text": [
      "100%|██████████| 2/2 [00:00<00:00,  8.78it/s]\n",
      "100%|██████████| 1/1 [00:00<00:00,  8.97it/s]\n",
      "  0%|          | 0/13 [00:00<?, ?it/s]"
     ]
    },
    {
     "name": "stdout",
     "output_type": "stream",
     "text": [
      "1093 (155, 7)\n",
      "1094 (3170, 7)\n"
     ]
    },
    {
     "name": "stderr",
     "output_type": "stream",
     "text": [
      "100%|██████████| 13/13 [00:02<00:00,  6.44it/s]\n",
      "  1%|          | 1/107 [00:00<00:17,  6.23it/s]"
     ]
    },
    {
     "name": "stdout",
     "output_type": "stream",
     "text": [
      "1095 (27243, 7)\n"
     ]
    },
    {
     "name": "stderr",
     "output_type": "stream",
     "text": [
      "100%|██████████| 107/107 [00:15<00:00,  6.77it/s]\n",
      " 33%|███▎      | 1/3 [00:00<00:00,  6.51it/s]"
     ]
    },
    {
     "name": "stdout",
     "output_type": "stream",
     "text": [
      "1096 (743, 7)\n"
     ]
    },
    {
     "name": "stderr",
     "output_type": "stream",
     "text": [
      "100%|██████████| 3/3 [00:00<00:00,  6.90it/s]\n",
      " 20%|██        | 1/5 [00:00<00:00,  7.05it/s]"
     ]
    },
    {
     "name": "stdout",
     "output_type": "stream",
     "text": [
      "1097 (1241, 7)\n"
     ]
    },
    {
     "name": "stderr",
     "output_type": "stream",
     "text": [
      "100%|██████████| 5/5 [00:00<00:00,  7.04it/s]\n",
      "100%|██████████| 1/1 [00:00<00:00, 16.24it/s]\n",
      "  0%|          | 0/8 [00:00<?, ?it/s]"
     ]
    },
    {
     "name": "stdout",
     "output_type": "stream",
     "text": [
      "1098 (40, 7)\n",
      "1099 (1811, 7)\n"
     ]
    },
    {
     "name": "stderr",
     "output_type": "stream",
     "text": [
      "100%|██████████| 8/8 [00:01<00:00,  7.05it/s]\n",
      "  4%|▍         | 1/25 [00:00<00:03,  6.74it/s]"
     ]
    },
    {
     "name": "stdout",
     "output_type": "stream",
     "text": [
      "1100 (6343, 7)\n"
     ]
    },
    {
     "name": "stderr",
     "output_type": "stream",
     "text": [
      "100%|██████████| 25/25 [00:03<00:00,  6.73it/s]\n",
      " 17%|█▋        | 1/6 [00:00<00:00,  6.93it/s]"
     ]
    },
    {
     "name": "stdout",
     "output_type": "stream",
     "text": [
      "1101 (1450, 7)\n"
     ]
    },
    {
     "name": "stderr",
     "output_type": "stream",
     "text": [
      "100%|██████████| 6/6 [00:00<00:00,  7.23it/s]\n",
      " 14%|█▍        | 1/7 [00:00<00:00,  6.98it/s]"
     ]
    },
    {
     "name": "stdout",
     "output_type": "stream",
     "text": [
      "1102 (1593, 7)\n"
     ]
    },
    {
     "name": "stderr",
     "output_type": "stream",
     "text": [
      "100%|██████████| 7/7 [00:00<00:00,  7.57it/s]\n",
      " 14%|█▍        | 1/7 [00:00<00:00,  7.11it/s]"
     ]
    },
    {
     "name": "stdout",
     "output_type": "stream",
     "text": [
      "1103 (1773, 7)\n"
     ]
    },
    {
     "name": "stderr",
     "output_type": "stream",
     "text": [
      "100%|██████████| 7/7 [00:01<00:00,  6.82it/s]\n",
      " 25%|██▌       | 1/4 [00:00<00:00,  6.91it/s]"
     ]
    },
    {
     "name": "stdout",
     "output_type": "stream",
     "text": [
      "1104 (1009, 7)\n"
     ]
    },
    {
     "name": "stderr",
     "output_type": "stream",
     "text": [
      "100%|██████████| 4/4 [00:00<00:00,  6.88it/s]\n",
      "100%|██████████| 1/1 [00:00<00:00,  8.17it/s]\n",
      "  0%|          | 0/1 [00:00<?, ?it/s]"
     ]
    },
    {
     "name": "stdout",
     "output_type": "stream",
     "text": [
      "1105 (188, 7)\n",
      "1106 (220, 7)\n"
     ]
    },
    {
     "name": "stderr",
     "output_type": "stream",
     "text": [
      "100%|██████████| 1/1 [00:00<00:00,  7.49it/s]\n",
      " 17%|█▋        | 1/6 [00:00<00:00,  6.75it/s]"
     ]
    },
    {
     "name": "stdout",
     "output_type": "stream",
     "text": [
      "1107 (1312, 7)\n"
     ]
    },
    {
     "name": "stderr",
     "output_type": "stream",
     "text": [
      "100%|██████████| 6/6 [00:00<00:00,  7.57it/s]\n",
      "  3%|▎         | 1/29 [00:00<00:04,  6.77it/s]"
     ]
    },
    {
     "name": "stdout",
     "output_type": "stream",
     "text": [
      "1108 (7326, 7)\n"
     ]
    },
    {
     "name": "stderr",
     "output_type": "stream",
     "text": [
      "100%|██████████| 29/29 [00:04<00:00,  6.94it/s]\n",
      " 50%|█████     | 1/2 [00:00<00:00,  6.92it/s]"
     ]
    },
    {
     "name": "stdout",
     "output_type": "stream",
     "text": [
      "1109 (294, 7)\n"
     ]
    },
    {
     "name": "stderr",
     "output_type": "stream",
     "text": [
      "100%|██████████| 2/2 [00:00<00:00,  9.91it/s]\n",
      " 50%|█████     | 1/2 [00:00<00:00,  6.91it/s]"
     ]
    },
    {
     "name": "stdout",
     "output_type": "stream",
     "text": [
      "1110 (446, 7)\n"
     ]
    },
    {
     "name": "stderr",
     "output_type": "stream",
     "text": [
      "100%|██████████| 2/2 [00:00<00:00,  7.58it/s]\n",
      "  9%|▉         | 1/11 [00:00<00:01,  6.88it/s]"
     ]
    },
    {
     "name": "stdout",
     "output_type": "stream",
     "text": [
      "1111 (2691, 7)\n"
     ]
    },
    {
     "name": "stderr",
     "output_type": "stream",
     "text": [
      "100%|██████████| 11/11 [00:01<00:00,  7.08it/s]\n",
      " 20%|██        | 1/5 [00:00<00:00,  6.86it/s]"
     ]
    },
    {
     "name": "stdout",
     "output_type": "stream",
     "text": [
      "1112 (1257, 7)\n"
     ]
    },
    {
     "name": "stderr",
     "output_type": "stream",
     "text": [
      "100%|██████████| 5/5 [00:00<00:00,  7.00it/s]\n",
      " 20%|██        | 1/5 [00:00<00:00,  6.79it/s]"
     ]
    },
    {
     "name": "stdout",
     "output_type": "stream",
     "text": [
      "1113 (1043, 7)\n"
     ]
    },
    {
     "name": "stderr",
     "output_type": "stream",
     "text": [
      "100%|██████████| 5/5 [00:00<00:00,  7.67it/s]\n",
      "  3%|▎         | 1/35 [00:00<00:05,  6.69it/s]"
     ]
    },
    {
     "name": "stdout",
     "output_type": "stream",
     "text": [
      "1114 (8720, 7)\n"
     ]
    },
    {
     "name": "stderr",
     "output_type": "stream",
     "text": [
      "100%|██████████| 35/35 [00:05<00:00,  6.89it/s]\n",
      "100%|██████████| 1/1 [00:00<00:00, 14.49it/s]\n",
      "  0%|          | 0/12 [00:00<?, ?it/s]"
     ]
    },
    {
     "name": "stdout",
     "output_type": "stream",
     "text": [
      "1115 (67, 7)\n",
      "1116 (2983, 7)\n"
     ]
    },
    {
     "name": "stderr",
     "output_type": "stream",
     "text": [
      "100%|██████████| 12/12 [00:01<00:00,  6.81it/s]\n",
      "100%|██████████| 1/1 [00:00<00:00, 17.66it/s]\n",
      "  0%|          | 0/4 [00:00<?, ?it/s]"
     ]
    },
    {
     "name": "stdout",
     "output_type": "stream",
     "text": [
      "1117 (38, 7)\n",
      "1118 (871, 7)\n"
     ]
    },
    {
     "name": "stderr",
     "output_type": "stream",
     "text": [
      "100%|██████████| 4/4 [00:00<00:00,  7.75it/s]\n",
      "  6%|▌         | 1/18 [00:00<00:02,  6.89it/s]"
     ]
    },
    {
     "name": "stdout",
     "output_type": "stream",
     "text": [
      "1119 (4474, 7)\n"
     ]
    },
    {
     "name": "stderr",
     "output_type": "stream",
     "text": [
      "100%|██████████| 18/18 [00:02<00:00,  6.76it/s]\n",
      "100%|██████████| 1/1 [00:00<00:00, 10.86it/s]\n",
      "100%|██████████| 1/1 [00:00<00:00, 11.43it/s]"
     ]
    },
    {
     "name": "stdout",
     "output_type": "stream",
     "text": [
      "1120 (115, 7)\n",
      "1121 (115, 7)\n"
     ]
    },
    {
     "name": "stderr",
     "output_type": "stream",
     "text": [
      "\n",
      "100%|██████████| 1/1 [00:00<00:00,  7.14it/s]\n",
      "  0%|          | 0/1 [00:00<?, ?it/s]"
     ]
    },
    {
     "name": "stdout",
     "output_type": "stream",
     "text": [
      "1122 (244, 7)\n",
      "1123 (52, 7)\n"
     ]
    },
    {
     "name": "stderr",
     "output_type": "stream",
     "text": [
      "100%|██████████| 1/1 [00:00<00:00, 15.96it/s]\n",
      " 25%|██▌       | 1/4 [00:00<00:00,  6.88it/s]"
     ]
    },
    {
     "name": "stdout",
     "output_type": "stream",
     "text": [
      "1124 (829, 7)\n"
     ]
    },
    {
     "name": "stderr",
     "output_type": "stream",
     "text": [
      "100%|██████████| 4/4 [00:00<00:00,  7.96it/s]\n",
      " 33%|███▎      | 1/3 [00:00<00:00,  7.12it/s]"
     ]
    },
    {
     "name": "stdout",
     "output_type": "stream",
     "text": [
      "1125 (643, 7)\n"
     ]
    },
    {
     "name": "stderr",
     "output_type": "stream",
     "text": [
      "100%|██████████| 3/3 [00:00<00:00,  7.78it/s]\n",
      "100%|██████████| 1/1 [00:00<00:00, 22.25it/s]\n",
      "  0%|          | 0/9 [00:00<?, ?it/s]"
     ]
    },
    {
     "name": "stdout",
     "output_type": "stream",
     "text": [
      "1126 (8, 7)\n",
      "1127 (2154, 7)\n"
     ]
    },
    {
     "name": "stderr",
     "output_type": "stream",
     "text": [
      "100%|██████████| 9/9 [00:01<00:00,  7.24it/s]\n",
      "  1%|          | 1/127 [00:00<00:18,  6.86it/s]"
     ]
    },
    {
     "name": "stdout",
     "output_type": "stream",
     "text": [
      "1128 (32371, 7)\n"
     ]
    },
    {
     "name": "stderr",
     "output_type": "stream",
     "text": [
      "100%|██████████| 127/127 [00:19<00:00,  6.53it/s]\n",
      "  4%|▍         | 1/26 [00:00<00:03,  6.61it/s]"
     ]
    },
    {
     "name": "stdout",
     "output_type": "stream",
     "text": [
      "1129 (6500, 7)\n"
     ]
    },
    {
     "name": "stderr",
     "output_type": "stream",
     "text": [
      "100%|██████████| 26/26 [00:03<00:00,  7.05it/s]\n",
      "  7%|▋         | 1/14 [00:00<00:01,  6.95it/s]"
     ]
    },
    {
     "name": "stdout",
     "output_type": "stream",
     "text": [
      "1130 (3575, 7)\n"
     ]
    },
    {
     "name": "stderr",
     "output_type": "stream",
     "text": [
      "100%|██████████| 14/14 [00:01<00:00,  7.07it/s]\n",
      " 11%|█         | 1/9 [00:00<00:01,  7.01it/s]"
     ]
    },
    {
     "name": "stdout",
     "output_type": "stream",
     "text": [
      "1131 (2133, 7)\n"
     ]
    },
    {
     "name": "stderr",
     "output_type": "stream",
     "text": [
      "100%|██████████| 9/9 [00:01<00:00,  7.41it/s]\n",
      " 25%|██▌       | 1/4 [00:00<00:00,  7.09it/s]"
     ]
    },
    {
     "name": "stdout",
     "output_type": "stream",
     "text": [
      "1132 (998, 7)\n"
     ]
    },
    {
     "name": "stderr",
     "output_type": "stream",
     "text": [
      "100%|██████████| 4/4 [00:00<00:00,  7.11it/s]\n",
      "  3%|▎         | 1/29 [00:00<00:03,  7.06it/s]"
     ]
    },
    {
     "name": "stdout",
     "output_type": "stream",
     "text": [
      "1133 (7305, 7)\n"
     ]
    },
    {
     "name": "stderr",
     "output_type": "stream",
     "text": [
      "100%|██████████| 29/29 [00:04<00:00,  6.96it/s]\n",
      "100%|██████████| 1/1 [00:00<00:00,  7.94it/s]\n",
      "  0%|          | 0/13 [00:00<?, ?it/s]"
     ]
    },
    {
     "name": "stdout",
     "output_type": "stream",
     "text": [
      "1134 (214, 7)\n",
      "1135 (3096, 7)\n"
     ]
    },
    {
     "name": "stderr",
     "output_type": "stream",
     "text": [
      "100%|██████████| 13/13 [00:01<00:00,  7.15it/s]\n",
      "  2%|▏         | 1/41 [00:00<00:05,  7.04it/s]"
     ]
    },
    {
     "name": "stdout",
     "output_type": "stream",
     "text": [
      "1136 (10413, 7)\n"
     ]
    },
    {
     "name": "stderr",
     "output_type": "stream",
     "text": [
      "100%|██████████| 41/41 [00:05<00:00,  6.99it/s]\n",
      "100%|██████████| 1/1 [00:00<00:00, 13.53it/s]\n",
      "  0%|          | 0/4 [00:00<?, ?it/s]"
     ]
    },
    {
     "name": "stdout",
     "output_type": "stream",
     "text": [
      "1137 (84, 7)\n",
      "1138 (769, 7)\n"
     ]
    },
    {
     "name": "stderr",
     "output_type": "stream",
     "text": [
      "100%|██████████| 4/4 [00:00<00:00,  8.28it/s]\n",
      "100%|██████████| 1/1 [00:00<00:00, 19.91it/s]\n",
      "  0%|          | 0/6 [00:00<?, ?it/s]"
     ]
    },
    {
     "name": "stdout",
     "output_type": "stream",
     "text": [
      "1139 (21, 7)\n",
      "1140 (1465, 7)\n"
     ]
    },
    {
     "name": "stderr",
     "output_type": "stream",
     "text": [
      "100%|██████████| 6/6 [00:00<00:00,  7.09it/s]\n",
      " 25%|██▌       | 1/4 [00:00<00:00,  7.13it/s]"
     ]
    },
    {
     "name": "stdout",
     "output_type": "stream",
     "text": [
      "1141 (845, 7)\n"
     ]
    },
    {
     "name": "stderr",
     "output_type": "stream",
     "text": [
      "100%|██████████| 4/4 [00:00<00:00,  7.91it/s]\n",
      "  8%|▊         | 1/12 [00:00<00:01,  6.82it/s]"
     ]
    },
    {
     "name": "stdout",
     "output_type": "stream",
     "text": [
      "1142 (2915, 7)\n"
     ]
    },
    {
     "name": "stderr",
     "output_type": "stream",
     "text": [
      "100%|██████████| 12/12 [00:01<00:00,  7.24it/s]\n",
      "  3%|▎         | 1/31 [00:00<00:04,  6.95it/s]"
     ]
    },
    {
     "name": "stdout",
     "output_type": "stream",
     "text": [
      "1143 (7783, 7)\n"
     ]
    },
    {
     "name": "stderr",
     "output_type": "stream",
     "text": [
      "100%|██████████| 31/31 [00:04<00:00,  7.09it/s]\n",
      " 20%|██        | 1/5 [00:00<00:00,  7.06it/s]"
     ]
    },
    {
     "name": "stdout",
     "output_type": "stream",
     "text": [
      "1144 (1048, 7)\n"
     ]
    },
    {
     "name": "stderr",
     "output_type": "stream",
     "text": [
      "100%|██████████| 5/5 [00:00<00:00,  8.06it/s]\n",
      "100%|██████████| 1/1 [00:00<00:00, 13.34it/s]\n",
      "  0%|          | 0/6 [00:00<?, ?it/s]"
     ]
    },
    {
     "name": "stdout",
     "output_type": "stream",
     "text": [
      "1145 (88, 7)\n",
      "1146 (1472, 7)\n"
     ]
    },
    {
     "name": "stderr",
     "output_type": "stream",
     "text": [
      "100%|██████████| 6/6 [00:00<00:00,  7.23it/s]\n",
      "  2%|▏         | 1/66 [00:00<00:09,  7.05it/s]"
     ]
    },
    {
     "name": "stdout",
     "output_type": "stream",
     "text": [
      "1147 (16676, 7)\n"
     ]
    },
    {
     "name": "stderr",
     "output_type": "stream",
     "text": [
      "100%|██████████| 66/66 [00:09<00:00,  6.90it/s]\n",
      "  3%|▎         | 1/32 [00:00<00:04,  6.83it/s]"
     ]
    },
    {
     "name": "stdout",
     "output_type": "stream",
     "text": [
      "1148 (8179, 7)\n"
     ]
    },
    {
     "name": "stderr",
     "output_type": "stream",
     "text": [
      "100%|██████████| 32/32 [00:04<00:00,  6.92it/s]\n",
      "  6%|▌         | 1/17 [00:00<00:02,  7.09it/s]"
     ]
    },
    {
     "name": "stdout",
     "output_type": "stream",
     "text": [
      "1149 (4148, 7)\n"
     ]
    },
    {
     "name": "stderr",
     "output_type": "stream",
     "text": [
      "100%|██████████| 17/17 [00:02<00:00,  7.26it/s]\n",
      "  2%|▏         | 1/63 [00:00<00:08,  7.00it/s]"
     ]
    },
    {
     "name": "stdout",
     "output_type": "stream",
     "text": [
      "1150 (16049, 7)\n"
     ]
    },
    {
     "name": "stderr",
     "output_type": "stream",
     "text": [
      "100%|██████████| 63/63 [00:09<00:00,  6.95it/s]\n",
      "100%|██████████| 1/1 [00:00<00:00, 16.05it/s]\n",
      "  0%|          | 0/91 [00:00<?, ?it/s]"
     ]
    },
    {
     "name": "stdout",
     "output_type": "stream",
     "text": [
      "1151 (51, 7)\n",
      "1152 (23063, 7)\n"
     ]
    },
    {
     "name": "stderr",
     "output_type": "stream",
     "text": [
      "100%|██████████| 91/91 [00:12<00:00,  7.06it/s]\n",
      " 12%|█▎        | 1/8 [00:00<00:00,  7.21it/s]"
     ]
    },
    {
     "name": "stdout",
     "output_type": "stream",
     "text": [
      "1153 (2041, 7)\n"
     ]
    },
    {
     "name": "stderr",
     "output_type": "stream",
     "text": [
      "100%|██████████| 8/8 [00:01<00:00,  7.06it/s]\n",
      " 20%|██        | 1/5 [00:00<00:00,  7.13it/s]"
     ]
    },
    {
     "name": "stdout",
     "output_type": "stream",
     "text": [
      "1154 (1150, 7)\n"
     ]
    },
    {
     "name": "stderr",
     "output_type": "stream",
     "text": [
      "100%|██████████| 5/5 [00:00<00:00,  7.52it/s]\n",
      "100%|██████████| 1/1 [00:00<00:00, 10.45it/s]\n",
      "100%|██████████| 1/1 [00:00<00:00, 15.02it/s]\n",
      "  0%|          | 0/1 [00:00<?, ?it/s]"
     ]
    },
    {
     "name": "stdout",
     "output_type": "stream",
     "text": [
      "1155 (133, 7)\n",
      "1156 (65, 7)\n",
      "1157 (174, 7)\n"
     ]
    },
    {
     "name": "stderr",
     "output_type": "stream",
     "text": [
      "100%|██████████| 1/1 [00:00<00:00,  9.13it/s]\n",
      "  7%|▋         | 1/14 [00:00<00:01,  7.12it/s]"
     ]
    },
    {
     "name": "stdout",
     "output_type": "stream",
     "text": [
      "1158 (3494, 7)\n"
     ]
    },
    {
     "name": "stderr",
     "output_type": "stream",
     "text": [
      "100%|██████████| 14/14 [00:01<00:00,  7.10it/s]\n",
      "100%|██████████| 1/1 [00:00<00:00,  7.54it/s]\n",
      "  0%|          | 0/25 [00:00<?, ?it/s]"
     ]
    },
    {
     "name": "stdout",
     "output_type": "stream",
     "text": [
      "1159 (235, 7)\n",
      "1160 (6163, 7)\n"
     ]
    },
    {
     "name": "stderr",
     "output_type": "stream",
     "text": [
      "100%|██████████| 25/25 [00:03<00:00,  7.23it/s]\n",
      "  2%|▏         | 1/47 [00:00<00:06,  6.87it/s]"
     ]
    },
    {
     "name": "stdout",
     "output_type": "stream",
     "text": [
      "1161 (11917, 7)\n"
     ]
    },
    {
     "name": "stderr",
     "output_type": "stream",
     "text": [
      "100%|██████████| 47/47 [00:06<00:00,  6.96it/s]\n",
      " 25%|██▌       | 1/4 [00:00<00:00,  7.16it/s]"
     ]
    },
    {
     "name": "stdout",
     "output_type": "stream",
     "text": [
      "1162 (844, 7)\n"
     ]
    },
    {
     "name": "stderr",
     "output_type": "stream",
     "text": [
      "100%|██████████| 4/4 [00:00<00:00,  8.16it/s]\n",
      "100%|██████████| 1/1 [00:00<00:00, 23.44it/s]\n",
      "  8%|▊         | 1/13 [00:00<00:01,  7.10it/s]"
     ]
    },
    {
     "name": "stdout",
     "output_type": "stream",
     "text": [
      "1163 (6, 7)\n",
      "1164 (3274, 7)\n"
     ]
    },
    {
     "name": "stderr",
     "output_type": "stream",
     "text": [
      "100%|██████████| 13/13 [00:01<00:00,  7.16it/s]\n",
      "100%|██████████| 1/1 [00:00<00:00, 14.92it/s]\n",
      "100%|██████████| 1/1 [00:00<00:00, 22.14it/s]\n",
      "  0%|          | 0/7 [00:00<?, ?it/s]"
     ]
    },
    {
     "name": "stdout",
     "output_type": "stream",
     "text": [
      "1165 (65, 7)\n",
      "1166 (6, 7)\n",
      "1167 (1597, 7)\n"
     ]
    },
    {
     "name": "stderr",
     "output_type": "stream",
     "text": [
      "100%|██████████| 7/7 [00:00<00:00,  7.34it/s]\n",
      " 20%|██        | 1/5 [00:00<00:00,  6.73it/s]"
     ]
    },
    {
     "name": "stdout",
     "output_type": "stream",
     "text": [
      "1168 (1062, 7)\n"
     ]
    },
    {
     "name": "stderr",
     "output_type": "stream",
     "text": [
      "100%|██████████| 5/5 [00:00<00:00,  7.59it/s]\n",
      "100%|██████████| 1/1 [00:00<00:00,  9.46it/s]\n",
      "  0%|          | 0/11 [00:00<?, ?it/s]"
     ]
    },
    {
     "name": "stdout",
     "output_type": "stream",
     "text": [
      "1169 (153, 7)\n",
      "1170 (2635, 7)\n"
     ]
    },
    {
     "name": "stderr",
     "output_type": "stream",
     "text": [
      "100%|██████████| 11/11 [00:01<00:00,  7.32it/s]\n",
      " 20%|██        | 1/5 [00:00<00:00,  7.05it/s]"
     ]
    },
    {
     "name": "stdout",
     "output_type": "stream",
     "text": [
      "1171 (1066, 7)\n"
     ]
    },
    {
     "name": "stderr",
     "output_type": "stream",
     "text": [
      "100%|██████████| 5/5 [00:00<00:00,  7.91it/s]\n",
      " 33%|███▎      | 1/3 [00:00<00:00,  6.84it/s]"
     ]
    },
    {
     "name": "stdout",
     "output_type": "stream",
     "text": [
      "1172 (649, 7)\n"
     ]
    },
    {
     "name": "stderr",
     "output_type": "stream",
     "text": [
      "100%|██████████| 3/3 [00:00<00:00,  7.78it/s]\n",
      "100%|██████████| 1/1 [00:00<00:00, 19.09it/s]\n",
      "  0%|          | 0/15 [00:00<?, ?it/s]"
     ]
    },
    {
     "name": "stdout",
     "output_type": "stream",
     "text": [
      "1173 (20, 7)\n",
      "1174 (3698, 7)\n"
     ]
    },
    {
     "name": "stderr",
     "output_type": "stream",
     "text": [
      "100%|██████████| 15/15 [00:02<00:00,  7.21it/s]\n",
      "100%|██████████| 1/1 [00:00<00:00, 21.40it/s]\n",
      "100%|██████████| 1/1 [00:00<00:00,  8.73it/s]\n",
      "  0%|          | 0/31 [00:00<?, ?it/s]"
     ]
    },
    {
     "name": "stdout",
     "output_type": "stream",
     "text": [
      "1175 (15, 7)\n",
      "1176 (189, 7)\n",
      "1177 (7822, 7)\n"
     ]
    },
    {
     "name": "stderr",
     "output_type": "stream",
     "text": [
      "100%|██████████| 31/31 [00:04<00:00,  7.05it/s]\n",
      " 25%|██▌       | 1/4 [00:00<00:00,  7.01it/s]"
     ]
    },
    {
     "name": "stdout",
     "output_type": "stream",
     "text": [
      "1178 (805, 7)\n"
     ]
    },
    {
     "name": "stderr",
     "output_type": "stream",
     "text": [
      "100%|██████████| 4/4 [00:00<00:00,  7.88it/s]\n",
      " 33%|███▎      | 1/3 [00:00<00:00,  7.07it/s]"
     ]
    },
    {
     "name": "stdout",
     "output_type": "stream",
     "text": [
      "1179 (758, 7)\n"
     ]
    },
    {
     "name": "stderr",
     "output_type": "stream",
     "text": [
      "100%|██████████| 3/3 [00:00<00:00,  6.98it/s]\n",
      "  3%|▎         | 1/31 [00:00<00:04,  6.53it/s]"
     ]
    },
    {
     "name": "stdout",
     "output_type": "stream",
     "text": [
      "1180 (7730, 7)\n"
     ]
    },
    {
     "name": "stderr",
     "output_type": "stream",
     "text": [
      "100%|██████████| 31/31 [00:04<00:00,  6.98it/s]\n",
      " 25%|██▌       | 1/4 [00:00<00:00,  6.72it/s]"
     ]
    },
    {
     "name": "stdout",
     "output_type": "stream",
     "text": [
      "1181 (988, 7)\n"
     ]
    },
    {
     "name": "stderr",
     "output_type": "stream",
     "text": [
      "100%|██████████| 4/4 [00:00<00:00,  7.07it/s]\n",
      "100%|██████████| 1/1 [00:00<00:00, 20.96it/s]\n",
      "  0%|          | 0/2 [00:00<?, ?it/s]"
     ]
    },
    {
     "name": "stdout",
     "output_type": "stream",
     "text": [
      "1182 (15, 7)\n",
      "1183 (379, 7)\n"
     ]
    },
    {
     "name": "stderr",
     "output_type": "stream",
     "text": [
      "100%|██████████| 2/2 [00:00<00:00,  8.57it/s]\n",
      "  7%|▋         | 1/14 [00:00<00:01,  7.11it/s]"
     ]
    },
    {
     "name": "stdout",
     "output_type": "stream",
     "text": [
      "1184 (3465, 7)\n"
     ]
    },
    {
     "name": "stderr",
     "output_type": "stream",
     "text": [
      "100%|██████████| 14/14 [00:01<00:00,  7.14it/s]\n",
      " 20%|██        | 1/5 [00:00<00:00,  6.85it/s]"
     ]
    },
    {
     "name": "stdout",
     "output_type": "stream",
     "text": [
      "1185 (1082, 7)\n"
     ]
    },
    {
     "name": "stderr",
     "output_type": "stream",
     "text": [
      "100%|██████████| 5/5 [00:00<00:00,  7.72it/s]\n"
     ]
    }
   ],
   "source": [
    "genes = {a[2]: [] for a in annotation}\n",
    "for i,a in enumerate(data):\n",
    "    #with open(op.join(\"/home/bakirillov/HDD/data/casoffinder_data/\", a), \"r\"):\n",
    "    current_df = pd.read_csv(\n",
    "        op.join(\n",
    "            \"/home/bakirillov/HDD/data/chr22_grnas/\"+a\n",
    "        ), sep=\"\\t\", header=None\n",
    "    ).dropna()\n",
    "    current_df = current_df[current_df[3].apply(lambda x: len(x) == 23)]\n",
    "    current_df[6] = [a]*current_df.shape[0]\n",
    "    print(i, current_df.shape)\n",
    "    tds = DeepHFDataset(\n",
    "        current_df, np.arange(current_df.shape[0]), transformer, sequence_column=3, \n",
    "        label_column=5\n",
    "    )\n",
    "    tld = DataLoader(tds, shuffle=False, batch_size=256)\n",
    "    tb_cnn_mse_oa = []\n",
    "    tb_cnn_mse_va = []\n",
    "    tb_rnn_mse_oa = []\n",
    "    tb_rnn_mse_va = []\n",
    "    tb_cnn_elbo_oa = []\n",
    "    tb_cnn_elbo_va = []\n",
    "    tb_rnn_elbo_oa = []\n",
    "    tb_rnn_elbo_va = []\n",
    "    for transformed_batch, _ in tqdm(tld):\n",
    "        tb_cnn_mse = cnn_mse(transformed_batch)\n",
    "        tb_cnn_mse_o = cnn_mse.likelihood(\n",
    "            tb_cnn_mse[0]\n",
    "        ).mean.mean(0).cpu().data.numpy()\n",
    "        tb_cnn_mse_v = cnn_mse.likelihood(\n",
    "            tb_cnn_mse[0]\n",
    "        ).variance.mean(0).cpu().data.numpy()\n",
    "        tb_cnn_mse_oa.extend(tb_cnn_mse_o)\n",
    "        tb_cnn_mse_va.extend(tb_cnn_mse_v)\n",
    "        tb_rnn_mse = rnn_mse(transformed_batch)\n",
    "        tb_rnn_mse_o = rnn_mse.likelihood(\n",
    "            tb_rnn_mse[0]\n",
    "        ).mean.mean(0).cpu().data.numpy()\n",
    "        tb_rnn_mse_v = rnn_mse.likelihood(\n",
    "            tb_rnn_mse[0]\n",
    "        ).variance.mean(0).cpu().data.numpy()\n",
    "        tb_rnn_mse_oa.extend(tb_rnn_mse_o)\n",
    "        tb_rnn_mse_va.extend(tb_rnn_mse_v)\n",
    "        tb_cnn_elbo = cnn_elbo(transformed_batch)\n",
    "        tb_cnn_elbo_o = cnn_elbo.likelihood(\n",
    "            tb_cnn_elbo[0]\n",
    "        ).mean.mean(0).cpu().data.numpy()\n",
    "        tb_cnn_elbo_v = cnn_elbo.likelihood(\n",
    "            tb_cnn_elbo[0]\n",
    "        ).variance.mean(0).cpu().data.numpy()\n",
    "        tb_cnn_elbo_oa.extend(tb_cnn_elbo_o)\n",
    "        tb_cnn_elbo_va.extend(tb_cnn_elbo_v)\n",
    "        tb_rnn_elbo = rnn_elbo(transformed_batch)\n",
    "        tb_rnn_elbo_o = rnn_elbo.likelihood(\n",
    "            tb_rnn_elbo[0]\n",
    "        ).mean.mean(0).cpu().data.numpy()\n",
    "        tb_rnn_elbo_v = rnn_elbo.likelihood(\n",
    "            tb_rnn_elbo[0]\n",
    "        ).variance.mean(0).cpu().data.numpy()\n",
    "        tb_rnn_elbo_oa.extend(tb_rnn_elbo_o)\n",
    "        tb_rnn_elbo_va.extend(tb_rnn_elbo_v)\n",
    "    current_df[7] = tb_cnn_mse_oa\n",
    "    current_df[8] = tb_cnn_mse_va\n",
    "    current_df[9] = tb_rnn_mse_oa\n",
    "    current_df[10] = tb_rnn_mse_va\n",
    "    current_df[11] = tb_cnn_elbo_oa\n",
    "    current_df[12] = tb_cnn_elbo_va\n",
    "    current_df[13] = tb_rnn_elbo_oa\n",
    "    current_df[14] = tb_rnn_elbo_va\n",
    "    current_df[15] = (current_df[7] + current_df[9])/2\n",
    "    current_df[16] = current_df[8] + current_df[10]\n",
    "    current_df[17] = (current_df[11] + current_df[13])/2\n",
    "    current_df[18] = current_df[12] + current_df[14]\n",
    "    current_df = current_df.sort_values(by=7, ascending=False)\n",
    "    current_df.to_csv(\n",
    "        op.join(\n",
    "            \"/home/bakirillov/HDD/data/chr22_ordered/\"+a\n",
    "        ), sep=\"\\t\", header=None\n",
    "    )"
   ]
  },
  {
   "cell_type": "code",
   "execution_count": 22,
   "metadata": {},
   "outputs": [],
   "source": [
    "ordered_data = [a for a in os.walk(\"/home/bakirillov/HDD/data/chr22_ordered/\")][0][2]"
   ]
  },
  {
   "cell_type": "code",
   "execution_count": 38,
   "metadata": {},
   "outputs": [
    {
     "name": "stdout",
     "output_type": "stream",
     "text": [
      "0 SERPIND1.tsv\n",
      "1 HSFY1P1.tsv\n",
      "2 SLC25A15P5.tsv\n",
      "3 LOC339685.tsv\n",
      "4 GTSE1-DT.tsv\n",
      "5 TPTEP2.tsv\n",
      "6 RNU6-1219P.tsv\n",
      "7 SAMM50.tsv\n",
      "8 PLA2G6.tsv\n",
      "9 XPNPEP3.tsv\n",
      "10 LOC105373007.tsv\n",
      "11 RPL34P35.tsv\n",
      "12 APOBEC3A.tsv\n",
      "13 LINC00896.tsv\n",
      "14 CHKB.tsv\n",
      "15 TMEM184B.tsv\n",
      "16 MIR4763.tsv\n",
      "17 DGCR6.tsv\n",
      "18 LOC105372860.tsv\n",
      "19 SEZ6L.tsv\n",
      "20 RPL32P5.tsv\n",
      "21 CA15P1.tsv\n",
      "22 LINC00634.tsv\n",
      "23 MIR6069.tsv\n",
      "24 CRELD2.tsv\n",
      "25 HSCB.tsv\n",
      "26 LOC101232810.tsv\n",
      "27 APOBEC3C.tsv\n",
      "28 RPL15P22.tsv\n",
      "29 LOC730668.tsv\n",
      "30 CACNA1I.tsv\n",
      "31 MEI1.tsv\n",
      "32 LOC107985568.tsv\n",
      "33 HIC2.tsv\n",
      "34 CRIP1P4.tsv\n",
      "35 MYH9.tsv\n",
      "36 RASD2.tsv\n",
      "37 IGLV2-14.tsv\n",
      "38 LOC101927447.tsv\n",
      "39 TOM1.tsv\n",
      "40 LOC105373067.tsv\n",
      "41 RNA5SP493.tsv\n",
      "42 VN1R9P.tsv\n",
      "43 LOC105373015.tsv\n",
      "44 GGTLC2.tsv\n",
      "45 LOC105373018.tsv\n",
      "46 CDC45.tsv\n",
      "47 ANP32BP2.tsv\n",
      "48 RTN4R.tsv\n",
      "49 SHANK3.tsv\n",
      "50 SULT4A1.tsv\n",
      "51 IGLJ7.tsv\n",
      "51 IGLJ7.tsv nothing\n",
      "52 ZNF73P.tsv\n",
      "53 KRT18P5.tsv\n",
      "54 RPL8P5.tsv\n",
      "55 RN7SL168P.tsv\n",
      "56 LINC01639.tsv\n",
      "57 TPTEP1.tsv\n",
      "58 LOC101927474.tsv\n",
      "59 SREBF2-AS1.tsv\n",
      "60 MIR6889.tsv\n",
      "61 PCMTD1P4.tsv\n",
      "62 SEC14L2.tsv\n",
      "63 RPS19BP1.tsv\n",
      "64 LOC100287966.tsv\n",
      "65 PI4KAP2.tsv\n",
      "66 FBXW4P1.tsv\n",
      "67 LINC01659.tsv\n",
      "68 TMEM191C.tsv\n",
      "69 BCRP7.tsv\n",
      "70 CBX7.tsv\n",
      "71 TUBA8.tsv\n",
      "72 IGLV10-67.tsv\n",
      "73 LOC107985543.tsv\n",
      "74 ZBED4.tsv\n",
      "75 A4GALT.tsv\n",
      "76 POM121L7P.tsv\n",
      "77 IGLV3-22.tsv\n",
      "78 IGLVIV-53.tsv\n",
      "79 LOC100506271.tsv\n",
      "80 GNAZ.tsv\n",
      "81 LOC105372959.tsv\n",
      "82 LOC107985584.tsv\n",
      "83 RANBP1.tsv\n",
      "84 RPS17P16.tsv\n",
      "85 HPS4.tsv\n",
      "86 GGTLC4P.tsv\n",
      "87 SLC9A3P2.tsv\n",
      "88 LOC105372861.tsv\n",
      "89 LOC105372976.tsv\n",
      "90 PICK1.tsv\n",
      "91 LINC01665.tsv\n",
      "92 CCDC74BP1.tsv\n",
      "93 LOC105372962.tsv\n",
      "94 CSDC2.tsv\n",
      "95 ASH2LP3.tsv\n",
      "96 TUBA3FP.tsv\n",
      "97 LOC100289194.tsv\n",
      "98 PNPLA5.tsv\n",
      "99 IGLV3-25.tsv\n",
      "100 BMS1P22.tsv\n",
      "101 RNU6-1066P.tsv\n",
      "102 LOC105373017.tsv\n",
      "103 KREMEN1.tsv\n",
      "104 AP1B1.tsv\n",
      "105 IGLV5-45.tsv\n",
      "106 COMT.tsv\n",
      "107 MIR3619.tsv\n",
      "108 LOC105373074.tsv\n",
      "109 LL22NC03-13G6.2.tsv\n",
      "110 TEX33.tsv\n",
      "111 KRT18P23.tsv\n",
      "112 LINC00899.tsv\n",
      "113 LOC105373044.tsv\n",
      "114 IGLVI-70.tsv\n",
      "115 SLC25A5P1.tsv\n",
      "116 LPEQ6126.tsv\n",
      "117 MIR12114.tsv\n",
      "118 SNORA50B.tsv\n",
      "119 MIR650.tsv\n",
      "120 DUX4L40.tsv\n",
      "121 RBFOX2.tsv\n",
      "122 IGLJ3.tsv\n",
      "122 IGLJ3.tsv nothing\n",
      "123 SNU13.tsv\n",
      "124 CRYBB2.tsv\n",
      "125 LOC100736408.tsv\n",
      "126 MPPED1.tsv\n",
      "127 LGALS2.tsv\n",
      "128 LOC101060052.tsv\n",
      "129 LOC100506679.tsv\n",
      "130 LOC105377203.tsv\n",
      "131 APOL1.tsv\n",
      "132 SRRD.tsv\n",
      "133 DNAJB7.tsv\n",
      "134 KCNJ4.tsv\n",
      "135 PI4KA.tsv\n",
      "136 DNAL4.tsv\n",
      "137 SLC25A18.tsv\n",
      "138 TMEM191B.tsv\n",
      "139 CLDN5.tsv\n",
      "140 RNA5SP495.tsv\n",
      "141 LOC105377182.tsv\n",
      "142 LOC102724608.tsv\n",
      "143 LOC100421614.tsv\n",
      "144 IGLV3-17.tsv\n",
      "145 LOC284898.tsv\n",
      "146 LOC100289004.tsv\n",
      "147 FUNDC2P4.tsv\n",
      "148 RNU6-1128P.tsv\n",
      "149 LOC100736412.tsv\n",
      "150 TTLL12.tsv\n",
      "151 HMGB1P10.tsv\n",
      "152 LOC102724638.tsv\n",
      "153 LOC105373027.tsv\n",
      "154 IGLV3-19.tsv\n",
      "155 RAC2.tsv\n",
      "156 LIF.tsv\n",
      "157 GGA1.tsv\n",
      "158 CDC42EP1.tsv\n",
      "159 BPIFC.tsv\n",
      "160 CRKL.tsv\n",
      "161 LOC105373038.tsv\n",
      "162 LOC100422375.tsv\n",
      "163 TNFRSF13C.tsv\n",
      "164 RFPL2.tsv\n",
      "165 LINC02554.tsv\n",
      "166 ADORA2A-AS1.tsv\n",
      "167 LINC02557.tsv\n",
      "168 IL17RA.tsv\n",
      "169 P2RX6P.tsv\n",
      "170 TMEM121B.tsv\n",
      "171 LOC105373029.tsv\n",
      "172 TNRC6B.tsv\n",
      "173 LOC107985535.tsv\n",
      "174 COX5BP7.tsv\n",
      "175 RFPL3S.tsv\n",
      "176 LOC105377199.tsv\n",
      "177 LARGE-AS1.tsv\n",
      "178 CASTOR1.tsv\n",
      "179 GSC2.tsv\n",
      "180 LOC100132723.tsv\n",
      "181 PES1.tsv\n",
      "182 LINC01664.tsv\n",
      "183 MIR1249.tsv\n",
      "184 MGAT3.tsv\n",
      "185 EIF3D.tsv\n",
      "186 MIATNB.tsv\n",
      "187 PACSIN2.tsv\n",
      "188 FAM32BP.tsv\n",
      "189 LOC102723769.tsv\n",
      "190 LOC105373020.tsv\n",
      "191 LOC105377191.tsv\n",
      "192 PSLNR.tsv\n",
      "193 MAPK1.tsv\n",
      "194 LOC105372988.tsv\n",
      "195 YWHAH.tsv\n",
      "196 RN7SL704P.tsv\n",
      "197 ATF4.tsv\n",
      "198 LOC100996699.tsv\n",
      "199 PRODH.tsv\n",
      "200 IGLV2-33.tsv\n",
      "201 SPECC1L.tsv\n",
      "202 TSSK2.tsv\n",
      "203 GPM6BP3.tsv\n",
      "204 ZNRF3.tsv\n",
      "205 FAM227A.tsv\n",
      "206 DVL1P1.tsv\n",
      "207 BCR.tsv\n",
      "208 CERK.tsv\n",
      "209 LOC284865.tsv\n",
      "210 JTBP1.tsv\n",
      "211 FRG1FP.tsv\n",
      "212 LOC100506472.tsv\n",
      "213 IGLV1-50.tsv\n",
      "214 IGLV3-15.tsv\n",
      "215 LOC105373081.tsv\n",
      "216 TBC1D22A-AS1.tsv\n",
      "217 IGLV4-3.tsv\n",
      "218 TAFA5.tsv\n",
      "219 LOC91370.tsv\n",
      "220 SPECC1L-ADORA2A.tsv\n",
      "221 IGLV7-46.tsv\n",
      "222 LOC100421685.tsv\n",
      "223 IGLVI-56.tsv\n",
      "224 CACNG2.tsv\n",
      "225 CHKB-CPT1B.tsv\n",
      "226 RPL7AP70.tsv\n",
      "227 NF2.tsv\n",
      "228 TBX1.tsv\n",
      "229 IGLJ6.tsv\n",
      "230 ISX.tsv\n",
      "231 LOC100996598.tsv\n",
      "232 SYNGR1.tsv\n",
      "233 MIR658.tsv\n",
      "234 ELFN2.tsv\n",
      "235 LINC01315.tsv\n",
      "236 ALG12.tsv\n",
      "237 GAPDHP37.tsv\n",
      "238 RNU6-495P.tsv\n",
      "239 LOC105373091.tsv\n",
      "240 MIR6819.tsv\n",
      "241 BID.tsv\n",
      "242 CLCP1.tsv\n",
      "243 FAM230J.tsv\n",
      "244 C22orf31.tsv\n",
      "245 RPL39P41.tsv\n",
      "246 RHEBP3.tsv\n",
      "247 CENPM.tsv\n",
      "248 LOC105373047.tsv\n",
      "249 SUSD2.tsv\n",
      "250 LOC105372964.tsv\n",
      "251 IGLV3-30.tsv\n",
      "252 CSF2RB.tsv\n",
      "253 PIK3IP1-DT.tsv\n",
      "254 IGLV1-47.tsv\n",
      "255 MIRLET7B.tsv\n",
      "256 SNORD83B.tsv\n",
      "257 TYMP.tsv\n",
      "258 CELSR1.tsv\n",
      "259 LOC105373042.tsv\n",
      "260 GRK3.tsv\n",
      "261 LOC780780.tsv\n",
      "262 LOC107985541.tsv\n",
      "263 DERL3.tsv\n",
      "264 IGLC3.tsv\n",
      "265 ZNF280A.tsv\n",
      "266 CHKB-DT.tsv\n",
      "267 LOC105373060.tsv\n",
      "268 MIR5571.tsv\n",
      "269 RNU6-476P.tsv\n",
      "270 PHF5A.tsv\n",
      "271 LOC102724900.tsv\n",
      "272 MCAT.tsv\n",
      "273 LOC107985533.tsv\n",
      "274 ARHGAP42P3.tsv\n",
      "275 NCAPH2.tsv\n",
      "276 POTEH-AS1.tsv\n",
      "277 MIOX.tsv\n",
      "278 LINC01311.tsv\n",
      "279 OSBP2.tsv\n",
      "280 OGFRP1.tsv\n",
      "281 UFD1.tsv\n",
      "282 FAM230H.tsv\n",
      "283 IGLV7-43.tsv\n",
      "284 NF1P6.tsv\n",
      "285 LOC100500719.tsv\n",
      "286 ADSL.tsv\n",
      "287 TUG1.tsv\n",
      "288 LOC107985564.tsv\n",
      "289 LOC105373033.tsv\n",
      "290 H2AZP6.tsv\n",
      "291 MIR4535.tsv\n",
      "292 BCRP8.tsv\n",
      "293 TOP3BP1.tsv\n",
      "294 LOC105373051.tsv\n",
      "295 LOC284933.tsv\n",
      "296 RPL36P17.tsv\n",
      "297 LINC02558.tsv\n",
      "298 ANKRD54.tsv\n",
      "299 BCRP1.tsv\n",
      "300 LOC107985544.tsv\n",
      "301 MICAL3.tsv\n",
      "302 RPEP4.tsv\n",
      "303 MIR6820.tsv\n",
      "304 SOX10.tsv\n",
      "305 RPS9P2.tsv\n",
      "306 LOC100419673.tsv\n",
      "307 IGLVIV-64.tsv\n",
      "308 IGLV3-2.tsv\n",
      "309 IGLV1-62.tsv\n",
      "310 IGKV2OR22-3.tsv\n",
      "311 APOL4.tsv\n",
      "312 LOC105377190.tsv\n",
      "313 ADORA2A.tsv\n",
      "314 FBXO7.tsv\n",
      "315 HORMAD2-AS1.tsv\n",
      "316 YES1P1.tsv\n",
      "317 DUSP18.tsv\n",
      "318 LOC105373066.tsv\n",
      "319 NEK2P2.tsv\n",
      "320 TXNRD2.tsv\n",
      "321 C22orf42.tsv\n",
      "322 IGLV5-52.tsv\n",
      "323 TXN2.tsv\n",
      "324 KRT18P62.tsv\n",
      "325 DGCR8.tsv\n",
      "326 IL2RB.tsv\n",
      "327 RIMBP3B.tsv\n",
      "328 NFAM1.tsv\n",
      "329 RNU6ATAC22P.tsv\n",
      "330 LOC107987322.tsv\n",
      "331 LOC112268292.tsv\n",
      "332 MTCO1P33.tsv\n",
      "333 PIWIL3.tsv\n",
      "334 RPL41P3.tsv\n",
      "335 SMC1B.tsv\n",
      "336 SYN3.tsv\n",
      "337 LRRC75B.tsv\n",
      "338 LOC105372980.tsv\n",
      "339 MIR6821.tsv\n",
      "340 CDC27P8.tsv\n",
      "341 ARSA.tsv\n",
      "342 LINC00207.tsv\n",
      "343 DGCR6L.tsv\n",
      "344 RPS25P10.tsv\n",
      "345 LOC105377205.tsv\n",
      "346 LINC02556.tsv\n",
      "347 CCDC188.tsv\n",
      "348 BAIAP2L2.tsv\n",
      "349 HDHD5-AS1.tsv\n",
      "350 LOC105372971.tsv\n",
      "351 LOC107985545.tsv\n",
      "352 RN7SL633P.tsv\n",
      "353 APOBEC3D.tsv\n",
      "354 ENTHD1.tsv\n",
      "355 RPL31P62.tsv\n",
      "356 LOC105379518.tsv\n",
      "357 IGLVVI-22-1.tsv\n",
      "358 RPL7P52.tsv\n",
      "359 LOC105373086.tsv\n",
      "360 ZC3H7B.tsv\n",
      "361 LOC107985570.tsv\n",
      "362 CHEK2P4.tsv\n",
      "363 XKR3.tsv\n",
      "364 NOL12.tsv\n",
      "365 MOV10L1.tsv\n",
      "366 LOC112267891.tsv\n",
      "367 RPL4P6.tsv\n",
      "368 LINC01640.tsv\n",
      "369 XRCC6.tsv\n",
      "370 TTLL8.tsv\n",
      "371 ARHGAP8.tsv\n",
      "372 BIK.tsv\n",
      "373 SEC14L4.tsv\n",
      "374 LOC107985555.tsv\n",
      "375 RNU6-379P.tsv\n",
      "376 LOC105373053.tsv\n",
      "377 DEPDC5.tsv\n",
      "378 LOC105372948.tsv\n",
      "379 THAP7.tsv\n",
      "380 EFCAB6-AS1.tsv\n",
      "381 BCL2L13.tsv\n",
      "382 LOC107985566.tsv\n",
      "383 ABHD17AP4.tsv\n",
      "384 CSNK1E.tsv\n",
      "385 RIMBP3C.tsv\n",
      "386 MIR301B.tsv\n",
      "387 DUX4L41.tsv\n",
      "388 CDPF1.tsv\n",
      "389 SNORD13P1.tsv\n",
      "390 LOC105373071.tsv\n",
      "391 RN7SKP252.tsv\n",
      "392 IGLC5.tsv\n",
      "393 GAB4.tsv\n",
      "394 RPL13AP26.tsv\n",
      "395 ZDHHC8.tsv\n",
      "396 CDC27P7.tsv\n",
      "397 LINC01589.tsv\n",
      "398 LOC105372985.tsv\n",
      "399 THOC5.tsv\n",
      "400 MRTFA.tsv\n",
      "401 MIR3199-2.tsv\n",
      "402 KIAA0930.tsv\n",
      "403 LOC107985561.tsv\n",
      "404 MTFR2P2.tsv\n",
      "405 LOC107985554.tsv\n",
      "406 MIR130B.tsv\n",
      "407 LOC112268293.tsv\n",
      "408 LOC101928824.tsv\n",
      "409 HMGXB4.tsv\n",
      "410 CRYBB2P1.tsv\n",
      "411 ZNRF3-AS1.tsv\n",
      "412 RPS3AP51.tsv\n",
      "413 SLC16A8.tsv\n",
      "414 IGLCOR22-2.tsv\n",
      "415 LOC107985551.tsv\n",
      "416 IGLV6-57.tsv\n",
      "417 SLC25A1.tsv\n",
      "418 PI4KAP1.tsv\n",
      "419 SMDT1.tsv\n",
      "420 LOC646408.tsv\n",
      "421 TSSK1A.tsv\n",
      "422 LINC02885.tsv\n",
      "423 LINC01638.tsv\n",
      "424 FAM230B.tsv\n",
      "425 UPK3A.tsv\n",
      "426 MIR33A.tsv\n",
      "427 FAM230A.tsv\n",
      "428 IGLV1-41.tsv\n",
      "429 C22orf23.tsv\n",
      "430 LRRC37A14P.tsv\n",
      "431 HIRA.tsv\n",
      "432 RFPL1.tsv\n",
      "433 MICALL1.tsv\n",
      "434 ATXN10.tsv\n",
      "435 LRP5L.tsv\n",
      "436 LOC105373089.tsv\n",
      "437 LINC01644.tsv\n",
      "438 MTCO1P34.tsv\n",
      "439 GSTT2B.tsv\n",
      "440 MIR3928.tsv\n",
      "441 IGLC1.tsv\n",
      "442 MIR4764.tsv\n",
      "443 IGLV10-54.tsv\n",
      "444 LOC107987323.tsv\n",
      "445 LOC105373014.tsv\n",
      "446 P2RX6.tsv\n",
      "447 LOC101927183.tsv\n",
      "448 MIR7109.tsv\n",
      "449 DGCR2.tsv\n",
      "450 E2F6P1.tsv\n",
      "451 FAM230I.tsv\n",
      "452 SHISA8.tsv\n",
      "453 FAM118A.tsv\n",
      "454 MIR1281.tsv\n",
      "455 LINC01521.tsv\n",
      "456 NBEAP3.tsv\n",
      "457 MTCO2P20.tsv\n",
      "458 IGLVI-38.tsv\n",
      "459 GOLGA2P4.tsv\n",
      "460 DMC1.tsv\n",
      "461 IGLV2-28.tsv\n",
      "462 TRIOBP.tsv\n",
      "463 LOC105373077.tsv\n",
      "464 CHCHD10.tsv\n",
      "465 SNAP29.tsv\n",
      "466 TST.tsv\n",
      "467 ASPHD2.tsv\n",
      "468 RN7SKP210.tsv\n",
      "469 RNU6-513P.tsv\n",
      "470 GUCD1.tsv\n",
      "471 IFT27.tsv\n",
      "472 IGLV2-18.tsv\n",
      "473 LOC107985558.tsv\n",
      "474 LOC112268297.tsv\n",
      "475 LOC440792.tsv\n",
      "476 LOC107985529.tsv\n",
      "477 LOC150417.tsv\n",
      "478 RNA18SP.tsv\n",
      "479 SELENOO.tsv\n",
      "480 SNORD43.tsv\n",
      "481 IGLV5-37.tsv\n",
      "482 PRAME.tsv\n",
      "483 LOC105373021.tsv\n",
      "484 E2F6P2.tsv\n",
      "485 RIBC2.tsv\n",
      "486 EP300-AS1.tsv\n",
      "487 RN7SL6P.tsv\n",
      "488 EIF3L.tsv\n",
      "489 TAB1.tsv\n",
      "490 LOC102724378.tsv\n",
      "491 MIR3909.tsv\n",
      "492 IGLV5-48.tsv\n",
      "493 MORC2-AS1.tsv\n",
      "494 LOC107985553.tsv\n",
      "495 CPSF1P1.tsv\n",
      "496 IGLVV-58.tsv\n",
      "497 TRMT2A.tsv\n",
      "498 BNIP3P2.tsv\n",
      "499 LOC105373016.tsv\n",
      "500 LOC105379418.tsv\n",
      "501 CBY1.tsv\n",
      "502 LOC107985590.tsv\n"
     ]
    },
    {
     "name": "stdout",
     "output_type": "stream",
     "text": [
      "503 IGLL3P.tsv\n",
      "504 MIR3201.tsv\n",
      "505 RPS18P14.tsv\n",
      "506 MIR648.tsv\n",
      "507 BRD1.tsv\n",
      "508 HMOX1.tsv\n",
      "509 PDXP.tsv\n",
      "510 MIR1286.tsv\n",
      "511 ARFGAP3.tsv\n",
      "512 IGLV3-31.tsv\n",
      "513 RPL5P35.tsv\n",
      "514 MORC2.tsv\n",
      "515 LOC105372990.tsv\n",
      "516 LOC101929638.tsv\n",
      "517 TTC28.tsv\n",
      "518 CABIN1.tsv\n",
      "519 PISD.tsv\n",
      "520 ABHD17AP5.tsv\n",
      "521 IGLV2-11.tsv\n",
      "522 RN7SL20P.tsv\n",
      "523 SUN2.tsv\n",
      "524 TOP1P2.tsv\n",
      "525 MTATP6P20.tsv\n",
      "526 LOC100996404.tsv\n",
      "527 RN7SL843P.tsv\n",
      "528 LOC105372997.tsv\n",
      "529 SLC25A17.tsv\n",
      "530 SNORA77B.tsv\n",
      "531 LOC105373012.tsv\n",
      "532 IGLV3-16.tsv\n",
      "533 IGLV3-32.tsv\n",
      "534 IGLVI-68.tsv\n",
      "535 LOC110467534.tsv\n",
      "536 RGL4.tsv\n",
      "537 MIR4761.tsv\n",
      "538 CYTH4.tsv\n",
      "539 LOC284930.tsv\n",
      "540 MIR6817.tsv\n",
      "541 LOC100419811.tsv\n",
      "542 IGLVIV-66-1.tsv\n",
      "543 UQCRFS1P1.tsv\n",
      "544 MIR185.tsv\n",
      "545 LOC105372979.tsv\n",
      "546 ZNF72P.tsv\n",
      "547 IGLVV-66.tsv\n",
      "548 GSTT2.tsv\n",
      "549 IGLV3-21.tsv\n",
      "550 LOC100421121.tsv\n",
      "551 GALR3.tsv\n",
      "552 IGLV3-6.tsv\n",
      "553 BCRP6.tsv\n",
      "554 SNORD125.tsv\n",
      "555 LOC101929255.tsv\n",
      "556 POM121L10P.tsv\n",
      "557 LOC107985577.tsv\n",
      "558 BCRP3.tsv\n",
      "559 IGLV11-55.tsv\n",
      "560 PPM1F-AS1.tsv\n",
      "561 RNA5SP496.tsv\n",
      "562 LOC107985536.tsv\n",
      "563 IGL.tsv\n",
      "564 CPT1B.tsv\n",
      "565 LOC105373023.tsv\n",
      "566 PABPC1P9.tsv\n",
      "567 GGT1.tsv\n",
      "568 SERHL.tsv\n",
      "569 PRR5-ARHGAP8.tsv\n",
      "570 LOC105372859.tsv\n",
      "571 CRYBB3.tsv\n",
      "572 TCF20.tsv\n",
      "573 LOC102723507.tsv\n",
      "574 TOB2.tsv\n",
      "575 COX7BP1.tsv\n",
      "576 RNU6-810P.tsv\n",
      "577 NUP50-DT.tsv\n",
      "578 APOBEC3F.tsv\n",
      "579 LOC107985562.tsv\n",
      "580 LOC105372998.tsv\n",
      "581 DDX17.tsv\n",
      "582 KLHDC7B.tsv\n",
      "583 LOC105372952.tsv\n",
      "584 SIRPAP1.tsv\n",
      "585 THAP7-AS1.tsv\n",
      "586 LOC107987320.tsv\n",
      "587 PRR5.tsv\n",
      "588 LOC105373035.tsv\n",
      "589 SEPTIN3.tsv\n",
      "590 FBLN1.tsv\n",
      "591 EMID1.tsv\n",
      "592 LARGE1.tsv\n",
      "593 CYB5R3.tsv\n",
      "594 LOC105373032.tsv\n",
      "595 LOC441996.tsv\n",
      "596 PHF21B.tsv\n",
      "597 MIF.tsv\n",
      "598 GTPBP1.tsv\n",
      "599 MRPL40.tsv\n",
      "600 LINC01656.tsv\n",
      "601 RN7SL280P.tsv\n",
      "602 LOC105372947.tsv\n",
      "603 LOC112268295.tsv\n",
      "604 KIAA1671.tsv\n",
      "605 RN7SL263P.tsv\n",
      "606 IGLJ4.tsv\n",
      "606 IGLJ4.tsv nothing\n",
      "607 LINC01310.tsv\n",
      "608 LOC101927202.tsv\n",
      "609 KLHDC7B-DT.tsv\n",
      "610 LOC112268288.tsv\n",
      "611 TIMP3.tsv\n",
      "612 RPS15AP38.tsv\n",
      "613 RN7SL757P.tsv\n",
      "614 PARVG.tsv\n",
      "615 IGLV2-23.tsv\n",
      "616 HMGN2P9.tsv\n",
      "617 LOC105373019.tsv\n",
      "618 MIR378I.tsv\n",
      "619 LOC100422416.tsv\n",
      "620 LOC100129358.tsv\n",
      "621 LOC105373069.tsv\n",
      "622 IGLC2.tsv\n",
      "623 LOC107985588.tsv\n",
      "624 LMF2.tsv\n",
      "625 RN7SL812P.tsv\n",
      "626 PNPLA3.tsv\n",
      "627 TPTEP2-CSNK1E.tsv\n",
      "628 PRDX3P1.tsv\n",
      "629 DESI1.tsv\n",
      "630 POLDIP3.tsv\n",
      "631 LOC100129254.tsv\n",
      "632 CBX6.tsv\n",
      "633 LOC112268294.tsv\n",
      "634 MLC1.tsv\n",
      "635 DENND6B.tsv\n",
      "636 NDUFA6-DT.tsv\n",
      "637 LINC01422.tsv\n",
      "638 YDJC.tsv\n",
      "639 SDF2L1.tsv\n",
      "640 RNU6-201P.tsv\n",
      "641 ACTR3BP6.tsv\n",
      "642 MYO18B.tsv\n",
      "643 LOC107987325.tsv\n",
      "644 RPL35AP36.tsv\n",
      "645 MIR5739.tsv\n",
      "646 PPP1R26P2.tsv\n",
      "647 LOC129026.tsv\n",
      "648 RNU5F-5P.tsv\n",
      "649 LOC105373057.tsv\n",
      "650 EIF4HP2.tsv\n",
      "651 RRP7BP.tsv\n",
      "652 IGKV1OR22-1.tsv\n",
      "653 MYO18B-AS1.tsv\n",
      "654 RNY1P9.tsv\n",
      "655 MCHR1.tsv\n",
      "656 APOL6.tsv\n",
      "657 RPS10P30.tsv\n",
      "658 IGLV3-10.tsv\n",
      "659 MIR548J.tsv\n",
      "660 GCAT.tsv\n",
      "661 LOC692246.tsv\n",
      "662 LOC105373037.tsv\n",
      "663 MB.tsv\n",
      "664 CCDC157.tsv\n",
      "665 LOC110091768.tsv\n",
      "666 TUBA3GP.tsv\n",
      "667 RPL23AP82.tsv\n",
      "668 LINC01399.tsv\n",
      "669 RNU6-900P.tsv\n",
      "670 CCDC117.tsv\n",
      "671 CHADL.tsv\n",
      "672 LINC01643.tsv\n",
      "673 PRR14L.tsv\n",
      "674 USP41.tsv\n",
      "675 GGT5.tsv\n",
      "676 SEC14L6.tsv\n",
      "677 SCARF2.tsv\n",
      "678 RNF185.tsv\n",
      "679 IGKV3OR22-2.tsv\n",
      "680 SH3BP1.tsv\n",
      "681 TOP3B.tsv\n",
      "682 AP1B1P1.tsv\n",
      "683 LOC102723688.tsv\n",
      "684 RN7SKP80.tsv\n",
      "685 IGLL1.tsv\n",
      "686 TANGO2.tsv\n",
      "687 SLC35E4.tsv\n",
      "688 LGALS1.tsv\n",
      "689 BCRP5.tsv\n",
      "690 LOC105373022.tsv\n",
      "691 FAM230F.tsv\n",
      "692 MAPK12.tsv\n",
      "693 LOC112268291.tsv\n",
      "694 LL22NC01-81G9.3.tsv\n",
      "695 LINC00895.tsv\n",
      "696 LIF-AS1.tsv\n",
      "697 KCNMB3P1.tsv\n",
      "698 DRICH1.tsv\n",
      "699 ANKRD62P1.tsv\n",
      "700 MTCO1P20.tsv\n",
      "701 MIR3199-1.tsv\n",
      "702 MIR6816.tsv\n",
      "703 ARL2BPP10.tsv\n",
      "704 LOC100422530.tsv\n",
      "705 LOC107985538.tsv\n",
      "706 TRMU.tsv\n",
      "707 PARVB.tsv\n",
      "708 MTCO3P20.tsv\n",
      "709 LOC105373064.tsv\n",
      "710 RNU6-564P.tsv\n",
      "711 CYP2D8P.tsv\n",
      "712 MIR1306.tsv\n",
      "713 LOC102724653.tsv\n",
      "714 RN7SKP221.tsv\n",
      "715 GRAMD4P2.tsv\n",
      "716 GGT2.tsv\n",
      "717 CYP2D6.tsv\n",
      "718 LOC105373013.tsv\n",
      "719 LOC105369161.tsv\n",
      "720 IGLV7-35.tsv\n",
      "721 MTMR3.tsv\n",
      "722 LOC100996364.tsv\n",
      "723 SEPT5-GP1BB.tsv\n",
      "724 SUSD2P2.tsv\n",
      "725 CECR3.tsv\n",
      "726 TOMM40P2.tsv\n",
      "727 LOC105372935.tsv\n",
      "728 LL22NC03-102D1.18.tsv\n",
      "729 CES5AP1.tsv\n",
      "730 LOC107985567.tsv\n",
      "731 LOC105379516.tsv\n",
      "732 MCM5.tsv\n",
      "733 APOBEC3B.tsv\n",
      "734 KDELR3.tsv\n",
      "735 MIR649.tsv\n",
      "736 NDUFA6.tsv\n",
      "737 IGLVIV-65.tsv\n",
      "738 LOC105379428.tsv\n",
      "739 LOC107985571.tsv\n",
      "740 DUX4L42.tsv\n",
      "741 LOC100131536.tsv\n",
      "742 LOC100420103.tsv\n",
      "743 IGLJ2.tsv\n",
      "743 IGLJ2.tsv nothing\n",
      "744 PRR34-AS1.tsv\n",
      "745 GUSBP11.tsv\n",
      "746 LOC105373085.tsv\n",
      "747 IGLV3-12.tsv\n",
      "748 L3MBTL2.tsv\n",
      "749 TOMM22.tsv\n",
      "750 PIK3IP1.tsv\n",
      "751 IGLV2-8.tsv\n",
      "752 ANKRD62P1-PARP4P3.tsv\n",
      "753 HDHD5.tsv\n",
      "754 SERHL2.tsv\n",
      "755 DNM1P18.tsv\n",
      "756 MTCYBP34.tsv\n",
      "757 SDC4P.tsv\n",
      "758 APOBEC3G.tsv\n",
      "759 BMP6P1.tsv\n",
      "760 COX6B1P3.tsv\n",
      "761 RNU6-409P.tsv\n",
      "762 IGLVI-20.tsv\n",
      "763 TBC1D10A.tsv\n",
      "764 LOC107985556.tsv\n",
      "765 IGLV3-7.tsv\n",
      "766 APOL3.tsv\n",
      "767 ARVCF.tsv\n",
      "768 LOC105373000.tsv\n",
      "769 LOC107985579.tsv\n",
      "770 NIPSNAP1.tsv\n",
      "771 INPP5J.tsv\n",
      "772 UBE2L3.tsv\n",
      "773 POM121L4P.tsv\n",
      "774 IGLV3-27.tsv\n",
      "775 LOC107985532.tsv\n",
      "776 ISCA2P1.tsv\n",
      "777 MPST.tsv\n",
      "778 MTND1P10.tsv\n",
      "779 RN7SL268P.tsv\n",
      "780 LOC105372991.tsv\n",
      "781 GP1BB.tsv\n",
      "782 LOC642648.tsv\n",
      "783 ZMAT5.tsv\n",
      "784 MIR3200.tsv\n",
      "785 RN7SL162P.tsv\n",
      "786 POLR3H.tsv\n",
      "787 IL17REL.tsv\n",
      "788 BCRP2.tsv\n",
      "789 PATZ1.tsv\n",
      "790 CRYBB1.tsv\n",
      "791 RFPL4AP6.tsv\n",
      "792 MIRLET7A3.tsv\n",
      "793 APOBEC3H.tsv\n",
      "794 ACR.tsv\n",
      "795 RNF215.tsv\n",
      "796 IGLV3-13.tsv\n",
      "797 ADM2.tsv\n",
      "798 TTC38.tsv\n",
      "799 LOC105373003.tsv\n",
      "800 LOC101927372.tsv\n",
      "801 TSPO.tsv\n",
      "802 LOC102725072.tsv\n",
      "803 TTC28-AS1.tsv\n",
      "804 POTEH.tsv\n",
      "805 DUX4L43.tsv\n",
      "806 ZNF280B.tsv\n",
      "807 LOC107985563.tsv\n",
      "808 PPP6R2.tsv\n",
      "809 IGLVVI-25-1.tsv\n",
      "810 RTCB.tsv\n",
      "811 PEX26.tsv\n",
      "812 RN7SKP63.tsv\n",
      "813 SYCE3.tsv\n",
      "814 GGT3P.tsv\n",
      "815 MGAT3-AS1.tsv\n",
      "816 KIAA1656.tsv\n",
      "817 LOC100507599.tsv\n",
      "818 MIR3198-1.tsv\n",
      "819 MTND1P17.tsv\n",
      "820 LOC105372989.tsv\n",
      "821 LINC00528.tsv\n",
      "822 PITPNB.tsv\n",
      "823 C22orf39.tsv\n",
      "824 MIRLET7BHG.tsv\n",
      "825 LOC105373058.tsv\n",
      "826 RNU6-816P.tsv\n",
      "827 LOC107984030.tsv\n",
      "828 C22orf34.tsv\n",
      "829 LOC101929372.tsv\n",
      "830 RSPH14.tsv\n",
      "831 CCDC134.tsv\n",
      "832 LOC100420177.tsv\n",
      "833 POM121L11P.tsv\n",
      "834 MFNG.tsv\n",
      "835 LOC107985573.tsv\n",
      "836 CSF2RBP1.tsv\n",
      "837 FAM230D.tsv\n",
      "838 RFPL1S.tsv\n",
      "839 ZNF402P.tsv\n",
      "840 GGTLC5P.tsv\n",
      "841 SEPTIN5.tsv\n",
      "842 CECR7.tsv\n",
      "843 LIMK2.tsv\n",
      "844 LOC107987326.tsv\n",
      "845 LOC101928041.tsv\n",
      "846 SLC5A4-AS1.tsv\n",
      "847 LOC105372969.tsv\n",
      "848 LOC105373002.tsv\n",
      "849 SNRPD3.tsv\n",
      "850 LOC105372850.tsv\n",
      "851 AP1B1P2.tsv\n",
      "852 GGTLC3.tsv\n",
      "853 IGLV1-51.tsv\n",
      "854 LL22NC03-63E9.3.tsv\n",
      "855 LOC101927551.tsv\n",
      "856 MED15.tsv\n",
      "857 PPIL2.tsv\n",
      "858 DUX4L44.tsv\n",
      "859 RPS10P29.tsv\n",
      "860 MTCO3P34.tsv\n",
      "861 RTL10.tsv\n",
      "862 MIF-AS1.tsv\n",
      "863 TERF2IPP1.tsv\n",
      "864 SGSM1.tsv\n",
      "865 RNU6-331P.tsv\n",
      "866 PMM1.tsv\n",
      "867 MRPS18CP6.tsv\n",
      "868 CYP2D7.tsv\n",
      "869 YPEL1.tsv\n",
      "870 RNU7-167P.tsv\n",
      "871 LOC107985581.tsv\n",
      "872 TMEM191A.tsv\n",
      "873 MIR3667.tsv\n",
      "874 RHBDD3.tsv\n",
      "875 MTCO3P33.tsv\n",
      "876 RPL35P8.tsv\n",
      "877 SUSD2P1.tsv\n",
      "878 IGLV1-44.tsv\n",
      "879 LINC02559.tsv\n",
      "880 LOC107984037.tsv\n",
      "881 BCRP4.tsv\n",
      "882 RPL6P28.tsv\n",
      "883 YME1L1P1.tsv\n",
      "884 LOC284912.tsv\n",
      "885 GAL3ST1.tsv\n",
      "886 LOC100533637.tsv\n",
      "887 IGKV2OR22-4.tsv\n",
      "888 MAFF.tsv\n",
      "889 ARL5AP4.tsv\n",
      "890 C22orf15.tsv\n",
      "891 RNU6-1161P.tsv\n",
      "892 PRR34.tsv\n",
      "893 LOC100420967.tsv\n",
      "894 LOC101927051.tsv\n",
      "895 RNU6-28P.tsv\n",
      "896 SELENOM.tsv\n",
      "897 SMTN.tsv\n",
      "898 PPP1R26P4.tsv\n",
      "899 LOC105373068.tsv\n",
      "900 NCF4-AS1.tsv\n",
      "901 LOC107985549.tsv\n",
      "902 NUP50.tsv\n",
      "903 IGLJ5.tsv\n",
      "903 IGLJ5.tsv nothing\n",
      "904 PLXNB2.tsv\n",
      "905 MIR6818.tsv\n",
      "906 MRPS16P3.tsv\n",
      "907 USP18.tsv\n",
      "908 OSM.tsv\n",
      "909 LZTR1.tsv\n",
      "910 MMP11.tsv\n",
      "911 LRRC74B.tsv\n",
      "912 C22orf24.tsv\n",
      "913 UPB1.tsv\n",
      "914 CARD10.tsv\n",
      "915 IGLV3-1.tsv\n",
      "916 LOC101929594.tsv\n",
      "917 LOC100420175.tsv\n",
      "918 PPP1R26P3.tsv\n",
      "919 IGLV3-29.tsv\n",
      "920 LOC105373075.tsv\n",
      "921 LOC107985565.tsv\n",
      "922 LOC105372871.tsv\n",
      "923 FAM230E.tsv\n",
      "924 LOC112268290.tsv\n",
      "925 CNN2P1.tsv\n",
      "926 XBP1.tsv\n",
      "927 VPREB1.tsv\n",
      "928 MIAT.tsv\n",
      "929 LOC112268299.tsv\n",
      "930 LOC107985580.tsv\n",
      "931 FOXRED2.tsv\n",
      "932 RNA5SP497.tsv\n",
      "933 APOL2.tsv\n",
      "934 TMEM211.tsv\n",
      "935 FAM230G.tsv\n",
      "936 LINC01634.tsv\n",
      "937 NPTXR.tsv\n",
      "938 LOC100292922.tsv\n",
      "939 IGLJ1.tsv\n",
      "940 PPP1R26P5.tsv\n",
      "941 LOC110467520.tsv\n",
      "942 IGLVI-63.tsv\n",
      "943 LOC107985542.tsv\n",
      "944 POLR2F.tsv\n",
      "945 MIEF1.tsv\n",
      "946 EWSR1.tsv\n",
      "947 LOC102723722.tsv\n",
      "948 IGLC7.tsv\n",
      "949 PRAMENP.tsv\n",
      "950 PVALB.tsv\n",
      "951 LOC101929738.tsv\n",
      "952 IGLV1-40.tsv\n",
      "953 IGLV4-60.tsv\n",
      "954 POM121L9P.tsv\n",
      "955 GRAMD4.tsv\n",
      "956 RPL5P34.tsv\n",
      "957 LOC105373095.tsv\n",
      "958 RN7SL500P.tsv\n",
      "959 LOC105373030.tsv\n",
      "960 RAB36.tsv\n",
      "961 RANGAP1.tsv\n",
      "962 RABL2B.tsv\n",
      "963 LOC100652871.tsv\n",
      "964 L3MBTL2-AS1.tsv\n",
      "965 TFIP11.tsv\n",
      "966 ATP5MGL.tsv\n",
      "967 RN7SKP214.tsv\n",
      "968 EIF4ENIF1.tsv\n",
      "969 PKDREJ.tsv\n",
      "970 LINC00898.tsv\n",
      "971 LOC112268300.tsv\n",
      "972 RN7SKP131.tsv\n",
      "973 RASL10A.tsv\n",
      "974 LOC107985582.tsv\n",
      "975 ZNF70.tsv\n",
      "976 LL22NC03-104C7.1.tsv\n",
      "977 SSTR3.tsv\n",
      "978 DGCR5.tsv\n",
      "979 LOC107985550.tsv\n",
      "980 POM121L8P.tsv\n",
      "981 IGLL4P.tsv\n",
      "982 RTL6.tsv\n",
      "983 LINC01637.tsv\n",
      "984 IGLV2-34.tsv\n",
      "985 ODF3B.tsv\n",
      "986 YWHAQP2.tsv\n",
      "987 LOC114841040.tsv\n",
      "988 DGCR11.tsv\n",
      "989 GTSE1.tsv\n",
      "990 IGLV8-61.tsv\n"
     ]
    },
    {
     "name": "stdout",
     "output_type": "stream",
     "text": [
      "991 LOC107985557.tsv\n",
      "992 LOC105372974.tsv\n",
      "993 PDGFB.tsv\n",
      "994 RNU6-338P.tsv\n",
      "995 SHISAL1.tsv\n",
      "996 GSTT4.tsv\n",
      "997 LOC391334.tsv\n",
      "998 MRTFA-AS1.tsv\n",
      "999 PPP1R14BP1.tsv\n",
      "1000 ATP6V1E1.tsv\n",
      "1001 LOC102724801.tsv\n",
      "1002 LOC105373059.tsv\n",
      "1003 LOC112268289.tsv\n",
      "1004 RN7SKP169.tsv\n",
      "1005 LOC105372977.tsv\n",
      "1006 WNT7B.tsv\n",
      "1007 RPS15AP37.tsv\n",
      "1008 IGLVVII-41-1.tsv\n",
      "1009 ACO2.tsv\n",
      "1010 LOC107985576.tsv\n",
      "1011 RRP7A.tsv\n",
      "1012 SLC5A1.tsv\n",
      "1013 MAPK11.tsv\n",
      "1014 MAPK8IP2.tsv\n",
      "1015 SLC2A11.tsv\n",
      "1016 LOC644525.tsv\n",
      "1017 PANX2.tsv\n",
      "1018 TPST2.tsv\n",
      "1019 LOC100113375.tsv\n",
      "1020 NAGA.tsv\n",
      "1021 TMPRSS6.tsv\n",
      "1022 RNU6-375P.tsv\n",
      "1023 VPREB3.tsv\n",
      "1024 LOC105372853.tsv\n",
      "1025 RN7SL305P.tsv\n",
      "1026 APOL5.tsv\n",
      "1027 LOC105372995.tsv\n",
      "1028 LOC105372858.tsv\n",
      "1029 LOC101927344.tsv\n",
      "1030 CABP7.tsv\n",
      "1031 TBC1D22A.tsv\n",
      "1032 LOC105373063.tsv\n",
      "1033 ESS2.tsv\n",
      "1034 POM121L1P.tsv\n",
      "1035 AIFM3.tsv\n",
      "1036 CA15P3.tsv\n",
      "1037 OR11H1.tsv\n",
      "1038 LOC100420885.tsv\n",
      "1039 HMGN2P10.tsv\n",
      "1040 LOC107985537.tsv\n",
      "1041 MIR4766.tsv\n",
      "1042 SGSM3.tsv\n",
      "1043 ABCD1P4.tsv\n",
      "1044 CCT8L2.tsv\n",
      "1045 IGLC4.tsv\n",
      "1046 GAS2L1.tsv\n",
      "1047 IGLV3-24.tsv\n",
      "1048 HDAC10.tsv\n",
      "1049 IGLV3-9.tsv\n",
      "1050 PLA2G3.tsv\n",
      "1051 TEF.tsv\n",
      "1052 LOC100419506.tsv\n",
      "1053 CLTCL1.tsv\n",
      "1054 LOC105372863.tsv\n",
      "1055 SMPD4P1.tsv\n",
      "1056 LOC105372981.tsv\n",
      "1057 LOC105373083.tsv\n",
      "1058 LOC101927393.tsv\n",
      "1059 LOC100419915.tsv\n",
      "1060 ADA2.tsv\n",
      "1061 ST13.tsv\n",
      "1062 MTFP1.tsv\n",
      "1063 LOC646216.tsv\n",
      "1064 IGLVIV-59.tsv\n",
      "1065 LOC107985534.tsv\n",
      "1066 EP300.tsv\n",
      "1067 MN1.tsv\n",
      "1068 HORMAD2.tsv\n",
      "1069 LOC107985530.tsv\n",
      "1070 MIR3618.tsv\n",
      "1071 UQCR10.tsv\n",
      "1072 LOC100129262.tsv\n",
      "1073 LOC646927.tsv\n",
      "1074 FRG1GP.tsv\n",
      "1075 DDTL.tsv\n",
      "1076 TUBGCP6.tsv\n",
      "1077 LOC105373031.tsv\n",
      "1078 MIR4534.tsv\n",
      "1079 IGLV1-36.tsv\n",
      "1080 SNORA92.tsv\n",
      "1081 NDUFA9P1.tsv\n",
      "1082 DRG1.tsv\n",
      "1083 GNB1L.tsv\n",
      "1084 JOSD1.tsv\n",
      "1085 IGLVI-42.tsv\n",
      "1086 MIR4762.tsv\n",
      "1087 BMS1P20.tsv\n",
      "1088 PARP4P3.tsv\n",
      "1089 RPS10P31.tsv\n",
      "1090 KLHL22.tsv\n",
      "1091 SF3A1.tsv\n",
      "1092 LOC105373080.tsv\n",
      "1093 OLA1P1.tsv\n",
      "1094 TRABD.tsv\n",
      "1095 SCUBE1.tsv\n",
      "1096 LOC105373096.tsv\n",
      "1097 APOBEC3B-AS1.tsv\n",
      "1098 PCMTD1P5.tsv\n",
      "1099 LOC105372862.tsv\n",
      "1100 CHEK2.tsv\n",
      "1101 C22orf46.tsv\n",
      "1102 KIAA1671-AS1.tsv\n",
      "1103 NEFH.tsv\n",
      "1104 LOC107987324.tsv\n",
      "1105 LOC100313968.tsv\n",
      "1106 ASH2LP2.tsv\n",
      "1107 IGLL5.tsv\n",
      "1108 WBP2NL.tsv\n",
      "1109 LOC105373100.tsv\n",
      "1110 LOC101927499.tsv\n",
      "1111 RBX1.tsv\n",
      "1112 RIMBP3.tsv\n",
      "1113 PHETA2.tsv\n",
      "1114 GRAP2.tsv\n",
      "1115 RPS29P31.tsv\n",
      "1116 NCF4.tsv\n",
      "1117 RN7SL385P.tsv\n",
      "1118 RFPL3.tsv\n",
      "1119 DUXAP8.tsv\n",
      "1120 LOC100422292.tsv\n",
      "1121 IGLV9-49.tsv\n",
      "1122 LOC100533679.tsv\n",
      "1123 IGLC6.tsv\n",
      "1124 PIM3.tsv\n",
      "1125 LOC102723305.tsv\n",
      "1126 SNORD139.tsv\n",
      "1127 ZNF74.tsv\n",
      "1128 EFCAB6.tsv\n",
      "1129 SBF1.tsv\n",
      "1130 LOC105373087.tsv\n",
      "1131 LOC105372864.tsv\n",
      "1132 LOC105372960.tsv\n",
      "1133 ASCC2.tsv\n",
      "1134 LOC105373043.tsv\n",
      "1135 TCN2.tsv\n",
      "1136 SREBF2.tsv\n",
      "1137 IGLV4-69.tsv\n",
      "1138 CA15P2.tsv\n",
      "1139 SNORD140.tsv\n",
      "1140 DDT.tsv\n",
      "1141 SLC7A4.tsv\n",
      "1142 ZDHHC8P1.tsv\n",
      "1143 LOC105373024.tsv\n",
      "1144 PCAT14.tsv\n",
      "1145 IGLV2-5.tsv\n",
      "1146 LOC105372994.tsv\n",
      "1147 SLC5A4.tsv\n",
      "1148 SMARCB1.tsv\n",
      "1149 SLC9B1P4.tsv\n",
      "1150 SFI1.tsv\n",
      "1151 IGLV3-26.tsv\n",
      "1152 CECR2.tsv\n",
      "1153 VWFP1.tsv\n",
      "1154 LOC105372957.tsv\n",
      "1155 ASH2LP1.tsv\n",
      "1156 FABP5P11.tsv\n",
      "1157 DNAJA1P6.tsv\n",
      "1158 LINC00229.tsv\n",
      "1159 E2F6P3.tsv\n",
      "1160 PPM1F.tsv\n",
      "1161 PPARA.tsv\n",
      "1162 ASLP1.tsv\n",
      "1163 RNU6-225P.tsv\n",
      "1164 C1QTNF6.tsv\n",
      "1165 IGLV3-4.tsv\n",
      "1166 SNORD83A.tsv\n",
      "1167 LOC105372942.tsv\n",
      "1168 LOC339666.tsv\n",
      "1169 SOCS2P2.tsv\n",
      "1170 KCTD17.tsv\n",
      "1171 CCDC116.tsv\n",
      "1172 SCO2.tsv\n",
      "1173 RNU12.tsv\n",
      "1174 SEC14L3.tsv\n",
      "1175 MIR659.tsv\n",
      "1176 LOC112267890.tsv\n",
      "1177 FAM83F.tsv\n",
      "1178 LOC112268296.tsv\n",
      "1179 LOC101060852.tsv\n",
      "1180 TTLL1.tsv\n",
      "1181 LOC105373062.tsv\n",
      "1182 RNA5SP494.tsv\n",
      "1183 H1-0.tsv\n",
      "1184 CRYBA4.tsv\n",
      "1185 RPL3.tsv\n"
     ]
    }
   ],
   "source": [
    "total = None\n",
    "nothing = []\n",
    "for i,a in enumerate(ordered_data):\n",
    "    print(i,a)\n",
    "    try:\n",
    "        current_df = pd.read_csv(\n",
    "            op.join(\n",
    "                \"/home/bakirillov/HDD/data/chr22_ordered/\"+a\n",
    "            ), sep=\"\\t\", header=None\n",
    "        )\n",
    "    except:\n",
    "        nothing.append(a)\n",
    "        print(i,a, \"nothing\")\n",
    "    else:\n",
    "        if i == 0:\n",
    "            total = current_df.head(10)\n",
    "        else:\n",
    "            total = total.append(current_df.head(10))"
   ]
  },
  {
   "cell_type": "code",
   "execution_count": 39,
   "metadata": {},
   "outputs": [
    {
     "data": {
      "text/plain": [
       "['IGLJ7.tsv', 'IGLJ3.tsv', 'IGLJ4.tsv', 'IGLJ2.tsv', 'IGLJ5.tsv']"
      ]
     },
     "execution_count": 39,
     "metadata": {},
     "output_type": "execute_result"
    }
   ],
   "source": [
    "nothing"
   ]
  },
  {
   "cell_type": "code",
   "execution_count": 35,
   "metadata": {},
   "outputs": [],
   "source": [
    "del total[0]\n",
    "del total[1]\n",
    "del total[6]\n",
    "del total[7]"
   ]
  },
  {
   "cell_type": "code",
   "execution_count": 42,
   "metadata": {},
   "outputs": [
    {
     "data": {
      "text/plain": [
       "(array(['+', '-'], dtype=object), array([5622, 5931]))"
      ]
     },
     "execution_count": 42,
     "metadata": {},
     "output_type": "execute_result"
    }
   ],
   "source": [
    "np.unique(total[5].values, return_counts=True)"
   ]
  },
  {
   "cell_type": "code",
   "execution_count": 37,
   "metadata": {},
   "outputs": [],
   "source": [
    "total.to_csv(\"DeepHF_wt_paper_ready.tsv\")"
   ]
  }
 ],
 "metadata": {
  "kernelspec": {
   "display_name": "Python 3",
   "language": "python",
   "name": "python3"
  },
  "language_info": {
   "codemirror_mode": {
    "name": "ipython",
    "version": 3
   },
   "file_extension": ".py",
   "mimetype": "text/x-python",
   "name": "python",
   "nbconvert_exporter": "python",
   "pygments_lexer": "ipython3",
   "version": "3.8.5"
  }
 },
 "nbformat": 4,
 "nbformat_minor": 2
}
