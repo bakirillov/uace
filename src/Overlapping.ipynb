{
 "cells": [
  {
   "cell_type": "code",
   "execution_count": 1,
   "metadata": {},
   "outputs": [],
   "source": [
    "import numpy as np\n",
    "import pandas as pd\n",
    "from tqdm import tqdm\n",
    "import matplotlib.pyplot as plt"
   ]
  },
  {
   "cell_type": "code",
   "execution_count": 2,
   "metadata": {},
   "outputs": [
    {
     "name": "stdout",
     "output_type": "stream",
     "text": [
      "0\n",
      "1\n",
      "2\n",
      "3\n",
      "4\n",
      "5\n",
      "6\n",
      "7\n",
      "8\n",
      "9\n",
      "10\n",
      "11\n",
      "12\n",
      "13\n",
      "14\n",
      "15\n",
      "16\n",
      "17\n",
      "18\n",
      "19\n",
      "20\n",
      "21\n",
      "22\n",
      "23\n",
      "24\n"
     ]
    }
   ],
   "source": [
    "dfs = []\n",
    "for a in range(100):\n",
    "    print(a)\n",
    "    try:\n",
    "        dfs.append(\n",
    "            pd.read_excel(\"ST4 Chr22 top gRNAs per gene.xlsx\", sheet_name=a)\n",
    "        )\n",
    "    except Exception as E:\n",
    "        break"
   ]
  },
  {
   "cell_type": "code",
   "execution_count": 3,
   "metadata": {},
   "outputs": [],
   "source": [
    "dfs[2] = pd.DataFrame(\n",
    "    np.stack(dfs[2][dfs[2].columns[0]].apply(lambda x: x.split(\",\")).values)\n",
    ")"
   ]
  },
  {
   "cell_type": "code",
   "execution_count": 4,
   "metadata": {},
   "outputs": [],
   "source": [
    "dfs[2].columns = dfs[0].columns"
   ]
  },
  {
   "cell_type": "code",
   "execution_count": 5,
   "metadata": {},
   "outputs": [],
   "source": [
    "def overlaps(a, b):\n",
    "    results = {}\n",
    "    genes = a[a.columns[3]].unique()\n",
    "    for gene in genes:\n",
    "        subset_a = a[a[a.columns[3]] == gene][a.columns[5]].values\n",
    "        subset_b = b[b[b.columns[3]] == gene][b.columns[5]].values\n",
    "        int_size = np.intersect1d(subset_a, subset_b).shape[0]\n",
    "        results[gene] = (int_size/subset_a.shape[0])\n",
    "    return(results)"
   ]
  },
  {
   "cell_type": "code",
   "execution_count": 6,
   "metadata": {},
   "outputs": [
    {
     "data": {
      "text/plain": [
       "24"
      ]
     },
     "execution_count": 6,
     "metadata": {},
     "output_type": "execute_result"
    }
   ],
   "source": [
    "len(dfs)"
   ]
  },
  {
   "cell_type": "code",
   "execution_count": 7,
   "metadata": {},
   "outputs": [
    {
     "name": "stderr",
     "output_type": "stream",
     "text": [
      "24it [00:59,  2.48s/it]\n",
      "24it [01:02,  2.61s/it]\n",
      "24it [01:01,  2.57s/it]\n",
      "24it [01:00,  2.54s/it]\n",
      "24it [00:58,  2.43s/it]\n",
      "24it [01:00,  2.51s/it]\n",
      "24it [00:57,  2.41s/it]\n",
      "24it [01:09,  2.91s/it]\n",
      "24it [01:11,  3.00s/it]\n",
      "24it [01:10,  2.93s/it]\n",
      "24it [01:07,  2.83s/it]\n",
      "24it [00:57,  2.38s/it]\n",
      "24it [00:55,  2.31s/it]\n",
      "24it [00:55,  2.31s/it]\n",
      "24it [00:56,  2.36s/it]\n",
      "24it [00:56,  2.35s/it]\n",
      "24it [00:58,  2.44s/it]\n",
      "24it [00:52,  2.21s/it]\n",
      "24it [00:54,  2.29s/it]\n",
      "24it [01:00,  2.52s/it]\n",
      "24it [01:00,  2.53s/it]\n",
      "24it [01:03,  2.66s/it]\n",
      "24it [01:00,  2.54s/it]\n",
      "24it [01:01,  2.57s/it]\n"
     ]
    }
   ],
   "source": [
    "means = np.zeros(shape=(len(dfs), len(dfs)))\n",
    "std = np.zeros(shape=(len(dfs), len(dfs)))\n",
    "for i,a in enumerate(dfs):\n",
    "    for j,b in tqdm(enumerate(dfs)):\n",
    "        current_overlap = overlaps(a, b)\n",
    "        current_overlap = [current_overlap[c] for c in current_overlap]\n",
    "        means[i,j] = np.median(current_overlap)\n",
    "        std[i,j] = np.std(current_overlap)"
   ]
  },
  {
   "cell_type": "code",
   "execution_count": 8,
   "metadata": {},
   "outputs": [
    {
     "data": {
      "text/plain": [
       "<matplotlib.image.AxesImage at 0x7fc0080ca350>"
      ]
     },
     "execution_count": 8,
     "metadata": {},
     "output_type": "execute_result"
    },
    {
     "data": {
      "image/png": "[encoded data removed]",
      "text/plain": [
       "<Figure size 432x288 with 1 Axes>"
      ]
     },
     "metadata": {
      "needs_background": "light"
     },
     "output_type": "display_data"
    }
   ],
   "source": [
    "plt.imshow(means)"
   ]
  },
  {
   "cell_type": "code",
   "execution_count": 9,
   "metadata": {},
   "outputs": [
    {
     "data": {
      "text/plain": [
       "<matplotlib.image.AxesImage at 0x7f1afd025390>"
      ]
     },
     "execution_count": 9,
     "metadata": {},
     "output_type": "execute_result"
    },
    {
     "data": {
      "image/png": "[encoded data removed]",
      "text/plain": [
       "<Figure size 432x288 with 1 Axes>"
      ]
     },
     "metadata": {
      "needs_background": "light"
     },
     "output_type": "display_data"
    }
   ],
   "source": [
    "plt.imshow(std)"
   ]
  },
  {
   "cell_type": "code",
   "execution_count": 10,
   "metadata": {},
   "outputs": [],
   "source": [
    "np.save(\"means.npy\", means)"
   ]
  },
  {
   "cell_type": "code",
   "execution_count": 11,
   "metadata": {},
   "outputs": [],
   "source": [
    "np.save(\"stds.npy\", std)"
   ]
  }
 ],
 "metadata": {
  "kernelspec": {
   "display_name": "Python 3",
   "language": "python",
   "name": "python3"
  },
  "language_info": {
   "codemirror_mode": {
    "name": "ipython",
    "version": 3
   },
   "file_extension": ".py",
   "mimetype": "text/x-python",
   "name": "python",
   "nbconvert_exporter": "python",
   "pygments_lexer": "ipython3",
   "version": "3.8.5"
  }
 },
 "nbformat": 4,
 "nbformat_minor": 2
}
