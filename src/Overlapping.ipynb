{
 "cells": [
  {
   "cell_type": "code",
   "execution_count": 1,
   "metadata": {},
   "outputs": [],
   "source": [
    "import numpy as np\n",
    "import pandas as pd\n",
    "from tqdm import tqdm\n",
    "import matplotlib.pyplot as plt"
   ]
  },
  {
   "cell_type": "code",
   "execution_count": 2,
   "metadata": {},
   "outputs": [
    {
     "name": "stdout",
     "output_type": "stream",
     "text": [
      "ST3.xlsx\n",
      "ST4 Chr22 top gRNAs per gene.xlsx\n"
     ]
    }
   ],
   "source": [
    "%%bash\n",
    "\n",
    "ls | grep xlsx"
   ]
  },
  {
   "cell_type": "code",
   "execution_count": 3,
   "metadata": {},
   "outputs": [
    {
     "name": "stdout",
     "output_type": "stream",
     "text": [
      "0\n",
      "1\n",
      "2\n",
      "3\n",
      "4\n",
      "5\n",
      "6\n",
      "7\n",
      "8\n",
      "9\n",
      "10\n",
      "11\n",
      "12\n",
      "13\n",
      "14\n",
      "15\n",
      "16\n",
      "17\n",
      "18\n",
      "19\n"
     ]
    }
   ],
   "source": [
    "dfs = []\n",
    "for a in range(100):\n",
    "    print(a)\n",
    "    try:\n",
    "        dfs.append(\n",
    "            pd.read_excel(\"ST4 Chr22 top gRNAs per gene.xlsx\", sheet_name=a)\n",
    "        )\n",
    "    except Exception as E:\n",
    "        break"
   ]
  },
  {
   "cell_type": "code",
   "execution_count": 4,
   "metadata": {},
   "outputs": [],
   "source": [
    "dfs[2] = pd.DataFrame(\n",
    "    np.stack(dfs[2][dfs[2].columns[0]].apply(lambda x: x.split(\",\")).values)\n",
    ")"
   ]
  },
  {
   "cell_type": "code",
   "execution_count": 5,
   "metadata": {},
   "outputs": [],
   "source": [
    "dfs[2].columns = dfs[0].columns"
   ]
  },
  {
   "cell_type": "code",
   "execution_count": 14,
   "metadata": {},
   "outputs": [],
   "source": [
    "def overlaps(a, b):\n",
    "    results = {}\n",
    "    genes = a[a.columns[3]].unique()\n",
    "    for gene in genes:\n",
    "        subset_a = a[a[a.columns[3]] == gene][a.columns[5]].values\n",
    "        subset_b = b[b[b.columns[3]] == gene][b.columns[5]].values\n",
    "        int_size = np.intersect1d(subset_a, subset_b).shape[0]\n",
    "        results[gene] = (int_size/subset_a.shape[0])\n",
    "    return(results)"
   ]
  },
  {
   "cell_type": "code",
   "execution_count": 15,
   "metadata": {},
   "outputs": [
    {
     "data": {
      "text/plain": [
       "19"
      ]
     },
     "execution_count": 15,
     "metadata": {},
     "output_type": "execute_result"
    }
   ],
   "source": [
    "len(dfs)"
   ]
  },
  {
   "cell_type": "code",
   "execution_count": 16,
   "metadata": {},
   "outputs": [
    {
     "name": "stderr",
     "output_type": "stream",
     "text": [
      "19it [00:40,  2.12s/it]\n",
      "19it [00:39,  2.09s/it]\n",
      "19it [00:41,  2.17s/it]\n",
      "19it [00:39,  2.10s/it]\n",
      "19it [00:40,  2.12s/it]\n",
      "19it [00:40,  2.11s/it]\n",
      "19it [00:40,  2.11s/it]\n",
      "19it [00:39,  2.09s/it]\n",
      "19it [00:39,  2.10s/it]\n",
      "19it [00:42,  2.23s/it]\n",
      "19it [00:43,  2.27s/it]\n",
      "19it [00:43,  2.29s/it]\n",
      "19it [00:43,  2.31s/it]\n",
      "19it [00:42,  2.22s/it]\n",
      "19it [00:39,  2.09s/it]\n",
      "19it [00:39,  2.08s/it]\n",
      "19it [00:38,  2.00s/it]\n",
      "19it [00:37,  1.99s/it]\n",
      "19it [00:37,  2.00s/it]\n"
     ]
    }
   ],
   "source": [
    "means = np.zeros(shape=(len(dfs), len(dfs)))\n",
    "std = np.zeros(shape=(len(dfs), len(dfs)))\n",
    "for i,a in enumerate(dfs):\n",
    "    for j,b in tqdm(enumerate(dfs)):\n",
    "        current_overlap = overlaps(a, b)\n",
    "        current_overlap = [current_overlap[c] for c in current_overlap]\n",
    "        means[i,j] = np.median(current_overlap)\n",
    "        std[i,j] = np.std(current_overlap)"
   ]
  },
  {
   "cell_type": "code",
   "execution_count": 17,
   "metadata": {},
   "outputs": [
    {
     "data": {
      "text/plain": [
       "<matplotlib.image.AxesImage at 0x7fe9008be6d0>"
      ]
     },
     "execution_count": 17,
     "metadata": {},
     "output_type": "execute_result"
    },
    {
     "data": {
      "image/png": "[encoded data removed]",
      "text/plain": [
       "<Figure size 432x288 with 1 Axes>"
      ]
     },
     "metadata": {
      "needs_background": "light"
     },
     "output_type": "display_data"
    }
   ],
   "source": [
    "plt.imshow(means)"
   ]
  },
  {
   "cell_type": "code",
   "execution_count": 18,
   "metadata": {},
   "outputs": [
    {
     "data": {
      "text/plain": [
       "<matplotlib.image.AxesImage at 0x7fe9007fa990>"
      ]
     },
     "execution_count": 18,
     "metadata": {},
     "output_type": "execute_result"
    },
    {
     "data": {
      "image/png": "[encoded data removed]",
      "text/plain": [
       "<Figure size 432x288 with 1 Axes>"
      ]
     },
     "metadata": {
      "needs_background": "light"
     },
     "output_type": "display_data"
    }
   ],
   "source": [
    "plt.imshow(std)"
   ]
  },
  {
   "cell_type": "code",
   "execution_count": 11,
   "metadata": {},
   "outputs": [],
   "source": [
    "np.save(\"means.npy\", means)"
   ]
  },
  {
   "cell_type": "code",
   "execution_count": 16,
   "metadata": {},
   "outputs": [],
   "source": [
    "np.save(\"stds.npy\", std)"
   ]
  }
 ],
 "metadata": {
  "kernelspec": {
   "display_name": "Python 3",
   "language": "python",
   "name": "python3"
  },
  "language_info": {
   "codemirror_mode": {
    "name": "ipython",
    "version": 3
   },
   "file_extension": ".py",
   "mimetype": "text/x-python",
   "name": "python",
   "nbconvert_exporter": "python",
   "pygments_lexer": "ipython3",
   "version": "3.7.5"
  }
 },
 "nbformat": 4,
 "nbformat_minor": 2
}
