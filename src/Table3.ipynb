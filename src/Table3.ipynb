{
 "cells": [
  {
   "cell_type": "code",
   "execution_count": 1,
   "id": "middle-haiti",
   "metadata": {},
   "outputs": [],
   "source": [
    "import os\n",
    "import json\n",
    "import argparse\n",
    "import numpy as np\n",
    "import pandas as pd\n",
    "import os.path as op\n",
    "from core import in_CI, rsquared\n",
    "from scipy.stats import spearmanr, pearsonr"
   ]
  },
  {
   "cell_type": "code",
   "execution_count": 2,
   "id": "antique-civilian",
   "metadata": {},
   "outputs": [],
   "source": [
    "Table1 = pd.read_csv(\"Table1.csv\", index_col=0)"
   ]
  },
  {
   "cell_type": "code",
   "execution_count": 3,
   "id": "declared-missouri",
   "metadata": {},
   "outputs": [],
   "source": [
    "Table3 = Table1.loc[[\"Cas9 gRNA-target\" in a in a for a in Table1.index]]"
   ]
  },
  {
   "cell_type": "code",
   "execution_count": 4,
   "id": "prime-glass",
   "metadata": {},
   "outputs": [
    {
     "data": {
      "text/html": [
       "<div>\n",
       "<style scoped>\n",
       "    .dataframe tbody tr th:only-of-type {\n",
       "        vertical-align: middle;\n",
       "    }\n",
       "\n",
       "    .dataframe tbody tr th {\n",
       "        vertical-align: top;\n",
       "    }\n",
       "\n",
       "    .dataframe thead th {\n",
       "        text-align: right;\n",
       "    }\n",
       "</style>\n",
       "<table border=\"1\" class=\"dataframe\">\n",
       "  <thead>\n",
       "    <tr style=\"text-align: right;\">\n",
       "      <th></th>\n",
       "      <th>0.68</th>\n",
       "      <th>0.95</th>\n",
       "      <th>0.997</th>\n",
       "      <th>PCC</th>\n",
       "      <th>PCC-pval</th>\n",
       "      <th>SCC</th>\n",
       "      <th>SCC-pval</th>\n",
       "      <th>rsquared</th>\n",
       "    </tr>\n",
       "  </thead>\n",
       "  <tbody>\n",
       "    <tr>\n",
       "      <th>Cas9 gRNA-target pair ELBO</th>\n",
       "      <td>0.722190</td>\n",
       "      <td>0.920817</td>\n",
       "      <td>0.983782</td>\n",
       "      <td>0.784917</td>\n",
       "      <td>0.0</td>\n",
       "      <td>0.700273</td>\n",
       "      <td>0.0</td>\n",
       "      <td>0.616094</td>\n",
       "    </tr>\n",
       "    <tr>\n",
       "      <th>Cas9 gRNA-target pair MSE ELBO</th>\n",
       "      <td>0.712459</td>\n",
       "      <td>0.915474</td>\n",
       "      <td>0.982828</td>\n",
       "      <td>0.780525</td>\n",
       "      <td>0.0</td>\n",
       "      <td>0.698235</td>\n",
       "      <td>0.0</td>\n",
       "      <td>0.609219</td>\n",
       "    </tr>\n",
       "  </tbody>\n",
       "</table>\n",
       "</div>"
      ],
      "text/plain": [
       "                                    0.68      0.95     0.997       PCC  \\\n",
       "Cas9 gRNA-target pair ELBO      0.722190  0.920817  0.983782  0.784917   \n",
       "Cas9 gRNA-target pair MSE ELBO  0.712459  0.915474  0.982828  0.780525   \n",
       "\n",
       "                                PCC-pval       SCC  SCC-pval  rsquared  \n",
       "Cas9 gRNA-target pair ELBO           0.0  0.700273       0.0  0.616094  \n",
       "Cas9 gRNA-target pair MSE ELBO       0.0  0.698235       0.0  0.609219  "
      ]
     },
     "execution_count": 4,
     "metadata": {},
     "output_type": "execute_result"
    }
   ],
   "source": [
    "Table3"
   ]
  },
  {
   "cell_type": "code",
   "execution_count": 5,
   "id": "excess-rugby",
   "metadata": {},
   "outputs": [],
   "source": [
    "Table3.to_csv(\"Table3.csv\")"
   ]
  }
 ],
 "metadata": {
  "kernelspec": {
   "display_name": "Python 3",
   "language": "python",
   "name": "python3"
  },
  "language_info": {
   "codemirror_mode": {
    "name": "ipython",
    "version": 3
   },
   "file_extension": ".py",
   "mimetype": "text/x-python",
   "name": "python",
   "nbconvert_exporter": "python",
   "pygments_lexer": "ipython3",
   "version": "3.8.8"
  }
 },
 "nbformat": 4,
 "nbformat_minor": 5
}
