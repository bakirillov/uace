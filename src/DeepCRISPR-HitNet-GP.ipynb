{
 "cells": [
  {
   "cell_type": "code",
   "execution_count": 1,
   "metadata": {},
   "outputs": [
    {
     "name": "stderr",
     "output_type": "stream",
     "text": [
      "/home/bakirillov/anaconda3/envs/lapki/lib/python3.7/site-packages/sklearn/externals/joblib/__init__.py:15: DeprecationWarning: sklearn.externals.joblib is deprecated in 0.21 and will be removed in 0.23. Please import this functionality directly from joblib, which can be installed with: pip install joblib. If this warning is raised when loading pickled models, you may need to re-serialize those models with scikit-learn 0.21+.\n",
      "  warnings.warn(msg, category=DeprecationWarning)\n"
     ]
    }
   ],
   "source": [
    "import os\n",
    "import umap\n",
    "import torch\n",
    "import itertools\n",
    "from core import *\n",
    "import numpy as np\n",
    "import pandas as pd\n",
    "import pickle as pkl\n",
    "from torch import nn\n",
    "import os.path as op\n",
    "from tqdm import tqdm\n",
    "from time import time\n",
    "from copy import deepcopy\n",
    "from torch.optim import Adam\n",
    "from tpot import TPOTRegressor\n",
    "import torch.nn.functional as F\n",
    "import matplotlib.pyplot as plt\n",
    "from capsules.capsules import *\n",
    "from IPython.display import Image\n",
    "from qhoptim.pyt import QHM, QHAdam\n",
    "from matplotlib.lines import Line2D\n",
    "from torch.autograd import Variable\n",
    "from matplotlib.patches import Patch\n",
    "from scipy.stats import spearmanr, pearsonr\n",
    "from catboost import CatBoostRegressor, Pool, cv\n",
    "from sklearn.model_selection import train_test_split, StratifiedKFold\n",
    "from sklearn.metrics import mean_absolute_error, mean_squared_error, median_absolute_error\n",
    "from sklearn.metrics import accuracy_score, matthews_corrcoef, precision_score, recall_score"
   ]
  },
  {
   "cell_type": "code",
   "execution_count": 2,
   "metadata": {},
   "outputs": [],
   "source": [
    "from torchvision import models, transforms\n",
    "from torch.utils.data import DataLoader, Dataset"
   ]
  },
  {
   "cell_type": "code",
   "execution_count": 3,
   "metadata": {},
   "outputs": [],
   "source": [
    "import gpytorch\n",
    "from gpytorch.means import ConstantMean, LinearMean\n",
    "from gpytorch.models import ApproximateGP, ExactGP \n",
    "from sklearn.metrics import accuracy_score\n",
    "from gpytorch.priors import SmoothedBoxPrior\n",
    "from gpytorch.likelihoods import GaussianLikelihood\n",
    "from gpytorch.kernels import ScaleKernel, RBFKernel, GridInterpolationKernel\n",
    "from gpytorch.mlls import VariationalELBO, VariationalELBOEmpirical, DeepApproximateMLL\n",
    "from gpytorch.distributions import MultivariateNormal\n",
    "from gpytorch.variational import CholeskyVariationalDistribution\n",
    "from gpytorch.variational import VariationalStrategy\n",
    "from gpytorch.models.deep_gps import DeepGPLayer, DeepGP"
   ]
  },
  {
   "cell_type": "code",
   "execution_count": 4,
   "metadata": {},
   "outputs": [],
   "source": [
    "np.random.seed(1489)\n",
    "torch.manual_seed(1489)\n",
    "torch.cuda.manual_seed(1489)"
   ]
  },
  {
   "cell_type": "code",
   "execution_count": 5,
   "metadata": {},
   "outputs": [],
   "source": [
    "deepCRISPRPATH = \"/home/bakirillov/HDD/data/CRISPR-CAD/DeepCRISPR\""
   ]
  },
  {
   "cell_type": "code",
   "execution_count": 6,
   "metadata": {},
   "outputs": [],
   "source": [
    "hct116 = pd.read_excel(op.join(deepCRISPRPATH, \"13059_2018_1459_MOESM5_ESM.xlsx\"), 0)\n",
    "hek293t = pd.read_excel(op.join(deepCRISPRPATH, \"13059_2018_1459_MOESM5_ESM.xlsx\"), 1)\n",
    "hela = pd.read_excel(op.join(deepCRISPRPATH, \"13059_2018_1459_MOESM5_ESM.xlsx\"), 2)\n",
    "hl60 = pd.read_excel(op.join(deepCRISPRPATH, \"13059_2018_1459_MOESM5_ESM.xlsx\"), 3)"
   ]
  },
  {
   "cell_type": "code",
   "execution_count": 7,
   "metadata": {},
   "outputs": [],
   "source": [
    "hl60_not_in_hct116 = np.logical_not(hl60[\"sgRNA\"].isin(hct116[\"sgRNA\"])).values\n",
    "hl60_not_in_hek293t = np.logical_not(hl60[\"sgRNA\"].isin(hek293t[\"sgRNA\"])).values\n",
    "hl60_not_in_hela = np.logical_not(hl60[\"sgRNA\"].isin(hela[\"sgRNA\"])).values"
   ]
  },
  {
   "cell_type": "code",
   "execution_count": 8,
   "metadata": {},
   "outputs": [],
   "source": [
    "hela_not_in_hct116 = np.logical_not(hela[\"sgRNA\"].isin(hct116[\"sgRNA\"])).values\n",
    "hela_not_in_hek293t = np.logical_not(hela[\"sgRNA\"].isin(hek293t[\"sgRNA\"])).values\n",
    "hela_not_in_hl60 = np.logical_not(hela[\"sgRNA\"].isin(hl60[\"sgRNA\"])).values"
   ]
  },
  {
   "cell_type": "code",
   "execution_count": 9,
   "metadata": {},
   "outputs": [],
   "source": [
    "hct116_not_in_hela = np.logical_not(hct116[\"sgRNA\"].isin(hela[\"sgRNA\"])).values\n",
    "hct116_not_in_hek293t = np.logical_not(hct116[\"sgRNA\"].isin(hek293t[\"sgRNA\"])).values\n",
    "hct116_not_in_hl60 = np.logical_not(hct116[\"sgRNA\"].isin(hl60[\"sgRNA\"])).values"
   ]
  },
  {
   "cell_type": "code",
   "execution_count": 10,
   "metadata": {},
   "outputs": [],
   "source": [
    "hek293t_not_in_hela = np.logical_not(hek293t[\"sgRNA\"].isin(hela[\"sgRNA\"])).values\n",
    "hek293t_not_in_hct116 = np.logical_not(hek293t[\"sgRNA\"].isin(hct116[\"sgRNA\"])).values\n",
    "hek293t_not_in_hl60 = np.logical_not(hek293t[\"sgRNA\"].isin(hl60[\"sgRNA\"])).values"
   ]
  },
  {
   "cell_type": "code",
   "execution_count": 11,
   "metadata": {},
   "outputs": [
    {
     "data": {
      "text/plain": [
       "((4239, 6), (8101, 6), (2333, 6), (2076, 6))"
      ]
     },
     "execution_count": 11,
     "metadata": {},
     "output_type": "execute_result"
    }
   ],
   "source": [
    "hct116.shape, hela.shape, hek293t.shape, hl60.shape"
   ]
  },
  {
   "cell_type": "code",
   "execution_count": 13,
   "metadata": {},
   "outputs": [
    {
     "data": {
      "text/plain": [
       "8648"
      ]
     },
     "execution_count": 13,
     "metadata": {},
     "output_type": "execute_result"
    }
   ],
   "source": [
    "hct116.shape[0]+hek293t.shape[0]+hl60.shape[0]"
   ]
  },
  {
   "cell_type": "code",
   "execution_count": 12,
   "metadata": {},
   "outputs": [],
   "source": [
    "hct116 = hct116[np.logical_and(hct116_not_in_hek293t, hct116_not_in_hl60, hct116_not_in_hela)]\n",
    "hela = hela[np.logical_and(hela_not_in_hek293t, hela_not_in_hl60, hela_not_in_hct116)]\n",
    "hl60 = hl60[np.logical_and(hl60_not_in_hek293t, hl60_not_in_hct116, hl60_not_in_hela)]\n",
    "hek293t = hek293t[np.logical_and(hek293t_not_in_hct116, hek293t_not_in_hela, hek293t_not_in_hl60)]"
   ]
  },
  {
   "cell_type": "code",
   "execution_count": 13,
   "metadata": {},
   "outputs": [
    {
     "data": {
      "text/plain": [
       "((4172, 6), (7998, 6), (2333, 6), (2009, 6))"
      ]
     },
     "execution_count": 13,
     "metadata": {},
     "output_type": "execute_result"
    }
   ],
   "source": [
    "hct116.shape, hela.shape, hek293t.shape, hl60.shape"
   ]
  },
  {
   "cell_type": "code",
   "execution_count": 14,
   "metadata": {},
   "outputs": [],
   "source": [
    "class GaussianProcessLayer(DeepGPLayer):\n",
    "    \n",
    "    def __init__(self, input_dims, output_dims, num_inducing=128, mean_type=\"constant\"):\n",
    "        if output_dims is None:\n",
    "            inducing_points = torch.randn(num_inducing, input_dims)\n",
    "            batch_shape = torch.Size([])\n",
    "        else:\n",
    "            inducing_points = torch.randn(output_dims, num_inducing, input_dims)\n",
    "            batch_shape = torch.Size([output_dims])\n",
    "        variational_distribution = CholeskyVariationalDistribution(\n",
    "            num_inducing_points=num_inducing,\n",
    "            batch_shape=batch_shape\n",
    "        )\n",
    "        variational_strategy = VariationalStrategy(\n",
    "            self,\n",
    "            inducing_points,\n",
    "            variational_distribution,\n",
    "            learn_inducing_locations=True\n",
    "        )\n",
    "        super().__init__(variational_strategy, input_dims, output_dims)\n",
    "        if mean_type == 'constant':\n",
    "            self.mean_module = ConstantMean(batch_shape=batch_shape)\n",
    "        else:\n",
    "            self.mean_module = LinearMean(input_dims)\n",
    "        self.covar_module = ScaleKernel(\n",
    "            RBFKernel(batch_shape=batch_shape, ard_num_dims=input_dims),\n",
    "            batch_shape=batch_shape, ard_num_dims=None\n",
    "        )\n",
    "        \n",
    "    def forward(self, x):\n",
    "        mean = self.mean_module(x)\n",
    "        covar = self.covar_module(x)\n",
    "        return(MultivariateNormal(mean, covar))"
   ]
  },
  {
   "cell_type": "code",
   "execution_count": 15,
   "metadata": {},
   "outputs": [],
   "source": [
    "class DKL(DeepGP):\n",
    "    \n",
    "    def __init__(self, encoder, train_x_shape):\n",
    "        super(DKL, self).__init__()\n",
    "        hidden_layer = GaussianProcessLayer(\n",
    "            input_dims=train_x_shape[-1],\n",
    "            output_dims=2,\n",
    "            mean_type='linear',\n",
    "        )\n",
    "        last_layer = GaussianProcessLayer(\n",
    "            input_dims=hidden_layer.output_dims,\n",
    "            output_dims=None,\n",
    "            mean_type='constant',\n",
    "        )\n",
    "        super().__init__()\n",
    "        self.FE = encoder\n",
    "        self.hidden_layer = hidden_layer\n",
    "        self.last_layer = last_layer\n",
    "        self.likelihood = GaussianLikelihood()\n",
    "    \n",
    "    def forward(self, x):\n",
    "        internal, rec, _, _, _ = self.FE(x)\n",
    "        hidden_rep1 = self.hidden_layer(internal.reshape(x.shape[0], -1))#x.reshape(x.shape[0], -1))\n",
    "        output = self.last_layer(hidden_rep1)\n",
    "        return(output, rec)"
   ]
  },
  {
   "cell_type": "code",
   "execution_count": 16,
   "metadata": {},
   "outputs": [],
   "source": [
    "class DeepHFDataset(Dataset):\n",
    "    \n",
    "    def __init__(\n",
    "        self, dataframe, indices, transform=None,\n",
    "        sequence_column=\"sgRNA\", label_column=\"Normalized efficacy\", labelling=\"Smart\"\n",
    "    ):\n",
    "        self.transform = transform\n",
    "        self.S = dataframe.iloc[indices]\n",
    "        self.sequence_column = sequence_column\n",
    "        self.label_column = label_column\n",
    "        self.labelling = labelling\n",
    "        \n",
    "    def __len__(self):\n",
    "        return(self.S.shape[0])\n",
    "    \n",
    "    def __getitem__(self, ind):\n",
    "        target=self.S.iloc[ind][self.label_column]\n",
    "        sequence=self.S.iloc[ind][self.sequence_column]\n",
    "        transformed = self.transform(sequence)\n",
    "        return(transformed, target)"
   ]
  },
  {
   "cell_type": "code",
   "execution_count": 17,
   "metadata": {},
   "outputs": [],
   "source": [
    "u = OneHotAndCut(\"NGG\", False, True)"
   ]
  },
  {
   "cell_type": "code",
   "execution_count": 18,
   "metadata": {},
   "outputs": [],
   "source": [
    "transformer = transforms.Compose(\n",
    "    [\n",
    "        u, ToTensor(True)\n",
    "    ]\n",
    ")"
   ]
  },
  {
   "cell_type": "code",
   "execution_count": 19,
   "metadata": {},
   "outputs": [],
   "source": [
    "train_X_hela, test_X_hela, _, _ = train_test_split(\n",
    "    np.arange(hct116.shape[0]+hek293t.shape[0]+hl60.shape[0]), \n",
    "    np.arange(hct116.shape[0]+hek293t.shape[0]+hl60.shape[0]), \n",
    "    test_size=0.3\n",
    ")\n",
    "train_X_hct116, test_X_hct116, _, _ = train_test_split(\n",
    "    np.arange(hela.shape[0]+hek293t.shape[0]+hl60.shape[0]), \n",
    "    np.arange(hela.shape[0]+hek293t.shape[0]+hl60.shape[0]), \n",
    "    test_size=0.3\n",
    ")\n",
    "train_X_hek293t, test_X_hek293t, _, _ = train_test_split(\n",
    "    np.arange(hct116.shape[0]+hela.shape[0]+hl60.shape[0]), \n",
    "    np.arange(hct116.shape[0]+hela.shape[0]+hl60.shape[0]), \n",
    "    test_size=0.3\n",
    ")\n",
    "train_X_hl60, test_X_hl60, _, _ = train_test_split(\n",
    "    np.arange(hct116.shape[0]+hek293t.shape[0]+hela.shape[0]), \n",
    "    np.arange(hct116.shape[0]+hek293t.shape[0]+hela.shape[0]), \n",
    "    test_size=0.3\n",
    ")"
   ]
  },
  {
   "cell_type": "code",
   "execution_count": 20,
   "metadata": {},
   "outputs": [],
   "source": [
    "hela_ = pd.concat([hct116, hek293t, hl60])\n",
    "hct116_ = pd.concat([hela, hek293t, hl60])\n",
    "hek293t_ = pd.concat([hct116, hela, hl60])\n",
    "hl60_ = pd.concat([hct116, hek293t, hela])"
   ]
  },
  {
   "cell_type": "code",
   "execution_count": 21,
   "metadata": {},
   "outputs": [],
   "source": [
    "N_CLASSES = 5"
   ]
  },
  {
   "cell_type": "code",
   "execution_count": 22,
   "metadata": {},
   "outputs": [],
   "source": [
    "hela_train = DeepHFDataset(\n",
    "    hela_, train_X_hela, transform=transformer\n",
    ")\n",
    "hela_test = DeepHFDataset(\n",
    "    hela_, test_X_hela, transform=transformer#, n_classes=N_CLASSES\n",
    ")\n",
    "hct116_train = DeepHFDataset(\n",
    "    hct116_, train_X_hct116, transform=transformer#, n_classes=N_CLASSES\n",
    ")\n",
    "hct116_test = DeepHFDataset(\n",
    "    hct116_, test_X_hct116, transform=transformer#, n_classes=N_CLASSES\n",
    ")\n",
    "hek293t_train = DeepHFDataset(\n",
    "    hek293t_, train_X_hek293t, transform=transformer#, n_classes=N_CLASSES\n",
    ")\n",
    "hek293t_test = DeepHFDataset(\n",
    "    hek293t_, test_X_hek293t, transform=transformer#, n_classes=N_CLASSES\n",
    ")\n",
    "hl60_train = DeepHFDataset(\n",
    "    hl60_, train_X_hl60, transform=transformer#, n_classes=N_CLASSES\n",
    ")\n",
    "hl60_test = DeepHFDataset(\n",
    "    hl60_, test_X_hl60, transform=transformer#, n_classes=N_CLASSES\n",
    ")"
   ]
  },
  {
   "cell_type": "code",
   "execution_count": 23,
   "metadata": {},
   "outputs": [],
   "source": [
    "hela_val = DeepHFDataset(\n",
    "    hela, np.arange(hela.shape[0]), transform=transformer#, n_classes=N_CLASSES\n",
    ")\n",
    "hct116_val = DeepHFDataset(\n",
    "    hct116, np.arange(hct116.shape[0]), transform=transformer#, n_classes=N_CLASSES\n",
    ")\n",
    "hek293t_val = DeepHFDataset(\n",
    "    hek293t, np.arange(hek293t.shape[0]), transform=transformer#, n_classes=N_CLASSES\n",
    ")\n",
    "hl60_val = DeepHFDataset(\n",
    "    hl60, np.arange(hl60.shape[0]), transform=transformer#, n_classes=N_CLASSES\n",
    ")"
   ]
  },
  {
   "cell_type": "code",
   "execution_count": 24,
   "metadata": {},
   "outputs": [],
   "source": [
    "BATCH_SIZE = 64"
   ]
  },
  {
   "cell_type": "code",
   "execution_count": 25,
   "metadata": {},
   "outputs": [],
   "source": [
    "hela_train_loader = DataLoader(hela_train, shuffle=True, batch_size=BATCH_SIZE)\n",
    "hela_test_loader = DataLoader(hela_test, shuffle=True, batch_size=BATCH_SIZE)\n",
    "hek293t_train_loader = DataLoader(hek293t_test, shuffle=True, batch_size=BATCH_SIZE)\n",
    "hek293t_test_loader = DataLoader(hek293t_test, shuffle=True, batch_size=BATCH_SIZE)\n",
    "hct116_train_loader = DataLoader(hct116_train, shuffle=True, batch_size=BATCH_SIZE)\n",
    "hct116_test_loader = DataLoader(hct116_test, shuffle=True, batch_size=BATCH_SIZE)\n",
    "hl60_train_loader = DataLoader(hl60_train, shuffle=True, batch_size=BATCH_SIZE)\n",
    "hl60_test_loader = DataLoader(hl60_test, shuffle=True, batch_size=BATCH_SIZE)"
   ]
  },
  {
   "cell_type": "code",
   "execution_count": 26,
   "metadata": {},
   "outputs": [],
   "source": [
    "hela_val_loader = DataLoader(hela_val, shuffle=True, batch_size=BATCH_SIZE)\n",
    "hek293t_val_loader = DataLoader(hek293t_val, shuffle=True, batch_size=BATCH_SIZE)\n",
    "hct116_val_loader = DataLoader(hct116_val, shuffle=True, batch_size=BATCH_SIZE)\n",
    "hl60_val_loader = DataLoader(hl60_val, shuffle=True, batch_size=BATCH_SIZE)"
   ]
  },
  {
   "cell_type": "code",
   "execution_count": 27,
   "metadata": {},
   "outputs": [
    {
     "data": {
      "text/plain": [
       "(4, 21)"
      ]
     },
     "execution_count": 27,
     "metadata": {},
     "output_type": "execute_result"
    }
   ],
   "source": [
    "hela_val[0][0].cpu().data.numpy().shape"
   ]
  },
  {
   "cell_type": "code",
   "execution_count": 28,
   "metadata": {},
   "outputs": [
    {
     "data": {
      "text/plain": [
       "0.177011494253292"
      ]
     },
     "execution_count": 28,
     "metadata": {},
     "output_type": "execute_result"
    }
   ],
   "source": [
    "hela_val[0][1]"
   ]
  },
  {
   "cell_type": "markdown",
   "metadata": {},
   "source": [
    "### Classification training on hela"
   ]
  },
  {
   "cell_type": "code",
   "execution_count": 29,
   "metadata": {},
   "outputs": [],
   "source": [
    "TRAINED = \"/home/bakirillov/HDD/weights/CRISPR-CAD/on-target/DeepCRISPR/hela\""
   ]
  },
  {
   "cell_type": "code",
   "execution_count": 30,
   "metadata": {},
   "outputs": [],
   "source": [
    "if not op.exists(TRAINED):\n",
    "    os.makedirs(TRAINED)"
   ]
  },
  {
   "cell_type": "code",
   "execution_count": 31,
   "metadata": {},
   "outputs": [],
   "source": [
    "EPOCHS = 10"
   ]
  },
  {
   "cell_type": "code",
   "execution_count": 32,
   "metadata": {},
   "outputs": [],
   "source": [
    "training = {\"loss\": [], \"mll\": [], \"rec\": [], \"mse\": []}\n",
    "testing = {\"loss\": [], \"mll\": [], \"rec\": [], \"mse\": []}\n",
    "validation = {\"loss\": [], \"mll\": [], \"rec\": [], \"mse\": []}"
   ]
  },
  {
   "cell_type": "code",
   "execution_count": 33,
   "metadata": {},
   "outputs": [],
   "source": [
    "hela_encoder = GuideCaps(21, 256, 5).cuda()"
   ]
  },
  {
   "cell_type": "code",
   "execution_count": 34,
   "metadata": {},
   "outputs": [],
   "source": [
    "#hela_encoder = GuideHN(21, 32, n_routes=1360, n_classes=N_CLASSES).cuda()\n",
    "#hela_encoder = torch.load(\"/home/bakirillov/HDD/weights/CRISPR-CAD/on-target/DeepCRISPR/chrs/199.ptch\")\n",
    "hela_model = DKL(hela_encoder, [1,5*32]).cuda()"
   ]
  },
  {
   "cell_type": "code",
   "execution_count": 35,
   "metadata": {},
   "outputs": [],
   "source": [
    "optimizer = Adam([\n",
    "    {'params': hela_model.parameters()}\n",
    "], lr=0.05)\n",
    "mll = DeepApproximateMLL(VariationalELBOEmpirical(hela_model.likelihood, hela_model, 256))"
   ]
  },
  {
   "cell_type": "code",
   "execution_count": 36,
   "metadata": {},
   "outputs": [],
   "source": [
    "rec_loss = nn.MSELoss(reduction=\"none\")"
   ]
  },
  {
   "cell_type": "code",
   "execution_count": 37,
   "metadata": {},
   "outputs": [],
   "source": [
    "ALPHA = 10**-5"
   ]
  },
  {
   "cell_type": "code",
   "execution_count": 38,
   "metadata": {},
   "outputs": [
    {
     "name": "stderr",
     "output_type": "stream",
     "text": [
      "100%|██████████| 10/10 [05:42<00:00, 34.22s/it]\n"
     ]
    }
   ],
   "source": [
    "for a in tqdm(np.arange(EPOCHS)):\n",
    "    running_loss = []\n",
    "    running_mll = []\n",
    "    running_rec = []\n",
    "    running_targets = []\n",
    "    running_preds = []\n",
    "    hela_model.train()\n",
    "    for i,b in enumerate(hela_train_loader):\n",
    "        sequence, target = b\n",
    "        running_targets.append(target.data.numpy())\n",
    "        optimizer.zero_grad()\n",
    "        output, reconstruction = hela_model.forward(sequence)\n",
    "        cmll = -mll(output, target.cuda())\n",
    "        rcls = rec_loss(reconstruction, sequence.reshape(sequence.shape[0], -1)).sum(1).mean()\n",
    "        loss = cmll + ALPHA*rcls\n",
    "        loss.backward()\n",
    "        optimizer.step()\n",
    "        predictions = hela_model.likelihood(output).mean.mean(0).cpu().data.numpy()\n",
    "        running_preds.append(predictions)\n",
    "        running_loss.append(loss.cpu().data.numpy())\n",
    "        running_mll.append(cmll.cpu().data.numpy())\n",
    "        running_rec.append(rcls.cpu().data.numpy())\n",
    "    training[\"loss\"].append(np.mean(running_loss))\n",
    "    training[\"mse\"].append(\n",
    "        mean_squared_error(np.concatenate(running_preds), np.concatenate(running_targets))\n",
    "    )\n",
    "    training[\"mll\"].append(np.mean(running_mll))\n",
    "    training[\"rec\"].append(np.mean(running_rec))\n",
    "    running_loss = []\n",
    "    running_mll = []\n",
    "    running_rec = []\n",
    "    running_targets = []\n",
    "    running_preds = []\n",
    "    hela_model.eval()\n",
    "    for i,b in enumerate(hela_test_loader):\n",
    "        sequence, target = b\n",
    "        running_targets.append(target.data.numpy())\n",
    "        output, reconstruction = hela_model.forward(sequence)\n",
    "        cmll = -mll(output, target.cuda())\n",
    "        rcls = rec_loss(reconstruction, sequence.reshape(sequence.shape[0], -1)).sum(1).mean()\n",
    "        loss = cmll + ALPHA*rcls\n",
    "        predictions = hela_model.likelihood(output).mean.mean(0).cpu().data.numpy()\n",
    "        running_preds.append(predictions)\n",
    "        running_loss.append(loss.cpu().data.numpy())\n",
    "        running_mll.append(cmll.cpu().data.numpy())\n",
    "        running_rec.append(rcls.cpu().data.numpy())\n",
    "    testing[\"loss\"].append(np.mean(running_loss))\n",
    "    testing[\"mse\"].append(\n",
    "        mean_squared_error(np.concatenate(running_preds), np.concatenate(running_targets))\n",
    "    )\n",
    "    testing[\"mll\"].append(np.mean(running_mll))\n",
    "    testing[\"rec\"].append(np.mean(running_rec))\n",
    "    running_loss = []\n",
    "    running_mll = []\n",
    "    running_rec = []\n",
    "    running_targets = []\n",
    "    running_preds = []\n",
    "    for i,b in enumerate(hela_val_loader):\n",
    "        sequence, target = b\n",
    "        running_targets.append(target.data.numpy())\n",
    "        output, reconstruction = hela_model.forward(sequence)\n",
    "        cmll = -mll(output, target.cuda())\n",
    "        rcls = rec_loss(reconstruction, sequence.reshape(sequence.shape[0], -1)).sum(1).mean()\n",
    "        loss = cmll + ALPHA*rcls\n",
    "        predictions = hela_model.likelihood(output).mean.mean(0).cpu().data.numpy()\n",
    "        running_preds.append(predictions)\n",
    "        running_loss.append(loss.cpu().data.numpy())\n",
    "        running_mll.append(cmll.cpu().data.numpy())\n",
    "        running_rec.append(rcls.cpu().data.numpy())\n",
    "    validation[\"loss\"].append(np.mean(running_loss))\n",
    "    validation[\"mse\"].append(\n",
    "        mean_squared_error(np.concatenate(running_preds), np.concatenate(running_targets))\n",
    "    )\n",
    "    validation[\"mll\"].append(np.mean(running_mll))\n",
    "    validation[\"rec\"].append(np.mean(running_rec))"
   ]
  },
  {
   "cell_type": "code",
   "execution_count": 39,
   "metadata": {
    "scrolled": true
   },
   "outputs": [
    {
     "data": {
      "text/plain": [
       "[<matplotlib.lines.Line2D at 0x7f2639cd01d0>]"
      ]
     },
     "execution_count": 39,
     "metadata": {},
     "output_type": "execute_result"
    },
    {
     "data": {
      "image/png": "[encoded data removed]",
      "text/plain": [
       "<Figure size 432x288 with 1 Axes>"
      ]
     },
     "metadata": {
      "needs_background": "light"
     },
     "output_type": "display_data"
    }
   ],
   "source": [
    "plt.plot(training[\"loss\"])\n",
    "plt.plot(testing[\"loss\"])\n",
    "plt.plot(validation[\"loss\"])"
   ]
  },
  {
   "cell_type": "code",
   "execution_count": 40,
   "metadata": {},
   "outputs": [
    {
     "data": {
      "image/png": "[encoded data removed]",
      "text/plain": [
       "<Figure size 432x288 with 1 Axes>"
      ]
     },
     "metadata": {
      "needs_background": "light"
     },
     "output_type": "display_data"
    }
   ],
   "source": [
    "plt.plot(training[\"mse\"])\n",
    "plt.plot(testing[\"mse\"])\n",
    "plt.plot(validation[\"mse\"])\n",
    "plt.grid(True)"
   ]
  },
  {
   "cell_type": "code",
   "execution_count": 41,
   "metadata": {},
   "outputs": [
    {
     "data": {
      "image/png": "[encoded data removed]",
      "text/plain": [
       "<Figure size 432x288 with 1 Axes>"
      ]
     },
     "metadata": {
      "needs_background": "light"
     },
     "output_type": "display_data"
    }
   ],
   "source": [
    "plt.plot(training[\"rec\"])\n",
    "plt.plot(testing[\"rec\"])\n",
    "plt.plot(validation[\"rec\"])\n",
    "plt.grid(True)"
   ]
  },
  {
   "cell_type": "code",
   "execution_count": null,
   "metadata": {},
   "outputs": [],
   "source": [
    "torch.save(hela_model.state_dict(), \"hela_model_gp.ptch\")"
   ]
  },
  {
   "cell_type": "code",
   "execution_count": 42,
   "metadata": {},
   "outputs": [
    {
     "name": "stderr",
     "output_type": "stream",
     "text": [
      "125it [00:11, 10.77it/s]\n"
     ]
    }
   ],
   "source": [
    "val_predictions = []\n",
    "val_variances = []\n",
    "val_targets = []\n",
    "val_reconstructions = []\n",
    "for i,b in tqdm(enumerate(hela_val_loader)):\n",
    "    sequence, target = b\n",
    "    val_targets.append(target)\n",
    "    internal, reconstruction = hela_model.forward(sequence)\n",
    "    prediction = hela_model.likelihood(\n",
    "        internal\n",
    "    ).mean.mean(0).cpu().data.numpy()\n",
    "    variance = hela_model.likelihood(\n",
    "        internal\n",
    "    ).variance.mean(0).cpu().data.numpy()\n",
    "    val_predictions.append(prediction)\n",
    "    val_reconstructions.append(reconstruction.cpu().data.numpy())\n",
    "    val_variances.append(variance)\n",
    "val_predictions = np.concatenate(val_predictions).squeeze()\n",
    "val_targets = np.concatenate(val_targets)\n",
    "val_variances = np.concatenate(val_variances)\n",
    "#val_reconstructions = np.stack(val_reconstructions).squeeze()"
   ]
  },
  {
   "cell_type": "code",
   "execution_count": 43,
   "metadata": {},
   "outputs": [
    {
     "name": "stderr",
     "output_type": "stream",
     "text": [
      "/home/bakirillov/anaconda3/envs/lapki/lib/python3.7/site-packages/numpy/lib/function_base.py:2534: RuntimeWarning: invalid value encountered in true_divide\n",
      "  c /= stddev[:, None]\n",
      "/home/bakirillov/anaconda3/envs/lapki/lib/python3.7/site-packages/numpy/lib/function_base.py:2535: RuntimeWarning: invalid value encountered in true_divide\n",
      "  c /= stddev[None, :]\n",
      "/home/bakirillov/anaconda3/envs/lapki/lib/python3.7/site-packages/scipy/stats/_distn_infrastructure.py:901: RuntimeWarning: invalid value encountered in greater\n",
      "  return (a < x) & (x < b)\n",
      "/home/bakirillov/anaconda3/envs/lapki/lib/python3.7/site-packages/scipy/stats/_distn_infrastructure.py:901: RuntimeWarning: invalid value encountered in less\n",
      "  return (a < x) & (x < b)\n",
      "/home/bakirillov/anaconda3/envs/lapki/lib/python3.7/site-packages/scipy/stats/_distn_infrastructure.py:1892: RuntimeWarning: invalid value encountered in less_equal\n",
      "  cond2 = cond0 & (x <= _a)\n"
     ]
    },
    {
     "data": {
      "text/plain": [
       "SpearmanrResult(correlation=nan, pvalue=nan)"
      ]
     },
     "execution_count": 43,
     "metadata": {},
     "output_type": "execute_result"
    }
   ],
   "source": [
    "spearmanr(\n",
    "    val_predictions,\n",
    "    val_targets\n",
    ")"
   ]
  },
  {
   "cell_type": "code",
   "execution_count": 44,
   "metadata": {},
   "outputs": [
    {
     "data": {
      "text/plain": [
       "[<matplotlib.lines.Line2D at 0x7f2639fa3ed0>]"
      ]
     },
     "execution_count": 44,
     "metadata": {},
     "output_type": "execute_result"
    },
    {
     "data": {
      "image/png": "[encoded data removed]",
      "text/plain": [
       "<Figure size 432x288 with 1 Axes>"
      ]
     },
     "metadata": {
      "needs_background": "light"
     },
     "output_type": "display_data"
    }
   ],
   "source": [
    "plt.scatter(\n",
    "    val_predictions,\n",
    "    val_targets\n",
    ")\n",
    "plt.plot(val_targets, val_targets, color=\"red\")"
   ]
  },
  {
   "cell_type": "code",
   "execution_count": null,
   "metadata": {},
   "outputs": [],
   "source": [
    "plt.hist(val_variances, bins=100)\n",
    "plt.show()"
   ]
  },
  {
   "cell_type": "code",
   "execution_count": null,
   "metadata": {},
   "outputs": [],
   "source": [
    "train_predictions = []\n",
    "train_variances = []\n",
    "train_targets = []\n",
    "train_reconstructions = []\n",
    "for i,b in tqdm(enumerate(hela_train_loader)):\n",
    "    sequence, target = b\n",
    "    train_targets.append(target)\n",
    "    internal, reconstruction = hela_model.forward(sequence)\n",
    "    prediction = hela_model.likelihood(\n",
    "        internal\n",
    "    ).mean.mean(0).cpu().data.numpy()\n",
    "    variance = hela_model.likelihood(\n",
    "        internal\n",
    "    ).variance.mean(0).cpu().data.numpy()\n",
    "    train_predictions.append(prediction)\n",
    "    train_reconstructions.append(reconstruction.cpu().data.numpy())\n",
    "    train_variances.append(variance)\n",
    "train_predictions = np.concatenate(train_predictions).squeeze()\n",
    "train_targets = np.concatenate(train_targets)\n",
    "train_variances = np.concatenate(train_variances)\n",
    "#val_reconstructions = np.stack(val_reconstructions).squeeze()"
   ]
  },
  {
   "cell_type": "code",
   "execution_count": null,
   "metadata": {},
   "outputs": [],
   "source": []
  },
  {
   "cell_type": "code",
   "execution_count": null,
   "metadata": {},
   "outputs": [],
   "source": [
    "cat = CatBoostRegressor(loss_function=\"RMSE\", verbose=True)"
   ]
  },
  {
   "cell_type": "code",
   "execution_count": null,
   "metadata": {},
   "outputs": [],
   "source": [
    "train_metrics = np.concatenate([train_predictions.reshape(-1,1), train_variances.reshape(-1,1)], 1)"
   ]
  },
  {
   "cell_type": "code",
   "execution_count": null,
   "metadata": {},
   "outputs": [],
   "source": [
    "val_metrics = np.concatenate([val_predictions.reshape(-1,1), val_variances.reshape(-1,1)], 1)"
   ]
  },
  {
   "cell_type": "code",
   "execution_count": null,
   "metadata": {},
   "outputs": [],
   "source": [
    "train_predictions.shape"
   ]
  },
  {
   "cell_type": "code",
   "execution_count": null,
   "metadata": {},
   "outputs": [],
   "source": [
    "train_variances.shape"
   ]
  },
  {
   "cell_type": "code",
   "execution_count": null,
   "metadata": {},
   "outputs": [],
   "source": [
    "train_metrics.shape"
   ]
  },
  {
   "cell_type": "code",
   "execution_count": null,
   "metadata": {
    "scrolled": true
   },
   "outputs": [],
   "source": [
    "cat.fit(\n",
    "    train_metrics, train_targets\n",
    ")"
   ]
  },
  {
   "cell_type": "code",
   "execution_count": null,
   "metadata": {},
   "outputs": [],
   "source": [
    "spearmanr(\n",
    "    cat.predict(val_metrics),\n",
    "    val_targets\n",
    ")"
   ]
  },
  {
   "cell_type": "code",
   "execution_count": null,
   "metadata": {},
   "outputs": [],
   "source": [
    "plt.scatter(\n",
    "    cat.predict(val_metrics),\n",
    "    val_targets\n",
    ")\n",
    "plt.plot(val_targets, val_targets, color=\"red\")"
   ]
  },
  {
   "cell_type": "code",
   "execution_count": null,
   "metadata": {},
   "outputs": [],
   "source": []
  },
  {
   "cell_type": "code",
   "execution_count": null,
   "metadata": {},
   "outputs": [],
   "source": [
    "tpot.export(\"tpot_over_hitnet_deepCRISPR_hela.py\")"
   ]
  },
  {
   "cell_type": "code",
   "execution_count": null,
   "metadata": {},
   "outputs": [],
   "source": [
    "from autoPyTorch import AutoNetRegression"
   ]
  },
  {
   "cell_type": "code",
   "execution_count": null,
   "metadata": {},
   "outputs": [],
   "source": [
    "import sklearn.metrics as met"
   ]
  },
  {
   "cell_type": "code",
   "execution_count": null,
   "metadata": {},
   "outputs": [],
   "source": [
    "automl = autosklearn.regression.AutoSklearnRegressor(\n",
    "    tmp_folder='./tmp/autosklearn_regression_example_tmp',\n",
    "    output_folder='./tmp/autosklearn_regression_example_out',\n",
    ")"
   ]
  },
  {
   "cell_type": "code",
   "execution_count": null,
   "metadata": {},
   "outputs": [],
   "source": [
    "automl.fit(\n",
    "    X=hela_train_internals, \n",
    "    y=hela_train_targets, \n",
    "    X_test=hela_val_internals, y_test=hela_val_targets,\n",
    "    metric=r2\n",
    ")"
   ]
  },
  {
   "cell_type": "code",
   "execution_count": null,
   "metadata": {},
   "outputs": [],
   "source": [
    "from autosklearn.metrics import r2"
   ]
  },
  {
   "cell_type": "code",
   "execution_count": null,
   "metadata": {},
   "outputs": [],
   "source": [
    "autonet = AutoNetRegression(\n",
    "    budget_type='epochs', min_budget=50, max_budget=200, num_iterations=20, \n",
    "    log_level='info', config_preset=\"tiny_cs\"\n",
    ")"
   ]
  },
  {
   "cell_type": "code",
   "execution_count": null,
   "metadata": {},
   "outputs": [],
   "source": [
    "np.save(\"hela_train_internals\", hela_train_internals)\n",
    "np.save(\"hela_train_targets\", hela_train_targets)\n",
    "np.save(\"hela_val_internals\", hela_val_internals)\n",
    "np.save(\"hela_val_targets\", hela_val_targets)"
   ]
  },
  {
   "cell_type": "code",
   "execution_count": null,
   "metadata": {},
   "outputs": [],
   "source": [
    "%%bash\n",
    "\n",
    "ls | grep np"
   ]
  },
  {
   "cell_type": "code",
   "execution_count": null,
   "metadata": {},
   "outputs": [],
   "source": [
    "hela_train_internals = np.load(\"hela_train_internals.npy\")\n",
    "hela_train_targets = np.load(\"hela_train_targets.npy\")\n",
    "hela_val_internals = np.load(\"hela_val_internals.npy\")\n",
    "hela_val_targets = np.load(\"hela_val_targets.npy\")"
   ]
  },
  {
   "cell_type": "code",
   "execution_count": null,
   "metadata": {
    "scrolled": true
   },
   "outputs": [],
   "source": [
    "res = autonet.fit(\n",
    "    X_train=hela_train_internals, \n",
    "    Y_train=hela_train_targets, \n",
    "    X_valid=hela_val_internals, Y_valid=hela_val_targets\n",
    ")"
   ]
  },
  {
   "cell_type": "code",
   "execution_count": null,
   "metadata": {},
   "outputs": [],
   "source": [
    "res"
   ]
  },
  {
   "cell_type": "code",
   "execution_count": null,
   "metadata": {},
   "outputs": [],
   "source": [
    "model = autonet.get_pytorch_model()"
   ]
  },
  {
   "cell_type": "code",
   "execution_count": null,
   "metadata": {},
   "outputs": [],
   "source": [
    "score = autonet.score(hela_val_internals, hela_val_targets)"
   ]
  },
  {
   "cell_type": "code",
   "execution_count": null,
   "metadata": {},
   "outputs": [],
   "source": [
    "score"
   ]
  },
  {
   "cell_type": "code",
   "execution_count": null,
   "metadata": {},
   "outputs": [],
   "source": [
    "model"
   ]
  },
  {
   "cell_type": "code",
   "execution_count": null,
   "metadata": {},
   "outputs": [],
   "source": [
    "pred = autonet.predict(hela_val_internals).squeeze()"
   ]
  },
  {
   "cell_type": "code",
   "execution_count": null,
   "metadata": {},
   "outputs": [],
   "source": [
    "spearmanr(\n",
    "    pred,\n",
    "    hela_val_targets\n",
    ")"
   ]
  },
  {
   "cell_type": "code",
   "execution_count": null,
   "metadata": {},
   "outputs": [],
   "source": [
    "plt.scatter(\n",
    "    hela_val_targets,\n",
    "    pred\n",
    ")\n",
    "plt.plot(hela_val_targets, hela_val_targets, color=\"red\")"
   ]
  },
  {
   "cell_type": "code",
   "execution_count": null,
   "metadata": {},
   "outputs": [],
   "source": []
  },
  {
   "cell_type": "code",
   "execution_count": null,
   "metadata": {},
   "outputs": [],
   "source": [
    "cat.save_model(\"hela.cat\")"
   ]
  },
  {
   "cell_type": "code",
   "execution_count": null,
   "metadata": {},
   "outputs": [],
   "source": [
    "import numpy as np\n",
    "import pandas as pd\n",
    "from sklearn.decomposition import PCA\n",
    "from sklearn.model_selection import train_test_split\n",
    "from sklearn.neighbors import KNeighborsRegressor\n",
    "from sklearn.pipeline import make_pipeline, make_union\n",
    "from sklearn.preprocessing import Normalizer, RobustScaler, StandardScaler\n",
    "from sklearn.tree import DecisionTreeRegressor\n",
    "from tpot.builtins import StackingEstimator"
   ]
  },
  {
   "cell_type": "code",
   "execution_count": null,
   "metadata": {},
   "outputs": [],
   "source": [
    "exported_pipeline = lambda : make_pipeline(\n",
    "    PCA(iterated_power=10, svd_solver=\"randomized\"),\n",
    "    RobustScaler(),\n",
    "    StackingEstimator(estimator=KNeighborsRegressor(n_neighbors=35, p=2, weights=\"uniform\")),\n",
    "    PCA(iterated_power=5, svd_solver=\"randomized\"),\n",
    "    RobustScaler(),\n",
    "    StandardScaler(),\n",
    "    StackingEstimator(estimator=DecisionTreeRegressor(max_depth=9, min_samples_leaf=3, min_samples_split=3)),\n",
    "    Normalizer(norm=\"l2\"),\n",
    "    KNeighborsRegressor(n_neighbors=49, p=1, weights=\"distance\")\n",
    ")"
   ]
  },
  {
   "cell_type": "markdown",
   "metadata": {},
   "source": [
    "### Classification training on hek293t"
   ]
  },
  {
   "cell_type": "code",
   "execution_count": null,
   "metadata": {},
   "outputs": [],
   "source": [
    "TRAINED = \"/home/bakirillov/HDD/weights/CRISPR-CAD/on-target/DeepCRISPR/hek293t\""
   ]
  },
  {
   "cell_type": "code",
   "execution_count": null,
   "metadata": {},
   "outputs": [],
   "source": [
    "if not op.exists(TRAINED):\n",
    "    os.makedirs(TRAINED)"
   ]
  },
  {
   "cell_type": "code",
   "execution_count": null,
   "metadata": {},
   "outputs": [],
   "source": [
    "EPOCHS = 30"
   ]
  },
  {
   "cell_type": "code",
   "execution_count": null,
   "metadata": {},
   "outputs": [],
   "source": [
    "training = {\"loss\": [], \"accuracy\": []}\n",
    "testing = {\"loss\": [], \"accuracy\": []}\n",
    "validation = {\"loss\": [], \"accuracy\": []}"
   ]
  },
  {
   "cell_type": "code",
   "execution_count": null,
   "metadata": {},
   "outputs": [],
   "source": [
    "hek293t_model = GuideHN(21, 16, n_routes=1360, n_classes=N_CLASSES).cuda()#GuideCaps(21, 256, n_prim_capsules=64, n_iter=5).cuda()\n",
    "optimizer = Adam(hek293t_model.parameters(), lr=0.01)#Adam(model.parameters())\n",
    "capsule_loss = CentripetalLoss(16)"
   ]
  },
  {
   "cell_type": "code",
   "execution_count": null,
   "metadata": {},
   "outputs": [],
   "source": [
    "for a in tqdm(np.arange(EPOCHS)):\n",
    "    running_loss = []\n",
    "    running_targets = []\n",
    "    running_preds = []\n",
    "    hek293t_model.train()\n",
    "    for i,b in enumerate(hek293t_train_loader):\n",
    "        sequence, target = b\n",
    "        running_targets.append(target.data.numpy())\n",
    "        target = make_y(target.cuda(), N_CLASSES)\n",
    "        optimizer.zero_grad()\n",
    "        internal, lengths, reconstruction = hek293t_model.forward(sequence)\n",
    "        loss = capsule_loss(\n",
    "            target, lengths, sequence.reshape(sequence.shape[0],-1), reconstruction\n",
    "        )\n",
    "        loss.backward()\n",
    "        optimizer.step()\n",
    "        running_preds.append(np.argmin(lengths.cpu().data.numpy(), 1))\n",
    "        running_loss.append(loss.cpu().data.numpy())\n",
    "    training[\"accuracy\"].append(\n",
    "        accuracy_score(np.concatenate(running_preds), np.concatenate(running_targets))\n",
    "    )\n",
    "    training[\"loss\"].append(np.mean(running_loss))\n",
    "    running_loss = []\n",
    "    running_targets = []\n",
    "    running_preds = []\n",
    "    hek293t_model.eval()\n",
    "    for i,b in enumerate(hek293t_test_loader):\n",
    "        sequence, target = b\n",
    "        running_targets.append(target.data.numpy())\n",
    "        target = make_y(target.cuda(), N_CLASSES)\n",
    "        internal, lengths, reconstruction = hek293t_model.forward(sequence)\n",
    "        loss = capsule_loss(\n",
    "            target, lengths, sequence.reshape(sequence.shape[0],-1), reconstruction\n",
    "        )\n",
    "        running_preds.append(np.argmin(lengths.cpu().data.numpy(), 1))\n",
    "        running_loss.append(loss.cpu().data.numpy())\n",
    "    testing[\"accuracy\"].append(\n",
    "        accuracy_score(np.concatenate(running_preds), np.concatenate(running_targets))\n",
    "    )\n",
    "    testing[\"loss\"].append(np.mean(running_loss))\n",
    "    running_loss = []\n",
    "    running_targets = []\n",
    "    running_preds = []\n",
    "    for i,b in enumerate(hek293t_val_loader):\n",
    "        sequence, target = b\n",
    "        running_targets.append(target.data.numpy())\n",
    "        target = make_y(target.cuda(), N_CLASSES)\n",
    "        internal, lengths, reconstruction = hek293t_model.forward(sequence)\n",
    "        loss = capsule_loss(\n",
    "            target, lengths, sequence.reshape(sequence.shape[0],-1), reconstruction\n",
    "        )\n",
    "        running_preds.append(np.argmin(lengths.cpu().data.numpy(), 1))\n",
    "        running_loss.append(loss.cpu().data.numpy())\n",
    "    validation[\"accuracy\"].append(\n",
    "        accuracy_score(np.concatenate(running_preds), np.concatenate(running_targets))\n",
    "    )\n",
    "    validation[\"loss\"].append(np.mean(running_loss))\n",
    "    torch.save(hek293t_model, op.join(TRAINED, str(a)+\".ptch\"))"
   ]
  },
  {
   "cell_type": "code",
   "execution_count": null,
   "metadata": {
    "scrolled": true
   },
   "outputs": [],
   "source": [
    "plt.plot(training[\"loss\"])\n",
    "plt.plot(testing[\"loss\"])\n",
    "plt.plot(validation[\"loss\"])"
   ]
  },
  {
   "cell_type": "code",
   "execution_count": null,
   "metadata": {},
   "outputs": [],
   "source": [
    "plt.plot(training[\"accuracy\"])\n",
    "plt.plot(testing[\"accuracy\"])\n",
    "plt.plot(validation[\"accuracy\"])\n",
    "plt.grid(True)"
   ]
  },
  {
   "cell_type": "code",
   "execution_count": null,
   "metadata": {},
   "outputs": [],
   "source": [
    "np.array(list(reversed(sorted(np.arange(30), key=lambda x: validation[\"accuracy\"][x]))))"
   ]
  },
  {
   "cell_type": "code",
   "execution_count": null,
   "metadata": {},
   "outputs": [],
   "source": [
    "np.array(list(reversed(sorted(np.arange(30), key=lambda x: testing[\"accuracy\"][x]))))"
   ]
  },
  {
   "cell_type": "code",
   "execution_count": null,
   "metadata": {},
   "outputs": [],
   "source": [
    "validation[\"accuracy\"][28]"
   ]
  },
  {
   "cell_type": "code",
   "execution_count": null,
   "metadata": {},
   "outputs": [],
   "source": [
    "testing[\"accuracy\"][18]"
   ]
  },
  {
   "cell_type": "code",
   "execution_count": null,
   "metadata": {},
   "outputs": [],
   "source": [
    "torch.save(hek293t_model, \"hek293t_model.ptch\")"
   ]
  },
  {
   "cell_type": "markdown",
   "metadata": {},
   "source": [
    "### CatBoost training on hek293t"
   ]
  },
  {
   "cell_type": "code",
   "execution_count": null,
   "metadata": {},
   "outputs": [],
   "source": [
    "#hek293t_model = torch.load(op.join(TRAINED, \"18.ptch\"))"
   ]
  },
  {
   "cell_type": "code",
   "execution_count": null,
   "metadata": {},
   "outputs": [],
   "source": [
    "hek293t_reg_train = DeepCRISPRDataset(hek293t_, train_X_hek293t, transform=transformer)\n",
    "hek293t_reg_test = DeepCRISPRDataset(hek293t_, test_X_hek293t, transform=transformer)\n",
    "hek293t_reg_val = DeepCRISPRDataset(\n",
    "    hek293t, np.arange(hek293t.shape[0]), transform=transformer\n",
    ")"
   ]
  },
  {
   "cell_type": "code",
   "execution_count": null,
   "metadata": {},
   "outputs": [],
   "source": [
    "hek293t_train_internals = []\n",
    "hek293t_train_targets = []\n",
    "for i,b in tqdm(enumerate(hek293t_reg_train)):\n",
    "    sequence, target = b\n",
    "    hek293t_train_targets.append(target)\n",
    "    ss = sequence.shape\n",
    "    internal, _, _ = hek293t_model.forward(sequence.reshape(1, *ss))\n",
    "    hek293t_train_internals.append(internal.cpu().data.numpy().reshape(1,N_CLASSES*16))\n",
    "hek293t_train_internals = np.stack(hek293t_train_internals).squeeze()\n",
    "hek293t_train_targets = np.array(hek293t_train_targets)"
   ]
  },
  {
   "cell_type": "code",
   "execution_count": null,
   "metadata": {},
   "outputs": [],
   "source": [
    "hek293t_test_internals = []\n",
    "hek293t_test_targets = []\n",
    "for i,b in tqdm(enumerate(hek293t_reg_test)):\n",
    "    sequence, target = b\n",
    "    hek293t_test_targets.append(target)\n",
    "    ss = sequence.shape\n",
    "    internal, _, _ = hek293t_model.forward(sequence.reshape(1, *ss))\n",
    "    hek293t_test_internals.append(internal.cpu().data.numpy().reshape(1,N_CLASSES*16))\n",
    "hek293t_test_internals = np.stack(hek293t_test_internals).squeeze()\n",
    "hek293t_test_targets = np.array(hek293t_test_targets)"
   ]
  },
  {
   "cell_type": "code",
   "execution_count": null,
   "metadata": {},
   "outputs": [],
   "source": [
    "hek293t_val_internals = []\n",
    "hek293t_val_targets = []\n",
    "for i,b in tqdm(enumerate(hek293t_reg_val)):\n",
    "    sequence, target = b\n",
    "    hek293t_val_targets.append(target)\n",
    "    ss = sequence.shape\n",
    "    internal, _, _ = hek293t_model.forward(sequence.reshape(1, *ss))\n",
    "    hek293t_val_internals.append(internal.cpu().data.numpy().reshape(1,N_CLASSES*16))\n",
    "hek293t_val_internals = np.stack(hek293t_val_internals).squeeze()\n",
    "hek293t_val_targets = np.array(hek293t_val_targets)"
   ]
  },
  {
   "cell_type": "code",
   "execution_count": null,
   "metadata": {},
   "outputs": [],
   "source": [
    "hek293_tpot = exported_pipeline()"
   ]
  },
  {
   "cell_type": "code",
   "execution_count": null,
   "metadata": {},
   "outputs": [],
   "source": [
    "hek293_tpot.fit(hek293t_train_internals, hek293t_train_targets)"
   ]
  },
  {
   "cell_type": "code",
   "execution_count": null,
   "metadata": {},
   "outputs": [],
   "source": [
    "cat = CatBoostRegressor(loss_function=\"RMSE\", verbose=True)"
   ]
  },
  {
   "cell_type": "code",
   "execution_count": null,
   "metadata": {
    "scrolled": true
   },
   "outputs": [],
   "source": [
    "cat.fit(\n",
    "    hek293t_train_internals, hek293t_train_targets, \n",
    "    eval_set=(hek293t_val_internals, hek293t_val_targets)\n",
    ")"
   ]
  },
  {
   "cell_type": "code",
   "execution_count": null,
   "metadata": {},
   "outputs": [],
   "source": [
    "spearmanr(\n",
    "    hek293_tpot.predict(hek293t_val_internals),\n",
    "    hek293t_val_targets\n",
    ")"
   ]
  },
  {
   "cell_type": "code",
   "execution_count": null,
   "metadata": {},
   "outputs": [],
   "source": [
    "plt.scatter(\n",
    "    hek293t_val_targets,\n",
    "    hek293_tpot.predict(hek293t_val_internals)\n",
    ")\n",
    "plt.plot(hek293t_val_targets, hek293t_val_targets, color=\"red\")"
   ]
  },
  {
   "cell_type": "code",
   "execution_count": null,
   "metadata": {},
   "outputs": [],
   "source": [
    "cat.save_model(\"hek293t.cat\")"
   ]
  },
  {
   "cell_type": "markdown",
   "metadata": {},
   "source": [
    "### Classification training on hl60"
   ]
  },
  {
   "cell_type": "code",
   "execution_count": null,
   "metadata": {},
   "outputs": [],
   "source": [
    "TRAINED = \"/home/bakirillov/HDD/weights/CRISPR-CAD/DeepCRISPR/hl60\""
   ]
  },
  {
   "cell_type": "code",
   "execution_count": null,
   "metadata": {},
   "outputs": [],
   "source": [
    "if not op.exists(TRAINED):\n",
    "    os.makedirs(TRAINED)"
   ]
  },
  {
   "cell_type": "code",
   "execution_count": null,
   "metadata": {},
   "outputs": [],
   "source": [
    "EPOCHS = 30"
   ]
  },
  {
   "cell_type": "code",
   "execution_count": null,
   "metadata": {},
   "outputs": [],
   "source": [
    "training = {\"loss\": [], \"accuracy\": []}\n",
    "testing = {\"loss\": [], \"accuracy\": []}\n",
    "validation = {\"loss\": [], \"accuracy\": []}"
   ]
  },
  {
   "cell_type": "code",
   "execution_count": null,
   "metadata": {},
   "outputs": [],
   "source": [
    "hl60_model = GuideHN(21, 16, n_routes=1360, n_classes=N_CLASSES).cuda()\n",
    "optimizer = Adam(hl60_model.parameters(), lr=0.01)#Adam(model.parameters())\n",
    "capsule_loss = CentripetalLoss()"
   ]
  },
  {
   "cell_type": "code",
   "execution_count": null,
   "metadata": {},
   "outputs": [],
   "source": [
    "for a in tqdm(np.arange(EPOCHS)):\n",
    "    running_loss = []\n",
    "    running_targets = []\n",
    "    running_preds = []\n",
    "    hl60_model.train()\n",
    "    for i,b in enumerate(hl60_train_loader):\n",
    "        sequence, target = b\n",
    "        running_targets.append(target.data.numpy())\n",
    "        target = make_y(target.cuda(), N_CLASSES)\n",
    "        optimizer.zero_grad()\n",
    "        internal, lengths, reconstruction = hl60_model.forward(sequence)\n",
    "        loss = capsule_loss(\n",
    "            target, lengths, sequence.reshape(sequence.shape[0],-1), reconstruction\n",
    "        )\n",
    "        loss.backward()\n",
    "        optimizer.step()\n",
    "        running_preds.append(np.argmin(lengths.cpu().data.numpy(), 1))\n",
    "        running_loss.append(loss.cpu().data.numpy())\n",
    "    training[\"accuracy\"].append(\n",
    "        accuracy_score(np.concatenate(running_preds), np.concatenate(running_targets))\n",
    "    )\n",
    "    training[\"loss\"].append(np.mean(running_loss))\n",
    "    running_loss = []\n",
    "    running_targets = []\n",
    "    running_preds = []\n",
    "    hl60_model.eval()\n",
    "    for i,b in enumerate(hl60_test_loader):\n",
    "        sequence, target = b\n",
    "        running_targets.append(target.data.numpy())\n",
    "        target = make_y(target.cuda(), N_CLASSES)\n",
    "        internal, lengths, reconstruction = hl60_model.forward(sequence)\n",
    "        loss = capsule_loss(\n",
    "            target, lengths, sequence.reshape(sequence.shape[0],-1), reconstruction\n",
    "        )\n",
    "        running_preds.append(np.argmin(lengths.cpu().data.numpy(), 1))\n",
    "        running_loss.append(loss.cpu().data.numpy())\n",
    "    testing[\"accuracy\"].append(\n",
    "        accuracy_score(np.concatenate(running_preds), np.concatenate(running_targets))\n",
    "    )\n",
    "    testing[\"loss\"].append(np.mean(running_loss))\n",
    "    running_loss = []\n",
    "    running_targets = []\n",
    "    running_preds = []\n",
    "    for i,b in enumerate(hl60_val_loader):\n",
    "        sequence, target = b\n",
    "        running_targets.append(target.data.numpy())\n",
    "        target = make_y(target.cuda(), N_CLASSES)\n",
    "        internal, lengths, reconstruction = hl60_model.forward(sequence)\n",
    "        loss = capsule_loss(\n",
    "            target, lengths, sequence.reshape(sequence.shape[0],-1), reconstruction\n",
    "        )\n",
    "        running_preds.append(np.argmin(lengths.cpu().data.numpy(), 1))\n",
    "        running_loss.append(loss.cpu().data.numpy())\n",
    "    validation[\"accuracy\"].append(\n",
    "        accuracy_score(np.concatenate(running_preds), np.concatenate(running_targets))\n",
    "    )\n",
    "    validation[\"loss\"].append(np.mean(running_loss))\n",
    "    torch.save(hl60_model, op.join(TRAINED, str(a)+\".ptch\"))"
   ]
  },
  {
   "cell_type": "code",
   "execution_count": null,
   "metadata": {
    "scrolled": true
   },
   "outputs": [],
   "source": [
    "plt.plot(training[\"loss\"])\n",
    "plt.plot(testing[\"loss\"])\n",
    "plt.plot(validation[\"loss\"])"
   ]
  },
  {
   "cell_type": "code",
   "execution_count": null,
   "metadata": {},
   "outputs": [],
   "source": [
    "plt.plot(training[\"accuracy\"])\n",
    "plt.plot(testing[\"accuracy\"])\n",
    "plt.plot(validation[\"accuracy\"])\n",
    "plt.grid(True)"
   ]
  },
  {
   "cell_type": "code",
   "execution_count": null,
   "metadata": {},
   "outputs": [],
   "source": [
    "np.array(list(reversed(sorted(np.arange(30), key=lambda x: validation[\"accuracy\"][x]))))"
   ]
  },
  {
   "cell_type": "code",
   "execution_count": null,
   "metadata": {},
   "outputs": [],
   "source": [
    "np.array(list(reversed(sorted(np.arange(30), key=lambda x: testing[\"accuracy\"][x]))))"
   ]
  },
  {
   "cell_type": "code",
   "execution_count": null,
   "metadata": {},
   "outputs": [],
   "source": [
    "validation[\"accuracy\"][9]"
   ]
  },
  {
   "cell_type": "code",
   "execution_count": null,
   "metadata": {},
   "outputs": [],
   "source": [
    "testing[\"accuracy\"][14]"
   ]
  },
  {
   "cell_type": "code",
   "execution_count": null,
   "metadata": {},
   "outputs": [],
   "source": [
    "torch.save(hl60_model, \"hl60_model.ptch\")"
   ]
  },
  {
   "cell_type": "markdown",
   "metadata": {},
   "source": [
    "### CatBoost training on hl60"
   ]
  },
  {
   "cell_type": "code",
   "execution_count": null,
   "metadata": {},
   "outputs": [],
   "source": [
    "#hl60_model = torch.load(op.join(TRAINED, \"9.ptch\"))"
   ]
  },
  {
   "cell_type": "code",
   "execution_count": null,
   "metadata": {},
   "outputs": [],
   "source": [
    "hl60_reg_train = DeepCRISPRDataset(hl60_, train_X_hl60, transform=transformer)\n",
    "hl60_reg_test = DeepCRISPRDataset(hl60_, test_X_hl60, transform=transformer)\n",
    "hl60_reg_val = DeepCRISPRDataset(\n",
    "    hl60, np.arange(hl60.shape[0]), transform=transformer\n",
    ")"
   ]
  },
  {
   "cell_type": "code",
   "execution_count": null,
   "metadata": {},
   "outputs": [],
   "source": [
    "hl60_train_internals = []\n",
    "hl60_train_targets = []\n",
    "for i,b in tqdm(enumerate(hl60_reg_train)):\n",
    "    sequence, target = b\n",
    "    hl60_train_targets.append(target)\n",
    "    ss = sequence.shape\n",
    "    internal, _, _ = hl60_model.forward(sequence.reshape(1, *ss))\n",
    "    hl60_train_internals.append(internal.cpu().data.numpy().reshape(1, -1))\n",
    "hl60_train_internals = np.stack(hl60_train_internals).squeeze()\n",
    "hl60_train_targets = np.array(hl60_train_targets)"
   ]
  },
  {
   "cell_type": "code",
   "execution_count": null,
   "metadata": {},
   "outputs": [],
   "source": [
    "hl60_test_internals = []\n",
    "hl60_test_targets = []\n",
    "for i,b in tqdm(enumerate(hl60_reg_test)):\n",
    "    sequence, target = b\n",
    "    hl60_test_targets.append(target)\n",
    "    ss = sequence.shape\n",
    "    internal, _, _ = hl60_model.forward(sequence.reshape(1, *ss))\n",
    "    hl60_test_internals.append(internal.cpu().data.numpy().reshape(1,-1))\n",
    "hl60_test_internals = np.stack(hl60_test_internals).squeeze()\n",
    "hl60_test_targets = np.array(hl60_test_targets)"
   ]
  },
  {
   "cell_type": "code",
   "execution_count": null,
   "metadata": {},
   "outputs": [],
   "source": [
    "hl60_val_internals = []\n",
    "hl60_val_targets = []\n",
    "for i,b in tqdm(enumerate(hl60_reg_val)):\n",
    "    sequence, target = b\n",
    "    hl60_val_targets.append(target)\n",
    "    ss = sequence.shape\n",
    "    internal, _, _ = hl60_model.forward(sequence.reshape(1, *ss))\n",
    "    hl60_val_internals.append(internal.cpu().data.numpy().reshape(1,-1))\n",
    "hl60_val_internals = np.stack(hl60_val_internals).squeeze()\n",
    "hl60_val_targets = np.array(hl60_val_targets)"
   ]
  },
  {
   "cell_type": "code",
   "execution_count": null,
   "metadata": {},
   "outputs": [],
   "source": [
    "cat = CatBoostRegressor(loss_function=\"RMSE\", verbose=True)"
   ]
  },
  {
   "cell_type": "code",
   "execution_count": null,
   "metadata": {
    "scrolled": true
   },
   "outputs": [],
   "source": [
    "cat.fit(\n",
    "    hl60_train_internals, hl60_train_targets, \n",
    "    eval_set=(hl60_val_internals, hl60_val_targets)\n",
    ")"
   ]
  },
  {
   "cell_type": "code",
   "execution_count": null,
   "metadata": {},
   "outputs": [],
   "source": [
    "spearmanr(\n",
    "    cat.predict(hl60_val_internals),\n",
    "    hl60_val_targets\n",
    ")"
   ]
  },
  {
   "cell_type": "code",
   "execution_count": null,
   "metadata": {},
   "outputs": [],
   "source": [
    "plt.scatter(\n",
    "    hl60_val_targets,\n",
    "    cat.predict(hl60_val_internals)\n",
    ")\n",
    "plt.plot(hl60_val_targets, hl60_val_targets, color=\"red\")"
   ]
  },
  {
   "cell_type": "code",
   "execution_count": null,
   "metadata": {},
   "outputs": [],
   "source": [
    "cat.save_model(\"hl60.cat\")"
   ]
  },
  {
   "cell_type": "code",
   "execution_count": null,
   "metadata": {},
   "outputs": [],
   "source": [
    "hl60_tpot = exported_pipeline()"
   ]
  },
  {
   "cell_type": "code",
   "execution_count": null,
   "metadata": {},
   "outputs": [],
   "source": [
    "hl60_tpot.fit(hl60_train_internals, hl60_train_targets)"
   ]
  },
  {
   "cell_type": "code",
   "execution_count": null,
   "metadata": {},
   "outputs": [],
   "source": [
    "spearmanr(\n",
    "    hl60_tpot.predict(hl60_val_internals),\n",
    "    hl60_val_targets\n",
    ")"
   ]
  },
  {
   "cell_type": "code",
   "execution_count": null,
   "metadata": {},
   "outputs": [],
   "source": [
    "plt.scatter(\n",
    "    hl60_val_targets,\n",
    "    hl60_tpot.predict(hl60_val_internals)\n",
    ")\n",
    "plt.plot(hek293t_val_targets, hek293t_val_targets, color=\"red\")"
   ]
  },
  {
   "cell_type": "markdown",
   "metadata": {},
   "source": [
    "### Classification training on hct116"
   ]
  },
  {
   "cell_type": "code",
   "execution_count": null,
   "metadata": {},
   "outputs": [],
   "source": [
    "TRAINED = \"/home/bakirillov/HDD/weights/CRISPR-CAD/DeepCRISPR/hct116\""
   ]
  },
  {
   "cell_type": "code",
   "execution_count": null,
   "metadata": {},
   "outputs": [],
   "source": [
    "if not op.exists(TRAINED):\n",
    "    os.makedirs(TRAINED)"
   ]
  },
  {
   "cell_type": "code",
   "execution_count": null,
   "metadata": {},
   "outputs": [],
   "source": [
    "EPOCHS = 30"
   ]
  },
  {
   "cell_type": "code",
   "execution_count": null,
   "metadata": {},
   "outputs": [],
   "source": [
    "training = {\"loss\": [], \"accuracy\": []}\n",
    "testing = {\"loss\": [], \"accuracy\": []}\n",
    "validation = {\"loss\": [], \"accuracy\": []}"
   ]
  },
  {
   "cell_type": "code",
   "execution_count": null,
   "metadata": {},
   "outputs": [],
   "source": [
    "hct116_model = GuideCaps(21, 256, n_prim_capsules=64, n_iter=5).cuda()\n",
    "optimizer = Adam(hct116_model.parameters(), lr=0.01)#Adam(model.parameters())\n",
    "capsule_loss = CapsuleLoss()"
   ]
  },
  {
   "cell_type": "code",
   "execution_count": null,
   "metadata": {},
   "outputs": [],
   "source": [
    "capsule_loss(\n",
    "    make_y(torch.Tensor([0]).type(torch.LongTensor).cuda(), 2),\n",
    "    hela_test[0][0], make_y(torch.Tensor([0]).type(torch.LongTensor).cuda(), 2),\n",
    "    hela_test[0][0]\n",
    ")"
   ]
  },
  {
   "cell_type": "code",
   "execution_count": null,
   "metadata": {},
   "outputs": [],
   "source": [
    "for a in tqdm(np.arange(EPOCHS)):\n",
    "    running_loss = []\n",
    "    running_targets = []\n",
    "    running_preds = []\n",
    "    for i,b in enumerate(hct116_train_loader):\n",
    "        sequence, target = b\n",
    "        running_targets.append(target.data.numpy())\n",
    "        target = make_y(target.cuda(), 2)\n",
    "        optimizer.zero_grad()\n",
    "        internal, reconstruction, lengths, classes, _ = hct116_model.forward(sequence)\n",
    "        loss = capsule_loss(\n",
    "            target, sequence.reshape(sequence.shape[0],-1), lengths, reconstruction\n",
    "        )\n",
    "        loss.backward()\n",
    "        optimizer.step()\n",
    "        running_preds.append(classes.cpu().data.numpy())\n",
    "        running_loss.append(loss.cpu().data.numpy())\n",
    "    training[\"accuracy\"].append(\n",
    "        accuracy_score(np.concatenate(running_preds), np.concatenate(running_targets))\n",
    "    )\n",
    "    training[\"loss\"].append(np.mean(running_loss))\n",
    "    running_loss = []\n",
    "    running_targets = []\n",
    "    running_preds = []\n",
    "    for i,b in enumerate(hct116_test_loader):\n",
    "        sequence, target = b\n",
    "        running_targets.append(target.data.numpy())\n",
    "        target = make_y(target.cuda(), 2)\n",
    "        internal, reconstruction, lengths, classes, _ = hct116_model.forward(sequence)\n",
    "        loss = capsule_loss(\n",
    "            target, sequence.reshape(sequence.shape[0],-1), lengths, reconstruction\n",
    "        )\n",
    "        running_preds.append(classes.cpu().data.numpy())\n",
    "        running_loss.append(loss.cpu().data.numpy())\n",
    "    testing[\"accuracy\"].append(\n",
    "        accuracy_score(np.concatenate(running_preds), np.concatenate(running_targets))\n",
    "    )\n",
    "    testing[\"loss\"].append(np.mean(running_loss))\n",
    "    running_loss = []\n",
    "    running_targets = []\n",
    "    running_preds = []\n",
    "    for i,b in enumerate(hct116_val_loader):\n",
    "        sequence, target = b\n",
    "        running_targets.append(target.data.numpy())\n",
    "        target = make_y(target.cuda(), 2)\n",
    "        internal, reconstruction, lengths, classes, _ = hct116_model.forward(sequence)\n",
    "        loss = capsule_loss(\n",
    "            target, sequence.reshape(sequence.shape[0],-1), lengths, reconstruction\n",
    "        )\n",
    "        running_preds.append(classes.cpu().data.numpy())\n",
    "        running_loss.append(loss.cpu().data.numpy())\n",
    "    validation[\"accuracy\"].append(\n",
    "        accuracy_score(np.concatenate(running_preds), np.concatenate(running_targets))\n",
    "    )\n",
    "    validation[\"loss\"].append(np.mean(running_loss))\n",
    "    torch.save(hct116_model, op.join(TRAINED, str(a)+\".ptch\"))"
   ]
  },
  {
   "cell_type": "code",
   "execution_count": null,
   "metadata": {
    "scrolled": true
   },
   "outputs": [],
   "source": [
    "plt.plot(training[\"loss\"])\n",
    "plt.plot(testing[\"loss\"])\n",
    "plt.plot(validation[\"loss\"])"
   ]
  },
  {
   "cell_type": "code",
   "execution_count": null,
   "metadata": {},
   "outputs": [],
   "source": [
    "plt.plot(training[\"accuracy\"])\n",
    "plt.plot(testing[\"accuracy\"])\n",
    "plt.plot(validation[\"accuracy\"])\n",
    "plt.grid(True)"
   ]
  },
  {
   "cell_type": "code",
   "execution_count": null,
   "metadata": {},
   "outputs": [],
   "source": [
    "np.array(list(reversed(sorted(np.arange(30), key=lambda x: validation[\"accuracy\"][x]))))"
   ]
  },
  {
   "cell_type": "code",
   "execution_count": null,
   "metadata": {},
   "outputs": [],
   "source": [
    "np.array(list(reversed(sorted(np.arange(30), key=lambda x: testing[\"accuracy\"][x]))))"
   ]
  },
  {
   "cell_type": "code",
   "execution_count": null,
   "metadata": {},
   "outputs": [],
   "source": [
    "validation[\"accuracy\"][28]"
   ]
  },
  {
   "cell_type": "code",
   "execution_count": null,
   "metadata": {},
   "outputs": [],
   "source": [
    "testing[\"accuracy\"][28]"
   ]
  },
  {
   "cell_type": "code",
   "execution_count": null,
   "metadata": {},
   "outputs": [],
   "source": [
    "torch.save(hct116_model, \"hct116_model.ptch\")"
   ]
  },
  {
   "cell_type": "markdown",
   "metadata": {},
   "source": [
    "### CatBoost training on hct116"
   ]
  },
  {
   "cell_type": "code",
   "execution_count": null,
   "metadata": {},
   "outputs": [],
   "source": [
    "#hct116_model = torch.load(op.join(TRAINED, \"28.ptch\"))"
   ]
  },
  {
   "cell_type": "code",
   "execution_count": null,
   "metadata": {},
   "outputs": [],
   "source": [
    "hct116_reg_train = DeepCRISPRDataset(hct116_, train_X_hct116, transform=transformer)\n",
    "hct116_reg_test = DeepCRISPRDataset(hct116_, test_X_hct116, transform=transformer)\n",
    "hct116_reg_val = DeepCRISPRDataset(\n",
    "    hct116, np.arange(hct116.shape[0]), transform=transformer\n",
    ")"
   ]
  },
  {
   "cell_type": "code",
   "execution_count": null,
   "metadata": {},
   "outputs": [],
   "source": [
    "hct116_train_internals = []\n",
    "hct116_train_targets = []\n",
    "for i,b in tqdm(enumerate(hct116_reg_train)):\n",
    "    sequence, target = b\n",
    "    hct116_train_targets.append(target)\n",
    "    ss = sequence.shape\n",
    "    internal, _, _, _, _ = hct116_model.forward(sequence.reshape(1, *ss))\n",
    "    hct116_train_internals.append(internal.cpu().data.numpy().reshape(1,64))\n",
    "hct116_train_internals = np.stack(hct116_train_internals).squeeze()\n",
    "hct116_train_targets = np.array(hct116_train_targets)"
   ]
  },
  {
   "cell_type": "code",
   "execution_count": null,
   "metadata": {},
   "outputs": [],
   "source": [
    "hct116_test_internals = []\n",
    "hct116_test_targets = []\n",
    "for i,b in tqdm(enumerate(hct116_reg_test)):\n",
    "    sequence, target = b\n",
    "    hct116_test_targets.append(target)\n",
    "    ss = sequence.shape\n",
    "    internal, _, _, _, _ = hct116_model.forward(sequence.reshape(1, *ss))\n",
    "    hct116_test_internals.append(internal.cpu().data.numpy().reshape(1,64))\n",
    "hct116_test_internals = np.stack(hct116_test_internals).squeeze()\n",
    "hct116_test_targets = np.array(hct116_test_targets)"
   ]
  },
  {
   "cell_type": "code",
   "execution_count": null,
   "metadata": {},
   "outputs": [],
   "source": [
    "hct116_val_internals = []\n",
    "hct116_val_targets = []\n",
    "for i,b in tqdm(enumerate(hct116_reg_val)):\n",
    "    sequence, target = b\n",
    "    hct116_val_targets.append(target)\n",
    "    ss = sequence.shape\n",
    "    internal, _, _, _, _ = hct116_model.forward(sequence.reshape(1, *ss))\n",
    "    hct116_val_internals.append(internal.cpu().data.numpy().reshape(1,64))\n",
    "hct116_val_internals = np.stack(hct116_val_internals).squeeze()\n",
    "hct116_val_targets = np.array(hct116_val_targets)"
   ]
  },
  {
   "cell_type": "code",
   "execution_count": null,
   "metadata": {},
   "outputs": [],
   "source": [
    "cat = CatBoostRegressor(loss_function=\"MAE\", verbose=True)"
   ]
  },
  {
   "cell_type": "code",
   "execution_count": null,
   "metadata": {
    "scrolled": true
   },
   "outputs": [],
   "source": [
    "cat.fit(\n",
    "    hct116_train_internals, hct116_train_targets, \n",
    "    eval_set=(hct116_test_internals, hct116_test_targets)\n",
    ")"
   ]
  },
  {
   "cell_type": "code",
   "execution_count": null,
   "metadata": {},
   "outputs": [],
   "source": [
    "spearmanr(\n",
    "    cat.predict(hct116_val_internals),\n",
    "    hct116_val_targets\n",
    ")"
   ]
  },
  {
   "cell_type": "code",
   "execution_count": null,
   "metadata": {},
   "outputs": [],
   "source": [
    "plt.scatter(\n",
    "    hct116_val_targets,\n",
    "    cat.predict(hct116_val_internals)\n",
    ")\n",
    "plt.plot(hct116_val_targets, hct116_val_targets, color=\"red\")"
   ]
  },
  {
   "cell_type": "code",
   "execution_count": null,
   "metadata": {},
   "outputs": [],
   "source": [
    "cat.save_model(\"hct116.cat\")"
   ]
  },
  {
   "cell_type": "code",
   "execution_count": null,
   "metadata": {},
   "outputs": [],
   "source": [
    "(0.36+0.13-0.1+0.41)/4"
   ]
  }
 ],
 "metadata": {
  "kernelspec": {
   "display_name": "Python 3",
   "language": "python",
   "name": "python3"
  },
  "language_info": {
   "codemirror_mode": {
    "name": "ipython",
    "version": 3
   },
   "file_extension": ".py",
   "mimetype": "text/x-python",
   "name": "python",
   "nbconvert_exporter": "python",
   "pygments_lexer": "ipython3",
   "version": "3.7.5"
  }
 },
 "nbformat": 4,
 "nbformat_minor": 2
}
