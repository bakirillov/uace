{
 "cells": [
  {
   "cell_type": "code",
   "execution_count": 42,
   "metadata": {},
   "outputs": [],
   "source": [
    "import re\n",
    "import os\n",
    "import json\n",
    "import numpy as np\n",
    "import os.path as op\n",
    "import matplotlib.pyplot as plt\n",
    "from sklearn.metrics import mean_absolute_error"
   ]
  },
  {
   "cell_type": "code",
   "execution_count": 47,
   "metadata": {},
   "outputs": [],
   "source": [
    "INPDIR = \"../models/DeepHF/SpCas9HF1LC/\"\n",
    "files = list(filter(lambda x: \".json\" in x, [a for a in os.walk(INPDIR)][0][2]))"
   ]
  },
  {
   "cell_type": "code",
   "execution_count": 48,
   "metadata": {},
   "outputs": [
    {
     "data": {
      "text/plain": [
       "['SpCas9HF1LC_0.9_.json',\n",
       " 'SpCas9HF1LC_0.4_.json',\n",
       " 'SpCas9HF1LC_0.5_.json',\n",
       " 'SpCas9HF1LC_0.99_.json',\n",
       " 'SpCas9HF1LC_0.05_.json',\n",
       " 'SpCas9HF1LC_0.95_.json',\n",
       " 'SpCas9HF1LC_0.2_.json',\n",
       " 'SpCas9HF1LC_0.3_.json',\n",
       " 'SpCas9HF1LC_0.75_.json',\n",
       " 'SpCas9HF1LC_0.1_.json']"
      ]
     },
     "execution_count": 48,
     "metadata": {},
     "output_type": "execute_result"
    }
   ],
   "source": [
    "files"
   ]
  },
  {
   "cell_type": "code",
   "execution_count": 50,
   "metadata": {},
   "outputs": [],
   "source": [
    "model = \"SpC\""
   ]
  },
  {
   "cell_type": "code",
   "execution_count": 51,
   "metadata": {},
   "outputs": [],
   "source": [
    "ordered = list(\n",
    "    sorted(\n",
    "        list(\n",
    "            filter(lambda x: model in x, files)\n",
    "        ), \n",
    "        key=lambda x: x.split(\"_\")[1].replace(\".json\", \"\")\n",
    "    )\n",
    ")"
   ]
  },
  {
   "cell_type": "code",
   "execution_count": 52,
   "metadata": {},
   "outputs": [
    {
     "data": {
      "text/plain": [
       "['SpCas9HF1LC_0.05_.json',\n",
       " 'SpCas9HF1LC_0.1_.json',\n",
       " 'SpCas9HF1LC_0.2_.json',\n",
       " 'SpCas9HF1LC_0.3_.json',\n",
       " 'SpCas9HF1LC_0.4_.json',\n",
       " 'SpCas9HF1LC_0.5_.json',\n",
       " 'SpCas9HF1LC_0.75_.json',\n",
       " 'SpCas9HF1LC_0.9_.json',\n",
       " 'SpCas9HF1LC_0.95_.json',\n",
       " 'SpCas9HF1LC_0.99_.json']"
      ]
     },
     "execution_count": 52,
     "metadata": {},
     "output_type": "execute_result"
    }
   ],
   "source": [
    "ordered"
   ]
  },
  {
   "cell_type": "code",
   "execution_count": 53,
   "metadata": {},
   "outputs": [],
   "source": [
    "contents = [json.loads(open(op.join(INPDIR, a), \"r\").read()) for a in ordered]"
   ]
  },
  {
   "cell_type": "code",
   "execution_count": 54,
   "metadata": {},
   "outputs": [
    {
     "data": {
      "text/plain": [
       "dict_keys(['training', 'validation', 'y', 'y_hat', 'y_hat_std', 'y_T', 'y_hat_T', 'y_hat_std_T'])"
      ]
     },
     "execution_count": 54,
     "metadata": {},
     "output_type": "execute_result"
    }
   ],
   "source": [
    "contents[0].keys()"
   ]
  },
  {
   "cell_type": "code",
   "execution_count": 56,
   "metadata": {},
   "outputs": [],
   "source": [
    "mae_train = [mean_absolute_error(a[\"y_T\"], a[\"y_hat_T\"])  for a in contents]\n",
    "mae_H1 = [mean_absolute_error(a[\"y\"], a[\"y_hat\"])  for a in contents]"
   ]
  },
  {
   "cell_type": "code",
   "execution_count": 58,
   "metadata": {},
   "outputs": [],
   "source": [
    "mstd_train = [np.mean(a[\"y_hat_std_T\"])  for a in contents]\n",
    "mstd_H1 = [np.mean(a[\"y_hat_std\"])  for a in contents]"
   ]
  },
  {
   "cell_type": "code",
   "execution_count": 59,
   "metadata": {},
   "outputs": [],
   "source": [
    "proportions = [0.05, 0.1, 0.2, 0.3, 0.4, 0.5, 0.75, 0.9, 0.95, 0.99]"
   ]
  },
  {
   "cell_type": "code",
   "execution_count": 61,
   "metadata": {},
   "outputs": [
    {
     "data": {
      "text/plain": [
       "[<matplotlib.lines.Line2D at 0x7f6e2becb410>]"
      ]
     },
     "execution_count": 61,
     "metadata": {},
     "output_type": "execute_result"
    },
    {
     "data": {
      "image/png": "[encoded data removed]",
      "text/plain": [
       "<Figure size 432x288 with 1 Axes>"
      ]
     },
     "metadata": {
      "needs_background": "light"
     },
     "output_type": "display_data"
    }
   ],
   "source": [
    "plt.scatter(proportions, mstd_train)\n",
    "plt.plot(proportions, mstd_H1)"
   ]
  },
  {
   "cell_type": "code",
   "execution_count": 62,
   "metadata": {},
   "outputs": [
    {
     "data": {
      "text/plain": [
       "[<matplotlib.lines.Line2D at 0x7f6e2be95e10>]"
      ]
     },
     "execution_count": 62,
     "metadata": {},
     "output_type": "execute_result"
    },
    {
     "data": {
      "image/png": "[encoded data removed]",
      "text/plain": [
       "<Figure size 432x288 with 1 Axes>"
      ]
     },
     "metadata": {
      "needs_background": "light"
     },
     "output_type": "display_data"
    }
   ],
   "source": [
    "plt.plot(proportions, mae_train)\n",
    "plt.plot(proportions, mae_H1)"
   ]
  },
  {
   "cell_type": "code",
   "execution_count": null,
   "metadata": {},
   "outputs": [],
   "source": []
  },
  {
   "cell_type": "code",
   "execution_count": 157,
   "metadata": {},
   "outputs": [],
   "source": [
    "INPDIR = \"../models/DeepCpf1KimLC/\""
   ]
  },
  {
   "cell_type": "code",
   "execution_count": 158,
   "metadata": {},
   "outputs": [],
   "source": [
    "files = list(\n",
    "    sorted(\n",
    "        list(filter(lambda x: \".json\" in x, [a for a in os.walk(INPDIR)][0][2])),\n",
    "        key = lambda x: float(x.split(\"_\")[-1].replace(\".json\", \"\"))\n",
    "    )\n",
    ")\n",
    "histories = [json.loads(open(op.join(INPDIR, a)).read()) for a in files]"
   ]
  },
  {
   "cell_type": "code",
   "execution_count": 165,
   "metadata": {},
   "outputs": [
    {
     "data": {
      "text/plain": [
       "40"
      ]
     },
     "execution_count": 165,
     "metadata": {},
     "output_type": "execute_result"
    }
   ],
   "source": [
    "len(histories)"
   ]
  },
  {
   "cell_type": "code",
   "execution_count": 167,
   "metadata": {},
   "outputs": [],
   "source": [
    "%%bash\n",
    "\n",
    "mkdir ../results/LC/DeepCpf1Kim"
   ]
  },
  {
   "cell_type": "code",
   "execution_count": 169,
   "metadata": {},
   "outputs": [],
   "source": [
    "for a,b in zip(histories, files):\n",
    "    with open(\"../results/LC/DeepCpf1Kim/\"+b, \"w\") as oh:\n",
    "        oh.write(json.dumps(a))"
   ]
  },
  {
   "cell_type": "code",
   "execution_count": 168,
   "metadata": {},
   "outputs": [
    {
     "data": {
      "text/plain": [
       "['rnn_elbo_0.05.json',\n",
       " 'cnn_elbo_0.05.json',\n",
       " 'cnn_mse_0.05.json',\n",
       " 'rnn_mse_0.05.json',\n",
       " 'rnn_mse_0.1.json',\n",
       " 'cnn_elbo_0.1.json',\n",
       " 'cnn_mse_0.1.json',\n",
       " 'rnn_elbo_0.1.json',\n",
       " 'cnn_elbo_0.2.json',\n",
       " 'rnn_mse_0.2.json',\n",
       " 'cnn_mse_0.2.json',\n",
       " 'rnn_elbo_0.2.json',\n",
       " 'cnn_elbo_0.3.json',\n",
       " 'cnn_mse_0.3.json',\n",
       " 'rnn_mse_0.3.json',\n",
       " 'rnn_elbo_0.3.json',\n",
       " 'cnn_elbo_0.4.json',\n",
       " 'rnn_elbo_0.4.json',\n",
       " 'rnn_mse_0.4.json',\n",
       " 'cnn_mse_0.4.json',\n",
       " 'cnn_elbo_0.5.json',\n",
       " 'rnn_elbo_0.5.json',\n",
       " 'rnn_mse_0.5.json',\n",
       " 'cnn_mse_0.5.json',\n",
       " 'rnn_elbo_0.75.json',\n",
       " 'cnn_mse_0.75.json',\n",
       " 'cnn_elbo_0.75.json',\n",
       " 'rnn_mse_0.75.json',\n",
       " 'cnn_elbo_0.9.json',\n",
       " 'cnn_mse_0.9.json',\n",
       " 'rnn_mse_0.9.json',\n",
       " 'rnn_elbo_0.9.json',\n",
       " 'rnn_elbo_0.95.json',\n",
       " 'cnn_mse_0.95.json',\n",
       " 'cnn_elbo_0.95.json',\n",
       " 'rnn_mse_0.95.json',\n",
       " 'cnn_mse_0.99.json',\n",
       " 'rnn_elbo_0.99.json',\n",
       " 'cnn_elbo_0.99.json',\n",
       " 'rnn_mse_0.99.json']"
      ]
     },
     "execution_count": 168,
     "metadata": {},
     "output_type": "execute_result"
    }
   ],
   "source": [
    "files"
   ]
  },
  {
   "cell_type": "code",
   "execution_count": 160,
   "metadata": {},
   "outputs": [],
   "source": [
    "mses_tr = [a[\"training\"][\"metric\"][-1] for a in histories]\n",
    "mses_t = [a[\"validation\"][\"0\"][\"metric\"][-1] for a in histories]"
   ]
  },
  {
   "cell_type": "code",
   "execution_count": 161,
   "metadata": {},
   "outputs": [],
   "source": [
    "import matplotlib.pyplot as plt"
   ]
  },
  {
   "cell_type": "code",
   "execution_count": 162,
   "metadata": {},
   "outputs": [
    {
     "data": {
      "text/plain": [
       "<matplotlib.collections.PathCollection at 0x7f8e7a7dd210>"
      ]
     },
     "execution_count": 162,
     "metadata": {},
     "output_type": "execute_result"
    },
    {
     "data": {
      "image/png": "[encoded data removed]",
      "text/plain": [
       "<Figure size 432x288 with 1 Axes>"
      ]
     },
     "metadata": {
      "needs_background": "light"
     },
     "output_type": "display_data"
    }
   ],
   "source": [
    "plt.scatter(proportions, mses_tr[0:10])\n",
    "plt.scatter(proportions, mses_t[0:10])"
   ]
  },
  {
   "cell_type": "code",
   "execution_count": 163,
   "metadata": {},
   "outputs": [
    {
     "data": {
      "text/plain": [
       "<matplotlib.collections.PathCollection at 0x7f8e7aa02850>"
      ]
     },
     "execution_count": 163,
     "metadata": {},
     "output_type": "execute_result"
    },
    {
     "data": {
      "image/png": "[encoded data removed]",
      "text/plain": [
       "<Figure size 432x288 with 1 Axes>"
      ]
     },
     "metadata": {
      "needs_background": "light"
     },
     "output_type": "display_data"
    }
   ],
   "source": [
    "plt.scatter(proportions, mses_tr[10:20])\n",
    "plt.scatter(proportions, mses_t[10:20])"
   ]
  },
  {
   "cell_type": "code",
   "execution_count": 122,
   "metadata": {},
   "outputs": [
    {
     "data": {
      "text/plain": [
       "<matplotlib.collections.PathCollection at 0x7f8eac732850>"
      ]
     },
     "execution_count": 122,
     "metadata": {},
     "output_type": "execute_result"
    },
    {
     "data": {
      "image/png": "[encoded data removed]",
      "text/plain": [
       "<Figure size 432x288 with 1 Axes>"
      ]
     },
     "metadata": {
      "needs_background": "light"
     },
     "output_type": "display_data"
    }
   ],
   "source": [
    "plt.scatter([0.05, 0.1, 0.2], mses_tr)\n",
    "plt.scatter([0.05, 0.1, 0.2], mses_t)"
   ]
  },
  {
   "cell_type": "code",
   "execution_count": 70,
   "metadata": {},
   "outputs": [],
   "source": [
    "with open(\"../models/DeepCpf1KimLC/cnn_elbo_0.4.json\", \"r\") as ih:\n",
    "    u = json.loads(ih.read())"
   ]
  },
  {
   "cell_type": "code",
   "execution_count": 142,
   "metadata": {},
   "outputs": [
    {
     "name": "stdout",
     "output_type": "stream",
     "text": [
      "17\n"
     ]
    }
   ],
   "source": [
    "%%bash\n",
    "\n",
    "ls ../models/DeepCpf1KimLC/ | grep -c .json"
   ]
  },
  {
   "cell_type": "code",
   "execution_count": 71,
   "metadata": {},
   "outputs": [
    {
     "data": {
      "text/plain": [
       "dict_keys(['training', 'validation', 'y_T', 'y_hat_T', 'y_hat_std_T', 'y_H1', 'y_hat_H1', 'y_hat_std_H1', 'y_H2', 'y_hat_H2', 'y_hat_std_H2', 'y_H3', 'y_hat_H3', 'y_hat_std_H3'])"
      ]
     },
     "execution_count": 71,
     "metadata": {},
     "output_type": "execute_result"
    }
   ],
   "source": [
    "u.keys()"
   ]
  },
  {
   "cell_type": "code",
   "execution_count": 72,
   "metadata": {},
   "outputs": [],
   "source": [
    "from scipy.stats import spearmanr"
   ]
  },
  {
   "cell_type": "code",
   "execution_count": 73,
   "metadata": {},
   "outputs": [
    {
     "data": {
      "text/plain": [
       "SpearmanrResult(correlation=0.7949236293754358, pvalue=0.0)"
      ]
     },
     "execution_count": 73,
     "metadata": {},
     "output_type": "execute_result"
    }
   ],
   "source": [
    "spearmanr(u[\"y_T\"], u[\"y_hat_T\"])"
   ]
  },
  {
   "cell_type": "code",
   "execution_count": 74,
   "metadata": {},
   "outputs": [
    {
     "data": {
      "text/plain": [
       "SpearmanrResult(correlation=0.6896088528228055, pvalue=5.142654644053664e-183)"
      ]
     },
     "execution_count": 74,
     "metadata": {},
     "output_type": "execute_result"
    }
   ],
   "source": [
    "spearmanr(u[\"y_H1\"], u[\"y_hat_H1\"])"
   ]
  },
  {
   "cell_type": "code",
   "execution_count": 75,
   "metadata": {},
   "outputs": [
    {
     "data": {
      "text/plain": [
       "SpearmanrResult(correlation=0.6791931744087537, pvalue=0.0)"
      ]
     },
     "execution_count": 75,
     "metadata": {},
     "output_type": "execute_result"
    }
   ],
   "source": [
    "spearmanr(u[\"y_H2\"], u[\"y_hat_H2\"])"
   ]
  },
  {
   "cell_type": "code",
   "execution_count": 76,
   "metadata": {},
   "outputs": [
    {
     "data": {
      "text/plain": [
       "SpearmanrResult(correlation=0.47313146216292923, pvalue=8.856847360891798e-71)"
      ]
     },
     "execution_count": 76,
     "metadata": {},
     "output_type": "execute_result"
    }
   ],
   "source": [
    "spearmanr(u[\"y_H3\"], u[\"y_hat_H3\"])"
   ]
  }
 ],
 "metadata": {
  "kernelspec": {
   "display_name": "Python 3",
   "language": "python",
   "name": "python3"
  },
  "language_info": {
   "codemirror_mode": {
    "name": "ipython",
    "version": 3
   },
   "file_extension": ".py",
   "mimetype": "text/x-python",
   "name": "python",
   "nbconvert_exporter": "python",
   "pygments_lexer": "ipython3",
   "version": "3.7.5"
  }
 },
 "nbformat": 4,
 "nbformat_minor": 2
}
