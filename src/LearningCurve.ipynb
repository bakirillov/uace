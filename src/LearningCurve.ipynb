{
 "cells": [
  {
   "cell_type": "code",
   "execution_count": 1,
   "metadata": {},
   "outputs": [],
   "source": [
    "import re\n",
    "import os\n",
    "import json\n",
    "import numpy as np\n",
    "import os.path as op\n",
    "import matplotlib.pyplot as plt\n",
    "from scipy.stats import spearmanr\n",
    "from matplotlib.patches import Patch\n",
    "from sklearn.metrics import mean_absolute_error"
   ]
  },
  {
   "cell_type": "code",
   "execution_count": 2,
   "metadata": {},
   "outputs": [],
   "source": [
    "INPDIR = \"../models/DeepHF/SpCas9HF1LC/\"\n",
    "files = list(filter(lambda x: \".json\" in x, [a for a in os.walk(INPDIR)][0][2]))\n",
    "ordered = list(\n",
    "    sorted(\n",
    "        files, \n",
    "        key=lambda x: x.split(\"_\")[1].replace(\".json\", \"\")\n",
    "    )\n",
    ")\n",
    "contents = [json.loads(open(op.join(INPDIR, a), \"r\").read()) for a in ordered]\n",
    "scc_train_HF1 = [spearmanr(a[\"y_T\"], a[\"y_hat_T\"])[0]  for a in contents]\n",
    "scc_test_HF1 = [spearmanr(a[\"y\"], a[\"y_hat\"])[0]  for a in contents]\n",
    "mstd_train_HF1 = [np.median(a[\"y_hat_std_T\"])  for a in contents]\n",
    "mstd_test_HF1 = [np.median(a[\"y_hat_std\"])  for a in contents]"
   ]
  },
  {
   "cell_type": "code",
   "execution_count": 3,
   "metadata": {},
   "outputs": [
    {
     "name": "stderr",
     "output_type": "stream",
     "text": [
      "/home/bakirillov/.local/lib/python3.7/site-packages/numpy/lib/function_base.py:2534: RuntimeWarning: invalid value encountered in true_divide\n",
      "  c /= stddev[:, None]\n",
      "/home/bakirillov/.local/lib/python3.7/site-packages/numpy/lib/function_base.py:2535: RuntimeWarning: invalid value encountered in true_divide\n",
      "  c /= stddev[None, :]\n",
      "/home/bakirillov/.local/lib/python3.7/site-packages/scipy/stats/_distn_infrastructure.py:903: RuntimeWarning: invalid value encountered in greater\n",
      "  return (a < x) & (x < b)\n",
      "/home/bakirillov/.local/lib/python3.7/site-packages/scipy/stats/_distn_infrastructure.py:903: RuntimeWarning: invalid value encountered in less\n",
      "  return (a < x) & (x < b)\n",
      "/home/bakirillov/.local/lib/python3.7/site-packages/scipy/stats/_distn_infrastructure.py:1912: RuntimeWarning: invalid value encountered in less_equal\n",
      "  cond2 = cond0 & (x <= _a)\n"
     ]
    }
   ],
   "source": [
    "INPDIR = \"../models/DeepHF/eSpCas9LC/\"\n",
    "files = list(filter(lambda x: \".json\" in x, [a for a in os.walk(INPDIR)][0][2]))\n",
    "ordered = list(\n",
    "    sorted(\n",
    "        files, \n",
    "        key=lambda x: x.split(\"__\")[1].replace(\"_.json\", \"\")\n",
    "    )\n",
    ")\n",
    "contents = [json.loads(open(op.join(INPDIR, a), \"r\").read()) for a in ordered]\n",
    "scc_train_e = [spearmanr(a[\"y_T\"], a[\"y_hat_T\"])[0]  for a in contents]\n",
    "scc_test_e = [spearmanr(a[\"y\"], a[\"y_hat\"])[0]  for a in contents]\n",
    "mstd_train_e = [np.median(a[\"y_hat_std_T\"])  for a in contents]\n",
    "mstd_test_e = [np.median(a[\"y_hat_std\"])  for a in contents]"
   ]
  },
  {
   "cell_type": "code",
   "execution_count": 4,
   "metadata": {},
   "outputs": [],
   "source": [
    "INPDIR = \"../models/DeepHF/WtLC/\"\n",
    "files = list(filter(lambda x: \".json\" in x, [a for a in os.walk(INPDIR)][0][2]))\n",
    "ordered = list(\n",
    "    sorted(\n",
    "        files, \n",
    "        key=lambda x: x.split(\"_\")[1]\n",
    "    )\n",
    ")\n",
    "contents = [json.loads(open(op.join(INPDIR, a), \"r\").read()) for a in ordered]\n",
    "scc_train_wt = [spearmanr(a[\"y_T\"], a[\"y_hat_T\"])[0]  for a in contents]\n",
    "scc_test_wt = [spearmanr(a[\"y\"], a[\"y_hat\"])[0]  for a in contents]\n",
    "mstd_train_wt = [np.median(a[\"y_hat_std_T\"])  for a in contents]\n",
    "mstd_test_wt = [np.median(a[\"y_hat_std\"])  for a in contents]"
   ]
  },
  {
   "cell_type": "code",
   "execution_count": 23,
   "metadata": {},
   "outputs": [],
   "source": [
    "INPDIR = \"../models/WeissmanLC/\"\n",
    "files = list(filter(lambda x: \".json\" in x, [a for a in os.walk(INPDIR)][0][2]))\n",
    "ordered = list(\n",
    "    sorted(\n",
    "        files, \n",
    "        key=lambda x: x.split(\"_\")[1]\n",
    "    )\n",
    ")\n",
    "contents = [json.loads(open(op.join(INPDIR, a), \"r\").read()) for a in ordered]\n",
    "#scc_train_weis = [spearmanr(a[\"y_T\"], a[\"y_hat_T\"])[0]  for a in contents]\n",
    "scc_test_weis = [spearmanr(a[\"y\"], a[\"y_hat\"])[0]  for a in contents]\n",
    "#mstd_train_weis = [np.median(a[\"y_hat_std_T\"])  for a in contents]\n",
    "mstd_test_weis = [np.median(a[\"y_hat_std\"])  for a in contents]"
   ]
  },
  {
   "cell_type": "code",
   "execution_count": 26,
   "metadata": {},
   "outputs": [
    {
     "data": {
      "text/plain": [
       "['Cpf1OfftargetsLC_cnn_elbo_0.4_.json',\n",
       " 'Cpf1OfftargetsLC_cnn_elbo_0.1_.json',\n",
       " 'Cpf1OfftargetsLC_cnn_elbo_0.3_.json',\n",
       " 'Cpf1OfftargetsLC_cnn_elbo_0.2_.json',\n",
       " 'Cpf1OfftargetsLC_cnn_elbo_0.5_.json',\n",
       " 'Cpf1OfftargetsLC_cnn_elbo_0.9_.json',\n",
       " 'Cpf1OfftargetsLC_cnn_elbo_0.75_.json',\n",
       " 'Cpf1OfftargetsLC_cnn_elbo_0.05_.json',\n",
       " 'Cpf1OfftargetsLC_cnn_elbo_0.99_.json',\n",
       " 'Cpf1OfftargetsLC_cnn_elbo_0.95_.json']"
      ]
     },
     "execution_count": 26,
     "metadata": {},
     "output_type": "execute_result"
    }
   ],
   "source": [
    "files"
   ]
  },
  {
   "cell_type": "code",
   "execution_count": 40,
   "metadata": {},
   "outputs": [],
   "source": [
    "INPDIR = \"../models/Cpf1OfftargetsLC/\"\n",
    "files = list(filter(lambda x: \".json\" in x and \"cnn_elbo\" in x, [a for a in os.walk(INPDIR)][0][2]))\n",
    "ordered = list(\n",
    "    sorted(\n",
    "        files, \n",
    "        key=lambda x: x.split(\"_\")[3]\n",
    "    )\n",
    ")\n",
    "contents = [json.loads(open(op.join(INPDIR, a), \"r\").read()) for a in ordered]\n",
    "#scc_train_weis = [spearmanr(a[\"y_T\"], a[\"y_hat_T\"])[0]  for a in contents]\n",
    "scc_test_cindel = [spearmanr(a[\"y\"], a[\"y_hat\"])[0]  for a in contents][0:10]\n",
    "#mstd_train_weis = [np.median(a[\"y_hat_std_T\"])  for a in contents]\n",
    "mstd_test_cindel = [np.median(a[\"y_hat_std\"])  for a in contents]"
   ]
  },
  {
   "cell_type": "code",
   "execution_count": 6,
   "metadata": {},
   "outputs": [],
   "source": [
    "INPDIR = \"../results/LC/DeepCpf1Kim/\"\n",
    "files = list(\n",
    "    filter(\n",
    "        lambda x: \".json\" in x and \"cnn_elbo\" in x, \n",
    "        [a for a in os.walk(INPDIR)][0][2]\n",
    "    )\n",
    ")\n",
    "ordered = list(\n",
    "    sorted(\n",
    "        files, \n",
    "        key=lambda x: x.split(\"_\")[2].replace(\".json\", \"\")\n",
    "    )\n",
    ")\n",
    "contents = [json.loads(open(op.join(INPDIR, a), \"r\").read()) for a in ordered]\n",
    "scc_train_cpf = [spearmanr(a[\"y_T\"], a[\"y_hat_T\"])[0]  for a in contents][0:10]\n",
    "scc_test_cpf = [spearmanr(a[\"y_H1\"], a[\"y_hat_H1\"])[0]  for a in contents][0:10]\n",
    "scc_test_cpf2 = [spearmanr(a[\"y_H2\"], a[\"y_hat_H2\"])[0]  for a in contents][0:10]\n",
    "scc_test_cpf3 = [spearmanr(a[\"y_H3\"], a[\"y_hat_H3\"])[0]  for a in contents][0:10]\n",
    "mstd_train_cpf = [np.median(a[\"y_hat_std_H1\"]) for a in contents]\n",
    "mstd_test_cpf = [np.median(a[\"y_hat_std_H1\"]) for a in contents]\n",
    "mstd_train_cpf2 = [np.median(a[\"y_hat_std_H2\"]) for a in contents]\n",
    "mstd_test_cpf2 = [np.median(a[\"y_hat_std_H2\"]) for a in contents]\n",
    "mstd_train_cpf3 = [np.median(a[\"y_hat_std_H3\"]) for a in contents]\n",
    "mstd_test_cpf3 = [np.median(a[\"y_hat_std_H3\"]) for a in contents]"
   ]
  },
  {
   "cell_type": "code",
   "execution_count": 7,
   "metadata": {},
   "outputs": [],
   "source": [
    "proportions = np.array(\n",
    "    [0.05, 0.1, 0.2, 0.3, 0.4, 0.5, 0.75, 0.9, 0.95, 0.99]\n",
    ")"
   ]
  },
  {
   "cell_type": "code",
   "execution_count": 15,
   "metadata": {},
   "outputs": [],
   "source": [
    "sizes = {\n",
    "    \"Wt\": int(59254*0.8),\n",
    "    \"eSpCas9\": int(59254*0.8),\n",
    "    \"SpCas9HF1\": int(59254*0.8),\n",
    "    \"Cpf1\": int(15000*0.8),\n",
    "    \"Cpf1_offtarget\": int(1596*0.9)\n",
    "}"
   ]
  },
  {
   "cell_type": "code",
   "execution_count": 9,
   "metadata": {},
   "outputs": [],
   "source": [
    "from pylab import rcParams\n",
    "rcParams['figure.figsize'] = 10, 3"
   ]
  },
  {
   "cell_type": "code",
   "execution_count": 41,
   "metadata": {},
   "outputs": [
    {
     "data": {
      "text/plain": [
       "['CpfOfftargets_cnn_elbo_0.05_.json',\n",
       " 'CpfOfftargets_cnn_elbo_0.1_.json',\n",
       " 'CpfOfftargets_cnn_elbo_0.2_.json',\n",
       " 'CpfOfftargets_cnn_elbo_0.3_.json',\n",
       " 'CpfOfftargets_cnn_elbo_0.4_.json',\n",
       " 'CpfOfftargets_cnn_elbo_0.5_.json',\n",
       " 'CpfOfftargets_cnn_elbo_0.75_.json',\n",
       " 'CpfOfftargets_cnn_elbo_0.9_.json',\n",
       " 'CpfOfftargets_cnn_elbo_0.95_.json',\n",
       " 'CpfOfftargets_cnn_elbo_0.99_.json']"
      ]
     },
     "execution_count": 41,
     "metadata": {},
     "output_type": "execute_result"
    }
   ],
   "source": [
    "ordered"
   ]
  },
  {
   "cell_type": "code",
   "execution_count": 42,
   "metadata": {},
   "outputs": [
    {
     "data": {
      "image/png": "[encoded data removed]",
      "text/plain": [
       "<Figure size 720x216 with 2 Axes>"
      ]
     },
     "metadata": {
      "needs_background": "light"
     },
     "output_type": "display_data"
    }
   ],
   "source": [
    "plt.subplot(1,2,1)\n",
    "plt.scatter(proportions*sizes[\"SpCas9HF1\"], scc_test_HF1, c=\"navy\")\n",
    "plt.plot(proportions*sizes[\"SpCas9HF1\"], scc_test_HF1, c=\"navy\")\n",
    "plt.scatter(proportions*sizes[\"eSpCas9\"], scc_test_e, c=\"deepskyblue\")\n",
    "plt.plot(proportions*sizes[\"eSpCas9\"], scc_test_e, c=\"deepskyblue\")\n",
    "plt.scatter(proportions*sizes[\"Wt\"], scc_test_wt, c=\"lightblue\")\n",
    "plt.plot(proportions*sizes[\"Wt\"], scc_test_wt, c=\"lightblue\")\n",
    "plt.scatter(proportions*sizes[\"Cpf1\"], scc_test_cpf, c=\"orangered\")\n",
    "plt.plot(proportions*sizes[\"Cpf1\"], scc_test_cpf, c=\"orangered\")\n",
    "plt.scatter(proportions*sizes[\"Cpf1\"], scc_test_cpf2, c=\"salmon\")\n",
    "plt.plot(proportions*sizes[\"Cpf1\"], scc_test_cpf2, c=\"salmon\")\n",
    "plt.scatter(proportions*sizes[\"Cpf1\"], scc_test_cpf3, c=\"darkred\")\n",
    "plt.plot(proportions*sizes[\"Cpf1\"], scc_test_cpf3, c=\"darkred\")\n",
    "plt.scatter(proportions*sizes[\"Cpf1\"], scc_test_weis, c=\"green\")\n",
    "plt.plot(proportions*sizes[\"Cpf1\"], scc_test_weis, c=\"green\")\n",
    "plt.scatter(proportions*sizes[\"Cpf1_offtarget\"], scc_test_cindel, c=\"black\")\n",
    "plt.plot(proportions*sizes[\"Cpf1_offtarget\"], scc_test_cindel, c=\"black\")\n",
    "plt.ylim((0,1))\n",
    "plt.title(\"A. Learning curves\")\n",
    "plt.xlabel(\"Training set size\")\n",
    "plt.ylabel(\"Spearman Correlation\")\n",
    "plt.subplot(1,2,2)\n",
    "plt.scatter(proportions*sizes[\"SpCas9HF1\"], mstd_test_HF1, c=\"navy\")\n",
    "plt.plot(proportions*sizes[\"SpCas9HF1\"], mstd_test_HF1, c=\"navy\")\n",
    "plt.scatter(proportions*sizes[\"eSpCas9\"], mstd_test_e, c=\"deepskyblue\")\n",
    "plt.plot(proportions*sizes[\"eSpCas9\"], mstd_test_e, c=\"deepskyblue\")\n",
    "plt.scatter(proportions*sizes[\"Wt\"], mstd_test_wt, c=\"lightblue\")\n",
    "plt.plot(proportions*sizes[\"Wt\"], mstd_test_wt, c=\"lightblue\")\n",
    "plt.scatter(proportions*sizes[\"Cpf1\"], mstd_test_cpf, c=\"orangered\")\n",
    "plt.plot(proportions*sizes[\"Cpf1\"], mstd_test_cpf, c=\"orangered\")\n",
    "plt.scatter(proportions*sizes[\"Cpf1\"], mstd_test_cpf2, c=\"salmon\")\n",
    "plt.plot(proportions*sizes[\"Cpf1\"], mstd_test_cpf2, c=\"salmon\")\n",
    "plt.scatter(proportions*sizes[\"Cpf1\"], mstd_test_cpf3, c=\"darkred\")\n",
    "plt.plot(proportions*sizes[\"Cpf1\"], mstd_test_cpf3, c=\"darkred\")\n",
    "plt.scatter(proportions*sizes[\"Cpf1\"], mstd_test_weis, c=\"green\")\n",
    "plt.plot(proportions*sizes[\"Cpf1\"], mstd_test_weis, c=\"green\")\n",
    "plt.scatter(proportions*sizes[\"Cpf1_offtarget\"], mstd_test_cindel, c=\"black\")\n",
    "plt.plot(proportions*sizes[\"Cpf1_offtarget\"], mstd_test_cindel, c=\"black\")\n",
    "plt.xlabel(\"Training set size\")\n",
    "plt.ylabel(\"Mean standard deviation\")\n",
    "plt.title(\"B. Reduction of uncertainty during training\")\n",
    "plt.legend(\n",
    "    loc=\"best\", handles=[\n",
    "        Patch(color=\"lightblue\", label=\"DeepHF Wt\"),\n",
    "        Patch(color=\"deepskyblue\", label=\"DeepHF eSpCas9\"),\n",
    "        Patch(color=\"navy\", label=\"DeepHF SpCas9-HF1\"),\n",
    "        Patch(color=\"orangered\", label=\"DeepCpf1 H1\"),\n",
    "        Patch(color=\"salmon\", label=\"DeepCpf1 H2\"),\n",
    "        Patch(color=\"darkred\", label=\"DeepCpf1 H3\"),\n",
    "        Patch(color=\"green\", label=\"Weissman\"),\n",
    "        Patch(color=\"black\", label=\"Cpf1 offtargets\")\n",
    "    ]\n",
    ")\n",
    "plt.show()"
   ]
  },
  {
   "cell_type": "code",
   "execution_count": 11,
   "metadata": {},
   "outputs": [],
   "source": [
    "import pandas as pd"
   ]
  },
  {
   "cell_type": "code",
   "execution_count": 14,
   "metadata": {},
   "outputs": [],
   "source": [
    "u = pd.read_csv(\"../results/Chr22/Cas9/_models_DeepHF_Wt_cnn_elbo59.tsv\", index_col=0).head()"
   ]
  },
  {
   "cell_type": "code",
   "execution_count": 17,
   "metadata": {},
   "outputs": [
    {
     "data": {
      "text/plain": [
       "Index(['0', '1', '2', '3', '4', '5', '6', '7', '8', '9'], dtype='object')"
      ]
     },
     "execution_count": 17,
     "metadata": {},
     "output_type": "execute_result"
    }
   ],
   "source": [
    "u.columns"
   ]
  },
  {
   "cell_type": "code",
   "execution_count": 24,
   "metadata": {},
   "outputs": [],
   "source": [
    "del u[\"6\"]"
   ]
  },
  {
   "cell_type": "code",
   "execution_count": 26,
   "metadata": {},
   "outputs": [],
   "source": [
    "u.columns = [\"start\", \"sequence\", \"strand\", \"mean\", \"variance\"]"
   ]
  },
  {
   "cell_type": "code",
   "execution_count": 29,
   "metadata": {},
   "outputs": [
    {
     "name": "stdout",
     "output_type": "stream",
     "text": [
      "\\begin{tabular}{lrllrr}\n",
      "\\toprule\n",
      "{} &  start &                 sequence & strand &      mean &  variance \\\\\n",
      "\\midrule\n",
      "0 &   7403 &  GTGTGTGGACAGATCAGGAGGGG &      - &  0.925986 &  0.011313 \\\\\n",
      "1 &  11867 &  CTAGACAGAAAAGGAAAGGGGGG &      - &  0.925975 &  0.011333 \\\\\n",
      "2 &   6718 &  GCAGAGCCAAAGCTGAACCCAGG &      + &  0.925880 &  0.011435 \\\\\n",
      "3 &   4888 &  CTGGGAGCTCAGGCATCCCAGGG &      - &  0.925802 &  0.011466 \\\\\n",
      "4 &   3446 &  CAGGAGCTCAAGACCAGTGTGGG &      - &  0.925743 &  0.011290 \\\\\n",
      "\\bottomrule\n",
      "\\end{tabular}\n",
      "\n"
     ]
    }
   ],
   "source": [
    "print(u.to_latex())"
   ]
  }
 ],
 "metadata": {
  "kernelspec": {
   "display_name": "Python 3",
   "language": "python",
   "name": "python3"
  },
  "language_info": {
   "codemirror_mode": {
    "name": "ipython",
    "version": 3
   },
   "file_extension": ".py",
   "mimetype": "text/x-python",
   "name": "python",
   "nbconvert_exporter": "python",
   "pygments_lexer": "ipython3",
   "version": "3.7.5"
  }
 },
 "nbformat": 4,
 "nbformat_minor": 2
}
