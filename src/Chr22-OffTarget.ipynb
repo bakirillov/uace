{
 "cells": [
  {
   "cell_type": "code",
   "execution_count": 1,
   "metadata": {},
   "outputs": [
    {
     "name": "stderr",
     "output_type": "stream",
     "text": [
      "/home/bakirillov/anaconda3/envs/lapki/lib/python3.7/site-packages/sklearn/externals/joblib/__init__.py:15: FutureWarning: sklearn.externals.joblib is deprecated in 0.21 and will be removed in 0.23. Please import this functionality directly from joblib, which can be installed with: pip install joblib. If this warning is raised when loading pickled models, you may need to re-serialize those models with scikit-learn 0.21+.\n",
      "  warnings.warn(msg, category=FutureWarning)\n",
      "/home/bakirillov/anaconda3/envs/lapki/lib/python3.7/site-packages/sklearn/utils/deprecation.py:144: FutureWarning: The sklearn.metrics.scorer module is  deprecated in version 0.22 and will be removed in version 0.24. The corresponding classes / functions should instead be imported from sklearn.metrics. Anything that cannot be imported from sklearn.metrics is now part of the private API.\n",
      "  warnings.warn(message, FutureWarning)\n",
      "/home/bakirillov/anaconda3/envs/lapki/lib/python3.7/site-packages/sklearn/utils/deprecation.py:144: FutureWarning: The sklearn.feature_selection.base module is  deprecated in version 0.22 and will be removed in version 0.24. The corresponding classes / functions should instead be imported from sklearn.feature_selection. Anything that cannot be imported from sklearn.feature_selection is now part of the private API.\n",
      "  warnings.warn(message, FutureWarning)\n"
     ]
    }
   ],
   "source": [
    "import os\n",
    "import umap\n",
    "import torch\n",
    "import itertools\n",
    "from core import *\n",
    "import numpy as np\n",
    "import pandas as pd\n",
    "import pickle as pkl\n",
    "from torch import nn\n",
    "import os.path as op\n",
    "from tqdm import tqdm\n",
    "from time import time\n",
    "from Bio import SeqIO\n",
    "from copy import deepcopy\n",
    "from torch.optim import Adam\n",
    "from tpot import TPOTRegressor\n",
    "import torch.nn.functional as F\n",
    "import matplotlib.pyplot as plt\n",
    "from capsules.capsules import *\n",
    "from IPython.display import Image\n",
    "from qhoptim.pyt import QHM, QHAdam\n",
    "from matplotlib.lines import Line2D\n",
    "from torch.autograd import Variable\n",
    "from matplotlib.patches import Patch\n",
    "from scipy.stats import spearmanr, pearsonr\n",
    "from catboost import CatBoostRegressor, Pool, cv\n",
    "from sklearn.model_selection import train_test_split, StratifiedKFold\n",
    "from sklearn.metrics import mean_absolute_error, mean_squared_error, median_absolute_error\n",
    "from sklearn.metrics import accuracy_score, matthews_corrcoef, precision_score, recall_score"
   ]
  },
  {
   "cell_type": "code",
   "execution_count": 2,
   "metadata": {},
   "outputs": [
    {
     "data": {
      "text/plain": [
       "23"
      ]
     },
     "execution_count": 2,
     "metadata": {},
     "output_type": "execute_result"
    }
   ],
   "source": [
    "len(\"TTTCTGAGCATCCCGGGGATCCC\")"
   ]
  },
  {
   "cell_type": "code",
   "execution_count": 3,
   "metadata": {},
   "outputs": [],
   "source": [
    "from torchvision import models, transforms\n",
    "from torch.utils.data import DataLoader, Dataset"
   ]
  },
  {
   "cell_type": "code",
   "execution_count": 4,
   "metadata": {},
   "outputs": [],
   "source": [
    "import gpytorch\n",
    "from gpytorch.means import ConstantMean, LinearMean\n",
    "from gpytorch.models import ApproximateGP, ExactGP \n",
    "from sklearn.metrics import accuracy_score\n",
    "from gpytorch.priors import SmoothedBoxPrior\n",
    "from gpytorch.likelihoods import GaussianLikelihood\n",
    "from gpytorch.kernels import ScaleKernel, RBFKernel, GridInterpolationKernel\n",
    "from gpytorch.mlls import VariationalELBO, VariationalELBOEmpirical, DeepApproximateMLL\n",
    "from gpytorch.distributions import MultivariateNormal\n",
    "from gpytorch.variational import CholeskyVariationalDistribution\n",
    "from gpytorch.variational import VariationalStrategy\n",
    "from gpytorch.models.deep_gps import DeepGPLayer, DeepGP"
   ]
  },
  {
   "cell_type": "code",
   "execution_count": 5,
   "metadata": {},
   "outputs": [],
   "source": [
    "DATAPATH = \"/home/bakirillov/HDD/data/genomes/all_guides_chr22.tsv\"\n",
    "ANNOTATION = \"/home/bakirillov/HDD/data/genomes/annotation.csv\""
   ]
  },
  {
   "cell_type": "code",
   "execution_count": 6,
   "metadata": {},
   "outputs": [],
   "source": [
    "annotation = pd.read_csv(ANNOTATION, header=1)[[\"Start\", \"Stop\", \"Gene symbol\"]]\n",
    "annotation = list(\n",
    "    zip(\n",
    "        annotation[\"Start\"].values, annotation[\"Stop\"].values, \n",
    "        annotation[\"Gene symbol\"].values\n",
    "    )\n",
    ")\n",
    "annotation = sorted(annotation, key=lambda x: x[0])"
   ]
  },
  {
   "cell_type": "code",
   "execution_count": 7,
   "metadata": {},
   "outputs": [],
   "source": [
    "transformer = get_Cas9_transformer(True)"
   ]
  },
  {
   "cell_type": "code",
   "execution_count": 8,
   "metadata": {},
   "outputs": [],
   "source": [
    "chr22 = SeqIO.parse(\"/home/bakirillov/HDD/data/genomes/chr22.fa\", \"fasta\")\n",
    "chr22 = [a for a in chr22][0]"
   ]
  },
  {
   "cell_type": "code",
   "execution_count": 9,
   "metadata": {},
   "outputs": [],
   "source": [
    "TEMPLATE = \"/home/bakirillov/HDD/data/chr22_genes/GENE\\nPERFECTMATCH\\nNNNNNNNNNNNNNNNNNNNNNGG 6\\n\"\n",
    "COMMAND = \"/home/bakirillov/HDD/apps/cas-offinder CONFIG G OUTPUT\""
   ]
  },
  {
   "cell_type": "code",
   "execution_count": 10,
   "metadata": {},
   "outputs": [
    {
     "name": "stdout",
     "output_type": "stream",
     "text": [
      "Cpf1_table.xlsx\n",
      "ST3.xlsx\n",
      "ST4 Chr22 top gRNAs per gene.xlsx\n",
      "W_table.xlsx\n"
     ]
    }
   ],
   "source": [
    "%%bash\n",
    "\n",
    "ls | grep xls"
   ]
  },
  {
   "cell_type": "code",
   "execution_count": 11,
   "metadata": {},
   "outputs": [],
   "source": [
    "d = pd.read_excel(\"ST4 Chr22 top gRNAs per gene.xlsx\", sheet_name=0)"
   ]
  },
  {
   "cell_type": "code",
   "execution_count": 12,
   "metadata": {},
   "outputs": [],
   "source": [
    "TOP10 = np.random.choice(d[\"4\"].unique(), 100, replace=False)"
   ]
  },
  {
   "cell_type": "code",
   "execution_count": 17,
   "metadata": {
    "scrolled": false
   },
   "outputs": [
    {
     "name": "stderr",
     "output_type": "stream",
     "text": [
      "100%|██████████| 1186/1186 [00:00<00:00, 2883.23it/s]\n"
     ]
    }
   ],
   "source": [
    "script = open(\"run_casoffinder_ot.sh\", \"w\")\n",
    "script.write(\"#!/bin/sh\\n\\n\")\n",
    "for start, stop, gene in tqdm(annotation):\n",
    "    with open(\"/home/bakirillov/HDD/data/chr22_genes_OT/\"+gene+\".fa\", \"w\") as oh:\n",
    "        oh.write(\">\"+gene+\"\\n\")\n",
    "        oh.write(str(chr22.seq[start:stop]))\n",
    "    with open(\"/home/bakirillov/HDD/data/chr22_casoffinder_configs_OT/\"+gene+\".txt\", \"w\") as oh:\n",
    "        oh.write(TEMPLATE.replace(\"GENE\", gene+\".fa\").split(\"\\n\")[0])\n",
    "        oh.write(\"\\nNNNNNNNNNNNNNNNNNNNNNGG\\n\")\n",
    "        for a in TOP10:\n",
    "            for b in range(1, 7):\n",
    "                oh.write(a+\" \"+str(b)+\"\\n\")\n",
    "    script.write(\n",
    "        COMMAND.replace(\n",
    "            \"CONFIG\", \"/home/bakirillov/HDD/data/chr22_casoffinder_configs_OT/\"+gene+\".txt\"\n",
    "        ).replace(\n",
    "            \"OUTPUT\", \"/home/bakirillov/HDD/data/chr22_grnas_OT/\"+gene+\".tsv\"\n",
    "        )+\"\\n\"\n",
    "    )\n",
    "script.close()"
   ]
  },
  {
   "cell_type": "code",
   "execution_count": 18,
   "metadata": {},
   "outputs": [],
   "source": [
    "data = np.array(\n",
    "    [a for a in os.walk(\"/home/bakirillov/HDD/data/chr22_grnas_OT/\")][0][2]\n",
    ")"
   ]
  },
  {
   "cell_type": "code",
   "execution_count": 19,
   "metadata": {},
   "outputs": [],
   "source": [
    "sizes = np.array(\n",
    "    [op.getsize(op.join(\"/home/bakirillov/HDD/data/chr22_grnas_OT\", a)) for a in data]\n",
    ")"
   ]
  },
  {
   "cell_type": "code",
   "execution_count": 20,
   "metadata": {},
   "outputs": [],
   "source": [
    "u = ImperfectMatchTransform(\"NGG\", False, False, fold=False, cut_at_start=0, cut_at_end=0)\n",
    "transformer = transforms.Compose(\n",
    "    [\n",
    "        u, ToTensor(cudap=True)\n",
    "    ]\n",
    ")"
   ]
  },
  {
   "cell_type": "code",
   "execution_count": 21,
   "metadata": {},
   "outputs": [],
   "source": [
    "w_encoder = GuideHN2d(\n",
    "    23, capsule_dimension=32, n_routes=1600, n_classes=5, n_channels=2,\n",
    ").cuda()\n",
    "w_model = DKL(w_encoder, [1,5*32]).cuda().eval()\n",
    "w_model.load_state_dict(torch.load(\"../models/Weissman/cnn59.ptch\"))\n",
    "w_model = w_model.eval()"
   ]
  },
  {
   "cell_type": "code",
   "execution_count": 22,
   "metadata": {
    "scrolled": true
   },
   "outputs": [
    {
     "name": "stderr",
     "output_type": "stream",
     "text": [
      "100%|██████████| 1/1 [00:00<00:00, 27.75it/s]\n",
      "100%|██████████| 1/1 [00:00<00:00, 71.15it/s]\n",
      "100%|██████████| 1/1 [00:00<00:00, 26.77it/s]\n",
      "100%|██████████| 1/1 [00:00<00:00, 85.05it/s]\n",
      "  0%|          | 0/1 [00:00<?, ?it/s]"
     ]
    },
    {
     "name": "stdout",
     "output_type": "stream",
     "text": [
      "0 (19, 7)\n",
      "1 (2, 7)\n",
      "No columns to parse from file\n",
      "3 (32, 7)\n",
      "4 (2, 7)\n",
      "5 (118, 7)\n"
     ]
    },
    {
     "name": "stderr",
     "output_type": "stream",
     "text": [
      "100%|██████████| 1/1 [00:00<00:00, 12.24it/s]\n",
      "/home/bakirillov/HDD/works/Skoltech/CRISPR_CAD/uace/src/core.py:966: RuntimeWarning: invalid value encountered in true_divide\n",
      "  self.S[self.label_column]\n",
      "100%|██████████| 1/1 [00:00<00:00, 63.22it/s]\n",
      "100%|██████████| 1/1 [00:00<00:00, 12.02it/s]\n",
      "  0%|          | 0/2 [00:00<?, ?it/s]"
     ]
    },
    {
     "name": "stdout",
     "output_type": "stream",
     "text": [
      "6 (6, 7)\n",
      "7 (134, 7)\n",
      "8 (276, 7)\n"
     ]
    },
    {
     "name": "stderr",
     "output_type": "stream",
     "text": [
      "100%|██████████| 2/2 [00:00<00:00, 11.63it/s]\n",
      "100%|██████████| 2/2 [00:00<00:00, 11.34it/s]\n",
      "  0%|          | 0/1 [00:00<?, ?it/s]"
     ]
    },
    {
     "name": "stdout",
     "output_type": "stream",
     "text": [
      "9 (298, 7)\n",
      "10 (23, 7)\n"
     ]
    },
    {
     "name": "stderr",
     "output_type": "stream",
     "text": [
      "100%|██████████| 1/1 [00:00<00:00, 40.02it/s]\n",
      "/home/bakirillov/HDD/works/Skoltech/CRISPR_CAD/uace/src/core.py:966: RuntimeWarning: invalid value encountered in true_divide\n",
      "  self.S[self.label_column]\n",
      "100%|██████████| 1/1 [00:00<00:00, 59.50it/s]\n",
      "100%|██████████| 1/1 [00:00<00:00, 51.70it/s]\n",
      "100%|██████████| 1/1 [00:00<00:00, 84.39it/s]\n",
      "100%|██████████| 1/1 [00:00<00:00, 46.11it/s]\n",
      "100%|██████████| 1/1 [00:00<00:00, 12.74it/s]\n",
      "  0%|          | 0/1 [00:00<?, ?it/s]"
     ]
    },
    {
     "name": "stdout",
     "output_type": "stream",
     "text": [
      "11 (6, 7)\n",
      "12 (13, 7)\n",
      "13 (1, 7)\n",
      "14 (18, 7)\n",
      "15 (140, 7)\n",
      "No columns to parse from file\n",
      "17 (6, 7)\n"
     ]
    },
    {
     "name": "stderr",
     "output_type": "stream",
     "text": [
      "100%|██████████| 1/1 [00:00<00:00, 68.00it/s]\n",
      "100%|██████████| 1/1 [00:00<00:00, 74.07it/s]\n",
      "100%|██████████| 2/2 [00:00<00:00, 11.64it/s]"
     ]
    },
    {
     "name": "stdout",
     "output_type": "stream",
     "text": [
      "18 (4, 7)\n",
      "19 (311, 7)\n",
      "No columns to parse from file\n"
     ]
    },
    {
     "name": "stderr",
     "output_type": "stream",
     "text": [
      "\n",
      "100%|██████████| 1/1 [00:00<00:00, 71.50it/s]\n",
      "100%|██████████| 1/1 [00:00<00:00, 40.83it/s]\n",
      "/home/bakirillov/HDD/works/Skoltech/CRISPR_CAD/uace/src/core.py:966: RuntimeWarning: invalid value encountered in true_divide\n",
      "  self.S[self.label_column]\n",
      "100%|██████████| 1/1 [00:00<00:00, 70.31it/s]\n",
      "100%|██████████| 1/1 [00:00<00:00, 57.10it/s]\n",
      "100%|██████████| 1/1 [00:00<00:00, 21.55it/s]\n",
      "100%|██████████| 1/1 [00:00<00:00, 80.74it/s]\n",
      "100%|██████████| 1/1 [00:00<00:00, 47.65it/s]\n",
      "  0%|          | 0/1 [00:00<?, ?it/s]"
     ]
    },
    {
     "name": "stdout",
     "output_type": "stream",
     "text": [
      "21 (5, 7)\n",
      "22 (28, 7)\n",
      "23 (6, 7)\n",
      "24 (12, 7)\n",
      "25 (72, 7)\n",
      "26 (2, 7)\n",
      "27 (19, 7)\n",
      "No columns to parse from file\n",
      "29 (4, 7)\n"
     ]
    },
    {
     "name": "stderr",
     "output_type": "stream",
     "text": [
      "100%|██████████| 1/1 [00:00<00:00, 71.18it/s]\n",
      "100%|██████████| 2/2 [00:00<00:00, 12.98it/s]\n",
      "  0%|          | 0/2 [00:00<?, ?it/s]"
     ]
    },
    {
     "name": "stdout",
     "output_type": "stream",
     "text": [
      "30 (268, 7)\n",
      "31 (502, 7)\n"
     ]
    },
    {
     "name": "stderr",
     "output_type": "stream",
     "text": [
      "100%|██████████| 2/2 [00:00<00:00,  7.01it/s]\n",
      "100%|██████████| 1/1 [00:00<00:00, 38.91it/s]\n",
      "100%|██████████| 1/1 [00:00<00:00, 12.70it/s]\n",
      "  0%|          | 0/2 [00:00<?, ?it/s]"
     ]
    },
    {
     "name": "stdout",
     "output_type": "stream",
     "text": [
      "32 (23, 7)\n",
      "33 (127, 7)\n",
      "No columns to parse from file\n",
      "35 (280, 7)\n"
     ]
    },
    {
     "name": "stderr",
     "output_type": "stream",
     "text": [
      "100%|██████████| 2/2 [00:00<00:00, 12.83it/s]\n",
      "100%|██████████| 1/1 [00:00<00:00, 33.84it/s]\n",
      "100%|██████████| 1/1 [00:00<00:00, 50.90it/s]\n",
      "100%|██████████| 1/1 [00:00<00:00, 49.41it/s]\n",
      "100%|██████████| 1/1 [00:00<00:00, 14.90it/s]\n",
      "100%|██████████| 1/1 [00:00<00:00, 49.54it/s]"
     ]
    },
    {
     "name": "stdout",
     "output_type": "stream",
     "text": [
      "36 (39, 7)\n",
      "37 (18, 7)\n",
      "38 (18, 7)\n",
      "39 (108, 7)\n",
      "40 (14, 7)\n",
      "No columns to parse from file\n",
      "42 (5, 7)\n"
     ]
    },
    {
     "name": "stderr",
     "output_type": "stream",
     "text": [
      "\n",
      "100%|██████████| 1/1 [00:00<00:00, 64.61it/s]\n",
      "100%|██████████| 1/1 [00:00<00:00, 70.93it/s]\n",
      "100%|██████████| 1/1 [00:00<00:00, 68.79it/s]\n",
      "100%|██████████| 1/1 [00:00<00:00, 68.26it/s]\n",
      "100%|██████████| 1/1 [00:00<00:00, 26.24it/s]\n",
      "100%|██████████| 1/1 [00:00<00:00, 88.75it/s]\n",
      "100%|██████████| 1/1 [00:00<00:00, 39.33it/s]\n",
      "  0%|          | 0/1 [00:00<?, ?it/s]"
     ]
    },
    {
     "name": "stdout",
     "output_type": "stream",
     "text": [
      "43 (5, 7)\n",
      "44 (4, 7)\n",
      "45 (3, 7)\n",
      "46 (58, 7)\n",
      "47 (1, 7)\n",
      "48 (30, 7)\n",
      "49 (81, 7)\n"
     ]
    },
    {
     "name": "stderr",
     "output_type": "stream",
     "text": [
      "100%|██████████| 1/1 [00:00<00:00, 19.77it/s]\n",
      "100%|██████████| 1/1 [00:00<00:00, 29.55it/s]\n",
      "100%|██████████| 1/1 [00:00<00:00, 69.57it/s]\n",
      "100%|██████████| 1/1 [00:00<00:00, 75.63it/s]\n",
      "/home/bakirillov/HDD/works/Skoltech/CRISPR_CAD/uace/src/core.py:966: RuntimeWarning: invalid value encountered in true_divide\n",
      "  self.S[self.label_column]\n",
      "100%|██████████| 1/1 [00:00<00:00, 68.26it/s]\n",
      "100%|██████████| 1/1 [00:00<00:00, 40.77it/s]\n",
      "100%|██████████| 1/1 [00:00<00:00, 29.40it/s]\n",
      "  0%|          | 0/1 [00:00<?, ?it/s]"
     ]
    },
    {
     "name": "stdout",
     "output_type": "stream",
     "text": [
      "50 (45, 7)\n",
      "No columns to parse from file\n",
      "52 (2, 7)\n",
      "53 (2, 7)\n",
      "54 (6, 7)\n",
      "No columns to parse from file\n",
      "56 (28, 7)\n",
      "57 (46, 7)\n",
      "58 (1, 7)\n"
     ]
    },
    {
     "name": "stderr",
     "output_type": "stream",
     "text": [
      "100%|██████████| 1/1 [00:00<00:00, 87.65it/s]\n",
      "/home/bakirillov/HDD/works/Skoltech/CRISPR_CAD/uace/src/core.py:966: RuntimeWarning: invalid value encountered in true_divide\n",
      "  self.S[self.label_column]\n",
      "100%|██████████| 1/1 [00:00<00:00, 54.96it/s]\n",
      "100%|██████████| 1/1 [00:00<00:00, 20.21it/s]\n",
      "100%|██████████| 1/1 [00:00<00:00, 70.63it/s]\n",
      "  0%|          | 0/1 [00:00<?, ?it/s]"
     ]
    },
    {
     "name": "stdout",
     "output_type": "stream",
     "text": [
      "59 (12, 7)\n",
      "No columns to parse from file\n",
      "No columns to parse from file\n",
      "62 (81, 7)\n",
      "63 (4, 7)\n",
      "No columns to parse from file\n",
      "65 (183, 7)\n"
     ]
    },
    {
     "name": "stderr",
     "output_type": "stream",
     "text": [
      "100%|██████████| 1/1 [00:00<00:00,  9.54it/s]\n",
      "100%|██████████| 1/1 [00:00<00:00, 70.89it/s]\n",
      "100%|██████████| 1/1 [00:00<00:00, 85.92it/s]\n",
      "100%|██████████| 1/1 [00:00<00:00, 71.21it/s]\n",
      "100%|██████████| 1/1 [00:00<00:00, 55.97it/s]\n",
      "100%|██████████| 1/1 [00:00<00:00, 34.99it/s]\n",
      "100%|██████████| 1/1 [00:00<00:00, 30.39it/s]\n",
      "100%|██████████| 1/1 [00:00<00:00, 75.55it/s]\n",
      "  0%|          | 0/1 [00:00<?, ?it/s]"
     ]
    },
    {
     "name": "stdout",
     "output_type": "stream",
     "text": [
      "66 (3, 7)\n",
      "67 (1, 7)\n",
      "68 (5, 7)\n",
      "69 (12, 7)\n",
      "70 (37, 7)\n",
      "71 (45, 7)\n",
      "72 (3, 7)\n",
      "73 (64, 7)\n"
     ]
    },
    {
     "name": "stderr",
     "output_type": "stream",
     "text": [
      "100%|██████████| 1/1 [00:00<00:00, 23.59it/s]\n",
      "100%|██████████| 1/1 [00:00<00:00, 13.71it/s]\n",
      "100%|██████████| 1/1 [00:00<00:00, 14.68it/s]\n",
      "100%|██████████| 1/1 [00:00<00:00, 33.33it/s]"
     ]
    },
    {
     "name": "stdout",
     "output_type": "stream",
     "text": [
      "74 (106, 7)\n",
      "75 (102, 7)\n",
      "76 (32, 7)\n",
      "77 (4, 7)\n"
     ]
    },
    {
     "name": "stderr",
     "output_type": "stream",
     "text": [
      "\n",
      "100%|██████████| 1/1 [00:00<00:00, 54.77it/s]\n",
      "100%|██████████| 1/1 [00:00<00:00, 53.25it/s]\n",
      "100%|██████████| 1/1 [00:00<00:00, 20.92it/s]\n",
      "100%|██████████| 1/1 [00:00<00:00, 58.68it/s]\n",
      "100%|██████████| 1/1 [00:00<00:00, 47.81it/s]\n",
      "100%|██████████| 1/1 [00:00<00:00, 40.63it/s]\n",
      "  0%|          | 0/1 [00:00<?, ?it/s]"
     ]
    },
    {
     "name": "stdout",
     "output_type": "stream",
     "text": [
      "No columns to parse from file\n",
      "79 (9, 7)\n",
      "80 (66, 7)\n",
      "81 (5, 7)\n",
      "82 (9, 7)\n",
      "83 (24, 7)\n",
      "No columns to parse from file\n",
      "85 (59, 7)\n"
     ]
    },
    {
     "name": "stderr",
     "output_type": "stream",
     "text": [
      "100%|██████████| 1/1 [00:00<00:00, 24.39it/s]\n",
      "100%|██████████| 1/1 [00:00<00:00, 77.50it/s]\n",
      "100%|██████████| 1/1 [00:00<00:00, 75.28it/s]\n",
      "100%|██████████| 1/1 [00:00<00:00, 50.75it/s]\n",
      "100%|██████████| 1/1 [00:00<00:00, 72.83it/s]\n",
      "100%|██████████| 1/1 [00:00<00:00, 21.06it/s]\n",
      "100%|██████████| 1/1 [00:00<00:00, 72.34it/s]\n",
      "  0%|          | 0/1 [00:00<?, ?it/s]"
     ]
    },
    {
     "name": "stdout",
     "output_type": "stream",
     "text": [
      "86 (1, 7)\n",
      "87 (3, 7)\n",
      "88 (15, 7)\n",
      "89 (5, 7)\n",
      "90 (74, 7)\n",
      "91 (2, 7)\n",
      "92 (51, 7)\n"
     ]
    },
    {
     "name": "stderr",
     "output_type": "stream",
     "text": [
      "100%|██████████| 1/1 [00:00<00:00, 26.97it/s]\n",
      "100%|██████████| 1/1 [00:00<00:00, 45.98it/s]\n",
      "100%|██████████| 1/1 [00:00<00:00, 23.71it/s]\n",
      "100%|██████████| 1/1 [00:00<00:00, 66.71it/s]\n",
      "100%|██████████| 1/1 [00:00<00:00, 68.73it/s]\n",
      "100%|██████████| 1/1 [00:00<00:00, 41.15it/s]\n",
      "100%|██████████| 1/1 [00:00<00:00, 74.19it/s]\n",
      "  0%|          | 0/1 [00:00<?, ?it/s]"
     ]
    },
    {
     "name": "stdout",
     "output_type": "stream",
     "text": [
      "93 (19, 7)\n",
      "94 (63, 7)\n",
      "No columns to parse from file\n",
      "96 (7, 7)\n",
      "97 (7, 7)\n",
      "98 (26, 7)\n",
      "99 (2, 7)\n",
      "100 (9, 7)\n"
     ]
    },
    {
     "name": "stderr",
     "output_type": "stream",
     "text": [
      "100%|██████████| 1/1 [00:00<00:00, 60.98it/s]\n",
      "100%|██████████| 1/1 [00:00<00:00, 27.13it/s]\n",
      " 50%|█████     | 1/2 [00:00<00:00,  7.43it/s]"
     ]
    },
    {
     "name": "stdout",
     "output_type": "stream",
     "text": [
      "No columns to parse from file\n",
      "102 (53, 7)\n",
      "103 (282, 7)\n"
     ]
    },
    {
     "name": "stderr",
     "output_type": "stream",
     "text": [
      "100%|██████████| 2/2 [00:00<00:00, 12.61it/s]\n",
      "100%|██████████| 1/1 [00:00<00:00, 12.83it/s]\n",
      "/home/bakirillov/HDD/works/Skoltech/CRISPR_CAD/uace/src/core.py:966: RuntimeWarning: invalid value encountered in true_divide\n",
      "  self.S[self.label_column]\n",
      "100%|██████████| 1/1 [00:00<00:00, 64.53it/s]\n",
      "100%|██████████| 1/1 [00:00<00:00, 16.49it/s]\n",
      "  0%|          | 0/1 [00:00<?, ?it/s]"
     ]
    },
    {
     "name": "stdout",
     "output_type": "stream",
     "text": [
      "104 (137, 7)\n",
      "105 (6, 7)\n",
      "106 (101, 7)\n",
      "No columns to parse from file\n",
      "108 (46, 7)\n"
     ]
    },
    {
     "name": "stderr",
     "output_type": "stream",
     "text": [
      "100%|██████████| 1/1 [00:00<00:00, 28.07it/s]\n",
      "100%|██████████| 1/1 [00:00<00:00, 43.31it/s]\n",
      "100%|██████████| 1/1 [00:00<00:00, 27.87it/s]\n",
      "100%|██████████| 1/1 [00:00<00:00, 63.60it/s]\n",
      "100%|██████████| 1/1 [00:00<00:00, 25.16it/s]\n",
      "100%|██████████| 1/1 [00:00<00:00, 73.41it/s]\n",
      "100%|██████████| 1/1 [00:00<00:00, 87.88it/s]\n",
      "  0%|          | 0/1 [00:00<?, ?it/s]"
     ]
    },
    {
     "name": "stdout",
     "output_type": "stream",
     "text": [
      "109 (21, 7)\n",
      "110 (51, 7)\n",
      "No columns to parse from file\n",
      "112 (9, 7)\n",
      "113 (59, 7)\n",
      "114 (5, 7)\n",
      "115 (1, 7)\n",
      "116 (2, 7)\n"
     ]
    },
    {
     "name": "stderr",
     "output_type": "stream",
     "text": [
      "100%|██████████| 1/1 [00:00<00:00, 70.76it/s]\n",
      "/home/bakirillov/HDD/works/Skoltech/CRISPR_CAD/uace/src/core.py:966: RuntimeWarning: invalid value encountered in true_divide\n",
      "  self.S[self.label_column]\n",
      "100%|██████████| 1/1 [00:00<00:00, 66.69it/s]\n",
      "100%|██████████| 1/1 [00:00<00:00, 86.12it/s]\n",
      " 50%|█████     | 1/2 [00:00<00:00,  7.30it/s]"
     ]
    },
    {
     "name": "stdout",
     "output_type": "stream",
     "text": [
      "No columns to parse from file\n",
      "No columns to parse from file\n",
      "119 (6, 7)\n",
      "120 (1, 7)\n",
      "121 (490, 7)\n"
     ]
    },
    {
     "name": "stderr",
     "output_type": "stream",
     "text": [
      "100%|██████████| 2/2 [00:00<00:00,  7.54it/s]\n",
      "100%|██████████| 1/1 [00:00<00:00, 16.79it/s]\n",
      "100%|██████████| 1/1 [00:00<00:00, 32.29it/s]\n",
      "100%|██████████| 1/1 [00:00<00:00, 77.03it/s]\n",
      "  0%|          | 0/2 [00:00<?, ?it/s]"
     ]
    },
    {
     "name": "stdout",
     "output_type": "stream",
     "text": [
      "No columns to parse from file\n",
      "123 (100, 7)\n",
      "124 (42, 7)\n",
      "125 (3, 7)\n",
      "126 (272, 7)\n"
     ]
    },
    {
     "name": "stderr",
     "output_type": "stream",
     "text": [
      "100%|██████████| 2/2 [00:00<00:00, 12.82it/s]\n",
      "100%|██████████| 1/1 [00:00<00:00, 24.00it/s]\n",
      "100%|██████████| 1/1 [00:00<00:00, 74.71it/s]\n",
      "100%|██████████| 1/1 [00:00<00:00, 15.41it/s]\n",
      "100%|██████████| 1/1 [00:00<00:00, 50.62it/s]\n",
      "  0%|          | 0/1 [00:00<?, ?it/s]"
     ]
    },
    {
     "name": "stdout",
     "output_type": "stream",
     "text": [
      "127 (60, 7)\n",
      "128 (2, 7)\n",
      "129 (107, 7)\n",
      "130 (17, 7)\n",
      "131 (25, 7)\n"
     ]
    },
    {
     "name": "stderr",
     "output_type": "stream",
     "text": [
      "100%|██████████| 1/1 [00:00<00:00, 41.35it/s]\n",
      "100%|██████████| 1/1 [00:00<00:00, 39.00it/s]\n",
      "100%|██████████| 1/1 [00:00<00:00, 84.95it/s]\n",
      "100%|██████████| 1/1 [00:00<00:00, 15.51it/s]\n",
      "  0%|          | 0/3 [00:00<?, ?it/s]"
     ]
    },
    {
     "name": "stdout",
     "output_type": "stream",
     "text": [
      "132 (29, 7)\n",
      "133 (1, 7)\n",
      "134 (109, 7)\n",
      "135 (530, 7)\n"
     ]
    },
    {
     "name": "stderr",
     "output_type": "stream",
     "text": [
      "100%|██████████| 3/3 [00:00<00:00,  9.95it/s]\n",
      "100%|██████████| 1/1 [00:00<00:00, 27.89it/s]\n",
      "100%|██████████| 1/1 [00:00<00:00, 11.16it/s]\n",
      "100%|██████████| 1/1 [00:00<00:00, 56.16it/s]\n",
      "100%|██████████| 1/1 [00:00<00:00, 75.75it/s]\n",
      "  0%|          | 0/1 [00:00<?, ?it/s]"
     ]
    },
    {
     "name": "stdout",
     "output_type": "stream",
     "text": [
      "136 (51, 7)\n",
      "137 (158, 7)\n",
      "138 (12, 7)\n",
      "139 (3, 7)\n",
      "No columns to parse from file\n",
      "141 (39, 7)\n"
     ]
    },
    {
     "name": "stderr",
     "output_type": "stream",
     "text": [
      "100%|██████████| 1/1 [00:00<00:00, 30.84it/s]\n",
      "100%|██████████| 1/1 [00:00<00:00, 58.56it/s]\n",
      "100%|██████████| 1/1 [00:00<00:00, 70.32it/s]\n",
      "/home/bakirillov/HDD/works/Skoltech/CRISPR_CAD/uace/src/core.py:966: RuntimeWarning: invalid value encountered in true_divide\n",
      "  self.S[self.label_column]\n",
      "100%|██████████| 1/1 [00:00<00:00, 65.45it/s]\n",
      "100%|██████████| 1/1 [00:00<00:00, 23.64it/s]\n",
      "100%|██████████| 1/1 [00:00<00:00, 61.77it/s]\n",
      "100%|██████████| 1/1 [00:00<00:00, 71.46it/s]\n",
      "100%|██████████| 1/1 [00:00<00:00, 69.72it/s]\n"
     ]
    },
    {
     "name": "stdout",
     "output_type": "stream",
     "text": [
      "No columns to parse from file\n",
      "No columns to parse from file\n",
      "144 (10, 7)\n",
      "145 (4, 7)\n",
      "No columns to parse from file\n",
      "147 (6, 7)\n",
      "No columns to parse from file\n",
      "No columns to parse from file\n",
      "150 (64, 7)\n",
      "151 (10, 7)\n",
      "152 (3, 7)\n",
      "153 (6, 7)\n"
     ]
    },
    {
     "name": "stderr",
     "output_type": "stream",
     "text": [
      "100%|██████████| 1/1 [00:00<00:00, 61.25it/s]\n",
      "100%|██████████| 1/1 [00:00<00:00, 33.09it/s]\n",
      "100%|██████████| 1/1 [00:00<00:00, 29.62it/s]\n",
      "100%|██████████| 1/1 [00:00<00:00, 19.12it/s]\n",
      "100%|██████████| 1/1 [00:00<00:00, 47.99it/s]\n",
      "  0%|          | 0/1 [00:00<?, ?it/s]"
     ]
    },
    {
     "name": "stdout",
     "output_type": "stream",
     "text": [
      "154 (9, 7)\n",
      "155 (36, 7)\n",
      "156 (43, 7)\n",
      "157 (79, 7)\n",
      "158 (19, 7)\n",
      "159 (205, 7)\n"
     ]
    },
    {
     "name": "stderr",
     "output_type": "stream",
     "text": [
      "100%|██████████| 1/1 [00:00<00:00,  8.78it/s]\n",
      "100%|██████████| 1/1 [00:00<00:00,  9.74it/s]\n",
      "100%|██████████| 1/1 [00:00<00:00, 52.34it/s]\n",
      "100%|██████████| 1/1 [00:00<00:00, 54.78it/s]\n",
      "100%|██████████| 1/1 [00:00<00:00, 42.53it/s]\n",
      "  0%|          | 0/1 [00:00<?, ?it/s]"
     ]
    },
    {
     "name": "stdout",
     "output_type": "stream",
     "text": [
      "160 (185, 7)\n",
      "161 (16, 7)\n",
      "No columns to parse from file\n",
      "163 (14, 7)\n",
      "164 (26, 7)\n",
      "165 (10, 7)\n"
     ]
    },
    {
     "name": "stderr",
     "output_type": "stream",
     "text": [
      "100%|██████████| 1/1 [00:00<00:00, 60.31it/s]\n",
      "100%|██████████| 1/1 [00:00<00:00, 11.83it/s]\n",
      "100%|██████████| 1/1 [00:00<00:00, 51.63it/s]\n",
      "100%|██████████| 1/1 [00:00<00:00, 22.24it/s]"
     ]
    },
    {
     "name": "stdout",
     "output_type": "stream",
     "text": [
      "166 (153, 7)\n",
      "167 (18, 7)\n",
      "168 (57, 7)\n"
     ]
    },
    {
     "name": "stderr",
     "output_type": "stream",
     "text": [
      "\n",
      "100%|██████████| 1/1 [00:00<00:00, 62.83it/s]\n",
      "100%|██████████| 1/1 [00:00<00:00, 60.76it/s]\n",
      "100%|██████████| 1/1 [00:00<00:00, 56.62it/s]\n",
      "  0%|          | 0/4 [00:00<?, ?it/s]"
     ]
    },
    {
     "name": "stdout",
     "output_type": "stream",
     "text": [
      "169 (8, 7)\n",
      "170 (11, 7)\n",
      "171 (11, 7)\n",
      "172 (831, 7)\n"
     ]
    },
    {
     "name": "stderr",
     "output_type": "stream",
     "text": [
      "100%|██████████| 4/4 [00:00<00:00,  9.00it/s]\n",
      "100%|██████████| 1/1 [00:00<00:00, 41.98it/s]\n",
      "100%|██████████| 1/1 [00:00<00:00, 51.03it/s]\n",
      "100%|██████████| 1/1 [00:00<00:00, 13.35it/s]\n",
      "100%|██████████| 1/1 [00:00<00:00, 32.61it/s]\n",
      "  0%|          | 0/1 [00:00<?, ?it/s]"
     ]
    },
    {
     "name": "stdout",
     "output_type": "stream",
     "text": [
      "173 (28, 7)\n",
      "No columns to parse from file\n",
      "175 (19, 7)\n",
      "176 (138, 7)\n",
      "177 (42, 7)\n",
      "178 (8, 7)\n"
     ]
    },
    {
     "name": "stderr",
     "output_type": "stream",
     "text": [
      "100%|██████████| 1/1 [00:00<00:00, 67.12it/s]\n",
      "100%|██████████| 1/1 [00:00<00:00, 77.08it/s]\n",
      "100%|██████████| 1/1 [00:00<00:00, 17.09it/s]\n",
      "100%|██████████| 1/1 [00:00<00:00, 31.82it/s]\n",
      "100%|██████████| 1/1 [00:00<00:00, 18.32it/s]\n",
      "  0%|          | 0/1 [00:00<?, ?it/s]"
     ]
    },
    {
     "name": "stdout",
     "output_type": "stream",
     "text": [
      "179 (3, 7)\n",
      "No columns to parse from file\n",
      "181 (97, 7)\n",
      "182 (43, 7)\n",
      "No columns to parse from file\n",
      "184 (90, 7)\n",
      "185 (57, 7)\n"
     ]
    },
    {
     "name": "stderr",
     "output_type": "stream",
     "text": [
      "100%|██████████| 1/1 [00:00<00:00, 25.71it/s]\n",
      "100%|██████████| 1/1 [00:00<00:00,  7.70it/s]\n",
      "  0%|          | 0/2 [00:00<?, ?it/s]"
     ]
    },
    {
     "name": "stdout",
     "output_type": "stream",
     "text": [
      "186 (249, 7)\n",
      "187 (386, 7)\n"
     ]
    },
    {
     "name": "stderr",
     "output_type": "stream",
     "text": [
      "100%|██████████| 2/2 [00:00<00:00,  9.82it/s]\n",
      "/home/bakirillov/HDD/works/Skoltech/CRISPR_CAD/uace/src/core.py:966: RuntimeWarning: invalid value encountered in true_divide\n",
      "  self.S[self.label_column]\n",
      "100%|██████████| 1/1 [00:00<00:00, 71.12it/s]\n",
      "100%|██████████| 1/1 [00:00<00:00, 23.46it/s]\n",
      "100%|██████████| 1/1 [00:00<00:00, 61.13it/s]\n",
      "100%|██████████| 1/1 [00:00<00:00, 81.87it/s]\n",
      "100%|██████████| 1/1 [00:00<00:00, 37.82it/s]\n",
      "  0%|          | 0/2 [00:00<?, ?it/s]"
     ]
    },
    {
     "name": "stdout",
     "output_type": "stream",
     "text": [
      "188 (6, 7)\n",
      "189 (66, 7)\n",
      "190 (11, 7)\n",
      "191 (1, 7)\n",
      "192 (29, 7)\n",
      "193 (405, 7)\n"
     ]
    },
    {
     "name": "stderr",
     "output_type": "stream",
     "text": [
      "100%|██████████| 2/2 [00:00<00:00,  9.09it/s]\n",
      "100%|██████████| 1/1 [00:00<00:00, 25.10it/s]\n",
      "100%|██████████| 1/1 [00:00<00:00, 42.66it/s]\n",
      "100%|██████████| 1/1 [00:00<00:00, 62.32it/s]\n",
      "100%|██████████| 1/1 [00:00<00:00, 53.32it/s]\n",
      "100%|██████████| 1/1 [00:00<00:00, 33.89it/s]\n",
      "100%|██████████| 1/1 [00:00<00:00, 58.12it/s]\n",
      "  0%|          | 0/2 [00:00<?, ?it/s]"
     ]
    },
    {
     "name": "stdout",
     "output_type": "stream",
     "text": [
      "194 (48, 7)\n",
      "195 (23, 7)\n",
      "No columns to parse from file\n",
      "197 (7, 7)\n",
      "198 (13, 7)\n",
      "199 (36, 7)\n",
      "200 (11, 7)\n",
      "201 (336, 7)\n"
     ]
    },
    {
     "name": "stderr",
     "output_type": "stream",
     "text": [
      "100%|██████████| 2/2 [00:00<00:00, 10.48it/s]\n",
      " 25%|██▌       | 1/4 [00:00<00:00,  7.36it/s]"
     ]
    },
    {
     "name": "stdout",
     "output_type": "stream",
     "text": [
      "No columns to parse from file\n",
      "No columns to parse from file\n",
      "204 (801, 7)\n"
     ]
    },
    {
     "name": "stderr",
     "output_type": "stream",
     "text": [
      "100%|██████████| 4/4 [00:00<00:00,  8.94it/s]\n",
      " 50%|█████     | 1/2 [00:00<00:00,  7.30it/s]"
     ]
    },
    {
     "name": "stdout",
     "output_type": "stream",
     "text": [
      "205 (362, 7)\n"
     ]
    },
    {
     "name": "stderr",
     "output_type": "stream",
     "text": [
      "100%|██████████| 2/2 [00:00<00:00,  9.98it/s]\n",
      "100%|██████████| 2/2 [00:00<00:00, 13.47it/s]\n",
      "  0%|          | 0/1 [00:00<?, ?it/s]"
     ]
    },
    {
     "name": "stdout",
     "output_type": "stream",
     "text": [
      "No columns to parse from file\n",
      "207 (263, 7)\n",
      "208 (200, 7)\n"
     ]
    },
    {
     "name": "stderr",
     "output_type": "stream",
     "text": [
      "100%|██████████| 1/1 [00:00<00:00,  9.33it/s]\n",
      "100%|██████████| 1/1 [00:00<00:00, 60.18it/s]\n",
      "100%|██████████| 1/1 [00:00<00:00, 43.66it/s]\n",
      "100%|██████████| 1/1 [00:00<00:00, 61.69it/s]\n",
      "100%|██████████| 1/1 [00:00<00:00, 59.14it/s]\n",
      "100%|██████████| 1/1 [00:00<00:00, 57.00it/s]\n",
      "100%|██████████| 1/1 [00:00<00:00, 65.63it/s]\n",
      "  0%|          | 0/2 [00:00<?, ?it/s]"
     ]
    },
    {
     "name": "stdout",
     "output_type": "stream",
     "text": [
      "209 (12, 7)\n",
      "No columns to parse from file\n",
      "211 (25, 7)\n",
      "212 (10, 7)\n",
      "213 (8, 7)\n",
      "No columns to parse from file\n",
      "215 (12, 7)\n",
      "216 (6, 7)\n",
      "No columns to parse from file\n",
      "218 (369, 7)\n"
     ]
    },
    {
     "name": "stderr",
     "output_type": "stream",
     "text": [
      "100%|██████████| 2/2 [00:00<00:00, 10.01it/s]\n",
      "100%|██████████| 1/1 [00:00<00:00, 63.96it/s]\n",
      " 50%|█████     | 1/2 [00:00<00:00,  7.86it/s]"
     ]
    },
    {
     "name": "stdout",
     "output_type": "stream",
     "text": [
      "219 (9, 7)\n",
      "220 (382, 7)\n"
     ]
    },
    {
     "name": "stderr",
     "output_type": "stream",
     "text": [
      "100%|██████████| 2/2 [00:00<00:00, 10.10it/s]\n",
      "100%|██████████| 1/1 [00:00<00:00, 74.48it/s]\n",
      "/home/bakirillov/HDD/works/Skoltech/CRISPR_CAD/uace/src/core.py:966: RuntimeWarning: invalid value encountered in true_divide\n",
      "  self.S[self.label_column]\n",
      "100%|██████████| 1/1 [00:00<00:00, 71.50it/s]\n",
      " 50%|█████     | 1/2 [00:00<00:00,  7.74it/s]"
     ]
    },
    {
     "name": "stdout",
     "output_type": "stream",
     "text": [
      "221 (5, 7)\n",
      "No columns to parse from file\n",
      "223 (6, 7)\n",
      "224 (330, 7)\n"
     ]
    },
    {
     "name": "stderr",
     "output_type": "stream",
     "text": [
      "100%|██████████| 2/2 [00:00<00:00, 11.37it/s]\n",
      "100%|██████████| 1/1 [00:00<00:00, 34.69it/s]\n",
      "100%|██████████| 2/2 [00:00<00:00, 12.96it/s]"
     ]
    },
    {
     "name": "stdout",
     "output_type": "stream",
     "text": [
      "225 (38, 7)\n",
      "No columns to parse from file\n",
      "227 (279, 7)\n",
      "228 (51, 7)\n"
     ]
    },
    {
     "name": "stderr",
     "output_type": "stream",
     "text": [
      "\n",
      "100%|██████████| 1/1 [00:00<00:00, 28.14it/s]\n",
      "100%|██████████| 1/1 [00:00<00:00, 55.51it/s]\n",
      "100%|██████████| 1/1 [00:00<00:00, 64.98it/s]\n",
      "100%|██████████| 1/1 [00:00<00:00, 13.57it/s]\n",
      "  0%|          | 0/1 [00:00<?, ?it/s]"
     ]
    },
    {
     "name": "stdout",
     "output_type": "stream",
     "text": [
      "No columns to parse from file\n",
      "230 (12, 7)\n",
      "231 (8, 7)\n",
      "232 (131, 7)\n",
      "No columns to parse from file\n",
      "234 (228, 7)\n"
     ]
    },
    {
     "name": "stderr",
     "output_type": "stream",
     "text": [
      "100%|██████████| 1/1 [00:00<00:00,  8.51it/s]\n",
      "100%|██████████| 1/1 [00:00<00:00, 63.92it/s]\n",
      "100%|██████████| 1/1 [00:00<00:00, 10.61it/s]\n",
      "100%|██████████| 1/1 [00:00<00:00, 77.41it/s]\n",
      "  0%|          | 0/1 [00:00<?, ?it/s]"
     ]
    },
    {
     "name": "stdout",
     "output_type": "stream",
     "text": [
      "235 (10, 7)\n",
      "236 (185, 7)\n",
      "No columns to parse from file\n",
      "No columns to parse from file\n",
      "239 (4, 7)\n",
      "No columns to parse from file\n",
      "241 (190, 7)\n"
     ]
    },
    {
     "name": "stderr",
     "output_type": "stream",
     "text": [
      "100%|██████████| 1/1 [00:00<00:00, 10.13it/s]\n",
      "100%|██████████| 1/1 [00:00<00:00, 37.19it/s]\n",
      "100%|██████████| 1/1 [00:00<00:00, 23.49it/s]\n",
      "100%|██████████| 1/1 [00:00<00:00, 61.02it/s]\n",
      "100%|██████████| 1/1 [00:00<00:00, 17.45it/s]\n",
      "  0%|          | 0/1 [00:00<?, ?it/s]"
     ]
    },
    {
     "name": "stdout",
     "output_type": "stream",
     "text": [
      "No columns to parse from file\n",
      "243 (24, 7)\n",
      "244 (59, 7)\n",
      "No columns to parse from file\n",
      "246 (4, 7)\n",
      "247 (95, 7)\n",
      "248 (7, 7)\n"
     ]
    },
    {
     "name": "stderr",
     "output_type": "stream",
     "text": [
      "100%|██████████| 1/1 [00:00<00:00, 67.16it/s]\n",
      "100%|██████████| 1/1 [00:00<00:00, 54.72it/s]\n",
      "100%|██████████| 1/1 [00:00<00:00, 74.97it/s]\n",
      "100%|██████████| 1/1 [00:00<00:00, 26.49it/s]\n",
      "100%|██████████| 1/1 [00:00<00:00, 63.63it/s]\n",
      "100%|██████████| 1/1 [00:00<00:00, 72.06it/s]\n",
      "100%|██████████| 1/1 [00:00<00:00, 72.51it/s]\n",
      "  0%|          | 0/3 [00:00<?, ?it/s]"
     ]
    },
    {
     "name": "stdout",
     "output_type": "stream",
     "text": [
      "249 (10, 7)\n",
      "No columns to parse from file\n",
      "251 (4, 7)\n",
      "252 (57, 7)\n",
      "253 (10, 7)\n",
      "254 (6, 7)\n",
      "No columns to parse from file\n",
      "No columns to parse from file\n",
      "257 (6, 7)\n",
      "258 (611, 7)\n"
     ]
    },
    {
     "name": "stderr",
     "output_type": "stream",
     "text": [
      "100%|██████████| 3/3 [00:00<00:00,  9.04it/s]\n",
      "100%|██████████| 1/1 [00:00<00:00, 25.21it/s]\n",
      " 50%|█████     | 1/2 [00:00<00:00,  7.55it/s]"
     ]
    },
    {
     "name": "stdout",
     "output_type": "stream",
     "text": [
      "259 (54, 7)\n",
      "260 (292, 7)\n"
     ]
    },
    {
     "name": "stderr",
     "output_type": "stream",
     "text": [
      "100%|██████████| 2/2 [00:00<00:00, 12.37it/s]\n",
      "100%|██████████| 1/1 [00:00<00:00, 17.87it/s]\n",
      "100%|██████████| 1/1 [00:00<00:00, 82.01it/s]\n",
      "100%|██████████| 1/1 [00:00<00:00, 43.66it/s]\n",
      "100%|██████████| 1/1 [00:00<00:00, 52.80it/s]\n",
      "/home/bakirillov/HDD/works/Skoltech/CRISPR_CAD/uace/src/core.py:966: RuntimeWarning: invalid value encountered in true_divide\n",
      "  self.S[self.label_column]\n",
      "100%|██████████| 1/1 [00:00<00:00, 67.56it/s]\n",
      "  0%|          | 0/1 [00:00<?, ?it/s]"
     ]
    },
    {
     "name": "stdout",
     "output_type": "stream",
     "text": [
      "No columns to parse from file\n",
      "262 (96, 7)\n",
      "263 (2, 7)\n",
      "No columns to parse from file\n",
      "265 (23, 7)\n",
      "266 (17, 7)\n",
      "267 (6, 7)\n",
      "No columns to parse from file\n",
      "No columns to parse from file\n",
      "270 (39, 7)\n"
     ]
    },
    {
     "name": "stderr",
     "output_type": "stream",
     "text": [
      "100%|██████████| 1/1 [00:00<00:00, 31.58it/s]\n",
      "100%|██████████| 1/1 [00:00<00:00, 38.11it/s]\n",
      "100%|██████████| 1/1 [00:00<00:00, 37.13it/s]\n",
      "100%|██████████| 1/1 [00:00<00:00, 72.91it/s]\n",
      "100%|██████████| 1/1 [00:00<00:00, 28.95it/s]\n",
      "100%|██████████| 1/1 [00:00<00:00, 29.43it/s]\n",
      "100%|██████████| 1/1 [00:00<00:00, 71.98it/s]"
     ]
    },
    {
     "name": "stdout",
     "output_type": "stream",
     "text": [
      "271 (31, 7)\n",
      "272 (32, 7)\n",
      "No columns to parse from file\n",
      "274 (4, 7)\n",
      "275 (48, 7)\n",
      "No columns to parse from file\n",
      "277 (42, 7)\n",
      "278 (1, 7)\n"
     ]
    },
    {
     "name": "stderr",
     "output_type": "stream",
     "text": [
      "\n",
      " 25%|██▌       | 1/4 [00:00<00:00,  7.11it/s]"
     ]
    },
    {
     "name": "stdout",
     "output_type": "stream",
     "text": [
      "279 (797, 7)\n"
     ]
    },
    {
     "name": "stderr",
     "output_type": "stream",
     "text": [
      "100%|██████████| 4/4 [00:00<00:00,  9.08it/s]\n",
      "100%|██████████| 1/1 [00:00<00:00, 54.58it/s]\n",
      "100%|██████████| 1/1 [00:00<00:00, 28.18it/s]\n",
      "100%|██████████| 1/1 [00:00<00:00, 45.26it/s]\n",
      "100%|██████████| 1/1 [00:00<00:00, 64.30it/s]\n",
      "100%|██████████| 1/1 [00:00<00:00, 74.93it/s]\n",
      "100%|██████████| 1/1 [00:00<00:00, 75.48it/s]\n",
      "  0%|          | 0/1 [00:00<?, ?it/s]"
     ]
    },
    {
     "name": "stdout",
     "output_type": "stream",
     "text": [
      "280 (13, 7)\n",
      "281 (50, 7)\n",
      "282 (21, 7)\n",
      "283 (5, 7)\n",
      "284 (3, 7)\n",
      "285 (3, 7)\n",
      "286 (129, 7)\n"
     ]
    },
    {
     "name": "stderr",
     "output_type": "stream",
     "text": [
      "100%|██████████| 1/1 [00:00<00:00, 13.13it/s]\n",
      "100%|██████████| 1/1 [00:00<00:00, 72.62it/s]\n",
      "100%|██████████| 1/1 [00:00<00:00, 61.72it/s]\n",
      "100%|██████████| 1/1 [00:00<00:00, 67.04it/s]\n",
      "100%|██████████| 1/1 [00:00<00:00, 65.42it/s]\n",
      "  0%|          | 0/1 [00:00<?, ?it/s]"
     ]
    },
    {
     "name": "stdout",
     "output_type": "stream",
     "text": [
      "287 (5, 7)\n",
      "No columns to parse from file\n",
      "289 (10, 7)\n",
      "No columns to parse from file\n",
      "No columns to parse from file\n",
      "No columns to parse from file\n",
      "293 (8, 7)\n",
      "No columns to parse from file\n",
      "295 (8, 7)\n",
      "No columns to parse from file\n",
      "297 (247, 7)\n"
     ]
    },
    {
     "name": "stderr",
     "output_type": "stream",
     "text": [
      "100%|██████████| 1/1 [00:00<00:00,  7.82it/s]\n",
      "100%|██████████| 1/1 [00:00<00:00, 19.79it/s]\n",
      "100%|██████████| 1/1 [00:00<00:00, 57.35it/s]\n",
      "100%|██████████| 1/1 [00:00<00:00, 16.15it/s]\n",
      "  0%|          | 0/3 [00:00<?, ?it/s]"
     ]
    },
    {
     "name": "stdout",
     "output_type": "stream",
     "text": [
      "298 (83, 7)\n",
      "299 (13, 7)\n",
      "300 (104, 7)\n",
      "301 (532, 7)\n"
     ]
    },
    {
     "name": "stderr",
     "output_type": "stream",
     "text": [
      "100%|██████████| 3/3 [00:00<00:00, 10.67it/s]\n",
      "100%|██████████| 1/1 [00:00<00:00, 83.42it/s]\n",
      "100%|██████████| 1/1 [00:00<00:00, 32.58it/s]\n",
      "/home/bakirillov/HDD/works/Skoltech/CRISPR_CAD/uace/src/core.py:966: RuntimeWarning: invalid value encountered in true_divide\n",
      "  self.S[self.label_column]\n",
      "100%|██████████| 1/1 [00:00<00:00, 67.54it/s]\n",
      "100%|██████████| 1/1 [00:00<00:00, 84.30it/s]\n",
      "100%|██████████| 1/1 [00:00<00:00, 79.54it/s]\n",
      "100%|██████████| 1/1 [00:00<00:00, 83.53it/s]\n",
      "100%|██████████| 1/1 [00:00<00:00, 76.78it/s]\n",
      "100%|██████████| 1/1 [00:00<00:00, 37.56it/s]"
     ]
    },
    {
     "name": "stdout",
     "output_type": "stream",
     "text": [
      "302 (1, 7)\n",
      "No columns to parse from file\n",
      "304 (42, 7)\n",
      "305 (6, 7)\n",
      "306 (1, 7)\n",
      "307 (3, 7)\n",
      "308 (1, 7)\n",
      "309 (2, 7)\n",
      "No columns to parse from file\n",
      "311 (16, 7)\n",
      "No columns to parse from file\n"
     ]
    },
    {
     "name": "stderr",
     "output_type": "stream",
     "text": [
      "\n",
      "100%|██████████| 1/1 [00:00<00:00, 36.23it/s]\n",
      "100%|██████████| 1/1 [00:00<00:00, 48.54it/s]\n",
      "100%|██████████| 1/1 [00:00<00:00,  9.16it/s]\n",
      "  0%|          | 0/1 [00:00<?, ?it/s]"
     ]
    },
    {
     "name": "stdout",
     "output_type": "stream",
     "text": [
      "313 (20, 7)\n",
      "314 (17, 7)\n",
      "315 (205, 7)\n",
      "316 (8, 7)\n"
     ]
    },
    {
     "name": "stderr",
     "output_type": "stream",
     "text": [
      "100%|██████████| 1/1 [00:00<00:00, 65.18it/s]\n",
      "100%|██████████| 1/1 [00:00<00:00, 25.23it/s]\n",
      "100%|██████████| 1/1 [00:00<00:00, 80.02it/s]\n",
      "100%|██████████| 1/1 [00:00<00:00, 12.03it/s]\n",
      "100%|██████████| 1/1 [00:00<00:00, 85.97it/s]\n",
      "/home/bakirillov/HDD/works/Skoltech/CRISPR_CAD/uace/src/core.py:966: RuntimeWarning: invalid value encountered in true_divide\n",
      "  self.S[self.label_column]\n",
      "  0%|          | 0/1 [00:00<?, ?it/s]"
     ]
    },
    {
     "name": "stdout",
     "output_type": "stream",
     "text": [
      "317 (59, 7)\n",
      "318 (3, 7)\n",
      "No columns to parse from file\n",
      "320 (157, 7)\n",
      "321 (1, 7)\n",
      "322 (6, 7)\n"
     ]
    },
    {
     "name": "stderr",
     "output_type": "stream",
     "text": [
      "100%|██████████| 1/1 [00:00<00:00, 64.05it/s]\n",
      "100%|██████████| 1/1 [00:00<00:00, 25.13it/s]\n",
      "100%|██████████| 1/1 [00:00<00:00, 74.61it/s]\n",
      "100%|██████████| 1/1 [00:00<00:00, 23.65it/s]\n",
      "100%|██████████| 1/1 [00:00<00:00, 16.31it/s]\n",
      "  0%|          | 0/1 [00:00<?, ?it/s]"
     ]
    },
    {
     "name": "stdout",
     "output_type": "stream",
     "text": [
      "323 (58, 7)\n",
      "324 (4, 7)\n",
      "325 (65, 7)\n",
      "326 (109, 7)\n",
      "327 (2, 7)\n"
     ]
    },
    {
     "name": "stderr",
     "output_type": "stream",
     "text": [
      "100%|██████████| 1/1 [00:00<00:00, 77.26it/s]\n",
      "100%|██████████| 1/1 [00:00<00:00,  7.74it/s]\n",
      "100%|██████████| 1/1 [00:00<00:00, 88.65it/s]\n",
      "100%|██████████| 1/1 [00:00<00:00, 80.40it/s]\n",
      "  0%|          | 0/1 [00:00<?, ?it/s]"
     ]
    },
    {
     "name": "stdout",
     "output_type": "stream",
     "text": [
      "328 (251, 7)\n",
      "No columns to parse from file\n",
      "330 (1, 7)\n",
      "331 (1, 7)\n",
      "No columns to parse from file\n",
      "333 (127, 7)\n"
     ]
    },
    {
     "name": "stderr",
     "output_type": "stream",
     "text": [
      "100%|██████████| 1/1 [00:00<00:00, 11.67it/s]\n",
      "100%|██████████| 1/1 [00:00<00:00,  8.20it/s]\n",
      "  0%|          | 0/5 [00:00<?, ?it/s]"
     ]
    },
    {
     "name": "stdout",
     "output_type": "stream",
     "text": [
      "No columns to parse from file\n",
      "335 (210, 7)\n",
      "336 (1098, 7)\n"
     ]
    },
    {
     "name": "stderr",
     "output_type": "stream",
     "text": [
      "100%|██████████| 5/5 [00:00<00:00,  8.54it/s]\n",
      "100%|██████████| 1/1 [00:00<00:00, 39.89it/s]\n",
      "100%|██████████| 1/1 [00:00<00:00, 63.16it/s]\n",
      "100%|██████████| 1/1 [00:00<00:00, 47.58it/s]\n",
      "100%|██████████| 1/1 [00:00<00:00, 72.82it/s]\n",
      "100%|██████████| 1/1 [00:00<00:00, 68.26it/s]\n",
      "100%|██████████| 1/1 [00:00<00:00, 16.15it/s]"
     ]
    },
    {
     "name": "stdout",
     "output_type": "stream",
     "text": [
      "337 (25, 7)\n",
      "338 (5, 7)\n",
      "No columns to parse from file\n",
      "No columns to parse from file\n",
      "341 (20, 7)\n",
      "342 (5, 7)\n",
      "343 (6, 7)\n",
      "No columns to parse from file\n",
      "345 (106, 7)\n"
     ]
    },
    {
     "name": "stderr",
     "output_type": "stream",
     "text": [
      "\n",
      "100%|██████████| 1/1 [00:00<00:00, 77.89it/s]\n",
      "100%|██████████| 1/1 [00:00<00:00, 70.86it/s]\n",
      "100%|██████████| 1/1 [00:00<00:00, 16.38it/s]\n",
      "100%|██████████| 1/1 [00:00<00:00, 37.95it/s]\n",
      "100%|██████████| 1/1 [00:00<00:00, 78.14it/s]\n",
      "100%|██████████| 1/1 [00:00<00:00, 41.66it/s]"
     ]
    },
    {
     "name": "stdout",
     "output_type": "stream",
     "text": [
      "346 (2, 7)\n",
      "347 (3, 7)\n",
      "348 (102, 7)\n",
      "349 (30, 7)\n",
      "350 (2, 7)\n",
      "351 (25, 7)\n"
     ]
    },
    {
     "name": "stderr",
     "output_type": "stream",
     "text": [
      "\n",
      "100%|██████████| 1/1 [00:00<00:00, 82.86it/s]\n",
      "100%|██████████| 1/1 [00:00<00:00, 29.85it/s]\n",
      "100%|██████████| 1/1 [00:00<00:00,  8.94it/s]\n",
      "  0%|          | 0/1 [00:00<?, ?it/s]"
     ]
    },
    {
     "name": "stdout",
     "output_type": "stream",
     "text": [
      "352 (1, 7)\n",
      "353 (44, 7)\n",
      "354 (214, 7)\n",
      "No columns to parse from file\n",
      "No columns to parse from file\n",
      "No columns to parse from file\n",
      "No columns to parse from file\n",
      "359 (8, 7)\n"
     ]
    },
    {
     "name": "stderr",
     "output_type": "stream",
     "text": [
      "100%|██████████| 1/1 [00:00<00:00, 64.31it/s]\n",
      "100%|██████████| 2/2 [00:00<00:00, 12.59it/s]\n",
      "100%|██████████| 1/1 [00:00<00:00, 46.73it/s]\n"
     ]
    },
    {
     "name": "stdout",
     "output_type": "stream",
     "text": [
      "360 (293, 7)\n",
      "No columns to parse from file\n",
      "362 (19, 7)\n",
      "363 (63, 7)\n"
     ]
    },
    {
     "name": "stderr",
     "output_type": "stream",
     "text": [
      "100%|██████████| 1/1 [00:00<00:00, 20.46it/s]\n",
      "100%|██████████| 1/1 [00:00<00:00, 46.59it/s]\n",
      "100%|██████████| 1/1 [00:00<00:00,  9.18it/s]\n",
      "100%|██████████| 1/1 [00:00<00:00, 56.12it/s]\n",
      "  0%|          | 0/2 [00:00<?, ?it/s]"
     ]
    },
    {
     "name": "stdout",
     "output_type": "stream",
     "text": [
      "364 (16, 7)\n",
      "365 (203, 7)\n",
      "No columns to parse from file\n",
      "No columns to parse from file\n",
      "368 (8, 7)\n",
      "369 (270, 7)\n"
     ]
    },
    {
     "name": "stderr",
     "output_type": "stream",
     "text": [
      "100%|██████████| 2/2 [00:00<00:00, 12.40it/s]\n",
      "100%|██████████| 1/1 [00:00<00:00, 19.45it/s]\n",
      " 50%|█████     | 1/2 [00:00<00:00,  7.88it/s]"
     ]
    },
    {
     "name": "stdout",
     "output_type": "stream",
     "text": [
      "370 (90, 7)\n",
      "371 (421, 7)\n"
     ]
    },
    {
     "name": "stderr",
     "output_type": "stream",
     "text": [
      "100%|██████████| 2/2 [00:00<00:00,  9.33it/s]\n",
      "100%|██████████| 1/1 [00:00<00:00, 15.89it/s]\n",
      "100%|██████████| 1/1 [00:00<00:00, 21.73it/s]\n",
      "100%|██████████| 1/1 [00:00<00:00, 80.53it/s]\n",
      "100%|██████████| 1/1 [00:00<00:00, 24.82it/s]\n"
     ]
    },
    {
     "name": "stdout",
     "output_type": "stream",
     "text": [
      "372 (118, 7)\n",
      "373 (77, 7)\n",
      "374 (3, 7)\n",
      "No columns to parse from file\n",
      "376 (62, 7)\n",
      "377 (710, 7)\n"
     ]
    },
    {
     "name": "stderr",
     "output_type": "stream",
     "text": [
      "100%|██████████| 3/3 [00:00<00:00,  8.38it/s]\n",
      "100%|██████████| 1/1 [00:00<00:00, 14.32it/s]\n",
      "100%|██████████| 1/1 [00:00<00:00, 81.16it/s]\n",
      "100%|██████████| 1/1 [00:00<00:00, 28.44it/s]\n",
      "  0%|          | 0/2 [00:00<?, ?it/s]"
     ]
    },
    {
     "name": "stdout",
     "output_type": "stream",
     "text": [
      "378 (126, 7)\n",
      "379 (3, 7)\n",
      "380 (52, 7)\n",
      "381 (502, 7)\n"
     ]
    },
    {
     "name": "stderr",
     "output_type": "stream",
     "text": [
      "100%|██████████| 2/2 [00:00<00:00,  7.94it/s]\n",
      "100%|██████████| 1/1 [00:00<00:00, 81.65it/s]\n",
      "100%|██████████| 1/1 [00:00<00:00, 71.61it/s]\n",
      "100%|██████████| 1/1 [00:00<00:00, 19.54it/s]\n",
      "100%|██████████| 1/1 [00:00<00:00, 78.98it/s]\n",
      "100%|██████████| 1/1 [00:00<00:00, 82.81it/s]\n",
      "100%|██████████| 1/1 [00:00<00:00, 59.07it/s]\n",
      "/home/bakirillov/HDD/works/Skoltech/CRISPR_CAD/uace/src/core.py:966: RuntimeWarning: invalid value encountered in true_divide\n",
      "  self.S[self.label_column]\n",
      "100%|██████████| 1/1 [00:00<00:00, 71.87it/s]\n",
      "  0%|          | 0/1 [00:00<?, ?it/s]"
     ]
    },
    {
     "name": "stdout",
     "output_type": "stream",
     "text": [
      "382 (3, 7)\n",
      "383 (7, 7)\n",
      "384 (87, 7)\n",
      "385 (3, 7)\n",
      "No columns to parse from file\n",
      "387 (1, 7)\n",
      "388 (12, 7)\n",
      "389 (6, 7)\n",
      "No columns to parse from file\n",
      "No columns to parse from file\n",
      "No columns to parse from file\n",
      "393 (34, 7)\n"
     ]
    },
    {
     "name": "stderr",
     "output_type": "stream",
     "text": [
      "100%|██████████| 1/1 [00:00<00:00, 35.41it/s]\n",
      "100%|██████████| 1/1 [00:00<00:00, 73.02it/s]\n",
      "100%|██████████| 1/1 [00:00<00:00, 47.09it/s]\n",
      "100%|██████████| 1/1 [00:00<00:00, 83.21it/s]\n",
      "  0%|          | 0/1 [00:00<?, ?it/s]"
     ]
    },
    {
     "name": "stdout",
     "output_type": "stream",
     "text": [
      "394 (4, 7)\n",
      "395 (20, 7)\n",
      "No columns to parse from file\n",
      "397 (1, 7)\n",
      "No columns to parse from file\n",
      "399 (165, 7)\n"
     ]
    },
    {
     "name": "stderr",
     "output_type": "stream",
     "text": [
      "100%|██████████| 1/1 [00:00<00:00,  3.38it/s]\n",
      " 33%|███▎      | 1/3 [00:00<00:00,  7.75it/s]"
     ]
    },
    {
     "name": "stdout",
     "output_type": "stream",
     "text": [
      "400 (676, 7)\n"
     ]
    },
    {
     "name": "stderr",
     "output_type": "stream",
     "text": [
      "100%|██████████| 3/3 [00:00<00:00,  8.63it/s]\n",
      "100%|██████████| 1/1 [00:00<00:00, 13.88it/s]\n",
      "100%|██████████| 1/1 [00:00<00:00, 48.73it/s]\n",
      "100%|██████████| 1/1 [00:00<00:00, 82.86it/s]\n",
      "100%|██████████| 1/1 [00:00<00:00, 70.55it/s]\n",
      "100%|██████████| 1/1 [00:00<00:00, 74.50it/s]\n",
      "  0%|          | 0/1 [00:00<?, ?it/s]"
     ]
    },
    {
     "name": "stdout",
     "output_type": "stream",
     "text": [
      "No columns to parse from file\n",
      "402 (132, 7)\n",
      "403 (19, 7)\n",
      "404 (1, 7)\n",
      "405 (5, 7)\n",
      "No columns to parse from file\n",
      "407 (3, 7)\n",
      "408 (35, 7)\n"
     ]
    },
    {
     "name": "stderr",
     "output_type": "stream",
     "text": [
      "100%|██████████| 1/1 [00:00<00:00, 34.03it/s]\n",
      "100%|██████████| 1/1 [00:00<00:00, 17.16it/s]\n",
      "100%|██████████| 1/1 [00:00<00:00, 25.24it/s]\n",
      "100%|██████████| 1/1 [00:00<00:00, 50.44it/s]\n",
      "100%|██████████| 1/1 [00:00<00:00, 60.78it/s]\n",
      "100%|██████████| 1/1 [00:00<00:00, 85.08it/s]\n",
      "  0%|          | 0/1 [00:00<?, ?it/s]"
     ]
    },
    {
     "name": "stdout",
     "output_type": "stream",
     "text": [
      "409 (99, 7)\n",
      "410 (56, 7)\n",
      "411 (17, 7)\n",
      "No columns to parse from file\n",
      "413 (9, 7)\n",
      "414 (1, 7)\n",
      "415 (20, 7)\n"
     ]
    },
    {
     "name": "stderr",
     "output_type": "stream",
     "text": [
      "100%|██████████| 1/1 [00:00<00:00, 46.77it/s]\n",
      "100%|██████████| 1/1 [00:00<00:00, 82.02it/s]\n",
      "100%|██████████| 1/1 [00:00<00:00, 84.14it/s]\n",
      "100%|██████████| 1/1 [00:00<00:00, 27.54it/s]\n",
      "100%|██████████| 1/1 [00:00<00:00, 59.57it/s]\n",
      "  0%|          | 0/2 [00:00<?, ?it/s]"
     ]
    },
    {
     "name": "stdout",
     "output_type": "stream",
     "text": [
      "416 (2, 7)\n",
      "417 (1, 7)\n",
      "418 (54, 7)\n",
      "419 (11, 7)\n",
      "No columns to parse from file\n",
      "No columns to parse from file\n",
      "422 (266, 7)\n"
     ]
    },
    {
     "name": "stderr",
     "output_type": "stream",
     "text": [
      "100%|██████████| 2/2 [00:00<00:00, 13.36it/s]\n",
      "100%|██████████| 1/1 [00:00<00:00, 69.61it/s]\n",
      "100%|██████████| 1/1 [00:00<00:00, 42.50it/s]\n",
      "100%|██████████| 1/1 [00:00<00:00, 38.07it/s]\n",
      "100%|██████████| 1/1 [00:00<00:00, 44.10it/s]\n",
      "100%|██████████| 1/1 [00:00<00:00, 72.93it/s]\n",
      "100%|██████████| 1/1 [00:00<00:00, 27.93it/s]\n",
      "  0%|          | 0/1 [00:00<?, ?it/s]"
     ]
    },
    {
     "name": "stdout",
     "output_type": "stream",
     "text": [
      "423 (6, 7)\n",
      "424 (23, 7)\n",
      "425 (30, 7)\n",
      "No columns to parse from file\n",
      "427 (24, 7)\n",
      "428 (4, 7)\n",
      "429 (51, 7)\n",
      "No columns to parse from file\n",
      "431 (231, 7)\n"
     ]
    },
    {
     "name": "stderr",
     "output_type": "stream",
     "text": [
      "100%|██████████| 1/1 [00:00<00:00,  8.11it/s]\n",
      "100%|██████████| 1/1 [00:00<00:00, 19.59it/s]\n",
      "100%|██████████| 1/1 [00:00<00:00, 12.91it/s]\n",
      "  0%|          | 0/1 [00:00<?, ?it/s]"
     ]
    },
    {
     "name": "stdout",
     "output_type": "stream",
     "text": [
      "432 (87, 7)\n",
      "433 (140, 7)\n",
      "434 (212, 7)\n"
     ]
    },
    {
     "name": "stderr",
     "output_type": "stream",
     "text": [
      "100%|██████████| 1/1 [00:00<00:00,  8.93it/s]\n",
      "100%|██████████| 1/1 [00:00<00:00, 11.39it/s]\n",
      "100%|██████████| 1/1 [00:00<00:00, 78.23it/s]\n",
      "100%|██████████| 1/1 [00:00<00:00, 33.34it/s]\n",
      "100%|██████████| 1/1 [00:00<00:00, 85.09it/s]\n",
      "100%|██████████| 1/1 [00:00<00:00, 66.28it/s]\n"
     ]
    },
    {
     "name": "stdout",
     "output_type": "stream",
     "text": [
      "435 (163, 7)\n",
      "436 (3, 7)\n",
      "437 (38, 7)\n",
      "438 (1, 7)\n",
      "439 (7, 7)\n",
      "No columns to parse from file\n",
      "No columns to parse from file\n",
      "No columns to parse from file\n",
      "443 (4, 7)\n"
     ]
    },
    {
     "name": "stderr",
     "output_type": "stream",
     "text": [
      "100%|██████████| 1/1 [00:00<00:00, 71.66it/s]\n",
      "100%|██████████| 1/1 [00:00<00:00, 49.09it/s]\n",
      "100%|██████████| 1/1 [00:00<00:00, 32.92it/s]\n",
      "100%|██████████| 1/1 [00:00<00:00, 45.13it/s]\n",
      "  0%|          | 0/1 [00:00<?, ?it/s]"
     ]
    },
    {
     "name": "stdout",
     "output_type": "stream",
     "text": [
      "444 (18, 7)\n",
      "No columns to parse from file\n",
      "446 (39, 7)\n",
      "447 (22, 7)\n",
      "No columns to parse from file\n",
      "449 (245, 7)\n"
     ]
    },
    {
     "name": "stderr",
     "output_type": "stream",
     "text": [
      "100%|██████████| 1/1 [00:00<00:00,  7.57it/s]\n",
      "100%|██████████| 1/1 [00:00<00:00, 67.88it/s]\n",
      "100%|██████████| 1/1 [00:00<00:00, 44.60it/s]\n",
      "100%|██████████| 1/1 [00:00<00:00, 50.59it/s]\n",
      "100%|██████████| 1/1 [00:00<00:00, 22.94it/s]\n",
      "100%|██████████| 1/1 [00:00<00:00, 40.89it/s]\n",
      "100%|██████████| 1/1 [00:00<00:00, 38.39it/s]"
     ]
    },
    {
     "name": "stdout",
     "output_type": "stream",
     "text": [
      "450 (7, 7)\n",
      "451 (22, 7)\n",
      "452 (17, 7)\n",
      "453 (70, 7)\n",
      "No columns to parse from file\n",
      "455 (26, 7)\n",
      "456 (28, 7)\n",
      "No columns to parse from file\n",
      "No columns to parse from file\n"
     ]
    },
    {
     "name": "stderr",
     "output_type": "stream",
     "text": [
      "\n",
      "100%|██████████| 1/1 [00:00<00:00, 80.24it/s]\n",
      "100%|██████████| 2/2 [00:00<00:00, 12.85it/s]\n",
      "100%|██████████| 1/1 [00:00<00:00, 57.68it/s]\n",
      "  0%|          | 0/2 [00:00<?, ?it/s]"
     ]
    },
    {
     "name": "stdout",
     "output_type": "stream",
     "text": [
      "459 (1, 7)\n",
      "460 (281, 7)\n",
      "461 (11, 7)\n",
      "462 (370, 7)\n"
     ]
    },
    {
     "name": "stderr",
     "output_type": "stream",
     "text": [
      "100%|██████████| 2/2 [00:00<00:00, 10.09it/s]\n",
      "100%|██████████| 1/1 [00:00<00:00, 52.26it/s]\n",
      "100%|██████████| 1/1 [00:00<00:00, 12.97it/s]\n",
      "100%|██████████| 1/1 [00:00<00:00, 49.77it/s]\n",
      "100%|██████████| 1/1 [00:00<00:00, 38.23it/s]\n",
      "  0%|          | 0/1 [00:00<?, ?it/s]"
     ]
    },
    {
     "name": "stdout",
     "output_type": "stream",
     "text": [
      "No columns to parse from file\n",
      "464 (15, 7)\n",
      "465 (140, 7)\n",
      "466 (18, 7)\n",
      "467 (29, 7)\n",
      "No columns to parse from file\n",
      "No columns to parse from file\n",
      "470 (27, 7)\n"
     ]
    },
    {
     "name": "stderr",
     "output_type": "stream",
     "text": [
      "100%|██████████| 1/1 [00:00<00:00, 38.62it/s]\n",
      "100%|██████████| 1/1 [00:00<00:00, 35.13it/s]\n",
      "100%|██████████| 1/1 [00:00<00:00, 47.78it/s]\n",
      "100%|██████████| 1/1 [00:00<00:00, 27.44it/s]\n",
      "/home/bakirillov/HDD/works/Skoltech/CRISPR_CAD/uace/src/core.py:966: RuntimeWarning: invalid value encountered in true_divide\n",
      "  self.S[self.label_column]\n",
      "100%|██████████| 1/1 [00:00<00:00, 68.56it/s]\n",
      "100%|██████████| 1/1 [00:00<00:00, 47.98it/s]\n",
      "100%|██████████| 1/1 [00:00<00:00, 55.71it/s]\n",
      "  0%|          | 0/1 [00:00<?, ?it/s]"
     ]
    },
    {
     "name": "stdout",
     "output_type": "stream",
     "text": [
      "471 (35, 7)\n",
      "472 (20, 7)\n",
      "473 (52, 7)\n",
      "474 (6, 7)\n",
      "475 (18, 7)\n",
      "476 (11, 7)\n",
      "No columns to parse from file\n",
      "No columns to parse from file\n",
      "479 (48, 7)\n"
     ]
    },
    {
     "name": "stderr",
     "output_type": "stream",
     "text": [
      "100%|██████████| 1/1 [00:00<00:00, 27.55it/s]\n",
      "/home/bakirillov/HDD/works/Skoltech/CRISPR_CAD/uace/src/core.py:966: RuntimeWarning: invalid value encountered in true_divide\n",
      "  self.S[self.label_column]\n",
      "100%|██████████| 1/1 [00:00<00:00, 66.47it/s]\n",
      "100%|██████████| 1/1 [00:00<00:00, 32.51it/s]\n",
      "100%|██████████| 1/1 [00:00<00:00, 10.18it/s]\n",
      "100%|██████████| 1/1 [00:00<00:00, 66.92it/s]\n",
      "  0%|          | 0/1 [00:00<?, ?it/s]"
     ]
    },
    {
     "name": "stdout",
     "output_type": "stream",
     "text": [
      "No columns to parse from file\n",
      "481 (6, 7)\n",
      "482 (39, 7)\n",
      "483 (183, 7)\n",
      "484 (7, 7)\n",
      "485 (50, 7)\n"
     ]
    },
    {
     "name": "stderr",
     "output_type": "stream",
     "text": [
      "100%|██████████| 1/1 [00:00<00:00, 26.95it/s]\n",
      "100%|██████████| 1/1 [00:00<00:00, 19.15it/s]\n",
      "100%|██████████| 1/1 [00:00<00:00,  8.43it/s]\n",
      "  0%|          | 0/1 [00:00<?, ?it/s]"
     ]
    },
    {
     "name": "stdout",
     "output_type": "stream",
     "text": [
      "486 (86, 7)\n",
      "No columns to parse from file\n",
      "488 (228, 7)\n",
      "489 (88, 7)\n"
     ]
    },
    {
     "name": "stderr",
     "output_type": "stream",
     "text": [
      "100%|██████████| 1/1 [00:00<00:00, 18.87it/s]\n",
      "100%|██████████| 1/1 [00:00<00:00, 61.74it/s]\n",
      "100%|██████████| 1/1 [00:00<00:00, 78.08it/s]\n",
      "/home/bakirillov/HDD/works/Skoltech/CRISPR_CAD/uace/src/core.py:966: RuntimeWarning: invalid value encountered in true_divide\n",
      "  self.S[self.label_column]\n",
      "100%|██████████| 1/1 [00:00<00:00, 69.69it/s]\n",
      "100%|██████████| 1/1 [00:00<00:00, 56.86it/s]\n",
      "100%|██████████| 1/1 [00:00<00:00, 87.05it/s]\n",
      "100%|██████████| 1/1 [00:00<00:00, 79.16it/s]\n",
      "100%|██████████| 1/1 [00:00<00:00, 72.41it/s]\n",
      "100%|██████████| 1/1 [00:00<00:00, 38.01it/s]\n",
      "  0%|          | 0/1 [00:00<?, ?it/s]"
     ]
    },
    {
     "name": "stdout",
     "output_type": "stream",
     "text": [
      "490 (10, 7)\n",
      "491 (2, 7)\n",
      "492 (6, 7)\n",
      "493 (13, 7)\n",
      "494 (1, 7)\n",
      "495 (2, 7)\n",
      "No columns to parse from file\n",
      "497 (2, 7)\n",
      "No columns to parse from file\n",
      "499 (29, 7)\n",
      "500 (25, 7)\n"
     ]
    },
    {
     "name": "stderr",
     "output_type": "stream",
     "text": [
      "100%|██████████| 1/1 [00:00<00:00, 39.40it/s]\n",
      "100%|██████████| 1/1 [00:00<00:00, 15.51it/s]\n",
      "100%|██████████| 1/1 [00:00<00:00, 31.45it/s]\n",
      "/home/bakirillov/HDD/works/Skoltech/CRISPR_CAD/uace/src/core.py:966: RuntimeWarning: invalid value encountered in true_divide\n",
      "  self.S[self.label_column]\n",
      "100%|██████████| 1/1 [00:00<00:00, 66.12it/s]\n",
      "  0%|          | 0/1 [00:00<?, ?it/s]"
     ]
    },
    {
     "name": "stdout",
     "output_type": "stream",
     "text": [
      "501 (109, 7)\n",
      "502 (42, 7)\n",
      "No columns to parse from file\n",
      "No columns to parse from file\n",
      "No columns to parse from file\n",
      "506 (6, 7)\n",
      "507 (117, 7)\n"
     ]
    },
    {
     "name": "stderr",
     "output_type": "stream",
     "text": [
      "100%|██████████| 1/1 [00:00<00:00, 14.66it/s]\n",
      "100%|██████████| 1/1 [00:00<00:00, 28.50it/s]\n",
      "100%|██████████| 1/1 [00:00<00:00, 41.05it/s]\n",
      "100%|██████████| 1/1 [00:00<00:00,  9.59it/s]\n",
      "  0%|          | 0/1 [00:00<?, ?it/s]"
     ]
    },
    {
     "name": "stdout",
     "output_type": "stream",
     "text": [
      "508 (50, 7)\n",
      "509 (25, 7)\n",
      "No columns to parse from file\n",
      "511 (193, 7)\n",
      "512 (3, 7)\n"
     ]
    },
    {
     "name": "stderr",
     "output_type": "stream",
     "text": [
      "100%|██████████| 1/1 [00:00<00:00, 71.51it/s]\n",
      "100%|██████████| 1/1 [00:00<00:00, 44.86it/s]\n",
      "100%|██████████| 1/1 [00:00<00:00, 18.13it/s]\n",
      "100%|██████████| 1/1 [00:00<00:00, 68.95it/s]\n",
      "100%|██████████| 1/1 [00:00<00:00, 20.70it/s]\n",
      "  0%|          | 0/5 [00:00<?, ?it/s]"
     ]
    },
    {
     "name": "stdout",
     "output_type": "stream",
     "text": [
      "513 (22, 7)\n",
      "514 (94, 7)\n",
      "515 (6, 7)\n",
      "516 (78, 7)\n",
      "517 (1028, 7)\n"
     ]
    },
    {
     "name": "stderr",
     "output_type": "stream",
     "text": [
      "100%|██████████| 5/5 [00:00<00:00,  9.30it/s]\n",
      "100%|██████████| 1/1 [00:00<00:00,  7.60it/s]\n",
      "  0%|          | 0/1 [00:00<?, ?it/s]"
     ]
    },
    {
     "name": "stdout",
     "output_type": "stream",
     "text": [
      "518 (255, 7)\n",
      "519 (145, 7)\n"
     ]
    },
    {
     "name": "stderr",
     "output_type": "stream",
     "text": [
      "100%|██████████| 1/1 [00:00<00:00, 12.33it/s]\n",
      "100%|██████████| 1/1 [00:00<00:00, 50.85it/s]\n",
      "100%|██████████| 1/1 [00:00<00:00, 71.72it/s]\n",
      "100%|██████████| 1/1 [00:00<00:00, 27.72it/s]\n",
      "100%|██████████| 1/1 [00:00<00:00, 78.10it/s]\n",
      "100%|██████████| 1/1 [00:00<00:00, 51.32it/s]\n",
      "100%|██████████| 1/1 [00:00<00:00, 76.07it/s]\n",
      "100%|██████████| 1/1 [00:00<00:00, 48.98it/s]\n"
     ]
    },
    {
     "name": "stdout",
     "output_type": "stream",
     "text": [
      "No columns to parse from file\n",
      "521 (15, 7)\n",
      "522 (5, 7)\n",
      "523 (52, 7)\n",
      "524 (1, 7)\n",
      "No columns to parse from file\n",
      "526 (15, 7)\n",
      "527 (2, 7)\n",
      "528 (17, 7)\n",
      "529 (182, 7)\n"
     ]
    },
    {
     "name": "stderr",
     "output_type": "stream",
     "text": [
      "100%|██████████| 1/1 [00:00<00:00, 10.11it/s]\n",
      "100%|██████████| 1/1 [00:00<00:00, 66.80it/s]\n",
      "100%|██████████| 1/1 [00:00<00:00, 80.13it/s]\n",
      "100%|██████████| 1/1 [00:00<00:00, 60.67it/s]\n",
      "100%|██████████| 1/1 [00:00<00:00, 73.70it/s]\n",
      "100%|██████████| 1/1 [00:00<00:00, 59.68it/s]\n",
      "100%|██████████| 1/1 [00:00<00:00, 23.70it/s]\n",
      "  0%|          | 0/2 [00:00<?, ?it/s]"
     ]
    },
    {
     "name": "stdout",
     "output_type": "stream",
     "text": [
      "No columns to parse from file\n",
      "531 (6, 7)\n",
      "532 (1, 7)\n",
      "533 (10, 7)\n",
      "No columns to parse from file\n",
      "535 (4, 7)\n",
      "536 (8, 7)\n",
      "No columns to parse from file\n",
      "538 (64, 7)\n",
      "539 (384, 7)\n"
     ]
    },
    {
     "name": "stderr",
     "output_type": "stream",
     "text": [
      "100%|██████████| 2/2 [00:00<00:00,  9.73it/s]\n",
      "100%|██████████| 1/1 [00:00<00:00, 73.47it/s]\n",
      "100%|██████████| 1/1 [00:00<00:00, 80.44it/s]\n",
      "100%|██████████| 1/1 [00:00<00:00, 84.31it/s]\n",
      "100%|██████████| 1/1 [00:00<00:00, 57.10it/s]\n",
      "100%|██████████| 1/1 [00:00<00:00, 56.85it/s]\n",
      "100%|██████████| 1/1 [00:00<00:00, 38.47it/s]\n",
      "100%|██████████| 1/1 [00:00<00:00, 67.38it/s]\n",
      "100%|██████████| 1/1 [00:00<00:00, 70.77it/s]"
     ]
    },
    {
     "name": "stdout",
     "output_type": "stream",
     "text": [
      "No columns to parse from file\n",
      "No columns to parse from file\n",
      "542 (3, 7)\n",
      "543 (1, 7)\n",
      "No columns to parse from file\n",
      "545 (1, 7)\n",
      "No columns to parse from file\n",
      "No columns to parse from file\n",
      "548 (5, 7)\n",
      "549 (6, 7)\n",
      "550 (21, 7)\n",
      "551 (6, 7)\n",
      "552 (5, 7)\n"
     ]
    },
    {
     "name": "stderr",
     "output_type": "stream",
     "text": [
      "\n",
      "100%|██████████| 1/1 [00:00<00:00, 56.96it/s]\n",
      "100%|██████████| 1/1 [00:00<00:00, 63.10it/s]\n",
      "100%|██████████| 1/1 [00:00<00:00, 50.34it/s]\n",
      "100%|██████████| 1/1 [00:00<00:00, 36.23it/s]\n",
      "100%|██████████| 1/1 [00:00<00:00, 23.02it/s]\n",
      "100%|██████████| 1/1 [00:00<00:00, 67.75it/s]\n",
      "  0%|          | 0/1 [00:00<?, ?it/s]"
     ]
    },
    {
     "name": "stdout",
     "output_type": "stream",
     "text": [
      "553 (11, 7)\n",
      "No columns to parse from file\n",
      "555 (8, 7)\n",
      "556 (17, 7)\n",
      "557 (35, 7)\n",
      "558 (68, 7)\n",
      "559 (7, 7)\n",
      "560 (23, 7)\n"
     ]
    },
    {
     "name": "stderr",
     "output_type": "stream",
     "text": [
      "100%|██████████| 1/1 [00:00<00:00, 42.75it/s]\n",
      "100%|██████████| 1/1 [00:00<00:00, 82.30it/s]\n",
      " 12%|█▎        | 1/8 [00:00<00:00,  7.33it/s]"
     ]
    },
    {
     "name": "stdout",
     "output_type": "stream",
     "text": [
      "No columns to parse from file\n",
      "562 (1, 7)\n",
      "563 (1814, 7)\n"
     ]
    },
    {
     "name": "stderr",
     "output_type": "stream",
     "text": [
      "100%|██████████| 8/8 [00:00<00:00,  8.23it/s]\n",
      "100%|██████████| 1/1 [00:00<00:00, 47.82it/s]\n",
      "100%|██████████| 1/1 [00:00<00:00, 55.03it/s]\n",
      "100%|██████████| 1/1 [00:00<00:00, 10.60it/s]\n",
      "100%|██████████| 1/1 [00:00<00:00, 28.13it/s]"
     ]
    },
    {
     "name": "stdout",
     "output_type": "stream",
     "text": [
      "564 (20, 7)\n",
      "565 (14, 7)\n",
      "No columns to parse from file\n",
      "567 (171, 7)\n",
      "568 (50, 7)\n"
     ]
    },
    {
     "name": "stderr",
     "output_type": "stream",
     "text": [
      "\n",
      " 33%|███▎      | 1/3 [00:00<00:00,  7.36it/s]"
     ]
    },
    {
     "name": "stdout",
     "output_type": "stream",
     "text": [
      "569 (587, 7)\n"
     ]
    },
    {
     "name": "stderr",
     "output_type": "stream",
     "text": [
      "100%|██████████| 3/3 [00:00<00:00,  9.33it/s]\n",
      "100%|██████████| 1/1 [00:00<00:00,  8.78it/s]\n",
      "100%|██████████| 1/1 [00:00<00:00, 41.82it/s]\n",
      "  0%|          | 0/2 [00:00<?, ?it/s]"
     ]
    },
    {
     "name": "stdout",
     "output_type": "stream",
     "text": [
      "570 (206, 7)\n",
      "571 (27, 7)\n",
      "572 (333, 7)\n"
     ]
    },
    {
     "name": "stderr",
     "output_type": "stream",
     "text": [
      "100%|██████████| 2/2 [00:00<00:00, 11.34it/s]\n",
      "100%|██████████| 1/1 [00:00<00:00, 24.92it/s]\n",
      "100%|██████████| 1/1 [00:00<00:00, 26.83it/s]\n",
      "100%|██████████| 1/1 [00:00<00:00, 80.99it/s]\n",
      "100%|██████████| 1/1 [00:00<00:00, 21.48it/s]\n",
      "  0%|          | 0/1 [00:00<?, ?it/s]"
     ]
    },
    {
     "name": "stdout",
     "output_type": "stream",
     "text": [
      "573 (63, 7)\n",
      "574 (58, 7)\n",
      "575 (3, 7)\n",
      "No columns to parse from file\n",
      "577 (73, 7)\n",
      "578 (146, 7)\n"
     ]
    },
    {
     "name": "stderr",
     "output_type": "stream",
     "text": [
      "100%|██████████| 1/1 [00:00<00:00, 12.50it/s]\n",
      "100%|██████████| 1/1 [00:00<00:00, 77.46it/s]\n",
      "100%|██████████| 1/1 [00:00<00:00, 21.63it/s]\n",
      "100%|██████████| 1/1 [00:00<00:00, 82.54it/s]\n",
      "100%|██████████| 1/1 [00:00<00:00, 77.21it/s]\n",
      "100%|██████████| 1/1 [00:00<00:00, 65.40it/s]\n",
      "100%|██████████| 1/1 [00:00<00:00, 40.12it/s]\n",
      "  0%|          | 0/2 [00:00<?, ?it/s]"
     ]
    },
    {
     "name": "stdout",
     "output_type": "stream",
     "text": [
      "No columns to parse from file\n",
      "580 (3, 7)\n",
      "581 (76, 7)\n",
      "582 (2, 7)\n",
      "583 (2, 7)\n",
      "584 (7, 7)\n",
      "585 (28, 7)\n",
      "No columns to parse from file\n",
      "587 (276, 7)\n"
     ]
    },
    {
     "name": "stderr",
     "output_type": "stream",
     "text": [
      "100%|██████████| 2/2 [00:00<00:00, 13.12it/s]\n",
      "100%|██████████| 1/1 [00:00<00:00, 73.28it/s]\n",
      "100%|██████████| 1/1 [00:00<00:00, 18.19it/s]\n",
      "  0%|          | 0/1 [00:00<?, ?it/s]"
     ]
    },
    {
     "name": "stdout",
     "output_type": "stream",
     "text": [
      "588 (3, 7)\n",
      "589 (94, 7)\n",
      "590 (230, 7)\n"
     ]
    },
    {
     "name": "stderr",
     "output_type": "stream",
     "text": [
      "100%|██████████| 1/1 [00:00<00:00,  8.43it/s]\n",
      "100%|██████████| 1/1 [00:00<00:00, 10.97it/s]\n",
      "  0%|          | 0/7 [00:00<?, ?it/s]"
     ]
    },
    {
     "name": "stdout",
     "output_type": "stream",
     "text": [
      "591 (174, 7)\n",
      "592 (1660, 7)\n"
     ]
    },
    {
     "name": "stderr",
     "output_type": "stream",
     "text": [
      "100%|██████████| 7/7 [00:00<00:00,  8.33it/s]\n",
      "100%|██████████| 1/1 [00:00<00:00, 13.02it/s]\n",
      "100%|██████████| 1/1 [00:00<00:00, 14.16it/s]\n",
      "100%|██████████| 1/1 [00:00<00:00, 81.58it/s]\n",
      "  0%|          | 0/2 [00:00<?, ?it/s]"
     ]
    },
    {
     "name": "stdout",
     "output_type": "stream",
     "text": [
      "593 (141, 7)\n",
      "594 (128, 7)\n",
      "595 (2, 7)\n",
      "596 (270, 7)\n"
     ]
    },
    {
     "name": "stderr",
     "output_type": "stream",
     "text": [
      "100%|██████████| 2/2 [00:00<00:00, 13.61it/s]\n",
      "100%|██████████| 1/1 [00:00<00:00, 77.63it/s]\n",
      "100%|██████████| 1/1 [00:00<00:00, 30.22it/s]\n",
      "100%|██████████| 1/1 [00:00<00:00, 53.68it/s]\n",
      "100%|██████████| 1/1 [00:00<00:00, 80.51it/s]\n",
      "100%|██████████| 1/1 [00:00<00:00, 79.41it/s]\n",
      "100%|██████████| 1/1 [00:00<00:00, 73.72it/s]\n",
      "100%|██████████| 1/1 [00:00<00:00, 76.55it/s]\n",
      "  0%|          | 0/4 [00:00<?, ?it/s]"
     ]
    },
    {
     "name": "stdout",
     "output_type": "stream",
     "text": [
      "597 (1, 7)\n",
      "598 (46, 7)\n",
      "599 (15, 7)\n",
      "600 (1, 7)\n",
      "601 (3, 7)\n",
      "602 (4, 7)\n",
      "603 (3, 7)\n",
      "604 (845, 7)\n"
     ]
    },
    {
     "name": "stderr",
     "output_type": "stream",
     "text": [
      "100%|██████████| 4/4 [00:00<00:00,  9.11it/s]\n",
      "100%|██████████| 1/1 [00:00<00:00, 78.23it/s]\n",
      "100%|██████████| 1/1 [00:00<00:00, 28.52it/s]\n",
      "100%|██████████| 1/1 [00:00<00:00, 75.12it/s]\n",
      "100%|██████████| 1/1 [00:00<00:00, 46.16it/s]\n",
      "100%|██████████| 1/1 [00:00<00:00, 73.56it/s]\n",
      "100%|██████████| 1/1 [00:00<00:00, 25.29it/s]\n",
      "  0%|          | 0/1 [00:00<?, ?it/s]"
     ]
    },
    {
     "name": "stdout",
     "output_type": "stream",
     "text": [
      "605 (3, 7)\n",
      "No columns to parse from file\n",
      "607 (50, 7)\n",
      "608 (5, 7)\n",
      "609 (21, 7)\n",
      "610 (5, 7)\n",
      "611 (60, 7)\n",
      "No columns to parse from file\n",
      "613 (5, 7)\n"
     ]
    },
    {
     "name": "stderr",
     "output_type": "stream",
     "text": [
      "100%|██████████| 1/1 [00:00<00:00, 70.74it/s]\n",
      "100%|██████████| 1/1 [00:00<00:00, 22.81it/s]\n",
      "100%|██████████| 1/1 [00:00<00:00, 50.10it/s]\n",
      "100%|██████████| 1/1 [00:00<00:00, 64.71it/s]\n",
      "100%|██████████| 1/1 [00:00<00:00, 79.92it/s]\n",
      "100%|██████████| 1/1 [00:00<00:00, 55.83it/s]\n",
      "  0%|          | 0/1 [00:00<?, ?it/s]"
     ]
    },
    {
     "name": "stdout",
     "output_type": "stream",
     "text": [
      "614 (67, 7)\n",
      "615 (16, 7)\n",
      "No columns to parse from file\n",
      "617 (8, 7)\n",
      "No columns to parse from file\n",
      "619 (3, 7)\n",
      "620 (12, 7)\n",
      "621 (85, 7)\n"
     ]
    },
    {
     "name": "stderr",
     "output_type": "stream",
     "text": [
      "100%|██████████| 1/1 [00:00<00:00, 19.05it/s]\n",
      "100%|██████████| 1/1 [00:00<00:00, 60.44it/s]\n",
      "100%|██████████| 1/1 [00:00<00:00, 69.53it/s]\n",
      "/home/bakirillov/HDD/works/Skoltech/CRISPR_CAD/uace/src/core.py:966: RuntimeWarning: invalid value encountered in true_divide\n",
      "  self.S[self.label_column]\n",
      "100%|██████████| 1/1 [00:00<00:00, 67.70it/s]\n",
      "100%|██████████| 1/1 [00:00<00:00, 24.88it/s]\n",
      "  0%|          | 0/2 [00:00<?, ?it/s]"
     ]
    },
    {
     "name": "stdout",
     "output_type": "stream",
     "text": [
      "No columns to parse from file\n",
      "623 (11, 7)\n",
      "624 (6, 7)\n",
      "625 (6, 7)\n",
      "626 (59, 7)\n",
      "627 (409, 7)\n"
     ]
    },
    {
     "name": "stderr",
     "output_type": "stream",
     "text": [
      "100%|██████████| 2/2 [00:00<00:00,  9.33it/s]\n",
      "100%|██████████| 1/1 [00:00<00:00, 14.02it/s]\n",
      "100%|██████████| 1/1 [00:00<00:00, 18.62it/s]\n",
      "100%|██████████| 1/1 [00:00<00:00, 67.98it/s]\n",
      "100%|██████████| 1/1 [00:00<00:00, 59.92it/s]\n",
      "  0%|          | 0/1 [00:00<?, ?it/s]"
     ]
    },
    {
     "name": "stdout",
     "output_type": "stream",
     "text": [
      "No columns to parse from file\n",
      "629 (130, 7)\n",
      "630 (94, 7)\n",
      "631 (7, 7)\n",
      "632 (11, 7)\n",
      "633 (2, 7)\n"
     ]
    },
    {
     "name": "stderr",
     "output_type": "stream",
     "text": [
      "100%|██████████| 1/1 [00:00<00:00, 75.10it/s]\n",
      "100%|██████████| 1/1 [00:00<00:00, 16.70it/s]\n",
      "100%|██████████| 1/1 [00:00<00:00, 21.76it/s]\n",
      "100%|██████████| 1/1 [00:00<00:00, 20.73it/s]\n",
      "  0%|          | 0/1 [00:00<?, ?it/s]"
     ]
    },
    {
     "name": "stdout",
     "output_type": "stream",
     "text": [
      "634 (106, 7)\n",
      "635 (77, 7)\n",
      "636 (81, 7)\n",
      "637 (41, 7)\n"
     ]
    },
    {
     "name": "stderr",
     "output_type": "stream",
     "text": [
      "100%|██████████| 1/1 [00:00<00:00, 31.76it/s]\n",
      "100%|██████████| 1/1 [00:00<00:00, 76.16it/s]\n",
      "100%|██████████| 1/1 [00:00<00:00, 82.62it/s]\n",
      " 33%|███▎      | 1/3 [00:00<00:00,  7.70it/s]"
     ]
    },
    {
     "name": "stdout",
     "output_type": "stream",
     "text": [
      "638 (2, 7)\n",
      "639 (1, 7)\n",
      "No columns to parse from file\n",
      "No columns to parse from file\n",
      "642 (733, 7)\n"
     ]
    },
    {
     "name": "stderr",
     "output_type": "stream",
     "text": [
      "100%|██████████| 3/3 [00:00<00:00,  8.07it/s]\n",
      "100%|██████████| 1/1 [00:00<00:00, 61.44it/s]\n",
      "/home/bakirillov/HDD/works/Skoltech/CRISPR_CAD/uace/src/core.py:966: RuntimeWarning: invalid value encountered in true_divide\n",
      "  self.S[self.label_column]\n",
      "100%|██████████| 1/1 [00:00<00:00, 71.92it/s]\n",
      "100%|██████████| 1/1 [00:00<00:00, 78.14it/s]\n",
      "100%|██████████| 1/1 [00:00<00:00, 68.30it/s]\n",
      "100%|██████████| 1/1 [00:00<00:00, 88.72it/s]\n",
      "100%|██████████| 1/1 [00:00<00:00, 84.89it/s]\n",
      "100%|██████████| 1/1 [00:00<00:00, 44.44it/s]\n",
      "100%|██████████| 1/1 [00:00<00:00, 48.54it/s]\n",
      "  0%|          | 0/1 [00:00<?, ?it/s]"
     ]
    },
    {
     "name": "stdout",
     "output_type": "stream",
     "text": [
      "643 (11, 7)\n",
      "No columns to parse from file\n",
      "645 (6, 7)\n",
      "646 (4, 7)\n",
      "647 (8, 7)\n",
      "No columns to parse from file\n",
      "649 (1, 7)\n",
      "650 (1, 7)\n",
      "651 (24, 7)\n",
      "No columns to parse from file\n",
      "653 (21, 7)\n",
      "No columns to parse from file\n",
      "655 (4, 7)\n"
     ]
    },
    {
     "name": "stderr",
     "output_type": "stream",
     "text": [
      "100%|██████████| 1/1 [00:00<00:00, 69.27it/s]\n",
      "100%|██████████| 1/1 [00:00<00:00, 38.48it/s]\n",
      "100%|██████████| 1/1 [00:00<00:00, 63.14it/s]\n",
      "100%|██████████| 1/1 [00:00<00:00, 33.40it/s]\n",
      "100%|██████████| 1/1 [00:00<00:00, 41.82it/s]\n",
      "100%|██████████| 1/1 [00:00<00:00, 42.18it/s]\n",
      "  0%|          | 0/1 [00:00<?, ?it/s]"
     ]
    },
    {
     "name": "stdout",
     "output_type": "stream",
     "text": [
      "656 (31, 7)\n",
      "No columns to parse from file\n",
      "658 (6, 7)\n",
      "No columns to parse from file\n",
      "660 (38, 7)\n",
      "No columns to parse from file\n",
      "662 (25, 7)\n",
      "663 (24, 7)\n",
      "664 (69, 7)\n"
     ]
    },
    {
     "name": "stderr",
     "output_type": "stream",
     "text": [
      "100%|██████████| 1/1 [00:00<00:00, 21.70it/s]\n",
      "100%|██████████| 1/1 [00:00<00:00, 26.25it/s]\n",
      "100%|██████████| 1/1 [00:00<00:00, 74.88it/s]\n",
      "100%|██████████| 1/1 [00:00<00:00, 18.71it/s]\n",
      "  0%|          | 0/1 [00:00<?, ?it/s]"
     ]
    },
    {
     "name": "stdout",
     "output_type": "stream",
     "text": [
      "665 (55, 7)\n",
      "666 (4, 7)\n",
      "667 (91, 7)\n",
      "668 (247, 7)\n"
     ]
    },
    {
     "name": "stderr",
     "output_type": "stream",
     "text": [
      "100%|██████████| 1/1 [00:00<00:00,  7.54it/s]\n",
      "100%|██████████| 1/1 [00:00<00:00, 16.27it/s]\n",
      "100%|██████████| 1/1 [00:00<00:00, 34.98it/s]\n",
      "  0%|          | 0/2 [00:00<?, ?it/s]"
     ]
    },
    {
     "name": "stdout",
     "output_type": "stream",
     "text": [
      "No columns to parse from file\n",
      "670 (104, 7)\n",
      "671 (35, 7)\n",
      "672 (435, 7)\n"
     ]
    },
    {
     "name": "stderr",
     "output_type": "stream",
     "text": [
      "100%|██████████| 2/2 [00:00<00:00,  8.46it/s]\n",
      "100%|██████████| 2/2 [00:00<00:00, 10.23it/s]"
     ]
    },
    {
     "name": "stdout",
     "output_type": "stream",
     "text": [
      "673 (354, 7)\n"
     ]
    },
    {
     "name": "stderr",
     "output_type": "stream",
     "text": [
      "\n",
      "100%|██████████| 1/1 [00:00<00:00, 17.78it/s]\n",
      "100%|██████████| 1/1 [00:00<00:00, 13.23it/s]\n",
      "  0%|          | 0/1 [00:00<?, ?it/s]"
     ]
    },
    {
     "name": "stdout",
     "output_type": "stream",
     "text": [
      "674 (92, 7)\n",
      "675 (133, 7)\n",
      "676 (80, 7)\n"
     ]
    },
    {
     "name": "stderr",
     "output_type": "stream",
     "text": [
      "100%|██████████| 1/1 [00:00<00:00, 19.73it/s]\n",
      "100%|██████████| 1/1 [00:00<00:00, 36.04it/s]\n",
      "100%|██████████| 1/1 [00:00<00:00,  8.58it/s]\n",
      "  0%|          | 0/1 [00:00<?, ?it/s]"
     ]
    },
    {
     "name": "stdout",
     "output_type": "stream",
     "text": [
      "677 (34, 7)\n",
      "678 (207, 7)\n",
      "No columns to parse from file\n",
      "680 (90, 7)\n"
     ]
    },
    {
     "name": "stderr",
     "output_type": "stream",
     "text": [
      "100%|██████████| 1/1 [00:00<00:00, 17.29it/s]\n",
      "100%|██████████| 1/1 [00:00<00:00, 26.48it/s]\n",
      "100%|██████████| 1/1 [00:00<00:00, 35.04it/s]\n",
      "100%|██████████| 1/1 [00:00<00:00, 49.68it/s]\n",
      "100%|██████████| 1/1 [00:00<00:00, 77.99it/s]\n",
      "100%|██████████| 1/1 [00:00<00:00, 35.79it/s]\n",
      "  0%|          | 0/1 [00:00<?, ?it/s]"
     ]
    },
    {
     "name": "stdout",
     "output_type": "stream",
     "text": [
      "681 (54, 7)\n",
      "682 (37, 7)\n",
      "683 (18, 7)\n",
      "684 (2, 7)\n",
      "685 (34, 7)\n",
      "686 (173, 7)\n"
     ]
    },
    {
     "name": "stderr",
     "output_type": "stream",
     "text": [
      "100%|██████████| 1/1 [00:00<00:00, 10.42it/s]\n",
      "100%|██████████| 1/1 [00:00<00:00, 12.29it/s]\n",
      "100%|██████████| 1/1 [00:00<00:00, 40.22it/s]\n",
      "100%|██████████| 1/1 [00:00<00:00, 61.03it/s]\n",
      "100%|██████████| 1/1 [00:00<00:00, 34.32it/s]\n",
      "  0%|          | 0/1 [00:00<?, ?it/s]"
     ]
    },
    {
     "name": "stdout",
     "output_type": "stream",
     "text": [
      "687 (142, 7)\n",
      "688 (28, 7)\n",
      "689 (10, 7)\n",
      "No columns to parse from file\n",
      "691 (32, 7)\n",
      "692 (32, 7)\n"
     ]
    },
    {
     "name": "stderr",
     "output_type": "stream",
     "text": [
      "100%|██████████| 1/1 [00:00<00:00, 37.07it/s]\n",
      "100%|██████████| 1/1 [00:00<00:00, 59.67it/s]\n",
      "100%|██████████| 1/1 [00:00<00:00, 50.60it/s]\n",
      "100%|██████████| 1/1 [00:00<00:00, 83.11it/s]\n",
      "100%|██████████| 1/1 [00:00<00:00, 80.23it/s]\n",
      "  0%|          | 0/1 [00:00<?, ?it/s]"
     ]
    },
    {
     "name": "stdout",
     "output_type": "stream",
     "text": [
      "693 (10, 7)\n",
      "694 (17, 7)\n",
      "695 (1, 7)\n",
      "696 (2, 7)\n",
      "No columns to parse from file\n",
      "698 (193, 7)\n"
     ]
    },
    {
     "name": "stderr",
     "output_type": "stream",
     "text": [
      "100%|██████████| 1/1 [00:00<00:00,  9.34it/s]\n",
      "100%|██████████| 1/1 [00:00<00:00, 55.81it/s]\n",
      "100%|██████████| 1/1 [00:00<00:00, 73.19it/s]\n",
      "100%|██████████| 1/1 [00:00<00:00, 40.53it/s]\n",
      "100%|██████████| 1/1 [00:00<00:00, 37.33it/s]\n",
      "  0%|          | 0/3 [00:00<?, ?it/s]"
     ]
    },
    {
     "name": "stdout",
     "output_type": "stream",
     "text": [
      "699 (14, 7)\n",
      "No columns to parse from file\n",
      "No columns to parse from file\n",
      "No columns to parse from file\n",
      "703 (5, 7)\n",
      "No columns to parse from file\n",
      "705 (28, 7)\n",
      "706 (34, 7)\n",
      "707 (583, 7)\n"
     ]
    },
    {
     "name": "stderr",
     "output_type": "stream",
     "text": [
      "100%|██████████| 3/3 [00:00<00:00,  9.75it/s]\n",
      "100%|██████████| 1/1 [00:00<00:00, 48.25it/s]\n",
      "100%|██████████| 1/1 [00:00<00:00, 57.26it/s]\n",
      "100%|██████████| 1/1 [00:00<00:00, 63.11it/s]\n",
      "100%|██████████| 1/1 [00:00<00:00, 78.20it/s]\n",
      "100%|██████████| 1/1 [00:00<00:00, 11.16it/s]"
     ]
    },
    {
     "name": "stdout",
     "output_type": "stream",
     "text": [
      "No columns to parse from file\n",
      "709 (20, 7)\n",
      "No columns to parse from file\n",
      "711 (13, 7)\n",
      "No columns to parse from file\n",
      "713 (8, 7)\n",
      "714 (2, 7)\n",
      "No columns to parse from file\n",
      "716 (167, 7)\n"
     ]
    },
    {
     "name": "stderr",
     "output_type": "stream",
     "text": [
      "\n",
      "100%|██████████| 1/1 [00:00<00:00, 66.16it/s]\n",
      "100%|██████████| 1/1 [00:00<00:00, 24.79it/s]\n",
      "100%|██████████| 1/1 [00:00<00:00, 62.29it/s]\n",
      "100%|██████████| 1/1 [00:00<00:00, 67.67it/s]\n",
      "  0%|          | 0/2 [00:00<?, ?it/s]"
     ]
    },
    {
     "name": "stdout",
     "output_type": "stream",
     "text": [
      "717 (6, 7)\n",
      "718 (62, 7)\n",
      "719 (9, 7)\n",
      "720 (5, 7)\n",
      "721 (299, 7)\n"
     ]
    },
    {
     "name": "stderr",
     "output_type": "stream",
     "text": [
      "100%|██████████| 2/2 [00:00<00:00, 12.32it/s]\n",
      "/home/bakirillov/HDD/works/Skoltech/CRISPR_CAD/uace/src/core.py:966: RuntimeWarning: invalid value encountered in true_divide\n",
      "  self.S[self.label_column]\n",
      "100%|██████████| 1/1 [00:00<00:00, 69.55it/s]\n",
      "100%|██████████| 1/1 [00:00<00:00, 64.83it/s]\n",
      "100%|██████████| 1/1 [00:00<00:00, 83.42it/s]\n",
      "100%|██████████| 1/1 [00:00<00:00, 35.11it/s]\n",
      "100%|██████████| 1/1 [00:00<00:00, 77.44it/s]\n",
      "100%|██████████| 1/1 [00:00<00:00, 33.88it/s]\n",
      "100%|██████████| 1/1 [00:00<00:00, 37.28it/s]"
     ]
    },
    {
     "name": "stdout",
     "output_type": "stream",
     "text": [
      "722 (6, 7)\n",
      "723 (7, 7)\n",
      "724 (2, 7)\n",
      "725 (29, 7)\n",
      "726 (4, 7)\n",
      "727 (38, 7)\n",
      "728 (34, 7)\n"
     ]
    },
    {
     "name": "stderr",
     "output_type": "stream",
     "text": [
      "\n",
      "100%|██████████| 1/1 [00:00<00:00, 28.63it/s]\n",
      "100%|██████████| 1/1 [00:00<00:00, 54.75it/s]\n",
      "100%|██████████| 1/1 [00:00<00:00, 22.77it/s]\n",
      "  0%|          | 0/1 [00:00<?, ?it/s]"
     ]
    },
    {
     "name": "stdout",
     "output_type": "stream",
     "text": [
      "729 (50, 7)\n",
      "730 (13, 7)\n",
      "731 (70, 7)\n",
      "732 (144, 7)\n"
     ]
    },
    {
     "name": "stderr",
     "output_type": "stream",
     "text": [
      "100%|██████████| 1/1 [00:00<00:00, 12.65it/s]\n",
      "100%|██████████| 1/1 [00:00<00:00, 40.48it/s]\n",
      "100%|██████████| 1/1 [00:00<00:00, 18.51it/s]\n",
      "100%|██████████| 1/1 [00:00<00:00, 36.67it/s]\n",
      "100%|██████████| 1/1 [00:00<00:00, 64.98it/s]\n",
      "100%|██████████| 1/1 [00:00<00:00, 79.04it/s]\n",
      "100%|██████████| 1/1 [00:00<00:00, 61.63it/s]"
     ]
    },
    {
     "name": "stdout",
     "output_type": "stream",
     "text": [
      "733 (27, 7)\n",
      "734 (92, 7)\n",
      "No columns to parse from file\n",
      "736 (32, 7)\n",
      "737 (7, 7)\n",
      "738 (1, 7)\n",
      "739 (10, 7)\n",
      "No columns to parse from file\n",
      "741 (3, 7)\n"
     ]
    },
    {
     "name": "stderr",
     "output_type": "stream",
     "text": [
      "\n",
      "100%|██████████| 1/1 [00:00<00:00, 78.87it/s]\n",
      "100%|██████████| 1/1 [00:00<00:00, 72.28it/s]\n",
      "100%|██████████| 1/1 [00:00<00:00,  7.63it/s]\n",
      "100%|██████████| 1/1 [00:00<00:00, 62.41it/s]\n",
      "  0%|          | 0/1 [00:00<?, ?it/s]"
     ]
    },
    {
     "name": "stdout",
     "output_type": "stream",
     "text": [
      "No columns to parse from file\n",
      "No columns to parse from file\n",
      "744 (3, 7)\n",
      "745 (253, 7)\n",
      "746 (11, 7)\n",
      "747 (1, 7)\n"
     ]
    },
    {
     "name": "stderr",
     "output_type": "stream",
     "text": [
      "100%|██████████| 1/1 [00:00<00:00, 86.00it/s]\n",
      "100%|██████████| 1/1 [00:00<00:00, 15.23it/s]\n",
      "100%|██████████| 1/1 [00:00<00:00, 70.97it/s]\n",
      "100%|██████████| 1/1 [00:00<00:00, 49.62it/s]\n",
      "100%|██████████| 1/1 [00:00<00:00, 48.23it/s]\n",
      "100%|██████████| 1/1 [00:00<00:00, 38.25it/s]\n",
      "  0%|          | 0/1 [00:00<?, ?it/s]"
     ]
    },
    {
     "name": "stdout",
     "output_type": "stream",
     "text": [
      "748 (107, 7)\n",
      "749 (5, 7)\n",
      "750 (17, 7)\n",
      "751 (19, 7)\n",
      "752 (30, 7)\n",
      "753 (120, 7)\n"
     ]
    },
    {
     "name": "stderr",
     "output_type": "stream",
     "text": [
      "100%|██████████| 1/1 [00:00<00:00, 14.50it/s]\n",
      "100%|██████████| 1/1 [00:00<00:00, 18.93it/s]\n",
      "100%|██████████| 1/1 [00:00<00:00, 38.48it/s]\n",
      "100%|██████████| 1/1 [00:00<00:00, 58.04it/s]\n",
      "100%|██████████| 1/1 [00:00<00:00, 21.99it/s]\n",
      "100%|██████████| 1/1 [00:00<00:00, 86.96it/s]\n",
      "  0%|          | 0/1 [00:00<?, ?it/s]"
     ]
    },
    {
     "name": "stdout",
     "output_type": "stream",
     "text": [
      "754 (88, 7)\n",
      "No columns to parse from file\n",
      "No columns to parse from file\n",
      "No columns to parse from file\n",
      "758 (30, 7)\n",
      "No columns to parse from file\n",
      "No columns to parse from file\n",
      "No columns to parse from file\n",
      "762 (11, 7)\n",
      "763 (71, 7)\n",
      "764 (1, 7)\n",
      "765 (1, 7)\n"
     ]
    },
    {
     "name": "stderr",
     "output_type": "stream",
     "text": [
      "100%|██████████| 1/1 [00:00<00:00, 80.73it/s]\n",
      "100%|██████████| 1/1 [00:00<00:00, 24.08it/s]\n",
      "100%|██████████| 1/1 [00:00<00:00, 23.78it/s]\n",
      "100%|██████████| 1/1 [00:00<00:00, 32.78it/s]\n",
      "100%|██████████| 1/1 [00:00<00:00, 71.79it/s]\n",
      "  0%|          | 0/1 [00:00<?, ?it/s]"
     ]
    },
    {
     "name": "stdout",
     "output_type": "stream",
     "text": [
      "766 (63, 7)\n",
      "767 (65, 7)\n",
      "768 (40, 7)\n",
      "769 (5, 7)\n",
      "770 (174, 7)\n"
     ]
    },
    {
     "name": "stderr",
     "output_type": "stream",
     "text": [
      "100%|██████████| 1/1 [00:00<00:00, 10.51it/s]\n",
      "100%|██████████| 1/1 [00:00<00:00, 13.40it/s]\n",
      "  0%|          | 0/2 [00:00<?, ?it/s]"
     ]
    },
    {
     "name": "stdout",
     "output_type": "stream",
     "text": [
      "771 (136, 7)\n",
      "772 (372, 7)\n"
     ]
    },
    {
     "name": "stderr",
     "output_type": "stream",
     "text": [
      "100%|██████████| 2/2 [00:00<00:00, 10.28it/s]\n",
      "100%|██████████| 1/1 [00:00<00:00, 79.43it/s]\n",
      "100%|██████████| 1/1 [00:00<00:00, 60.62it/s]\n",
      "100%|██████████| 1/1 [00:00<00:00, 57.65it/s]\n",
      "100%|██████████| 1/1 [00:00<00:00, 28.66it/s]\n",
      "100%|██████████| 1/1 [00:00<00:00, 62.58it/s]\n",
      "100%|██████████| 1/1 [00:00<00:00, 73.68it/s]\n",
      "  0%|          | 0/1 [00:00<?, ?it/s]"
     ]
    },
    {
     "name": "stdout",
     "output_type": "stream",
     "text": [
      "773 (3, 7)\n",
      "774 (7, 7)\n",
      "775 (12, 7)\n",
      "No columns to parse from file\n",
      "777 (42, 7)\n",
      "No columns to parse from file\n",
      "No columns to parse from file\n",
      "780 (10, 7)\n",
      "No columns to parse from file\n",
      "782 (4, 7)\n",
      "783 (116, 7)\n"
     ]
    },
    {
     "name": "stderr",
     "output_type": "stream",
     "text": [
      "100%|██████████| 1/1 [00:00<00:00, 14.82it/s]\n",
      "/home/bakirillov/HDD/works/Skoltech/CRISPR_CAD/uace/src/core.py:966: RuntimeWarning: invalid value encountered in true_divide\n",
      "  self.S[self.label_column]\n",
      "100%|██████████| 1/1 [00:00<00:00, 65.40it/s]\n",
      "100%|██████████| 1/1 [00:00<00:00, 76.38it/s]\n",
      "100%|██████████| 1/1 [00:00<00:00, 23.83it/s]\n",
      "100%|██████████| 1/1 [00:00<00:00, 25.55it/s]\n",
      "100%|██████████| 1/1 [00:00<00:00, 35.35it/s]\n",
      "  0%|          | 0/1 [00:00<?, ?it/s]"
     ]
    },
    {
     "name": "stdout",
     "output_type": "stream",
     "text": [
      "784 (6, 7)\n",
      "785 (2, 7)\n",
      "786 (66, 7)\n",
      "787 (58, 7)\n",
      "788 (36, 7)\n",
      "789 (36, 7)\n"
     ]
    },
    {
     "name": "stderr",
     "output_type": "stream",
     "text": [
      "100%|██████████| 1/1 [00:00<00:00, 35.15it/s]\n",
      "100%|██████████| 1/1 [00:00<00:00, 19.81it/s]\n",
      "100%|██████████| 1/1 [00:00<00:00, 37.42it/s]\n",
      "100%|██████████| 1/1 [00:00<00:00, 38.14it/s]\n",
      "100%|██████████| 1/1 [00:00<00:00, 49.79it/s]\n",
      "100%|██████████| 1/1 [00:00<00:00, 71.23it/s]\n",
      "  0%|          | 0/1 [00:00<?, ?it/s]"
     ]
    },
    {
     "name": "stdout",
     "output_type": "stream",
     "text": [
      "790 (81, 7)\n",
      "No columns to parse from file\n",
      "No columns to parse from file\n",
      "793 (33, 7)\n",
      "794 (31, 7)\n",
      "795 (19, 7)\n",
      "796 (3, 7)\n",
      "797 (11, 7)\n"
     ]
    },
    {
     "name": "stderr",
     "output_type": "stream",
     "text": [
      "100%|██████████| 1/1 [00:00<00:00, 47.71it/s]\n",
      "100%|██████████| 1/1 [00:00<00:00, 18.79it/s]\n",
      "100%|██████████| 1/1 [00:00<00:00, 79.85it/s]\n",
      "100%|██████████| 1/1 [00:00<00:00, 50.83it/s]\n",
      "100%|██████████| 1/1 [00:00<00:00, 31.00it/s]\n",
      "100%|██████████| 1/1 [00:00<00:00, 45.76it/s]\n",
      "  0%|          | 0/1 [00:00<?, ?it/s]"
     ]
    },
    {
     "name": "stdout",
     "output_type": "stream",
     "text": [
      "798 (87, 7)\n",
      "799 (2, 7)\n",
      "800 (16, 7)\n",
      "801 (41, 7)\n",
      "802 (23, 7)\n",
      "803 (121, 7)\n"
     ]
    },
    {
     "name": "stderr",
     "output_type": "stream",
     "text": [
      "100%|██████████| 1/1 [00:00<00:00, 14.59it/s]\n",
      "100%|██████████| 1/1 [00:00<00:00, 35.70it/s]\n",
      "100%|██████████| 1/1 [00:00<00:00, 20.90it/s]\n",
      "100%|██████████| 1/1 [00:00<00:00, 77.13it/s]\n",
      "  0%|          | 0/2 [00:00<?, ?it/s]"
     ]
    },
    {
     "name": "stdout",
     "output_type": "stream",
     "text": [
      "804 (35, 7)\n",
      "No columns to parse from file\n",
      "806 (79, 7)\n",
      "807 (4, 7)\n",
      "808 (499, 7)\n"
     ]
    },
    {
     "name": "stderr",
     "output_type": "stream",
     "text": [
      "100%|██████████| 2/2 [00:00<00:00,  7.77it/s]\n",
      "100%|██████████| 1/1 [00:00<00:00, 26.60it/s]\n",
      "100%|██████████| 1/1 [00:00<00:00, 19.28it/s]\n",
      "100%|██████████| 1/1 [00:00<00:00, 76.07it/s]\n",
      "100%|██████████| 1/1 [00:00<00:00, 26.03it/s]\n",
      "  0%|          | 0/1 [00:00<?, ?it/s]"
     ]
    },
    {
     "name": "stdout",
     "output_type": "stream",
     "text": [
      "No columns to parse from file\n",
      "810 (58, 7)\n",
      "811 (89, 7)\n",
      "812 (2, 7)\n",
      "813 (59, 7)\n",
      "814 (76, 7)\n"
     ]
    },
    {
     "name": "stderr",
     "output_type": "stream",
     "text": [
      "100%|██████████| 1/1 [00:00<00:00, 21.19it/s]\n",
      "100%|██████████| 1/1 [00:00<00:00, 64.59it/s]\n",
      "100%|██████████| 1/1 [00:00<00:00, 53.59it/s]\n",
      "100%|██████████| 1/1 [00:00<00:00, 85.89it/s]\n",
      "100%|██████████| 1/1 [00:00<00:00, 81.38it/s]\n",
      "100%|██████████| 1/1 [00:00<00:00, 72.19it/s]\n",
      "100%|██████████| 1/1 [00:00<00:00, 21.39it/s]\n",
      "100%|██████████| 1/1 [00:00<00:00, 61.18it/s]\n",
      "  0%|          | 0/1 [00:00<?, ?it/s]"
     ]
    },
    {
     "name": "stdout",
     "output_type": "stream",
     "text": [
      "815 (6, 7)\n",
      "816 (15, 7)\n",
      "817 (1, 7)\n",
      "No columns to parse from file\n",
      "No columns to parse from file\n",
      "820 (1, 7)\n",
      "821 (3, 7)\n",
      "822 (74, 7)\n",
      "823 (10, 7)\n",
      "824 (44, 7)\n"
     ]
    },
    {
     "name": "stderr",
     "output_type": "stream",
     "text": [
      "100%|██████████| 1/1 [00:00<00:00, 29.54it/s]\n",
      "100%|██████████| 1/1 [00:00<00:00, 78.77it/s]\n",
      "100%|██████████| 1/1 [00:00<00:00, 82.77it/s]\n",
      " 50%|█████     | 1/2 [00:00<00:00,  6.86it/s]"
     ]
    },
    {
     "name": "stdout",
     "output_type": "stream",
     "text": [
      "825 (3, 7)\n",
      "No columns to parse from file\n",
      "827 (1, 7)\n",
      "828 (468, 7)\n"
     ]
    },
    {
     "name": "stderr",
     "output_type": "stream",
     "text": [
      "100%|██████████| 2/2 [00:00<00:00,  7.61it/s]\n",
      "100%|██████████| 1/1 [00:00<00:00, 27.22it/s]\n",
      "100%|██████████| 1/1 [00:00<00:00,  8.58it/s]\n",
      "  0%|          | 0/1 [00:00<?, ?it/s]"
     ]
    },
    {
     "name": "stdout",
     "output_type": "stream",
     "text": [
      "829 (55, 7)\n",
      "830 (227, 7)\n",
      "831 (131, 7)\n"
     ]
    },
    {
     "name": "stderr",
     "output_type": "stream",
     "text": [
      "100%|██████████| 1/1 [00:00<00:00, 13.59it/s]\n",
      "100%|██████████| 1/1 [00:00<00:00, 40.82it/s]\n",
      "100%|██████████| 1/1 [00:00<00:00, 33.60it/s]\n",
      "100%|██████████| 1/1 [00:00<00:00, 70.40it/s]\n",
      "100%|██████████| 1/1 [00:00<00:00, 59.00it/s]\n",
      "100%|██████████| 1/1 [00:00<00:00, 43.55it/s]\n",
      "100%|██████████| 1/1 [00:00<00:00, 59.66it/s]\n",
      "100%|██████████| 1/1 [00:00<00:00, 81.65it/s]\n"
     ]
    },
    {
     "name": "stdout",
     "output_type": "stream",
     "text": [
      "No columns to parse from file\n",
      "833 (29, 7)\n",
      "834 (40, 7)\n",
      "835 (5, 7)\n",
      "836 (10, 7)\n",
      "837 (23, 7)\n",
      "838 (11, 7)\n",
      "839 (2, 7)\n",
      "840"
     ]
    },
    {
     "name": "stderr",
     "output_type": "stream",
     "text": [
      "100%|██████████| 1/1 [00:00<00:00, 44.60it/s]\n",
      "100%|██████████| 1/1 [00:00<00:00, 60.92it/s]\n",
      "100%|██████████| 1/1 [00:00<00:00, 19.09it/s]\n",
      "100%|██████████| 1/1 [00:00<00:00,  9.78it/s]\n",
      "  0%|          | 0/1 [00:00<?, ?it/s]"
     ]
    },
    {
     "name": "stdout",
     "output_type": "stream",
     "text": [
      " (20, 7)\n",
      "841 (10, 7)\n",
      "842 (86, 7)\n",
      "843 (195, 7)\n",
      "844 (30, 7)\n"
     ]
    },
    {
     "name": "stderr",
     "output_type": "stream",
     "text": [
      "100%|██████████| 1/1 [00:00<00:00, 38.93it/s]\n",
      "100%|██████████| 1/1 [00:00<00:00, 43.75it/s]\n",
      "100%|██████████| 1/1 [00:00<00:00, 12.98it/s]\n",
      "100%|██████████| 1/1 [00:00<00:00, 55.95it/s]\n",
      "100%|██████████| 1/1 [00:00<00:00, 28.84it/s]\n",
      "  0%|          | 0/1 [00:00<?, ?it/s]"
     ]
    },
    {
     "name": "stdout",
     "output_type": "stream",
     "text": [
      "845 (26, 7)\n",
      "846 (144, 7)\n",
      "847 (15, 7)\n",
      "848 (47, 7)\n",
      "849 (69, 7)\n"
     ]
    },
    {
     "name": "stderr",
     "output_type": "stream",
     "text": [
      "100%|██████████| 1/1 [00:00<00:00, 22.45it/s]\n",
      "100%|██████████| 1/1 [00:00<00:00, 38.60it/s]\n",
      "100%|██████████| 1/1 [00:00<00:00, 81.70it/s]\n",
      "100%|██████████| 1/1 [00:00<00:00, 81.36it/s]\n",
      "100%|██████████| 1/1 [00:00<00:00, 66.77it/s]\n",
      "100%|██████████| 1/1 [00:00<00:00, 64.80it/s]\n",
      "100%|██████████| 1/1 [00:00<00:00, 65.42it/s]\n",
      "  0%|          | 0/1 [00:00<?, ?it/s]"
     ]
    },
    {
     "name": "stdout",
     "output_type": "stream",
     "text": [
      "850 (31, 7)\n",
      "851 (2, 7)\n",
      "852 (2, 7)\n",
      "853 (6, 7)\n",
      "854 (8, 7)\n",
      "855 (8, 7)\n",
      "856 (252, 7)\n"
     ]
    },
    {
     "name": "stderr",
     "output_type": "stream",
     "text": [
      "100%|██████████| 1/1 [00:00<00:00,  7.61it/s]\n",
      "100%|██████████| 1/1 [00:00<00:00, 15.06it/s]\n",
      "100%|██████████| 1/1 [00:00<00:00, 83.00it/s]\n",
      "100%|██████████| 1/1 [00:00<00:00, 74.07it/s]\n",
      "/home/bakirillov/HDD/works/Skoltech/CRISPR_CAD/uace/src/core.py:966: RuntimeWarning: invalid value encountered in true_divide\n",
      "  self.S[self.label_column]\n",
      "100%|██████████| 1/1 [00:00<00:00, 72.67it/s]\n",
      "100%|██████████| 1/1 [00:00<00:00, 58.20it/s]\n",
      "100%|██████████| 1/1 [00:00<00:00, 58.42it/s]\n",
      "  0%|          | 0/1 [00:00<?, ?it/s]"
     ]
    },
    {
     "name": "stdout",
     "output_type": "stream",
     "text": [
      "857 (118, 7)\n",
      "858 (2, 7)\n",
      "859 (5, 7)\n",
      "860 (6, 7)\n",
      "861 (12, 7)\n",
      "862 (6, 7)\n",
      "863 (11, 7)\n"
     ]
    },
    {
     "name": "stderr",
     "output_type": "stream",
     "text": [
      "100%|██████████| 1/1 [00:00<00:00, 56.79it/s]\n",
      " 50%|█████     | 1/2 [00:00<00:00,  7.66it/s]"
     ]
    },
    {
     "name": "stdout",
     "output_type": "stream",
     "text": [
      "864 (430, 7)\n"
     ]
    },
    {
     "name": "stderr",
     "output_type": "stream",
     "text": [
      "100%|██████████| 2/2 [00:00<00:00,  8.97it/s]\n",
      "100%|██████████| 1/1 [00:00<00:00, 24.27it/s]\n",
      "100%|██████████| 1/1 [00:00<00:00, 66.47it/s]\n",
      "100%|██████████| 1/1 [00:00<00:00,  9.34it/s]\n",
      "  0%|          | 0/1 [00:00<?, ?it/s]"
     ]
    },
    {
     "name": "stdout",
     "output_type": "stream",
     "text": [
      "No columns to parse from file\n",
      "866 (65, 7)\n",
      "No columns to parse from file\n",
      "868 (5, 7)\n",
      "869 (206, 7)\n",
      "No columns to parse from file\n",
      "871 (18, 7)\n"
     ]
    },
    {
     "name": "stderr",
     "output_type": "stream",
     "text": [
      "100%|██████████| 1/1 [00:00<00:00, 48.97it/s]\n",
      "100%|██████████| 1/1 [00:00<00:00, 69.64it/s]\n",
      "/home/bakirillov/HDD/works/Skoltech/CRISPR_CAD/uace/src/core.py:966: RuntimeWarning: invalid value encountered in true_divide\n",
      "  self.S[self.label_column]\n",
      "100%|██████████| 1/1 [00:00<00:00, 71.64it/s]\n",
      "100%|██████████| 1/1 [00:00<00:00, 52.29it/s]\n",
      "/home/bakirillov/HDD/works/Skoltech/CRISPR_CAD/uace/src/core.py:966: RuntimeWarning: invalid value encountered in true_divide\n",
      "  self.S[self.label_column]\n",
      "100%|██████████| 1/1 [00:00<00:00, 54.39it/s]\n",
      "100%|██████████| 1/1 [00:00<00:00, 85.01it/s]\n",
      "100%|██████████| 1/1 [00:00<00:00, 78.06it/s]\n",
      "100%|██████████| 1/1 [00:00<00:00, 67.09it/s]\n",
      "100%|██████████| 1/1 [00:00<00:00, 45.44it/s]\n",
      "  0%|          | 0/1 [00:00<?, ?it/s]"
     ]
    },
    {
     "name": "stdout",
     "output_type": "stream",
     "text": [
      "872 (7, 7)\n",
      "873 (6, 7)\n",
      "874 (17, 7)\n",
      "875 (6, 7)\n",
      "876 (1, 7)\n",
      "877 (2, 7)\n",
      "878 (7, 7)\n",
      "879 (21, 7)\n",
      "880 (29, 7)\n"
     ]
    },
    {
     "name": "stderr",
     "output_type": "stream",
     "text": [
      "100%|██████████| 1/1 [00:00<00:00, 38.08it/s]\n",
      "100%|██████████| 1/1 [00:00<00:00, 57.13it/s]\n",
      "100%|██████████| 1/1 [00:00<00:00, 73.74it/s]\n",
      "100%|██████████| 1/1 [00:00<00:00, 37.39it/s]\n",
      "100%|██████████| 1/1 [00:00<00:00, 21.18it/s]\n",
      "100%|██████████| 1/1 [00:00<00:00, 32.13it/s]\n",
      "100%|██████████| 1/1 [00:00<00:00, 77.67it/s]"
     ]
    },
    {
     "name": "stdout",
     "output_type": "stream",
     "text": [
      "881 (13, 7)\n",
      "No columns to parse from file\n",
      "883 (3, 7)\n",
      "884 (32, 7)\n",
      "885 (75, 7)\n",
      "No columns to parse from file\n",
      "No columns to parse from file\n",
      "888 (42, 7)\n",
      "889 (4, 7)\n"
     ]
    },
    {
     "name": "stderr",
     "output_type": "stream",
     "text": [
      "\n",
      "100%|██████████| 1/1 [00:00<00:00, 64.09it/s]\n",
      "/home/bakirillov/HDD/works/Skoltech/CRISPR_CAD/uace/src/core.py:966: RuntimeWarning: invalid value encountered in true_divide\n",
      "  self.S[self.label_column]\n",
      "100%|██████████| 1/1 [00:00<00:00, 66.51it/s]\n",
      "100%|██████████| 1/1 [00:00<00:00, 42.54it/s]\n",
      "100%|██████████| 1/1 [00:00<00:00, 85.48it/s]\n",
      "100%|██████████| 1/1 [00:00<00:00, 16.23it/s]\n",
      "100%|██████████| 1/1 [00:00<00:00, 74.11it/s]\n",
      "  0%|          | 0/1 [00:00<?, ?it/s]"
     ]
    },
    {
     "name": "stdout",
     "output_type": "stream",
     "text": [
      "890 (4, 7)\n",
      "891 (6, 7)\n",
      "892 (26, 7)\n",
      "893 (1, 7)\n",
      "894 (101, 7)\n",
      "No columns to parse from file\n",
      "896 (4, 7)\n",
      "897 (48, 7)\n"
     ]
    },
    {
     "name": "stderr",
     "output_type": "stream",
     "text": [
      "100%|██████████| 1/1 [00:00<00:00, 27.83it/s]\n",
      "100%|██████████| 1/1 [00:00<00:00, 72.87it/s]\n",
      "100%|██████████| 1/1 [00:00<00:00, 28.53it/s]\n",
      "100%|██████████| 1/1 [00:00<00:00, 28.51it/s]\n",
      "100%|██████████| 1/1 [00:00<00:00, 42.14it/s]\n",
      "100%|██████████| 1/1 [00:00<00:00, 30.34it/s]\n",
      "  0%|          | 0/1 [00:00<?, ?it/s]"
     ]
    },
    {
     "name": "stdout",
     "output_type": "stream",
     "text": [
      "898 (4, 7)\n",
      "899 (48, 7)\n",
      "900 (49, 7)\n",
      "901 (23, 7)\n",
      "902 (47, 7)\n",
      "No columns to parse from file\n",
      "904 (37, 7)\n"
     ]
    },
    {
     "name": "stderr",
     "output_type": "stream",
     "text": [
      "100%|██████████| 1/1 [00:00<00:00, 32.71it/s]\n",
      "100%|██████████| 1/1 [00:00<00:00, 16.81it/s]\n",
      "100%|██████████| 1/1 [00:00<00:00, 76.19it/s]\n",
      "100%|██████████| 1/1 [00:00<00:00, 38.73it/s]\n",
      "100%|██████████| 1/1 [00:00<00:00, 41.94it/s]\n",
      "  0%|          | 0/1 [00:00<?, ?it/s]"
     ]
    },
    {
     "name": "stdout",
     "output_type": "stream",
     "text": [
      "No columns to parse from file\n",
      "No columns to parse from file\n",
      "907 (100, 7)\n",
      "908 (3, 7)\n",
      "909 (28, 7)\n",
      "910 (23, 7)\n",
      "911 (55, 7)\n"
     ]
    },
    {
     "name": "stderr",
     "output_type": "stream",
     "text": [
      "100%|██████████| 1/1 [00:00<00:00, 26.20it/s]\n",
      "100%|██████████| 1/1 [00:00<00:00, 38.85it/s]\n",
      "100%|██████████| 1/1 [00:00<00:00, 20.67it/s]\n",
      "100%|██████████| 1/1 [00:00<00:00, 13.85it/s]\n",
      "100%|██████████| 1/1 [00:00<00:00, 76.84it/s]\n",
      "  0%|          | 0/1 [00:00<?, ?it/s]"
     ]
    },
    {
     "name": "stdout",
     "output_type": "stream",
     "text": [
      "912 (31, 7)\n",
      "913 (81, 7)\n",
      "914 (129, 7)\n",
      "915 (4, 7)\n",
      "916 (109, 7)\n"
     ]
    },
    {
     "name": "stderr",
     "output_type": "stream",
     "text": [
      "100%|██████████| 1/1 [00:00<00:00, 15.27it/s]\n",
      "100%|██████████| 1/1 [00:00<00:00, 50.75it/s]\n",
      "100%|██████████| 1/1 [00:00<00:00, 76.01it/s]\n",
      "100%|██████████| 1/1 [00:00<00:00, 78.98it/s]\n",
      "100%|██████████| 1/1 [00:00<00:00, 58.99it/s]\n",
      "100%|██████████| 1/1 [00:00<00:00, 67.14it/s]\n",
      "100%|██████████| 1/1 [00:00<00:00, 43.61it/s]\n",
      "100%|██████████| 1/1 [00:00<00:00, 52.52it/s]\n",
      "100%|██████████| 1/1 [00:00<00:00, 58.26it/s]"
     ]
    },
    {
     "name": "stdout",
     "output_type": "stream",
     "text": [
      "917 (16, 7)\n",
      "918 (2, 7)\n",
      "919 (2, 7)\n",
      "920 (12, 7)\n",
      "921 (7, 7)\n",
      "No columns to parse from file\n",
      "923 (22, 7)\n",
      "924 (16, 7)\n",
      "No columns to parse from file\n",
      "926 (12, 7)\n"
     ]
    },
    {
     "name": "stderr",
     "output_type": "stream",
     "text": [
      "\n",
      "100%|██████████| 1/1 [00:00<00:00, 67.34it/s]\n",
      "100%|██████████| 1/1 [00:00<00:00, 30.45it/s]\n",
      "100%|██████████| 1/1 [00:00<00:00, 81.44it/s]\n",
      "100%|██████████| 1/1 [00:00<00:00, 16.53it/s]\n",
      "100%|██████████| 1/1 [00:00<00:00, 50.11it/s]\n",
      "  0%|          | 0/1 [00:00<?, ?it/s]"
     ]
    },
    {
     "name": "stdout",
     "output_type": "stream",
     "text": [
      "927 (7, 7)\n",
      "928 (44, 7)\n",
      "929 (2, 7)\n",
      "No columns to parse from file\n",
      "931 (103, 7)\n",
      "No columns to parse from file\n",
      "933 (18, 7)\n",
      "934 (34, 7)\n"
     ]
    },
    {
     "name": "stderr",
     "output_type": "stream",
     "text": [
      "100%|██████████| 1/1 [00:00<00:00, 34.12it/s]\n",
      "100%|██████████| 1/1 [00:00<00:00, 55.71it/s]\n",
      "100%|██████████| 1/1 [00:00<00:00, 55.83it/s]\n",
      "100%|██████████| 1/1 [00:00<00:00, 29.84it/s]\n",
      "100%|██████████| 1/1 [00:00<00:00, 42.53it/s]\n",
      "100%|██████████| 1/1 [00:00<00:00, 80.26it/s]\n",
      "100%|██████████| 1/1 [00:00<00:00, 82.89it/s]\n",
      "100%|██████████| 1/1 [00:00<00:00, 48.74it/s]\n",
      "  0%|          | 0/2 [00:00<?, ?it/s]"
     ]
    },
    {
     "name": "stdout",
     "output_type": "stream",
     "text": [
      "935 (13, 7)\n",
      "936 (13, 7)\n",
      "937 (46, 7)\n",
      "938 (26, 7)\n",
      "No columns to parse from file\n",
      "940 (2, 7)\n",
      "No columns to parse from file\n",
      "942 (1, 7)\n",
      "943 (18, 7)\n",
      "944 (360, 7)\n"
     ]
    },
    {
     "name": "stderr",
     "output_type": "stream",
     "text": [
      "100%|██████████| 2/2 [00:00<00:00, 10.38it/s]\n",
      "100%|██████████| 1/1 [00:00<00:00, 32.88it/s]\n",
      "100%|██████████| 1/1 [00:00<00:00, 18.72it/s]\n",
      "100%|██████████| 1/1 [00:00<00:00, 83.25it/s]\n",
      "  0%|          | 0/1 [00:00<?, ?it/s]"
     ]
    },
    {
     "name": "stdout",
     "output_type": "stream",
     "text": [
      "945 (36, 7)\n",
      "946 (92, 7)\n",
      "947 (2, 7)\n",
      "No columns to parse from file\n",
      "949 (146, 7)\n"
     ]
    },
    {
     "name": "stderr",
     "output_type": "stream",
     "text": [
      "100%|██████████| 1/1 [00:00<00:00, 12.45it/s]\n",
      "100%|██████████| 1/1 [00:00<00:00, 40.90it/s]\n",
      "100%|██████████| 1/1 [00:00<00:00, 64.44it/s]\n",
      "100%|██████████| 1/1 [00:00<00:00, 59.58it/s]\n",
      "100%|██████████| 1/1 [00:00<00:00, 65.26it/s]\n",
      "100%|██████████| 1/1 [00:00<00:00, 44.22it/s]\n",
      "  0%|          | 0/1 [00:00<?, ?it/s]"
     ]
    },
    {
     "name": "stdout",
     "output_type": "stream",
     "text": [
      "950 (27, 7)\n",
      "951 (4, 7)\n",
      "952 (10, 7)\n",
      "953 (7, 7)\n",
      "954 (22, 7)\n",
      "955 (256, 7)\n"
     ]
    },
    {
     "name": "stderr",
     "output_type": "stream",
     "text": [
      "100%|██████████| 1/1 [00:00<00:00,  7.43it/s]\n",
      "/home/bakirillov/HDD/works/Skoltech/CRISPR_CAD/uace/src/core.py:966: RuntimeWarning: invalid value encountered in true_divide\n",
      "  self.S[self.label_column]\n",
      "100%|██████████| 1/1 [00:00<00:00, 69.27it/s]\n",
      "100%|██████████| 1/1 [00:00<00:00, 58.12it/s]\n",
      "100%|██████████| 1/1 [00:00<00:00, 63.98it/s]\n",
      "100%|██████████| 1/1 [00:00<00:00, 20.60it/s]\n",
      "100%|██████████| 1/1 [00:00<00:00, 26.41it/s]\n",
      "  0%|          | 0/2 [00:00<?, ?it/s]"
     ]
    },
    {
     "name": "stdout",
     "output_type": "stream",
     "text": [
      "956 (6, 7)\n",
      "957 (13, 7)\n",
      "958 (10, 7)\n",
      "959 (79, 7)\n",
      "960 (55, 7)\n",
      "961 (301, 7)\n"
     ]
    },
    {
     "name": "stderr",
     "output_type": "stream",
     "text": [
      "100%|██████████| 2/2 [00:00<00:00, 11.67it/s]\n",
      "100%|██████████| 1/1 [00:00<00:00, 23.65it/s]\n",
      "100%|██████████| 1/1 [00:00<00:00, 45.83it/s]\n",
      "100%|██████████| 1/1 [00:00<00:00, 29.23it/s]\n",
      "100%|██████████| 1/1 [00:00<00:00, 26.62it/s]\n",
      "100%|██████████| 1/1 [00:00<00:00, 63.91it/s]\n",
      "  0%|          | 0/1 [00:00<?, ?it/s]"
     ]
    },
    {
     "name": "stdout",
     "output_type": "stream",
     "text": [
      "962 (63, 7)\n",
      "963 (23, 7)\n",
      "964 (47, 7)\n",
      "965 (54, 7)\n",
      "966 (10, 7)\n",
      "No columns to parse from file\n",
      "968 (189, 7)\n"
     ]
    },
    {
     "name": "stderr",
     "output_type": "stream",
     "text": [
      "100%|██████████| 1/1 [00:00<00:00, 10.02it/s]\n",
      "100%|██████████| 1/1 [00:00<00:00, 71.40it/s]\n",
      "100%|██████████| 1/1 [00:00<00:00, 41.49it/s]\n",
      "100%|██████████| 1/1 [00:00<00:00, 15.66it/s]\n",
      "100%|██████████| 1/1 [00:00<00:00, 85.61it/s]\n",
      "100%|██████████| 1/1 [00:00<00:00, 52.01it/s]\n",
      "100%|██████████| 1/1 [00:00<00:00, 69.07it/s]\n"
     ]
    },
    {
     "name": "stdout",
     "output_type": "stream",
     "text": [
      "969 (7, 7)\n",
      "970 (25, 7)\n",
      "971 (108, 7)\n",
      "972 (2, 7)\n",
      "973 (16, 7)\n",
      "974 (7, 7)\n",
      "975 (67, 7)\n"
     ]
    },
    {
     "name": "stderr",
     "output_type": "stream",
     "text": [
      "100%|██████████| 1/1 [00:00<00:00, 23.29it/s]\n",
      "100%|██████████| 1/1 [00:00<00:00, 75.71it/s]\n",
      "100%|██████████| 1/1 [00:00<00:00, 24.70it/s]\n",
      "100%|██████████| 1/1 [00:00<00:00, 10.78it/s]\n",
      "100%|██████████| 1/1 [00:00<00:00, 38.49it/s]"
     ]
    },
    {
     "name": "stdout",
     "output_type": "stream",
     "text": [
      "976 (4, 7)\n",
      "977 (60, 7)\n",
      "978 (174, 7)\n",
      "No columns to parse from file\n",
      "980 (31, 7)\n"
     ]
    },
    {
     "name": "stderr",
     "output_type": "stream",
     "text": [
      "\n",
      "100%|██████████| 1/1 [00:00<00:00, 73.27it/s]\n",
      "100%|██████████| 1/1 [00:00<00:00, 41.09it/s]\n",
      "100%|██████████| 1/1 [00:00<00:00, 51.95it/s]\n",
      "100%|██████████| 1/1 [00:00<00:00, 82.57it/s]\n",
      "100%|██████████| 1/1 [00:00<00:00, 72.22it/s]\n",
      "  0%|          | 0/1 [00:00<?, ?it/s]"
     ]
    },
    {
     "name": "stdout",
     "output_type": "stream",
     "text": [
      "No columns to parse from file\n",
      "982 (4, 7)\n",
      "983 (26, 7)\n",
      "984 (15, 7)\n",
      "No columns to parse from file\n",
      "No columns to parse from file\n",
      "987 (2, 7)\n",
      "988 (4, 7)\n",
      "989 (115, 7)\n"
     ]
    },
    {
     "name": "stderr",
     "output_type": "stream",
     "text": [
      "100%|██████████| 1/1 [00:00<00:00, 13.91it/s]\n",
      "100%|██████████| 1/1 [00:00<00:00, 59.73it/s]\n",
      "100%|██████████| 1/1 [00:00<00:00, 82.14it/s]\n",
      "100%|██████████| 1/1 [00:00<00:00, 57.31it/s]\n",
      "100%|██████████| 1/1 [00:00<00:00, 31.95it/s]\n",
      "100%|██████████| 1/1 [00:00<00:00, 14.65it/s]\n",
      "  0%|          | 0/1 [00:00<?, ?it/s]"
     ]
    },
    {
     "name": "stdout",
     "output_type": "stream",
     "text": [
      "990 (11, 7)\n",
      "991 (2, 7)\n",
      "992 (11, 7)\n",
      "993 (32, 7)\n",
      "No columns to parse from file\n",
      "995 (120, 7)\n",
      "996 (59, 7)\n"
     ]
    },
    {
     "name": "stderr",
     "output_type": "stream",
     "text": [
      "100%|██████████| 1/1 [00:00<00:00, 23.48it/s]\n",
      "100%|██████████| 1/1 [00:00<00:00, 49.21it/s]\n",
      "100%|██████████| 1/1 [00:00<00:00, 71.02it/s]\n",
      "100%|██████████| 1/1 [00:00<00:00,  7.91it/s]\n",
      "  0%|          | 0/1 [00:00<?, ?it/s]"
     ]
    },
    {
     "name": "stdout",
     "output_type": "stream",
     "text": [
      "No columns to parse from file\n",
      "998 (18, 7)\n",
      "999 (2, 7)\n",
      "1000 (233, 7)\n",
      "1001 (16, 7)\n"
     ]
    },
    {
     "name": "stderr",
     "output_type": "stream",
     "text": [
      "100%|██████████| 1/1 [00:00<00:00, 51.79it/s]\n",
      "100%|██████████| 1/1 [00:00<00:00, 31.84it/s]\n",
      "100%|██████████| 1/1 [00:00<00:00, 91.24it/s]\n",
      "/home/bakirillov/HDD/works/Skoltech/CRISPR_CAD/uace/src/core.py:966: RuntimeWarning: invalid value encountered in true_divide\n",
      "  self.S[self.label_column]\n",
      "100%|██████████| 1/1 [00:00<00:00, 71.26it/s]\n",
      "100%|██████████| 1/1 [00:00<00:00, 72.31it/s]\n",
      "100%|██████████| 1/1 [00:00<00:00, 15.29it/s]\n",
      "  0%|          | 0/1 [00:00<?, ?it/s]"
     ]
    },
    {
     "name": "stdout",
     "output_type": "stream",
     "text": [
      "1002 (43, 7)\n",
      "1003 (1, 7)\n",
      "1004 (6, 7)\n",
      "1005 (5, 7)\n",
      "1006 (116, 7)\n",
      "No columns to parse from file\n",
      "No columns to parse from file\n",
      "1009 (234, 7)\n"
     ]
    },
    {
     "name": "stderr",
     "output_type": "stream",
     "text": [
      "100%|██████████| 1/1 [00:00<00:00,  8.16it/s]\n",
      "100%|██████████| 1/1 [00:00<00:00, 64.41it/s]\n",
      "100%|██████████| 1/1 [00:00<00:00, 32.58it/s]\n",
      "100%|██████████| 1/1 [00:00<00:00, 13.00it/s]\n",
      "100%|██████████| 1/1 [00:00<00:00, 71.90it/s]\n",
      "  0%|          | 0/1 [00:00<?, ?it/s]"
     ]
    },
    {
     "name": "stdout",
     "output_type": "stream",
     "text": [
      "1010 (9, 7)\n",
      "1011 (42, 7)\n",
      "1012 (140, 7)\n",
      "1013 (5, 7)\n",
      "1014 (52, 7)\n"
     ]
    },
    {
     "name": "stderr",
     "output_type": "stream",
     "text": [
      "100%|██████████| 1/1 [00:00<00:00, 27.04it/s]\n",
      "100%|██████████| 1/1 [00:00<00:00, 21.08it/s]\n",
      "100%|██████████| 1/1 [00:00<00:00, 86.00it/s]\n",
      "100%|██████████| 1/1 [00:00<00:00, 46.17it/s]\n",
      "  0%|          | 0/1 [00:00<?, ?it/s]"
     ]
    },
    {
     "name": "stdout",
     "output_type": "stream",
     "text": [
      "1015 (75, 7)\n",
      "1016 (1, 7)\n",
      "1017 (21, 7)\n",
      "1018 (228, 7)\n"
     ]
    },
    {
     "name": "stderr",
     "output_type": "stream",
     "text": [
      "100%|██████████| 1/1 [00:00<00:00,  8.56it/s]\n",
      "100%|██████████| 1/1 [00:00<00:00, 30.04it/s]\n",
      "100%|██████████| 1/1 [00:00<00:00, 15.37it/s]\n",
      "100%|██████████| 1/1 [00:00<00:00, 70.54it/s]\n",
      "100%|██████████| 1/1 [00:00<00:00, 34.68it/s]\n",
      "  0%|          | 0/1 [00:00<?, ?it/s]"
     ]
    },
    {
     "name": "stdout",
     "output_type": "stream",
     "text": [
      "No columns to parse from file\n",
      "1020 (44, 7)\n",
      "1021 (113, 7)\n",
      "No columns to parse from file\n",
      "1023 (6, 7)\n",
      "1024 (37, 7)\n",
      "No columns to parse from file\n",
      "1026 (109, 7)\n"
     ]
    },
    {
     "name": "stderr",
     "output_type": "stream",
     "text": [
      "100%|██████████| 1/1 [00:00<00:00, 15.92it/s]\n",
      "100%|██████████| 1/1 [00:00<00:00, 17.97it/s]\n",
      "100%|██████████| 1/1 [00:00<00:00, 61.36it/s]\n",
      "100%|██████████| 1/1 [00:00<00:00, 18.35it/s]\n",
      "100%|██████████| 1/1 [00:00<00:00, 49.13it/s]\n",
      "  0%|          | 0/3 [00:00<?, ?it/s]"
     ]
    },
    {
     "name": "stdout",
     "output_type": "stream",
     "text": [
      "1027 (85, 7)\n",
      "1028 (11, 7)\n",
      "1029 (93, 7)\n",
      "1030 (18, 7)\n",
      "1031 (744, 7)\n"
     ]
    },
    {
     "name": "stderr",
     "output_type": "stream",
     "text": [
      "100%|██████████| 3/3 [00:00<00:00,  7.99it/s]\n",
      "100%|██████████| 1/1 [00:00<00:00, 29.17it/s]\n",
      "100%|██████████| 1/1 [00:00<00:00, 47.19it/s]\n",
      "100%|██████████| 1/1 [00:00<00:00, 47.87it/s]\n",
      "100%|██████████| 1/1 [00:00<00:00, 27.32it/s]\n",
      "100%|██████████| 1/1 [00:00<00:00, 69.24it/s]\n",
      "100%|██████████| 1/1 [00:00<00:00, 66.53it/s]\n",
      "  0%|          | 0/1 [00:00<?, ?it/s]"
     ]
    },
    {
     "name": "stdout",
     "output_type": "stream",
     "text": [
      "1032 (52, 7)\n",
      "1033 (23, 7)\n",
      "1034 (20, 7)\n",
      "1035 (56, 7)\n",
      "1036 (7, 7)\n",
      "No columns to parse from file\n",
      "1038 (5, 7)\n",
      "No columns to parse from file\n",
      "1040 (3, 7)\n"
     ]
    },
    {
     "name": "stderr",
     "output_type": "stream",
     "text": [
      "100%|██████████| 1/1 [00:00<00:00, 71.99it/s]\n",
      "100%|██████████| 1/1 [00:00<00:00, 16.15it/s]\n",
      "100%|██████████| 1/1 [00:00<00:00, 75.65it/s]\n",
      "100%|██████████| 1/1 [00:00<00:00, 61.84it/s]\n",
      "100%|██████████| 1/1 [00:00<00:00, 76.37it/s]\n",
      "100%|██████████| 1/1 [00:00<00:00, 61.09it/s]\n",
      "100%|██████████| 1/1 [00:00<00:00, 89.76it/s]\n",
      "  0%|          | 0/1 [00:00<?, ?it/s]"
     ]
    },
    {
     "name": "stdout",
     "output_type": "stream",
     "text": [
      "No columns to parse from file\n",
      "1042 (106, 7)\n",
      "1043 (2, 7)\n",
      "No columns to parse from file\n",
      "No columns to parse from file\n",
      "1046 (8, 7)\n",
      "1047 (3, 7)\n",
      "1048 (11, 7)\n",
      "1049 (1, 7)\n",
      "1050 (4, 7)\n"
     ]
    },
    {
     "name": "stderr",
     "output_type": "stream",
     "text": [
      "100%|██████████| 1/1 [00:00<00:00, 67.47it/s]\n",
      "100%|██████████| 1/1 [00:00<00:00, 12.84it/s]\n",
      "  0%|          | 0/2 [00:00<?, ?it/s]"
     ]
    },
    {
     "name": "stdout",
     "output_type": "stream",
     "text": [
      "1051 (141, 7)\n",
      "No columns to parse from file\n",
      "1053 (362, 7)\n"
     ]
    },
    {
     "name": "stderr",
     "output_type": "stream",
     "text": [
      "100%|██████████| 2/2 [00:00<00:00, 10.45it/s]\n",
      "100%|██████████| 1/1 [00:00<00:00, 63.26it/s]\n",
      "100%|██████████| 1/1 [00:00<00:00, 32.99it/s]\n",
      "100%|██████████| 1/1 [00:00<00:00, 16.89it/s]\n",
      "100%|██████████| 1/1 [00:00<00:00, 74.09it/s]\n",
      "100%|██████████| 1/1 [00:00<00:00, 74.58it/s]\n",
      "  0%|          | 0/2 [00:00<?, ?it/s]"
     ]
    },
    {
     "name": "stdout",
     "output_type": "stream",
     "text": [
      "1054 (9, 7)\n",
      "1055 (41, 7)\n",
      "1056 (104, 7)\n",
      "1057 (4, 7)\n",
      "1058 (1, 7)\n",
      "No columns to parse from file\n",
      "1060 (267, 7)\n"
     ]
    },
    {
     "name": "stderr",
     "output_type": "stream",
     "text": [
      "100%|██████████| 2/2 [00:00<00:00, 13.33it/s]\n",
      "100%|██████████| 1/1 [00:00<00:00, 18.29it/s]\n",
      "100%|██████████| 1/1 [00:00<00:00, 79.90it/s]\n",
      "/home/bakirillov/HDD/works/Skoltech/CRISPR_CAD/uace/src/core.py:966: RuntimeWarning: invalid value encountered in true_divide\n",
      "  self.S[self.label_column]\n",
      "100%|██████████| 1/1 [00:00<00:00, 67.70it/s]\n",
      "100%|██████████| 1/1 [00:00<00:00, 34.48it/s]\n",
      "  0%|          | 0/2 [00:00<?, ?it/s]"
     ]
    },
    {
     "name": "stdout",
     "output_type": "stream",
     "text": [
      "1061 (94, 7)\n",
      "1062 (3, 7)\n",
      "No columns to parse from file\n",
      "1064 (6, 7)\n",
      "1065 (35, 7)\n",
      "1066 (273, 7)\n"
     ]
    },
    {
     "name": "stderr",
     "output_type": "stream",
     "text": [
      "100%|██████████| 2/2 [00:00<00:00, 13.14it/s]\n",
      "100%|██████████| 1/1 [00:00<00:00, 23.34it/s]\n",
      "100%|██████████| 1/1 [00:00<00:00,  8.15it/s]\n",
      "/home/bakirillov/HDD/works/Skoltech/CRISPR_CAD/uace/src/core.py:966: RuntimeWarning: invalid value encountered in true_divide\n",
      "  self.S[self.label_column]\n",
      "100%|██████████| 1/1 [00:00<00:00, 74.06it/s]"
     ]
    },
    {
     "name": "stdout",
     "output_type": "stream",
     "text": [
      "1067 (64, 7)\n",
      "1068 (245, 7)\n",
      "1069 (6, 7)\n"
     ]
    },
    {
     "name": "stderr",
     "output_type": "stream",
     "text": [
      "\n",
      "100%|██████████| 1/1 [00:00<00:00, 77.88it/s]\n",
      "100%|██████████| 1/1 [00:00<00:00, 60.52it/s]\n",
      "100%|██████████| 1/1 [00:00<00:00, 80.89it/s]\n",
      "100%|██████████| 1/1 [00:00<00:00, 17.83it/s]\n",
      "100%|██████████| 1/1 [00:00<00:00, 73.72it/s]\n",
      "100%|██████████| 1/1 [00:00<00:00, 81.04it/s]\n",
      "  0%|          | 0/1 [00:00<?, ?it/s]"
     ]
    },
    {
     "name": "stdout",
     "output_type": "stream",
     "text": [
      "No columns to parse from file\n",
      "1071 (4, 7)\n",
      "No columns to parse from file\n",
      "No columns to parse from file\n",
      "1074 (12, 7)\n",
      "1075 (2, 7)\n",
      "1076 (98, 7)\n",
      "No columns to parse from file\n",
      "No columns to parse from file\n",
      "1079 (5, 7)\n",
      "No columns to parse from file\n",
      "1081 (1, 7)\n",
      "1082 (214, 7)\n"
     ]
    },
    {
     "name": "stderr",
     "output_type": "stream",
     "text": [
      "100%|██████████| 1/1 [00:00<00:00,  8.96it/s]\n",
      "100%|██████████| 1/1 [00:00<00:00, 16.60it/s]\n",
      "100%|██████████| 1/1 [00:00<00:00, 29.53it/s]\n",
      "100%|██████████| 1/1 [00:00<00:00, 85.24it/s]\n",
      "100%|██████████| 1/1 [00:00<00:00, 33.07it/s]\n",
      "100%|██████████| 1/1 [00:00<00:00, 57.62it/s]\n",
      "  0%|          | 0/1 [00:00<?, ?it/s]"
     ]
    },
    {
     "name": "stdout",
     "output_type": "stream",
     "text": [
      "1083 (106, 7)\n",
      "1084 (47, 7)\n",
      "1085 (1, 7)\n",
      "No columns to parse from file\n",
      "1087 (42, 7)\n",
      "1088 (13, 7)\n",
      "No columns to parse from file\n",
      "1090 (238, 7)\n"
     ]
    },
    {
     "name": "stderr",
     "output_type": "stream",
     "text": [
      "100%|██████████| 1/1 [00:00<00:00,  8.01it/s]\n",
      "100%|██████████| 1/1 [00:00<00:00, 28.77it/s]\n",
      "100%|██████████| 1/1 [00:00<00:00, 75.00it/s]\n",
      "100%|██████████| 1/1 [00:00<00:00, 37.95it/s]\n",
      "  0%|          | 0/1 [00:00<?, ?it/s]"
     ]
    },
    {
     "name": "stdout",
     "output_type": "stream",
     "text": [
      "1091 (48, 7)\n",
      "1092 (5, 7)\n",
      "No columns to parse from file\n",
      "1094 (33, 7)\n",
      "1095 (230, 7)\n"
     ]
    },
    {
     "name": "stderr",
     "output_type": "stream",
     "text": [
      "100%|██████████| 1/1 [00:00<00:00,  8.32it/s]\n",
      "100%|██████████| 1/1 [00:00<00:00, 62.05it/s]\n",
      "100%|██████████| 1/1 [00:00<00:00, 35.34it/s]\n",
      "100%|██████████| 1/1 [00:00<00:00, 63.53it/s]\n",
      "  0%|          | 0/2 [00:00<?, ?it/s]"
     ]
    },
    {
     "name": "stdout",
     "output_type": "stream",
     "text": [
      "1096 (9, 7)\n",
      "1097 (37, 7)\n",
      "No columns to parse from file\n",
      "1099 (9, 7)\n",
      "1100 (270, 7)\n"
     ]
    },
    {
     "name": "stderr",
     "output_type": "stream",
     "text": [
      "100%|██████████| 2/2 [00:00<00:00, 13.33it/s]\n",
      "100%|██████████| 1/1 [00:00<00:00, 28.17it/s]\n",
      "100%|██████████| 1/1 [00:00<00:00, 38.10it/s]\n",
      "100%|██████████| 1/1 [00:00<00:00, 36.54it/s]\n",
      "100%|██████████| 1/1 [00:00<00:00, 65.92it/s]\n",
      "100%|██████████| 1/1 [00:00<00:00, 68.75it/s]\n",
      "  0%|          | 0/1 [00:00<?, ?it/s]"
     ]
    },
    {
     "name": "stdout",
     "output_type": "stream",
     "text": [
      "1101 (46, 7)\n",
      "1102 (33, 7)\n",
      "1103 (35, 7)\n",
      "No columns to parse from file\n",
      "1105 (7, 7)\n",
      "No columns to parse from file\n",
      "1107 (6, 7)\n",
      "1108 (223, 7)\n"
     ]
    },
    {
     "name": "stderr",
     "output_type": "stream",
     "text": [
      "100%|██████████| 1/1 [00:00<00:00,  8.42it/s]\n",
      "100%|██████████| 1/1 [00:00<00:00, 81.51it/s]\n",
      "100%|██████████| 1/1 [00:00<00:00, 17.80it/s]\n",
      "100%|██████████| 1/1 [00:00<00:00, 73.85it/s]\n",
      "100%|██████████| 1/1 [00:00<00:00, 55.40it/s]\n",
      "  0%|          | 0/1 [00:00<?, ?it/s]"
     ]
    },
    {
     "name": "stdout",
     "output_type": "stream",
     "text": [
      "1109 (2, 7)\n",
      "No columns to parse from file\n",
      "1111 (96, 7)\n",
      "1112 (5, 7)\n",
      "1113 (13, 7)\n",
      "1114 (135, 7)\n"
     ]
    },
    {
     "name": "stderr",
     "output_type": "stream",
     "text": [
      "100%|██████████| 1/1 [00:00<00:00, 13.60it/s]\n",
      "100%|██████████| 1/1 [00:00<00:00, 51.08it/s]\n",
      "100%|██████████| 1/1 [00:00<00:00, 79.87it/s]\n",
      "100%|██████████| 1/1 [00:00<00:00, 47.14it/s]\n",
      "100%|██████████| 1/1 [00:00<00:00, 25.10it/s]\n",
      "100%|██████████| 1/1 [00:00<00:00, 64.46it/s]\n",
      "100%|██████████| 1/1 [00:00<00:00, 78.23it/s]\n",
      "100%|██████████| 1/1 [00:00<00:00, 63.96it/s]\n"
     ]
    },
    {
     "name": "stdout",
     "output_type": "stream",
     "text": [
      "No columns to parse from file\n",
      "1116 (15, 7)\n",
      "1117 (2, 7)\n",
      "1118 (17, 7)\n",
      "1119 (49, 7)\n",
      "1120 (9, 7)\n",
      "1121 (1, 7)\n",
      "1122 (9, 7)\n",
      "No columns to parse from file\n",
      "1124 (2, 7)\n"
     ]
    },
    {
     "name": "stderr",
     "output_type": "stream",
     "text": [
      "100%|██████████| 1/1 [00:00<00:00, 79.34it/s]\n",
      "100%|██████████| 1/1 [00:00<00:00, 69.40it/s]\n",
      "100%|██████████| 1/1 [00:00<00:00, 82.37it/s]\n",
      "100%|██████████| 1/1 [00:00<00:00, 27.74it/s]\n",
      "  0%|          | 0/2 [00:00<?, ?it/s]"
     ]
    },
    {
     "name": "stdout",
     "output_type": "stream",
     "text": [
      "1125 (4, 7)\n",
      "1126 (1, 7)\n",
      "1127 (54, 7)\n",
      "1128 (493, 7)\n"
     ]
    },
    {
     "name": "stderr",
     "output_type": "stream",
     "text": [
      "100%|██████████| 2/2 [00:00<00:00,  8.01it/s]\n",
      "100%|██████████| 1/1 [00:00<00:00, 31.31it/s]\n",
      "100%|██████████| 1/1 [00:00<00:00, 29.50it/s]\n",
      "100%|██████████| 1/1 [00:00<00:00, 49.61it/s]\n",
      "100%|██████████| 1/1 [00:00<00:00, 45.20it/s]\n",
      "  0%|          | 0/1 [00:00<?, ?it/s]"
     ]
    },
    {
     "name": "stdout",
     "output_type": "stream",
     "text": [
      "1129 (47, 7)\n",
      "1130 (51, 7)\n",
      "1131 (20, 7)\n",
      "1132 (20, 7)\n",
      "1133 (166, 7)\n"
     ]
    },
    {
     "name": "stderr",
     "output_type": "stream",
     "text": [
      "100%|██████████| 1/1 [00:00<00:00, 11.27it/s]\n",
      "100%|██████████| 1/1 [00:00<00:00, 78.94it/s]\n",
      "100%|██████████| 1/1 [00:00<00:00, 18.34it/s]\n",
      "  0%|          | 0/2 [00:00<?, ?it/s]"
     ]
    },
    {
     "name": "stdout",
     "output_type": "stream",
     "text": [
      "1134 (3, 7)\n",
      "1135 (93, 7)\n",
      "1136 (258, 7)\n"
     ]
    },
    {
     "name": "stderr",
     "output_type": "stream",
     "text": [
      "100%|██████████| 2/2 [00:00<00:00, 14.05it/s]\n",
      "100%|██████████| 1/1 [00:00<00:00, 77.86it/s]\n",
      "100%|██████████| 1/1 [00:00<00:00, 65.23it/s]\n",
      "100%|██████████| 1/1 [00:00<00:00, 70.07it/s]\n",
      "100%|██████████| 1/1 [00:00<00:00, 54.56it/s]\n",
      "100%|██████████| 1/1 [00:00<00:00, 73.73it/s]\n",
      "100%|██████████| 1/1 [00:00<00:00, 55.81it/s]\n",
      "  0%|          | 0/1 [00:00<?, ?it/s]"
     ]
    },
    {
     "name": "stdout",
     "output_type": "stream",
     "text": [
      "1137 (3, 7)\n",
      "1138 (7, 7)\n",
      "1139 (7, 7)\n",
      "1140 (15, 7)\n",
      "1141 (4, 7)\n",
      "1142 (14, 7)\n",
      "1143 (114, 7)\n"
     ]
    },
    {
     "name": "stderr",
     "output_type": "stream",
     "text": [
      "100%|██████████| 1/1 [00:00<00:00, 15.39it/s]\n",
      "100%|██████████| 1/1 [00:00<00:00, 76.92it/s]\n",
      "100%|██████████| 1/1 [00:00<00:00, 55.89it/s]\n",
      "100%|██████████| 1/1 [00:00<00:00, 38.96it/s]\n",
      "  0%|          | 0/2 [00:00<?, ?it/s]"
     ]
    },
    {
     "name": "stdout",
     "output_type": "stream",
     "text": [
      "1144 (3, 7)\n",
      "1145 (11, 7)\n",
      "1146 (30, 7)\n",
      "1147 (297, 7)\n"
     ]
    },
    {
     "name": "stderr",
     "output_type": "stream",
     "text": [
      "100%|██████████| 2/2 [00:00<00:00, 12.24it/s]\n",
      "100%|██████████| 1/1 [00:00<00:00,  9.08it/s]\n",
      "100%|██████████| 1/1 [00:00<00:00, 19.47it/s]\n",
      "  0%|          | 0/3 [00:00<?, ?it/s]"
     ]
    },
    {
     "name": "stdout",
     "output_type": "stream",
     "text": [
      "1148 (209, 7)\n",
      "1149 (83, 7)\n",
      "1150 (568, 7)\n"
     ]
    },
    {
     "name": "stderr",
     "output_type": "stream",
     "text": [
      "100%|██████████| 3/3 [00:00<00:00, 10.15it/s]\n",
      "100%|██████████| 1/1 [00:00<00:00, 62.83it/s]\n",
      " 33%|███▎      | 1/3 [00:00<00:00,  7.80it/s]"
     ]
    },
    {
     "name": "stdout",
     "output_type": "stream",
     "text": [
      "1151 (9, 7)\n",
      "1152 (718, 7)\n"
     ]
    },
    {
     "name": "stderr",
     "output_type": "stream",
     "text": [
      "100%|██████████| 3/3 [00:00<00:00,  8.30it/s]\n",
      "100%|██████████| 1/1 [00:00<00:00, 48.93it/s]\n",
      "100%|██████████| 1/1 [00:00<00:00, 46.18it/s]\n",
      "100%|██████████| 1/1 [00:00<00:00, 90.97it/s]\n",
      "100%|██████████| 1/1 [00:00<00:00, 25.59it/s]\n",
      "100%|██████████| 1/1 [00:00<00:00, 70.30it/s]\n",
      "  0%|          | 0/1 [00:00<?, ?it/s]"
     ]
    },
    {
     "name": "stdout",
     "output_type": "stream",
     "text": [
      "1153 (20, 7)\n",
      "1154 (24, 7)\n",
      "No columns to parse from file\n",
      "No columns to parse from file\n",
      "1157 (1, 7)\n",
      "1158 (62, 7)\n",
      "1159 (7, 7)\n",
      "1160 (93, 7)\n"
     ]
    },
    {
     "name": "stderr",
     "output_type": "stream",
     "text": [
      "100%|██████████| 1/1 [00:00<00:00, 18.05it/s]\n",
      "100%|██████████| 2/2 [00:00<00:00, 10.10it/s]"
     ]
    },
    {
     "name": "stdout",
     "output_type": "stream",
     "text": [
      "1161 (372, 7)\n"
     ]
    },
    {
     "name": "stderr",
     "output_type": "stream",
     "text": [
      "\n",
      "100%|██████████| 1/1 [00:00<00:00, 54.74it/s]\n",
      "100%|██████████| 1/1 [00:00<00:00, 52.81it/s]\n",
      "100%|██████████| 1/1 [00:00<00:00, 65.19it/s]\n",
      "100%|██████████| 1/1 [00:00<00:00, 32.66it/s]\n",
      "100%|██████████| 1/1 [00:00<00:00, 42.39it/s]\n",
      "100%|██████████| 1/1 [00:00<00:00, 43.56it/s]\n",
      "100%|██████████| 1/1 [00:00<00:00, 68.21it/s]"
     ]
    },
    {
     "name": "stdout",
     "output_type": "stream",
     "text": [
      "1162 (13, 7)\n",
      "No columns to parse from file\n",
      "1164 (15, 7)\n",
      "1165 (5, 7)\n",
      "No columns to parse from file\n",
      "1167 (39, 7)\n",
      "1168 (25, 7)\n",
      "No columns to parse from file\n",
      "1170 (25, 7)\n",
      "1171 (6, 7)\n"
     ]
    },
    {
     "name": "stderr",
     "output_type": "stream",
     "text": [
      "\n",
      "100%|██████████| 1/1 [00:00<00:00, 78.46it/s]\n",
      "100%|██████████| 1/1 [00:00<00:00, 21.88it/s]\n",
      "100%|██████████| 1/1 [00:00<00:00, 13.94it/s]\n",
      "100%|██████████| 1/1 [00:00<00:00, 63.91it/s]\n",
      "100%|██████████| 1/1 [00:00<00:00, 71.78it/s]"
     ]
    },
    {
     "name": "stdout",
     "output_type": "stream",
     "text": [
      "1172 (1, 7)\n",
      "No columns to parse from file\n",
      "1174 (69, 7)\n",
      "No columns to parse from file\n",
      "No columns to parse from file\n",
      "1177 (126, 7)\n",
      "1178 (7, 7)\n",
      "1179 (4, 7)\n"
     ]
    },
    {
     "name": "stderr",
     "output_type": "stream",
     "text": [
      "\n",
      "100%|██████████| 2/2 [00:00<00:00, 11.07it/s]\n",
      "  0%|          | 0/1 [00:00<?, ?it/s]"
     ]
    },
    {
     "name": "stdout",
     "output_type": "stream",
     "text": [
      "1180 (327, 7)\n",
      "1181 (4, 7)\n"
     ]
    },
    {
     "name": "stderr",
     "output_type": "stream",
     "text": [
      "100%|██████████| 1/1 [00:00<00:00, 73.11it/s]\n",
      "100%|██████████| 1/1 [00:00<00:00, 79.08it/s]\n",
      "100%|██████████| 1/1 [00:00<00:00, 22.37it/s]\n",
      "100%|██████████| 1/1 [00:00<00:00, 81.18it/s]"
     ]
    },
    {
     "name": "stdout",
     "output_type": "stream",
     "text": [
      "No columns to parse from file\n",
      "1183 (1, 7)\n",
      "1184 (69, 7)\n",
      "1185 (3, 7)\n"
     ]
    },
    {
     "name": "stderr",
     "output_type": "stream",
     "text": [
      "\n"
     ]
    }
   ],
   "source": [
    "genes = {a[2]: [] for a in annotation}\n",
    "for i,a in enumerate(data):\n",
    "    #with open(op.join(\"/home/bakirillov/HDD/data/casoffinder_data/\", a), \"r\"):\n",
    "    try:\n",
    "        current_df = pd.read_csv(\n",
    "            op.join(\n",
    "                \"/home/bakirillov/HDD/data/chr22_grnas_OT/\"+a\n",
    "            ), sep=\"\\t\", header=None\n",
    "        ).dropna()\n",
    "        current_df = current_df[current_df[3].apply(lambda x: len(x) == 23 and \" \" not in x)]\n",
    "        current_df[6] = [a]*current_df.shape[0]\n",
    "        print(i, current_df.shape)\n",
    "    except Exception as e:\n",
    "        print(e)\n",
    "    else:\n",
    "        tds = WeissmanDataset(\n",
    "            current_df, np.arange(current_df.shape[0]), transformer,\n",
    "            genome_column=3, sgRNA_column=0,\n",
    "            label_column=5\n",
    "        )\n",
    "        tld = DataLoader(tds, shuffle=False, batch_size=256)\n",
    "        tb_w_oa = []\n",
    "        tb_w_va = []\n",
    "        tb_w_ra = []\n",
    "        for transformed_batch, _ in tqdm(tld):\n",
    "            tb_w_o = w_encoder(transformed_batch)[0].cpu().data.numpy()\n",
    "            tb_w_ra.extend(tb_w_o)\n",
    "            tb_w = w_model(transformed_batch)\n",
    "            tb_w_o = w_model.likelihood(\n",
    "                tb_w[0]\n",
    "            ).mean.mean(0).cpu().data.numpy()\n",
    "            tb_w_v = w_model.likelihood(\n",
    "                tb_w[0]\n",
    "            ).variance.mean(0).cpu().data.numpy()\n",
    "            tb_w_oa.extend(tb_w_o)\n",
    "            tb_w_va.extend(tb_w_v)\n",
    "        current_df[7] = tb_w_oa\n",
    "        current_df[8] = tb_w_va\n",
    "        current_df = current_df.sort_values(by=7, ascending=False)\n",
    "        current_df.to_csv(\n",
    "            op.join(\n",
    "                \"/home/bakirillov/HDD/data/cas9_ot_ordered/\"+a\n",
    "            ), sep=\"\\t\", header=None\n",
    "        )"
   ]
  },
  {
   "cell_type": "code",
   "execution_count": 23,
   "metadata": {},
   "outputs": [],
   "source": [
    "ordered_data = [a for a in os.walk(\"/home/bakirillov/HDD/data/cas9_ot_ordered/\")][0][2]"
   ]
  },
  {
   "cell_type": "code",
   "execution_count": 24,
   "metadata": {},
   "outputs": [
    {
     "name": "stdout",
     "output_type": "stream",
     "text": [
      "0 SERPIND1.tsv\n",
      "1 HSFY1P1.tsv\n",
      "2 SLC25A15P5.tsv\n",
      "3 LOC339685.tsv\n",
      "4 GTSE1-DT.tsv\n",
      "5 TPTEP2.tsv\n",
      "6 RNU6-1219P.tsv\n",
      "7 SAMM50.tsv\n",
      "8 PLA2G6.tsv\n",
      "9 XPNPEP3.tsv\n",
      "10 LOC105373007.tsv\n",
      "11 RPL34P35.tsv\n",
      "12 APOBEC3A.tsv\n",
      "13 LINC00896.tsv\n",
      "14 CHKB.tsv\n",
      "15 TMEM184B.tsv\n",
      "16 MIR4763.tsv\n",
      "17 DGCR6.tsv\n",
      "18 LOC105372860.tsv\n",
      "19 SEZ6L.tsv\n",
      "20 RPL32P5.tsv\n",
      "21 CA15P1.tsv\n",
      "22 LINC00634.tsv\n",
      "23 MIR6069.tsv\n",
      "24 CRELD2.tsv\n",
      "25 HSCB.tsv\n",
      "26 LOC101232810.tsv\n",
      "27 APOBEC3C.tsv\n",
      "28 RPL15P22.tsv\n",
      "29 LOC730668.tsv\n",
      "30 CACNA1I.tsv\n",
      "31 MEI1.tsv\n",
      "32 LOC107985568.tsv\n",
      "33 HIC2.tsv\n",
      "34 CRIP1P4.tsv\n",
      "35 MYH9.tsv\n",
      "36 RASD2.tsv\n",
      "37 IGLV2-14.tsv\n",
      "38 LOC101927447.tsv\n",
      "39 TOM1.tsv\n",
      "40 LOC105373067.tsv\n",
      "41 RNA5SP493.tsv\n",
      "42 VN1R9P.tsv\n",
      "43 LOC105373015.tsv\n",
      "44 GGTLC2.tsv\n",
      "45 LOC105373018.tsv\n",
      "46 CDC45.tsv\n",
      "47 ANP32BP2.tsv\n",
      "48 RTN4R.tsv\n",
      "49 SHANK3.tsv\n",
      "50 SULT4A1.tsv\n",
      "51 ZNF73P.tsv\n",
      "52 KRT18P5.tsv\n",
      "53 RPL8P5.tsv\n",
      "54 LINC01639.tsv\n",
      "55 TPTEP1.tsv\n",
      "56 LOC101927474.tsv\n",
      "57 SREBF2-AS1.tsv\n",
      "58 SEC14L2.tsv\n",
      "59 RPS19BP1.tsv\n",
      "60 PI4KAP2.tsv\n",
      "61 FBXW4P1.tsv\n",
      "62 LINC01659.tsv\n",
      "63 TMEM191C.tsv\n",
      "64 BCRP7.tsv\n",
      "65 CBX7.tsv\n",
      "66 TUBA8.tsv\n",
      "67 IGLV10-67.tsv\n",
      "68 LOC107985543.tsv\n",
      "69 ZBED4.tsv\n",
      "70 A4GALT.tsv\n",
      "71 POM121L7P.tsv\n",
      "72 IGLV3-22.tsv\n",
      "73 LOC100506271.tsv\n",
      "74 GNAZ.tsv\n",
      "75 LOC105372959.tsv\n",
      "76 LOC107985584.tsv\n",
      "77 RANBP1.tsv\n",
      "78 RPS17P16.tsv\n",
      "79 HPS4.tsv\n",
      "80 GGTLC4P.tsv\n",
      "81 SLC9A3P2.tsv\n",
      "82 LOC105372861.tsv\n",
      "83 LOC105372976.tsv\n",
      "84 PICK1.tsv\n",
      "85 LINC01665.tsv\n",
      "86 CCDC74BP1.tsv\n",
      "87 LOC105372962.tsv\n",
      "88 CSDC2.tsv\n",
      "89 TUBA3FP.tsv\n",
      "90 LOC100289194.tsv\n",
      "91 PNPLA5.tsv\n",
      "92 IGLV3-25.tsv\n",
      "93 BMS1P22.tsv\n",
      "94 LOC105373017.tsv\n",
      "95 KREMEN1.tsv\n",
      "96 AP1B1.tsv\n",
      "97 IGLV5-45.tsv\n",
      "98 COMT.tsv\n",
      "99 LOC105373074.tsv\n",
      "100 LL22NC03-13G6.2.tsv\n",
      "101 TEX33.tsv\n",
      "102 KRT18P23.tsv\n",
      "103 LINC00899.tsv\n",
      "104 LOC105373044.tsv\n",
      "105 IGLVI-70.tsv\n",
      "106 SLC25A5P1.tsv\n",
      "107 LPEQ6126.tsv\n",
      "108 MIR650.tsv\n",
      "109 DUX4L40.tsv\n",
      "110 RBFOX2.tsv\n",
      "111 SNU13.tsv\n",
      "112 CRYBB2.tsv\n",
      "113 LOC100736408.tsv\n",
      "114 MPPED1.tsv\n",
      "115 LGALS2.tsv\n",
      "116 LOC101060052.tsv\n",
      "117 LOC100506679.tsv\n",
      "118 LOC105377203.tsv\n",
      "119 APOL1.tsv\n",
      "120 SRRD.tsv\n",
      "121 DNAJB7.tsv\n",
      "122 KCNJ4.tsv\n",
      "123 PI4KA.tsv\n",
      "124 DNAL4.tsv\n",
      "125 SLC25A18.tsv\n",
      "126 TMEM191B.tsv\n",
      "127 CLDN5.tsv\n",
      "128 LOC105377182.tsv\n",
      "129 LOC102724608.tsv\n",
      "130 IGLV3-17.tsv\n",
      "131 LOC284898.tsv\n",
      "132 LOC100289004.tsv\n",
      "133 FUNDC2P4.tsv\n",
      "134 LOC100736412.tsv\n",
      "135 TTLL12.tsv\n",
      "136 HMGB1P10.tsv\n",
      "137 LOC102724638.tsv\n",
      "138 LOC105373027.tsv\n",
      "139 IGLV3-19.tsv\n",
      "140 RAC2.tsv\n",
      "141 LIF.tsv\n",
      "142 GGA1.tsv\n",
      "143 CDC42EP1.tsv\n",
      "144 BPIFC.tsv\n",
      "145 CRKL.tsv\n",
      "146 LOC105373038.tsv\n",
      "147 LOC100422375.tsv\n",
      "148 TNFRSF13C.tsv\n",
      "149 RFPL2.tsv\n",
      "150 LINC02554.tsv\n",
      "151 ADORA2A-AS1.tsv\n",
      "152 LINC02557.tsv\n",
      "153 IL17RA.tsv\n",
      "154 P2RX6P.tsv\n",
      "155 TMEM121B.tsv\n",
      "156 LOC105373029.tsv\n",
      "157 TNRC6B.tsv\n",
      "158 LOC107985535.tsv\n",
      "159 RFPL3S.tsv\n",
      "160 LOC105377199.tsv\n",
      "161 LARGE-AS1.tsv\n",
      "162 CASTOR1.tsv\n",
      "163 GSC2.tsv\n",
      "164 PES1.tsv\n",
      "165 LINC01664.tsv\n",
      "166 MGAT3.tsv\n",
      "167 EIF3D.tsv\n",
      "168 MIATNB.tsv\n",
      "169 PACSIN2.tsv\n",
      "170 FAM32BP.tsv\n",
      "171 LOC102723769.tsv\n",
      "172 LOC105373020.tsv\n",
      "173 LOC105377191.tsv\n",
      "174 PSLNR.tsv\n",
      "175 MAPK1.tsv\n",
      "176 LOC105372988.tsv\n",
      "177 YWHAH.tsv\n",
      "178 RN7SL704P.tsv\n",
      "179 ATF4.tsv\n",
      "180 LOC100996699.tsv\n",
      "181 PRODH.tsv\n",
      "182 IGLV2-33.tsv\n",
      "183 SPECC1L.tsv\n",
      "184 ZNRF3.tsv\n",
      "185 FAM227A.tsv\n",
      "186 BCR.tsv\n",
      "187 CERK.tsv\n",
      "188 LOC284865.tsv\n",
      "189 FRG1FP.tsv\n",
      "190 LOC100506472.tsv\n",
      "191 IGLV1-50.tsv\n",
      "192 LOC105373081.tsv\n",
      "193 TBC1D22A-AS1.tsv\n",
      "194 TAFA5.tsv\n",
      "195 LOC91370.tsv\n",
      "196 SPECC1L-ADORA2A.tsv\n",
      "197 IGLV7-46.tsv\n",
      "198 IGLVI-56.tsv\n",
      "199 CACNG2.tsv\n",
      "200 CHKB-CPT1B.tsv\n",
      "201 RPL7AP70.tsv\n",
      "202 NF2.tsv\n",
      "203 TBX1.tsv\n",
      "204 ISX.tsv\n",
      "205 LOC100996598.tsv\n",
      "206 SYNGR1.tsv\n",
      "207 ELFN2.tsv\n",
      "208 LINC01315.tsv\n",
      "209 ALG12.tsv\n",
      "210 LOC105373091.tsv\n",
      "211 BID.tsv\n",
      "212 FAM230J.tsv\n",
      "213 C22orf31.tsv\n",
      "214 RHEBP3.tsv\n",
      "215 CENPM.tsv\n",
      "216 LOC105373047.tsv\n",
      "217 SUSD2.tsv\n",
      "218 LOC105372964.tsv\n",
      "219 IGLV3-30.tsv\n",
      "220 CSF2RB.tsv\n",
      "221 PIK3IP1-DT.tsv\n",
      "222 IGLV1-47.tsv\n",
      "223 TYMP.tsv\n",
      "224 CELSR1.tsv\n",
      "225 LOC105373042.tsv\n",
      "226 GRK3.tsv\n",
      "227 LOC107985541.tsv\n",
      "228 DERL3.tsv\n",
      "229 IGLC3.tsv\n",
      "230 ZNF280A.tsv\n",
      "231 CHKB-DT.tsv\n",
      "232 LOC105373060.tsv\n",
      "233 PHF5A.tsv\n",
      "234 LOC102724900.tsv\n",
      "235 MCAT.tsv\n",
      "236 LOC107985533.tsv\n",
      "237 ARHGAP42P3.tsv\n",
      "238 NCAPH2.tsv\n",
      "239 MIOX.tsv\n",
      "240 LINC01311.tsv\n",
      "241 OSBP2.tsv\n",
      "242 OGFRP1.tsv\n",
      "243 UFD1.tsv\n",
      "244 FAM230H.tsv\n",
      "245 IGLV7-43.tsv\n",
      "246 NF1P6.tsv\n",
      "247 LOC100500719.tsv\n",
      "248 ADSL.tsv\n",
      "249 TUG1.tsv\n",
      "250 LOC107985564.tsv\n",
      "251 LOC105373033.tsv\n",
      "252 TOP3BP1.tsv\n",
      "253 LOC105373051.tsv\n",
      "254 LOC284933.tsv\n",
      "255 LINC02558.tsv\n",
      "256 ANKRD54.tsv\n",
      "257 BCRP1.tsv\n",
      "258 LOC107985544.tsv\n",
      "259 MICAL3.tsv\n",
      "260 RPEP4.tsv\n",
      "261 SOX10.tsv\n",
      "262 RPS9P2.tsv\n",
      "263 LOC100419673.tsv\n",
      "264 IGLVIV-64.tsv\n",
      "265 IGLV3-2.tsv\n",
      "266 IGLV1-62.tsv\n",
      "267 APOL4.tsv\n",
      "268 LOC105377190.tsv\n",
      "269 ADORA2A.tsv\n",
      "270 FBXO7.tsv\n",
      "271 HORMAD2-AS1.tsv\n",
      "272 YES1P1.tsv\n",
      "273 DUSP18.tsv\n",
      "274 LOC105373066.tsv\n",
      "275 NEK2P2.tsv\n",
      "276 TXNRD2.tsv\n",
      "277 C22orf42.tsv\n",
      "278 IGLV5-52.tsv\n",
      "279 TXN2.tsv\n",
      "280 KRT18P62.tsv\n",
      "281 DGCR8.tsv\n",
      "282 IL2RB.tsv\n",
      "283 RIMBP3B.tsv\n",
      "284 NFAM1.tsv\n",
      "285 LOC107987322.tsv\n",
      "286 LOC112268292.tsv\n",
      "287 PIWIL3.tsv\n",
      "288 SMC1B.tsv\n",
      "289 SYN3.tsv\n",
      "290 LRRC75B.tsv\n",
      "291 LOC105372980.tsv\n",
      "292 ARSA.tsv\n",
      "293 LINC00207.tsv\n",
      "294 DGCR6L.tsv\n",
      "295 LOC105377205.tsv\n",
      "296 LINC02556.tsv\n",
      "297 CCDC188.tsv\n",
      "298 BAIAP2L2.tsv\n",
      "299 HDHD5-AS1.tsv\n",
      "300 LOC105372971.tsv\n",
      "301 LOC107985545.tsv\n",
      "302 RN7SL633P.tsv\n",
      "303 APOBEC3D.tsv\n",
      "304 ENTHD1.tsv\n",
      "305 LOC105379518.tsv\n",
      "306 IGLVVI-22-1.tsv\n",
      "307 LOC105373086.tsv\n",
      "308 ZC3H7B.tsv\n",
      "309 LOC107985570.tsv\n",
      "310 CHEK2P4.tsv\n",
      "311 XKR3.tsv\n",
      "312 NOL12.tsv\n",
      "313 MOV10L1.tsv\n",
      "314 LOC112267891.tsv\n",
      "315 RPL4P6.tsv\n",
      "316 LINC01640.tsv\n",
      "317 XRCC6.tsv\n",
      "318 TTLL8.tsv\n",
      "319 ARHGAP8.tsv\n",
      "320 BIK.tsv\n",
      "321 SEC14L4.tsv\n",
      "322 LOC107985555.tsv\n",
      "323 LOC105373053.tsv\n",
      "324 DEPDC5.tsv\n",
      "325 LOC105372948.tsv\n",
      "326 THAP7.tsv\n",
      "327 EFCAB6-AS1.tsv\n",
      "328 BCL2L13.tsv\n",
      "329 LOC107985566.tsv\n",
      "330 ABHD17AP4.tsv\n",
      "331 CSNK1E.tsv\n",
      "332 RIMBP3C.tsv\n",
      "333 DUX4L41.tsv\n",
      "334 CDPF1.tsv\n",
      "335 SNORD13P1.tsv\n",
      "336 LOC105373071.tsv\n",
      "337 IGLC5.tsv\n",
      "338 GAB4.tsv\n",
      "339 RPL13AP26.tsv\n",
      "340 ZDHHC8.tsv\n",
      "341 CDC27P7.tsv\n",
      "342 LINC01589.tsv\n",
      "343 LOC105372985.tsv\n",
      "344 THOC5.tsv\n",
      "345 MRTFA.tsv\n",
      "346 KIAA0930.tsv\n",
      "347 LOC107985561.tsv\n",
      "348 MTFR2P2.tsv\n",
      "349 LOC107985554.tsv\n",
      "350 LOC112268293.tsv\n",
      "351 LOC101928824.tsv\n",
      "352 HMGXB4.tsv\n",
      "353 CRYBB2P1.tsv\n",
      "354 ZNRF3-AS1.tsv\n",
      "355 RPS3AP51.tsv\n",
      "356 SLC16A8.tsv\n",
      "357 IGLCOR22-2.tsv\n",
      "358 LOC107985551.tsv\n",
      "359 IGLV6-57.tsv\n",
      "360 SLC25A1.tsv\n",
      "361 PI4KAP1.tsv\n",
      "362 SMDT1.tsv\n",
      "363 LOC646408.tsv\n",
      "364 LINC02885.tsv\n",
      "365 LINC01638.tsv\n",
      "366 FAM230B.tsv\n",
      "367 UPK3A.tsv\n",
      "368 FAM230A.tsv\n",
      "369 IGLV1-41.tsv\n",
      "370 C22orf23.tsv\n",
      "371 HIRA.tsv\n",
      "372 RFPL1.tsv\n",
      "373 MICALL1.tsv\n",
      "374 ATXN10.tsv\n",
      "375 LRP5L.tsv\n",
      "376 LOC105373089.tsv\n",
      "377 LINC01644.tsv\n",
      "378 MTCO1P34.tsv\n",
      "379 GSTT2B.tsv\n",
      "380 IGLV10-54.tsv\n",
      "381 LOC107987323.tsv\n",
      "382 LOC105373014.tsv\n",
      "383 P2RX6.tsv\n",
      "384 LOC101927183.tsv\n",
      "385 DGCR2.tsv\n",
      "386 E2F6P1.tsv\n",
      "387 FAM230I.tsv\n",
      "388 SHISA8.tsv\n",
      "389 FAM118A.tsv\n",
      "390 LINC01521.tsv\n",
      "391 NBEAP3.tsv\n",
      "392 MTCO2P20.tsv\n",
      "393 GOLGA2P4.tsv\n",
      "394 DMC1.tsv\n",
      "395 IGLV2-28.tsv\n",
      "396 TRIOBP.tsv\n",
      "397 LOC105373077.tsv\n",
      "398 CHCHD10.tsv\n",
      "399 SNAP29.tsv\n",
      "400 TST.tsv\n",
      "401 ASPHD2.tsv\n",
      "402 GUCD1.tsv\n",
      "403 IFT27.tsv\n",
      "404 IGLV2-18.tsv\n",
      "405 LOC107985558.tsv\n",
      "406 LOC112268297.tsv\n",
      "407 LOC440792.tsv\n",
      "408 LOC107985529.tsv\n",
      "409 SELENOO.tsv\n",
      "410 IGLV5-37.tsv\n",
      "411 PRAME.tsv\n",
      "412 LOC105373021.tsv\n",
      "413 E2F6P2.tsv\n",
      "414 RIBC2.tsv\n",
      "415 EP300-AS1.tsv\n",
      "416 RN7SL6P.tsv\n",
      "417 EIF3L.tsv\n",
      "418 TAB1.tsv\n",
      "419 LOC102724378.tsv\n",
      "420 MIR3909.tsv\n",
      "421 IGLV5-48.tsv\n",
      "422 MORC2-AS1.tsv\n",
      "423 LOC107985553.tsv\n",
      "424 CPSF1P1.tsv\n",
      "425 TRMT2A.tsv\n",
      "426 LOC105373016.tsv\n",
      "427 LOC105379418.tsv\n",
      "428 CBY1.tsv\n",
      "429 LOC107985590.tsv\n",
      "430 IGLL3P.tsv\n",
      "431 MIR648.tsv\n",
      "432 BRD1.tsv\n",
      "433 HMOX1.tsv\n",
      "434 PDXP.tsv\n",
      "435 ARFGAP3.tsv\n",
      "436 IGLV3-31.tsv\n",
      "437 RPL5P35.tsv\n",
      "438 MORC2.tsv\n",
      "439 LOC105372990.tsv\n",
      "440 LOC101929638.tsv\n",
      "441 TTC28.tsv\n",
      "442 CABIN1.tsv\n",
      "443 PISD.tsv\n",
      "444 ABHD17AP5.tsv\n",
      "445 IGLV2-11.tsv\n",
      "446 RN7SL20P.tsv\n",
      "447 SUN2.tsv\n",
      "448 TOP1P2.tsv\n",
      "449 MTATP6P20.tsv\n",
      "450 LOC100996404.tsv\n",
      "451 RN7SL843P.tsv\n",
      "452 LOC105372997.tsv\n",
      "453 SLC25A17.tsv\n",
      "454 SNORA77B.tsv\n",
      "455 LOC105373012.tsv\n",
      "456 IGLV3-16.tsv\n",
      "457 IGLV3-32.tsv\n",
      "458 LOC110467534.tsv\n",
      "459 RGL4.tsv\n",
      "460 CYTH4.tsv\n",
      "461 LOC284930.tsv\n",
      "462 LOC100419811.tsv\n",
      "463 IGLVIV-66-1.tsv\n",
      "464 UQCRFS1P1.tsv\n",
      "465 LOC105372979.tsv\n",
      "466 ZNF72P.tsv\n",
      "467 IGLVV-66.tsv\n",
      "468 GSTT2.tsv\n",
      "469 IGLV3-21.tsv\n",
      "470 LOC100421121.tsv\n",
      "471 GALR3.tsv\n",
      "472 IGLV3-6.tsv\n",
      "473 BCRP6.tsv\n",
      "474 LOC101929255.tsv\n",
      "475 POM121L10P.tsv\n",
      "476 LOC107985577.tsv\n",
      "477 BCRP3.tsv\n",
      "478 IGLV11-55.tsv\n",
      "479 PPM1F-AS1.tsv\n",
      "480 LOC107985536.tsv\n",
      "481 IGL.tsv\n",
      "482 CPT1B.tsv\n",
      "483 LOC105373023.tsv\n",
      "484 PABPC1P9.tsv\n",
      "485 GGT1.tsv\n",
      "486 SERHL.tsv\n",
      "487 PRR5-ARHGAP8.tsv\n",
      "488 LOC105372859.tsv\n",
      "489 CRYBB3.tsv\n",
      "490 TCF20.tsv\n",
      "491 LOC102723507.tsv\n",
      "492 TOB2.tsv\n",
      "493 COX7BP1.tsv\n",
      "494 NUP50-DT.tsv\n",
      "495 APOBEC3F.tsv\n",
      "496 LOC107985562.tsv\n",
      "497 LOC105372998.tsv\n",
      "498 DDX17.tsv\n",
      "499 KLHDC7B.tsv\n",
      "500 LOC105372952.tsv\n",
      "501 SIRPAP1.tsv\n",
      "502 THAP7-AS1.tsv\n",
      "503 LOC107987320.tsv\n",
      "504 PRR5.tsv\n",
      "505 LOC105373035.tsv\n",
      "506 SEPTIN3.tsv\n",
      "507 FBLN1.tsv\n",
      "508 EMID1.tsv\n",
      "509 LARGE1.tsv\n",
      "510 CYB5R3.tsv\n",
      "511 LOC105373032.tsv\n",
      "512 LOC441996.tsv\n",
      "513 PHF21B.tsv\n",
      "514 MIF.tsv\n"
     ]
    },
    {
     "name": "stdout",
     "output_type": "stream",
     "text": [
      "515 GTPBP1.tsv\n",
      "516 MRPL40.tsv\n",
      "517 LINC01656.tsv\n",
      "518 RN7SL280P.tsv\n",
      "519 LOC105372947.tsv\n",
      "520 LOC112268295.tsv\n",
      "521 KIAA1671.tsv\n",
      "522 RN7SL263P.tsv\n",
      "523 LINC01310.tsv\n",
      "524 LOC101927202.tsv\n",
      "525 KLHDC7B-DT.tsv\n",
      "526 LOC112268288.tsv\n",
      "527 TIMP3.tsv\n",
      "528 RPS15AP38.tsv\n",
      "529 RN7SL757P.tsv\n",
      "530 PARVG.tsv\n",
      "531 IGLV2-23.tsv\n",
      "532 LOC105373019.tsv\n",
      "533 LOC100422416.tsv\n",
      "534 LOC100129358.tsv\n",
      "535 LOC105373069.tsv\n",
      "536 IGLC2.tsv\n",
      "537 LOC107985588.tsv\n",
      "538 LMF2.tsv\n",
      "539 RN7SL812P.tsv\n",
      "540 PNPLA3.tsv\n",
      "541 TPTEP2-CSNK1E.tsv\n",
      "542 DESI1.tsv\n",
      "543 POLDIP3.tsv\n",
      "544 LOC100129254.tsv\n",
      "545 CBX6.tsv\n",
      "546 LOC112268294.tsv\n",
      "547 MLC1.tsv\n",
      "548 DENND6B.tsv\n",
      "549 NDUFA6-DT.tsv\n",
      "550 LINC01422.tsv\n",
      "551 YDJC.tsv\n",
      "552 SDF2L1.tsv\n",
      "553 ACTR3BP6.tsv\n",
      "554 MYO18B.tsv\n",
      "555 LOC107987325.tsv\n",
      "556 MIR5739.tsv\n",
      "557 PPP1R26P2.tsv\n",
      "558 LOC129026.tsv\n",
      "559 LOC105373057.tsv\n",
      "560 EIF4HP2.tsv\n",
      "561 RRP7BP.tsv\n",
      "562 IGKV1OR22-1.tsv\n",
      "563 MYO18B-AS1.tsv\n",
      "564 MCHR1.tsv\n",
      "565 APOL6.tsv\n",
      "566 IGLV3-10.tsv\n",
      "567 GCAT.tsv\n",
      "568 LOC105373037.tsv\n",
      "569 MB.tsv\n",
      "570 CCDC157.tsv\n",
      "571 LOC110091768.tsv\n",
      "572 TUBA3GP.tsv\n",
      "573 RPL23AP82.tsv\n",
      "574 LINC01399.tsv\n",
      "575 CCDC117.tsv\n",
      "576 CHADL.tsv\n",
      "577 LINC01643.tsv\n",
      "578 PRR14L.tsv\n",
      "579 USP41.tsv\n",
      "580 GGT5.tsv\n",
      "581 SEC14L6.tsv\n",
      "582 SCARF2.tsv\n",
      "583 RNF185.tsv\n",
      "584 SH3BP1.tsv\n",
      "585 TOP3B.tsv\n",
      "586 AP1B1P1.tsv\n",
      "587 LOC102723688.tsv\n",
      "588 RN7SKP80.tsv\n",
      "589 IGLL1.tsv\n",
      "590 TANGO2.tsv\n",
      "591 SLC35E4.tsv\n",
      "592 LGALS1.tsv\n",
      "593 BCRP5.tsv\n",
      "594 LOC105373022.tsv\n",
      "595 FAM230F.tsv\n",
      "596 MAPK12.tsv\n",
      "597 LOC112268291.tsv\n",
      "598 LL22NC01-81G9.3.tsv\n",
      "599 LINC00895.tsv\n",
      "600 LIF-AS1.tsv\n",
      "601 KCNMB3P1.tsv\n",
      "602 DRICH1.tsv\n",
      "603 ANKRD62P1.tsv\n",
      "604 ARL2BPP10.tsv\n",
      "605 LOC107985538.tsv\n",
      "606 TRMU.tsv\n",
      "607 PARVB.tsv\n",
      "608 LOC105373064.tsv\n",
      "609 CYP2D8P.tsv\n",
      "610 LOC102724653.tsv\n",
      "611 RN7SKP221.tsv\n",
      "612 GGT2.tsv\n",
      "613 CYP2D6.tsv\n",
      "614 LOC105373013.tsv\n",
      "615 LOC105369161.tsv\n",
      "616 IGLV7-35.tsv\n",
      "617 MTMR3.tsv\n",
      "618 LOC100996364.tsv\n",
      "619 SEPT5-GP1BB.tsv\n",
      "620 SUSD2P2.tsv\n",
      "621 CECR3.tsv\n",
      "622 TOMM40P2.tsv\n",
      "623 LOC105372935.tsv\n",
      "624 LL22NC03-102D1.18.tsv\n",
      "625 CES5AP1.tsv\n",
      "626 LOC107985567.tsv\n",
      "627 LOC105379516.tsv\n",
      "628 MCM5.tsv\n",
      "629 APOBEC3B.tsv\n",
      "630 KDELR3.tsv\n",
      "631 NDUFA6.tsv\n",
      "632 IGLVIV-65.tsv\n",
      "633 LOC105379428.tsv\n",
      "634 LOC107985571.tsv\n",
      "635 LOC100131536.tsv\n",
      "636 LOC100420103.tsv\n",
      "637 PRR34-AS1.tsv\n",
      "638 GUSBP11.tsv\n",
      "639 LOC105373085.tsv\n",
      "640 IGLV3-12.tsv\n",
      "641 L3MBTL2.tsv\n",
      "642 TOMM22.tsv\n",
      "643 PIK3IP1.tsv\n",
      "644 IGLV2-8.tsv\n",
      "645 ANKRD62P1-PARP4P3.tsv\n",
      "646 HDHD5.tsv\n",
      "647 SERHL2.tsv\n",
      "648 DNM1P18.tsv\n",
      "649 APOBEC3G.tsv\n",
      "650 BMP6P1.tsv\n",
      "651 COX6B1P3.tsv\n",
      "652 IGLVI-20.tsv\n",
      "653 TBC1D10A.tsv\n",
      "654 LOC107985556.tsv\n",
      "655 IGLV3-7.tsv\n",
      "656 APOL3.tsv\n",
      "657 ARVCF.tsv\n",
      "658 LOC105373000.tsv\n",
      "659 LOC107985579.tsv\n",
      "660 NIPSNAP1.tsv\n",
      "661 INPP5J.tsv\n",
      "662 UBE2L3.tsv\n",
      "663 POM121L4P.tsv\n",
      "664 IGLV3-27.tsv\n",
      "665 LOC107985532.tsv\n",
      "666 ISCA2P1.tsv\n",
      "667 MPST.tsv\n",
      "668 RN7SL268P.tsv\n",
      "669 LOC105372991.tsv\n",
      "670 GP1BB.tsv\n",
      "671 LOC642648.tsv\n",
      "672 ZMAT5.tsv\n",
      "673 MIR3200.tsv\n",
      "674 RN7SL162P.tsv\n",
      "675 POLR3H.tsv\n",
      "676 IL17REL.tsv\n",
      "677 BCRP2.tsv\n",
      "678 PATZ1.tsv\n",
      "679 CRYBB1.tsv\n",
      "680 APOBEC3H.tsv\n",
      "681 ACR.tsv\n",
      "682 RNF215.tsv\n",
      "683 IGLV3-13.tsv\n",
      "684 ADM2.tsv\n",
      "685 TTC38.tsv\n",
      "686 LOC105373003.tsv\n",
      "687 LOC101927372.tsv\n",
      "688 TSPO.tsv\n",
      "689 LOC102725072.tsv\n",
      "690 TTC28-AS1.tsv\n",
      "691 POTEH.tsv\n",
      "692 DUX4L43.tsv\n",
      "693 ZNF280B.tsv\n",
      "694 LOC107985563.tsv\n",
      "695 PPP6R2.tsv\n",
      "696 IGLVVI-25-1.tsv\n",
      "697 RTCB.tsv\n",
      "698 PEX26.tsv\n",
      "699 RN7SKP63.tsv\n",
      "700 SYCE3.tsv\n",
      "701 GGT3P.tsv\n",
      "702 MGAT3-AS1.tsv\n",
      "703 KIAA1656.tsv\n",
      "704 LOC100507599.tsv\n",
      "705 LOC105372989.tsv\n",
      "706 LINC00528.tsv\n",
      "707 PITPNB.tsv\n",
      "708 C22orf39.tsv\n",
      "709 MIRLET7BHG.tsv\n",
      "710 LOC105373058.tsv\n",
      "711 LOC107984030.tsv\n",
      "712 C22orf34.tsv\n",
      "713 LOC101929372.tsv\n",
      "714 RSPH14.tsv\n",
      "715 CCDC134.tsv\n",
      "716 LOC100420177.tsv\n",
      "717 POM121L11P.tsv\n",
      "718 MFNG.tsv\n",
      "719 LOC107985573.tsv\n",
      "720 CSF2RBP1.tsv\n",
      "721 FAM230D.tsv\n",
      "722 RFPL1S.tsv\n",
      "723 ZNF402P.tsv\n",
      "724 GGTLC5P.tsv\n",
      "725 SEPTIN5.tsv\n",
      "726 CECR7.tsv\n",
      "727 LIMK2.tsv\n",
      "728 LOC107987326.tsv\n",
      "729 LOC101928041.tsv\n",
      "730 SLC5A4-AS1.tsv\n",
      "731 LOC105372969.tsv\n",
      "732 LOC105373002.tsv\n",
      "733 SNRPD3.tsv\n",
      "734 LOC105372850.tsv\n",
      "735 AP1B1P2.tsv\n",
      "736 GGTLC3.tsv\n",
      "737 IGLV1-51.tsv\n",
      "738 LL22NC03-63E9.3.tsv\n",
      "739 LOC101927551.tsv\n",
      "740 MED15.tsv\n",
      "741 PPIL2.tsv\n",
      "742 DUX4L44.tsv\n",
      "743 RPS10P29.tsv\n",
      "744 MTCO3P34.tsv\n",
      "745 RTL10.tsv\n",
      "746 MIF-AS1.tsv\n",
      "747 TERF2IPP1.tsv\n",
      "748 SGSM1.tsv\n",
      "749 PMM1.tsv\n",
      "750 CYP2D7.tsv\n",
      "751 YPEL1.tsv\n",
      "752 LOC107985581.tsv\n",
      "753 TMEM191A.tsv\n",
      "754 MIR3667.tsv\n",
      "755 RHBDD3.tsv\n",
      "756 MTCO3P33.tsv\n",
      "757 RPL35P8.tsv\n",
      "758 SUSD2P1.tsv\n",
      "759 IGLV1-44.tsv\n",
      "760 LINC02559.tsv\n",
      "761 LOC107984037.tsv\n",
      "762 BCRP4.tsv\n",
      "763 RPL6P28.tsv\n",
      "764 YME1L1P1.tsv\n",
      "765 LOC284912.tsv\n",
      "766 GAL3ST1.tsv\n",
      "767 LOC100533637.tsv\n",
      "768 MAFF.tsv\n",
      "769 ARL5AP4.tsv\n",
      "770 C22orf15.tsv\n",
      "771 RNU6-1161P.tsv\n",
      "772 PRR34.tsv\n",
      "773 LOC100420967.tsv\n",
      "774 LOC101927051.tsv\n",
      "775 SELENOM.tsv\n",
      "776 SMTN.tsv\n",
      "777 PPP1R26P4.tsv\n",
      "778 LOC105373068.tsv\n",
      "779 NCF4-AS1.tsv\n",
      "780 LOC107985549.tsv\n",
      "781 NUP50.tsv\n",
      "782 PLXNB2.tsv\n",
      "783 USP18.tsv\n",
      "784 OSM.tsv\n",
      "785 LZTR1.tsv\n",
      "786 MMP11.tsv\n",
      "787 LRRC74B.tsv\n",
      "788 C22orf24.tsv\n",
      "789 UPB1.tsv\n",
      "790 CARD10.tsv\n",
      "791 IGLV3-1.tsv\n",
      "792 LOC101929594.tsv\n",
      "793 LOC100420175.tsv\n",
      "794 PPP1R26P3.tsv\n",
      "795 IGLV3-29.tsv\n",
      "796 LOC105373075.tsv\n",
      "797 LOC107985565.tsv\n",
      "798 LOC105372871.tsv\n",
      "799 FAM230E.tsv\n",
      "800 LOC112268290.tsv\n",
      "801 CNN2P1.tsv\n",
      "802 XBP1.tsv\n",
      "803 VPREB1.tsv\n",
      "804 MIAT.tsv\n",
      "805 LOC112268299.tsv\n",
      "806 LOC107985580.tsv\n",
      "807 FOXRED2.tsv\n",
      "808 APOL2.tsv\n",
      "809 TMEM211.tsv\n",
      "810 FAM230G.tsv\n",
      "811 LINC01634.tsv\n",
      "812 NPTXR.tsv\n",
      "813 LOC100292922.tsv\n",
      "814 PPP1R26P5.tsv\n",
      "815 IGLVI-63.tsv\n",
      "816 LOC107985542.tsv\n",
      "817 POLR2F.tsv\n",
      "818 MIEF1.tsv\n",
      "819 EWSR1.tsv\n",
      "820 LOC102723722.tsv\n",
      "821 IGLC7.tsv\n",
      "822 PRAMENP.tsv\n",
      "823 PVALB.tsv\n",
      "824 LOC101929738.tsv\n",
      "825 IGLV1-40.tsv\n",
      "826 IGLV4-60.tsv\n",
      "827 POM121L9P.tsv\n",
      "828 GRAMD4.tsv\n",
      "829 RPL5P34.tsv\n",
      "830 LOC105373095.tsv\n",
      "831 RN7SL500P.tsv\n",
      "832 LOC105373030.tsv\n",
      "833 RAB36.tsv\n",
      "834 RANGAP1.tsv\n",
      "835 RABL2B.tsv\n",
      "836 LOC100652871.tsv\n",
      "837 L3MBTL2-AS1.tsv\n",
      "838 TFIP11.tsv\n",
      "839 ATP5MGL.tsv\n",
      "840 EIF4ENIF1.tsv\n",
      "841 PKDREJ.tsv\n",
      "842 LINC00898.tsv\n",
      "843 LOC112268300.tsv\n",
      "844 RN7SKP131.tsv\n",
      "845 RASL10A.tsv\n",
      "846 LOC107985582.tsv\n",
      "847 ZNF70.tsv\n",
      "848 LL22NC03-104C7.1.tsv\n",
      "849 SSTR3.tsv\n",
      "850 DGCR5.tsv\n",
      "851 POM121L8P.tsv\n",
      "852 RTL6.tsv\n",
      "853 LINC01637.tsv\n",
      "854 IGLV2-34.tsv\n",
      "855 ODF3B.tsv\n",
      "856 LOC114841040.tsv\n",
      "857 DGCR11.tsv\n",
      "858 GTSE1.tsv\n",
      "859 IGLV8-61.tsv\n",
      "860 LOC107985557.tsv\n",
      "861 LOC105372974.tsv\n",
      "862 PDGFB.tsv\n",
      "863 SHISAL1.tsv\n",
      "864 GSTT4.tsv\n",
      "865 MRTFA-AS1.tsv\n",
      "866 PPP1R14BP1.tsv\n",
      "867 ATP6V1E1.tsv\n",
      "868 LOC102724801.tsv\n",
      "869 LOC105373059.tsv\n",
      "870 LOC112268289.tsv\n",
      "871 RN7SKP169.tsv\n",
      "872 LOC105372977.tsv\n",
      "873 WNT7B.tsv\n",
      "874 ACO2.tsv\n",
      "875 LOC107985576.tsv\n",
      "876 RRP7A.tsv\n",
      "877 SLC5A1.tsv\n",
      "878 MAPK11.tsv\n",
      "879 MAPK8IP2.tsv\n",
      "880 SLC2A11.tsv\n",
      "881 LOC644525.tsv\n",
      "882 PANX2.tsv\n",
      "883 TPST2.tsv\n",
      "884 NAGA.tsv\n",
      "885 TMPRSS6.tsv\n",
      "886 VPREB3.tsv\n",
      "887 LOC105372853.tsv\n",
      "888 RN7SL305P.tsv\n",
      "889 APOL5.tsv\n",
      "890 LOC105372995.tsv\n",
      "891 LOC105372858.tsv\n",
      "892 LOC101927344.tsv\n",
      "893 CABP7.tsv\n",
      "894 TBC1D22A.tsv\n",
      "895 LOC105373063.tsv\n",
      "896 ESS2.tsv\n",
      "897 POM121L1P.tsv\n",
      "898 AIFM3.tsv\n",
      "899 CA15P3.tsv\n",
      "900 LOC100420885.tsv\n",
      "901 LOC107985537.tsv\n",
      "902 SGSM3.tsv\n",
      "903 ABCD1P4.tsv\n",
      "904 CCT8L2.tsv\n",
      "905 GAS2L1.tsv\n",
      "906 IGLV3-24.tsv\n",
      "907 HDAC10.tsv\n",
      "908 IGLV3-9.tsv\n",
      "909 PLA2G3.tsv\n",
      "910 TEF.tsv\n",
      "911 CLTCL1.tsv\n",
      "912 LOC105372863.tsv\n",
      "913 SMPD4P1.tsv\n",
      "914 LOC105372981.tsv\n",
      "915 LOC105373083.tsv\n",
      "916 LOC101927393.tsv\n",
      "917 ADA2.tsv\n",
      "918 ST13.tsv\n",
      "919 MTFP1.tsv\n",
      "920 LOC646216.tsv\n",
      "921 IGLVIV-59.tsv\n",
      "922 LOC107985534.tsv\n",
      "923 EP300.tsv\n",
      "924 MN1.tsv\n",
      "925 HORMAD2.tsv\n",
      "926 LOC107985530.tsv\n",
      "927 UQCR10.tsv\n",
      "928 LOC100129262.tsv\n",
      "929 FRG1GP.tsv\n",
      "930 DDTL.tsv\n",
      "931 TUBGCP6.tsv\n",
      "932 LOC105373031.tsv\n",
      "933 IGLV1-36.tsv\n",
      "934 NDUFA9P1.tsv\n",
      "935 DRG1.tsv\n",
      "936 GNB1L.tsv\n",
      "937 JOSD1.tsv\n",
      "938 IGLVI-42.tsv\n",
      "939 BMS1P20.tsv\n",
      "940 PARP4P3.tsv\n",
      "941 RPS10P31.tsv\n",
      "942 KLHL22.tsv\n",
      "943 SF3A1.tsv\n",
      "944 LOC105373080.tsv\n",
      "945 TRABD.tsv\n",
      "946 SCUBE1.tsv\n",
      "947 LOC105373096.tsv\n",
      "948 APOBEC3B-AS1.tsv\n",
      "949 LOC105372862.tsv\n",
      "950 CHEK2.tsv\n",
      "951 C22orf46.tsv\n",
      "952 KIAA1671-AS1.tsv\n",
      "953 NEFH.tsv\n",
      "954 LOC107987324.tsv\n",
      "955 LOC100313968.tsv\n",
      "956 ASH2LP2.tsv\n",
      "957 IGLL5.tsv\n",
      "958 WBP2NL.tsv\n",
      "959 LOC105373100.tsv\n",
      "960 RBX1.tsv\n",
      "961 RIMBP3.tsv\n",
      "962 PHETA2.tsv\n",
      "963 GRAP2.tsv\n",
      "964 RPS29P31.tsv\n",
      "965 NCF4.tsv\n",
      "966 RN7SL385P.tsv\n",
      "967 RFPL3.tsv\n",
      "968 DUXAP8.tsv\n",
      "969 LOC100422292.tsv\n",
      "970 IGLV9-49.tsv\n",
      "971 LOC100533679.tsv\n",
      "972 PIM3.tsv\n",
      "973 LOC102723305.tsv\n",
      "974 SNORD139.tsv\n",
      "975 ZNF74.tsv\n",
      "976 EFCAB6.tsv\n",
      "977 SBF1.tsv\n",
      "978 LOC105373087.tsv\n",
      "979 LOC105372864.tsv\n",
      "980 LOC105372960.tsv\n",
      "981 ASCC2.tsv\n",
      "982 LOC105373043.tsv\n",
      "983 TCN2.tsv\n",
      "984 SREBF2.tsv\n",
      "985 IGLV4-69.tsv\n",
      "986 CA15P2.tsv\n",
      "987 SNORD140.tsv\n",
      "988 DDT.tsv\n",
      "989 SLC7A4.tsv\n",
      "990 ZDHHC8P1.tsv\n",
      "991 LOC105373024.tsv\n",
      "992 PCAT14.tsv\n",
      "993 IGLV2-5.tsv\n",
      "994 LOC105372994.tsv\n",
      "995 SLC5A4.tsv\n",
      "996 SMARCB1.tsv\n",
      "997 SLC9B1P4.tsv\n",
      "998 SFI1.tsv\n",
      "999 IGLV3-26.tsv\n",
      "1000 CECR2.tsv\n",
      "1001 VWFP1.tsv\n",
      "1002 LOC105372957.tsv\n",
      "1003 ASH2LP1.tsv\n",
      "1004 DNAJA1P6.tsv\n",
      "1005 LINC00229.tsv\n",
      "1006 E2F6P3.tsv\n",
      "1007 PPM1F.tsv\n",
      "1008 PPARA.tsv\n"
     ]
    },
    {
     "name": "stdout",
     "output_type": "stream",
     "text": [
      "1009 ASLP1.tsv\n",
      "1010 C1QTNF6.tsv\n",
      "1011 IGLV3-4.tsv\n",
      "1012 LOC105372942.tsv\n",
      "1013 LOC339666.tsv\n",
      "1014 SOCS2P2.tsv\n",
      "1015 KCTD17.tsv\n",
      "1016 CCDC116.tsv\n",
      "1017 SCO2.tsv\n",
      "1018 SEC14L3.tsv\n",
      "1019 LOC112267890.tsv\n",
      "1020 FAM83F.tsv\n",
      "1021 LOC112268296.tsv\n",
      "1022 LOC101060852.tsv\n",
      "1023 TTLL1.tsv\n",
      "1024 LOC105373062.tsv\n",
      "1025 H1-0.tsv\n",
      "1026 CRYBA4.tsv\n",
      "1027 RPL3.tsv\n"
     ]
    }
   ],
   "source": [
    "total = None\n",
    "nothing = []\n",
    "for i,a in enumerate(ordered_data):\n",
    "    print(i,a)\n",
    "    try:\n",
    "        current_df = pd.read_csv(\n",
    "            op.join(\n",
    "                \"/home/bakirillov/HDD/data/cas9_ot_ordered/\"+a\n",
    "            ), sep=\"\\t\", header=None\n",
    "        )\n",
    "    except:\n",
    "        nothing.append(a)\n",
    "        print(i,a, \"nothing\")\n",
    "    else:\n",
    "        if i == 0:\n",
    "            total = current_df\n",
    "        else:\n",
    "            total = total.append(current_df)"
   ]
  },
  {
   "cell_type": "code",
   "execution_count": 25,
   "metadata": {},
   "outputs": [
    {
     "data": {
      "text/plain": [
       "[]"
      ]
     },
     "execution_count": 25,
     "metadata": {},
     "output_type": "execute_result"
    }
   ],
   "source": [
    "nothing"
   ]
  },
  {
   "cell_type": "code",
   "execution_count": 26,
   "metadata": {},
   "outputs": [],
   "source": [
    "total.to_csv(\"W_ot_paper_ready.tsv\")"
   ]
  },
  {
   "cell_type": "code",
   "execution_count": 27,
   "metadata": {
    "scrolled": true
   },
   "outputs": [
    {
     "data": {
      "text/html": [
       "<div>\n",
       "<style scoped>\n",
       "    .dataframe tbody tr th:only-of-type {\n",
       "        vertical-align: middle;\n",
       "    }\n",
       "\n",
       "    .dataframe tbody tr th {\n",
       "        vertical-align: top;\n",
       "    }\n",
       "\n",
       "    .dataframe thead th {\n",
       "        text-align: right;\n",
       "    }\n",
       "</style>\n",
       "<table border=\"1\" class=\"dataframe\">\n",
       "  <thead>\n",
       "    <tr style=\"text-align: right;\">\n",
       "      <th></th>\n",
       "      <th>0</th>\n",
       "      <th>1</th>\n",
       "      <th>2</th>\n",
       "      <th>3</th>\n",
       "      <th>4</th>\n",
       "      <th>5</th>\n",
       "      <th>6</th>\n",
       "      <th>7</th>\n",
       "      <th>8</th>\n",
       "      <th>9</th>\n",
       "    </tr>\n",
       "  </thead>\n",
       "  <tbody>\n",
       "    <tr>\n",
       "      <th>0</th>\n",
       "      <td>18</td>\n",
       "      <td>CTGGGGCTCAGTAAACACAGTGG</td>\n",
       "      <td>SERPIND1</td>\n",
       "      <td>10260</td>\n",
       "      <td>tTGGGGCTgAaTtAACAgAGTGG</td>\n",
       "      <td>-</td>\n",
       "      <td>5</td>\n",
       "      <td>SERPIND1.tsv</td>\n",
       "      <td>0.146509</td>\n",
       "      <td>0.015744</td>\n",
       "    </tr>\n",
       "    <tr>\n",
       "      <th>1</th>\n",
       "      <td>17</td>\n",
       "      <td>CTGGGGCTCAGTAAACACAGTGG</td>\n",
       "      <td>SERPIND1</td>\n",
       "      <td>10260</td>\n",
       "      <td>tTGGGGCTgAaTtAACAgAGTGG</td>\n",
       "      <td>-</td>\n",
       "      <td>5</td>\n",
       "      <td>SERPIND1.tsv</td>\n",
       "      <td>0.146497</td>\n",
       "      <td>0.016037</td>\n",
       "    </tr>\n",
       "    <tr>\n",
       "      <th>2</th>\n",
       "      <td>10</td>\n",
       "      <td>CAGGAGAATCAGTTGAACCCGGG</td>\n",
       "      <td>SERPIND1</td>\n",
       "      <td>1601</td>\n",
       "      <td>CAGGAGgATCgcTTGAgCCCaGG</td>\n",
       "      <td>-</td>\n",
       "      <td>5</td>\n",
       "      <td>SERPIND1.tsv</td>\n",
       "      <td>0.146457</td>\n",
       "      <td>0.016275</td>\n",
       "    </tr>\n",
       "    <tr>\n",
       "      <th>3</th>\n",
       "      <td>14</td>\n",
       "      <td>CAGGAGAATCAGTTGAACCCGGG</td>\n",
       "      <td>SERPIND1</td>\n",
       "      <td>1601</td>\n",
       "      <td>CAGGAGgATCgcTTGAgCCCaGG</td>\n",
       "      <td>-</td>\n",
       "      <td>5</td>\n",
       "      <td>SERPIND1.tsv</td>\n",
       "      <td>0.146407</td>\n",
       "      <td>0.016008</td>\n",
       "    </tr>\n",
       "    <tr>\n",
       "      <th>4</th>\n",
       "      <td>3</td>\n",
       "      <td>CAGGACAACCACTTGAACCCGGG</td>\n",
       "      <td>SERPIND1</td>\n",
       "      <td>552</td>\n",
       "      <td>CAGGAgAAtCgCTTaAACCCGGG</td>\n",
       "      <td>+</td>\n",
       "      <td>4</td>\n",
       "      <td>SERPIND1.tsv</td>\n",
       "      <td>0.145452</td>\n",
       "      <td>0.012006</td>\n",
       "    </tr>\n",
       "    <tr>\n",
       "      <th>...</th>\n",
       "      <td>...</td>\n",
       "      <td>...</td>\n",
       "      <td>...</td>\n",
       "      <td>...</td>\n",
       "      <td>...</td>\n",
       "      <td>...</td>\n",
       "      <td>...</td>\n",
       "      <td>...</td>\n",
       "      <td>...</td>\n",
       "      <td>...</td>\n",
       "    </tr>\n",
       "    <tr>\n",
       "      <th>67</th>\n",
       "      <td>45</td>\n",
       "      <td>CCCCTGACCCCACCACACCGTGG</td>\n",
       "      <td>CRYBA4</td>\n",
       "      <td>3019</td>\n",
       "      <td>aCCCTGACCtCAgCACACacaGG</td>\n",
       "      <td>+</td>\n",
       "      <td>6</td>\n",
       "      <td>CRYBA4.tsv</td>\n",
       "      <td>0.113586</td>\n",
       "      <td>0.075177</td>\n",
       "    </tr>\n",
       "    <tr>\n",
       "      <th>68</th>\n",
       "      <td>68</td>\n",
       "      <td>AGAGCAAACCATGAACAAGGAGG</td>\n",
       "      <td>CRYBA4</td>\n",
       "      <td>8436</td>\n",
       "      <td>AGAGgAAACgAgctcCAAGGAGG</td>\n",
       "      <td>-</td>\n",
       "      <td>6</td>\n",
       "      <td>CRYBA4.tsv</td>\n",
       "      <td>0.111072</td>\n",
       "      <td>0.082156</td>\n",
       "    </tr>\n",
       "    <tr>\n",
       "      <th>0</th>\n",
       "      <td>2</td>\n",
       "      <td>TGTGGAGAGAAGGAAAGAGAGGG</td>\n",
       "      <td>RPL3</td>\n",
       "      <td>648</td>\n",
       "      <td>gGgaGAGgaAAGGAAgGAGAGGG</td>\n",
       "      <td>-</td>\n",
       "      <td>6</td>\n",
       "      <td>RPL3.tsv</td>\n",
       "      <td>0.395202</td>\n",
       "      <td>0.008788</td>\n",
       "    </tr>\n",
       "    <tr>\n",
       "      <th>1</th>\n",
       "      <td>1</td>\n",
       "      <td>AGCCACCCTGACCATCACTGGGG</td>\n",
       "      <td>RPL3</td>\n",
       "      <td>1741</td>\n",
       "      <td>AaCCcCaCTccCCATCACgGGGG</td>\n",
       "      <td>+</td>\n",
       "      <td>6</td>\n",
       "      <td>RPL3.tsv</td>\n",
       "      <td>0.136306</td>\n",
       "      <td>0.009416</td>\n",
       "    </tr>\n",
       "    <tr>\n",
       "      <th>2</th>\n",
       "      <td>0</td>\n",
       "      <td>GAGCAGACCTGAGTAGCGCAAGG</td>\n",
       "      <td>RPL3</td>\n",
       "      <td>3965</td>\n",
       "      <td>GAGCAGAgCaGAGTtGgGgAgGG</td>\n",
       "      <td>+</td>\n",
       "      <td>6</td>\n",
       "      <td>RPL3.tsv</td>\n",
       "      <td>0.107108</td>\n",
       "      <td>0.095953</td>\n",
       "    </tr>\n",
       "  </tbody>\n",
       "</table>\n",
       "<p>70391 rows × 10 columns</p>\n",
       "</div>"
      ],
      "text/plain": [
       "     0                        1         2      3                        4  5  \\\n",
       "0   18  CTGGGGCTCAGTAAACACAGTGG  SERPIND1  10260  tTGGGGCTgAaTtAACAgAGTGG  -   \n",
       "1   17  CTGGGGCTCAGTAAACACAGTGG  SERPIND1  10260  tTGGGGCTgAaTtAACAgAGTGG  -   \n",
       "2   10  CAGGAGAATCAGTTGAACCCGGG  SERPIND1   1601  CAGGAGgATCgcTTGAgCCCaGG  -   \n",
       "3   14  CAGGAGAATCAGTTGAACCCGGG  SERPIND1   1601  CAGGAGgATCgcTTGAgCCCaGG  -   \n",
       "4    3  CAGGACAACCACTTGAACCCGGG  SERPIND1    552  CAGGAgAAtCgCTTaAACCCGGG  +   \n",
       "..  ..                      ...       ...    ...                      ... ..   \n",
       "67  45  CCCCTGACCCCACCACACCGTGG    CRYBA4   3019  aCCCTGACCtCAgCACACacaGG  +   \n",
       "68  68  AGAGCAAACCATGAACAAGGAGG    CRYBA4   8436  AGAGgAAACgAgctcCAAGGAGG  -   \n",
       "0    2  TGTGGAGAGAAGGAAAGAGAGGG      RPL3    648  gGgaGAGgaAAGGAAgGAGAGGG  -   \n",
       "1    1  AGCCACCCTGACCATCACTGGGG      RPL3   1741  AaCCcCaCTccCCATCACgGGGG  +   \n",
       "2    0  GAGCAGACCTGAGTAGCGCAAGG      RPL3   3965  GAGCAGAgCaGAGTtGgGgAgGG  +   \n",
       "\n",
       "    6             7         8         9  \n",
       "0   5  SERPIND1.tsv  0.146509  0.015744  \n",
       "1   5  SERPIND1.tsv  0.146497  0.016037  \n",
       "2   5  SERPIND1.tsv  0.146457  0.016275  \n",
       "3   5  SERPIND1.tsv  0.146407  0.016008  \n",
       "4   4  SERPIND1.tsv  0.145452  0.012006  \n",
       ".. ..           ...       ...       ...  \n",
       "67  6    CRYBA4.tsv  0.113586  0.075177  \n",
       "68  6    CRYBA4.tsv  0.111072  0.082156  \n",
       "0   6      RPL3.tsv  0.395202  0.008788  \n",
       "1   6      RPL3.tsv  0.136306  0.009416  \n",
       "2   6      RPL3.tsv  0.107108  0.095953  \n",
       "\n",
       "[70391 rows x 10 columns]"
      ]
     },
     "execution_count": 27,
     "metadata": {},
     "output_type": "execute_result"
    }
   ],
   "source": [
    "total"
   ]
  },
  {
   "cell_type": "code",
   "execution_count": 28,
   "metadata": {},
   "outputs": [],
   "source": [
    "from pylab import rcParams\n",
    "\n",
    "rcParams[\"figure.figsize\"] = (12,10)"
   ]
  },
  {
   "cell_type": "code",
   "execution_count": 29,
   "metadata": {},
   "outputs": [],
   "source": [
    "m_bins, m_edges = np.histogram(total[8].values)\n",
    "v_bins, v_edges = np.histogram(total[9].values)"
   ]
  },
  {
   "cell_type": "code",
   "execution_count": 30,
   "metadata": {},
   "outputs": [
    {
     "data": {
      "text/plain": [
       "array([0.10363158, 0.14247603, 0.18132048, 0.22016493, 0.25900937,\n",
       "       0.29785382, 0.33669827, 0.37554272, 0.41438717, 0.45323162,\n",
       "       0.49207607])"
      ]
     },
     "execution_count": 30,
     "metadata": {},
     "output_type": "execute_result"
    }
   ],
   "source": [
    "m_edges"
   ]
  },
  {
   "cell_type": "code",
   "execution_count": 31,
   "metadata": {},
   "outputs": [
    {
     "data": {
      "text/plain": [
       "array([0.00872166, 0.02417965, 0.03963764, 0.05509563, 0.07055361,\n",
       "       0.0860116 , 0.10146959, 0.11692758, 0.13238557, 0.14784355,\n",
       "       0.16330154])"
      ]
     },
     "execution_count": 31,
     "metadata": {},
     "output_type": "execute_result"
    }
   ],
   "source": [
    "v_edges"
   ]
  },
  {
   "cell_type": "code",
   "execution_count": 32,
   "metadata": {},
   "outputs": [],
   "source": [
    "def bin_n(x, edges):\n",
    "    if x <= edges[0]:\n",
    "        return(1)\n",
    "    elif x >= edges[-1]:\n",
    "        return(edges.shape[0]-1)\n",
    "    else:\n",
    "        return((edges > x).tolist().index(True))"
   ]
  },
  {
   "cell_type": "code",
   "execution_count": 33,
   "metadata": {},
   "outputs": [],
   "source": [
    "total[10] = total[8].apply(lambda x: bin_n(x, m_edges))\n",
    "total[11] = total[9].apply(lambda x: bin_n(x, v_edges))"
   ]
  },
  {
   "cell_type": "code",
   "execution_count": 34,
   "metadata": {},
   "outputs": [],
   "source": [
    "known_ots = pd.read_csv(\n",
    "    \"/home/bakirillov/HDD/data/Svetlana_data/Table_S8_machine_learning_input.txt\", index_col=0, sep=\"\\t\"\n",
    ")"
   ]
  },
  {
   "cell_type": "code",
   "execution_count": 35,
   "metadata": {},
   "outputs": [],
   "source": [
    "def n_mms(a, b):\n",
    "    return(np.sum([int(c != d) for c,d in zip(a, b)]))"
   ]
  },
  {
   "cell_type": "code",
   "execution_count": 36,
   "metadata": {},
   "outputs": [],
   "source": [
    "only_those = [n_mms(a, b) > 0 for a,b in zip(known_ots[\"genome input\"], known_ots[\"sgRNA input\"])]"
   ]
  },
  {
   "cell_type": "code",
   "execution_count": 37,
   "metadata": {},
   "outputs": [
    {
     "data": {
      "text/plain": [
       "(26248, 10)"
      ]
     },
     "execution_count": 37,
     "metadata": {},
     "output_type": "execute_result"
    }
   ],
   "source": [
    "known_ots.shape"
   ]
  },
  {
   "cell_type": "code",
   "execution_count": 38,
   "metadata": {},
   "outputs": [
    {
     "data": {
      "text/plain": [
       "(26248, 10)"
      ]
     },
     "execution_count": 38,
     "metadata": {},
     "output_type": "execute_result"
    }
   ],
   "source": [
    "known_ots[only_those].shape"
   ]
  },
  {
   "cell_type": "code",
   "execution_count": 39,
   "metadata": {},
   "outputs": [],
   "source": [
    "u2 = ImperfectMatchTransform(\"NGG\", False, False, fold=False, cut_at_start=2, cut_at_end=1)\n",
    "transformer2 = transforms.Compose(\n",
    "    [\n",
    "        u2, ToTensor(cudap=True)\n",
    "    ]\n",
    ")"
   ]
  },
  {
   "cell_type": "code",
   "execution_count": 40,
   "metadata": {},
   "outputs": [],
   "source": [
    "ko_set = WeissmanDataset(known_ots, np.arange(known_ots.shape[0]), transformer2)\n",
    "ko_set_loader = DataLoader(ko_set, shuffle=False, batch_size=256)"
   ]
  },
  {
   "cell_type": "code",
   "execution_count": 41,
   "metadata": {},
   "outputs": [
    {
     "name": "stderr",
     "output_type": "stream",
     "text": [
      "100%|██████████| 103/103 [00:12<00:00,  8.37it/s]\n"
     ]
    }
   ],
   "source": [
    "ko_w_oa = []\n",
    "ko_w_va = []\n",
    "for transformed_batch, _ in tqdm(ko_set_loader):\n",
    "    ko_w = w_model(transformed_batch)\n",
    "    ko_w_o = w_model.likelihood(\n",
    "        ko_w[0]\n",
    "    ).mean.mean(0).cpu().data.numpy()\n",
    "    ko_w_v = w_model.likelihood(\n",
    "        ko_w[0]\n",
    "    ).variance.mean(0).cpu().data.numpy()\n",
    "    ko_w_oa.extend(ko_w_o)\n",
    "    ko_w_va.extend(ko_w_v)"
   ]
  },
  {
   "cell_type": "code",
   "execution_count": 42,
   "metadata": {
    "scrolled": true
   },
   "outputs": [
    {
     "data": {
      "text/plain": [
       "26248"
      ]
     },
     "execution_count": 42,
     "metadata": {},
     "output_type": "execute_result"
    }
   ],
   "source": [
    "len(ko_w_va)"
   ]
  },
  {
   "cell_type": "code",
   "execution_count": null,
   "metadata": {},
   "outputs": [],
   "source": []
  },
  {
   "cell_type": "code",
   "execution_count": 56,
   "metadata": {},
   "outputs": [
    {
     "name": "stderr",
     "output_type": "stream",
     "text": [
      "/home/bakirillov/anaconda3/envs/lapki/lib/python3.7/site-packages/ipykernel_launcher.py:22: UserWarning: Matplotlib is currently using module://ipykernel.pylab.backend_inline, which is a non-GUI backend, so cannot show the figure.\n"
     ]
    },
    {
     "data": {
      "image/png": "[encoded data removed]",
      "text/plain": [
       "<Figure size 864x720 with 4 Axes>"
      ]
     },
     "metadata": {
      "needs_background": "light"
     },
     "output_type": "display_data"
    }
   ],
   "source": [
    "fig, ax = plt.subplots(2, 2)\n",
    "#fig.suptitle('Off-targets for the best on-target gRNAs')\n",
    "ax[0][0].hist(total[8].values, density=True, bins=20)\n",
    "ax[0][0].hist(ko_w_oa, bins=20, density=True, color=(1,0,0,0.2))\n",
    "ax[0][0].set_title(\"a. Mean off-target activity distribution\")\n",
    "ax[0][0].set_xlabel(\"Mean activity\")\n",
    "ax[0][0].set_ylabel(\"#offtargets\")\n",
    "ax[0][1].hist(total[9].values, bins=20)\n",
    "#ax[0][1].hist(ko_w_va, bins=20, density=False, color=(1,0,0,0.2))\n",
    "#ax[0][1].set_ylim((0,100))\n",
    "ax[0][1].set_title(\"b. Variance for off-target activity distribution\")\n",
    "ax[0][1].set_xlabel(\"Activity variance\")\n",
    "ax[0][1].set_ylabel(\"#offtargets\")\n",
    "ax[1][0].scatter(total[8], total[9], c=np.logical_and(total[8] < 0.15, total[9] < 0.015))\n",
    "ax[1][0].set_title(\"c. Mean vs Variance for top 10 off-targets\")\n",
    "ax[1][0].set_xlabel(\"Mean activity\")\n",
    "ax[1][0].set_ylabel(\"Activity variance\")\n",
    "ax[1][1].imshow(pd.crosstab(total[10], total[11]).values)\n",
    "ax[1][1].set_title(\"d. Mean vs Variance heatmap\")\n",
    "ax[1][1].set_xlabel(\"Activity variance\")\n",
    "ax[1][1].set_ylabel(\"Mean activity\")\n",
    "fig.show()"
   ]
  },
  {
   "cell_type": "code",
   "execution_count": 48,
   "metadata": {},
   "outputs": [
    {
     "data": {
      "text/plain": [
       "(36926,)"
      ]
     },
     "execution_count": 48,
     "metadata": {},
     "output_type": "execute_result"
    }
   ],
   "source": [
    "np.arange(total.shape[0])[np.logical_and(total[8] < 0.15, total[9] < 0.015)].shape"
   ]
  },
  {
   "cell_type": "code",
   "execution_count": 64,
   "metadata": {},
   "outputs": [
    {
     "data": {
      "text/html": [
       "<div>\n",
       "<style scoped>\n",
       "    .dataframe tbody tr th:only-of-type {\n",
       "        vertical-align: middle;\n",
       "    }\n",
       "\n",
       "    .dataframe tbody tr th {\n",
       "        vertical-align: top;\n",
       "    }\n",
       "\n",
       "    .dataframe thead th {\n",
       "        text-align: right;\n",
       "    }\n",
       "</style>\n",
       "<table border=\"1\" class=\"dataframe\">\n",
       "  <thead>\n",
       "    <tr style=\"text-align: right;\">\n",
       "      <th></th>\n",
       "      <th>8</th>\n",
       "      <th>9</th>\n",
       "    </tr>\n",
       "  </thead>\n",
       "  <tbody>\n",
       "    <tr>\n",
       "      <th>4</th>\n",
       "      <td>0.145452</td>\n",
       "      <td>0.012006</td>\n",
       "    </tr>\n",
       "    <tr>\n",
       "      <th>5</th>\n",
       "      <td>0.145225</td>\n",
       "      <td>0.011772</td>\n",
       "    </tr>\n",
       "    <tr>\n",
       "      <th>6</th>\n",
       "      <td>0.145096</td>\n",
       "      <td>0.011720</td>\n",
       "    </tr>\n",
       "    <tr>\n",
       "      <th>7</th>\n",
       "      <td>0.143252</td>\n",
       "      <td>0.010751</td>\n",
       "    </tr>\n",
       "    <tr>\n",
       "      <th>8</th>\n",
       "      <td>0.142875</td>\n",
       "      <td>0.010619</td>\n",
       "    </tr>\n",
       "    <tr>\n",
       "      <th>...</th>\n",
       "      <td>...</td>\n",
       "      <td>...</td>\n",
       "    </tr>\n",
       "    <tr>\n",
       "      <th>61</th>\n",
       "      <td>0.121515</td>\n",
       "      <td>0.008753</td>\n",
       "    </tr>\n",
       "    <tr>\n",
       "      <th>62</th>\n",
       "      <td>0.121411</td>\n",
       "      <td>0.008757</td>\n",
       "    </tr>\n",
       "    <tr>\n",
       "      <th>63</th>\n",
       "      <td>0.121406</td>\n",
       "      <td>0.008750</td>\n",
       "    </tr>\n",
       "    <tr>\n",
       "      <th>64</th>\n",
       "      <td>0.121377</td>\n",
       "      <td>0.008761</td>\n",
       "    </tr>\n",
       "    <tr>\n",
       "      <th>1</th>\n",
       "      <td>0.136306</td>\n",
       "      <td>0.009416</td>\n",
       "    </tr>\n",
       "  </tbody>\n",
       "</table>\n",
       "<p>36926 rows × 2 columns</p>\n",
       "</div>"
      ],
      "text/plain": [
       "           8         9\n",
       "4   0.145452  0.012006\n",
       "5   0.145225  0.011772\n",
       "6   0.145096  0.011720\n",
       "7   0.143252  0.010751\n",
       "8   0.142875  0.010619\n",
       "..       ...       ...\n",
       "61  0.121515  0.008753\n",
       "62  0.121411  0.008757\n",
       "63  0.121406  0.008750\n",
       "64  0.121377  0.008761\n",
       "1   0.136306  0.009416\n",
       "\n",
       "[36926 rows x 2 columns]"
      ]
     },
     "execution_count": 64,
     "metadata": {},
     "output_type": "execute_result"
    }
   ],
   "source": [
    "total[[8,9]][np.logical_and(total[8] < 0.15, total[9] < 0.015)]"
   ]
  },
  {
   "cell_type": "code",
   "execution_count": 66,
   "metadata": {},
   "outputs": [
    {
     "data": {
      "text/plain": [
       "0.1337713138831128"
      ]
     },
     "execution_count": 66,
     "metadata": {},
     "output_type": "execute_result"
    }
   ],
   "source": [
    "np.mean(total[[8,9]][np.logical_and(total[8] < 0.15, total[9] < 0.015)][8])"
   ]
  },
  {
   "cell_type": "code",
   "execution_count": 67,
   "metadata": {},
   "outputs": [
    {
     "data": {
      "text/plain": [
       "0.009053401865557508"
      ]
     },
     "execution_count": 67,
     "metadata": {},
     "output_type": "execute_result"
    }
   ],
   "source": [
    "np.std(total[[8,9]][np.logical_and(total[8] < 0.15, total[9] < 0.015)][8])"
   ]
  },
  {
   "cell_type": "code",
   "execution_count": 62,
   "metadata": {},
   "outputs": [
    {
     "data": {
      "text/plain": [
       "(8,)"
      ]
     },
     "execution_count": 62,
     "metadata": {},
     "output_type": "execute_result"
    }
   ],
   "source": [
    "np.arange(total.shape[0])[np.logical_and(total[8] > 0.15, total[9] > 0.015)].shape"
   ]
  },
  {
   "cell_type": "code",
   "execution_count": 54,
   "metadata": {},
   "outputs": [
    {
     "data": {
      "text/plain": [
       "0.1337713138831128"
      ]
     },
     "execution_count": 54,
     "metadata": {},
     "output_type": "execute_result"
    }
   ],
   "source": [
    "np.mean(total[8][np.logical_and(total[8] < 0.15, total[9] < 0.015)])"
   ]
  },
  {
   "cell_type": "code",
   "execution_count": 55,
   "metadata": {},
   "outputs": [
    {
     "data": {
      "text/plain": [
       "0.009815528173533707"
      ]
     },
     "execution_count": 55,
     "metadata": {},
     "output_type": "execute_result"
    }
   ],
   "source": [
    "np.mean(total[9][np.logical_and(total[8] < 0.15, total[9] < 0.015)])"
   ]
  },
  {
   "cell_type": "code",
   "execution_count": 50,
   "metadata": {},
   "outputs": [
    {
     "data": {
      "text/plain": [
       "70391"
      ]
     },
     "execution_count": 50,
     "metadata": {},
     "output_type": "execute_result"
    }
   ],
   "source": [
    "total.shape[0]"
   ]
  },
  {
   "cell_type": "code",
   "execution_count": 57,
   "metadata": {},
   "outputs": [
    {
     "data": {
      "text/plain": [
       "0.5245841087639045"
      ]
     },
     "execution_count": 57,
     "metadata": {},
     "output_type": "execute_result"
    }
   ],
   "source": [
    "36926/70391"
   ]
  },
  {
   "cell_type": "code",
   "execution_count": 59,
   "metadata": {},
   "outputs": [
    {
     "data": {
      "text/plain": [
       "0.13554289610887754"
      ]
     },
     "execution_count": 59,
     "metadata": {},
     "output_type": "execute_result"
    }
   ],
   "source": [
    "9541/70391"
   ]
  },
  {
   "cell_type": "code",
   "execution_count": 61,
   "metadata": {},
   "outputs": [
    {
     "data": {
      "text/plain": [
       "0.3397593442343481"
      ]
     },
     "execution_count": 61,
     "metadata": {},
     "output_type": "execute_result"
    }
   ],
   "source": [
    "23916/70391"
   ]
  },
  {
   "cell_type": "code",
   "execution_count": 45,
   "metadata": {},
   "outputs": [
    {
     "data": {
      "text/plain": [
       "0     0.015744\n",
       "1     0.016037\n",
       "2     0.016275\n",
       "3     0.016008\n",
       "4     0.012006\n",
       "        ...   \n",
       "67    0.075177\n",
       "68    0.082156\n",
       "0     0.008788\n",
       "1     0.009416\n",
       "2     0.095953\n",
       "Name: 9, Length: 70391, dtype: float64"
      ]
     },
     "execution_count": 45,
     "metadata": {},
     "output_type": "execute_result"
    }
   ],
   "source": [
    "total[9]"
   ]
  },
  {
   "cell_type": "code",
   "execution_count": 94,
   "metadata": {},
   "outputs": [
    {
     "data": {
      "image/png": "[encoded data removed]",
      "text/plain": [
       "<Figure size 864x720 with 4 Axes>"
      ]
     },
     "metadata": {
      "needs_background": "light"
     },
     "output_type": "display_data"
    }
   ],
   "source": [
    "fig, ax = plt.subplots(2, 2)\n",
    "#fig.suptitle('Off-targets for the best on-target gRNAs')\n",
    "ax[0][0].hist(total[8].values, density=True, bins=20)\n",
    "ax[0][0].hist(ko_w_oa, bins=20, density=True, color=(1,0,0,0.2))\n",
    "ax[0][0].set_title(\"a. Mean off-target activity distribution\")\n",
    "ax[0][0].set_xlabel(\"Mean activity\")\n",
    "ax[0][0].set_ylabel(\"#offtargets\")\n",
    "ax[0][1].hist(total[9].values, bins=20)\n",
    "#ax[0][1].hist(ko_w_va, bins=20, density=False, color=(1,0,0,0.2))\n",
    "#ax[0][1].set_ylim((0,100))\n",
    "ax[0][1].set_title(\"b. Variance for off-target activity distribution\")\n",
    "ax[0][1].set_xlabel(\"Activity variance\")\n",
    "ax[0][1].set_ylabel(\"#offtargets\")\n",
    "ax[1][0].scatter(total[8], total[9])\n",
    "ax[1][0].set_title(\"c. Mean vs Variance for top 10 off-targets\")\n",
    "ax[1][0].set_xlabel(\"Mean activity\")\n",
    "ax[1][0].set_ylabel(\"Activity variance\")\n",
    "ax[1][1].imshow(pd.crosstab(total[10], total[11]).values)\n",
    "ax[1][1].set_title(\"d. Mean vs Variance heatmap\")\n",
    "ax[1][1].set_xlabel(\"Activity variance\")\n",
    "ax[1][1].set_ylabel(\"Mean activity\")\n",
    "fig.show()"
   ]
  },
  {
   "cell_type": "code",
   "execution_count": 57,
   "metadata": {},
   "outputs": [
    {
     "data": {
      "text/plain": [
       "array([1, 0, 0, 0, 0, 0, 0, 1, 0, 1, 0, 0])"
      ]
     },
     "execution_count": 57,
     "metadata": {},
     "output_type": "execute_result"
    }
   ],
   "source": [
    "onehot([1,2,3])"
   ]
  },
  {
   "cell_type": "code",
   "execution_count": 89,
   "metadata": {},
   "outputs": [
    {
     "data": {
      "text/plain": [
       "46"
      ]
     },
     "execution_count": 89,
     "metadata": {},
     "output_type": "execute_result"
    }
   ],
   "source": [
    "len(pop[0])"
   ]
  },
  {
   "cell_type": "code",
   "execution_count": 94,
   "metadata": {},
   "outputs": [],
   "source": [
    "u = correct_order(onehot(pop[0][0:23]))"
   ]
  },
  {
   "cell_type": "code",
   "execution_count": 96,
   "metadata": {},
   "outputs": [
    {
     "data": {
      "text/plain": [
       "(92,)"
      ]
     },
     "execution_count": 96,
     "metadata": {},
     "output_type": "execute_result"
    }
   ],
   "source": [
    "u.shape"
   ]
  },
  {
   "cell_type": "code",
   "execution_count": 98,
   "metadata": {},
   "outputs": [
    {
     "data": {
      "text/plain": [
       "<matplotlib.image.AxesImage at 0x7f609fdbc390>"
      ]
     },
     "execution_count": 98,
     "metadata": {},
     "output_type": "execute_result"
    },
    {
     "data": {
      "image/png": "[encoded data removed]",
      "text/plain": [
       "<Figure size 432x288 with 1 Axes>"
      ]
     },
     "metadata": {
      "needs_background": "light"
     },
     "output_type": "display_data"
    }
   ],
   "source": [
    "plt.imshow(u.reshape(4, 23))"
   ]
  },
  {
   "cell_type": "code",
   "execution_count": 101,
   "metadata": {},
   "outputs": [
    {
     "data": {
      "text/plain": [
       "(2, 4, 23)"
      ]
     },
     "execution_count": 101,
     "metadata": {},
     "output_type": "execute_result"
    }
   ],
   "source": [
    "np.stack([u.reshape(4, 23),u.reshape(4, 23)]).shape"
   ]
  },
  {
   "cell_type": "code",
   "execution_count": 91,
   "metadata": {},
   "outputs": [
    {
     "data": {
      "text/plain": [
       "23"
      ]
     },
     "execution_count": 91,
     "metadata": {},
     "output_type": "execute_result"
    }
   ],
   "source": [
    "len(pop[0][23:])"
   ]
  },
  {
   "cell_type": "code",
   "execution_count": 201,
   "metadata": {},
   "outputs": [],
   "source": [
    "def active_and_uncertain(x):\n",
    "    first = correct_order(onehot(x[0:23])).reshape(4, 23)\n",
    "    second = correct_order(onehot(x[23:])).reshape(4, 23)\n",
    "    x = torch.from_numpy(np.stack([first,second])).type(torch.FloatTensor)\n",
    "    I = x.reshape(1, 2, 4, 23).cuda()\n",
    "    tb_w = w_model(I)\n",
    "    mlik = w_model.likelihood(\n",
    "        tb_w[0]\n",
    "    )\n",
    "    tb_w_o = mlik.mean.mean(0).cpu().data.numpy()\n",
    "    tb_w_v = mlik.variance.mean(0).cpu().data.numpy()**0.5\n",
    "    mm = sum([int(d==e) for d,e in zip(x[0:23],x[23:])])/23\n",
    "    return(tb_w_o+0.5*tb_w_v+mm)"
   ]
  },
  {
   "cell_type": "code",
   "execution_count": 202,
   "metadata": {},
   "outputs": [],
   "source": [
    "from deap import algorithms"
   ]
  },
  {
   "cell_type": "code",
   "execution_count": 203,
   "metadata": {},
   "outputs": [
    {
     "name": "stderr",
     "output_type": "stream",
     "text": [
      "/home/bakirillov/anaconda3/envs/lapki/lib/python3.7/site-packages/deap/creator.py:141: RuntimeWarning: A class named 'FitnessMax' has already been created and it will be overwritten. Consider deleting previous creation of that class or rename it.\n",
      "  RuntimeWarning)\n",
      "/home/bakirillov/anaconda3/envs/lapki/lib/python3.7/site-packages/deap/creator.py:141: RuntimeWarning: A class named 'Individual' has already been created and it will be overwritten. Consider deleting previous creation of that class or rename it.\n",
      "  RuntimeWarning)\n"
     ]
    }
   ],
   "source": [
    "import random\n",
    "from deap import base, creator, tools, algorithms\n",
    "\n",
    "def evaluate(individual):\n",
    "    return(active_and_uncertain(individual))\n",
    "\n",
    "creator.create(\"FitnessMax\", base.Fitness, weights=(1.0,))\n",
    "creator.create(\"Individual\", list, fitness=creator.FitnessMax)\n",
    "\n",
    "toolbox = base.Toolbox()\n",
    "toolbox.register(\"nucleotide\", random.randint, 1, 4)\n",
    "toolbox.register(\n",
    "    \"individual\", tools.initRepeat, creator.Individual, \n",
    "    toolbox.nucleotide, 2*23\n",
    ")\n",
    "toolbox.register(\n",
    "    \"population\", tools.initRepeat, list, toolbox.individual\n",
    ")\n",
    "\n",
    "toolbox.register(\"evaluate\", evaluate)\n",
    "toolbox.register(\"mate\", tools.cxTwoPoint)\n",
    "toolbox.register(\"mutate\", tools.mutUniformInt, low=1, up=4, indpb=0.05)\n",
    "toolbox.register(\"select\", tools.selTournament, tournsize=3)"
   ]
  },
  {
   "cell_type": "code",
   "execution_count": 204,
   "metadata": {},
   "outputs": [],
   "source": [
    "pop = toolbox.population(n=3000)\n",
    "hof = tools.HallOfFame(100)\n",
    "\n",
    "stats = tools.Statistics(lambda ind: ind.fitness.values)\n",
    "stats.register(\"avg\", np.mean)\n",
    "stats.register(\"std\", np.std)\n",
    "stats.register(\"min\", np.min)\n",
    "stats.register(\"max\", np.max)"
   ]
  },
  {
   "cell_type": "code",
   "execution_count": 205,
   "metadata": {
    "scrolled": true
   },
   "outputs": [
    {
     "ename": "KeyboardInterrupt",
     "evalue": "",
     "output_type": "error",
     "traceback": [
      "\u001b[0;31m---------------------------------------------------------------------------\u001b[0m",
      "\u001b[0;31mKeyboardInterrupt\u001b[0m                         Traceback (most recent call last)",
      "\u001b[0;32m<ipython-input-205-329dfbb53d0a>\u001b[0m in \u001b[0;36m<module>\u001b[0;34m\u001b[0m\n\u001b[1;32m      1\u001b[0m pop, log = algorithms.eaSimple(\n\u001b[1;32m      2\u001b[0m     \u001b[0mpop\u001b[0m\u001b[0;34m,\u001b[0m \u001b[0mtoolbox\u001b[0m\u001b[0;34m,\u001b[0m \u001b[0mcxpb\u001b[0m\u001b[0;34m=\u001b[0m\u001b[0;36m0.5\u001b[0m\u001b[0;34m,\u001b[0m \u001b[0mmutpb\u001b[0m\u001b[0;34m=\u001b[0m\u001b[0;36m0.2\u001b[0m\u001b[0;34m,\u001b[0m \u001b[0mngen\u001b[0m\u001b[0;34m=\u001b[0m\u001b[0;36m40\u001b[0m\u001b[0;34m,\u001b[0m\u001b[0;34m\u001b[0m\u001b[0;34m\u001b[0m\u001b[0m\n\u001b[0;32m----> 3\u001b[0;31m     \u001b[0mstats\u001b[0m\u001b[0;34m=\u001b[0m\u001b[0mstats\u001b[0m\u001b[0;34m,\u001b[0m \u001b[0mhalloffame\u001b[0m\u001b[0;34m=\u001b[0m\u001b[0mhof\u001b[0m\u001b[0;34m,\u001b[0m \u001b[0mverbose\u001b[0m\u001b[0;34m=\u001b[0m\u001b[0;32mTrue\u001b[0m\u001b[0;34m\u001b[0m\u001b[0;34m\u001b[0m\u001b[0m\n\u001b[0m\u001b[1;32m      4\u001b[0m )\n",
      "\u001b[0;32m~/anaconda3/envs/lapki/lib/python3.7/site-packages/deap/algorithms.py\u001b[0m in \u001b[0;36meaSimple\u001b[0;34m(population, toolbox, cxpb, mutpb, ngen, stats, halloffame, verbose)\u001b[0m\n\u001b[1;32m    149\u001b[0m     \u001b[0minvalid_ind\u001b[0m \u001b[0;34m=\u001b[0m \u001b[0;34m[\u001b[0m\u001b[0mind\u001b[0m \u001b[0;32mfor\u001b[0m \u001b[0mind\u001b[0m \u001b[0;32min\u001b[0m \u001b[0mpopulation\u001b[0m \u001b[0;32mif\u001b[0m \u001b[0;32mnot\u001b[0m \u001b[0mind\u001b[0m\u001b[0;34m.\u001b[0m\u001b[0mfitness\u001b[0m\u001b[0;34m.\u001b[0m\u001b[0mvalid\u001b[0m\u001b[0;34m]\u001b[0m\u001b[0;34m\u001b[0m\u001b[0;34m\u001b[0m\u001b[0m\n\u001b[1;32m    150\u001b[0m     \u001b[0mfitnesses\u001b[0m \u001b[0;34m=\u001b[0m \u001b[0mtoolbox\u001b[0m\u001b[0;34m.\u001b[0m\u001b[0mmap\u001b[0m\u001b[0;34m(\u001b[0m\u001b[0mtoolbox\u001b[0m\u001b[0;34m.\u001b[0m\u001b[0mevaluate\u001b[0m\u001b[0;34m,\u001b[0m \u001b[0minvalid_ind\u001b[0m\u001b[0;34m)\u001b[0m\u001b[0;34m\u001b[0m\u001b[0;34m\u001b[0m\u001b[0m\n\u001b[0;32m--> 151\u001b[0;31m     \u001b[0;32mfor\u001b[0m \u001b[0mind\u001b[0m\u001b[0;34m,\u001b[0m \u001b[0mfit\u001b[0m \u001b[0;32min\u001b[0m \u001b[0mzip\u001b[0m\u001b[0;34m(\u001b[0m\u001b[0minvalid_ind\u001b[0m\u001b[0;34m,\u001b[0m \u001b[0mfitnesses\u001b[0m\u001b[0;34m)\u001b[0m\u001b[0;34m:\u001b[0m\u001b[0;34m\u001b[0m\u001b[0;34m\u001b[0m\u001b[0m\n\u001b[0m\u001b[1;32m    152\u001b[0m         \u001b[0mind\u001b[0m\u001b[0;34m.\u001b[0m\u001b[0mfitness\u001b[0m\u001b[0;34m.\u001b[0m\u001b[0mvalues\u001b[0m \u001b[0;34m=\u001b[0m \u001b[0mfit\u001b[0m\u001b[0;34m\u001b[0m\u001b[0;34m\u001b[0m\u001b[0m\n\u001b[1;32m    153\u001b[0m \u001b[0;34m\u001b[0m\u001b[0m\n",
      "\u001b[0;32m<ipython-input-203-1523a5ac0e7f>\u001b[0m in \u001b[0;36mevaluate\u001b[0;34m(individual)\u001b[0m\n\u001b[1;32m      3\u001b[0m \u001b[0;34m\u001b[0m\u001b[0m\n\u001b[1;32m      4\u001b[0m \u001b[0;32mdef\u001b[0m \u001b[0mevaluate\u001b[0m\u001b[0;34m(\u001b[0m\u001b[0mindividual\u001b[0m\u001b[0;34m)\u001b[0m\u001b[0;34m:\u001b[0m\u001b[0;34m\u001b[0m\u001b[0;34m\u001b[0m\u001b[0m\n\u001b[0;32m----> 5\u001b[0;31m     \u001b[0;32mreturn\u001b[0m\u001b[0;34m(\u001b[0m\u001b[0mactive_and_uncertain\u001b[0m\u001b[0;34m(\u001b[0m\u001b[0mindividual\u001b[0m\u001b[0;34m)\u001b[0m\u001b[0;34m)\u001b[0m\u001b[0;34m\u001b[0m\u001b[0;34m\u001b[0m\u001b[0m\n\u001b[0m\u001b[1;32m      6\u001b[0m \u001b[0;34m\u001b[0m\u001b[0m\n\u001b[1;32m      7\u001b[0m \u001b[0mcreator\u001b[0m\u001b[0;34m.\u001b[0m\u001b[0mcreate\u001b[0m\u001b[0;34m(\u001b[0m\u001b[0;34m\"FitnessMax\"\u001b[0m\u001b[0;34m,\u001b[0m \u001b[0mbase\u001b[0m\u001b[0;34m.\u001b[0m\u001b[0mFitness\u001b[0m\u001b[0;34m,\u001b[0m \u001b[0mweights\u001b[0m\u001b[0;34m=\u001b[0m\u001b[0;34m(\u001b[0m\u001b[0;36m1.0\u001b[0m\u001b[0;34m,\u001b[0m\u001b[0;34m)\u001b[0m\u001b[0;34m)\u001b[0m\u001b[0;34m\u001b[0m\u001b[0;34m\u001b[0m\u001b[0m\n",
      "\u001b[0;32m<ipython-input-201-92c4d210555d>\u001b[0m in \u001b[0;36mactive_and_uncertain\u001b[0;34m(x)\u001b[0m\n\u001b[1;32m      4\u001b[0m     \u001b[0mx\u001b[0m \u001b[0;34m=\u001b[0m \u001b[0mtorch\u001b[0m\u001b[0;34m.\u001b[0m\u001b[0mfrom_numpy\u001b[0m\u001b[0;34m(\u001b[0m\u001b[0mnp\u001b[0m\u001b[0;34m.\u001b[0m\u001b[0mstack\u001b[0m\u001b[0;34m(\u001b[0m\u001b[0;34m[\u001b[0m\u001b[0mfirst\u001b[0m\u001b[0;34m,\u001b[0m\u001b[0msecond\u001b[0m\u001b[0;34m]\u001b[0m\u001b[0;34m)\u001b[0m\u001b[0;34m)\u001b[0m\u001b[0;34m.\u001b[0m\u001b[0mtype\u001b[0m\u001b[0;34m(\u001b[0m\u001b[0mtorch\u001b[0m\u001b[0;34m.\u001b[0m\u001b[0mFloatTensor\u001b[0m\u001b[0;34m)\u001b[0m\u001b[0;34m\u001b[0m\u001b[0;34m\u001b[0m\u001b[0m\n\u001b[1;32m      5\u001b[0m     \u001b[0mI\u001b[0m \u001b[0;34m=\u001b[0m \u001b[0mx\u001b[0m\u001b[0;34m.\u001b[0m\u001b[0mreshape\u001b[0m\u001b[0;34m(\u001b[0m\u001b[0;36m1\u001b[0m\u001b[0;34m,\u001b[0m \u001b[0;36m2\u001b[0m\u001b[0;34m,\u001b[0m \u001b[0;36m4\u001b[0m\u001b[0;34m,\u001b[0m \u001b[0;36m23\u001b[0m\u001b[0;34m)\u001b[0m\u001b[0;34m.\u001b[0m\u001b[0mcuda\u001b[0m\u001b[0;34m(\u001b[0m\u001b[0;34m)\u001b[0m\u001b[0;34m\u001b[0m\u001b[0;34m\u001b[0m\u001b[0m\n\u001b[0;32m----> 6\u001b[0;31m     \u001b[0mtb_w\u001b[0m \u001b[0;34m=\u001b[0m \u001b[0mw_model\u001b[0m\u001b[0;34m(\u001b[0m\u001b[0mI\u001b[0m\u001b[0;34m)\u001b[0m\u001b[0;34m\u001b[0m\u001b[0;34m\u001b[0m\u001b[0m\n\u001b[0m\u001b[1;32m      7\u001b[0m     mlik = w_model.likelihood(\n\u001b[1;32m      8\u001b[0m         \u001b[0mtb_w\u001b[0m\u001b[0;34m[\u001b[0m\u001b[0;36m0\u001b[0m\u001b[0;34m]\u001b[0m\u001b[0;34m\u001b[0m\u001b[0;34m\u001b[0m\u001b[0m\n",
      "\u001b[0;32m~/anaconda3/envs/lapki/lib/python3.7/site-packages/gpytorch/module.py\u001b[0m in \u001b[0;36m__call__\u001b[0;34m(self, *inputs, **kwargs)\u001b[0m\n\u001b[1;32m     22\u001b[0m \u001b[0;34m\u001b[0m\u001b[0m\n\u001b[1;32m     23\u001b[0m     \u001b[0;32mdef\u001b[0m \u001b[0m__call__\u001b[0m\u001b[0;34m(\u001b[0m\u001b[0mself\u001b[0m\u001b[0;34m,\u001b[0m \u001b[0;34m*\u001b[0m\u001b[0minputs\u001b[0m\u001b[0;34m,\u001b[0m \u001b[0;34m**\u001b[0m\u001b[0mkwargs\u001b[0m\u001b[0;34m)\u001b[0m\u001b[0;34m:\u001b[0m\u001b[0;34m\u001b[0m\u001b[0;34m\u001b[0m\u001b[0m\n\u001b[0;32m---> 24\u001b[0;31m         \u001b[0moutputs\u001b[0m \u001b[0;34m=\u001b[0m \u001b[0mself\u001b[0m\u001b[0;34m.\u001b[0m\u001b[0mforward\u001b[0m\u001b[0;34m(\u001b[0m\u001b[0;34m*\u001b[0m\u001b[0minputs\u001b[0m\u001b[0;34m,\u001b[0m \u001b[0;34m**\u001b[0m\u001b[0mkwargs\u001b[0m\u001b[0;34m)\u001b[0m\u001b[0;34m\u001b[0m\u001b[0;34m\u001b[0m\u001b[0m\n\u001b[0m\u001b[1;32m     25\u001b[0m         \u001b[0;32mif\u001b[0m \u001b[0misinstance\u001b[0m\u001b[0;34m(\u001b[0m\u001b[0moutputs\u001b[0m\u001b[0;34m,\u001b[0m \u001b[0mlist\u001b[0m\u001b[0;34m)\u001b[0m\u001b[0;34m:\u001b[0m\u001b[0;34m\u001b[0m\u001b[0;34m\u001b[0m\u001b[0m\n\u001b[1;32m     26\u001b[0m             \u001b[0;32mreturn\u001b[0m \u001b[0;34m[\u001b[0m\u001b[0m_validate_module_outputs\u001b[0m\u001b[0;34m(\u001b[0m\u001b[0moutput\u001b[0m\u001b[0;34m)\u001b[0m \u001b[0;32mfor\u001b[0m \u001b[0moutput\u001b[0m \u001b[0;32min\u001b[0m \u001b[0moutputs\u001b[0m\u001b[0;34m]\u001b[0m\u001b[0;34m\u001b[0m\u001b[0;34m\u001b[0m\u001b[0m\n",
      "\u001b[0;32m~/HDD/works/Skoltech/CRISPR_CAD/uace/src/core.py\u001b[0m in \u001b[0;36mforward\u001b[0;34m(self, x)\u001b[0m\n\u001b[1;32m    844\u001b[0m             \u001b[0minternal\u001b[0m\u001b[0;34m.\u001b[0m\u001b[0mreshape\u001b[0m\u001b[0;34m(\u001b[0m\u001b[0mx\u001b[0m\u001b[0;34m.\u001b[0m\u001b[0mshape\u001b[0m\u001b[0;34m[\u001b[0m\u001b[0;36m0\u001b[0m\u001b[0;34m]\u001b[0m\u001b[0;34m,\u001b[0m \u001b[0;34m-\u001b[0m\u001b[0;36m1\u001b[0m\u001b[0;34m)\u001b[0m\u001b[0;34m\u001b[0m\u001b[0;34m\u001b[0m\u001b[0m\n\u001b[1;32m    845\u001b[0m         )  # x.reshape(x.shape[0], -1))\n\u001b[0;32m--> 846\u001b[0;31m         \u001b[0moutput\u001b[0m \u001b[0;34m=\u001b[0m \u001b[0mself\u001b[0m\u001b[0;34m.\u001b[0m\u001b[0mlast_layer\u001b[0m\u001b[0;34m(\u001b[0m\u001b[0mhidden_rep1\u001b[0m\u001b[0;34m)\u001b[0m\u001b[0;34m\u001b[0m\u001b[0;34m\u001b[0m\u001b[0m\n\u001b[0m\u001b[1;32m    847\u001b[0m         \u001b[0;32mif\u001b[0m \u001b[0mself\u001b[0m\u001b[0;34m.\u001b[0m\u001b[0mreturn_encoded\u001b[0m\u001b[0;34m:\u001b[0m\u001b[0;34m\u001b[0m\u001b[0;34m\u001b[0m\u001b[0m\n\u001b[1;32m    848\u001b[0m             \u001b[0;32mreturn\u001b[0m\u001b[0;34m(\u001b[0m\u001b[0moutput\u001b[0m\u001b[0;34m,\u001b[0m \u001b[0mrec\u001b[0m\u001b[0;34m,\u001b[0m \u001b[0minternal\u001b[0m\u001b[0;34m)\u001b[0m\u001b[0;34m\u001b[0m\u001b[0;34m\u001b[0m\u001b[0m\n",
      "\u001b[0;32m~/anaconda3/envs/lapki/lib/python3.7/site-packages/gpytorch/models/deep_gps/deep_gp.py\u001b[0m in \u001b[0;36m__call__\u001b[0;34m(self, inputs, are_samples, **kwargs)\u001b[0m\n\u001b[1;32m     75\u001b[0m         \u001b[0mdeterministic_inputs\u001b[0m \u001b[0;34m=\u001b[0m \u001b[0;32mnot\u001b[0m \u001b[0mare_samples\u001b[0m\u001b[0;34m\u001b[0m\u001b[0;34m\u001b[0m\u001b[0m\n\u001b[1;32m     76\u001b[0m         \u001b[0;32mif\u001b[0m \u001b[0misinstance\u001b[0m\u001b[0;34m(\u001b[0m\u001b[0minputs\u001b[0m\u001b[0;34m,\u001b[0m \u001b[0mMultitaskMultivariateNormal\u001b[0m\u001b[0;34m)\u001b[0m\u001b[0;34m:\u001b[0m\u001b[0;34m\u001b[0m\u001b[0;34m\u001b[0m\u001b[0m\n\u001b[0;32m---> 77\u001b[0;31m             \u001b[0minputs\u001b[0m \u001b[0;34m=\u001b[0m \u001b[0mtorch\u001b[0m\u001b[0;34m.\u001b[0m\u001b[0mdistributions\u001b[0m\u001b[0;34m.\u001b[0m\u001b[0mNormal\u001b[0m\u001b[0;34m(\u001b[0m\u001b[0mloc\u001b[0m\u001b[0;34m=\u001b[0m\u001b[0minputs\u001b[0m\u001b[0;34m.\u001b[0m\u001b[0mmean\u001b[0m\u001b[0;34m,\u001b[0m \u001b[0mscale\u001b[0m\u001b[0;34m=\u001b[0m\u001b[0minputs\u001b[0m\u001b[0;34m.\u001b[0m\u001b[0mvariance\u001b[0m\u001b[0;34m.\u001b[0m\u001b[0msqrt\u001b[0m\u001b[0;34m(\u001b[0m\u001b[0;34m)\u001b[0m\u001b[0;34m)\u001b[0m\u001b[0;34m.\u001b[0m\u001b[0mrsample\u001b[0m\u001b[0;34m(\u001b[0m\u001b[0;34m)\u001b[0m\u001b[0;34m\u001b[0m\u001b[0;34m\u001b[0m\u001b[0m\n\u001b[0m\u001b[1;32m     78\u001b[0m             \u001b[0mdeterministic_inputs\u001b[0m \u001b[0;34m=\u001b[0m \u001b[0;32mFalse\u001b[0m\u001b[0;34m\u001b[0m\u001b[0;34m\u001b[0m\u001b[0m\n\u001b[1;32m     79\u001b[0m \u001b[0;34m\u001b[0m\u001b[0m\n",
      "\u001b[0;32m~/anaconda3/envs/lapki/lib/python3.7/site-packages/gpytorch/distributions/multitask_multivariate_normal.py\u001b[0m in \u001b[0;36mvariance\u001b[0;34m(self)\u001b[0m\n\u001b[1;32m    217\u001b[0m     \u001b[0;34m@\u001b[0m\u001b[0mproperty\u001b[0m\u001b[0;34m\u001b[0m\u001b[0;34m\u001b[0m\u001b[0m\n\u001b[1;32m    218\u001b[0m     \u001b[0;32mdef\u001b[0m \u001b[0mvariance\u001b[0m\u001b[0;34m(\u001b[0m\u001b[0mself\u001b[0m\u001b[0;34m)\u001b[0m\u001b[0;34m:\u001b[0m\u001b[0;34m\u001b[0m\u001b[0;34m\u001b[0m\u001b[0m\n\u001b[0;32m--> 219\u001b[0;31m         \u001b[0mvar\u001b[0m \u001b[0;34m=\u001b[0m \u001b[0msuper\u001b[0m\u001b[0;34m(\u001b[0m\u001b[0;34m)\u001b[0m\u001b[0;34m.\u001b[0m\u001b[0mvariance\u001b[0m\u001b[0;34m\u001b[0m\u001b[0;34m\u001b[0m\u001b[0m\n\u001b[0m\u001b[1;32m    220\u001b[0m         \u001b[0;32mif\u001b[0m \u001b[0;32mnot\u001b[0m \u001b[0mself\u001b[0m\u001b[0;34m.\u001b[0m\u001b[0m_interleaved\u001b[0m\u001b[0;34m:\u001b[0m\u001b[0;34m\u001b[0m\u001b[0;34m\u001b[0m\u001b[0m\n\u001b[1;32m    221\u001b[0m             \u001b[0;31m# flip shape of last two dimensions\u001b[0m\u001b[0;34m\u001b[0m\u001b[0;34m\u001b[0m\u001b[0;34m\u001b[0m\u001b[0m\n",
      "\u001b[0;32m~/anaconda3/envs/lapki/lib/python3.7/site-packages/gpytorch/distributions/multivariate_normal.py\u001b[0m in \u001b[0;36mvariance\u001b[0;34m(self)\u001b[0m\n\u001b[1;32m    187\u001b[0m         \u001b[0;32mif\u001b[0m \u001b[0mself\u001b[0m\u001b[0;34m.\u001b[0m\u001b[0mislazy\u001b[0m\u001b[0;34m:\u001b[0m\u001b[0;34m\u001b[0m\u001b[0;34m\u001b[0m\u001b[0m\n\u001b[1;32m    188\u001b[0m             \u001b[0;31m# overwrite this since torch MVN uses unbroadcasted_scale_tril for this\u001b[0m\u001b[0;34m\u001b[0m\u001b[0;34m\u001b[0m\u001b[0;34m\u001b[0m\u001b[0m\n\u001b[0;32m--> 189\u001b[0;31m             \u001b[0mdiag\u001b[0m \u001b[0;34m=\u001b[0m \u001b[0mself\u001b[0m\u001b[0;34m.\u001b[0m\u001b[0mlazy_covariance_matrix\u001b[0m\u001b[0;34m.\u001b[0m\u001b[0mdiag\u001b[0m\u001b[0;34m(\u001b[0m\u001b[0;34m)\u001b[0m\u001b[0;34m\u001b[0m\u001b[0;34m\u001b[0m\u001b[0m\n\u001b[0m\u001b[1;32m    190\u001b[0m             \u001b[0mdiag\u001b[0m \u001b[0;34m=\u001b[0m \u001b[0mdiag\u001b[0m\u001b[0;34m.\u001b[0m\u001b[0mview\u001b[0m\u001b[0;34m(\u001b[0m\u001b[0mdiag\u001b[0m\u001b[0;34m.\u001b[0m\u001b[0mshape\u001b[0m\u001b[0;34m[\u001b[0m\u001b[0;34m:\u001b[0m\u001b[0;34m-\u001b[0m\u001b[0;36m1\u001b[0m\u001b[0;34m]\u001b[0m \u001b[0;34m+\u001b[0m \u001b[0mself\u001b[0m\u001b[0;34m.\u001b[0m\u001b[0m_event_shape\u001b[0m\u001b[0;34m)\u001b[0m\u001b[0;34m\u001b[0m\u001b[0;34m\u001b[0m\u001b[0m\n\u001b[1;32m    191\u001b[0m             \u001b[0;32mreturn\u001b[0m \u001b[0mdiag\u001b[0m\u001b[0;34m.\u001b[0m\u001b[0mexpand\u001b[0m\u001b[0;34m(\u001b[0m\u001b[0mself\u001b[0m\u001b[0;34m.\u001b[0m\u001b[0m_batch_shape\u001b[0m \u001b[0;34m+\u001b[0m \u001b[0mself\u001b[0m\u001b[0;34m.\u001b[0m\u001b[0m_event_shape\u001b[0m\u001b[0;34m)\u001b[0m\u001b[0;34m\u001b[0m\u001b[0;34m\u001b[0m\u001b[0m\n",
      "\u001b[0;32m~/anaconda3/envs/lapki/lib/python3.7/site-packages/gpytorch/lazy/block_diag_lazy_tensor.py\u001b[0m in \u001b[0;36mdiag\u001b[0;34m(self)\u001b[0m\n\u001b[1;32m     89\u001b[0m \u001b[0;34m\u001b[0m\u001b[0m\n\u001b[1;32m     90\u001b[0m     \u001b[0;32mdef\u001b[0m \u001b[0mdiag\u001b[0m\u001b[0;34m(\u001b[0m\u001b[0mself\u001b[0m\u001b[0;34m)\u001b[0m\u001b[0;34m:\u001b[0m\u001b[0;34m\u001b[0m\u001b[0;34m\u001b[0m\u001b[0m\n\u001b[0;32m---> 91\u001b[0;31m         \u001b[0mres\u001b[0m \u001b[0;34m=\u001b[0m \u001b[0mself\u001b[0m\u001b[0;34m.\u001b[0m\u001b[0mbase_lazy_tensor\u001b[0m\u001b[0;34m.\u001b[0m\u001b[0mdiag\u001b[0m\u001b[0;34m(\u001b[0m\u001b[0;34m)\u001b[0m\u001b[0;34m.\u001b[0m\u001b[0mcontiguous\u001b[0m\u001b[0;34m(\u001b[0m\u001b[0;34m)\u001b[0m\u001b[0;34m\u001b[0m\u001b[0;34m\u001b[0m\u001b[0m\n\u001b[0m\u001b[1;32m     92\u001b[0m         \u001b[0;32mreturn\u001b[0m \u001b[0mres\u001b[0m\u001b[0;34m.\u001b[0m\u001b[0mview\u001b[0m\u001b[0;34m(\u001b[0m\u001b[0;34m*\u001b[0m\u001b[0mself\u001b[0m\u001b[0;34m.\u001b[0m\u001b[0mbatch_shape\u001b[0m\u001b[0;34m,\u001b[0m \u001b[0mself\u001b[0m\u001b[0;34m.\u001b[0m\u001b[0msize\u001b[0m\u001b[0;34m(\u001b[0m\u001b[0;34m-\u001b[0m\u001b[0;36m1\u001b[0m\u001b[0;34m)\u001b[0m\u001b[0;34m)\u001b[0m\u001b[0;34m\u001b[0m\u001b[0;34m\u001b[0m\u001b[0m\n\u001b[1;32m     93\u001b[0m \u001b[0;34m\u001b[0m\u001b[0m\n",
      "\u001b[0;32m~/anaconda3/envs/lapki/lib/python3.7/site-packages/gpytorch/lazy/sum_lazy_tensor.py\u001b[0m in \u001b[0;36mdiag\u001b[0;34m(self)\u001b[0m\n\u001b[1;32m     94\u001b[0m \u001b[0;34m\u001b[0m\u001b[0m\n\u001b[1;32m     95\u001b[0m     \u001b[0;32mdef\u001b[0m \u001b[0mdiag\u001b[0m\u001b[0;34m(\u001b[0m\u001b[0mself\u001b[0m\u001b[0;34m)\u001b[0m\u001b[0;34m:\u001b[0m\u001b[0;34m\u001b[0m\u001b[0;34m\u001b[0m\u001b[0m\n\u001b[0;32m---> 96\u001b[0;31m         \u001b[0;32mreturn\u001b[0m \u001b[0msum\u001b[0m\u001b[0;34m(\u001b[0m\u001b[0mlazy_tensor\u001b[0m\u001b[0;34m.\u001b[0m\u001b[0mdiag\u001b[0m\u001b[0;34m(\u001b[0m\u001b[0;34m)\u001b[0m\u001b[0;34m.\u001b[0m\u001b[0mcontiguous\u001b[0m\u001b[0;34m(\u001b[0m\u001b[0;34m)\u001b[0m \u001b[0;32mfor\u001b[0m \u001b[0mlazy_tensor\u001b[0m \u001b[0;32min\u001b[0m \u001b[0mself\u001b[0m\u001b[0;34m.\u001b[0m\u001b[0mlazy_tensors\u001b[0m\u001b[0;34m)\u001b[0m\u001b[0;34m\u001b[0m\u001b[0;34m\u001b[0m\u001b[0m\n\u001b[0m",
      "\u001b[0;32m~/anaconda3/envs/lapki/lib/python3.7/site-packages/gpytorch/lazy/sum_lazy_tensor.py\u001b[0m in \u001b[0;36m<genexpr>\u001b[0;34m(.0)\u001b[0m\n\u001b[1;32m     94\u001b[0m \u001b[0;34m\u001b[0m\u001b[0m\n\u001b[1;32m     95\u001b[0m     \u001b[0;32mdef\u001b[0m \u001b[0mdiag\u001b[0m\u001b[0;34m(\u001b[0m\u001b[0mself\u001b[0m\u001b[0;34m)\u001b[0m\u001b[0;34m:\u001b[0m\u001b[0;34m\u001b[0m\u001b[0;34m\u001b[0m\u001b[0m\n\u001b[0;32m---> 96\u001b[0;31m         \u001b[0;32mreturn\u001b[0m \u001b[0msum\u001b[0m\u001b[0;34m(\u001b[0m\u001b[0mlazy_tensor\u001b[0m\u001b[0;34m.\u001b[0m\u001b[0mdiag\u001b[0m\u001b[0;34m(\u001b[0m\u001b[0;34m)\u001b[0m\u001b[0;34m.\u001b[0m\u001b[0mcontiguous\u001b[0m\u001b[0;34m(\u001b[0m\u001b[0;34m)\u001b[0m \u001b[0;32mfor\u001b[0m \u001b[0mlazy_tensor\u001b[0m \u001b[0;32min\u001b[0m \u001b[0mself\u001b[0m\u001b[0;34m.\u001b[0m\u001b[0mlazy_tensors\u001b[0m\u001b[0;34m)\u001b[0m\u001b[0;34m\u001b[0m\u001b[0;34m\u001b[0m\u001b[0m\n\u001b[0m",
      "\u001b[0;32m~/anaconda3/envs/lapki/lib/python3.7/site-packages/gpytorch/lazy/sum_lazy_tensor.py\u001b[0m in \u001b[0;36mdiag\u001b[0;34m(self)\u001b[0m\n\u001b[1;32m     94\u001b[0m \u001b[0;34m\u001b[0m\u001b[0m\n\u001b[1;32m     95\u001b[0m     \u001b[0;32mdef\u001b[0m \u001b[0mdiag\u001b[0m\u001b[0;34m(\u001b[0m\u001b[0mself\u001b[0m\u001b[0;34m)\u001b[0m\u001b[0;34m:\u001b[0m\u001b[0;34m\u001b[0m\u001b[0;34m\u001b[0m\u001b[0m\n\u001b[0;32m---> 96\u001b[0;31m         \u001b[0;32mreturn\u001b[0m \u001b[0msum\u001b[0m\u001b[0;34m(\u001b[0m\u001b[0mlazy_tensor\u001b[0m\u001b[0;34m.\u001b[0m\u001b[0mdiag\u001b[0m\u001b[0;34m(\u001b[0m\u001b[0;34m)\u001b[0m\u001b[0;34m.\u001b[0m\u001b[0mcontiguous\u001b[0m\u001b[0;34m(\u001b[0m\u001b[0;34m)\u001b[0m \u001b[0;32mfor\u001b[0m \u001b[0mlazy_tensor\u001b[0m \u001b[0;32min\u001b[0m \u001b[0mself\u001b[0m\u001b[0;34m.\u001b[0m\u001b[0mlazy_tensors\u001b[0m\u001b[0;34m)\u001b[0m\u001b[0;34m\u001b[0m\u001b[0;34m\u001b[0m\u001b[0m\n\u001b[0m",
      "\u001b[0;32m~/anaconda3/envs/lapki/lib/python3.7/site-packages/gpytorch/lazy/sum_lazy_tensor.py\u001b[0m in \u001b[0;36m<genexpr>\u001b[0;34m(.0)\u001b[0m\n\u001b[1;32m     94\u001b[0m \u001b[0;34m\u001b[0m\u001b[0m\n\u001b[1;32m     95\u001b[0m     \u001b[0;32mdef\u001b[0m \u001b[0mdiag\u001b[0m\u001b[0;34m(\u001b[0m\u001b[0mself\u001b[0m\u001b[0;34m)\u001b[0m\u001b[0;34m:\u001b[0m\u001b[0;34m\u001b[0m\u001b[0;34m\u001b[0m\u001b[0m\n\u001b[0;32m---> 96\u001b[0;31m         \u001b[0;32mreturn\u001b[0m \u001b[0msum\u001b[0m\u001b[0;34m(\u001b[0m\u001b[0mlazy_tensor\u001b[0m\u001b[0;34m.\u001b[0m\u001b[0mdiag\u001b[0m\u001b[0;34m(\u001b[0m\u001b[0;34m)\u001b[0m\u001b[0;34m.\u001b[0m\u001b[0mcontiguous\u001b[0m\u001b[0;34m(\u001b[0m\u001b[0;34m)\u001b[0m \u001b[0;32mfor\u001b[0m \u001b[0mlazy_tensor\u001b[0m \u001b[0;32min\u001b[0m \u001b[0mself\u001b[0m\u001b[0;34m.\u001b[0m\u001b[0mlazy_tensors\u001b[0m\u001b[0;34m)\u001b[0m\u001b[0;34m\u001b[0m\u001b[0;34m\u001b[0m\u001b[0m\n\u001b[0m",
      "\u001b[0;32m~/anaconda3/envs/lapki/lib/python3.7/site-packages/gpytorch/lazy/non_lazy_tensor.py\u001b[0m in \u001b[0;36mdiag\u001b[0;34m(self)\u001b[0m\n\u001b[1;32m     64\u001b[0m             \u001b[0;32mreturn\u001b[0m \u001b[0mself\u001b[0m\u001b[0;34m.\u001b[0m\u001b[0mtensor\u001b[0m\u001b[0;34m.\u001b[0m\u001b[0mdiag\u001b[0m\u001b[0;34m(\u001b[0m\u001b[0;34m)\u001b[0m\u001b[0;34m\u001b[0m\u001b[0;34m\u001b[0m\u001b[0m\n\u001b[1;32m     65\u001b[0m         \u001b[0;32melse\u001b[0m\u001b[0;34m:\u001b[0m\u001b[0;34m\u001b[0m\u001b[0;34m\u001b[0m\u001b[0m\n\u001b[0;32m---> 66\u001b[0;31m             \u001b[0mrow_col_iter\u001b[0m \u001b[0;34m=\u001b[0m \u001b[0mtorch\u001b[0m\u001b[0;34m.\u001b[0m\u001b[0marange\u001b[0m\u001b[0;34m(\u001b[0m\u001b[0;36m0\u001b[0m\u001b[0;34m,\u001b[0m \u001b[0mself\u001b[0m\u001b[0;34m.\u001b[0m\u001b[0mmatrix_shape\u001b[0m\u001b[0;34m[\u001b[0m\u001b[0;34m-\u001b[0m\u001b[0;36m1\u001b[0m\u001b[0;34m]\u001b[0m\u001b[0;34m,\u001b[0m \u001b[0mdtype\u001b[0m\u001b[0;34m=\u001b[0m\u001b[0mtorch\u001b[0m\u001b[0;34m.\u001b[0m\u001b[0mlong\u001b[0m\u001b[0;34m,\u001b[0m \u001b[0mdevice\u001b[0m\u001b[0;34m=\u001b[0m\u001b[0mself\u001b[0m\u001b[0;34m.\u001b[0m\u001b[0mdevice\u001b[0m\u001b[0;34m)\u001b[0m\u001b[0;34m\u001b[0m\u001b[0;34m\u001b[0m\u001b[0m\n\u001b[0m\u001b[1;32m     67\u001b[0m             \u001b[0;32mreturn\u001b[0m \u001b[0mself\u001b[0m\u001b[0;34m.\u001b[0m\u001b[0mtensor\u001b[0m\u001b[0;34m[\u001b[0m\u001b[0;34m...\u001b[0m\u001b[0;34m,\u001b[0m \u001b[0mrow_col_iter\u001b[0m\u001b[0;34m,\u001b[0m \u001b[0mrow_col_iter\u001b[0m\u001b[0;34m]\u001b[0m\u001b[0;34m.\u001b[0m\u001b[0mview\u001b[0m\u001b[0;34m(\u001b[0m\u001b[0;34m*\u001b[0m\u001b[0mself\u001b[0m\u001b[0;34m.\u001b[0m\u001b[0mbatch_shape\u001b[0m\u001b[0;34m,\u001b[0m \u001b[0;34m-\u001b[0m\u001b[0;36m1\u001b[0m\u001b[0;34m)\u001b[0m\u001b[0;34m\u001b[0m\u001b[0;34m\u001b[0m\u001b[0m\n\u001b[1;32m     68\u001b[0m \u001b[0;34m\u001b[0m\u001b[0m\n",
      "\u001b[0;31mKeyboardInterrupt\u001b[0m: "
     ]
    }
   ],
   "source": [
    "pop, log = algorithms.eaSimple(\n",
    "    pop, toolbox, cxpb=0.5, mutpb=0.2, ngen=40, \n",
    "    stats=stats, halloffame=hof, verbose=True\n",
    ")"
   ]
  },
  {
   "cell_type": "code",
   "execution_count": 169,
   "metadata": {},
   "outputs": [
    {
     "data": {
      "text/plain": [
       "array([4, 2, 2, 1, 2, 4, 4, 4, 4, 4, 4, 1, 1, 2, 2, 3, 4, 4, 4, 1, 2, 2,\n",
       "       2, 1, 1, 3, 3, 2, 3, 3, 1, 3, 3, 3, 3, 3, 3, 1, 4, 1, 2, 3, 3, 3,\n",
       "       4, 4])"
      ]
     },
     "execution_count": 169,
     "metadata": {},
     "output_type": "execute_result"
    }
   ],
   "source": [
    "np.array(pop)[0]"
   ]
  },
  {
   "cell_type": "code",
   "execution_count": 170,
   "metadata": {},
   "outputs": [],
   "source": [
    "first_t = correct_order(onehot(hof[0][0:23])).reshape(4,23)\n",
    "second_t = correct_order(onehot(hof[0][23:])).reshape(4,23)"
   ]
  },
  {
   "cell_type": "code",
   "execution_count": 148,
   "metadata": {},
   "outputs": [],
   "source": [
    "def from_oh(x):\n",
    "    onehot2nucleotide = {\n",
    "        1: \"A\", 2: \"T\", 3: \"G\", 4: \"C\"\n",
    "    }\n",
    "    return(\"\".join([onehot2nucleotide[a] for a in x]))"
   ]
  },
  {
   "cell_type": "code",
   "execution_count": 149,
   "metadata": {},
   "outputs": [
    {
     "data": {
      "text/plain": [
       "100"
      ]
     },
     "execution_count": 149,
     "metadata": {},
     "output_type": "execute_result"
    }
   ],
   "source": [
    "len(hof)"
   ]
  },
  {
   "cell_type": "code",
   "execution_count": 191,
   "metadata": {},
   "outputs": [],
   "source": [
    "def n_mms(a):\n",
    "    b = a[0:23]\n",
    "    c = a[23:]\n",
    "    return(sum([int(d==e) for d,e in zip(b,c)]))"
   ]
  },
  {
   "cell_type": "code",
   "execution_count": 174,
   "metadata": {},
   "outputs": [
    {
     "data": {
      "text/plain": [
       "(array([18, 19, 20, 21, 22, 23]), array([   1,    7,   35,  187, 2732,   38]))"
      ]
     },
     "execution_count": 174,
     "metadata": {},
     "output_type": "execute_result"
    }
   ],
   "source": [
    "np.unique([n_mms(a) for a in pop], return_counts=True)"
   ]
  },
  {
   "cell_type": "code",
   "execution_count": 175,
   "metadata": {},
   "outputs": [
    {
     "data": {
      "text/plain": [
       "<matplotlib.image.AxesImage at 0x7f608ead18d0>"
      ]
     },
     "execution_count": 175,
     "metadata": {},
     "output_type": "execute_result"
    },
    {
     "data": {
      "image/png": "[encoded data removed]",
      "text/plain": [
       "<Figure size 432x288 with 1 Axes>"
      ]
     },
     "metadata": {
      "needs_background": "light"
     },
     "output_type": "display_data"
    }
   ],
   "source": [
    "plt.imshow(first_t)"
   ]
  },
  {
   "cell_type": "code",
   "execution_count": 177,
   "metadata": {},
   "outputs": [
    {
     "data": {
      "text/plain": [
       "(2, 4, 23)"
      ]
     },
     "execution_count": 177,
     "metadata": {},
     "output_type": "execute_result"
    }
   ],
   "source": [
    "np.stack([first_t, second_t])"
   ]
  },
  {
   "cell_type": "code",
   "execution_count": 180,
   "metadata": {},
   "outputs": [],
   "source": [
    "w_f = w_model(\n",
    "    torch.from_numpy(np.stack([first_t, second_t]).reshape(1, 2, 4, 23)).cuda()\n",
    ")"
   ]
  },
  {
   "cell_type": "code",
   "execution_count": 193,
   "metadata": {},
   "outputs": [
    {
     "data": {
      "text/plain": [
       "0.043478260869565216"
      ]
     },
     "execution_count": 193,
     "metadata": {},
     "output_type": "execute_result"
    }
   ],
   "source": [
    "n_mms(hof[0])/23"
   ]
  },
  {
   "cell_type": "code",
   "execution_count": 197,
   "metadata": {},
   "outputs": [],
   "source": [
    "w_o = w_model.likelihood(w_f[0]).mean.mean(0).cpu().data.numpy()\n",
    "w_v = w_model.likelihood(w_f[0]).variance.mean(0).cpu().data.numpy()**0.5"
   ]
  },
  {
   "cell_type": "code",
   "execution_count": 198,
   "metadata": {},
   "outputs": [
    {
     "data": {
      "text/plain": [
       "array([0.47571176], dtype=float32)"
      ]
     },
     "execution_count": 198,
     "metadata": {},
     "output_type": "execute_result"
    }
   ],
   "source": [
    "w_v"
   ]
  },
  {
   "cell_type": "code",
   "execution_count": 199,
   "metadata": {},
   "outputs": [
    {
     "data": {
      "text/plain": [
       "array([0.7504903], dtype=float32)"
      ]
     },
     "execution_count": 199,
     "metadata": {},
     "output_type": "execute_result"
    }
   ],
   "source": [
    "w_v+w_o+n_mms(hof[0])/23"
   ]
  },
  {
   "cell_type": "code",
   "execution_count": 200,
   "metadata": {},
   "outputs": [
    {
     "data": {
      "text/plain": [
       "array([0.23130026], dtype=float32)"
      ]
     },
     "execution_count": 200,
     "metadata": {},
     "output_type": "execute_result"
    }
   ],
   "source": [
    "w_o"
   ]
  },
  {
   "cell_type": "code",
   "execution_count": null,
   "metadata": {},
   "outputs": [],
   "source": []
  },
  {
   "cell_type": "code",
   "execution_count": 171,
   "metadata": {},
   "outputs": [
    {
     "data": {
      "text/plain": [
       "('GTTATCCCCCCAATGGCCCATTT', 'AAGGTGGAGGGGCGCAATGGGCC')"
      ]
     },
     "execution_count": 171,
     "metadata": {},
     "output_type": "execute_result"
    }
   ],
   "source": [
    "from_oh(hof[0][0:23]), from_oh(hof[0][23:])"
   ]
  },
  {
   "cell_type": "code",
   "execution_count": 173,
   "metadata": {},
   "outputs": [
    {
     "data": {
      "text/plain": [
       "<matplotlib.image.AxesImage at 0x7f60b072db50>"
      ]
     },
     "execution_count": 173,
     "metadata": {},
     "output_type": "execute_result"
    },
    {
     "data": {
      "image/png": "[encoded data removed]",
      "text/plain": [
       "<Figure size 432x288 with 1 Axes>"
      ]
     },
     "metadata": {
      "needs_background": "light"
     },
     "output_type": "display_data"
    }
   ],
   "source": [
    "plt.imshow(second_t)"
   ]
  }
 ],
 "metadata": {
  "kernelspec": {
   "display_name": "Python 3",
   "language": "python",
   "name": "python3"
  },
  "language_info": {
   "codemirror_mode": {
    "name": "ipython",
    "version": 3
   },
   "file_extension": ".py",
   "mimetype": "text/x-python",
   "name": "python",
   "nbconvert_exporter": "python",
   "pygments_lexer": "ipython3",
   "version": "3.8.5"
  }
 },
 "nbformat": 4,
 "nbformat_minor": 2
}
