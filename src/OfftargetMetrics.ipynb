{
 "cells": [
  {
   "cell_type": "code",
   "execution_count": 1,
   "metadata": {},
   "outputs": [
    {
     "name": "stderr",
     "output_type": "stream",
     "text": [
      "/home/bakirillov/anaconda3/envs/lapki/lib/python3.7/site-packages/sklearn/externals/joblib/__init__.py:15: FutureWarning: sklearn.externals.joblib is deprecated in 0.21 and will be removed in 0.23. Please import this functionality directly from joblib, which can be installed with: pip install joblib. If this warning is raised when loading pickled models, you may need to re-serialize those models with scikit-learn 0.21+.\n",
      "  warnings.warn(msg, category=FutureWarning)\n"
     ]
    }
   ],
   "source": [
    "import re\n",
    "import os\n",
    "import math\n",
    "import torch\n",
    "import gpytorch\n",
    "import itertools\n",
    "import numpy as np\n",
    "import pandas as pd\n",
    "from torch import nn\n",
    "import os.path as op\n",
    "from tqdm import tqdm\n",
    "from time import time\n",
    "from copy import deepcopy\n",
    "from torch.optim import Adam\n",
    "from collections import Counter\n",
    "import torch.nn.functional as F\n",
    "import matplotlib.pyplot as plt\n",
    "from capsules.capsules import *\n",
    "from CoordConv.coordconv import *\n",
    "from IPython.display import Image\n",
    "from matplotlib.lines import Line2D\n",
    "from matplotlib.patches import Patch\n",
    "from sklearn.externals import joblib\n",
    "from sklearn.metrics import accuracy_score\n",
    "from torchvision import models, transforms\n",
    "from scipy.stats import pearsonr, spearmanr\n",
    "from gpytorch.priors import SmoothedBoxPrior\n",
    "from torch.utils.data import DataLoader, Dataset\n",
    "from gpytorch.models import ApproximateGP, ExactGP\n",
    "from gpytorch.means import ConstantMean, LinearMean\n",
    "from gpytorch.likelihoods import GaussianLikelihood\n",
    "from gpytorch.variational import VariationalStrategy\n",
    "from gpytorch.distributions import MultivariateNormal\n",
    "from Bio.SeqFeature import SeqFeature, FeatureLocation\n",
    "from gpytorch.models.deep_gps import DeepGPLayer, DeepGP\n",
    "from gpytorch.variational import CholeskyVariationalDistribution\n",
    "from sklearn.model_selection import train_test_split, StratifiedKFold\n",
    "from gpytorch.kernels import ScaleKernel, RBFKernel, GridInterpolationKernel\n",
    "from gpytorch.mlls import VariationalELBO, VariationalELBOEmpirical\n",
    "from gpytorch.mlls import DeepApproximateMLL\n",
    "from sklearn.metrics import mean_absolute_error, mean_squared_error\n",
    "from sklearn.metrics import median_absolute_error\n"
   ]
  },
  {
   "cell_type": "code",
   "execution_count": 22,
   "metadata": {},
   "outputs": [],
   "source": [
    "from core import ImperfectMatchTransform"
   ]
  },
  {
   "cell_type": "code",
   "execution_count": 17,
   "metadata": {},
   "outputs": [],
   "source": [
    "class FlashFrySet(Dataset):\n",
    "    \n",
    "    def __init__(self, dataframe, transform=None):\n",
    "        self.S = pd.read_csv(dataframe, sep=\"\\t\")\n",
    "        self.T = transform\n",
    "        if transform:\n",
    "            self.S = FlashFrySet.get_pairs(self.S)\n",
    "        \n",
    "    @staticmethod\n",
    "    def get_pairs(d):\n",
    "        pairs = []\n",
    "        for a in d.index:\n",
    "            target = d.loc[a][\"target\"]\n",
    "            ots = d.loc[a][\"offTargets\"].split(\",\")\n",
    "            for ot in ots:\n",
    "                pairs.append(\n",
    "                    target+\",\"+ot.split(\"_\")[0]\n",
    "                )\n",
    "        return(pairs)\n",
    "        \n",
    "        \n",
    "    def __len__(self):\n",
    "        if self.T:\n",
    "            return(len(S))\n",
    "        else:\n",
    "            return(self.S.shape[0]-1)\n",
    "    \n",
    "    def __getitem__(self, ind):\n",
    "        if not self.T:\n",
    "            guide = self.S[\"target\"].values[ind]\n",
    "            otCount = self.S[\"otCount\"].values[ind]\n",
    "            return(guide, otCount)\n",
    "        else:\n",
    "            pair = self.T(self.S[ind])\n",
    "            return(pair)"
   ]
  },
  {
   "cell_type": "code",
   "execution_count": 23,
   "metadata": {},
   "outputs": [],
   "source": [
    "T = ImperfectMatchTransform(\"NGG\", False, False, cut_at_start=0, cut_at_end=0, fold=False)"
   ]
  },
  {
   "cell_type": "code",
   "execution_count": 24,
   "metadata": {},
   "outputs": [],
   "source": [
    "ff = FlashFrySet(\"../../webapp/crispr_cad/backend/tmp/49345.tsv\", transform=T)"
   ]
  },
  {
   "cell_type": "code",
   "execution_count": 27,
   "metadata": {},
   "outputs": [
    {
     "name": "stdout",
     "output_type": "stream",
     "text": [
      "(2, 4, 23)\n",
      "(2, 4, 23)\n",
      "(2, 4, 23)\n",
      "(2, 4, 23)\n",
      "(2, 4, 23)\n",
      "(2, 4, 23)\n",
      "(2, 4, 23)\n",
      "(2, 4, 23)\n",
      "(2, 4, 23)\n",
      "(2, 4, 23)\n",
      "(2, 4, 23)\n"
     ]
    }
   ],
   "source": [
    "for a in ff:\n",
    "    print(a.shape)"
   ]
  },
  {
   "cell_type": "code",
   "execution_count": 7,
   "metadata": {
    "scrolled": true
   },
   "outputs": [
    {
     "data": {
      "text/html": [
       "<div>\n",
       "<style scoped>\n",
       "    .dataframe tbody tr th:only-of-type {\n",
       "        vertical-align: middle;\n",
       "    }\n",
       "\n",
       "    .dataframe tbody tr th {\n",
       "        vertical-align: top;\n",
       "    }\n",
       "\n",
       "    .dataframe thead th {\n",
       "        text-align: right;\n",
       "    }\n",
       "</style>\n",
       "<table border=\"1\" class=\"dataframe\">\n",
       "  <thead>\n",
       "    <tr style=\"text-align: right;\">\n",
       "      <th></th>\n",
       "      <th>contig</th>\n",
       "      <th>start</th>\n",
       "      <th>stop</th>\n",
       "      <th>target</th>\n",
       "      <th>context</th>\n",
       "      <th>overflow</th>\n",
       "      <th>orientation</th>\n",
       "      <th>otCount</th>\n",
       "      <th>offTargets</th>\n",
       "    </tr>\n",
       "  </thead>\n",
       "  <tbody>\n",
       "    <tr>\n",
       "      <th>0</th>\n",
       "      <td>87</td>\n",
       "      <td>0</td>\n",
       "      <td>23</td>\n",
       "      <td>TTTTCGAGGACTGAGAGGGAGGG</td>\n",
       "      <td>NONE</td>\n",
       "      <td>OK</td>\n",
       "      <td>FWD</td>\n",
       "      <td>1</td>\n",
       "      <td>TTTTCTAGGAATGAAAAGGAAGG_1_4</td>\n",
       "    </tr>\n",
       "    <tr>\n",
       "      <th>1</th>\n",
       "      <td>211</td>\n",
       "      <td>0</td>\n",
       "      <td>23</td>\n",
       "      <td>CTTGTGACACGGACTCAAGTGGG</td>\n",
       "      <td>NONE</td>\n",
       "      <td>OK</td>\n",
       "      <td>FWD</td>\n",
       "      <td>1</td>\n",
       "      <td>TTTGTGACAAGGACTCTCGTGGG_1_4</td>\n",
       "    </tr>\n",
       "    <tr>\n",
       "      <th>2</th>\n",
       "      <td>78</td>\n",
       "      <td>0</td>\n",
       "      <td>23</td>\n",
       "      <td>TGTCATCTATGACCTTCCCTGGG</td>\n",
       "      <td>NONE</td>\n",
       "      <td>OK</td>\n",
       "      <td>FWD</td>\n",
       "      <td>6</td>\n",
       "      <td>AGTCATATATCACCTTCTCTTGG_1_4,AGTCATCCATGTTCTTCC...</td>\n",
       "    </tr>\n",
       "    <tr>\n",
       "      <th>3</th>\n",
       "      <td>186</td>\n",
       "      <td>0</td>\n",
       "      <td>23</td>\n",
       "      <td>GGTGTCGAAATGAGAAGAAGAGG</td>\n",
       "      <td>NONE</td>\n",
       "      <td>OK</td>\n",
       "      <td>FWD</td>\n",
       "      <td>3</td>\n",
       "      <td>CATGTTGAAATGAGAAGAATTGG_1_4,GGTGGCAACATGAGAAGA...</td>\n",
       "    </tr>\n",
       "  </tbody>\n",
       "</table>\n",
       "</div>"
      ],
      "text/plain": [
       "   contig  start  stop                   target context overflow orientation  \\\n",
       "0      87      0    23  TTTTCGAGGACTGAGAGGGAGGG    NONE       OK         FWD   \n",
       "1     211      0    23  CTTGTGACACGGACTCAAGTGGG    NONE       OK         FWD   \n",
       "2      78      0    23  TGTCATCTATGACCTTCCCTGGG    NONE       OK         FWD   \n",
       "3     186      0    23  GGTGTCGAAATGAGAAGAAGAGG    NONE       OK         FWD   \n",
       "\n",
       "   otCount                                         offTargets  \n",
       "0        1                        TTTTCTAGGAATGAAAAGGAAGG_1_4  \n",
       "1        1                        TTTGTGACAAGGACTCTCGTGGG_1_4  \n",
       "2        6  AGTCATATATCACCTTCTCTTGG_1_4,AGTCATCCATGTTCTTCC...  \n",
       "3        3  CATGTTGAAATGAGAAGAATTGG_1_4,GGTGGCAACATGAGAAGA...  "
      ]
     },
     "execution_count": 7,
     "metadata": {},
     "output_type": "execute_result"
    }
   ],
   "source": [
    "test"
   ]
  },
  {
   "cell_type": "code",
   "execution_count": null,
   "metadata": {},
   "outputs": [],
   "source": []
  },
  {
   "cell_type": "code",
   "execution_count": 14,
   "metadata": {},
   "outputs": [
    {
     "data": {
      "text/plain": [
       "['AGTCATATATCACCTTCTCTTGG_1_4',\n",
       " 'AGTCATCCATGTTCTTCCCTAGG_1_4',\n",
       " 'TCTCAGCCATGGCCTTCCCTGGG_1_4',\n",
       " 'TGCCATCTATCGCATTCCCTGGG_1_4',\n",
       " 'TGTCATCTGTGACATTACCCAGG_1_4',\n",
       " 'TGTCTTTTATGACCTTGCCTTGG_1_3']"
      ]
     },
     "execution_count": 14,
     "metadata": {},
     "output_type": "execute_result"
    }
   ],
   "source": [
    "test.loc[2][\"offTargets\"].split(\",\")"
   ]
  },
  {
   "cell_type": "code",
   "execution_count": 15,
   "metadata": {},
   "outputs": [],
   "source": [
    "def get_pairs(d):\n",
    "    pairs = []\n",
    "    for a in d.index:\n",
    "        target = d.loc[a][\"target\"]\n",
    "        ots = d.loc[a][\"offTargets\"].split(\",\")\n",
    "        for ot in ots:\n",
    "            pairs.append(\n",
    "                target+\",\"+ot.split(\"_\")[0]\n",
    "            )\n",
    "    return(pairs)"
   ]
  },
  {
   "cell_type": "code",
   "execution_count": 16,
   "metadata": {},
   "outputs": [
    {
     "data": {
      "text/plain": [
       "['TTTTCGAGGACTGAGAGGGAGGG,TTTTCTAGGAATGAAAAGGAAGG',\n",
       " 'CTTGTGACACGGACTCAAGTGGG,TTTGTGACAAGGACTCTCGTGGG',\n",
       " 'TGTCATCTATGACCTTCCCTGGG,AGTCATATATCACCTTCTCTTGG',\n",
       " 'TGTCATCTATGACCTTCCCTGGG,AGTCATCCATGTTCTTCCCTAGG',\n",
       " 'TGTCATCTATGACCTTCCCTGGG,TCTCAGCCATGGCCTTCCCTGGG',\n",
       " 'TGTCATCTATGACCTTCCCTGGG,TGCCATCTATCGCATTCCCTGGG',\n",
       " 'TGTCATCTATGACCTTCCCTGGG,TGTCATCTGTGACATTACCCAGG',\n",
       " 'TGTCATCTATGACCTTCCCTGGG,TGTCTTTTATGACCTTGCCTTGG',\n",
       " 'GGTGTCGAAATGAGAAGAAGAGG,CATGTTGAAATGAGAAGAATTGG',\n",
       " 'GGTGTCGAAATGAGAAGAAGAGG,GGTGGCAACATGAGAAGAAGTGG',\n",
       " 'GGTGTCGAAATGAGAAGAAGAGG,GGTGTTGCAGTCAGAAGAAGGGG']"
      ]
     },
     "execution_count": 16,
     "metadata": {},
     "output_type": "execute_result"
    }
   ],
   "source": [
    "get_pairs(test)"
   ]
  }
 ],
 "metadata": {
  "kernelspec": {
   "display_name": "Python 3",
   "language": "python",
   "name": "python3"
  },
  "language_info": {
   "codemirror_mode": {
    "name": "ipython",
    "version": 3
   },
   "file_extension": ".py",
   "mimetype": "text/x-python",
   "name": "python",
   "nbconvert_exporter": "python",
   "pygments_lexer": "ipython3",
   "version": "3.8.5"
  }
 },
 "nbformat": 4,
 "nbformat_minor": 2
}
