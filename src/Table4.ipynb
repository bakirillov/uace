{
 "cells": [
  {
   "cell_type": "code",
   "execution_count": 1,
   "id": "interim-heritage",
   "metadata": {},
   "outputs": [],
   "source": [
    "import numpy as np\n",
    "import pandas as pd"
   ]
  },
  {
   "cell_type": "code",
   "execution_count": 2,
   "id": "printable-lincoln",
   "metadata": {},
   "outputs": [],
   "source": [
    "np.random.seed(100)"
   ]
  },
  {
   "cell_type": "code",
   "execution_count": 3,
   "id": "swiss-luxembourg",
   "metadata": {},
   "outputs": [],
   "source": [
    "Table4 = pd.read_csv(\"ST6.tsv\", sep=\"\\t\", index_col=0).sample(5)"
   ]
  },
  {
   "cell_type": "code",
   "execution_count": 4,
   "id": "metropolitan-patient",
   "metadata": {},
   "outputs": [
    {
     "data": {
      "text/html": [
       "<div>\n",
       "<style scoped>\n",
       "    .dataframe tbody tr th:only-of-type {\n",
       "        vertical-align: middle;\n",
       "    }\n",
       "\n",
       "    .dataframe tbody tr th {\n",
       "        vertical-align: top;\n",
       "    }\n",
       "\n",
       "    .dataframe thead th {\n",
       "        text-align: right;\n",
       "    }\n",
       "</style>\n",
       "<table border=\"1\" class=\"dataframe\">\n",
       "  <thead>\n",
       "    <tr style=\"text-align: right;\">\n",
       "      <th></th>\n",
       "      <th>gRNA</th>\n",
       "      <th>strand</th>\n",
       "      <th>mean</th>\n",
       "      <th>std</th>\n",
       "    </tr>\n",
       "  </thead>\n",
       "  <tbody>\n",
       "    <tr>\n",
       "      <th>17</th>\n",
       "      <td>TGGAGGCTCCGTGAGAACTGGGG</td>\n",
       "      <td>-</td>\n",
       "      <td>0.929062</td>\n",
       "      <td>0.011302</td>\n",
       "    </tr>\n",
       "    <tr>\n",
       "      <th>99</th>\n",
       "      <td>CGCAGCATCAAGGTCCAGTGGGG</td>\n",
       "      <td>+</td>\n",
       "      <td>0.909673</td>\n",
       "      <td>0.010975</td>\n",
       "    </tr>\n",
       "    <tr>\n",
       "      <th>18</th>\n",
       "      <td>AGTCAGCACAGGCTGGGAGAGGG</td>\n",
       "      <td>-</td>\n",
       "      <td>0.858767</td>\n",
       "      <td>0.010923</td>\n",
       "    </tr>\n",
       "    <tr>\n",
       "      <th>68</th>\n",
       "      <td>GTTGGCCACTGTCATCCCGCAGG</td>\n",
       "      <td>-</td>\n",
       "      <td>0.710745</td>\n",
       "      <td>0.010936</td>\n",
       "    </tr>\n",
       "    <tr>\n",
       "      <th>92</th>\n",
       "      <td>AGAATGAGGAGAGTAGGGGAGGG</td>\n",
       "      <td>-</td>\n",
       "      <td>0.929316</td>\n",
       "      <td>0.011334</td>\n",
       "    </tr>\n",
       "  </tbody>\n",
       "</table>\n",
       "</div>"
      ],
      "text/plain": [
       "                       gRNA strand      mean       std\n",
       "17  TGGAGGCTCCGTGAGAACTGGGG      -  0.929062  0.011302\n",
       "99  CGCAGCATCAAGGTCCAGTGGGG      +  0.909673  0.010975\n",
       "18  AGTCAGCACAGGCTGGGAGAGGG      -  0.858767  0.010923\n",
       "68  GTTGGCCACTGTCATCCCGCAGG      -  0.710745  0.010936\n",
       "92  AGAATGAGGAGAGTAGGGGAGGG      -  0.929316  0.011334"
      ]
     },
     "execution_count": 4,
     "metadata": {},
     "output_type": "execute_result"
    }
   ],
   "source": [
    "Table4"
   ]
  },
  {
   "cell_type": "code",
   "execution_count": 5,
   "id": "treated-southwest",
   "metadata": {},
   "outputs": [],
   "source": [
    "Table4.to_csv(\"Table4.csv\")"
   ]
  }
 ],
 "metadata": {
  "kernelspec": {
   "display_name": "Python 3",
   "language": "python",
   "name": "python3"
  },
  "language_info": {
   "codemirror_mode": {
    "name": "ipython",
    "version": 3
   },
   "file_extension": ".py",
   "mimetype": "text/x-python",
   "name": "python",
   "nbconvert_exporter": "python",
   "pygments_lexer": "ipython3",
   "version": "3.8.5"
  }
 },
 "nbformat": 4,
 "nbformat_minor": 5
}
