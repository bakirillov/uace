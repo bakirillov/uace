{
 "cells": [
  {
   "cell_type": "code",
   "execution_count": 1,
   "id": "interim-heritage",
   "metadata": {},
   "outputs": [],
   "source": [
    "import numpy as np\n",
    "import pandas as pd"
   ]
  },
  {
   "cell_type": "code",
   "execution_count": 2,
   "id": "printable-lincoln",
   "metadata": {},
   "outputs": [],
   "source": [
    "np.random.seed(100)"
   ]
  },
  {
   "cell_type": "code",
   "execution_count": 6,
   "id": "swiss-luxembourg",
   "metadata": {},
   "outputs": [],
   "source": [
    "Table4 = pd.read_excel(\n",
    "    'gRNAs.xlsx', sheet_name=\"DeepHF WT ELBO\", engine=\"openpyxl\"\n",
    ")#.sample(5)"
   ]
  },
  {
   "cell_type": "code",
   "execution_count": 8,
   "id": "occupied-franchise",
   "metadata": {},
   "outputs": [],
   "source": [
    "Table4 = Table4[Table4[\"gene\"] == \"SERPIND1\"]"
   ]
  },
  {
   "cell_type": "code",
   "execution_count": 10,
   "id": "worth-theory",
   "metadata": {},
   "outputs": [],
   "source": [
    "del Table4[Table4.columns[0]]"
   ]
  },
  {
   "cell_type": "code",
   "execution_count": 12,
   "id": "breeding-corner",
   "metadata": {},
   "outputs": [],
   "source": [
    "del Table4[\"gene\"]"
   ]
  },
  {
   "cell_type": "code",
   "execution_count": 19,
   "id": "blind-distinction",
   "metadata": {},
   "outputs": [
    {
     "name": "stdout",
     "output_type": "stream",
     "text": [
      "\\begin{tabular}{lrllrr}\n",
      "\\toprule\n",
      "{} &  position &                     gRNA & strand &      mean &  variance \\\\\n",
      "\\midrule\n",
      "0 &      5273 &  GGATCAGCTAGAGAAAGGAGGGG &      + &  0.934341 &  0.012153 \\\\\n",
      "1 &     12819 &  CAGCGGCATGAACCCCACCGTGG &      - &  0.931022 &  0.012029 \\\\\n",
      "2 &     10683 &  TCATGGCAGAAAGAATGGAGAGG &      + &  0.927984 &  0.011944 \\\\\n",
      "3 &      7403 &  GTGTGTGGACAGATCAGGAGGGG &      - &  0.926442 &  0.011914 \\\\\n",
      "4 &      4807 &  AGAGACAAAGTTCCCACCAGGGG &      - &  0.925983 &  0.011904 \\\\\n",
      "\\bottomrule\n",
      "\\end{tabular}\n",
      "\n"
     ]
    }
   ],
   "source": [
    "print(Table4[0:5].to_latex())"
   ]
  },
  {
   "cell_type": "code",
   "execution_count": 17,
   "id": "treated-southwest",
   "metadata": {},
   "outputs": [],
   "source": [
    "Table4.to_csv(\"Table4.csv\")"
   ]
  }
 ],
 "metadata": {
  "kernelspec": {
   "display_name": "Python 3",
   "language": "python",
   "name": "python3"
  },
  "language_info": {
   "codemirror_mode": {
    "name": "ipython",
    "version": 3
   },
   "file_extension": ".py",
   "mimetype": "text/x-python",
   "name": "python",
   "nbconvert_exporter": "python",
   "pygments_lexer": "ipython3",
   "version": "3.8.8"
  }
 },
 "nbformat": 4,
 "nbformat_minor": 5
}
